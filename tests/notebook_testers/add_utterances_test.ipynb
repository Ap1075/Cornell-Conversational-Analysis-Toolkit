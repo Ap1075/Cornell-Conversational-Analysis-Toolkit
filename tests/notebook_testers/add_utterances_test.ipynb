{
 "cells": [
  {
   "cell_type": "code",
   "execution_count": 1,
   "metadata": {},
   "outputs": [],
   "source": [
    "import os\n",
    "os.chdir('../..')"
   ]
  },
  {
   "cell_type": "code",
   "execution_count": 2,
   "metadata": {},
   "outputs": [],
   "source": [
    "import convokit"
   ]
  },
  {
   "cell_type": "code",
   "execution_count": 3,
   "metadata": {},
   "outputs": [
    {
     "data": {
      "text/plain": [
       "<module 'convokit' from '/Users/calebchiam/Documents/GitHub/Cornell-Conversational-Analysis-Toolkit/convokit/__init__.py'>"
      ]
     },
     "execution_count": 3,
     "metadata": {},
     "output_type": "execute_result"
    }
   ],
   "source": [
    "convokit"
   ]
  },
  {
   "cell_type": "code",
   "execution_count": 4,
   "metadata": {},
   "outputs": [],
   "source": [
    "from convokit import Corpus, Utterance, User, download"
   ]
  },
  {
   "cell_type": "code",
   "execution_count": 5,
   "metadata": {},
   "outputs": [
    {
     "name": "stdout",
     "output_type": "stream",
     "text": [
      "Dataset already exists at /Users/calebchiam/Documents/GitHub/Cornell-Conversational-Analysis-Toolkit/convokit/tensors/reddit-corpus-small\n"
     ]
    }
   ],
   "source": [
    "reddit_corpus = Corpus(filename=download('reddit-corpus-small'))"
   ]
  },
  {
   "cell_type": "code",
   "execution_count": 6,
   "metadata": {},
   "outputs": [
    {
     "name": "stdout",
     "output_type": "stream",
     "text": [
      "Number of Users: 119889\n",
      "Number of Utterances: 297132\n",
      "Number of Conversations: 8286\n"
     ]
    }
   ],
   "source": [
    "reddit_corpus.print_summary_stats()"
   ]
  },
  {
   "cell_type": "code",
   "execution_count": 7,
   "metadata": {},
   "outputs": [],
   "source": [
    "import timeit"
   ]
  },
  {
   "cell_type": "code",
   "execution_count": 8,
   "metadata": {},
   "outputs": [
    {
     "name": "stdout",
     "output_type": "stream",
     "text": [
      "Dataset already exists at /Users/calebchiam/Documents/GitHub/Cornell-Conversational-Analysis-Toolkit/convokit/tensors/reddit-corpus-small\n",
      "Dataset already exists at /Users/calebchiam/Documents/GitHub/Cornell-Conversational-Analysis-Toolkit/convokit/tensors/reddit-corpus-small\n",
      "The start time is : 38.506806846\n",
      "The time difference is : 19.589590421999993\n",
      "Number of Users: 119889\n",
      "Number of Utterances: 297132\n",
      "Number of Conversations: 8286\n"
     ]
    }
   ],
   "source": [
    "reddit_corpus1 = Corpus(filename=download('reddit-corpus-small'), utterance_end_index=150000)\n",
    "reddit_corpus2 = Corpus(filename=download('reddit-corpus-small'), utterance_start_index=150001)\n",
    "starttime = timeit.default_timer()\n",
    "print(\"The start time is :\",starttime)\n",
    "added_corpus_with_checks = reddit_corpus1.add_utterances(list(reddit_corpus2.iter_utterances()), with_checks=True)\n",
    "print(\"The time difference is :\", timeit.default_timer() - starttime)\n",
    "added_corpus_with_checks.print_summary_stats()"
   ]
  },
  {
   "cell_type": "code",
   "execution_count": 10,
   "metadata": {},
   "outputs": [
    {
     "name": "stdout",
     "output_type": "stream",
     "text": [
      "Dataset already exists at /Users/calebchiam/Documents/GitHub/Cornell-Conversational-Analysis-Toolkit/convokit/tensors/reddit-corpus-small\n",
      "Dataset already exists at /Users/calebchiam/Documents/GitHub/Cornell-Conversational-Analysis-Toolkit/convokit/tensors/reddit-corpus-small\n",
      "The start time is : 210.833814927\n",
      "The time difference is : 4.602039382000015\n",
      "Number of Users: 119889\n",
      "Number of Utterances: 297132\n",
      "Number of Conversations: 8286\n"
     ]
    }
   ],
   "source": [
    "reddit_corpus1 = Corpus(filename=download('reddit-corpus-small'), utterance_end_index=150000)\n",
    "reddit_corpus2 = Corpus(filename=download('reddit-corpus-small'), utterance_start_index=150001)\n",
    "starttime = timeit.default_timer()\n",
    "print(\"The start time is :\",starttime)\n",
    "added_corpus_wo_checks = reddit_corpus1.add_utterances(list(reddit_corpus2.iter_utterances()), with_checks=False)\n",
    "print(\"The time difference is :\", timeit.default_timer() - starttime)\n",
    "added_corpus_wo_checks.print_summary_stats()"
   ]
  },
  {
   "cell_type": "code",
   "execution_count": null,
   "metadata": {},
   "outputs": [],
   "source": []
  },
  {
   "cell_type": "code",
   "execution_count": null,
   "metadata": {},
   "outputs": [],
   "source": []
  },
  {
   "cell_type": "code",
   "execution_count": null,
   "metadata": {},
   "outputs": [],
   "source": []
  },
  {
   "cell_type": "code",
   "execution_count": null,
   "metadata": {},
   "outputs": [],
   "source": []
  },
  {
   "cell_type": "code",
   "execution_count": null,
   "metadata": {},
   "outputs": [],
   "source": []
  },
  {
   "cell_type": "code",
   "execution_count": null,
   "metadata": {},
   "outputs": [],
   "source": []
  }
 ],
 "metadata": {
  "kernelspec": {
   "display_name": "Python 3",
   "language": "python",
   "name": "python3"
  },
  "language_info": {
   "codemirror_mode": {
    "name": "ipython",
    "version": 3
   },
   "file_extension": ".py",
   "mimetype": "text/x-python",
   "name": "python",
   "nbconvert_exporter": "python",
   "pygments_lexer": "ipython3",
   "version": "3.7.6"
  }
 },
 "nbformat": 4,
 "nbformat_minor": 2
}
