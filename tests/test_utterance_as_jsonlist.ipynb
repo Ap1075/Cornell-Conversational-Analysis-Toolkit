{
 "cells": [
  {
   "cell_type": "code",
   "execution_count": 1,
   "metadata": {},
   "outputs": [],
   "source": [
    "import os\n",
    "os.chdir(\"..\")\n",
    "import convokit\n",
    "from convokit import Utterance, Corpus, User\n",
    "os.chdir(\"./tests\")"
   ]
  },
  {
   "cell_type": "code",
   "execution_count": 47,
   "metadata": {},
   "outputs": [],
   "source": [
    "user_byte_arr1 = bytearray([120, 3, 255, 0, 100])\n",
    "user_byte_arr2 = bytearray([110, 3, 255, 90])\n",
    "utt_byte_arr1 = bytearray([99, 44, 33])\n",
    "utt_byte_arr2 = bytearray([110, 200, 220, 28])"
   ]
  },
  {
   "cell_type": "code",
   "execution_count": 50,
   "metadata": {},
   "outputs": [
    {
     "name": "stdout",
     "output_type": "stream",
     "text": [
      "bytearray(b'x\\x03\\xff\\x00d')\n",
      "bytearray(b'n\\x03\\xffZ')\n",
      "bytearray(b'c,!')\n",
      "bytearray(b'n\\xc8\\xdc\\x1c')\n"
     ]
    }
   ],
   "source": [
    "print(user_byte_arr1)\n",
    "print(user_byte_arr2)\n",
    "print(utt_byte_arr1)\n",
    "print(utt_byte_arr2)"
   ]
  },
  {
   "cell_type": "code",
   "execution_count": 51,
   "metadata": {},
   "outputs": [],
   "source": [
    "corpus1 = Corpus(utterances = [\n",
    "            Utterance(id=0, text=\"hello world\", user=User(name=\"alice\", meta={'user_binary_data': user_byte_arr1}), meta={'utt_binary_data': utt_byte_arr1}),\n",
    "            Utterance(id=1, text=\"my name is bob\", user=User(name=\"bob\", meta={'user_binary_data': user_byte_arr2}), meta={'utt_binary_data': utt_byte_arr2}),\n",
    "            Utterance(id=2, text=\"this is a test\", user=User(name=\"charlie\")),\n",
    "        ])\n"
   ]
  },
  {
   "cell_type": "code",
   "execution_count": 55,
   "metadata": {},
   "outputs": [
    {
     "name": "stdout",
     "output_type": "stream",
     "text": [
      "{'user_binary_data': bytearray(b'x\\x03\\xff\\x00d')}\n",
      "{'utt_binary_data': bytearray(b'c,!')}\n"
     ]
    }
   ],
   "source": [
    "alice = corpus1.utterances[0].user\n",
    "print(alice.meta)\n",
    "print(corpus1.utterances[0].meta)"
   ]
  },
  {
   "cell_type": "code",
   "execution_count": 56,
   "metadata": {},
   "outputs": [],
   "source": [
    "corpus1.dump('test_corpus', './')"
   ]
  },
  {
   "cell_type": "code",
   "execution_count": 59,
   "metadata": {},
   "outputs": [
    {
     "name": "stdout",
     "output_type": "stream",
     "text": [
      "{'user_binary_data': bytearray(b'n\\x03\\xffZ')}\n",
      "{'utt_binary_data': bytearray(b'n\\xc8\\xdc\\x1c')}\n"
     ]
    }
   ],
   "source": [
    "bob = corpus1.utterances[1].user\n",
    "print(bob.meta)\n",
    "print(corpus1.utterances[1].meta)"
   ]
  },
  {
   "cell_type": "code",
   "execution_count": 61,
   "metadata": {},
   "outputs": [
    {
     "data": {
      "text/plain": [
       "['test_corpus',\n",
       " 'merge_corpus_test.py',\n",
       " '.ipynb_checkpoints',\n",
       " 'test_utterance_as_jsonlist.ipynb']"
      ]
     },
     "execution_count": 61,
     "metadata": {},
     "output_type": "execute_result"
    }
   ],
   "source": [
    "os.listdir()"
   ]
  },
  {
   "cell_type": "code",
   "execution_count": 62,
   "metadata": {},
   "outputs": [],
   "source": [
    "corpus2 = Corpus(filename=\"test_corpus\")"
   ]
  },
  {
   "cell_type": "code",
   "execution_count": 68,
   "metadata": {},
   "outputs": [
    {
     "name": "stdout",
     "output_type": "stream",
     "text": [
      "{'user_binary_data': '<##bin{0}&&@**>'}\n",
      "{'utt_binary_data': bytearray(b'c,!')}\n"
     ]
    }
   ],
   "source": [
    "alice = corpus2.utterances[0].user\n",
    "print(alice.meta)\n",
    "print(corpus2.utterances[0].meta)"
   ]
  },
  {
   "cell_type": "code",
   "execution_count": 69,
   "metadata": {},
   "outputs": [
    {
     "name": "stdout",
     "output_type": "stream",
     "text": [
      "{'user_binary_data': '<##bin{1}&&@**>'}\n",
      "{'utt_binary_data': bytearray(b'n\\xc8\\xdc\\x1c')}\n"
     ]
    }
   ],
   "source": [
    "bob = corpus2.utterances[1].user\n",
    "print(bob.meta)\n",
    "print(corpus2.utterances[1].meta)"
   ]
  },
  {
   "cell_type": "code",
   "execution_count": null,
   "metadata": {},
   "outputs": [],
   "source": []
  }
 ],
 "metadata": {
  "kernelspec": {
   "display_name": "Python 3",
   "language": "python",
   "name": "python3"
  },
  "language_info": {
   "codemirror_mode": {
    "name": "ipython",
    "version": 3
   },
   "file_extension": ".py",
   "mimetype": "text/x-python",
   "name": "python",
   "nbconvert_exporter": "python",
   "pygments_lexer": "ipython3",
   "version": "3.7.3"
  }
 },
 "nbformat": 4,
 "nbformat_minor": 2
}
