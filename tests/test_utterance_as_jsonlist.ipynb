{
 "cells": [
  {
   "cell_type": "code",
   "execution_count": 1,
   "metadata": {},
   "outputs": [],
   "source": [
    "import os\n",
    "os.chdir(\"..\")\n",
    "import convokit\n",
    "from convokit import Utterance, Corpus, User\n",
    "os.chdir(\"./tests\")"
   ]
  },
  {
   "cell_type": "code",
   "execution_count": 2,
   "metadata": {},
   "outputs": [],
   "source": [
    "user_byte_arr1 = bytearray([120, 3, 255, 0, 100])\n",
    "user_byte_arr2 = bytearray([110, 3, 255, 90])\n",
    "utt_byte_arr1 = bytearray([99, 44, 33])\n",
    "utt_byte_arr2 = bytearray([110, 200, 220, 28])"
   ]
  },
  {
   "cell_type": "code",
   "execution_count": 3,
   "metadata": {},
   "outputs": [
    {
     "name": "stdout",
     "output_type": "stream",
     "text": [
      "bytearray(b'x\\x03\\xff\\x00d')\n",
      "bytearray(b'n\\x03\\xffZ')\n",
      "bytearray(b'c,!')\n",
      "bytearray(b'n\\xc8\\xdc\\x1c')\n"
     ]
    }
   ],
   "source": [
    "print(user_byte_arr1)\n",
    "print(user_byte_arr2)\n",
    "print(utt_byte_arr1)\n",
    "print(utt_byte_arr2)"
   ]
  },
  {
   "cell_type": "code",
   "execution_count": 4,
   "metadata": {},
   "outputs": [],
   "source": [
    "corpus1 = Corpus(utterances = [\n",
    "            Utterance(id=0, text=\"hello world\", user=User(name=\"alice\", meta={'user_binary_data': user_byte_arr1}), meta={'utt_binary_data': utt_byte_arr1}),\n",
    "            Utterance(id=1, text=\"my name is bob\", user=User(name=\"bob\", meta={'user_binary_data': user_byte_arr2}), meta={'utt_binary_data': utt_byte_arr2}),\n",
    "            Utterance(id=2, text=\"this is a test\", user=User(name=\"charlie\")),\n",
    "        ])\n"
   ]
  },
  {
   "cell_type": "code",
   "execution_count": 5,
   "metadata": {},
   "outputs": [
    {
     "data": {
      "text/plain": [
       "{0: Utterance({'id': 0, 'user': User([('name', 'alice')]), 'root': None, 'reply_to': None, 'timestamp': None, 'text': 'hello world', 'meta': {'utt_binary_data': bytearray(b'c,!')}}),\n",
       " 1: Utterance({'id': 1, 'user': User([('name', 'bob')]), 'root': None, 'reply_to': None, 'timestamp': None, 'text': 'my name is bob', 'meta': {'utt_binary_data': bytearray(b'n\\xc8\\xdc\\x1c')}}),\n",
       " 2: Utterance({'id': 2, 'user': User([('name', 'charlie')]), 'root': None, 'reply_to': None, 'timestamp': None, 'text': 'this is a test', 'meta': {}})}"
      ]
     },
     "execution_count": 5,
     "metadata": {},
     "output_type": "execute_result"
    }
   ],
   "source": [
    "corpus1.utterances"
   ]
  },
  {
   "cell_type": "code",
   "execution_count": 6,
   "metadata": {},
   "outputs": [
    {
     "name": "stdout",
     "output_type": "stream",
     "text": [
      "{'user_binary_data': bytearray(b'x\\x03\\xff\\x00d')}\n",
      "{'utt_binary_data': bytearray(b'c,!')}\n"
     ]
    }
   ],
   "source": [
    "alice = corpus1.utterances[0].user\n",
    "print(alice.meta)\n",
    "print(corpus1.utterances[0].meta)"
   ]
  },
  {
   "cell_type": "code",
   "execution_count": 7,
   "metadata": {},
   "outputs": [],
   "source": [
    "corpus1.dump('test_corpus', './')"
   ]
  },
  {
   "cell_type": "code",
   "execution_count": 8,
   "metadata": {},
   "outputs": [
    {
     "name": "stdout",
     "output_type": "stream",
     "text": [
      "{'user_binary_data': bytearray(b'n\\x03\\xffZ')}\n",
      "{'utt_binary_data': bytearray(b'n\\xc8\\xdc\\x1c')}\n"
     ]
    }
   ],
   "source": [
    "bob = corpus1.utterances[1].user\n",
    "print(bob.meta)\n",
    "print(corpus1.utterances[1].meta)"
   ]
  },
  {
   "cell_type": "code",
   "execution_count": 9,
   "metadata": {},
   "outputs": [
    {
     "data": {
      "text/plain": [
       "['test_corpus',\n",
       " 'test_corpus_partial_load.ipynb',\n",
       " 'merge_corpus_test.py',\n",
       " '.ipynb_checkpoints',\n",
       " 'test_utterance_as_jsonlist.ipynb',\n",
       " 'utterances_as_jsonlist_test.py']"
      ]
     },
     "execution_count": 9,
     "metadata": {},
     "output_type": "execute_result"
    }
   ],
   "source": [
    "os.listdir()"
   ]
  },
  {
   "cell_type": "code",
   "execution_count": 10,
   "metadata": {},
   "outputs": [],
   "source": [
    "corpus2 = Corpus(filename=\"test_corpus\")"
   ]
  },
  {
   "cell_type": "code",
   "execution_count": 11,
   "metadata": {},
   "outputs": [
    {
     "name": "stdout",
     "output_type": "stream",
     "text": [
      "{'user_binary_data': bytearray(b'x\\x03\\xff\\x00d')}\n",
      "{'utt_binary_data': bytearray(b'c,!')}\n"
     ]
    }
   ],
   "source": [
    "alice = corpus2.utterances[0].user\n",
    "print(alice.meta)\n",
    "print(corpus2.utterances[0].meta)"
   ]
  },
  {
   "cell_type": "code",
   "execution_count": 12,
   "metadata": {},
   "outputs": [
    {
     "name": "stdout",
     "output_type": "stream",
     "text": [
      "{'user_binary_data': bytearray(b'n\\x03\\xffZ')}\n",
      "{'utt_binary_data': bytearray(b'n\\xc8\\xdc\\x1c')}\n"
     ]
    }
   ],
   "source": [
    "bob = corpus2.utterances[1].user\n",
    "print(bob.meta)\n",
    "print(corpus2.utterances[1].meta)"
   ]
  },
  {
   "cell_type": "markdown",
   "metadata": {},
   "source": [
    "## Partial loading"
   ]
  },
  {
   "cell_type": "code",
   "execution_count": 13,
   "metadata": {},
   "outputs": [],
   "source": [
    "corpus3 = Corpus(filename=\"test_corpus\", utterance_start_index=0, utterance_end_index=1)"
   ]
  },
  {
   "cell_type": "code",
   "execution_count": 14,
   "metadata": {},
   "outputs": [
    {
     "data": {
      "text/plain": [
       "{0: Utterance({'id': 0, 'user': User([('name', 'alice')]), 'root': None, 'reply_to': None, 'timestamp': None, 'text': 'hello world', 'meta': {'utt_binary_data': bytearray(b'c,!')}}),\n",
       " 1: Utterance({'id': 1, 'user': User([('name', 'bob')]), 'root': None, 'reply_to': None, 'timestamp': None, 'text': 'my name is bob', 'meta': {'utt_binary_data': bytearray(b'n\\xc8\\xdc\\x1c')}})}"
      ]
     },
     "execution_count": 14,
     "metadata": {},
     "output_type": "execute_result"
    }
   ],
   "source": [
    "corpus3.utterances"
   ]
  },
  {
   "cell_type": "code",
   "execution_count": 15,
   "metadata": {},
   "outputs": [],
   "source": [
    "corpus4 = Corpus(filename=\"test_corpus\", utterance_start_index=1)"
   ]
  },
  {
   "cell_type": "code",
   "execution_count": 16,
   "metadata": {},
   "outputs": [
    {
     "data": {
      "text/plain": [
       "{1: Utterance({'id': 1, 'user': User([('name', 'bob')]), 'root': None, 'reply_to': None, 'timestamp': None, 'text': 'my name is bob', 'meta': {'utt_binary_data': bytearray(b'n\\xc8\\xdc\\x1c')}}),\n",
       " 2: Utterance({'id': 2, 'user': User([('name', 'charlie')]), 'root': None, 'reply_to': None, 'timestamp': None, 'text': 'this is a test', 'meta': {}})}"
      ]
     },
     "execution_count": 16,
     "metadata": {},
     "output_type": "execute_result"
    }
   ],
   "source": [
    "corpus4.utterances"
   ]
  },
  {
   "cell_type": "code",
   "execution_count": 17,
   "metadata": {},
   "outputs": [],
   "source": [
    "corpus5 = Corpus(filename=\"test_corpus\", utterance_start_index=99)"
   ]
  },
  {
   "cell_type": "code",
   "execution_count": 18,
   "metadata": {},
   "outputs": [
    {
     "data": {
      "text/plain": [
       "{}"
      ]
     },
     "execution_count": 18,
     "metadata": {},
     "output_type": "execute_result"
    }
   ],
   "source": [
    "corpus5.utterances"
   ]
  },
  {
   "cell_type": "code",
   "execution_count": 19,
   "metadata": {},
   "outputs": [
    {
     "data": {
      "text/plain": [
       "[Conversation({'_owner': <convokit.model.corpus.Corpus object at 0x12262b828>, '_id': None, '_utterance_ids': [0, 1], '_usernames': None, '_meta': {}})]"
      ]
     },
     "execution_count": 19,
     "metadata": {},
     "output_type": "execute_result"
    }
   ],
   "source": [
    "list(list(corpus3.iter_users())[0].iter_conversations())"
   ]
  },
  {
   "cell_type": "code",
   "execution_count": 20,
   "metadata": {},
   "outputs": [],
   "source": [
    "corpus5 = corpus3.merge(corpus4)"
   ]
  },
  {
   "cell_type": "code",
   "execution_count": 21,
   "metadata": {},
   "outputs": [
    {
     "data": {
      "text/plain": [
       "{0: Utterance({'id': 0, 'user': User([('name', 'alice')]), 'root': None, 'reply_to': None, 'timestamp': None, 'text': 'hello world', 'meta': {'utt_binary_data': bytearray(b'c,!')}}),\n",
       " 1: Utterance({'id': 1, 'user': User([('name', 'bob')]), 'root': None, 'reply_to': None, 'timestamp': None, 'text': 'my name is bob', 'meta': {'utt_binary_data': bytearray(b'n\\xc8\\xdc\\x1c')}}),\n",
       " 2: Utterance({'id': 2, 'user': User([('name', 'charlie')]), 'root': None, 'reply_to': None, 'timestamp': None, 'text': 'this is a test', 'meta': {}})}"
      ]
     },
     "execution_count": 21,
     "metadata": {},
     "output_type": "execute_result"
    }
   ],
   "source": [
    "corpus5.utterances"
   ]
  },
  {
   "cell_type": "code",
   "execution_count": null,
   "metadata": {},
   "outputs": [],
   "source": []
  }
 ],
 "metadata": {
  "kernelspec": {
   "display_name": "Python 3",
   "language": "python",
   "name": "python3"
  },
  "language_info": {
   "codemirror_mode": {
    "name": "ipython",
    "version": 3
   },
   "file_extension": ".py",
   "mimetype": "text/x-python",
   "name": "python",
   "nbconvert_exporter": "python",
   "pygments_lexer": "ipython3",
   "version": "3.7.3"
  }
 },
 "nbformat": 4,
 "nbformat_minor": 2
}
