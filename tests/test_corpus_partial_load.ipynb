{
 "cells": [
  {
   "cell_type": "code",
   "execution_count": 1,
   "metadata": {},
   "outputs": [],
   "source": [
    "import os\n",
    "os.chdir(\"..\")\n",
    "import convokit\n",
    "from convokit import Utterance, Corpus, User\n",
    "os.chdir(\"./tests\")"
   ]
  },
  {
   "cell_type": "code",
   "execution_count": 2,
   "metadata": {},
   "outputs": [
    {
     "name": "stdout",
     "output_type": "stream",
     "text": [
      "Dataset already exists at /Users/calebchiam/.convokit/downloads/wikiconv-2004\n"
     ]
    }
   ],
   "source": [
    "corpus = Corpus(filename=convokit.download(\"wikiconv-2004\"))\n"
   ]
  },
  {
   "cell_type": "code",
   "execution_count": 3,
   "metadata": {},
   "outputs": [
    {
     "name": "stdout",
     "output_type": "stream",
     "text": [
      "613608\n"
     ]
    }
   ],
   "source": [
    "num_utterances = len(list(corpus.iter_utterances()))\n",
    "print(num_utterances)"
   ]
  },
  {
   "cell_type": "code",
   "execution_count": 4,
   "metadata": {},
   "outputs": [],
   "source": [
    "def get_stats(corpus):\n",
    "    print(\"No. of users\", len(list(corpus.iter_users())))\n",
    "    print(\"No. of conversations\", len(list(corpus.iter_conversations())))\n",
    "    print(\"No. of utterances\", len(list(corpus.iter_utterances())))"
   ]
  },
  {
   "cell_type": "code",
   "execution_count": 5,
   "metadata": {},
   "outputs": [
    {
     "name": "stdout",
     "output_type": "stream",
     "text": [
      "No. of users 34235\n",
      "No. of conversations 303494\n",
      "No. of utterances 613608\n"
     ]
    }
   ],
   "source": [
    "get_stats(corpus)"
   ]
  },
  {
   "cell_type": "code",
   "execution_count": 6,
   "metadata": {},
   "outputs": [],
   "source": [
    "def get_user_stats(user):\n",
    "    print(user)\n",
    "    print(user.meta)\n",
    "    print(\"No. of user convos\", len(list(user.iter_conversations())))\n",
    "    print(\"No. of user utts\", len(list(user.iter_utterances())))"
   ]
  },
  {
   "cell_type": "code",
   "execution_count": 7,
   "metadata": {},
   "outputs": [
    {
     "name": "stdout",
     "output_type": "stream",
     "text": [
      "User([('name', 'Jonel')])\n",
      "{'user_id': '56176'}\n",
      "No. of user convos 45\n",
      "No. of user utts 60\n"
     ]
    }
   ],
   "source": [
    "random_user = list(corpus.iter_users())[544]\n",
    "get_user_stats(random_user)"
   ]
  },
  {
   "cell_type": "code",
   "execution_count": 8,
   "metadata": {},
   "outputs": [
    {
     "name": "stdout",
     "output_type": "stream",
     "text": [
      "Dataset already exists at /Users/calebchiam/.convokit/downloads/wikiconv-2004\n"
     ]
    }
   ],
   "source": [
    "corpus1 = Corpus(filename=convokit.download(\"wikiconv-2004\"), utterance_end_index=num_utterances//2)"
   ]
  },
  {
   "cell_type": "code",
   "execution_count": 9,
   "metadata": {},
   "outputs": [
    {
     "name": "stdout",
     "output_type": "stream",
     "text": [
      "No. of users 21232\n",
      "No. of conversations 152778\n",
      "No. of utterances 306805\n"
     ]
    }
   ],
   "source": [
    "get_stats(corpus1)"
   ]
  },
  {
   "cell_type": "code",
   "execution_count": 10,
   "metadata": {},
   "outputs": [
    {
     "name": "stdout",
     "output_type": "stream",
     "text": [
      "User([('name', 'Jonel')])\n",
      "{'user_id': '56176'}\n",
      "No. of user convos 18\n",
      "No. of user utts 20\n"
     ]
    }
   ],
   "source": [
    "get_user_stats(corpus1.get_user('Jonel'))"
   ]
  },
  {
   "cell_type": "code",
   "execution_count": 11,
   "metadata": {},
   "outputs": [
    {
     "name": "stdout",
     "output_type": "stream",
     "text": [
      "Dataset already exists at /Users/calebchiam/.convokit/downloads/wikiconv-2004\n"
     ]
    }
   ],
   "source": [
    "# just for kicks, we start the index a little earlier so we have some overlap\n",
    "corpus2 = Corpus(filename=convokit.download(\"wikiconv-2004\"), utterance_start_index=num_utterances//2 - 100)"
   ]
  },
  {
   "cell_type": "code",
   "execution_count": 12,
   "metadata": {},
   "outputs": [
    {
     "name": "stdout",
     "output_type": "stream",
     "text": [
      "No. of users 20936\n",
      "No. of conversations 150742\n",
      "No. of utterances 306904\n"
     ]
    }
   ],
   "source": [
    "get_stats(corpus2)"
   ]
  },
  {
   "cell_type": "code",
   "execution_count": 13,
   "metadata": {},
   "outputs": [
    {
     "name": "stdout",
     "output_type": "stream",
     "text": [
      "User([('name', 'Jonel')])\n",
      "{'user_id': '56176'}\n",
      "No. of user convos 27\n",
      "No. of user utts 40\n"
     ]
    }
   ],
   "source": [
    "get_user_stats(corpus2.get_user('Jonel'))"
   ]
  },
  {
   "cell_type": "code",
   "execution_count": 14,
   "metadata": {},
   "outputs": [],
   "source": [
    "corpus3 = corpus1.merge(corpus2)"
   ]
  },
  {
   "cell_type": "code",
   "execution_count": 15,
   "metadata": {},
   "outputs": [
    {
     "name": "stdout",
     "output_type": "stream",
     "text": [
      "No. of users 34235\n",
      "No. of conversations 303494\n",
      "No. of utterances 613608\n"
     ]
    }
   ],
   "source": [
    "get_stats(corpus3)"
   ]
  },
  {
   "cell_type": "code",
   "execution_count": 16,
   "metadata": {},
   "outputs": [
    {
     "name": "stdout",
     "output_type": "stream",
     "text": [
      "User([('name', 'Jonel')])\n",
      "{'user_id': '56176'}\n",
      "No. of user convos 45\n",
      "No. of user utts 60\n"
     ]
    }
   ],
   "source": [
    "get_user_stats(corpus3.get_user('Jonel'))"
   ]
  },
  {
   "cell_type": "code",
   "execution_count": 17,
   "metadata": {},
   "outputs": [],
   "source": [
    "random_user_from_new_corpus = corpus3.get_user('Jonel')"
   ]
  },
  {
   "cell_type": "code",
   "execution_count": 18,
   "metadata": {},
   "outputs": [
    {
     "data": {
      "text/plain": [
       "True"
      ]
     },
     "execution_count": 18,
     "metadata": {},
     "output_type": "execute_result"
    }
   ],
   "source": [
    "random_user == random_user_from_new_corpus"
   ]
  },
  {
   "cell_type": "code",
   "execution_count": 19,
   "metadata": {},
   "outputs": [
    {
     "data": {
      "text/plain": [
       "Utterance({'id': '7129041.0.5925', 'user': User([('name', '216.99.65.10')]), 'root': '6500567.3731.3731', 'reply_to': None, 'timestamp': 1099670498.0, 'text': ' ', 'meta': {'is_section_header': False, 'indentation': '3', 'toxicity': 0.1043122, 'sever_toxicity': 0.05604938, 'ancestor_id': '6533471.5925.5925', 'rev_id': '6533471', 'parent_id': None, 'original': Utterance({'id': '6533471.5925.5925', 'user': User([('name', 'JamesMLane')]), 'root': '6500567.3731.3731', 'reply_to': '6506176.5405.5405', 'timestamp': 1097540270.0, 'text': \"Addendum: I couldn't find it on the ABC News site, which has been redesigned.  I've emailed ABC asking if they can provide a valid link.  If they can't, the ''Nightline'' story was picked up and quoted extensively here on the website of a liberal columnist, but I'd rather link to (and credit) ABC as the original source.  If ABC doesn't get back to me, I'll substitute the other link. \", 'meta': {'is_section_header': False, 'indentation': '3', 'toxicity': 0.1043122, 'sever_toxicity': 0.05604938, 'ancestor_id': '6533471.5925.5925', 'rev_id': '6533471', 'parent_id': None, 'original': None, 'modification': [], 'deletion': [], 'restoration': []}}), 'modification': [], 'deletion': [Utterance({'id': '7129041.0.5925', 'user': User([('name', '216.99.65.10')]), 'root': '6500567.3731.3731', 'reply_to': None, 'timestamp': 1099670498.0, 'text': \"Addendum: I couldn't find it on the ABC News site, which has been redesigned.  I've emailed ABC asking if they can provide a valid link.  If they can't, the ''Nightline'' story was picked up and quoted extensively here on the website of a liberal columnist, but I'd rather link to (and credit) ABC as the original source.  If ABC doesn't get back to me, I'll substitute the other link. \", 'meta': {'is_section_header': False, 'indentation': '3', 'toxicity': 0.1043122, 'sever_toxicity': 0.05604938, 'ancestor_id': '6533471.5925.5925', 'rev_id': '7129041', 'parent_id': '6533471.5925.5925', 'original': None, 'modification': [], 'deletion': [], 'restoration': []}})], 'restoration': []}})"
      ]
     },
     "execution_count": 19,
     "metadata": {},
     "output_type": "execute_result"
    }
   ],
   "source": [
    "random_utt = list(corpus.iter_utterances())[35456]\n",
    "random_utt"
   ]
  },
  {
   "cell_type": "code",
   "execution_count": 20,
   "metadata": {},
   "outputs": [],
   "source": [
    "random_utt_from_new_corpus = corpus3.get_utterance(random_utt.id)"
   ]
  },
  {
   "cell_type": "code",
   "execution_count": 21,
   "metadata": {},
   "outputs": [
    {
     "data": {
      "text/plain": [
       "True"
      ]
     },
     "execution_count": 21,
     "metadata": {},
     "output_type": "execute_result"
    }
   ],
   "source": [
    "random_utt == random_utt_from_new_corpus"
   ]
  },
  {
   "cell_type": "code",
   "execution_count": 22,
   "metadata": {},
   "outputs": [],
   "source": [
    "random_convo = list(corpus.iter_conversations())[199999]"
   ]
  },
  {
   "cell_type": "code",
   "execution_count": 23,
   "metadata": {},
   "outputs": [
    {
     "data": {
      "text/plain": [
       "Conversation({'_owner': <convokit.model.corpus.Corpus object at 0x12f22a828>, '_id': '16957422.0.0', '_utterance_ids': ['16957422.0.0'], '_usernames': None, '_meta': {'page_id': '47853827', 'page_title': '209.221.83.92', 'page_type': 'user_talk'}})"
      ]
     },
     "execution_count": 23,
     "metadata": {},
     "output_type": "execute_result"
    }
   ],
   "source": [
    "random_convo"
   ]
  },
  {
   "cell_type": "code",
   "execution_count": 24,
   "metadata": {},
   "outputs": [],
   "source": [
    "random_convo_from_new_corpus = corpus3.get_conversation(random_convo.id)"
   ]
  },
  {
   "cell_type": "code",
   "execution_count": null,
   "metadata": {},
   "outputs": [],
   "source": []
  },
  {
   "cell_type": "code",
   "execution_count": 25,
   "metadata": {},
   "outputs": [
    {
     "data": {
      "text/plain": [
       "Conversation({'_owner': <convokit.model.corpus.Corpus object at 0x247f28c50>, '_id': '16957422.0.0', '_utterance_ids': ['16957422.0.0'], '_usernames': None, '_meta': {'page_id': '47853827', 'page_title': '209.221.83.92', 'page_type': 'user_talk'}})"
      ]
     },
     "execution_count": 25,
     "metadata": {},
     "output_type": "execute_result"
    }
   ],
   "source": [
    "random_convo_from_new_corpus"
   ]
  },
  {
   "cell_type": "markdown",
   "metadata": {},
   "source": [
    "## Testing user's convo / utt iterators explicitly"
   ]
  },
  {
   "cell_type": "code",
   "execution_count": 28,
   "metadata": {},
   "outputs": [],
   "source": [
    "utts = list(random_user.iter_utterances())"
   ]
  },
  {
   "cell_type": "code",
   "execution_count": 37,
   "metadata": {},
   "outputs": [],
   "source": [
    "utts1 = utts[:33]"
   ]
  },
  {
   "cell_type": "code",
   "execution_count": 39,
   "metadata": {},
   "outputs": [
    {
     "data": {
      "text/plain": [
       "Utterance({'id': '5065463.1949.1935', 'user': User([('name', 'Jonel')]), 'root': '5065463.1935.1935', 'reply_to': '5065463.1935.1935', 'timestamp': 1089783950.0, 'text': 'Most of my info is from Politics1.  They tend to include everyone who has claimed to be running for an office, even if the candidate will not be on the ballot. - \\nTexas - Texas official candidates list', 'meta': {'is_section_header': True, 'indentation': '0', 'toxicity': 0.1090915, 'sever_toxicity': 0.04738847, 'ancestor_id': '5065463.1949.1935', 'rev_id': '5065463', 'parent_id': None, 'original': None, 'modification': [], 'deletion': [], 'restoration': []}})"
      ]
     },
     "execution_count": 39,
     "metadata": {},
     "output_type": "execute_result"
    }
   ],
   "source": [
    "utts1[-1]"
   ]
  },
  {
   "cell_type": "code",
   "execution_count": 38,
   "metadata": {},
   "outputs": [],
   "source": [
    "utts2 = utts[33:]"
   ]
  },
  {
   "cell_type": "code",
   "execution_count": 40,
   "metadata": {},
   "outputs": [
    {
     "data": {
      "text/plain": [
       "Utterance({'id': '5065463.1935.1935', 'user': User([('name', 'Jonel')]), 'root': '5065463.1935.1935', 'reply_to': None, 'timestamp': 1089783950.0, 'text': ' Sources ', 'meta': {'is_section_header': False, 'indentation': '-1', 'toxicity': 0.006724888, 'sever_toxicity': 0.00369792, 'ancestor_id': '5065463.1935.1935', 'rev_id': '5065463', 'parent_id': None, 'original': None, 'modification': [], 'deletion': [], 'restoration': []}})"
      ]
     },
     "execution_count": 40,
     "metadata": {},
     "output_type": "execute_result"
    }
   ],
   "source": [
    "utts2[0]"
   ]
  },
  {
   "cell_type": "markdown",
   "metadata": {},
   "source": [
    "Notice that the two sets of utterances have an overlapping conversation."
   ]
  },
  {
   "cell_type": "code",
   "execution_count": 54,
   "metadata": {},
   "outputs": [],
   "source": [
    "corpus4 = Corpus(utterances=utts1)"
   ]
  },
  {
   "cell_type": "code",
   "execution_count": 55,
   "metadata": {},
   "outputs": [
    {
     "name": "stdout",
     "output_type": "stream",
     "text": [
      "User([('name', 'Jonel')])\n",
      "{'user_id': '56176'}\n",
      "No. of user convos 30\n",
      "No. of user utts 33\n"
     ]
    }
   ],
   "source": [
    "get_user_stats(corpus4.get_user('Jonel'))"
   ]
  },
  {
   "cell_type": "code",
   "execution_count": 56,
   "metadata": {},
   "outputs": [],
   "source": [
    "corpus5 = Corpus(utterances=utts2)"
   ]
  },
  {
   "cell_type": "code",
   "execution_count": 57,
   "metadata": {},
   "outputs": [
    {
     "name": "stdout",
     "output_type": "stream",
     "text": [
      "User([('name', 'Jonel')])\n",
      "{'user_id': '56176'}\n",
      "No. of user convos 16\n",
      "No. of user utts 27\n"
     ]
    }
   ],
   "source": [
    "get_user_stats(corpus5.get_user('Jonel'))"
   ]
  },
  {
   "cell_type": "code",
   "execution_count": 59,
   "metadata": {},
   "outputs": [],
   "source": [
    "corpus6 = corpus4.merge(corpus5)"
   ]
  },
  {
   "cell_type": "code",
   "execution_count": 60,
   "metadata": {},
   "outputs": [
    {
     "name": "stdout",
     "output_type": "stream",
     "text": [
      "User([('name', 'Jonel')])\n",
      "{'user_id': '56176'}\n",
      "No. of user convos 45\n",
      "No. of user utts 60\n"
     ]
    }
   ],
   "source": [
    "get_user_stats(corpus6.get_user('Jonel'))"
   ]
  },
  {
   "cell_type": "code",
   "execution_count": null,
   "metadata": {},
   "outputs": [],
   "source": []
  }
 ],
 "metadata": {
  "kernelspec": {
   "display_name": "Python 3",
   "language": "python",
   "name": "python3"
  },
  "language_info": {
   "codemirror_mode": {
    "name": "ipython",
    "version": 3
   },
   "file_extension": ".py",
   "mimetype": "text/x-python",
   "name": "python",
   "nbconvert_exporter": "python",
   "pygments_lexer": "ipython3",
   "version": "3.7.3"
  }
 },
 "nbformat": 4,
 "nbformat_minor": 2
}
