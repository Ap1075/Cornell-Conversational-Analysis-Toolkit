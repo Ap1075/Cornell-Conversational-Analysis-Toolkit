{
 "cells": [
  {
   "cell_type": "markdown",
   "metadata": {},
   "source": [
    "This notebook provides examples of how to call the hyperconvo functions from Convokit and perform analyses similar to the ones presented in the corresponding paper (http://www.cs.cornell.edu/~cristian/Patterns_of_participant_interactions.html), which describes the hypergraph methodology for modeling and analyzing online public discussions.\n",
    "\n",
    "Note that due to limitations in what data we can access and distribute, the beta version of the hypergraph methodology presented here currently supports less functionality:\n",
    "\n",
    "* Instead of Facebook data, we release a dataset of discussions from Reddit (the 1000 most recent threads, with at least 10 comments, from 100 highly active subreddits -- more details in the corresponding readme here: https://github.com/CornellNLP/Cornell-Conversational-Analysis-Toolkit/tree/master/datasets/reddit-corpus). For demonstration purposes, we here use a small subset of this dataset (\"reddit-corpus-small\") containing 100 threads per subreddit.\n",
    "* Since Reddit does not provide information on who reacted to (i.e., upvoted) each comment, we are presently unable to support reaction-edges in the hypergraph. As such, we can only compute features over in/outdegree distributions of _reply_-edges, and the feature set derived from motifs in the hypergraph is limited to counts and binary indicators or whether or not a motif is present. We will work  towards supporting reactions as well."
   ]
  },
  {
   "cell_type": "code",
   "execution_count": 1,
   "metadata": {},
   "outputs": [
    {
     "data": {
      "text/plain": [
       "['LICENSE.md',\n",
       " 'convokit',\n",
       " 'hyperconvo_feats.p',\n",
       " 'requirements.txt',\n",
       " 'dist',\n",
       " 'Makefile',\n",
       " 'website',\n",
       " 'datasets',\n",
       " 'tests',\n",
       " 'README.md',\n",
       " 'setup.py',\n",
       " '.gitignore',\n",
       " 'CONTRIBUTING.md',\n",
       " 'examples',\n",
       " 'doc',\n",
       " '.ipynb_checkpoints',\n",
       " 'venv-triadmotif',\n",
       " 'convokit.egg-info',\n",
       " 'venv',\n",
       " '.git',\n",
       " 'model.tar',\n",
       " '.idea']"
      ]
     },
     "execution_count": 1,
     "metadata": {},
     "output_type": "execute_result"
    }
   ],
   "source": [
    "import os\n",
    "os.chdir('../..')\n",
    "os.listdir()"
   ]
  },
  {
   "cell_type": "code",
   "execution_count": 2,
   "metadata": {},
   "outputs": [
    {
     "name": "stderr",
     "output_type": "stream",
     "text": [
      "/Library/Frameworks/Python.framework/Versions/3.7/lib/python3.7/site-packages/sklearn/externals/joblib/__init__.py:15: DeprecationWarning: sklearn.externals.joblib is deprecated in 0.21 and will be removed in 0.23. Please import this functionality directly from joblib, which can be installed with: pip install joblib. If this warning is raised when loading pickled models, you may need to re-serialize those models with scikit-learn 0.21+.\n",
      "  warnings.warn(msg, category=DeprecationWarning)\n"
     ]
    }
   ],
   "source": [
    "import convokit"
   ]
  },
  {
   "cell_type": "code",
   "execution_count": 3,
   "metadata": {},
   "outputs": [],
   "source": [
    "%matplotlib inline\n",
    "import matplotlib.pyplot as plt\n",
    "import numpy as np\n",
    "import pandas as pd\n",
    "import warnings\n",
    "warnings.filterwarnings('ignore')"
   ]
  },
  {
   "cell_type": "markdown",
   "metadata": {},
   "source": [
    "First we download the reddit corpus:"
   ]
  },
  {
   "cell_type": "code",
   "execution_count": 4,
   "metadata": {},
   "outputs": [
    {
     "name": "stdout",
     "output_type": "stream",
     "text": [
      "Dataset already exists at /Users/calebchiam/.convokit/downloads/reddit-corpus-small\n"
     ]
    }
   ],
   "source": [
    "corpus = convokit.Corpus(filename=convokit.download(\"reddit-corpus-small\"))"
   ]
  },
  {
   "cell_type": "code",
   "execution_count": 5,
   "metadata": {},
   "outputs": [
    {
     "data": {
      "text/plain": [
       "{'subreddit': 'reddit-corpus-small',\n",
       " 'num_posts': 8286,\n",
       " 'num_comments': 288846,\n",
       " 'num_user': 119889}"
      ]
     },
     "execution_count": 5,
     "metadata": {},
     "output_type": "execute_result"
    }
   ],
   "source": [
    "corpus.meta"
   ]
  },
  {
   "cell_type": "code",
   "execution_count": 6,
   "metadata": {},
   "outputs": [
    {
     "name": "stdout",
     "output_type": "stream",
     "text": [
      "Number of Users: 119889\n",
      "Number of Utterances: 297132\n",
      "Number of Conversations: 8286\n"
     ]
    }
   ],
   "source": [
    "corpus.print_summary_stats()"
   ]
  },
  {
   "cell_type": "code",
   "execution_count": 7,
   "metadata": {},
   "outputs": [],
   "source": [
    "top_level_utterance_ids = [utt.id for utt in corpus.iter_utterances() if utt.id == utt.meta['top_level_comment']]"
   ]
  },
  {
   "cell_type": "code",
   "execution_count": 8,
   "metadata": {},
   "outputs": [
    {
     "data": {
      "text/plain": [
       "10000"
      ]
     },
     "execution_count": 8,
     "metadata": {},
     "output_type": "execute_result"
    }
   ],
   "source": [
    "len(top_level_utterance_ids)"
   ]
  },
  {
   "cell_type": "code",
   "execution_count": 9,
   "metadata": {},
   "outputs": [
    {
     "data": {
      "text/plain": [
       "{'subreddit': 'reddit-corpus-small',\n",
       " 'num_posts': 8286,\n",
       " 'num_comments': 288846,\n",
       " 'num_user': 119889}"
      ]
     },
     "execution_count": 9,
     "metadata": {},
     "output_type": "execute_result"
    }
   ],
   "source": [
    "corpus.meta"
   ]
  },
  {
   "cell_type": "code",
   "execution_count": 10,
   "metadata": {},
   "outputs": [
    {
     "data": {
      "text/plain": [
       "{'title': '/r/singapore random discussion and small questions thread for September 02, 2018',\n",
       " 'num_comments': 745,\n",
       " 'domain': 'self.singapore',\n",
       " 'timestamp': 1535839576,\n",
       " 'subreddit': 'singapore',\n",
       " 'gilded': 0,\n",
       " 'gildings': {'gid_1': 0, 'gid_2': 0, 'gid_3': 0},\n",
       " 'stickied': False,\n",
       " 'author_flair_text': ''}"
      ]
     },
     "execution_count": 10,
     "metadata": {},
     "output_type": "execute_result"
    }
   ],
   "source": [
    "next(corpus.iter_conversations()).meta"
   ]
  },
  {
   "cell_type": "code",
   "execution_count": 11,
   "metadata": {},
   "outputs": [],
   "source": [
    "threads_corpus = corpus.reindex_conversations(new_convo_roots=top_level_utterance_ids, preserve_convo_meta=True,\n",
    "                                             preserve_corpus_meta=False)"
   ]
  },
  {
   "cell_type": "markdown",
   "metadata": {},
   "source": [
    "We will compute features over only the first 10 comments that occur in a thread, for  threads which are at least 10 comments long (controling for thread length in this way). Notice that we set include_root to False as we are interested in comment threads, i.e. threads that begin from a top-level comment, not from the post itself."
   ]
  },
  {
   "cell_type": "code",
   "execution_count": 12,
   "metadata": {},
   "outputs": [
    {
     "data": {
      "text/plain": [
       "Utterance({'obj_type': 'utterance', '_owner': <convokit.model.corpus.Corpus object at 0x133323be0>, 'meta': {'score': 4091, 'top_level_comment': None, 'retrieved_on': 1540057333, 'gilded': 0, 'gildings': {'gid_1': 0, 'gid_2': 0, 'gid_3': 0}, 'subreddit': 'tifu', 'stickied': False, 'permalink': '/r/tifu/comments/9bzh9g/tifu_by_masturbating_with_my_dads_penis/', 'author_flair_text': ''}, '_id': '9bzh9g', 'user': User({'obj_type': 'user', '_owner': <convokit.model.corpus.Corpus object at 0x133323be0>, 'meta': {'num_posts': 1, 'num_comments': 0}, '_id': 'gerbalt', '_name': 'gerbalt'}), 'root': '9bzh9g', 'reply_to': None, 'timestamp': 1535767318, 'text': '[removed]'})"
      ]
     },
     "execution_count": 12,
     "metadata": {},
     "output_type": "execute_result"
    }
   ],
   "source": [
    "corpus.get_utterance('9bzh9g')"
   ]
  },
  {
   "cell_type": "code",
   "execution_count": 13,
   "metadata": {},
   "outputs": [
    {
     "name": "stdout",
     "output_type": "stream",
     "text": [
      "Number of Users: 119889\n",
      "Number of Utterances: 297132\n",
      "Number of Conversations: 8286\n"
     ]
    }
   ],
   "source": [
    "corpus.print_summary_stats()"
   ]
  },
  {
   "cell_type": "code",
   "execution_count": 14,
   "metadata": {},
   "outputs": [
    {
     "name": "stdout",
     "output_type": "stream",
     "text": [
      "Number of Users: 116643\n",
      "Number of Utterances: 288846\n",
      "Number of Conversations: 10000\n"
     ]
    }
   ],
   "source": [
    "threads_corpus.print_summary_stats()"
   ]
  },
  {
   "cell_type": "markdown",
   "metadata": {},
   "source": [
    "The following are threads that come from the /r/canada subreddit. "
   ]
  },
  {
   "cell_type": "markdown",
   "metadata": {},
   "source": [
    "We print the structure of the thread: the reply-structure (where subsequent replies in the comment tree are indented), and the authors of each comment. There are some high-level qualitative differences that you might immediately see; our goal is to automatically extract a superset of these intuitive distinctions. For instance, some threads have a very linear structure, while others are flatter; to capture this difference, we might compute statistics on the distribution of in-degrees of nodes in the reply tree. We also intuit that some conversations involve a few people replying repeatedly to each other, whereas others may involve users stopping by to chime in once and then leaving; we'll later codify this difference via statistics on the indegrees and outdegrees of hypernodes (users)."
   ]
  },
  {
   "cell_type": "code",
   "execution_count": 15,
   "metadata": {},
   "outputs": [],
   "source": [
    "demo_threads = ['e57u6ft', 'e56rtrx']"
   ]
  },
  {
   "cell_type": "code",
   "execution_count": 16,
   "metadata": {},
   "outputs": [
    {
     "name": "stdout",
     "output_type": "stream",
     "text": [
      "45ReasonsWhy\n",
      "    WhatTheFisthatshit\n",
      "        [deleted]\n",
      "            WhatTheFisthatshit\n",
      "                45ReasonsWhy\n",
      "                    WhatTheFisthatshit\n",
      "                        45ReasonsWhy\n",
      "            JamesColesPardon\n",
      "                45ReasonsWhy\n",
      "                    JamesColesPardon\n",
      "        armorkingII\n",
      "    eleven4for20\n",
      "        45ReasonsWhy\n",
      "            ganooosh\n",
      "                45ReasonsWhy\n",
      "                    ganooosh\n",
      "            eleven4for20\n",
      "    CaptainObivous\n",
      "        45ReasonsWhy\n",
      "            eleven4for20\n",
      "                45ReasonsWhy\n",
      "                    eleven4for20\n",
      "                        45ReasonsWhy\n",
      "                            eleven4for20\n",
      "                                45ReasonsWhy\n",
      "                                    eleven4for20\n",
      "                                        45ReasonsWhy\n",
      "                                            eleven4for20\n",
      "                                                45ReasonsWhy\n",
      "                                                    eleven4for20\n",
      "                                            William_Harzia\n",
      "                                                45ReasonsWhy\n",
      "                                                    William_Harzia\n",
      "                                                        [deleted]\n",
      "                                                            [deleted]\n",
      "                                                                JamesColesPardon\n",
      "                                                            JamesColesPardon\n",
      "                                        William_Harzia\n",
      "                            William_Harzia\n",
      "                                45ReasonsWhy\n",
      "                                    [deleted]\n",
      "                                        JamesColesPardon\n",
      "                William_Harzia\n",
      "                    45ReasonsWhy\n",
      "                        William_Harzia\n"
     ]
    }
   ],
   "source": [
    "threads_corpus.get_conversation('e57u6ft').print_conversation_structure()"
   ]
  },
  {
   "cell_type": "code",
   "execution_count": 17,
   "metadata": {},
   "outputs": [
    {
     "name": "stdout",
     "output_type": "stream",
     "text": [
      "Calculated_Lamp\n",
      "    VincentRivera\n",
      "        Calculated_Lamp\n",
      "            VincentRivera\n",
      "            VincentRivera\n",
      "                Calculated_Lamp\n",
      "                    VincentRivera\n",
      "                        Calculated_Lamp\n",
      "                            VincentRivera\n",
      "                                Calculated_Lamp\n",
      "                                    VincentRivera\n",
      "                                    VincentRivera\n",
      "                                        Calculated_Lamp\n",
      "                                            VincentRivera\n"
     ]
    }
   ],
   "source": [
    "threads_corpus.get_conversation('e56rtrx').print_conversation_structure()"
   ]
  },
  {
   "cell_type": "code",
   "execution_count": 18,
   "metadata": {},
   "outputs": [
    {
     "name": "stdout",
     "output_type": "stream",
     "text": [
      "I'm not sure what that code is, but I can get you everything other than the weavile!\n",
      "    Awesome I just added you on DS\n",
      "        Let me find everything and breed you a mon real fast.\n",
      "            Alright sounds good\n",
      "            Do you have the item razor claw?\n",
      "                You can find one... Somewhere.. Idr where. But the weavile i have is for the livingdex.\n",
      "                    Can I just see the weavile? I’ll trade it back \n",
      "                        Oh, that'll work.\n",
      "                            Alright cool, let me know when I should head to plaza \n",
      "                                Your order is ready for pick up! We will trade back the weavile first and then you can keep everything else.\n",
      "                                    Alright sounds good heading to plaza now\n",
      "                                    Thanks a lot man! I really appreciate it. Do you want the Kg code?\n",
      "                                        Sure!\n",
      "                                            PMing code now, thanks again \n"
     ]
    }
   ],
   "source": [
    "threads_corpus.get_conversation('e56rtrx').print_conversation_structure(lambda utt: utt.text)"
   ]
  },
  {
   "cell_type": "markdown",
   "metadata": {},
   "source": [
    "One technical note: Since we don't have access to the author of deleted comments, we make the assumption for now that each deleted comment in a particular thread was written by the same author -- a potential source of noise in the subsequent analyses."
   ]
  },
  {
   "cell_type": "markdown",
   "metadata": {},
   "source": [
    "Typically, to extract hypergraph features, we would simply:"
   ]
  },
  {
   "cell_type": "code",
   "execution_count": null,
   "metadata": {},
   "outputs": [],
   "source": []
  },
  {
   "cell_type": "code",
   "execution_count": 19,
   "metadata": {},
   "outputs": [
    {
     "data": {
      "text/plain": [
       "<convokit.model.corpus.Corpus at 0x13b970d68>"
      ]
     },
     "execution_count": 19,
     "metadata": {},
     "output_type": "execute_result"
    }
   ],
   "source": [
    "# create a hyperconvo object and use it to extract features\n",
    "hc = convokit.HyperConvo(prefix_len=10, min_thread_len=10, include_root=True)\n",
    "hc.fit_transform(threads_corpus)"
   ]
  },
  {
   "cell_type": "code",
   "execution_count": 20,
   "metadata": {},
   "outputs": [
    {
     "data": {
      "text/plain": [
       "{'e5n1yqa': {'max[outdegree over c->c responses]': 1,\n",
       "  'max[indegree over c->c responses]': 5,\n",
       "  'argmax[outdegree over c->c responses]': 1,\n",
       "  'argmax[indegree over c->c responses]': 0,\n",
       "  'norm.max[outdegree over c->c responses]': 0.1111111111111111,\n",
       "  'norm.max[indegree over c->c responses]': 0.5555555555555556,\n",
       "  '2nd-largest[outdegree over c->c responses]': 1,\n",
       "  '2nd-largest[indegree over c->c responses]': 1,\n",
       "  '2nd-argmax[outdegree over c->c responses]': 2,\n",
       "  '2nd-argmax[indegree over c->c responses]': 1,\n",
       "  'norm.2nd-largest[outdegree over c->c responses]': 0.1111111111111111,\n",
       "  'norm.2nd-largest[indegree over c->c responses]': 0.1111111111111111,\n",
       "  'mean[outdegree over c->c responses]': 0.9,\n",
       "  'mean[indegree over c->c responses]': 0.9,\n",
       "  'mean-nonzero[outdegree over c->c responses]': 1.0,\n",
       "  'mean-nonzero[indegree over c->c responses]': 1.8,\n",
       "  'prop-nonzero[outdegree over c->c responses]': 0.9,\n",
       "  'prop-nonzero[indegree over c->c responses]': 0.5,\n",
       "  'prop-multiple[outdegree over c->c responses]': 0.0,\n",
       "  'prop-multiple[indegree over c->c responses]': 0.2,\n",
       "  'entropy[outdegree over c->c responses]': 2.1972245773362196,\n",
       "  'entropy[indegree over c->c responses]': 1.303092403761719,\n",
       "  '2nd-largest / max[outdegree over c->c responses]': 1.0,\n",
       "  '2nd-largest / max[indegree over c->c responses]': 0.2,\n",
       "  'max[outdegree over C->c responses]': 3,\n",
       "  'max[indegree over C->c responses]': 5,\n",
       "  'argmax[outdegree over C->c responses]': 1,\n",
       "  'argmax[indegree over C->c responses]': 0,\n",
       "  'norm.max[outdegree over C->c responses]': 0.3333333333333333,\n",
       "  'norm.max[indegree over C->c responses]': 0.5555555555555556,\n",
       "  '2nd-largest[outdegree over C->c responses]': 1,\n",
       "  '2nd-largest[indegree over C->c responses]': 1,\n",
       "  '2nd-argmax[outdegree over C->c responses]': 0,\n",
       "  '2nd-argmax[indegree over C->c responses]': 1,\n",
       "  'norm.2nd-largest[outdegree over C->c responses]': 0.1111111111111111,\n",
       "  'norm.2nd-largest[indegree over C->c responses]': 0.1111111111111111,\n",
       "  'mean[outdegree over C->c responses]': 1.2857142857142858,\n",
       "  'mean[indegree over C->c responses]': 0.9,\n",
       "  'mean-nonzero[outdegree over C->c responses]': 1.2857142857142858,\n",
       "  'mean-nonzero[indegree over C->c responses]': 1.8,\n",
       "  'prop-nonzero[outdegree over C->c responses]': 1.0,\n",
       "  'prop-nonzero[indegree over C->c responses]': 0.5,\n",
       "  'prop-multiple[outdegree over C->c responses]': 0.14285714285714285,\n",
       "  'prop-multiple[indegree over C->c responses]': 0.2,\n",
       "  'entropy[outdegree over C->c responses]': 1.8310204811135165,\n",
       "  'entropy[indegree over C->c responses]': 1.303092403761719,\n",
       "  '2nd-largest / max[outdegree over C->c responses]': 0.3333333333333333,\n",
       "  '2nd-largest / max[indegree over C->c responses]': 0.2,\n",
       "  'max[outdegree over C->C responses]': 3,\n",
       "  'max[indegree over C->C responses]': 6,\n",
       "  'argmax[outdegree over C->C responses]': 1,\n",
       "  'argmax[indegree over C->C responses]': 0,\n",
       "  'norm.max[outdegree over C->C responses]': 0.3333333333333333,\n",
       "  'norm.max[indegree over C->C responses]': 0.6666666666666666,\n",
       "  '2nd-largest[outdegree over C->C responses]': 1,\n",
       "  '2nd-largest[indegree over C->C responses]': 2,\n",
       "  '2nd-argmax[outdegree over C->C responses]': 0,\n",
       "  '2nd-argmax[indegree over C->C responses]': 1,\n",
       "  'norm.2nd-largest[outdegree over C->C responses]': 0.1111111111111111,\n",
       "  'norm.2nd-largest[indegree over C->C responses]': 0.2222222222222222,\n",
       "  'mean[outdegree over C->C responses]': 1.2857142857142858,\n",
       "  'mean[indegree over C->C responses]': 1.2857142857142858,\n",
       "  'mean-nonzero[outdegree over C->C responses]': 1.2857142857142858,\n",
       "  'mean-nonzero[indegree over C->C responses]': 3.0,\n",
       "  'prop-nonzero[outdegree over C->C responses]': 1.0,\n",
       "  'prop-nonzero[indegree over C->C responses]': 0.42857142857142855,\n",
       "  'prop-multiple[outdegree over C->C responses]': 0.14285714285714285,\n",
       "  'prop-multiple[indegree over C->C responses]': 0.6666666666666666,\n",
       "  'entropy[outdegree over C->C responses]': 1.8310204811135165,\n",
       "  'entropy[indegree over C->C responses]': 0.8486855577264172,\n",
       "  '2nd-largest / max[outdegree over C->C responses]': 0.3333333333333333,\n",
       "  '2nd-largest / max[indegree over C->C responses]': 0.3333333333333333,\n",
       "  'is-present[reciprocity motif]': True,\n",
       "  'count[reciprocity motif]': 2,\n",
       "  'is-present[external reciprocity motif]': True,\n",
       "  'count[external reciprocity motif]': 2,\n",
       "  'is-present[dyadic interaction motif]': True,\n",
       "  'count[dyadic interaction motif]': 6,\n",
       "  'is-present[incoming triads]': True,\n",
       "  'count[incoming triads]': 15,\n",
       "  'is-present[outgoing triads]': True,\n",
       "  'count[outgoing triads]': 20,\n",
       "  'max[outdegree over c->c mid-thread responses]': 1,\n",
       "  'max[indegree over c->c mid-thread responses]': 1,\n",
       "  'argmax[outdegree over c->c mid-thread responses]': 1,\n",
       "  'argmax[indegree over c->c mid-thread responses]': 0,\n",
       "  'norm.max[outdegree over c->c mid-thread responses]': 0.25,\n",
       "  'norm.max[indegree over c->c mid-thread responses]': 0.25,\n",
       "  '2nd-largest[outdegree over c->c mid-thread responses]': 1,\n",
       "  '2nd-largest[indegree over c->c mid-thread responses]': 1,\n",
       "  '2nd-argmax[outdegree over c->c mid-thread responses]': 3,\n",
       "  '2nd-argmax[indegree over c->c mid-thread responses]': 1,\n",
       "  'norm.2nd-largest[outdegree over c->c mid-thread responses]': 0.25,\n",
       "  'norm.2nd-largest[indegree over c->c mid-thread responses]': 0.25,\n",
       "  'mean[outdegree over c->c mid-thread responses]': 0.4444444444444444,\n",
       "  'mean[indegree over c->c mid-thread responses]': 0.4444444444444444,\n",
       "  'mean-nonzero[outdegree over c->c mid-thread responses]': 1.0,\n",
       "  'mean-nonzero[indegree over c->c mid-thread responses]': 1.0,\n",
       "  'prop-nonzero[outdegree over c->c mid-thread responses]': 0.4444444444444444,\n",
       "  'prop-nonzero[indegree over c->c mid-thread responses]': 0.4444444444444444,\n",
       "  'prop-multiple[outdegree over c->c mid-thread responses]': 0.0,\n",
       "  'prop-multiple[indegree over c->c mid-thread responses]': 0.0,\n",
       "  'entropy[outdegree over c->c mid-thread responses]': 1.3862943611198906,\n",
       "  'entropy[indegree over c->c mid-thread responses]': 1.3862943611198906,\n",
       "  '2nd-largest / max[outdegree over c->c mid-thread responses]': 1.0,\n",
       "  '2nd-largest / max[indegree over c->c mid-thread responses]': 1.0,\n",
       "  'max[outdegree over C->c mid-thread responses]': 2,\n",
       "  'max[indegree over C->c mid-thread responses]': 1,\n",
       "  'argmax[outdegree over C->c mid-thread responses]': 0,\n",
       "  'argmax[indegree over C->c mid-thread responses]': 0,\n",
       "  'norm.max[outdegree over C->c mid-thread responses]': 0.5,\n",
       "  'norm.max[indegree over C->c mid-thread responses]': 0.25,\n",
       "  '2nd-largest[outdegree over C->c mid-thread responses]': 1,\n",
       "  '2nd-largest[indegree over C->c mid-thread responses]': 1,\n",
       "  '2nd-argmax[outdegree over C->c mid-thread responses]': 1,\n",
       "  '2nd-argmax[indegree over C->c mid-thread responses]': 1,\n",
       "  'norm.2nd-largest[outdegree over C->c mid-thread responses]': 0.25,\n",
       "  'norm.2nd-largest[indegree over C->c mid-thread responses]': 0.25,\n",
       "  'mean[outdegree over C->c mid-thread responses]': 0.5714285714285714,\n",
       "  'mean[indegree over C->c mid-thread responses]': 0.4444444444444444,\n",
       "  'mean-nonzero[outdegree over C->c mid-thread responses]': 1.3333333333333333,\n",
       "  'mean-nonzero[indegree over C->c mid-thread responses]': 1.0,\n",
       "  'prop-nonzero[outdegree over C->c mid-thread responses]': 0.42857142857142855,\n",
       "  'prop-nonzero[indegree over C->c mid-thread responses]': 0.4444444444444444,\n",
       "  'prop-multiple[outdegree over C->c mid-thread responses]': 0.3333333333333333,\n",
       "  'prop-multiple[indegree over C->c mid-thread responses]': 0.0,\n",
       "  'entropy[outdegree over C->c mid-thread responses]': 1.0397207708399179,\n",
       "  'entropy[indegree over C->c mid-thread responses]': 1.3862943611198906,\n",
       "  '2nd-largest / max[outdegree over C->c mid-thread responses]': 0.5,\n",
       "  '2nd-largest / max[indegree over C->c mid-thread responses]': 1.0,\n",
       "  'max[outdegree over C->C mid-thread responses]': 2,\n",
       "  'max[indegree over C->C mid-thread responses]': 2,\n",
       "  'argmax[outdegree over C->C mid-thread responses]': 0,\n",
       "  'argmax[indegree over C->C mid-thread responses]': 0,\n",
       "  'norm.max[outdegree over C->C mid-thread responses]': 0.5,\n",
       "  'norm.max[indegree over C->C mid-thread responses]': 0.5,\n",
       "  '2nd-largest[outdegree over C->C mid-thread responses]': 1,\n",
       "  '2nd-largest[indegree over C->C mid-thread responses]': 1,\n",
       "  '2nd-argmax[outdegree over C->C mid-thread responses]': 1,\n",
       "  '2nd-argmax[indegree over C->C mid-thread responses]': 1,\n",
       "  'norm.2nd-largest[outdegree over C->C mid-thread responses]': 0.25,\n",
       "  'norm.2nd-largest[indegree over C->C mid-thread responses]': 0.25,\n",
       "  'mean[outdegree over C->C mid-thread responses]': 0.5714285714285714,\n",
       "  'mean[indegree over C->C mid-thread responses]': 0.5714285714285714,\n",
       "  'mean-nonzero[outdegree over C->C mid-thread responses]': 1.3333333333333333,\n",
       "  'mean-nonzero[indegree over C->C mid-thread responses]': 1.3333333333333333,\n",
       "  'prop-nonzero[outdegree over C->C mid-thread responses]': 0.42857142857142855,\n",
       "  'prop-nonzero[indegree over C->C mid-thread responses]': 0.42857142857142855,\n",
       "  'prop-multiple[outdegree over C->C mid-thread responses]': 0.3333333333333333,\n",
       "  'prop-multiple[indegree over C->C mid-thread responses]': 0.3333333333333333,\n",
       "  'entropy[outdegree over C->C mid-thread responses]': 1.0397207708399179,\n",
       "  'entropy[indegree over C->C mid-thread responses]': 1.0397207708399179,\n",
       "  '2nd-largest / max[outdegree over C->C mid-thread responses]': 0.5,\n",
       "  '2nd-largest / max[indegree over C->C mid-thread responses]': 0.5,\n",
       "  'is-present[reciprocity motif over mid-thread]': True,\n",
       "  'count[reciprocity motif over mid-thread]': 2,\n",
       "  'is-present[external reciprocity motif over mid-thread]': True,\n",
       "  'count[external reciprocity motif over mid-thread]': 1,\n",
       "  'is-present[dyadic interaction motif over mid-thread]': True,\n",
       "  'count[dyadic interaction motif over mid-thread]': 4,\n",
       "  'is-present[incoming triads over mid-thread]': True,\n",
       "  'count[incoming triads over mid-thread]': 1,\n",
       "  'is-present[outgoing triads over mid-thread]': True,\n",
       "  'count[outgoing triads over mid-thread]': 8}}"
      ]
     },
     "execution_count": 20,
     "metadata": {},
     "output_type": "execute_result"
    }
   ],
   "source": [
    "convo1 = next(iter(threads_corpus.iter_conversations()))\n",
    "convo1.meta.keys()\n",
    "convo1.meta['hyperconvo']"
   ]
  },
  {
   "cell_type": "markdown",
   "metadata": {},
   "source": [
    "Hyperconvo's fit_transform() method generates features data for each thread (either starting with the post or top-level comment) and stores it in the corresponding Conversation's (which is indexed by post id) metadata. We collect the thread features from each Conversation to do some aggregated analysis."
   ]
  },
  {
   "cell_type": "code",
   "execution_count": 21,
   "metadata": {},
   "outputs": [],
   "source": [
    "threads_feats = dict()\n",
    "\n",
    "for convo in threads_corpus.iter_conversations():\n",
    "    threads_feats.update(convo.meta['hyperconvo'])\n"
   ]
  },
  {
   "cell_type": "code",
   "execution_count": 22,
   "metadata": {},
   "outputs": [],
   "source": [
    "def clean_value(x):\n",
    "    if np.isinf(x) or np.isnan(x):\n",
    "        return -1\n",
    "    return x"
   ]
  },
  {
   "cell_type": "code",
   "execution_count": 23,
   "metadata": {},
   "outputs": [],
   "source": [
    "feat_names = list(next(iter(threads_feats.values())).keys())"
   ]
  },
  {
   "cell_type": "code",
   "execution_count": 24,
   "metadata": {},
   "outputs": [
    {
     "data": {
      "text/plain": [
       "['max[outdegree over c->c responses]',\n",
       " 'max[indegree over c->c responses]',\n",
       " 'argmax[outdegree over c->c responses]',\n",
       " 'argmax[indegree over c->c responses]',\n",
       " 'norm.max[outdegree over c->c responses]',\n",
       " 'norm.max[indegree over c->c responses]',\n",
       " '2nd-largest[outdegree over c->c responses]',\n",
       " '2nd-largest[indegree over c->c responses]',\n",
       " '2nd-argmax[outdegree over c->c responses]',\n",
       " '2nd-argmax[indegree over c->c responses]']"
      ]
     },
     "execution_count": 24,
     "metadata": {},
     "output_type": "execute_result"
    }
   ],
   "source": [
    "feat_names[:10]"
   ]
  },
  {
   "cell_type": "code",
   "execution_count": 25,
   "metadata": {},
   "outputs": [],
   "source": [
    "thread_ids = []\n",
    "feats = []\n",
    "for key, feat_dict in threads_feats.items():\n",
    "    thread_ids.append(key)\n",
    "    feats.append([clean_value(feat_dict[k]) for k in feat_names])"
   ]
  },
  {
   "cell_type": "markdown",
   "metadata": {},
   "source": [
    "For later convenience we will store feature values in a dataframe:"
   ]
  },
  {
   "cell_type": "code",
   "execution_count": 26,
   "metadata": {},
   "outputs": [],
   "source": [
    "feat_df = pd.DataFrame(data=feats, index=thread_ids, columns=feat_names)"
   ]
  },
  {
   "cell_type": "markdown",
   "metadata": {},
   "source": [
    "Here are some examples of features computed over the three example threads from before:"
   ]
  },
  {
   "cell_type": "code",
   "execution_count": 27,
   "metadata": {},
   "outputs": [],
   "source": [
    "C_C_indegree_feats = [x for x in feat_names if 'indegree over C->C responses' in x]\n",
    "C_C_mid_outdegree_feats = [x for x in feat_names if 'outdegree over C->C mid-thread responses' in x]\n",
    "motif_count_feats = [x for x in feat_names if ('count' in x) and ('mid' not in x)]"
   ]
  },
  {
   "cell_type": "markdown",
   "metadata": {},
   "source": [
    "Features derived from the distribution of hypernode to hypernode indegrees (i.e., \"how many other people are responding to a particular discussion participant?\"). As in the paper, we compute various summary statistics over the distribution. \n",
    "\n",
    "As noted at the start of this notebook, since we do not have access to reaction information, these distributions encompass only the reply structure within the thread."
   ]
  },
  {
   "cell_type": "code",
   "execution_count": 28,
   "metadata": {
    "scrolled": true
   },
   "outputs": [
    {
     "data": {
      "text/html": [
       "<div>\n",
       "<style scoped>\n",
       "    .dataframe tbody tr th:only-of-type {\n",
       "        vertical-align: middle;\n",
       "    }\n",
       "\n",
       "    .dataframe tbody tr th {\n",
       "        vertical-align: top;\n",
       "    }\n",
       "\n",
       "    .dataframe thead th {\n",
       "        text-align: right;\n",
       "    }\n",
       "</style>\n",
       "<table border=\"1\" class=\"dataframe\">\n",
       "  <thead>\n",
       "    <tr style=\"text-align: right;\">\n",
       "      <th></th>\n",
       "      <th>e57u6ft</th>\n",
       "      <th>e56rtrx</th>\n",
       "    </tr>\n",
       "  </thead>\n",
       "  <tbody>\n",
       "    <tr>\n",
       "      <th>2nd-argmax[indegree over C-&gt;C responses]</th>\n",
       "      <td>1.000000</td>\n",
       "      <td>1.000000</td>\n",
       "    </tr>\n",
       "    <tr>\n",
       "      <th>2nd-largest / max[indegree over C-&gt;C responses]</th>\n",
       "      <td>0.400000</td>\n",
       "      <td>0.800000</td>\n",
       "    </tr>\n",
       "    <tr>\n",
       "      <th>2nd-largest[indegree over C-&gt;C responses]</th>\n",
       "      <td>2.000000</td>\n",
       "      <td>4.000000</td>\n",
       "    </tr>\n",
       "    <tr>\n",
       "      <th>argmax[indegree over C-&gt;C responses]</th>\n",
       "      <td>0.000000</td>\n",
       "      <td>0.000000</td>\n",
       "    </tr>\n",
       "    <tr>\n",
       "      <th>entropy[indegree over C-&gt;C responses]</th>\n",
       "      <td>1.149060</td>\n",
       "      <td>0.686962</td>\n",
       "    </tr>\n",
       "    <tr>\n",
       "      <th>max[indegree over C-&gt;C responses]</th>\n",
       "      <td>5.000000</td>\n",
       "      <td>5.000000</td>\n",
       "    </tr>\n",
       "    <tr>\n",
       "      <th>mean-nonzero[indegree over C-&gt;C responses]</th>\n",
       "      <td>2.250000</td>\n",
       "      <td>4.500000</td>\n",
       "    </tr>\n",
       "    <tr>\n",
       "      <th>mean[indegree over C-&gt;C responses]</th>\n",
       "      <td>1.500000</td>\n",
       "      <td>4.500000</td>\n",
       "    </tr>\n",
       "    <tr>\n",
       "      <th>norm.2nd-largest[indegree over C-&gt;C responses]</th>\n",
       "      <td>0.222222</td>\n",
       "      <td>0.444444</td>\n",
       "    </tr>\n",
       "    <tr>\n",
       "      <th>norm.max[indegree over C-&gt;C responses]</th>\n",
       "      <td>0.555556</td>\n",
       "      <td>0.555556</td>\n",
       "    </tr>\n",
       "    <tr>\n",
       "      <th>prop-multiple[indegree over C-&gt;C responses]</th>\n",
       "      <td>0.500000</td>\n",
       "      <td>1.000000</td>\n",
       "    </tr>\n",
       "    <tr>\n",
       "      <th>prop-nonzero[indegree over C-&gt;C responses]</th>\n",
       "      <td>0.666667</td>\n",
       "      <td>1.000000</td>\n",
       "    </tr>\n",
       "  </tbody>\n",
       "</table>\n",
       "</div>"
      ],
      "text/plain": [
       "                                                  e57u6ft   e56rtrx\n",
       "2nd-argmax[indegree over C->C responses]         1.000000  1.000000\n",
       "2nd-largest / max[indegree over C->C responses]  0.400000  0.800000\n",
       "2nd-largest[indegree over C->C responses]        2.000000  4.000000\n",
       "argmax[indegree over C->C responses]             0.000000  0.000000\n",
       "entropy[indegree over C->C responses]            1.149060  0.686962\n",
       "max[indegree over C->C responses]                5.000000  5.000000\n",
       "mean-nonzero[indegree over C->C responses]       2.250000  4.500000\n",
       "mean[indegree over C->C responses]               1.500000  4.500000\n",
       "norm.2nd-largest[indegree over C->C responses]   0.222222  0.444444\n",
       "norm.max[indegree over C->C responses]           0.555556  0.555556\n",
       "prop-multiple[indegree over C->C responses]      0.500000  1.000000\n",
       "prop-nonzero[indegree over C->C responses]       0.666667  1.000000"
      ]
     },
     "execution_count": 28,
     "metadata": {},
     "output_type": "execute_result"
    }
   ],
   "source": [
    "feat_df.loc[demo_threads][C_C_indegree_feats].T.sort_index()"
   ]
  },
  {
   "cell_type": "markdown",
   "metadata": {},
   "source": [
    "Features derived from the distribution of hypernode to hypernode outdegrees in the _middle_ of the thread (i.e., \"beyond the root comment, how many other people is each participant responding to?\"). "
   ]
  },
  {
   "cell_type": "code",
   "execution_count": 29,
   "metadata": {},
   "outputs": [
    {
     "data": {
      "text/html": [
       "<div>\n",
       "<style scoped>\n",
       "    .dataframe tbody tr th:only-of-type {\n",
       "        vertical-align: middle;\n",
       "    }\n",
       "\n",
       "    .dataframe tbody tr th {\n",
       "        vertical-align: top;\n",
       "    }\n",
       "\n",
       "    .dataframe thead th {\n",
       "        text-align: right;\n",
       "    }\n",
       "</style>\n",
       "<table border=\"1\" class=\"dataframe\">\n",
       "  <thead>\n",
       "    <tr style=\"text-align: right;\">\n",
       "      <th></th>\n",
       "      <th>e57u6ft</th>\n",
       "      <th>e56rtrx</th>\n",
       "    </tr>\n",
       "  </thead>\n",
       "  <tbody>\n",
       "    <tr>\n",
       "      <th>2nd-argmax[outdegree over C-&gt;C mid-thread responses]</th>\n",
       "      <td>0.000000</td>\n",
       "      <td>1.000000</td>\n",
       "    </tr>\n",
       "    <tr>\n",
       "      <th>2nd-largest / max[outdegree over C-&gt;C mid-thread responses]</th>\n",
       "      <td>0.500000</td>\n",
       "      <td>1.000000</td>\n",
       "    </tr>\n",
       "    <tr>\n",
       "      <th>2nd-largest[outdegree over C-&gt;C mid-thread responses]</th>\n",
       "      <td>1.000000</td>\n",
       "      <td>4.000000</td>\n",
       "    </tr>\n",
       "    <tr>\n",
       "      <th>argmax[outdegree over C-&gt;C mid-thread responses]</th>\n",
       "      <td>3.000000</td>\n",
       "      <td>0.000000</td>\n",
       "    </tr>\n",
       "    <tr>\n",
       "      <th>entropy[outdegree over C-&gt;C mid-thread responses]</th>\n",
       "      <td>1.560710</td>\n",
       "      <td>0.693147</td>\n",
       "    </tr>\n",
       "    <tr>\n",
       "      <th>max[outdegree over C-&gt;C mid-thread responses]</th>\n",
       "      <td>2.000000</td>\n",
       "      <td>4.000000</td>\n",
       "    </tr>\n",
       "    <tr>\n",
       "      <th>mean-nonzero[outdegree over C-&gt;C mid-thread responses]</th>\n",
       "      <td>1.200000</td>\n",
       "      <td>4.000000</td>\n",
       "    </tr>\n",
       "    <tr>\n",
       "      <th>mean[outdegree over C-&gt;C mid-thread responses]</th>\n",
       "      <td>1.000000</td>\n",
       "      <td>4.000000</td>\n",
       "    </tr>\n",
       "    <tr>\n",
       "      <th>norm.2nd-largest[outdegree over C-&gt;C mid-thread responses]</th>\n",
       "      <td>0.166667</td>\n",
       "      <td>0.500000</td>\n",
       "    </tr>\n",
       "    <tr>\n",
       "      <th>norm.max[outdegree over C-&gt;C mid-thread responses]</th>\n",
       "      <td>0.333333</td>\n",
       "      <td>0.500000</td>\n",
       "    </tr>\n",
       "    <tr>\n",
       "      <th>prop-multiple[outdegree over C-&gt;C mid-thread responses]</th>\n",
       "      <td>0.200000</td>\n",
       "      <td>1.000000</td>\n",
       "    </tr>\n",
       "    <tr>\n",
       "      <th>prop-nonzero[outdegree over C-&gt;C mid-thread responses]</th>\n",
       "      <td>0.833333</td>\n",
       "      <td>1.000000</td>\n",
       "    </tr>\n",
       "  </tbody>\n",
       "</table>\n",
       "</div>"
      ],
      "text/plain": [
       "                                                     e57u6ft   e56rtrx\n",
       "2nd-argmax[outdegree over C->C mid-thread respo...  0.000000  1.000000\n",
       "2nd-largest / max[outdegree over C->C mid-threa...  0.500000  1.000000\n",
       "2nd-largest[outdegree over C->C mid-thread resp...  1.000000  4.000000\n",
       "argmax[outdegree over C->C mid-thread responses]    3.000000  0.000000\n",
       "entropy[outdegree over C->C mid-thread responses]   1.560710  0.693147\n",
       "max[outdegree over C->C mid-thread responses]       2.000000  4.000000\n",
       "mean-nonzero[outdegree over C->C mid-thread res...  1.200000  4.000000\n",
       "mean[outdegree over C->C mid-thread responses]      1.000000  4.000000\n",
       "norm.2nd-largest[outdegree over C->C mid-thread...  0.166667  0.500000\n",
       "norm.max[outdegree over C->C mid-thread responses]  0.333333  0.500000\n",
       "prop-multiple[outdegree over C->C mid-thread re...  0.200000  1.000000\n",
       "prop-nonzero[outdegree over C->C mid-thread res...  0.833333  1.000000"
      ]
     },
     "execution_count": 29,
     "metadata": {},
     "output_type": "execute_result"
    }
   ],
   "source": [
    "feat_df.loc[demo_threads][C_C_mid_outdegree_feats].T.sort_index()"
   ]
  },
  {
   "cell_type": "markdown",
   "metadata": {},
   "source": [
    "Features derived from the 5 motifs considered in the paper. Note that because we do not have reply information, we instead take as features _counts_ of each motif (in the paper, we would additionally compare reply or reaction edge types within motifs of a particular form)"
   ]
  },
  {
   "cell_type": "code",
   "execution_count": 30,
   "metadata": {},
   "outputs": [
    {
     "data": {
      "text/html": [
       "<div>\n",
       "<style scoped>\n",
       "    .dataframe tbody tr th:only-of-type {\n",
       "        vertical-align: middle;\n",
       "    }\n",
       "\n",
       "    .dataframe tbody tr th {\n",
       "        vertical-align: top;\n",
       "    }\n",
       "\n",
       "    .dataframe thead th {\n",
       "        text-align: right;\n",
       "    }\n",
       "</style>\n",
       "<table border=\"1\" class=\"dataframe\">\n",
       "  <thead>\n",
       "    <tr style=\"text-align: right;\">\n",
       "      <th></th>\n",
       "      <th>e57u6ft</th>\n",
       "      <th>e56rtrx</th>\n",
       "    </tr>\n",
       "  </thead>\n",
       "  <tbody>\n",
       "    <tr>\n",
       "      <th>count[dyadic interaction motif]</th>\n",
       "      <td>8</td>\n",
       "      <td>40</td>\n",
       "    </tr>\n",
       "    <tr>\n",
       "      <th>count[external reciprocity motif]</th>\n",
       "      <td>3</td>\n",
       "      <td>0</td>\n",
       "    </tr>\n",
       "    <tr>\n",
       "      <th>count[incoming triads]</th>\n",
       "      <td>10</td>\n",
       "      <td>0</td>\n",
       "    </tr>\n",
       "    <tr>\n",
       "      <th>count[outgoing triads]</th>\n",
       "      <td>20</td>\n",
       "      <td>56</td>\n",
       "    </tr>\n",
       "    <tr>\n",
       "      <th>count[reciprocity motif]</th>\n",
       "      <td>3</td>\n",
       "      <td>8</td>\n",
       "    </tr>\n",
       "  </tbody>\n",
       "</table>\n",
       "</div>"
      ],
      "text/plain": [
       "                                   e57u6ft  e56rtrx\n",
       "count[dyadic interaction motif]          8       40\n",
       "count[external reciprocity motif]        3        0\n",
       "count[incoming triads]                  10        0\n",
       "count[outgoing triads]                  20       56\n",
       "count[reciprocity motif]                 3        8"
      ]
     },
     "execution_count": 30,
     "metadata": {},
     "output_type": "execute_result"
    }
   ],
   "source": [
    "feat_df.loc[demo_threads][motif_count_feats].T.sort_index()"
   ]
  },
  {
   "cell_type": "code",
   "execution_count": null,
   "metadata": {},
   "outputs": [],
   "source": []
  },
  {
   "cell_type": "markdown",
   "metadata": {},
   "source": [
    "While the features generated above can be used as is (e.g., as features in a prediction task), we can also interpret them by projecting them into a low-dimensional space. "
   ]
  },
  {
   "cell_type": "code",
   "execution_count": 31,
   "metadata": {},
   "outputs": [],
   "source": [
    "from sklearn.preprocessing import Imputer, Normalizer, StandardScaler\n",
    "from sklearn.decomposition import TruncatedSVD\n",
    "from sklearn.manifold import TSNE\n",
    "from sklearn.metrics.pairwise import pairwise_distances"
   ]
  },
  {
   "cell_type": "code",
   "execution_count": 32,
   "metadata": {},
   "outputs": [],
   "source": [
    "feat_mtx = Imputer(axis=1, missing_values=-1).fit_transform(feat_df.values)\n",
    "feat_mtx = StandardScaler().fit_transform(feat_mtx)"
   ]
  },
  {
   "cell_type": "code",
   "execution_count": 33,
   "metadata": {},
   "outputs": [],
   "source": [
    "svd = TruncatedSVD(n_components=7, algorithm='arpack') # deals with an issue where the randomized alg hangs\n",
    "svd.fit(feat_mtx)\n",
    "U, s, V = svd.transform(feat_mtx) / svd.singular_values_, \\\n",
    "        svd.singular_values_, \\\n",
    "        svd.components_.T"
   ]
  },
  {
   "cell_type": "code",
   "execution_count": 34,
   "metadata": {},
   "outputs": [],
   "source": [
    "U_norm = Normalizer().fit_transform(U)\n",
    "V_norm = Normalizer().fit_transform(V)\n",
    "U_df = pd.DataFrame(data=U_norm, index=feat_df.index)\n",
    "V_df = pd.DataFrame(data=V_norm, index=feat_names)"
   ]
  },
  {
   "cell_type": "markdown",
   "metadata": {},
   "source": [
    "This embedding procedure produces embeddings of threads in the low-dimensional space:"
   ]
  },
  {
   "cell_type": "code",
   "execution_count": 35,
   "metadata": {},
   "outputs": [
    {
     "data": {
      "text/html": [
       "<div>\n",
       "<style scoped>\n",
       "    .dataframe tbody tr th:only-of-type {\n",
       "        vertical-align: middle;\n",
       "    }\n",
       "\n",
       "    .dataframe tbody tr th {\n",
       "        vertical-align: top;\n",
       "    }\n",
       "\n",
       "    .dataframe thead th {\n",
       "        text-align: right;\n",
       "    }\n",
       "</style>\n",
       "<table border=\"1\" class=\"dataframe\">\n",
       "  <thead>\n",
       "    <tr style=\"text-align: right;\">\n",
       "      <th></th>\n",
       "      <th>e57u6ft</th>\n",
       "      <th>e56rtrx</th>\n",
       "    </tr>\n",
       "  </thead>\n",
       "  <tbody>\n",
       "    <tr>\n",
       "      <th>0</th>\n",
       "      <td>-0.088647</td>\n",
       "      <td>0.806072</td>\n",
       "    </tr>\n",
       "    <tr>\n",
       "      <th>1</th>\n",
       "      <td>-0.273370</td>\n",
       "      <td>0.277092</td>\n",
       "    </tr>\n",
       "    <tr>\n",
       "      <th>2</th>\n",
       "      <td>-0.331223</td>\n",
       "      <td>0.064389</td>\n",
       "    </tr>\n",
       "    <tr>\n",
       "      <th>3</th>\n",
       "      <td>0.010179</td>\n",
       "      <td>-0.320063</td>\n",
       "    </tr>\n",
       "    <tr>\n",
       "      <th>4</th>\n",
       "      <td>-0.228808</td>\n",
       "      <td>-0.099435</td>\n",
       "    </tr>\n",
       "    <tr>\n",
       "      <th>5</th>\n",
       "      <td>0.817984</td>\n",
       "      <td>0.370979</td>\n",
       "    </tr>\n",
       "    <tr>\n",
       "      <th>6</th>\n",
       "      <td>-0.293508</td>\n",
       "      <td>0.139169</td>\n",
       "    </tr>\n",
       "  </tbody>\n",
       "</table>\n",
       "</div>"
      ],
      "text/plain": [
       "    e57u6ft   e56rtrx\n",
       "0 -0.088647  0.806072\n",
       "1 -0.273370  0.277092\n",
       "2 -0.331223  0.064389\n",
       "3  0.010179 -0.320063\n",
       "4 -0.228808 -0.099435\n",
       "5  0.817984  0.370979\n",
       "6 -0.293508  0.139169"
      ]
     },
     "execution_count": 35,
     "metadata": {},
     "output_type": "execute_result"
    }
   ],
   "source": [
    "U_df.loc[demo_threads].T"
   ]
  },
  {
   "cell_type": "markdown",
   "metadata": {},
   "source": [
    "As well as embeddings of features:"
   ]
  },
  {
   "cell_type": "code",
   "execution_count": 36,
   "metadata": {},
   "outputs": [
    {
     "data": {
      "text/html": [
       "<div>\n",
       "<style scoped>\n",
       "    .dataframe tbody tr th:only-of-type {\n",
       "        vertical-align: middle;\n",
       "    }\n",
       "\n",
       "    .dataframe tbody tr th {\n",
       "        vertical-align: top;\n",
       "    }\n",
       "\n",
       "    .dataframe thead th {\n",
       "        text-align: right;\n",
       "    }\n",
       "</style>\n",
       "<table border=\"1\" class=\"dataframe\">\n",
       "  <thead>\n",
       "    <tr style=\"text-align: right;\">\n",
       "      <th></th>\n",
       "      <th>0</th>\n",
       "      <th>1</th>\n",
       "      <th>2</th>\n",
       "      <th>3</th>\n",
       "      <th>4</th>\n",
       "      <th>5</th>\n",
       "      <th>6</th>\n",
       "    </tr>\n",
       "  </thead>\n",
       "  <tbody>\n",
       "    <tr>\n",
       "      <th>max[indegree over C-&gt;C responses]</th>\n",
       "      <td>-0.010088</td>\n",
       "      <td>0.814311</td>\n",
       "      <td>0.068376</td>\n",
       "      <td>-0.499500</td>\n",
       "      <td>-0.278673</td>\n",
       "      <td>3.880758e-16</td>\n",
       "      <td>0.070443</td>\n",
       "    </tr>\n",
       "    <tr>\n",
       "      <th>argmax[indegree over C-&gt;C responses]</th>\n",
       "      <td>0.044032</td>\n",
       "      <td>-0.429543</td>\n",
       "      <td>0.492101</td>\n",
       "      <td>-0.421183</td>\n",
       "      <td>0.165972</td>\n",
       "      <td>-3.507549e-16</td>\n",
       "      <td>0.605350</td>\n",
       "    </tr>\n",
       "    <tr>\n",
       "      <th>norm.max[indegree over C-&gt;C responses]</th>\n",
       "      <td>-0.010178</td>\n",
       "      <td>0.814521</td>\n",
       "      <td>0.068524</td>\n",
       "      <td>-0.499718</td>\n",
       "      <td>-0.277601</td>\n",
       "      <td>-1.315863e-16</td>\n",
       "      <td>0.070538</td>\n",
       "    </tr>\n",
       "    <tr>\n",
       "      <th>2nd-largest[indegree over C-&gt;C responses]</th>\n",
       "      <td>0.469681</td>\n",
       "      <td>-0.155418</td>\n",
       "      <td>0.581107</td>\n",
       "      <td>0.058062</td>\n",
       "      <td>-0.282445</td>\n",
       "      <td>1.356716e-15</td>\n",
       "      <td>-0.578285</td>\n",
       "    </tr>\n",
       "    <tr>\n",
       "      <th>2nd-argmax[indegree over C-&gt;C responses]</th>\n",
       "      <td>-0.094130</td>\n",
       "      <td>0.204423</td>\n",
       "      <td>-0.209987</td>\n",
       "      <td>0.679148</td>\n",
       "      <td>-0.444488</td>\n",
       "      <td>1.089557e-15</td>\n",
       "      <td>-0.496433</td>\n",
       "    </tr>\n",
       "    <tr>\n",
       "      <th>norm.2nd-largest[indegree over C-&gt;C responses]</th>\n",
       "      <td>0.261596</td>\n",
       "      <td>0.312169</td>\n",
       "      <td>0.498427</td>\n",
       "      <td>0.611849</td>\n",
       "      <td>-0.387787</td>\n",
       "      <td>1.234810e-16</td>\n",
       "      <td>0.246881</td>\n",
       "    </tr>\n",
       "    <tr>\n",
       "      <th>mean[indegree over C-&gt;C responses]</th>\n",
       "      <td>0.758020</td>\n",
       "      <td>0.519276</td>\n",
       "      <td>0.307346</td>\n",
       "      <td>0.159986</td>\n",
       "      <td>-0.187549</td>\n",
       "      <td>1.322320e-16</td>\n",
       "      <td>0.022956</td>\n",
       "    </tr>\n",
       "    <tr>\n",
       "      <th>mean-nonzero[indegree over C-&gt;C responses]</th>\n",
       "      <td>0.244147</td>\n",
       "      <td>0.783041</td>\n",
       "      <td>0.504977</td>\n",
       "      <td>-0.225701</td>\n",
       "      <td>0.080284</td>\n",
       "      <td>-6.396120e-16</td>\n",
       "      <td>-0.121865</td>\n",
       "    </tr>\n",
       "    <tr>\n",
       "      <th>prop-nonzero[indegree over C-&gt;C responses]</th>\n",
       "      <td>0.819208</td>\n",
       "      <td>-0.257764</td>\n",
       "      <td>-0.447378</td>\n",
       "      <td>0.089340</td>\n",
       "      <td>0.178773</td>\n",
       "      <td>-9.224415e-16</td>\n",
       "      <td>0.149557</td>\n",
       "    </tr>\n",
       "    <tr>\n",
       "      <th>prop-multiple[indegree over C-&gt;C responses]</th>\n",
       "      <td>0.296370</td>\n",
       "      <td>0.195280</td>\n",
       "      <td>0.572270</td>\n",
       "      <td>-0.145871</td>\n",
       "      <td>0.239707</td>\n",
       "      <td>-1.021947e-15</td>\n",
       "      <td>-0.683959</td>\n",
       "    </tr>\n",
       "    <tr>\n",
       "      <th>entropy[indegree over C-&gt;C responses]</th>\n",
       "      <td>-0.144138</td>\n",
       "      <td>-0.729377</td>\n",
       "      <td>-0.295530</td>\n",
       "      <td>0.503588</td>\n",
       "      <td>0.176844</td>\n",
       "      <td>2.788770e-16</td>\n",
       "      <td>0.273898</td>\n",
       "    </tr>\n",
       "    <tr>\n",
       "      <th>2nd-largest / max[indegree over C-&gt;C responses]</th>\n",
       "      <td>0.282248</td>\n",
       "      <td>0.037982</td>\n",
       "      <td>0.538843</td>\n",
       "      <td>0.749920</td>\n",
       "      <td>-0.237563</td>\n",
       "      <td>9.277896e-16</td>\n",
       "      <td>0.098616</td>\n",
       "    </tr>\n",
       "  </tbody>\n",
       "</table>\n",
       "</div>"
      ],
      "text/plain": [
       "                                                        0         1         2  \\\n",
       "max[indegree over C->C responses]               -0.010088  0.814311  0.068376   \n",
       "argmax[indegree over C->C responses]             0.044032 -0.429543  0.492101   \n",
       "norm.max[indegree over C->C responses]          -0.010178  0.814521  0.068524   \n",
       "2nd-largest[indegree over C->C responses]        0.469681 -0.155418  0.581107   \n",
       "2nd-argmax[indegree over C->C responses]        -0.094130  0.204423 -0.209987   \n",
       "norm.2nd-largest[indegree over C->C responses]   0.261596  0.312169  0.498427   \n",
       "mean[indegree over C->C responses]               0.758020  0.519276  0.307346   \n",
       "mean-nonzero[indegree over C->C responses]       0.244147  0.783041  0.504977   \n",
       "prop-nonzero[indegree over C->C responses]       0.819208 -0.257764 -0.447378   \n",
       "prop-multiple[indegree over C->C responses]      0.296370  0.195280  0.572270   \n",
       "entropy[indegree over C->C responses]           -0.144138 -0.729377 -0.295530   \n",
       "2nd-largest / max[indegree over C->C responses]  0.282248  0.037982  0.538843   \n",
       "\n",
       "                                                        3         4  \\\n",
       "max[indegree over C->C responses]               -0.499500 -0.278673   \n",
       "argmax[indegree over C->C responses]            -0.421183  0.165972   \n",
       "norm.max[indegree over C->C responses]          -0.499718 -0.277601   \n",
       "2nd-largest[indegree over C->C responses]        0.058062 -0.282445   \n",
       "2nd-argmax[indegree over C->C responses]         0.679148 -0.444488   \n",
       "norm.2nd-largest[indegree over C->C responses]   0.611849 -0.387787   \n",
       "mean[indegree over C->C responses]               0.159986 -0.187549   \n",
       "mean-nonzero[indegree over C->C responses]      -0.225701  0.080284   \n",
       "prop-nonzero[indegree over C->C responses]       0.089340  0.178773   \n",
       "prop-multiple[indegree over C->C responses]     -0.145871  0.239707   \n",
       "entropy[indegree over C->C responses]            0.503588  0.176844   \n",
       "2nd-largest / max[indegree over C->C responses]  0.749920 -0.237563   \n",
       "\n",
       "                                                            5         6  \n",
       "max[indegree over C->C responses]                3.880758e-16  0.070443  \n",
       "argmax[indegree over C->C responses]            -3.507549e-16  0.605350  \n",
       "norm.max[indegree over C->C responses]          -1.315863e-16  0.070538  \n",
       "2nd-largest[indegree over C->C responses]        1.356716e-15 -0.578285  \n",
       "2nd-argmax[indegree over C->C responses]         1.089557e-15 -0.496433  \n",
       "norm.2nd-largest[indegree over C->C responses]   1.234810e-16  0.246881  \n",
       "mean[indegree over C->C responses]               1.322320e-16  0.022956  \n",
       "mean-nonzero[indegree over C->C responses]      -6.396120e-16 -0.121865  \n",
       "prop-nonzero[indegree over C->C responses]      -9.224415e-16  0.149557  \n",
       "prop-multiple[indegree over C->C responses]     -1.021947e-15 -0.683959  \n",
       "entropy[indegree over C->C responses]            2.788770e-16  0.273898  \n",
       "2nd-largest / max[indegree over C->C responses]  9.277896e-16  0.098616  "
      ]
     },
     "execution_count": 36,
     "metadata": {},
     "output_type": "execute_result"
    }
   ],
   "source": [
    "V_df.loc[C_C_indegree_feats]"
   ]
  },
  {
   "cell_type": "code",
   "execution_count": null,
   "metadata": {},
   "outputs": [],
   "source": []
  },
  {
   "cell_type": "markdown",
   "metadata": {},
   "source": [
    "As in the paper, for further interpretability we can consider embeddings of _communities_ (subreddits, standing for Facebook pages) in terms of the discussions they foster, by averaging the embeddings of all threads in a particular subreddit."
   ]
  },
  {
   "cell_type": "code",
   "execution_count": 37,
   "metadata": {},
   "outputs": [],
   "source": [
    "subreddits = [convo.meta['subreddit'] for convo in threads_corpus.iter_conversations()]"
   ]
  },
  {
   "cell_type": "code",
   "execution_count": 38,
   "metadata": {},
   "outputs": [
    {
     "data": {
      "text/plain": [
       "10000"
      ]
     },
     "execution_count": 38,
     "metadata": {},
     "output_type": "execute_result"
    }
   ],
   "source": [
    "len(subreddits)"
   ]
  },
  {
   "cell_type": "code",
   "execution_count": 39,
   "metadata": {},
   "outputs": [],
   "source": [
    "U_df['subreddit'] = subreddits"
   ]
  },
  {
   "cell_type": "code",
   "execution_count": 40,
   "metadata": {},
   "outputs": [],
   "source": [
    "subreddit_means = U_df.groupby('subreddit').mean()\n",
    "subreddit_df = pd.DataFrame(\n",
    "        data=Normalizer().fit_transform(subreddit_means.values),\n",
    "        index = subreddit_means.index\n",
    "    )"
   ]
  },
  {
   "cell_type": "code",
   "execution_count": null,
   "metadata": {},
   "outputs": [],
   "source": []
  },
  {
   "cell_type": "markdown",
   "metadata": {},
   "source": [
    "First, let's give a rough overview of the space we've sketched out through this procedure, by visualizing the subreddit embeddings using the TSNE algorithm."
   ]
  },
  {
   "cell_type": "code",
   "execution_count": 41,
   "metadata": {},
   "outputs": [],
   "source": [
    "tsne = TSNE(random_state=2018)\n",
    "tsne_df = pd.DataFrame(data=tsne.fit_transform(subreddit_df.values),\n",
    "                      index=subreddit_df.index)"
   ]
  },
  {
   "cell_type": "code",
   "execution_count": 42,
   "metadata": {
    "scrolled": false
   },
   "outputs": [
    {
     "data": {
      "image/png": "[encoded data removed]",
      "text/plain": [
       "<Figure size 720x720 with 1 Axes>"
      ]
     },
     "metadata": {
      "needs_background": "light"
     },
     "output_type": "display_data"
    }
   ],
   "source": [
    "plt.figure(figsize=(10,10))\n",
    "plt.scatter(tsne_df[0].values, tsne_df[1].values)\n",
    "for i, txt in enumerate(tsne_df.index):\n",
    "    plt.annotate(txt, (tsne_df.values[i,0], tsne_df.values[i,1]))\n",
    "plt.show()"
   ]
  },
  {
   "cell_type": "markdown",
   "metadata": {},
   "source": [
    "Looking across this plot, we can spot a few interpretable-looking groupings:"
   ]
  },
  {
   "cell_type": "code",
   "execution_count": 43,
   "metadata": {},
   "outputs": [
    {
     "data": {
      "image/png": "[encoded data removed]",
      "text/plain": [
       "<Figure size 432x288 with 1 Axes>"
      ]
     },
     "metadata": {
      "needs_background": "light"
     },
     "output_type": "display_data"
    }
   ],
   "source": [
    "games = [\"battlefield3\", \"Diablo\", \"DotA2\", \"Guildwars2\", \"leagueoflegends\", \"magicTCG\", \"Minecraft\", \"pokemon\", \"skyrim\", \"starcraft\", \"tf2\", \"wow\"]\n",
    "trade = [\"Dota2Trade\", \"pokemontrades\", \"SteamGameSwap\", \"tf2trade\", \"Random_Acts_Of_Amazon\"]\n",
    "sports = [\"baseball\", \"CFB\", \"hockey\", \"MMA\", \"nba\", \"nfl\", \"soccer\"]\n",
    "\n",
    "link_aggregators = [\"AskReddit\", \"WTF\", \"pics\", \"gifs\", \"aww\", \"funny\", \"todayilearned\",\n",
    "                   \"AdviceAnimals\"]\n",
    "relationships = [\"AskMen\", \"AskWomen\", \"relationships\", \"relationship_advice\", \"OkCupid\"]\n",
    "\n",
    "plt.scatter(tsne_df[0].values, tsne_df[1].values, color=\"#dddddd\")\n",
    "plt.scatter(tsne_df[0].values, tsne_df[1].values, color=[\n",
    "    \"green\" if l in games else\n",
    "    \"gold\" if l in trade else\n",
    "    \"purple\" if l in relationships else\n",
    "    \"red\" if l in link_aggregators else\n",
    "    \"blue\" if l in sports else\n",
    "    \"#00000000\"\n",
    "    for l in tsne_df.index])\n",
    "plt.show()"
   ]
  },
  {
   "cell_type": "markdown",
   "metadata": {},
   "source": [
    "For instance, video games (e.g., tf2, DotA2; red) tend to group together, along with buy-sell subreddits (e.g., tf2trade, Dota2Trade, yellow), subreddits related to relationships (e.g., AskWomen, relationship_advice; green) and large default-subreddit hubs for sharing random links (e.g., pics, AskReddit; purple)."
   ]
  },
  {
   "cell_type": "markdown",
   "metadata": {},
   "source": [
    "There may be other interesting groupings that you may spot as well -- for instance, a vaguely right-wing MensRights cluster (with Libertarian, guns); a rather intriguing cluster consisting of politics, sex, business, etc."
   ]
  },
  {
   "cell_type": "markdown",
   "metadata": {},
   "source": [
    "Some topical groups are more diffuse -- for instance, sports-based subreddits (blue). Perhaps this is a limitation of our representation, or that these subreddits actually foster very different interactional dynamics."
   ]
  },
  {
   "cell_type": "code",
   "execution_count": null,
   "metadata": {},
   "outputs": [],
   "source": []
  },
  {
   "cell_type": "markdown",
   "metadata": {},
   "source": [
    "Another way to delve into these groupings is to look at nearest neighbors of subreddits, in terms of the embedding:"
   ]
  },
  {
   "cell_type": "code",
   "execution_count": 44,
   "metadata": {
    "scrolled": true
   },
   "outputs": [],
   "source": [
    "dists = pairwise_distances(subreddit_df.values, metric='cosine')\n",
    "flat_dists = np.ravel(dists)\n",
    "idx1, idx2 = np.unravel_index(np.arange(len(flat_dists)), dists.shape)\n",
    "pairwise_dist_df = pd.DataFrame.from_dict({'p1': subreddit_df.index[idx1],\n",
    "                                           'p2': subreddit_df.index[idx2],\n",
    "                                           'dist': flat_dists},\n",
    "                                           orient='columns')"
   ]
  },
  {
   "cell_type": "code",
   "execution_count": 45,
   "metadata": {},
   "outputs": [],
   "source": [
    "def print_nearest_neighbors(pairwise_dist_df, \n",
    "                           test_subreddits=[],\n",
    "                           top_N=10):\n",
    "    for subreddit in test_subreddits:\n",
    "        subset_df = pairwise_dist_df[(pairwise_dist_df.p1 == subreddit)\n",
    "                                 & (pairwise_dist_df.p2 != subreddit)]\n",
    "        print(subreddit)\n",
    "        print(subset_df.sort_values('dist')[['p2', 'dist']].head(top_N))\n",
    "        print()"
   ]
  },
  {
   "cell_type": "code",
   "execution_count": 46,
   "metadata": {
    "scrolled": true
   },
   "outputs": [
    {
     "name": "stdout",
     "output_type": "stream",
     "text": [
      "apple\n",
      "                    p2      dist\n",
      "3833  ShingekiNoKyojin  0.004010\n",
      "3810            Diablo  0.007532\n",
      "3888        technology  0.009388\n",
      "3867       motorcycles  0.010527\n",
      "3837             anime  0.016064\n",
      "3803            AskMen  0.016669\n",
      "3896     unitedkingdom  0.017649\n",
      "3881   rupaulsdragrace  0.018588\n",
      "3848            canada  0.020101\n",
      "3871               nfl  0.023324\n",
      "\n",
      "politics\n",
      "               p2      dist\n",
      "7707          CFB  0.023662\n",
      "7727        Music  0.024490\n",
      "7786       soccer  0.030150\n",
      "7704    AskReddit  0.032752\n",
      "7768       movies  0.036983\n",
      "7745        books  0.040169\n",
      "7762  hiphopheads  0.040259\n",
      "7788   technology  0.042632\n",
      "7715       Frugal  0.046624\n",
      "7703       AskMen  0.047569\n",
      "\n",
      "leagueoflegends\n",
      "                 p2      dist\n",
      "6478    programming  0.008092\n",
      "6444       baseball  0.010642\n",
      "6465       magicTCG  0.012683\n",
      "6499            wow  0.013446\n",
      "6411          DotA2  0.014115\n",
      "6457          funny  0.014571\n",
      "6463         hockey  0.015800\n",
      "6451         cringe  0.016418\n",
      "6474           pics  0.018230\n",
      "6493  todayilearned  0.018449\n",
      "\n",
      "AskWomen\n",
      "                  p2      dist\n",
      "545            books  0.020502\n",
      "598        worldnews  0.029443\n",
      "570             news  0.036242\n",
      "504        AskReddit  0.040435\n",
      "584        singapore  0.047229\n",
      "556  fantasyfootball  0.048601\n",
      "577         politics  0.050738\n",
      "539       askscience  0.050820\n",
      "513        Economics  0.059869\n",
      "571              nfl  0.060292\n",
      "\n",
      "Music\n",
      "               p2      dist\n",
      "2786       soccer  0.006612\n",
      "2720  LifeProTips  0.008419\n",
      "2762  hiphopheads  0.008911\n",
      "2768       movies  0.011187\n",
      "2723       Marvel  0.014586\n",
      "2716        Games  0.017321\n",
      "2757        funny  0.019058\n",
      "2721          MMA  0.019921\n",
      "2788   technology  0.023549\n",
      "2777     politics  0.024490\n",
      "\n",
      "pics\n",
      "                 p2      dist\n",
      "7411          DotA2  0.005086\n",
      "7400  AdviceAnimals  0.005570\n",
      "7468         movies  0.007249\n",
      "7451         cringe  0.009221\n",
      "7415         Frugal  0.012566\n",
      "7478    programming  0.012640\n",
      "7492           tifu  0.013263\n",
      "7434  SquaredCircle  0.014104\n",
      "7457          funny  0.014487\n",
      "7442      australia  0.015626\n",
      "\n",
      "australia\n",
      "               p2      dist\n",
      "4265     magicTCG  0.006205\n",
      "4211        DotA2  0.007565\n",
      "4244     baseball  0.011301\n",
      "4249         cars  0.011328\n",
      "4278  programming  0.011465\n",
      "4215       Frugal  0.011640\n",
      "4287    starcraft  0.013809\n",
      "4274         pics  0.015626\n",
      "4269          nba  0.016293\n",
      "4251       cringe  0.019467\n",
      "\n",
      "Random_Acts_Of_Amazon\n",
      "                        p2      dist\n",
      "3230               OkCupid  0.125902\n",
      "3209        DebateReligion  0.165913\n",
      "3254  electronic_cigarette  0.210905\n",
      "3222       MakeupAddiction  0.213302\n",
      "3246              buildapc  0.217117\n",
      "3266     malefashionadvice  0.222464\n",
      "3290             teenagers  0.235873\n",
      "3231               POLITIC  0.255164\n",
      "3229                 NoFap  0.263178\n",
      "3214               Fitness  0.267545\n",
      "\n",
      "Bitcoin\n",
      "              p2      dist\n",
      "650   conspiracy  0.009360\n",
      "661         guns  0.012340\n",
      "648       canada  0.016107\n",
      "619  Libertarian  0.017013\n",
      "649         cars  0.023270\n",
      "618         IAmA  0.024202\n",
      "610       Diablo  0.024971\n",
      "667  motorcycles  0.025564\n",
      "695        trees  0.028236\n",
      "617   Guildwars2  0.030569\n",
      "\n",
      "MensRights\n",
      "               p2      dist\n",
      "2412        Drugs  0.007104\n",
      "2428       Naruto  0.014846\n",
      "2450   conspiracy  0.020365\n",
      "2441      atheism  0.021370\n",
      "2473  photography  0.022025\n",
      "2429        NoFap  0.023242\n",
      "2453         dayz  0.023858\n",
      "2425    Minecraft  0.027445\n",
      "2419  Libertarian  0.027634\n",
      "2410       Diablo  0.031295\n",
      "\n"
     ]
    }
   ],
   "source": [
    "print_nearest_neighbors(pairwise_dist_df, ['apple', 'politics', 'leagueoflegends',\n",
    "                                          'AskWomen', 'Music', 'pics',\n",
    "                                          'australia', 'Random_Acts_Of_Amazon',\n",
    "                                          'Bitcoin', 'MensRights'])"
   ]
  },
  {
   "cell_type": "code",
   "execution_count": null,
   "metadata": {},
   "outputs": [],
   "source": []
  },
  {
   "cell_type": "markdown",
   "metadata": {},
   "source": [
    "We can also try to interpret each dimension of the embedding -- roughly speaking the threads, features and subreddits with extremal values along one dimension could be seen as characterizing a particular \"type\" of discussion, in terms of the discussion structure."
   ]
  },
  {
   "cell_type": "code",
   "execution_count": 47,
   "metadata": {},
   "outputs": [],
   "source": [
    "from IPython.display import display"
   ]
  },
  {
   "cell_type": "code",
   "execution_count": 48,
   "metadata": {},
   "outputs": [],
   "source": [
    "def display_dimension(dim, ascending=True, n=5):\n",
    "    top_threads = U_df.sort_values(dim, ascending=ascending).head(n)\n",
    "    display(top_threads)\n",
    "    display(V_df.sort_values(dim, ascending=ascending).head(n))\n",
    "    display(subreddit_df.sort_values(dim, ascending=ascending).head(n))\n",
    "    return top_threads.index"
   ]
  },
  {
   "cell_type": "code",
   "execution_count": null,
   "metadata": {},
   "outputs": [],
   "source": []
  },
  {
   "cell_type": "markdown",
   "metadata": {
    "collapsed": true
   },
   "source": [
    "For instance, the first latent dimension divides the space of Reddit discussions between focused dialogues involving 2 people who repeatedly interact, and \"expansionary\" threads involving multiple people who generally only engage once (as with the corresponding dimension discussed in the paper, this echoes the contrast explored in papers such as Backstrom et. al, 2013). At the subreddit level, we see a divide between subreddits that are selling things (perhaps the dialogues consist of a buyer and a seller) and large default link-sharing subreddits like AskReddit and pics."
   ]
  },
  {
   "cell_type": "code",
   "execution_count": 49,
   "metadata": {},
   "outputs": [
    {
     "data": {
      "text/html": [
       "<div>\n",
       "<style scoped>\n",
       "    .dataframe tbody tr th:only-of-type {\n",
       "        vertical-align: middle;\n",
       "    }\n",
       "\n",
       "    .dataframe tbody tr th {\n",
       "        vertical-align: top;\n",
       "    }\n",
       "\n",
       "    .dataframe thead th {\n",
       "        text-align: right;\n",
       "    }\n",
       "</style>\n",
       "<table border=\"1\" class=\"dataframe\">\n",
       "  <thead>\n",
       "    <tr style=\"text-align: right;\">\n",
       "      <th></th>\n",
       "      <th>0</th>\n",
       "      <th>1</th>\n",
       "      <th>2</th>\n",
       "      <th>3</th>\n",
       "      <th>4</th>\n",
       "      <th>5</th>\n",
       "      <th>6</th>\n",
       "      <th>subreddit</th>\n",
       "    </tr>\n",
       "  </thead>\n",
       "  <tbody>\n",
       "    <tr>\n",
       "      <th>e6pf15q</th>\n",
       "      <td>-0.676910</td>\n",
       "      <td>0.513559</td>\n",
       "      <td>0.135105</td>\n",
       "      <td>0.020995</td>\n",
       "      <td>-0.176649</td>\n",
       "      <td>0.477303</td>\n",
       "      <td>0.018273</td>\n",
       "      <td>aww</td>\n",
       "    </tr>\n",
       "    <tr>\n",
       "      <th>e68jh0j</th>\n",
       "      <td>-0.673150</td>\n",
       "      <td>0.205326</td>\n",
       "      <td>-0.081431</td>\n",
       "      <td>0.262529</td>\n",
       "      <td>-0.249132</td>\n",
       "      <td>0.589286</td>\n",
       "      <td>0.140830</td>\n",
       "      <td>AdviceAnimals</td>\n",
       "    </tr>\n",
       "    <tr>\n",
       "      <th>e5sph0s</th>\n",
       "      <td>-0.670047</td>\n",
       "      <td>0.168904</td>\n",
       "      <td>-0.041651</td>\n",
       "      <td>0.071364</td>\n",
       "      <td>-0.159275</td>\n",
       "      <td>0.614799</td>\n",
       "      <td>0.335163</td>\n",
       "      <td>politics</td>\n",
       "    </tr>\n",
       "    <tr>\n",
       "      <th>e6oe9ov</th>\n",
       "      <td>-0.668129</td>\n",
       "      <td>0.221475</td>\n",
       "      <td>-0.057966</td>\n",
       "      <td>0.167310</td>\n",
       "      <td>-0.292678</td>\n",
       "      <td>0.610797</td>\n",
       "      <td>0.120279</td>\n",
       "      <td>DotA2</td>\n",
       "    </tr>\n",
       "    <tr>\n",
       "      <th>e62qyda</th>\n",
       "      <td>-0.665638</td>\n",
       "      <td>0.168710</td>\n",
       "      <td>-0.057736</td>\n",
       "      <td>0.149389</td>\n",
       "      <td>-0.194952</td>\n",
       "      <td>0.599169</td>\n",
       "      <td>0.325273</td>\n",
       "      <td>malefashionadvice</td>\n",
       "    </tr>\n",
       "    <tr>\n",
       "      <th>e5bfol4</th>\n",
       "      <td>-0.665490</td>\n",
       "      <td>0.206710</td>\n",
       "      <td>-0.087349</td>\n",
       "      <td>0.131386</td>\n",
       "      <td>-0.265534</td>\n",
       "      <td>0.595448</td>\n",
       "      <td>0.253841</td>\n",
       "      <td>hiphopheads</td>\n",
       "    </tr>\n",
       "    <tr>\n",
       "      <th>e5w7xfe</th>\n",
       "      <td>-0.665245</td>\n",
       "      <td>0.504288</td>\n",
       "      <td>0.184109</td>\n",
       "      <td>0.127815</td>\n",
       "      <td>-0.176953</td>\n",
       "      <td>0.453533</td>\n",
       "      <td>0.126115</td>\n",
       "      <td>gifs</td>\n",
       "    </tr>\n",
       "    <tr>\n",
       "      <th>e6wd02c</th>\n",
       "      <td>-0.665218</td>\n",
       "      <td>0.500760</td>\n",
       "      <td>0.167948</td>\n",
       "      <td>0.022829</td>\n",
       "      <td>-0.198841</td>\n",
       "      <td>0.456615</td>\n",
       "      <td>0.173098</td>\n",
       "      <td>programming</td>\n",
       "    </tr>\n",
       "    <tr>\n",
       "      <th>e5zrsyw</th>\n",
       "      <td>-0.664751</td>\n",
       "      <td>0.235390</td>\n",
       "      <td>-0.045979</td>\n",
       "      <td>0.191575</td>\n",
       "      <td>-0.181374</td>\n",
       "      <td>0.601438</td>\n",
       "      <td>0.263171</td>\n",
       "      <td>pics</td>\n",
       "    </tr>\n",
       "    <tr>\n",
       "      <th>e60eyqo</th>\n",
       "      <td>-0.663093</td>\n",
       "      <td>0.489549</td>\n",
       "      <td>0.145234</td>\n",
       "      <td>0.063059</td>\n",
       "      <td>-0.305893</td>\n",
       "      <td>0.449318</td>\n",
       "      <td>-0.011080</td>\n",
       "      <td>cringe</td>\n",
       "    </tr>\n",
       "  </tbody>\n",
       "</table>\n",
       "</div>"
      ],
      "text/plain": [
       "                0         1         2         3         4         5         6  \\\n",
       "e6pf15q -0.676910  0.513559  0.135105  0.020995 -0.176649  0.477303  0.018273   \n",
       "e68jh0j -0.673150  0.205326 -0.081431  0.262529 -0.249132  0.589286  0.140830   \n",
       "e5sph0s -0.670047  0.168904 -0.041651  0.071364 -0.159275  0.614799  0.335163   \n",
       "e6oe9ov -0.668129  0.221475 -0.057966  0.167310 -0.292678  0.610797  0.120279   \n",
       "e62qyda -0.665638  0.168710 -0.057736  0.149389 -0.194952  0.599169  0.325273   \n",
       "e5bfol4 -0.665490  0.206710 -0.087349  0.131386 -0.265534  0.595448  0.253841   \n",
       "e5w7xfe -0.665245  0.504288  0.184109  0.127815 -0.176953  0.453533  0.126115   \n",
       "e6wd02c -0.665218  0.500760  0.167948  0.022829 -0.198841  0.456615  0.173098   \n",
       "e5zrsyw -0.664751  0.235390 -0.045979  0.191575 -0.181374  0.601438  0.263171   \n",
       "e60eyqo -0.663093  0.489549  0.145234  0.063059 -0.305893  0.449318 -0.011080   \n",
       "\n",
       "                 subreddit  \n",
       "e6pf15q                aww  \n",
       "e68jh0j      AdviceAnimals  \n",
       "e5sph0s           politics  \n",
       "e6oe9ov              DotA2  \n",
       "e62qyda  malefashionadvice  \n",
       "e5bfol4        hiphopheads  \n",
       "e5w7xfe               gifs  \n",
       "e6wd02c        programming  \n",
       "e5zrsyw               pics  \n",
       "e60eyqo             cringe  "
      ]
     },
     "metadata": {},
     "output_type": "display_data"
    },
    {
     "data": {
      "text/html": [
       "<div>\n",
       "<style scoped>\n",
       "    .dataframe tbody tr th:only-of-type {\n",
       "        vertical-align: middle;\n",
       "    }\n",
       "\n",
       "    .dataframe tbody tr th {\n",
       "        vertical-align: top;\n",
       "    }\n",
       "\n",
       "    .dataframe thead th {\n",
       "        text-align: right;\n",
       "    }\n",
       "</style>\n",
       "<table border=\"1\" class=\"dataframe\">\n",
       "  <thead>\n",
       "    <tr style=\"text-align: right;\">\n",
       "      <th></th>\n",
       "      <th>0</th>\n",
       "      <th>1</th>\n",
       "      <th>2</th>\n",
       "      <th>3</th>\n",
       "      <th>4</th>\n",
       "      <th>5</th>\n",
       "      <th>6</th>\n",
       "    </tr>\n",
       "  </thead>\n",
       "  <tbody>\n",
       "    <tr>\n",
       "      <th>entropy[outdegree over C-&gt;C responses]</th>\n",
       "      <td>-0.837535</td>\n",
       "      <td>-0.310345</td>\n",
       "      <td>-0.068431</td>\n",
       "      <td>0.292484</td>\n",
       "      <td>-0.066671</td>\n",
       "      <td>4.020320e-16</td>\n",
       "      <td>0.327944</td>\n",
       "    </tr>\n",
       "    <tr>\n",
       "      <th>entropy[outdegree over C-&gt;c responses]</th>\n",
       "      <td>-0.837461</td>\n",
       "      <td>-0.310452</td>\n",
       "      <td>-0.068466</td>\n",
       "      <td>0.292559</td>\n",
       "      <td>-0.066942</td>\n",
       "      <td>-6.543616e-16</td>\n",
       "      <td>0.327900</td>\n",
       "    </tr>\n",
       "    <tr>\n",
       "      <th>is-present[incoming triads]</th>\n",
       "      <td>-0.681054</td>\n",
       "      <td>-0.547258</td>\n",
       "      <td>-0.298788</td>\n",
       "      <td>-0.296516</td>\n",
       "      <td>0.168066</td>\n",
       "      <td>-6.608444e-16</td>\n",
       "      <td>-0.176726</td>\n",
       "    </tr>\n",
       "    <tr>\n",
       "      <th>norm.max[indegree over c-&gt;c responses]</th>\n",
       "      <td>-0.566925</td>\n",
       "      <td>0.671365</td>\n",
       "      <td>-0.016478</td>\n",
       "      <td>-0.305680</td>\n",
       "      <td>-0.225149</td>\n",
       "      <td>9.227883e-16</td>\n",
       "      <td>0.288897</td>\n",
       "    </tr>\n",
       "    <tr>\n",
       "      <th>norm.max[indegree over C-&gt;c responses]</th>\n",
       "      <td>-0.566925</td>\n",
       "      <td>0.671365</td>\n",
       "      <td>-0.016478</td>\n",
       "      <td>-0.305680</td>\n",
       "      <td>-0.225149</td>\n",
       "      <td>4.713948e-16</td>\n",
       "      <td>0.288897</td>\n",
       "    </tr>\n",
       "    <tr>\n",
       "      <th>max[indegree over C-&gt;c responses]</th>\n",
       "      <td>-0.566925</td>\n",
       "      <td>0.671365</td>\n",
       "      <td>-0.016478</td>\n",
       "      <td>-0.305680</td>\n",
       "      <td>-0.225149</td>\n",
       "      <td>1.704659e-16</td>\n",
       "      <td>0.288897</td>\n",
       "    </tr>\n",
       "    <tr>\n",
       "      <th>max[indegree over c-&gt;c responses]</th>\n",
       "      <td>-0.566925</td>\n",
       "      <td>0.671365</td>\n",
       "      <td>-0.016478</td>\n",
       "      <td>-0.305680</td>\n",
       "      <td>-0.225149</td>\n",
       "      <td>3.209304e-16</td>\n",
       "      <td>0.288897</td>\n",
       "    </tr>\n",
       "    <tr>\n",
       "      <th>count[incoming triads]</th>\n",
       "      <td>-0.519138</td>\n",
       "      <td>0.546624</td>\n",
       "      <td>-0.014263</td>\n",
       "      <td>-0.642434</td>\n",
       "      <td>-0.086717</td>\n",
       "      <td>-4.865928e-16</td>\n",
       "      <td>-0.106078</td>\n",
       "    </tr>\n",
       "    <tr>\n",
       "      <th>is-present[external reciprocity motif]</th>\n",
       "      <td>-0.496799</td>\n",
       "      <td>-0.806630</td>\n",
       "      <td>0.152337</td>\n",
       "      <td>0.104173</td>\n",
       "      <td>-0.229884</td>\n",
       "      <td>6.835983e-16</td>\n",
       "      <td>0.125039</td>\n",
       "    </tr>\n",
       "    <tr>\n",
       "      <th>argmax[outdegree over C-&gt;c responses]</th>\n",
       "      <td>-0.433948</td>\n",
       "      <td>-0.340006</td>\n",
       "      <td>-0.211264</td>\n",
       "      <td>0.794532</td>\n",
       "      <td>-0.011106</td>\n",
       "      <td>3.216984e-15</td>\n",
       "      <td>-0.141589</td>\n",
       "    </tr>\n",
       "  </tbody>\n",
       "</table>\n",
       "</div>"
      ],
      "text/plain": [
       "                                               0         1         2  \\\n",
       "entropy[outdegree over C->C responses] -0.837535 -0.310345 -0.068431   \n",
       "entropy[outdegree over C->c responses] -0.837461 -0.310452 -0.068466   \n",
       "is-present[incoming triads]            -0.681054 -0.547258 -0.298788   \n",
       "norm.max[indegree over c->c responses] -0.566925  0.671365 -0.016478   \n",
       "norm.max[indegree over C->c responses] -0.566925  0.671365 -0.016478   \n",
       "max[indegree over C->c responses]      -0.566925  0.671365 -0.016478   \n",
       "max[indegree over c->c responses]      -0.566925  0.671365 -0.016478   \n",
       "count[incoming triads]                 -0.519138  0.546624 -0.014263   \n",
       "is-present[external reciprocity motif] -0.496799 -0.806630  0.152337   \n",
       "argmax[outdegree over C->c responses]  -0.433948 -0.340006 -0.211264   \n",
       "\n",
       "                                               3         4             5  \\\n",
       "entropy[outdegree over C->C responses]  0.292484 -0.066671  4.020320e-16   \n",
       "entropy[outdegree over C->c responses]  0.292559 -0.066942 -6.543616e-16   \n",
       "is-present[incoming triads]            -0.296516  0.168066 -6.608444e-16   \n",
       "norm.max[indegree over c->c responses] -0.305680 -0.225149  9.227883e-16   \n",
       "norm.max[indegree over C->c responses] -0.305680 -0.225149  4.713948e-16   \n",
       "max[indegree over C->c responses]      -0.305680 -0.225149  1.704659e-16   \n",
       "max[indegree over c->c responses]      -0.305680 -0.225149  3.209304e-16   \n",
       "count[incoming triads]                 -0.642434 -0.086717 -4.865928e-16   \n",
       "is-present[external reciprocity motif]  0.104173 -0.229884  6.835983e-16   \n",
       "argmax[outdegree over C->c responses]   0.794532 -0.011106  3.216984e-15   \n",
       "\n",
       "                                               6  \n",
       "entropy[outdegree over C->C responses]  0.327944  \n",
       "entropy[outdegree over C->c responses]  0.327900  \n",
       "is-present[incoming triads]            -0.176726  \n",
       "norm.max[indegree over c->c responses]  0.288897  \n",
       "norm.max[indegree over C->c responses]  0.288897  \n",
       "max[indegree over C->c responses]       0.288897  \n",
       "max[indegree over c->c responses]       0.288897  \n",
       "count[incoming triads]                 -0.106078  \n",
       "is-present[external reciprocity motif]  0.125039  \n",
       "argmax[outdegree over C->c responses]  -0.141589  "
      ]
     },
     "metadata": {},
     "output_type": "display_data"
    },
    {
     "data": {
      "text/html": [
       "<div>\n",
       "<style scoped>\n",
       "    .dataframe tbody tr th:only-of-type {\n",
       "        vertical-align: middle;\n",
       "    }\n",
       "\n",
       "    .dataframe tbody tr th {\n",
       "        vertical-align: top;\n",
       "    }\n",
       "\n",
       "    .dataframe thead th {\n",
       "        text-align: right;\n",
       "    }\n",
       "</style>\n",
       "<table border=\"1\" class=\"dataframe\">\n",
       "  <thead>\n",
       "    <tr style=\"text-align: right;\">\n",
       "      <th></th>\n",
       "      <th>0</th>\n",
       "      <th>1</th>\n",
       "      <th>2</th>\n",
       "      <th>3</th>\n",
       "      <th>4</th>\n",
       "      <th>5</th>\n",
       "      <th>6</th>\n",
       "    </tr>\n",
       "    <tr>\n",
       "      <th>subreddit</th>\n",
       "      <th></th>\n",
       "      <th></th>\n",
       "      <th></th>\n",
       "      <th></th>\n",
       "      <th></th>\n",
       "      <th></th>\n",
       "      <th></th>\n",
       "    </tr>\n",
       "  </thead>\n",
       "  <tbody>\n",
       "    <tr>\n",
       "      <th>aww</th>\n",
       "      <td>-0.436008</td>\n",
       "      <td>-0.187113</td>\n",
       "      <td>0.151338</td>\n",
       "      <td>0.220955</td>\n",
       "      <td>-0.044660</td>\n",
       "      <td>0.835177</td>\n",
       "      <td>0.060394</td>\n",
       "    </tr>\n",
       "    <tr>\n",
       "      <th>gifs</th>\n",
       "      <td>-0.434951</td>\n",
       "      <td>-0.145487</td>\n",
       "      <td>0.105811</td>\n",
       "      <td>0.147873</td>\n",
       "      <td>-0.065688</td>\n",
       "      <td>0.854305</td>\n",
       "      <td>0.149794</td>\n",
       "    </tr>\n",
       "    <tr>\n",
       "      <th>WTF</th>\n",
       "      <td>-0.410256</td>\n",
       "      <td>-0.201832</td>\n",
       "      <td>0.006689</td>\n",
       "      <td>0.308835</td>\n",
       "      <td>-0.021255</td>\n",
       "      <td>0.826547</td>\n",
       "      <td>0.109081</td>\n",
       "    </tr>\n",
       "    <tr>\n",
       "      <th>MovieDetails</th>\n",
       "      <td>-0.409815</td>\n",
       "      <td>-0.238460</td>\n",
       "      <td>0.083657</td>\n",
       "      <td>0.165325</td>\n",
       "      <td>-0.120067</td>\n",
       "      <td>0.835908</td>\n",
       "      <td>0.166432</td>\n",
       "    </tr>\n",
       "    <tr>\n",
       "      <th>CFB</th>\n",
       "      <td>-0.406538</td>\n",
       "      <td>0.135861</td>\n",
       "      <td>-0.122368</td>\n",
       "      <td>0.024369</td>\n",
       "      <td>-0.083600</td>\n",
       "      <td>0.890267</td>\n",
       "      <td>0.033712</td>\n",
       "    </tr>\n",
       "    <tr>\n",
       "      <th>Games</th>\n",
       "      <td>-0.393495</td>\n",
       "      <td>-0.090076</td>\n",
       "      <td>0.034151</td>\n",
       "      <td>0.201121</td>\n",
       "      <td>-0.062900</td>\n",
       "      <td>0.888665</td>\n",
       "      <td>0.041829</td>\n",
       "    </tr>\n",
       "    <tr>\n",
       "      <th>todayilearned</th>\n",
       "      <td>-0.370940</td>\n",
       "      <td>-0.189056</td>\n",
       "      <td>0.021364</td>\n",
       "      <td>0.204441</td>\n",
       "      <td>-0.026207</td>\n",
       "      <td>0.880650</td>\n",
       "      <td>0.090434</td>\n",
       "    </tr>\n",
       "    <tr>\n",
       "      <th>books</th>\n",
       "      <td>-0.356198</td>\n",
       "      <td>0.163561</td>\n",
       "      <td>-0.117422</td>\n",
       "      <td>0.010358</td>\n",
       "      <td>-0.127080</td>\n",
       "      <td>0.881938</td>\n",
       "      <td>-0.196246</td>\n",
       "    </tr>\n",
       "    <tr>\n",
       "      <th>videos</th>\n",
       "      <td>-0.350425</td>\n",
       "      <td>-0.198201</td>\n",
       "      <td>-0.043168</td>\n",
       "      <td>0.205489</td>\n",
       "      <td>-0.010378</td>\n",
       "      <td>0.887413</td>\n",
       "      <td>0.078871</td>\n",
       "    </tr>\n",
       "    <tr>\n",
       "      <th>funny</th>\n",
       "      <td>-0.346991</td>\n",
       "      <td>-0.150395</td>\n",
       "      <td>0.065075</td>\n",
       "      <td>0.170535</td>\n",
       "      <td>-0.070692</td>\n",
       "      <td>0.904717</td>\n",
       "      <td>0.012348</td>\n",
       "    </tr>\n",
       "  </tbody>\n",
       "</table>\n",
       "</div>"
      ],
      "text/plain": [
       "                      0         1         2         3         4         5  \\\n",
       "subreddit                                                                   \n",
       "aww           -0.436008 -0.187113  0.151338  0.220955 -0.044660  0.835177   \n",
       "gifs          -0.434951 -0.145487  0.105811  0.147873 -0.065688  0.854305   \n",
       "WTF           -0.410256 -0.201832  0.006689  0.308835 -0.021255  0.826547   \n",
       "MovieDetails  -0.409815 -0.238460  0.083657  0.165325 -0.120067  0.835908   \n",
       "CFB           -0.406538  0.135861 -0.122368  0.024369 -0.083600  0.890267   \n",
       "Games         -0.393495 -0.090076  0.034151  0.201121 -0.062900  0.888665   \n",
       "todayilearned -0.370940 -0.189056  0.021364  0.204441 -0.026207  0.880650   \n",
       "books         -0.356198  0.163561 -0.117422  0.010358 -0.127080  0.881938   \n",
       "videos        -0.350425 -0.198201 -0.043168  0.205489 -0.010378  0.887413   \n",
       "funny         -0.346991 -0.150395  0.065075  0.170535 -0.070692  0.904717   \n",
       "\n",
       "                      6  \n",
       "subreddit                \n",
       "aww            0.060394  \n",
       "gifs           0.149794  \n",
       "WTF            0.109081  \n",
       "MovieDetails   0.166432  \n",
       "CFB            0.033712  \n",
       "Games          0.041829  \n",
       "todayilearned  0.090434  \n",
       "books         -0.196246  \n",
       "videos         0.078871  \n",
       "funny          0.012348  "
      ]
     },
     "metadata": {},
     "output_type": "display_data"
    }
   ],
   "source": [
    "top_threads = display_dimension(0, n=10)"
   ]
  },
  {
   "cell_type": "code",
   "execution_count": null,
   "metadata": {},
   "outputs": [],
   "source": []
  }
 ],
 "metadata": {
  "kernelspec": {
   "display_name": "Python 3",
   "language": "python",
   "name": "python3"
  },
  "language_info": {
   "codemirror_mode": {
    "name": "ipython",
    "version": 3
   },
   "file_extension": ".py",
   "mimetype": "text/x-python",
   "name": "python",
   "nbconvert_exporter": "python",
   "pygments_lexer": "ipython3",
   "version": "3.7.3"
  }
 },
 "nbformat": 4,
 "nbformat_minor": 2
}
