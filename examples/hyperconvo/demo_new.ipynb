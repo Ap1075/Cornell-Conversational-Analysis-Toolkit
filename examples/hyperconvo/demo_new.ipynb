{
 "cells": [
  {
   "cell_type": "markdown",
   "metadata": {},
   "source": [
    "This notebook provides examples of how to call the hyperconvo functions from Convokit and perform analyses similar to the ones presented in the corresponding paper (http://www.cs.cornell.edu/~cristian/Patterns_of_participant_interactions.html), which describes the hypergraph methodology for modeling and analyzing online public discussions.\n",
    "\n",
    "Note that due to limitations in what data we can access and distribute, the beta version of the hypergraph methodology presented here currently supports less functionality:\n",
    "\n",
    "* Instead of Facebook data, we release a dataset of discussions from Reddit (the 1000 most recent threads, with at least 10 comments, from 100 highly active subreddits -- more details in the corresponding readme here: https://github.com/CornellNLP/Cornell-Conversational-Analysis-Toolkit/tree/master/datasets/reddit-corpus). For demonstration purposes, we here use a small subset of this dataset (\"reddit-corpus-small\") containing 100 threads per subreddit.\n",
    "* Since Reddit does not provide information on who reacted to (i.e., upvoted) each comment, we are presently unable to support reaction-edges in the hypergraph. As such, we can only compute features over in/outdegree distributions of _reply_-edges, and the feature set derived from motifs in the hypergraph is limited to counts and binary indicators or whether or not a motif is present. We will work  towards supporting reactions as well."
   ]
  },
  {
   "cell_type": "code",
   "execution_count": 1,
   "metadata": {},
   "outputs": [
    {
     "data": {
      "text/plain": [
       "['LICENSE.md',\n",
       " 'convokit',\n",
       " 'hyperconvo_feats.p',\n",
       " 'requirements.txt',\n",
       " 'dist',\n",
       " 'Makefile',\n",
       " 'website',\n",
       " 'datasets',\n",
       " 'tests',\n",
       " 'README.md',\n",
       " 'setup.py',\n",
       " '.gitignore',\n",
       " 'CONTRIBUTING.md',\n",
       " 'examples',\n",
       " 'doc',\n",
       " '.ipynb_checkpoints',\n",
       " 'venv-triadmotif',\n",
       " 'convokit.egg-info',\n",
       " 'venv',\n",
       " '.git',\n",
       " '.idea']"
      ]
     },
     "execution_count": 1,
     "metadata": {},
     "output_type": "execute_result"
    }
   ],
   "source": [
    "import os\n",
    "os.chdir('../..')\n",
    "os.listdir()"
   ]
  },
  {
   "cell_type": "code",
   "execution_count": 2,
   "metadata": {},
   "outputs": [
    {
     "name": "stderr",
     "output_type": "stream",
     "text": [
      "/Library/Frameworks/Python.framework/Versions/3.7/lib/python3.7/site-packages/sklearn/externals/joblib/__init__.py:15: DeprecationWarning: sklearn.externals.joblib is deprecated in 0.21 and will be removed in 0.23. Please import this functionality directly from joblib, which can be installed with: pip install joblib. If this warning is raised when loading pickled models, you may need to re-serialize those models with scikit-learn 0.21+.\n",
      "  warnings.warn(msg, category=DeprecationWarning)\n"
     ]
    }
   ],
   "source": [
    "import convokit"
   ]
  },
  {
   "cell_type": "code",
   "execution_count": 3,
   "metadata": {},
   "outputs": [],
   "source": [
    "%matplotlib inline\n",
    "import matplotlib.pyplot as plt\n",
    "import numpy as np\n",
    "import pandas as pd\n",
    "import warnings\n",
    "warnings.filterwarnings('ignore')"
   ]
  },
  {
   "cell_type": "markdown",
   "metadata": {},
   "source": [
    "First we download the reddit corpus:"
   ]
  },
  {
   "cell_type": "code",
   "execution_count": 4,
   "metadata": {},
   "outputs": [
    {
     "name": "stdout",
     "output_type": "stream",
     "text": [
      "Dataset already exists at /Users/calebchiam/.convokit/downloads/reddit-corpus-small\n"
     ]
    }
   ],
   "source": [
    "corpus = convokit.Corpus(filename=convokit.download(\"reddit-corpus-small\", use_local=True))"
   ]
  },
  {
   "cell_type": "code",
   "execution_count": 5,
   "metadata": {},
   "outputs": [
    {
     "data": {
      "text/plain": [
       "{'subreddit': 'reddit-corpus-small',\n",
       " 'num_posts': 8286,\n",
       " 'num_comments': 288846,\n",
       " 'num_user': 119889}"
      ]
     },
     "execution_count": 5,
     "metadata": {},
     "output_type": "execute_result"
    }
   ],
   "source": [
    "corpus.meta"
   ]
  },
  {
   "cell_type": "code",
   "execution_count": 6,
   "metadata": {},
   "outputs": [
    {
     "name": "stdout",
     "output_type": "stream",
     "text": [
      "Number of Users: 119889\n",
      "Number of Utterances: 297132\n",
      "Number of Conversations: 8286\n"
     ]
    }
   ],
   "source": [
    "corpus.print_summary_stats()"
   ]
  },
  {
   "cell_type": "code",
   "execution_count": 7,
   "metadata": {},
   "outputs": [],
   "source": [
    "top_level_utterance_ids = [utt.id for utt in corpus.iter_utterances() if utt.id == utt.meta['top_level_comment']]"
   ]
  },
  {
   "cell_type": "code",
   "execution_count": 8,
   "metadata": {},
   "outputs": [
    {
     "data": {
      "text/plain": [
       "10000"
      ]
     },
     "execution_count": 8,
     "metadata": {},
     "output_type": "execute_result"
    }
   ],
   "source": [
    "len(top_level_utterance_ids)"
   ]
  },
  {
   "cell_type": "code",
   "execution_count": 9,
   "metadata": {},
   "outputs": [
    {
     "data": {
      "text/plain": [
       "{'subreddit': 'reddit-corpus-small',\n",
       " 'num_posts': 8286,\n",
       " 'num_comments': 288846,\n",
       " 'num_user': 119889}"
      ]
     },
     "execution_count": 9,
     "metadata": {},
     "output_type": "execute_result"
    }
   ],
   "source": [
    "corpus.meta"
   ]
  },
  {
   "cell_type": "code",
   "execution_count": 10,
   "metadata": {},
   "outputs": [
    {
     "data": {
      "text/plain": [
       "{'title': '/r/singapore random discussion and small questions thread for September 02, 2018',\n",
       " 'num_comments': 745,\n",
       " 'domain': 'self.singapore',\n",
       " 'timestamp': 1535839576,\n",
       " 'subreddit': 'singapore',\n",
       " 'gilded': 0,\n",
       " 'gildings': {'gid_1': 0, 'gid_2': 0, 'gid_3': 0},\n",
       " 'stickied': False,\n",
       " 'author_flair_text': ''}"
      ]
     },
     "execution_count": 10,
     "metadata": {},
     "output_type": "execute_result"
    }
   ],
   "source": [
    "next(corpus.iter_conversations()).meta"
   ]
  },
  {
   "cell_type": "code",
   "execution_count": 11,
   "metadata": {},
   "outputs": [],
   "source": [
    "threads_corpus = corpus.reindex_conversations(new_convo_roots=top_level_utterance_ids, \n",
    "                                              preserve_convo_meta=True,\n",
    "                                              preserve_corpus_meta=False)"
   ]
  },
  {
   "cell_type": "markdown",
   "metadata": {},
   "source": [
    "We will compute features over only the first 10 comments that occur in a thread, for  threads which are at least 10 comments long (controling for thread length in this way). Notice that we set include_root to False as we are interested in comment threads, i.e. threads that begin from a top-level comment, not from the post itself."
   ]
  },
  {
   "cell_type": "code",
   "execution_count": 12,
   "metadata": {},
   "outputs": [
    {
     "data": {
      "text/plain": [
       "Utterance({'obj_type': 'utterance', '_owner': <convokit.model.corpus.Corpus object at 0x13583ff60>, 'meta': {'score': 4091, 'top_level_comment': None, 'retrieved_on': 1540057333, 'gilded': 0, 'gildings': {'gid_1': 0, 'gid_2': 0, 'gid_3': 0}, 'subreddit': 'tifu', 'stickied': False, 'permalink': '/r/tifu/comments/9bzh9g/tifu_by_masturbating_with_my_dads_penis/', 'author_flair_text': ''}, '_id': '9bzh9g', 'user': User({'obj_type': 'user', '_owner': <convokit.model.corpus.Corpus object at 0x13583ff60>, 'meta': {'num_posts': 1, 'num_comments': 0}, '_id': 'gerbalt', '_name': 'gerbalt'}), 'root': '9bzh9g', 'reply_to': None, 'timestamp': 1535767318, 'text': '[removed]'})"
      ]
     },
     "execution_count": 12,
     "metadata": {},
     "output_type": "execute_result"
    }
   ],
   "source": [
    "corpus.get_utterance('9bzh9g')"
   ]
  },
  {
   "cell_type": "code",
   "execution_count": 13,
   "metadata": {},
   "outputs": [
    {
     "name": "stdout",
     "output_type": "stream",
     "text": [
      "Number of Users: 119889\n",
      "Number of Utterances: 297132\n",
      "Number of Conversations: 8286\n"
     ]
    }
   ],
   "source": [
    "corpus.print_summary_stats()"
   ]
  },
  {
   "cell_type": "code",
   "execution_count": 14,
   "metadata": {},
   "outputs": [
    {
     "name": "stdout",
     "output_type": "stream",
     "text": [
      "Number of Users: 116643\n",
      "Number of Utterances: 288846\n",
      "Number of Conversations: 10000\n"
     ]
    }
   ],
   "source": [
    "threads_corpus.print_summary_stats()"
   ]
  },
  {
   "cell_type": "markdown",
   "metadata": {},
   "source": [
    "The following are threads that come from the /r/canada subreddit. "
   ]
  },
  {
   "cell_type": "markdown",
   "metadata": {},
   "source": [
    "We print the structure of the thread: the reply-structure (where subsequent replies in the comment tree are indented), and the authors of each comment. There are some high-level qualitative differences that you might immediately see; our goal is to automatically extract a superset of these intuitive distinctions. For instance, some threads have a very linear structure, while others are flatter; to capture this difference, we might compute statistics on the distribution of in-degrees of nodes in the reply tree. We also intuit that some conversations involve a few people replying repeatedly to each other, whereas others may involve users stopping by to chime in once and then leaving; we'll later codify this difference via statistics on the indegrees and outdegrees of hypernodes (users)."
   ]
  },
  {
   "cell_type": "code",
   "execution_count": 15,
   "metadata": {},
   "outputs": [],
   "source": [
    "demo_threads = ['e57u6ft', 'e56rtrx']"
   ]
  },
  {
   "cell_type": "code",
   "execution_count": 16,
   "metadata": {},
   "outputs": [
    {
     "name": "stdout",
     "output_type": "stream",
     "text": [
      "45ReasonsWhy\n",
      "    WhatTheFisthatshit\n",
      "        [deleted]\n",
      "            WhatTheFisthatshit\n",
      "                45ReasonsWhy\n",
      "                    WhatTheFisthatshit\n",
      "                        45ReasonsWhy\n",
      "            JamesColesPardon\n",
      "                45ReasonsWhy\n",
      "                    JamesColesPardon\n",
      "        armorkingII\n",
      "    eleven4for20\n",
      "        45ReasonsWhy\n",
      "            ganooosh\n",
      "                45ReasonsWhy\n",
      "                    ganooosh\n",
      "            eleven4for20\n",
      "    CaptainObivous\n",
      "        45ReasonsWhy\n",
      "            eleven4for20\n",
      "                45ReasonsWhy\n",
      "                    eleven4for20\n",
      "                        45ReasonsWhy\n",
      "                            eleven4for20\n",
      "                                45ReasonsWhy\n",
      "                                    eleven4for20\n",
      "                                        45ReasonsWhy\n",
      "                                            eleven4for20\n",
      "                                                45ReasonsWhy\n",
      "                                                    eleven4for20\n",
      "                                            William_Harzia\n",
      "                                                45ReasonsWhy\n",
      "                                                    William_Harzia\n",
      "                                                        [deleted]\n",
      "                                                            [deleted]\n",
      "                                                                JamesColesPardon\n",
      "                                                            JamesColesPardon\n",
      "                                        William_Harzia\n",
      "                            William_Harzia\n",
      "                                45ReasonsWhy\n",
      "                                    [deleted]\n",
      "                                        JamesColesPardon\n",
      "                William_Harzia\n",
      "                    45ReasonsWhy\n",
      "                        William_Harzia\n"
     ]
    }
   ],
   "source": [
    "threads_corpus.get_conversation('e57u6ft').print_conversation_structure()"
   ]
  },
  {
   "cell_type": "code",
   "execution_count": 17,
   "metadata": {},
   "outputs": [
    {
     "name": "stdout",
     "output_type": "stream",
     "text": [
      "Calculated_Lamp\n",
      "    VincentRivera\n",
      "        Calculated_Lamp\n",
      "            VincentRivera\n",
      "            VincentRivera\n",
      "                Calculated_Lamp\n",
      "                    VincentRivera\n",
      "                        Calculated_Lamp\n",
      "                            VincentRivera\n",
      "                                Calculated_Lamp\n",
      "                                    VincentRivera\n",
      "                                    VincentRivera\n",
      "                                        Calculated_Lamp\n",
      "                                            VincentRivera\n"
     ]
    }
   ],
   "source": [
    "threads_corpus.get_conversation('e56rtrx').print_conversation_structure()"
   ]
  },
  {
   "cell_type": "code",
   "execution_count": 18,
   "metadata": {},
   "outputs": [
    {
     "name": "stdout",
     "output_type": "stream",
     "text": [
      "I'm not sure what that code is, but I can get you everything other than the weavile!\n",
      "    Awesome I just added you on DS\n",
      "        Let me find everything and breed you a mon real fast.\n",
      "            Alright sounds good\n",
      "            Do you have the item razor claw?\n",
      "                You can find one... Somewhere.. Idr where. But the weavile i have is for the livingdex.\n",
      "                    Can I just see the weavile? I’ll trade it back \n",
      "                        Oh, that'll work.\n",
      "                            Alright cool, let me know when I should head to plaza \n",
      "                                Your order is ready for pick up! We will trade back the weavile first and then you can keep everything else.\n",
      "                                    Alright sounds good heading to plaza now\n",
      "                                    Thanks a lot man! I really appreciate it. Do you want the Kg code?\n",
      "                                        Sure!\n",
      "                                            PMing code now, thanks again \n"
     ]
    }
   ],
   "source": [
    "threads_corpus.get_conversation('e56rtrx').print_conversation_structure(lambda utt: utt.text)"
   ]
  },
  {
   "cell_type": "markdown",
   "metadata": {},
   "source": [
    "One technical note: Since we don't have access to the author of deleted comments, we make the assumption for now that each deleted comment in a particular thread was written by the same author -- a potential source of noise in the subsequent analyses."
   ]
  },
  {
   "cell_type": "markdown",
   "metadata": {},
   "source": [
    "Typically, to extract hypergraph features, we would simply:"
   ]
  },
  {
   "cell_type": "code",
   "execution_count": null,
   "metadata": {},
   "outputs": [],
   "source": []
  },
  {
   "cell_type": "code",
   "execution_count": 19,
   "metadata": {},
   "outputs": [
    {
     "data": {
      "text/plain": [
       "<convokit.model.corpus.Corpus at 0x14ef969b0>"
      ]
     },
     "execution_count": 19,
     "metadata": {},
     "output_type": "execute_result"
    }
   ],
   "source": [
    "# create a hyperconvo object and use it to extract features\n",
    "hc = convokit.HyperConvo(prefix_len=10, min_thread_len=10)\n",
    "hc.fit_transform(threads_corpus)"
   ]
  },
  {
   "cell_type": "code",
   "execution_count": 31,
   "metadata": {},
   "outputs": [
    {
     "name": "stdout",
     "output_type": "stream",
     "text": [
      "e5tqq6c\n"
     ]
    },
    {
     "data": {
      "text/plain": [
       "{'max[outdegree over c->c responses]': 1,\n",
       " 'max[indegree over c->c responses]': 2,\n",
       " 'argmax[outdegree over c->c responses]': 1,\n",
       " 'argmax[indegree over c->c responses]': 0,\n",
       " 'norm.max[outdegree over c->c responses]': 0.1111111111111111,\n",
       " 'norm.max[indegree over c->c responses]': 0.2222222222222222,\n",
       " '2nd-largest[outdegree over c->c responses]': 1,\n",
       " '2nd-largest[indegree over c->c responses]': 1,\n",
       " '2nd-argmax[outdegree over c->c responses]': 2,\n",
       " '2nd-argmax[indegree over c->c responses]': 1,\n",
       " 'norm.2nd-largest[outdegree over c->c responses]': 0.1111111111111111,\n",
       " 'norm.2nd-largest[indegree over c->c responses]': 0.1111111111111111,\n",
       " 'mean[outdegree over c->c responses]': 0.9,\n",
       " 'mean[indegree over c->c responses]': 0.9,\n",
       " 'mean-nonzero[outdegree over c->c responses]': 1.0,\n",
       " 'mean-nonzero[indegree over c->c responses]': 1.125,\n",
       " 'prop-nonzero[outdegree over c->c responses]': 0.9,\n",
       " 'prop-nonzero[indegree over c->c responses]': 0.8,\n",
       " 'prop-multiple[outdegree over c->c responses]': 0.0,\n",
       " 'prop-multiple[indegree over c->c responses]': 0.125,\n",
       " 'entropy[outdegree over c->c responses]': 2.1972245773362196,\n",
       " 'entropy[indegree over c->c responses]': 2.04319187054512,\n",
       " '2nd-largest / max[outdegree over c->c responses]': 1.0,\n",
       " '2nd-largest / max[indegree over c->c responses]': 0.5,\n",
       " 'max[outdegree over C->c responses]': 4,\n",
       " 'max[indegree over C->c responses]': 2,\n",
       " 'argmax[outdegree over C->c responses]': 0,\n",
       " 'argmax[indegree over C->c responses]': 0,\n",
       " 'norm.max[outdegree over C->c responses]': 0.4444444444444444,\n",
       " 'norm.max[indegree over C->c responses]': 0.2222222222222222,\n",
       " '2nd-largest[outdegree over C->c responses]': 3,\n",
       " '2nd-largest[indegree over C->c responses]': 1,\n",
       " '2nd-argmax[outdegree over C->c responses]': 1,\n",
       " '2nd-argmax[indegree over C->c responses]': 1,\n",
       " 'norm.2nd-largest[outdegree over C->c responses]': 0.3333333333333333,\n",
       " 'norm.2nd-largest[indegree over C->c responses]': 0.1111111111111111,\n",
       " 'mean[outdegree over C->c responses]': 3.0,\n",
       " 'mean[indegree over C->c responses]': 0.9,\n",
       " 'mean-nonzero[outdegree over C->c responses]': 3.0,\n",
       " 'mean-nonzero[indegree over C->c responses]': 1.125,\n",
       " 'prop-nonzero[outdegree over C->c responses]': 1.0,\n",
       " 'prop-nonzero[indegree over C->c responses]': 0.8,\n",
       " 'prop-multiple[outdegree over C->c responses]': 1.0,\n",
       " 'prop-multiple[indegree over C->c responses]': 0.125,\n",
       " 'entropy[outdegree over C->c responses]': 1.0608569471580214,\n",
       " 'entropy[indegree over C->c responses]': 2.04319187054512,\n",
       " '2nd-largest / max[outdegree over C->c responses]': 0.75,\n",
       " '2nd-largest / max[indegree over C->c responses]': 0.5,\n",
       " 'max[outdegree over C->C responses]': 4,\n",
       " 'max[indegree over C->C responses]': 5,\n",
       " 'argmax[outdegree over C->C responses]': 0,\n",
       " 'argmax[indegree over C->C responses]': 0,\n",
       " 'norm.max[outdegree over C->C responses]': 0.4444444444444444,\n",
       " 'norm.max[indegree over C->C responses]': 0.5555555555555556,\n",
       " '2nd-largest[outdegree over C->C responses]': 3,\n",
       " '2nd-largest[indegree over C->C responses]': 2,\n",
       " '2nd-argmax[outdegree over C->C responses]': 1,\n",
       " '2nd-argmax[indegree over C->C responses]': 1,\n",
       " 'norm.2nd-largest[outdegree over C->C responses]': 0.3333333333333333,\n",
       " 'norm.2nd-largest[indegree over C->C responses]': 0.2222222222222222,\n",
       " 'mean[outdegree over C->C responses]': 3.0,\n",
       " 'mean[indegree over C->C responses]': 3.0,\n",
       " 'mean-nonzero[outdegree over C->C responses]': 3.0,\n",
       " 'mean-nonzero[indegree over C->C responses]': 3.0,\n",
       " 'prop-nonzero[outdegree over C->C responses]': 1.0,\n",
       " 'prop-nonzero[indegree over C->C responses]': 1.0,\n",
       " 'prop-multiple[outdegree over C->C responses]': 1.0,\n",
       " 'prop-multiple[indegree over C->C responses]': 1.0,\n",
       " 'entropy[outdegree over C->C responses]': 1.0608569471580214,\n",
       " 'entropy[indegree over C->C responses]': 0.9950269901795212,\n",
       " '2nd-largest / max[outdegree over C->C responses]': 0.75,\n",
       " '2nd-largest / max[indegree over C->C responses]': 0.4,\n",
       " 'is-present[reciprocity motif]': True,\n",
       " 'count[reciprocity motif]': 7,\n",
       " 'is-present[external reciprocity motif]': False,\n",
       " 'count[external reciprocity motif]': 0,\n",
       " 'is-present[dyadic interaction motif]': True,\n",
       " 'count[dyadic interaction motif]': 20,\n",
       " 'is-present[incoming triads]': True,\n",
       " 'count[incoming triads]': 6,\n",
       " 'is-present[outgoing triads]': True,\n",
       " 'count[outgoing triads]': 43,\n",
       " 'max[outdegree over c->c mid-thread responses]': 1,\n",
       " 'max[indegree over c->c mid-thread responses]': 1,\n",
       " 'argmax[outdegree over c->c mid-thread responses]': 2,\n",
       " 'argmax[indegree over c->c mid-thread responses]': 0,\n",
       " 'norm.max[outdegree over c->c mid-thread responses]': 0.14285714285714285,\n",
       " 'norm.max[indegree over c->c mid-thread responses]': 0.14285714285714285,\n",
       " '2nd-largest[outdegree over c->c mid-thread responses]': 1,\n",
       " '2nd-largest[indegree over c->c mid-thread responses]': 1,\n",
       " '2nd-argmax[outdegree over c->c mid-thread responses]': 3,\n",
       " '2nd-argmax[indegree over c->c mid-thread responses]': 1,\n",
       " 'norm.2nd-largest[outdegree over c->c mid-thread responses]': 0.14285714285714285,\n",
       " 'norm.2nd-largest[indegree over c->c mid-thread responses]': 0.14285714285714285,\n",
       " 'mean[outdegree over c->c mid-thread responses]': 0.7777777777777778,\n",
       " 'mean[indegree over c->c mid-thread responses]': 0.7777777777777778,\n",
       " 'mean-nonzero[outdegree over c->c mid-thread responses]': 1.0,\n",
       " 'mean-nonzero[indegree over c->c mid-thread responses]': 1.0,\n",
       " 'prop-nonzero[outdegree over c->c mid-thread responses]': 0.7777777777777778,\n",
       " 'prop-nonzero[indegree over c->c mid-thread responses]': 0.7777777777777778,\n",
       " 'prop-multiple[outdegree over c->c mid-thread responses]': 0.0,\n",
       " 'prop-multiple[indegree over c->c mid-thread responses]': 0.0,\n",
       " 'entropy[outdegree over c->c mid-thread responses]': 1.9459101490553132,\n",
       " 'entropy[indegree over c->c mid-thread responses]': 1.9459101490553132,\n",
       " '2nd-largest / max[outdegree over c->c mid-thread responses]': 1.0,\n",
       " '2nd-largest / max[indegree over c->c mid-thread responses]': 1.0,\n",
       " 'max[outdegree over C->c mid-thread responses]': 4,\n",
       " 'max[indegree over C->c mid-thread responses]': 1,\n",
       " 'argmax[outdegree over C->c mid-thread responses]': 2,\n",
       " 'argmax[indegree over C->c mid-thread responses]': 0,\n",
       " 'norm.max[outdegree over C->c mid-thread responses]': 0.5714285714285714,\n",
       " 'norm.max[indegree over C->c mid-thread responses]': 0.14285714285714285,\n",
       " '2nd-largest[outdegree over C->c mid-thread responses]': 2,\n",
       " '2nd-largest[indegree over C->c mid-thread responses]': 1,\n",
       " '2nd-argmax[outdegree over C->c mid-thread responses]': 0,\n",
       " '2nd-argmax[indegree over C->c mid-thread responses]': 1,\n",
       " 'norm.2nd-largest[outdegree over C->c mid-thread responses]': 0.2857142857142857,\n",
       " 'norm.2nd-largest[indegree over C->c mid-thread responses]': 0.14285714285714285,\n",
       " 'mean[outdegree over C->c mid-thread responses]': 2.3333333333333335,\n",
       " 'mean[indegree over C->c mid-thread responses]': 0.7777777777777778,\n",
       " 'mean-nonzero[outdegree over C->c mid-thread responses]': 2.3333333333333335,\n",
       " 'mean-nonzero[indegree over C->c mid-thread responses]': 1.0,\n",
       " 'prop-nonzero[outdegree over C->c mid-thread responses]': 1.0,\n",
       " 'prop-nonzero[indegree over C->c mid-thread responses]': 0.7777777777777778,\n",
       " 'prop-multiple[outdegree over C->c mid-thread responses]': 0.6666666666666666,\n",
       " 'prop-multiple[indegree over C->c mid-thread responses]': 0.0,\n",
       " 'entropy[outdegree over C->c mid-thread responses]': 0.9556998911125343,\n",
       " 'entropy[indegree over C->c mid-thread responses]': 1.9459101490553132,\n",
       " '2nd-largest / max[outdegree over C->c mid-thread responses]': 0.5,\n",
       " '2nd-largest / max[indegree over C->c mid-thread responses]': 1.0,\n",
       " 'max[outdegree over C->C mid-thread responses]': 4,\n",
       " 'max[indegree over C->C mid-thread responses]': 3,\n",
       " 'argmax[outdegree over C->C mid-thread responses]': 2,\n",
       " 'argmax[indegree over C->C mid-thread responses]': 2,\n",
       " 'norm.max[outdegree over C->C mid-thread responses]': 0.5714285714285714,\n",
       " 'norm.max[indegree over C->C mid-thread responses]': 0.42857142857142855,\n",
       " '2nd-largest[outdegree over C->C mid-thread responses]': 2,\n",
       " '2nd-largest[indegree over C->C mid-thread responses]': 2,\n",
       " '2nd-argmax[outdegree over C->C mid-thread responses]': 0,\n",
       " '2nd-argmax[indegree over C->C mid-thread responses]': 0,\n",
       " 'norm.2nd-largest[outdegree over C->C mid-thread responses]': 0.2857142857142857,\n",
       " 'norm.2nd-largest[indegree over C->C mid-thread responses]': 0.2857142857142857,\n",
       " 'mean[outdegree over C->C mid-thread responses]': 2.3333333333333335,\n",
       " 'mean[indegree over C->C mid-thread responses]': 2.3333333333333335,\n",
       " 'mean-nonzero[outdegree over C->C mid-thread responses]': 2.3333333333333335,\n",
       " 'mean-nonzero[indegree over C->C mid-thread responses]': 2.3333333333333335,\n",
       " 'prop-nonzero[outdegree over C->C mid-thread responses]': 1.0,\n",
       " 'prop-nonzero[indegree over C->C mid-thread responses]': 1.0,\n",
       " 'prop-multiple[outdegree over C->C mid-thread responses]': 0.6666666666666666,\n",
       " 'prop-multiple[indegree over C->C mid-thread responses]': 1.0,\n",
       " 'entropy[outdegree over C->C mid-thread responses]': 0.9556998911125343,\n",
       " 'entropy[indegree over C->C mid-thread responses]': 1.0789922078775833,\n",
       " '2nd-largest / max[outdegree over C->C mid-thread responses]': 0.5,\n",
       " '2nd-largest / max[indegree over C->C mid-thread responses]': 0.6666666666666666,\n",
       " 'is-present[reciprocity motif over mid-thread]': True,\n",
       " 'count[reciprocity motif over mid-thread]': 5,\n",
       " 'is-present[external reciprocity motif over mid-thread]': False,\n",
       " 'count[external reciprocity motif over mid-thread]': 0,\n",
       " 'is-present[dyadic interaction motif over mid-thread]': True,\n",
       " 'count[dyadic interaction motif over mid-thread]': 12,\n",
       " 'is-present[incoming triads over mid-thread]': True,\n",
       " 'count[incoming triads over mid-thread]': 2,\n",
       " 'is-present[outgoing triads over mid-thread]': True,\n",
       " 'count[outgoing triads over mid-thread]': 32}"
      ]
     },
     "execution_count": 31,
     "metadata": {},
     "output_type": "execute_result"
    }
   ],
   "source": [
    "convo1 = next(threads_corpus.iter_conversations())\n",
    "print(convo1.id)\n",
    "convo1.meta['hyperconvo']"
   ]
  },
  {
   "cell_type": "markdown",
   "metadata": {},
   "source": [
    "Hyperconvo's fit_transform() method generates features data for each thread (either starting with the post or top-level comment) and stores it in the corresponding Conversation's (which is indexed by post id) metadata. We collect the thread features from each Conversation to do some aggregated analysis."
   ]
  },
  {
   "cell_type": "code",
   "execution_count": 32,
   "metadata": {},
   "outputs": [],
   "source": [
    "threads_feats = dict()\n",
    "\n",
    "for convo in threads_corpus.iter_conversations():\n",
    "    threads_feats[convo.id] = convo.meta['hyperconvo']"
   ]
  },
  {
   "cell_type": "code",
   "execution_count": 33,
   "metadata": {},
   "outputs": [],
   "source": [
    "def clean_value(x):\n",
    "    if np.isinf(x) or np.isnan(x):\n",
    "        return -1\n",
    "    return x"
   ]
  },
  {
   "cell_type": "code",
   "execution_count": 34,
   "metadata": {},
   "outputs": [],
   "source": [
    "feat_names = list(next(iter(threads_feats.values())).keys())"
   ]
  },
  {
   "cell_type": "code",
   "execution_count": 35,
   "metadata": {},
   "outputs": [
    {
     "data": {
      "text/plain": [
       "['max[outdegree over c->c responses]',\n",
       " 'max[indegree over c->c responses]',\n",
       " 'argmax[outdegree over c->c responses]',\n",
       " 'argmax[indegree over c->c responses]',\n",
       " 'norm.max[outdegree over c->c responses]',\n",
       " 'norm.max[indegree over c->c responses]',\n",
       " '2nd-largest[outdegree over c->c responses]',\n",
       " '2nd-largest[indegree over c->c responses]',\n",
       " '2nd-argmax[outdegree over c->c responses]',\n",
       " '2nd-argmax[indegree over c->c responses]']"
      ]
     },
     "execution_count": 35,
     "metadata": {},
     "output_type": "execute_result"
    }
   ],
   "source": [
    "feat_names[:10]"
   ]
  },
  {
   "cell_type": "code",
   "execution_count": 36,
   "metadata": {},
   "outputs": [],
   "source": [
    "thread_ids = []\n",
    "feats = []\n",
    "for key, feat_dict in threads_feats.items():\n",
    "    thread_ids.append(key)\n",
    "    feats.append([clean_value(feat_dict[k]) for k in feat_names])"
   ]
  },
  {
   "cell_type": "markdown",
   "metadata": {},
   "source": [
    "For later convenience we will store feature values in a dataframe:"
   ]
  },
  {
   "cell_type": "code",
   "execution_count": 37,
   "metadata": {},
   "outputs": [],
   "source": [
    "feat_df = pd.DataFrame(data=feats, index=thread_ids, columns=feat_names)"
   ]
  },
  {
   "cell_type": "markdown",
   "metadata": {},
   "source": [
    "Here are some examples of features computed over the three example threads from before:"
   ]
  },
  {
   "cell_type": "code",
   "execution_count": 38,
   "metadata": {},
   "outputs": [],
   "source": [
    "C_C_indegree_feats = [x for x in feat_names if 'indegree over C->C responses' in x]\n",
    "C_C_mid_outdegree_feats = [x for x in feat_names if 'outdegree over C->C mid-thread responses' in x]\n",
    "motif_count_feats = [x for x in feat_names if ('count' in x) and ('mid' not in x)]"
   ]
  },
  {
   "cell_type": "markdown",
   "metadata": {},
   "source": [
    "Features derived from the distribution of hypernode to hypernode indegrees (i.e., \"how many other people are responding to a particular discussion participant?\"). As in the paper, we compute various summary statistics over the distribution. \n",
    "\n",
    "As noted at the start of this notebook, since we do not have access to reaction information, these distributions encompass only the reply structure within the thread."
   ]
  },
  {
   "cell_type": "code",
   "execution_count": 39,
   "metadata": {
    "scrolled": true
   },
   "outputs": [
    {
     "data": {
      "text/html": [
       "<div>\n",
       "<style scoped>\n",
       "    .dataframe tbody tr th:only-of-type {\n",
       "        vertical-align: middle;\n",
       "    }\n",
       "\n",
       "    .dataframe tbody tr th {\n",
       "        vertical-align: top;\n",
       "    }\n",
       "\n",
       "    .dataframe thead th {\n",
       "        text-align: right;\n",
       "    }\n",
       "</style>\n",
       "<table border=\"1\" class=\"dataframe\">\n",
       "  <thead>\n",
       "    <tr style=\"text-align: right;\">\n",
       "      <th></th>\n",
       "      <th>e57u6ft</th>\n",
       "      <th>e56rtrx</th>\n",
       "    </tr>\n",
       "  </thead>\n",
       "  <tbody>\n",
       "    <tr>\n",
       "      <th>2nd-argmax[indegree over C-&gt;C responses]</th>\n",
       "      <td>1.000000</td>\n",
       "      <td>1.000000</td>\n",
       "    </tr>\n",
       "    <tr>\n",
       "      <th>2nd-largest / max[indegree over C-&gt;C responses]</th>\n",
       "      <td>0.400000</td>\n",
       "      <td>0.800000</td>\n",
       "    </tr>\n",
       "    <tr>\n",
       "      <th>2nd-largest[indegree over C-&gt;C responses]</th>\n",
       "      <td>2.000000</td>\n",
       "      <td>4.000000</td>\n",
       "    </tr>\n",
       "    <tr>\n",
       "      <th>argmax[indegree over C-&gt;C responses]</th>\n",
       "      <td>0.000000</td>\n",
       "      <td>0.000000</td>\n",
       "    </tr>\n",
       "    <tr>\n",
       "      <th>entropy[indegree over C-&gt;C responses]</th>\n",
       "      <td>1.149060</td>\n",
       "      <td>0.686962</td>\n",
       "    </tr>\n",
       "    <tr>\n",
       "      <th>max[indegree over C-&gt;C responses]</th>\n",
       "      <td>5.000000</td>\n",
       "      <td>5.000000</td>\n",
       "    </tr>\n",
       "    <tr>\n",
       "      <th>mean-nonzero[indegree over C-&gt;C responses]</th>\n",
       "      <td>2.250000</td>\n",
       "      <td>4.500000</td>\n",
       "    </tr>\n",
       "    <tr>\n",
       "      <th>mean[indegree over C-&gt;C responses]</th>\n",
       "      <td>1.500000</td>\n",
       "      <td>4.500000</td>\n",
       "    </tr>\n",
       "    <tr>\n",
       "      <th>norm.2nd-largest[indegree over C-&gt;C responses]</th>\n",
       "      <td>0.222222</td>\n",
       "      <td>0.444444</td>\n",
       "    </tr>\n",
       "    <tr>\n",
       "      <th>norm.max[indegree over C-&gt;C responses]</th>\n",
       "      <td>0.555556</td>\n",
       "      <td>0.555556</td>\n",
       "    </tr>\n",
       "    <tr>\n",
       "      <th>prop-multiple[indegree over C-&gt;C responses]</th>\n",
       "      <td>0.500000</td>\n",
       "      <td>1.000000</td>\n",
       "    </tr>\n",
       "    <tr>\n",
       "      <th>prop-nonzero[indegree over C-&gt;C responses]</th>\n",
       "      <td>0.666667</td>\n",
       "      <td>1.000000</td>\n",
       "    </tr>\n",
       "  </tbody>\n",
       "</table>\n",
       "</div>"
      ],
      "text/plain": [
       "                                                  e57u6ft   e56rtrx\n",
       "2nd-argmax[indegree over C->C responses]         1.000000  1.000000\n",
       "2nd-largest / max[indegree over C->C responses]  0.400000  0.800000\n",
       "2nd-largest[indegree over C->C responses]        2.000000  4.000000\n",
       "argmax[indegree over C->C responses]             0.000000  0.000000\n",
       "entropy[indegree over C->C responses]            1.149060  0.686962\n",
       "max[indegree over C->C responses]                5.000000  5.000000\n",
       "mean-nonzero[indegree over C->C responses]       2.250000  4.500000\n",
       "mean[indegree over C->C responses]               1.500000  4.500000\n",
       "norm.2nd-largest[indegree over C->C responses]   0.222222  0.444444\n",
       "norm.max[indegree over C->C responses]           0.555556  0.555556\n",
       "prop-multiple[indegree over C->C responses]      0.500000  1.000000\n",
       "prop-nonzero[indegree over C->C responses]       0.666667  1.000000"
      ]
     },
     "execution_count": 39,
     "metadata": {},
     "output_type": "execute_result"
    }
   ],
   "source": [
    "feat_df.loc[demo_threads][C_C_indegree_feats].T.sort_index()"
   ]
  },
  {
   "cell_type": "markdown",
   "metadata": {},
   "source": [
    "Features derived from the distribution of hypernode to hypernode outdegrees in the _middle_ of the thread (i.e., \"beyond the root comment, how many other people is each participant responding to?\"). "
   ]
  },
  {
   "cell_type": "code",
   "execution_count": 40,
   "metadata": {},
   "outputs": [
    {
     "data": {
      "text/html": [
       "<div>\n",
       "<style scoped>\n",
       "    .dataframe tbody tr th:only-of-type {\n",
       "        vertical-align: middle;\n",
       "    }\n",
       "\n",
       "    .dataframe tbody tr th {\n",
       "        vertical-align: top;\n",
       "    }\n",
       "\n",
       "    .dataframe thead th {\n",
       "        text-align: right;\n",
       "    }\n",
       "</style>\n",
       "<table border=\"1\" class=\"dataframe\">\n",
       "  <thead>\n",
       "    <tr style=\"text-align: right;\">\n",
       "      <th></th>\n",
       "      <th>e57u6ft</th>\n",
       "      <th>e56rtrx</th>\n",
       "    </tr>\n",
       "  </thead>\n",
       "  <tbody>\n",
       "    <tr>\n",
       "      <th>2nd-argmax[outdegree over C-&gt;C mid-thread responses]</th>\n",
       "      <td>0.000000</td>\n",
       "      <td>1.000000</td>\n",
       "    </tr>\n",
       "    <tr>\n",
       "      <th>2nd-largest / max[outdegree over C-&gt;C mid-thread responses]</th>\n",
       "      <td>0.500000</td>\n",
       "      <td>1.000000</td>\n",
       "    </tr>\n",
       "    <tr>\n",
       "      <th>2nd-largest[outdegree over C-&gt;C mid-thread responses]</th>\n",
       "      <td>1.000000</td>\n",
       "      <td>4.000000</td>\n",
       "    </tr>\n",
       "    <tr>\n",
       "      <th>argmax[outdegree over C-&gt;C mid-thread responses]</th>\n",
       "      <td>3.000000</td>\n",
       "      <td>0.000000</td>\n",
       "    </tr>\n",
       "    <tr>\n",
       "      <th>entropy[outdegree over C-&gt;C mid-thread responses]</th>\n",
       "      <td>1.560710</td>\n",
       "      <td>0.693147</td>\n",
       "    </tr>\n",
       "    <tr>\n",
       "      <th>max[outdegree over C-&gt;C mid-thread responses]</th>\n",
       "      <td>2.000000</td>\n",
       "      <td>4.000000</td>\n",
       "    </tr>\n",
       "    <tr>\n",
       "      <th>mean-nonzero[outdegree over C-&gt;C mid-thread responses]</th>\n",
       "      <td>1.200000</td>\n",
       "      <td>4.000000</td>\n",
       "    </tr>\n",
       "    <tr>\n",
       "      <th>mean[outdegree over C-&gt;C mid-thread responses]</th>\n",
       "      <td>1.000000</td>\n",
       "      <td>4.000000</td>\n",
       "    </tr>\n",
       "    <tr>\n",
       "      <th>norm.2nd-largest[outdegree over C-&gt;C mid-thread responses]</th>\n",
       "      <td>0.166667</td>\n",
       "      <td>0.500000</td>\n",
       "    </tr>\n",
       "    <tr>\n",
       "      <th>norm.max[outdegree over C-&gt;C mid-thread responses]</th>\n",
       "      <td>0.333333</td>\n",
       "      <td>0.500000</td>\n",
       "    </tr>\n",
       "    <tr>\n",
       "      <th>prop-multiple[outdegree over C-&gt;C mid-thread responses]</th>\n",
       "      <td>0.200000</td>\n",
       "      <td>1.000000</td>\n",
       "    </tr>\n",
       "    <tr>\n",
       "      <th>prop-nonzero[outdegree over C-&gt;C mid-thread responses]</th>\n",
       "      <td>0.833333</td>\n",
       "      <td>1.000000</td>\n",
       "    </tr>\n",
       "  </tbody>\n",
       "</table>\n",
       "</div>"
      ],
      "text/plain": [
       "                                                     e57u6ft   e56rtrx\n",
       "2nd-argmax[outdegree over C->C mid-thread respo...  0.000000  1.000000\n",
       "2nd-largest / max[outdegree over C->C mid-threa...  0.500000  1.000000\n",
       "2nd-largest[outdegree over C->C mid-thread resp...  1.000000  4.000000\n",
       "argmax[outdegree over C->C mid-thread responses]    3.000000  0.000000\n",
       "entropy[outdegree over C->C mid-thread responses]   1.560710  0.693147\n",
       "max[outdegree over C->C mid-thread responses]       2.000000  4.000000\n",
       "mean-nonzero[outdegree over C->C mid-thread res...  1.200000  4.000000\n",
       "mean[outdegree over C->C mid-thread responses]      1.000000  4.000000\n",
       "norm.2nd-largest[outdegree over C->C mid-thread...  0.166667  0.500000\n",
       "norm.max[outdegree over C->C mid-thread responses]  0.333333  0.500000\n",
       "prop-multiple[outdegree over C->C mid-thread re...  0.200000  1.000000\n",
       "prop-nonzero[outdegree over C->C mid-thread res...  0.833333  1.000000"
      ]
     },
     "execution_count": 40,
     "metadata": {},
     "output_type": "execute_result"
    }
   ],
   "source": [
    "feat_df.loc[demo_threads][C_C_mid_outdegree_feats].T.sort_index()"
   ]
  },
  {
   "cell_type": "markdown",
   "metadata": {},
   "source": [
    "Features derived from the 5 motifs considered in the paper. Note that because we do not have reply information, we instead take as features _counts_ of each motif (in the paper, we would additionally compare reply or reaction edge types within motifs of a particular form)"
   ]
  },
  {
   "cell_type": "code",
   "execution_count": 41,
   "metadata": {},
   "outputs": [
    {
     "data": {
      "text/html": [
       "<div>\n",
       "<style scoped>\n",
       "    .dataframe tbody tr th:only-of-type {\n",
       "        vertical-align: middle;\n",
       "    }\n",
       "\n",
       "    .dataframe tbody tr th {\n",
       "        vertical-align: top;\n",
       "    }\n",
       "\n",
       "    .dataframe thead th {\n",
       "        text-align: right;\n",
       "    }\n",
       "</style>\n",
       "<table border=\"1\" class=\"dataframe\">\n",
       "  <thead>\n",
       "    <tr style=\"text-align: right;\">\n",
       "      <th></th>\n",
       "      <th>e57u6ft</th>\n",
       "      <th>e56rtrx</th>\n",
       "    </tr>\n",
       "  </thead>\n",
       "  <tbody>\n",
       "    <tr>\n",
       "      <th>count[dyadic interaction motif]</th>\n",
       "      <td>8</td>\n",
       "      <td>40</td>\n",
       "    </tr>\n",
       "    <tr>\n",
       "      <th>count[external reciprocity motif]</th>\n",
       "      <td>3</td>\n",
       "      <td>0</td>\n",
       "    </tr>\n",
       "    <tr>\n",
       "      <th>count[incoming triads]</th>\n",
       "      <td>10</td>\n",
       "      <td>0</td>\n",
       "    </tr>\n",
       "    <tr>\n",
       "      <th>count[outgoing triads]</th>\n",
       "      <td>20</td>\n",
       "      <td>56</td>\n",
       "    </tr>\n",
       "    <tr>\n",
       "      <th>count[reciprocity motif]</th>\n",
       "      <td>3</td>\n",
       "      <td>8</td>\n",
       "    </tr>\n",
       "  </tbody>\n",
       "</table>\n",
       "</div>"
      ],
      "text/plain": [
       "                                   e57u6ft  e56rtrx\n",
       "count[dyadic interaction motif]          8       40\n",
       "count[external reciprocity motif]        3        0\n",
       "count[incoming triads]                  10        0\n",
       "count[outgoing triads]                  20       56\n",
       "count[reciprocity motif]                 3        8"
      ]
     },
     "execution_count": 41,
     "metadata": {},
     "output_type": "execute_result"
    }
   ],
   "source": [
    "feat_df.loc[demo_threads][motif_count_feats].T.sort_index()"
   ]
  },
  {
   "cell_type": "code",
   "execution_count": null,
   "metadata": {},
   "outputs": [],
   "source": []
  },
  {
   "cell_type": "markdown",
   "metadata": {},
   "source": [
    "While the features generated above can be used as is (e.g., as features in a prediction task), we can also interpret them by projecting them into a low-dimensional space. "
   ]
  },
  {
   "cell_type": "code",
   "execution_count": 42,
   "metadata": {},
   "outputs": [],
   "source": [
    "from sklearn.preprocessing import Imputer, Normalizer, StandardScaler\n",
    "from sklearn.decomposition import TruncatedSVD\n",
    "from sklearn.manifold import TSNE\n",
    "from sklearn.metrics.pairwise import pairwise_distances"
   ]
  },
  {
   "cell_type": "code",
   "execution_count": 43,
   "metadata": {},
   "outputs": [],
   "source": [
    "feat_mtx = Imputer(axis=1, missing_values=-1).fit_transform(feat_df.values)\n",
    "feat_mtx = StandardScaler().fit_transform(feat_mtx)"
   ]
  },
  {
   "cell_type": "code",
   "execution_count": 44,
   "metadata": {},
   "outputs": [],
   "source": [
    "svd = TruncatedSVD(n_components=7, algorithm='arpack') # deals with an issue where the randomized alg hangs\n",
    "svd.fit(feat_mtx)\n",
    "U, s, V = svd.transform(feat_mtx) / svd.singular_values_, \\\n",
    "        svd.singular_values_, \\\n",
    "        svd.components_.T"
   ]
  },
  {
   "cell_type": "code",
   "execution_count": 45,
   "metadata": {},
   "outputs": [],
   "source": [
    "U_norm = Normalizer().fit_transform(U)\n",
    "V_norm = Normalizer().fit_transform(V)\n",
    "U_df = pd.DataFrame(data=U_norm, index=feat_df.index)\n",
    "V_df = pd.DataFrame(data=V_norm, index=feat_names)"
   ]
  },
  {
   "cell_type": "markdown",
   "metadata": {},
   "source": [
    "This embedding procedure produces embeddings of threads in the low-dimensional space:"
   ]
  },
  {
   "cell_type": "code",
   "execution_count": 46,
   "metadata": {},
   "outputs": [
    {
     "data": {
      "text/html": [
       "<div>\n",
       "<style scoped>\n",
       "    .dataframe tbody tr th:only-of-type {\n",
       "        vertical-align: middle;\n",
       "    }\n",
       "\n",
       "    .dataframe tbody tr th {\n",
       "        vertical-align: top;\n",
       "    }\n",
       "\n",
       "    .dataframe thead th {\n",
       "        text-align: right;\n",
       "    }\n",
       "</style>\n",
       "<table border=\"1\" class=\"dataframe\">\n",
       "  <thead>\n",
       "    <tr style=\"text-align: right;\">\n",
       "      <th></th>\n",
       "      <th>e57u6ft</th>\n",
       "      <th>e56rtrx</th>\n",
       "    </tr>\n",
       "  </thead>\n",
       "  <tbody>\n",
       "    <tr>\n",
       "      <th>0</th>\n",
       "      <td>-0.088677</td>\n",
       "      <td>0.806050</td>\n",
       "    </tr>\n",
       "    <tr>\n",
       "      <th>1</th>\n",
       "      <td>-0.273518</td>\n",
       "      <td>0.277063</td>\n",
       "    </tr>\n",
       "    <tr>\n",
       "      <th>2</th>\n",
       "      <td>-0.331288</td>\n",
       "      <td>0.064271</td>\n",
       "    </tr>\n",
       "    <tr>\n",
       "      <th>3</th>\n",
       "      <td>0.010620</td>\n",
       "      <td>-0.319820</td>\n",
       "    </tr>\n",
       "    <tr>\n",
       "      <th>4</th>\n",
       "      <td>-0.228262</td>\n",
       "      <td>-0.100508</td>\n",
       "    </tr>\n",
       "    <tr>\n",
       "      <th>5</th>\n",
       "      <td>0.818166</td>\n",
       "      <td>0.370970</td>\n",
       "    </tr>\n",
       "    <tr>\n",
       "      <th>6</th>\n",
       "      <td>-0.293192</td>\n",
       "      <td>0.139225</td>\n",
       "    </tr>\n",
       "  </tbody>\n",
       "</table>\n",
       "</div>"
      ],
      "text/plain": [
       "    e57u6ft   e56rtrx\n",
       "0 -0.088677  0.806050\n",
       "1 -0.273518  0.277063\n",
       "2 -0.331288  0.064271\n",
       "3  0.010620 -0.319820\n",
       "4 -0.228262 -0.100508\n",
       "5  0.818166  0.370970\n",
       "6 -0.293192  0.139225"
      ]
     },
     "execution_count": 46,
     "metadata": {},
     "output_type": "execute_result"
    }
   ],
   "source": [
    "U_df.loc[demo_threads].T"
   ]
  },
  {
   "cell_type": "markdown",
   "metadata": {},
   "source": [
    "As well as embeddings of features:"
   ]
  },
  {
   "cell_type": "code",
   "execution_count": 47,
   "metadata": {},
   "outputs": [
    {
     "data": {
      "text/html": [
       "<div>\n",
       "<style scoped>\n",
       "    .dataframe tbody tr th:only-of-type {\n",
       "        vertical-align: middle;\n",
       "    }\n",
       "\n",
       "    .dataframe tbody tr th {\n",
       "        vertical-align: top;\n",
       "    }\n",
       "\n",
       "    .dataframe thead th {\n",
       "        text-align: right;\n",
       "    }\n",
       "</style>\n",
       "<table border=\"1\" class=\"dataframe\">\n",
       "  <thead>\n",
       "    <tr style=\"text-align: right;\">\n",
       "      <th></th>\n",
       "      <th>0</th>\n",
       "      <th>1</th>\n",
       "      <th>2</th>\n",
       "      <th>3</th>\n",
       "      <th>4</th>\n",
       "      <th>5</th>\n",
       "      <th>6</th>\n",
       "    </tr>\n",
       "  </thead>\n",
       "  <tbody>\n",
       "    <tr>\n",
       "      <th>max[indegree over C-&gt;C responses]</th>\n",
       "      <td>-0.010176</td>\n",
       "      <td>0.814420</td>\n",
       "      <td>0.068212</td>\n",
       "      <td>-0.498906</td>\n",
       "      <td>-0.279352</td>\n",
       "      <td>-1.664888e-15</td>\n",
       "      <td>0.070851</td>\n",
       "    </tr>\n",
       "    <tr>\n",
       "      <th>argmax[indegree over C-&gt;C responses]</th>\n",
       "      <td>0.044059</td>\n",
       "      <td>-0.429385</td>\n",
       "      <td>0.492341</td>\n",
       "      <td>-0.421685</td>\n",
       "      <td>0.165102</td>\n",
       "      <td>-1.496037e-16</td>\n",
       "      <td>0.605154</td>\n",
       "    </tr>\n",
       "    <tr>\n",
       "      <th>norm.max[indegree over C-&gt;C responses]</th>\n",
       "      <td>-0.010176</td>\n",
       "      <td>0.814420</td>\n",
       "      <td>0.068212</td>\n",
       "      <td>-0.498906</td>\n",
       "      <td>-0.279352</td>\n",
       "      <td>-4.330048e-16</td>\n",
       "      <td>0.070851</td>\n",
       "    </tr>\n",
       "    <tr>\n",
       "      <th>2nd-largest[indegree over C-&gt;C responses]</th>\n",
       "      <td>0.469645</td>\n",
       "      <td>-0.155363</td>\n",
       "      <td>0.581198</td>\n",
       "      <td>0.058324</td>\n",
       "      <td>-0.282490</td>\n",
       "      <td>-1.062762e-16</td>\n",
       "      <td>-0.578189</td>\n",
       "    </tr>\n",
       "    <tr>\n",
       "      <th>2nd-argmax[indegree over C-&gt;C responses]</th>\n",
       "      <td>-0.094144</td>\n",
       "      <td>0.204436</td>\n",
       "      <td>-0.209726</td>\n",
       "      <td>0.679796</td>\n",
       "      <td>-0.442599</td>\n",
       "      <td>3.147402e-16</td>\n",
       "      <td>-0.497334</td>\n",
       "    </tr>\n",
       "    <tr>\n",
       "      <th>norm.2nd-largest[indegree over C-&gt;C responses]</th>\n",
       "      <td>0.261596</td>\n",
       "      <td>0.312127</td>\n",
       "      <td>0.498232</td>\n",
       "      <td>0.612863</td>\n",
       "      <td>-0.386409</td>\n",
       "      <td>-9.842089e-16</td>\n",
       "      <td>0.246976</td>\n",
       "    </tr>\n",
       "    <tr>\n",
       "      <th>mean[indegree over C-&gt;C responses]</th>\n",
       "      <td>0.758007</td>\n",
       "      <td>0.519280</td>\n",
       "      <td>0.307164</td>\n",
       "      <td>0.160468</td>\n",
       "      <td>-0.187467</td>\n",
       "      <td>-1.055740e-16</td>\n",
       "      <td>0.023028</td>\n",
       "    </tr>\n",
       "    <tr>\n",
       "      <th>mean-nonzero[indegree over C-&gt;C responses]</th>\n",
       "      <td>0.243937</td>\n",
       "      <td>0.783255</td>\n",
       "      <td>0.504716</td>\n",
       "      <td>-0.226005</td>\n",
       "      <td>0.080205</td>\n",
       "      <td>2.967199e-16</td>\n",
       "      <td>-0.121474</td>\n",
       "    </tr>\n",
       "    <tr>\n",
       "      <th>prop-nonzero[indegree over C-&gt;C responses]</th>\n",
       "      <td>0.819252</td>\n",
       "      <td>-0.257745</td>\n",
       "      <td>-0.447276</td>\n",
       "      <td>0.089023</td>\n",
       "      <td>0.179290</td>\n",
       "      <td>-2.197834e-16</td>\n",
       "      <td>0.149221</td>\n",
       "    </tr>\n",
       "    <tr>\n",
       "      <th>prop-multiple[indegree over C-&gt;C responses]</th>\n",
       "      <td>0.296374</td>\n",
       "      <td>0.195397</td>\n",
       "      <td>0.572402</td>\n",
       "      <td>-0.146769</td>\n",
       "      <td>0.238655</td>\n",
       "      <td>1.559582e-15</td>\n",
       "      <td>-0.683989</td>\n",
       "    </tr>\n",
       "    <tr>\n",
       "      <th>entropy[indegree over C-&gt;C responses]</th>\n",
       "      <td>-0.144156</td>\n",
       "      <td>-0.729401</td>\n",
       "      <td>-0.295306</td>\n",
       "      <td>0.503135</td>\n",
       "      <td>0.178803</td>\n",
       "      <td>1.524680e-15</td>\n",
       "      <td>0.273627</td>\n",
       "    </tr>\n",
       "    <tr>\n",
       "      <th>2nd-largest / max[indegree over C-&gt;C responses]</th>\n",
       "      <td>0.282255</td>\n",
       "      <td>0.038027</td>\n",
       "      <td>0.538791</td>\n",
       "      <td>0.750532</td>\n",
       "      <td>-0.235731</td>\n",
       "      <td>-9.221173e-16</td>\n",
       "      <td>0.098603</td>\n",
       "    </tr>\n",
       "  </tbody>\n",
       "</table>\n",
       "</div>"
      ],
      "text/plain": [
       "                                                        0         1         2  \\\n",
       "max[indegree over C->C responses]               -0.010176  0.814420  0.068212   \n",
       "argmax[indegree over C->C responses]             0.044059 -0.429385  0.492341   \n",
       "norm.max[indegree over C->C responses]          -0.010176  0.814420  0.068212   \n",
       "2nd-largest[indegree over C->C responses]        0.469645 -0.155363  0.581198   \n",
       "2nd-argmax[indegree over C->C responses]        -0.094144  0.204436 -0.209726   \n",
       "norm.2nd-largest[indegree over C->C responses]   0.261596  0.312127  0.498232   \n",
       "mean[indegree over C->C responses]               0.758007  0.519280  0.307164   \n",
       "mean-nonzero[indegree over C->C responses]       0.243937  0.783255  0.504716   \n",
       "prop-nonzero[indegree over C->C responses]       0.819252 -0.257745 -0.447276   \n",
       "prop-multiple[indegree over C->C responses]      0.296374  0.195397  0.572402   \n",
       "entropy[indegree over C->C responses]           -0.144156 -0.729401 -0.295306   \n",
       "2nd-largest / max[indegree over C->C responses]  0.282255  0.038027  0.538791   \n",
       "\n",
       "                                                        3         4  \\\n",
       "max[indegree over C->C responses]               -0.498906 -0.279352   \n",
       "argmax[indegree over C->C responses]            -0.421685  0.165102   \n",
       "norm.max[indegree over C->C responses]          -0.498906 -0.279352   \n",
       "2nd-largest[indegree over C->C responses]        0.058324 -0.282490   \n",
       "2nd-argmax[indegree over C->C responses]         0.679796 -0.442599   \n",
       "norm.2nd-largest[indegree over C->C responses]   0.612863 -0.386409   \n",
       "mean[indegree over C->C responses]               0.160468 -0.187467   \n",
       "mean-nonzero[indegree over C->C responses]      -0.226005  0.080205   \n",
       "prop-nonzero[indegree over C->C responses]       0.089023  0.179290   \n",
       "prop-multiple[indegree over C->C responses]     -0.146769  0.238655   \n",
       "entropy[indegree over C->C responses]            0.503135  0.178803   \n",
       "2nd-largest / max[indegree over C->C responses]  0.750532 -0.235731   \n",
       "\n",
       "                                                            5         6  \n",
       "max[indegree over C->C responses]               -1.664888e-15  0.070851  \n",
       "argmax[indegree over C->C responses]            -1.496037e-16  0.605154  \n",
       "norm.max[indegree over C->C responses]          -4.330048e-16  0.070851  \n",
       "2nd-largest[indegree over C->C responses]       -1.062762e-16 -0.578189  \n",
       "2nd-argmax[indegree over C->C responses]         3.147402e-16 -0.497334  \n",
       "norm.2nd-largest[indegree over C->C responses]  -9.842089e-16  0.246976  \n",
       "mean[indegree over C->C responses]              -1.055740e-16  0.023028  \n",
       "mean-nonzero[indegree over C->C responses]       2.967199e-16 -0.121474  \n",
       "prop-nonzero[indegree over C->C responses]      -2.197834e-16  0.149221  \n",
       "prop-multiple[indegree over C->C responses]      1.559582e-15 -0.683989  \n",
       "entropy[indegree over C->C responses]            1.524680e-15  0.273627  \n",
       "2nd-largest / max[indegree over C->C responses] -9.221173e-16  0.098603  "
      ]
     },
     "execution_count": 47,
     "metadata": {},
     "output_type": "execute_result"
    }
   ],
   "source": [
    "V_df.loc[C_C_indegree_feats]"
   ]
  },
  {
   "cell_type": "code",
   "execution_count": 50,
   "metadata": {},
   "outputs": [
    {
     "data": {
      "text/plain": [
       "{'original_convo_meta': {'title': 'A Certain Magical Index II: Episode 2 Discussion',\n",
       "  'num_comments': 74,\n",
       "  'domain': 'self.anime',\n",
       "  'timestamp': 1536699599,\n",
       "  'subreddit': 'anime',\n",
       "  'gilded': 0,\n",
       "  'gildings': {'gid_1': 0, 'gid_2': 0, 'gid_3': 0},\n",
       "  'stickied': False,\n",
       "  'author_flair_text': 'http://myanimelist.net/animelist/Razorhat'},\n",
       " 'original_convo_id': '9f1bwc',\n",
       " 'hyperconvo': {'max[outdegree over c->c responses]': 1,\n",
       "  'max[indegree over c->c responses]': 2,\n",
       "  'argmax[outdegree over c->c responses]': 1,\n",
       "  'argmax[indegree over c->c responses]': 0,\n",
       "  'norm.max[outdegree over c->c responses]': 0.1111111111111111,\n",
       "  'norm.max[indegree over c->c responses]': 0.2222222222222222,\n",
       "  '2nd-largest[outdegree over c->c responses]': 1,\n",
       "  '2nd-largest[indegree over c->c responses]': 1,\n",
       "  '2nd-argmax[outdegree over c->c responses]': 2,\n",
       "  '2nd-argmax[indegree over c->c responses]': 1,\n",
       "  'norm.2nd-largest[outdegree over c->c responses]': 0.1111111111111111,\n",
       "  'norm.2nd-largest[indegree over c->c responses]': 0.1111111111111111,\n",
       "  'mean[outdegree over c->c responses]': 0.9,\n",
       "  'mean[indegree over c->c responses]': 0.9,\n",
       "  'mean-nonzero[outdegree over c->c responses]': 1.0,\n",
       "  'mean-nonzero[indegree over c->c responses]': 1.125,\n",
       "  'prop-nonzero[outdegree over c->c responses]': 0.9,\n",
       "  'prop-nonzero[indegree over c->c responses]': 0.8,\n",
       "  'prop-multiple[outdegree over c->c responses]': 0.0,\n",
       "  'prop-multiple[indegree over c->c responses]': 0.125,\n",
       "  'entropy[outdegree over c->c responses]': 2.1972245773362196,\n",
       "  'entropy[indegree over c->c responses]': 2.04319187054512,\n",
       "  '2nd-largest / max[outdegree over c->c responses]': 1.0,\n",
       "  '2nd-largest / max[indegree over c->c responses]': 0.5,\n",
       "  'max[outdegree over C->c responses]': 4,\n",
       "  'max[indegree over C->c responses]': 2,\n",
       "  'argmax[outdegree over C->c responses]': 0,\n",
       "  'argmax[indegree over C->c responses]': 0,\n",
       "  'norm.max[outdegree over C->c responses]': 0.4444444444444444,\n",
       "  'norm.max[indegree over C->c responses]': 0.2222222222222222,\n",
       "  '2nd-largest[outdegree over C->c responses]': 3,\n",
       "  '2nd-largest[indegree over C->c responses]': 1,\n",
       "  '2nd-argmax[outdegree over C->c responses]': 1,\n",
       "  '2nd-argmax[indegree over C->c responses]': 1,\n",
       "  'norm.2nd-largest[outdegree over C->c responses]': 0.3333333333333333,\n",
       "  'norm.2nd-largest[indegree over C->c responses]': 0.1111111111111111,\n",
       "  'mean[outdegree over C->c responses]': 3.0,\n",
       "  'mean[indegree over C->c responses]': 0.9,\n",
       "  'mean-nonzero[outdegree over C->c responses]': 3.0,\n",
       "  'mean-nonzero[indegree over C->c responses]': 1.125,\n",
       "  'prop-nonzero[outdegree over C->c responses]': 1.0,\n",
       "  'prop-nonzero[indegree over C->c responses]': 0.8,\n",
       "  'prop-multiple[outdegree over C->c responses]': 1.0,\n",
       "  'prop-multiple[indegree over C->c responses]': 0.125,\n",
       "  'entropy[outdegree over C->c responses]': 1.0608569471580214,\n",
       "  'entropy[indegree over C->c responses]': 2.04319187054512,\n",
       "  '2nd-largest / max[outdegree over C->c responses]': 0.75,\n",
       "  '2nd-largest / max[indegree over C->c responses]': 0.5,\n",
       "  'max[outdegree over C->C responses]': 4,\n",
       "  'max[indegree over C->C responses]': 5,\n",
       "  'argmax[outdegree over C->C responses]': 0,\n",
       "  'argmax[indegree over C->C responses]': 0,\n",
       "  'norm.max[outdegree over C->C responses]': 0.4444444444444444,\n",
       "  'norm.max[indegree over C->C responses]': 0.5555555555555556,\n",
       "  '2nd-largest[outdegree over C->C responses]': 3,\n",
       "  '2nd-largest[indegree over C->C responses]': 2,\n",
       "  '2nd-argmax[outdegree over C->C responses]': 1,\n",
       "  '2nd-argmax[indegree over C->C responses]': 1,\n",
       "  'norm.2nd-largest[outdegree over C->C responses]': 0.3333333333333333,\n",
       "  'norm.2nd-largest[indegree over C->C responses]': 0.2222222222222222,\n",
       "  'mean[outdegree over C->C responses]': 3.0,\n",
       "  'mean[indegree over C->C responses]': 3.0,\n",
       "  'mean-nonzero[outdegree over C->C responses]': 3.0,\n",
       "  'mean-nonzero[indegree over C->C responses]': 3.0,\n",
       "  'prop-nonzero[outdegree over C->C responses]': 1.0,\n",
       "  'prop-nonzero[indegree over C->C responses]': 1.0,\n",
       "  'prop-multiple[outdegree over C->C responses]': 1.0,\n",
       "  'prop-multiple[indegree over C->C responses]': 1.0,\n",
       "  'entropy[outdegree over C->C responses]': 1.0608569471580214,\n",
       "  'entropy[indegree over C->C responses]': 0.9950269901795212,\n",
       "  '2nd-largest / max[outdegree over C->C responses]': 0.75,\n",
       "  '2nd-largest / max[indegree over C->C responses]': 0.4,\n",
       "  'is-present[reciprocity motif]': True,\n",
       "  'count[reciprocity motif]': 7,\n",
       "  'is-present[external reciprocity motif]': False,\n",
       "  'count[external reciprocity motif]': 0,\n",
       "  'is-present[dyadic interaction motif]': True,\n",
       "  'count[dyadic interaction motif]': 20,\n",
       "  'is-present[incoming triads]': True,\n",
       "  'count[incoming triads]': 6,\n",
       "  'is-present[outgoing triads]': True,\n",
       "  'count[outgoing triads]': 43,\n",
       "  'max[outdegree over c->c mid-thread responses]': 1,\n",
       "  'max[indegree over c->c mid-thread responses]': 1,\n",
       "  'argmax[outdegree over c->c mid-thread responses]': 2,\n",
       "  'argmax[indegree over c->c mid-thread responses]': 0,\n",
       "  'norm.max[outdegree over c->c mid-thread responses]': 0.14285714285714285,\n",
       "  'norm.max[indegree over c->c mid-thread responses]': 0.14285714285714285,\n",
       "  '2nd-largest[outdegree over c->c mid-thread responses]': 1,\n",
       "  '2nd-largest[indegree over c->c mid-thread responses]': 1,\n",
       "  '2nd-argmax[outdegree over c->c mid-thread responses]': 3,\n",
       "  '2nd-argmax[indegree over c->c mid-thread responses]': 1,\n",
       "  'norm.2nd-largest[outdegree over c->c mid-thread responses]': 0.14285714285714285,\n",
       "  'norm.2nd-largest[indegree over c->c mid-thread responses]': 0.14285714285714285,\n",
       "  'mean[outdegree over c->c mid-thread responses]': 0.7777777777777778,\n",
       "  'mean[indegree over c->c mid-thread responses]': 0.7777777777777778,\n",
       "  'mean-nonzero[outdegree over c->c mid-thread responses]': 1.0,\n",
       "  'mean-nonzero[indegree over c->c mid-thread responses]': 1.0,\n",
       "  'prop-nonzero[outdegree over c->c mid-thread responses]': 0.7777777777777778,\n",
       "  'prop-nonzero[indegree over c->c mid-thread responses]': 0.7777777777777778,\n",
       "  'prop-multiple[outdegree over c->c mid-thread responses]': 0.0,\n",
       "  'prop-multiple[indegree over c->c mid-thread responses]': 0.0,\n",
       "  'entropy[outdegree over c->c mid-thread responses]': 1.9459101490553132,\n",
       "  'entropy[indegree over c->c mid-thread responses]': 1.9459101490553132,\n",
       "  '2nd-largest / max[outdegree over c->c mid-thread responses]': 1.0,\n",
       "  '2nd-largest / max[indegree over c->c mid-thread responses]': 1.0,\n",
       "  'max[outdegree over C->c mid-thread responses]': 4,\n",
       "  'max[indegree over C->c mid-thread responses]': 1,\n",
       "  'argmax[outdegree over C->c mid-thread responses]': 2,\n",
       "  'argmax[indegree over C->c mid-thread responses]': 0,\n",
       "  'norm.max[outdegree over C->c mid-thread responses]': 0.5714285714285714,\n",
       "  'norm.max[indegree over C->c mid-thread responses]': 0.14285714285714285,\n",
       "  '2nd-largest[outdegree over C->c mid-thread responses]': 2,\n",
       "  '2nd-largest[indegree over C->c mid-thread responses]': 1,\n",
       "  '2nd-argmax[outdegree over C->c mid-thread responses]': 0,\n",
       "  '2nd-argmax[indegree over C->c mid-thread responses]': 1,\n",
       "  'norm.2nd-largest[outdegree over C->c mid-thread responses]': 0.2857142857142857,\n",
       "  'norm.2nd-largest[indegree over C->c mid-thread responses]': 0.14285714285714285,\n",
       "  'mean[outdegree over C->c mid-thread responses]': 2.3333333333333335,\n",
       "  'mean[indegree over C->c mid-thread responses]': 0.7777777777777778,\n",
       "  'mean-nonzero[outdegree over C->c mid-thread responses]': 2.3333333333333335,\n",
       "  'mean-nonzero[indegree over C->c mid-thread responses]': 1.0,\n",
       "  'prop-nonzero[outdegree over C->c mid-thread responses]': 1.0,\n",
       "  'prop-nonzero[indegree over C->c mid-thread responses]': 0.7777777777777778,\n",
       "  'prop-multiple[outdegree over C->c mid-thread responses]': 0.6666666666666666,\n",
       "  'prop-multiple[indegree over C->c mid-thread responses]': 0.0,\n",
       "  'entropy[outdegree over C->c mid-thread responses]': 0.9556998911125343,\n",
       "  'entropy[indegree over C->c mid-thread responses]': 1.9459101490553132,\n",
       "  '2nd-largest / max[outdegree over C->c mid-thread responses]': 0.5,\n",
       "  '2nd-largest / max[indegree over C->c mid-thread responses]': 1.0,\n",
       "  'max[outdegree over C->C mid-thread responses]': 4,\n",
       "  'max[indegree over C->C mid-thread responses]': 3,\n",
       "  'argmax[outdegree over C->C mid-thread responses]': 2,\n",
       "  'argmax[indegree over C->C mid-thread responses]': 2,\n",
       "  'norm.max[outdegree over C->C mid-thread responses]': 0.5714285714285714,\n",
       "  'norm.max[indegree over C->C mid-thread responses]': 0.42857142857142855,\n",
       "  '2nd-largest[outdegree over C->C mid-thread responses]': 2,\n",
       "  '2nd-largest[indegree over C->C mid-thread responses]': 2,\n",
       "  '2nd-argmax[outdegree over C->C mid-thread responses]': 0,\n",
       "  '2nd-argmax[indegree over C->C mid-thread responses]': 0,\n",
       "  'norm.2nd-largest[outdegree over C->C mid-thread responses]': 0.2857142857142857,\n",
       "  'norm.2nd-largest[indegree over C->C mid-thread responses]': 0.2857142857142857,\n",
       "  'mean[outdegree over C->C mid-thread responses]': 2.3333333333333335,\n",
       "  'mean[indegree over C->C mid-thread responses]': 2.3333333333333335,\n",
       "  'mean-nonzero[outdegree over C->C mid-thread responses]': 2.3333333333333335,\n",
       "  'mean-nonzero[indegree over C->C mid-thread responses]': 2.3333333333333335,\n",
       "  'prop-nonzero[outdegree over C->C mid-thread responses]': 1.0,\n",
       "  'prop-nonzero[indegree over C->C mid-thread responses]': 1.0,\n",
       "  'prop-multiple[outdegree over C->C mid-thread responses]': 0.6666666666666666,\n",
       "  'prop-multiple[indegree over C->C mid-thread responses]': 1.0,\n",
       "  'entropy[outdegree over C->C mid-thread responses]': 0.9556998911125343,\n",
       "  'entropy[indegree over C->C mid-thread responses]': 1.0789922078775833,\n",
       "  '2nd-largest / max[outdegree over C->C mid-thread responses]': 0.5,\n",
       "  '2nd-largest / max[indegree over C->C mid-thread responses]': 0.6666666666666666,\n",
       "  'is-present[reciprocity motif over mid-thread]': True,\n",
       "  'count[reciprocity motif over mid-thread]': 5,\n",
       "  'is-present[external reciprocity motif over mid-thread]': False,\n",
       "  'count[external reciprocity motif over mid-thread]': 0,\n",
       "  'is-present[dyadic interaction motif over mid-thread]': True,\n",
       "  'count[dyadic interaction motif over mid-thread]': 12,\n",
       "  'is-present[incoming triads over mid-thread]': True,\n",
       "  'count[incoming triads over mid-thread]': 2,\n",
       "  'is-present[outgoing triads over mid-thread]': True,\n",
       "  'count[outgoing triads over mid-thread]': 32}}"
      ]
     },
     "execution_count": 50,
     "metadata": {},
     "output_type": "execute_result"
    }
   ],
   "source": [
    "convo1.meta"
   ]
  },
  {
   "cell_type": "markdown",
   "metadata": {},
   "source": [
    "As in the paper, for further interpretability we can consider embeddings of _communities_ (subreddits, standing for Facebook pages) in terms of the discussions they foster, by averaging the embeddings of all threads in a particular subreddit."
   ]
  },
  {
   "cell_type": "code",
   "execution_count": 51,
   "metadata": {},
   "outputs": [],
   "source": [
    "subreddits = [convo.meta['original_convo_meta']['subreddit'] for convo in threads_corpus.iter_conversations()]"
   ]
  },
  {
   "cell_type": "code",
   "execution_count": 52,
   "metadata": {},
   "outputs": [
    {
     "data": {
      "text/plain": [
       "10000"
      ]
     },
     "execution_count": 52,
     "metadata": {},
     "output_type": "execute_result"
    }
   ],
   "source": [
    "len(subreddits)"
   ]
  },
  {
   "cell_type": "code",
   "execution_count": 53,
   "metadata": {},
   "outputs": [],
   "source": [
    "U_df['subreddit'] = subreddits"
   ]
  },
  {
   "cell_type": "code",
   "execution_count": 54,
   "metadata": {},
   "outputs": [],
   "source": [
    "subreddit_means = U_df.groupby('subreddit').mean()\n",
    "subreddit_df = pd.DataFrame(\n",
    "        data=Normalizer().fit_transform(subreddit_means.values),\n",
    "        index = subreddit_means.index\n",
    "    )"
   ]
  },
  {
   "cell_type": "code",
   "execution_count": null,
   "metadata": {},
   "outputs": [],
   "source": []
  },
  {
   "cell_type": "markdown",
   "metadata": {},
   "source": [
    "First, let's give a rough overview of the space we've sketched out through this procedure, by visualizing the subreddit embeddings using the TSNE algorithm."
   ]
  },
  {
   "cell_type": "code",
   "execution_count": 55,
   "metadata": {},
   "outputs": [],
   "source": [
    "tsne = TSNE(random_state=2018)\n",
    "tsne_df = pd.DataFrame(data=tsne.fit_transform(subreddit_df.values),\n",
    "                      index=subreddit_df.index)"
   ]
  },
  {
   "cell_type": "code",
   "execution_count": 56,
   "metadata": {
    "scrolled": false
   },
   "outputs": [
    {
     "data": {
      "image/png": "[encoded data removed]",
      "text/plain": [
       "<Figure size 720x720 with 1 Axes>"
      ]
     },
     "metadata": {
      "needs_background": "light"
     },
     "output_type": "display_data"
    }
   ],
   "source": [
    "plt.figure(figsize=(10,10))\n",
    "plt.scatter(tsne_df[0].values, tsne_df[1].values)\n",
    "for i, txt in enumerate(tsne_df.index):\n",
    "    plt.annotate(txt, (tsne_df.values[i,0], tsne_df.values[i,1]))\n",
    "plt.show()"
   ]
  },
  {
   "cell_type": "markdown",
   "metadata": {},
   "source": [
    "Looking across this plot, we can spot a few interpretable-looking groupings:"
   ]
  },
  {
   "cell_type": "code",
   "execution_count": 57,
   "metadata": {},
   "outputs": [
    {
     "data": {
      "image/png": "[encoded data removed]",
      "text/plain": [
       "<Figure size 432x288 with 1 Axes>"
      ]
     },
     "metadata": {
      "needs_background": "light"
     },
     "output_type": "display_data"
    }
   ],
   "source": [
    "games = [\"battlefield3\", \"Diablo\", \"DotA2\", \"Guildwars2\", \"leagueoflegends\", \"magicTCG\", \"Minecraft\", \"pokemon\", \"skyrim\", \"starcraft\", \"tf2\", \"wow\"]\n",
    "trade = [\"Dota2Trade\", \"pokemontrades\", \"SteamGameSwap\", \"tf2trade\", \"Random_Acts_Of_Amazon\"]\n",
    "sports = [\"baseball\", \"CFB\", \"hockey\", \"MMA\", \"nba\", \"nfl\", \"soccer\"]\n",
    "\n",
    "link_aggregators = [\"AskReddit\", \"WTF\", \"pics\", \"gifs\", \"aww\", \"funny\", \"todayilearned\",\n",
    "                   \"AdviceAnimals\"]\n",
    "relationships = [\"AskMen\", \"AskWomen\", \"relationships\", \"relationship_advice\", \"OkCupid\"]\n",
    "\n",
    "plt.scatter(tsne_df[0].values, tsne_df[1].values, color=\"#dddddd\")\n",
    "plt.scatter(tsne_df[0].values, tsne_df[1].values, color=[\n",
    "    \"green\" if l in games else\n",
    "    \"gold\" if l in trade else\n",
    "    \"purple\" if l in relationships else\n",
    "    \"red\" if l in link_aggregators else\n",
    "    \"blue\" if l in sports else\n",
    "    \"#00000000\"\n",
    "    for l in tsne_df.index])\n",
    "plt.show()"
   ]
  },
  {
   "cell_type": "markdown",
   "metadata": {},
   "source": [
    "For instance, video games (e.g., tf2, DotA2; red) tend to group together, along with buy-sell subreddits (e.g., tf2trade, Dota2Trade, yellow), subreddits related to relationships (e.g., AskWomen, relationship_advice; green) and large default-subreddit hubs for sharing random links (e.g., pics, AskReddit; purple)."
   ]
  },
  {
   "cell_type": "markdown",
   "metadata": {},
   "source": [
    "There may be other interesting groupings that you may spot as well -- for instance, a vaguely right-wing MensRights cluster (with Libertarian, guns); a rather intriguing cluster consisting of politics, sex, business, etc."
   ]
  },
  {
   "cell_type": "markdown",
   "metadata": {},
   "source": [
    "Some topical groups are more diffuse -- for instance, sports-based subreddits (blue). Perhaps this is a limitation of our representation, or that these subreddits actually foster very different interactional dynamics."
   ]
  },
  {
   "cell_type": "code",
   "execution_count": null,
   "metadata": {},
   "outputs": [],
   "source": []
  },
  {
   "cell_type": "markdown",
   "metadata": {},
   "source": [
    "Another way to delve into these groupings is to look at nearest neighbors of subreddits, in terms of the embedding:"
   ]
  },
  {
   "cell_type": "code",
   "execution_count": 58,
   "metadata": {
    "scrolled": true
   },
   "outputs": [],
   "source": [
    "dists = pairwise_distances(subreddit_df.values, metric='cosine')\n",
    "flat_dists = np.ravel(dists)\n",
    "idx1, idx2 = np.unravel_index(np.arange(len(flat_dists)), dists.shape)\n",
    "pairwise_dist_df = pd.DataFrame.from_dict({'p1': subreddit_df.index[idx1],\n",
    "                                           'p2': subreddit_df.index[idx2],\n",
    "                                           'dist': flat_dists},\n",
    "                                           orient='columns')"
   ]
  },
  {
   "cell_type": "code",
   "execution_count": 59,
   "metadata": {},
   "outputs": [],
   "source": [
    "def print_nearest_neighbors(pairwise_dist_df, \n",
    "                           test_subreddits=[],\n",
    "                           top_N=10):\n",
    "    for subreddit in test_subreddits:\n",
    "        subset_df = pairwise_dist_df[(pairwise_dist_df.p1 == subreddit)\n",
    "                                 & (pairwise_dist_df.p2 != subreddit)]\n",
    "        print(subreddit)\n",
    "        print(subset_df.sort_values('dist')[['p2', 'dist']].head(top_N))\n",
    "        print()"
   ]
  },
  {
   "cell_type": "code",
   "execution_count": 60,
   "metadata": {
    "scrolled": true
   },
   "outputs": [
    {
     "name": "stdout",
     "output_type": "stream",
     "text": [
      "apple\n",
      "                    p2      dist\n",
      "3833  ShingekiNoKyojin  0.004010\n",
      "3810            Diablo  0.007532\n",
      "3888        technology  0.009387\n",
      "3867       motorcycles  0.010527\n",
      "3837             anime  0.016070\n",
      "3803            AskMen  0.016668\n",
      "3896     unitedkingdom  0.017648\n",
      "3881   rupaulsdragrace  0.018585\n",
      "3848            canada  0.020095\n",
      "3871               nfl  0.023318\n",
      "\n",
      "politics\n",
      "               p2      dist\n",
      "7707          CFB  0.023624\n",
      "7727        Music  0.024489\n",
      "7786       soccer  0.030145\n",
      "7704    AskReddit  0.032754\n",
      "7768       movies  0.036987\n",
      "7745        books  0.040167\n",
      "7762  hiphopheads  0.040257\n",
      "7788   technology  0.042629\n",
      "7715       Frugal  0.046625\n",
      "7703       AskMen  0.047569\n",
      "\n",
      "leagueoflegends\n",
      "                 p2      dist\n",
      "6478    programming  0.008087\n",
      "6444       baseball  0.010634\n",
      "6465       magicTCG  0.012681\n",
      "6499            wow  0.013447\n",
      "6411          DotA2  0.014114\n",
      "6457          funny  0.014570\n",
      "6463         hockey  0.015799\n",
      "6451         cringe  0.016408\n",
      "6474           pics  0.018223\n",
      "6493  todayilearned  0.018444\n",
      "\n",
      "AskWomen\n",
      "                  p2      dist\n",
      "545            books  0.020499\n",
      "598        worldnews  0.029443\n",
      "570             news  0.036243\n",
      "504        AskReddit  0.040434\n",
      "584        singapore  0.047228\n",
      "556  fantasyfootball  0.048596\n",
      "577         politics  0.050741\n",
      "539       askscience  0.051241\n",
      "513        Economics  0.059862\n",
      "571              nfl  0.060285\n",
      "\n",
      "Music\n",
      "               p2      dist\n",
      "2786       soccer  0.006614\n",
      "2720  LifeProTips  0.008414\n",
      "2762  hiphopheads  0.008912\n",
      "2768       movies  0.011188\n",
      "2723       Marvel  0.014587\n",
      "2716        Games  0.017321\n",
      "2757        funny  0.019060\n",
      "2721          MMA  0.019919\n",
      "2788   technology  0.023549\n",
      "2777     politics  0.024489\n",
      "\n",
      "pics\n",
      "                 p2      dist\n",
      "7411          DotA2  0.005083\n",
      "7400  AdviceAnimals  0.005570\n",
      "7468         movies  0.007247\n",
      "7451         cringe  0.009219\n",
      "7415         Frugal  0.012560\n",
      "7478    programming  0.012635\n",
      "7492           tifu  0.013264\n",
      "7434  SquaredCircle  0.014106\n",
      "7457          funny  0.014482\n",
      "7442      australia  0.015620\n",
      "\n",
      "australia\n",
      "               p2      dist\n",
      "4265     magicTCG  0.006205\n",
      "4211        DotA2  0.007563\n",
      "4244     baseball  0.011298\n",
      "4249         cars  0.011327\n",
      "4278  programming  0.011454\n",
      "4215       Frugal  0.011643\n",
      "4287    starcraft  0.013808\n",
      "4274         pics  0.015620\n",
      "4269          nba  0.016289\n",
      "4251       cringe  0.019456\n",
      "\n",
      "Random_Acts_Of_Amazon\n",
      "                        p2      dist\n",
      "3230               OkCupid  0.125896\n",
      "3209        DebateReligion  0.165905\n",
      "3254  electronic_cigarette  0.210910\n",
      "3222       MakeupAddiction  0.213303\n",
      "3246              buildapc  0.217118\n",
      "3266     malefashionadvice  0.222449\n",
      "3290             teenagers  0.235877\n",
      "3231               POLITIC  0.255171\n",
      "3229                 NoFap  0.263178\n",
      "3214               Fitness  0.267538\n",
      "\n",
      "Bitcoin\n",
      "              p2      dist\n",
      "650   conspiracy  0.009359\n",
      "661         guns  0.012344\n",
      "648       canada  0.016099\n",
      "619  Libertarian  0.017008\n",
      "649         cars  0.023268\n",
      "618         IAmA  0.024192\n",
      "610       Diablo  0.024970\n",
      "667  motorcycles  0.025560\n",
      "695        trees  0.028225\n",
      "617   Guildwars2  0.030563\n",
      "\n",
      "MensRights\n",
      "               p2      dist\n",
      "2412        Drugs  0.007170\n",
      "2428       Naruto  0.014350\n",
      "2450   conspiracy  0.020279\n",
      "2441      atheism  0.021509\n",
      "2473  photography  0.021855\n",
      "2429        NoFap  0.022800\n",
      "2453         dayz  0.024095\n",
      "2419  Libertarian  0.027976\n",
      "2425    Minecraft  0.028002\n",
      "2410       Diablo  0.031413\n",
      "\n"
     ]
    }
   ],
   "source": [
    "print_nearest_neighbors(pairwise_dist_df, ['apple', 'politics', 'leagueoflegends',\n",
    "                                          'AskWomen', 'Music', 'pics',\n",
    "                                          'australia', 'Random_Acts_Of_Amazon',\n",
    "                                          'Bitcoin', 'MensRights'])"
   ]
  },
  {
   "cell_type": "markdown",
   "metadata": {},
   "source": [
    "We can also try to interpret each dimension of the embedding -- roughly speaking the threads, features and subreddits with extremal values along one dimension could be seen as characterizing a particular \"type\" of discussion, in terms of the discussion structure."
   ]
  },
  {
   "cell_type": "code",
   "execution_count": 61,
   "metadata": {},
   "outputs": [],
   "source": [
    "from IPython.display import display"
   ]
  },
  {
   "cell_type": "code",
   "execution_count": 62,
   "metadata": {},
   "outputs": [],
   "source": [
    "def display_dimension(dim, ascending=True, n=5):\n",
    "    top_threads = U_df.sort_values(dim, ascending=ascending).head(n)\n",
    "    display(top_threads)\n",
    "    display(V_df.sort_values(dim, ascending=ascending).head(n))\n",
    "    display(subreddit_df.sort_values(dim, ascending=ascending).head(n))\n",
    "    return top_threads.index"
   ]
  },
  {
   "cell_type": "code",
   "execution_count": null,
   "metadata": {},
   "outputs": [],
   "source": []
  },
  {
   "cell_type": "markdown",
   "metadata": {
    "collapsed": true
   },
   "source": [
    "For instance, the first latent dimension divides the space of Reddit discussions between focused dialogues involving 2 people who repeatedly interact, and \"expansionary\" threads involving multiple people who generally only engage once (as with the corresponding dimension discussed in the paper, this echoes the contrast explored in papers such as Backstrom et. al, 2013). At the subreddit level, we see a divide between subreddits that are selling things (perhaps the dialogues consist of a buyer and a seller) and large default link-sharing subreddits like AskReddit and pics."
   ]
  },
  {
   "cell_type": "code",
   "execution_count": 63,
   "metadata": {},
   "outputs": [
    {
     "data": {
      "text/html": [
       "<div>\n",
       "<style scoped>\n",
       "    .dataframe tbody tr th:only-of-type {\n",
       "        vertical-align: middle;\n",
       "    }\n",
       "\n",
       "    .dataframe tbody tr th {\n",
       "        vertical-align: top;\n",
       "    }\n",
       "\n",
       "    .dataframe thead th {\n",
       "        text-align: right;\n",
       "    }\n",
       "</style>\n",
       "<table border=\"1\" class=\"dataframe\">\n",
       "  <thead>\n",
       "    <tr style=\"text-align: right;\">\n",
       "      <th></th>\n",
       "      <th>0</th>\n",
       "      <th>1</th>\n",
       "      <th>2</th>\n",
       "      <th>3</th>\n",
       "      <th>4</th>\n",
       "      <th>5</th>\n",
       "      <th>6</th>\n",
       "      <th>subreddit</th>\n",
       "    </tr>\n",
       "  </thead>\n",
       "  <tbody>\n",
       "    <tr>\n",
       "      <th>e6pf15q</th>\n",
       "      <td>-0.676926</td>\n",
       "      <td>0.513425</td>\n",
       "      <td>0.134893</td>\n",
       "      <td>0.021474</td>\n",
       "      <td>-0.177084</td>\n",
       "      <td>0.477304</td>\n",
       "      <td>0.018197</td>\n",
       "      <td>aww</td>\n",
       "    </tr>\n",
       "    <tr>\n",
       "      <th>e68jh0j</th>\n",
       "      <td>-0.673195</td>\n",
       "      <td>0.205211</td>\n",
       "      <td>-0.081545</td>\n",
       "      <td>0.263162</td>\n",
       "      <td>-0.248450</td>\n",
       "      <td>0.589309</td>\n",
       "      <td>0.140643</td>\n",
       "      <td>AdviceAnimals</td>\n",
       "    </tr>\n",
       "    <tr>\n",
       "      <th>e5sph0s</th>\n",
       "      <td>-0.670099</td>\n",
       "      <td>0.168815</td>\n",
       "      <td>-0.041743</td>\n",
       "      <td>0.071769</td>\n",
       "      <td>-0.159069</td>\n",
       "      <td>0.614831</td>\n",
       "      <td>0.335046</td>\n",
       "      <td>politics</td>\n",
       "    </tr>\n",
       "    <tr>\n",
       "      <th>e6oe9ov</th>\n",
       "      <td>-0.668165</td>\n",
       "      <td>0.221351</td>\n",
       "      <td>-0.058089</td>\n",
       "      <td>0.168009</td>\n",
       "      <td>-0.292247</td>\n",
       "      <td>0.610815</td>\n",
       "      <td>0.120230</td>\n",
       "      <td>DotA2</td>\n",
       "    </tr>\n",
       "    <tr>\n",
       "      <th>e62qyda</th>\n",
       "      <td>-0.665698</td>\n",
       "      <td>0.168617</td>\n",
       "      <td>-0.057835</td>\n",
       "      <td>0.149881</td>\n",
       "      <td>-0.194514</td>\n",
       "      <td>0.599207</td>\n",
       "      <td>0.325146</td>\n",
       "      <td>malefashionadvice</td>\n",
       "    </tr>\n",
       "    <tr>\n",
       "      <th>e5bfol4</th>\n",
       "      <td>-0.665541</td>\n",
       "      <td>0.206596</td>\n",
       "      <td>-0.087473</td>\n",
       "      <td>0.132030</td>\n",
       "      <td>-0.265148</td>\n",
       "      <td>0.595478</td>\n",
       "      <td>0.253757</td>\n",
       "      <td>hiphopheads</td>\n",
       "    </tr>\n",
       "    <tr>\n",
       "      <th>e5w7xfe</th>\n",
       "      <td>-0.665247</td>\n",
       "      <td>0.504125</td>\n",
       "      <td>0.183871</td>\n",
       "      <td>0.128329</td>\n",
       "      <td>-0.177281</td>\n",
       "      <td>0.453527</td>\n",
       "      <td>0.126144</td>\n",
       "      <td>gifs</td>\n",
       "    </tr>\n",
       "    <tr>\n",
       "      <th>e6wd02c</th>\n",
       "      <td>-0.665215</td>\n",
       "      <td>0.500593</td>\n",
       "      <td>0.167707</td>\n",
       "      <td>0.023369</td>\n",
       "      <td>-0.199370</td>\n",
       "      <td>0.456605</td>\n",
       "      <td>0.173170</td>\n",
       "      <td>programming</td>\n",
       "    </tr>\n",
       "    <tr>\n",
       "      <th>e5zrsyw</th>\n",
       "      <td>-0.664752</td>\n",
       "      <td>0.235254</td>\n",
       "      <td>-0.046120</td>\n",
       "      <td>0.192104</td>\n",
       "      <td>-0.181142</td>\n",
       "      <td>0.601423</td>\n",
       "      <td>0.263071</td>\n",
       "      <td>pics</td>\n",
       "    </tr>\n",
       "    <tr>\n",
       "      <th>e60eyqo</th>\n",
       "      <td>-0.663099</td>\n",
       "      <td>0.489384</td>\n",
       "      <td>0.145012</td>\n",
       "      <td>0.063774</td>\n",
       "      <td>-0.306108</td>\n",
       "      <td>0.449315</td>\n",
       "      <td>-0.010997</td>\n",
       "      <td>cringe</td>\n",
       "    </tr>\n",
       "  </tbody>\n",
       "</table>\n",
       "</div>"
      ],
      "text/plain": [
       "                0         1         2         3         4         5         6  \\\n",
       "e6pf15q -0.676926  0.513425  0.134893  0.021474 -0.177084  0.477304  0.018197   \n",
       "e68jh0j -0.673195  0.205211 -0.081545  0.263162 -0.248450  0.589309  0.140643   \n",
       "e5sph0s -0.670099  0.168815 -0.041743  0.071769 -0.159069  0.614831  0.335046   \n",
       "e6oe9ov -0.668165  0.221351 -0.058089  0.168009 -0.292247  0.610815  0.120230   \n",
       "e62qyda -0.665698  0.168617 -0.057835  0.149881 -0.194514  0.599207  0.325146   \n",
       "e5bfol4 -0.665541  0.206596 -0.087473  0.132030 -0.265148  0.595478  0.253757   \n",
       "e5w7xfe -0.665247  0.504125  0.183871  0.128329 -0.177281  0.453527  0.126144   \n",
       "e6wd02c -0.665215  0.500593  0.167707  0.023369 -0.199370  0.456605  0.173170   \n",
       "e5zrsyw -0.664752  0.235254 -0.046120  0.192104 -0.181142  0.601423  0.263071   \n",
       "e60eyqo -0.663099  0.489384  0.145012  0.063774 -0.306108  0.449315 -0.010997   \n",
       "\n",
       "                 subreddit  \n",
       "e6pf15q                aww  \n",
       "e68jh0j      AdviceAnimals  \n",
       "e5sph0s           politics  \n",
       "e6oe9ov              DotA2  \n",
       "e62qyda  malefashionadvice  \n",
       "e5bfol4        hiphopheads  \n",
       "e5w7xfe               gifs  \n",
       "e6wd02c        programming  \n",
       "e5zrsyw               pics  \n",
       "e60eyqo             cringe  "
      ]
     },
     "metadata": {},
     "output_type": "display_data"
    },
    {
     "data": {
      "text/html": [
       "<div>\n",
       "<style scoped>\n",
       "    .dataframe tbody tr th:only-of-type {\n",
       "        vertical-align: middle;\n",
       "    }\n",
       "\n",
       "    .dataframe tbody tr th {\n",
       "        vertical-align: top;\n",
       "    }\n",
       "\n",
       "    .dataframe thead th {\n",
       "        text-align: right;\n",
       "    }\n",
       "</style>\n",
       "<table border=\"1\" class=\"dataframe\">\n",
       "  <thead>\n",
       "    <tr style=\"text-align: right;\">\n",
       "      <th></th>\n",
       "      <th>0</th>\n",
       "      <th>1</th>\n",
       "      <th>2</th>\n",
       "      <th>3</th>\n",
       "      <th>4</th>\n",
       "      <th>5</th>\n",
       "      <th>6</th>\n",
       "    </tr>\n",
       "  </thead>\n",
       "  <tbody>\n",
       "    <tr>\n",
       "      <th>entropy[outdegree over C-&gt;c responses]</th>\n",
       "      <td>-0.837480</td>\n",
       "      <td>-0.310468</td>\n",
       "      <td>-0.068405</td>\n",
       "      <td>0.292538</td>\n",
       "      <td>-0.065806</td>\n",
       "      <td>-1.136460e-15</td>\n",
       "      <td>0.328098</td>\n",
       "    </tr>\n",
       "    <tr>\n",
       "      <th>entropy[outdegree over C-&gt;C responses]</th>\n",
       "      <td>-0.837480</td>\n",
       "      <td>-0.310468</td>\n",
       "      <td>-0.068405</td>\n",
       "      <td>0.292538</td>\n",
       "      <td>-0.065806</td>\n",
       "      <td>-1.136460e-15</td>\n",
       "      <td>0.328098</td>\n",
       "    </tr>\n",
       "    <tr>\n",
       "      <th>is-present[incoming triads]</th>\n",
       "      <td>-0.681032</td>\n",
       "      <td>-0.547158</td>\n",
       "      <td>-0.298486</td>\n",
       "      <td>-0.297073</td>\n",
       "      <td>0.167972</td>\n",
       "      <td>-1.456397e-16</td>\n",
       "      <td>-0.176782</td>\n",
       "    </tr>\n",
       "    <tr>\n",
       "      <th>norm.max[indegree over c-&gt;c responses]</th>\n",
       "      <td>-0.566936</td>\n",
       "      <td>0.671280</td>\n",
       "      <td>-0.016627</td>\n",
       "      <td>-0.305103</td>\n",
       "      <td>-0.226294</td>\n",
       "      <td>-1.419373e-15</td>\n",
       "      <td>0.288780</td>\n",
       "    </tr>\n",
       "    <tr>\n",
       "      <th>norm.max[indegree over C-&gt;c responses]</th>\n",
       "      <td>-0.566936</td>\n",
       "      <td>0.671280</td>\n",
       "      <td>-0.016627</td>\n",
       "      <td>-0.305103</td>\n",
       "      <td>-0.226294</td>\n",
       "      <td>-1.419373e-15</td>\n",
       "      <td>0.288780</td>\n",
       "    </tr>\n",
       "    <tr>\n",
       "      <th>max[indegree over C-&gt;c responses]</th>\n",
       "      <td>-0.566936</td>\n",
       "      <td>0.671280</td>\n",
       "      <td>-0.016627</td>\n",
       "      <td>-0.305103</td>\n",
       "      <td>-0.226294</td>\n",
       "      <td>-9.679755e-16</td>\n",
       "      <td>0.288780</td>\n",
       "    </tr>\n",
       "    <tr>\n",
       "      <th>max[indegree over c-&gt;c responses]</th>\n",
       "      <td>-0.566936</td>\n",
       "      <td>0.671280</td>\n",
       "      <td>-0.016627</td>\n",
       "      <td>-0.305103</td>\n",
       "      <td>-0.226294</td>\n",
       "      <td>-1.118441e-15</td>\n",
       "      <td>0.288780</td>\n",
       "    </tr>\n",
       "    <tr>\n",
       "      <th>count[incoming triads]</th>\n",
       "      <td>-0.519054</td>\n",
       "      <td>0.546974</td>\n",
       "      <td>-0.014218</td>\n",
       "      <td>-0.642300</td>\n",
       "      <td>-0.086812</td>\n",
       "      <td>-9.626652e-16</td>\n",
       "      <td>-0.105420</td>\n",
       "    </tr>\n",
       "    <tr>\n",
       "      <th>is-present[external reciprocity motif]</th>\n",
       "      <td>-0.496884</td>\n",
       "      <td>-0.806733</td>\n",
       "      <td>0.152541</td>\n",
       "      <td>0.104647</td>\n",
       "      <td>-0.228987</td>\n",
       "      <td>-6.052299e-16</td>\n",
       "      <td>0.125036</td>\n",
       "    </tr>\n",
       "    <tr>\n",
       "      <th>argmax[outdegree over C-&gt;c responses]</th>\n",
       "      <td>-0.433985</td>\n",
       "      <td>-0.339943</td>\n",
       "      <td>-0.211051</td>\n",
       "      <td>0.794485</td>\n",
       "      <td>-0.008112</td>\n",
       "      <td>3.425203e-15</td>\n",
       "      <td>-0.142414</td>\n",
       "    </tr>\n",
       "  </tbody>\n",
       "</table>\n",
       "</div>"
      ],
      "text/plain": [
       "                                               0         1         2  \\\n",
       "entropy[outdegree over C->c responses] -0.837480 -0.310468 -0.068405   \n",
       "entropy[outdegree over C->C responses] -0.837480 -0.310468 -0.068405   \n",
       "is-present[incoming triads]            -0.681032 -0.547158 -0.298486   \n",
       "norm.max[indegree over c->c responses] -0.566936  0.671280 -0.016627   \n",
       "norm.max[indegree over C->c responses] -0.566936  0.671280 -0.016627   \n",
       "max[indegree over C->c responses]      -0.566936  0.671280 -0.016627   \n",
       "max[indegree over c->c responses]      -0.566936  0.671280 -0.016627   \n",
       "count[incoming triads]                 -0.519054  0.546974 -0.014218   \n",
       "is-present[external reciprocity motif] -0.496884 -0.806733  0.152541   \n",
       "argmax[outdegree over C->c responses]  -0.433985 -0.339943 -0.211051   \n",
       "\n",
       "                                               3         4             5  \\\n",
       "entropy[outdegree over C->c responses]  0.292538 -0.065806 -1.136460e-15   \n",
       "entropy[outdegree over C->C responses]  0.292538 -0.065806 -1.136460e-15   \n",
       "is-present[incoming triads]            -0.297073  0.167972 -1.456397e-16   \n",
       "norm.max[indegree over c->c responses] -0.305103 -0.226294 -1.419373e-15   \n",
       "norm.max[indegree over C->c responses] -0.305103 -0.226294 -1.419373e-15   \n",
       "max[indegree over C->c responses]      -0.305103 -0.226294 -9.679755e-16   \n",
       "max[indegree over c->c responses]      -0.305103 -0.226294 -1.118441e-15   \n",
       "count[incoming triads]                 -0.642300 -0.086812 -9.626652e-16   \n",
       "is-present[external reciprocity motif]  0.104647 -0.228987 -6.052299e-16   \n",
       "argmax[outdegree over C->c responses]   0.794485 -0.008112  3.425203e-15   \n",
       "\n",
       "                                               6  \n",
       "entropy[outdegree over C->c responses]  0.328098  \n",
       "entropy[outdegree over C->C responses]  0.328098  \n",
       "is-present[incoming triads]            -0.176782  \n",
       "norm.max[indegree over c->c responses]  0.288780  \n",
       "norm.max[indegree over C->c responses]  0.288780  \n",
       "max[indegree over C->c responses]       0.288780  \n",
       "max[indegree over c->c responses]       0.288780  \n",
       "count[incoming triads]                 -0.105420  \n",
       "is-present[external reciprocity motif]  0.125036  \n",
       "argmax[outdegree over C->c responses]  -0.142414  "
      ]
     },
     "metadata": {},
     "output_type": "display_data"
    },
    {
     "data": {
      "text/html": [
       "<div>\n",
       "<style scoped>\n",
       "    .dataframe tbody tr th:only-of-type {\n",
       "        vertical-align: middle;\n",
       "    }\n",
       "\n",
       "    .dataframe tbody tr th {\n",
       "        vertical-align: top;\n",
       "    }\n",
       "\n",
       "    .dataframe thead th {\n",
       "        text-align: right;\n",
       "    }\n",
       "</style>\n",
       "<table border=\"1\" class=\"dataframe\">\n",
       "  <thead>\n",
       "    <tr style=\"text-align: right;\">\n",
       "      <th></th>\n",
       "      <th>0</th>\n",
       "      <th>1</th>\n",
       "      <th>2</th>\n",
       "      <th>3</th>\n",
       "      <th>4</th>\n",
       "      <th>5</th>\n",
       "      <th>6</th>\n",
       "    </tr>\n",
       "    <tr>\n",
       "      <th>subreddit</th>\n",
       "      <th></th>\n",
       "      <th></th>\n",
       "      <th></th>\n",
       "      <th></th>\n",
       "      <th></th>\n",
       "      <th></th>\n",
       "      <th></th>\n",
       "    </tr>\n",
       "  </thead>\n",
       "  <tbody>\n",
       "    <tr>\n",
       "      <th>aww</th>\n",
       "      <td>-0.436022</td>\n",
       "      <td>-0.187119</td>\n",
       "      <td>0.151336</td>\n",
       "      <td>0.221075</td>\n",
       "      <td>-0.044065</td>\n",
       "      <td>0.835169</td>\n",
       "      <td>0.060383</td>\n",
       "    </tr>\n",
       "    <tr>\n",
       "      <th>gifs</th>\n",
       "      <td>-0.434962</td>\n",
       "      <td>-0.145522</td>\n",
       "      <td>0.105800</td>\n",
       "      <td>0.148041</td>\n",
       "      <td>-0.065313</td>\n",
       "      <td>0.854299</td>\n",
       "      <td>0.149766</td>\n",
       "    </tr>\n",
       "    <tr>\n",
       "      <th>WTF</th>\n",
       "      <td>-0.410275</td>\n",
       "      <td>-0.201860</td>\n",
       "      <td>0.006704</td>\n",
       "      <td>0.308866</td>\n",
       "      <td>-0.020368</td>\n",
       "      <td>0.826546</td>\n",
       "      <td>0.109049</td>\n",
       "    </tr>\n",
       "    <tr>\n",
       "      <th>MovieDetails</th>\n",
       "      <td>-0.409832</td>\n",
       "      <td>-0.238491</td>\n",
       "      <td>0.083658</td>\n",
       "      <td>0.165616</td>\n",
       "      <td>-0.119466</td>\n",
       "      <td>0.835917</td>\n",
       "      <td>0.166442</td>\n",
       "    </tr>\n",
       "    <tr>\n",
       "      <th>CFB</th>\n",
       "      <td>-0.406377</td>\n",
       "      <td>0.135617</td>\n",
       "      <td>-0.122195</td>\n",
       "      <td>0.024731</td>\n",
       "      <td>-0.083298</td>\n",
       "      <td>0.890424</td>\n",
       "      <td>0.033599</td>\n",
       "    </tr>\n",
       "    <tr>\n",
       "      <th>Games</th>\n",
       "      <td>-0.393518</td>\n",
       "      <td>-0.090126</td>\n",
       "      <td>0.034144</td>\n",
       "      <td>0.201258</td>\n",
       "      <td>-0.062402</td>\n",
       "      <td>0.888654</td>\n",
       "      <td>0.041836</td>\n",
       "    </tr>\n",
       "    <tr>\n",
       "      <th>todayilearned</th>\n",
       "      <td>-0.370950</td>\n",
       "      <td>-0.189081</td>\n",
       "      <td>0.021366</td>\n",
       "      <td>0.204492</td>\n",
       "      <td>-0.025594</td>\n",
       "      <td>0.880649</td>\n",
       "      <td>0.090405</td>\n",
       "    </tr>\n",
       "    <tr>\n",
       "      <th>books</th>\n",
       "      <td>-0.356222</td>\n",
       "      <td>0.163429</td>\n",
       "      <td>-0.117510</td>\n",
       "      <td>0.010652</td>\n",
       "      <td>-0.127208</td>\n",
       "      <td>0.881934</td>\n",
       "      <td>-0.196179</td>\n",
       "    </tr>\n",
       "    <tr>\n",
       "      <th>videos</th>\n",
       "      <td>-0.350436</td>\n",
       "      <td>-0.198230</td>\n",
       "      <td>-0.043154</td>\n",
       "      <td>0.205502</td>\n",
       "      <td>-0.009736</td>\n",
       "      <td>0.887410</td>\n",
       "      <td>0.078840</td>\n",
       "    </tr>\n",
       "    <tr>\n",
       "      <th>funny</th>\n",
       "      <td>-0.347012</td>\n",
       "      <td>-0.150430</td>\n",
       "      <td>0.065067</td>\n",
       "      <td>0.170706</td>\n",
       "      <td>-0.070190</td>\n",
       "      <td>0.904710</td>\n",
       "      <td>0.012370</td>\n",
       "    </tr>\n",
       "  </tbody>\n",
       "</table>\n",
       "</div>"
      ],
      "text/plain": [
       "                      0         1         2         3         4         5  \\\n",
       "subreddit                                                                   \n",
       "aww           -0.436022 -0.187119  0.151336  0.221075 -0.044065  0.835169   \n",
       "gifs          -0.434962 -0.145522  0.105800  0.148041 -0.065313  0.854299   \n",
       "WTF           -0.410275 -0.201860  0.006704  0.308866 -0.020368  0.826546   \n",
       "MovieDetails  -0.409832 -0.238491  0.083658  0.165616 -0.119466  0.835917   \n",
       "CFB           -0.406377  0.135617 -0.122195  0.024731 -0.083298  0.890424   \n",
       "Games         -0.393518 -0.090126  0.034144  0.201258 -0.062402  0.888654   \n",
       "todayilearned -0.370950 -0.189081  0.021366  0.204492 -0.025594  0.880649   \n",
       "books         -0.356222  0.163429 -0.117510  0.010652 -0.127208  0.881934   \n",
       "videos        -0.350436 -0.198230 -0.043154  0.205502 -0.009736  0.887410   \n",
       "funny         -0.347012 -0.150430  0.065067  0.170706 -0.070190  0.904710   \n",
       "\n",
       "                      6  \n",
       "subreddit                \n",
       "aww            0.060383  \n",
       "gifs           0.149766  \n",
       "WTF            0.109049  \n",
       "MovieDetails   0.166442  \n",
       "CFB            0.033599  \n",
       "Games          0.041836  \n",
       "todayilearned  0.090405  \n",
       "books         -0.196179  \n",
       "videos         0.078840  \n",
       "funny          0.012370  "
      ]
     },
     "metadata": {},
     "output_type": "display_data"
    }
   ],
   "source": [
    "top_threads = display_dimension(0, n=10)"
   ]
  },
  {
   "cell_type": "code",
   "execution_count": null,
   "metadata": {},
   "outputs": [],
   "source": []
  }
 ],
 "metadata": {
  "kernelspec": {
   "display_name": "Python 3",
   "language": "python",
   "name": "python3"
  },
  "language_info": {
   "codemirror_mode": {
    "name": "ipython",
    "version": 3
   },
   "file_extension": ".py",
   "mimetype": "text/x-python",
   "name": "python",
   "nbconvert_exporter": "python",
   "pygments_lexer": "ipython3",
   "version": "3.7.3"
  }
 },
 "nbformat": 4,
 "nbformat_minor": 2
}
