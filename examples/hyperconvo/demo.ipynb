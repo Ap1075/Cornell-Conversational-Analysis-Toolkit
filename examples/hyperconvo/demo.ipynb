{
 "cells": [
  {
   "cell_type": "markdown",
   "metadata": {
    "deletable": true,
    "editable": true
   },
   "source": [
    "This notebook provides examples of how to call the hyperconvo functions from Convokit and perform analyses similar to the ones presented in the corresponding paper (http://www.cs.cornell.edu/~cristian/Patterns_of_participant_interactions.html), which describes the hypergraph methodology for modeling and analyzing online public discussions.\n",
    "\n",
    "Note that due to limitations in what data we can access and distribute, the beta version of the hypergraph methodology presented here currently supports less functionality:\n",
    "\n",
    "* Instead of Facebook data, we release a dataset of discussions from Reddit (the 1000 most recent threads, with at least 10 comments, from 100 highly active subreddits -- more details in the corresponding readme here: https://github.com/CornellNLP/Cornell-Conversational-Analysis-Toolkit/tree/master/datasets/reddit-corpus). For demonstration purposes, we here use a small subset of this dataset (\"reddit-corpus-small\") containing 100 threads per subreddit.\n",
    "* Since Reddit does not provide information on who reacted to (i.e., upvoted) each comment, we are presently unable to support reaction-edges in the hypergraph. As such, we can only compute features over in/outdegree distributions of _reply_-edges, and the feature set derived from motifs in the hypergraph is limited to counts and binary indicators or whether or not a motif is present. We will work  towards supporting reactions as well."
   ]
  },
  {
   "cell_type": "code",
   "execution_count": 1,
   "metadata": {
    "collapsed": true,
    "deletable": true,
    "editable": true
   },
   "outputs": [],
   "source": [
    "import convokit\n",
    "%matplotlib inline\n",
    "import matplotlib.pyplot as plt\n",
    "import numpy as np\n",
    "import pandas as pd\n",
    "import warnings\n",
    "warnings.filterwarnings('ignore')"
   ]
  },
  {
   "cell_type": "markdown",
   "metadata": {
    "deletable": true,
    "editable": true
   },
   "source": [
    "First we download the reddit corpus:"
   ]
  },
  {
   "cell_type": "code",
   "execution_count": 2,
   "metadata": {
    "collapsed": true,
    "deletable": true,
    "editable": true
   },
   "outputs": [],
   "source": [
    "corpus = convokit.Corpus(filename=convokit.download(\"reddit-corpus\"))"
   ]
  },
  {
   "cell_type": "markdown",
   "metadata": {
    "deletable": true,
    "editable": true
   },
   "source": [
    "We will compute features over only the first 10 comments that occur in a thread, for  threads which are at least 10 comments long (controling for thread length in this way):"
   ]
  },
  {
   "cell_type": "code",
   "execution_count": 3,
   "metadata": {
    "collapsed": true,
    "deletable": true,
    "editable": true
   },
   "outputs": [],
   "source": [
    "threads = corpus.utterance_threads(prefix_len=10)"
   ]
  },
  {
   "cell_type": "code",
   "execution_count": 4,
   "metadata": {
    "collapsed": true,
    "deletable": true,
    "editable": true
   },
   "outputs": [],
   "source": [
    "def display_thread_helper(thread, root, indent=0):\n",
    "    print(\" \"*indent + thread[root].user.name)\n",
    "    children = [k for k, v in thread.items() if v.reply_to == root]\n",
    "    for child in children:\n",
    "        display_thread_helper(thread, child, indent=indent+4)\n",
    "def display_thread(root):\n",
    "    return display_thread_helper(threads[root],root)"
   ]
  },
  {
   "cell_type": "markdown",
   "metadata": {
    "deletable": true,
    "editable": true
   },
   "source": [
    "The following are threads that come from the /r/canada subreddit. "
   ]
  },
  {
   "cell_type": "code",
   "execution_count": 5,
   "metadata": {
    "collapsed": true,
    "deletable": true,
    "editable": true
   },
   "outputs": [],
   "source": [
    "demo_threads = [\n",
    "    # https://www.reddit.com/r/canada/comments/mmyld/polygamypolyamoury_laws_upheld_in_supreme_court/c32bcq8/\n",
    "                't1_c32bcq8', \n",
    "    # https://www.reddit.com/r/canada/comments/mmd20/look_what_i_found_today_yes_and_it_is_in_canada/c322oa7/\n",
    "                't1_c322oa7',\n",
    "    # https://www.reddit.com/r/canada/comments/mo0lt/happy_thursday/c32hv0h/\n",
    "                't1_c32hv0h'\n",
    "               ]"
   ]
  },
  {
   "cell_type": "markdown",
   "metadata": {
    "deletable": true,
    "editable": true
   },
   "source": [
    "We print the structure of the thread: the reply-structure (where subsequent replies in the comment tree are indented), and the authors of each comment. There are some high-level qualitative differences that you might immediately see; our goal is to automatically extract a superset of these intuitive distinctions. For instance, we notice that thread t1_c32bcq8 has a very linear structure, while t1_c322oa7 is flatter; to capture this difference, we might compute statistics on the distribution of in-degrees of nodes in the reply tree. We also intuit that some conversations involve a few people replying repeatedly to each other, whereas others may involve users stopping by to chime in once and then leaving; we'll later codify this difference via statistics on the indegrees and outdegrees of hypernodes (users)."
   ]
  },
  {
   "cell_type": "code",
   "execution_count": 6,
   "metadata": {
    "collapsed": false,
    "deletable": true,
    "editable": true,
    "scrolled": true
   },
   "outputs": [
    {
     "name": "stdout",
     "output_type": "stream",
     "text": [
      "t1_c32bcq8\n",
      "---\n",
      "drays\n",
      "    QuirkyGroundhog\n",
      "        Sajentine\n",
      "            QuirkyGroundhog\n",
      "                drays\n",
      "                    QuirkyGroundhog\n",
      "                        drays\n",
      "                            QuirkyGroundhog\n",
      "                                drays\n",
      "                                    QuirkyGroundhog\n",
      "\n",
      "t1_c322oa7\n",
      "---\n",
      "[deleted-t1_c322oa7]\n",
      "    Aneeid\n",
      "    veedubbin86\n",
      "        figureskatingaintgay\n",
      "            sirspate\n",
      "        lovevolcano\n",
      "    bunny1979\n",
      "        veedubbin86\n",
      "            bunny1979\n",
      "    SoFaKiNg42\n",
      "\n",
      "t1_c32hv0h\n",
      "---\n",
      "Can-eh-dian\n",
      "    h00pla\n",
      "        Switchbladeannie\n",
      "        lengthynewt\n",
      "            h00pla\n",
      "                lengthynewt\n",
      "                    h00pla\n",
      "    thoriginal\n",
      "    lengthynewt\n",
      "    andrewmp\n",
      "\n"
     ]
    }
   ],
   "source": [
    "for thread in demo_threads:\n",
    "    print(thread)\n",
    "    print('---')\n",
    "    display_thread(thread)\n",
    "    print()"
   ]
  },
  {
   "cell_type": "markdown",
   "metadata": {
    "deletable": true,
    "editable": true
   },
   "source": [
    "One technical note: Since we don't have access to the author of deleted comments, we make the assumption for now that each deleted comment in a particular thread was written by the same author -- a potential source of noise in the subsequent analyses."
   ]
  },
  {
   "cell_type": "markdown",
   "metadata": {
    "deletable": true,
    "editable": true
   },
   "source": [
    "We now extract hypergraph features. "
   ]
  },
  {
   "cell_type": "code",
   "execution_count": 7,
   "metadata": {
    "collapsed": true,
    "deletable": true,
    "editable": true
   },
   "outputs": [],
   "source": [
    "# create a hyperconvo object and use it to extract features\n",
    "hc = convokit.HyperConvo(corpus)\n",
    "threads_feats = hc.retrieve_feats()"
   ]
  },
  {
   "cell_type": "code",
   "execution_count": 8,
   "metadata": {
    "collapsed": true,
    "deletable": true,
    "editable": true
   },
   "outputs": [],
   "source": [
    "def clean_value(x):\n",
    "    if np.isinf(x) or np.isnan(x):\n",
    "        return -1\n",
    "    return x"
   ]
  },
  {
   "cell_type": "code",
   "execution_count": 9,
   "metadata": {
    "collapsed": true,
    "deletable": true,
    "editable": true
   },
   "outputs": [],
   "source": [
    "feat_names = list(next(iter(threads_feats.values())).keys())"
   ]
  },
  {
   "cell_type": "code",
   "execution_count": 10,
   "metadata": {
    "collapsed": true,
    "deletable": true,
    "editable": true
   },
   "outputs": [],
   "source": [
    "thread_ids = []\n",
    "feats = []\n",
    "for key, feat_dict in threads_feats.items():\n",
    "    thread_ids.append(key)\n",
    "    feats.append([clean_value(feat_dict[k]) for k in feat_names])"
   ]
  },
  {
   "cell_type": "markdown",
   "metadata": {
    "deletable": true,
    "editable": true
   },
   "source": [
    "For later convenience we will store feature values in a dataframe:"
   ]
  },
  {
   "cell_type": "code",
   "execution_count": 11,
   "metadata": {
    "collapsed": true,
    "deletable": true,
    "editable": true
   },
   "outputs": [],
   "source": [
    "feat_df = pd.DataFrame(data=feats, index=thread_ids, columns=feat_names)"
   ]
  },
  {
   "cell_type": "markdown",
   "metadata": {
    "deletable": true,
    "editable": true
   },
   "source": [
    "Here are some examples of features computed over the three example threads from before:"
   ]
  },
  {
   "cell_type": "code",
   "execution_count": 12,
   "metadata": {
    "collapsed": true,
    "deletable": true,
    "editable": true
   },
   "outputs": [],
   "source": [
    "C_C_indegree_feats = [x for x in feat_names if 'indegree over C->C responses' in x]\n",
    "C_C_mid_outdegree_feats = [x for x in feat_names if 'outdegree over C->C mid-thread responses' in x]\n",
    "motif_count_feats = [x for x in feat_names if ('count' in x) and ('mid' not in x)]"
   ]
  },
  {
   "cell_type": "markdown",
   "metadata": {
    "deletable": true,
    "editable": true
   },
   "source": [
    "Features derived from the distribution of hypernode to hypernode indegrees (i.e., \"how many other people are responding to a particular discussion participant?\"). As in the paper, we compute various summary statistics over the distribution. \n",
    "\n",
    "As noted at the start of this notebook, since we do not have access to reaction information, these distributions encompass only the reply structure within the thread."
   ]
  },
  {
   "cell_type": "code",
   "execution_count": 13,
   "metadata": {
    "collapsed": false,
    "deletable": true,
    "editable": true,
    "scrolled": true
   },
   "outputs": [
    {
     "data": {
      "text/html": [
       "<div>\n",
       "<style>\n",
       "    .dataframe thead tr:only-child th {\n",
       "        text-align: right;\n",
       "    }\n",
       "\n",
       "    .dataframe thead th {\n",
       "        text-align: left;\n",
       "    }\n",
       "\n",
       "    .dataframe tbody tr th {\n",
       "        vertical-align: top;\n",
       "    }\n",
       "</style>\n",
       "<table border=\"1\" class=\"dataframe\">\n",
       "  <thead>\n",
       "    <tr style=\"text-align: right;\">\n",
       "      <th></th>\n",
       "      <th>t1_c32bcq8</th>\n",
       "      <th>t1_c322oa7</th>\n",
       "      <th>t1_c32hv0h</th>\n",
       "    </tr>\n",
       "  </thead>\n",
       "  <tbody>\n",
       "    <tr>\n",
       "      <th>2nd-argmax[indegree over C-&gt;C responses]</th>\n",
       "      <td>0.000000</td>\n",
       "      <td>2.000000</td>\n",
       "      <td>1.000000</td>\n",
       "    </tr>\n",
       "    <tr>\n",
       "      <th>2nd-largest / max[indegree over C-&gt;C responses]</th>\n",
       "      <td>0.500000</td>\n",
       "      <td>0.750000</td>\n",
       "      <td>0.500000</td>\n",
       "    </tr>\n",
       "    <tr>\n",
       "      <th>2nd-largest[indegree over C-&gt;C responses]</th>\n",
       "      <td>1.000000</td>\n",
       "      <td>3.000000</td>\n",
       "      <td>2.000000</td>\n",
       "    </tr>\n",
       "    <tr>\n",
       "      <th>argmax[indegree over C-&gt;C responses]</th>\n",
       "      <td>1.000000</td>\n",
       "      <td>0.000000</td>\n",
       "      <td>0.000000</td>\n",
       "    </tr>\n",
       "    <tr>\n",
       "      <th>entropy[indegree over C-&gt;C responses]</th>\n",
       "      <td>1.039721</td>\n",
       "      <td>1.214890</td>\n",
       "      <td>0.955700</td>\n",
       "    </tr>\n",
       "    <tr>\n",
       "      <th>max[indegree over C-&gt;C responses]</th>\n",
       "      <td>2.000000</td>\n",
       "      <td>4.000000</td>\n",
       "      <td>4.000000</td>\n",
       "    </tr>\n",
       "    <tr>\n",
       "      <th>mean-nonzero[indegree over C-&gt;C responses]</th>\n",
       "      <td>1.333333</td>\n",
       "      <td>2.250000</td>\n",
       "      <td>2.333333</td>\n",
       "    </tr>\n",
       "    <tr>\n",
       "      <th>mean[indegree over C-&gt;C responses]</th>\n",
       "      <td>1.333333</td>\n",
       "      <td>1.125000</td>\n",
       "      <td>1.166667</td>\n",
       "    </tr>\n",
       "    <tr>\n",
       "      <th>norm.2nd-largest[indegree over C-&gt;C responses]</th>\n",
       "      <td>0.250000</td>\n",
       "      <td>0.333333</td>\n",
       "      <td>0.285714</td>\n",
       "    </tr>\n",
       "    <tr>\n",
       "      <th>norm.max[indegree over C-&gt;C responses]</th>\n",
       "      <td>0.500000</td>\n",
       "      <td>0.444444</td>\n",
       "      <td>0.571429</td>\n",
       "    </tr>\n",
       "    <tr>\n",
       "      <th>prop-multiple[indegree over C-&gt;C responses]</th>\n",
       "      <td>0.333333</td>\n",
       "      <td>0.500000</td>\n",
       "      <td>0.666667</td>\n",
       "    </tr>\n",
       "    <tr>\n",
       "      <th>prop-nonzero[indegree over C-&gt;C responses]</th>\n",
       "      <td>1.000000</td>\n",
       "      <td>0.500000</td>\n",
       "      <td>0.500000</td>\n",
       "    </tr>\n",
       "  </tbody>\n",
       "</table>\n",
       "</div>"
      ],
      "text/plain": [
       "                                                 t1_c32bcq8  t1_c322oa7  \\\n",
       "2nd-argmax[indegree over C->C responses]           0.000000    2.000000   \n",
       "2nd-largest / max[indegree over C->C responses]    0.500000    0.750000   \n",
       "2nd-largest[indegree over C->C responses]          1.000000    3.000000   \n",
       "argmax[indegree over C->C responses]               1.000000    0.000000   \n",
       "entropy[indegree over C->C responses]              1.039721    1.214890   \n",
       "max[indegree over C->C responses]                  2.000000    4.000000   \n",
       "mean-nonzero[indegree over C->C responses]         1.333333    2.250000   \n",
       "mean[indegree over C->C responses]                 1.333333    1.125000   \n",
       "norm.2nd-largest[indegree over C->C responses]     0.250000    0.333333   \n",
       "norm.max[indegree over C->C responses]             0.500000    0.444444   \n",
       "prop-multiple[indegree over C->C responses]        0.333333    0.500000   \n",
       "prop-nonzero[indegree over C->C responses]         1.000000    0.500000   \n",
       "\n",
       "                                                 t1_c32hv0h  \n",
       "2nd-argmax[indegree over C->C responses]           1.000000  \n",
       "2nd-largest / max[indegree over C->C responses]    0.500000  \n",
       "2nd-largest[indegree over C->C responses]          2.000000  \n",
       "argmax[indegree over C->C responses]               0.000000  \n",
       "entropy[indegree over C->C responses]              0.955700  \n",
       "max[indegree over C->C responses]                  4.000000  \n",
       "mean-nonzero[indegree over C->C responses]         2.333333  \n",
       "mean[indegree over C->C responses]                 1.166667  \n",
       "norm.2nd-largest[indegree over C->C responses]     0.285714  \n",
       "norm.max[indegree over C->C responses]             0.571429  \n",
       "prop-multiple[indegree over C->C responses]        0.666667  \n",
       "prop-nonzero[indegree over C->C responses]         0.500000  "
      ]
     },
     "execution_count": 13,
     "metadata": {},
     "output_type": "execute_result"
    }
   ],
   "source": [
    "feat_df.loc[demo_threads][C_C_indegree_feats].T.sort_index()"
   ]
  },
  {
   "cell_type": "markdown",
   "metadata": {
    "deletable": true,
    "editable": true
   },
   "source": [
    "Features derived from the distribution of hypernode to hypernode outdegrees in the _middle_ of the thread (i.e., \"beyond the root comment, how many other people is each participant responding to?\"). "
   ]
  },
  {
   "cell_type": "code",
   "execution_count": 14,
   "metadata": {
    "collapsed": false,
    "deletable": true,
    "editable": true
   },
   "outputs": [
    {
     "data": {
      "text/html": [
       "<div>\n",
       "<style>\n",
       "    .dataframe thead tr:only-child th {\n",
       "        text-align: right;\n",
       "    }\n",
       "\n",
       "    .dataframe thead th {\n",
       "        text-align: left;\n",
       "    }\n",
       "\n",
       "    .dataframe tbody tr th {\n",
       "        vertical-align: top;\n",
       "    }\n",
       "</style>\n",
       "<table border=\"1\" class=\"dataframe\">\n",
       "  <thead>\n",
       "    <tr style=\"text-align: right;\">\n",
       "      <th></th>\n",
       "      <th>t1_c32bcq8</th>\n",
       "      <th>t1_c322oa7</th>\n",
       "      <th>t1_c32hv0h</th>\n",
       "    </tr>\n",
       "  </thead>\n",
       "  <tbody>\n",
       "    <tr>\n",
       "      <th>2nd-argmax[outdegree over C-&gt;C mid-thread responses]</th>\n",
       "      <td>1.000000</td>\n",
       "      <td>2.000000</td>\n",
       "      <td>1.000000</td>\n",
       "    </tr>\n",
       "    <tr>\n",
       "      <th>2nd-largest / max[outdegree over C-&gt;C mid-thread responses]</th>\n",
       "      <td>0.500000</td>\n",
       "      <td>1.000000</td>\n",
       "      <td>1.000000</td>\n",
       "    </tr>\n",
       "    <tr>\n",
       "      <th>2nd-largest[outdegree over C-&gt;C mid-thread responses]</th>\n",
       "      <td>1.000000</td>\n",
       "      <td>1.000000</td>\n",
       "      <td>1.000000</td>\n",
       "    </tr>\n",
       "    <tr>\n",
       "      <th>argmax[outdegree over C-&gt;C mid-thread responses]</th>\n",
       "      <td>0.000000</td>\n",
       "      <td>1.000000</td>\n",
       "      <td>0.000000</td>\n",
       "    </tr>\n",
       "    <tr>\n",
       "      <th>entropy[outdegree over C-&gt;C mid-thread responses]</th>\n",
       "      <td>1.039721</td>\n",
       "      <td>1.609438</td>\n",
       "      <td>1.098612</td>\n",
       "    </tr>\n",
       "    <tr>\n",
       "      <th>max[outdegree over C-&gt;C mid-thread responses]</th>\n",
       "      <td>2.000000</td>\n",
       "      <td>1.000000</td>\n",
       "      <td>1.000000</td>\n",
       "    </tr>\n",
       "    <tr>\n",
       "      <th>mean-nonzero[outdegree over C-&gt;C mid-thread responses]</th>\n",
       "      <td>1.333333</td>\n",
       "      <td>1.000000</td>\n",
       "      <td>1.000000</td>\n",
       "    </tr>\n",
       "    <tr>\n",
       "      <th>mean[outdegree over C-&gt;C mid-thread responses]</th>\n",
       "      <td>1.333333</td>\n",
       "      <td>0.714286</td>\n",
       "      <td>0.600000</td>\n",
       "    </tr>\n",
       "    <tr>\n",
       "      <th>norm.2nd-largest[outdegree over C-&gt;C mid-thread responses]</th>\n",
       "      <td>0.250000</td>\n",
       "      <td>0.200000</td>\n",
       "      <td>0.333333</td>\n",
       "    </tr>\n",
       "    <tr>\n",
       "      <th>norm.max[outdegree over C-&gt;C mid-thread responses]</th>\n",
       "      <td>0.500000</td>\n",
       "      <td>0.200000</td>\n",
       "      <td>0.333333</td>\n",
       "    </tr>\n",
       "    <tr>\n",
       "      <th>prop-multiple[outdegree over C-&gt;C mid-thread responses]</th>\n",
       "      <td>0.333333</td>\n",
       "      <td>0.000000</td>\n",
       "      <td>0.000000</td>\n",
       "    </tr>\n",
       "    <tr>\n",
       "      <th>prop-nonzero[outdegree over C-&gt;C mid-thread responses]</th>\n",
       "      <td>1.000000</td>\n",
       "      <td>0.714286</td>\n",
       "      <td>0.600000</td>\n",
       "    </tr>\n",
       "  </tbody>\n",
       "</table>\n",
       "</div>"
      ],
      "text/plain": [
       "                                                    t1_c32bcq8  t1_c322oa7  \\\n",
       "2nd-argmax[outdegree over C->C mid-thread respo...    1.000000    2.000000   \n",
       "2nd-largest / max[outdegree over C->C mid-threa...    0.500000    1.000000   \n",
       "2nd-largest[outdegree over C->C mid-thread resp...    1.000000    1.000000   \n",
       "argmax[outdegree over C->C mid-thread responses]      0.000000    1.000000   \n",
       "entropy[outdegree over C->C mid-thread responses]     1.039721    1.609438   \n",
       "max[outdegree over C->C mid-thread responses]         2.000000    1.000000   \n",
       "mean-nonzero[outdegree over C->C mid-thread res...    1.333333    1.000000   \n",
       "mean[outdegree over C->C mid-thread responses]        1.333333    0.714286   \n",
       "norm.2nd-largest[outdegree over C->C mid-thread...    0.250000    0.200000   \n",
       "norm.max[outdegree over C->C mid-thread responses]    0.500000    0.200000   \n",
       "prop-multiple[outdegree over C->C mid-thread re...    0.333333    0.000000   \n",
       "prop-nonzero[outdegree over C->C mid-thread res...    1.000000    0.714286   \n",
       "\n",
       "                                                    t1_c32hv0h  \n",
       "2nd-argmax[outdegree over C->C mid-thread respo...    1.000000  \n",
       "2nd-largest / max[outdegree over C->C mid-threa...    1.000000  \n",
       "2nd-largest[outdegree over C->C mid-thread resp...    1.000000  \n",
       "argmax[outdegree over C->C mid-thread responses]      0.000000  \n",
       "entropy[outdegree over C->C mid-thread responses]     1.098612  \n",
       "max[outdegree over C->C mid-thread responses]         1.000000  \n",
       "mean-nonzero[outdegree over C->C mid-thread res...    1.000000  \n",
       "mean[outdegree over C->C mid-thread responses]        0.600000  \n",
       "norm.2nd-largest[outdegree over C->C mid-thread...    0.333333  \n",
       "norm.max[outdegree over C->C mid-thread responses]    0.333333  \n",
       "prop-multiple[outdegree over C->C mid-thread re...    0.000000  \n",
       "prop-nonzero[outdegree over C->C mid-thread res...    0.600000  "
      ]
     },
     "execution_count": 14,
     "metadata": {},
     "output_type": "execute_result"
    }
   ],
   "source": [
    "feat_df.loc[demo_threads][C_C_mid_outdegree_feats].T.sort_index()"
   ]
  },
  {
   "cell_type": "markdown",
   "metadata": {
    "deletable": true,
    "editable": true
   },
   "source": [
    "Features derived from the 5 motifs considered in the paper. Note that because we do not have reply information, we instead take as features _counts_ of each motif (in the paper, we would additionally compare reply or reaction edge types within motifs of a particular form)"
   ]
  },
  {
   "cell_type": "code",
   "execution_count": 15,
   "metadata": {
    "collapsed": false,
    "deletable": true,
    "editable": true
   },
   "outputs": [
    {
     "data": {
      "text/html": [
       "<div>\n",
       "<style>\n",
       "    .dataframe thead tr:only-child th {\n",
       "        text-align: right;\n",
       "    }\n",
       "\n",
       "    .dataframe thead th {\n",
       "        text-align: left;\n",
       "    }\n",
       "\n",
       "    .dataframe tbody tr th {\n",
       "        vertical-align: top;\n",
       "    }\n",
       "</style>\n",
       "<table border=\"1\" class=\"dataframe\">\n",
       "  <thead>\n",
       "    <tr style=\"text-align: right;\">\n",
       "      <th></th>\n",
       "      <th>t1_c32bcq8</th>\n",
       "      <th>t1_c322oa7</th>\n",
       "      <th>t1_c32hv0h</th>\n",
       "    </tr>\n",
       "  </thead>\n",
       "  <tbody>\n",
       "    <tr>\n",
       "      <th>count[dyadic interaction motif]</th>\n",
       "      <td>4</td>\n",
       "      <td>2</td>\n",
       "      <td>2</td>\n",
       "    </tr>\n",
       "    <tr>\n",
       "      <th>count[external reciprocity motif]</th>\n",
       "      <td>2</td>\n",
       "      <td>4</td>\n",
       "      <td>2</td>\n",
       "    </tr>\n",
       "    <tr>\n",
       "      <th>count[incoming triads]</th>\n",
       "      <td>1</td>\n",
       "      <td>9</td>\n",
       "      <td>7</td>\n",
       "    </tr>\n",
       "    <tr>\n",
       "      <th>count[outgoing triads]</th>\n",
       "      <td>28</td>\n",
       "      <td>17</td>\n",
       "      <td>23</td>\n",
       "    </tr>\n",
       "    <tr>\n",
       "      <th>count[reciprocity motif]</th>\n",
       "      <td>6</td>\n",
       "      <td>1</td>\n",
       "      <td>3</td>\n",
       "    </tr>\n",
       "  </tbody>\n",
       "</table>\n",
       "</div>"
      ],
      "text/plain": [
       "                                   t1_c32bcq8  t1_c322oa7  t1_c32hv0h\n",
       "count[dyadic interaction motif]             4           2           2\n",
       "count[external reciprocity motif]           2           4           2\n",
       "count[incoming triads]                      1           9           7\n",
       "count[outgoing triads]                     28          17          23\n",
       "count[reciprocity motif]                    6           1           3"
      ]
     },
     "execution_count": 15,
     "metadata": {},
     "output_type": "execute_result"
    }
   ],
   "source": [
    "feat_df.loc[demo_threads][motif_count_feats].T.sort_index()"
   ]
  },
  {
   "cell_type": "code",
   "execution_count": null,
   "metadata": {
    "collapsed": true,
    "deletable": true,
    "editable": true
   },
   "outputs": [],
   "source": []
  },
  {
   "cell_type": "markdown",
   "metadata": {
    "deletable": true,
    "editable": true
   },
   "source": [
    "While the features generated above can be used as is (e.g., as features in a prediction task), we can also interpret them by projecting them into a low-dimensional space. "
   ]
  },
  {
   "cell_type": "code",
   "execution_count": 16,
   "metadata": {
    "collapsed": true,
    "deletable": true,
    "editable": true
   },
   "outputs": [],
   "source": [
    "from sklearn.preprocessing import Imputer, Normalizer, StandardScaler\n",
    "from sklearn.decomposition import TruncatedSVD\n",
    "from sklearn.manifold import TSNE\n",
    "from sklearn.metrics.pairwise import pairwise_distances"
   ]
  },
  {
   "cell_type": "code",
   "execution_count": 17,
   "metadata": {
    "collapsed": true,
    "deletable": true,
    "editable": true
   },
   "outputs": [],
   "source": [
    "feat_mtx = Imputer(axis=1, missing_values=-1).fit_transform(feat_df.values)\n",
    "feat_mtx = StandardScaler().fit_transform(feat_mtx)"
   ]
  },
  {
   "cell_type": "code",
   "execution_count": 18,
   "metadata": {
    "collapsed": true,
    "deletable": true,
    "editable": true
   },
   "outputs": [],
   "source": [
    "svd = TruncatedSVD(n_components=7, algorithm='arpack') # deals with an issue where the randomized alg hangs\n",
    "svd.fit(feat_mtx)\n",
    "U, s, V = svd.transform(feat_mtx) / svd.singular_values_, \\\n",
    "        svd.singular_values_, \\\n",
    "        svd.components_.T"
   ]
  },
  {
   "cell_type": "code",
   "execution_count": 19,
   "metadata": {
    "collapsed": true,
    "deletable": true,
    "editable": true
   },
   "outputs": [],
   "source": [
    "U_norm = Normalizer().fit_transform(U)\n",
    "V_norm = Normalizer().fit_transform(V)\n",
    "U_df = pd.DataFrame(data=U_norm, index=feat_df.index)\n",
    "V_df = pd.DataFrame(data=V_norm, index=feat_names)"
   ]
  },
  {
   "cell_type": "markdown",
   "metadata": {
    "deletable": true,
    "editable": true
   },
   "source": [
    "This embedding procedure produces embeddings of threads in the low-dimensional space:"
   ]
  },
  {
   "cell_type": "code",
   "execution_count": 20,
   "metadata": {
    "collapsed": false,
    "deletable": true,
    "editable": true
   },
   "outputs": [
    {
     "data": {
      "text/html": [
       "<div>\n",
       "<style>\n",
       "    .dataframe thead tr:only-child th {\n",
       "        text-align: right;\n",
       "    }\n",
       "\n",
       "    .dataframe thead th {\n",
       "        text-align: left;\n",
       "    }\n",
       "\n",
       "    .dataframe tbody tr th {\n",
       "        vertical-align: top;\n",
       "    }\n",
       "</style>\n",
       "<table border=\"1\" class=\"dataframe\">\n",
       "  <thead>\n",
       "    <tr style=\"text-align: right;\">\n",
       "      <th></th>\n",
       "      <th>t1_c32bcq8</th>\n",
       "      <th>t1_c322oa7</th>\n",
       "      <th>t1_c32hv0h</th>\n",
       "    </tr>\n",
       "  </thead>\n",
       "  <tbody>\n",
       "    <tr>\n",
       "      <th>0</th>\n",
       "      <td>-0.763993</td>\n",
       "      <td>0.564640</td>\n",
       "      <td>0.349310</td>\n",
       "    </tr>\n",
       "    <tr>\n",
       "      <th>1</th>\n",
       "      <td>0.086591</td>\n",
       "      <td>0.004807</td>\n",
       "      <td>0.402699</td>\n",
       "    </tr>\n",
       "    <tr>\n",
       "      <th>2</th>\n",
       "      <td>-0.201495</td>\n",
       "      <td>-0.095324</td>\n",
       "      <td>0.408244</td>\n",
       "    </tr>\n",
       "    <tr>\n",
       "      <th>3</th>\n",
       "      <td>-0.008907</td>\n",
       "      <td>-0.471957</td>\n",
       "      <td>-0.154638</td>\n",
       "    </tr>\n",
       "    <tr>\n",
       "      <th>4</th>\n",
       "      <td>0.149358</td>\n",
       "      <td>0.057710</td>\n",
       "      <td>-0.191944</td>\n",
       "    </tr>\n",
       "    <tr>\n",
       "      <th>5</th>\n",
       "      <td>0.503707</td>\n",
       "      <td>0.596794</td>\n",
       "      <td>0.652385</td>\n",
       "    </tr>\n",
       "    <tr>\n",
       "      <th>6</th>\n",
       "      <td>0.303493</td>\n",
       "      <td>-0.299725</td>\n",
       "      <td>-0.250583</td>\n",
       "    </tr>\n",
       "  </tbody>\n",
       "</table>\n",
       "</div>"
      ],
      "text/plain": [
       "   t1_c32bcq8  t1_c322oa7  t1_c32hv0h\n",
       "0   -0.763993    0.564640    0.349310\n",
       "1    0.086591    0.004807    0.402699\n",
       "2   -0.201495   -0.095324    0.408244\n",
       "3   -0.008907   -0.471957   -0.154638\n",
       "4    0.149358    0.057710   -0.191944\n",
       "5    0.503707    0.596794    0.652385\n",
       "6    0.303493   -0.299725   -0.250583"
      ]
     },
     "execution_count": 20,
     "metadata": {},
     "output_type": "execute_result"
    }
   ],
   "source": [
    "U_df.loc[demo_threads].T"
   ]
  },
  {
   "cell_type": "markdown",
   "metadata": {
    "deletable": true,
    "editable": true
   },
   "source": [
    "As well as embeddings of features:"
   ]
  },
  {
   "cell_type": "code",
   "execution_count": 21,
   "metadata": {
    "collapsed": false,
    "deletable": true,
    "editable": true
   },
   "outputs": [
    {
     "data": {
      "text/html": [
       "<div>\n",
       "<style>\n",
       "    .dataframe thead tr:only-child th {\n",
       "        text-align: right;\n",
       "    }\n",
       "\n",
       "    .dataframe thead th {\n",
       "        text-align: left;\n",
       "    }\n",
       "\n",
       "    .dataframe tbody tr th {\n",
       "        vertical-align: top;\n",
       "    }\n",
       "</style>\n",
       "<table border=\"1\" class=\"dataframe\">\n",
       "  <thead>\n",
       "    <tr style=\"text-align: right;\">\n",
       "      <th></th>\n",
       "      <th>0</th>\n",
       "      <th>1</th>\n",
       "      <th>2</th>\n",
       "      <th>3</th>\n",
       "      <th>4</th>\n",
       "      <th>5</th>\n",
       "      <th>6</th>\n",
       "    </tr>\n",
       "  </thead>\n",
       "  <tbody>\n",
       "    <tr>\n",
       "      <th>max[indegree over C-&gt;C responses]</th>\n",
       "      <td>0.710506</td>\n",
       "      <td>0.224969</td>\n",
       "      <td>-0.240780</td>\n",
       "      <td>0.496324</td>\n",
       "      <td>0.286453</td>\n",
       "      <td>1.508416e-15</td>\n",
       "      <td>0.241252</td>\n",
       "    </tr>\n",
       "    <tr>\n",
       "      <th>argmax[indegree over C-&gt;C responses]</th>\n",
       "      <td>-0.002336</td>\n",
       "      <td>-0.573649</td>\n",
       "      <td>0.166735</td>\n",
       "      <td>0.097913</td>\n",
       "      <td>0.529625</td>\n",
       "      <td>5.021272e-15</td>\n",
       "      <td>0.594164</td>\n",
       "    </tr>\n",
       "    <tr>\n",
       "      <th>norm.max[indegree over C-&gt;C responses]</th>\n",
       "      <td>0.109998</td>\n",
       "      <td>0.598809</td>\n",
       "      <td>0.492523</td>\n",
       "      <td>0.415606</td>\n",
       "      <td>0.460080</td>\n",
       "      <td>1.694160e-15</td>\n",
       "      <td>0.048449</td>\n",
       "    </tr>\n",
       "    <tr>\n",
       "      <th>2nd-largest[indegree over C-&gt;C responses]</th>\n",
       "      <td>0.303793</td>\n",
       "      <td>-0.618820</td>\n",
       "      <td>0.118172</td>\n",
       "      <td>-0.153434</td>\n",
       "      <td>-0.436491</td>\n",
       "      <td>-2.152814e-15</td>\n",
       "      <td>-0.544740</td>\n",
       "    </tr>\n",
       "    <tr>\n",
       "      <th>2nd-argmax[indegree over C-&gt;C responses]</th>\n",
       "      <td>0.219492</td>\n",
       "      <td>0.159185</td>\n",
       "      <td>-0.244122</td>\n",
       "      <td>-0.214119</td>\n",
       "      <td>-0.502880</td>\n",
       "      <td>-2.655773e-15</td>\n",
       "      <td>-0.753759</td>\n",
       "    </tr>\n",
       "    <tr>\n",
       "      <th>norm.2nd-largest[indegree over C-&gt;C responses]</th>\n",
       "      <td>-0.244008</td>\n",
       "      <td>0.032066</td>\n",
       "      <td>0.727223</td>\n",
       "      <td>-0.294696</td>\n",
       "      <td>-0.262217</td>\n",
       "      <td>-2.217021e-15</td>\n",
       "      <td>-0.504951</td>\n",
       "    </tr>\n",
       "    <tr>\n",
       "      <th>mean[indegree over C-&gt;C responses]</th>\n",
       "      <td>-0.213083</td>\n",
       "      <td>-0.238386</td>\n",
       "      <td>-0.299763</td>\n",
       "      <td>0.823891</td>\n",
       "      <td>-0.356075</td>\n",
       "      <td>-4.041811e-16</td>\n",
       "      <td>-0.048213</td>\n",
       "    </tr>\n",
       "    <tr>\n",
       "      <th>mean-nonzero[indegree over C-&gt;C responses]</th>\n",
       "      <td>0.596871</td>\n",
       "      <td>0.138377</td>\n",
       "      <td>0.433496</td>\n",
       "      <td>0.515524</td>\n",
       "      <td>-0.087199</td>\n",
       "      <td>1.614421e-15</td>\n",
       "      <td>0.404115</td>\n",
       "    </tr>\n",
       "    <tr>\n",
       "      <th>prop-nonzero[indegree over C-&gt;C responses]</th>\n",
       "      <td>-0.849557</td>\n",
       "      <td>-0.049263</td>\n",
       "      <td>-0.391765</td>\n",
       "      <td>0.265726</td>\n",
       "      <td>-0.227168</td>\n",
       "      <td>-3.358361e-16</td>\n",
       "      <td>-0.011477</td>\n",
       "    </tr>\n",
       "    <tr>\n",
       "      <th>prop-multiple[indegree over C-&gt;C responses]</th>\n",
       "      <td>0.365520</td>\n",
       "      <td>-0.472154</td>\n",
       "      <td>0.426635</td>\n",
       "      <td>0.378047</td>\n",
       "      <td>-0.563665</td>\n",
       "      <td>-1.910571e-15</td>\n",
       "      <td>-0.028449</td>\n",
       "    </tr>\n",
       "    <tr>\n",
       "      <th>entropy[indegree over C-&gt;C responses]</th>\n",
       "      <td>0.051201</td>\n",
       "      <td>-0.486892</td>\n",
       "      <td>-0.799089</td>\n",
       "      <td>-0.248717</td>\n",
       "      <td>-0.222269</td>\n",
       "      <td>2.289002e-16</td>\n",
       "      <td>0.102504</td>\n",
       "    </tr>\n",
       "    <tr>\n",
       "      <th>2nd-largest / max[indegree over C-&gt;C responses]</th>\n",
       "      <td>-0.232691</td>\n",
       "      <td>-0.312901</td>\n",
       "      <td>0.388110</td>\n",
       "      <td>-0.474217</td>\n",
       "      <td>-0.544153</td>\n",
       "      <td>-1.372924e-15</td>\n",
       "      <td>-0.419921</td>\n",
       "    </tr>\n",
       "  </tbody>\n",
       "</table>\n",
       "</div>"
      ],
      "text/plain": [
       "                                                        0         1         2  \\\n",
       "max[indegree over C->C responses]                0.710506  0.224969 -0.240780   \n",
       "argmax[indegree over C->C responses]            -0.002336 -0.573649  0.166735   \n",
       "norm.max[indegree over C->C responses]           0.109998  0.598809  0.492523   \n",
       "2nd-largest[indegree over C->C responses]        0.303793 -0.618820  0.118172   \n",
       "2nd-argmax[indegree over C->C responses]         0.219492  0.159185 -0.244122   \n",
       "norm.2nd-largest[indegree over C->C responses]  -0.244008  0.032066  0.727223   \n",
       "mean[indegree over C->C responses]              -0.213083 -0.238386 -0.299763   \n",
       "mean-nonzero[indegree over C->C responses]       0.596871  0.138377  0.433496   \n",
       "prop-nonzero[indegree over C->C responses]      -0.849557 -0.049263 -0.391765   \n",
       "prop-multiple[indegree over C->C responses]      0.365520 -0.472154  0.426635   \n",
       "entropy[indegree over C->C responses]            0.051201 -0.486892 -0.799089   \n",
       "2nd-largest / max[indegree over C->C responses] -0.232691 -0.312901  0.388110   \n",
       "\n",
       "                                                        3         4  \\\n",
       "max[indegree over C->C responses]                0.496324  0.286453   \n",
       "argmax[indegree over C->C responses]             0.097913  0.529625   \n",
       "norm.max[indegree over C->C responses]           0.415606  0.460080   \n",
       "2nd-largest[indegree over C->C responses]       -0.153434 -0.436491   \n",
       "2nd-argmax[indegree over C->C responses]        -0.214119 -0.502880   \n",
       "norm.2nd-largest[indegree over C->C responses]  -0.294696 -0.262217   \n",
       "mean[indegree over C->C responses]               0.823891 -0.356075   \n",
       "mean-nonzero[indegree over C->C responses]       0.515524 -0.087199   \n",
       "prop-nonzero[indegree over C->C responses]       0.265726 -0.227168   \n",
       "prop-multiple[indegree over C->C responses]      0.378047 -0.563665   \n",
       "entropy[indegree over C->C responses]           -0.248717 -0.222269   \n",
       "2nd-largest / max[indegree over C->C responses] -0.474217 -0.544153   \n",
       "\n",
       "                                                            5         6  \n",
       "max[indegree over C->C responses]                1.508416e-15  0.241252  \n",
       "argmax[indegree over C->C responses]             5.021272e-15  0.594164  \n",
       "norm.max[indegree over C->C responses]           1.694160e-15  0.048449  \n",
       "2nd-largest[indegree over C->C responses]       -2.152814e-15 -0.544740  \n",
       "2nd-argmax[indegree over C->C responses]        -2.655773e-15 -0.753759  \n",
       "norm.2nd-largest[indegree over C->C responses]  -2.217021e-15 -0.504951  \n",
       "mean[indegree over C->C responses]              -4.041811e-16 -0.048213  \n",
       "mean-nonzero[indegree over C->C responses]       1.614421e-15  0.404115  \n",
       "prop-nonzero[indegree over C->C responses]      -3.358361e-16 -0.011477  \n",
       "prop-multiple[indegree over C->C responses]     -1.910571e-15 -0.028449  \n",
       "entropy[indegree over C->C responses]            2.289002e-16  0.102504  \n",
       "2nd-largest / max[indegree over C->C responses] -1.372924e-15 -0.419921  "
      ]
     },
     "execution_count": 21,
     "metadata": {},
     "output_type": "execute_result"
    }
   ],
   "source": [
    "V_df.loc[C_C_indegree_feats]"
   ]
  },
  {
   "cell_type": "code",
   "execution_count": null,
   "metadata": {
    "collapsed": true,
    "deletable": true,
    "editable": true
   },
   "outputs": [],
   "source": []
  },
  {
   "cell_type": "markdown",
   "metadata": {
    "deletable": true,
    "editable": true
   },
   "source": [
    "As in the paper, for further interpretability we can consider embeddings of _communities_ (subreddits, standing for Facebook pages) in terms of the discussions they foster, by averaging the embeddings of all threads in a particular subreddit."
   ]
  },
  {
   "cell_type": "code",
   "execution_count": 22,
   "metadata": {
    "collapsed": true,
    "deletable": true,
    "editable": true
   },
   "outputs": [],
   "source": [
    "subreddits = []\n",
    "for thread_id in U_df.index:\n",
    "    subreddits.append(corpus.utterances[thread_id].user.info['subreddit'])\n",
    "U_df['subreddit'] = subreddits"
   ]
  },
  {
   "cell_type": "code",
   "execution_count": 23,
   "metadata": {
    "collapsed": true,
    "deletable": true,
    "editable": true
   },
   "outputs": [],
   "source": [
    "subreddit_means = U_df.groupby('subreddit').mean()\n",
    "subreddit_df = pd.DataFrame(\n",
    "        data=Normalizer().fit_transform(subreddit_means.values),\n",
    "        index = subreddit_means.index\n",
    "    )"
   ]
  },
  {
   "cell_type": "code",
   "execution_count": null,
   "metadata": {
    "collapsed": true,
    "deletable": true,
    "editable": true
   },
   "outputs": [],
   "source": []
  },
  {
   "cell_type": "markdown",
   "metadata": {
    "deletable": true,
    "editable": true
   },
   "source": [
    "First, let's give a rough overview of the space we've sketched out through this procedure, by visualizing the subreddit embeddings using the TSNE algorithm."
   ]
  },
  {
   "cell_type": "code",
   "execution_count": 24,
   "metadata": {
    "collapsed": true,
    "deletable": true,
    "editable": true
   },
   "outputs": [],
   "source": [
    "tsne = TSNE(random_state=2018)\n",
    "tsne_df = pd.DataFrame(data=tsne.fit_transform(subreddit_df.values),\n",
    "                      index=subreddit_df.index)"
   ]
  },
  {
   "cell_type": "code",
   "execution_count": 25,
   "metadata": {
    "collapsed": false,
    "deletable": true,
    "editable": true,
    "scrolled": false
   },
   "outputs": [
    {
     "data": {
      "image/png": "[encoded data removed]",
      "text/plain": [
       "<matplotlib.figure.Figure at 0x1da880b00>"
      ]
     },
     "metadata": {},
     "output_type": "display_data"
    }
   ],
   "source": [
    "plt.figure(figsize=(10,10))\n",
    "plt.scatter(tsne_df[0].values, tsne_df[1].values)\n",
    "for i, txt in enumerate(tsne_df.index):\n",
    "    plt.annotate(txt, (tsne_df.values[i,0], tsne_df.values[i,1]))\n",
    "plt.show()"
   ]
  },
  {
   "cell_type": "markdown",
   "metadata": {
    "deletable": true,
    "editable": true
   },
   "source": [
    "Looking across this plot, we can spot a few interpretable-looking groupings:"
   ]
  },
  {
   "cell_type": "code",
   "execution_count": 26,
   "metadata": {
    "collapsed": false,
    "deletable": true,
    "editable": true
   },
   "outputs": [
    {
     "data": {
      "image/png": "[encoded data removed]",
      "text/plain": [
       "<matplotlib.figure.Figure at 0x2872c4438>"
      ]
     },
     "metadata": {},
     "output_type": "display_data"
    }
   ],
   "source": [
    "games = [\"battlefield3\", \"Diablo\", \"DotA2\", \"Guildwars2\", \"leagueoflegends\", \"magicTCG\", \"Minecraft\", \"pokemon\", \"skyrim\", \"starcraft\", \"tf2\", \"wow\"]\n",
    "trade = [\"Dota2Trade\", \"pokemontrades\", \"SteamGameSwap\", \"tf2trade\", \"Random_Acts_Of_Amazon\"]\n",
    "sports = [\"baseball\", \"CFB\", \"hockey\", \"MMA\", \"nba\", \"nfl\", \"soccer\"]\n",
    "\n",
    "link_aggregators = [\"AskReddit\", \"WTF\", \"pics\", \"gifs\", \"aww\", \"funny\", \"todayilearned\",\n",
    "                   \"AdviceAnimals\"]\n",
    "relationships = [\"AskMen\", \"AskWomen\", \"relationships\", \"relationship_advice\", \"OkCupid\"]\n",
    "\n",
    "plt.scatter(tsne_df[0].values, tsne_df[1].values, color=\"#dddddd\")\n",
    "plt.scatter(tsne_df[0].values, tsne_df[1].values, color=[\n",
    "    \"green\" if l in games else\n",
    "    \"gold\" if l in trade else\n",
    "    \"purple\" if l in relationships else\n",
    "    \"red\" if l in link_aggregators else\n",
    "    \"blue\" if l in sports else\n",
    "    \"#00000000\"\n",
    "    for l in tsne_df.index])\n",
    "plt.show()"
   ]
  },
  {
   "cell_type": "markdown",
   "metadata": {
    "deletable": true,
    "editable": true
   },
   "source": [
    "For instance, video games (e.g., tf2, DotA2; red) tend to group together, along with buy-sell subreddits (e.g., tf2trade, Dota2Trade, yellow), subreddits related to relationships (e.g., AskWomen, relationship_advice; green) and large default-subreddit hubs for sharing random links (e.g., pics, AskReddit; purple)."
   ]
  },
  {
   "cell_type": "markdown",
   "metadata": {
    "deletable": true,
    "editable": true
   },
   "source": [
    "There may be other interesting groupings that you may spot as well -- for instance, a vaguely right-wing MensRights cluster (with Libertarian, guns); a rather intriguing cluster consisting of politics, sex, business, etc."
   ]
  },
  {
   "cell_type": "markdown",
   "metadata": {
    "deletable": true,
    "editable": true
   },
   "source": [
    "Some topical groups are more diffuse -- for instance, sports-based subreddits (blue). Perhaps this is a limitation of our representation, or that these subreddits actually foster very different interactional dynamics."
   ]
  },
  {
   "cell_type": "code",
   "execution_count": null,
   "metadata": {
    "collapsed": true,
    "deletable": true,
    "editable": true
   },
   "outputs": [],
   "source": []
  },
  {
   "cell_type": "markdown",
   "metadata": {
    "deletable": true,
    "editable": true
   },
   "source": [
    "Another way to delve into these groupings is to look at nearest neighbors of subreddits, in terms of the embedding:"
   ]
  },
  {
   "cell_type": "code",
   "execution_count": 27,
   "metadata": {
    "collapsed": true,
    "deletable": true,
    "editable": true,
    "scrolled": true
   },
   "outputs": [],
   "source": [
    "dists = pairwise_distances(subreddit_df.values, metric='cosine')\n",
    "flat_dists = np.ravel(dists)\n",
    "idx1, idx2 = np.unravel_index(np.arange(len(flat_dists)), dists.shape)\n",
    "pairwise_dist_df = pd.DataFrame.from_dict({'p1': subreddit_df.index[idx1],\n",
    "                                           'p2': subreddit_df.index[idx2],\n",
    "                                           'dist': flat_dists},\n",
    "                                           orient='columns')"
   ]
  },
  {
   "cell_type": "code",
   "execution_count": 28,
   "metadata": {
    "collapsed": true,
    "deletable": true,
    "editable": true
   },
   "outputs": [],
   "source": [
    "def print_nearest_neighbors(pairwise_dist_df, \n",
    "                           test_subreddits=[],\n",
    "                           top_N=10):\n",
    "    for subreddit in test_subreddits:\n",
    "        subset_df = pairwise_dist_df[(pairwise_dist_df.p1 == subreddit)\n",
    "                                 & (pairwise_dist_df.p2 != subreddit)]\n",
    "        print(subreddit)\n",
    "        print(subset_df.sort_values('dist')[['p2', 'dist']].head(top_N))\n",
    "        print()"
   ]
  },
  {
   "cell_type": "code",
   "execution_count": 29,
   "metadata": {
    "collapsed": false,
    "deletable": true,
    "editable": true,
    "scrolled": true
   },
   "outputs": [
    {
     "name": "stdout",
     "output_type": "stream",
     "text": [
      "apple\n",
      "                  p2      dist\n",
      "13745            DIY  0.002236\n",
      "13926            wow  0.002629\n",
      "13809         bestof  0.002902\n",
      "13815         canada  0.004141\n",
      "13799          anime  0.005326\n",
      "13744        Cooking  0.005883\n",
      "13923  unitedkingdom  0.005985\n",
      "13905         sports  0.006801\n",
      "13897        running  0.006864\n",
      "13755        Fitness  0.007233\n",
      "\n",
      "politics\n",
      "                    p2      dist\n",
      "31459  DoesAnybodyElse  0.003335\n",
      "31612             self  0.005498\n",
      "31636        worldnews  0.011706\n",
      "31504       TrueReddit  0.012328\n",
      "31525         business  0.012642\n",
      "31467           Frugal  0.014391\n",
      "31510            anime  0.014896\n",
      "31455          Cooking  0.015634\n",
      "31590             nsfw  0.015745\n",
      "31633       truegaming  0.015747\n",
      "\n",
      "leagueoflegends\n",
      "                        p2      dist\n",
      "25983        gameofthrones  0.004793\n",
      "26042               skyrim  0.007721\n",
      "25984               gaming  0.008184\n",
      "25963           cringepics  0.010090\n",
      "25976  fffffffuuuuuuuuuuuu  0.010099\n",
      "25946         battlefield3  0.011826\n",
      "25913            Minecraft  0.012727\n",
      "25982                funny  0.013682\n",
      "26045            starcraft  0.014123\n",
      "25951          breakingbad  0.014549\n",
      "\n",
      "AskWomen\n",
      "                        p2      dist\n",
      "1524      learnprogramming  0.004781\n",
      "1556         relationships  0.009634\n",
      "1520                 islam  0.010462\n",
      "1521             jailbreak  0.012702\n",
      "1398                AskMen  0.013804\n",
      "1492  electronic_cigarette  0.015049\n",
      "1555   relationship_advice  0.016147\n",
      "1439               OkCupid  0.017200\n",
      "1405          Conservative  0.018382\n",
      "1558             runescape  0.019050\n",
      "\n",
      "Music\n",
      "                 p2      dist\n",
      "8923        science  0.009634\n",
      "8830            aww  0.013396\n",
      "8949         videos  0.016821\n",
      "8898         movies  0.023404\n",
      "8762      AskReddit  0.024616\n",
      "8950      worldnews  0.025412\n",
      "8856  entertainment  0.028378\n",
      "8848         cringe  0.030709\n",
      "8821            WTF  0.032392\n",
      "8873           gifs  0.033250\n",
      "\n",
      "pics\n",
      "                  p2      dist\n",
      "31032  todayilearned  0.007183\n",
      "31038         videos  0.007318\n",
      "30957          funny  0.007322\n",
      "30962           gifs  0.008903\n",
      "30910            WTF  0.009059\n",
      "30959         gaming  0.011300\n",
      "30987         movies  0.017999\n",
      "30919            aww  0.020181\n",
      "31012        science  0.020506\n",
      "30937         cringe  0.021457\n",
      "\n",
      "australia\n",
      "                  p2      dist\n",
      "14648    harrypotter  0.000767\n",
      "14693        running  0.003095\n",
      "14548      Economics  0.003543\n",
      "14653         iphone  0.004269\n",
      "14668    motorcycles  0.004528\n",
      "14724        xboxone  0.004990\n",
      "14536        Bitcoin  0.005463\n",
      "14719  unitedkingdom  0.005543\n",
      "14606      bicycling  0.006743\n",
      "14681    photography  0.007971\n",
      "\n",
      "Random_Acts_Of_Amazon\n",
      "                  p2      dist\n",
      "10406  SteamGameSwap  0.019819\n",
      "10508            r4r  0.026513\n",
      "10434     casualiama  0.029980\n",
      "10444     depression  0.042014\n",
      "10395        POLITIC  0.061256\n",
      "10386      MLPLounge  0.068213\n",
      "10505  pokemontrades  0.070092\n",
      "10529    techsupport  0.075670\n",
      "10498     offmychest  0.081289\n",
      "10532       tf2trade  0.097677\n",
      "\n",
      "Bitcoin\n",
      "             p2      dist\n",
      "1917     iphone  0.002314\n",
      "1910       guns  0.002721\n",
      "1969   sysadmin  0.003125\n",
      "1876       cars  0.004937\n",
      "1864  australia  0.005463\n",
      "1988    xboxone  0.006143\n",
      "1812  Economics  0.006387\n",
      "1845    Seattle  0.007287\n",
      "1901   formula1  0.007376\n",
      "1957    running  0.008230\n",
      "\n",
      "MensRights\n",
      "                   p2      dist\n",
      "8204            NoFap  0.005443\n",
      "8218   SubredditDrama  0.006918\n",
      "8284            india  0.009703\n",
      "8167        BabyBumps  0.009720\n",
      "8328        seduction  0.011276\n",
      "8250       conspiracy  0.012630\n",
      "8190           Health  0.012820\n",
      "8294           loseit  0.014293\n",
      "8199  MakeupAddiction  0.015985\n",
      "8214   ShitRedditSays  0.015987\n",
      "\n"
     ]
    }
   ],
   "source": [
    "print_nearest_neighbors(pairwise_dist_df, ['apple', 'politics', 'leagueoflegends',\n",
    "                                          'AskWomen', 'Music', 'pics',\n",
    "                                          'australia', 'Random_Acts_Of_Amazon',\n",
    "                                          'Bitcoin', 'MensRights'])"
   ]
  },
  {
   "cell_type": "code",
   "execution_count": null,
   "metadata": {
    "collapsed": true,
    "deletable": true,
    "editable": true
   },
   "outputs": [],
   "source": []
  },
  {
   "cell_type": "markdown",
   "metadata": {
    "deletable": true,
    "editable": true
   },
   "source": [
    "We can also try to interpret each dimension of the embedding -- roughly speaking the threads, features and subreddits with extremal values along one dimension could be seen as characterizing a particular \"type\" of discussion, in terms of the discussion structure."
   ]
  },
  {
   "cell_type": "code",
   "execution_count": 36,
   "metadata": {
    "collapsed": true,
    "deletable": true,
    "editable": true
   },
   "outputs": [],
   "source": [
    "from IPython.display import display"
   ]
  },
  {
   "cell_type": "code",
   "execution_count": 37,
   "metadata": {
    "collapsed": true,
    "deletable": true,
    "editable": true
   },
   "outputs": [],
   "source": [
    "def display_dimension(dim, ascending=True, n=5):\n",
    "    top_threads = U_df.sort_values(dim, ascending=ascending).head(n)\n",
    "    display(top_threads)\n",
    "    display(V_df.sort_values(dim, ascending=ascending).head(n))\n",
    "    display(subreddit_df.sort_values(dim, ascending=ascending).head(n))\n",
    "    return top_threads.index"
   ]
  },
  {
   "cell_type": "code",
   "execution_count": null,
   "metadata": {
    "collapsed": true,
    "deletable": true,
    "editable": true
   },
   "outputs": [],
   "source": []
  },
  {
   "cell_type": "markdown",
   "metadata": {
    "collapsed": true,
    "deletable": true,
    "editable": true
   },
   "source": [
    "For instance, the first latent dimension divides the space of Reddit discussions between focused dialogues involving 2 people who repeatedly interact, and \"expansionary\" threads involving multiple people who generally only engage once (as with the corresponding dimension discussed in the paper, this echoes the contrast explored in papers such as Backstrom et. al, 2013). At the subreddit level, we see a divide between subreddits that are selling things (perhaps the dialogues consist of a buyer and a seller) and large default link-sharing subreddits like AskReddit and pics."
   ]
  },
  {
   "cell_type": "code",
   "execution_count": 38,
   "metadata": {
    "collapsed": false,
    "deletable": true,
    "editable": true,
    "scrolled": true
   },
   "outputs": [
    {
     "data": {
      "text/html": [
       "<div>\n",
       "<style>\n",
       "    .dataframe thead tr:only-child th {\n",
       "        text-align: right;\n",
       "    }\n",
       "\n",
       "    .dataframe thead th {\n",
       "        text-align: left;\n",
       "    }\n",
       "\n",
       "    .dataframe tbody tr th {\n",
       "        vertical-align: top;\n",
       "    }\n",
       "</style>\n",
       "<table border=\"1\" class=\"dataframe\">\n",
       "  <thead>\n",
       "    <tr style=\"text-align: right;\">\n",
       "      <th></th>\n",
       "      <th>0</th>\n",
       "      <th>1</th>\n",
       "      <th>2</th>\n",
       "      <th>3</th>\n",
       "      <th>4</th>\n",
       "      <th>5</th>\n",
       "      <th>6</th>\n",
       "      <th>subreddit</th>\n",
       "    </tr>\n",
       "  </thead>\n",
       "  <tbody>\n",
       "    <tr>\n",
       "      <th>t1_c078wax</th>\n",
       "      <td>-0.821803</td>\n",
       "      <td>0.144343</td>\n",
       "      <td>0.010208</td>\n",
       "      <td>0.270055</td>\n",
       "      <td>-0.052510</td>\n",
       "      <td>0.445647</td>\n",
       "      <td>0.171499</td>\n",
       "      <td>bestof</td>\n",
       "    </tr>\n",
       "    <tr>\n",
       "      <th>t1_c162oo1</th>\n",
       "      <td>-0.821803</td>\n",
       "      <td>0.144343</td>\n",
       "      <td>0.010208</td>\n",
       "      <td>0.270055</td>\n",
       "      <td>-0.052510</td>\n",
       "      <td>0.445647</td>\n",
       "      <td>0.171499</td>\n",
       "      <td>sysadmin</td>\n",
       "    </tr>\n",
       "    <tr>\n",
       "      <th>t1_c3dt6wl</th>\n",
       "      <td>-0.821803</td>\n",
       "      <td>0.144343</td>\n",
       "      <td>0.010208</td>\n",
       "      <td>0.270055</td>\n",
       "      <td>-0.052510</td>\n",
       "      <td>0.445647</td>\n",
       "      <td>0.171499</td>\n",
       "      <td>SubredditDrama</td>\n",
       "    </tr>\n",
       "    <tr>\n",
       "      <th>t1_c0jr74g</th>\n",
       "      <td>-0.819624</td>\n",
       "      <td>0.125139</td>\n",
       "      <td>-0.005970</td>\n",
       "      <td>0.263699</td>\n",
       "      <td>-0.056101</td>\n",
       "      <td>0.451136</td>\n",
       "      <td>0.190558</td>\n",
       "      <td>WeAreTheMusicMakers</td>\n",
       "    </tr>\n",
       "    <tr>\n",
       "      <th>t1_c33xihb</th>\n",
       "      <td>-0.819624</td>\n",
       "      <td>0.125139</td>\n",
       "      <td>-0.005970</td>\n",
       "      <td>0.263699</td>\n",
       "      <td>-0.056101</td>\n",
       "      <td>0.451136</td>\n",
       "      <td>0.190558</td>\n",
       "      <td>IAmA</td>\n",
       "    </tr>\n",
       "    <tr>\n",
       "      <th>t1_c2x55nd</th>\n",
       "      <td>-0.819624</td>\n",
       "      <td>0.125139</td>\n",
       "      <td>-0.005970</td>\n",
       "      <td>0.263699</td>\n",
       "      <td>-0.056101</td>\n",
       "      <td>0.451136</td>\n",
       "      <td>0.190558</td>\n",
       "      <td>harrypotter</td>\n",
       "    </tr>\n",
       "    <tr>\n",
       "      <th>t1_c2z5mua</th>\n",
       "      <td>-0.818690</td>\n",
       "      <td>0.116753</td>\n",
       "      <td>0.015024</td>\n",
       "      <td>0.303625</td>\n",
       "      <td>-0.109645</td>\n",
       "      <td>0.444958</td>\n",
       "      <td>0.117016</td>\n",
       "      <td>Drugs</td>\n",
       "    </tr>\n",
       "    <tr>\n",
       "      <th>t1_c2w6jv0</th>\n",
       "      <td>-0.816924</td>\n",
       "      <td>0.097293</td>\n",
       "      <td>-0.001070</td>\n",
       "      <td>0.297854</td>\n",
       "      <td>-0.113996</td>\n",
       "      <td>0.450676</td>\n",
       "      <td>0.135450</td>\n",
       "      <td>pokemontrades</td>\n",
       "    </tr>\n",
       "    <tr>\n",
       "      <th>t1_c3254js</th>\n",
       "      <td>-0.816924</td>\n",
       "      <td>0.097293</td>\n",
       "      <td>-0.001070</td>\n",
       "      <td>0.297854</td>\n",
       "      <td>-0.113996</td>\n",
       "      <td>0.450676</td>\n",
       "      <td>0.135450</td>\n",
       "      <td>mylittlepony</td>\n",
       "    </tr>\n",
       "    <tr>\n",
       "      <th>t1_c0glb1h</th>\n",
       "      <td>-0.816924</td>\n",
       "      <td>0.097293</td>\n",
       "      <td>-0.001070</td>\n",
       "      <td>0.297854</td>\n",
       "      <td>-0.113996</td>\n",
       "      <td>0.450676</td>\n",
       "      <td>0.135450</td>\n",
       "      <td>SuicideWatch</td>\n",
       "    </tr>\n",
       "  </tbody>\n",
       "</table>\n",
       "</div>"
      ],
      "text/plain": [
       "                   0         1         2         3         4         5  \\\n",
       "t1_c078wax -0.821803  0.144343  0.010208  0.270055 -0.052510  0.445647   \n",
       "t1_c162oo1 -0.821803  0.144343  0.010208  0.270055 -0.052510  0.445647   \n",
       "t1_c3dt6wl -0.821803  0.144343  0.010208  0.270055 -0.052510  0.445647   \n",
       "t1_c0jr74g -0.819624  0.125139 -0.005970  0.263699 -0.056101  0.451136   \n",
       "t1_c33xihb -0.819624  0.125139 -0.005970  0.263699 -0.056101  0.451136   \n",
       "t1_c2x55nd -0.819624  0.125139 -0.005970  0.263699 -0.056101  0.451136   \n",
       "t1_c2z5mua -0.818690  0.116753  0.015024  0.303625 -0.109645  0.444958   \n",
       "t1_c2w6jv0 -0.816924  0.097293 -0.001070  0.297854 -0.113996  0.450676   \n",
       "t1_c3254js -0.816924  0.097293 -0.001070  0.297854 -0.113996  0.450676   \n",
       "t1_c0glb1h -0.816924  0.097293 -0.001070  0.297854 -0.113996  0.450676   \n",
       "\n",
       "                   6            subreddit  \n",
       "t1_c078wax  0.171499               bestof  \n",
       "t1_c162oo1  0.171499             sysadmin  \n",
       "t1_c3dt6wl  0.171499       SubredditDrama  \n",
       "t1_c0jr74g  0.190558  WeAreTheMusicMakers  \n",
       "t1_c33xihb  0.190558                 IAmA  \n",
       "t1_c2x55nd  0.190558          harrypotter  \n",
       "t1_c2z5mua  0.117016                Drugs  \n",
       "t1_c2w6jv0  0.135450        pokemontrades  \n",
       "t1_c3254js  0.135450         mylittlepony  \n",
       "t1_c0glb1h  0.135450         SuicideWatch  "
      ]
     },
     "metadata": {},
     "output_type": "display_data"
    },
    {
     "data": {
      "text/html": [
       "<div>\n",
       "<style>\n",
       "    .dataframe thead tr:only-child th {\n",
       "        text-align: right;\n",
       "    }\n",
       "\n",
       "    .dataframe thead th {\n",
       "        text-align: left;\n",
       "    }\n",
       "\n",
       "    .dataframe tbody tr th {\n",
       "        vertical-align: top;\n",
       "    }\n",
       "</style>\n",
       "<table border=\"1\" class=\"dataframe\">\n",
       "  <thead>\n",
       "    <tr style=\"text-align: right;\">\n",
       "      <th></th>\n",
       "      <th>0</th>\n",
       "      <th>1</th>\n",
       "      <th>2</th>\n",
       "      <th>3</th>\n",
       "      <th>4</th>\n",
       "      <th>5</th>\n",
       "      <th>6</th>\n",
       "    </tr>\n",
       "  </thead>\n",
       "  <tbody>\n",
       "    <tr>\n",
       "      <th>prop-nonzero[indegree over C-&gt;C mid-thread responses]</th>\n",
       "      <td>-0.870963</td>\n",
       "      <td>-0.037875</td>\n",
       "      <td>-0.387940</td>\n",
       "      <td>0.233507</td>\n",
       "      <td>-0.186989</td>\n",
       "      <td>6.973184e-16</td>\n",
       "      <td>-0.001422</td>\n",
       "    </tr>\n",
       "    <tr>\n",
       "      <th>prop-nonzero[indegree over C-&gt;C responses]</th>\n",
       "      <td>-0.849557</td>\n",
       "      <td>-0.049263</td>\n",
       "      <td>-0.391765</td>\n",
       "      <td>0.265726</td>\n",
       "      <td>-0.227168</td>\n",
       "      <td>-3.358361e-16</td>\n",
       "      <td>-0.011477</td>\n",
       "    </tr>\n",
       "    <tr>\n",
       "      <th>count[reciprocity motif]</th>\n",
       "      <td>-0.841437</td>\n",
       "      <td>0.265396</td>\n",
       "      <td>0.403639</td>\n",
       "      <td>0.180257</td>\n",
       "      <td>0.140440</td>\n",
       "      <td>-1.319855e-15</td>\n",
       "      <td>-0.080056</td>\n",
       "    </tr>\n",
       "    <tr>\n",
       "      <th>count[reciprocity motif over mid-thread]</th>\n",
       "      <td>-0.837342</td>\n",
       "      <td>0.197731</td>\n",
       "      <td>0.460133</td>\n",
       "      <td>-0.067487</td>\n",
       "      <td>0.198505</td>\n",
       "      <td>5.670982e-16</td>\n",
       "      <td>0.063878</td>\n",
       "    </tr>\n",
       "    <tr>\n",
       "      <th>entropy[indegree over C-&gt;c responses]</th>\n",
       "      <td>-0.831430</td>\n",
       "      <td>-0.250933</td>\n",
       "      <td>-0.303808</td>\n",
       "      <td>-0.378285</td>\n",
       "      <td>0.042416</td>\n",
       "      <td>1.666622e-15</td>\n",
       "      <td>0.092517</td>\n",
       "    </tr>\n",
       "    <tr>\n",
       "      <th>entropy[indegree over c-&gt;c responses]</th>\n",
       "      <td>-0.831430</td>\n",
       "      <td>-0.250933</td>\n",
       "      <td>-0.303808</td>\n",
       "      <td>-0.378285</td>\n",
       "      <td>0.042416</td>\n",
       "      <td>1.463376e-15</td>\n",
       "      <td>0.092517</td>\n",
       "    </tr>\n",
       "    <tr>\n",
       "      <th>2nd-largest[outdegree over C-&gt;c responses]</th>\n",
       "      <td>-0.827351</td>\n",
       "      <td>0.266539</td>\n",
       "      <td>0.435242</td>\n",
       "      <td>-0.206965</td>\n",
       "      <td>-0.104455</td>\n",
       "      <td>-7.226179e-16</td>\n",
       "      <td>-0.035577</td>\n",
       "    </tr>\n",
       "    <tr>\n",
       "      <th>prop-nonzero[indegree over c-&gt;c mid-thread responses]</th>\n",
       "      <td>-0.825193</td>\n",
       "      <td>-0.011626</td>\n",
       "      <td>-0.321645</td>\n",
       "      <td>-0.352923</td>\n",
       "      <td>0.186450</td>\n",
       "      <td>7.734359e-16</td>\n",
       "      <td>0.236956</td>\n",
       "    </tr>\n",
       "    <tr>\n",
       "      <th>prop-nonzero[indegree over c-&gt;c responses]</th>\n",
       "      <td>-0.825193</td>\n",
       "      <td>-0.011626</td>\n",
       "      <td>-0.321645</td>\n",
       "      <td>-0.352923</td>\n",
       "      <td>0.186450</td>\n",
       "      <td>3.151128e-15</td>\n",
       "      <td>0.236956</td>\n",
       "    </tr>\n",
       "    <tr>\n",
       "      <th>prop-nonzero[indegree over C-&gt;c mid-thread responses]</th>\n",
       "      <td>-0.825193</td>\n",
       "      <td>-0.011626</td>\n",
       "      <td>-0.321645</td>\n",
       "      <td>-0.352923</td>\n",
       "      <td>0.186450</td>\n",
       "      <td>8.557694e-16</td>\n",
       "      <td>0.236956</td>\n",
       "    </tr>\n",
       "  </tbody>\n",
       "</table>\n",
       "</div>"
      ],
      "text/plain": [
       "                                                           0         1  \\\n",
       "prop-nonzero[indegree over C->C mid-thread resp... -0.870963 -0.037875   \n",
       "prop-nonzero[indegree over C->C responses]         -0.849557 -0.049263   \n",
       "count[reciprocity motif]                           -0.841437  0.265396   \n",
       "count[reciprocity motif over mid-thread]           -0.837342  0.197731   \n",
       "entropy[indegree over C->c responses]              -0.831430 -0.250933   \n",
       "entropy[indegree over c->c responses]              -0.831430 -0.250933   \n",
       "2nd-largest[outdegree over C->c responses]         -0.827351  0.266539   \n",
       "prop-nonzero[indegree over c->c mid-thread resp... -0.825193 -0.011626   \n",
       "prop-nonzero[indegree over c->c responses]         -0.825193 -0.011626   \n",
       "prop-nonzero[indegree over C->c mid-thread resp... -0.825193 -0.011626   \n",
       "\n",
       "                                                           2         3  \\\n",
       "prop-nonzero[indegree over C->C mid-thread resp... -0.387940  0.233507   \n",
       "prop-nonzero[indegree over C->C responses]         -0.391765  0.265726   \n",
       "count[reciprocity motif]                            0.403639  0.180257   \n",
       "count[reciprocity motif over mid-thread]            0.460133 -0.067487   \n",
       "entropy[indegree over C->c responses]              -0.303808 -0.378285   \n",
       "entropy[indegree over c->c responses]              -0.303808 -0.378285   \n",
       "2nd-largest[outdegree over C->c responses]          0.435242 -0.206965   \n",
       "prop-nonzero[indegree over c->c mid-thread resp... -0.321645 -0.352923   \n",
       "prop-nonzero[indegree over c->c responses]         -0.321645 -0.352923   \n",
       "prop-nonzero[indegree over C->c mid-thread resp... -0.321645 -0.352923   \n",
       "\n",
       "                                                           4             5  \\\n",
       "prop-nonzero[indegree over C->C mid-thread resp... -0.186989  6.973184e-16   \n",
       "prop-nonzero[indegree over C->C responses]         -0.227168 -3.358361e-16   \n",
       "count[reciprocity motif]                            0.140440 -1.319855e-15   \n",
       "count[reciprocity motif over mid-thread]            0.198505  5.670982e-16   \n",
       "entropy[indegree over C->c responses]               0.042416  1.666622e-15   \n",
       "entropy[indegree over c->c responses]               0.042416  1.463376e-15   \n",
       "2nd-largest[outdegree over C->c responses]         -0.104455 -7.226179e-16   \n",
       "prop-nonzero[indegree over c->c mid-thread resp...  0.186450  7.734359e-16   \n",
       "prop-nonzero[indegree over c->c responses]          0.186450  3.151128e-15   \n",
       "prop-nonzero[indegree over C->c mid-thread resp...  0.186450  8.557694e-16   \n",
       "\n",
       "                                                           6  \n",
       "prop-nonzero[indegree over C->C mid-thread resp... -0.001422  \n",
       "prop-nonzero[indegree over C->C responses]         -0.011477  \n",
       "count[reciprocity motif]                           -0.080056  \n",
       "count[reciprocity motif over mid-thread]            0.063878  \n",
       "entropy[indegree over C->c responses]               0.092517  \n",
       "entropy[indegree over c->c responses]               0.092517  \n",
       "2nd-largest[outdegree over C->c responses]         -0.035577  \n",
       "prop-nonzero[indegree over c->c mid-thread resp...  0.236956  \n",
       "prop-nonzero[indegree over c->c responses]          0.236956  \n",
       "prop-nonzero[indegree over C->c mid-thread resp...  0.236956  "
      ]
     },
     "metadata": {},
     "output_type": "display_data"
    },
    {
     "data": {
      "text/html": [
       "<div>\n",
       "<style>\n",
       "    .dataframe thead tr:only-child th {\n",
       "        text-align: right;\n",
       "    }\n",
       "\n",
       "    .dataframe thead th {\n",
       "        text-align: left;\n",
       "    }\n",
       "\n",
       "    .dataframe tbody tr th {\n",
       "        vertical-align: top;\n",
       "    }\n",
       "</style>\n",
       "<table border=\"1\" class=\"dataframe\">\n",
       "  <thead>\n",
       "    <tr style=\"text-align: right;\">\n",
       "      <th></th>\n",
       "      <th>0</th>\n",
       "      <th>1</th>\n",
       "      <th>2</th>\n",
       "      <th>3</th>\n",
       "      <th>4</th>\n",
       "      <th>5</th>\n",
       "      <th>6</th>\n",
       "    </tr>\n",
       "    <tr>\n",
       "      <th>subreddit</th>\n",
       "      <th></th>\n",
       "      <th></th>\n",
       "      <th></th>\n",
       "      <th></th>\n",
       "      <th></th>\n",
       "      <th></th>\n",
       "      <th></th>\n",
       "    </tr>\n",
       "  </thead>\n",
       "  <tbody>\n",
       "    <tr>\n",
       "      <th>casualiama</th>\n",
       "      <td>-0.699248</td>\n",
       "      <td>0.203084</td>\n",
       "      <td>0.279195</td>\n",
       "      <td>-0.081451</td>\n",
       "      <td>0.151318</td>\n",
       "      <td>0.596493</td>\n",
       "      <td>0.080769</td>\n",
       "    </tr>\n",
       "    <tr>\n",
       "      <th>Random_Acts_Of_Amazon</th>\n",
       "      <td>-0.685144</td>\n",
       "      <td>0.376145</td>\n",
       "      <td>0.205098</td>\n",
       "      <td>-0.174755</td>\n",
       "      <td>0.072810</td>\n",
       "      <td>0.557777</td>\n",
       "      <td>-0.008412</td>\n",
       "    </tr>\n",
       "    <tr>\n",
       "      <th>SteamGameSwap</th>\n",
       "      <td>-0.674723</td>\n",
       "      <td>0.256678</td>\n",
       "      <td>0.242336</td>\n",
       "      <td>-0.046239</td>\n",
       "      <td>0.093246</td>\n",
       "      <td>0.639739</td>\n",
       "      <td>0.006348</td>\n",
       "    </tr>\n",
       "    <tr>\n",
       "      <th>r4r</th>\n",
       "      <td>-0.659043</td>\n",
       "      <td>0.227259</td>\n",
       "      <td>0.343815</td>\n",
       "      <td>-0.094692</td>\n",
       "      <td>0.109432</td>\n",
       "      <td>0.612229</td>\n",
       "      <td>0.006393</td>\n",
       "    </tr>\n",
       "    <tr>\n",
       "      <th>Dota2Trade</th>\n",
       "      <td>-0.632609</td>\n",
       "      <td>0.022418</td>\n",
       "      <td>0.096140</td>\n",
       "      <td>0.046221</td>\n",
       "      <td>0.076501</td>\n",
       "      <td>0.761585</td>\n",
       "      <td>0.045395</td>\n",
       "    </tr>\n",
       "    <tr>\n",
       "      <th>depression</th>\n",
       "      <td>-0.620193</td>\n",
       "      <td>0.218765</td>\n",
       "      <td>0.294487</td>\n",
       "      <td>-0.003140</td>\n",
       "      <td>0.105620</td>\n",
       "      <td>0.685236</td>\n",
       "      <td>0.008186</td>\n",
       "    </tr>\n",
       "    <tr>\n",
       "      <th>POLITIC</th>\n",
       "      <td>-0.617011</td>\n",
       "      <td>0.153885</td>\n",
       "      <td>0.202127</td>\n",
       "      <td>0.003839</td>\n",
       "      <td>0.036805</td>\n",
       "      <td>0.742792</td>\n",
       "      <td>-0.040644</td>\n",
       "    </tr>\n",
       "    <tr>\n",
       "      <th>MLPLounge</th>\n",
       "      <td>-0.614435</td>\n",
       "      <td>0.177812</td>\n",
       "      <td>0.039293</td>\n",
       "      <td>-0.050739</td>\n",
       "      <td>0.017247</td>\n",
       "      <td>0.764065</td>\n",
       "      <td>0.051392</td>\n",
       "    </tr>\n",
       "    <tr>\n",
       "      <th>pokemontrades</th>\n",
       "      <td>-0.601041</td>\n",
       "      <td>0.327147</td>\n",
       "      <td>0.525439</td>\n",
       "      <td>-0.173563</td>\n",
       "      <td>0.106690</td>\n",
       "      <td>0.444829</td>\n",
       "      <td>-0.127510</td>\n",
       "    </tr>\n",
       "    <tr>\n",
       "      <th>offmychest</th>\n",
       "      <td>-0.596479</td>\n",
       "      <td>0.111184</td>\n",
       "      <td>0.159010</td>\n",
       "      <td>0.012063</td>\n",
       "      <td>0.071428</td>\n",
       "      <td>0.775446</td>\n",
       "      <td>0.001853</td>\n",
       "    </tr>\n",
       "  </tbody>\n",
       "</table>\n",
       "</div>"
      ],
      "text/plain": [
       "                              0         1         2         3         4  \\\n",
       "subreddit                                                                 \n",
       "casualiama            -0.699248  0.203084  0.279195 -0.081451  0.151318   \n",
       "Random_Acts_Of_Amazon -0.685144  0.376145  0.205098 -0.174755  0.072810   \n",
       "SteamGameSwap         -0.674723  0.256678  0.242336 -0.046239  0.093246   \n",
       "r4r                   -0.659043  0.227259  0.343815 -0.094692  0.109432   \n",
       "Dota2Trade            -0.632609  0.022418  0.096140  0.046221  0.076501   \n",
       "depression            -0.620193  0.218765  0.294487 -0.003140  0.105620   \n",
       "POLITIC               -0.617011  0.153885  0.202127  0.003839  0.036805   \n",
       "MLPLounge             -0.614435  0.177812  0.039293 -0.050739  0.017247   \n",
       "pokemontrades         -0.601041  0.327147  0.525439 -0.173563  0.106690   \n",
       "offmychest            -0.596479  0.111184  0.159010  0.012063  0.071428   \n",
       "\n",
       "                              5         6  \n",
       "subreddit                                  \n",
       "casualiama             0.596493  0.080769  \n",
       "Random_Acts_Of_Amazon  0.557777 -0.008412  \n",
       "SteamGameSwap          0.639739  0.006348  \n",
       "r4r                    0.612229  0.006393  \n",
       "Dota2Trade             0.761585  0.045395  \n",
       "depression             0.685236  0.008186  \n",
       "POLITIC                0.742792 -0.040644  \n",
       "MLPLounge              0.764065  0.051392  \n",
       "pokemontrades          0.444829 -0.127510  \n",
       "offmychest             0.775446  0.001853  "
      ]
     },
     "metadata": {},
     "output_type": "display_data"
    }
   ],
   "source": [
    "top_threads = display_dimension(0, n=10)"
   ]
  },
  {
   "cell_type": "code",
   "execution_count": null,
   "metadata": {
    "collapsed": false,
    "deletable": true,
    "editable": true,
    "scrolled": true
   },
   "outputs": [],
   "source": [
    "for thread in top_threads[:5]:\n",
    "    print(thread)\n",
    "    display_thread(thread)\n",
    "    print()"
   ]
  },
  {
   "cell_type": "code",
   "execution_count": null,
   "metadata": {
    "collapsed": false,
    "deletable": true,
    "editable": true,
    "scrolled": true
   },
   "outputs": [],
   "source": [
    "top_threads = display_dimension(0, ascending=False, n=10)"
   ]
  },
  {
   "cell_type": "code",
   "execution_count": null,
   "metadata": {
    "collapsed": false,
    "deletable": true,
    "editable": true,
    "scrolled": true
   },
   "outputs": [],
   "source": [
    "for thread in top_threads[:5]:\n",
    "    print(thread)\n",
    "    display_thread(thread)\n",
    "    print()"
   ]
  },
  {
   "cell_type": "code",
   "execution_count": null,
   "metadata": {
    "collapsed": true,
    "deletable": true,
    "editable": true
   },
   "outputs": [],
   "source": []
  },
  {
   "cell_type": "markdown",
   "metadata": {
    "deletable": true,
    "editable": true
   },
   "source": [
    "Another \"type\" of discussion surfaced at the extreme of another latent dimension corresponds to discussions which have a lot of activity in the middle of the thread, below the root  comment (indicated by the various mid-thread features which come to the fore). Subreddits here are often about more specialized topics -- e.g., programming, Bitcoin, cars."
   ]
  },
  {
   "cell_type": "code",
   "execution_count": null,
   "metadata": {
    "collapsed": false,
    "deletable": true,
    "editable": true,
    "scrolled": true
   },
   "outputs": [],
   "source": [
    "top_threads = display_dimension(1,  n=10)"
   ]
  },
  {
   "cell_type": "code",
   "execution_count": null,
   "metadata": {
    "collapsed": false,
    "deletable": true,
    "editable": true,
    "scrolled": true
   },
   "outputs": [],
   "source": [
    "for thread in top_threads[:5]:\n",
    "    print(thread)\n",
    "    display_thread(thread)\n",
    "    print()"
   ]
  },
  {
   "cell_type": "code",
   "execution_count": null,
   "metadata": {
    "collapsed": true,
    "deletable": true,
    "editable": true
   },
   "outputs": [],
   "source": []
  },
  {
   "cell_type": "markdown",
   "metadata": {
    "deletable": true,
    "editable": true
   },
   "source": [
    "The following discussion type consists of threads with a particularly active latecomer (indicated by the argmax[outdegree... features). "
   ]
  },
  {
   "cell_type": "code",
   "execution_count": null,
   "metadata": {
    "collapsed": false,
    "deletable": true,
    "editable": true,
    "scrolled": true
   },
   "outputs": [],
   "source": [
    "top_threads = display_dimension(2,  n=10)"
   ]
  },
  {
   "cell_type": "code",
   "execution_count": null,
   "metadata": {
    "collapsed": false,
    "deletable": true,
    "editable": true,
    "scrolled": true
   },
   "outputs": [],
   "source": [
    "for thread in top_threads[:5]:\n",
    "    print(thread)\n",
    "    display_thread(thread)\n",
    "    print()"
   ]
  },
  {
   "cell_type": "code",
   "execution_count": null,
   "metadata": {
    "collapsed": true,
    "deletable": true,
    "editable": true
   },
   "outputs": [],
   "source": []
  },
  {
   "cell_type": "markdown",
   "metadata": {
    "deletable": true,
    "editable": true
   },
   "source": [
    "And as a final example, this dimension splits the space between threads that are perfectly \"flat\": many comments replying to a single root (note that there are many threads of this form which share the exact same hypergraph topology as a result); and deeper discussions where multiple participants are highly active (indicated by e.g., the 2nd largest / largest, and prop-multiple features). At a higher level of aggregation we see a split between subreddits for making trades, and subreddits which are potentially more discussion-based."
   ]
  },
  {
   "cell_type": "code",
   "execution_count": null,
   "metadata": {
    "collapsed": false,
    "deletable": true,
    "editable": true
   },
   "outputs": [],
   "source": [
    "top_threads = display_dimension(5,  n=10)"
   ]
  },
  {
   "cell_type": "code",
   "execution_count": null,
   "metadata": {
    "collapsed": false,
    "deletable": true,
    "editable": true,
    "scrolled": true
   },
   "outputs": [],
   "source": [
    "for thread in top_threads[:5]:\n",
    "    print(thread)\n",
    "    display_thread(thread)\n",
    "    print()"
   ]
  },
  {
   "cell_type": "code",
   "execution_count": null,
   "metadata": {
    "collapsed": false,
    "deletable": true,
    "editable": true
   },
   "outputs": [],
   "source": [
    "top_threads = display_dimension(5, ascending=False, n=10)"
   ]
  },
  {
   "cell_type": "code",
   "execution_count": null,
   "metadata": {
    "collapsed": false,
    "deletable": true,
    "editable": true
   },
   "outputs": [],
   "source": [
    "for thread in top_threads[:5]:\n",
    "    print(thread)\n",
    "    display_thread(thread)\n",
    "    print()"
   ]
  },
  {
   "cell_type": "markdown",
   "metadata": {
    "deletable": true,
    "editable": true
   },
   "source": [
    "This dimension highlights two interesting points:\n",
    "\n",
    "* discussion structures, as in the Facebook data, might help us draw interesting parallels between subreddits which are topically different (e.g., politics, business and sex -- certainly a somewhat clickbaity grouping). Of course, one should delve deeper into the interpretation than what we've presented here in order to make sense of this.\n",
    "* There might be aspects of the _tree_ structure that we could delve into further. Reddit, in contrast to Facebook, explicitly renders all branching in the discussion tree beyond the first reply. Might there be different interactional dynamics on the two platforms as a result of this, or additional features we may have  presently neglected to include, that become especially salient on Reddit?"
   ]
  },
  {
   "cell_type": "code",
   "execution_count": null,
   "metadata": {
    "collapsed": true,
    "deletable": true,
    "editable": true
   },
   "outputs": [],
   "source": []
  },
  {
   "cell_type": "code",
   "execution_count": null,
   "metadata": {
    "collapsed": true,
    "deletable": true,
    "editable": true
   },
   "outputs": [],
   "source": []
  },
  {
   "cell_type": "code",
   "execution_count": null,
   "metadata": {
    "collapsed": true,
    "deletable": true,
    "editable": true
   },
   "outputs": [],
   "source": []
  },
  {
   "cell_type": "code",
   "execution_count": null,
   "metadata": {
    "collapsed": true,
    "deletable": true,
    "editable": true
   },
   "outputs": [],
   "source": []
  },
  {
   "cell_type": "code",
   "execution_count": null,
   "metadata": {
    "collapsed": true,
    "deletable": true,
    "editable": true
   },
   "outputs": [],
   "source": []
  },
  {
   "cell_type": "code",
   "execution_count": null,
   "metadata": {
    "collapsed": true,
    "deletable": true,
    "editable": true
   },
   "outputs": [],
   "source": []
  },
  {
   "cell_type": "code",
   "execution_count": null,
   "metadata": {
    "collapsed": true,
    "deletable": true,
    "editable": true
   },
   "outputs": [],
   "source": []
  },
  {
   "cell_type": "code",
   "execution_count": null,
   "metadata": {
    "collapsed": true,
    "deletable": true,
    "editable": true
   },
   "outputs": [],
   "source": []
  },
  {
   "cell_type": "code",
   "execution_count": null,
   "metadata": {
    "collapsed": true,
    "deletable": true,
    "editable": true
   },
   "outputs": [],
   "source": []
  },
  {
   "cell_type": "code",
   "execution_count": null,
   "metadata": {
    "collapsed": true,
    "deletable": true,
    "editable": true
   },
   "outputs": [],
   "source": []
  },
  {
   "cell_type": "code",
   "execution_count": null,
   "metadata": {
    "collapsed": true,
    "deletable": true,
    "editable": true
   },
   "outputs": [],
   "source": []
  },
  {
   "cell_type": "code",
   "execution_count": null,
   "metadata": {
    "collapsed": true,
    "deletable": true,
    "editable": true
   },
   "outputs": [],
   "source": []
  },
  {
   "cell_type": "code",
   "execution_count": null,
   "metadata": {
    "collapsed": true,
    "deletable": true,
    "editable": true
   },
   "outputs": [],
   "source": []
  },
  {
   "cell_type": "code",
   "execution_count": null,
   "metadata": {
    "collapsed": true,
    "deletable": true,
    "editable": true
   },
   "outputs": [],
   "source": []
  },
  {
   "cell_type": "code",
   "execution_count": null,
   "metadata": {
    "collapsed": true,
    "deletable": true,
    "editable": true
   },
   "outputs": [],
   "source": []
  },
  {
   "cell_type": "code",
   "execution_count": null,
   "metadata": {
    "collapsed": true,
    "deletable": true,
    "editable": true
   },
   "outputs": [],
   "source": []
  },
  {
   "cell_type": "code",
   "execution_count": null,
   "metadata": {
    "collapsed": true,
    "deletable": true,
    "editable": true
   },
   "outputs": [],
   "source": []
  },
  {
   "cell_type": "code",
   "execution_count": null,
   "metadata": {
    "collapsed": true,
    "deletable": true,
    "editable": true
   },
   "outputs": [],
   "source": []
  },
  {
   "cell_type": "code",
   "execution_count": null,
   "metadata": {
    "collapsed": true,
    "deletable": true,
    "editable": true
   },
   "outputs": [],
   "source": []
  },
  {
   "cell_type": "code",
   "execution_count": null,
   "metadata": {
    "collapsed": true,
    "deletable": true,
    "editable": true
   },
   "outputs": [],
   "source": []
  },
  {
   "cell_type": "code",
   "execution_count": null,
   "metadata": {
    "collapsed": true,
    "deletable": true,
    "editable": true
   },
   "outputs": [],
   "source": []
  },
  {
   "cell_type": "code",
   "execution_count": null,
   "metadata": {
    "collapsed": true,
    "deletable": true,
    "editable": true
   },
   "outputs": [],
   "source": []
  },
  {
   "cell_type": "code",
   "execution_count": null,
   "metadata": {
    "collapsed": true,
    "deletable": true,
    "editable": true
   },
   "outputs": [],
   "source": []
  },
  {
   "cell_type": "code",
   "execution_count": null,
   "metadata": {
    "collapsed": true,
    "deletable": true,
    "editable": true
   },
   "outputs": [],
   "source": []
  },
  {
   "cell_type": "code",
   "execution_count": null,
   "metadata": {
    "collapsed": true,
    "deletable": true,
    "editable": true
   },
   "outputs": [],
   "source": []
  },
  {
   "cell_type": "code",
   "execution_count": null,
   "metadata": {
    "collapsed": true,
    "deletable": true,
    "editable": true
   },
   "outputs": [],
   "source": []
  },
  {
   "cell_type": "code",
   "execution_count": null,
   "metadata": {
    "collapsed": true,
    "deletable": true,
    "editable": true
   },
   "outputs": [],
   "source": []
  },
  {
   "cell_type": "code",
   "execution_count": null,
   "metadata": {
    "collapsed": true,
    "deletable": true,
    "editable": true
   },
   "outputs": [],
   "source": []
  },
  {
   "cell_type": "code",
   "execution_count": null,
   "metadata": {
    "collapsed": true,
    "deletable": true,
    "editable": true
   },
   "outputs": [],
   "source": []
  },
  {
   "cell_type": "code",
   "execution_count": null,
   "metadata": {
    "collapsed": true,
    "deletable": true,
    "editable": true
   },
   "outputs": [],
   "source": []
  },
  {
   "cell_type": "code",
   "execution_count": null,
   "metadata": {
    "collapsed": true,
    "deletable": true,
    "editable": true
   },
   "outputs": [],
   "source": []
  },
  {
   "cell_type": "code",
   "execution_count": null,
   "metadata": {
    "collapsed": true,
    "deletable": true,
    "editable": true
   },
   "outputs": [],
   "source": []
  },
  {
   "cell_type": "code",
   "execution_count": null,
   "metadata": {
    "collapsed": true,
    "deletable": true,
    "editable": true
   },
   "outputs": [],
   "source": []
  },
  {
   "cell_type": "code",
   "execution_count": null,
   "metadata": {
    "collapsed": true,
    "deletable": true,
    "editable": true
   },
   "outputs": [],
   "source": []
  },
  {
   "cell_type": "code",
   "execution_count": null,
   "metadata": {
    "collapsed": true,
    "deletable": true,
    "editable": true
   },
   "outputs": [],
   "source": []
  },
  {
   "cell_type": "code",
   "execution_count": null,
   "metadata": {
    "collapsed": true,
    "deletable": true,
    "editable": true
   },
   "outputs": [],
   "source": []
  },
  {
   "cell_type": "code",
   "execution_count": null,
   "metadata": {
    "collapsed": true,
    "deletable": true,
    "editable": true
   },
   "outputs": [],
   "source": []
  },
  {
   "cell_type": "code",
   "execution_count": null,
   "metadata": {
    "collapsed": true,
    "deletable": true,
    "editable": true
   },
   "outputs": [],
   "source": []
  },
  {
   "cell_type": "code",
   "execution_count": null,
   "metadata": {
    "collapsed": true,
    "deletable": true,
    "editable": true
   },
   "outputs": [],
   "source": []
  },
  {
   "cell_type": "code",
   "execution_count": null,
   "metadata": {
    "collapsed": true,
    "deletable": true,
    "editable": true
   },
   "outputs": [],
   "source": []
  },
  {
   "cell_type": "code",
   "execution_count": null,
   "metadata": {
    "collapsed": true,
    "deletable": true,
    "editable": true
   },
   "outputs": [],
   "source": []
  },
  {
   "cell_type": "code",
   "execution_count": null,
   "metadata": {
    "collapsed": true,
    "deletable": true,
    "editable": true
   },
   "outputs": [],
   "source": []
  },
  {
   "cell_type": "code",
   "execution_count": null,
   "metadata": {
    "collapsed": true,
    "deletable": true,
    "editable": true
   },
   "outputs": [],
   "source": []
  },
  {
   "cell_type": "code",
   "execution_count": null,
   "metadata": {
    "collapsed": true,
    "deletable": true,
    "editable": true
   },
   "outputs": [],
   "source": []
  },
  {
   "cell_type": "code",
   "execution_count": null,
   "metadata": {
    "collapsed": true,
    "deletable": true,
    "editable": true
   },
   "outputs": [],
   "source": []
  },
  {
   "cell_type": "code",
   "execution_count": null,
   "metadata": {
    "collapsed": true,
    "deletable": true,
    "editable": true
   },
   "outputs": [],
   "source": []
  },
  {
   "cell_type": "code",
   "execution_count": null,
   "metadata": {
    "collapsed": true,
    "deletable": true,
    "editable": true
   },
   "outputs": [],
   "source": []
  },
  {
   "cell_type": "code",
   "execution_count": null,
   "metadata": {
    "collapsed": true,
    "deletable": true,
    "editable": true
   },
   "outputs": [],
   "source": []
  }
 ],
 "metadata": {
  "kernelspec": {
   "display_name": "Python 3",
   "language": "python",
   "name": "python3"
  },
  "language_info": {
   "codemirror_mode": {
    "name": "ipython",
    "version": 3
   },
   "file_extension": ".py",
   "mimetype": "text/x-python",
   "name": "python",
   "nbconvert_exporter": "python",
   "pygments_lexer": "ipython3",
   "version": "3.6.5"
  }
 },
 "nbformat": 4,
 "nbformat_minor": 2
}
