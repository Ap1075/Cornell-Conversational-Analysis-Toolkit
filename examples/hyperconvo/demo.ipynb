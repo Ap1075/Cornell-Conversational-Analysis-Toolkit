{
 "cells": [
  {
   "cell_type": "markdown",
   "metadata": {},
   "source": [
    "This notebook provides examples of how to call the hyperconvo functions from Convokit and perform analyses similar to the ones presented in the corresponding paper (http://www.cs.cornell.edu/~cristian/Patterns_of_participant_interactions.html), which describes the hypergraph methodology for modeling and analyzing online public discussions.\n",
    "\n",
    "Note that due to limitations in what data we can access and distribute, the beta version of the hypergraph methodology presented here currently supports less functionality:\n",
    "\n",
    "* Instead of Facebook data, we release a dataset of discussions from Reddit (the 1000 most recent threads, with at least 10 comments, from 100 highly active subreddits -- more details in the corresponding readme here: https://github.com/CornellNLP/Cornell-Conversational-Analysis-Toolkit/tree/master/datasets/reddit-corpus). For demonstration purposes, we here use a small subset of this dataset (\"reddit-corpus-small\") containing 100 threads per subreddit.\n",
    "* Since Reddit does not provide information on who reacted to (i.e., upvoted) each comment, we are presently unable to support reaction-edges in the hypergraph. As such, we can only compute features over in/outdegree distributions of _reply_-edges, and the feature set derived from motifs in the hypergraph is limited to counts and binary indicators or whether or not a motif is present. We will work  towards supporting reactions as well."
   ]
  },
  {
   "cell_type": "code",
   "execution_count": 1,
   "metadata": {},
   "outputs": [
    {
     "data": {
      "text/plain": [
       "'/Users/macuser/Desktop/hyperconv-refactor/Cornell-Conversational-Analysis-Toolkit'"
      ]
     },
     "execution_count": 1,
     "metadata": {},
     "output_type": "execute_result"
    }
   ],
   "source": [
    "import os\n",
    "os.getcwd()\n",
    "os.chdir(\"..\")\n",
    "os.chdir(\"..\")\n",
    "os.getcwd()"
   ]
  },
  {
   "cell_type": "code",
   "execution_count": 2,
   "metadata": {},
   "outputs": [],
   "source": [
    "import convokit"
   ]
  },
  {
   "cell_type": "code",
   "execution_count": 3,
   "metadata": {},
   "outputs": [],
   "source": [
    "%matplotlib inline\n",
    "import matplotlib.pyplot as plt\n",
    "import numpy as np\n",
    "import pandas as pd\n",
    "import warnings\n",
    "warnings.filterwarnings('ignore')"
   ]
  },
  {
   "cell_type": "markdown",
   "metadata": {},
   "source": [
    "First we download the reddit corpus:"
   ]
  },
  {
   "cell_type": "code",
   "execution_count": 4,
   "metadata": {},
   "outputs": [],
   "source": [
    "filename = os.path.join(os.getcwd(), \"examples/hyperconvo/reddit-corpus-small/\")\n",
    "\n",
    "corpus = convokit.Corpus(filename=filename)"
   ]
  },
  {
   "cell_type": "code",
   "execution_count": 52,
   "metadata": {},
   "outputs": [],
   "source": [
    "a = set([utt.id for utt in corpus.iter_utterances()])"
   ]
  },
  {
   "cell_type": "code",
   "execution_count": 53,
   "metadata": {},
   "outputs": [
    {
     "data": {
      "text/plain": [
       "282418"
      ]
     },
     "execution_count": 53,
     "metadata": {},
     "output_type": "execute_result"
    }
   ],
   "source": [
    "len(a)"
   ]
  },
  {
   "cell_type": "code",
   "execution_count": 51,
   "metadata": {},
   "outputs": [
    {
     "data": {
      "text/plain": [
       "282418"
      ]
     },
     "execution_count": 51,
     "metadata": {},
     "output_type": "execute_result"
    }
   ],
   "source": [
    "len(list(corpus.iter_utterances()))"
   ]
  },
  {
   "cell_type": "code",
   "execution_count": 49,
   "metadata": {},
   "outputs": [
    {
     "data": {
      "text/plain": [
       "115431"
      ]
     },
     "execution_count": 49,
     "metadata": {},
     "output_type": "execute_result"
    }
   ],
   "source": [
    "len(list(corpus.iter_users()))"
   ]
  },
  {
   "cell_type": "code",
   "execution_count": 48,
   "metadata": {},
   "outputs": [
    {
     "data": {
      "text/plain": [
       "8285"
      ]
     },
     "execution_count": 48,
     "metadata": {},
     "output_type": "execute_result"
    }
   ],
   "source": [
    "len(list(corpus.iter_conversations()))"
   ]
  },
  {
   "cell_type": "code",
   "execution_count": 40,
   "metadata": {},
   "outputs": [],
   "source": [
    "a = set([utt.name for utt in corpus.iter_users()])"
   ]
  },
  {
   "cell_type": "code",
   "execution_count": 41,
   "metadata": {},
   "outputs": [
    {
     "data": {
      "text/plain": [
       "115431"
      ]
     },
     "execution_count": 41,
     "metadata": {},
     "output_type": "execute_result"
    }
   ],
   "source": [
    "len(a)"
   ]
  },
  {
   "cell_type": "code",
   "execution_count": 6,
   "metadata": {},
   "outputs": [],
   "source": [
    "# corpus = convokit.Corpus(filename=convokit.download(\"reddit-corpus\"))"
   ]
  },
  {
   "cell_type": "markdown",
   "metadata": {},
   "source": [
    "We will compute features over only the first 10 comments that occur in a thread, for  threads which are at least 10 comments long (controling for thread length in this way). Notice that we set include_root to False as we are interested in comment threads, i.e. threads that begin from a top-level comment, not from the post itself."
   ]
  },
  {
   "cell_type": "code",
   "execution_count": 7,
   "metadata": {},
   "outputs": [],
   "source": [
    "threads = corpus.utterance_threads(prefix_len=10, include_root=False)"
   ]
  },
  {
   "cell_type": "code",
   "execution_count": 8,
   "metadata": {},
   "outputs": [],
   "source": [
    "def display_thread_helper(thread, root, indent=0):\n",
    "    print(\" \"*indent + thread[root].user.name)\n",
    "    children = [k for k, v in thread.items() if v.reply_to == root]\n",
    "    for child in children:\n",
    "        display_thread_helper(thread, child, indent=indent+4)\n",
    "def display_thread(root):\n",
    "    return display_thread_helper(threads[root],root)"
   ]
  },
  {
   "cell_type": "markdown",
   "metadata": {},
   "source": [
    "The following are threads that come from the /r/canada subreddit. "
   ]
  },
  {
   "cell_type": "code",
   "execution_count": 9,
   "metadata": {},
   "outputs": [
    {
     "data": {
      "text/plain": [
       "10000"
      ]
     },
     "execution_count": 9,
     "metadata": {},
     "output_type": "execute_result"
    }
   ],
   "source": [
    "len(threads)"
   ]
  },
  {
   "cell_type": "code",
   "execution_count": 10,
   "metadata": {},
   "outputs": [],
   "source": [
    "demo_threads = [\n",
    "    # https://www.reddit.com/r/cringepics/comments/9c4wc2/mr_hands_over_here_on_a_nationally_televised/e582bti/\n",
    "                'e582bti', \n",
    "    # https://www.reddit.com/r/askscience/comments/9c25cz/how_many_average_modern_nuclear_weapons_1mt_would/e57sosp/\n",
    "                'e57sosp',\n",
    "    # https://www.reddit.com/r/movies/comments/9is5ew/sony_has_officially_retitled_the_girl_with_the/e6lzwfg/\n",
    "                'e6lzwfg'\n",
    "               ]"
   ]
  },
  {
   "cell_type": "markdown",
   "metadata": {},
   "source": [
    "We print the structure of the thread: the reply-structure (where subsequent replies in the comment tree are indented), and the authors of each comment. There are some high-level qualitative differences that you might immediately see; our goal is to automatically extract a superset of these intuitive distinctions. For instance, we notice that thread t1_c32bcq8 has a very linear structure, while t1_c322oa7 is flatter; to capture this difference, we might compute statistics on the distribution of in-degrees of nodes in the reply tree. We also intuit that some conversations involve a few people replying repeatedly to each other, whereas others may involve users stopping by to chime in once and then leaving; we'll later codify this difference via statistics on the indegrees and outdegrees of hypernodes (users)."
   ]
  },
  {
   "cell_type": "code",
   "execution_count": 11,
   "metadata": {
    "scrolled": true
   },
   "outputs": [
    {
     "name": "stdout",
     "output_type": "stream",
     "text": [
      "e582bti\n",
      "---\n",
      "Greasier\n",
      "    myusernamebarelyfits\n",
      "        BonusEruptus\n",
      "            [deleted]\n",
      "    Nouia\n",
      "    perforatedcolon\n",
      "    EXTRAVAGANT_COMMENT\n",
      "        Jaybeux\n",
      "            balla786\n",
      "    [deleted]\n",
      "\n",
      "e57sosp\n",
      "---\n",
      "B-Knight\n",
      "    JackhusChanhus\n",
      "        mahajohn1975\n",
      "            JackhusChanhus\n",
      "                [deleted]\n",
      "                [deleted]\n",
      "                    mahajohn1975\n",
      "                        [deleted]\n",
      "                dongasaurus\n",
      "                    [deleted]\n",
      "\n",
      "e6lzwfg\n",
      "---\n",
      "MikeArrow\n",
      "    StudBoi69\n",
      "        la2nd2014\n",
      "            blorpblorpbloop\n",
      "        Jas378\n",
      "            kitx07\n",
      "    Peanlocket\n",
      "        duhhhhdoy\n",
      "            Luxx815\n",
      "    SucculentsandSuch\n",
      "\n"
     ]
    }
   ],
   "source": [
    "for thread in demo_threads:\n",
    "    print(thread)\n",
    "    print('---')\n",
    "    display_thread(thread)\n",
    "    print()"
   ]
  },
  {
   "cell_type": "markdown",
   "metadata": {},
   "source": [
    "One technical note: Since we don't have access to the author of deleted comments, we make the assumption for now that each deleted comment in a particular thread was written by the same author -- a potential source of noise in the subsequent analyses."
   ]
  },
  {
   "cell_type": "markdown",
   "metadata": {},
   "source": [
    "The above method is called by fit_transform(), but we call the utterance_threads() method directly so we can visualize the thread. Typically, to extract hypergraph features, we would simply:"
   ]
  },
  {
   "cell_type": "code",
   "execution_count": 12,
   "metadata": {},
   "outputs": [],
   "source": [
    "# create a hyperconvo object and use it to extract features\n",
    "hc = convokit.HyperConvo(prefix_len=10, min_thread_len=10, include_root=False)\n",
    "hc.fit_transform(corpus)\n",
    "\n",
    "threads_feats = corpus.get_meta()[\"hyperconvo\"]"
   ]
  },
  {
   "cell_type": "code",
   "execution_count": 13,
   "metadata": {},
   "outputs": [],
   "source": [
    "def clean_value(x):\n",
    "    if np.isinf(x) or np.isnan(x):\n",
    "        return -1\n",
    "    return x"
   ]
  },
  {
   "cell_type": "code",
   "execution_count": 14,
   "metadata": {},
   "outputs": [],
   "source": [
    "feat_names = list(next(iter(threads_feats.values())).keys())"
   ]
  },
  {
   "cell_type": "code",
   "execution_count": 15,
   "metadata": {},
   "outputs": [
    {
     "data": {
      "text/plain": [
       "['max[outdegree over c->c responses]',\n",
       " 'max[indegree over c->c responses]',\n",
       " 'argmax[outdegree over c->c responses]',\n",
       " 'argmax[indegree over c->c responses]',\n",
       " 'norm.max[outdegree over c->c responses]',\n",
       " 'norm.max[indegree over c->c responses]',\n",
       " '2nd-largest[outdegree over c->c responses]',\n",
       " '2nd-largest[indegree over c->c responses]',\n",
       " '2nd-argmax[outdegree over c->c responses]',\n",
       " '2nd-argmax[indegree over c->c responses]']"
      ]
     },
     "execution_count": 15,
     "metadata": {},
     "output_type": "execute_result"
    }
   ],
   "source": [
    "feat_names[:10]"
   ]
  },
  {
   "cell_type": "code",
   "execution_count": 16,
   "metadata": {},
   "outputs": [],
   "source": [
    "thread_ids = []\n",
    "feats = []\n",
    "for key, feat_dict in threads_feats.items():\n",
    "    thread_ids.append(key)\n",
    "    feats.append([clean_value(feat_dict[k]) for k in feat_names])"
   ]
  },
  {
   "cell_type": "markdown",
   "metadata": {},
   "source": [
    "For later convenience we will store feature values in a dataframe:"
   ]
  },
  {
   "cell_type": "code",
   "execution_count": 17,
   "metadata": {},
   "outputs": [],
   "source": [
    "feat_df = pd.DataFrame(data=feats, index=thread_ids, columns=feat_names)"
   ]
  },
  {
   "cell_type": "markdown",
   "metadata": {},
   "source": [
    "Here are some examples of features computed over the three example threads from before:"
   ]
  },
  {
   "cell_type": "code",
   "execution_count": 18,
   "metadata": {},
   "outputs": [],
   "source": [
    "C_C_indegree_feats = [x for x in feat_names if 'indegree over C->C responses' in x]\n",
    "C_C_mid_outdegree_feats = [x for x in feat_names if 'outdegree over C->C mid-thread responses' in x]\n",
    "motif_count_feats = [x for x in feat_names if ('count' in x) and ('mid' not in x)]"
   ]
  },
  {
   "cell_type": "markdown",
   "metadata": {},
   "source": [
    "Features derived from the distribution of hypernode to hypernode indegrees (i.e., \"how many other people are responding to a particular discussion participant?\"). As in the paper, we compute various summary statistics over the distribution. \n",
    "\n",
    "As noted at the start of this notebook, since we do not have access to reaction information, these distributions encompass only the reply structure within the thread."
   ]
  },
  {
   "cell_type": "code",
   "execution_count": 19,
   "metadata": {
    "scrolled": true
   },
   "outputs": [
    {
     "data": {
      "text/html": [
       "<div>\n",
       "<style>\n",
       "    .dataframe thead tr:only-child th {\n",
       "        text-align: right;\n",
       "    }\n",
       "\n",
       "    .dataframe thead th {\n",
       "        text-align: left;\n",
       "    }\n",
       "\n",
       "    .dataframe tbody tr th {\n",
       "        vertical-align: top;\n",
       "    }\n",
       "</style>\n",
       "<table border=\"1\" class=\"dataframe\">\n",
       "  <thead>\n",
       "    <tr style=\"text-align: right;\">\n",
       "      <th></th>\n",
       "      <th>e582bti</th>\n",
       "      <th>e57sosp</th>\n",
       "      <th>e6lzwfg</th>\n",
       "    </tr>\n",
       "  </thead>\n",
       "  <tbody>\n",
       "    <tr>\n",
       "      <th>2nd-argmax[indegree over C-&gt;C responses]</th>\n",
       "      <td>1.000000</td>\n",
       "      <td>2.000000</td>\n",
       "      <td>1.000000</td>\n",
       "    </tr>\n",
       "    <tr>\n",
       "      <th>2nd-largest / max[indegree over C-&gt;C responses]</th>\n",
       "      <td>0.200000</td>\n",
       "      <td>0.500000</td>\n",
       "      <td>0.666667</td>\n",
       "    </tr>\n",
       "    <tr>\n",
       "      <th>2nd-largest[indegree over C-&gt;C responses]</th>\n",
       "      <td>1.000000</td>\n",
       "      <td>2.000000</td>\n",
       "      <td>2.000000</td>\n",
       "    </tr>\n",
       "    <tr>\n",
       "      <th>argmax[indegree over C-&gt;C responses]</th>\n",
       "      <td>0.000000</td>\n",
       "      <td>1.000000</td>\n",
       "      <td>0.000000</td>\n",
       "    </tr>\n",
       "    <tr>\n",
       "      <th>entropy[indegree over C-&gt;C responses]</th>\n",
       "      <td>1.303092</td>\n",
       "      <td>1.427061</td>\n",
       "      <td>1.676988</td>\n",
       "    </tr>\n",
       "    <tr>\n",
       "      <th>max[indegree over C-&gt;C responses]</th>\n",
       "      <td>5.000000</td>\n",
       "      <td>4.000000</td>\n",
       "      <td>3.000000</td>\n",
       "    </tr>\n",
       "    <tr>\n",
       "      <th>mean-nonzero[indegree over C-&gt;C responses]</th>\n",
       "      <td>1.800000</td>\n",
       "      <td>1.800000</td>\n",
       "      <td>1.500000</td>\n",
       "    </tr>\n",
       "    <tr>\n",
       "      <th>mean[indegree over C-&gt;C responses]</th>\n",
       "      <td>1.000000</td>\n",
       "      <td>1.800000</td>\n",
       "      <td>0.900000</td>\n",
       "    </tr>\n",
       "    <tr>\n",
       "      <th>norm.2nd-largest[indegree over C-&gt;C responses]</th>\n",
       "      <td>0.111111</td>\n",
       "      <td>0.222222</td>\n",
       "      <td>0.222222</td>\n",
       "    </tr>\n",
       "    <tr>\n",
       "      <th>norm.max[indegree over C-&gt;C responses]</th>\n",
       "      <td>0.555556</td>\n",
       "      <td>0.444444</td>\n",
       "      <td>0.333333</td>\n",
       "    </tr>\n",
       "    <tr>\n",
       "      <th>prop-multiple[indegree over C-&gt;C responses]</th>\n",
       "      <td>0.200000</td>\n",
       "      <td>0.400000</td>\n",
       "      <td>0.333333</td>\n",
       "    </tr>\n",
       "    <tr>\n",
       "      <th>prop-nonzero[indegree over C-&gt;C responses]</th>\n",
       "      <td>0.555556</td>\n",
       "      <td>1.000000</td>\n",
       "      <td>0.600000</td>\n",
       "    </tr>\n",
       "  </tbody>\n",
       "</table>\n",
       "</div>"
      ],
      "text/plain": [
       "                                                  e582bti   e57sosp   e6lzwfg\n",
       "2nd-argmax[indegree over C->C responses]         1.000000  2.000000  1.000000\n",
       "2nd-largest / max[indegree over C->C responses]  0.200000  0.500000  0.666667\n",
       "2nd-largest[indegree over C->C responses]        1.000000  2.000000  2.000000\n",
       "argmax[indegree over C->C responses]             0.000000  1.000000  0.000000\n",
       "entropy[indegree over C->C responses]            1.303092  1.427061  1.676988\n",
       "max[indegree over C->C responses]                5.000000  4.000000  3.000000\n",
       "mean-nonzero[indegree over C->C responses]       1.800000  1.800000  1.500000\n",
       "mean[indegree over C->C responses]               1.000000  1.800000  0.900000\n",
       "norm.2nd-largest[indegree over C->C responses]   0.111111  0.222222  0.222222\n",
       "norm.max[indegree over C->C responses]           0.555556  0.444444  0.333333\n",
       "prop-multiple[indegree over C->C responses]      0.200000  0.400000  0.333333\n",
       "prop-nonzero[indegree over C->C responses]       0.555556  1.000000  0.600000"
      ]
     },
     "execution_count": 19,
     "metadata": {},
     "output_type": "execute_result"
    }
   ],
   "source": [
    "feat_df.loc[demo_threads][C_C_indegree_feats].T.sort_index()"
   ]
  },
  {
   "cell_type": "markdown",
   "metadata": {},
   "source": [
    "Features derived from the distribution of hypernode to hypernode outdegrees in the _middle_ of the thread (i.e., \"beyond the root comment, how many other people is each participant responding to?\"). "
   ]
  },
  {
   "cell_type": "code",
   "execution_count": 20,
   "metadata": {},
   "outputs": [
    {
     "data": {
      "text/html": [
       "<div>\n",
       "<style>\n",
       "    .dataframe thead tr:only-child th {\n",
       "        text-align: right;\n",
       "    }\n",
       "\n",
       "    .dataframe thead th {\n",
       "        text-align: left;\n",
       "    }\n",
       "\n",
       "    .dataframe tbody tr th {\n",
       "        vertical-align: top;\n",
       "    }\n",
       "</style>\n",
       "<table border=\"1\" class=\"dataframe\">\n",
       "  <thead>\n",
       "    <tr style=\"text-align: right;\">\n",
       "      <th></th>\n",
       "      <th>e582bti</th>\n",
       "      <th>e57sosp</th>\n",
       "      <th>e6lzwfg</th>\n",
       "    </tr>\n",
       "  </thead>\n",
       "  <tbody>\n",
       "    <tr>\n",
       "      <th>2nd-argmax[outdegree over C-&gt;C mid-thread responses]</th>\n",
       "      <td>4.000000</td>\n",
       "      <td>1.000000</td>\n",
       "      <td>2.000000</td>\n",
       "    </tr>\n",
       "    <tr>\n",
       "      <th>2nd-largest / max[outdegree over C-&gt;C mid-thread responses]</th>\n",
       "      <td>1.000000</td>\n",
       "      <td>0.500000</td>\n",
       "      <td>1.000000</td>\n",
       "    </tr>\n",
       "    <tr>\n",
       "      <th>2nd-largest[outdegree over C-&gt;C mid-thread responses]</th>\n",
       "      <td>1.000000</td>\n",
       "      <td>2.000000</td>\n",
       "      <td>1.000000</td>\n",
       "    </tr>\n",
       "    <tr>\n",
       "      <th>argmax[outdegree over C-&gt;C mid-thread responses]</th>\n",
       "      <td>1.000000</td>\n",
       "      <td>2.000000</td>\n",
       "      <td>1.000000</td>\n",
       "    </tr>\n",
       "    <tr>\n",
       "      <th>entropy[outdegree over C-&gt;C mid-thread responses]</th>\n",
       "      <td>1.386294</td>\n",
       "      <td>1.213008</td>\n",
       "      <td>1.791759</td>\n",
       "    </tr>\n",
       "    <tr>\n",
       "      <th>max[outdegree over C-&gt;C mid-thread responses]</th>\n",
       "      <td>1.000000</td>\n",
       "      <td>4.000000</td>\n",
       "      <td>1.000000</td>\n",
       "    </tr>\n",
       "    <tr>\n",
       "      <th>mean-nonzero[outdegree over C-&gt;C mid-thread responses]</th>\n",
       "      <td>1.000000</td>\n",
       "      <td>2.000000</td>\n",
       "      <td>1.000000</td>\n",
       "    </tr>\n",
       "    <tr>\n",
       "      <th>mean[outdegree over C-&gt;C mid-thread responses]</th>\n",
       "      <td>0.500000</td>\n",
       "      <td>2.000000</td>\n",
       "      <td>0.666667</td>\n",
       "    </tr>\n",
       "    <tr>\n",
       "      <th>norm.2nd-largest[outdegree over C-&gt;C mid-thread responses]</th>\n",
       "      <td>0.250000</td>\n",
       "      <td>0.250000</td>\n",
       "      <td>0.166667</td>\n",
       "    </tr>\n",
       "    <tr>\n",
       "      <th>norm.max[outdegree over C-&gt;C mid-thread responses]</th>\n",
       "      <td>0.250000</td>\n",
       "      <td>0.500000</td>\n",
       "      <td>0.166667</td>\n",
       "    </tr>\n",
       "    <tr>\n",
       "      <th>prop-multiple[outdegree over C-&gt;C mid-thread responses]</th>\n",
       "      <td>0.000000</td>\n",
       "      <td>0.500000</td>\n",
       "      <td>0.000000</td>\n",
       "    </tr>\n",
       "    <tr>\n",
       "      <th>prop-nonzero[outdegree over C-&gt;C mid-thread responses]</th>\n",
       "      <td>0.500000</td>\n",
       "      <td>1.000000</td>\n",
       "      <td>0.666667</td>\n",
       "    </tr>\n",
       "  </tbody>\n",
       "</table>\n",
       "</div>"
      ],
      "text/plain": [
       "                                                     e582bti   e57sosp  \\\n",
       "2nd-argmax[outdegree over C->C mid-thread respo...  4.000000  1.000000   \n",
       "2nd-largest / max[outdegree over C->C mid-threa...  1.000000  0.500000   \n",
       "2nd-largest[outdegree over C->C mid-thread resp...  1.000000  2.000000   \n",
       "argmax[outdegree over C->C mid-thread responses]    1.000000  2.000000   \n",
       "entropy[outdegree over C->C mid-thread responses]   1.386294  1.213008   \n",
       "max[outdegree over C->C mid-thread responses]       1.000000  4.000000   \n",
       "mean-nonzero[outdegree over C->C mid-thread res...  1.000000  2.000000   \n",
       "mean[outdegree over C->C mid-thread responses]      0.500000  2.000000   \n",
       "norm.2nd-largest[outdegree over C->C mid-thread...  0.250000  0.250000   \n",
       "norm.max[outdegree over C->C mid-thread responses]  0.250000  0.500000   \n",
       "prop-multiple[outdegree over C->C mid-thread re...  0.000000  0.500000   \n",
       "prop-nonzero[outdegree over C->C mid-thread res...  0.500000  1.000000   \n",
       "\n",
       "                                                     e6lzwfg  \n",
       "2nd-argmax[outdegree over C->C mid-thread respo...  2.000000  \n",
       "2nd-largest / max[outdegree over C->C mid-threa...  1.000000  \n",
       "2nd-largest[outdegree over C->C mid-thread resp...  1.000000  \n",
       "argmax[outdegree over C->C mid-thread responses]    1.000000  \n",
       "entropy[outdegree over C->C mid-thread responses]   1.791759  \n",
       "max[outdegree over C->C mid-thread responses]       1.000000  \n",
       "mean-nonzero[outdegree over C->C mid-thread res...  1.000000  \n",
       "mean[outdegree over C->C mid-thread responses]      0.666667  \n",
       "norm.2nd-largest[outdegree over C->C mid-thread...  0.166667  \n",
       "norm.max[outdegree over C->C mid-thread responses]  0.166667  \n",
       "prop-multiple[outdegree over C->C mid-thread re...  0.000000  \n",
       "prop-nonzero[outdegree over C->C mid-thread res...  0.666667  "
      ]
     },
     "execution_count": 20,
     "metadata": {},
     "output_type": "execute_result"
    }
   ],
   "source": [
    "feat_df.loc[demo_threads][C_C_mid_outdegree_feats].T.sort_index()"
   ]
  },
  {
   "cell_type": "markdown",
   "metadata": {},
   "source": [
    "Features derived from the 5 motifs considered in the paper. Note that because we do not have reply information, we instead take as features _counts_ of each motif (in the paper, we would additionally compare reply or reaction edge types within motifs of a particular form)"
   ]
  },
  {
   "cell_type": "code",
   "execution_count": 21,
   "metadata": {},
   "outputs": [
    {
     "data": {
      "text/html": [
       "<div>\n",
       "<style>\n",
       "    .dataframe thead tr:only-child th {\n",
       "        text-align: right;\n",
       "    }\n",
       "\n",
       "    .dataframe thead th {\n",
       "        text-align: left;\n",
       "    }\n",
       "\n",
       "    .dataframe tbody tr th {\n",
       "        vertical-align: top;\n",
       "    }\n",
       "</style>\n",
       "<table border=\"1\" class=\"dataframe\">\n",
       "  <thead>\n",
       "    <tr style=\"text-align: right;\">\n",
       "      <th></th>\n",
       "      <th>e582bti</th>\n",
       "      <th>e57sosp</th>\n",
       "      <th>e6lzwfg</th>\n",
       "    </tr>\n",
       "  </thead>\n",
       "  <tbody>\n",
       "    <tr>\n",
       "      <th>count[dyadic interaction motif]</th>\n",
       "      <td>0</td>\n",
       "      <td>4</td>\n",
       "      <td>0</td>\n",
       "    </tr>\n",
       "    <tr>\n",
       "      <th>count[external reciprocity motif]</th>\n",
       "      <td>4</td>\n",
       "      <td>6</td>\n",
       "      <td>6</td>\n",
       "    </tr>\n",
       "    <tr>\n",
       "      <th>count[incoming triads]</th>\n",
       "      <td>10</td>\n",
       "      <td>6</td>\n",
       "      <td>4</td>\n",
       "    </tr>\n",
       "    <tr>\n",
       "      <th>count[outgoing triads]</th>\n",
       "      <td>13</td>\n",
       "      <td>39</td>\n",
       "      <td>9</td>\n",
       "    </tr>\n",
       "    <tr>\n",
       "      <th>count[reciprocity motif]</th>\n",
       "      <td>0</td>\n",
       "      <td>2</td>\n",
       "      <td>0</td>\n",
       "    </tr>\n",
       "  </tbody>\n",
       "</table>\n",
       "</div>"
      ],
      "text/plain": [
       "                                   e582bti  e57sosp  e6lzwfg\n",
       "count[dyadic interaction motif]          0        4        0\n",
       "count[external reciprocity motif]        4        6        6\n",
       "count[incoming triads]                  10        6        4\n",
       "count[outgoing triads]                  13       39        9\n",
       "count[reciprocity motif]                 0        2        0"
      ]
     },
     "execution_count": 21,
     "metadata": {},
     "output_type": "execute_result"
    }
   ],
   "source": [
    "feat_df.loc[demo_threads][motif_count_feats].T.sort_index()"
   ]
  },
  {
   "cell_type": "code",
   "execution_count": null,
   "metadata": {},
   "outputs": [],
   "source": []
  },
  {
   "cell_type": "markdown",
   "metadata": {},
   "source": [
    "While the features generated above can be used as is (e.g., as features in a prediction task), we can also interpret them by projecting them into a low-dimensional space. "
   ]
  },
  {
   "cell_type": "code",
   "execution_count": 22,
   "metadata": {},
   "outputs": [],
   "source": [
    "from sklearn.preprocessing import Imputer, Normalizer, StandardScaler\n",
    "from sklearn.decomposition import TruncatedSVD\n",
    "from sklearn.manifold import TSNE\n",
    "from sklearn.metrics.pairwise import pairwise_distances"
   ]
  },
  {
   "cell_type": "code",
   "execution_count": 23,
   "metadata": {},
   "outputs": [],
   "source": [
    "feat_mtx = Imputer(axis=1, missing_values=-1).fit_transform(feat_df.values)\n",
    "feat_mtx = StandardScaler().fit_transform(feat_mtx)"
   ]
  },
  {
   "cell_type": "code",
   "execution_count": 24,
   "metadata": {},
   "outputs": [],
   "source": [
    "svd = TruncatedSVD(n_components=7, algorithm='arpack') # deals with an issue where the randomized alg hangs\n",
    "svd.fit(feat_mtx)\n",
    "U, s, V = svd.transform(feat_mtx) / svd.singular_values_, \\\n",
    "        svd.singular_values_, \\\n",
    "        svd.components_.T"
   ]
  },
  {
   "cell_type": "code",
   "execution_count": 25,
   "metadata": {},
   "outputs": [],
   "source": [
    "U_norm = Normalizer().fit_transform(U)\n",
    "V_norm = Normalizer().fit_transform(V)\n",
    "U_df = pd.DataFrame(data=U_norm, index=feat_df.index)\n",
    "V_df = pd.DataFrame(data=V_norm, index=feat_names)"
   ]
  },
  {
   "cell_type": "markdown",
   "metadata": {},
   "source": [
    "This embedding procedure produces embeddings of threads in the low-dimensional space:"
   ]
  },
  {
   "cell_type": "code",
   "execution_count": 26,
   "metadata": {},
   "outputs": [
    {
     "data": {
      "text/html": [
       "<div>\n",
       "<style>\n",
       "    .dataframe thead tr:only-child th {\n",
       "        text-align: right;\n",
       "    }\n",
       "\n",
       "    .dataframe thead th {\n",
       "        text-align: left;\n",
       "    }\n",
       "\n",
       "    .dataframe tbody tr th {\n",
       "        vertical-align: top;\n",
       "    }\n",
       "</style>\n",
       "<table border=\"1\" class=\"dataframe\">\n",
       "  <thead>\n",
       "    <tr style=\"text-align: right;\">\n",
       "      <th></th>\n",
       "      <th>e582bti</th>\n",
       "      <th>e57sosp</th>\n",
       "      <th>e6lzwfg</th>\n",
       "    </tr>\n",
       "  </thead>\n",
       "  <tbody>\n",
       "    <tr>\n",
       "      <th>0</th>\n",
       "      <td>-0.325189</td>\n",
       "      <td>0.256323</td>\n",
       "      <td>-0.284849</td>\n",
       "    </tr>\n",
       "    <tr>\n",
       "      <th>1</th>\n",
       "      <td>0.131777</td>\n",
       "      <td>-0.241613</td>\n",
       "      <td>-0.354788</td>\n",
       "    </tr>\n",
       "    <tr>\n",
       "      <th>2</th>\n",
       "      <td>-0.536985</td>\n",
       "      <td>-0.115502</td>\n",
       "      <td>-0.167710</td>\n",
       "    </tr>\n",
       "    <tr>\n",
       "      <th>3</th>\n",
       "      <td>0.332468</td>\n",
       "      <td>-0.466327</td>\n",
       "      <td>0.376147</td>\n",
       "    </tr>\n",
       "    <tr>\n",
       "      <th>4</th>\n",
       "      <td>0.165306</td>\n",
       "      <td>-0.109192</td>\n",
       "      <td>0.149893</td>\n",
       "    </tr>\n",
       "    <tr>\n",
       "      <th>5</th>\n",
       "      <td>0.375679</td>\n",
       "      <td>0.416623</td>\n",
       "      <td>0.426780</td>\n",
       "    </tr>\n",
       "    <tr>\n",
       "      <th>6</th>\n",
       "      <td>0.556362</td>\n",
       "      <td>0.677955</td>\n",
       "      <td>0.647120</td>\n",
       "    </tr>\n",
       "  </tbody>\n",
       "</table>\n",
       "</div>"
      ],
      "text/plain": [
       "    e582bti   e57sosp   e6lzwfg\n",
       "0 -0.325189  0.256323 -0.284849\n",
       "1  0.131777 -0.241613 -0.354788\n",
       "2 -0.536985 -0.115502 -0.167710\n",
       "3  0.332468 -0.466327  0.376147\n",
       "4  0.165306 -0.109192  0.149893\n",
       "5  0.375679  0.416623  0.426780\n",
       "6  0.556362  0.677955  0.647120"
      ]
     },
     "execution_count": 26,
     "metadata": {},
     "output_type": "execute_result"
    }
   ],
   "source": [
    "U_df.loc[demo_threads].T"
   ]
  },
  {
   "cell_type": "markdown",
   "metadata": {},
   "source": [
    "As well as embeddings of features:"
   ]
  },
  {
   "cell_type": "code",
   "execution_count": 27,
   "metadata": {},
   "outputs": [
    {
     "data": {
      "text/html": [
       "<div>\n",
       "<style>\n",
       "    .dataframe thead tr:only-child th {\n",
       "        text-align: right;\n",
       "    }\n",
       "\n",
       "    .dataframe thead th {\n",
       "        text-align: left;\n",
       "    }\n",
       "\n",
       "    .dataframe tbody tr th {\n",
       "        vertical-align: top;\n",
       "    }\n",
       "</style>\n",
       "<table border=\"1\" class=\"dataframe\">\n",
       "  <thead>\n",
       "    <tr style=\"text-align: right;\">\n",
       "      <th></th>\n",
       "      <th>0</th>\n",
       "      <th>1</th>\n",
       "      <th>2</th>\n",
       "      <th>3</th>\n",
       "      <th>4</th>\n",
       "      <th>5</th>\n",
       "      <th>6</th>\n",
       "    </tr>\n",
       "  </thead>\n",
       "  <tbody>\n",
       "    <tr>\n",
       "      <th>max[indegree over C-&gt;C responses]</th>\n",
       "      <td>-0.034201</td>\n",
       "      <td>0.830566</td>\n",
       "      <td>0.118518</td>\n",
       "      <td>-0.393748</td>\n",
       "      <td>-0.350530</td>\n",
       "      <td>-2.500551e-15</td>\n",
       "      <td>0.130520</td>\n",
       "    </tr>\n",
       "    <tr>\n",
       "      <th>argmax[indegree over C-&gt;C responses]</th>\n",
       "      <td>0.044880</td>\n",
       "      <td>-0.442297</td>\n",
       "      <td>0.423529</td>\n",
       "      <td>-0.409206</td>\n",
       "      <td>0.089129</td>\n",
       "      <td>2.859426e-15</td>\n",
       "      <td>0.669021</td>\n",
       "    </tr>\n",
       "    <tr>\n",
       "      <th>norm.max[indegree over C-&gt;C responses]</th>\n",
       "      <td>-0.033986</td>\n",
       "      <td>0.830715</td>\n",
       "      <td>0.119151</td>\n",
       "      <td>-0.392976</td>\n",
       "      <td>-0.350771</td>\n",
       "      <td>-1.944897e-15</td>\n",
       "      <td>0.130728</td>\n",
       "    </tr>\n",
       "    <tr>\n",
       "      <th>2nd-largest[indegree over C-&gt;C responses]</th>\n",
       "      <td>0.463401</td>\n",
       "      <td>-0.168858</td>\n",
       "      <td>0.599005</td>\n",
       "      <td>0.075778</td>\n",
       "      <td>-0.315786</td>\n",
       "      <td>-3.064367e-15</td>\n",
       "      <td>-0.540811</td>\n",
       "    </tr>\n",
       "    <tr>\n",
       "      <th>2nd-argmax[indegree over C-&gt;C responses]</th>\n",
       "      <td>-0.113082</td>\n",
       "      <td>0.201932</td>\n",
       "      <td>-0.159321</td>\n",
       "      <td>0.733876</td>\n",
       "      <td>-0.372416</td>\n",
       "      <td>-2.295138e-15</td>\n",
       "      <td>-0.493745</td>\n",
       "    </tr>\n",
       "    <tr>\n",
       "      <th>norm.2nd-largest[indegree over C-&gt;C responses]</th>\n",
       "      <td>0.246213</td>\n",
       "      <td>0.269594</td>\n",
       "      <td>0.532482</td>\n",
       "      <td>0.687611</td>\n",
       "      <td>-0.214889</td>\n",
       "      <td>-2.343575e-15</td>\n",
       "      <td>0.253327</td>\n",
       "    </tr>\n",
       "    <tr>\n",
       "      <th>mean[indegree over C-&gt;C responses]</th>\n",
       "      <td>0.752214</td>\n",
       "      <td>0.496788</td>\n",
       "      <td>0.347161</td>\n",
       "      <td>0.194303</td>\n",
       "      <td>-0.170118</td>\n",
       "      <td>-3.354932e-15</td>\n",
       "      <td>0.012659</td>\n",
       "    </tr>\n",
       "    <tr>\n",
       "      <th>mean-nonzero[indegree over C-&gt;C responses]</th>\n",
       "      <td>0.208411</td>\n",
       "      <td>0.758171</td>\n",
       "      <td>0.550362</td>\n",
       "      <td>-0.250401</td>\n",
       "      <td>0.095458</td>\n",
       "      <td>3.988728e-16</td>\n",
       "      <td>-0.083844</td>\n",
       "    </tr>\n",
       "    <tr>\n",
       "      <th>prop-nonzero[indegree over C-&gt;C responses]</th>\n",
       "      <td>0.829637</td>\n",
       "      <td>-0.235709</td>\n",
       "      <td>-0.469489</td>\n",
       "      <td>0.047313</td>\n",
       "      <td>0.133439</td>\n",
       "      <td>1.416362e-15</td>\n",
       "      <td>0.125213</td>\n",
       "    </tr>\n",
       "    <tr>\n",
       "      <th>prop-multiple[indegree over C-&gt;C responses]</th>\n",
       "      <td>0.276728</td>\n",
       "      <td>0.188580</td>\n",
       "      <td>0.593092</td>\n",
       "      <td>-0.245673</td>\n",
       "      <td>0.186668</td>\n",
       "      <td>8.245561e-16</td>\n",
       "      <td>-0.664004</td>\n",
       "    </tr>\n",
       "    <tr>\n",
       "      <th>entropy[indegree over C-&gt;C responses]</th>\n",
       "      <td>-0.123609</td>\n",
       "      <td>-0.737827</td>\n",
       "      <td>-0.357695</td>\n",
       "      <td>0.439952</td>\n",
       "      <td>0.268701</td>\n",
       "      <td>1.913438e-15</td>\n",
       "      <td>0.215935</td>\n",
       "    </tr>\n",
       "    <tr>\n",
       "      <th>2nd-largest / max[indegree over C-&gt;C responses]</th>\n",
       "      <td>0.276717</td>\n",
       "      <td>-0.010083</td>\n",
       "      <td>0.564611</td>\n",
       "      <td>0.771187</td>\n",
       "      <td>-0.053074</td>\n",
       "      <td>-8.318322e-16</td>\n",
       "      <td>0.083630</td>\n",
       "    </tr>\n",
       "  </tbody>\n",
       "</table>\n",
       "</div>"
      ],
      "text/plain": [
       "                                                        0         1         2  \\\n",
       "max[indegree over C->C responses]               -0.034201  0.830566  0.118518   \n",
       "argmax[indegree over C->C responses]             0.044880 -0.442297  0.423529   \n",
       "norm.max[indegree over C->C responses]          -0.033986  0.830715  0.119151   \n",
       "2nd-largest[indegree over C->C responses]        0.463401 -0.168858  0.599005   \n",
       "2nd-argmax[indegree over C->C responses]        -0.113082  0.201932 -0.159321   \n",
       "norm.2nd-largest[indegree over C->C responses]   0.246213  0.269594  0.532482   \n",
       "mean[indegree over C->C responses]               0.752214  0.496788  0.347161   \n",
       "mean-nonzero[indegree over C->C responses]       0.208411  0.758171  0.550362   \n",
       "prop-nonzero[indegree over C->C responses]       0.829637 -0.235709 -0.469489   \n",
       "prop-multiple[indegree over C->C responses]      0.276728  0.188580  0.593092   \n",
       "entropy[indegree over C->C responses]           -0.123609 -0.737827 -0.357695   \n",
       "2nd-largest / max[indegree over C->C responses]  0.276717 -0.010083  0.564611   \n",
       "\n",
       "                                                        3         4  \\\n",
       "max[indegree over C->C responses]               -0.393748 -0.350530   \n",
       "argmax[indegree over C->C responses]            -0.409206  0.089129   \n",
       "norm.max[indegree over C->C responses]          -0.392976 -0.350771   \n",
       "2nd-largest[indegree over C->C responses]        0.075778 -0.315786   \n",
       "2nd-argmax[indegree over C->C responses]         0.733876 -0.372416   \n",
       "norm.2nd-largest[indegree over C->C responses]   0.687611 -0.214889   \n",
       "mean[indegree over C->C responses]               0.194303 -0.170118   \n",
       "mean-nonzero[indegree over C->C responses]      -0.250401  0.095458   \n",
       "prop-nonzero[indegree over C->C responses]       0.047313  0.133439   \n",
       "prop-multiple[indegree over C->C responses]     -0.245673  0.186668   \n",
       "entropy[indegree over C->C responses]            0.439952  0.268701   \n",
       "2nd-largest / max[indegree over C->C responses]  0.771187 -0.053074   \n",
       "\n",
       "                                                            5         6  \n",
       "max[indegree over C->C responses]               -2.500551e-15  0.130520  \n",
       "argmax[indegree over C->C responses]             2.859426e-15  0.669021  \n",
       "norm.max[indegree over C->C responses]          -1.944897e-15  0.130728  \n",
       "2nd-largest[indegree over C->C responses]       -3.064367e-15 -0.540811  \n",
       "2nd-argmax[indegree over C->C responses]        -2.295138e-15 -0.493745  \n",
       "norm.2nd-largest[indegree over C->C responses]  -2.343575e-15  0.253327  \n",
       "mean[indegree over C->C responses]              -3.354932e-15  0.012659  \n",
       "mean-nonzero[indegree over C->C responses]       3.988728e-16 -0.083844  \n",
       "prop-nonzero[indegree over C->C responses]       1.416362e-15  0.125213  \n",
       "prop-multiple[indegree over C->C responses]      8.245561e-16 -0.664004  \n",
       "entropy[indegree over C->C responses]            1.913438e-15  0.215935  \n",
       "2nd-largest / max[indegree over C->C responses] -8.318322e-16  0.083630  "
      ]
     },
     "execution_count": 27,
     "metadata": {},
     "output_type": "execute_result"
    }
   ],
   "source": [
    "V_df.loc[C_C_indegree_feats]"
   ]
  },
  {
   "cell_type": "code",
   "execution_count": null,
   "metadata": {},
   "outputs": [],
   "source": []
  },
  {
   "cell_type": "markdown",
   "metadata": {},
   "source": [
    "As in the paper, for further interpretability we can consider embeddings of _communities_ (subreddits, standing for Facebook pages) in terms of the discussions they foster, by averaging the embeddings of all threads in a particular subreddit."
   ]
  },
  {
   "cell_type": "code",
   "execution_count": 28,
   "metadata": {},
   "outputs": [],
   "source": [
    "def get_subreddit(threads, thread_id):\n",
    "    return threads[thread_id][thread_id].meta[\"subreddit\"]\n",
    "\n"
   ]
  },
  {
   "cell_type": "code",
   "execution_count": 29,
   "metadata": {},
   "outputs": [],
   "source": [
    "subreddits = [get_subreddit(threads, thread_id) for thread_id in threads]\n",
    "U_df['subreddit'] = subreddits"
   ]
  },
  {
   "cell_type": "code",
   "execution_count": 30,
   "metadata": {},
   "outputs": [],
   "source": [
    "subreddit_means = U_df.groupby('subreddit').mean()\n",
    "subreddit_df = pd.DataFrame(\n",
    "        data=Normalizer().fit_transform(subreddit_means.values),\n",
    "        index = subreddit_means.index\n",
    "    )"
   ]
  },
  {
   "cell_type": "code",
   "execution_count": null,
   "metadata": {},
   "outputs": [],
   "source": []
  },
  {
   "cell_type": "markdown",
   "metadata": {},
   "source": [
    "First, let's give a rough overview of the space we've sketched out through this procedure, by visualizing the subreddit embeddings using the TSNE algorithm."
   ]
  },
  {
   "cell_type": "code",
   "execution_count": 31,
   "metadata": {},
   "outputs": [],
   "source": [
    "tsne = TSNE(random_state=2018)\n",
    "tsne_df = pd.DataFrame(data=tsne.fit_transform(subreddit_df.values),\n",
    "                      index=subreddit_df.index)"
   ]
  },
  {
   "cell_type": "code",
   "execution_count": 32,
   "metadata": {
    "scrolled": false
   },
   "outputs": [
    {
     "data": {
      "image/png": "[encoded data removed]",
      "text/plain": [
       "<Figure size 720x720 with 1 Axes>"
      ]
     },
     "metadata": {
      "needs_background": "light"
     },
     "output_type": "display_data"
    }
   ],
   "source": [
    "plt.figure(figsize=(10,10))\n",
    "plt.scatter(tsne_df[0].values, tsne_df[1].values)\n",
    "for i, txt in enumerate(tsne_df.index):\n",
    "    plt.annotate(txt, (tsne_df.values[i,0], tsne_df.values[i,1]))\n",
    "plt.show()"
   ]
  },
  {
   "cell_type": "markdown",
   "metadata": {},
   "source": [
    "Looking across this plot, we can spot a few interpretable-looking groupings:"
   ]
  },
  {
   "cell_type": "code",
   "execution_count": 33,
   "metadata": {},
   "outputs": [
    {
     "data": {
      "image/png": "[encoded data removed]",
      "text/plain": [
       "<Figure size 432x288 with 1 Axes>"
      ]
     },
     "metadata": {
      "needs_background": "light"
     },
     "output_type": "display_data"
    }
   ],
   "source": [
    "games = [\"battlefield3\", \"Diablo\", \"DotA2\", \"Guildwars2\", \"leagueoflegends\", \"magicTCG\", \"Minecraft\", \"pokemon\", \"skyrim\", \"starcraft\", \"tf2\", \"wow\"]\n",
    "trade = [\"Dota2Trade\", \"pokemontrades\", \"SteamGameSwap\", \"tf2trade\", \"Random_Acts_Of_Amazon\"]\n",
    "sports = [\"baseball\", \"CFB\", \"hockey\", \"MMA\", \"nba\", \"nfl\", \"soccer\"]\n",
    "\n",
    "link_aggregators = [\"AskReddit\", \"WTF\", \"pics\", \"gifs\", \"aww\", \"funny\", \"todayilearned\",\n",
    "                   \"AdviceAnimals\"]\n",
    "relationships = [\"AskMen\", \"AskWomen\", \"relationships\", \"relationship_advice\", \"OkCupid\"]\n",
    "\n",
    "plt.scatter(tsne_df[0].values, tsne_df[1].values, color=\"#dddddd\")\n",
    "plt.scatter(tsne_df[0].values, tsne_df[1].values, color=[\n",
    "    \"green\" if l in games else\n",
    "    \"gold\" if l in trade else\n",
    "    \"purple\" if l in relationships else\n",
    "    \"red\" if l in link_aggregators else\n",
    "    \"blue\" if l in sports else\n",
    "    \"#00000000\"\n",
    "    for l in tsne_df.index])\n",
    "plt.show()"
   ]
  },
  {
   "cell_type": "markdown",
   "metadata": {},
   "source": [
    "For instance, video games (e.g., tf2, DotA2; red) tend to group together, along with buy-sell subreddits (e.g., tf2trade, Dota2Trade, yellow), subreddits related to relationships (e.g., AskWomen, relationship_advice; green) and large default-subreddit hubs for sharing random links (e.g., pics, AskReddit; purple)."
   ]
  },
  {
   "cell_type": "markdown",
   "metadata": {},
   "source": [
    "There may be other interesting groupings that you may spot as well -- for instance, a vaguely right-wing MensRights cluster (with Libertarian, guns); a rather intriguing cluster consisting of politics, sex, business, etc."
   ]
  },
  {
   "cell_type": "markdown",
   "metadata": {},
   "source": [
    "Some topical groups are more diffuse -- for instance, sports-based subreddits (blue). Perhaps this is a limitation of our representation, or that these subreddits actually foster very different interactional dynamics."
   ]
  },
  {
   "cell_type": "code",
   "execution_count": null,
   "metadata": {},
   "outputs": [],
   "source": []
  },
  {
   "cell_type": "markdown",
   "metadata": {},
   "source": [
    "Another way to delve into these groupings is to look at nearest neighbors of subreddits, in terms of the embedding:"
   ]
  },
  {
   "cell_type": "code",
   "execution_count": 34,
   "metadata": {
    "scrolled": true
   },
   "outputs": [],
   "source": [
    "dists = pairwise_distances(subreddit_df.values, metric='cosine')\n",
    "flat_dists = np.ravel(dists)\n",
    "idx1, idx2 = np.unravel_index(np.arange(len(flat_dists)), dists.shape)\n",
    "pairwise_dist_df = pd.DataFrame.from_dict({'p1': subreddit_df.index[idx1],\n",
    "                                           'p2': subreddit_df.index[idx2],\n",
    "                                           'dist': flat_dists},\n",
    "                                           orient='columns')"
   ]
  },
  {
   "cell_type": "code",
   "execution_count": 35,
   "metadata": {},
   "outputs": [],
   "source": [
    "def print_nearest_neighbors(pairwise_dist_df, \n",
    "                           test_subreddits=[],\n",
    "                           top_N=10):\n",
    "    for subreddit in test_subreddits:\n",
    "        subset_df = pairwise_dist_df[(pairwise_dist_df.p1 == subreddit)\n",
    "                                 & (pairwise_dist_df.p2 != subreddit)]\n",
    "        print(subreddit)\n",
    "        print(subset_df.sort_values('dist')[['p2', 'dist']].head(top_N))\n",
    "        print()"
   ]
  },
  {
   "cell_type": "code",
   "execution_count": 36,
   "metadata": {
    "scrolled": true
   },
   "outputs": [
    {
     "name": "stdout",
     "output_type": "stream",
     "text": [
      "apple\n",
      "                    p2      dist\n",
      "3816             Games  0.011274\n",
      "3858            gaming  0.011301\n",
      "3810            Diablo  0.013383\n",
      "3833  ShingekiNoKyojin  0.014511\n",
      "3856   fantasyfootball  0.017115\n",
      "3888        technology  0.019940\n",
      "3871               nfl  0.020418\n",
      "3848            canada  0.021585\n",
      "3863            hockey  0.022282\n",
      "3800     AdviceAnimals  0.022388\n",
      "\n",
      "politics\n",
      "               p2      dist\n",
      "7707          CFB  0.022381\n",
      "7745        books  0.026223\n",
      "7743          aww  0.037024\n",
      "7762  hiphopheads  0.043586\n",
      "7704    AskReddit  0.045851\n",
      "7759         gifs  0.047281\n",
      "7768       movies  0.048274\n",
      "7771          nfl  0.053557\n",
      "7721          MMA  0.055961\n",
      "7720  LifeProTips  0.057664\n",
      "\n",
      "leagueoflegends\n",
      "                   p2      dist\n",
      "6427            Music  0.005480\n",
      "6497           videos  0.009201\n",
      "6474             pics  0.010798\n",
      "6416            Games  0.017502\n",
      "6468           movies  0.018260\n",
      "6481  rupaulsdragrace  0.019261\n",
      "6434    SquaredCircle  0.020220\n",
      "6493    todayilearned  0.020690\n",
      "6472          offbeat  0.021174\n",
      "6459             gifs  0.021224\n",
      "\n",
      "AskWomen\n",
      "                    p2      dist\n",
      "556    fantasyfootball  0.029434\n",
      "537              anime  0.035594\n",
      "503             AskMen  0.045813\n",
      "566  malefashionadvice  0.050046\n",
      "514            Fitness  0.053489\n",
      "507                CFB  0.066829\n",
      "582            science  0.069771\n",
      "584          singapore  0.072230\n",
      "533   ShingekiNoKyojin  0.073021\n",
      "522    MakeupAddiction  0.076340\n",
      "\n",
      "Music\n",
      "                   p2      dist\n",
      "2764  leagueoflegends  0.005480\n",
      "2797           videos  0.007997\n",
      "2759             gifs  0.009844\n",
      "2757            funny  0.012481\n",
      "2774             pics  0.014818\n",
      "2786           soccer  0.019230\n",
      "2793    todayilearned  0.020051\n",
      "2768           movies  0.023040\n",
      "2711            DotA2  0.025207\n",
      "2772          offbeat  0.027050\n",
      "\n",
      "pics\n",
      "                   p2      dist\n",
      "7481  rupaulsdragrace  0.004563\n",
      "7493    todayilearned  0.008924\n",
      "7464  leagueoflegends  0.010798\n",
      "7415           Frugal  0.011559\n",
      "7452       cringepics  0.013801\n",
      "7427            Music  0.014818\n",
      "7400    AdviceAnimals  0.019673\n",
      "7442        australia  0.020399\n",
      "7497           videos  0.022409\n",
      "7434    SquaredCircle  0.023229\n",
      "\n",
      "australia\n",
      "                   p2      dist\n",
      "4215           Frugal  0.004559\n",
      "4296    unitedkingdom  0.005706\n",
      "4281  rupaulsdragrace  0.009396\n",
      "4298        worldnews  0.009533\n",
      "4200    AdviceAnimals  0.010148\n",
      "4217       Guildwars2  0.010378\n",
      "4269              nba  0.011572\n",
      "4248           canada  0.013935\n",
      "4252       cringepics  0.015044\n",
      "4247         business  0.015683\n",
      "\n",
      "Random_Acts_Of_Amazon\n",
      "                     p2      dist\n",
      "3266  malefashionadvice  0.116275\n",
      "3230            OkCupid  0.117540\n",
      "3214            Fitness  0.140197\n",
      "3222    MakeupAddiction  0.163244\n",
      "3209     DebateReligion  0.176798\n",
      "3205           AskWomen  0.242698\n",
      "3203             AskMen  0.257981\n",
      "3284          singapore  0.265666\n",
      "3229              NoFap  0.272560\n",
      "3290          teenagers  0.273768\n",
      "\n",
      "Bitcoin\n",
      "              p2      dist\n",
      "653         dayz  0.003675\n",
      "650   conspiracy  0.009600\n",
      "691          tf2  0.013498\n",
      "675      pokemon  0.015453\n",
      "612        Drugs  0.016055\n",
      "695        trees  0.016090\n",
      "625    Minecraft  0.018303\n",
      "685       skyrim  0.020426\n",
      "673  photography  0.022091\n",
      "661         guns  0.024990\n",
      "\n",
      "MensRights\n",
      "                   p2      dist\n",
      "2435  TwoXChromosomes  0.013238\n",
      "2412            Drugs  0.013356\n",
      "2428           Naruto  0.014854\n",
      "2461             guns  0.018101\n",
      "2473      photography  0.024533\n",
      "2494           travel  0.025068\n",
      "2429            NoFap  0.027256\n",
      "2475          pokemon  0.027313\n",
      "2406          Bitcoin  0.027779\n",
      "2453             dayz  0.030058\n",
      "\n"
     ]
    }
   ],
   "source": [
    "print_nearest_neighbors(pairwise_dist_df, ['apple', 'politics', 'leagueoflegends',\n",
    "                                          'AskWomen', 'Music', 'pics',\n",
    "                                          'australia', 'Random_Acts_Of_Amazon',\n",
    "                                          'Bitcoin', 'MensRights'])"
   ]
  },
  {
   "cell_type": "code",
   "execution_count": null,
   "metadata": {},
   "outputs": [],
   "source": []
  },
  {
   "cell_type": "markdown",
   "metadata": {},
   "source": [
    "We can also try to interpret each dimension of the embedding -- roughly speaking the threads, features and subreddits with extremal values along one dimension could be seen as characterizing a particular \"type\" of discussion, in terms of the discussion structure."
   ]
  },
  {
   "cell_type": "code",
   "execution_count": 37,
   "metadata": {},
   "outputs": [],
   "source": [
    "from IPython.display import display"
   ]
  },
  {
   "cell_type": "code",
   "execution_count": 38,
   "metadata": {},
   "outputs": [],
   "source": [
    "def display_dimension(dim, ascending=True, n=5):\n",
    "    top_threads = U_df.sort_values(dim, ascending=ascending).head(n)\n",
    "    display(top_threads)\n",
    "    display(V_df.sort_values(dim, ascending=ascending).head(n))\n",
    "    display(subreddit_df.sort_values(dim, ascending=ascending).head(n))\n",
    "    return top_threads.index"
   ]
  },
  {
   "cell_type": "code",
   "execution_count": null,
   "metadata": {},
   "outputs": [],
   "source": []
  },
  {
   "cell_type": "markdown",
   "metadata": {
    "collapsed": true
   },
   "source": [
    "For instance, the first latent dimension divides the space of Reddit discussions between focused dialogues involving 2 people who repeatedly interact, and \"expansionary\" threads involving multiple people who generally only engage once (as with the corresponding dimension discussed in the paper, this echoes the contrast explored in papers such as Backstrom et. al, 2013). At the subreddit level, we see a divide between subreddits that are selling things (perhaps the dialogues consist of a buyer and a seller) and large default link-sharing subreddits like AskReddit and pics."
   ]
  },
  {
   "cell_type": "code",
   "execution_count": 39,
   "metadata": {},
   "outputs": [
    {
     "data": {
      "text/html": [
       "<div>\n",
       "<style>\n",
       "    .dataframe thead tr:only-child th {\n",
       "        text-align: right;\n",
       "    }\n",
       "\n",
       "    .dataframe thead th {\n",
       "        text-align: left;\n",
       "    }\n",
       "\n",
       "    .dataframe tbody tr th {\n",
       "        vertical-align: top;\n",
       "    }\n",
       "</style>\n",
       "<table border=\"1\" class=\"dataframe\">\n",
       "  <thead>\n",
       "    <tr style=\"text-align: right;\">\n",
       "      <th></th>\n",
       "      <th>0</th>\n",
       "      <th>1</th>\n",
       "      <th>2</th>\n",
       "      <th>3</th>\n",
       "      <th>4</th>\n",
       "      <th>5</th>\n",
       "      <th>6</th>\n",
       "      <th>subreddit</th>\n",
       "    </tr>\n",
       "  </thead>\n",
       "  <tbody>\n",
       "    <tr>\n",
       "      <th>e5k62bm</th>\n",
       "      <td>-0.685541</td>\n",
       "      <td>0.469148</td>\n",
       "      <td>0.195467</td>\n",
       "      <td>-0.018679</td>\n",
       "      <td>-0.163945</td>\n",
       "      <td>0.493657</td>\n",
       "      <td>0.028323</td>\n",
       "      <td>gifs</td>\n",
       "    </tr>\n",
       "    <tr>\n",
       "      <th>e6fk4d2</th>\n",
       "      <td>-0.681639</td>\n",
       "      <td>0.461188</td>\n",
       "      <td>0.224843</td>\n",
       "      <td>0.105933</td>\n",
       "      <td>-0.142822</td>\n",
       "      <td>0.468038</td>\n",
       "      <td>0.146425</td>\n",
       "      <td>Games</td>\n",
       "    </tr>\n",
       "    <tr>\n",
       "      <th>e5ekbjt</th>\n",
       "      <td>-0.679752</td>\n",
       "      <td>0.188435</td>\n",
       "      <td>-0.042384</td>\n",
       "      <td>0.291080</td>\n",
       "      <td>-0.124941</td>\n",
       "      <td>0.611301</td>\n",
       "      <td>0.163117</td>\n",
       "      <td>science</td>\n",
       "    </tr>\n",
       "    <tr>\n",
       "      <th>e6bj8nr</th>\n",
       "      <td>-0.679206</td>\n",
       "      <td>0.464177</td>\n",
       "      <td>0.215748</td>\n",
       "      <td>0.190665</td>\n",
       "      <td>-0.147664</td>\n",
       "      <td>0.459386</td>\n",
       "      <td>0.086476</td>\n",
       "      <td>technology</td>\n",
       "    </tr>\n",
       "    <tr>\n",
       "      <th>e5pvxma</th>\n",
       "      <td>-0.676604</td>\n",
       "      <td>0.465562</td>\n",
       "      <td>0.195420</td>\n",
       "      <td>0.210650</td>\n",
       "      <td>-0.187593</td>\n",
       "      <td>0.452266</td>\n",
       "      <td>0.056216</td>\n",
       "      <td>Games</td>\n",
       "    </tr>\n",
       "    <tr>\n",
       "      <th>e6ufgqw</th>\n",
       "      <td>-0.672083</td>\n",
       "      <td>0.266392</td>\n",
       "      <td>0.011116</td>\n",
       "      <td>-0.057482</td>\n",
       "      <td>-0.085893</td>\n",
       "      <td>0.682787</td>\n",
       "      <td>-0.018307</td>\n",
       "      <td>starcraft</td>\n",
       "    </tr>\n",
       "    <tr>\n",
       "      <th>e6a3zsv</th>\n",
       "      <td>-0.670457</td>\n",
       "      <td>0.483750</td>\n",
       "      <td>0.206706</td>\n",
       "      <td>0.007082</td>\n",
       "      <td>-0.177416</td>\n",
       "      <td>0.492000</td>\n",
       "      <td>-0.012459</td>\n",
       "      <td>Fitness</td>\n",
       "    </tr>\n",
       "    <tr>\n",
       "      <th>e5fvj1n</th>\n",
       "      <td>-0.670302</td>\n",
       "      <td>0.469705</td>\n",
       "      <td>0.207375</td>\n",
       "      <td>0.045382</td>\n",
       "      <td>-0.241660</td>\n",
       "      <td>0.476033</td>\n",
       "      <td>-0.001433</td>\n",
       "      <td>offbeat</td>\n",
       "    </tr>\n",
       "    <tr>\n",
       "      <th>e6akj8g</th>\n",
       "      <td>-0.670181</td>\n",
       "      <td>0.230205</td>\n",
       "      <td>-0.025319</td>\n",
       "      <td>0.162968</td>\n",
       "      <td>-0.110259</td>\n",
       "      <td>0.630372</td>\n",
       "      <td>0.247261</td>\n",
       "      <td>Marvel</td>\n",
       "    </tr>\n",
       "    <tr>\n",
       "      <th>e665srw</th>\n",
       "      <td>-0.669498</td>\n",
       "      <td>0.458753</td>\n",
       "      <td>0.196184</td>\n",
       "      <td>0.168275</td>\n",
       "      <td>-0.192199</td>\n",
       "      <td>0.452386</td>\n",
       "      <td>0.181439</td>\n",
       "      <td>Drugs</td>\n",
       "    </tr>\n",
       "  </tbody>\n",
       "</table>\n",
       "</div>"
      ],
      "text/plain": [
       "                0         1         2         3         4         5         6  \\\n",
       "e5k62bm -0.685541  0.469148  0.195467 -0.018679 -0.163945  0.493657  0.028323   \n",
       "e6fk4d2 -0.681639  0.461188  0.224843  0.105933 -0.142822  0.468038  0.146425   \n",
       "e5ekbjt -0.679752  0.188435 -0.042384  0.291080 -0.124941  0.611301  0.163117   \n",
       "e6bj8nr -0.679206  0.464177  0.215748  0.190665 -0.147664  0.459386  0.086476   \n",
       "e5pvxma -0.676604  0.465562  0.195420  0.210650 -0.187593  0.452266  0.056216   \n",
       "e6ufgqw -0.672083  0.266392  0.011116 -0.057482 -0.085893  0.682787 -0.018307   \n",
       "e6a3zsv -0.670457  0.483750  0.206706  0.007082 -0.177416  0.492000 -0.012459   \n",
       "e5fvj1n -0.670302  0.469705  0.207375  0.045382 -0.241660  0.476033 -0.001433   \n",
       "e6akj8g -0.670181  0.230205 -0.025319  0.162968 -0.110259  0.630372  0.247261   \n",
       "e665srw -0.669498  0.458753  0.196184  0.168275 -0.192199  0.452386  0.181439   \n",
       "\n",
       "          subreddit  \n",
       "e5k62bm        gifs  \n",
       "e6fk4d2       Games  \n",
       "e5ekbjt     science  \n",
       "e6bj8nr  technology  \n",
       "e5pvxma       Games  \n",
       "e6ufgqw   starcraft  \n",
       "e6a3zsv     Fitness  \n",
       "e5fvj1n     offbeat  \n",
       "e6akj8g      Marvel  \n",
       "e665srw       Drugs  "
      ]
     },
     "metadata": {},
     "output_type": "display_data"
    },
    {
     "data": {
      "text/html": [
       "<div>\n",
       "<style>\n",
       "    .dataframe thead tr:only-child th {\n",
       "        text-align: right;\n",
       "    }\n",
       "\n",
       "    .dataframe thead th {\n",
       "        text-align: left;\n",
       "    }\n",
       "\n",
       "    .dataframe tbody tr th {\n",
       "        vertical-align: top;\n",
       "    }\n",
       "</style>\n",
       "<table border=\"1\" class=\"dataframe\">\n",
       "  <thead>\n",
       "    <tr style=\"text-align: right;\">\n",
       "      <th></th>\n",
       "      <th>0</th>\n",
       "      <th>1</th>\n",
       "      <th>2</th>\n",
       "      <th>3</th>\n",
       "      <th>4</th>\n",
       "      <th>5</th>\n",
       "      <th>6</th>\n",
       "    </tr>\n",
       "  </thead>\n",
       "  <tbody>\n",
       "    <tr>\n",
       "      <th>entropy[outdegree over C-&gt;C responses]</th>\n",
       "      <td>-0.837485</td>\n",
       "      <td>-0.311336</td>\n",
       "      <td>-0.084423</td>\n",
       "      <td>0.298291</td>\n",
       "      <td>0.090838</td>\n",
       "      <td>-8.850111e-16</td>\n",
       "      <td>0.311982</td>\n",
       "    </tr>\n",
       "    <tr>\n",
       "      <th>entropy[outdegree over C-&gt;c responses]</th>\n",
       "      <td>-0.837457</td>\n",
       "      <td>-0.311308</td>\n",
       "      <td>-0.084443</td>\n",
       "      <td>0.298357</td>\n",
       "      <td>0.090861</td>\n",
       "      <td>6.637561e-16</td>\n",
       "      <td>0.312011</td>\n",
       "    </tr>\n",
       "    <tr>\n",
       "      <th>is-present[incoming triads]</th>\n",
       "      <td>-0.684908</td>\n",
       "      <td>-0.528550</td>\n",
       "      <td>-0.348754</td>\n",
       "      <td>-0.333282</td>\n",
       "      <td>0.117654</td>\n",
       "      <td>-3.366783e-16</td>\n",
       "      <td>-0.070617</td>\n",
       "    </tr>\n",
       "    <tr>\n",
       "      <th>max[indegree over c-&gt;c responses]</th>\n",
       "      <td>-0.592384</td>\n",
       "      <td>0.662204</td>\n",
       "      <td>0.004033</td>\n",
       "      <td>-0.195809</td>\n",
       "      <td>-0.269477</td>\n",
       "      <td>-1.541226e-15</td>\n",
       "      <td>0.315582</td>\n",
       "    </tr>\n",
       "    <tr>\n",
       "      <th>norm.max[indegree over c-&gt;c responses]</th>\n",
       "      <td>-0.592384</td>\n",
       "      <td>0.662204</td>\n",
       "      <td>0.004033</td>\n",
       "      <td>-0.195809</td>\n",
       "      <td>-0.269477</td>\n",
       "      <td>-1.310042e-15</td>\n",
       "      <td>0.315582</td>\n",
       "    </tr>\n",
       "    <tr>\n",
       "      <th>max[indegree over C-&gt;c responses]</th>\n",
       "      <td>-0.592384</td>\n",
       "      <td>0.662204</td>\n",
       "      <td>0.004033</td>\n",
       "      <td>-0.195809</td>\n",
       "      <td>-0.269477</td>\n",
       "      <td>-1.541226e-15</td>\n",
       "      <td>0.315582</td>\n",
       "    </tr>\n",
       "    <tr>\n",
       "      <th>norm.max[indegree over C-&gt;c responses]</th>\n",
       "      <td>-0.592384</td>\n",
       "      <td>0.662204</td>\n",
       "      <td>0.004033</td>\n",
       "      <td>-0.195809</td>\n",
       "      <td>-0.269477</td>\n",
       "      <td>-1.387104e-15</td>\n",
       "      <td>0.315582</td>\n",
       "    </tr>\n",
       "    <tr>\n",
       "      <th>count[incoming triads]</th>\n",
       "      <td>-0.541080</td>\n",
       "      <td>0.584971</td>\n",
       "      <td>0.024197</td>\n",
       "      <td>-0.588522</td>\n",
       "      <td>-0.133104</td>\n",
       "      <td>-3.181787e-15</td>\n",
       "      <td>-0.019518</td>\n",
       "    </tr>\n",
       "    <tr>\n",
       "      <th>mean-nonzero[outdegree over c-&gt;c responses]</th>\n",
       "      <td>-0.482806</td>\n",
       "      <td>-0.167588</td>\n",
       "      <td>0.371247</td>\n",
       "      <td>-0.024826</td>\n",
       "      <td>0.551257</td>\n",
       "      <td>3.561579e-02</td>\n",
       "      <td>0.543341</td>\n",
       "    </tr>\n",
       "    <tr>\n",
       "      <th>is-present[external reciprocity motif]</th>\n",
       "      <td>-0.466898</td>\n",
       "      <td>-0.809740</td>\n",
       "      <td>0.048323</td>\n",
       "      <td>0.159239</td>\n",
       "      <td>-0.254408</td>\n",
       "      <td>-2.196330e-15</td>\n",
       "      <td>0.184151</td>\n",
       "    </tr>\n",
       "  </tbody>\n",
       "</table>\n",
       "</div>"
      ],
      "text/plain": [
       "                                                    0         1         2  \\\n",
       "entropy[outdegree over C->C responses]      -0.837485 -0.311336 -0.084423   \n",
       "entropy[outdegree over C->c responses]      -0.837457 -0.311308 -0.084443   \n",
       "is-present[incoming triads]                 -0.684908 -0.528550 -0.348754   \n",
       "max[indegree over c->c responses]           -0.592384  0.662204  0.004033   \n",
       "norm.max[indegree over c->c responses]      -0.592384  0.662204  0.004033   \n",
       "max[indegree over C->c responses]           -0.592384  0.662204  0.004033   \n",
       "norm.max[indegree over C->c responses]      -0.592384  0.662204  0.004033   \n",
       "count[incoming triads]                      -0.541080  0.584971  0.024197   \n",
       "mean-nonzero[outdegree over c->c responses] -0.482806 -0.167588  0.371247   \n",
       "is-present[external reciprocity motif]      -0.466898 -0.809740  0.048323   \n",
       "\n",
       "                                                    3         4             5  \\\n",
       "entropy[outdegree over C->C responses]       0.298291  0.090838 -8.850111e-16   \n",
       "entropy[outdegree over C->c responses]       0.298357  0.090861  6.637561e-16   \n",
       "is-present[incoming triads]                 -0.333282  0.117654 -3.366783e-16   \n",
       "max[indegree over c->c responses]           -0.195809 -0.269477 -1.541226e-15   \n",
       "norm.max[indegree over c->c responses]      -0.195809 -0.269477 -1.310042e-15   \n",
       "max[indegree over C->c responses]           -0.195809 -0.269477 -1.541226e-15   \n",
       "norm.max[indegree over C->c responses]      -0.195809 -0.269477 -1.387104e-15   \n",
       "count[incoming triads]                      -0.588522 -0.133104 -3.181787e-15   \n",
       "mean-nonzero[outdegree over c->c responses] -0.024826  0.551257  3.561579e-02   \n",
       "is-present[external reciprocity motif]       0.159239 -0.254408 -2.196330e-15   \n",
       "\n",
       "                                                    6  \n",
       "entropy[outdegree over C->C responses]       0.311982  \n",
       "entropy[outdegree over C->c responses]       0.312011  \n",
       "is-present[incoming triads]                 -0.070617  \n",
       "max[indegree over c->c responses]            0.315582  \n",
       "norm.max[indegree over c->c responses]       0.315582  \n",
       "max[indegree over C->c responses]            0.315582  \n",
       "norm.max[indegree over C->c responses]       0.315582  \n",
       "count[incoming triads]                      -0.019518  \n",
       "mean-nonzero[outdegree over c->c responses]  0.543341  \n",
       "is-present[external reciprocity motif]       0.184151  "
      ]
     },
     "metadata": {},
     "output_type": "display_data"
    },
    {
     "data": {
      "text/html": [
       "<div>\n",
       "<style>\n",
       "    .dataframe thead tr:only-child th {\n",
       "        text-align: right;\n",
       "    }\n",
       "\n",
       "    .dataframe thead th {\n",
       "        text-align: left;\n",
       "    }\n",
       "\n",
       "    .dataframe tbody tr th {\n",
       "        vertical-align: top;\n",
       "    }\n",
       "</style>\n",
       "<table border=\"1\" class=\"dataframe\">\n",
       "  <thead>\n",
       "    <tr style=\"text-align: right;\">\n",
       "      <th></th>\n",
       "      <th>0</th>\n",
       "      <th>1</th>\n",
       "      <th>2</th>\n",
       "      <th>3</th>\n",
       "      <th>4</th>\n",
       "      <th>5</th>\n",
       "      <th>6</th>\n",
       "    </tr>\n",
       "    <tr>\n",
       "      <th>subreddit</th>\n",
       "      <th></th>\n",
       "      <th></th>\n",
       "      <th></th>\n",
       "      <th></th>\n",
       "      <th></th>\n",
       "      <th></th>\n",
       "      <th></th>\n",
       "    </tr>\n",
       "  </thead>\n",
       "  <tbody>\n",
       "    <tr>\n",
       "      <th>politics</th>\n",
       "      <td>-0.459037</td>\n",
       "      <td>0.171448</td>\n",
       "      <td>-0.027858</td>\n",
       "      <td>0.115797</td>\n",
       "      <td>-0.078420</td>\n",
       "      <td>0.857505</td>\n",
       "      <td>-0.065126</td>\n",
       "    </tr>\n",
       "    <tr>\n",
       "      <th>gifs</th>\n",
       "      <td>-0.404412</td>\n",
       "      <td>-0.056660</td>\n",
       "      <td>-0.038212</td>\n",
       "      <td>0.181254</td>\n",
       "      <td>0.004086</td>\n",
       "      <td>0.888159</td>\n",
       "      <td>0.100421</td>\n",
       "    </tr>\n",
       "    <tr>\n",
       "      <th>CFB</th>\n",
       "      <td>-0.387781</td>\n",
       "      <td>0.091459</td>\n",
       "      <td>-0.004129</td>\n",
       "      <td>-0.027376</td>\n",
       "      <td>-0.147554</td>\n",
       "      <td>0.893365</td>\n",
       "      <td>-0.143603</td>\n",
       "    </tr>\n",
       "    <tr>\n",
       "      <th>LifeProTips</th>\n",
       "      <td>-0.379301</td>\n",
       "      <td>-0.128324</td>\n",
       "      <td>0.088431</td>\n",
       "      <td>0.118748</td>\n",
       "      <td>-0.127227</td>\n",
       "      <td>0.888191</td>\n",
       "      <td>-0.112574</td>\n",
       "    </tr>\n",
       "    <tr>\n",
       "      <th>Music</th>\n",
       "      <td>-0.378731</td>\n",
       "      <td>-0.166326</td>\n",
       "      <td>-0.052454</td>\n",
       "      <td>0.147414</td>\n",
       "      <td>-0.023649</td>\n",
       "      <td>0.880341</td>\n",
       "      <td>0.169871</td>\n",
       "    </tr>\n",
       "    <tr>\n",
       "      <th>MovieDetails</th>\n",
       "      <td>-0.368004</td>\n",
       "      <td>-0.276575</td>\n",
       "      <td>0.140375</td>\n",
       "      <td>0.278256</td>\n",
       "      <td>0.003645</td>\n",
       "      <td>0.815280</td>\n",
       "      <td>0.162026</td>\n",
       "    </tr>\n",
       "    <tr>\n",
       "      <th>aww</th>\n",
       "      <td>-0.366351</td>\n",
       "      <td>-0.018316</td>\n",
       "      <td>0.075890</td>\n",
       "      <td>0.065232</td>\n",
       "      <td>-0.090622</td>\n",
       "      <td>0.919341</td>\n",
       "      <td>0.045123</td>\n",
       "    </tr>\n",
       "    <tr>\n",
       "      <th>WTF</th>\n",
       "      <td>-0.360713</td>\n",
       "      <td>-0.288329</td>\n",
       "      <td>0.158831</td>\n",
       "      <td>0.167406</td>\n",
       "      <td>0.128834</td>\n",
       "      <td>0.846537</td>\n",
       "      <td>0.016684</td>\n",
       "    </tr>\n",
       "    <tr>\n",
       "      <th>videos</th>\n",
       "      <td>-0.359883</td>\n",
       "      <td>-0.234184</td>\n",
       "      <td>-0.056693</td>\n",
       "      <td>0.215160</td>\n",
       "      <td>-0.040986</td>\n",
       "      <td>0.869438</td>\n",
       "      <td>0.092363</td>\n",
       "    </tr>\n",
       "    <tr>\n",
       "      <th>DotA2</th>\n",
       "      <td>-0.348806</td>\n",
       "      <td>-0.290230</td>\n",
       "      <td>0.069220</td>\n",
       "      <td>0.165025</td>\n",
       "      <td>-0.036441</td>\n",
       "      <td>0.821193</td>\n",
       "      <td>0.293922</td>\n",
       "    </tr>\n",
       "  </tbody>\n",
       "</table>\n",
       "</div>"
      ],
      "text/plain": [
       "                     0         1         2         3         4         5  \\\n",
       "subreddit                                                                  \n",
       "politics     -0.459037  0.171448 -0.027858  0.115797 -0.078420  0.857505   \n",
       "gifs         -0.404412 -0.056660 -0.038212  0.181254  0.004086  0.888159   \n",
       "CFB          -0.387781  0.091459 -0.004129 -0.027376 -0.147554  0.893365   \n",
       "LifeProTips  -0.379301 -0.128324  0.088431  0.118748 -0.127227  0.888191   \n",
       "Music        -0.378731 -0.166326 -0.052454  0.147414 -0.023649  0.880341   \n",
       "MovieDetails -0.368004 -0.276575  0.140375  0.278256  0.003645  0.815280   \n",
       "aww          -0.366351 -0.018316  0.075890  0.065232 -0.090622  0.919341   \n",
       "WTF          -0.360713 -0.288329  0.158831  0.167406  0.128834  0.846537   \n",
       "videos       -0.359883 -0.234184 -0.056693  0.215160 -0.040986  0.869438   \n",
       "DotA2        -0.348806 -0.290230  0.069220  0.165025 -0.036441  0.821193   \n",
       "\n",
       "                     6  \n",
       "subreddit               \n",
       "politics     -0.065126  \n",
       "gifs          0.100421  \n",
       "CFB          -0.143603  \n",
       "LifeProTips  -0.112574  \n",
       "Music         0.169871  \n",
       "MovieDetails  0.162026  \n",
       "aww           0.045123  \n",
       "WTF           0.016684  \n",
       "videos        0.092363  \n",
       "DotA2         0.293922  "
      ]
     },
     "metadata": {},
     "output_type": "display_data"
    }
   ],
   "source": [
    "top_threads = display_dimension(0, n=10)"
   ]
  },
  {
   "cell_type": "code",
   "execution_count": null,
   "metadata": {},
   "outputs": [],
   "source": []
  }
 ],
 "metadata": {
  "kernelspec": {
   "display_name": "researchvenv2",
   "language": "python",
   "name": "researchvenv2"
  },
  "language_info": {
   "codemirror_mode": {
    "name": "ipython",
    "version": 3
   },
   "file_extension": ".py",
   "mimetype": "text/x-python",
   "name": "python",
   "nbconvert_exporter": "python",
   "pygments_lexer": "ipython3",
   "version": "3.6.8"
  }
 },
 "nbformat": 4,
 "nbformat_minor": 2
}
