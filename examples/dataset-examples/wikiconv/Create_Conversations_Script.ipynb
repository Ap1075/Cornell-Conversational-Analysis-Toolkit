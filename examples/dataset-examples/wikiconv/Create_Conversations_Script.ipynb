{
 "cells": [
  {
   "cell_type": "markdown",
   "metadata": {},
   "source": [
    "# WikiConv Create Conversations\n",
    "\n",
    "This notebook provides different forms of conversations from  the Wikiconv data set. In particular, it showcases the final version of selected conversations and how that conversation developed over time. It also provides a framework to print out rnadomly selected final conversations and the corresponding wikipedia page."
   ]
  },
  {
   "cell_type": "code",
   "execution_count": 1,
   "metadata": {},
   "outputs": [],
   "source": [
    "#import relevant modules\n",
    "from datetime import datetime, timedelta\n",
    "from convokit import Corpus, User, Utterance, Conversation, download\n",
    "import re\n",
    "import random"
   ]
  },
  {
   "cell_type": "code",
   "execution_count": 2,
   "metadata": {},
   "outputs": [
    {
     "name": "stdout",
     "output_type": "stream",
     "text": [
      "Dataset already exists at /home/jonathan/.convokit/downloads/wikiconv-2003\n"
     ]
    }
   ],
   "source": [
    "# Load the 2003 wikiconv corpus (feel free to change this to a year of your preference)\n",
    "wikiconv_corpus = Corpus(filename=download('wikiconv-2003'))"
   ]
  },
  {
   "cell_type": "markdown",
   "metadata": {},
   "source": [
    "Some basic facts about this subset of the corpus: 91,787 conversations and 140,265 utterances"
   ]
  },
  {
   "cell_type": "code",
   "execution_count": 3,
   "metadata": {},
   "outputs": [
    {
     "data": {
      "text/plain": [
       "91787"
      ]
     },
     "execution_count": 3,
     "metadata": {},
     "output_type": "execute_result"
    }
   ],
   "source": [
    "len(list(wikiconv_corpus.iter_conversations()))"
   ]
  },
  {
   "cell_type": "code",
   "execution_count": 4,
   "metadata": {},
   "outputs": [
    {
     "data": {
      "text/plain": [
       "140265"
      ]
     },
     "execution_count": 4,
     "metadata": {},
     "output_type": "execute_result"
    }
   ],
   "source": [
    "len(list(wikiconv_corpus.iter_utterances()))"
   ]
  },
  {
   "cell_type": "markdown",
   "metadata": {},
   "source": [
    "From the corpus, we will randomly select conversations to print out based on a few metrics:\n",
    "1. number_of_conversations - how many conversations we want to print out\n",
    "2. conversation_min_length -  the minimum number of utterances we want in the conversation"
   ]
  },
  {
   "cell_type": "code",
   "execution_count": 5,
   "metadata": {},
   "outputs": [],
   "source": [
    "#Randomly chooses the set number of conversations to print from the entire conversaton set\n",
    "def print_random_conversations(conversation_list, number_of_conversations, conversation_min_length,  conversation_corpus): \n",
    "    randomly_generated_conversation_list = []\n",
    "    while (len(randomly_generated_conversation_list) != number_of_conversations):\n",
    "        new_conversation = random.randint(0, (len(conversation_list)-1))\n",
    "        new_conversation_id = conversation_list[new_conversation]\n",
    "        conversation_ids_list = new_conversation_id.get_utterance_ids()\n",
    "        if (new_conversation not in randomly_generated_conversation_list \n",
    "            and (len(conversation_ids_list) >= conversation_min_length)):\n",
    "            randomly_generated_conversation_list.append(new_conversation_id)\n",
    "        \n",
    "    return randomly_generated_conversation_list\n"
   ]
  },
  {
   "cell_type": "markdown",
   "metadata": {},
   "source": [
    "Here we'll get a set of random conversatinos from the corpus based on our specifications (print out 3, conversations, with a minimum length of 2) and the output will be a set of serialized conversations."
   ]
  },
  {
   "cell_type": "code",
   "execution_count": 6,
   "metadata": {},
   "outputs": [
    {
     "name": "stdout",
     "output_type": "stream",
     "text": [
      "[<convokit.model.Conversation object at 0x7faa2e7f0320>, <convokit.model.Conversation object at 0x7faa2ed34f28>, <convokit.model.Conversation object at 0x7faa2ed60710>]\n"
     ]
    }
   ],
   "source": [
    "conversation_list = list(wikiconv_corpus.iter_conversations())\n",
    "number_of_conversations_to_print = 3\n",
    "conversation_min_length = 2\n",
    "\n",
    "random_conversations = print_random_conversations(conversation_list, number_of_conversations_to_print,\n",
    "                                                     conversation_min_length, wikiconv_corpus)\n",
    "print (random_conversations)"
   ]
  },
  {
   "cell_type": "markdown",
   "metadata": {},
   "source": [
    "Next, stored in the conversation meta data is the wikipedia information from the page that this conversation is from.\n",
    "We will find that information and print out the link to the associated wikipedia page for each conversation.\n"
   ]
  },
  {
   "cell_type": "code",
   "execution_count": 7,
   "metadata": {},
   "outputs": [
    {
     "name": "stdout",
     "output_type": "stream",
     "text": [
      "https://en.wikipedia.org/w/index.php?title=talk:Housewife\n",
      "https://en.wikipedia.org/w/index.php?title=talk:Dance_music_(traditional)\n",
      "https://en.wikipedia.org/w/index.php?title=talk:Main_Page\n"
     ]
    }
   ],
   "source": [
    "def wikipedia_link_info(conversation):\n",
    "    page_title = conversation.meta['page_title']\n",
    "    page_title = re.sub('\\s+', '_', page_title)\n",
    "    page_type = conversation.meta['page_type']\n",
    "    link_value = \"https://en.wikipedia.org/w/index.php?title=\"+page_type+\":\"+page_title\n",
    "    \n",
    "    return link_value\n",
    "\n",
    "for conversation in random_conversations:\n",
    "    print(wikipedia_link_info(conversation))\n",
    "    conversation_ids_list = conversation.get_utterance_ids()"
   ]
  },
  {
   "cell_type": "markdown",
   "metadata": {},
   "source": [
    "Now that we have the conversation and the actual wikipedia page where they exist, we will want to print out the conversation's final form from the utterance data. But to do this, first we will need to compute the correct order of the comments. \n",
    "\n",
    "The corpus functionality does not guarantee the comments are in the right order, so we will compute this flow now.\n"
   ]
  },
  {
   "cell_type": "code",
   "execution_count": 8,
   "metadata": {},
   "outputs": [],
   "source": [
    "#For any comments that do not have matching reply to ids, sort these comments in order of recency \n",
    "def sort_by_timestamp(conversation_ids_list, conversation_corpus):\n",
    "    list_of_utterances = []\n",
    "    for id_val in conversation_ids_list:\n",
    "        utterance_value = conversation_corpus.get_utterance(id_val)\n",
    "        timestamp_val = utterance_value.timestamp\n",
    "        tuple_val = (id_val, timestamp_val)\n",
    "        list_of_utterances.append(tuple_val)\n",
    "\n",
    "    sorted_utterance_list = sorted(list_of_utterances, key = lambda x:x[1])\n",
    "    sorted_utterance_list.reverse()\n",
    "    id_list = [i[0] for i in sorted_utterance_list]\n",
    "    return (id_list)"
   ]
  },
  {
   "cell_type": "code",
   "execution_count": 9,
   "metadata": {},
   "outputs": [],
   "source": [
    "#Find cases in which an utterance's reply to is to a comment in the chain that has been modified, deleted or restored\n",
    "def check_lists_for_match(x, conversation_ids_list, utterance, next_utterance_value, conversation_corpus):\n",
    "    modification_list = utterance.meta['modification']\n",
    "    deletion_list = utterance.meta['deletion']\n",
    "    restoration_list = utterance.meta['restoration']\n",
    "    if (len(modification_list)>0):\n",
    "        for utterance_val in modification_list:\n",
    "            if (utterance_val.id == next_utterance_value.reply_to):\n",
    "                conversation_ids_list.insert(x+1, next_utterance_value.id)\n",
    "    if (len(deletion_list)>0):\n",
    "        for utterance_val in deletion_list:\n",
    "            if (utterance_val.id == next_utterance_value.reply_to):\n",
    "                conversation_ids_list.insert(x+1, next_utterance_value.id)\n",
    "    if (len(restoration_list)>0):\n",
    "        for utterance_val in restoration_list:\n",
    "            if (utterance_val.id == next_utterance_value.reply_to):\n",
    "                conversation_ids_list.insert(x+1, next_utterance_value.id)"
   ]
  },
  {
   "cell_type": "code",
   "execution_count": 10,
   "metadata": {},
   "outputs": [],
   "source": [
    "# Build the conversation flow correctly and add utterances if the reply-to id matches the current utterance in the list\n",
    "def add_utterance(conversation_ids_list, next_utterance_value, conversation_corpus):\n",
    "    if next_utterance_value.id in conversation_ids_list:\n",
    "        return conversation_ids_list\n",
    "    elif (next_utterance_value.reply_to is None):\n",
    "        conversation_ids_list.append(next_utterance_value.id)\n",
    "    else:\n",
    "        for x in range(0,len(conversation_ids_list)):\n",
    "            utterance_id = conversation_ids_list[x]\n",
    "            if (utterance_id == next_utterance_value.reply_to):\n",
    "                conversation_ids_list.insert(x+1, next_utterance_value.id)\n",
    "            else:\n",
    "                check_lists_for_match(x, conversation_ids_list, conversation_corpus.get_utterance(utterance_id), next_utterance_value, conversation_corpus)\n",
    "\n",
    "    return conversation_ids_list"
   ]
  },
  {
   "cell_type": "code",
   "execution_count": 11,
   "metadata": {},
   "outputs": [],
   "source": [
    "#The order of the returned conversation ids is not guaranteed; compute the correct ordering \n",
    "def find_correct_order(conversation_ids_list, conversation_corpus):\n",
    "    correct_list_order = []\n",
    "    #if the conversation has only one comment, return the conversation list\n",
    "    if (len(conversation_ids_list) == 1 ):\n",
    "        return conversation_ids_list\n",
    "\n",
    "    #When the conversation has more than one comment, find the correct order of the comments\n",
    "    if (len(conversation_ids_list) >1):\n",
    "        #Implement a fail safe to efficiently sort \n",
    "        number_of_iterations = 0\n",
    "        while (number_of_iterations <20 and len(correct_list_order) != len(conversation_ids_list)):\n",
    "            for utterance_id in conversation_ids_list:\n",
    "                correct_list_order = add_utterance(correct_list_order, conversation_corpus.get_utterance(utterance_id), conversation_corpus)\n",
    "            number_of_iterations+=1\n",
    "\n",
    "        #In some of the conversations, new utterances will be added that don't reply directly to the current conversation\n",
    "        #Instead, these new utterances are part of the topic at hand (under the same conversation root) and are sorted by recency\n",
    "        if (len(correct_list_order) != len(conversation_ids_list)):\n",
    "            difference_in_sets = set(conversation_ids_list).difference(correct_list_order)\n",
    "            timestamp_sorted_difference = sort_by_timestamp(list(difference_in_sets), conversation_corpus)\n",
    "            correct_list_order.extend(timestamp_sorted_difference)\n",
    "    return correct_list_order\n"
   ]
  },
  {
   "cell_type": "markdown",
   "metadata": {},
   "source": [
    "And so, we can compute the correct order of utterances in each randomly selected conversation."
   ]
  },
  {
   "cell_type": "code",
   "execution_count": 12,
   "metadata": {},
   "outputs": [
    {
     "name": "stdout",
     "output_type": "stream",
     "text": [
      "Original Order of IDs:['990187.2761.2761', '992726.3054.3054', '990639.3380.3380', '992726.3596.3596', '16071065.3661.3661']\n",
      "Correct Order of IDs:['990187.2761.2761', '992726.3054.3054', '990639.3380.3380', '992726.3596.3596', '16071065.3661.3661']\n",
      "\n",
      "\n",
      "Original Order of IDs:['1782876.60.60', '16232568.2769.2768', '1791042.774.774', '1791069.1156.1156', '1817544.1517.1517', '16232568.1623.1623', '1817651.2355.2355', '16232568.2607.2608']\n",
      "Correct Order of IDs:['1782876.60.60', '16232568.1623.1623', '16232568.2607.2608', '16232568.2769.2768', '1817651.2355.2355', '1817544.1517.1517', '1791069.1156.1156', '1791042.774.774']\n",
      "\n",
      "\n",
      "Original Order of IDs:['782044.0.14815', '782044.0.15026']\n",
      "Correct Order of IDs:['782044.0.14815', '782044.0.15026']\n",
      "\n",
      "\n"
     ]
    }
   ],
   "source": [
    "for conversation in random_conversations:\n",
    "    conversation_ids_list = conversation.get_utterance_ids()\n",
    "    print ('Original Order of IDs:' + str(conversation_ids_list))\n",
    "    print('Correct Order of IDs:' + str(find_correct_order(conversation_ids_list, wikiconv_corpus)))\n",
    "    print ('\\n')"
   ]
  },
  {
   "cell_type": "markdown",
   "metadata": {},
   "source": [
    "Print out the final form of the conversations"
   ]
  },
  {
   "cell_type": "code",
   "execution_count": 13,
   "metadata": {},
   "outputs": [],
   "source": [
    "#Print the conversation text from the list of conversation ids\n",
    "def print_final_conversation(random_conversations, conversation_corpus):\n",
    "    for conversation in random_conversations:\n",
    "        print(wikipedia_link_info(conversation))\n",
    "        conversation_ids_list = conversation.get_utterance_ids()\n",
    "        #First correctly reorder the comments\n",
    "        ordered_list = find_correct_order(conversation_ids_list, conversation_corpus)\n",
    "        #For each utterance, print the text present if the utterance has not been deleted\n",
    "        for utterance_id in ordered_list:\n",
    "            utterance_value = conversation_corpus.get_utterance(utterance_id)\n",
    "            if (utterance_value.text != \" \"):\n",
    "                print (utterance_value.text)\n",
    "                date_time_val = datetime.fromtimestamp(utterance_value.timestamp).strftime('%H:%M %d-%m-%Y')\n",
    "                formatted_user_name = \"--\" + str(utterance_value.user.name) + \"  \" + str(date_time_val)\n",
    "                print (formatted_user_name)\n",
    "        print ('\\n\\n')"
   ]
  },
  {
   "cell_type": "code",
   "execution_count": 14,
   "metadata": {},
   "outputs": [
    {
     "name": "stdout",
     "output_type": "stream",
     "text": [
      "https://en.wikipedia.org/w/index.php?title=talk:Housewife\n",
      "I strongly disapprove the sentence ''Men are increasingly adopting the role of homemaker''. Unless someone will take care of finding a more twisted but proper and accurate sentence to express this, I will just remove the sentence as being strongly misleading. a Wikipedia:WikiWomen\n",
      "--Anthere  13:39 02-06-2003\n",
      "I agree, this sort of statement desperatly needs a cite (\"According to a research, Men are increasingly adopting the role of homemaker..\" would sound more valid (in a junk science newspaper way...)) but I think we should think of a replacement for that statement...   17:59 2 Jun 2003 (UTC)\n",
      "--Rotem Dan  16:41 02-06-2003\n",
      "even better, in country xxx, according to the study from institute yyy, the number of hours men spent cleaning water closets and bathrooms during a year in 1960 and in 2000, compared to equivalent hours per women.\n",
      "--Anthere  14:44 02-06-2003\n",
      "lol )   20:41 2 Jun 2003 (UTC)\n",
      "--Rotem Dan  16:41 02-06-2003\n",
      "Thanks for the refactoring. -)\n",
      "--Anthere  07:00 03-06-2003\n",
      "\n",
      "\n",
      "\n",
      "https://en.wikipedia.org/w/index.php?title=talk:Dance_music_(traditional)\n",
      "This page pretty much overlaps with the first sense of the phrase \"dance music\": music to accompany traditional dances, in the dance music article, they should be merged. \n",
      "--Lexor  03:40 21-11-2003\n",
      "A possible meaning of \"dance\" is a form of musical composition. May be the case of ballet (music) will make the issue clearer.\n",
      "There is ballet as complete performance and there is ballet as music. Some ballets (music) have never been put on stage.\n",
      "Just the same, there is dance and dance. Some waltzes are impossible to dance to, but recognizable as waltzes.\n",
      "I am sorry I confused you with an unhappy example of \"Brittney Spears\". But on the positive side, this brought to attention still another semantic distinction within \"Dance music\": \"music written with a dance in mind\" and \"danceable music\".\n",
      "Once again, before the next round of \"editing wars\", let a third person talk first. mikkalai\n",
      "--Lexor  23:01 25-11-2003\n",
      " Much better IMO, and I did consider this, but what about consistency? There are quite a few references such as Mass (music) \n",
      "--Lexor  23:01 25-11-2003\n",
      " Well consistency is good, all things being equal, but we shouldn't be a slave to it.  In the case of Mass (music), there is no well-known Mass music to confuse it with, but there is with ''Dance music'' and ''Dance (music)''. \n",
      "--Lexor  23:01 25-11-2003\n",
      "OK, how about Dance (musical form)?  (By the way, you can easily sign and date your Talk posts by including four tildes: ~~~~ at the end of your post, makes it easier to keep track of who said what, when.) \n",
      "--Lexor  22:37 25-11-2003\n",
      "On second thoughts, I think dance music (traditional) would be better title. \n",
      "--Lexor  05:24 22-11-2003\n",
      "OK, I see your point.  So maybe we need to move the information from dance music about traditional \"dance music\" to this article, although we should retitle it as something better, because \"dance music\" and \"dance (music)\" are too close lexically to differentiate them well.  I suggest we move your new page to Music for dance. \n",
      "--Lexor  05:12 22-11-2003\n",
      "BTW, \"Sabre Dance\" is an interestion example of \"double sublimation\" of artistic movement: it is dance that is part of dance (ballet) that depicts kind of War dance, rather than an actual war.\n",
      "--Altenmann  16:43 21-11-2003\n",
      "\n",
      "\n",
      "\n",
      "https://en.wikipedia.org/w/index.php?title=talk:Main_Page\n",
      "\n",
      "\n",
      "\n"
     ]
    }
   ],
   "source": [
    "print_final_conversation(random_conversations,  wikiconv_corpus)"
   ]
  },
  {
   "cell_type": "markdown",
   "metadata": {},
   "source": [
    "Let's create a compact method to change the default values easily"
   ]
  },
  {
   "cell_type": "code",
   "execution_count": 15,
   "metadata": {},
   "outputs": [],
   "source": [
    "def change_defaults_print_final(conversation_list, number_of_conversations, conversation_min_length,  \n",
    "                                conversation_corpus):\n",
    "    random_conversations = print_random_conversations(conversation_list, number_of_conversations_to_print,\n",
    "                                                     conversation_min_length, wikiconv_corpus)\n",
    "    print_final_conversation(random_conversations, conversation_corpus)"
   ]
  },
  {
   "cell_type": "code",
   "execution_count": 16,
   "metadata": {},
   "outputs": [
    {
     "name": "stdout",
     "output_type": "stream",
     "text": [
      "https://en.wikipedia.org/w/index.php?title=user_talk:Tarquin\n",
      "\n",
      "\n",
      "\n"
     ]
    }
   ],
   "source": [
    "conversation_list = list(wikiconv_corpus.iter_conversations())\n",
    "number_of_conversations_to_print = 1\n",
    "conversation_min_length = 2\n",
    "\n",
    "change_defaults_print_final(conversation_list, number_of_conversations_to_print, conversation_min_length,\n",
    "                            wikiconv_corpus)"
   ]
  },
  {
   "cell_type": "markdown",
   "metadata": {},
   "source": [
    "Finally, we will create a method to print out the final comment and the intermediate steps in the conversation"
   ]
  },
  {
   "cell_type": "code",
   "execution_count": 17,
   "metadata": {},
   "outputs": [],
   "source": [
    "def sort_changes_by_timestamp(modification_list, deletion_list, restoration_list,  original_utterance):\n",
    "    text_time_tuple_list = []\n",
    "    if (original_utterance is not None):\n",
    "        text_time_original  = (original_utterance.text,original_utterance.timestamp,\n",
    "                           original_utterance.user.name, 'original')\n",
    "        text_time_tuple_list.append(text_time_original)\n",
    "        \n",
    "\n",
    "    for utterance in modification_list:\n",
    "        text_time= (utterance.text, utterance.timestamp,\n",
    "                    utterance.user.name, 'modification')\n",
    "        text_time_tuple_list.append(text_time)\n",
    "    \n",
    "    for utterance in deletion_list:\n",
    "        text_time= ('', utterance.timestamp,\n",
    "                    utterance.user.name, 'deletion')\n",
    "        text_time_tuple_list.append(text_time)\n",
    "        \n",
    "    for utterance in restoration_list:\n",
    "        text_time= (utterance.text, utterance.timestamp,\n",
    "                    utterance.user.name, 'restoration')\n",
    "        text_time_tuple_list.append(text_time)\n",
    "            \n",
    "    text_time_tuple_list.sort(key=lambda x: x[1])\n",
    "    #text_time_tuple_list.reverse()\n",
    "    \n",
    "    \n",
    "    \n",
    "    return text_time_tuple_list\n",
    "        \n",
    "    "
   ]
  },
  {
   "cell_type": "code",
   "execution_count": 18,
   "metadata": {},
   "outputs": [],
   "source": [
    "def print_intermediate_conversation(random_conversations, conversation_corpus):\n",
    "    for conversation in random_conversations:\n",
    "        conversation_ids_list = conversation.get_utterance_ids()\n",
    "        #First correctly reorder the comments\n",
    "        ordered_list = find_correct_order(conversation_ids_list, conversation_corpus)\n",
    "        #For each utterance, print the text present if the utterance has not been deleted\n",
    "        for utterance_id in ordered_list:\n",
    "            utterance_value = conversation_corpus.get_utterance(utterance_id)\n",
    "            if (utterance_value.text != \" \"):\n",
    "                final_comment =  utterance_value.text\n",
    "                date_time_val = datetime.fromtimestamp(utterance_value.timestamp).strftime('%H:%M %d-%m-%Y')\n",
    "                formatted_user_name = \"--\" + str(utterance_value.user.name) + \"  \" + str(date_time_val)\n",
    "                \n",
    "        \n",
    "                final_timestamp = utterance_value.timestamp\n",
    "                modification_list = utterance_value.meta['modification']\n",
    "                deletion_list = utterance_value.meta['deletion']\n",
    "                restoration_list = utterance_value.meta['restoration']\n",
    "                \n",
    "                sorted_timestamps = sort_changes_by_timestamp(modification_list, deletion_list, restoration_list,\n",
    "                                                             utterance_value.meta['original'])\n",
    "                \n",
    "                if (len(sorted_timestamps)>0):\n",
    "                    print(wikipedia_link_info(conversation))\n",
    "                    print ('Final Comment')\n",
    "                    print (final_comment)\n",
    "                    print (formatted_user_name)\n",
    "                    \n",
    "                    for value in sorted_timestamps:\n",
    "                        print ('\\n')\n",
    "                        print (value[3])\n",
    "                        print (value[0])\n",
    "                        formatted_user_name = \"--\" + str(value[2]) + \"  \" + str(datetime.fromtimestamp(float(value[1])).strftime('%H:%M %d-%m-%Y'))\n",
    "                        #str(datetime.fromtimestamp(value[1]).strftime('%H:%M %d-%m-%Y'))\n",
    "                        print (formatted_user_name)\n",
    "\n",
    "                        "
   ]
  },
  {
   "cell_type": "markdown",
   "metadata": {},
   "source": [
    "Our method to quikcly print out intermediate conversations defined below (only conversations with modification, deletion and restoration conversations  are shown)"
   ]
  },
  {
   "cell_type": "code",
   "execution_count": 19,
   "metadata": {},
   "outputs": [],
   "source": [
    "def change_defaults_print_intermediate(conversation_list, number_of_conversations, conversation_min_length,  \n",
    "                                conversation_corpus):\n",
    "    random_conversations = print_random_conversations(conversation_list, number_of_conversations_to_print,\n",
    "                                                     conversation_min_length, wikiconv_corpus)\n",
    "    print_intermediate_conversation(random_conversations, conversation_corpus)"
   ]
  },
  {
   "cell_type": "markdown",
   "metadata": {},
   "source": [
    "Here, the flow of different conversations  is shown with the final comment first displayed and the corresponding actions that have occurred from earliest to latest actions"
   ]
  },
  {
   "cell_type": "code",
   "execution_count": 20,
   "metadata": {},
   "outputs": [
    {
     "name": "stdout",
     "output_type": "stream",
     "text": [
      "https://en.wikipedia.org/w/index.php?title=user_talk:80.255/archive_2\n",
      "Final Comment\n",
      " What you suggest would work for administrative counties whose name differs from traditinal Counties, such as South Gloucestershire and Gloucestershire; however, it obviously wouldn't work for those Counties where this is not the case (which is most of them), and I think any system must be consistent. I think what was adopted for the welsh Counties is fine - thus Gloucestershire (traditional) and South Gloucestershire (administrative) for the corresponding articles, which can then be inter-referential without too much differentiating underbrush.  This implies:\n",
      " ''is in the traditional county County of Gloucestershire and also lies within the administrative county of South Gloucestershire'' \n",
      "Capitalisation is of no help to a blind user with a text reader; or a search engine. Still, in \"the ideal world\", we wouldn't have to deal with such reactionary viewpoints. \n",
      " In an \"ideal world\" ''you'' wouldn't have to deal with the ''facts'', perhaps you mean...\n",
      " If capitalisation is so \"useless\" then why do we capitalise anything? The whole article would be \"no help\" to someone who only understands classical chinese - that's hardly an excuse for its removal. \n",
      "--80.255  07:23 29-11-2003\n",
      "\n",
      "\n",
      "original\n",
      "Capitalisation is of no help to a blind user with a text reader; or a search engine. Still, in \"the ideal world\". We wouldn't have to deal with such reactionary viewpoints. \n",
      "--Pigsonthewing  07:10 29-11-2003\n",
      "\n",
      "\n",
      "modification\n",
      "Capitalisation is of no help to a blind user with a text reader; or a search engine. Still, in \"the ideal world\", we wouldn't have to deal with such reactionary viewpoints. \n",
      "--Pigsonthewing  07:13 29-11-2003\n",
      "\n",
      "\n",
      "modification\n",
      " What you suggest would work for administrative counties whose name differs from traditinal Counties, such as South Gloucestershire and Gloucestershire; however, it obviously wouldn't work for those Counties where this is not the case (which is most of them), and I think any system must be consistent. I think what was adopted for the welsh Counties is fine - thus Gloucestershire (traditional) and South Gloucestershire (administrative) for the corresponding articles, which can then be inter-referential without too much differentiating underbrush.  This implies:\n",
      " ''is in the traditional county County of Gloucestershire and also lies within the administrative county of South Gloucestershire'' \n",
      "Capitalisation is of no help to a blind user with a text reader; or a search engine. Still, in \"the ideal world\", we wouldn't have to deal with such reactionary viewpoints. \n",
      " In an \"ideal world\" ''you'' wouldn't have to deal with the ''facts'', perhaps you mean...\n",
      " If capitalisation is so \"useless\" then why do we capitalise anything? The whole article would be \"no help\" to someone who only understands classical chinese - that's hardly an excuse for its removal.\n",
      "--80.255  07:23 29-11-2003\n",
      "\n",
      "\n",
      "modification\n",
      " What you suggest would work for administrative counties whose name differs from traditinal Counties, such as South Gloucestershire and Gloucestershire; however, it obviously wouldn't work for those Counties where this is not the case (which is most of them), and I think any system must be consistent. I think what was adopted for the welsh Counties is fine - thus Gloucestershire (traditional) and South Gloucestershire (administrative) for the corresponding articles, which can then be inter-referential without too much differentiating underbrush.  This implies:\n",
      " ''is in the traditional county County of Gloucestershire and also lies within the administrative county of South Gloucestershire'' \n",
      "Capitalisation is of no help to a blind user with a text reader; or a search engine. Still, in \"the ideal world\", we wouldn't have to deal with such reactionary viewpoints. \n",
      " In an \"ideal world\" ''you'' wouldn't have to deal with the ''facts'', perhaps you mean...\n",
      " If capitalisation is so \"useless\" then why do we capitalise anything? The whole article would be \"no help\" to someone who only understands classical chinese - that's hardly an excuse for its removal. \n",
      "--80.255  07:23 29-11-2003\n",
      "https://en.wikipedia.org/w/index.php?title=talk:Silesia\n",
      "Final Comment\n",
      "== What is it ?? An article for NaziPedia or what ???\n",
      "--217.168.131.106  16:46 17-11-2003\n",
      "\n",
      "\n",
      "original\n",
      "What is It ???????????????????????????????? an article for NaziPedia or what ???\n",
      "--217.168.131.106  16:21 17-11-2003\n",
      "\n",
      "\n",
      "modification\n",
      "== What is it ?? An article for NaziPedia or what ???\n",
      "--217.168.131.106  16:46 17-11-2003\n",
      "https://en.wikipedia.org/w/index.php?title=talk:Silesia\n",
      "Final Comment\n",
      "1) Why was the Silesian name of Silesia areased ???\n",
      "2) Silesia is a ''region in Poland and Czech Republic'' (in simple English language). Why do we have do use such strange words like ''region what is now Poland''. Is is just bad English or what???\n",
      "3) Silesia is a geographical, historical, administrative and local government region not only historical.\n",
      "4) What are the mysterious ties that were weakening or increasing ??????\n",
      "5) Why the Czech/Bohemian kingdom is totally ignored here ???\n",
      "6) Although it is arithmetically true, it is also misinformation that most of Silesia was German before 1945. All of Lower Silesia was German. Upper Silesia was divided between Germany, Poland, and Czechoslovakia.\n",
      "7) Although it is arithmetically true, it is also misinformation that majority of population was German. Un lower Silesia was mostly German with significant Polish and Jewish minority. Upper Silesia was mostly Polish with significant German and Jewish minority. The Czech Silesia was inhabitet by the Germans, Czechs and Poles.\n",
      "8) It is not true that the German population were expelled and replaced by Poles expelled from former Kresy.\n",
      "After 1945 Upper Silesia was inhabited mainly by the same population as before, there were significant migrations, but not of ethnic reasons.\n",
      "Population in Lower Silesia was changed significantly, but is not true they were expelled. Most of the Germans escaped before the Soviets or were evacuated by the German authorities. Significant groups emigrated later. Polish authorities tried to hold them here as they wanted the labour force. There was also a group that was expelled.\n",
      "Polish population in Lower Silesia was not from Kresy. As the statistics collected in years 1945-50 show population of Lower Silesia was from various Polish regions (central, western, eastern Polsnd), from ex-Polish territoreis ceded to Soviet Union, from other parts of Soviet Union, from Germany (held as compulsory laborers there), from Western European countriies and also from Upper Silesia and some natives living in Lower Silesia before.\n",
      "9) It is very biased to mantion only expulsion of German people, and to stay silent about expulsion of Polish Silesians by Bismarck and Hitler. It is also very strange to stay silent about killing Silesian Poles and Jews during WWII.\n",
      "'''To summarize this intro seems to be a piece of Nazi work and I cannot understand why Wikipedia is beeing used for such dirty misinformation and propaganda. It is very disgusting.''' [user:caius2ga|Grzes of Poznan]\n",
      "--217.168.131.106  16:46 17-11-2003\n",
      "\n",
      "\n",
      "original\n",
      "-\n",
      "1) Why was the Silesian name of Silesia areased ???\n",
      "2) Silesia is a ''region in Poland and Czech Republic'' (in simple English language). Why do we have do use such strange words like ''region what is now Poland''. Is is just bad English or what???\n",
      "3) Silesia is a geographical, historical, administrative and local government region not only historical.\n",
      "4) What are the mysterious ties that were weakening or increasing ??????\n",
      "5) Why the Czech/Bohemian kingdom is totally ignored here ???\n",
      "6) Although it is arithmetically true, it is also misinformation that most of Silesia was German before 1945. All of Lower Silesia was German. Upper Silesia was divided between Germany, Poland, and Czechoslovakia.\n",
      "7) Although it is arithmetically true, it is also misinformation that majority of population was German. Un lower Silesia was mostly German with significant Polish and Jewish minority. Upper Silesia was mostly Polish with significant German and Jewish minority. The Czech Silesia was inhabitet by the Germans, Czechs and Poles.\n",
      "8) It is not true that the German population were expelled and replaced by Poles expelled from former Kresy.\n",
      "After 1945 Upper Silesia was inhabited mainly by the same population as before, there were significant migrations, but not of ethnic reasons.\n",
      "Population in Lower Silesia was changed significantly, but is not true they were expelled. Most of the Germans escaped before the Soviets or were evacuated by the German authorities. Significant groups emigrated later. Polish authorities tried to hold them here as they wanted the labour force. There was also a group that was expelled.\n",
      "Polish population in Lower Silesia was not from Kresy. As the statistics collected in years 1945-50 show population of Lower Silesia was from various Polish regions (central, western, eastern Polsnd), from ex-Polish territoreis ceded to Soviet Union, from other parts of Soviet Union, from Germany (held as compulsory laborers there), from Western European countriies and also from Upper Silesia and some natives living in Lower Silesia before.\n",
      "9) It is very biased to mantion only expulsion of German people, and to stay silent about expulsion of Polish Silesians by Bismarck and Hitler. It is also very strange to stay silent about killing Silesian Poles and Jews during WWII.\n",
      "'''To summarize this intro seems to be a piece of Nazi work and I cannot understand why Wikipedia is beeing used for such dirty misinformation and propaganda. It is very disgusting.''' [user:caius2ga|Grzes of Poznan]\n",
      "--217.168.131.106  16:45 17-11-2003\n",
      "\n",
      "\n",
      "modification\n",
      "1) Why was the Silesian name of Silesia areased ???\n",
      "2) Silesia is a ''region in Poland and Czech Republic'' (in simple English language). Why do we have do use such strange words like ''region what is now Poland''. Is is just bad English or what???\n",
      "3) Silesia is a geographical, historical, administrative and local government region not only historical.\n",
      "4) What are the mysterious ties that were weakening or increasing ??????\n",
      "5) Why the Czech/Bohemian kingdom is totally ignored here ???\n",
      "6) Although it is arithmetically true, it is also misinformation that most of Silesia was German before 1945. All of Lower Silesia was German. Upper Silesia was divided between Germany, Poland, and Czechoslovakia.\n",
      "7) Although it is arithmetically true, it is also misinformation that majority of population was German. Un lower Silesia was mostly German with significant Polish and Jewish minority. Upper Silesia was mostly Polish with significant German and Jewish minority. The Czech Silesia was inhabitet by the Germans, Czechs and Poles.\n",
      "8) It is not true that the German population were expelled and replaced by Poles expelled from former Kresy.\n",
      "After 1945 Upper Silesia was inhabited mainly by the same population as before, there were significant migrations, but not of ethnic reasons.\n",
      "Population in Lower Silesia was changed significantly, but is not true they were expelled. Most of the Germans escaped before the Soviets or were evacuated by the German authorities. Significant groups emigrated later. Polish authorities tried to hold them here as they wanted the labour force. There was also a group that was expelled.\n",
      "Polish population in Lower Silesia was not from Kresy. As the statistics collected in years 1945-50 show population of Lower Silesia was from various Polish regions (central, western, eastern Polsnd), from ex-Polish territoreis ceded to Soviet Union, from other parts of Soviet Union, from Germany (held as compulsory laborers there), from Western European countriies and also from Upper Silesia and some natives living in Lower Silesia before.\n",
      "9) It is very biased to mantion only expulsion of German people, and to stay silent about expulsion of Polish Silesians by Bismarck and Hitler. It is also very strange to stay silent about killing Silesian Poles and Jews during WWII.\n",
      "'''To summarize this intro seems to be a piece of Nazi work and I cannot understand why Wikipedia is beeing used for such dirty misinformation and propaganda. It is very disgusting.''' [user:caius2ga|Grzes of Poznan]\n",
      "--217.168.131.106  16:46 17-11-2003\n",
      "https://en.wikipedia.org/w/index.php?title=user_talk:Looxix~enwiki\n",
      "Final Comment\n",
      "Ah, c'était de toi; en fait, j'ai pensé un moment que ça pouvait être les tiens. C'est en cherchant un article sur en: pour lier avec Zone tropicale humide que je suis tombé dessus et j'ai vu que des liens vers fr: existaient déjà, mais en vérifiant, j'ai vu que ces articles n'existaient pas. Je les ai donc retirer, comme ce n'est pas l'usage de faire des link vers des articles inexistant. Si tu veux je les remets.\n",
      "Rapport A*****e, je doute que ça va le calmer pendant longtemps, je ne sais pas si tu as vu, mais peu de temps après tes premières versions il s'est un peu défoulé sur le Bistro. Que fera-t'il ensuite? Je t'avoue que toute cette histoire et l'ambiance malsaine qui en découle m'ôte toute envie de faire du travail un peu sérieux; dire que je suis passé sur fr: car j'ai trouvé que l'ambiance était excellente!  \n",
      "--Looxix~enwiki  20:36 25-08-2003\n",
      "\n",
      "\n",
      "original\n",
      "Ah, c'était de toi; en fait, j'ai pensé un moment que ça pouvait être les tiens. C'est en cherchant un article sur en: pour lier avec Zone tropicale humide que je suis tombé dessus et j'ai vu que des liens vers fr: existaient déjà, mais en vérifiant, j'ai vu que ces articles n'existaient pas. Je les ai donc retirer, comme ce n'est pas l'usage de faire des link vers des articles inexistant. Si tu veux je les remets.\n",
      "Rapport A*****e, je doute que ça va le calmer pendant longtemps, je ne sais pas si tu as vu, mais peu de temps après tes premières versions il s'est un peu défoulé sur le Bistro. Que fera-t'il ensuite? Je t'avoue que toute cette histoire et l'ambiance malsaine qui en découle m'ôte toute envie de faire du travail un peu sérieux; dire que je suis passé sur fr: car j'ai trouvé que l'ambiance était excellente!  \n",
      "--Looxix~enwiki  19:59 25-08-2003\n",
      "\n",
      "\n",
      "modification\n",
      "Ah, c'était de toi; en fait, j'ai pensé un moment que ça pouvait être les tiens. C'est en cherchant un article sur en: pour lier avec Zone tropicale humide que je suis tombé dessus et j'ai vu que des liens vers fr: existaient déjà, mais en vérifiant, j'ai vu que ces articles n'existaient pas. Je les ai donc retirer, comme ce n'est pas l'usage de faire des link vers des articles inexistant. Si tu veux je les remets.\n",
      "Rapport A*****e, je doute que ça va le calmer pendant longtemps, je ne sais pas si tu as vu, mais peu de temps après tes premières versions il s'est un peu défoulé sur le Bistro. Que fera-t'il ensuite? Je t'avoue que toute cette histoire et l'ambiance malsaine qui en découle m'ôte toute envie de faire du travail un peu sérieux; dire que je suis passé sur fr: car j'ai trouvé que l'ambiance était excellente!  \n",
      "--Looxix~enwiki  20:36 25-08-2003\n",
      "https://en.wikipedia.org/w/index.php?title=user_talk:Looxix~enwiki\n",
      "Final Comment\n",
      "C'est une question de principe loo. Il a raison sur certains aspects. Bon, j ai fini ma prose (il reste des bidules, mais bon). Je viens de virer les micros edits de vincent, car je n avais pas le courage de tout merger, qd j ai fait un conflit d edit au dernier save. Va admirer ! Commente ! Encense !\n",
      "Oui, je sais qu'il a raison sur certain point du contenu mais il aussi énormément tort sur le contenu et sur le comportement. PLusieurs versions où il est intervenu en beuglant comme en veau étaient déjà très neutre. Pour tes changements, oui j'aime assez; je me demande juste combien de temps ça va durer.\n",
      "Et moi, je vais faire dodo. Merde, quand je pense que je voulais m occuper de la promotion... soupir\n",
      "--Looxix~enwiki  20:36 25-08-2003\n",
      "\n",
      "\n",
      "original\n",
      "C'est une question de principe loo. Il a raison sur certains aspects. Bon, j ai fini ma prose (il reste des bidules, mais bon). Je viens de virer les micros edits de vincent, car je n avais pas le courage de tout merger, qd j ai fait un conflit d edit au dernier save. Va admirer ! Commente ! Encense !\n",
      "Et moi, je vais faire dodo. Merde, quand je pense que je voulais m occuper de la promotion... soupir\n",
      "--Anthere  20:24 25-08-2003\n",
      "\n",
      "\n",
      "modification\n",
      "C'est une question de principe loo. Il a raison sur certains aspects. Bon, j ai fini ma prose (il reste des bidules, mais bon). Je viens de virer les micros edits de vincent, car je n avais pas le courage de tout merger, qd j ai fait un conflit d edit au dernier save. Va admirer ! Commente ! Encense !\n",
      "Oui, je sais qu'il a raison sur certain point du contenu mais il aussi énormément tort sur le contenu et sur le comportement. PLusieurs versions où il est intervenu en beuglant comme en veau étaient déjà très neutre. Pour tes changements, oui j'aime assez; je me demande juste combien de temps ça va durer.\n",
      "Et moi, je vais faire dodo. Merde, quand je pense que je voulais m occuper de la promotion... soupir\n",
      "--Looxix~enwiki  20:36 25-08-2003\n",
      "https://en.wikipedia.org/w/index.php?title=user_talk:Looxix~enwiki\n",
      "Final Comment\n",
      "Ses opposants ont tout aussi tort sur le comportement. Et certains ont aussi tort sur le contenu. Loo, c'est fait expres, pour nous faire réagir, pour mettre en évidence nos faiblesses, nos erreurs, ne t y trompes pas. Regarde d'au dessus, essaye de t abstraire. Regarde et analyse la démarche. Lis attentivement la page NPOV test, surtout la fin. La dernière série sur \"comment faire taire un adversaire\" est passionnante. Regarde bien aussi la liste d'extrait de point de vue sur le NPOV  tu réaliseras que nous ne parlons pas de la même chose, nous tous. Il y a aussi des pistes de résolution de conflit a explorer. Vois l'épreuve comme un apprentissage. Je suis assez optimiste pour ma version. Elle changera bien sur, il manque encore des choses, mais sur le fond, je suis assez sure de moi. Sinon, je vais brailler -))))\n",
      "--Anthere  20:57 25-08-2003\n",
      "\n",
      "\n",
      "original\n",
      "Ses opposants ont tout aussi tort sur le comportement. Et certains ont aussi tort sur le contenu. Loo, c'est fait expres, pour nous faire réagir, pour mettre en évidence nos faiblesses, nos erreurs, ne t y trompes pas. Regarde d'au dessus, essaye de t abstraire. Regarde et analyse la démarche. Lis attentivement la page NPOV test, surtout la fin. La dernière série sur \"comment faire taire un adversaire\" est passionnante. Regarde bien aussi la liste d'extrait de point de vue sur le NPOV  tu réaliseras que nous ne parlons pas de la même chose, nous tous. Il y a aussi des pistes de résolution de conflit a explorer. Vois l'épreuve comme un apprentissage. Je suis assez optimiste pour ma version. Elle changera bien sur, il manque encore des choses, mais sur le fond, je suis assez sure de moi. Sinon, je vais brailler -))))\n",
      "--Anthere  20:55 25-08-2003\n",
      "\n",
      "\n",
      "modification\n",
      "Ses opposants ont tout aussi tort sur le comportement. Et certains ont aussi tort sur le contenu. Loo, c'est fait expres, pour nous faire réagir, pour mettre en évidence nos faiblesses, nos erreurs, ne t y trompes pas. Regarde d'au dessus, essaye de t abstraire. Regarde et analyse la démarche. Lis attentivement la page NPOV test, surtout la fin. La dernière série sur \"comment faire taire un adversaire\" est passionnante. Regarde bien aussi la liste d'extrait de point de vue sur le NPOV  tu réaliseras que nous ne parlons pas de la même chose, nous tous. Il y a aussi des pistes de résolution de conflit a explorer. Vois l'épreuve comme un apprentissage. Je suis assez optimiste pour ma version. Elle changera bien sur, il manque encore des choses, mais sur le fond, je suis assez sure de moi. Sinon, je vais brailler -))))\n",
      "--Anthere  20:57 25-08-2003\n",
      "https://en.wikipedia.org/w/index.php?title=user_talk:Michael\n",
      "Final Comment\n",
      " Note \n",
      "--Jiang  20:47 15-09-2003\n",
      "\n",
      "\n",
      "original\n",
      " Note \n",
      "--Oliver Pereira  20:27 07-06-2003\n",
      "\n",
      "\n",
      "deletion\n",
      "\n",
      "--This is Hephaestos, not Michael  20:41 15-09-2003\n",
      "\n",
      "\n",
      "restoration\n",
      " Note \n",
      "--Jiang  20:47 15-09-2003\n",
      "https://en.wikipedia.org/w/index.php?title=user_talk:Michael\n",
      "Final Comment\n",
      "(to ) You don't have to worry about me doing anything to your garbage articles.  It is accepted Wikipedia pratice to allow vandals to make whatever nonsense articles they want, and then to attack the people who try to clean up after them.  You have my blessing.   \n",
      "--Jiang  20:47 15-09-2003\n",
      "\n",
      "\n",
      "original\n",
      "(to ) You don't have to worry about me doing anything to your garbage articles.  It is accepted Wikipedia pratice to allow vandals to make whatever nonsense articles they want, and then to attack the people who try to clean up after them.  You have my blessing.   \n",
      "--MartinHarper  13:08 12-06-2003\n",
      "\n",
      "\n",
      "deletion\n",
      "\n",
      "--This is Hephaestos, not Michael  20:41 15-09-2003\n",
      "\n",
      "\n",
      "restoration\n",
      "(to ) You don't have to worry about me doing anything to your garbage articles.  It is accepted Wikipedia pratice to allow vandals to make whatever nonsense articles they want, and then to attack the people who try to clean up after them.  You have my blessing.   \n",
      "--Jiang  20:47 15-09-2003\n",
      "https://en.wikipedia.org/w/index.php?title=user_talk:Michael\n",
      "Final Comment\n",
      " these edits are all prior to Michael's first edits under , so I didn't add an accuracy dispute to any of them. \n",
      "--Jiang  20:47 15-09-2003\n",
      "\n",
      "\n",
      "original\n",
      " these edits are all prior to Michael's first edits under , so I didn't add an accuracy dispute to any of them. \n",
      "--MartinHarper  12:15 13-07-2003\n",
      "\n",
      "\n",
      "deletion\n",
      "\n",
      "--This is Hephaestos, not Michael  20:41 15-09-2003\n",
      "\n",
      "\n",
      "restoration\n",
      " these edits are all prior to Michael's first edits under , so I didn't add an accuracy dispute to any of them. \n",
      "--Jiang  20:47 15-09-2003\n",
      "https://en.wikipedia.org/w/index.php?title=user_talk:Michael\n",
      "Final Comment\n",
      "Tell me where you are, mike.  Seriously. - \n",
      "--Jiang  20:47 15-09-2003\n",
      "\n",
      "\n",
      "original\n",
      "Tell me where you are, mike.  Seriously. - \n",
      "--Hephaestos  23:23 29-07-2003\n",
      "\n",
      "\n",
      "deletion\n",
      "\n",
      "--This is Hephaestos, not Michael  20:41 15-09-2003\n",
      "\n",
      "\n",
      "restoration\n",
      "Tell me where you are, mike.  Seriously. - \n",
      "--Jiang  20:47 15-09-2003\n"
     ]
    }
   ],
   "source": [
    "conversation_list = list(wikiconv_corpus.iter_conversations())\n",
    "number_of_conversations_to_print = 10\n",
    "conversation_min_length = 3\n",
    "\n",
    "change_defaults_print_intermediate(conversation_list, number_of_conversations_to_print, conversation_min_length,\n",
    "                            wikiconv_corpus)"
   ]
  }
 ],
 "metadata": {
  "kernelspec": {
   "display_name": "Python 3",
   "language": "python",
   "name": "python3"
  },
  "language_info": {
   "codemirror_mode": {
    "name": "ipython",
    "version": 3
   },
   "file_extension": ".py",
   "mimetype": "text/x-python",
   "name": "python",
   "nbconvert_exporter": "python",
   "pygments_lexer": "ipython3",
   "version": "3.7.2"
  }
 },
 "nbformat": 4,
 "nbformat_minor": 2
}
