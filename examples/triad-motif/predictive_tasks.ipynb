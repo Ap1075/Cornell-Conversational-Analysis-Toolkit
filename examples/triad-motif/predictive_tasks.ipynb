{
 "cells": [
  {
   "cell_type": "code",
   "execution_count": 1,
   "metadata": {},
   "outputs": [
    {
     "data": {
      "text/plain": [
       "'/Users/calebchiam/Documents/GitHub/Cornell-Conversational-Analysis-Toolkit'"
      ]
     },
     "execution_count": 1,
     "metadata": {},
     "output_type": "execute_result"
    }
   ],
   "source": [
    "import os\n",
    "os.getcwd()\n",
    "os.chdir(\"../..\")\n",
    "os.getcwd()"
   ]
  },
  {
   "cell_type": "markdown",
   "metadata": {},
   "source": [
    "We can use Hypergraph features for various predictive tasks:"
   ]
  },
  {
   "cell_type": "code",
   "execution_count": 2,
   "metadata": {},
   "outputs": [],
   "source": [
    "import convokit\n",
    "import pickle\n",
    "import pandas as pd\n",
    "import warnings\n",
    "warnings.filterwarnings('ignore')"
   ]
  },
  {
   "cell_type": "code",
   "execution_count": 3,
   "metadata": {},
   "outputs": [
    {
     "name": "stdout",
     "output_type": "stream",
     "text": [
      "Dataset already exists at /Users/calebchiam/.convokit/downloads/reddit-corpus\n"
     ]
    }
   ],
   "source": [
    "corpus = convokit.Corpus(filename=convokit.download(\"reddit-corpus\"))"
   ]
  },
  {
   "cell_type": "code",
   "execution_count": 4,
   "metadata": {},
   "outputs": [
    {
     "data": {
      "text/plain": [
       "<convokit.model.corpus.Corpus at 0x11f895a58>"
      ]
     },
     "execution_count": 4,
     "metadata": {},
     "output_type": "execute_result"
    }
   ],
   "source": [
    "hc = convokit.HyperConvo(prefix_len=10, min_thread_len=10, include_root=False)\n",
    "hc.fit_transform(corpus)"
   ]
  },
  {
   "cell_type": "code",
   "execution_count": 5,
   "metadata": {},
   "outputs": [],
   "source": [
    "remake_cache = False\n",
    "if remake_cache:\n",
    "    with open(\"hyperconvo_feats.p\", \"wb\") as f:\n",
    "        hyperconvo_feats = {}\n",
    "        for convo in corpus.iter_conversations():\n",
    "            hyperconvo_feats.update(convo.meta[\"hyperconvo\"])\n",
    "        pickle.dump(hyperconvo_feats, f)\n",
    "else:\n",
    "    with open(\"hyperconvo_feats.p\", \"rb\") as f:\n",
    "        hyperconvo_feats = pickle.load(f)"
   ]
  },
  {
   "cell_type": "code",
   "execution_count": 6,
   "metadata": {},
   "outputs": [],
   "source": [
    "threads = corpus.utterance_threads(include_root=False)"
   ]
  },
  {
   "cell_type": "code",
   "execution_count": 7,
   "metadata": {},
   "outputs": [],
   "source": [
    "missing = 0\n",
    "present = 0\n",
    "for tlc_id, thread in threads.items():\n",
    "    if tlc_id not in thread:\n",
    "        missing += 1\n",
    "    else:\n",
    "        present += 1"
   ]
  },
  {
   "cell_type": "code",
   "execution_count": 8,
   "metadata": {},
   "outputs": [],
   "source": [
    "# Use only the first 10 comments in each thread\n",
    "thread_pfxs = corpus.utterance_threads(prefix_len=10, include_root=False)"
   ]
  },
  {
   "cell_type": "code",
   "execution_count": 9,
   "metadata": {},
   "outputs": [
    {
     "data": {
      "text/plain": [
       "100000"
      ]
     },
     "execution_count": 9,
     "metadata": {},
     "output_type": "execute_result"
    }
   ],
   "source": [
    "len(threads)"
   ]
  },
  {
   "cell_type": "code",
   "execution_count": 10,
   "metadata": {},
   "outputs": [],
   "source": [
    "from collections import defaultdict\n",
    "thread_roots_by_self_post = defaultdict(list)\n",
    "for top_level_comment, thread in threads.items():\n",
    "    rt = thread[next(iter(thread))].root\n",
    "    thread_roots_by_self_post[rt].append(top_level_comment)"
   ]
  },
  {
   "cell_type": "code",
   "execution_count": 11,
   "metadata": {},
   "outputs": [],
   "source": [
    "from sklearn.feature_extraction.text import CountVectorizer"
   ]
  },
  {
   "cell_type": "code",
   "execution_count": null,
   "metadata": {
    "scrolled": true
   },
   "outputs": [],
   "source": []
  },
  {
   "cell_type": "code",
   "execution_count": 12,
   "metadata": {},
   "outputs": [],
   "source": [
    "path_stats = hc.retrieve_motif_pathway_stats(corpus)"
   ]
  },
  {
   "cell_type": "code",
   "execution_count": 13,
   "metadata": {},
   "outputs": [],
   "source": [
    "motif_counts = hc.retrieve_motif_counts(corpus)"
   ]
  },
  {
   "cell_type": "code",
   "execution_count": 14,
   "metadata": {},
   "outputs": [],
   "source": [
    "threads_motifs = hc.retrieve_motifs(corpus)"
   ]
  },
  {
   "cell_type": "code",
   "execution_count": 15,
   "metadata": {},
   "outputs": [
    {
     "data": {
      "text/plain": [
       "{'NO_EDGE_TRIADS': [<convokit.hyperconvo.triadMotif.TriadMotif at 0x1c2b34f28>,\n",
       "  <convokit.hyperconvo.triadMotif.TriadMotif at 0x1c2b34898>,\n",
       "  <convokit.hyperconvo.triadMotif.TriadMotif at 0x1c2b347f0>,\n",
       "  <convokit.hyperconvo.triadMotif.TriadMotif at 0x1c2b34630>,\n",
       "  <convokit.hyperconvo.triadMotif.TriadMotif at 0x1c2b34128>,\n",
       "  <convokit.hyperconvo.triadMotif.TriadMotif at 0x1c2b34198>,\n",
       "  <convokit.hyperconvo.triadMotif.TriadMotif at 0x1c2b34048>,\n",
       "  <convokit.hyperconvo.triadMotif.TriadMotif at 0x1c2b34160>],\n",
       " 'SINGLE_EDGE_TRIADS': [<convokit.hyperconvo.triadMotif.TriadMotif at 0x1c2b343c8>,\n",
       "  <convokit.hyperconvo.triadMotif.TriadMotif at 0x1c2b340b8>,\n",
       "  <convokit.hyperconvo.triadMotif.TriadMotif at 0x11fb3feb8>,\n",
       "  <convokit.hyperconvo.triadMotif.TriadMotif at 0x11fb3f3c8>],\n",
       " 'INCOMING_TRIADS': [],\n",
       " 'OUTGOING_TRIADS': [],\n",
       " 'DYADIC_TRIADS': [<convokit.hyperconvo.triadMotif.TriadMotif at 0x11fb3fe80>,\n",
       "  <convokit.hyperconvo.triadMotif.TriadMotif at 0x11fb3f668>,\n",
       "  <convokit.hyperconvo.triadMotif.TriadMotif at 0x11fb3f390>,\n",
       "  <convokit.hyperconvo.triadMotif.TriadMotif at 0x11fb3f160>,\n",
       "  <convokit.hyperconvo.triadMotif.TriadMotif at 0x11fb3fb70>,\n",
       "  <convokit.hyperconvo.triadMotif.TriadMotif at 0x11fb3f320>,\n",
       "  <convokit.hyperconvo.triadMotif.TriadMotif at 0x11fb3f630>,\n",
       "  <convokit.hyperconvo.triadMotif.TriadMotif at 0x11fb3f128>],\n",
       " 'UNIDIRECTIONAL_TRIADS': [],\n",
       " 'INCOMING_2TO3_TRIADS': [],\n",
       " 'INCOMING_1TO3_TRIADS': [],\n",
       " 'DIRECTED_CYCLE_TRIADS': [],\n",
       " 'OUTGOING_3TO1_TRIADS': [],\n",
       " 'INCOMING_RECIPROCAL_TRIADS': [],\n",
       " 'OUTGOING_RECIPROCAL_TRIADS': [],\n",
       " 'DIRECTED_CYCLE_1TO3_TRIADS': [],\n",
       " 'DIRECIPROCAL_TRIADS': [],\n",
       " 'DIRECIPROCAL_2TO3_TRIADS': [],\n",
       " 'TRIRECIPROCAL_TRIADS': []}"
      ]
     },
     "execution_count": 15,
     "metadata": {},
     "output_type": "execute_result"
    }
   ],
   "source": [
    "threads_motifs['dnppqdj']"
   ]
  },
  {
   "cell_type": "code",
   "execution_count": 16,
   "metadata": {},
   "outputs": [],
   "source": [
    "latent_motif_count = {thread_id: hc._latent_motif_count(motif_dict, trans=False)[0] for thread_id, motif_dict in threads_motifs.items()}"
   ]
  },
  {
   "cell_type": "code",
   "execution_count": 25,
   "metadata": {},
   "outputs": [],
   "source": [
    "from sklearn.pipeline import FeatureUnion, Pipeline\n",
    "from sklearn.preprocessing import normalize, StandardScaler, Normalizer\n",
    "from sklearn.linear_model import LogisticRegression\n",
    "from sklearn.model_selection import GridSearchCV, LeaveOneGroupOut\n",
    "from sklearn.feature_selection import f_classif, SelectPercentile"
   ]
  },
  {
   "cell_type": "code",
   "execution_count": 36,
   "metadata": {},
   "outputs": [
    {
     "name": "stdout",
     "output_type": "stream",
     "text": [
      "task comment-growth\n",
      "- 1723 positive, 1723 negative pts\n",
      "- hyperconvo: 0.5917 train, 0.5362 test\n",
      "- reply tree: 0.5688 train, 0.5362 test\n",
      "- BOW: 0.6488 train, 0.5159 test\n",
      "- motifpaths: 0.5669 train, 0.5159 test\n",
      "- motifcounts: 0.5643 train, 0.5101 test\n",
      "- latentmotifcounts: 0.5727 train, 0.5246 test\n",
      "- hyperconv-motifpaths: 0.5898 train, 0.5623 test\n",
      "- hyperconvo-motifcounts: 0.5892 train, 0.5565 test\n",
      "- hyperconvo-latentmotifs: 0.5850 train, 0.5478 test\n",
      "- hyperconvo-motifall: 0.5859 train, 0.5536 test\n",
      "task commenter-growth\n",
      "- 1121 positive, 1121 negative pts\n",
      "- hyperconvo: 0.5622 train, 0.5600 test\n",
      "- reply tree: 0.5563 train, 0.5378 test\n",
      "- BOW: 0.6728 train, 0.5111 test\n",
      "- motifpaths: 0.5335 train, 0.4800 test\n",
      "- motifcounts: 0.5211 train, 0.4667 test\n",
      "- latentmotifcounts: 0.5206 train, 0.5156 test\n",
      "- hyperconv-motifpaths: 0.5597 train, 0.5556 test\n",
      "- hyperconvo-motifcounts: 0.5607 train, 0.5511 test\n",
      "- hyperconvo-latentmotifs: 0.5607 train, 0.5600 test\n",
      "- hyperconvo-motifall: 0.5627 train, 0.5511 test\n"
     ]
    }
   ],
   "source": [
    "import random\n",
    "from sklearn.linear_model import LogisticRegression\n",
    "import numpy as np\n",
    "from sklearn.model_selection import train_test_split\n",
    "\n",
    "random.seed(2019)\n",
    "\n",
    "for task in [\"comment-growth\", \"commenter-growth\"]: #, \"post-deleted\", \"user-deleted\"\n",
    "    print(\"task {}\".format(task))\n",
    "    pos, neg = [], []\n",
    "    for roots in thread_roots_by_self_post.values():\n",
    "        has_pos, has_neg = [], []\n",
    "        for root in roots:\n",
    "            if task == \"comment-growth\":\n",
    "                if len(threads[root]) >= 15:\n",
    "                    has_pos.append(root)\n",
    "                if len(threads[root]) == 10:\n",
    "                    has_neg.append(root)\n",
    "            elif task == \"commenter-growth\":\n",
    "                if len(threads[root]) >= 20:\n",
    "                    if len(set(c.user.name for c in threads[root].values())) >= \\\n",
    "                        len(set(c.user.name for c in thread_pfxs[root].values())) * 2:\n",
    "                            has_pos.append(root)\n",
    "                    else:\n",
    "                        has_neg.append(root)\n",
    "#             elif task == \"post-deleted\":\n",
    "#                 if len(threads[root]) >= 10:\n",
    "#                     if threads[root][root].user.info[\"post-deleted\"]:\n",
    "#                         has_pos.append(root)\n",
    "#                     else:\n",
    "#                         has_neg.append(root)\n",
    "#             elif task == \"user-deleted\":\n",
    "#                 if len(threads[root]) >= 10:\n",
    "#                     if threads[root][root].user.info[\"user-deleted\"]:\n",
    "#                         has_pos.append(root)\n",
    "#                     else:\n",
    "#                         has_neg.append(root)\n",
    "            else:\n",
    "                print(\"unrecognized task name\")\n",
    "\n",
    "        if has_pos and has_neg:\n",
    "            pos.append(random.choice(has_pos))\n",
    "            neg.append(random.choice(has_neg))\n",
    "\n",
    "    print(\"- {} positive, {} negative pts\".format(len(pos), len(neg)))\n",
    "\n",
    "    # make data from pos and neg\n",
    "    X = []\n",
    "    X_volume, X_reply, X_bow = [], [], []\n",
    "    X_motifpath = []\n",
    "    X_motifcount = []\n",
    "    X_latentmotif = []\n",
    "    threads_text = []\n",
    "    for root in pos + neg:\n",
    "        # get ordered set of feature values\n",
    "        v = [hyperconvo_feats[root][k] for k in sorted(hyperconvo_feats[root].keys())]\n",
    "        # data cleaning\n",
    "        v = [t if (not np.isnan(t) and np.isfinite(t)) else 0 for t in v]\n",
    "        X.append(v)\n",
    "        \n",
    "        X_motifpath.append(list(path_stats[root].values()))\n",
    "        X_motifcount.append(list(motif_counts[root].values()))\n",
    "        X_latentmotif.append(list(latent_motif_count[root].values()))\n",
    "        # volume baseline - get num participants in thread with at least length of 10\n",
    "        X_volume.append([len(set(c.user.name for c in thread_pfxs[root].values()))])   \n",
    "        # reply tree baseline\n",
    "        X_reply.append([hyperconvo_feats[root][k] if (not np.isnan(hyperconvo_feats[root][k]) and np.isfinite(hyperconvo_feats[root][k])) else 0 for k in sorted(hyperconvo_feats[root].keys()) \n",
    "                        if \"c->c\" in k])\n",
    "        # BOW baseline text\n",
    "        thread_text = \" \".join([u.text for u in thread_pfxs[root].values()\n",
    "                                if not (task == \"post-deleted\" and u.id == root)])  \n",
    "        # don't consider root post for post-deleted task, since we could just look for the string \"[deleted]\"\n",
    "        threads_text.append(thread_text)\n",
    "        \n",
    "    ys = [1]*len(pos) + [0]*len(neg)\n",
    "\n",
    "    X, ys = np.array(X), np.array(ys)\n",
    "    X_volume = np.array(X_volume)\n",
    "    X_reply = np.array(X_reply)\n",
    "    X_motifpath = np.array(X_motifpath)\n",
    "    X_motifcount = np.array(X_motifcount)\n",
    "    X_latentmotif = np.array(X_latentmotif)\n",
    "    X_hc_path = np.concatenate([X_motifpath, X], axis=1)\n",
    "    X_hc_count = np.concatenate([X_motifcount, X], axis=1)\n",
    "    X_hc_latent = np.concatenate([X_latentmotif, X], axis=1)\n",
    "    X_all = np.concatenate([X_motifpath, X_motifcount, X_latentmotif, X], axis=1)\n",
    "    for X_tmp, name in [(X, \"hyperconvo\"), \n",
    "#                         (X_volume, \"volume\"), \n",
    "                        (X_reply, \"reply tree\"), \n",
    "                        (None, \"BOW\"), \n",
    "                        (X_motifpath, \"motifpaths\"), \n",
    "                        (X_motifcount, \"motifcounts\"),\n",
    "                        (X_latentmotif, \"latentmotifcounts\"),\n",
    "                        (X_hc_path, \"hyperconv-motifpaths\"),\n",
    "                        (X_hc_count, \"hyperconvo-motifcounts\"),\n",
    "                        (X_hc_latent, \"hyperconvo-latentmotifs\"),\n",
    "                        (X_all, \"hyperconvo-motifall\")\n",
    "                       ]:\n",
    "        if name == \"BOW\":\n",
    "            text_train, text_test, y_train, y_test = train_test_split(threads_text, ys, test_size=0.1, random_state=42)\n",
    "            cv = CountVectorizer(min_df=0.05, max_df=0.8)\n",
    "            X_train = cv.fit_transform(text_train)\n",
    "            X_test = cv.transform(text_test)\n",
    "        else:\n",
    "            X_train, X_test, y_train, y_test = train_test_split(X_tmp, ys, test_size=0.1, random_state=42)\n",
    "        \n",
    "        clf = Pipeline([(\"normalizer\", Normalizer()), (\"logreg\", LogisticRegression(solver='liblinear'))])\n",
    "#         clf = Pipeline([(\"normalizer\", Normalizer()), (\"featselect\", SelectPercentile(f_classif, 10)), (\"logreg\", LogisticRegression(solver='liblinear'))])\n",
    "#         clf = GridSearchCV(base_clf, {\"logreg__C\": [10**i for i in range(-4,4)], \"featselect__percentile\": list(range(10, 110, 10))}, cv=3)\n",
    "\n",
    "#         print(X_train.shape)\n",
    "#         print(y_train.shape)\n",
    "\n",
    "#         clf = LogisticRegression(solver=\"liblinear\")\n",
    "        clf.fit(X_train, y_train)\n",
    "\n",
    "        train_acc = clf.score(X_train, y_train)\n",
    "        test_acc = clf.score(X_test, y_test)\n",
    "        print(\"- {}: {:.4f} train, {:.4f} test\".format(name, train_acc, test_acc))"
   ]
  },
  {
   "cell_type": "code",
   "execution_count": null,
   "metadata": {},
   "outputs": [],
   "source": []
  }
 ],
 "metadata": {
  "kernelspec": {
   "display_name": "Python 3",
   "language": "python",
   "name": "python3"
  },
  "language_info": {
   "codemirror_mode": {
    "name": "ipython",
    "version": 3
   },
   "file_extension": ".py",
   "mimetype": "text/x-python",
   "name": "python",
   "nbconvert_exporter": "python",
   "pygments_lexer": "ipython3",
   "version": "3.7.3"
  },
  "pycharm": {
   "stem_cell": {
    "cell_type": "raw",
    "metadata": {
     "collapsed": false
    },
    "source": []
   }
  }
 },
 "nbformat": 4,
 "nbformat_minor": 2
}
