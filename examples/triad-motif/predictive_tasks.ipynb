{
 "cells": [
  {
   "cell_type": "code",
   "execution_count": 1,
   "metadata": {},
   "outputs": [
    {
     "data": {
      "text/plain": [
       "'/Users/calebchiam/Documents/GitHub/Cornell-Conversational-Analysis-Toolkit'"
      ]
     },
     "execution_count": 1,
     "metadata": {},
     "output_type": "execute_result"
    }
   ],
   "source": [
    "import os\n",
    "os.getcwd()\n",
    "os.chdir(\"../..\")\n",
    "os.getcwd()"
   ]
  },
  {
   "cell_type": "markdown",
   "metadata": {},
   "source": [
    "We can use Hypergraph features for various predictive tasks:"
   ]
  },
  {
   "cell_type": "code",
   "execution_count": 2,
   "metadata": {},
   "outputs": [],
   "source": [
    "import convokit\n",
    "import pickle\n",
    "import pandas as pd\n",
    "import warnings\n",
    "warnings.filterwarnings('ignore')"
   ]
  },
  {
   "cell_type": "code",
   "execution_count": null,
   "metadata": {},
   "outputs": [
    {
     "name": "stdout",
     "output_type": "stream",
     "text": [
      "Dataset already exists at /Users/calebchiam/.convokit/downloads/reddit-corpus\n"
     ]
    }
   ],
   "source": [
    "corpus = convokit.Corpus(filename=convokit.download(\"reddit-corpus\"))"
   ]
  },
  {
   "cell_type": "code",
   "execution_count": null,
   "metadata": {},
   "outputs": [],
   "source": [
    "hc = convokit.HyperConvo(prefix_len=10, min_thread_len=10, include_root=False)\n",
    "hc.fit_transform(corpus)"
   ]
  },
  {
   "cell_type": "code",
   "execution_count": null,
   "metadata": {},
   "outputs": [],
   "source": [
    "remake_cache = True\n",
    "if remake_cache:\n",
    "    with open(\"hyperconvo_feats.p\", \"wb\") as f:\n",
    "        hyperconvo_feats = {}\n",
    "        for convo in corpus.iter_conversations():\n",
    "            hyperconvo_feats.update(convo.meta[\"hyperconvo\"])\n",
    "        pickle.dump(hyperconvo_feats, f)\n",
    "else:\n",
    "    with open(\"hyperconvo_feats.p\", \"rb\") as f:\n",
    "        hyperconvo_feats = pickle.load(f)"
   ]
  },
  {
   "cell_type": "code",
   "execution_count": null,
   "metadata": {},
   "outputs": [],
   "source": [
    "threads = corpus.utterance_threads(include_root=False)"
   ]
  },
  {
   "cell_type": "code",
   "execution_count": null,
   "metadata": {},
   "outputs": [],
   "source": [
    "missing = 0\n",
    "present = 0\n",
    "for tlc_id, thread in threads.items():\n",
    "    if tlc_id not in thread:\n",
    "        missing += 1\n",
    "    else:\n",
    "        present += 1"
   ]
  },
  {
   "cell_type": "code",
   "execution_count": null,
   "metadata": {},
   "outputs": [],
   "source": [
    "# Use only the first 10 comments in each thread\n",
    "thread_pfxs = corpus.utterance_threads(prefix_len=10, include_root=False)"
   ]
  },
  {
   "cell_type": "code",
   "execution_count": null,
   "metadata": {},
   "outputs": [],
   "source": [
    "len(threads)"
   ]
  },
  {
   "cell_type": "code",
   "execution_count": null,
   "metadata": {},
   "outputs": [],
   "source": [
    "from collections import defaultdict\n",
    "thread_roots_by_self_post = defaultdict(list)\n",
    "for top_level_comment, thread in threads.items():\n",
    "    rt = thread[next(iter(thread))].root\n",
    "    thread_roots_by_self_post[rt].append(top_level_comment)"
   ]
  },
  {
   "cell_type": "code",
   "execution_count": null,
   "metadata": {},
   "outputs": [],
   "source": [
    "from sklearn.feature_extraction.text import CountVectorizer"
   ]
  },
  {
   "cell_type": "code",
   "execution_count": null,
   "metadata": {
    "scrolled": true
   },
   "outputs": [],
   "source": []
  },
  {
   "cell_type": "code",
   "execution_count": null,
   "metadata": {},
   "outputs": [],
   "source": [
    "path_stats = hc.retrieve_motif_pathway_stats(corpus)"
   ]
  },
  {
   "cell_type": "code",
   "execution_count": null,
   "metadata": {},
   "outputs": [],
   "source": [
    "motif_counts = hc.retrieve_motif_counts(corpus)"
   ]
  },
  {
   "cell_type": "code",
   "execution_count": null,
   "metadata": {},
   "outputs": [],
   "source": [
    "threads_motifs = hc.retrieve_motifs(corpus)"
   ]
  },
  {
   "cell_type": "code",
   "execution_count": null,
   "metadata": {},
   "outputs": [],
   "source": [
    "threads_motifs['dnppqdj']"
   ]
  },
  {
   "cell_type": "code",
   "execution_count": null,
   "metadata": {},
   "outputs": [],
   "source": [
    "latent_motif_count = {thread_id: hc._latent_motif_count(motif_dict, trans=False)[0] for thread_id, motif_dict in threads_motifs.items()}"
   ]
  },
  {
   "cell_type": "code",
   "execution_count": null,
   "metadata": {},
   "outputs": [],
   "source": [
    "from sklearn.pipeline import FeatureUnion, Pipeline\n",
    "from sklearn.preprocessing import normalize, StandardScaler, Normalizer\n",
    "from sklearn.linear_model import LogisticRegression"
   ]
  },
  {
   "cell_type": "code",
   "execution_count": null,
   "metadata": {},
   "outputs": [],
   "source": [
    "# first generate positive and negative examples based on task\n",
    "\n",
    "def generate_pos_neg(task: str, post_to_thread_obj, threads, thread_pfxs):\n",
    "    pos, neg = [], []\n",
    "    if task == \"comment-growth\":\n",
    "        for post_id, thread_roots in post_to_thread_obj.items():\n",
    "            has_pos = [root for root in thread_roots if len(threads[root]) >= 15]\n",
    "            has_neg = [root for root in thread_roots if len(threads[root]) == 10]\n",
    "            \n",
    "            if has_pos and has_neg:\n",
    "                pos.append(random.choice(has_pos))\n",
    "                neg.append(random.choice(has_neg))\n",
    "    elif task == \"commenter-growth\":\n",
    "        for post_id, thread_roots in post_to_thread_obj.items():\n",
    "            has_pos, has_neg = [], []\n",
    "            for root in thread_roots:\n",
    "                if len(threads[root]) >= 20:\n",
    "                    if len(set(c.user.name for c in threads[root].values())) >= \\\n",
    "                        len(set(c.user.name for c in thread_pfxs[root].values())) * 2:\n",
    "                            has_pos.append(root)\n",
    "                    else:\n",
    "                        has_neg.append(root)\n",
    "            if has_pos and has_neg:\n",
    "                pos.append(random.choice(has_pos))\n",
    "                neg.append(random.choice(has_neg))\n",
    "    print(\"- {} positive, {} negative pts for {} task\".format(len(pos), len(neg), task))\n",
    "    \n",
    "    return pos, neg\n"
   ]
  },
  {
   "cell_type": "code",
   "execution_count": null,
   "metadata": {},
   "outputs": [],
   "source": [
    "pos_comment_growth, neg_comment_growth = generate_pos_neg(\"comment-growth\", \n",
    "                                                          thread_roots_by_self_post,\n",
    "                                                          threads,\n",
    "                                                          thread_pfxs\n",
    "                                                         )"
   ]
  },
  {
   "cell_type": "code",
   "execution_count": null,
   "metadata": {},
   "outputs": [],
   "source": [
    "pos_commenter_growth, neg_commenter_growth = generate_pos_neg(\"commenter-growth\", \n",
    "                                                          thread_roots_by_self_post,\n",
    "                                                          threads,\n",
    "                                                          thread_pfxs\n",
    "                                                         )"
   ]
  },
  {
   "cell_type": "code",
   "execution_count": null,
   "metadata": {},
   "outputs": [],
   "source": [
    "\n",
    "# extract features for all these examples\n",
    "\n",
    "# construct the pair_df, flipping between positive and negative\n",
    "\n",
    "# StandardScaler + LogisticRegression to finish off\n"
   ]
  },
  {
   "cell_type": "code",
   "execution_count": null,
   "metadata": {},
   "outputs": [],
   "source": [
    "def generate_paired_features(feats, pos, neg):\n",
    "    X, y = [], []\n",
    "    flip = True\n",
    "    \n",
    "    for idx in range(len(pos)):\n",
    "        pos_feats = np.array(list(feats[pos[idx]].values()))\n",
    "        neg_feats = np.array(list(feats[neg[idx]].values()))\n",
    "        \n",
    "        if np.isnan(pos_feats).any() or np.isnan(neg_feats).any(): continue\n",
    "            \n",
    "        if flip:\n",
    "            y.append(1)\n",
    "            diff = pos_feats - neg_feats\n",
    "        else:\n",
    "            y.append(0)\n",
    "            diff = neg_feats - pos_feats\n",
    "        X.append(diff)\n",
    "        flip = not flip\n",
    "\n",
    "    return np.array(X), np.array(y)"
   ]
  },
  {
   "cell_type": "code",
   "execution_count": null,
   "metadata": {},
   "outputs": [],
   "source": [
    "from copy import deepcopy"
   ]
  },
  {
   "cell_type": "code",
   "execution_count": null,
   "metadata": {},
   "outputs": [],
   "source": [
    "hyperconv_motif = deepcopy(hyperconvo_feats)\n",
    "for thread_id, feats in hyperconv_motif.items():\n",
    "    feats.update(motif_counts[thread_id])"
   ]
  },
  {
   "cell_type": "code",
   "execution_count": null,
   "metadata": {},
   "outputs": [],
   "source": [
    "hyperconv_paths = deepcopy(hyperconvo_feats)\n",
    "for thread_id, feats in hyperconv_paths.items():\n",
    "    feats.update(path_stats[thread_id])"
   ]
  },
  {
   "cell_type": "code",
   "execution_count": null,
   "metadata": {},
   "outputs": [],
   "source": [
    "hyperconv_latent = deepcopy(hyperconvo_feats)\n",
    "for thread_id, feats in hyperconv_latent.items():\n",
    "    feats.update(latent_motif_count[thread_id])"
   ]
  },
  {
   "cell_type": "code",
   "execution_count": null,
   "metadata": {},
   "outputs": [],
   "source": [
    "hyperconv_motifall = deepcopy(hyperconvo_feats)\n",
    "for thread_id, feats in hyperconv_motifall.items():\n",
    "    feats.update(motif_counts[thread_id])\n",
    "    feats.update(path_stats[thread_id])\n",
    "    feats.update(latent_motif_count[thread_id])"
   ]
  },
  {
   "cell_type": "code",
   "execution_count": null,
   "metadata": {},
   "outputs": [],
   "source": [
    "def print_extreme_coefs(clf, feats):\n",
    "    feats_ordered = list(feats[next(iter(feats))])\n",
    "    coefs = clf.named_steps['logreg'].coef_[0].tolist()\n",
    "    \n",
    "    assert len(feats_ordered) == len(coefs)\n",
    "    feats_coefs = sorted(list(zip(feats_ordered, coefs)), key=lambda x: x[1], reverse=True)\n",
    "    \n",
    "    print(\"TOP 5 FEATURES\")\n",
    "    for ft, coef in feats_coefs[:5]:\n",
    "        print(\"{}: {:.3f}\".format(ft, coef))\n",
    "    print()\n",
    "    print(\"BOTTOM 5 FEATURES\")\n",
    "    for ft, coef in feats_coefs[-5:]:\n",
    "        print(\"{}: {:.3f}\".format(ft, coef))\n",
    "    print()"
   ]
  },
  {
   "cell_type": "code",
   "execution_count": null,
   "metadata": {},
   "outputs": [],
   "source": [
    "import random\n",
    "from sklearn.linear_model import LogisticRegression\n",
    "import numpy as np\n",
    "from sklearn.model_selection import train_test_split\n",
    "\n",
    "random.seed(2019)\n",
    "\n",
    "for task in [\"comment-growth\", \"commenter-growth\"]: #, \"post-deleted\", \"user-deleted\"\n",
    "    print(\"TASK: {}\\n\".format(task))\n",
    "    \n",
    "    pos, neg = generate_pos_neg(task, thread_roots_by_self_post, threads, thread_pfxs)\n",
    "\n",
    "    X, y = generate_paired_features(hyperconvo_feats, pos, neg)\n",
    "    X_motifcnt, y_motifcnt = generate_paired_features(motif_counts, pos, neg)\n",
    "    X_latent, y_latent = generate_paired_features(latent_motif_count, pos, neg)\n",
    "    X_path, y_path = generate_paired_features(path_stats, pos, neg)\n",
    "    X_hcmotif, y_hcmotif = generate_paired_features(hyperconv_motif, pos, neg)\n",
    "    X_hcpath, y_hcpath = generate_paired_features(hyperconv_paths, pos, neg)\n",
    "    X_hclatent, y_hclatent = generate_paired_features(hyperconv_latent, pos, neg)\n",
    "    X_all, y_all = generate_paired_features(hyperconv_motifall, pos, neg)\n",
    "    for X, y, feats, name in [(X, y, hyperconvo_feats, \"hyperconv\"),\n",
    "                       (X_motifcnt, y_motifcnt, motif_counts, \"motifcount\"),\n",
    "                       (X_latent, y_latent, latent_motif_count, \"latentmotif\"),\n",
    "                       (X_path, y_path, path_stats, \"motifpaths\"),\n",
    "                       (X_hcmotif, y_hcmotif, hyperconv_motif, \"hyperconv-motif\"),\n",
    "                       (X_hcpath, y_hcpath, hyperconv_paths, \"hyperconv-paths\"),\n",
    "                       (X_hclatent, y_hclatent, hyperconv_latent, \"hyperconv-latent\"),\n",
    "                       (X_all, y_all, hyperconv_motifall, \"hyperconvo-motifall\")\n",
    "                      ]:\n",
    "        X_train, X_test, y_train, y_test = train_test_split(X, y, test_size=0.2, random_state=42)\n",
    "\n",
    "        clf = Pipeline([(\"standardScaler\", StandardScaler()), (\"logreg\", LogisticRegression(solver='liblinear'))])\n",
    "        clf.fit(X_train, y_train)\n",
    "\n",
    "        train_acc = clf.score(X_train, y_train)\n",
    "        test_acc = clf.score(X_test, y_test)\n",
    "        print(\"- {}: {:.4f} train, {:.4f} test\".format(name, train_acc, test_acc))\n",
    "        print_extreme_coefs(clf, feats)"
   ]
  },
  {
   "cell_type": "code",
   "execution_count": null,
   "metadata": {},
   "outputs": [],
   "source": []
  }
 ],
 "metadata": {
  "kernelspec": {
   "display_name": "Python 3",
   "language": "python",
   "name": "python3"
  },
  "language_info": {
   "codemirror_mode": {
    "name": "ipython",
    "version": 3
   },
   "file_extension": ".py",
   "mimetype": "text/x-python",
   "name": "python",
   "nbconvert_exporter": "python",
   "pygments_lexer": "ipython3",
   "version": "3.7.3"
  },
  "pycharm": {
   "stem_cell": {
    "cell_type": "raw",
    "metadata": {
     "collapsed": false
    },
    "source": []
   }
  }
 },
 "nbformat": 4,
 "nbformat_minor": 2
}
