{
 "cells": [
  {
   "cell_type": "code",
   "execution_count": null,
   "metadata": {},
   "outputs": [],
   "source": []
  },
  {
   "cell_type": "code",
   "execution_count": 1,
   "metadata": {},
   "outputs": [
    {
     "data": {
      "text/plain": [
       "'/home/caleb/Cornell-Conversational-Analysis-Toolkit'"
      ]
     },
     "execution_count": 1,
     "metadata": {},
     "output_type": "execute_result"
    }
   ],
   "source": [
    "import os\n",
    "os.getcwd()\n",
    "os.chdir(\"../..\")\n",
    "os.getcwd()"
   ]
  },
  {
   "cell_type": "markdown",
   "metadata": {},
   "source": [
    "We can use Hypergraph features for various predictive tasks:"
   ]
  },
  {
   "cell_type": "code",
   "execution_count": 2,
   "metadata": {},
   "outputs": [],
   "source": [
    "import convokit\n",
    "import pickle\n",
    "import pandas as pd\n",
    "import warnings\n",
    "warnings.filterwarnings('ignore')"
   ]
  },
  {
   "cell_type": "code",
   "execution_count": 18,
   "metadata": {},
   "outputs": [],
   "source": [
    "os.chdir('..')"
   ]
  },
  {
   "cell_type": "code",
   "execution_count": 16,
   "metadata": {},
   "outputs": [],
   "source": [
    "os.chdir('reddit-corpus')"
   ]
  },
  {
   "cell_type": "code",
   "execution_count": 19,
   "metadata": {},
   "outputs": [
    {
     "data": {
      "text/plain": [
       "['reddit-corpus']"
      ]
     },
     "execution_count": 19,
     "metadata": {},
     "output_type": "execute_result"
    }
   ],
   "source": [
    "os.listdir()"
   ]
  },
  {
   "cell_type": "code",
   "execution_count": 20,
   "metadata": {},
   "outputs": [],
   "source": [
    "corpus = convokit.Corpus(filename='reddit-corpus')"
   ]
  },
  {
   "cell_type": "code",
   "execution_count": 21,
   "metadata": {},
   "outputs": [
    {
     "data": {
      "text/plain": [
       "<convokit.model.corpus.Corpus at 0x7f6116d69f10>"
      ]
     },
     "execution_count": 21,
     "metadata": {},
     "output_type": "execute_result"
    }
   ],
   "source": [
    "hc = convokit.HyperConvo(prefix_len=10, min_thread_len=10, include_root=False)\n",
    "hc.fit_transform(corpus)"
   ]
  },
  {
   "cell_type": "code",
   "execution_count": 22,
   "metadata": {},
   "outputs": [],
   "source": [
    "remake_cache = True\n",
    "if remake_cache:\n",
    "    with open(\"hyperconvo_feats.p\", \"wb\") as f:\n",
    "        hyperconvo_feats = {}\n",
    "        for convo in corpus.iter_conversations():\n",
    "            hyperconvo_feats.update(convo.meta[\"hyperconvo\"])\n",
    "        pickle.dump(hyperconvo_feats, f)\n",
    "else:\n",
    "    with open(\"hyperconvo_feats.p\", \"rb\") as f:\n",
    "        hyperconvo_feats = pickle.load(f)"
   ]
  },
  {
   "cell_type": "code",
   "execution_count": 23,
   "metadata": {},
   "outputs": [],
   "source": [
    "threads = corpus.utterance_threads(include_root=False)"
   ]
  },
  {
   "cell_type": "code",
   "execution_count": 24,
   "metadata": {},
   "outputs": [],
   "source": [
    "missing = 0\n",
    "present = 0\n",
    "for tlc_id, thread in threads.items():\n",
    "    if tlc_id not in thread:\n",
    "        missing += 1\n",
    "    else:\n",
    "        present += 1"
   ]
  },
  {
   "cell_type": "code",
   "execution_count": 25,
   "metadata": {},
   "outputs": [],
   "source": [
    "# Use only the first 10 comments in each thread\n",
    "thread_pfxs = corpus.utterance_threads(prefix_len=10, include_root=False)"
   ]
  },
  {
   "cell_type": "code",
   "execution_count": 26,
   "metadata": {},
   "outputs": [
    {
     "data": {
      "text/plain": [
       "100000"
      ]
     },
     "execution_count": 26,
     "metadata": {},
     "output_type": "execute_result"
    }
   ],
   "source": [
    "len(threads)"
   ]
  },
  {
   "cell_type": "code",
   "execution_count": 50,
   "metadata": {},
   "outputs": [
    {
     "name": "stdout",
     "output_type": "stream",
     "text": [
      "Number of Users: 521777\n",
      "Number of Utterances: 2004262\n",
      "Number of Conversations: 84979\n"
     ]
    }
   ],
   "source": [
    "corpus.print_summary_stats()"
   ]
  },
  {
   "cell_type": "code",
   "execution_count": 27,
   "metadata": {},
   "outputs": [],
   "source": [
    "from collections import defaultdict\n",
    "thread_roots_by_self_post = defaultdict(list)\n",
    "for top_level_comment, thread in threads.items():\n",
    "    rt = thread[next(iter(thread))].root\n",
    "    thread_roots_by_self_post[rt].append(top_level_comment)"
   ]
  },
  {
   "cell_type": "code",
   "execution_count": 28,
   "metadata": {},
   "outputs": [],
   "source": [
    "from sklearn.feature_extraction.text import CountVectorizer"
   ]
  },
  {
   "cell_type": "code",
   "execution_count": null,
   "metadata": {
    "scrolled": true
   },
   "outputs": [],
   "source": []
  },
  {
   "cell_type": "code",
   "execution_count": 29,
   "metadata": {},
   "outputs": [],
   "source": [
    "path_stats = hc.retrieve_motif_pathway_stats(corpus)"
   ]
  },
  {
   "cell_type": "code",
   "execution_count": 30,
   "metadata": {},
   "outputs": [],
   "source": [
    "motif_counts = hc.retrieve_motif_counts(corpus)"
   ]
  },
  {
   "cell_type": "code",
   "execution_count": 31,
   "metadata": {},
   "outputs": [],
   "source": [
    "threads_motifs = hc.retrieve_motifs(corpus)"
   ]
  },
  {
   "cell_type": "code",
   "execution_count": 33,
   "metadata": {},
   "outputs": [],
   "source": [
    "latent_motif_count = {thread_id: hc._latent_motif_count(motif_dict, trans=False)[0] for thread_id, motif_dict in threads_motifs.items()}"
   ]
  },
  {
   "cell_type": "code",
   "execution_count": 34,
   "metadata": {},
   "outputs": [],
   "source": [
    "from sklearn.pipeline import FeatureUnion, Pipeline\n",
    "from sklearn.preprocessing import normalize, StandardScaler, Normalizer\n",
    "from sklearn.linear_model import LogisticRegression"
   ]
  },
  {
   "cell_type": "code",
   "execution_count": 37,
   "metadata": {},
   "outputs": [],
   "source": [
    "import random"
   ]
  },
  {
   "cell_type": "code",
   "execution_count": 38,
   "metadata": {},
   "outputs": [],
   "source": [
    "# first generate positive and negative examples based on task\n",
    "\n",
    "def generate_pos_neg(task: str, post_to_thread_obj, threads, thread_pfxs):\n",
    "    pos, neg = [], []\n",
    "    if task == \"comment-growth\":\n",
    "        for post_id, thread_roots in post_to_thread_obj.items():\n",
    "            has_pos = [root for root in thread_roots if len(threads[root]) >= 15]\n",
    "            has_neg = [root for root in thread_roots if len(threads[root]) == 10]\n",
    "            \n",
    "            if has_pos and has_neg:\n",
    "                pos.append(random.choice(has_pos))\n",
    "                neg.append(random.choice(has_neg))\n",
    "    elif task == \"commenter-growth\":\n",
    "        for post_id, thread_roots in post_to_thread_obj.items():\n",
    "            has_pos, has_neg = [], []\n",
    "            for root in thread_roots:\n",
    "                if len(threads[root]) >= 20:\n",
    "                    if len(set(c.user.name for c in threads[root].values())) >= \\\n",
    "                        len(set(c.user.name for c in thread_pfxs[root].values())) * 2:\n",
    "                            has_pos.append(root)\n",
    "                    else:\n",
    "                        has_neg.append(root)\n",
    "            if has_pos and has_neg:\n",
    "                pos.append(random.choice(has_pos))\n",
    "                neg.append(random.choice(has_neg))\n",
    "    print(\"- {} positive, {} negative pts for {} task\".format(len(pos), len(neg), task))\n",
    "    \n",
    "    return pos, neg\n"
   ]
  },
  {
   "cell_type": "code",
   "execution_count": 39,
   "metadata": {},
   "outputs": [
    {
     "name": "stdout",
     "output_type": "stream",
     "text": [
      "- 1827 positive, 1827 negative pts for comment-growth task\n"
     ]
    }
   ],
   "source": [
    "pos_comment_growth, neg_comment_growth = generate_pos_neg(\"comment-growth\", \n",
    "                                                          thread_roots_by_self_post,\n",
    "                                                          threads,\n",
    "                                                          thread_pfxs\n",
    "                                                         )"
   ]
  },
  {
   "cell_type": "code",
   "execution_count": 40,
   "metadata": {},
   "outputs": [
    {
     "name": "stdout",
     "output_type": "stream",
     "text": [
      "- 849 positive, 849 negative pts for commenter-growth task\n"
     ]
    }
   ],
   "source": [
    "pos_commenter_growth, neg_commenter_growth = generate_pos_neg(\"commenter-growth\", \n",
    "                                                          thread_roots_by_self_post,\n",
    "                                                          threads,\n",
    "                                                          thread_pfxs\n",
    "                                                         )"
   ]
  },
  {
   "cell_type": "code",
   "execution_count": 41,
   "metadata": {},
   "outputs": [],
   "source": [
    "\n",
    "# extract features for all these examples\n",
    "\n",
    "# construct the pair_df, flipping between positive and negative\n",
    "\n",
    "# StandardScaler + LogisticRegression to finish off\n"
   ]
  },
  {
   "cell_type": "code",
   "execution_count": 42,
   "metadata": {},
   "outputs": [],
   "source": [
    "def generate_paired_features(feats, pos, neg):\n",
    "    X, y = [], []\n",
    "    flip = True\n",
    "    \n",
    "    for idx in range(len(pos)):\n",
    "        pos_feats = np.array(list(feats[pos[idx]].values()))\n",
    "        neg_feats = np.array(list(feats[neg[idx]].values()))\n",
    "        \n",
    "        if np.isnan(pos_feats).any() or np.isnan(neg_feats).any(): continue\n",
    "            \n",
    "        if flip:\n",
    "            y.append(1)\n",
    "            diff = pos_feats - neg_feats\n",
    "        else:\n",
    "            y.append(0)\n",
    "            diff = neg_feats - pos_feats\n",
    "        X.append(diff)\n",
    "        flip = not flip\n",
    "\n",
    "    return np.array(X), np.array(y)"
   ]
  },
  {
   "cell_type": "code",
   "execution_count": 43,
   "metadata": {},
   "outputs": [],
   "source": [
    "from copy import deepcopy"
   ]
  },
  {
   "cell_type": "code",
   "execution_count": 44,
   "metadata": {},
   "outputs": [],
   "source": [
    "hyperconv_motif = deepcopy(hyperconvo_feats)\n",
    "for thread_id, feats in hyperconv_motif.items():\n",
    "    feats.update(motif_counts[thread_id])"
   ]
  },
  {
   "cell_type": "code",
   "execution_count": 45,
   "metadata": {},
   "outputs": [],
   "source": [
    "hyperconv_paths = deepcopy(hyperconvo_feats)\n",
    "for thread_id, feats in hyperconv_paths.items():\n",
    "    feats.update(path_stats[thread_id])"
   ]
  },
  {
   "cell_type": "code",
   "execution_count": 46,
   "metadata": {},
   "outputs": [],
   "source": [
    "hyperconv_latent = deepcopy(hyperconvo_feats)\n",
    "for thread_id, feats in hyperconv_latent.items():\n",
    "    feats.update(latent_motif_count[thread_id])"
   ]
  },
  {
   "cell_type": "code",
   "execution_count": 47,
   "metadata": {},
   "outputs": [],
   "source": [
    "hyperconv_motifall = deepcopy(hyperconvo_feats)\n",
    "for thread_id, feats in hyperconv_motifall.items():\n",
    "    feats.update(motif_counts[thread_id])\n",
    "    feats.update(path_stats[thread_id])\n",
    "    feats.update(latent_motif_count[thread_id])"
   ]
  },
  {
   "cell_type": "code",
   "execution_count": 48,
   "metadata": {},
   "outputs": [],
   "source": [
    "def print_extreme_coefs(clf, feats):\n",
    "    feats_ordered = list(feats[next(iter(feats))])\n",
    "    coefs = clf.named_steps['logreg'].coef_[0].tolist()\n",
    "    \n",
    "    assert len(feats_ordered) == len(coefs)\n",
    "    feats_coefs = sorted(list(zip(feats_ordered, coefs)), key=lambda x: x[1], reverse=True)\n",
    "    \n",
    "    print(\"TOP 5 FEATURES\")\n",
    "    for ft, coef in feats_coefs[:5]:\n",
    "        print(\"{}: {:.3f}\".format(ft, coef))\n",
    "    print()\n",
    "    print(\"BOTTOM 5 FEATURES\")\n",
    "    for ft, coef in feats_coefs[-5:]:\n",
    "        print(\"{}: {:.3f}\".format(ft, coef))\n",
    "    print()"
   ]
  },
  {
   "cell_type": "code",
   "execution_count": 52,
   "metadata": {
    "scrolled": false
   },
   "outputs": [
    {
     "name": "stdout",
     "output_type": "stream",
     "text": [
      "TASK: comment-growth\n",
      "\n",
      "- 1827 positive, 1827 negative pts for comment-growth task\n",
      "- hyperconv: 0.6456 train, 0.5506 test\n",
      "TOP 5 FEATURES\n",
      "prop-nonzero[indegree over C->C mid-thread responses]: 1.245\n",
      "mean[outdegree over C->c responses]: 0.351\n",
      "mean[outdegree over C->C responses]: 0.351\n",
      "mean[indegree over C->C responses]: 0.351\n",
      "norm.max[outdegree over C->c mid-thread responses]: 0.335\n",
      "\n",
      "BOTTOM 5 FEATURES\n",
      "max[indegree over C->C responses]: -0.375\n",
      "entropy[indegree over C->C mid-thread responses]: -0.376\n",
      "entropy[indegree over C->C responses]: -0.404\n",
      "mean-nonzero[indegree over C->C responses]: -0.520\n",
      "prop-nonzero[indegree over C->C responses]: -1.022\n",
      "\n",
      "- motifcount: 0.6037 train, 0.6311 test\n",
      "TOP 5 FEATURES\n",
      "NO_EDGE_TRIADS: 0.562\n",
      "DIRECIPROCAL_TRIADS: 0.214\n",
      "OUTGOING_TRIADS: 0.187\n",
      "SINGLE_EDGE_TRIADS: 0.174\n",
      "DIRECIPROCAL_2TO3_TRIADS: 0.074\n",
      "\n",
      "BOTTOM 5 FEATURES\n",
      "UNIDIRECTIONAL_TRIADS: -0.025\n",
      "OUTGOING_RECIPROCAL_TRIADS: -0.028\n",
      "INCOMING_2TO3_TRIADS: -0.032\n",
      "DYADIC_TRIADS: -0.081\n",
      "INCOMING_TRIADS: -0.172\n",
      "\n",
      "- latentmotif: 0.6167 train, 0.6284 test\n",
      "TOP 5 FEATURES\n",
      "NO_EDGE_TRIADS: 0.917\n",
      "OUTGOING_TRIADS: 0.217\n",
      "DIRECIPROCAL_TRIADS: 0.188\n",
      "INCOMING_RECIPROCAL_TRIADS: 0.087\n",
      "DIRECIPROCAL_2TO3_TRIADS: 0.087\n",
      "\n",
      "BOTTOM 5 FEATURES\n",
      "OUTGOING_RECIPROCAL_TRIADS: -0.052\n",
      "UNIDIRECTIONAL_TRIADS: -0.108\n",
      "SINGLE_EDGE_TRIADS: -0.117\n",
      "DYADIC_TRIADS: -0.147\n",
      "INCOMING_TRIADS: -0.256\n",
      "\n",
      "- motifpaths: 0.6304 train, 0.6175 test\n",
      "TOP 5 FEATURES\n",
      "('NO_EDGE_TRIADS',): 0.759\n",
      "('NO_EDGE_TRIADS', 'SINGLE_EDGE_TRIADS', 'UNIDIRECTIONAL_TRIADS', 'DIRECTED_CYCLE_TRIADS', 'DIRECTED_CYCLE_1TO3_TRIADS', 'DIRECIPROCAL_2TO3_TRIADS'): 0.261\n",
      "('NO_EDGE_TRIADS', 'SINGLE_EDGE_TRIADS', 'UNIDIRECTIONAL_TRIADS', 'INCOMING_1TO3_TRIADS', 'DIRECIPROCAL_TRIADS', 'DIRECIPROCAL_2TO3_TRIADS', 'TRIRECIPROCAL_TRIADS'): 0.233\n",
      "('NO_EDGE_TRIADS', 'SINGLE_EDGE_TRIADS', 'OUTGOING_TRIADS', 'INCOMING_2TO3_TRIADS'): 0.211\n",
      "('NO_EDGE_TRIADS', 'SINGLE_EDGE_TRIADS', 'OUTGOING_TRIADS', 'OUTGOING_3TO1_TRIADS'): 0.208\n",
      "\n",
      "BOTTOM 5 FEATURES\n",
      "('NO_EDGE_TRIADS', 'SINGLE_EDGE_TRIADS', 'UNIDIRECTIONAL_TRIADS', 'INCOMING_2TO3_TRIADS', 'OUTGOING_RECIPROCAL_TRIADS'): -0.137\n",
      "('NO_EDGE_TRIADS', 'SINGLE_EDGE_TRIADS', 'INCOMING_TRIADS', 'INCOMING_2TO3_TRIADS', 'DIRECTED_CYCLE_1TO3_TRIADS', 'DIRECIPROCAL_2TO3_TRIADS', 'TRIRECIPROCAL_TRIADS'): -0.145\n",
      "('NO_EDGE_TRIADS', 'SINGLE_EDGE_TRIADS', 'INCOMING_TRIADS', 'INCOMING_1TO3_TRIADS', 'DIRECIPROCAL_TRIADS', 'DIRECIPROCAL_2TO3_TRIADS', 'TRIRECIPROCAL_TRIADS'): -0.155\n",
      "('NO_EDGE_TRIADS', 'SINGLE_EDGE_TRIADS', 'UNIDIRECTIONAL_TRIADS', 'INCOMING_1TO3_TRIADS', 'OUTGOING_RECIPROCAL_TRIADS'): -0.160\n",
      "('NO_EDGE_TRIADS', 'SINGLE_EDGE_TRIADS', 'INCOMING_TRIADS'): -0.305\n",
      "\n",
      "- hyperconv-motif: 0.6498 train, 0.5674 test\n",
      "TOP 5 FEATURES\n",
      "prop-nonzero[indegree over C->C mid-thread responses]: 1.272\n",
      "mean[outdegree over C->c responses]: 0.518\n",
      "mean[outdegree over C->C responses]: 0.518\n",
      "mean[indegree over C->C responses]: 0.518\n",
      "norm.max[outdegree over C->c mid-thread responses]: 0.326\n",
      "\n",
      "BOTTOM 5 FEATURES\n",
      "max[indegree over C->C responses]: -0.378\n",
      "entropy[indegree over C->C mid-thread responses]: -0.426\n",
      "entropy[indegree over C->C responses]: -0.462\n",
      "mean-nonzero[indegree over C->C responses]: -0.504\n",
      "prop-nonzero[indegree over C->C responses]: -0.798\n",
      "\n",
      "- hyperconv-paths: 0.6582 train, 0.5927 test\n",
      "TOP 5 FEATURES\n",
      "prop-nonzero[indegree over C->C mid-thread responses]: 1.278\n",
      "mean[outdegree over C->c responses]: 0.474\n",
      "mean[outdegree over C->C responses]: 0.474\n",
      "mean[indegree over C->C responses]: 0.474\n",
      "norm.max[outdegree over C->c mid-thread responses]: 0.309\n",
      "\n",
      "BOTTOM 5 FEATURES\n",
      "entropy[indegree over C->C mid-thread responses]: -0.399\n",
      "('NO_EDGE_TRIADS', 'SINGLE_EDGE_TRIADS', 'INCOMING_TRIADS'): -0.438\n",
      "mean-nonzero[indegree over C->C responses]: -0.529\n",
      "entropy[indegree over C->C responses]: -0.603\n",
      "prop-nonzero[indegree over C->C responses]: -0.708\n",
      "\n",
      "- hyperconv-latent: 0.6505 train, 0.5787 test\n",
      "TOP 5 FEATURES\n",
      "prop-nonzero[indegree over C->C mid-thread responses]: 1.253\n",
      "mean[outdegree over C->c responses]: 0.534\n",
      "mean[outdegree over C->C responses]: 0.534\n",
      "mean[indegree over C->C responses]: 0.534\n",
      "norm.max[outdegree over C->c mid-thread responses]: 0.317\n",
      "\n",
      "BOTTOM 5 FEATURES\n",
      "norm.max[indegree over C->C responses]: -0.390\n",
      "max[indegree over C->C responses]: -0.390\n",
      "entropy[indegree over C->C mid-thread responses]: -0.408\n",
      "mean-nonzero[indegree over C->C responses]: -0.508\n",
      "prop-nonzero[indegree over C->C responses]: -0.881\n",
      "\n",
      "- hyperconvo-motifall: 0.6589 train, 0.5955 test\n",
      "TOP 5 FEATURES\n",
      "prop-nonzero[indegree over C->C mid-thread responses]: 1.277\n",
      "mean[outdegree over C->c responses]: 0.475\n",
      "mean[outdegree over C->C responses]: 0.475\n",
      "mean[indegree over C->C responses]: 0.475\n",
      "norm.max[outdegree over C->c mid-thread responses]: 0.307\n",
      "\n",
      "BOTTOM 5 FEATURES\n",
      "prop-multiple[outdegree over C->C responses]: -0.307\n",
      "entropy[indegree over C->C mid-thread responses]: -0.399\n",
      "mean-nonzero[indegree over C->C responses]: -0.527\n",
      "entropy[indegree over C->C responses]: -0.611\n",
      "prop-nonzero[indegree over C->C responses]: -0.698\n",
      "\n",
      "TASK: commenter-growth\n",
      "\n",
      "- 849 positive, 849 negative pts for commenter-growth task\n",
      "- hyperconv: 0.6365 train, 0.4940 test\n",
      "TOP 5 FEATURES\n",
      "entropy[outdegree over C->c mid-thread responses]: 0.586\n",
      "entropy[outdegree over C->C mid-thread responses]: 0.586\n",
      "norm.max[outdegree over c->c mid-thread responses]: 0.544\n",
      "norm.2nd-largest[outdegree over c->c mid-thread responses]: 0.537\n",
      "entropy[indegree over C->C mid-thread responses]: 0.440\n",
      "\n",
      "BOTTOM 5 FEATURES\n",
      "2nd-largest / max[indegree over C->c responses]: -0.456\n",
      "max[indegree over C->C mid-thread responses]: -0.517\n",
      "2nd-largest / max[indegree over C->C mid-thread responses]: -0.543\n",
      "prop-multiple[indegree over c->c mid-thread responses]: -0.621\n",
      "prop-multiple[indegree over C->c mid-thread responses]: -0.621\n",
      "\n",
      "- motifcount: 0.5376 train, 0.5118 test\n",
      "TOP 5 FEATURES\n",
      "SINGLE_EDGE_TRIADS: 0.160\n",
      "INCOMING_2TO3_TRIADS: 0.095\n",
      "OUTGOING_RECIPROCAL_TRIADS: 0.071\n",
      "INCOMING_TRIADS: 0.064\n",
      "DIRECTED_CYCLE_1TO3_TRIADS: 0.051\n",
      "\n",
      "BOTTOM 5 FEATURES\n",
      "DIRECIPROCAL_TRIADS: -0.072\n",
      "OUTGOING_3TO1_TRIADS: -0.087\n",
      "NO_EDGE_TRIADS: -0.088\n",
      "TRIRECIPROCAL_TRIADS: -0.130\n",
      "OUTGOING_TRIADS: -0.159\n",
      "\n",
      "- latentmotif: 0.5405 train, 0.4882 test\n",
      "TOP 5 FEATURES\n",
      "INCOMING_1TO3_TRIADS: 0.451\n",
      "SINGLE_EDGE_TRIADS: 0.298\n",
      "DIRECTED_CYCLE_TRIADS: 0.117\n",
      "INCOMING_2TO3_TRIADS: 0.071\n",
      "INCOMING_TRIADS: 0.017\n",
      "\n",
      "BOTTOM 5 FEATURES\n",
      "OUTGOING_3TO1_TRIADS: -0.080\n",
      "TRIRECIPROCAL_TRIADS: -0.099\n",
      "OUTGOING_TRIADS: -0.141\n",
      "NO_EDGE_TRIADS: -0.206\n",
      "DIRECIPROCAL_TRIADS: -0.508\n",
      "\n",
      "- motifpaths: 0.5479 train, 0.4824 test\n",
      "TOP 5 FEATURES\n",
      "('NO_EDGE_TRIADS', 'SINGLE_EDGE_TRIADS', 'UNIDIRECTIONAL_TRIADS', 'INCOMING_2TO3_TRIADS', 'OUTGOING_RECIPROCAL_TRIADS'): 0.286\n",
      "('NO_EDGE_TRIADS', 'SINGLE_EDGE_TRIADS', 'INCOMING_TRIADS', 'INCOMING_1TO3_TRIADS', 'OUTGOING_RECIPROCAL_TRIADS', 'DIRECIPROCAL_2TO3_TRIADS'): 0.256\n",
      "('NO_EDGE_TRIADS', 'SINGLE_EDGE_TRIADS', 'INCOMING_TRIADS'): 0.216\n",
      "('NO_EDGE_TRIADS', 'SINGLE_EDGE_TRIADS', 'UNIDIRECTIONAL_TRIADS', 'INCOMING_1TO3_TRIADS', 'OUTGOING_RECIPROCAL_TRIADS'): 0.207\n",
      "('NO_EDGE_TRIADS', 'SINGLE_EDGE_TRIADS'): 0.207\n",
      "\n",
      "BOTTOM 5 FEATURES\n",
      "('NO_EDGE_TRIADS', 'SINGLE_EDGE_TRIADS', 'OUTGOING_TRIADS', 'INCOMING_2TO3_TRIADS', 'INCOMING_RECIPROCAL_TRIADS'): -0.193\n",
      "('NO_EDGE_TRIADS', 'SINGLE_EDGE_TRIADS', 'INCOMING_TRIADS', 'INCOMING_2TO3_TRIADS', 'OUTGOING_RECIPROCAL_TRIADS', 'DIRECIPROCAL_2TO3_TRIADS', 'TRIRECIPROCAL_TRIADS'): -0.195\n",
      "('NO_EDGE_TRIADS', 'SINGLE_EDGE_TRIADS', 'INCOMING_TRIADS', 'INCOMING_2TO3_TRIADS', 'DIRECTED_CYCLE_1TO3_TRIADS'): -0.246\n",
      "('NO_EDGE_TRIADS', 'SINGLE_EDGE_TRIADS', 'UNIDIRECTIONAL_TRIADS', 'INCOMING_2TO3_TRIADS', 'INCOMING_RECIPROCAL_TRIADS'): -0.260\n",
      "('NO_EDGE_TRIADS',): -0.285\n",
      "\n",
      "- hyperconv-motif: 0.6471 train, 0.5120 test\n",
      "TOP 5 FEATURES\n",
      "entropy[outdegree over C->c mid-thread responses]: 0.537\n",
      "entropy[outdegree over C->C mid-thread responses]: 0.537\n",
      "norm.2nd-largest[outdegree over c->c mid-thread responses]: 0.510\n",
      "norm.max[outdegree over c->c mid-thread responses]: 0.492\n",
      "entropy[indegree over C->C mid-thread responses]: 0.454\n",
      "\n",
      "BOTTOM 5 FEATURES\n",
      "2nd-largest / max[indegree over C->c responses]: -0.492\n",
      "2nd-largest / max[indegree over C->C mid-thread responses]: -0.571\n",
      "prop-multiple[indegree over c->c mid-thread responses]: -0.600\n",
      "prop-multiple[indegree over C->c mid-thread responses]: -0.600\n",
      "max[indegree over C->C mid-thread responses]: -0.645\n",
      "\n",
      "- hyperconv-paths: 0.6742 train, 0.5181 test\n",
      "TOP 5 FEATURES\n",
      "entropy[outdegree over C->c mid-thread responses]: 0.580\n",
      "entropy[outdegree over C->C mid-thread responses]: 0.580\n",
      "entropy[indegree over C->C mid-thread responses]: 0.534\n",
      "norm.2nd-largest[outdegree over c->c mid-thread responses]: 0.447\n",
      "norm.max[outdegree over c->c mid-thread responses]: 0.430\n",
      "\n",
      "BOTTOM 5 FEATURES\n",
      "2nd-largest / max[indegree over C->c responses]: -0.465\n",
      "prop-multiple[indegree over c->c mid-thread responses]: -0.584\n",
      "prop-multiple[indegree over C->c mid-thread responses]: -0.584\n",
      "max[indegree over C->C mid-thread responses]: -0.686\n",
      "2nd-largest / max[indegree over C->C mid-thread responses]: -0.710\n",
      "\n",
      "- hyperconv-latent: 0.6471 train, 0.5000 test\n",
      "TOP 5 FEATURES\n",
      "entropy[outdegree over C->c mid-thread responses]: 0.525\n",
      "entropy[outdegree over C->C mid-thread responses]: 0.525\n",
      "norm.2nd-largest[outdegree over c->c mid-thread responses]: 0.498\n",
      "norm.max[outdegree over c->c mid-thread responses]: 0.489\n",
      "entropy[indegree over C->C mid-thread responses]: 0.447\n",
      "\n",
      "BOTTOM 5 FEATURES\n",
      "2nd-largest / max[indegree over C->c responses]: -0.456\n",
      "2nd-largest / max[indegree over C->C mid-thread responses]: -0.578\n",
      "prop-multiple[indegree over c->c mid-thread responses]: -0.586\n",
      "prop-multiple[indegree over C->c mid-thread responses]: -0.586\n",
      "max[indegree over C->C mid-thread responses]: -0.655\n",
      "\n"
     ]
    },
    {
     "name": "stdout",
     "output_type": "stream",
     "text": [
      "- hyperconvo-motifall: 0.6757 train, 0.5181 test\n",
      "TOP 5 FEATURES\n",
      "entropy[outdegree over C->c mid-thread responses]: 0.577\n",
      "entropy[outdegree over C->C mid-thread responses]: 0.577\n",
      "entropy[indegree over C->C mid-thread responses]: 0.535\n",
      "norm.2nd-largest[outdegree over c->c mid-thread responses]: 0.444\n",
      "norm.max[outdegree over c->c mid-thread responses]: 0.425\n",
      "\n",
      "BOTTOM 5 FEATURES\n",
      "2nd-largest / max[indegree over C->c responses]: -0.467\n",
      "prop-multiple[indegree over c->c mid-thread responses]: -0.583\n",
      "prop-multiple[indegree over C->c mid-thread responses]: -0.583\n",
      "max[indegree over C->C mid-thread responses]: -0.690\n",
      "2nd-largest / max[indegree over C->C mid-thread responses]: -0.711\n",
      "\n"
     ]
    }
   ],
   "source": [
    "import random\n",
    "from sklearn.linear_model import LogisticRegression\n",
    "import numpy as np\n",
    "from sklearn.model_selection import train_test_split\n",
    "\n",
    "random.seed(2019)\n",
    "\n",
    "for task in [\"comment-growth\", \"commenter-growth\"]: #, \"post-deleted\", \"user-deleted\"\n",
    "    print(\"TASK: {}\\n\".format(task))\n",
    "    \n",
    "    pos, neg = generate_pos_neg(task, thread_roots_by_self_post, threads, thread_pfxs)\n",
    "\n",
    "    X, y = generate_paired_features(hyperconvo_feats, pos, neg)\n",
    "    X_motifcnt, y_motifcnt = generate_paired_features(motif_counts, pos, neg)\n",
    "    X_latent, y_latent = generate_paired_features(latent_motif_count, pos, neg)\n",
    "    X_path, y_path = generate_paired_features(path_stats, pos, neg)\n",
    "    X_hcmotif, y_hcmotif = generate_paired_features(hyperconv_motif, pos, neg)\n",
    "    X_hcpath, y_hcpath = generate_paired_features(hyperconv_paths, pos, neg)\n",
    "    X_hclatent, y_hclatent = generate_paired_features(hyperconv_latent, pos, neg)\n",
    "    X_all, y_all = generate_paired_features(hyperconv_motifall, pos, neg)\n",
    "    for X, y, feats, name in [(X, y, hyperconvo_feats, \"hyperconv\"),\n",
    "                       (X_motifcnt, y_motifcnt, motif_counts, \"motifcount\"),\n",
    "                       (X_latent, y_latent, latent_motif_count, \"latentmotif\"),\n",
    "                       (X_path, y_path, path_stats, \"motifpaths\"),\n",
    "                       (X_hcmotif, y_hcmotif, hyperconv_motif, \"hyperconv-motif\"),\n",
    "                       (X_hcpath, y_hcpath, hyperconv_paths, \"hyperconv-paths\"),\n",
    "                       (X_hclatent, y_hclatent, hyperconv_latent, \"hyperconv-latent\"),\n",
    "                       (X_all, y_all, hyperconv_motifall, \"hyperconvo-motifall\")\n",
    "                      ]:\n",
    "        X_train, X_test, y_train, y_test = train_test_split(X, y, test_size=0.2, random_state=42)\n",
    "\n",
    "        clf = Pipeline([(\"standardScaler\", StandardScaler()), (\"logreg\", LogisticRegression(solver='liblinear'))])\n",
    "        clf.fit(X_train, y_train)\n",
    "\n",
    "        train_acc = clf.score(X_train, y_train)\n",
    "        test_acc = clf.score(X_test, y_test)\n",
    "        print(\"- {}: {:.4f} train, {:.4f} test\".format(name, train_acc, test_acc))\n",
    "        print_extreme_coefs(clf, feats)"
   ]
  },
  {
   "cell_type": "code",
   "execution_count": null,
   "metadata": {},
   "outputs": [],
   "source": []
  },
  {
   "cell_type": "code",
   "execution_count": null,
   "metadata": {},
   "outputs": [],
   "source": []
  },
  {
   "cell_type": "code",
   "execution_count": null,
   "metadata": {},
   "outputs": [],
   "source": []
  }
 ],
 "metadata": {
  "kernelspec": {
   "display_name": "Python 3",
   "language": "python",
   "name": "python3"
  },
  "language_info": {
   "codemirror_mode": {
    "name": "ipython",
    "version": 3
   },
   "file_extension": ".py",
   "mimetype": "text/x-python",
   "name": "python",
   "nbconvert_exporter": "python",
   "pygments_lexer": "ipython3",
   "version": "3.7.4"
  },
  "pycharm": {
   "stem_cell": {
    "cell_type": "raw",
    "metadata": {
     "collapsed": false
    },
    "source": []
   }
  }
 },
 "nbformat": 4,
 "nbformat_minor": 2
}
