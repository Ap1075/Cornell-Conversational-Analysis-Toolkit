{
 "cells": [
  {
   "cell_type": "code",
   "execution_count": 1,
   "metadata": {},
   "outputs": [
    {
     "data": {
      "text/plain": [
       "'/Users/calebchiam/Documents/GitHub/Cornell-Conversational-Analysis-Toolkit'"
      ]
     },
     "execution_count": 1,
     "metadata": {},
     "output_type": "execute_result"
    }
   ],
   "source": [
    "import os\n",
    "os.getcwd()\n",
    "os.chdir(\"..\")\n",
    "os.chdir(\"..\")\n",
    "os.getcwd()"
   ]
  },
  {
   "cell_type": "code",
   "execution_count": 2,
   "metadata": {},
   "outputs": [],
   "source": [
    "import convokit"
   ]
  },
  {
   "cell_type": "code",
   "execution_count": 3,
   "metadata": {},
   "outputs": [],
   "source": [
    "from convokit import randomize_thread"
   ]
  },
  {
   "cell_type": "code",
   "execution_count": 4,
   "metadata": {},
   "outputs": [],
   "source": [
    "%matplotlib inline\n",
    "import matplotlib.pyplot as plt\n",
    "import numpy as np\n",
    "import pandas as pd\n",
    "import warnings\n",
    "warnings.filterwarnings('ignore')"
   ]
  },
  {
   "cell_type": "markdown",
   "metadata": {},
   "source": [
    "First we download the reddit corpus:"
   ]
  },
  {
   "cell_type": "code",
   "execution_count": 5,
   "metadata": {
    "scrolled": true
   },
   "outputs": [
    {
     "name": "stdout",
     "output_type": "stream",
     "text": [
      "Dataset already exists at /Users/calebchiam/.convokit/downloads/reddit-corpus\n"
     ]
    }
   ],
   "source": [
    "corpus = convokit.Corpus(filename=convokit.download(\"reddit-corpus\"))"
   ]
  },
  {
   "cell_type": "code",
   "execution_count": 6,
   "metadata": {},
   "outputs": [
    {
     "name": "stdout",
     "output_type": "stream",
     "text": [
      "Number of Users: 521777\n",
      "Number of Utterances: 2004262\n",
      "Number of Conversations: 84979\n"
     ]
    }
   ],
   "source": [
    "corpus.print_summary_stats()"
   ]
  },
  {
   "cell_type": "code",
   "execution_count": 7,
   "metadata": {},
   "outputs": [],
   "source": [
    "threads = corpus.utterance_threads(prefix_len=10, include_root=False)"
   ]
  },
  {
   "cell_type": "markdown",
   "metadata": {},
   "source": [
    "The following are threads that come from the /r/canada subreddit. "
   ]
  },
  {
   "cell_type": "markdown",
   "metadata": {},
   "source": [
    "Let's randomize all threads to create a random baseline:"
   ]
  },
  {
   "cell_type": "code",
   "execution_count": 8,
   "metadata": {},
   "outputs": [],
   "source": [
    "randomized = {root:randomize_thread(root, threads[root]) for root in threads}  "
   ]
  },
  {
   "cell_type": "markdown",
   "metadata": {},
   "source": [
    "Construct a new Corpus using randomized threads:"
   ]
  },
  {
   "cell_type": "code",
   "execution_count": 9,
   "metadata": {},
   "outputs": [],
   "source": [
    "utts = [utt for t in randomized for utt in randomized[t].values()]"
   ]
  },
  {
   "cell_type": "code",
   "execution_count": 10,
   "metadata": {},
   "outputs": [],
   "source": [
    "corpus_randomized = convokit.model.Corpus(utterances=utts)"
   ]
  },
  {
   "cell_type": "code",
   "execution_count": 12,
   "metadata": {},
   "outputs": [],
   "source": [
    "random_threads = corpus_randomized.utterance_threads(prefix_len=10, include_root=False)"
   ]
  },
  {
   "cell_type": "code",
   "execution_count": 13,
   "metadata": {},
   "outputs": [],
   "source": [
    "from convokit import display_thread"
   ]
  },
  {
   "cell_type": "code",
   "execution_count": 14,
   "metadata": {},
   "outputs": [],
   "source": [
    "from random import sample"
   ]
  },
  {
   "cell_type": "code",
   "execution_count": 25,
   "metadata": {},
   "outputs": [
    {
     "name": "stdout",
     "output_type": "stream",
     "text": [
      "==Actual==\n",
      "0-3ahab\n",
      "    Carlbye\n",
      "        0-3ahab\n",
      "            -Kern-\n",
      "            Carlbye\n",
      "            Carlbye\n",
      "                Mike_davvy\n",
      "                    Carlbye\n",
      "            Mike_davvy\n",
      "    Mike_davvy\n",
      "\n",
      "==Randomized==\n",
      "0-3ahab\n",
      "    Carlbye\n",
      "        0-3ahab\n",
      "            Carlbye\n",
      "            Mike_davvy\n",
      "    -Kern-\n",
      "        Carlbye\n",
      "            Mike_davvy\n",
      "    Mike_davvy\n",
      "        Carlbye\n",
      "\n",
      "==Actual==\n",
      "RushDaSlush02\n",
      "    Safari_Master\n",
      "        RushDaSlush02\n",
      "        RushDaSlush02\n",
      "            Safari_Master\n",
      "                RushDaSlush02\n",
      "                    Safari_Master\n",
      "                        RushDaSlush02\n",
      "                            Safari_Master\n",
      "                                RushDaSlush02\n",
      "\n",
      "==Randomized==\n",
      "RushDaSlush02\n",
      "    Safari_Master\n",
      "        RushDaSlush02\n",
      "            Safari_Master\n",
      "                RushDaSlush02\n",
      "                    Safari_Master\n",
      "                        RushDaSlush02\n",
      "        RushDaSlush02\n",
      "            Safari_Master\n",
      "                RushDaSlush02\n",
      "\n",
      "==Actual==\n",
      "fadasd1\n",
      "    blorgenheim\n",
      "    gogogreeen\n",
      "        Cryxallis\n",
      "            gogogreeen\n",
      "                Redm1st\n",
      "                quark_lover\n",
      "                    SupaKoopaTroopa7\n",
      "        AaronDeath\n",
      "    Pascals_Tricycle\n",
      "\n",
      "==Randomized==\n",
      "fadasd1\n",
      "    blorgenheim\n",
      "        gogogreeen\n",
      "            quark_lover\n",
      "    gogogreeen\n",
      "    Cryxallis\n",
      "        Redm1st\n",
      "        SupaKoopaTroopa7\n",
      "    AaronDeath\n",
      "        Pascals_Tricycle\n",
      "\n",
      "==Actual==\n",
      "k-r3x\n",
      "    Jizzslinger\n",
      "        Jizzslinger\n",
      "            Th3B00k\n",
      "                k-r3x\n",
      "                Jizzslinger\n",
      "                    k-r3x\n",
      "        k-r3x\n",
      "            Jizzslinger\n",
      "                Jizzslinger\n",
      "\n",
      "==Randomized==\n",
      "k-r3x\n",
      "    Jizzslinger\n",
      "        Jizzslinger\n",
      "            k-r3x\n",
      "        k-r3x\n",
      "            Jizzslinger\n",
      "    Th3B00k\n",
      "        k-r3x\n",
      "            Jizzslinger\n",
      "        Jizzslinger\n",
      "\n",
      "==Actual==\n",
      "brittersbear\n",
      "    supercharged0708\n",
      "        RedMikeYawn\n",
      "            lemskroob\n",
      "                Eskimo_Brothers\n",
      "                    Nombreloss\n",
      "                Apt_5\n",
      "    rbg2996\n",
      "        brittersbear\n",
      "    hopelesstuna\n",
      "\n",
      "==Randomized==\n",
      "brittersbear\n",
      "    supercharged0708\n",
      "        RedMikeYawn\n",
      "            Eskimo_Brothers\n",
      "            Nombreloss\n",
      "            rbg2996\n",
      "    lemskroob\n",
      "        Apt_5\n",
      "        brittersbear\n",
      "    hopelesstuna\n",
      "\n",
      "==Actual==\n",
      "sleannj\n",
      "    EntropicallyFlavored\n",
      "    lil_secret\n",
      "        sleannj\n",
      "    HuggyMonster69\n",
      "    sammisamantha\n",
      "        sleannj\n",
      "            lil_secret\n",
      "                sleannj\n",
      "                    lil_secret\n",
      "\n",
      "==Randomized==\n",
      "sleannj\n",
      "    EntropicallyFlavored\n",
      "        HuggyMonster69\n",
      "            sammisamantha\n",
      "                sleannj\n",
      "            lil_secret\n",
      "        sleannj\n",
      "    lil_secret\n",
      "        sleannj\n",
      "            lil_secret\n",
      "\n",
      "==Actual==\n",
      "hongsz89\n",
      "    DTttfu\n",
      "        AutomaticStop__\n",
      "        Skipdr\n",
      "    WIN011\n",
      "        hongsz89\n",
      "            WIN011\n",
      "        dabadias\n",
      "    Dloadingg\n",
      "        WestbrookRapedMe\n",
      "\n",
      "==Randomized==\n",
      "hongsz89\n",
      "    DTttfu\n",
      "        hongsz89\n",
      "        WIN011\n",
      "            WestbrookRapedMe\n",
      "    WIN011\n",
      "        Dloadingg\n",
      "    AutomaticStop__\n",
      "        dabadias\n",
      "    Skipdr\n",
      "\n",
      "==Actual==\n",
      "JB_UK\n",
      "    Adzm00\n",
      "    ExdigguserPies\n",
      "        JB_UK\n",
      "        mesopeecee\n",
      "            whosafeard\n",
      "                MarcusOrlyius\n",
      "            ExdigguserPies\n",
      "        forgottenoldusername\n",
      "    dontstopmenow1966\n",
      "\n",
      "==Randomized==\n",
      "JB_UK\n",
      "    Adzm00\n",
      "        JB_UK\n",
      "            mesopeecee\n",
      "                dontstopmenow1966\n",
      "    ExdigguserPies\n",
      "        whosafeard\n",
      "            ExdigguserPies\n",
      "    MarcusOrlyius\n",
      "        forgottenoldusername\n",
      "\n",
      "==Actual==\n",
      "Daannii\n",
      "    crusoe\n",
      "    GrapeMeHyena\n",
      "        Daannii\n",
      "            GrapeMeHyena\n",
      "                Daannii\n",
      "    Random_Fandom\n",
      "        Daannii\n",
      "            diesel111\n",
      "                Daannii\n",
      "\n",
      "==Randomized==\n",
      "Daannii\n",
      "    crusoe\n",
      "        GrapeMeHyena\n",
      "            Random_Fandom\n",
      "                Daannii\n",
      "                GrapeMeHyena\n",
      "                    Daannii\n",
      "            Daannii\n",
      "                diesel111\n",
      "        Daannii\n",
      "\n",
      "==Actual==\n",
      "be-happier\n",
      "    SansHumor\n",
      "        be-happier\n",
      "            SansHumor\n",
      "                be-happier\n",
      "    Texastexastexas1\n",
      "        be-happier\n",
      "            Texastexastexas1\n",
      "                be-happier\n",
      "            RedSword12\n",
      "\n",
      "==Randomized==\n",
      "be-happier\n",
      "    SansHumor\n",
      "        Texastexastexas1\n",
      "            be-happier\n",
      "                RedSword12\n",
      "                    be-happier\n",
      "        be-happier\n",
      "            SansHumor\n",
      "                be-happier\n",
      "            Texastexastexas1\n",
      "\n"
     ]
    }
   ],
   "source": [
    "for thread_id in sample(list(random_threads), 10):\n",
    "    print(\"==Actual==\")\n",
    "    display_thread(threads, thread_id)\n",
    "    print()\n",
    "    print(\"==Randomized==\")\n",
    "    display_thread(random_threads, thread_id)\n",
    "    print()"
   ]
  },
  {
   "cell_type": "code",
   "execution_count": 24,
   "metadata": {},
   "outputs": [
    {
     "name": "stdout",
     "output_type": "stream",
     "text": [
      "freeman_lambda\n",
      "    vietjesus95\n",
      "    TheLumpyLump\n",
      "        freeman_lambda\n",
      "            Kaldricus\n",
      "        Animastryfe\n",
      "    explosivecurry13\n",
      "        prof0ak\n",
      "        TheLumpyLump\n",
      "    bbbsoldierbbb\n"
     ]
    }
   ],
   "source": [
    "display_thread(random_threads, 'e64u2fq')"
   ]
  },
  {
   "cell_type": "markdown",
   "metadata": {},
   "source": [
    "We extract hypergraph features for this new Corpus, as well as for the original Corpus."
   ]
  },
  {
   "cell_type": "code",
   "execution_count": 20,
   "metadata": {},
   "outputs": [],
   "source": [
    "hc = convokit.HyperConvo(prefix_len=10, min_thread_len=10, include_root=False)"
   ]
  },
  {
   "cell_type": "code",
   "execution_count": 21,
   "metadata": {},
   "outputs": [],
   "source": [
    "motif_counts = hc.retrieve_motif_counts(corpus)"
   ]
  },
  {
   "cell_type": "code",
   "execution_count": 22,
   "metadata": {},
   "outputs": [],
   "source": [
    "motif_counts_random = hc.retrieve_motif_counts(corpus_randomized)"
   ]
  },
  {
   "cell_type": "code",
   "execution_count": 26,
   "metadata": {},
   "outputs": [],
   "source": [
    "motif_counts_df = pd.DataFrame.from_dict(motif_counts, orient='index')\n",
    "motif_counts_random_df = pd.DataFrame.from_dict(motif_counts_random, orient='index')"
   ]
  },
  {
   "cell_type": "code",
   "execution_count": 27,
   "metadata": {},
   "outputs": [],
   "source": [
    "def get_subreddit(threads, thread_id):\n",
    "    if thread_id not in threads:\n",
    "        raise ValueError\n",
    "    return threads[thread_id][thread_id].meta[\"subreddit\"]"
   ]
  },
  {
   "cell_type": "code",
   "execution_count": 28,
   "metadata": {},
   "outputs": [],
   "source": [
    "subreddits = {thread_id: get_subreddit(threads, thread_id) for thread_id in threads}"
   ]
  },
  {
   "cell_type": "code",
   "execution_count": 29,
   "metadata": {},
   "outputs": [],
   "source": [
    "subreddits_df = pd.DataFrame.from_dict(subreddits, columns=['subreddit'], orient='index')"
   ]
  },
  {
   "cell_type": "code",
   "execution_count": 30,
   "metadata": {},
   "outputs": [],
   "source": [
    "motif_counts_df = pd.concat([motif_counts_df, subreddits_df], axis=1)\n",
    "motif_counts_random_df = pd.concat([motif_counts_random_df, subreddits_df], axis=1)"
   ]
  },
  {
   "cell_type": "code",
   "execution_count": 33,
   "metadata": {},
   "outputs": [],
   "source": [
    "x_normal = motif_counts_df.groupby('subreddit').mean().mean()"
   ]
  },
  {
   "cell_type": "code",
   "execution_count": 41,
   "metadata": {},
   "outputs": [],
   "source": [
    "x_random = motif_counts_random_df.groupby('subreddit').mean().mean()"
   ]
  },
  {
   "cell_type": "code",
   "execution_count": 52,
   "metadata": {},
   "outputs": [],
   "source": [
    "diff_by_percent = pd.DataFrame((x_normal - x_random)*100 / x_random, columns=['count'])\n",
    "diff_by_percent['triad-motif'] = list(diff_by_percent.index)\n",
    "diff_by_percent.index = range(len(diff_by_percent))"
   ]
  },
  {
   "cell_type": "code",
   "execution_count": 57,
   "metadata": {},
   "outputs": [],
   "source": []
  },
  {
   "cell_type": "code",
   "execution_count": 76,
   "metadata": {},
   "outputs": [],
   "source": [
    "%matplotlib qt\n",
    "g = sns.barplot(x=\"triad-motif\", y=\"count\", data=diff_by_percent)\n",
    "g.set_title(\"Empirical count means difference from randomized count means (%)\")\n",
    "g.set_ylabel(\"% difference\")\n",
    "g.set_xticklabels(g.get_xticklabels(), rotation=40, horizontalalignment='right', fontsize='x-small')\n",
    "plt.tight_layout()\n",
    "plt.show()"
   ]
  },
  {
   "cell_type": "code",
   "execution_count": 31,
   "metadata": {},
   "outputs": [],
   "source": [
    "import seaborn as sns"
   ]
  },
  {
   "cell_type": "code",
   "execution_count": 32,
   "metadata": {},
   "outputs": [],
   "source": [
    "import random"
   ]
  },
  {
   "cell_type": "code",
   "execution_count": 42,
   "metadata": {},
   "outputs": [],
   "source": [
    "# def get_mean_stats_from_sampled_threads(threads, n=100):\n",
    "#     sampled_ids = set(random.sample(list(threads), n))\n",
    "#     randomized = {root:randomize_thread(root, threads[root]) for root in threads if root in sampled_ids}\n",
    "#     utts = [utt for t in randomized for utt in randomized[t].values()]\n",
    "#     corpus_randomized = convokit.Corpus(utterances=utts)\n",
    "#     hc = convokit.HyperConvo(min_thread_len=10, prefix_len=10, include_root=False)\n",
    "#     motif_counts = hc.retrieve_motif_counts(corpus_randomized)\n",
    "#     df = pd.DataFrame.from_dict(motif_counts, orient='index')\n",
    "#     return df.mean()\n",
    "    "
   ]
  },
  {
   "cell_type": "code",
   "execution_count": 45,
   "metadata": {},
   "outputs": [],
   "source": [
    "# bootstrap_sample = pd.DataFrame([get_mean_stats_from_sampled_threads(threads) for _ in range(1000)])"
   ]
  },
  {
   "cell_type": "code",
   "execution_count": 58,
   "metadata": {},
   "outputs": [],
   "source": [
    "# bootstrap_sample['type'] = 'randomized'"
   ]
  },
  {
   "cell_type": "code",
   "execution_count": null,
   "metadata": {},
   "outputs": [],
   "source": [
    "# bootstrap_data = []\n",
    "# for row_idx in range(len(bootstrap_sample)):\n",
    "#     row = bootstrap_sample.iloc[row_idx]\n",
    "#     bootstrap_data.extend(list(zip(list(row.index)[:-1], row.values[:-1], (['randomized']*len(row.index))[:-1])))"
   ]
  },
  {
   "cell_type": "code",
   "execution_count": 34,
   "metadata": {},
   "outputs": [],
   "source": [
    "random_data_long = []\n",
    "for row_idx in range(len(motif_counts_random_df)):\n",
    "    row = motif_counts_random_df.iloc[row_idx]\n",
    "    random_data_long.extend(list(zip(list(row.index)[:-1], row.values[:-1], (['randomized']*len(row.index))[:-1])))"
   ]
  },
  {
   "cell_type": "code",
   "execution_count": 35,
   "metadata": {},
   "outputs": [],
   "source": [
    "# bootstrap_data.extend(list(zip(list(x_normal.index), x_normal.values, ['empirical']*len(x_normal.index))))\n",
    "random_data_long.extend(list(zip(list(x_normal.index), x_normal.values, ['empirical']*len(x_normal.index))))"
   ]
  },
  {
   "cell_type": "code",
   "execution_count": 36,
   "metadata": {},
   "outputs": [],
   "source": [
    "graph_data = pd.DataFrame(random_data_long, columns=['triad-motif', 'count', 'type'])"
   ]
  },
  {
   "cell_type": "code",
   "execution_count": 40,
   "metadata": {},
   "outputs": [
    {
     "ename": "AttributeError",
     "evalue": "Cannot access callable attribute 'groupby' of 'DataFrameGroupBy' objects, try using the 'apply' method",
     "output_type": "error",
     "traceback": [
      "\u001b[0;31m---------------------------------------------------------------------------\u001b[0m",
      "\u001b[0;31mAttributeError\u001b[0m                            Traceback (most recent call last)",
      "\u001b[0;32m<ipython-input-40-9b646d311f6e>\u001b[0m in \u001b[0;36m<module>\u001b[0;34m\u001b[0m\n\u001b[0;32m----> 1\u001b[0;31m \u001b[0mgraph_data\u001b[0m\u001b[0;34m.\u001b[0m\u001b[0mgroupby\u001b[0m\u001b[0;34m(\u001b[0m\u001b[0;34m'type'\u001b[0m\u001b[0;34m)\u001b[0m\u001b[0;34m.\u001b[0m\u001b[0mgroupby\u001b[0m\u001b[0;34m(\u001b[0m\u001b[0;34m'triad-motif'\u001b[0m\u001b[0;34m)\u001b[0m\u001b[0;34m.\u001b[0m\u001b[0mmean\u001b[0m\u001b[0;34m(\u001b[0m\u001b[0;34m)\u001b[0m\u001b[0;34m\u001b[0m\u001b[0;34m\u001b[0m\u001b[0m\n\u001b[0m",
      "\u001b[0;32m/Library/Frameworks/Python.framework/Versions/3.7/lib/python3.7/site-packages/pandas/core/groupby/groupby.py\u001b[0m in \u001b[0;36m__getattr__\u001b[0;34m(self, attr)\u001b[0m\n\u001b[1;32m    531\u001b[0m             \u001b[0;32mreturn\u001b[0m \u001b[0mself\u001b[0m\u001b[0;34m[\u001b[0m\u001b[0mattr\u001b[0m\u001b[0;34m]\u001b[0m\u001b[0;34m\u001b[0m\u001b[0;34m\u001b[0m\u001b[0m\n\u001b[1;32m    532\u001b[0m         \u001b[0;32mif\u001b[0m \u001b[0mhasattr\u001b[0m\u001b[0;34m(\u001b[0m\u001b[0mself\u001b[0m\u001b[0;34m.\u001b[0m\u001b[0mobj\u001b[0m\u001b[0;34m,\u001b[0m \u001b[0mattr\u001b[0m\u001b[0;34m)\u001b[0m\u001b[0;34m:\u001b[0m\u001b[0;34m\u001b[0m\u001b[0;34m\u001b[0m\u001b[0m\n\u001b[0;32m--> 533\u001b[0;31m             \u001b[0;32mreturn\u001b[0m \u001b[0mself\u001b[0m\u001b[0;34m.\u001b[0m\u001b[0m_make_wrapper\u001b[0m\u001b[0;34m(\u001b[0m\u001b[0mattr\u001b[0m\u001b[0;34m)\u001b[0m\u001b[0;34m\u001b[0m\u001b[0;34m\u001b[0m\u001b[0m\n\u001b[0m\u001b[1;32m    534\u001b[0m \u001b[0;34m\u001b[0m\u001b[0m\n\u001b[1;32m    535\u001b[0m         raise AttributeError(\"%r object has no attribute %r\" %\n",
      "\u001b[0;32m/Library/Frameworks/Python.framework/Versions/3.7/lib/python3.7/site-packages/pandas/core/groupby/groupby.py\u001b[0m in \u001b[0;36m_make_wrapper\u001b[0;34m(self, name)\u001b[0m\n\u001b[1;32m    568\u001b[0m                    \"using the 'apply' method\".format(kind, name,\n\u001b[1;32m    569\u001b[0m                                                      type(self).__name__))\n\u001b[0;32m--> 570\u001b[0;31m             \u001b[0;32mraise\u001b[0m \u001b[0mAttributeError\u001b[0m\u001b[0;34m(\u001b[0m\u001b[0mmsg\u001b[0m\u001b[0;34m)\u001b[0m\u001b[0;34m\u001b[0m\u001b[0;34m\u001b[0m\u001b[0m\n\u001b[0m\u001b[1;32m    571\u001b[0m \u001b[0;34m\u001b[0m\u001b[0m\n\u001b[1;32m    572\u001b[0m         \u001b[0mself\u001b[0m\u001b[0;34m.\u001b[0m\u001b[0m_set_group_selection\u001b[0m\u001b[0;34m(\u001b[0m\u001b[0;34m)\u001b[0m\u001b[0;34m\u001b[0m\u001b[0;34m\u001b[0m\u001b[0m\n",
      "\u001b[0;31mAttributeError\u001b[0m: Cannot access callable attribute 'groupby' of 'DataFrameGroupBy' objects, try using the 'apply' method"
     ]
    }
   ],
   "source": [
    "graph_data.groupby('type').groupby('triad-motif').mean()"
   ]
  },
  {
   "cell_type": "code",
   "execution_count": 37,
   "metadata": {},
   "outputs": [
    {
     "data": {
      "text/html": [
       "<div>\n",
       "<style scoped>\n",
       "    .dataframe tbody tr th:only-of-type {\n",
       "        vertical-align: middle;\n",
       "    }\n",
       "\n",
       "    .dataframe tbody tr th {\n",
       "        vertical-align: top;\n",
       "    }\n",
       "\n",
       "    .dataframe thead th {\n",
       "        text-align: right;\n",
       "    }\n",
       "</style>\n",
       "<table border=\"1\" class=\"dataframe\">\n",
       "  <thead>\n",
       "    <tr style=\"text-align: right;\">\n",
       "      <th></th>\n",
       "      <th>triad-motif</th>\n",
       "      <th>count</th>\n",
       "      <th>type</th>\n",
       "    </tr>\n",
       "  </thead>\n",
       "  <tbody>\n",
       "    <tr>\n",
       "      <th>0</th>\n",
       "      <td>NO_EDGE_TRIADS</td>\n",
       "      <td>16.0</td>\n",
       "      <td>randomized</td>\n",
       "    </tr>\n",
       "    <tr>\n",
       "      <th>1</th>\n",
       "      <td>SINGLE_EDGE_TRIADS</td>\n",
       "      <td>5.0</td>\n",
       "      <td>randomized</td>\n",
       "    </tr>\n",
       "    <tr>\n",
       "      <th>2</th>\n",
       "      <td>INCOMING_TRIADS</td>\n",
       "      <td>1.0</td>\n",
       "      <td>randomized</td>\n",
       "    </tr>\n",
       "    <tr>\n",
       "      <th>3</th>\n",
       "      <td>OUTGOING_TRIADS</td>\n",
       "      <td>0.0</td>\n",
       "      <td>randomized</td>\n",
       "    </tr>\n",
       "    <tr>\n",
       "      <th>4</th>\n",
       "      <td>DYADIC_TRIADS</td>\n",
       "      <td>3.0</td>\n",
       "      <td>randomized</td>\n",
       "    </tr>\n",
       "  </tbody>\n",
       "</table>\n",
       "</div>"
      ],
      "text/plain": [
       "          triad-motif  count        type\n",
       "0      NO_EDGE_TRIADS   16.0  randomized\n",
       "1  SINGLE_EDGE_TRIADS    5.0  randomized\n",
       "2     INCOMING_TRIADS    1.0  randomized\n",
       "3     OUTGOING_TRIADS    0.0  randomized\n",
       "4       DYADIC_TRIADS    3.0  randomized"
      ]
     },
     "execution_count": 37,
     "metadata": {},
     "output_type": "execute_result"
    }
   ],
   "source": [
    "graph_data.head(5)"
   ]
  },
  {
   "cell_type": "code",
   "execution_count": 175,
   "metadata": {},
   "outputs": [],
   "source": [
    "# g = sns.barplot(x='triad-motif', y='count', hue='type', data=graph_data, ci=95)\n",
    "%matplotlib qt5\n",
    "g = sns.catplot(x='triad-motif', y='count', hue=\"type\", data=graph_data, kind='bar', ci=95, legend_out=False, palette='pastel')\n",
    "g.set_xticklabels(rotation=40, horizontalalignment='right', fontsize=8)\n",
    "plt.tight_layout()\n",
    "plt.show()"
   ]
  },
  {
   "cell_type": "markdown",
   "metadata": {},
   "source": [
    "## Subreddit specific"
   ]
  },
  {
   "cell_type": "code",
   "execution_count": 134,
   "metadata": {},
   "outputs": [],
   "source": [
    "subreddit_list = {'WTF', 'magicTCG', 'techsupport', 'changemyview', 'AskTrumpSupporters'}\n",
    "motif_list = ['UNIDIRECTIONAL_TRIADS', 'INCOMING_2TO3_TRIADS', 'INCOMING_1TO3_TRIADS','DIRECIPROCAL_TRIADS']"
   ]
  },
  {
   "cell_type": "code",
   "execution_count": 135,
   "metadata": {},
   "outputs": [],
   "source": [
    "motif_count_limited = motif_counts_df.groupby('subreddit').mean().loc[subreddit_list][motif_list]"
   ]
  },
  {
   "cell_type": "code",
   "execution_count": 151,
   "metadata": {},
   "outputs": [],
   "source": [
    "motif_count_random_limited = motif_counts_random_df[motif_counts_random_df['subreddit'].apply(lambda x: x in subreddit_list)][motif_list + [\"subreddit\"]]"
   ]
  },
  {
   "cell_type": "code",
   "execution_count": 153,
   "metadata": {},
   "outputs": [],
   "source": [
    "data = []\n",
    "for idx in range(len(motif_count_limited)):\n",
    "    row = motif_count_limited.iloc[idx]\n",
    "    data.extend(list(zip([row.name]*len(motif_list), list(row.index), row.values, ['empirical']*len(motif_list))))\n",
    "for idx in range(len(motif_count_random_limited)):\n",
    "    row = motif_count_random_limited.iloc[idx]\n",
    "    data.extend(list(zip([row['subreddit']]*len(motif_list), \n",
    "                         list(row.index)[:-1], \n",
    "                         row.values[:-1], \n",
    "                         ['randomized']*len(motif_list))))"
   ]
  },
  {
   "cell_type": "code",
   "execution_count": 154,
   "metadata": {},
   "outputs": [],
   "source": [
    "graph_data2 = pd.DataFrame(data, columns=['subreddit', 'triad-motif', 'count', 'type'])"
   ]
  },
  {
   "cell_type": "code",
   "execution_count": 155,
   "metadata": {},
   "outputs": [
    {
     "data": {
      "text/html": [
       "<div>\n",
       "<style scoped>\n",
       "    .dataframe tbody tr th:only-of-type {\n",
       "        vertical-align: middle;\n",
       "    }\n",
       "\n",
       "    .dataframe tbody tr th {\n",
       "        vertical-align: top;\n",
       "    }\n",
       "\n",
       "    .dataframe thead th {\n",
       "        text-align: right;\n",
       "    }\n",
       "</style>\n",
       "<table border=\"1\" class=\"dataframe\">\n",
       "  <thead>\n",
       "    <tr style=\"text-align: right;\">\n",
       "      <th></th>\n",
       "      <th>subreddit</th>\n",
       "      <th>triad-motif</th>\n",
       "      <th>count</th>\n",
       "      <th>type</th>\n",
       "    </tr>\n",
       "  </thead>\n",
       "  <tbody>\n",
       "    <tr>\n",
       "      <th>0</th>\n",
       "      <td>WTF</td>\n",
       "      <td>UNIDIRECTIONAL_TRIADS</td>\n",
       "      <td>3.033</td>\n",
       "      <td>empirical</td>\n",
       "    </tr>\n",
       "    <tr>\n",
       "      <th>1</th>\n",
       "      <td>WTF</td>\n",
       "      <td>INCOMING_2TO3_TRIADS</td>\n",
       "      <td>0.026</td>\n",
       "      <td>empirical</td>\n",
       "    </tr>\n",
       "    <tr>\n",
       "      <th>2</th>\n",
       "      <td>WTF</td>\n",
       "      <td>INCOMING_1TO3_TRIADS</td>\n",
       "      <td>1.672</td>\n",
       "      <td>empirical</td>\n",
       "    </tr>\n",
       "    <tr>\n",
       "      <th>3</th>\n",
       "      <td>WTF</td>\n",
       "      <td>DIRECIPROCAL_TRIADS</td>\n",
       "      <td>0.332</td>\n",
       "      <td>empirical</td>\n",
       "    </tr>\n",
       "    <tr>\n",
       "      <th>4</th>\n",
       "      <td>changemyview</td>\n",
       "      <td>UNIDIRECTIONAL_TRIADS</td>\n",
       "      <td>0.268</td>\n",
       "      <td>empirical</td>\n",
       "    </tr>\n",
       "    <tr>\n",
       "      <th>5</th>\n",
       "      <td>changemyview</td>\n",
       "      <td>INCOMING_2TO3_TRIADS</td>\n",
       "      <td>0.008</td>\n",
       "      <td>empirical</td>\n",
       "    </tr>\n",
       "    <tr>\n",
       "      <th>6</th>\n",
       "      <td>changemyview</td>\n",
       "      <td>INCOMING_1TO3_TRIADS</td>\n",
       "      <td>1.368</td>\n",
       "      <td>empirical</td>\n",
       "    </tr>\n",
       "    <tr>\n",
       "      <th>7</th>\n",
       "      <td>changemyview</td>\n",
       "      <td>DIRECIPROCAL_TRIADS</td>\n",
       "      <td>0.976</td>\n",
       "      <td>empirical</td>\n",
       "    </tr>\n",
       "    <tr>\n",
       "      <th>8</th>\n",
       "      <td>magicTCG</td>\n",
       "      <td>UNIDIRECTIONAL_TRIADS</td>\n",
       "      <td>2.335</td>\n",
       "      <td>empirical</td>\n",
       "    </tr>\n",
       "    <tr>\n",
       "      <th>9</th>\n",
       "      <td>magicTCG</td>\n",
       "      <td>INCOMING_2TO3_TRIADS</td>\n",
       "      <td>0.146</td>\n",
       "      <td>empirical</td>\n",
       "    </tr>\n",
       "    <tr>\n",
       "      <th>10</th>\n",
       "      <td>magicTCG</td>\n",
       "      <td>INCOMING_1TO3_TRIADS</td>\n",
       "      <td>1.981</td>\n",
       "      <td>empirical</td>\n",
       "    </tr>\n",
       "    <tr>\n",
       "      <th>11</th>\n",
       "      <td>magicTCG</td>\n",
       "      <td>DIRECIPROCAL_TRIADS</td>\n",
       "      <td>0.576</td>\n",
       "      <td>empirical</td>\n",
       "    </tr>\n",
       "    <tr>\n",
       "      <th>12</th>\n",
       "      <td>AskTrumpSupporters</td>\n",
       "      <td>UNIDIRECTIONAL_TRIADS</td>\n",
       "      <td>0.351</td>\n",
       "      <td>empirical</td>\n",
       "    </tr>\n",
       "    <tr>\n",
       "      <th>13</th>\n",
       "      <td>AskTrumpSupporters</td>\n",
       "      <td>INCOMING_2TO3_TRIADS</td>\n",
       "      <td>0.012</td>\n",
       "      <td>empirical</td>\n",
       "    </tr>\n",
       "    <tr>\n",
       "      <th>14</th>\n",
       "      <td>AskTrumpSupporters</td>\n",
       "      <td>INCOMING_1TO3_TRIADS</td>\n",
       "      <td>2.439</td>\n",
       "      <td>empirical</td>\n",
       "    </tr>\n",
       "    <tr>\n",
       "      <th>15</th>\n",
       "      <td>AskTrumpSupporters</td>\n",
       "      <td>DIRECIPROCAL_TRIADS</td>\n",
       "      <td>1.556</td>\n",
       "      <td>empirical</td>\n",
       "    </tr>\n",
       "    <tr>\n",
       "      <th>16</th>\n",
       "      <td>techsupport</td>\n",
       "      <td>UNIDIRECTIONAL_TRIADS</td>\n",
       "      <td>0.232</td>\n",
       "      <td>empirical</td>\n",
       "    </tr>\n",
       "    <tr>\n",
       "      <th>17</th>\n",
       "      <td>techsupport</td>\n",
       "      <td>INCOMING_2TO3_TRIADS</td>\n",
       "      <td>0.005</td>\n",
       "      <td>empirical</td>\n",
       "    </tr>\n",
       "    <tr>\n",
       "      <th>18</th>\n",
       "      <td>techsupport</td>\n",
       "      <td>INCOMING_1TO3_TRIADS</td>\n",
       "      <td>0.473</td>\n",
       "      <td>empirical</td>\n",
       "    </tr>\n",
       "    <tr>\n",
       "      <th>19</th>\n",
       "      <td>techsupport</td>\n",
       "      <td>DIRECIPROCAL_TRIADS</td>\n",
       "      <td>0.323</td>\n",
       "      <td>empirical</td>\n",
       "    </tr>\n",
       "    <tr>\n",
       "      <th>20</th>\n",
       "      <td>magicTCG</td>\n",
       "      <td>UNIDIRECTIONAL_TRIADS</td>\n",
       "      <td>4.000</td>\n",
       "      <td>randomized</td>\n",
       "    </tr>\n",
       "    <tr>\n",
       "      <th>21</th>\n",
       "      <td>magicTCG</td>\n",
       "      <td>INCOMING_2TO3_TRIADS</td>\n",
       "      <td>0.000</td>\n",
       "      <td>randomized</td>\n",
       "    </tr>\n",
       "    <tr>\n",
       "      <th>22</th>\n",
       "      <td>magicTCG</td>\n",
       "      <td>INCOMING_1TO3_TRIADS</td>\n",
       "      <td>2.000</td>\n",
       "      <td>randomized</td>\n",
       "    </tr>\n",
       "    <tr>\n",
       "      <th>23</th>\n",
       "      <td>magicTCG</td>\n",
       "      <td>DIRECIPROCAL_TRIADS</td>\n",
       "      <td>0.000</td>\n",
       "      <td>randomized</td>\n",
       "    </tr>\n",
       "    <tr>\n",
       "      <th>24</th>\n",
       "      <td>WTF</td>\n",
       "      <td>UNIDIRECTIONAL_TRIADS</td>\n",
       "      <td>7.000</td>\n",
       "      <td>randomized</td>\n",
       "    </tr>\n",
       "    <tr>\n",
       "      <th>25</th>\n",
       "      <td>WTF</td>\n",
       "      <td>INCOMING_2TO3_TRIADS</td>\n",
       "      <td>0.000</td>\n",
       "      <td>randomized</td>\n",
       "    </tr>\n",
       "    <tr>\n",
       "      <th>26</th>\n",
       "      <td>WTF</td>\n",
       "      <td>INCOMING_1TO3_TRIADS</td>\n",
       "      <td>0.000</td>\n",
       "      <td>randomized</td>\n",
       "    </tr>\n",
       "    <tr>\n",
       "      <th>27</th>\n",
       "      <td>WTF</td>\n",
       "      <td>DIRECIPROCAL_TRIADS</td>\n",
       "      <td>0.000</td>\n",
       "      <td>randomized</td>\n",
       "    </tr>\n",
       "    <tr>\n",
       "      <th>28</th>\n",
       "      <td>WTF</td>\n",
       "      <td>UNIDIRECTIONAL_TRIADS</td>\n",
       "      <td>4.000</td>\n",
       "      <td>randomized</td>\n",
       "    </tr>\n",
       "    <tr>\n",
       "      <th>29</th>\n",
       "      <td>WTF</td>\n",
       "      <td>INCOMING_2TO3_TRIADS</td>\n",
       "      <td>0.000</td>\n",
       "      <td>randomized</td>\n",
       "    </tr>\n",
       "    <tr>\n",
       "      <th>...</th>\n",
       "      <td>...</td>\n",
       "      <td>...</td>\n",
       "      <td>...</td>\n",
       "      <td>...</td>\n",
       "    </tr>\n",
       "    <tr>\n",
       "      <th>19990</th>\n",
       "      <td>WTF</td>\n",
       "      <td>INCOMING_1TO3_TRIADS</td>\n",
       "      <td>0.000</td>\n",
       "      <td>randomized</td>\n",
       "    </tr>\n",
       "    <tr>\n",
       "      <th>19991</th>\n",
       "      <td>WTF</td>\n",
       "      <td>DIRECIPROCAL_TRIADS</td>\n",
       "      <td>1.000</td>\n",
       "      <td>randomized</td>\n",
       "    </tr>\n",
       "    <tr>\n",
       "      <th>19992</th>\n",
       "      <td>magicTCG</td>\n",
       "      <td>UNIDIRECTIONAL_TRIADS</td>\n",
       "      <td>9.000</td>\n",
       "      <td>randomized</td>\n",
       "    </tr>\n",
       "    <tr>\n",
       "      <th>19993</th>\n",
       "      <td>magicTCG</td>\n",
       "      <td>INCOMING_2TO3_TRIADS</td>\n",
       "      <td>0.000</td>\n",
       "      <td>randomized</td>\n",
       "    </tr>\n",
       "    <tr>\n",
       "      <th>19994</th>\n",
       "      <td>magicTCG</td>\n",
       "      <td>INCOMING_1TO3_TRIADS</td>\n",
       "      <td>0.000</td>\n",
       "      <td>randomized</td>\n",
       "    </tr>\n",
       "    <tr>\n",
       "      <th>19995</th>\n",
       "      <td>magicTCG</td>\n",
       "      <td>DIRECIPROCAL_TRIADS</td>\n",
       "      <td>0.000</td>\n",
       "      <td>randomized</td>\n",
       "    </tr>\n",
       "    <tr>\n",
       "      <th>19996</th>\n",
       "      <td>techsupport</td>\n",
       "      <td>UNIDIRECTIONAL_TRIADS</td>\n",
       "      <td>0.000</td>\n",
       "      <td>randomized</td>\n",
       "    </tr>\n",
       "    <tr>\n",
       "      <th>19997</th>\n",
       "      <td>techsupport</td>\n",
       "      <td>INCOMING_2TO3_TRIADS</td>\n",
       "      <td>0.000</td>\n",
       "      <td>randomized</td>\n",
       "    </tr>\n",
       "    <tr>\n",
       "      <th>19998</th>\n",
       "      <td>techsupport</td>\n",
       "      <td>INCOMING_1TO3_TRIADS</td>\n",
       "      <td>0.000</td>\n",
       "      <td>randomized</td>\n",
       "    </tr>\n",
       "    <tr>\n",
       "      <th>19999</th>\n",
       "      <td>techsupport</td>\n",
       "      <td>DIRECIPROCAL_TRIADS</td>\n",
       "      <td>0.000</td>\n",
       "      <td>randomized</td>\n",
       "    </tr>\n",
       "    <tr>\n",
       "      <th>20000</th>\n",
       "      <td>magicTCG</td>\n",
       "      <td>UNIDIRECTIONAL_TRIADS</td>\n",
       "      <td>4.000</td>\n",
       "      <td>randomized</td>\n",
       "    </tr>\n",
       "    <tr>\n",
       "      <th>20001</th>\n",
       "      <td>magicTCG</td>\n",
       "      <td>INCOMING_2TO3_TRIADS</td>\n",
       "      <td>0.000</td>\n",
       "      <td>randomized</td>\n",
       "    </tr>\n",
       "    <tr>\n",
       "      <th>20002</th>\n",
       "      <td>magicTCG</td>\n",
       "      <td>INCOMING_1TO3_TRIADS</td>\n",
       "      <td>3.000</td>\n",
       "      <td>randomized</td>\n",
       "    </tr>\n",
       "    <tr>\n",
       "      <th>20003</th>\n",
       "      <td>magicTCG</td>\n",
       "      <td>DIRECIPROCAL_TRIADS</td>\n",
       "      <td>0.000</td>\n",
       "      <td>randomized</td>\n",
       "    </tr>\n",
       "    <tr>\n",
       "      <th>20004</th>\n",
       "      <td>magicTCG</td>\n",
       "      <td>UNIDIRECTIONAL_TRIADS</td>\n",
       "      <td>2.000</td>\n",
       "      <td>randomized</td>\n",
       "    </tr>\n",
       "    <tr>\n",
       "      <th>20005</th>\n",
       "      <td>magicTCG</td>\n",
       "      <td>INCOMING_2TO3_TRIADS</td>\n",
       "      <td>0.000</td>\n",
       "      <td>randomized</td>\n",
       "    </tr>\n",
       "    <tr>\n",
       "      <th>20006</th>\n",
       "      <td>magicTCG</td>\n",
       "      <td>INCOMING_1TO3_TRIADS</td>\n",
       "      <td>2.000</td>\n",
       "      <td>randomized</td>\n",
       "    </tr>\n",
       "    <tr>\n",
       "      <th>20007</th>\n",
       "      <td>magicTCG</td>\n",
       "      <td>DIRECIPROCAL_TRIADS</td>\n",
       "      <td>3.000</td>\n",
       "      <td>randomized</td>\n",
       "    </tr>\n",
       "    <tr>\n",
       "      <th>20008</th>\n",
       "      <td>WTF</td>\n",
       "      <td>UNIDIRECTIONAL_TRIADS</td>\n",
       "      <td>6.000</td>\n",
       "      <td>randomized</td>\n",
       "    </tr>\n",
       "    <tr>\n",
       "      <th>20009</th>\n",
       "      <td>WTF</td>\n",
       "      <td>INCOMING_2TO3_TRIADS</td>\n",
       "      <td>1.000</td>\n",
       "      <td>randomized</td>\n",
       "    </tr>\n",
       "    <tr>\n",
       "      <th>20010</th>\n",
       "      <td>WTF</td>\n",
       "      <td>INCOMING_1TO3_TRIADS</td>\n",
       "      <td>0.000</td>\n",
       "      <td>randomized</td>\n",
       "    </tr>\n",
       "    <tr>\n",
       "      <th>20011</th>\n",
       "      <td>WTF</td>\n",
       "      <td>DIRECIPROCAL_TRIADS</td>\n",
       "      <td>0.000</td>\n",
       "      <td>randomized</td>\n",
       "    </tr>\n",
       "    <tr>\n",
       "      <th>20012</th>\n",
       "      <td>AskTrumpSupporters</td>\n",
       "      <td>UNIDIRECTIONAL_TRIADS</td>\n",
       "      <td>3.000</td>\n",
       "      <td>randomized</td>\n",
       "    </tr>\n",
       "    <tr>\n",
       "      <th>20013</th>\n",
       "      <td>AskTrumpSupporters</td>\n",
       "      <td>INCOMING_2TO3_TRIADS</td>\n",
       "      <td>0.000</td>\n",
       "      <td>randomized</td>\n",
       "    </tr>\n",
       "    <tr>\n",
       "      <th>20014</th>\n",
       "      <td>AskTrumpSupporters</td>\n",
       "      <td>INCOMING_1TO3_TRIADS</td>\n",
       "      <td>3.000</td>\n",
       "      <td>randomized</td>\n",
       "    </tr>\n",
       "    <tr>\n",
       "      <th>20015</th>\n",
       "      <td>AskTrumpSupporters</td>\n",
       "      <td>DIRECIPROCAL_TRIADS</td>\n",
       "      <td>0.000</td>\n",
       "      <td>randomized</td>\n",
       "    </tr>\n",
       "    <tr>\n",
       "      <th>20016</th>\n",
       "      <td>changemyview</td>\n",
       "      <td>UNIDIRECTIONAL_TRIADS</td>\n",
       "      <td>1.000</td>\n",
       "      <td>randomized</td>\n",
       "    </tr>\n",
       "    <tr>\n",
       "      <th>20017</th>\n",
       "      <td>changemyview</td>\n",
       "      <td>INCOMING_2TO3_TRIADS</td>\n",
       "      <td>0.000</td>\n",
       "      <td>randomized</td>\n",
       "    </tr>\n",
       "    <tr>\n",
       "      <th>20018</th>\n",
       "      <td>changemyview</td>\n",
       "      <td>INCOMING_1TO3_TRIADS</td>\n",
       "      <td>1.000</td>\n",
       "      <td>randomized</td>\n",
       "    </tr>\n",
       "    <tr>\n",
       "      <th>20019</th>\n",
       "      <td>changemyview</td>\n",
       "      <td>DIRECIPROCAL_TRIADS</td>\n",
       "      <td>0.000</td>\n",
       "      <td>randomized</td>\n",
       "    </tr>\n",
       "  </tbody>\n",
       "</table>\n",
       "<p>20020 rows × 4 columns</p>\n",
       "</div>"
      ],
      "text/plain": [
       "                subreddit            triad-motif  count        type\n",
       "0                     WTF  UNIDIRECTIONAL_TRIADS  3.033   empirical\n",
       "1                     WTF   INCOMING_2TO3_TRIADS  0.026   empirical\n",
       "2                     WTF   INCOMING_1TO3_TRIADS  1.672   empirical\n",
       "3                     WTF    DIRECIPROCAL_TRIADS  0.332   empirical\n",
       "4            changemyview  UNIDIRECTIONAL_TRIADS  0.268   empirical\n",
       "5            changemyview   INCOMING_2TO3_TRIADS  0.008   empirical\n",
       "6            changemyview   INCOMING_1TO3_TRIADS  1.368   empirical\n",
       "7            changemyview    DIRECIPROCAL_TRIADS  0.976   empirical\n",
       "8                magicTCG  UNIDIRECTIONAL_TRIADS  2.335   empirical\n",
       "9                magicTCG   INCOMING_2TO3_TRIADS  0.146   empirical\n",
       "10               magicTCG   INCOMING_1TO3_TRIADS  1.981   empirical\n",
       "11               magicTCG    DIRECIPROCAL_TRIADS  0.576   empirical\n",
       "12     AskTrumpSupporters  UNIDIRECTIONAL_TRIADS  0.351   empirical\n",
       "13     AskTrumpSupporters   INCOMING_2TO3_TRIADS  0.012   empirical\n",
       "14     AskTrumpSupporters   INCOMING_1TO3_TRIADS  2.439   empirical\n",
       "15     AskTrumpSupporters    DIRECIPROCAL_TRIADS  1.556   empirical\n",
       "16            techsupport  UNIDIRECTIONAL_TRIADS  0.232   empirical\n",
       "17            techsupport   INCOMING_2TO3_TRIADS  0.005   empirical\n",
       "18            techsupport   INCOMING_1TO3_TRIADS  0.473   empirical\n",
       "19            techsupport    DIRECIPROCAL_TRIADS  0.323   empirical\n",
       "20               magicTCG  UNIDIRECTIONAL_TRIADS  4.000  randomized\n",
       "21               magicTCG   INCOMING_2TO3_TRIADS  0.000  randomized\n",
       "22               magicTCG   INCOMING_1TO3_TRIADS  2.000  randomized\n",
       "23               magicTCG    DIRECIPROCAL_TRIADS  0.000  randomized\n",
       "24                    WTF  UNIDIRECTIONAL_TRIADS  7.000  randomized\n",
       "25                    WTF   INCOMING_2TO3_TRIADS  0.000  randomized\n",
       "26                    WTF   INCOMING_1TO3_TRIADS  0.000  randomized\n",
       "27                    WTF    DIRECIPROCAL_TRIADS  0.000  randomized\n",
       "28                    WTF  UNIDIRECTIONAL_TRIADS  4.000  randomized\n",
       "29                    WTF   INCOMING_2TO3_TRIADS  0.000  randomized\n",
       "...                   ...                    ...    ...         ...\n",
       "19990                 WTF   INCOMING_1TO3_TRIADS  0.000  randomized\n",
       "19991                 WTF    DIRECIPROCAL_TRIADS  1.000  randomized\n",
       "19992            magicTCG  UNIDIRECTIONAL_TRIADS  9.000  randomized\n",
       "19993            magicTCG   INCOMING_2TO3_TRIADS  0.000  randomized\n",
       "19994            magicTCG   INCOMING_1TO3_TRIADS  0.000  randomized\n",
       "19995            magicTCG    DIRECIPROCAL_TRIADS  0.000  randomized\n",
       "19996         techsupport  UNIDIRECTIONAL_TRIADS  0.000  randomized\n",
       "19997         techsupport   INCOMING_2TO3_TRIADS  0.000  randomized\n",
       "19998         techsupport   INCOMING_1TO3_TRIADS  0.000  randomized\n",
       "19999         techsupport    DIRECIPROCAL_TRIADS  0.000  randomized\n",
       "20000            magicTCG  UNIDIRECTIONAL_TRIADS  4.000  randomized\n",
       "20001            magicTCG   INCOMING_2TO3_TRIADS  0.000  randomized\n",
       "20002            magicTCG   INCOMING_1TO3_TRIADS  3.000  randomized\n",
       "20003            magicTCG    DIRECIPROCAL_TRIADS  0.000  randomized\n",
       "20004            magicTCG  UNIDIRECTIONAL_TRIADS  2.000  randomized\n",
       "20005            magicTCG   INCOMING_2TO3_TRIADS  0.000  randomized\n",
       "20006            magicTCG   INCOMING_1TO3_TRIADS  2.000  randomized\n",
       "20007            magicTCG    DIRECIPROCAL_TRIADS  3.000  randomized\n",
       "20008                 WTF  UNIDIRECTIONAL_TRIADS  6.000  randomized\n",
       "20009                 WTF   INCOMING_2TO3_TRIADS  1.000  randomized\n",
       "20010                 WTF   INCOMING_1TO3_TRIADS  0.000  randomized\n",
       "20011                 WTF    DIRECIPROCAL_TRIADS  0.000  randomized\n",
       "20012  AskTrumpSupporters  UNIDIRECTIONAL_TRIADS  3.000  randomized\n",
       "20013  AskTrumpSupporters   INCOMING_2TO3_TRIADS  0.000  randomized\n",
       "20014  AskTrumpSupporters   INCOMING_1TO3_TRIADS  3.000  randomized\n",
       "20015  AskTrumpSupporters    DIRECIPROCAL_TRIADS  0.000  randomized\n",
       "20016        changemyview  UNIDIRECTIONAL_TRIADS  1.000  randomized\n",
       "20017        changemyview   INCOMING_2TO3_TRIADS  0.000  randomized\n",
       "20018        changemyview   INCOMING_1TO3_TRIADS  1.000  randomized\n",
       "20019        changemyview    DIRECIPROCAL_TRIADS  0.000  randomized\n",
       "\n",
       "[20020 rows x 4 columns]"
      ]
     },
     "execution_count": 155,
     "metadata": {},
     "output_type": "execute_result"
    }
   ],
   "source": [
    "graph_data2"
   ]
  },
  {
   "cell_type": "code",
   "execution_count": 176,
   "metadata": {},
   "outputs": [],
   "source": [
    "%matplotlib qt5\n",
    "g = sns.catplot(x=\"triad-motif\", y=\"count\", hue=\"type\", col=\"subreddit\",\n",
    "                data=graph_data2, kind=\"bar\", legend_out=False, ci=95)\n",
    "\n",
    "g.set_xticklabels(rotation=40, horizontalalignment='right', fontsize='x-small')\n",
    "plt.tight_layout()\n",
    "plt.show()"
   ]
  },
  {
   "cell_type": "code",
   "execution_count": null,
   "metadata": {},
   "outputs": [],
   "source": []
  },
  {
   "cell_type": "code",
   "execution_count": null,
   "metadata": {},
   "outputs": [],
   "source": []
  },
  {
   "cell_type": "code",
   "execution_count": null,
   "metadata": {},
   "outputs": [],
   "source": []
  },
  {
   "cell_type": "code",
   "execution_count": null,
   "metadata": {},
   "outputs": [],
   "source": []
  },
  {
   "cell_type": "code",
   "execution_count": null,
   "metadata": {},
   "outputs": [],
   "source": []
  },
  {
   "cell_type": "code",
   "execution_count": null,
   "metadata": {},
   "outputs": [],
   "source": [
    "thread_ids = []\n",
    "feats = []\n",
    "for key, feat_dict in threads_feats.items():\n",
    "    thread_ids.append(key)\n",
    "    feats.append([clean_value(feat_dict[k]) for k in feat_names])"
   ]
  },
  {
   "cell_type": "markdown",
   "metadata": {},
   "source": [
    "For later convenience we will store feature values in a dataframe:"
   ]
  },
  {
   "cell_type": "code",
   "execution_count": null,
   "metadata": {},
   "outputs": [],
   "source": [
    "random_feat_df = pd.DataFrame(data=r_feats, index=random_thread_ids, columns=feat_names)"
   ]
  },
  {
   "cell_type": "code",
   "execution_count": null,
   "metadata": {},
   "outputs": [],
   "source": [
    "feat_df = pd.DataFrame(data=feats, index=thread_ids, columns=feat_names)"
   ]
  },
  {
   "cell_type": "markdown",
   "metadata": {},
   "source": [
    "Here are some examples of features computed over the three example threads from before:"
   ]
  },
  {
   "cell_type": "code",
   "execution_count": null,
   "metadata": {},
   "outputs": [],
   "source": [
    "motif_count_feats = [x for x in feat_names if ('count' in x) and ('mid' not in x) and ('present' not in x)]\n",
    "prob_feats = [x for x in feat_names if ('trans' in x)]"
   ]
  },
  {
   "cell_type": "markdown",
   "metadata": {},
   "source": [
    "Let's get an aggregate statistic:"
   ]
  },
  {
   "cell_type": "code",
   "execution_count": null,
   "metadata": {},
   "outputs": [],
   "source": [
    "display_thread(threads, 't1_c0odlio')"
   ]
  },
  {
   "cell_type": "markdown",
   "metadata": {},
   "source": [
    "# Deviations"
   ]
  },
  {
   "cell_type": "code",
   "execution_count": null,
   "metadata": {},
   "outputs": [],
   "source": [
    "overall_mean_diff = feat_df.mean() - random_feat_df.mean()\n",
    "overall_mean_diff[:10]"
   ]
  },
  {
   "cell_type": "code",
   "execution_count": null,
   "metadata": {},
   "outputs": [],
   "source": [
    "mean_deviation = overall_mean_diff / random_feat_df.std()\n",
    "mean_deviation[:10]"
   ]
  },
  {
   "cell_type": "code",
   "execution_count": null,
   "metadata": {},
   "outputs": [],
   "source": [
    "mean_deviation[motif_count_feats].sort_values()"
   ]
  },
  {
   "cell_type": "markdown",
   "metadata": {},
   "source": [
    "- All the paths leading up to DIRECIPROCAL TRIADS, except for UNIDIRECTIONAL TRIADS, occur in the real dataset at rates better than chance. \n",
    "\n",
    "- All the triads with closure (and OUTGOING TRIADS) occur at rates less than chance."
   ]
  },
  {
   "cell_type": "markdown",
   "metadata": {},
   "source": [
    "In fact, if you think about it, UNIDIRECTIONAL and OUTGOING triads (the two types without closure) are still triads that represent an interaction 'beyond the dyadic relationship'.  And they both occur at rates less than chance."
   ]
  },
  {
   "cell_type": "markdown",
   "metadata": {},
   "source": [
    "This perhaps implies that triad motifs with closure are some kind of 'anti-phenomenon'. Are they still 'real' then?"
   ]
  },
  {
   "cell_type": "markdown",
   "metadata": {},
   "source": [
    "## Specific subreddits"
   ]
  },
  {
   "cell_type": "markdown",
   "metadata": {},
   "source": [
    "At the aggregate level, it might seem that triad motifs with closure simply do not happen. But perhaps at the level of specific subreddits, we would see a different trend unfold."
   ]
  },
  {
   "cell_type": "markdown",
   "metadata": {},
   "source": [
    "Let's group by subreddit then use cosine similarity to find the subreddit that is most unlike the aggregate means."
   ]
  },
  {
   "cell_type": "code",
   "execution_count": null,
   "metadata": {},
   "outputs": [],
   "source": [
    "motif_feat_df = feat_df[motif_count_feats]\n",
    "motif_feat_df_mean = motif_feat_df.mean()\n",
    "motif_feat_df_sd = motif_feat_df.std()"
   ]
  },
  {
   "cell_type": "markdown",
   "metadata": {
    "collapsed": true
   },
   "source": [
    "Getting subreddit labels:"
   ]
  },
  {
   "cell_type": "code",
   "execution_count": null,
   "metadata": {},
   "outputs": [],
   "source": [
    "def get_subreddit(threads, thread_id):\n",
    "    if thread_id not in threads:\n",
    "        return None\n",
    "    return threads[thread_id][thread_id].other[\"user-info\"][\"subreddit\"]\n",
    "\n",
    "subreddits = [get_subreddit(threads, thread_id) for thread_id in threads]\n",
    "# 99145 threads, from 100 subreddits. Roughly 1000 threads per subreddit"
   ]
  },
  {
   "cell_type": "code",
   "execution_count": null,
   "metadata": {},
   "outputs": [],
   "source": [
    "motif_feat_df['subreddit'] = subreddits"
   ]
  },
  {
   "cell_type": "code",
   "execution_count": null,
   "metadata": {},
   "outputs": [],
   "source": [
    "from sklearn.metrics.pairwise import cosine_similarity"
   ]
  },
  {
   "cell_type": "code",
   "execution_count": null,
   "metadata": {},
   "outputs": [],
   "source": [
    "subreddit_means = motif_feat_df.groupby('subreddit').mean()"
   ]
  },
  {
   "cell_type": "code",
   "execution_count": null,
   "metadata": {},
   "outputs": [],
   "source": [
    "subreddit_means.loc['AdviceAnimals'].shape"
   ]
  },
  {
   "cell_type": "code",
   "execution_count": null,
   "metadata": {},
   "outputs": [],
   "source": [
    "import numpy as np"
   ]
  },
  {
   "cell_type": "code",
   "execution_count": null,
   "metadata": {},
   "outputs": [],
   "source": [
    "def cosine_sim(X, Y):\n",
    "    assert(len(X) == len(Y))\n",
    "    return np.array(X).dot(np.array(Y)) / (np.linalg.norm(X)*np.linalg.norm(Y))"
   ]
  },
  {
   "cell_type": "code",
   "execution_count": null,
   "metadata": {},
   "outputs": [],
   "source": [
    "cosine_sims = []\n",
    "for subreddit_name in subreddit_means.index:\n",
    "    cosine_sims.append(cosine_sim(subreddit_means.loc[subreddit_name][:-1], motif_feat_df_mean))\n",
    "cosine_sims[:10]"
   ]
  },
  {
   "cell_type": "code",
   "execution_count": null,
   "metadata": {},
   "outputs": [],
   "source": [
    "subreddit_means['sim'] = cosine_sims"
   ]
  },
  {
   "cell_type": "markdown",
   "metadata": {},
   "source": [
    "Top 15 most dissimilar (compared to mean) subreddits:"
   ]
  },
  {
   "cell_type": "code",
   "execution_count": null,
   "metadata": {},
   "outputs": [],
   "source": [
    "subreddit_means.sort_values(by='sim')[:15]"
   ]
  },
  {
   "cell_type": "markdown",
   "metadata": {},
   "source": [
    "Let's ignore subreddits based on exchanges / swaps in favour of those that are discussion-based.\n",
    "\n",
    "In the above list, this would be MLPLounge, DebateReligion, electronic_cigarette, POLITIC (smaller sample), MensRights, conspiracy, teenagers. We exclude POLITIC because it has a smaller sample size than the rest."
   ]
  },
  {
   "cell_type": "markdown",
   "metadata": {},
   "source": [
    "### MLPLounge"
   ]
  },
  {
   "cell_type": "code",
   "execution_count": null,
   "metadata": {},
   "outputs": [],
   "source": [
    "((subreddit_means.loc['MLPLounge'] - motif_feat_df_mean)/motif_feat_df_sd).sort_values()"
   ]
  },
  {
   "cell_type": "markdown",
   "metadata": {},
   "source": [
    "Interestingly, all the features that feature more commonly in MLPLounge are mainly the features involving triadic closure. (Direciprocal triads is an exception to this.) Though, some of the features involving triadic closure are fewer as well."
   ]
  },
  {
   "cell_type": "markdown",
   "metadata": {},
   "source": [
    "### DebateReligion"
   ]
  },
  {
   "cell_type": "code",
   "execution_count": null,
   "metadata": {},
   "outputs": [],
   "source": [
    "((subreddit_means.loc['DebateReligion'] - motif_feat_df_mean)/motif_feat_df_sd).sort_values()"
   ]
  },
  {
   "cell_type": "markdown",
   "metadata": {},
   "source": [
    "### electronic_cigarette"
   ]
  },
  {
   "cell_type": "code",
   "execution_count": null,
   "metadata": {},
   "outputs": [],
   "source": [
    "((subreddit_means.loc['electronic_cigarette'] - motif_feat_df_mean)/motif_feat_df_sd).sort_values()"
   ]
  },
  {
   "cell_type": "markdown",
   "metadata": {},
   "source": [
    "### MensRights"
   ]
  },
  {
   "cell_type": "code",
   "execution_count": null,
   "metadata": {},
   "outputs": [],
   "source": [
    "((subreddit_means.loc['MensRights'] - motif_feat_df_mean)/motif_feat_df_sd).sort_values()"
   ]
  },
  {
   "cell_type": "markdown",
   "metadata": {},
   "source": [
    "### conspiracy"
   ]
  },
  {
   "cell_type": "code",
   "execution_count": null,
   "metadata": {},
   "outputs": [],
   "source": [
    "((subreddit_means.loc['conspiracy'] - motif_feat_df_mean)/motif_feat_df_sd).sort_values()"
   ]
  },
  {
   "cell_type": "markdown",
   "metadata": {},
   "source": [
    "### teenagers"
   ]
  },
  {
   "cell_type": "code",
   "execution_count": null,
   "metadata": {},
   "outputs": [],
   "source": [
    "((subreddit_means.loc['teenagers'] - motif_feat_df_mean)/motif_feat_df_sd).sort_values()"
   ]
  },
  {
   "cell_type": "markdown",
   "metadata": {},
   "source": [
    "These subreddits are all **similarly** different from the average subreddit. They all have:\n",
    "- Slightly higher inclusion of direciprocal, direciprocal_2to3, trireciprocal triads, suggesting high discussion engagement for particular users.\n",
    "- Much lower no_edge, single_edge triads, implying fewer drive-by commenters, i.e. these are not expansionary high-activity threads but threads for a small group of participants."
   ]
  },
  {
   "cell_type": "code",
   "execution_count": null,
   "metadata": {},
   "outputs": [],
   "source": []
  },
  {
   "cell_type": "code",
   "execution_count": null,
   "metadata": {},
   "outputs": [],
   "source": []
  },
  {
   "cell_type": "code",
   "execution_count": null,
   "metadata": {},
   "outputs": [],
   "source": []
  },
  {
   "cell_type": "code",
   "execution_count": null,
   "metadata": {},
   "outputs": [],
   "source": []
  },
  {
   "cell_type": "code",
   "execution_count": null,
   "metadata": {},
   "outputs": [],
   "source": []
  },
  {
   "cell_type": "code",
   "execution_count": null,
   "metadata": {},
   "outputs": [],
   "source": []
  },
  {
   "cell_type": "code",
   "execution_count": null,
   "metadata": {},
   "outputs": [],
   "source": []
  },
  {
   "cell_type": "code",
   "execution_count": null,
   "metadata": {},
   "outputs": [],
   "source": []
  },
  {
   "cell_type": "code",
   "execution_count": null,
   "metadata": {},
   "outputs": [],
   "source": []
  },
  {
   "cell_type": "code",
   "execution_count": null,
   "metadata": {},
   "outputs": [],
   "source": []
  },
  {
   "cell_type": "code",
   "execution_count": null,
   "metadata": {},
   "outputs": [],
   "source": []
  },
  {
   "cell_type": "code",
   "execution_count": null,
   "metadata": {},
   "outputs": [],
   "source": []
  },
  {
   "cell_type": "code",
   "execution_count": null,
   "metadata": {},
   "outputs": [],
   "source": []
  },
  {
   "cell_type": "code",
   "execution_count": null,
   "metadata": {},
   "outputs": [],
   "source": []
  },
  {
   "cell_type": "code",
   "execution_count": null,
   "metadata": {},
   "outputs": [],
   "source": [
    "tgts = [\"DebateReligion\", \"electronic_cigarette\", \"MensRights\", \"conspiracy\", \"teenagers\"]"
   ]
  },
  {
   "cell_type": "code",
   "execution_count": null,
   "metadata": {},
   "outputs": [],
   "source": [
    "\n",
    "for tgt in tgts:\n",
    "    \n",
    "    a.append((subreddit_means.loc[tgt] - motif_feat_df_mean).sort_values())"
   ]
  },
  {
   "cell_type": "code",
   "execution_count": null,
   "metadata": {},
   "outputs": [],
   "source": [
    "a"
   ]
  },
  {
   "cell_type": "code",
   "execution_count": null,
   "metadata": {},
   "outputs": [],
   "source": [
    "subreddit_means.index"
   ]
  },
  {
   "cell_type": "code",
   "execution_count": null,
   "metadata": {},
   "outputs": [],
   "source": [
    "random_feat_df['subreddit'] = subreddits\n",
    "feat_df['subreddit'] = subreddits"
   ]
  },
  {
   "cell_type": "code",
   "execution_count": null,
   "metadata": {},
   "outputs": [],
   "source": [
    "motif_prob_feats = motif_count_feats + prob_feats"
   ]
  },
  {
   "cell_type": "code",
   "execution_count": null,
   "metadata": {},
   "outputs": [],
   "source": [
    "random_subreddit_means = random_feat_df.groupby('subreddit').mean()\n"
   ]
  },
  {
   "cell_type": "code",
   "execution_count": null,
   "metadata": {},
   "outputs": [],
   "source": [
    "#random_subreddit_means[motif_prob_feats].to_csv(\"subreddits_x_motifs_random.csv\")"
   ]
  },
  {
   "cell_type": "code",
   "execution_count": null,
   "metadata": {},
   "outputs": [],
   "source": [
    "#random_subreddit_means[motif_prob_feats].T.to_csv(\"motifs_x_subreddits_random.csv\")"
   ]
  },
  {
   "cell_type": "code",
   "execution_count": null,
   "metadata": {},
   "outputs": [],
   "source": [
    "random_subreddit_sd = random_feat_df.groupby('subreddit').std()"
   ]
  },
  {
   "cell_type": "code",
   "execution_count": null,
   "metadata": {},
   "outputs": [],
   "source": [
    "random_subreddit_sd.loc['AdviceAnimals'][motif_count_feats]"
   ]
  },
  {
   "cell_type": "code",
   "execution_count": null,
   "metadata": {},
   "outputs": [],
   "source": [
    "random_subreddit_sd[motif_count_feats].T.sort_index()"
   ]
  },
  {
   "cell_type": "code",
   "execution_count": null,
   "metadata": {},
   "outputs": [],
   "source": [
    "random_subreddit_sd[prob_feats].T.sort_index()"
   ]
  },
  {
   "cell_type": "markdown",
   "metadata": {},
   "source": [
    "Let's examine how the empirical values deviate from the random thread statistics:"
   ]
  },
  {
   "cell_type": "code",
   "execution_count": null,
   "metadata": {},
   "outputs": [],
   "source": [
    "def get_deviations(threads, thread_id, feats):\n",
    "    \"\"\"\n",
    "    Returns a pandas series of % SD deviations\n",
    "    \"\"\"\n",
    "    subreddit = get_subreddit(threads, thread_id)\n",
    "    feat_stats = feat_df.loc[thread_id][feats]\n",
    "    \n",
    "    random_means = random_subreddit_means.loc[subreddit][feats]\n",
    "    random_sds = random_subreddit_sd.loc[subreddit][feats]\n",
    "    deviations = (feat_stats - random_means) / random_sds\n",
    "    return deviations"
   ]
  },
  {
   "cell_type": "markdown",
   "metadata": {},
   "source": [
    "As an example:"
   ]
  },
  {
   "cell_type": "code",
   "execution_count": null,
   "metadata": {},
   "outputs": [],
   "source": [
    "get_deviations(threads, 't1_c32bcq8', motif_prob_feats)"
   ]
  },
  {
   "cell_type": "markdown",
   "metadata": {},
   "source": [
    "With this, let's create a dataframe where each thread is represented as a series of deviations / non-deviations. We can then group by subreddit and see which subreddit has the greatest percentage of deviations for various feats."
   ]
  },
  {
   "cell_type": "code",
   "execution_count": null,
   "metadata": {},
   "outputs": [],
   "source": [
    "deviation_df = pd.DataFrame(dtype=float)"
   ]
  },
  {
   "cell_type": "code",
   "execution_count": null,
   "metadata": {},
   "outputs": [],
   "source": [
    "for thread in threads:\n",
    "    deviation_df[thread] = get_deviations(threads, thread, motif_prob_feats)"
   ]
  },
  {
   "cell_type": "code",
   "execution_count": null,
   "metadata": {},
   "outputs": [],
   "source": [
    "deviation_df.dtypes"
   ]
  },
  {
   "cell_type": "code",
   "execution_count": null,
   "metadata": {},
   "outputs": [],
   "source": [
    "deviation_df"
   ]
  },
  {
   "cell_type": "code",
   "execution_count": null,
   "metadata": {},
   "outputs": [],
   "source": [
    "deviation_df_T = deviation_df.T"
   ]
  },
  {
   "cell_type": "code",
   "execution_count": null,
   "metadata": {},
   "outputs": [],
   "source": [
    "for k in deviation_df_T:\n",
    "    deviation_df_T[k] = pd.to_numeric(deviation_df_T[k])"
   ]
  },
  {
   "cell_type": "code",
   "execution_count": null,
   "metadata": {},
   "outputs": [],
   "source": [
    "deviation_df_T['subreddit'] = subreddits"
   ]
  },
  {
   "cell_type": "code",
   "execution_count": null,
   "metadata": {},
   "outputs": [],
   "source": [
    "dev_means = deviation_df_T.groupby('subreddit').mean()"
   ]
  },
  {
   "cell_type": "code",
   "execution_count": null,
   "metadata": {},
   "outputs": [],
   "source": [
    "#dev_means.to_csv(\"deviation_means.csv\")"
   ]
  },
  {
   "cell_type": "code",
   "execution_count": null,
   "metadata": {},
   "outputs": [],
   "source": [
    "#random_feat_df.mean(axis=0).to_csv(\"total_avg_feats.csv\")"
   ]
  },
  {
   "cell_type": "code",
   "execution_count": null,
   "metadata": {},
   "outputs": [],
   "source": []
  }
 ],
 "metadata": {
  "kernelspec": {
   "display_name": "Python 3",
   "language": "python",
   "name": "python3"
  },
  "language_info": {
   "codemirror_mode": {
    "name": "ipython",
    "version": 3
   },
   "file_extension": ".py",
   "mimetype": "text/x-python",
   "name": "python",
   "nbconvert_exporter": "python",
   "pygments_lexer": "ipython3",
   "version": "3.7.3"
  }
 },
 "nbformat": 4,
 "nbformat_minor": 2
}
