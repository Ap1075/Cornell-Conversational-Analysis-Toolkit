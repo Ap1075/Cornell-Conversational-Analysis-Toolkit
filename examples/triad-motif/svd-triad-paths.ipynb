{
 "cells": [
  {
   "cell_type": "markdown",
   "metadata": {},
   "source": [
    "This notebook provides examples of how to call the hyperconvo functions from Convokit and perform analyses similar to the ones presented in the corresponding paper (http://www.cs.cornell.edu/~cristian/Patterns_of_participant_interactions.html), which describes the hypergraph methodology for modeling and analyzing online public discussions.\n",
    "\n",
    "Note that due to limitations in what data we can access and distribute, the beta version of the hypergraph methodology presented here currently supports less functionality:\n",
    "\n",
    "* Instead of Facebook data, we release a dataset of discussions from Reddit (the 1000 most recent threads, with at least 10 comments, from 100 highly active subreddits -- more details in the corresponding readme here: https://github.com/CornellNLP/Cornell-Conversational-Analysis-Toolkit/tree/master/datasets/reddit-corpus). For demonstration purposes, we here use a small subset of this dataset (\"reddit-corpus-small\") containing 100 threads per subreddit.\n",
    "* Since Reddit does not provide information on who reacted to (i.e., upvoted) each comment, we are presently unable to support reaction-edges in the hypergraph. As such, we can only compute features over in/outdegree distributions of _reply_-edges, and the feature set derived from motifs in the hypergraph is limited to counts and binary indicators or whether or not a motif is present. We will work  towards supporting reactions as well."
   ]
  },
  {
   "cell_type": "code",
   "execution_count": 1,
   "metadata": {},
   "outputs": [
    {
     "data": {
      "text/plain": [
       "'/home/caleb/Cornell-Conversational-Analysis-Toolkit'"
      ]
     },
     "execution_count": 1,
     "metadata": {},
     "output_type": "execute_result"
    }
   ],
   "source": [
    "import os\n",
    "os.getcwd()\n",
    "os.chdir(\"..\")\n",
    "os.chdir(\"..\")\n",
    "os.getcwd()"
   ]
  },
  {
   "cell_type": "code",
   "execution_count": 2,
   "metadata": {},
   "outputs": [],
   "source": [
    "reddit_corpus_dir = \"/sauna/reddit_201810_raw/reddit-corpus-2/reddit-corpus\""
   ]
  },
  {
   "cell_type": "code",
   "execution_count": 3,
   "metadata": {},
   "outputs": [],
   "source": [
    "import convokit"
   ]
  },
  {
   "cell_type": "code",
   "execution_count": 4,
   "metadata": {},
   "outputs": [],
   "source": [
    "%matplotlib inline\n",
    "import matplotlib.pyplot as plt\n",
    "import numpy as np\n",
    "import pandas as pd\n",
    "import warnings\n",
    "warnings.filterwarnings('ignore')"
   ]
  },
  {
   "cell_type": "markdown",
   "metadata": {},
   "source": [
    "First we download the reddit corpus:"
   ]
  },
  {
   "cell_type": "code",
   "execution_count": 5,
   "metadata": {},
   "outputs": [],
   "source": [
    "corpus = convokit.Corpus(filename=os.path.join(reddit_corpus_dir, 'reddit-corpus'))"
   ]
  },
  {
   "cell_type": "code",
   "execution_count": 6,
   "metadata": {},
   "outputs": [],
   "source": [
    "hc = convokit.HyperConvo(prefix_len=10, min_thread_len=10, include_root=False)"
   ]
  },
  {
   "cell_type": "code",
   "execution_count": 7,
   "metadata": {},
   "outputs": [],
   "source": [
    "motif_path_stats = hc.retrieve_motif_pathway_stats(corpus)"
   ]
  },
  {
   "cell_type": "code",
   "execution_count": 8,
   "metadata": {},
   "outputs": [],
   "source": [
    "path_stats_df = pd.DataFrame.from_dict(motif_path_stats, orient='index')\n",
    "columns = ['PATH-'+', '.join(filter(lambda x: type(x) == str, col)).strip() for col in path_stats_df.columns.values]\n",
    "path_stats_df.columns = columns\n",
    "path_feat_names = list(path_stats_df.columns)"
   ]
  },
  {
   "cell_type": "code",
   "execution_count": 9,
   "metadata": {},
   "outputs": [],
   "source": [
    "motif_counts = hc.retrieve_motif_counts(corpus)"
   ]
  },
  {
   "cell_type": "code",
   "execution_count": 11,
   "metadata": {},
   "outputs": [],
   "source": [
    "motif_counts_df = pd.DataFrame.from_dict(motif_counts, orient='index')\n",
    "motif_feat_names = list(motif_counts_df.columns)"
   ]
  },
  {
   "cell_type": "code",
   "execution_count": 16,
   "metadata": {},
   "outputs": [],
   "source": [
    "feat_df = pd.concat([path_stats_df, motif_counts_df], axis=1)"
   ]
  },
  {
   "cell_type": "code",
   "execution_count": 17,
   "metadata": {},
   "outputs": [],
   "source": [
    "# for thread_id, motif_path_stats_dict in motif_path_stats.items():\n",
    "#     for motif_path, val in motif_path_stats_dict.items():\n",
    "#         feat_df.loc[thread_id][motif_path] = val"
   ]
  },
  {
   "cell_type": "code",
   "execution_count": 18,
   "metadata": {},
   "outputs": [],
   "source": [
    "from sklearn.preprocessing import Imputer, Normalizer, StandardScaler\n",
    "from sklearn.decomposition import TruncatedSVD\n",
    "from sklearn.manifold import TSNE\n",
    "from sklearn.metrics.pairwise import pairwise_distances"
   ]
  },
  {
   "cell_type": "code",
   "execution_count": 149,
   "metadata": {},
   "outputs": [],
   "source": [
    "feat_mtx = Imputer(axis=1, missing_values=-1).fit_transform(feat_df.values)\n",
    "feat_mtx = StandardScaler().fit_transform(feat_mtx)"
   ]
  },
  {
   "cell_type": "code",
   "execution_count": 181,
   "metadata": {},
   "outputs": [],
   "source": [
    "svd = TruncatedSVD(n_components=7, algorithm='arpack') # deals with an issue where the randomized alg hangs\n",
    "svd.fit(feat_mtx)\n",
    "U, s, V = svd.transform(feat_mtx) / svd.singular_values_, \\\n",
    "        svd.singular_values_, \\\n",
    "        svd.components_.T"
   ]
  },
  {
   "cell_type": "code",
   "execution_count": 182,
   "metadata": {},
   "outputs": [],
   "source": [
    "U_norm = Normalizer().fit_transform(U)\n",
    "V_norm = Normalizer().fit_transform(V)\n",
    "U_df = pd.DataFrame(data=U_norm, index=feat_df.index)\n",
    "V_df = pd.DataFrame(data=V_norm, index=path_feat_names+motif_feat_names)"
   ]
  },
  {
   "cell_type": "code",
   "execution_count": null,
   "metadata": {},
   "outputs": [],
   "source": []
  },
  {
   "cell_type": "markdown",
   "metadata": {},
   "source": [
    "As in the paper, for further interpretability we can consider embeddings of _communities_ (subreddits, standing for Facebook pages) in terms of the discussions they foster, by averaging the embeddings of all threads in a particular subreddit."
   ]
  },
  {
   "cell_type": "code",
   "execution_count": 183,
   "metadata": {},
   "outputs": [],
   "source": [
    "# threads = corpus.utterance_threads(prefix_len=10, include_root=False)"
   ]
  },
  {
   "cell_type": "code",
   "execution_count": 184,
   "metadata": {},
   "outputs": [],
   "source": [
    "# def get_subreddit(threads, thread_id):\n",
    "#     return threads[thread_id][thread_id].meta[\"subreddit\"]"
   ]
  },
  {
   "cell_type": "code",
   "execution_count": 185,
   "metadata": {},
   "outputs": [],
   "source": [
    "subreddits = [get_subreddit(threads, thread_id) for thread_id in threads]\n",
    "U_df['subreddit'] = subreddits"
   ]
  },
  {
   "cell_type": "code",
   "execution_count": 186,
   "metadata": {},
   "outputs": [],
   "source": [
    "subreddit_means = U_df.groupby('subreddit').mean()\n",
    "subreddit_df = pd.DataFrame(\n",
    "        data=Normalizer().fit_transform(subreddit_means.values),\n",
    "        index = subreddit_means.index\n",
    "    )"
   ]
  },
  {
   "cell_type": "code",
   "execution_count": null,
   "metadata": {},
   "outputs": [],
   "source": []
  },
  {
   "cell_type": "markdown",
   "metadata": {},
   "source": [
    "First, let's give a rough overview of the space we've sketched out through this procedure, by visualizing the subreddit embeddings using the TSNE algorithm."
   ]
  },
  {
   "cell_type": "code",
   "execution_count": 187,
   "metadata": {},
   "outputs": [],
   "source": [
    "tsne = TSNE(random_state=2018)\n",
    "tsne_df = pd.DataFrame(data=tsne.fit_transform(subreddit_df.values),\n",
    "                      index=subreddit_df.index)"
   ]
  },
  {
   "cell_type": "code",
   "execution_count": 188,
   "metadata": {
    "scrolled": false
   },
   "outputs": [
    {
     "data": {
      "image/png": "[encoded data removed]",
      "text/plain": [
       "<Figure size 720x720 with 1 Axes>"
      ]
     },
     "metadata": {
      "needs_background": "light"
     },
     "output_type": "display_data"
    }
   ],
   "source": [
    "plt.figure(figsize=(10,10))\n",
    "plt.scatter(tsne_df[0].values, tsne_df[1].values)\n",
    "for i, txt in enumerate(tsne_df.index):\n",
    "    plt.annotate(txt, (tsne_df.values[i,0], tsne_df.values[i,1]))\n",
    "plt.show()"
   ]
  },
  {
   "cell_type": "markdown",
   "metadata": {},
   "source": [
    "Looking across this plot, we can spot a few interpretable-looking groupings:"
   ]
  },
  {
   "cell_type": "code",
   "execution_count": 189,
   "metadata": {},
   "outputs": [
    {
     "data": {
      "text/html": [
       "<div>\n",
       "<style scoped>\n",
       "    .dataframe tbody tr th:only-of-type {\n",
       "        vertical-align: middle;\n",
       "    }\n",
       "\n",
       "    .dataframe tbody tr th {\n",
       "        vertical-align: top;\n",
       "    }\n",
       "\n",
       "    .dataframe thead th {\n",
       "        text-align: right;\n",
       "    }\n",
       "</style>\n",
       "<table border=\"1\" class=\"dataframe\">\n",
       "  <thead>\n",
       "    <tr style=\"text-align: right;\">\n",
       "      <th></th>\n",
       "      <th>0</th>\n",
       "      <th>1</th>\n",
       "      <th>2</th>\n",
       "      <th>3</th>\n",
       "      <th>4</th>\n",
       "      <th>5</th>\n",
       "      <th>6</th>\n",
       "    </tr>\n",
       "    <tr>\n",
       "      <th>subreddit</th>\n",
       "      <th></th>\n",
       "      <th></th>\n",
       "      <th></th>\n",
       "      <th></th>\n",
       "      <th></th>\n",
       "      <th></th>\n",
       "      <th></th>\n",
       "    </tr>\n",
       "  </thead>\n",
       "  <tbody>\n",
       "    <tr>\n",
       "      <td>2007scape</td>\n",
       "      <td>0.009677</td>\n",
       "      <td>-0.125816</td>\n",
       "      <td>0.106853</td>\n",
       "      <td>-0.032339</td>\n",
       "      <td>0.001569</td>\n",
       "      <td>0.071194</td>\n",
       "      <td>0.048698</td>\n",
       "    </tr>\n",
       "    <tr>\n",
       "      <td>AmItheAsshole</td>\n",
       "      <td>-0.321107</td>\n",
       "      <td>-0.045283</td>\n",
       "      <td>-0.077125</td>\n",
       "      <td>0.075739</td>\n",
       "      <td>-0.026407</td>\n",
       "      <td>0.092574</td>\n",
       "      <td>0.060292</td>\n",
       "    </tr>\n",
       "    <tr>\n",
       "      <td>Android</td>\n",
       "      <td>0.027529</td>\n",
       "      <td>-0.110033</td>\n",
       "      <td>0.168889</td>\n",
       "      <td>-0.093388</td>\n",
       "      <td>-0.016305</td>\n",
       "      <td>0.044183</td>\n",
       "      <td>0.031760</td>\n",
       "    </tr>\n",
       "    <tr>\n",
       "      <td>AskMen</td>\n",
       "      <td>-0.060416</td>\n",
       "      <td>-0.118159</td>\n",
       "      <td>-0.036403</td>\n",
       "      <td>-0.099249</td>\n",
       "      <td>-0.000020</td>\n",
       "      <td>0.019869</td>\n",
       "      <td>0.011297</td>\n",
       "    </tr>\n",
       "    <tr>\n",
       "      <td>AskTrumpSupporters</td>\n",
       "      <td>-0.443250</td>\n",
       "      <td>-0.083931</td>\n",
       "      <td>-0.293804</td>\n",
       "      <td>-0.124651</td>\n",
       "      <td>-0.015080</td>\n",
       "      <td>0.078425</td>\n",
       "      <td>0.068742</td>\n",
       "    </tr>\n",
       "    <tr>\n",
       "      <td>...</td>\n",
       "      <td>...</td>\n",
       "      <td>...</td>\n",
       "      <td>...</td>\n",
       "      <td>...</td>\n",
       "      <td>...</td>\n",
       "      <td>...</td>\n",
       "      <td>...</td>\n",
       "    </tr>\n",
       "    <tr>\n",
       "      <td>trees</td>\n",
       "      <td>-0.073376</td>\n",
       "      <td>-0.092325</td>\n",
       "      <td>0.005078</td>\n",
       "      <td>0.025895</td>\n",
       "      <td>-0.019246</td>\n",
       "      <td>0.074087</td>\n",
       "      <td>0.053452</td>\n",
       "    </tr>\n",
       "    <tr>\n",
       "      <td>unitedkingdom</td>\n",
       "      <td>-0.073967</td>\n",
       "      <td>-0.084785</td>\n",
       "      <td>0.125678</td>\n",
       "      <td>-0.076469</td>\n",
       "      <td>-0.009954</td>\n",
       "      <td>0.049460</td>\n",
       "      <td>0.039077</td>\n",
       "    </tr>\n",
       "    <tr>\n",
       "      <td>videos</td>\n",
       "      <td>0.252048</td>\n",
       "      <td>-0.131980</td>\n",
       "      <td>0.082494</td>\n",
       "      <td>-0.080643</td>\n",
       "      <td>-0.002018</td>\n",
       "      <td>0.030329</td>\n",
       "      <td>0.018853</td>\n",
       "    </tr>\n",
       "    <tr>\n",
       "      <td>worldnews</td>\n",
       "      <td>-0.034330</td>\n",
       "      <td>-0.099141</td>\n",
       "      <td>0.101309</td>\n",
       "      <td>-0.038273</td>\n",
       "      <td>-0.020878</td>\n",
       "      <td>0.078216</td>\n",
       "      <td>0.048942</td>\n",
       "    </tr>\n",
       "    <tr>\n",
       "      <td>wow</td>\n",
       "      <td>0.083034</td>\n",
       "      <td>-0.125689</td>\n",
       "      <td>0.111693</td>\n",
       "      <td>-0.077386</td>\n",
       "      <td>0.010209</td>\n",
       "      <td>0.050846</td>\n",
       "      <td>0.036119</td>\n",
       "    </tr>\n",
       "  </tbody>\n",
       "</table>\n",
       "<p>100 rows × 7 columns</p>\n",
       "</div>"
      ],
      "text/plain": [
       "                           0         1         2         3         4  \\\n",
       "subreddit                                                              \n",
       "2007scape           0.009677 -0.125816  0.106853 -0.032339  0.001569   \n",
       "AmItheAsshole      -0.321107 -0.045283 -0.077125  0.075739 -0.026407   \n",
       "Android             0.027529 -0.110033  0.168889 -0.093388 -0.016305   \n",
       "AskMen             -0.060416 -0.118159 -0.036403 -0.099249 -0.000020   \n",
       "AskTrumpSupporters -0.443250 -0.083931 -0.293804 -0.124651 -0.015080   \n",
       "...                      ...       ...       ...       ...       ...   \n",
       "trees              -0.073376 -0.092325  0.005078  0.025895 -0.019246   \n",
       "unitedkingdom      -0.073967 -0.084785  0.125678 -0.076469 -0.009954   \n",
       "videos              0.252048 -0.131980  0.082494 -0.080643 -0.002018   \n",
       "worldnews          -0.034330 -0.099141  0.101309 -0.038273 -0.020878   \n",
       "wow                 0.083034 -0.125689  0.111693 -0.077386  0.010209   \n",
       "\n",
       "                           5         6  \n",
       "subreddit                               \n",
       "2007scape           0.071194  0.048698  \n",
       "AmItheAsshole       0.092574  0.060292  \n",
       "Android             0.044183  0.031760  \n",
       "AskMen              0.019869  0.011297  \n",
       "AskTrumpSupporters  0.078425  0.068742  \n",
       "...                      ...       ...  \n",
       "trees               0.074087  0.053452  \n",
       "unitedkingdom       0.049460  0.039077  \n",
       "videos              0.030329  0.018853  \n",
       "worldnews           0.078216  0.048942  \n",
       "wow                 0.050846  0.036119  \n",
       "\n",
       "[100 rows x 7 columns]"
      ]
     },
     "execution_count": 189,
     "metadata": {},
     "output_type": "execute_result"
    }
   ],
   "source": [
    "subreddit_means"
   ]
  },
  {
   "cell_type": "code",
   "execution_count": 190,
   "metadata": {},
   "outputs": [
    {
     "data": {
      "text/plain": [
       "Index(['2007scape', 'AmItheAsshole', 'Android', 'AskMen', 'AskTrumpSupporters',\n",
       "       'AskWomen', 'Bitcoin', 'CFB', 'CanadaPolitics', 'Christianity',\n",
       "       'Conservative', 'DebateReligion', 'Diablo', 'DotA2', 'Drugs',\n",
       "       'Economics', 'Fitness', 'Frugal', 'Games', 'Guildwars2', 'IAmA',\n",
       "       'Libertarian', 'MGTOW', 'MMA', 'MakeupAddiction', 'MaliciousCompliance',\n",
       "       'Marvel', 'MensRights', 'Minecraft', 'Music', 'NoFap', 'POLITIC',\n",
       "       'Python', 'Random_Acts_Of_Amazon', 'ShingekiNoKyojin', 'SquaredCircle',\n",
       "       'TheRedPill', 'The_Donald', 'TrueReddit', 'TwoXChromosomes', 'WTF',\n",
       "       'anime', 'antiMLM', 'apple', 'askscience', 'asoiaf', 'atheism',\n",
       "       'australia', 'aww', 'baseball', 'books', 'buildapc', 'business',\n",
       "       'canada', 'changemyview', 'conspiracy', 'cringepics',\n",
       "       'electronic_cigarette', 'explainlikeimfive', 'funny', 'gifs', 'guns',\n",
       "       'harrypotter', 'hockey', 'leagueoflegends', 'lgbt', 'lotr', 'magicTCG',\n",
       "       'mildlyinfuriating', 'movies', 'nba', 'news', 'nfl', 'philosophy',\n",
       "       'photography', 'pics', 'pokemon', 'pokemontrades', 'politics',\n",
       "       'programming', 'raisedbynarcissists', 'relationship_advice',\n",
       "       'relationships', 'science', 'sex', 'singapore', 'skyrim', 'soccer',\n",
       "       'socialism', 'starcraft', 'technology', 'techsupport', 'teenagers',\n",
       "       'tifu', 'toronto', 'trees', 'unitedkingdom', 'videos', 'worldnews',\n",
       "       'wow'],\n",
       "      dtype='object', name='subreddit')"
      ]
     },
     "execution_count": 190,
     "metadata": {},
     "output_type": "execute_result"
    }
   ],
   "source": [
    "subreddit_means.index"
   ]
  },
  {
   "cell_type": "code",
   "execution_count": 191,
   "metadata": {},
   "outputs": [
    {
     "data": {
      "image/png": "[encoded data removed]",
      "text/plain": [
       "<Figure size 576x576 with 1 Axes>"
      ]
     },
     "metadata": {
      "needs_background": "light"
     },
     "output_type": "display_data"
    }
   ],
   "source": [
    "plt.figure(figsize=(8,8))\n",
    "games = [\"Guildwars2\", \"2007scape\", \"skyrim\", \"wow\", \"pokemon\", \"DotA2\", \"starcraft\", \"Diablo\", \"leagueoflegends\", \"Minecraft\", \"Games\"]\n",
    "sports = [\"baseball\", \"CFB\", \"hockey\", \"MMA\", \"nba\", \"nfl\", \"soccer\"]\n",
    "tech = [\"Android\", \"apple\", \"technology\", \"programming\"]\n",
    "reaction_bait = [\"WTF\", \"pics\", \"gifs\", \"aww\", \"funny\", \"todayilearned\", \"AdviceAnimals\", \"mildlyinfuriating\"]\n",
    "relationships = [\"TwoXChromosomes\", \"AskMen\", \"AskWomen\", \"sex\", \"AmItheAsshole\", \"relationships\", \"raisedbynarcissists\", \"relationship_advice\"]\n",
    "countries = [\"singapore\", \"canada\", \"unitedkingdom\", \"australia\", \"toronto\"]\n",
    "plt.scatter(tsne_df[0].values, tsne_df[1].values, color=\"#dddddd\")\n",
    "plt.scatter(tsne_df[0].values, tsne_df[1].values, color=[\n",
    "    \"green\" if l in games else\n",
    "    \"cyan\" if l in tech else\n",
    "    \"purple\" if l in relationships else\n",
    "    \"red\" if l in reaction_bait else\n",
    "    \"blue\" if l in sports else\n",
    "    \"orange\" if l in countries else\n",
    "    \"#00000000\"\n",
    "    for l in tsne_df.index])\n",
    "plt.show()"
   ]
  },
  {
   "cell_type": "markdown",
   "metadata": {},
   "source": [
    "Some observations: it's interesting that two of the gaming subreddits (green points): leagueoflegends and Games, lie so close to the rest of the sports (blue points). Perhaps because of e-sports status?\n",
    "\n",
    "the_donald (cyan) lies close to the rest of the reaction-bait subreddits."
   ]
  },
  {
   "cell_type": "markdown",
   "metadata": {},
   "source": [
    "For instance, video games (e.g., tf2, DotA2; red) tend to group together, along with buy-sell subreddits (e.g., tf2trade, Dota2Trade, yellow), subreddits related to relationships (e.g., AskWomen, relationship_advice; green) and large default-subreddit hubs for sharing random links (e.g., pics, AskReddit; purple)."
   ]
  },
  {
   "cell_type": "markdown",
   "metadata": {},
   "source": [
    "There may be other interesting groupings that you may spot as well -- for instance, a vaguely right-wing MensRights cluster (with Libertarian, guns); a rather intriguing cluster consisting of politics, sex, business, etc."
   ]
  },
  {
   "cell_type": "markdown",
   "metadata": {},
   "source": [
    "Some topical groups are more diffuse -- for instance, sports-based subreddits (blue). Perhaps this is a limitation of our representation, or that these subreddits actually foster very different interactional dynamics."
   ]
  },
  {
   "cell_type": "code",
   "execution_count": null,
   "metadata": {},
   "outputs": [],
   "source": []
  },
  {
   "cell_type": "code",
   "execution_count": null,
   "metadata": {},
   "outputs": [],
   "source": []
  },
  {
   "cell_type": "markdown",
   "metadata": {},
   "source": [
    "Another way to delve into these groupings is to look at nearest neighbors of subreddits, in terms of the embedding:"
   ]
  },
  {
   "cell_type": "code",
   "execution_count": 28,
   "metadata": {
    "scrolled": true
   },
   "outputs": [],
   "source": [
    "dists = pairwise_distances(subreddit_df.values, metric='cosine')\n",
    "flat_dists = np.ravel(dists)\n",
    "idx1, idx2 = np.unravel_index(np.arange(len(flat_dists)), dists.shape)\n",
    "pairwise_dist_df = pd.DataFrame.from_dict({'p1': subreddit_df.index[idx1],\n",
    "                                           'p2': subreddit_df.index[idx2],\n",
    "                                           'dist': flat_dists},\n",
    "                                           orient='columns')"
   ]
  },
  {
   "cell_type": "code",
   "execution_count": 29,
   "metadata": {},
   "outputs": [],
   "source": [
    "def print_nearest_neighbors(pairwise_dist_df, \n",
    "                           test_subreddits=[],\n",
    "                           top_N=10):\n",
    "    for subreddit in test_subreddits:\n",
    "        subset_df = pairwise_dist_df[(pairwise_dist_df.p1 == subreddit)\n",
    "                                 & (pairwise_dist_df.p2 != subreddit)]\n",
    "        print(subreddit)\n",
    "        print(subset_df.sort_values('dist')[['p2', 'dist']].head(top_N))\n",
    "        print()"
   ]
  },
  {
   "cell_type": "code",
   "execution_count": 30,
   "metadata": {
    "scrolled": true
   },
   "outputs": [
    {
     "name": "stdout",
     "output_type": "stream",
     "text": [
      "apple\n",
      "                 p2      dist\n",
      "4398      worldnews  0.009788\n",
      "4396  unitedkingdom  0.010915\n",
      "4353         canada  0.014906\n",
      "4386         skyrim  0.038536\n",
      "4389      starcraft  0.040745\n",
      "4312         Diablo  0.044218\n",
      "4319     Guildwars2  0.044979\n",
      "4347      australia  0.051188\n",
      "4310   Conservative  0.053122\n",
      "4317         Frugal  0.063764\n",
      "\n",
      "politics\n",
      "                     p2      dist\n",
      "7863             hockey  0.013010\n",
      "7869             movies  0.024729\n",
      "7872                nfl  0.026157\n",
      "7868  mildlyinfuriating  0.026545\n",
      "7875               pics  0.032297\n",
      "7829              Music  0.036841\n",
      "7893               tifu  0.050870\n",
      "7820               IAmA  0.052660\n",
      "7807                CFB  0.056863\n",
      "7823                MMA  0.079316\n",
      "\n",
      "leagueoflegends\n",
      "                 p2      dist\n",
      "6456     cringepics  0.003340\n",
      "6449       baseball  0.006105\n",
      "6423            MMA  0.006564\n",
      "6413          DotA2  0.007741\n",
      "6418          Games  0.008393\n",
      "6420           IAmA  0.014105\n",
      "6435  SquaredCircle  0.014959\n",
      "6497         videos  0.016360\n",
      "6470            nba  0.022132\n",
      "6493           tifu  0.028201\n",
      "\n",
      "AskWomen\n",
      "                   p2      dist\n",
      "582     relationships  0.006935\n",
      "503            AskMen  0.025681\n",
      "522             MGTOW  0.075045\n",
      "541             anime  0.091801\n",
      "516           Fitness  0.092795\n",
      "534  ShingekiNoKyojin  0.101666\n",
      "585         singapore  0.108451\n",
      "595             trees  0.129591\n",
      "550             books  0.133487\n",
      "546           atheism  0.135466\n",
      "\n",
      "Music\n",
      "                     p2      dist\n",
      "2975               pics  0.003645\n",
      "2968  mildlyinfuriating  0.005979\n",
      "2993               tifu  0.007330\n",
      "2969             movies  0.008025\n",
      "2972                nfl  0.011729\n",
      "2935      SquaredCircle  0.016808\n",
      "2920               IAmA  0.018458\n",
      "2959              funny  0.023373\n",
      "2963             hockey  0.023698\n",
      "2997             videos  0.027989\n",
      "\n",
      "pics\n",
      "                     p2      dist\n",
      "7568  mildlyinfuriating  0.003454\n",
      "7529              Music  0.003645\n",
      "7593               tifu  0.005315\n",
      "7569             movies  0.011586\n",
      "7572                nfl  0.014747\n",
      "7520               IAmA  0.019469\n",
      "7535      SquaredCircle  0.023158\n",
      "7563             hockey  0.026330\n",
      "7559              funny  0.031652\n",
      "7578           politics  0.032297\n",
      "\n",
      "australia\n",
      "              p2      dist\n",
      "4794     toronto  0.016731\n",
      "4798   worldnews  0.021267\n",
      "4744  askscience  0.023938\n",
      "4789   starcraft  0.032094\n",
      "4700   2007scape  0.033387\n",
      "4702     Android  0.040507\n",
      "4752    business  0.048248\n",
      "4743       apple  0.051188\n",
      "4790  technology  0.059794\n",
      "4753      canada  0.060349\n",
      "\n",
      "Random_Acts_Of_Amazon\n",
      "                       p2      dist\n",
      "3304   AskTrumpSupporters  0.012268\n",
      "3392            teenagers  0.014887\n",
      "3380  raisedbynarcissists  0.023830\n",
      "3351             buildapc  0.028177\n",
      "3381  relationship_advice  0.030112\n",
      "3384                  sex  0.032665\n",
      "3311       DebateReligion  0.033746\n",
      "3331              POLITIC  0.036501\n",
      "3377        pokemontrades  0.037074\n",
      "3391          techsupport  0.037314\n",
      "\n",
      "Bitcoin\n",
      "                   p2      dist\n",
      "665              lgbt  0.006593\n",
      "639   TwoXChromosomes  0.018929\n",
      "632            Python  0.019511\n",
      "646           atheism  0.020766\n",
      "673        philosophy  0.028847\n",
      "634  ShingekiNoKyojin  0.029506\n",
      "661              guns  0.034151\n",
      "624   MakeupAddiction  0.044175\n",
      "636        TheRedPill  0.044273\n",
      "688         socialism  0.046715\n",
      "\n",
      "MensRights\n",
      "                   p2      dist\n",
      "2701    AmItheAsshole  0.003278\n",
      "2755       conspiracy  0.005531\n",
      "2761             guns  0.005775\n",
      "2714            Drugs  0.008388\n",
      "2739  TwoXChromosomes  0.014751\n",
      "2773       philosophy  0.016238\n",
      "2721      Libertarian  0.022130\n",
      "2788        socialism  0.022912\n",
      "2732           Python  0.027407\n",
      "2709     Christianity  0.028955\n",
      "\n"
     ]
    }
   ],
   "source": [
    "print_nearest_neighbors(pairwise_dist_df, ['apple', 'politics', 'leagueoflegends',\n",
    "                                          'AskWomen', 'Music', 'pics',\n",
    "                                          'australia', 'Random_Acts_Of_Amazon',\n",
    "                                          'Bitcoin', 'MensRights'])"
   ]
  },
  {
   "cell_type": "code",
   "execution_count": null,
   "metadata": {},
   "outputs": [],
   "source": []
  },
  {
   "cell_type": "markdown",
   "metadata": {},
   "source": [
    "We can also try to interpret each dimension of the embedding -- roughly speaking the threads, features and subreddits with extremal values along one dimension could be seen as characterizing a particular \"type\" of discussion, in terms of the discussion structure."
   ]
  },
  {
   "cell_type": "code",
   "execution_count": 31,
   "metadata": {},
   "outputs": [],
   "source": [
    "from IPython.display import display"
   ]
  },
  {
   "cell_type": "code",
   "execution_count": 32,
   "metadata": {},
   "outputs": [],
   "source": [
    "def display_dimension(dim, ascending=True, n=5):\n",
    "    top_threads = U_df.sort_values(dim, ascending=ascending).head(n)\n",
    "    display(top_threads)\n",
    "    display(V_df.sort_values(dim, ascending=ascending).head(n))\n",
    "    display(subreddit_df.sort_values(dim, ascending=ascending).head(n))\n",
    "    return top_threads.index"
   ]
  },
  {
   "cell_type": "code",
   "execution_count": null,
   "metadata": {},
   "outputs": [],
   "source": []
  },
  {
   "cell_type": "markdown",
   "metadata": {
    "collapsed": true
   },
   "source": [
    "For instance, the first latent dimension divides the space of Reddit discussions between focused dialogues involving 2 people who repeatedly interact, and \"expansionary\" threads involving multiple people who generally only engage once (as with the corresponding dimension discussed in the paper, this echoes the contrast explored in papers such as Backstrom et. al, 2013). At the subreddit level, we see a divide between subreddits that are selling things (perhaps the dialogues consist of a buyer and a seller) and large default link-sharing subreddits like AskReddit and pics."
   ]
  },
  {
   "cell_type": "code",
   "execution_count": null,
   "metadata": {},
   "outputs": [],
   "source": [
    "top_threads = display_dimension(0, n=10)"
   ]
  },
  {
   "cell_type": "code",
   "execution_count": null,
   "metadata": {},
   "outputs": [],
   "source": []
  }
 ],
 "metadata": {
  "kernelspec": {
   "display_name": "Python 3",
   "language": "python",
   "name": "python3"
  },
  "language_info": {
   "codemirror_mode": {
    "name": "ipython",
    "version": 3
   },
   "file_extension": ".py",
   "mimetype": "text/x-python",
   "name": "python",
   "nbconvert_exporter": "python",
   "pygments_lexer": "ipython3",
   "version": "3.7.4"
  }
 },
 "nbformat": 4,
 "nbformat_minor": 2
}
