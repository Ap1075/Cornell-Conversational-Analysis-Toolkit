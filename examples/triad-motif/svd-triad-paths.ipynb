{
 "cells": [
  {
   "cell_type": "markdown",
   "metadata": {},
   "source": [
    "This notebook provides examples of how to call the hyperconvo functions from Convokit and perform analyses similar to the ones presented in the corresponding paper (http://www.cs.cornell.edu/~cristian/Patterns_of_participant_interactions.html), which describes the hypergraph methodology for modeling and analyzing online public discussions.\n",
    "\n",
    "Note that due to limitations in what data we can access and distribute, the beta version of the hypergraph methodology presented here currently supports less functionality:\n",
    "\n",
    "* Instead of Facebook data, we release a dataset of discussions from Reddit (the 1000 most recent threads, with at least 10 comments, from 100 highly active subreddits -- more details in the corresponding readme here: https://github.com/CornellNLP/Cornell-Conversational-Analysis-Toolkit/tree/master/datasets/reddit-corpus). For demonstration purposes, we here use a small subset of this dataset (\"reddit-corpus-small\") containing 100 threads per subreddit.\n",
    "* Since Reddit does not provide information on who reacted to (i.e., upvoted) each comment, we are presently unable to support reaction-edges in the hypergraph. As such, we can only compute features over in/outdegree distributions of _reply_-edges, and the feature set derived from motifs in the hypergraph is limited to counts and binary indicators or whether or not a motif is present. We will work  towards supporting reactions as well."
   ]
  },
  {
   "cell_type": "code",
   "execution_count": 1,
   "metadata": {},
   "outputs": [
    {
     "data": {
      "text/plain": [
       "'/home/caleb/Cornell-Conversational-Analysis-Toolkit'"
      ]
     },
     "execution_count": 1,
     "metadata": {},
     "output_type": "execute_result"
    }
   ],
   "source": [
    "import os\n",
    "os.getcwd()\n",
    "os.chdir(\"..\")\n",
    "os.chdir(\"..\")\n",
    "os.getcwd()"
   ]
  },
  {
   "cell_type": "code",
   "execution_count": 2,
   "metadata": {},
   "outputs": [],
   "source": [
    "import convokit"
   ]
  },
  {
   "cell_type": "code",
   "execution_count": 4,
   "metadata": {},
   "outputs": [],
   "source": [
    "os.chdir('../../../sauna/reddit_201810_raw/')"
   ]
  },
  {
   "cell_type": "code",
   "execution_count": 6,
   "metadata": {},
   "outputs": [],
   "source": [
    "os.chdir('reddit-corpus-2/reddit-corpus')"
   ]
  },
  {
   "cell_type": "code",
   "execution_count": 7,
   "metadata": {},
   "outputs": [
    {
     "data": {
      "text/plain": [
       "['reddit-corpus', 'hyperconvo_feats.p']"
      ]
     },
     "execution_count": 7,
     "metadata": {},
     "output_type": "execute_result"
    }
   ],
   "source": [
    "os.listdir()"
   ]
  },
  {
   "cell_type": "code",
   "execution_count": 8,
   "metadata": {},
   "outputs": [],
   "source": [
    "%matplotlib inline\n",
    "import matplotlib.pyplot as plt\n",
    "import numpy as np\n",
    "import pandas as pd\n",
    "import warnings\n",
    "warnings.filterwarnings('ignore')"
   ]
  },
  {
   "cell_type": "markdown",
   "metadata": {},
   "source": [
    "First we download the reddit corpus:"
   ]
  },
  {
   "cell_type": "code",
   "execution_count": 9,
   "metadata": {},
   "outputs": [],
   "source": [
    "corpus = convokit.Corpus(filename='reddit-corpus')"
   ]
  },
  {
   "cell_type": "code",
   "execution_count": 10,
   "metadata": {},
   "outputs": [],
   "source": [
    "hc = convokit.HyperConvo(prefix_len=10, min_thread_len=10, include_root=False)"
   ]
  },
  {
   "cell_type": "code",
   "execution_count": 11,
   "metadata": {},
   "outputs": [],
   "source": [
    "motif_path_stats = hc.retrieve_motif_pathway_stats(corpus)"
   ]
  },
  {
   "cell_type": "code",
   "execution_count": 14,
   "metadata": {},
   "outputs": [],
   "source": [
    "feat_df = pd.DataFrame(data=0, index=motif_path_stats.keys(), columns=convokit.TriadMotif.paths_list())"
   ]
  },
  {
   "cell_type": "code",
   "execution_count": 15,
   "metadata": {},
   "outputs": [],
   "source": [
    "for thread_id, motif_path_stats_dict in motif_path_stats.items():\n",
    "    for motif_path, val in motif_path_stats_dict.items():\n",
    "        feat_df.loc[thread_id][motif_path] = val"
   ]
  },
  {
   "cell_type": "code",
   "execution_count": 16,
   "metadata": {},
   "outputs": [],
   "source": [
    "from sklearn.preprocessing import Imputer, Normalizer, StandardScaler\n",
    "from sklearn.decomposition import TruncatedSVD\n",
    "from sklearn.manifold import TSNE\n",
    "from sklearn.metrics.pairwise import pairwise_distances"
   ]
  },
  {
   "cell_type": "code",
   "execution_count": 17,
   "metadata": {},
   "outputs": [],
   "source": [
    "feat_mtx = Imputer(axis=1, missing_values=-1).fit_transform(feat_df.values)\n",
    "feat_mtx = StandardScaler().fit_transform(feat_mtx)"
   ]
  },
  {
   "cell_type": "code",
   "execution_count": 105,
   "metadata": {},
   "outputs": [],
   "source": [
    "svd = TruncatedSVD(n_components=7, algorithm='arpack') # deals with an issue where the randomized alg hangs\n",
    "svd.fit(feat_mtx)\n",
    "U, s, V = svd.transform(feat_mtx) / svd.singular_values_, \\\n",
    "        svd.singular_values_, \\\n",
    "        svd.components_.T"
   ]
  },
  {
   "cell_type": "code",
   "execution_count": 106,
   "metadata": {},
   "outputs": [],
   "source": [
    "U_norm = Normalizer().fit_transform(U)\n",
    "V_norm = Normalizer().fit_transform(V)\n",
    "U_df = pd.DataFrame(data=U_norm, index=feat_df.index)\n",
    "V_df = pd.DataFrame(data=V_norm, index=convokit.TriadMotif.paths_list())"
   ]
  },
  {
   "cell_type": "code",
   "execution_count": null,
   "metadata": {},
   "outputs": [],
   "source": []
  },
  {
   "cell_type": "markdown",
   "metadata": {},
   "source": [
    "As in the paper, for further interpretability we can consider embeddings of _communities_ (subreddits, standing for Facebook pages) in terms of the discussions they foster, by averaging the embeddings of all threads in a particular subreddit."
   ]
  },
  {
   "cell_type": "code",
   "execution_count": 61,
   "metadata": {},
   "outputs": [],
   "source": [
    "threads = corpus.utterance_threads(prefix_len=10, include_root=False)"
   ]
  },
  {
   "cell_type": "code",
   "execution_count": 21,
   "metadata": {},
   "outputs": [],
   "source": [
    "def get_subreddit(threads, thread_id):\n",
    "    return threads[thread_id][thread_id].meta[\"subreddit\"]"
   ]
  },
  {
   "cell_type": "code",
   "execution_count": 107,
   "metadata": {},
   "outputs": [],
   "source": [
    "subreddits = [get_subreddit(threads, thread_id) for thread_id in threads]\n",
    "U_df['subreddit'] = subreddits"
   ]
  },
  {
   "cell_type": "code",
   "execution_count": 108,
   "metadata": {},
   "outputs": [],
   "source": [
    "subreddit_means = U_df.groupby('subreddit').mean()\n",
    "subreddit_df = pd.DataFrame(\n",
    "        data=Normalizer().fit_transform(subreddit_means.values),\n",
    "        index = subreddit_means.index\n",
    "    )"
   ]
  },
  {
   "cell_type": "code",
   "execution_count": null,
   "metadata": {},
   "outputs": [],
   "source": []
  },
  {
   "cell_type": "markdown",
   "metadata": {},
   "source": [
    "First, let's give a rough overview of the space we've sketched out through this procedure, by visualizing the subreddit embeddings using the TSNE algorithm."
   ]
  },
  {
   "cell_type": "code",
   "execution_count": 109,
   "metadata": {},
   "outputs": [],
   "source": [
    "tsne = TSNE(random_state=2018)\n",
    "tsne_df = pd.DataFrame(data=tsne.fit_transform(subreddit_df.values),\n",
    "                      index=subreddit_df.index)"
   ]
  },
  {
   "cell_type": "code",
   "execution_count": 110,
   "metadata": {
    "scrolled": false
   },
   "outputs": [
    {
     "data": {
      "image/png": "[encoded data removed]",
      "text/plain": [
       "<Figure size 720x720 with 1 Axes>"
      ]
     },
     "metadata": {
      "needs_background": "light"
     },
     "output_type": "display_data"
    }
   ],
   "source": [
    "plt.figure(figsize=(10,10))\n",
    "plt.scatter(tsne_df[0].values, tsne_df[1].values)\n",
    "for i, txt in enumerate(tsne_df.index):\n",
    "    plt.annotate(txt, (tsne_df.values[i,0], tsne_df.values[i,1]))\n",
    "plt.show()"
   ]
  },
  {
   "cell_type": "markdown",
   "metadata": {},
   "source": [
    "Looking across this plot, we can spot a few interpretable-looking groupings:"
   ]
  },
  {
   "cell_type": "code",
   "execution_count": 111,
   "metadata": {},
   "outputs": [
    {
     "data": {
      "text/html": [
       "<div>\n",
       "<style scoped>\n",
       "    .dataframe tbody tr th:only-of-type {\n",
       "        vertical-align: middle;\n",
       "    }\n",
       "\n",
       "    .dataframe tbody tr th {\n",
       "        vertical-align: top;\n",
       "    }\n",
       "\n",
       "    .dataframe thead th {\n",
       "        text-align: right;\n",
       "    }\n",
       "</style>\n",
       "<table border=\"1\" class=\"dataframe\">\n",
       "  <thead>\n",
       "    <tr style=\"text-align: right;\">\n",
       "      <th></th>\n",
       "      <th>0</th>\n",
       "      <th>1</th>\n",
       "      <th>2</th>\n",
       "      <th>3</th>\n",
       "      <th>4</th>\n",
       "      <th>5</th>\n",
       "      <th>6</th>\n",
       "    </tr>\n",
       "    <tr>\n",
       "      <th>subreddit</th>\n",
       "      <th></th>\n",
       "      <th></th>\n",
       "      <th></th>\n",
       "      <th></th>\n",
       "      <th></th>\n",
       "      <th></th>\n",
       "      <th></th>\n",
       "    </tr>\n",
       "  </thead>\n",
       "  <tbody>\n",
       "    <tr>\n",
       "      <td>2007scape</td>\n",
       "      <td>0.023563</td>\n",
       "      <td>-0.158664</td>\n",
       "      <td>0.074320</td>\n",
       "      <td>-0.080484</td>\n",
       "      <td>-0.013823</td>\n",
       "      <td>-0.050968</td>\n",
       "      <td>0.012633</td>\n",
       "    </tr>\n",
       "    <tr>\n",
       "      <td>AmItheAsshole</td>\n",
       "      <td>-0.355767</td>\n",
       "      <td>-0.080048</td>\n",
       "      <td>-0.114399</td>\n",
       "      <td>-0.067200</td>\n",
       "      <td>-0.043218</td>\n",
       "      <td>-0.099050</td>\n",
       "      <td>0.021706</td>\n",
       "    </tr>\n",
       "    <tr>\n",
       "      <td>Android</td>\n",
       "      <td>0.042964</td>\n",
       "      <td>-0.144047</td>\n",
       "      <td>0.139047</td>\n",
       "      <td>-0.097356</td>\n",
       "      <td>-0.041887</td>\n",
       "      <td>-0.068139</td>\n",
       "      <td>0.011760</td>\n",
       "    </tr>\n",
       "    <tr>\n",
       "      <td>AskMen</td>\n",
       "      <td>-0.059837</td>\n",
       "      <td>-0.154124</td>\n",
       "      <td>-0.100043</td>\n",
       "      <td>-0.074387</td>\n",
       "      <td>-0.029029</td>\n",
       "      <td>-0.075265</td>\n",
       "      <td>0.008142</td>\n",
       "    </tr>\n",
       "    <tr>\n",
       "      <td>AskTrumpSupporters</td>\n",
       "      <td>-0.467556</td>\n",
       "      <td>-0.110605</td>\n",
       "      <td>-0.377718</td>\n",
       "      <td>-0.139477</td>\n",
       "      <td>-0.065465</td>\n",
       "      <td>-0.130727</td>\n",
       "      <td>-0.005634</td>\n",
       "    </tr>\n",
       "    <tr>\n",
       "      <td>...</td>\n",
       "      <td>...</td>\n",
       "      <td>...</td>\n",
       "      <td>...</td>\n",
       "      <td>...</td>\n",
       "      <td>...</td>\n",
       "      <td>...</td>\n",
       "      <td>...</td>\n",
       "    </tr>\n",
       "    <tr>\n",
       "      <td>trees</td>\n",
       "      <td>-0.091144</td>\n",
       "      <td>-0.124343</td>\n",
       "      <td>-0.041069</td>\n",
       "      <td>-0.060322</td>\n",
       "      <td>-0.027800</td>\n",
       "      <td>-0.077963</td>\n",
       "      <td>0.011456</td>\n",
       "    </tr>\n",
       "    <tr>\n",
       "      <td>unitedkingdom</td>\n",
       "      <td>-0.072210</td>\n",
       "      <td>-0.114643</td>\n",
       "      <td>0.084875</td>\n",
       "      <td>-0.090418</td>\n",
       "      <td>-0.034551</td>\n",
       "      <td>-0.068318</td>\n",
       "      <td>0.005310</td>\n",
       "    </tr>\n",
       "    <tr>\n",
       "      <td>videos</td>\n",
       "      <td>0.276554</td>\n",
       "      <td>-0.163467</td>\n",
       "      <td>0.039127</td>\n",
       "      <td>-0.063673</td>\n",
       "      <td>-0.021178</td>\n",
       "      <td>-0.044017</td>\n",
       "      <td>0.004897</td>\n",
       "    </tr>\n",
       "    <tr>\n",
       "      <td>worldnews</td>\n",
       "      <td>-0.032793</td>\n",
       "      <td>-0.129869</td>\n",
       "      <td>0.064339</td>\n",
       "      <td>-0.098375</td>\n",
       "      <td>-0.044379</td>\n",
       "      <td>-0.066014</td>\n",
       "      <td>0.010156</td>\n",
       "    </tr>\n",
       "    <tr>\n",
       "      <td>wow</td>\n",
       "      <td>0.096668</td>\n",
       "      <td>-0.156229</td>\n",
       "      <td>0.069393</td>\n",
       "      <td>-0.077861</td>\n",
       "      <td>-0.015719</td>\n",
       "      <td>-0.062143</td>\n",
       "      <td>0.016468</td>\n",
       "    </tr>\n",
       "  </tbody>\n",
       "</table>\n",
       "<p>100 rows × 7 columns</p>\n",
       "</div>"
      ],
      "text/plain": [
       "                           0         1         2         3         4  \\\n",
       "subreddit                                                              \n",
       "2007scape           0.023563 -0.158664  0.074320 -0.080484 -0.013823   \n",
       "AmItheAsshole      -0.355767 -0.080048 -0.114399 -0.067200 -0.043218   \n",
       "Android             0.042964 -0.144047  0.139047 -0.097356 -0.041887   \n",
       "AskMen             -0.059837 -0.154124 -0.100043 -0.074387 -0.029029   \n",
       "AskTrumpSupporters -0.467556 -0.110605 -0.377718 -0.139477 -0.065465   \n",
       "...                      ...       ...       ...       ...       ...   \n",
       "trees              -0.091144 -0.124343 -0.041069 -0.060322 -0.027800   \n",
       "unitedkingdom      -0.072210 -0.114643  0.084875 -0.090418 -0.034551   \n",
       "videos              0.276554 -0.163467  0.039127 -0.063673 -0.021178   \n",
       "worldnews          -0.032793 -0.129869  0.064339 -0.098375 -0.044379   \n",
       "wow                 0.096668 -0.156229  0.069393 -0.077861 -0.015719   \n",
       "\n",
       "                           5         6  \n",
       "subreddit                               \n",
       "2007scape          -0.050968  0.012633  \n",
       "AmItheAsshole      -0.099050  0.021706  \n",
       "Android            -0.068139  0.011760  \n",
       "AskMen             -0.075265  0.008142  \n",
       "AskTrumpSupporters -0.130727 -0.005634  \n",
       "...                      ...       ...  \n",
       "trees              -0.077963  0.011456  \n",
       "unitedkingdom      -0.068318  0.005310  \n",
       "videos             -0.044017  0.004897  \n",
       "worldnews          -0.066014  0.010156  \n",
       "wow                -0.062143  0.016468  \n",
       "\n",
       "[100 rows x 7 columns]"
      ]
     },
     "execution_count": 111,
     "metadata": {},
     "output_type": "execute_result"
    }
   ],
   "source": [
    "subreddit_means"
   ]
  },
  {
   "cell_type": "code",
   "execution_count": 112,
   "metadata": {},
   "outputs": [
    {
     "data": {
      "text/plain": [
       "Index(['2007scape', 'AmItheAsshole', 'Android', 'AskMen', 'AskTrumpSupporters',\n",
       "       'AskWomen', 'Bitcoin', 'CFB', 'CanadaPolitics', 'Christianity',\n",
       "       'Conservative', 'DebateReligion', 'Diablo', 'DotA2', 'Drugs',\n",
       "       'Economics', 'Fitness', 'Frugal', 'Games', 'Guildwars2', 'IAmA',\n",
       "       'Libertarian', 'MGTOW', 'MMA', 'MakeupAddiction', 'MaliciousCompliance',\n",
       "       'Marvel', 'MensRights', 'Minecraft', 'Music', 'NoFap', 'POLITIC',\n",
       "       'Python', 'Random_Acts_Of_Amazon', 'ShingekiNoKyojin', 'SquaredCircle',\n",
       "       'TheRedPill', 'The_Donald', 'TrueReddit', 'TwoXChromosomes', 'WTF',\n",
       "       'anime', 'antiMLM', 'apple', 'askscience', 'asoiaf', 'atheism',\n",
       "       'australia', 'aww', 'baseball', 'books', 'buildapc', 'business',\n",
       "       'canada', 'changemyview', 'conspiracy', 'cringepics',\n",
       "       'electronic_cigarette', 'explainlikeimfive', 'funny', 'gifs', 'guns',\n",
       "       'harrypotter', 'hockey', 'leagueoflegends', 'lgbt', 'lotr', 'magicTCG',\n",
       "       'mildlyinfuriating', 'movies', 'nba', 'news', 'nfl', 'philosophy',\n",
       "       'photography', 'pics', 'pokemon', 'pokemontrades', 'politics',\n",
       "       'programming', 'raisedbynarcissists', 'relationship_advice',\n",
       "       'relationships', 'science', 'sex', 'singapore', 'skyrim', 'soccer',\n",
       "       'socialism', 'starcraft', 'technology', 'techsupport', 'teenagers',\n",
       "       'tifu', 'toronto', 'trees', 'unitedkingdom', 'videos', 'worldnews',\n",
       "       'wow'],\n",
       "      dtype='object', name='subreddit')"
      ]
     },
     "execution_count": 112,
     "metadata": {},
     "output_type": "execute_result"
    }
   ],
   "source": [
    "subreddit_means.index"
   ]
  },
  {
   "cell_type": "code",
   "execution_count": 121,
   "metadata": {},
   "outputs": [
    {
     "data": {
      "image/png": "[encoded data removed]",
      "text/plain": [
       "<Figure size 432x288 with 1 Axes>"
      ]
     },
     "metadata": {
      "needs_background": "light"
     },
     "output_type": "display_data"
    }
   ],
   "source": [
    "games = [\"Guildwars2\", \"2007scape\", \"skyrim\", \"wow\", \"pokemon\", \"DotA2\", \"starcraft\", \"Diablo\", \"leagueoflegends\", \"Minecraft\", \"Games\"]\n",
    "sports = [\"baseball\", \"CFB\", \"hockey\", \"MMA\", \"nba\", \"nfl\", \"soccer\"]\n",
    "tech = [\"Android\", \"apple\", \"technology\", \"techsupport\", \"programming\", \"buildapc\"]\n",
    "reaction_bait = [\"WTF\", \"pics\", \"gifs\", \"aww\", \"funny\", \"todayilearned\",\n",
    "                   \"AdviceAnimals\"]\n",
    "relationships = [\"AskMen\", \"AskWomen\", \"MGTOW\", \"sex\", \"AmItheAsshole\", \"relationships\", \"raisedbynarcissists\", \"relationship_advice\"]\n",
    "rightbias = [\"MensRights\", \"guns\", \"AskTrumpSupporters\", \"The_Donald\", \"Conservative\", \"TheRedPill\"]\n",
    "countries = [\"singapore\", \"canada\", \"unitedkingdom\", \"australia\", \"toronto\"]\n",
    "plt.scatter(tsne_df[0].values, tsne_df[1].values, color=\"#dddddd\")\n",
    "plt.scatter(tsne_df[0].values, tsne_df[1].values, color=[\n",
    "    \"cyan\" if l in rightbias else\n",
    "    \"green\" if l in games else\n",
    "    \"yellow\" if l in tech else\n",
    "    \"purple\" if l in relationships else\n",
    "    \"red\" if l in reaction_bait else\n",
    "    \"blue\" if l in sports else\n",
    "    \"pink\" if l in countries else\n",
    "    \"#00000000\"\n",
    "    for l in tsne_df.index])\n",
    "plt.show()"
   ]
  },
  {
   "cell_type": "markdown",
   "metadata": {},
   "source": [
    "Some observations: it's interesting that two of the gaming subreddits (green points): leagueoflegends and Games, lie so close to the rest of the sports (blue points). Perhaps because of e-sports status?\n",
    "\n",
    "the_donald (cyan) lies close to the rest of the reaction-bait subreddits."
   ]
  },
  {
   "cell_type": "markdown",
   "metadata": {},
   "source": [
    "For instance, video games (e.g., tf2, DotA2; red) tend to group together, along with buy-sell subreddits (e.g., tf2trade, Dota2Trade, yellow), subreddits related to relationships (e.g., AskWomen, relationship_advice; green) and large default-subreddit hubs for sharing random links (e.g., pics, AskReddit; purple)."
   ]
  },
  {
   "cell_type": "markdown",
   "metadata": {},
   "source": [
    "There may be other interesting groupings that you may spot as well -- for instance, a vaguely right-wing MensRights cluster (with Libertarian, guns); a rather intriguing cluster consisting of politics, sex, business, etc."
   ]
  },
  {
   "cell_type": "markdown",
   "metadata": {},
   "source": [
    "Some topical groups are more diffuse -- for instance, sports-based subreddits (blue). Perhaps this is a limitation of our representation, or that these subreddits actually foster very different interactional dynamics."
   ]
  },
  {
   "cell_type": "code",
   "execution_count": null,
   "metadata": {},
   "outputs": [],
   "source": []
  },
  {
   "cell_type": "markdown",
   "metadata": {},
   "source": [
    "Another way to delve into these groupings is to look at nearest neighbors of subreddits, in terms of the embedding:"
   ]
  },
  {
   "cell_type": "code",
   "execution_count": 28,
   "metadata": {
    "scrolled": true
   },
   "outputs": [],
   "source": [
    "dists = pairwise_distances(subreddit_df.values, metric='cosine')\n",
    "flat_dists = np.ravel(dists)\n",
    "idx1, idx2 = np.unravel_index(np.arange(len(flat_dists)), dists.shape)\n",
    "pairwise_dist_df = pd.DataFrame.from_dict({'p1': subreddit_df.index[idx1],\n",
    "                                           'p2': subreddit_df.index[idx2],\n",
    "                                           'dist': flat_dists},\n",
    "                                           orient='columns')"
   ]
  },
  {
   "cell_type": "code",
   "execution_count": 29,
   "metadata": {},
   "outputs": [],
   "source": [
    "def print_nearest_neighbors(pairwise_dist_df, \n",
    "                           test_subreddits=[],\n",
    "                           top_N=10):\n",
    "    for subreddit in test_subreddits:\n",
    "        subset_df = pairwise_dist_df[(pairwise_dist_df.p1 == subreddit)\n",
    "                                 & (pairwise_dist_df.p2 != subreddit)]\n",
    "        print(subreddit)\n",
    "        print(subset_df.sort_values('dist')[['p2', 'dist']].head(top_N))\n",
    "        print()"
   ]
  },
  {
   "cell_type": "code",
   "execution_count": 30,
   "metadata": {
    "scrolled": true
   },
   "outputs": [
    {
     "name": "stdout",
     "output_type": "stream",
     "text": [
      "apple\n",
      "                 p2      dist\n",
      "4398      worldnews  0.009788\n",
      "4396  unitedkingdom  0.010915\n",
      "4353         canada  0.014906\n",
      "4386         skyrim  0.038536\n",
      "4389      starcraft  0.040745\n",
      "4312         Diablo  0.044218\n",
      "4319     Guildwars2  0.044979\n",
      "4347      australia  0.051188\n",
      "4310   Conservative  0.053122\n",
      "4317         Frugal  0.063764\n",
      "\n",
      "politics\n",
      "                     p2      dist\n",
      "7863             hockey  0.013010\n",
      "7869             movies  0.024729\n",
      "7872                nfl  0.026157\n",
      "7868  mildlyinfuriating  0.026545\n",
      "7875               pics  0.032297\n",
      "7829              Music  0.036841\n",
      "7893               tifu  0.050870\n",
      "7820               IAmA  0.052660\n",
      "7807                CFB  0.056863\n",
      "7823                MMA  0.079316\n",
      "\n",
      "leagueoflegends\n",
      "                 p2      dist\n",
      "6456     cringepics  0.003340\n",
      "6449       baseball  0.006105\n",
      "6423            MMA  0.006564\n",
      "6413          DotA2  0.007741\n",
      "6418          Games  0.008393\n",
      "6420           IAmA  0.014105\n",
      "6435  SquaredCircle  0.014959\n",
      "6497         videos  0.016360\n",
      "6470            nba  0.022132\n",
      "6493           tifu  0.028201\n",
      "\n",
      "AskWomen\n",
      "                   p2      dist\n",
      "582     relationships  0.006935\n",
      "503            AskMen  0.025681\n",
      "522             MGTOW  0.075045\n",
      "541             anime  0.091801\n",
      "516           Fitness  0.092795\n",
      "534  ShingekiNoKyojin  0.101666\n",
      "585         singapore  0.108451\n",
      "595             trees  0.129591\n",
      "550             books  0.133487\n",
      "546           atheism  0.135466\n",
      "\n",
      "Music\n",
      "                     p2      dist\n",
      "2975               pics  0.003645\n",
      "2968  mildlyinfuriating  0.005979\n",
      "2993               tifu  0.007330\n",
      "2969             movies  0.008025\n",
      "2972                nfl  0.011729\n",
      "2935      SquaredCircle  0.016808\n",
      "2920               IAmA  0.018458\n",
      "2959              funny  0.023373\n",
      "2963             hockey  0.023698\n",
      "2997             videos  0.027989\n",
      "\n",
      "pics\n",
      "                     p2      dist\n",
      "7568  mildlyinfuriating  0.003454\n",
      "7529              Music  0.003645\n",
      "7593               tifu  0.005315\n",
      "7569             movies  0.011586\n",
      "7572                nfl  0.014747\n",
      "7520               IAmA  0.019469\n",
      "7535      SquaredCircle  0.023158\n",
      "7563             hockey  0.026330\n",
      "7559              funny  0.031652\n",
      "7578           politics  0.032297\n",
      "\n",
      "australia\n",
      "              p2      dist\n",
      "4794     toronto  0.016731\n",
      "4798   worldnews  0.021267\n",
      "4744  askscience  0.023938\n",
      "4789   starcraft  0.032094\n",
      "4700   2007scape  0.033387\n",
      "4702     Android  0.040507\n",
      "4752    business  0.048248\n",
      "4743       apple  0.051188\n",
      "4790  technology  0.059794\n",
      "4753      canada  0.060349\n",
      "\n",
      "Random_Acts_Of_Amazon\n",
      "                       p2      dist\n",
      "3304   AskTrumpSupporters  0.012268\n",
      "3392            teenagers  0.014887\n",
      "3380  raisedbynarcissists  0.023830\n",
      "3351             buildapc  0.028177\n",
      "3381  relationship_advice  0.030112\n",
      "3384                  sex  0.032665\n",
      "3311       DebateReligion  0.033746\n",
      "3331              POLITIC  0.036501\n",
      "3377        pokemontrades  0.037074\n",
      "3391          techsupport  0.037314\n",
      "\n",
      "Bitcoin\n",
      "                   p2      dist\n",
      "665              lgbt  0.006593\n",
      "639   TwoXChromosomes  0.018929\n",
      "632            Python  0.019511\n",
      "646           atheism  0.020766\n",
      "673        philosophy  0.028847\n",
      "634  ShingekiNoKyojin  0.029506\n",
      "661              guns  0.034151\n",
      "624   MakeupAddiction  0.044175\n",
      "636        TheRedPill  0.044273\n",
      "688         socialism  0.046715\n",
      "\n",
      "MensRights\n",
      "                   p2      dist\n",
      "2701    AmItheAsshole  0.003278\n",
      "2755       conspiracy  0.005531\n",
      "2761             guns  0.005775\n",
      "2714            Drugs  0.008388\n",
      "2739  TwoXChromosomes  0.014751\n",
      "2773       philosophy  0.016238\n",
      "2721      Libertarian  0.022130\n",
      "2788        socialism  0.022912\n",
      "2732           Python  0.027407\n",
      "2709     Christianity  0.028955\n",
      "\n"
     ]
    }
   ],
   "source": [
    "print_nearest_neighbors(pairwise_dist_df, ['apple', 'politics', 'leagueoflegends',\n",
    "                                          'AskWomen', 'Music', 'pics',\n",
    "                                          'australia', 'Random_Acts_Of_Amazon',\n",
    "                                          'Bitcoin', 'MensRights'])"
   ]
  },
  {
   "cell_type": "code",
   "execution_count": null,
   "metadata": {},
   "outputs": [],
   "source": []
  },
  {
   "cell_type": "markdown",
   "metadata": {},
   "source": [
    "We can also try to interpret each dimension of the embedding -- roughly speaking the threads, features and subreddits with extremal values along one dimension could be seen as characterizing a particular \"type\" of discussion, in terms of the discussion structure."
   ]
  },
  {
   "cell_type": "code",
   "execution_count": 31,
   "metadata": {},
   "outputs": [],
   "source": [
    "from IPython.display import display"
   ]
  },
  {
   "cell_type": "code",
   "execution_count": 32,
   "metadata": {},
   "outputs": [],
   "source": [
    "def display_dimension(dim, ascending=True, n=5):\n",
    "    top_threads = U_df.sort_values(dim, ascending=ascending).head(n)\n",
    "    display(top_threads)\n",
    "    display(V_df.sort_values(dim, ascending=ascending).head(n))\n",
    "    display(subreddit_df.sort_values(dim, ascending=ascending).head(n))\n",
    "    return top_threads.index"
   ]
  },
  {
   "cell_type": "code",
   "execution_count": null,
   "metadata": {},
   "outputs": [],
   "source": []
  },
  {
   "cell_type": "markdown",
   "metadata": {
    "collapsed": true
   },
   "source": [
    "For instance, the first latent dimension divides the space of Reddit discussions between focused dialogues involving 2 people who repeatedly interact, and \"expansionary\" threads involving multiple people who generally only engage once (as with the corresponding dimension discussed in the paper, this echoes the contrast explored in papers such as Backstrom et. al, 2013). At the subreddit level, we see a divide between subreddits that are selling things (perhaps the dialogues consist of a buyer and a seller) and large default link-sharing subreddits like AskReddit and pics."
   ]
  },
  {
   "cell_type": "code",
   "execution_count": null,
   "metadata": {},
   "outputs": [],
   "source": [
    "top_threads = display_dimension(0, n=10)"
   ]
  },
  {
   "cell_type": "code",
   "execution_count": null,
   "metadata": {},
   "outputs": [],
   "source": []
  }
 ],
 "metadata": {
  "kernelspec": {
   "display_name": "Python 3",
   "language": "python",
   "name": "python3"
  },
  "language_info": {
   "codemirror_mode": {
    "name": "ipython",
    "version": 3
   },
   "file_extension": ".py",
   "mimetype": "text/x-python",
   "name": "python",
   "nbconvert_exporter": "python",
   "pygments_lexer": "ipython3",
   "version": "3.7.4"
  }
 },
 "nbformat": 4,
 "nbformat_minor": 2
}
