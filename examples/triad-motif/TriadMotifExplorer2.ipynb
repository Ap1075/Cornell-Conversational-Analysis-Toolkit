{
 "cells": [
  {
   "cell_type": "code",
   "execution_count": 1,
   "metadata": {},
   "outputs": [
    {
     "data": {
      "text/plain": [
       "'/Users/calebchiam/Documents/GitHub/Cornell-Conversational-Analysis-Toolkit'"
      ]
     },
     "execution_count": 1,
     "metadata": {},
     "output_type": "execute_result"
    }
   ],
   "source": [
    "import os\n",
    "os.getcwd()\n",
    "os.chdir(\"..\")\n",
    "os.chdir(\"..\")\n",
    "os.getcwd()"
   ]
  },
  {
   "cell_type": "code",
   "execution_count": 2,
   "metadata": {},
   "outputs": [],
   "source": [
    "import convokit\n",
    "%matplotlib inline\n",
    "import matplotlib.pyplot as plt\n",
    "import numpy as np\n",
    "import pandas as pd\n",
    "import warnings\n",
    "warnings.filterwarnings('ignore')\n",
    "from collections import Counter"
   ]
  },
  {
   "cell_type": "code",
   "execution_count": 3,
   "metadata": {},
   "outputs": [
    {
     "name": "stdout",
     "output_type": "stream",
     "text": [
      "Dataset already exists at /Users/calebchiam/.convokit/downloads/reddit-corpus-small\n"
     ]
    }
   ],
   "source": [
    "corpus = convokit.Corpus(filename=convokit.download(\"reddit-corpus-small\"))"
   ]
  },
  {
   "cell_type": "code",
   "execution_count": 5,
   "metadata": {},
   "outputs": [],
   "source": [
    "threads = corpus.utterance_threads(prefix_len=10, include_root=False)"
   ]
  },
  {
   "cell_type": "code",
   "execution_count": 7,
   "metadata": {},
   "outputs": [
    {
     "data": {
      "text/plain": [
       "{'e58slx0': Utterance({'id': 'e58slx0', 'user': User([('name', 'RedFaceGeneral')]), 'root': '9c8amk', 'reply_to': '9c8amk', 'timestamp': 1535851290, 'text': 'Fucking. Hot. Weather. ', 'meta': {'score': 95, 'top_level_comment': 'e58slx0', 'retrieved_on': 1538573577, 'gilded': 0, 'gildings': {'gid_1': 0, 'gid_2': 0, 'gid_3': 0}, 'subreddit': 'singapore', 'stickied': False, 'permalink': '/r/singapore/comments/9c8amk/what_are_your_biggest_complaints_about_singapore/e58slx0/', 'author_flair_text': ''}}),\n",
       " 'e58yrci': Utterance({'id': 'e58yrci', 'user': User([('name', 'Eskipony')]), 'root': '9c8amk', 'reply_to': 'e58slx0', 'timestamp': 1535857949, 'text': 'we should just build a dome around singapore and air condition the whole country', 'meta': {'score': 41, 'top_level_comment': 'e58slx0', 'retrieved_on': 1538576460, 'gilded': 0, 'gildings': {'gid_1': 0, 'gid_2': 0, 'gid_3': 0}, 'subreddit': 'singapore', 'stickied': False, 'permalink': '/r/singapore/comments/9c8amk/what_are_your_biggest_complaints_about_singapore/e58yrci/', 'author_flair_text': 'fuelled by whisky'}}),\n",
       " 'e58zijd': Utterance({'id': 'e58zijd', 'user': User([('name', 'MinisterforFun')]), 'root': '9c8amk', 'reply_to': 'e58yrci', 'timestamp': 1535858857, 'text': 'Or maybe do what Dubai does: air con bus stops?', 'meta': {'score': 5, 'top_level_comment': 'e58slx0', 'retrieved_on': 1538576778, 'gilded': 0, 'gildings': {'gid_1': 0, 'gid_2': 0, 'gid_3': 0}, 'subreddit': 'singapore', 'stickied': False, 'permalink': '/r/singapore/comments/9c8amk/what_are_your_biggest_complaints_about_singapore/e58zijd/', 'author_flair_text': ''}}),\n",
       " 'e58zm42': Utterance({'id': 'e58zm42', 'user': User([('name', 'Im_Tsuikyit')]), 'root': '9c8amk', 'reply_to': 'e58zijd', 'timestamp': 1535858975, 'text': 'Wth they have air conditioning on bus stops ', 'meta': {'score': 8, 'top_level_comment': 'e58slx0', 'retrieved_on': 1538576820, 'gilded': 0, 'gildings': {'gid_1': 0, 'gid_2': 0, 'gid_3': 0}, 'subreddit': 'singapore', 'stickied': False, 'permalink': '/r/singapore/comments/9c8amk/what_are_your_biggest_complaints_about_singapore/e58zm42/', 'author_flair_text': 'Next 4D Draw Prediction: 9920'}}),\n",
       " 'e58zojs': Utterance({'id': 'e58zojs', 'user': User([('name', 'HighGeneral')]), 'root': '9c8amk', 'reply_to': 'e58yrci', 'timestamp': 1535859056, 'text': 'And let Malaysia pay for it', 'meta': {'score': 62, 'top_level_comment': 'e58slx0', 'retrieved_on': 1538576849, 'gilded': 0, 'gildings': {'gid_1': 0, 'gid_2': 0, 'gid_3': 0}, 'subreddit': 'singapore', 'stickied': False, 'permalink': '/r/singapore/comments/9c8amk/what_are_your_biggest_complaints_about_singapore/e58zojs/', 'author_flair_text': 'bak chor mee is bae'}}),\n",
       " 'e58zrtb': Utterance({'id': 'e58zrtb', 'user': User([('name', 'MinisterforFun')]), 'root': '9c8amk', 'reply_to': 'e58zm42', 'timestamp': 1535859167, 'text': 'https://m.khaleejtimes.com/rta-constructs-100-smart-ac-bus-shelters\\n\\n', 'meta': {'score': 1, 'top_level_comment': 'e58slx0', 'retrieved_on': 1538576888, 'gilded': 0, 'gildings': {'gid_1': 0, 'gid_2': 0, 'gid_3': 0}, 'subreddit': 'singapore', 'stickied': False, 'permalink': '/r/singapore/comments/9c8amk/what_are_your_biggest_complaints_about_singapore/e58zrtb/', 'author_flair_text': ''}}),\n",
       " 'e5905kh': Utterance({'id': 'e5905kh', 'user': User([('name', '841632')]), 'root': '9c8amk', 'reply_to': 'e58zm42', 'timestamp': 1535859641, 'text': 'Well, some of our bus interchange have air con too.', 'meta': {'score': 1, 'top_level_comment': 'e58slx0', 'retrieved_on': 1538577106, 'gilded': 0, 'gildings': {'gid_1': 0, 'gid_2': 0, 'gid_3': 0}, 'subreddit': 'singapore', 'stickied': False, 'permalink': '/r/singapore/comments/9c8amk/what_are_your_biggest_complaints_about_singapore/e5905kh/', 'author_flair_text': ''}}),\n",
       " 'e592amp': Utterance({'id': 'e592amp', 'user': User([('name', '[deleted]')]), 'root': '9c8amk', 'reply_to': 'e58zijd', 'timestamp': 1535862476, 'text': '[deleted]', 'meta': {'score': 1, 'top_level_comment': 'e58slx0', 'retrieved_on': 1538578067, 'gilded': 0, 'gildings': {'gid_1': 0, 'gid_2': 0, 'gid_3': 0}, 'subreddit': 'singapore', 'stickied': False, 'permalink': '/r/singapore/comments/9c8amk/what_are_your_biggest_complaints_about_singapore/e592amp/', 'author_flair_text': ''}}),\n",
       " 'e592b8v': Utterance({'id': 'e592b8v', 'user': User([('name', 'deioped')]), 'root': '9c8amk', 'reply_to': 'e58zm42', 'timestamp': 1535862500, 'text': \"Yes. Been there. Outside, no one really walks in the day as it is really FUCKING HOT and that wasn't even during peak hot season.\\n \\nHad to use each bus stop as resting point while walking down a street to prevent overheating.\\n\\n\", 'meta': {'score': 11, 'top_level_comment': 'e58slx0', 'retrieved_on': 1538578083, 'gilded': 0, 'gildings': {'gid_1': 0, 'gid_2': 0, 'gid_3': 0}, 'subreddit': 'singapore', 'stickied': False, 'permalink': '/r/singapore/comments/9c8amk/what_are_your_biggest_complaints_about_singapore/e592b8v/', 'author_flair_text': ''}}),\n",
       " 'e59by9q': Utterance({'id': 'e59by9q', 'user': User([('name', 'FyreSigno')]), 'root': '9c8amk', 'reply_to': 'e58yrci', 'timestamp': 1535880987, 'text': 'This is what I always thought of doing when I was little. We shall share our dreams with the rest of the world.', 'meta': {'score': 2, 'top_level_comment': 'e58slx0', 'retrieved_on': 1538582600, 'gilded': 0, 'gildings': {'gid_1': 0, 'gid_2': 0, 'gid_3': 0}, 'subreddit': 'singapore', 'stickied': False, 'permalink': '/r/singapore/comments/9c8amk/what_are_your_biggest_complaints_about_singapore/e59by9q/', 'author_flair_text': 'no money pls help'}})}"
      ]
     },
     "execution_count": 7,
     "metadata": {},
     "output_type": "execute_result"
    }
   ],
   "source": [
    "threads['e58slx0']"
   ]
  },
  {
   "cell_type": "code",
   "execution_count": 1,
   "metadata": {},
   "outputs": [
    {
     "ename": "NameError",
     "evalue": "name 'convokit' is not defined",
     "output_type": "error",
     "traceback": [
      "\u001b[0;31m---------------------------------------------------------------------------\u001b[0m",
      "\u001b[0;31mNameError\u001b[0m                                 Traceback (most recent call last)",
      "\u001b[0;32m<ipython-input-1-827c087f6fe7>\u001b[0m in \u001b[0;36m<module>\u001b[0;34m\u001b[0m\n\u001b[0;32m----> 1\u001b[0;31m \u001b[0mhc\u001b[0m \u001b[0;34m=\u001b[0m \u001b[0mconvokit\u001b[0m\u001b[0;34m.\u001b[0m\u001b[0mHyperConvo\u001b[0m\u001b[0;34m(\u001b[0m\u001b[0;34m)\u001b[0m\u001b[0;34m\u001b[0m\u001b[0;34m\u001b[0m\u001b[0m\n\u001b[0m",
      "\u001b[0;31mNameError\u001b[0m: name 'convokit' is not defined"
     ]
    }
   ],
   "source": [
    "hc = convokit.HyperConvo()\n"
   ]
  },
  {
   "cell_type": "code",
   "execution_count": 8,
   "metadata": {},
   "outputs": [],
   "source": [
    "threads_motifs = hc.retrieve_motifs(prefix_len=10)"
   ]
  },
  {
   "cell_type": "code",
   "execution_count": 109,
   "metadata": {},
   "outputs": [
    {
     "data": {
      "text/plain": [
       "{'t1_c2yz6ed': Utterance({'id': 't1_c2yz6ed', 'user': User([('name', '[deleted-t1_c2yz6ed]')]), 'root': 't1_c2yz6ed', 'reply_to': None, 'timestamp': 1321020660, 'text': \"In the US there is this thing called HIPPA. Basically, the doctor can't tell anyone anything you told them (not even your parents). Tell your doctor about your drug use, many narcotics interact badly with prescription drugs and that is why they are asking\", 'other': {'root': 't1_c2yz6ed', 'id': 't1_c2yz6ed', 'reply-to': None, 'timestamp': 1321020660, 'user': '[deleted-t1_c2yz6ed]', 'user-info': {'subreddit': 'Drugs', 'gilded': 0, 'archived': True, 'score': 2, 'retrieved-on': 1427863690, 'controversiality': 0, 'edited': False, 'author-flair-css-class': None, 'downs': 0, 'score-hidden': False, 'author-flair-text': None, 'distinguished': None, 'ups': 2, 'self-post-id': 't3_m8g9i', 'post-deleted': False, 'user-deleted': True}}, 'meta': {}}),\n",
       " 't1_c2yz7z3': Utterance({'id': 't1_c2yz7z3', 'user': User([('name', 'patrickaaron')]), 'root': 't1_c2yz6ed', 'reply_to': 't1_c2yz6ed', 'timestamp': 1321021125, 'text': 'In case anyone wants to know it is HIPAA, not HIPPA, ftfy.\\n\\n\\nThe Health Insurance Portability and Accountability Act (HIPAA) of 1996 ', 'other': {'root': 't1_c2yz6ed', 'id': 't1_c2yz7z3', 'reply-to': 't1_c2yz6ed', 'timestamp': 1321021125, 'user': 'patrickaaron', 'user-info': {'gilded': 0, 'archived': True, 'score': 2, 'retrieved-on': 1427863713, 'controversiality': 0, 'edited': False, 'author-flair-css-class': None, 'downs': 0, 'subreddit': 'Drugs', 'score-hidden': False, 'author-flair-text': None, 'ups': 2, 'distinguished': None, 'self-post-id': 't3_m8g9i', 'post-deleted': False, 'user-deleted': False}}, 'meta': {}}),\n",
       " 't1_c2yzaik': Utterance({'id': 't1_c2yzaik', 'user': User([('name', '[deleted-t1_c2yz6ed]')]), 'root': 't1_c2yz6ed', 'reply_to': 't1_c2yz7z3', 'timestamp': 1321021845, 'text': \"Thank you. My bad, I just woke up and my brain isn't quite 100% yet.\", 'other': {'root': 't1_c2yz6ed', 'id': 't1_c2yzaik', 'reply-to': 't1_c2yz7z3', 'timestamp': 1321021845, 'user': '[deleted-t1_c2yz6ed]', 'user-info': {'subreddit': 'Drugs', 'gilded': 0, 'archived': True, 'score': 1, 'retrieved-on': 1427863745, 'controversiality': 0, 'edited': False, 'author-flair-css-class': None, 'downs': 0, 'score-hidden': False, 'author-flair-text': None, 'distinguished': None, 'ups': 1, 'self-post-id': 't3_m8g9i', 'post-deleted': False, 'user-deleted': True}}, 'meta': {}}),\n",
       " 't1_c2z00hv': Utterance({'id': 't1_c2z00hv', 'user': User([('name', '[deleted-t1_c2yz6ed]')]), 'root': 't1_c2yz6ed', 'reply_to': 't1_c2yz6ed', 'timestamp': 1321028214, 'text': '[deleted]', 'other': {'root': 't1_c2yz6ed', 'id': 't1_c2z00hv', 'reply-to': 't1_c2yz6ed', 'timestamp': 1321028214, 'user': '[deleted-t1_c2yz6ed]', 'user-info': {'subreddit': 'Drugs', 'gilded': 0, 'archived': True, 'score': 2, 'retrieved-on': 1427864081, 'controversiality': 0, 'edited': False, 'author-flair-css-class': None, 'downs': 0, 'score-hidden': False, 'author-flair-text': None, 'ups': 2, 'distinguished': None, 'self-post-id': 't3_m8g9i', 'post-deleted': True, 'user-deleted': True}}, 'meta': {}}),\n",
       " 't1_c2z10en': Utterance({'id': 't1_c2z10en', 'user': User([('name', '[deleted-t1_c2yz6ed]')]), 'root': 't1_c2yz6ed', 'reply_to': 't1_c2z00hv', 'timestamp': 1321035465, 'text': 'Agreed, but if a patient tells you he/she is taking LSD, nothing bad can come from that.', 'other': {'root': 't1_c2yz6ed', 'id': 't1_c2z10en', 'reply-to': 't1_c2z00hv', 'timestamp': 1321035465, 'user': '[deleted-t1_c2yz6ed]', 'user-info': {'subreddit': 'Drugs', 'gilded': 0, 'archived': True, 'score': 2, 'retrieved-on': 1427864564, 'controversiality': 0, 'edited': False, 'author-flair-css-class': None, 'downs': 0, 'score-hidden': False, 'author-flair-text': None, 'distinguished': None, 'ups': 2, 'self-post-id': 't3_m8g9i', 'post-deleted': False, 'user-deleted': True}}, 'meta': {}}),\n",
       " 't1_c2z1h5u': Utterance({'id': 't1_c2z1h5u', 'user': User([('name', 'JWay')]), 'root': 't1_c2yz6ed', 'reply_to': 't1_c2yz6ed', 'timestamp': 1321038650, 'text': \"Why not simply learn about the technical side of drugs instead of trusting someone who may or may not be very educated in that field of medicine.  \\n\\nMy psychiatrist gave me strattera(an NRI) instead of ritalin after I told him I did dxm 2-8 times a month.  If you know anything about that combination, you'd know how messed up that is.  Now I'm given d-amphetamine though I no longer take it(addictive reasons), which I cannot mix with dxm but I can still take the two safety, separately.\", 'other': {'root': 't1_c2yz6ed', 'id': 't1_c2z1h5u', 'reply-to': 't1_c2yz6ed', 'timestamp': 1321038650, 'user': 'JWay', 'user-info': {'gilded': 0, 'archived': True, 'score': 1, 'retrieved-on': 1427864802, 'controversiality': 0, 'edited': True, 'author-flair-css-class': None, 'downs': 0, 'subreddit': 'Drugs', 'score-hidden': False, 'author-flair-text': None, 'ups': 1, 'distinguished': None, 'self-post-id': 't3_m8g9i', 'post-deleted': False, 'user-deleted': False}}, 'meta': {}}),\n",
       " 't1_c2z1jc7': Utterance({'id': 't1_c2z1jc7', 'user': User([('name', '[deleted-t1_c2yz6ed]')]), 'root': 't1_c2yz6ed', 'reply_to': 't1_c2z1h5u', 'timestamp': 1321039074, 'text': \"Exactly the reason you should talk to your pharmacist about this when you get your script filled. Pharmacists are the real drug experts. They also are required under HIPAA not to disclose any info about what you two talk about, so don't worry about those consequences. \", 'other': {'root': 't1_c2yz6ed', 'id': 't1_c2z1jc7', 'reply-to': 't1_c2z1h5u', 'timestamp': 1321039074, 'user': '[deleted-t1_c2yz6ed]', 'user-info': {'gilded': 0, 'archived': True, 'score': 1, 'retrieved-on': 1427864821, 'controversiality': 0, 'edited': False, 'author-flair-css-class': None, 'downs': 0, 'subreddit': 'Drugs', 'score-hidden': False, 'author-flair-text': None, 'distinguished': None, 'ups': 1, 'self-post-id': 't3_m8g9i', 'post-deleted': False, 'user-deleted': True}}, 'meta': {}}),\n",
       " 't1_c2z1t9i': Utterance({'id': 't1_c2z1t9i', 'user': User([('name', 'JWay')]), 'root': 't1_c2yz6ed', 'reply_to': 't1_c2z1jc7', 'timestamp': 1321040972, 'text': 'Oh, I didn\\'t take the strattera because I\\'m not a complete moron.  I just told him I did and that it didn\\'t work.  My psychiatrist probably shouldn\\'t be a psychiatrist though.  He tried to convince me thc builds up in fat cells and can lead to psychosis and that the \"prescribed dosage\" of d-amphetamine is not addictive.  I mean seriously, I almost laughed in his face.  Plus he tried telling me I have asperges when I\\'m not the slightest bit socially awkward and usually control group discussions(subtly).  Oh, and, somehow taking d-amphetamine was going to make me \"not need\" psychedelics any more...  Definitely not going back there again.', 'other': {'root': 't1_c2yz6ed', 'id': 't1_c2z1t9i', 'reply-to': 't1_c2z1jc7', 'timestamp': 1321040972, 'user': 'JWay', 'user-info': {'subreddit': 'Drugs', 'gilded': 0, 'archived': True, 'score': 2, 'retrieved-on': 1427864944, 'controversiality': 0, 'edited': True, 'author-flair-css-class': None, 'downs': 0, 'score-hidden': False, 'author-flair-text': None, 'ups': 2, 'distinguished': None, 'self-post-id': 't3_m8g9i', 'post-deleted': False, 'user-deleted': False}}, 'meta': {}}),\n",
       " 't1_c2z2749': Utterance({'id': 't1_c2z2749', 'user': User([('name', 'Jhoppa')]), 'root': 't1_c2yz6ed', 'reply_to': 't1_c2z10en', 'timestamp': 1321043677, 'text': 'Would you want to risk it that your doctor feels the same way?', 'other': {'root': 't1_c2yz6ed', 'id': 't1_c2z2749', 'reply-to': 't1_c2z10en', 'timestamp': 1321043677, 'user': 'Jhoppa', 'user-info': {'subreddit': 'Drugs', 'gilded': 0, 'archived': True, 'score': 1, 'retrieved-on': 1428191302, 'controversiality': 0, 'edited': False, 'author-flair-css-class': None, 'downs': 0, 'score-hidden': False, 'author-flair-text': None, 'distinguished': None, 'ups': 1, 'self-post-id': 't3_m8g9i', 'post-deleted': False, 'user-deleted': False}}, 'meta': {}}),\n",
       " 't1_c2z28yr': Utterance({'id': 't1_c2z28yr', 'user': User([('name', '[deleted-t1_c2yz6ed]')]), 'root': 't1_c2yz6ed', 'reply_to': 't1_c2z2749', 'timestamp': 1321044033, 'text': 'What exactly would you be risking by telling your doctor?', 'other': {'root': 't1_c2yz6ed', 'id': 't1_c2z28yr', 'reply-to': 't1_c2z2749', 'timestamp': 1321044033, 'user': '[deleted-t1_c2yz6ed]', 'user-info': {'gilded': 0, 'archived': True, 'score': 1, 'retrieved-on': 1427865137, 'controversiality': 0, 'edited': False, 'author-flair-css-class': None, 'downs': 0, 'subreddit': 'Drugs', 'score-hidden': False, 'author-flair-text': None, 'distinguished': None, 'ups': 1, 'self-post-id': 't3_m8g9i', 'post-deleted': False, 'user-deleted': True}}, 'meta': {}})}"
      ]
     },
     "execution_count": 109,
     "metadata": {},
     "output_type": "execute_result"
    }
   ],
   "source": [
    "threads['t1_c2yz6ed']"
   ]
  },
  {
   "cell_type": "code",
   "execution_count": 10,
   "metadata": {},
   "outputs": [],
   "source": [
    "#list(threads_motifs.keys())[:10]"
   ]
  },
  {
   "cell_type": "code",
   "execution_count": 11,
   "metadata": {},
   "outputs": [],
   "source": [
    "#threads_motifs['t1_c2yz6ed']"
   ]
  },
  {
   "cell_type": "markdown",
   "metadata": {},
   "source": [
    "Let's construct a dictionary of triads from the threads:"
   ]
  },
  {
   "cell_type": "code",
   "execution_count": 12,
   "metadata": {},
   "outputs": [
    {
     "data": {
      "text/plain": [
       "'t1_c0od4pd'"
      ]
     },
     "execution_count": 12,
     "metadata": {},
     "output_type": "execute_result"
    }
   ],
   "source": [
    "next(iter(threads_motifs))"
   ]
  },
  {
   "cell_type": "code",
   "execution_count": 13,
   "metadata": {},
   "outputs": [],
   "source": [
    "triad_types = threads_motifs[next(iter(threads_motifs))].keys()"
   ]
  },
  {
   "cell_type": "code",
   "execution_count": 14,
   "metadata": {},
   "outputs": [
    {
     "data": {
      "text/plain": [
       "dict_keys(['NO_EDGE_TRIADS', 'SINGLE_EDGE_TRIADS', 'INCOMING_TRIADS', 'OUTGOING_TRIADS', 'DYADIC_TRIADS', 'UNIDIRECTIONAL_TRIADS', 'INCOMING_2TO3_TRIADS', 'INCOMING_1TO3_TRIADS', 'DIRECTED_CYCLE_TRIADS', 'OUTGOING_3TO1_TRIADS', 'INCOMING_RECIPROCAL_TRIADS', 'OUTGOING_RECIPROCAL_TRIADS', 'DIRECTED_CYCLE_1TO3_TRIADS', 'DIRECIPROCAL_TRIADS', 'DIRECIPROCAL_2TO3_TRIADS', 'TRIRECIPROCAL_TRIADS'])"
      ]
     },
     "execution_count": 14,
     "metadata": {},
     "output_type": "execute_result"
    }
   ],
   "source": [
    "triad_types"
   ]
  },
  {
   "cell_type": "code",
   "execution_count": 15,
   "metadata": {},
   "outputs": [],
   "source": [
    "from collections import defaultdict\n",
    "triad_dict = defaultdict(list)"
   ]
  },
  {
   "cell_type": "code",
   "execution_count": 16,
   "metadata": {},
   "outputs": [],
   "source": [
    "for thread in threads_motifs:\n",
    "    for triad_type in threads_motifs[thread]:\n",
    "        triad_dict[triad_type].extend(threads_motifs[thread][triad_type])"
   ]
  },
  {
   "cell_type": "code",
   "execution_count": 17,
   "metadata": {},
   "outputs": [
    {
     "name": "stdout",
     "output_type": "stream",
     "text": [
      "2813655\n"
     ]
    }
   ],
   "source": [
    "# Total number of distinct motifs found\n",
    "total_motifs = 0\n",
    "for triad_type in triad_dict:\n",
    "    total_motifs += len(triad_dict[triad_type])\n",
    "print(total_motifs)"
   ]
  },
  {
   "cell_type": "markdown",
   "metadata": {},
   "source": [
    "Let's try to disambiguate motifs further according to their developmental paths:"
   ]
  },
  {
   "cell_type": "code",
   "execution_count": 18,
   "metadata": {},
   "outputs": [],
   "source": [
    "def get_development_path(motif):\n",
    "    path = []\n",
    "    curr_motif_state = motif\n",
    "    while curr_motif_state is not None:\n",
    "        path.append(curr_motif_state.triad_type)\n",
    "        curr_motif_state = curr_motif_state.regress()\n",
    "    return tuple(path[::-1])"
   ]
  },
  {
   "cell_type": "code",
   "execution_count": 19,
   "metadata": {},
   "outputs": [],
   "source": [
    "motif1 = triad_dict['TRIRECIPROCAL_TRIADS'][0]"
   ]
  },
  {
   "cell_type": "code",
   "execution_count": 20,
   "metadata": {},
   "outputs": [
    {
     "data": {
      "text/plain": [
       "[{'timestamp': 1267430163,\n",
       "  'text': 'I edited my post a bit to contain more relevant information. Also, that other guy responding is kinda rude.\\n\\nGood luck quitting pot. I quit when the economy tanked incase I ever lose my job so I can easily pass a drug test right away.',\n",
       "  'speaker': User([('name', 'edify')]),\n",
       "  'target': User([('name', 'derb')]),\n",
       "  'reply_to': 't1_c0lde4n',\n",
       "  'top_level_comment': 't1_c0lddw0',\n",
       "  'root': False}]"
      ]
     },
     "execution_count": 20,
     "metadata": {},
     "output_type": "execute_result"
    }
   ],
   "source": [
    "motif1.edges[0]"
   ]
  },
  {
   "cell_type": "code",
   "execution_count": 21,
   "metadata": {},
   "outputs": [
    {
     "data": {
      "text/plain": [
       "('NO_EDGE_TRIADS',\n",
       " 'SINGLE_EDGE_TRIADS',\n",
       " 'OUTGOING_TRIADS',\n",
       " 'OUTGOING_3TO1_TRIADS',\n",
       " 'DIRECIPROCAL_TRIADS',\n",
       " 'DIRECIPROCAL_2TO3_TRIADS',\n",
       " 'TRIRECIPROCAL_TRIADS')"
      ]
     },
     "execution_count": 21,
     "metadata": {},
     "output_type": "execute_result"
    }
   ],
   "source": [
    "get_development_path(motif1)"
   ]
  },
  {
   "cell_type": "code",
   "execution_count": 22,
   "metadata": {},
   "outputs": [],
   "source": [
    "def viz_motif(motif, verbose=True, text_limit = None):\n",
    "    g = Digraph('G')\n",
    "    g.attr(rankdir='LR')\n",
    "    edges = sorted([e[0] for e in motif.edges], key=lambda x: x['timestamp'])\n",
    "    for idx, edge in enumerate(edges):\n",
    "        if verbose:\n",
    "            label = \"{}. {}\".format(idx + 1, edge['text']) if text_limit is None else \"{}. {}\".format(idx + 1, edge['text'][:text_limit]) \n",
    "        else:\n",
    "            label = str(idx+1)\n",
    "        g.edge(str(edge['speaker']), str(edge['target']), label=label)\n",
    "    g.view()\n"
   ]
  },
  {
   "cell_type": "code",
   "execution_count": 23,
   "metadata": {},
   "outputs": [],
   "source": [
    "viz_motif(motif1, text_limit=10)"
   ]
  },
  {
   "cell_type": "code",
   "execution_count": null,
   "metadata": {},
   "outputs": [],
   "source": []
  },
  {
   "cell_type": "markdown",
   "metadata": {},
   "source": [
    "We construct a dictionary of all paths:"
   ]
  },
  {
   "cell_type": "code",
   "execution_count": 24,
   "metadata": {},
   "outputs": [],
   "source": [
    "path_dict = defaultdict(list)"
   ]
  },
  {
   "cell_type": "markdown",
   "metadata": {},
   "source": [
    "Let one of the hypernodes in the triad motif be a User posting a top level comment (edge not present in triad motif.) Restrict the motifs to those where two “response to top level comment” edges exist. By definition, these are the motifs where we have 1 hypernode where the User posted a top level comment, and 2 hypernodes representing Users who responded to this User."
   ]
  },
  {
   "cell_type": "code",
   "execution_count": 25,
   "metadata": {},
   "outputs": [],
   "source": [
    "for motif_type, motif_instances in triad_dict.items():\n",
    "    for motif_instance in motif_instances:\n",
    "        \n",
    "        if len(motif_instance.edges) == 0: continue \n",
    "        num_replies_to_root = 0\n",
    "        \n",
    "        for edge_set in motif_instance.edges:\n",
    "            if edge_set[0]['root']: \n",
    "                num_replies_to_root += 1\n",
    "        if num_replies_to_root == 2: # as per above paragraph\n",
    "            path_dict[get_development_path(motif_instance)].append(motif_instance)"
   ]
  },
  {
   "cell_type": "code",
   "execution_count": 26,
   "metadata": {},
   "outputs": [
    {
     "name": "stdout",
     "output_type": "stream",
     "text": [
      "252190\n"
     ]
    }
   ],
   "source": [
    "# Total number of path instances, should be fewer than motif instances since we constrain it to start \n",
    "# with an utterance directed at top_level_comment\n",
    "def get_num_paths(path_dict):\n",
    "    total_paths = 0\n",
    "    for path_type, path_instances in path_dict.items():\n",
    "        total_paths += len(path_instances)\n",
    "    return total_paths\n",
    "\n",
    "print(get_num_paths(path_dict))"
   ]
  },
  {
   "cell_type": "code",
   "execution_count": 27,
   "metadata": {},
   "outputs": [
    {
     "data": {
      "text/plain": [
       "<Figure size 6400x4800 with 0 Axes>"
      ]
     },
     "execution_count": 27,
     "metadata": {},
     "output_type": "execute_result"
    },
    {
     "data": {
      "text/plain": [
       "<Figure size 6400x4800 with 0 Axes>"
      ]
     },
     "metadata": {},
     "output_type": "display_data"
    }
   ],
   "source": [
    "from matplotlib.pyplot import figure\n",
    "figure(num=None, figsize=(80, 60), dpi=80, facecolor='w', edgecolor='k')"
   ]
  },
  {
   "cell_type": "code",
   "execution_count": 28,
   "metadata": {},
   "outputs": [
    {
     "data": {
      "image/png": "[encoded data removed]",
      "text/plain": [
       "<Figure size 432x288 with 1 Axes>"
      ]
     },
     "metadata": {
      "needs_background": "light"
     },
     "output_type": "display_data"
    }
   ],
   "source": [
    "num_path_instances = [len(path_dict[k]) for k in path_dict]\n",
    "y_pos = range(len(path_dict))\n",
    "graph = plt.bar(y_pos, num_path_instances, align='center', alpha=0.5)\n",
    "plt.xticks(y_pos, triad_dict.keys())\n",
    "plt.ylabel('Number of instances')\n",
    "plt.title('Development paths')\n",
    "plt.rcParams[\"figure.figsize\"] = (30,50)\n",
    "plt.show()\n"
   ]
  },
  {
   "cell_type": "code",
   "execution_count": 29,
   "metadata": {},
   "outputs": [
    {
     "name": "stdout",
     "output_type": "stream",
     "text": [
      "73\n"
     ]
    }
   ],
   "source": [
    "# Number of paths\n",
    "print(len(path_dict))\n"
   ]
  },
  {
   "cell_type": "code",
   "execution_count": 30,
   "metadata": {},
   "outputs": [],
   "source": [
    "pd = {k: len(v) for k, v in path_dict.items()}\n",
    "end_state = defaultdict(int)\n",
    "for path, count in pd.items():\n",
    "    end_state[path[-1]] += count"
   ]
  },
  {
   "cell_type": "code",
   "execution_count": 31,
   "metadata": {},
   "outputs": [
    {
     "data": {
      "text/plain": [
       "defaultdict(int,\n",
       "            {'INCOMING_TRIADS': 160292,\n",
       "             'INCOMING_2TO3_TRIADS': 5684,\n",
       "             'INCOMING_1TO3_TRIADS': 59253,\n",
       "             'INCOMING_RECIPROCAL_TRIADS': 1899,\n",
       "             'OUTGOING_RECIPROCAL_TRIADS': 1393,\n",
       "             'DIRECTED_CYCLE_1TO3_TRIADS': 1366,\n",
       "             'DIRECIPROCAL_TRIADS': 19836,\n",
       "             'DIRECIPROCAL_2TO3_TRIADS': 2108,\n",
       "             'TRIRECIPROCAL_TRIADS': 359})"
      ]
     },
     "execution_count": 31,
     "metadata": {},
     "output_type": "execute_result"
    }
   ],
   "source": [
    "end_state"
   ]
  },
  {
   "cell_type": "code",
   "execution_count": 32,
   "metadata": {},
   "outputs": [
    {
     "name": "stdout",
     "output_type": "stream",
     "text": [
      "('NO_EDGE_TRIADS', 'SINGLE_EDGE_TRIADS', 'INCOMING_TRIADS')\n",
      "160292\n",
      "('NO_EDGE_TRIADS', 'SINGLE_EDGE_TRIADS', 'INCOMING_TRIADS', 'INCOMING_2TO3_TRIADS')\n",
      "4131\n",
      "('NO_EDGE_TRIADS', 'SINGLE_EDGE_TRIADS', 'UNIDIRECTIONAL_TRIADS', 'INCOMING_2TO3_TRIADS')\n",
      "1548\n",
      "('NO_EDGE_TRIADS', 'SINGLE_EDGE_TRIADS', 'OUTGOING_TRIADS', 'INCOMING_2TO3_TRIADS')\n",
      "5\n",
      "('NO_EDGE_TRIADS', 'SINGLE_EDGE_TRIADS', 'DYADIC_TRIADS', 'INCOMING_1TO3_TRIADS')\n",
      "27285\n",
      "('NO_EDGE_TRIADS', 'SINGLE_EDGE_TRIADS', 'INCOMING_TRIADS', 'INCOMING_1TO3_TRIADS')\n",
      "31944\n",
      "('NO_EDGE_TRIADS', 'SINGLE_EDGE_TRIADS', 'UNIDIRECTIONAL_TRIADS', 'INCOMING_1TO3_TRIADS')\n",
      "24\n",
      "('NO_EDGE_TRIADS', 'SINGLE_EDGE_TRIADS', 'INCOMING_TRIADS', 'INCOMING_2TO3_TRIADS', 'INCOMING_RECIPROCAL_TRIADS')\n",
      "1393\n",
      "('NO_EDGE_TRIADS', 'SINGLE_EDGE_TRIADS', 'UNIDIRECTIONAL_TRIADS', 'OUTGOING_3TO1_TRIADS', 'INCOMING_RECIPROCAL_TRIADS')\n",
      "226\n",
      "('NO_EDGE_TRIADS', 'SINGLE_EDGE_TRIADS', 'UNIDIRECTIONAL_TRIADS', 'INCOMING_2TO3_TRIADS', 'INCOMING_RECIPROCAL_TRIADS')\n",
      "138\n",
      "('NO_EDGE_TRIADS', 'SINGLE_EDGE_TRIADS', 'OUTGOING_TRIADS', 'INCOMING_2TO3_TRIADS', 'INCOMING_RECIPROCAL_TRIADS')\n",
      "140\n",
      "('NO_EDGE_TRIADS', 'SINGLE_EDGE_TRIADS', 'OUTGOING_TRIADS', 'OUTGOING_3TO1_TRIADS', 'INCOMING_RECIPROCAL_TRIADS')\n",
      "2\n",
      "('NO_EDGE_TRIADS', 'SINGLE_EDGE_TRIADS', 'DYADIC_TRIADS', 'INCOMING_1TO3_TRIADS', 'OUTGOING_RECIPROCAL_TRIADS')\n",
      "684\n",
      "('NO_EDGE_TRIADS', 'SINGLE_EDGE_TRIADS', 'INCOMING_TRIADS', 'INCOMING_1TO3_TRIADS', 'OUTGOING_RECIPROCAL_TRIADS')\n",
      "330\n",
      "('NO_EDGE_TRIADS', 'SINGLE_EDGE_TRIADS', 'UNIDIRECTIONAL_TRIADS', 'INCOMING_2TO3_TRIADS', 'OUTGOING_RECIPROCAL_TRIADS')\n",
      "153\n",
      "('NO_EDGE_TRIADS', 'SINGLE_EDGE_TRIADS', 'INCOMING_TRIADS', 'INCOMING_2TO3_TRIADS', 'OUTGOING_RECIPROCAL_TRIADS')\n",
      "161\n",
      "('NO_EDGE_TRIADS', 'SINGLE_EDGE_TRIADS', 'UNIDIRECTIONAL_TRIADS', 'INCOMING_1TO3_TRIADS', 'OUTGOING_RECIPROCAL_TRIADS')\n",
      "65\n",
      "('NO_EDGE_TRIADS', 'SINGLE_EDGE_TRIADS', 'OUTGOING_TRIADS', 'INCOMING_2TO3_TRIADS', 'DIRECTED_CYCLE_1TO3_TRIADS')\n",
      "240\n",
      "('NO_EDGE_TRIADS', 'SINGLE_EDGE_TRIADS', 'DYADIC_TRIADS', 'INCOMING_1TO3_TRIADS', 'DIRECTED_CYCLE_1TO3_TRIADS')\n",
      "402\n",
      "('NO_EDGE_TRIADS', 'SINGLE_EDGE_TRIADS', 'INCOMING_TRIADS', 'INCOMING_2TO3_TRIADS', 'DIRECTED_CYCLE_1TO3_TRIADS')\n",
      "482\n",
      "('NO_EDGE_TRIADS', 'SINGLE_EDGE_TRIADS', 'INCOMING_TRIADS', 'INCOMING_1TO3_TRIADS', 'DIRECTED_CYCLE_1TO3_TRIADS')\n",
      "221\n",
      "('NO_EDGE_TRIADS', 'SINGLE_EDGE_TRIADS', 'UNIDIRECTIONAL_TRIADS', 'DIRECTED_CYCLE_TRIADS', 'DIRECTED_CYCLE_1TO3_TRIADS')\n",
      "20\n",
      "('NO_EDGE_TRIADS', 'SINGLE_EDGE_TRIADS', 'OUTGOING_TRIADS', 'OUTGOING_3TO1_TRIADS', 'DIRECTED_CYCLE_1TO3_TRIADS')\n",
      "1\n",
      "('NO_EDGE_TRIADS', 'SINGLE_EDGE_TRIADS', 'INCOMING_TRIADS', 'INCOMING_1TO3_TRIADS', 'DIRECIPROCAL_TRIADS')\n",
      "7246\n",
      "('NO_EDGE_TRIADS', 'SINGLE_EDGE_TRIADS', 'DYADIC_TRIADS', 'INCOMING_1TO3_TRIADS', 'DIRECIPROCAL_TRIADS')\n",
      "12581\n",
      "('NO_EDGE_TRIADS', 'SINGLE_EDGE_TRIADS', 'DYADIC_TRIADS', 'OUTGOING_3TO1_TRIADS', 'DIRECIPROCAL_TRIADS')\n",
      "4\n",
      "('NO_EDGE_TRIADS', 'SINGLE_EDGE_TRIADS', 'UNIDIRECTIONAL_TRIADS', 'OUTGOING_3TO1_TRIADS', 'DIRECIPROCAL_TRIADS')\n",
      "4\n",
      "('NO_EDGE_TRIADS', 'SINGLE_EDGE_TRIADS', 'UNIDIRECTIONAL_TRIADS', 'INCOMING_1TO3_TRIADS', 'DIRECIPROCAL_TRIADS')\n",
      "1\n",
      "('NO_EDGE_TRIADS', 'SINGLE_EDGE_TRIADS', 'UNIDIRECTIONAL_TRIADS', 'OUTGOING_3TO1_TRIADS', 'INCOMING_RECIPROCAL_TRIADS', 'DIRECIPROCAL_2TO3_TRIADS')\n",
      "48\n",
      "('NO_EDGE_TRIADS', 'SINGLE_EDGE_TRIADS', 'UNIDIRECTIONAL_TRIADS', 'OUTGOING_3TO1_TRIADS', 'DIRECIPROCAL_TRIADS', 'DIRECIPROCAL_2TO3_TRIADS')\n",
      "14\n",
      "('NO_EDGE_TRIADS', 'SINGLE_EDGE_TRIADS', 'DYADIC_TRIADS', 'INCOMING_1TO3_TRIADS', 'OUTGOING_RECIPROCAL_TRIADS', 'DIRECIPROCAL_2TO3_TRIADS')\n",
      "418\n",
      "('NO_EDGE_TRIADS', 'SINGLE_EDGE_TRIADS', 'INCOMING_TRIADS', 'INCOMING_1TO3_TRIADS', 'DIRECTED_CYCLE_1TO3_TRIADS', 'DIRECIPROCAL_2TO3_TRIADS')\n",
      "113\n",
      "('NO_EDGE_TRIADS', 'SINGLE_EDGE_TRIADS', 'INCOMING_TRIADS', 'INCOMING_2TO3_TRIADS', 'INCOMING_RECIPROCAL_TRIADS', 'DIRECIPROCAL_2TO3_TRIADS')\n",
      "256\n",
      "('NO_EDGE_TRIADS', 'SINGLE_EDGE_TRIADS', 'DYADIC_TRIADS', 'INCOMING_1TO3_TRIADS', 'DIRECTED_CYCLE_1TO3_TRIADS', 'DIRECIPROCAL_2TO3_TRIADS')\n",
      "252\n",
      "('NO_EDGE_TRIADS', 'SINGLE_EDGE_TRIADS', 'UNIDIRECTIONAL_TRIADS', 'INCOMING_2TO3_TRIADS', 'OUTGOING_RECIPROCAL_TRIADS', 'DIRECIPROCAL_2TO3_TRIADS')\n",
      "76\n",
      "('NO_EDGE_TRIADS', 'SINGLE_EDGE_TRIADS', 'INCOMING_TRIADS', 'INCOMING_1TO3_TRIADS', 'DIRECIPROCAL_TRIADS', 'DIRECIPROCAL_2TO3_TRIADS')\n",
      "145\n",
      "('NO_EDGE_TRIADS', 'SINGLE_EDGE_TRIADS', 'INCOMING_TRIADS', 'INCOMING_2TO3_TRIADS', 'DIRECTED_CYCLE_1TO3_TRIADS', 'DIRECIPROCAL_2TO3_TRIADS')\n",
      "174\n",
      "('NO_EDGE_TRIADS', 'SINGLE_EDGE_TRIADS', 'OUTGOING_TRIADS', 'INCOMING_2TO3_TRIADS', 'INCOMING_RECIPROCAL_TRIADS', 'DIRECIPROCAL_2TO3_TRIADS')\n",
      "20\n",
      "('NO_EDGE_TRIADS', 'SINGLE_EDGE_TRIADS', 'UNIDIRECTIONAL_TRIADS', 'INCOMING_2TO3_TRIADS', 'INCOMING_RECIPROCAL_TRIADS', 'DIRECIPROCAL_2TO3_TRIADS')\n",
      "30\n",
      "('NO_EDGE_TRIADS', 'SINGLE_EDGE_TRIADS', 'DYADIC_TRIADS', 'INCOMING_1TO3_TRIADS', 'DIRECIPROCAL_TRIADS', 'DIRECIPROCAL_2TO3_TRIADS')\n",
      "240\n",
      "('NO_EDGE_TRIADS', 'SINGLE_EDGE_TRIADS', 'INCOMING_TRIADS', 'INCOMING_1TO3_TRIADS', 'OUTGOING_RECIPROCAL_TRIADS', 'DIRECIPROCAL_2TO3_TRIADS')\n",
      "133\n",
      "('NO_EDGE_TRIADS', 'SINGLE_EDGE_TRIADS', 'OUTGOING_TRIADS', 'INCOMING_2TO3_TRIADS', 'DIRECTED_CYCLE_1TO3_TRIADS', 'DIRECIPROCAL_2TO3_TRIADS')\n",
      "60\n",
      "('NO_EDGE_TRIADS', 'SINGLE_EDGE_TRIADS', 'INCOMING_TRIADS', 'INCOMING_2TO3_TRIADS', 'OUTGOING_RECIPROCAL_TRIADS', 'DIRECIPROCAL_2TO3_TRIADS')\n",
      "90\n",
      "('NO_EDGE_TRIADS', 'SINGLE_EDGE_TRIADS', 'UNIDIRECTIONAL_TRIADS', 'INCOMING_1TO3_TRIADS', 'OUTGOING_RECIPROCAL_TRIADS', 'DIRECIPROCAL_2TO3_TRIADS')\n",
      "30\n",
      "('NO_EDGE_TRIADS', 'SINGLE_EDGE_TRIADS', 'OUTGOING_TRIADS', 'OUTGOING_3TO1_TRIADS', 'INCOMING_RECIPROCAL_TRIADS', 'DIRECIPROCAL_2TO3_TRIADS')\n",
      "1\n",
      "('NO_EDGE_TRIADS', 'SINGLE_EDGE_TRIADS', 'UNIDIRECTIONAL_TRIADS', 'DIRECTED_CYCLE_TRIADS', 'DIRECTED_CYCLE_1TO3_TRIADS', 'DIRECIPROCAL_2TO3_TRIADS')\n",
      "3\n",
      "('NO_EDGE_TRIADS', 'SINGLE_EDGE_TRIADS', 'UNIDIRECTIONAL_TRIADS', 'INCOMING_1TO3_TRIADS', 'DIRECIPROCAL_TRIADS', 'DIRECIPROCAL_2TO3_TRIADS')\n",
      "2\n",
      "('NO_EDGE_TRIADS', 'SINGLE_EDGE_TRIADS', 'UNIDIRECTIONAL_TRIADS', 'INCOMING_1TO3_TRIADS', 'DIRECTED_CYCLE_1TO3_TRIADS', 'DIRECIPROCAL_2TO3_TRIADS')\n",
      "1\n",
      "('NO_EDGE_TRIADS', 'SINGLE_EDGE_TRIADS', 'UNIDIRECTIONAL_TRIADS', 'OUTGOING_3TO1_TRIADS', 'DIRECTED_CYCLE_1TO3_TRIADS', 'DIRECIPROCAL_2TO3_TRIADS')\n",
      "1\n",
      "('NO_EDGE_TRIADS', 'SINGLE_EDGE_TRIADS', 'OUTGOING_TRIADS', 'INCOMING_2TO3_TRIADS', 'OUTGOING_RECIPROCAL_TRIADS', 'DIRECIPROCAL_2TO3_TRIADS')\n",
      "1\n",
      "('NO_EDGE_TRIADS', 'SINGLE_EDGE_TRIADS', 'INCOMING_TRIADS', 'INCOMING_1TO3_TRIADS', 'OUTGOING_RECIPROCAL_TRIADS', 'DIRECIPROCAL_2TO3_TRIADS', 'TRIRECIPROCAL_TRIADS')\n",
      "31\n",
      "('NO_EDGE_TRIADS', 'SINGLE_EDGE_TRIADS', 'INCOMING_TRIADS', 'INCOMING_1TO3_TRIADS', 'DIRECIPROCAL_TRIADS', 'DIRECIPROCAL_2TO3_TRIADS', 'TRIRECIPROCAL_TRIADS')\n",
      "21\n",
      "('NO_EDGE_TRIADS', 'SINGLE_EDGE_TRIADS', 'UNIDIRECTIONAL_TRIADS', 'INCOMING_2TO3_TRIADS', 'INCOMING_RECIPROCAL_TRIADS', 'DIRECIPROCAL_2TO3_TRIADS', 'TRIRECIPROCAL_TRIADS')\n",
      "38\n",
      "('NO_EDGE_TRIADS', 'SINGLE_EDGE_TRIADS', 'INCOMING_TRIADS', 'INCOMING_2TO3_TRIADS', 'OUTGOING_RECIPROCAL_TRIADS', 'DIRECIPROCAL_2TO3_TRIADS', 'TRIRECIPROCAL_TRIADS')\n",
      "42\n",
      "('NO_EDGE_TRIADS', 'SINGLE_EDGE_TRIADS', 'OUTGOING_TRIADS', 'OUTGOING_3TO1_TRIADS', 'INCOMING_RECIPROCAL_TRIADS', 'DIRECIPROCAL_2TO3_TRIADS', 'TRIRECIPROCAL_TRIADS')\n",
      "30\n",
      "('NO_EDGE_TRIADS', 'SINGLE_EDGE_TRIADS', 'UNIDIRECTIONAL_TRIADS', 'OUTGOING_3TO1_TRIADS', 'INCOMING_RECIPROCAL_TRIADS', 'DIRECIPROCAL_2TO3_TRIADS', 'TRIRECIPROCAL_TRIADS')\n",
      "7\n",
      "('NO_EDGE_TRIADS', 'SINGLE_EDGE_TRIADS', 'INCOMING_TRIADS', 'INCOMING_2TO3_TRIADS', 'DIRECTED_CYCLE_1TO3_TRIADS', 'DIRECIPROCAL_2TO3_TRIADS', 'TRIRECIPROCAL_TRIADS')\n",
      "16\n",
      "('NO_EDGE_TRIADS', 'SINGLE_EDGE_TRIADS', 'OUTGOING_TRIADS', 'OUTGOING_3TO1_TRIADS', 'DIRECIPROCAL_TRIADS', 'DIRECIPROCAL_2TO3_TRIADS', 'TRIRECIPROCAL_TRIADS')\n",
      "38\n",
      "('NO_EDGE_TRIADS', 'SINGLE_EDGE_TRIADS', 'DYADIC_TRIADS', 'OUTGOING_3TO1_TRIADS', 'DIRECIPROCAL_TRIADS', 'DIRECIPROCAL_2TO3_TRIADS', 'TRIRECIPROCAL_TRIADS')\n",
      "21\n",
      "('NO_EDGE_TRIADS', 'SINGLE_EDGE_TRIADS', 'UNIDIRECTIONAL_TRIADS', 'OUTGOING_3TO1_TRIADS', 'DIRECTED_CYCLE_1TO3_TRIADS', 'DIRECIPROCAL_2TO3_TRIADS', 'TRIRECIPROCAL_TRIADS')\n",
      "1\n",
      "('NO_EDGE_TRIADS', 'SINGLE_EDGE_TRIADS', 'DYADIC_TRIADS', 'INCOMING_1TO3_TRIADS', 'OUTGOING_RECIPROCAL_TRIADS', 'DIRECIPROCAL_2TO3_TRIADS', 'TRIRECIPROCAL_TRIADS')\n",
      "15\n",
      "('NO_EDGE_TRIADS', 'SINGLE_EDGE_TRIADS', 'UNIDIRECTIONAL_TRIADS', 'INCOMING_2TO3_TRIADS', 'DIRECTED_CYCLE_1TO3_TRIADS', 'DIRECIPROCAL_2TO3_TRIADS', 'TRIRECIPROCAL_TRIADS')\n",
      "7\n",
      "('NO_EDGE_TRIADS', 'SINGLE_EDGE_TRIADS', 'DYADIC_TRIADS', 'INCOMING_1TO3_TRIADS', 'DIRECTED_CYCLE_1TO3_TRIADS', 'DIRECIPROCAL_2TO3_TRIADS', 'TRIRECIPROCAL_TRIADS')\n",
      "10\n",
      "('NO_EDGE_TRIADS', 'SINGLE_EDGE_TRIADS', 'DYADIC_TRIADS', 'INCOMING_1TO3_TRIADS', 'DIRECIPROCAL_TRIADS', 'DIRECIPROCAL_2TO3_TRIADS', 'TRIRECIPROCAL_TRIADS')\n",
      "27\n",
      "('NO_EDGE_TRIADS', 'SINGLE_EDGE_TRIADS', 'UNIDIRECTIONAL_TRIADS', 'INCOMING_1TO3_TRIADS', 'OUTGOING_RECIPROCAL_TRIADS', 'DIRECIPROCAL_2TO3_TRIADS', 'TRIRECIPROCAL_TRIADS')\n",
      "8\n",
      "('NO_EDGE_TRIADS', 'SINGLE_EDGE_TRIADS', 'OUTGOING_TRIADS', 'INCOMING_2TO3_TRIADS', 'INCOMING_RECIPROCAL_TRIADS', 'DIRECIPROCAL_2TO3_TRIADS', 'TRIRECIPROCAL_TRIADS')\n",
      "8\n",
      "('NO_EDGE_TRIADS', 'SINGLE_EDGE_TRIADS', 'OUTGOING_TRIADS', 'OUTGOING_3TO1_TRIADS', 'DIRECTED_CYCLE_1TO3_TRIADS', 'DIRECIPROCAL_2TO3_TRIADS', 'TRIRECIPROCAL_TRIADS')\n",
      "17\n",
      "('NO_EDGE_TRIADS', 'SINGLE_EDGE_TRIADS', 'UNIDIRECTIONAL_TRIADS', 'OUTGOING_3TO1_TRIADS', 'DIRECIPROCAL_TRIADS', 'DIRECIPROCAL_2TO3_TRIADS', 'TRIRECIPROCAL_TRIADS')\n",
      "3\n",
      "('NO_EDGE_TRIADS', 'SINGLE_EDGE_TRIADS', 'DYADIC_TRIADS', 'OUTGOING_3TO1_TRIADS', 'DIRECTED_CYCLE_1TO3_TRIADS', 'DIRECIPROCAL_2TO3_TRIADS', 'TRIRECIPROCAL_TRIADS')\n",
      "1\n",
      "('NO_EDGE_TRIADS', 'SINGLE_EDGE_TRIADS', 'OUTGOING_TRIADS', 'INCOMING_2TO3_TRIADS', 'OUTGOING_RECIPROCAL_TRIADS', 'DIRECIPROCAL_2TO3_TRIADS', 'TRIRECIPROCAL_TRIADS')\n",
      "13\n",
      "('NO_EDGE_TRIADS', 'SINGLE_EDGE_TRIADS', 'UNIDIRECTIONAL_TRIADS', 'INCOMING_2TO3_TRIADS', 'OUTGOING_RECIPROCAL_TRIADS', 'DIRECIPROCAL_2TO3_TRIADS', 'TRIRECIPROCAL_TRIADS')\n",
      "1\n",
      "('NO_EDGE_TRIADS', 'SINGLE_EDGE_TRIADS', 'UNIDIRECTIONAL_TRIADS', 'INCOMING_1TO3_TRIADS', 'DIRECTED_CYCLE_1TO3_TRIADS', 'DIRECIPROCAL_2TO3_TRIADS', 'TRIRECIPROCAL_TRIADS')\n",
      "3\n",
      "('NO_EDGE_TRIADS', 'SINGLE_EDGE_TRIADS', 'UNIDIRECTIONAL_TRIADS', 'INCOMING_1TO3_TRIADS', 'DIRECIPROCAL_TRIADS', 'DIRECIPROCAL_2TO3_TRIADS', 'TRIRECIPROCAL_TRIADS')\n",
      "1\n"
     ]
    }
   ],
   "source": [
    "for path in path_dict:\n",
    "    print(path)\n",
    "    print(len(path_dict[path]))"
   ]
  },
  {
   "cell_type": "code",
   "execution_count": 33,
   "metadata": {},
   "outputs": [],
   "source": [
    "motif2 = path_dict[('NO_EDGE_TRIADS', 'SINGLE_EDGE_TRIADS', 'DYADIC_TRIADS', 'INCOMING_1TO3_TRIADS', 'DIRECIPROCAL_TRIADS', 'DIRECIPROCAL_2TO3_TRIADS')][2]"
   ]
  },
  {
   "cell_type": "code",
   "execution_count": 34,
   "metadata": {},
   "outputs": [],
   "source": [
    "def replay_motif(motif):\n",
    "    pathway = get_development_path(motif)\n",
    "    sorted_edges = sorted(motif.edges, key=lambda e: e[0]['timestamp'])\n",
    "    for i in range(len(pathway)):\n",
    "        if i == 0: continue\n",
    "        print(\"########################\")\n",
    "        print(\"{} -> {}\".format(pathway[i-1], pathway[i]))\n",
    "        print()\n",
    "        edge = sorted_edges[i-1][0]\n",
    "        print(\"{} <- {}\".format(edge['target'], edge['speaker']))\n",
    "        print()\n",
    "        print(\"TEXT: {}\".format(edge['text']))\n",
    "        print()\n",
    "        if edge['root']:\n",
    "            print(\"(This utterance responds to a top-level-comment!)\")\n",
    "            print()"
   ]
  },
  {
   "cell_type": "code",
   "execution_count": 35,
   "metadata": {},
   "outputs": [],
   "source": [
    "def display_motif(motif):\n",
    "    print(motif.triad_type)\n",
    "    print()\n",
    "    labels = motif.labels\n",
    "    edges = [e[0]['text'] for e in motif.edges]\n",
    "    \n",
    "    for i in range(len(labels)):\n",
    "        print(labels[i])\n",
    "        print(edges[i])\n",
    "        print()"
   ]
  },
  {
   "cell_type": "code",
   "execution_count": 36,
   "metadata": {},
   "outputs": [
    {
     "name": "stdout",
     "output_type": "stream",
     "text": [
      "########################\n",
      "NO_EDGE_TRIADS -> SINGLE_EDGE_TRIADS\n",
      "\n",
      "User([('name', 'honestbleeps')]) <- User([('name', '[deleted-t1_c0rfz09]')])\n",
      "\n",
      "TEXT: Vs also said show me the rulebook. Goalies on ANY team are given a lot of lead on the physical presence on the net. Know why? cause they aren't big ass forwards.\n",
      "\n",
      "Again, your team would get less calls if they weren't coming in with a young and brazen attitude about when to be aggressive. Keep it on the down low. Either way, it's hockey suck it up\n",
      "\n",
      "(This utterance responds to a top-level-comment!)\n",
      "\n",
      "########################\n",
      "SINGLE_EDGE_TRIADS -> DYADIC_TRIADS\n",
      "\n",
      "User([('name', '[deleted-t1_c0rfz09]')]) <- User([('name', 'honestbleeps')])\n",
      "\n",
      "TEXT: A stick to the face is a penalty every single time except on a shot follow through.\n",
      "\n",
      "Go read the rulebook.\n",
      "\n",
      "########################\n",
      "DYADIC_TRIADS -> INCOMING_1TO3_TRIADS\n",
      "\n",
      "User([('name', 'honestbleeps')]) <- User([('name', 'SteveJankowski1')])\n",
      "\n",
      "TEXT: Flyers got away with another hook on Ladd in the slot just after you posted this.\n",
      "\n",
      "(This utterance responds to a top-level-comment!)\n",
      "\n",
      "########################\n",
      "INCOMING_1TO3_TRIADS -> DIRECIPROCAL_TRIADS\n",
      "\n",
      "User([('name', 'SteveJankowski1')]) <- User([('name', 'honestbleeps')])\n",
      "\n",
      "TEXT: show Zerom0d the rulebook.\n",
      "\n",
      "########################\n",
      "DIRECIPROCAL_TRIADS -> DIRECIPROCAL_2TO3_TRIADS\n",
      "\n",
      "User([('name', 'SteveJankowski1')]) <- User([('name', '[deleted-t1_c0rfz09]')])\n",
      "\n",
      "TEXT: I saw that too.  There were a lot of miss calls both ways.  They missed a trip on briere right before they called the slash against black hawks.  Earlier a hawk used his legs to hold a flyer.\n",
      "\n"
     ]
    }
   ],
   "source": [
    "replay_motif(motif2)"
   ]
  },
  {
   "cell_type": "code",
   "execution_count": 37,
   "metadata": {},
   "outputs": [],
   "source": [
    "viz_motif(motif2, text_limit = 30)"
   ]
  },
  {
   "cell_type": "code",
   "execution_count": 38,
   "metadata": {},
   "outputs": [
    {
     "data": {
      "text/plain": [
       "{'NO_EDGE_TRIADS': [],\n",
       " 'SINGLE_EDGE_TRIADS': [],\n",
       " 'INCOMING_TRIADS': [],\n",
       " 'OUTGOING_TRIADS': [],\n",
       " 'DYADIC_TRIADS': [],\n",
       " 'UNIDIRECTIONAL_TRIADS': [],\n",
       " 'INCOMING_2TO3_TRIADS': [],\n",
       " 'INCOMING_1TO3_TRIADS': [],\n",
       " 'DIRECTED_CYCLE_TRIADS': [],\n",
       " 'OUTGOING_3TO1_TRIADS': [],\n",
       " 'INCOMING_RECIPROCAL_TRIADS': [],\n",
       " 'OUTGOING_RECIPROCAL_TRIADS': [],\n",
       " 'DIRECTED_CYCLE_1TO3_TRIADS': [],\n",
       " 'DIRECIPROCAL_TRIADS': [],\n",
       " 'DIRECIPROCAL_2TO3_TRIADS': [<convokit.triadMotif.TriadMotif at 0x1ad200be0>],\n",
       " 'TRIRECIPROCAL_TRIADS': []}"
      ]
     },
     "execution_count": 38,
     "metadata": {},
     "output_type": "execute_result"
    }
   ],
   "source": [
    "spec = threads['t1_c2zdwxx']\n",
    "hg = hc._make_hypergraph(uts=spec)\n",
    "hg.extract_motifs()"
   ]
  },
  {
   "cell_type": "code",
   "execution_count": 39,
   "metadata": {},
   "outputs": [],
   "source": [
    "motif3 = hg.extract_motifs()['DIRECIPROCAL_2TO3_TRIADS'][0]"
   ]
  },
  {
   "cell_type": "code",
   "execution_count": 40,
   "metadata": {},
   "outputs": [],
   "source": [
    "viz_motif(motif3, text_limit=40)"
   ]
  },
  {
   "cell_type": "code",
   "execution_count": 41,
   "metadata": {},
   "outputs": [
    {
     "name": "stdout",
     "output_type": "stream",
     "text": [
      "DIRECIPROCAL_2TO3_TRIADS\n",
      "\n",
      "C1->C2\n",
      "That's not logical.  R/MR is one of few reddits where people don't buy into the mainstream bullshit view (that men are evil and women are all victims).  Therefore it is a place where there will be some people who are smart enough and open-minded enough to realize that men's rights is part of a larger issue.\n",
      "\n",
      "Spending my time here is more valuable than going around posting links at every sub-reddit, obviously.\n",
      "\n",
      "C2->C1\n",
      "By that logic, you should go x-post this to every subreddit here, every single one, because the race can impact all of them. Get to work.\n",
      "\n",
      "C1->C3\n",
      "It's not unrelated, and it's not spam.  Just because you don't agree with it doesn't make it unrelated or not spam.  Learn a little reddiquette.\n",
      "\n",
      "The presidential race will have significant effects on the path our country takes and our boys will suffer greatly if we elect a president that gets us involved in unnecessary wars.  The only presidential candidate who respects the constitution is Ron Paul.  Vote for anyone else and you're voting for more state-sanctioned misandry, it's that simple.\n",
      "\n",
      "It's **incredibly** stupid to claim that the results of the presidential race have no bearing on men's rights.\n",
      "\n",
      "Why is it every time I post something political all the ignorant partisan idiots come out of the woodwork to trash it?  Grow up.\n",
      "\n",
      "C3->C1\n",
      "Why do you think people with different political views who are still Men's Rights Activists don't post things about their preferred political candidate here?\n",
      "\n",
      "Are you just smarter than all of them or do you have more balls?\n",
      "\n",
      "C2->C3\n",
      "Every single thread with this crap, same guy too. It's not that I don't agree with it, I just hate seeing my favorite subreddit polluted with unrelated bullshit. You don't need to go the Jehova's Witness route, seriously, it doesn't help.\n",
      "\n"
     ]
    }
   ],
   "source": [
    "display_motif(motif3)"
   ]
  },
  {
   "cell_type": "code",
   "execution_count": 42,
   "metadata": {},
   "outputs": [
    {
     "name": "stdout",
     "output_type": "stream",
     "text": [
      "########################\n",
      "NO_EDGE_TRIADS -> SINGLE_EDGE_TRIADS\n",
      "\n",
      "User([('name', 'memymineown')]) <- User([('name', 'drinkthebleach')])\n",
      "\n",
      "TEXT: Every single thread with this crap, same guy too. It's not that I don't agree with it, I just hate seeing my favorite subreddit polluted with unrelated bullshit. You don't need to go the Jehova's Witness route, seriously, it doesn't help.\n",
      "\n",
      "(This utterance responds to a top-level-comment!)\n",
      "\n",
      "########################\n",
      "SINGLE_EDGE_TRIADS -> INCOMING_TRIADS\n",
      "\n",
      "User([('name', 'memymineown')]) <- User([('name', 'thingsarebad')])\n",
      "\n",
      "TEXT: It's not unrelated, and it's not spam.  Just because you don't agree with it doesn't make it unrelated or not spam.  Learn a little reddiquette.\n",
      "\n",
      "The presidential race will have significant effects on the path our country takes and our boys will suffer greatly if we elect a president that gets us involved in unnecessary wars.  The only presidential candidate who respects the constitution is Ron Paul.  Vote for anyone else and you're voting for more state-sanctioned misandry, it's that simple.\n",
      "\n",
      "It's **incredibly** stupid to claim that the results of the presidential race have no bearing on men's rights.\n",
      "\n",
      "Why is it every time I post something political all the ignorant partisan idiots come out of the woodwork to trash it?  Grow up.\n",
      "\n",
      "(This utterance responds to a top-level-comment!)\n",
      "\n",
      "########################\n",
      "INCOMING_TRIADS -> INCOMING_2TO3_TRIADS\n",
      "\n",
      "User([('name', 'thingsarebad')]) <- User([('name', 'drinkthebleach')])\n",
      "\n",
      "TEXT: By that logic, you should go x-post this to every subreddit here, every single one, because the race can impact all of them. Get to work.\n",
      "\n",
      "########################\n",
      "INCOMING_2TO3_TRIADS -> INCOMING_RECIPROCAL_TRIADS\n",
      "\n",
      "User([('name', 'drinkthebleach')]) <- User([('name', 'thingsarebad')])\n",
      "\n",
      "TEXT: That's not logical.  R/MR is one of few reddits where people don't buy into the mainstream bullshit view (that men are evil and women are all victims).  Therefore it is a place where there will be some people who are smart enough and open-minded enough to realize that men's rights is part of a larger issue.\n",
      "\n",
      "Spending my time here is more valuable than going around posting links at every sub-reddit, obviously.\n",
      "\n",
      "########################\n",
      "INCOMING_RECIPROCAL_TRIADS -> DIRECIPROCAL_2TO3_TRIADS\n",
      "\n",
      "User([('name', 'thingsarebad')]) <- User([('name', 'memymineown')])\n",
      "\n",
      "TEXT: Why do you think people with different political views who are still Men's Rights Activists don't post things about their preferred political candidate here?\n",
      "\n",
      "Are you just smarter than all of them or do you have more balls?\n",
      "\n"
     ]
    }
   ],
   "source": [
    "replay_motif(motif3)"
   ]
  },
  {
   "cell_type": "code",
   "execution_count": 43,
   "metadata": {},
   "outputs": [],
   "source": [
    "viz_motif(motif1, text_limit = 40)"
   ]
  },
  {
   "cell_type": "code",
   "execution_count": 44,
   "metadata": {},
   "outputs": [
    {
     "name": "stdout",
     "output_type": "stream",
     "text": [
      "########################\n",
      "NO_EDGE_TRIADS -> SINGLE_EDGE_TRIADS\n",
      "\n",
      "User([('name', 'edify')]) <- User([('name', 'derb')])\n",
      "\n",
      "TEXT: cool, i've got a few things waiting to be watched. thanks.\n",
      "\n",
      "(This utterance responds to a top-level-comment!)\n",
      "\n",
      "########################\n",
      "SINGLE_EDGE_TRIADS -> OUTGOING_TRIADS\n",
      "\n",
      "User([('name', 'derb')]) <- User([('name', 'edify')])\n",
      "\n",
      "TEXT: I edited my post a bit to contain more relevant information. Also, that other guy responding is kinda rude.\n",
      "\n",
      "Good luck quitting pot. I quit when the economy tanked incase I ever lose my job so I can easily pass a drug test right away.\n",
      "\n",
      "########################\n",
      "OUTGOING_TRIADS -> OUTGOING_3TO1_TRIADS\n",
      "\n",
      "User([('name', 'edify')]) <- User([('name', '[deleted-t1_c0lddw0]')])\n",
      "\n",
      "TEXT: [deleted]\n",
      "\n",
      "########################\n",
      "OUTGOING_3TO1_TRIADS -> DIRECIPROCAL_TRIADS\n",
      "\n",
      "User([('name', '[deleted-t1_c0lddw0]')]) <- User([('name', 'edify')])\n",
      "\n",
      "TEXT: Hey I understand the drunk thing totally. Might want to cool your jets a bit though.... derb is just asking an innocent question. I'll un-downvote you now :P\n",
      "\n",
      "########################\n",
      "DIRECIPROCAL_TRIADS -> DIRECIPROCAL_2TO3_TRIADS\n",
      "\n",
      "User([('name', '[deleted-t1_c0lddw0]')]) <- User([('name', 'derb')])\n",
      "\n",
      "TEXT: you're alright dude, there's no point if everyone just agrees with me.\n",
      "\n",
      "########################\n",
      "DIRECIPROCAL_2TO3_TRIADS -> TRIRECIPROCAL_TRIADS\n",
      "\n",
      "User([('name', 'derb')]) <- User([('name', '[deleted-t1_c0lddw0]')])\n",
      "\n",
      "TEXT: [deleted]\n",
      "\n"
     ]
    }
   ],
   "source": [
    "replay_motif(motif1)"
   ]
  },
  {
   "cell_type": "markdown",
   "metadata": {},
   "source": [
    "# Relaxing conditions"
   ]
  },
  {
   "cell_type": "markdown",
   "metadata": {},
   "source": [
    "If we do the math, we find that we have 1220 motifs with triadic closure. Probably a fair bit less if we exclude motifs that have edges with deleted texts. Let's relax the condition by having the \"User posting a top level comment\" be relaxed to \"User posting any comment\" and having two other Users respond to that."
   ]
  },
  {
   "cell_type": "code",
   "execution_count": 45,
   "metadata": {},
   "outputs": [],
   "source": [
    "path_dict2 = defaultdict(list)"
   ]
  },
  {
   "cell_type": "code",
   "execution_count": 46,
   "metadata": {},
   "outputs": [
    {
     "data": {
      "text/plain": [
       "dict_keys(['NO_EDGE_TRIADS', 'SINGLE_EDGE_TRIADS', 'INCOMING_TRIADS', 'OUTGOING_TRIADS', 'DYADIC_TRIADS', 'UNIDIRECTIONAL_TRIADS', 'INCOMING_2TO3_TRIADS', 'INCOMING_1TO3_TRIADS', 'DIRECTED_CYCLE_TRIADS', 'OUTGOING_3TO1_TRIADS', 'INCOMING_RECIPROCAL_TRIADS', 'OUTGOING_RECIPROCAL_TRIADS', 'DIRECTED_CYCLE_1TO3_TRIADS', 'DIRECIPROCAL_TRIADS', 'DIRECIPROCAL_2TO3_TRIADS', 'TRIRECIPROCAL_TRIADS'])"
      ]
     },
     "execution_count": 46,
     "metadata": {},
     "output_type": "execute_result"
    }
   ],
   "source": [
    "triad_dict.keys()"
   ]
  },
  {
   "cell_type": "code",
   "execution_count": 47,
   "metadata": {},
   "outputs": [],
   "source": [
    "for motif_type, motif_instances in triad_dict.items():\n",
    "    for motif_instance in motif_instances:\n",
    "        if len(motif_instance.edges) == 0: continue \n",
    "        num_replies_to_root = 0\n",
    "        \n",
    "        utts_replied_to = [edge_set[0]['reply_to'] for edge_set in motif_instance.edges]\n",
    "        if max(Counter(utts_replied_to).values()) == 2:\n",
    "            path_dict2[get_development_path(motif_instance)].append(motif_instance)"
   ]
  },
  {
   "cell_type": "markdown",
   "metadata": {},
   "source": [
    "We now have the machinery to do more interesting analyses:"
   ]
  },
  {
   "cell_type": "code",
   "execution_count": 48,
   "metadata": {},
   "outputs": [
    {
     "data": {
      "text/plain": [
       "389411"
      ]
     },
     "execution_count": 48,
     "metadata": {},
     "output_type": "execute_result"
    }
   ],
   "source": [
    "get_num_paths(path_dict2)"
   ]
  },
  {
   "cell_type": "code",
   "execution_count": 49,
   "metadata": {},
   "outputs": [
    {
     "name": "stdout",
     "output_type": "stream",
     "text": [
      "86\n"
     ]
    }
   ],
   "source": [
    "print(len(path_dict2))"
   ]
  },
  {
   "cell_type": "code",
   "execution_count": 50,
   "metadata": {},
   "outputs": [],
   "source": [
    "pd2 = {k: len(v) for k, v in path_dict2.items()}\n",
    "end_state = defaultdict(int)\n",
    "for path, count in pd2.items():\n",
    "    end_state[path[-1]] += count"
   ]
  },
  {
   "cell_type": "code",
   "execution_count": 51,
   "metadata": {},
   "outputs": [
    {
     "data": {
      "text/plain": [
       "defaultdict(int,\n",
       "            {'INCOMING_TRIADS': 220028,\n",
       "             'INCOMING_2TO3_TRIADS': 7249,\n",
       "             'INCOMING_1TO3_TRIADS': 112020,\n",
       "             'INCOMING_RECIPROCAL_TRIADS': 2297,\n",
       "             'OUTGOING_RECIPROCAL_TRIADS': 2425,\n",
       "             'DIRECTED_CYCLE_1TO3_TRIADS': 3403,\n",
       "             'DIRECIPROCAL_TRIADS': 36788,\n",
       "             'DIRECIPROCAL_2TO3_TRIADS': 4488,\n",
       "             'TRIRECIPROCAL_TRIADS': 713})"
      ]
     },
     "execution_count": 51,
     "metadata": {},
     "output_type": "execute_result"
    }
   ],
   "source": [
    "end_state"
   ]
  },
  {
   "cell_type": "code",
   "execution_count": 52,
   "metadata": {},
   "outputs": [
    {
     "data": {
      "text/plain": [
       "{('NO_EDGE_TRIADS', 'SINGLE_EDGE_TRIADS', 'INCOMING_TRIADS'): 220028,\n",
       " ('NO_EDGE_TRIADS',\n",
       "  'SINGLE_EDGE_TRIADS',\n",
       "  'INCOMING_TRIADS',\n",
       "  'INCOMING_2TO3_TRIADS'): 5190,\n",
       " ('NO_EDGE_TRIADS',\n",
       "  'SINGLE_EDGE_TRIADS',\n",
       "  'UNIDIRECTIONAL_TRIADS',\n",
       "  'INCOMING_2TO3_TRIADS'): 2024,\n",
       " ('NO_EDGE_TRIADS',\n",
       "  'SINGLE_EDGE_TRIADS',\n",
       "  'OUTGOING_TRIADS',\n",
       "  'INCOMING_2TO3_TRIADS'): 35,\n",
       " ('NO_EDGE_TRIADS',\n",
       "  'SINGLE_EDGE_TRIADS',\n",
       "  'DYADIC_TRIADS',\n",
       "  'INCOMING_1TO3_TRIADS'): 57051,\n",
       " ('NO_EDGE_TRIADS',\n",
       "  'SINGLE_EDGE_TRIADS',\n",
       "  'INCOMING_TRIADS',\n",
       "  'INCOMING_1TO3_TRIADS'): 44171,\n",
       " ('NO_EDGE_TRIADS',\n",
       "  'SINGLE_EDGE_TRIADS',\n",
       "  'UNIDIRECTIONAL_TRIADS',\n",
       "  'INCOMING_1TO3_TRIADS'): 10798,\n",
       " ('NO_EDGE_TRIADS',\n",
       "  'SINGLE_EDGE_TRIADS',\n",
       "  'INCOMING_TRIADS',\n",
       "  'INCOMING_2TO3_TRIADS',\n",
       "  'INCOMING_RECIPROCAL_TRIADS'): 1669,\n",
       " ('NO_EDGE_TRIADS',\n",
       "  'SINGLE_EDGE_TRIADS',\n",
       "  'UNIDIRECTIONAL_TRIADS',\n",
       "  'OUTGOING_3TO1_TRIADS',\n",
       "  'INCOMING_RECIPROCAL_TRIADS'): 259,\n",
       " ('NO_EDGE_TRIADS',\n",
       "  'SINGLE_EDGE_TRIADS',\n",
       "  'UNIDIRECTIONAL_TRIADS',\n",
       "  'INCOMING_2TO3_TRIADS',\n",
       "  'INCOMING_RECIPROCAL_TRIADS'): 167,\n",
       " ('NO_EDGE_TRIADS',\n",
       "  'SINGLE_EDGE_TRIADS',\n",
       "  'OUTGOING_TRIADS',\n",
       "  'INCOMING_2TO3_TRIADS',\n",
       "  'INCOMING_RECIPROCAL_TRIADS'): 181,\n",
       " ('NO_EDGE_TRIADS',\n",
       "  'SINGLE_EDGE_TRIADS',\n",
       "  'DYADIC_TRIADS',\n",
       "  'OUTGOING_3TO1_TRIADS',\n",
       "  'INCOMING_RECIPROCAL_TRIADS'): 12,\n",
       " ('NO_EDGE_TRIADS',\n",
       "  'SINGLE_EDGE_TRIADS',\n",
       "  'OUTGOING_TRIADS',\n",
       "  'OUTGOING_3TO1_TRIADS',\n",
       "  'INCOMING_RECIPROCAL_TRIADS'): 9,\n",
       " ('NO_EDGE_TRIADS',\n",
       "  'SINGLE_EDGE_TRIADS',\n",
       "  'UNIDIRECTIONAL_TRIADS',\n",
       "  'INCOMING_2TO3_TRIADS',\n",
       "  'OUTGOING_RECIPROCAL_TRIADS'): 217,\n",
       " ('NO_EDGE_TRIADS',\n",
       "  'SINGLE_EDGE_TRIADS',\n",
       "  'DYADIC_TRIADS',\n",
       "  'INCOMING_1TO3_TRIADS',\n",
       "  'OUTGOING_RECIPROCAL_TRIADS'): 1361,\n",
       " ('NO_EDGE_TRIADS',\n",
       "  'SINGLE_EDGE_TRIADS',\n",
       "  'INCOMING_TRIADS',\n",
       "  'INCOMING_1TO3_TRIADS',\n",
       "  'OUTGOING_RECIPROCAL_TRIADS'): 414,\n",
       " ('NO_EDGE_TRIADS',\n",
       "  'SINGLE_EDGE_TRIADS',\n",
       "  'INCOMING_TRIADS',\n",
       "  'INCOMING_2TO3_TRIADS',\n",
       "  'OUTGOING_RECIPROCAL_TRIADS'): 216,\n",
       " ('NO_EDGE_TRIADS',\n",
       "  'SINGLE_EDGE_TRIADS',\n",
       "  'UNIDIRECTIONAL_TRIADS',\n",
       "  'INCOMING_1TO3_TRIADS',\n",
       "  'OUTGOING_RECIPROCAL_TRIADS'): 213,\n",
       " ('NO_EDGE_TRIADS',\n",
       "  'SINGLE_EDGE_TRIADS',\n",
       "  'OUTGOING_TRIADS',\n",
       "  'INCOMING_2TO3_TRIADS',\n",
       "  'OUTGOING_RECIPROCAL_TRIADS'): 4,\n",
       " ('NO_EDGE_TRIADS',\n",
       "  'SINGLE_EDGE_TRIADS',\n",
       "  'OUTGOING_TRIADS',\n",
       "  'INCOMING_2TO3_TRIADS',\n",
       "  'DIRECTED_CYCLE_1TO3_TRIADS'): 294,\n",
       " ('NO_EDGE_TRIADS',\n",
       "  'SINGLE_EDGE_TRIADS',\n",
       "  'UNIDIRECTIONAL_TRIADS',\n",
       "  'INCOMING_1TO3_TRIADS',\n",
       "  'DIRECTED_CYCLE_1TO3_TRIADS'): 454,\n",
       " ('NO_EDGE_TRIADS',\n",
       "  'SINGLE_EDGE_TRIADS',\n",
       "  'DYADIC_TRIADS',\n",
       "  'INCOMING_1TO3_TRIADS',\n",
       "  'DIRECTED_CYCLE_1TO3_TRIADS'): 949,\n",
       " ('NO_EDGE_TRIADS',\n",
       "  'SINGLE_EDGE_TRIADS',\n",
       "  'INCOMING_TRIADS',\n",
       "  'INCOMING_2TO3_TRIADS',\n",
       "  'DIRECTED_CYCLE_1TO3_TRIADS'): 581,\n",
       " ('NO_EDGE_TRIADS',\n",
       "  'SINGLE_EDGE_TRIADS',\n",
       "  'UNIDIRECTIONAL_TRIADS',\n",
       "  'DIRECTED_CYCLE_TRIADS',\n",
       "  'DIRECTED_CYCLE_1TO3_TRIADS'): 495,\n",
       " ('NO_EDGE_TRIADS',\n",
       "  'SINGLE_EDGE_TRIADS',\n",
       "  'INCOMING_TRIADS',\n",
       "  'INCOMING_1TO3_TRIADS',\n",
       "  'DIRECTED_CYCLE_1TO3_TRIADS'): 276,\n",
       " ('NO_EDGE_TRIADS',\n",
       "  'SINGLE_EDGE_TRIADS',\n",
       "  'UNIDIRECTIONAL_TRIADS',\n",
       "  'OUTGOING_3TO1_TRIADS',\n",
       "  'DIRECTED_CYCLE_1TO3_TRIADS'): 345,\n",
       " ('NO_EDGE_TRIADS',\n",
       "  'SINGLE_EDGE_TRIADS',\n",
       "  'OUTGOING_TRIADS',\n",
       "  'OUTGOING_3TO1_TRIADS',\n",
       "  'DIRECTED_CYCLE_1TO3_TRIADS'): 5,\n",
       " ('NO_EDGE_TRIADS',\n",
       "  'SINGLE_EDGE_TRIADS',\n",
       "  'DYADIC_TRIADS',\n",
       "  'OUTGOING_3TO1_TRIADS',\n",
       "  'DIRECTED_CYCLE_1TO3_TRIADS'): 2,\n",
       " ('NO_EDGE_TRIADS',\n",
       "  'SINGLE_EDGE_TRIADS',\n",
       "  'UNIDIRECTIONAL_TRIADS',\n",
       "  'INCOMING_2TO3_TRIADS',\n",
       "  'DIRECTED_CYCLE_1TO3_TRIADS'): 2,\n",
       " ('NO_EDGE_TRIADS',\n",
       "  'SINGLE_EDGE_TRIADS',\n",
       "  'INCOMING_TRIADS',\n",
       "  'INCOMING_1TO3_TRIADS',\n",
       "  'DIRECIPROCAL_TRIADS'): 9548,\n",
       " ('NO_EDGE_TRIADS',\n",
       "  'SINGLE_EDGE_TRIADS',\n",
       "  'UNIDIRECTIONAL_TRIADS',\n",
       "  'OUTGOING_3TO1_TRIADS',\n",
       "  'DIRECIPROCAL_TRIADS'): 3057,\n",
       " ('NO_EDGE_TRIADS',\n",
       "  'SINGLE_EDGE_TRIADS',\n",
       "  'DYADIC_TRIADS',\n",
       "  'INCOMING_1TO3_TRIADS',\n",
       "  'DIRECIPROCAL_TRIADS'): 22367,\n",
       " ('NO_EDGE_TRIADS',\n",
       "  'SINGLE_EDGE_TRIADS',\n",
       "  'UNIDIRECTIONAL_TRIADS',\n",
       "  'INCOMING_1TO3_TRIADS',\n",
       "  'DIRECIPROCAL_TRIADS'): 1790,\n",
       " ('NO_EDGE_TRIADS',\n",
       "  'SINGLE_EDGE_TRIADS',\n",
       "  'OUTGOING_TRIADS',\n",
       "  'OUTGOING_3TO1_TRIADS',\n",
       "  'DIRECIPROCAL_TRIADS'): 18,\n",
       " ('NO_EDGE_TRIADS',\n",
       "  'SINGLE_EDGE_TRIADS',\n",
       "  'DYADIC_TRIADS',\n",
       "  'OUTGOING_3TO1_TRIADS',\n",
       "  'DIRECIPROCAL_TRIADS'): 8,\n",
       " ('NO_EDGE_TRIADS',\n",
       "  'SINGLE_EDGE_TRIADS',\n",
       "  'INCOMING_TRIADS',\n",
       "  'INCOMING_1TO3_TRIADS',\n",
       "  'DIRECTED_CYCLE_1TO3_TRIADS',\n",
       "  'DIRECIPROCAL_2TO3_TRIADS'): 128,\n",
       " ('NO_EDGE_TRIADS',\n",
       "  'SINGLE_EDGE_TRIADS',\n",
       "  'UNIDIRECTIONAL_TRIADS',\n",
       "  'INCOMING_1TO3_TRIADS',\n",
       "  'OUTGOING_RECIPROCAL_TRIADS',\n",
       "  'DIRECIPROCAL_2TO3_TRIADS'): 123,\n",
       " ('NO_EDGE_TRIADS',\n",
       "  'SINGLE_EDGE_TRIADS',\n",
       "  'UNIDIRECTIONAL_TRIADS',\n",
       "  'OUTGOING_3TO1_TRIADS',\n",
       "  'INCOMING_RECIPROCAL_TRIADS',\n",
       "  'DIRECIPROCAL_2TO3_TRIADS'): 50,\n",
       " ('NO_EDGE_TRIADS',\n",
       "  'SINGLE_EDGE_TRIADS',\n",
       "  'UNIDIRECTIONAL_TRIADS',\n",
       "  'INCOMING_1TO3_TRIADS',\n",
       "  'DIRECTED_CYCLE_1TO3_TRIADS',\n",
       "  'DIRECIPROCAL_2TO3_TRIADS'): 211,\n",
       " ('NO_EDGE_TRIADS',\n",
       "  'SINGLE_EDGE_TRIADS',\n",
       "  'UNIDIRECTIONAL_TRIADS',\n",
       "  'OUTGOING_3TO1_TRIADS',\n",
       "  'DIRECIPROCAL_TRIADS',\n",
       "  'DIRECIPROCAL_2TO3_TRIADS'): 162,\n",
       " ('NO_EDGE_TRIADS',\n",
       "  'SINGLE_EDGE_TRIADS',\n",
       "  'DYADIC_TRIADS',\n",
       "  'INCOMING_1TO3_TRIADS',\n",
       "  'OUTGOING_RECIPROCAL_TRIADS',\n",
       "  'DIRECIPROCAL_2TO3_TRIADS'): 832,\n",
       " ('NO_EDGE_TRIADS',\n",
       "  'SINGLE_EDGE_TRIADS',\n",
       "  'DYADIC_TRIADS',\n",
       "  'INCOMING_1TO3_TRIADS',\n",
       "  'DIRECTED_CYCLE_1TO3_TRIADS',\n",
       "  'DIRECIPROCAL_2TO3_TRIADS'): 701,\n",
       " ('NO_EDGE_TRIADS',\n",
       "  'SINGLE_EDGE_TRIADS',\n",
       "  'UNIDIRECTIONAL_TRIADS',\n",
       "  'DIRECTED_CYCLE_TRIADS',\n",
       "  'DIRECTED_CYCLE_1TO3_TRIADS',\n",
       "  'DIRECIPROCAL_2TO3_TRIADS'): 266,\n",
       " ('NO_EDGE_TRIADS',\n",
       "  'SINGLE_EDGE_TRIADS',\n",
       "  'INCOMING_TRIADS',\n",
       "  'INCOMING_2TO3_TRIADS',\n",
       "  'INCOMING_RECIPROCAL_TRIADS',\n",
       "  'DIRECIPROCAL_2TO3_TRIADS'): 296,\n",
       " ('NO_EDGE_TRIADS',\n",
       "  'SINGLE_EDGE_TRIADS',\n",
       "  'UNIDIRECTIONAL_TRIADS',\n",
       "  'INCOMING_2TO3_TRIADS',\n",
       "  'OUTGOING_RECIPROCAL_TRIADS',\n",
       "  'DIRECIPROCAL_2TO3_TRIADS'): 90,\n",
       " ('NO_EDGE_TRIADS',\n",
       "  'SINGLE_EDGE_TRIADS',\n",
       "  'INCOMING_TRIADS',\n",
       "  'INCOMING_1TO3_TRIADS',\n",
       "  'DIRECIPROCAL_TRIADS',\n",
       "  'DIRECIPROCAL_2TO3_TRIADS'): 165,\n",
       " ('NO_EDGE_TRIADS',\n",
       "  'SINGLE_EDGE_TRIADS',\n",
       "  'DYADIC_TRIADS',\n",
       "  'INCOMING_1TO3_TRIADS',\n",
       "  'DIRECIPROCAL_TRIADS',\n",
       "  'DIRECIPROCAL_2TO3_TRIADS'): 612,\n",
       " ('NO_EDGE_TRIADS',\n",
       "  'SINGLE_EDGE_TRIADS',\n",
       "  'INCOMING_TRIADS',\n",
       "  'INCOMING_2TO3_TRIADS',\n",
       "  'DIRECTED_CYCLE_1TO3_TRIADS',\n",
       "  'DIRECIPROCAL_2TO3_TRIADS'): 200,\n",
       " ('NO_EDGE_TRIADS',\n",
       "  'SINGLE_EDGE_TRIADS',\n",
       "  'OUTGOING_TRIADS',\n",
       "  'INCOMING_2TO3_TRIADS',\n",
       "  'INCOMING_RECIPROCAL_TRIADS',\n",
       "  'DIRECIPROCAL_2TO3_TRIADS'): 26,\n",
       " ('NO_EDGE_TRIADS',\n",
       "  'SINGLE_EDGE_TRIADS',\n",
       "  'UNIDIRECTIONAL_TRIADS',\n",
       "  'INCOMING_2TO3_TRIADS',\n",
       "  'INCOMING_RECIPROCAL_TRIADS',\n",
       "  'DIRECIPROCAL_2TO3_TRIADS'): 40,\n",
       " ('NO_EDGE_TRIADS',\n",
       "  'SINGLE_EDGE_TRIADS',\n",
       "  'INCOMING_TRIADS',\n",
       "  'INCOMING_1TO3_TRIADS',\n",
       "  'OUTGOING_RECIPROCAL_TRIADS',\n",
       "  'DIRECIPROCAL_2TO3_TRIADS'): 154,\n",
       " ('NO_EDGE_TRIADS',\n",
       "  'SINGLE_EDGE_TRIADS',\n",
       "  'UNIDIRECTIONAL_TRIADS',\n",
       "  'OUTGOING_3TO1_TRIADS',\n",
       "  'DIRECTED_CYCLE_1TO3_TRIADS',\n",
       "  'DIRECIPROCAL_2TO3_TRIADS'): 199,\n",
       " ('NO_EDGE_TRIADS',\n",
       "  'SINGLE_EDGE_TRIADS',\n",
       "  'INCOMING_TRIADS',\n",
       "  'INCOMING_2TO3_TRIADS',\n",
       "  'OUTGOING_RECIPROCAL_TRIADS',\n",
       "  'DIRECIPROCAL_2TO3_TRIADS'): 113,\n",
       " ('NO_EDGE_TRIADS',\n",
       "  'SINGLE_EDGE_TRIADS',\n",
       "  'DYADIC_TRIADS',\n",
       "  'OUTGOING_3TO1_TRIADS',\n",
       "  'INCOMING_RECIPROCAL_TRIADS',\n",
       "  'DIRECIPROCAL_2TO3_TRIADS'): 3,\n",
       " ('NO_EDGE_TRIADS',\n",
       "  'SINGLE_EDGE_TRIADS',\n",
       "  'OUTGOING_TRIADS',\n",
       "  'INCOMING_2TO3_TRIADS',\n",
       "  'DIRECTED_CYCLE_1TO3_TRIADS',\n",
       "  'DIRECIPROCAL_2TO3_TRIADS'): 71,\n",
       " ('NO_EDGE_TRIADS',\n",
       "  'SINGLE_EDGE_TRIADS',\n",
       "  'UNIDIRECTIONAL_TRIADS',\n",
       "  'INCOMING_1TO3_TRIADS',\n",
       "  'DIRECIPROCAL_TRIADS',\n",
       "  'DIRECIPROCAL_2TO3_TRIADS'): 36,\n",
       " ('NO_EDGE_TRIADS',\n",
       "  'SINGLE_EDGE_TRIADS',\n",
       "  'OUTGOING_TRIADS',\n",
       "  'OUTGOING_3TO1_TRIADS',\n",
       "  'DIRECIPROCAL_TRIADS',\n",
       "  'DIRECIPROCAL_2TO3_TRIADS'): 5,\n",
       " ('NO_EDGE_TRIADS',\n",
       "  'SINGLE_EDGE_TRIADS',\n",
       "  'OUTGOING_TRIADS',\n",
       "  'OUTGOING_3TO1_TRIADS',\n",
       "  'INCOMING_RECIPROCAL_TRIADS',\n",
       "  'DIRECIPROCAL_2TO3_TRIADS'): 2,\n",
       " ('NO_EDGE_TRIADS',\n",
       "  'SINGLE_EDGE_TRIADS',\n",
       "  'DYADIC_TRIADS',\n",
       "  'OUTGOING_3TO1_TRIADS',\n",
       "  'DIRECIPROCAL_TRIADS',\n",
       "  'DIRECIPROCAL_2TO3_TRIADS'): 1,\n",
       " ('NO_EDGE_TRIADS',\n",
       "  'SINGLE_EDGE_TRIADS',\n",
       "  'UNIDIRECTIONAL_TRIADS',\n",
       "  'INCOMING_2TO3_TRIADS',\n",
       "  'DIRECTED_CYCLE_1TO3_TRIADS',\n",
       "  'DIRECIPROCAL_2TO3_TRIADS'): 1,\n",
       " ('NO_EDGE_TRIADS',\n",
       "  'SINGLE_EDGE_TRIADS',\n",
       "  'OUTGOING_TRIADS',\n",
       "  'INCOMING_2TO3_TRIADS',\n",
       "  'OUTGOING_RECIPROCAL_TRIADS',\n",
       "  'DIRECIPROCAL_2TO3_TRIADS'): 1,\n",
       " ('NO_EDGE_TRIADS',\n",
       "  'SINGLE_EDGE_TRIADS',\n",
       "  'OUTGOING_TRIADS',\n",
       "  'OUTGOING_3TO1_TRIADS',\n",
       "  'DIRECIPROCAL_TRIADS',\n",
       "  'DIRECIPROCAL_2TO3_TRIADS',\n",
       "  'TRIRECIPROCAL_TRIADS'): 114,\n",
       " ('NO_EDGE_TRIADS',\n",
       "  'SINGLE_EDGE_TRIADS',\n",
       "  'UNIDIRECTIONAL_TRIADS',\n",
       "  'OUTGOING_3TO1_TRIADS',\n",
       "  'DIRECIPROCAL_TRIADS',\n",
       "  'DIRECIPROCAL_2TO3_TRIADS',\n",
       "  'TRIRECIPROCAL_TRIADS'): 24,\n",
       " ('NO_EDGE_TRIADS',\n",
       "  'SINGLE_EDGE_TRIADS',\n",
       "  'INCOMING_TRIADS',\n",
       "  'INCOMING_1TO3_TRIADS',\n",
       "  'OUTGOING_RECIPROCAL_TRIADS',\n",
       "  'DIRECIPROCAL_2TO3_TRIADS',\n",
       "  'TRIRECIPROCAL_TRIADS'): 62,\n",
       " ('NO_EDGE_TRIADS',\n",
       "  'SINGLE_EDGE_TRIADS',\n",
       "  'INCOMING_TRIADS',\n",
       "  'INCOMING_2TO3_TRIADS',\n",
       "  'DIRECTED_CYCLE_1TO3_TRIADS',\n",
       "  'DIRECIPROCAL_2TO3_TRIADS',\n",
       "  'TRIRECIPROCAL_TRIADS'): 57,\n",
       " ('NO_EDGE_TRIADS',\n",
       "  'SINGLE_EDGE_TRIADS',\n",
       "  'INCOMING_TRIADS',\n",
       "  'INCOMING_1TO3_TRIADS',\n",
       "  'DIRECIPROCAL_TRIADS',\n",
       "  'DIRECIPROCAL_2TO3_TRIADS',\n",
       "  'TRIRECIPROCAL_TRIADS'): 44,\n",
       " ('NO_EDGE_TRIADS',\n",
       "  'SINGLE_EDGE_TRIADS',\n",
       "  'UNIDIRECTIONAL_TRIADS',\n",
       "  'INCOMING_2TO3_TRIADS',\n",
       "  'INCOMING_RECIPROCAL_TRIADS',\n",
       "  'DIRECIPROCAL_2TO3_TRIADS',\n",
       "  'TRIRECIPROCAL_TRIADS'): 38,\n",
       " ('NO_EDGE_TRIADS',\n",
       "  'SINGLE_EDGE_TRIADS',\n",
       "  'INCOMING_TRIADS',\n",
       "  'INCOMING_2TO3_TRIADS',\n",
       "  'OUTGOING_RECIPROCAL_TRIADS',\n",
       "  'DIRECIPROCAL_2TO3_TRIADS',\n",
       "  'TRIRECIPROCAL_TRIADS'): 77,\n",
       " ('NO_EDGE_TRIADS',\n",
       "  'SINGLE_EDGE_TRIADS',\n",
       "  'OUTGOING_TRIADS',\n",
       "  'OUTGOING_3TO1_TRIADS',\n",
       "  'INCOMING_RECIPROCAL_TRIADS',\n",
       "  'DIRECIPROCAL_2TO3_TRIADS',\n",
       "  'TRIRECIPROCAL_TRIADS'): 32,\n",
       " ('NO_EDGE_TRIADS',\n",
       "  'SINGLE_EDGE_TRIADS',\n",
       "  'UNIDIRECTIONAL_TRIADS',\n",
       "  'OUTGOING_3TO1_TRIADS',\n",
       "  'INCOMING_RECIPROCAL_TRIADS',\n",
       "  'DIRECIPROCAL_2TO3_TRIADS',\n",
       "  'TRIRECIPROCAL_TRIADS'): 13,\n",
       " ('NO_EDGE_TRIADS',\n",
       "  'SINGLE_EDGE_TRIADS',\n",
       "  'UNIDIRECTIONAL_TRIADS',\n",
       "  'INCOMING_1TO3_TRIADS',\n",
       "  'DIRECTED_CYCLE_1TO3_TRIADS',\n",
       "  'DIRECIPROCAL_2TO3_TRIADS',\n",
       "  'TRIRECIPROCAL_TRIADS'): 14,\n",
       " ('NO_EDGE_TRIADS',\n",
       "  'SINGLE_EDGE_TRIADS',\n",
       "  'DYADIC_TRIADS',\n",
       "  'OUTGOING_3TO1_TRIADS',\n",
       "  'DIRECIPROCAL_TRIADS',\n",
       "  'DIRECIPROCAL_2TO3_TRIADS',\n",
       "  'TRIRECIPROCAL_TRIADS'): 23,\n",
       " ('NO_EDGE_TRIADS',\n",
       "  'SINGLE_EDGE_TRIADS',\n",
       "  'UNIDIRECTIONAL_TRIADS',\n",
       "  'OUTGOING_3TO1_TRIADS',\n",
       "  'DIRECTED_CYCLE_1TO3_TRIADS',\n",
       "  'DIRECIPROCAL_2TO3_TRIADS',\n",
       "  'TRIRECIPROCAL_TRIADS'): 7,\n",
       " ('NO_EDGE_TRIADS',\n",
       "  'SINGLE_EDGE_TRIADS',\n",
       "  'OUTGOING_TRIADS',\n",
       "  'OUTGOING_3TO1_TRIADS',\n",
       "  'DIRECTED_CYCLE_1TO3_TRIADS',\n",
       "  'DIRECIPROCAL_2TO3_TRIADS',\n",
       "  'TRIRECIPROCAL_TRIADS'): 44,\n",
       " ('NO_EDGE_TRIADS',\n",
       "  'SINGLE_EDGE_TRIADS',\n",
       "  'UNIDIRECTIONAL_TRIADS',\n",
       "  'INCOMING_2TO3_TRIADS',\n",
       "  'OUTGOING_RECIPROCAL_TRIADS',\n",
       "  'DIRECIPROCAL_2TO3_TRIADS',\n",
       "  'TRIRECIPROCAL_TRIADS'): 7,\n",
       " ('NO_EDGE_TRIADS',\n",
       "  'SINGLE_EDGE_TRIADS',\n",
       "  'UNIDIRECTIONAL_TRIADS',\n",
       "  'INCOMING_1TO3_TRIADS',\n",
       "  'DIRECIPROCAL_TRIADS',\n",
       "  'DIRECIPROCAL_2TO3_TRIADS',\n",
       "  'TRIRECIPROCAL_TRIADS'): 35,\n",
       " ('NO_EDGE_TRIADS',\n",
       "  'SINGLE_EDGE_TRIADS',\n",
       "  'OUTGOING_TRIADS',\n",
       "  'INCOMING_2TO3_TRIADS',\n",
       "  'DIRECTED_CYCLE_1TO3_TRIADS',\n",
       "  'DIRECIPROCAL_2TO3_TRIADS',\n",
       "  'TRIRECIPROCAL_TRIADS'): 11,\n",
       " ('NO_EDGE_TRIADS',\n",
       "  'SINGLE_EDGE_TRIADS',\n",
       "  'UNIDIRECTIONAL_TRIADS',\n",
       "  'DIRECTED_CYCLE_TRIADS',\n",
       "  'DIRECTED_CYCLE_1TO3_TRIADS',\n",
       "  'DIRECIPROCAL_2TO3_TRIADS',\n",
       "  'TRIRECIPROCAL_TRIADS'): 15,\n",
       " ('NO_EDGE_TRIADS',\n",
       "  'SINGLE_EDGE_TRIADS',\n",
       "  'DYADIC_TRIADS',\n",
       "  'INCOMING_1TO3_TRIADS',\n",
       "  'OUTGOING_RECIPROCAL_TRIADS',\n",
       "  'DIRECIPROCAL_2TO3_TRIADS',\n",
       "  'TRIRECIPROCAL_TRIADS'): 16,\n",
       " ('NO_EDGE_TRIADS',\n",
       "  'SINGLE_EDGE_TRIADS',\n",
       "  'UNIDIRECTIONAL_TRIADS',\n",
       "  'INCOMING_2TO3_TRIADS',\n",
       "  'DIRECTED_CYCLE_1TO3_TRIADS',\n",
       "  'DIRECIPROCAL_2TO3_TRIADS',\n",
       "  'TRIRECIPROCAL_TRIADS'): 7,\n",
       " ('NO_EDGE_TRIADS',\n",
       "  'SINGLE_EDGE_TRIADS',\n",
       "  'DYADIC_TRIADS',\n",
       "  'INCOMING_1TO3_TRIADS',\n",
       "  'DIRECTED_CYCLE_1TO3_TRIADS',\n",
       "  'DIRECIPROCAL_2TO3_TRIADS',\n",
       "  'TRIRECIPROCAL_TRIADS'): 10,\n",
       " ('NO_EDGE_TRIADS',\n",
       "  'SINGLE_EDGE_TRIADS',\n",
       "  'DYADIC_TRIADS',\n",
       "  'INCOMING_1TO3_TRIADS',\n",
       "  'DIRECIPROCAL_TRIADS',\n",
       "  'DIRECIPROCAL_2TO3_TRIADS',\n",
       "  'TRIRECIPROCAL_TRIADS'): 27,\n",
       " ('NO_EDGE_TRIADS',\n",
       "  'SINGLE_EDGE_TRIADS',\n",
       "  'UNIDIRECTIONAL_TRIADS',\n",
       "  'INCOMING_1TO3_TRIADS',\n",
       "  'OUTGOING_RECIPROCAL_TRIADS',\n",
       "  'DIRECIPROCAL_2TO3_TRIADS',\n",
       "  'TRIRECIPROCAL_TRIADS'): 10,\n",
       " ('NO_EDGE_TRIADS',\n",
       "  'SINGLE_EDGE_TRIADS',\n",
       "  'OUTGOING_TRIADS',\n",
       "  'INCOMING_2TO3_TRIADS',\n",
       "  'INCOMING_RECIPROCAL_TRIADS',\n",
       "  'DIRECIPROCAL_2TO3_TRIADS',\n",
       "  'TRIRECIPROCAL_TRIADS'): 12,\n",
       " ('NO_EDGE_TRIADS',\n",
       "  'SINGLE_EDGE_TRIADS',\n",
       "  'DYADIC_TRIADS',\n",
       "  'OUTGOING_3TO1_TRIADS',\n",
       "  'DIRECTED_CYCLE_1TO3_TRIADS',\n",
       "  'DIRECIPROCAL_2TO3_TRIADS',\n",
       "  'TRIRECIPROCAL_TRIADS'): 1,\n",
       " ('NO_EDGE_TRIADS',\n",
       "  'SINGLE_EDGE_TRIADS',\n",
       "  'OUTGOING_TRIADS',\n",
       "  'INCOMING_2TO3_TRIADS',\n",
       "  'OUTGOING_RECIPROCAL_TRIADS',\n",
       "  'DIRECIPROCAL_2TO3_TRIADS',\n",
       "  'TRIRECIPROCAL_TRIADS'): 13}"
      ]
     },
     "execution_count": 52,
     "metadata": {},
     "output_type": "execute_result"
    }
   ],
   "source": [
    "pd2"
   ]
  },
  {
   "cell_type": "code",
   "execution_count": 53,
   "metadata": {},
   "outputs": [
    {
     "name": "stdout",
     "output_type": "stream",
     "text": [
      "('NO_EDGE_TRIADS', 'SINGLE_EDGE_TRIADS', 'INCOMING_TRIADS')\n",
      "220028\n",
      "('NO_EDGE_TRIADS', 'SINGLE_EDGE_TRIADS', 'INCOMING_TRIADS', 'INCOMING_2TO3_TRIADS')\n",
      "5190\n",
      "('NO_EDGE_TRIADS', 'SINGLE_EDGE_TRIADS', 'UNIDIRECTIONAL_TRIADS', 'INCOMING_2TO3_TRIADS')\n",
      "2024\n",
      "('NO_EDGE_TRIADS', 'SINGLE_EDGE_TRIADS', 'OUTGOING_TRIADS', 'INCOMING_2TO3_TRIADS')\n",
      "35\n",
      "('NO_EDGE_TRIADS', 'SINGLE_EDGE_TRIADS', 'DYADIC_TRIADS', 'INCOMING_1TO3_TRIADS')\n",
      "57051\n",
      "('NO_EDGE_TRIADS', 'SINGLE_EDGE_TRIADS', 'INCOMING_TRIADS', 'INCOMING_1TO3_TRIADS')\n",
      "44171\n",
      "('NO_EDGE_TRIADS', 'SINGLE_EDGE_TRIADS', 'UNIDIRECTIONAL_TRIADS', 'INCOMING_1TO3_TRIADS')\n",
      "10798\n",
      "('NO_EDGE_TRIADS', 'SINGLE_EDGE_TRIADS', 'INCOMING_TRIADS', 'INCOMING_2TO3_TRIADS', 'INCOMING_RECIPROCAL_TRIADS')\n",
      "1669\n",
      "('NO_EDGE_TRIADS', 'SINGLE_EDGE_TRIADS', 'UNIDIRECTIONAL_TRIADS', 'OUTGOING_3TO1_TRIADS', 'INCOMING_RECIPROCAL_TRIADS')\n",
      "259\n",
      "('NO_EDGE_TRIADS', 'SINGLE_EDGE_TRIADS', 'UNIDIRECTIONAL_TRIADS', 'INCOMING_2TO3_TRIADS', 'INCOMING_RECIPROCAL_TRIADS')\n",
      "167\n",
      "('NO_EDGE_TRIADS', 'SINGLE_EDGE_TRIADS', 'OUTGOING_TRIADS', 'INCOMING_2TO3_TRIADS', 'INCOMING_RECIPROCAL_TRIADS')\n",
      "181\n",
      "('NO_EDGE_TRIADS', 'SINGLE_EDGE_TRIADS', 'DYADIC_TRIADS', 'OUTGOING_3TO1_TRIADS', 'INCOMING_RECIPROCAL_TRIADS')\n",
      "12\n",
      "('NO_EDGE_TRIADS', 'SINGLE_EDGE_TRIADS', 'OUTGOING_TRIADS', 'OUTGOING_3TO1_TRIADS', 'INCOMING_RECIPROCAL_TRIADS')\n",
      "9\n",
      "('NO_EDGE_TRIADS', 'SINGLE_EDGE_TRIADS', 'UNIDIRECTIONAL_TRIADS', 'INCOMING_2TO3_TRIADS', 'OUTGOING_RECIPROCAL_TRIADS')\n",
      "217\n",
      "('NO_EDGE_TRIADS', 'SINGLE_EDGE_TRIADS', 'DYADIC_TRIADS', 'INCOMING_1TO3_TRIADS', 'OUTGOING_RECIPROCAL_TRIADS')\n",
      "1361\n",
      "('NO_EDGE_TRIADS', 'SINGLE_EDGE_TRIADS', 'INCOMING_TRIADS', 'INCOMING_1TO3_TRIADS', 'OUTGOING_RECIPROCAL_TRIADS')\n",
      "414\n",
      "('NO_EDGE_TRIADS', 'SINGLE_EDGE_TRIADS', 'INCOMING_TRIADS', 'INCOMING_2TO3_TRIADS', 'OUTGOING_RECIPROCAL_TRIADS')\n",
      "216\n",
      "('NO_EDGE_TRIADS', 'SINGLE_EDGE_TRIADS', 'UNIDIRECTIONAL_TRIADS', 'INCOMING_1TO3_TRIADS', 'OUTGOING_RECIPROCAL_TRIADS')\n",
      "213\n",
      "('NO_EDGE_TRIADS', 'SINGLE_EDGE_TRIADS', 'OUTGOING_TRIADS', 'INCOMING_2TO3_TRIADS', 'OUTGOING_RECIPROCAL_TRIADS')\n",
      "4\n",
      "('NO_EDGE_TRIADS', 'SINGLE_EDGE_TRIADS', 'OUTGOING_TRIADS', 'INCOMING_2TO3_TRIADS', 'DIRECTED_CYCLE_1TO3_TRIADS')\n",
      "294\n",
      "('NO_EDGE_TRIADS', 'SINGLE_EDGE_TRIADS', 'UNIDIRECTIONAL_TRIADS', 'INCOMING_1TO3_TRIADS', 'DIRECTED_CYCLE_1TO3_TRIADS')\n",
      "454\n",
      "('NO_EDGE_TRIADS', 'SINGLE_EDGE_TRIADS', 'DYADIC_TRIADS', 'INCOMING_1TO3_TRIADS', 'DIRECTED_CYCLE_1TO3_TRIADS')\n",
      "949\n",
      "('NO_EDGE_TRIADS', 'SINGLE_EDGE_TRIADS', 'INCOMING_TRIADS', 'INCOMING_2TO3_TRIADS', 'DIRECTED_CYCLE_1TO3_TRIADS')\n",
      "581\n",
      "('NO_EDGE_TRIADS', 'SINGLE_EDGE_TRIADS', 'UNIDIRECTIONAL_TRIADS', 'DIRECTED_CYCLE_TRIADS', 'DIRECTED_CYCLE_1TO3_TRIADS')\n",
      "495\n",
      "('NO_EDGE_TRIADS', 'SINGLE_EDGE_TRIADS', 'INCOMING_TRIADS', 'INCOMING_1TO3_TRIADS', 'DIRECTED_CYCLE_1TO3_TRIADS')\n",
      "276\n",
      "('NO_EDGE_TRIADS', 'SINGLE_EDGE_TRIADS', 'UNIDIRECTIONAL_TRIADS', 'OUTGOING_3TO1_TRIADS', 'DIRECTED_CYCLE_1TO3_TRIADS')\n",
      "345\n",
      "('NO_EDGE_TRIADS', 'SINGLE_EDGE_TRIADS', 'OUTGOING_TRIADS', 'OUTGOING_3TO1_TRIADS', 'DIRECTED_CYCLE_1TO3_TRIADS')\n",
      "5\n",
      "('NO_EDGE_TRIADS', 'SINGLE_EDGE_TRIADS', 'DYADIC_TRIADS', 'OUTGOING_3TO1_TRIADS', 'DIRECTED_CYCLE_1TO3_TRIADS')\n",
      "2\n",
      "('NO_EDGE_TRIADS', 'SINGLE_EDGE_TRIADS', 'UNIDIRECTIONAL_TRIADS', 'INCOMING_2TO3_TRIADS', 'DIRECTED_CYCLE_1TO3_TRIADS')\n",
      "2\n",
      "('NO_EDGE_TRIADS', 'SINGLE_EDGE_TRIADS', 'INCOMING_TRIADS', 'INCOMING_1TO3_TRIADS', 'DIRECIPROCAL_TRIADS')\n",
      "9548\n",
      "('NO_EDGE_TRIADS', 'SINGLE_EDGE_TRIADS', 'UNIDIRECTIONAL_TRIADS', 'OUTGOING_3TO1_TRIADS', 'DIRECIPROCAL_TRIADS')\n",
      "3057\n",
      "('NO_EDGE_TRIADS', 'SINGLE_EDGE_TRIADS', 'DYADIC_TRIADS', 'INCOMING_1TO3_TRIADS', 'DIRECIPROCAL_TRIADS')\n",
      "22367\n",
      "('NO_EDGE_TRIADS', 'SINGLE_EDGE_TRIADS', 'UNIDIRECTIONAL_TRIADS', 'INCOMING_1TO3_TRIADS', 'DIRECIPROCAL_TRIADS')\n",
      "1790\n",
      "('NO_EDGE_TRIADS', 'SINGLE_EDGE_TRIADS', 'OUTGOING_TRIADS', 'OUTGOING_3TO1_TRIADS', 'DIRECIPROCAL_TRIADS')\n",
      "18\n",
      "('NO_EDGE_TRIADS', 'SINGLE_EDGE_TRIADS', 'DYADIC_TRIADS', 'OUTGOING_3TO1_TRIADS', 'DIRECIPROCAL_TRIADS')\n",
      "8\n",
      "('NO_EDGE_TRIADS', 'SINGLE_EDGE_TRIADS', 'INCOMING_TRIADS', 'INCOMING_1TO3_TRIADS', 'DIRECTED_CYCLE_1TO3_TRIADS', 'DIRECIPROCAL_2TO3_TRIADS')\n",
      "128\n",
      "('NO_EDGE_TRIADS', 'SINGLE_EDGE_TRIADS', 'UNIDIRECTIONAL_TRIADS', 'INCOMING_1TO3_TRIADS', 'OUTGOING_RECIPROCAL_TRIADS', 'DIRECIPROCAL_2TO3_TRIADS')\n",
      "123\n",
      "('NO_EDGE_TRIADS', 'SINGLE_EDGE_TRIADS', 'UNIDIRECTIONAL_TRIADS', 'OUTGOING_3TO1_TRIADS', 'INCOMING_RECIPROCAL_TRIADS', 'DIRECIPROCAL_2TO3_TRIADS')\n",
      "50\n",
      "('NO_EDGE_TRIADS', 'SINGLE_EDGE_TRIADS', 'UNIDIRECTIONAL_TRIADS', 'INCOMING_1TO3_TRIADS', 'DIRECTED_CYCLE_1TO3_TRIADS', 'DIRECIPROCAL_2TO3_TRIADS')\n",
      "211\n",
      "('NO_EDGE_TRIADS', 'SINGLE_EDGE_TRIADS', 'UNIDIRECTIONAL_TRIADS', 'OUTGOING_3TO1_TRIADS', 'DIRECIPROCAL_TRIADS', 'DIRECIPROCAL_2TO3_TRIADS')\n",
      "162\n",
      "('NO_EDGE_TRIADS', 'SINGLE_EDGE_TRIADS', 'DYADIC_TRIADS', 'INCOMING_1TO3_TRIADS', 'OUTGOING_RECIPROCAL_TRIADS', 'DIRECIPROCAL_2TO3_TRIADS')\n",
      "832\n",
      "('NO_EDGE_TRIADS', 'SINGLE_EDGE_TRIADS', 'DYADIC_TRIADS', 'INCOMING_1TO3_TRIADS', 'DIRECTED_CYCLE_1TO3_TRIADS', 'DIRECIPROCAL_2TO3_TRIADS')\n",
      "701\n",
      "('NO_EDGE_TRIADS', 'SINGLE_EDGE_TRIADS', 'UNIDIRECTIONAL_TRIADS', 'DIRECTED_CYCLE_TRIADS', 'DIRECTED_CYCLE_1TO3_TRIADS', 'DIRECIPROCAL_2TO3_TRIADS')\n",
      "266\n",
      "('NO_EDGE_TRIADS', 'SINGLE_EDGE_TRIADS', 'INCOMING_TRIADS', 'INCOMING_2TO3_TRIADS', 'INCOMING_RECIPROCAL_TRIADS', 'DIRECIPROCAL_2TO3_TRIADS')\n",
      "296\n",
      "('NO_EDGE_TRIADS', 'SINGLE_EDGE_TRIADS', 'UNIDIRECTIONAL_TRIADS', 'INCOMING_2TO3_TRIADS', 'OUTGOING_RECIPROCAL_TRIADS', 'DIRECIPROCAL_2TO3_TRIADS')\n",
      "90\n",
      "('NO_EDGE_TRIADS', 'SINGLE_EDGE_TRIADS', 'INCOMING_TRIADS', 'INCOMING_1TO3_TRIADS', 'DIRECIPROCAL_TRIADS', 'DIRECIPROCAL_2TO3_TRIADS')\n",
      "165\n",
      "('NO_EDGE_TRIADS', 'SINGLE_EDGE_TRIADS', 'DYADIC_TRIADS', 'INCOMING_1TO3_TRIADS', 'DIRECIPROCAL_TRIADS', 'DIRECIPROCAL_2TO3_TRIADS')\n",
      "612\n",
      "('NO_EDGE_TRIADS', 'SINGLE_EDGE_TRIADS', 'INCOMING_TRIADS', 'INCOMING_2TO3_TRIADS', 'DIRECTED_CYCLE_1TO3_TRIADS', 'DIRECIPROCAL_2TO3_TRIADS')\n",
      "200\n",
      "('NO_EDGE_TRIADS', 'SINGLE_EDGE_TRIADS', 'OUTGOING_TRIADS', 'INCOMING_2TO3_TRIADS', 'INCOMING_RECIPROCAL_TRIADS', 'DIRECIPROCAL_2TO3_TRIADS')\n",
      "26\n",
      "('NO_EDGE_TRIADS', 'SINGLE_EDGE_TRIADS', 'UNIDIRECTIONAL_TRIADS', 'INCOMING_2TO3_TRIADS', 'INCOMING_RECIPROCAL_TRIADS', 'DIRECIPROCAL_2TO3_TRIADS')\n",
      "40\n",
      "('NO_EDGE_TRIADS', 'SINGLE_EDGE_TRIADS', 'INCOMING_TRIADS', 'INCOMING_1TO3_TRIADS', 'OUTGOING_RECIPROCAL_TRIADS', 'DIRECIPROCAL_2TO3_TRIADS')\n",
      "154\n",
      "('NO_EDGE_TRIADS', 'SINGLE_EDGE_TRIADS', 'UNIDIRECTIONAL_TRIADS', 'OUTGOING_3TO1_TRIADS', 'DIRECTED_CYCLE_1TO3_TRIADS', 'DIRECIPROCAL_2TO3_TRIADS')\n",
      "199\n",
      "('NO_EDGE_TRIADS', 'SINGLE_EDGE_TRIADS', 'INCOMING_TRIADS', 'INCOMING_2TO3_TRIADS', 'OUTGOING_RECIPROCAL_TRIADS', 'DIRECIPROCAL_2TO3_TRIADS')\n",
      "113\n",
      "('NO_EDGE_TRIADS', 'SINGLE_EDGE_TRIADS', 'DYADIC_TRIADS', 'OUTGOING_3TO1_TRIADS', 'INCOMING_RECIPROCAL_TRIADS', 'DIRECIPROCAL_2TO3_TRIADS')\n",
      "3\n",
      "('NO_EDGE_TRIADS', 'SINGLE_EDGE_TRIADS', 'OUTGOING_TRIADS', 'INCOMING_2TO3_TRIADS', 'DIRECTED_CYCLE_1TO3_TRIADS', 'DIRECIPROCAL_2TO3_TRIADS')\n",
      "71\n",
      "('NO_EDGE_TRIADS', 'SINGLE_EDGE_TRIADS', 'UNIDIRECTIONAL_TRIADS', 'INCOMING_1TO3_TRIADS', 'DIRECIPROCAL_TRIADS', 'DIRECIPROCAL_2TO3_TRIADS')\n",
      "36\n",
      "('NO_EDGE_TRIADS', 'SINGLE_EDGE_TRIADS', 'OUTGOING_TRIADS', 'OUTGOING_3TO1_TRIADS', 'DIRECIPROCAL_TRIADS', 'DIRECIPROCAL_2TO3_TRIADS')\n",
      "5\n",
      "('NO_EDGE_TRIADS', 'SINGLE_EDGE_TRIADS', 'OUTGOING_TRIADS', 'OUTGOING_3TO1_TRIADS', 'INCOMING_RECIPROCAL_TRIADS', 'DIRECIPROCAL_2TO3_TRIADS')\n",
      "2\n",
      "('NO_EDGE_TRIADS', 'SINGLE_EDGE_TRIADS', 'DYADIC_TRIADS', 'OUTGOING_3TO1_TRIADS', 'DIRECIPROCAL_TRIADS', 'DIRECIPROCAL_2TO3_TRIADS')\n",
      "1\n",
      "('NO_EDGE_TRIADS', 'SINGLE_EDGE_TRIADS', 'UNIDIRECTIONAL_TRIADS', 'INCOMING_2TO3_TRIADS', 'DIRECTED_CYCLE_1TO3_TRIADS', 'DIRECIPROCAL_2TO3_TRIADS')\n",
      "1\n",
      "('NO_EDGE_TRIADS', 'SINGLE_EDGE_TRIADS', 'OUTGOING_TRIADS', 'INCOMING_2TO3_TRIADS', 'OUTGOING_RECIPROCAL_TRIADS', 'DIRECIPROCAL_2TO3_TRIADS')\n",
      "1\n",
      "('NO_EDGE_TRIADS', 'SINGLE_EDGE_TRIADS', 'OUTGOING_TRIADS', 'OUTGOING_3TO1_TRIADS', 'DIRECIPROCAL_TRIADS', 'DIRECIPROCAL_2TO3_TRIADS', 'TRIRECIPROCAL_TRIADS')\n",
      "114\n",
      "('NO_EDGE_TRIADS', 'SINGLE_EDGE_TRIADS', 'UNIDIRECTIONAL_TRIADS', 'OUTGOING_3TO1_TRIADS', 'DIRECIPROCAL_TRIADS', 'DIRECIPROCAL_2TO3_TRIADS', 'TRIRECIPROCAL_TRIADS')\n",
      "24\n",
      "('NO_EDGE_TRIADS', 'SINGLE_EDGE_TRIADS', 'INCOMING_TRIADS', 'INCOMING_1TO3_TRIADS', 'OUTGOING_RECIPROCAL_TRIADS', 'DIRECIPROCAL_2TO3_TRIADS', 'TRIRECIPROCAL_TRIADS')\n",
      "62\n",
      "('NO_EDGE_TRIADS', 'SINGLE_EDGE_TRIADS', 'INCOMING_TRIADS', 'INCOMING_2TO3_TRIADS', 'DIRECTED_CYCLE_1TO3_TRIADS', 'DIRECIPROCAL_2TO3_TRIADS', 'TRIRECIPROCAL_TRIADS')\n",
      "57\n",
      "('NO_EDGE_TRIADS', 'SINGLE_EDGE_TRIADS', 'INCOMING_TRIADS', 'INCOMING_1TO3_TRIADS', 'DIRECIPROCAL_TRIADS', 'DIRECIPROCAL_2TO3_TRIADS', 'TRIRECIPROCAL_TRIADS')\n",
      "44\n",
      "('NO_EDGE_TRIADS', 'SINGLE_EDGE_TRIADS', 'UNIDIRECTIONAL_TRIADS', 'INCOMING_2TO3_TRIADS', 'INCOMING_RECIPROCAL_TRIADS', 'DIRECIPROCAL_2TO3_TRIADS', 'TRIRECIPROCAL_TRIADS')\n",
      "38\n",
      "('NO_EDGE_TRIADS', 'SINGLE_EDGE_TRIADS', 'INCOMING_TRIADS', 'INCOMING_2TO3_TRIADS', 'OUTGOING_RECIPROCAL_TRIADS', 'DIRECIPROCAL_2TO3_TRIADS', 'TRIRECIPROCAL_TRIADS')\n",
      "77\n",
      "('NO_EDGE_TRIADS', 'SINGLE_EDGE_TRIADS', 'OUTGOING_TRIADS', 'OUTGOING_3TO1_TRIADS', 'INCOMING_RECIPROCAL_TRIADS', 'DIRECIPROCAL_2TO3_TRIADS', 'TRIRECIPROCAL_TRIADS')\n",
      "32\n",
      "('NO_EDGE_TRIADS', 'SINGLE_EDGE_TRIADS', 'UNIDIRECTIONAL_TRIADS', 'OUTGOING_3TO1_TRIADS', 'INCOMING_RECIPROCAL_TRIADS', 'DIRECIPROCAL_2TO3_TRIADS', 'TRIRECIPROCAL_TRIADS')\n",
      "13\n",
      "('NO_EDGE_TRIADS', 'SINGLE_EDGE_TRIADS', 'UNIDIRECTIONAL_TRIADS', 'INCOMING_1TO3_TRIADS', 'DIRECTED_CYCLE_1TO3_TRIADS', 'DIRECIPROCAL_2TO3_TRIADS', 'TRIRECIPROCAL_TRIADS')\n",
      "14\n",
      "('NO_EDGE_TRIADS', 'SINGLE_EDGE_TRIADS', 'DYADIC_TRIADS', 'OUTGOING_3TO1_TRIADS', 'DIRECIPROCAL_TRIADS', 'DIRECIPROCAL_2TO3_TRIADS', 'TRIRECIPROCAL_TRIADS')\n",
      "23\n",
      "('NO_EDGE_TRIADS', 'SINGLE_EDGE_TRIADS', 'UNIDIRECTIONAL_TRIADS', 'OUTGOING_3TO1_TRIADS', 'DIRECTED_CYCLE_1TO3_TRIADS', 'DIRECIPROCAL_2TO3_TRIADS', 'TRIRECIPROCAL_TRIADS')\n",
      "7\n",
      "('NO_EDGE_TRIADS', 'SINGLE_EDGE_TRIADS', 'OUTGOING_TRIADS', 'OUTGOING_3TO1_TRIADS', 'DIRECTED_CYCLE_1TO3_TRIADS', 'DIRECIPROCAL_2TO3_TRIADS', 'TRIRECIPROCAL_TRIADS')\n",
      "44\n",
      "('NO_EDGE_TRIADS', 'SINGLE_EDGE_TRIADS', 'UNIDIRECTIONAL_TRIADS', 'INCOMING_2TO3_TRIADS', 'OUTGOING_RECIPROCAL_TRIADS', 'DIRECIPROCAL_2TO3_TRIADS', 'TRIRECIPROCAL_TRIADS')\n",
      "7\n",
      "('NO_EDGE_TRIADS', 'SINGLE_EDGE_TRIADS', 'UNIDIRECTIONAL_TRIADS', 'INCOMING_1TO3_TRIADS', 'DIRECIPROCAL_TRIADS', 'DIRECIPROCAL_2TO3_TRIADS', 'TRIRECIPROCAL_TRIADS')\n",
      "35\n",
      "('NO_EDGE_TRIADS', 'SINGLE_EDGE_TRIADS', 'OUTGOING_TRIADS', 'INCOMING_2TO3_TRIADS', 'DIRECTED_CYCLE_1TO3_TRIADS', 'DIRECIPROCAL_2TO3_TRIADS', 'TRIRECIPROCAL_TRIADS')\n",
      "11\n",
      "('NO_EDGE_TRIADS', 'SINGLE_EDGE_TRIADS', 'UNIDIRECTIONAL_TRIADS', 'DIRECTED_CYCLE_TRIADS', 'DIRECTED_CYCLE_1TO3_TRIADS', 'DIRECIPROCAL_2TO3_TRIADS', 'TRIRECIPROCAL_TRIADS')\n",
      "15\n",
      "('NO_EDGE_TRIADS', 'SINGLE_EDGE_TRIADS', 'DYADIC_TRIADS', 'INCOMING_1TO3_TRIADS', 'OUTGOING_RECIPROCAL_TRIADS', 'DIRECIPROCAL_2TO3_TRIADS', 'TRIRECIPROCAL_TRIADS')\n",
      "16\n",
      "('NO_EDGE_TRIADS', 'SINGLE_EDGE_TRIADS', 'UNIDIRECTIONAL_TRIADS', 'INCOMING_2TO3_TRIADS', 'DIRECTED_CYCLE_1TO3_TRIADS', 'DIRECIPROCAL_2TO3_TRIADS', 'TRIRECIPROCAL_TRIADS')\n",
      "7\n",
      "('NO_EDGE_TRIADS', 'SINGLE_EDGE_TRIADS', 'DYADIC_TRIADS', 'INCOMING_1TO3_TRIADS', 'DIRECTED_CYCLE_1TO3_TRIADS', 'DIRECIPROCAL_2TO3_TRIADS', 'TRIRECIPROCAL_TRIADS')\n",
      "10\n",
      "('NO_EDGE_TRIADS', 'SINGLE_EDGE_TRIADS', 'DYADIC_TRIADS', 'INCOMING_1TO3_TRIADS', 'DIRECIPROCAL_TRIADS', 'DIRECIPROCAL_2TO3_TRIADS', 'TRIRECIPROCAL_TRIADS')\n",
      "27\n",
      "('NO_EDGE_TRIADS', 'SINGLE_EDGE_TRIADS', 'UNIDIRECTIONAL_TRIADS', 'INCOMING_1TO3_TRIADS', 'OUTGOING_RECIPROCAL_TRIADS', 'DIRECIPROCAL_2TO3_TRIADS', 'TRIRECIPROCAL_TRIADS')\n",
      "10\n",
      "('NO_EDGE_TRIADS', 'SINGLE_EDGE_TRIADS', 'OUTGOING_TRIADS', 'INCOMING_2TO3_TRIADS', 'INCOMING_RECIPROCAL_TRIADS', 'DIRECIPROCAL_2TO3_TRIADS', 'TRIRECIPROCAL_TRIADS')\n",
      "12\n",
      "('NO_EDGE_TRIADS', 'SINGLE_EDGE_TRIADS', 'DYADIC_TRIADS', 'OUTGOING_3TO1_TRIADS', 'DIRECTED_CYCLE_1TO3_TRIADS', 'DIRECIPROCAL_2TO3_TRIADS', 'TRIRECIPROCAL_TRIADS')\n",
      "1\n",
      "('NO_EDGE_TRIADS', 'SINGLE_EDGE_TRIADS', 'OUTGOING_TRIADS', 'INCOMING_2TO3_TRIADS', 'OUTGOING_RECIPROCAL_TRIADS', 'DIRECIPROCAL_2TO3_TRIADS', 'TRIRECIPROCAL_TRIADS')\n",
      "13\n"
     ]
    }
   ],
   "source": [
    "for path in path_dict2:\n",
    "    print(path)\n",
    "    print(len(path_dict2[path]))"
   ]
  },
  {
   "cell_type": "markdown",
   "metadata": {},
   "source": [
    "Excluding non-triadic closure motifs, this gives a total of 2046 motifs with triadic closure to work with."
   ]
  },
  {
   "cell_type": "markdown",
   "metadata": {},
   "source": [
    "Once we filter out [deleted]'s, we remove 614 motif instances, giving us 1432 motifs to work with. (Filtering step not shown here.)"
   ]
  },
  {
   "cell_type": "code",
   "execution_count": 54,
   "metadata": {},
   "outputs": [],
   "source": [
    "def has_deleted_text(motif_inst):\n",
    "    for edge in motif_inst.edges:\n",
    "        if edge[0]['text'] == \"[deleted]\":\n",
    "            return True\n",
    "    return False"
   ]
  },
  {
   "cell_type": "markdown",
   "metadata": {},
   "source": [
    "To visualize some of these to verify correctness:"
   ]
  },
  {
   "cell_type": "code",
   "execution_count": 55,
   "metadata": {},
   "outputs": [
    {
     "ename": "NameError",
     "evalue": "name 'path_dict2_trunc' is not defined",
     "output_type": "error",
     "traceback": [
      "\u001b[0;31m---------------------------------------------------------------------------\u001b[0m",
      "\u001b[0;31mNameError\u001b[0m                                 Traceback (most recent call last)",
      "\u001b[0;32m<ipython-input-55-b1d649f0c382>\u001b[0m in \u001b[0;36m<module>\u001b[0;34m\u001b[0m\n\u001b[0;32m----> 1\u001b[0;31m \u001b[0;32mfor\u001b[0m \u001b[0mpath\u001b[0m\u001b[0;34m,\u001b[0m \u001b[0minstances\u001b[0m \u001b[0;32min\u001b[0m \u001b[0mpath_dict2_trunc\u001b[0m\u001b[0;34m.\u001b[0m\u001b[0mitems\u001b[0m\u001b[0;34m(\u001b[0m\u001b[0;34m)\u001b[0m\u001b[0;34m:\u001b[0m\u001b[0;34m\u001b[0m\u001b[0;34m\u001b[0m\u001b[0m\n\u001b[0m\u001b[1;32m      2\u001b[0m     \u001b[0mmotif_a\u001b[0m \u001b[0;34m=\u001b[0m \u001b[0minstances\u001b[0m\u001b[0;34m[\u001b[0m\u001b[0;36m0\u001b[0m\u001b[0;34m]\u001b[0m\u001b[0;34m\u001b[0m\u001b[0;34m\u001b[0m\u001b[0m\n\u001b[1;32m      3\u001b[0m     \u001b[0mprint\u001b[0m\u001b[0;34m(\u001b[0m\u001b[0mmotif_a\u001b[0m\u001b[0;34m.\u001b[0m\u001b[0medges\u001b[0m\u001b[0;34m[\u001b[0m\u001b[0;36m0\u001b[0m\u001b[0;34m]\u001b[0m\u001b[0;34m[\u001b[0m\u001b[0;36m0\u001b[0m\u001b[0;34m]\u001b[0m\u001b[0;34m[\u001b[0m\u001b[0;34m'top_level_comment'\u001b[0m\u001b[0;34m]\u001b[0m\u001b[0;34m)\u001b[0m\u001b[0;34m\u001b[0m\u001b[0;34m\u001b[0m\u001b[0m\n\u001b[1;32m      4\u001b[0m     \u001b[0mviz_motif\u001b[0m\u001b[0;34m(\u001b[0m\u001b[0mmotif_a\u001b[0m\u001b[0;34m,\u001b[0m \u001b[0mtext_limit\u001b[0m\u001b[0;34m=\u001b[0m\u001b[0;36m40\u001b[0m\u001b[0;34m)\u001b[0m\u001b[0;34m\u001b[0m\u001b[0;34m\u001b[0m\u001b[0m\n\u001b[1;32m      5\u001b[0m     \u001b[0mreplay_motif\u001b[0m\u001b[0;34m(\u001b[0m\u001b[0mmotif_a\u001b[0m\u001b[0;34m)\u001b[0m\u001b[0;34m\u001b[0m\u001b[0;34m\u001b[0m\u001b[0m\n",
      "\u001b[0;31mNameError\u001b[0m: name 'path_dict2_trunc' is not defined"
     ]
    }
   ],
   "source": [
    "# for path, instances in path_dict2_trunc.items():\n",
    "#     motif_a = instances[0]\n",
    "#     print(motif_a.edges[0][0]['top_level_comment'])\n",
    "#     viz_motif(motif_a, text_limit=40)\n",
    "#     replay_motif(motif_a)\n",
    "#     print()\n",
    "#     input()"
   ]
  },
  {
   "cell_type": "markdown",
   "metadata": {},
   "source": [
    "# Predictive tasks"
   ]
  },
  {
   "cell_type": "markdown",
   "metadata": {},
   "source": [
    "Let's see if we can predict when triadic closure happens. As triadic closure happens at different points in a triad's development, we have to take care to compare like-to-like and that we are examining the same kind of triadic closure; incoming / unidirectional / outgoing -> incoming_2to3 are three different types of triadic closure, for example."
   ]
  },
  {
   "cell_type": "markdown",
   "metadata": {},
   "source": [
    "Let's focus more on the '2to3' type of triadic closure, as in: \n",
    "- incoming -> incoming_2to3 \n",
    "- direciprocal -> direciprocal_2to3\n",
    "- incoming_1to3 -> outgoing_reciprocal"
   ]
  },
  {
   "cell_type": "code",
   "execution_count": null,
   "metadata": {},
   "outputs": [],
   "source": [
    "# for k in path_dict2_trunc:\n",
    "#     print(k)"
   ]
  },
  {
   "cell_type": "markdown",
   "metadata": {},
   "source": [
    "## Incoming vs incoming_2to3"
   ]
  },
  {
   "cell_type": "code",
   "execution_count": 56,
   "metadata": {},
   "outputs": [
    {
     "data": {
      "text/plain": [
       "{'NO_EDGE_TRIADS': [<convokit.triadMotif.TriadMotif at 0x140397e80>],\n",
       " 'SINGLE_EDGE_TRIADS': [],\n",
       " 'INCOMING_TRIADS': [],\n",
       " 'OUTGOING_TRIADS': [],\n",
       " 'DYADIC_TRIADS': [],\n",
       " 'UNIDIRECTIONAL_TRIADS': [],\n",
       " 'INCOMING_2TO3_TRIADS': [],\n",
       " 'INCOMING_1TO3_TRIADS': [],\n",
       " 'DIRECTED_CYCLE_TRIADS': [],\n",
       " 'OUTGOING_3TO1_TRIADS': [],\n",
       " 'INCOMING_RECIPROCAL_TRIADS': [],\n",
       " 'OUTGOING_RECIPROCAL_TRIADS': [],\n",
       " 'DIRECTED_CYCLE_1TO3_TRIADS': [],\n",
       " 'DIRECIPROCAL_TRIADS': [<convokit.triadMotif.TriadMotif at 0x140397eb8>,\n",
       "  <convokit.triadMotif.TriadMotif at 0x140397ef0>,\n",
       "  <convokit.triadMotif.TriadMotif at 0x140397f28>],\n",
       " 'DIRECIPROCAL_2TO3_TRIADS': [],\n",
       " 'TRIRECIPROCAL_TRIADS': []}"
      ]
     },
     "execution_count": 56,
     "metadata": {},
     "output_type": "execute_result"
    }
   ],
   "source": [
    "threads_motifs['t1_c2yz6ed']"
   ]
  },
  {
   "cell_type": "code",
   "execution_count": 57,
   "metadata": {},
   "outputs": [],
   "source": [
    "# Generate a dict of thread_ids to motifs (disambiguated by paths)\n",
    "threads_paths = defaultdict(dict)\n",
    "for thread, motif_dict in threads_motifs.items():\n",
    "    for motif_type_instances in motif_dict.values():\n",
    "        for motif_inst in motif_type_instances:\n",
    "            path = get_development_path(motif_inst)\n",
    "            if path not in threads_motifs[thread]:\n",
    "                threads_paths[thread][path] = [motif_inst]\n",
    "            else:\n",
    "                threads_paths[thread][path].append(motif_inst)"
   ]
  },
  {
   "cell_type": "code",
   "execution_count": null,
   "metadata": {},
   "outputs": [],
   "source": [
    "pd2"
   ]
  },
  {
   "cell_type": "code",
   "execution_count": 82,
   "metadata": {},
   "outputs": [],
   "source": [
    "def responds_to_same_utt(motif_instance):\n",
    "    utts_replied_to = [edge_set[0]['reply_to'] for edge_set in motif_instance.edges]\n",
    "    return max(Counter(utts_replied_to).values())\n",
    "        "
   ]
  },
  {
   "cell_type": "code",
   "execution_count": 83,
   "metadata": {},
   "outputs": [],
   "source": [
    "import random\n",
    "\n",
    "def generate_pos_neg(threads_paths, pos_types, neg_types):\n",
    "    pos, neg = [], []\n",
    "    for thread in threads_paths: # thread is top-level-comment\n",
    "        paths = threads_paths[thread]\n",
    "#         print(paths)\n",
    "        pos_instances = [triad_instance for pos_type in pos_types for triad_instance in paths.get(pos_type, []) \n",
    "                         if not has_deleted_text(triad_instance) and responds_to_same_utt(triad_instance)]\n",
    "        neg_instances = [triad_instance for neg_type in neg_types for triad_instance in paths.get(neg_type, []) \n",
    "                         if not has_deleted_text(triad_instance) and responds_to_same_utt(triad_instance)]\n",
    "        \n",
    "#         print(len(pos_instances), len(neg_instances))\n",
    "        if len(pos_instances) == 0 or len(neg_instances) == 0: continue\n",
    "        \n",
    "        pos.append(random.choice(pos_instances))\n",
    "        neg.append(random.choice(neg_instances))\n",
    "        \n",
    "    print(\"- {} positive, {} negative pts\".format(len(pos), len(neg)))  \n",
    "    return pos, neg\n"
   ]
  },
  {
   "cell_type": "code",
   "execution_count": 59,
   "metadata": {},
   "outputs": [
    {
     "data": {
      "text/plain": [
       "[('NO_EDGE_TRIADS',\n",
       "  'SINGLE_EDGE_TRIADS',\n",
       "  'INCOMING_TRIADS',\n",
       "  'INCOMING_2TO3_TRIADS'),\n",
       " ('NO_EDGE_TRIADS',\n",
       "  'SINGLE_EDGE_TRIADS',\n",
       "  'INCOMING_TRIADS',\n",
       "  'INCOMING_2TO3_TRIADS',\n",
       "  'INCOMING_RECIPROCAL_TRIADS'),\n",
       " ('NO_EDGE_TRIADS',\n",
       "  'SINGLE_EDGE_TRIADS',\n",
       "  'INCOMING_TRIADS',\n",
       "  'INCOMING_2TO3_TRIADS',\n",
       "  'OUTGOING_RECIPROCAL_TRIADS'),\n",
       " ('NO_EDGE_TRIADS',\n",
       "  'SINGLE_EDGE_TRIADS',\n",
       "  'INCOMING_TRIADS',\n",
       "  'INCOMING_2TO3_TRIADS',\n",
       "  'DIRECTED_CYCLE_1TO3_TRIADS'),\n",
       " ('NO_EDGE_TRIADS',\n",
       "  'SINGLE_EDGE_TRIADS',\n",
       "  'INCOMING_TRIADS',\n",
       "  'INCOMING_2TO3_TRIADS',\n",
       "  'INCOMING_RECIPROCAL_TRIADS',\n",
       "  'DIRECIPROCAL_2TO3_TRIADS'),\n",
       " ('NO_EDGE_TRIADS',\n",
       "  'SINGLE_EDGE_TRIADS',\n",
       "  'INCOMING_TRIADS',\n",
       "  'INCOMING_2TO3_TRIADS',\n",
       "  'DIRECTED_CYCLE_1TO3_TRIADS',\n",
       "  'DIRECIPROCAL_2TO3_TRIADS'),\n",
       " ('NO_EDGE_TRIADS',\n",
       "  'SINGLE_EDGE_TRIADS',\n",
       "  'INCOMING_TRIADS',\n",
       "  'INCOMING_2TO3_TRIADS',\n",
       "  'OUTGOING_RECIPROCAL_TRIADS',\n",
       "  'DIRECIPROCAL_2TO3_TRIADS'),\n",
       " ('NO_EDGE_TRIADS',\n",
       "  'SINGLE_EDGE_TRIADS',\n",
       "  'INCOMING_TRIADS',\n",
       "  'INCOMING_2TO3_TRIADS',\n",
       "  'DIRECTED_CYCLE_1TO3_TRIADS',\n",
       "  'DIRECIPROCAL_2TO3_TRIADS',\n",
       "  'TRIRECIPROCAL_TRIADS'),\n",
       " ('NO_EDGE_TRIADS',\n",
       "  'SINGLE_EDGE_TRIADS',\n",
       "  'INCOMING_TRIADS',\n",
       "  'INCOMING_2TO3_TRIADS',\n",
       "  'OUTGOING_RECIPROCAL_TRIADS',\n",
       "  'DIRECIPROCAL_2TO3_TRIADS',\n",
       "  'TRIRECIPROCAL_TRIADS')]"
      ]
     },
     "execution_count": 59,
     "metadata": {},
     "output_type": "execute_result"
    }
   ],
   "source": [
    "pos_types = []\n",
    "for k in pd2:\n",
    "    if str(k).startswith(\"('NO_EDGE_TRIADS', 'SINGLE_EDGE_TRIADS', 'INCOMING_TRIADS', 'INCOMING_2TO3_TRIADS'\"):\n",
    "        pos_types.append(k)\n",
    "pos_types"
   ]
  },
  {
   "cell_type": "code",
   "execution_count": 84,
   "metadata": {},
   "outputs": [
    {
     "name": "stdout",
     "output_type": "stream",
     "text": [
      "- 4881 positive, 4881 negative pts\n"
     ]
    }
   ],
   "source": [
    "pos, neg = generate_pos_neg(threads_paths, \n",
    "                            pos_types = pos_types, \n",
    "                            neg_types = [('NO_EDGE_TRIADS', 'SINGLE_EDGE_TRIADS', 'INCOMING_TRIADS')]\n",
    "                           )"
   ]
  },
  {
   "cell_type": "code",
   "execution_count": 85,
   "metadata": {},
   "outputs": [],
   "source": [
    "viz_motif(random.choice(pos))"
   ]
  },
  {
   "cell_type": "markdown",
   "metadata": {},
   "source": [
    "### BOW"
   ]
  },
  {
   "cell_type": "code",
   "execution_count": 61,
   "metadata": {},
   "outputs": [],
   "source": [
    "ys = [1]*len(pos) + [0]*len(neg)"
   ]
  },
  {
   "cell_type": "code",
   "execution_count": 79,
   "metadata": {},
   "outputs": [
    {
     "name": "stdout",
     "output_type": "stream",
     "text": [
      "- BOW: 0.5693 train, 0.5015 test\n"
     ]
    }
   ],
   "source": [
    "from sklearn.feature_extraction.text import CountVectorizer\n",
    "from sklearn.linear_model import LogisticRegression\n",
    "import numpy as np\n",
    "from sklearn.model_selection import train_test_split\n",
    "\n",
    "random.seed(42)\n",
    "\n",
    "motifs_text = []\n",
    "for motif_inst in pos + neg:\n",
    "    # BOW baseline text\n",
    "    # motif_text taken from first two edges\n",
    "    time_sorted_edges = sorted([e[0] for e in motif_inst.edges], key=lambda x: x['timestamp'])\n",
    "    text1 = \" \".join([\"1_\"+w for w in time_sorted_edges[0]['text'].split(\" \")])\n",
    "    text2 = \" \".join([\"2_\"+w for w in time_sorted_edges[1]['text'].split(\" \")])\n",
    "    motif_text = text1 + \" \" + text2\n",
    "    motifs_text.append(motif_text)\n",
    "    \n",
    "text_train, text_test, y_train, y_test = train_test_split(motifs_text, ys, test_size=0.3, random_state=42)\n",
    "cv = CountVectorizer(min_df=0.05, max_df=0.8, ngram_range=(1, 3)) # excluding stop_words field improves performance\n",
    "X_train = cv.fit_transform(text_train)\n",
    "X_test = cv.transform(text_test)\n",
    "        \n",
    "clf = LogisticRegression(solver=\"liblinear\")\n",
    "clf.fit(X_train, y_train)\n",
    "\n",
    "train_acc = clf.score(X_train, y_train)\n",
    "test_acc = clf.score(X_test, y_test)\n",
    "print(\"- BOW: {:.4f} train, {:.4f} test\".format(train_acc, test_acc))"
   ]
  },
  {
   "cell_type": "code",
   "execution_count": null,
   "metadata": {},
   "outputs": [],
   "source": [
    "words_coefs = sorted(list(zip(cv.get_feature_names(), clf.coef_[0])), key=lambda x: abs(x[1]), reverse=True)"
   ]
  },
  {
   "cell_type": "code",
   "execution_count": null,
   "metadata": {},
   "outputs": [],
   "source": [
    "words_coefs"
   ]
  },
  {
   "cell_type": "code",
   "execution_count": 77,
   "metadata": {},
   "outputs": [
    {
     "data": {
      "text/plain": [
       "<2929x207 sparse matrix of type '<class 'numpy.int64'>'\n",
       "\twith 82043 stored elements in Compressed Sparse Row format>"
      ]
     },
     "execution_count": 77,
     "metadata": {},
     "output_type": "execute_result"
    }
   ],
   "source": [
    "X_test"
   ]
  },
  {
   "cell_type": "markdown",
   "metadata": {},
   "source": [
    "### Time diff between first/second edge, length of first edge text, length of second edge text"
   ]
  },
  {
   "cell_type": "code",
   "execution_count": 80,
   "metadata": {},
   "outputs": [],
   "source": [
    "def get_features_from_motif(motif_inst):\n",
    "    time_sorted_edges = sorted([e[0] for e in motif_inst.edges], key=lambda x: x['timestamp'])\n",
    "    time_diff = time_sorted_edges[1]['timestamp'] - time_sorted_edges[0]['timestamp']\n",
    "    num_words_1 = len(list(time_sorted_edges[0]['text'].split(\" \")))\n",
    "    num_words_2 = len(list(time_sorted_edges[1]['text'].split(\" \")))\n",
    "    return [time_diff, num_words_1, num_words_2]"
   ]
  },
  {
   "cell_type": "code",
   "execution_count": 81,
   "metadata": {},
   "outputs": [
    {
     "name": "stdout",
     "output_type": "stream",
     "text": [
      "- Basic features: 0.5077 train, 0.5141 test\n"
     ]
    }
   ],
   "source": [
    "X2 = []\n",
    "for motif_inst in pos + neg:\n",
    "    X2.append(get_features_from_motif(motif_inst))\n",
    "\n",
    "X2 = np.array(X2)\n",
    "\n",
    "X2_train, X2_test, y2_train, y2_test = train_test_split(X2, ys, test_size=0.2, random_state=42)\n",
    "        \n",
    "clf = LogisticRegression(solver=\"liblinear\")\n",
    "clf.fit(X2_train, y2_train)\n",
    "\n",
    "train_acc = clf.score(X2_train, y2_train)\n",
    "test_acc = clf.score(X2_test, y2_test)\n",
    "print(\"- Basic features: {:.4f} train, {:.4f} test\".format(train_acc, test_acc))"
   ]
  },
  {
   "cell_type": "markdown",
   "metadata": {},
   "source": [
    "### BOW + Basic features"
   ]
  },
  {
   "cell_type": "code",
   "execution_count": 71,
   "metadata": {},
   "outputs": [],
   "source": [
    "X2 = []\n",
    "for motif_inst in pos + neg:\n",
    "    X2.append(get_features_from_motif(motif_inst))\n",
    "\n",
    "X_combi = list(zip(motifs_text, X2))"
   ]
  },
  {
   "cell_type": "code",
   "execution_count": 78,
   "metadata": {},
   "outputs": [
    {
     "name": "stdout",
     "output_type": "stream",
     "text": [
      "(7809, 212)\n",
      "- Combined: 0.5079 train, 0.5141 test\n"
     ]
    }
   ],
   "source": [
    "X_train, X_test, y_train, y_test = train_test_split(X_combi, ys, test_size=0.2, random_state=42)\n",
    "cv = CountVectorizer(min_df=0.05, max_df=0.8, ngram_range=(1,2)) \n",
    "X_bow_train = cv.fit_transform([x[0] for x in X_train]).todense()\n",
    "X_bow_test = cv.transform([x[0] for x in X_test]).todense()\n",
    "\n",
    "X_combi_train = []\n",
    "X_combi_test = []\n",
    "# print(X_bow_train[0].tolist()[0])\n",
    "\n",
    "for row in range(len(X_train)):\n",
    "    X_combi_train.append(X_bow_train[row].tolist()[0] + X_train[row][1])\n",
    "\n",
    "for row in range(len(X_test)):\n",
    "    X_combi_test.append(X_bow_test[row].tolist()[0] + X_test[row][1])\n",
    "\n",
    "X_combi_train = np.array(X_combi_train)\n",
    "X_combi_test = np.array(X_combi_test)\n",
    "# print(X_combi_train)\n",
    "clf = LogisticRegression(solver=\"liblinear\")\n",
    "clf.fit(X_combi_train, y_train)\n",
    "\n",
    "print(X_combi_train.shape)\n",
    "\n",
    "train_acc = clf.score(X_combi_train, y_train)\n",
    "test_acc = clf.score(X_combi_test, y_test)\n",
    "print(\"- Combined: {:.4f} train, {:.4f} test\".format(train_acc, test_acc))"
   ]
  },
  {
   "cell_type": "markdown",
   "metadata": {},
   "source": [
    "### Tightening conditions"
   ]
  },
  {
   "cell_type": "markdown",
   "metadata": {},
   "source": [
    "No better than chance. Maybe if we focus on those that include the User that posts a top-level-comment?"
   ]
  },
  {
   "cell_type": "code",
   "execution_count": 89,
   "metadata": {},
   "outputs": [],
   "source": [
    "def responds_to_same_toplvlcomm(motif_instance):\n",
    "    num_replies_to_root = 0\n",
    "    for edge_set in motif_instance.edges:\n",
    "        if edge_set[0]['root']: \n",
    "            num_replies_to_root += 1\n",
    "    return num_replies_to_root==2"
   ]
  },
  {
   "cell_type": "code",
   "execution_count": 90,
   "metadata": {},
   "outputs": [],
   "source": [
    "def generate_pos_neg2(threads_paths, pos_types, neg_types):\n",
    "    pos, neg = [], []\n",
    "    for thread in threads_paths: # thread is top-level-comment\n",
    "        paths = threads_paths[thread]\n",
    "#         print(paths)\n",
    "        pos_instances = [triad_instance for pos_type in pos_types for triad_instance in paths.get(pos_type, []) \n",
    "                         if not has_deleted_text(triad_instance) and responds_to_same_toplvlcomm(triad_instance)]\n",
    "        neg_instances = [triad_instance for neg_type in neg_types for triad_instance in paths.get(neg_type, []) \n",
    "                         if not has_deleted_text(triad_instance) and responds_to_same_toplvlcomm(triad_instance)]\n",
    "        \n",
    "#         print(len(pos_instances), len(neg_instances))\n",
    "        if len(pos_instances) == 0 or len(neg_instances) == 0: continue\n",
    "        \n",
    "        pos.append(random.choice(pos_instances))\n",
    "        neg.append(random.choice(neg_instances))\n",
    "        \n",
    "    print(\"- {} positive, {} negative pts\".format(len(pos), len(neg)))  \n",
    "    return pos, neg\n",
    "\n"
   ]
  },
  {
   "cell_type": "code",
   "execution_count": 91,
   "metadata": {},
   "outputs": [
    {
     "name": "stdout",
     "output_type": "stream",
     "text": [
      "- 2068 positive, 2068 negative pts\n"
     ]
    }
   ],
   "source": [
    "pos, neg = generate_pos_neg2(threads_paths, \n",
    "                            pos_types = pos_types, \n",
    "                            neg_types = [('NO_EDGE_TRIADS', 'SINGLE_EDGE_TRIADS', 'INCOMING_TRIADS')]\n",
    "                           )"
   ]
  },
  {
   "cell_type": "markdown",
   "metadata": {},
   "source": [
    "### BOW"
   ]
  },
  {
   "cell_type": "code",
   "execution_count": 101,
   "metadata": {},
   "outputs": [
    {
     "name": "stdout",
     "output_type": "stream",
     "text": [
      "- BOW: 0.5674 train, 0.4300 test\n"
     ]
    }
   ],
   "source": [
    "ys = [1]*len(pos) + [0]*len(neg)\n",
    "random.seed(42)\n",
    "\n",
    "motifs_text = []\n",
    "for motif_inst in pos + neg:\n",
    "    # BOW baseline text\n",
    "    # motif_text taken from first two edges\n",
    "    time_sorted_edges = sorted([e[0] for e in motif_inst.edges], key=lambda x: x['timestamp'])\n",
    "    text1 = \" \".join([w for w in time_sorted_edges[0]['text'].split(\" \")])\n",
    "    text2 = \" \".join([w for w in time_sorted_edges[1]['text'].split(\" \")])\n",
    "    motif_text = text1 + \" \" + text2\n",
    "    motifs_text.append(motif_text)\n",
    "    \n",
    "text_train, text_test, y_train, y_test = train_test_split(motifs_text, ys, test_size=0.2, random_state=42)\n",
    "cv = CountVectorizer(min_df=0.05, max_df=0.8, ngram_range=(1, 3)) # excluding stop_words field improves performance\n",
    "X_train = cv.fit_transform(text_train)\n",
    "X_test = cv.transform(text_test)\n",
    "        \n",
    "clf = LogisticRegression(solver=\"liblinear\")\n",
    "clf.fit(X_train, y_train)\n",
    "\n",
    "train_acc = clf.score(X_train, y_train)\n",
    "test_acc = clf.score(X_test, y_test)\n",
    "print(\"- BOW: {:.4f} train, {:.4f} test\".format(train_acc, test_acc))\n",
    "\n",
    "#57% train and test accuracy (text1/text2 not distinguished, 0.05 / 0.8, no stop_words)"
   ]
  },
  {
   "cell_type": "code",
   "execution_count": 98,
   "metadata": {},
   "outputs": [],
   "source": [
    "words_coefs = sorted(list(zip(cv.get_feature_names(), clf.coef_[0])), key=lambda x: abs(x[1]), reverse=True)"
   ]
  },
  {
   "cell_type": "code",
   "execution_count": 99,
   "metadata": {},
   "outputs": [
    {
     "data": {
      "text/plain": [
       "[('http www', 0.4956121253877387),\n",
       " ('lot of', -0.4600664103238561),\n",
       " ('www', -0.4199982212408819),\n",
       " ('lot', 0.3113368210218197),\n",
       " ('com', -0.2554050969127475),\n",
       " ('same', 0.24615385805683107),\n",
       " ('the same', -0.24227804352563087),\n",
       " ('always', -0.2382392453696565),\n",
       " ('doesn', 0.21521607242057392),\n",
       " ('while', -0.19764507361511213),\n",
       " ('down', -0.19445281453510485),\n",
       " ('want to', 0.1941579635531496),\n",
       " ('used', 0.19052167653685806),\n",
       " ('before', -0.1783387060299004),\n",
       " ('going to', 0.17270620728318525),\n",
       " ('very', -0.1668998008213649),\n",
       " ('pretty', -0.16169305023769953),\n",
       " ('someone', -0.1616570593927834),\n",
       " ('makes', -0.15618035158218557),\n",
       " ('on the', -0.1498651116627687),\n",
       " ('feel', 0.14970764035232853),\n",
       " ('many', 0.14923751049772507),\n",
       " ('point', 0.14594687445944615),\n",
       " ('go', 0.13738701354684216),\n",
       " ('am', 0.1349866972203328),\n",
       " ('isn', 0.13396258226288685),\n",
       " ('its', -0.13164051423409848),\n",
       " ('should', 0.12793384710948924),\n",
       " ('said', 0.12606088752200018),\n",
       " ('bad', 0.12602018430285528),\n",
       " ('is that', 0.12598632553314407),\n",
       " ('http', 0.12571124290489874),\n",
       " ('but it', 0.11836839713358308),\n",
       " ('only', -0.11617288544862854),\n",
       " ('agree', 0.1141069550986263),\n",
       " ('yeah', -0.11371583587199084),\n",
       " ('around', 0.11310509542589842),\n",
       " ('also', 0.11147082510448456),\n",
       " ('get', -0.11143584584568998),\n",
       " ('don', 0.10784829048875504),\n",
       " ('to get', -0.10772523803177864),\n",
       " ('going', -0.10721522544677219),\n",
       " ('after', 0.10578229594275441),\n",
       " ('into', -0.10418713313424974),\n",
       " ('look', 0.10319869052155103),\n",
       " ('reason', 0.10224459873137477),\n",
       " ('that the', -0.10116762108422397),\n",
       " ('long', 0.0989498996796768),\n",
       " ('us', -0.09829988366835592),\n",
       " ('never', -0.09645425471657083),\n",
       " ('re', 0.09632366686036353),\n",
       " ('they are', 0.09532292660406975),\n",
       " ('it is', -0.09462899674277271),\n",
       " ('use', -0.09267270527458517),\n",
       " ('got', -0.09191224847459059),\n",
       " ('love', 0.08883376235105722),\n",
       " ('getting', -0.08844953778227885),\n",
       " ('to be', 0.0879302870531183),\n",
       " ('first', -0.08789873380656774),\n",
       " ('at the', -0.08768735738611093),\n",
       " ('is the', 0.08639895134532144),\n",
       " ('them', 0.0857366258437714),\n",
       " ('here', -0.08561854047541201),\n",
       " ('even', 0.08517057378824155),\n",
       " ('to do', -0.08399347780356348),\n",
       " ('had', -0.08178682358657224),\n",
       " ('be', -0.08119049907828732),\n",
       " ('now', -0.08105066726560978),\n",
       " ('if you', -0.08103483483175704),\n",
       " ('there', 0.08102293623671955),\n",
       " ('him', 0.08066681121982282),\n",
       " ('put', -0.08065277334902048),\n",
       " ('can', 0.08056188467364554),\n",
       " ('you have', 0.07989689895660491),\n",
       " ('why', -0.07974719782685583),\n",
       " ('who', -0.07966349379934233),\n",
       " ('right', 0.07822457937613578),\n",
       " ('our', 0.07809211457038324),\n",
       " ('on', 0.07735810849646266),\n",
       " ('an', -0.07644969809597524),\n",
       " ('it was', -0.07459044687919107),\n",
       " ('most', -0.07229079852117462),\n",
       " ('in the', 0.07217208153304867),\n",
       " ('another', -0.07146129399895808),\n",
       " ('doing', 0.07079630998118465),\n",
       " ('all the', 0.07056160707349839),\n",
       " ('made', -0.07019442292992055),\n",
       " ('every', 0.06885928585576445),\n",
       " ('two', 0.06784088363564418),\n",
       " ('of the', 0.0655506457162032),\n",
       " ('find', 0.06545879617172005),\n",
       " ('has', 0.06539212286303361),\n",
       " ('was', 0.06482524489558034),\n",
       " ('out', 0.06468882328670132),\n",
       " ('really', -0.06466744121890798),\n",
       " ('those', 0.06416235071782904),\n",
       " ('have to', -0.0638555502641028),\n",
       " ('work', 0.06374308315817862),\n",
       " ('or', 0.062415426960527765),\n",
       " ('she', -0.05978341094372278),\n",
       " ('because', -0.057895676615336386),\n",
       " ('much', -0.05546977645266303),\n",
       " ('and it', -0.0553733951410504),\n",
       " ('year', -0.05488855517752251),\n",
       " ('were', 0.054425487019689245),\n",
       " ('her', 0.05438988657869381),\n",
       " ('he', -0.05419986039840068),\n",
       " ('out of', -0.053485564012212175),\n",
       " ('which', -0.052531712736297864),\n",
       " ('your', -0.05213469216414376),\n",
       " ('better', -0.05110678685826015),\n",
       " ('see', 0.050053028565272016),\n",
       " ('sure', -0.04949995668621888),\n",
       " ('give', 0.04895027165810111),\n",
       " ('their', -0.04893136163583261),\n",
       " ('from', 0.04883453172258621),\n",
       " ('still', -0.04792341046669099),\n",
       " ('didn', 0.04653028951361002),\n",
       " ('his', 0.04631782318989868),\n",
       " ('do', -0.045922525177468095),\n",
       " ('when', 0.04583186568332463),\n",
       " ('we', 0.04538286720551852),\n",
       " ('ll', -0.0453474535274161),\n",
       " ('game', -0.04523510678381428),\n",
       " ('me', 0.04520778729748269),\n",
       " ('one of', 0.04400544546938925),\n",
       " ('know', -0.043142388903686504),\n",
       " ('ever', -0.04120607972210753),\n",
       " ('years', 0.041097846747216275),\n",
       " ('well', 0.04077949261198491),\n",
       " ('guy', 0.04071042939983504),\n",
       " ('not', 0.040257338395508414),\n",
       " ('one', -0.040256243508951024),\n",
       " ('any', 0.04017612952788935),\n",
       " ('enough', 0.039758047064581754),\n",
       " ('thing', 0.03941262266669123),\n",
       " ('little', 0.03923906742333149),\n",
       " ('take', -0.038981572902663665),\n",
       " ('might', 0.038246287059623164),\n",
       " ('are', -0.03817819158176622),\n",
       " ('gt', -0.0380261722318458),\n",
       " ('how', 0.037800681374384),\n",
       " ('is', 0.037618650916849676),\n",
       " ('want', 0.03747607915738127),\n",
       " ('been', -0.03693560148949904),\n",
       " ('other', 0.03609186833672803),\n",
       " ('actually', 0.03600554690101103),\n",
       " ('but', 0.034874217552651986),\n",
       " ('just', -0.03443552220617539),\n",
       " ('with the', 0.032903162480937394),\n",
       " ('where', -0.032319567439574),\n",
       " ('over', 0.03192719798254265),\n",
       " ('few', -0.03178905598415871),\n",
       " ('something', 0.03176497050210183),\n",
       " ('so', 0.03152496685530374),\n",
       " ('being', -0.030709658909595712),\n",
       " ('that', -0.027958821072577474),\n",
       " ('thought', -0.027629148049222094),\n",
       " ('than', -0.027589429829704804),\n",
       " ('of', -0.027339975262304656),\n",
       " ('would be', 0.027111832950885588),\n",
       " ('need', -0.026692490120950787),\n",
       " ('and the', -0.02615812553860685),\n",
       " ('have', 0.025904277561718612),\n",
       " ('would', 0.025778017692377822),\n",
       " ('anything', 0.0255685740576545),\n",
       " ('think', 0.024956420002384305),\n",
       " ('what', -0.02415659282183597),\n",
       " ('all', -0.02390858286941775),\n",
       " ('make', -0.023741059488992702),\n",
       " ('good', 0.02345042688134829),\n",
       " ('since', -0.023281194031852002),\n",
       " ('best', -0.02256661783080896),\n",
       " ('back', -0.022483518570183752),\n",
       " ('too', 0.02159405015947593),\n",
       " ('off', 0.021459468877916096),\n",
       " ('ve', 0.02111663917142175),\n",
       " ('probably', 0.020933084324028475),\n",
       " ('again', 0.020712636886837676),\n",
       " ('in', -0.020208910390672716),\n",
       " ('there is', 0.020083383076103013),\n",
       " ('my', 0.019893908406391485),\n",
       " ('more', -0.019376702759360525),\n",
       " ('did', -0.01849956362121938),\n",
       " ('to the', -0.018354930972974307),\n",
       " ('to', -0.018262685907205416),\n",
       " ('they', 0.01811491727794226),\n",
       " ('you re', -0.017661011885056765),\n",
       " ('then', 0.017309164976739646),\n",
       " ('some', 0.016600958848577294),\n",
       " ('it', -0.015665771278617388),\n",
       " ('say', -0.014405023398355152),\n",
       " ('though', -0.014076645902742903),\n",
       " ('people', 0.013860271756518877),\n",
       " ('you can', 0.013385338176239313),\n",
       " ('by', 0.013321109557243416),\n",
       " ('with', -0.01256494522611552),\n",
       " ('no', 0.010610794571870624),\n",
       " ('like', -0.010139087447534214),\n",
       " ('up', -0.008735615236257262),\n",
       " ('that is', -0.008499708579682451),\n",
       " ('if', 0.008259510994296452),\n",
       " ('things', -0.008127889226148653),\n",
       " ('time', 0.007411964404906065),\n",
       " ('at', 0.0068807946039395156),\n",
       " ('as', -0.006852343713826209),\n",
       " ('new', 0.006336455273115006),\n",
       " ('this is', -0.006074612758476357),\n",
       " ('this', 0.005991479852280086),\n",
       " ('these', 0.004787353519850166),\n",
       " ('about', 0.004144264871764366),\n",
       " ('great', -0.003476215445479075),\n",
       " ('for', -0.003295163478574758),\n",
       " ('way', -0.0031165222193581454),\n",
       " ('for the', -0.0022213775081588636),\n",
       " ('could', 0.0019207202528831611),\n",
       " ('does', -0.0013180239519734519),\n",
       " ('and', 0.0007036324109530773),\n",
       " ('you', -0.0004557858026452321),\n",
       " ('will', -0.0003392340009303288)]"
      ]
     },
     "execution_count": 99,
     "metadata": {},
     "output_type": "execute_result"
    }
   ],
   "source": [
    "words_coefs"
   ]
  },
  {
   "cell_type": "markdown",
   "metadata": {},
   "source": [
    "### Basic features"
   ]
  },
  {
   "cell_type": "code",
   "execution_count": 105,
   "metadata": {},
   "outputs": [
    {
     "name": "stdout",
     "output_type": "stream",
     "text": [
      "- Basic features: 0.5047 train, 0.5189 test\n"
     ]
    }
   ],
   "source": [
    "X2 = []\n",
    "for motif_inst in pos + neg:\n",
    "    X2.append(get_features_from_motif(motif_inst))\n",
    "\n",
    "X2 = np.array(X2)\n",
    "\n",
    "X2_train, X2_test, y2_train, y2_test = train_test_split(X2, ys, test_size=0.3, random_state=42)\n",
    "        \n",
    "clf = LogisticRegression(solver=\"liblinear\")\n",
    "clf.fit(X2_train, y2_train)\n",
    "\n",
    "train_acc = clf.score(X2_train, y2_train)\n",
    "test_acc = clf.score(X2_test, y2_test)\n",
    "print(\"- Basic features: {:.4f} train, {:.4f} test\".format(train_acc, test_acc))"
   ]
  },
  {
   "cell_type": "markdown",
   "metadata": {},
   "source": [
    "### Combined"
   ]
  },
  {
   "cell_type": "code",
   "execution_count": 106,
   "metadata": {},
   "outputs": [],
   "source": [
    "X2 = []\n",
    "for motif_inst in pos + neg:\n",
    "    X2.append(get_features_from_motif(motif_inst))\n",
    "\n",
    "X_combi = list(zip(motifs_text, X2))"
   ]
  },
  {
   "cell_type": "code",
   "execution_count": 108,
   "metadata": {},
   "outputs": [
    {
     "name": "stdout",
     "output_type": "stream",
     "text": [
      "(2895, 223)\n",
      "- Combined: 0.5029 train, 0.5197 test\n"
     ]
    }
   ],
   "source": [
    "X_train, X_test, y_train, y_test = train_test_split(X_combi, ys, test_size=0.3, random_state=42)\n",
    "cv = CountVectorizer(min_df=0.05, max_df=0.8, ngram_range=(1,3)) \n",
    "X_bow_train = cv.fit_transform([x[0] for x in X_train]).todense()\n",
    "X_bow_test = cv.transform([x[0] for x in X_test]).todense()\n",
    "\n",
    "X_combi_train = []\n",
    "X_combi_test = []\n",
    "# print(X_bow_train[0].tolist()[0])\n",
    "\n",
    "for row in range(len(X_train)):\n",
    "    X_combi_train.append(X_bow_train[row].tolist()[0] + X_train[row][1])\n",
    "\n",
    "for row in range(len(X_test)):\n",
    "    X_combi_test.append(X_bow_test[row].tolist()[0] + X_test[row][1])\n",
    "\n",
    "X_combi_train = np.array(X_combi_train)\n",
    "X_combi_test = np.array(X_combi_test)\n",
    "# print(X_combi_train)\n",
    "clf = LogisticRegression(solver=\"liblinear\")\n",
    "clf.fit(X_combi_train, y_train)\n",
    "\n",
    "print(X_combi_train.shape)\n",
    "\n",
    "train_acc = clf.score(X_combi_train, y_train)\n",
    "test_acc = clf.score(X_combi_test, y_test)\n",
    "print(\"- Combined: {:.4f} train, {:.4f} test\".format(train_acc, test_acc))"
   ]
  },
  {
   "cell_type": "code",
   "execution_count": null,
   "metadata": {},
   "outputs": [],
   "source": []
  },
  {
   "cell_type": "code",
   "execution_count": null,
   "metadata": {},
   "outputs": [],
   "source": []
  },
  {
   "cell_type": "code",
   "execution_count": null,
   "metadata": {},
   "outputs": [],
   "source": []
  },
  {
   "cell_type": "code",
   "execution_count": null,
   "metadata": {},
   "outputs": [],
   "source": []
  },
  {
   "cell_type": "code",
   "execution_count": null,
   "metadata": {},
   "outputs": [],
   "source": []
  },
  {
   "cell_type": "code",
   "execution_count": null,
   "metadata": {},
   "outputs": [],
   "source": []
  },
  {
   "cell_type": "code",
   "execution_count": null,
   "metadata": {},
   "outputs": [],
   "source": []
  },
  {
   "cell_type": "code",
   "execution_count": null,
   "metadata": {},
   "outputs": [],
   "source": []
  },
  {
   "cell_type": "code",
   "execution_count": null,
   "metadata": {},
   "outputs": [],
   "source": []
  },
  {
   "cell_type": "markdown",
   "metadata": {},
   "source": [
    "\n",
    "As one of the features the identified subreddits from thread_randomizer consistently differed from the norm from was: DIRECIPROCAL_2to3, let's pick any one and try to elucidate what are the key words used in a DIRECIPROCAL_2TO3 triad."
   ]
  },
  {
   "cell_type": "markdown",
   "metadata": {},
   "source": [
    "Let's try: **MensRights**"
   ]
  },
  {
   "cell_type": "code",
   "execution_count": null,
   "metadata": {},
   "outputs": [],
   "source": [
    "def get_subreddit(threads, thread_id):\n",
    "    if thread_id not in threads:\n",
    "        return None\n",
    "    return threads[thread_id][thread_id].other[\"user-info\"][\"subreddit\"]\n",
    "\n",
    "MensRights_threads = [thread_id for thread_id in threads if get_subreddit(threads, thread_id) == \"MensRights\"]"
   ]
  },
  {
   "cell_type": "code",
   "execution_count": null,
   "metadata": {},
   "outputs": [],
   "source": [
    "def display_thread_helper(thread, root, indent=0):\n",
    "    print(\" \"*indent + thread[root].user.name)\n",
    "    print(\" \"*indent + thread[root].text.replace(\"\\n\", \" \"))\n",
    "    children = [k for k, v in thread.items() if v.reply_to == root]\n",
    "    for child in children:\n",
    "        display_thread_helper(thread, child, indent=indent+4)\n",
    "        \n",
    "def display_thread(threads, root):\n",
    "    return display_thread_helper(threads[root],root)"
   ]
  },
  {
   "cell_type": "code",
   "execution_count": null,
   "metadata": {},
   "outputs": [],
   "source": [
    "for thread in MensRights_threads[:100]:\n",
    "    if print_utterances(threads_motifs, thread, \"DIRECIPROCAL_2TO3_TRIADS\"):\n",
    "        print(thread)\n",
    "        print('###################DISPLAYING THREAD###################')\n",
    "        display_thread(threads, thread)\n",
    "        print()\n"
   ]
  },
  {
   "cell_type": "markdown",
   "metadata": {},
   "source": [
    "Ordering of utterances: *(C1->C2, C2->C1, C1->C3, C3->C1, C2->C3)*"
   ]
  },
  {
   "cell_type": "code",
   "execution_count": null,
   "metadata": {},
   "outputs": [],
   "source": []
  }
 ],
 "metadata": {
  "kernelspec": {
   "display_name": "Python 3",
   "language": "python",
   "name": "python3"
  },
  "language_info": {
   "codemirror_mode": {
    "name": "ipython",
    "version": 3
   },
   "file_extension": ".py",
   "mimetype": "text/x-python",
   "name": "python",
   "nbconvert_exporter": "python",
   "pygments_lexer": "ipython3",
   "version": "3.7.3"
  }
 },
 "nbformat": 4,
 "nbformat_minor": 2
}
