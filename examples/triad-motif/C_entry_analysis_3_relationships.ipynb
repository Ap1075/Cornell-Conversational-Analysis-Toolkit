{
 "cells": [
  {
   "cell_type": "code",
   "execution_count": 1,
   "metadata": {},
   "outputs": [],
   "source": [
    "import os"
   ]
  },
  {
   "cell_type": "code",
   "execution_count": 2,
   "metadata": {},
   "outputs": [],
   "source": [
    "os.chdir('../..')"
   ]
  },
  {
   "cell_type": "code",
   "execution_count": 3,
   "metadata": {},
   "outputs": [],
   "source": [
    "import convokit\n",
    "from convokit import Corpus, download, TriadMotif, Thread\n",
    "import seaborn as sns; sns.set(style=\"ticks\", color_codes=True)\n",
    "import matplotlib.pyplot as plt\n",
    "from collections import Counter\n",
    "import pandas as pd"
   ]
  },
  {
   "cell_type": "code",
   "execution_count": 4,
   "metadata": {},
   "outputs": [],
   "source": [
    "corpus = Corpus(filename=\"/Users/calebchiam/Documents/rs-corpus-lastmonth\")"
   ]
  },
  {
   "cell_type": "code",
   "execution_count": 5,
   "metadata": {},
   "outputs": [
    {
     "name": "stdout",
     "output_type": "stream",
     "text": [
      "Number of Users: 41879\n",
      "Number of Utterances: 281412\n",
      "Number of Conversations: 24914\n"
     ]
    }
   ],
   "source": [
    "corpus.print_summary_stats()"
   ]
  },
  {
   "cell_type": "code",
   "execution_count": 6,
   "metadata": {},
   "outputs": [],
   "source": [
    "threads = corpus.utterance_threads(include_root=False)"
   ]
  },
  {
   "cell_type": "code",
   "execution_count": 7,
   "metadata": {},
   "outputs": [
    {
     "name": "stdout",
     "output_type": "stream",
     "text": [
      "124440\n"
     ]
    }
   ],
   "source": [
    "print(len(threads))"
   ]
  },
  {
   "cell_type": "markdown",
   "metadata": {},
   "source": [
    "## Initialize thread objects"
   ]
  },
  {
   "cell_type": "code",
   "execution_count": 8,
   "metadata": {},
   "outputs": [],
   "source": [
    "thread_objs = dict()\n",
    "fails = []\n",
    "for thread_id, thread_utts in threads.items():\n",
    "    thread_obj = Thread(list(thread_utts.values()))\n",
    "    if thread_obj.check_integrity(verbose=False):\n",
    "        thread_objs[thread_id] = thread_obj\n",
    "        thread_obj.annotate_depth()"
   ]
  },
  {
   "cell_type": "code",
   "execution_count": 9,
   "metadata": {},
   "outputs": [
    {
     "name": "stdout",
     "output_type": "stream",
     "text": [
      "Broken threads 393\n"
     ]
    }
   ],
   "source": [
    "print(\"Broken threads\", len(threads) - len(thread_objs))"
   ]
  },
  {
   "cell_type": "markdown",
   "metadata": {},
   "source": [
    "## Initialize thread hypergraphs"
   ]
  },
  {
   "cell_type": "code",
   "execution_count": 10,
   "metadata": {},
   "outputs": [],
   "source": [
    "threads = corpus.utterance_threads(include_root=False)\n",
    "threads_hypergraphs = dict()\n",
    "for i, (root, thread) in enumerate(threads.items()):\n",
    "    G = convokit.HyperConvo._make_hypergraph(uts=thread)\n",
    "    threads_hypergraphs[root] = G"
   ]
  },
  {
   "cell_type": "markdown",
   "metadata": {},
   "source": [
    "## Some descriptive stats on the top-level comment threads from 1 Oct 2017 - 1 Oct 2018"
   ]
  },
  {
   "cell_type": "code",
   "execution_count": 11,
   "metadata": {},
   "outputs": [
    {
     "data": {
      "text/plain": [
       "124047"
      ]
     },
     "execution_count": 11,
     "metadata": {},
     "output_type": "execute_result"
    }
   ],
   "source": [
    "# Number of threads\n",
    "len(thread_objs)"
   ]
  },
  {
   "cell_type": "markdown",
   "metadata": {},
   "source": [
    "## Distribution of number of participants in the threads"
   ]
  },
  {
   "cell_type": "code",
   "execution_count": 12,
   "metadata": {},
   "outputs": [],
   "source": [
    "from collections import defaultdict\n",
    "threads_num_users = defaultdict(int)\n",
    "for thread_id, hg in threads_hypergraphs.items():\n",
    "    threads_num_users[len(hg.hypernodes)] += 1"
   ]
  },
  {
   "cell_type": "code",
   "execution_count": 13,
   "metadata": {},
   "outputs": [
    {
     "data": {
      "text/plain": [
       "[(1, 91848),\n",
       " (2, 18955),\n",
       " (3, 6129),\n",
       " (4, 2667),\n",
       " (5, 1427),\n",
       " (6, 884),\n",
       " (7, 579),\n",
       " (8, 421),\n",
       " (9, 251),\n",
       " (10, 230),\n",
       " (11, 169),\n",
       " (12, 143),\n",
       " (13, 99),\n",
       " (14, 82),\n",
       " (15, 59),\n",
       " (16, 66),\n",
       " (17, 63),\n",
       " (18, 40),\n",
       " (19, 34),\n",
       " (20, 33),\n",
       " (21, 23),\n",
       " (22, 31),\n",
       " (23, 16),\n",
       " (24, 18),\n",
       " (25, 12),\n",
       " (26, 17),\n",
       " (27, 12),\n",
       " (28, 18),\n",
       " (29, 10),\n",
       " (30, 6)]"
      ]
     },
     "execution_count": 13,
     "metadata": {},
     "output_type": "execute_result"
    }
   ],
   "source": [
    "sorted(list(threads_num_users.items()))[:30]"
   ]
  },
  {
   "cell_type": "code",
   "execution_count": 14,
   "metadata": {},
   "outputs": [],
   "source": [
    "# convokit.display_thread(threads, 'e58r4yf')"
   ]
  },
  {
   "cell_type": "code",
   "execution_count": 15,
   "metadata": {},
   "outputs": [],
   "source": [
    "from itertools import permutations\n",
    "def identify_final_motif(hg, userA, userB, userC):\n",
    "    # We use the identities of user A, B, C (i.e. top-level-commenter, first replier, first third-party replier)\n",
    "    # to simplify the typically-difficult final motif identification step\n",
    "    num_edge_dirs = 0\n",
    "    for user_pair in permutations([userA, userB, userC], 2):\n",
    "        if len(hg.adj_in[user_pair[0]].get(user_pair[1], [])) > 0:\n",
    "            num_edge_dirs += 1\n",
    "    \n",
    "    # sanity check\n",
    "    assert 2 <= num_edge_dirs <= 6\n",
    "    if num_edge_dirs == 6:\n",
    "        return 'TRIRECIPROCAL_TRIADS'\n",
    "    elif num_edge_dirs == 5:\n",
    "        return 'DIRECIPROCAL_2TO3_TRIADS'\n",
    "    elif num_edge_dirs == 4:\n",
    "        if len(hg.adj_out[userB].get(userC, [])) == 0 and len(hg.adj_out[userC].get(userB, [])) == 0:\n",
    "            # B and C do not talk\n",
    "            return \"DIRECIPROCAL_TRIADS\"\n",
    "        elif len(hg.adj_out[userB].get(userC, [])) > 0 and len(hg.adj_out[userC].get(userB, [])) > 0:\n",
    "            # B and C talk to each other\n",
    "            return \"INCOMING_RECIPROCAL_TRIADS\"\n",
    "        elif len(hg.adj_out[userC].get(userB, [])) > 0 and len(hg.adj_out[userC].get(userA, [])) > 0 and \\\n",
    "                len(hg.adj_in[userC].get(userB, [])) == 0 and len(hg.adj_in[userC].get(userA, [])) == 0:\n",
    "            # C talks to A and B but gets no responses\n",
    "            return \"OUTGOING_RECIPROCAL_TRIADS\"\n",
    "        elif len(hg.adj_out[userB].get(userC, [])) > 0 and len(hg.adj_out[userB].get(userA, [])) > 0 and \\\n",
    "                len(hg.adj_in[userB].get(userC, [])) == 0 and len(hg.adj_in[userC].get(userA, [])) == 0:\n",
    "            # B talks to A and C but gets no response\n",
    "            return \"OUTGOING_RECIPROCAL_TRIADS\"\n",
    "        else:\n",
    "            return \"DIRECTED_CYCLE_1TO3_TRIADS\"\n",
    "    elif num_edge_dirs == 3:\n",
    "        if len(hg.adj_in[userC].get(userA, [])) > 0: # A talks to C\n",
    "            if len(hg.adj_in[userA].get(userC, [])) > 0: # C talks to A\n",
    "                return \"INCOMING_1TO3_TRIADS\"\n",
    "            else: # C does not talk to A\n",
    "                return \"DIRECTED_CYCLE_TRIADS\"\n",
    "        else: # A does not tak to C\n",
    "            if len(hg.adj_out[userC].get(userB, [])) > 0: # C talks to B\n",
    "                return \"OUTGOING_3TO1_TRIADS\"\n",
    "            else:\n",
    "                return \"INCOMING_2TO3_TRIADS\"\n",
    "    elif num_edge_dirs == 2:\n",
    "        # cannot be outgoing by definition, can only be incoming or unidirectional\n",
    "        if len(hg.adj_in[userA].get(userC, [])) > 0:\n",
    "            return 'INCOMING_TRIADS'\n",
    "        else:\n",
    "            return 'UNIDIRECTIONAL_TRIADS'\n",
    "\n",
    "        "
   ]
  },
  {
   "cell_type": "code",
   "execution_count": 16,
   "metadata": {},
   "outputs": [
    {
     "data": {
      "text/plain": [
       "{'e56q3vo': Utterance({'id': 'e56q3vo', 'user': User([('name', 'EvyEarthling')]), 'root': '9bvwg5', 'reply_to': '9bvwg5', 'timestamp': 1535760003, 'text': '\"It\\'s not you, it\\'s me\"\\n\\nYou can just tell him that you don\\'t think you\\'re a great match.', 'meta': {'score': 2, 'top_level_comment': 'e56q3vo', 'retrieved_on': 1538538087, 'gilded': 0, 'gildings': {'gid_1': 0, 'gid_2': 0, 'gid_3': 0}, 'subreddit': 'relationships', 'stickied': False, 'permalink': '/r/relationships/comments/9bvwg5/how_do_i_22f_let_this_guy_24m_ive_been_seeing/e56q3vo/', 'author_flair_text': '', 'depth': 1}})}"
      ]
     },
     "execution_count": 16,
     "metadata": {},
     "output_type": "execute_result"
    }
   ],
   "source": [
    "thread_objs['e56q3vo'].utterances"
   ]
  },
  {
   "cell_type": "code",
   "execution_count": 17,
   "metadata": {},
   "outputs": [],
   "source": [
    "broken_threads = []\n",
    "one_commenter_threads = []\n",
    "two_commenter_threads = []\n",
    "three_or_more_threads = []\n",
    "for thread_id, thread_obj in thread_objs.items():\n",
    "    hg = threads_hypergraphs[thread_id]\n",
    "    if not thread_obj.check_integrity(verbose=False):\n",
    "        broken_threads.append(thread_id)\n",
    "        continue\n",
    "    userA, userB, userC = thread_obj.identify_ABC()\n",
    "    if userB is None:\n",
    "        one_commenter_threads.append(thread_id)\n",
    "    elif userC is None:\n",
    "        density = thread_obj.get_AB_density(userA, userB)\n",
    "        two_commenter_threads.append((thread_id, 'DYADIC_TRIADS', density, -1, \"nil\"))\n",
    "    else:\n",
    "        final_type = identify_final_motif(hg, thread_obj.get_user(userA), \n",
    "                                          thread_obj.get_user(userB), thread_obj.get_user(userC))\n",
    "#         print(userA, userB, userC)\n",
    "        density = thread_obj.get_AB_density_beforeC(userA, userB, userC)\n",
    "        C_depth, target = thread_obj.get_C_entrance(userA, userB, userC) \n",
    "        three_or_more_threads.append((thread_id, final_type, density, C_depth, target))\n",
    "        "
   ]
  },
  {
   "cell_type": "code",
   "execution_count": 18,
   "metadata": {},
   "outputs": [
    {
     "name": "stdout",
     "output_type": "stream",
     "text": [
      "Total threads 124440\n",
      "threads with one commenter 91587\n",
      "threads with two commenters 18869\n",
      "threads with >=3 commenters 13591\n",
      "threads with broken structure 393\n"
     ]
    }
   ],
   "source": [
    "print(\"Total threads\", len(threads))\n",
    "print(\"threads with one commenter\", len(one_commenter_threads))\n",
    "print(\"threads with two commenters\", len(two_commenter_threads))\n",
    "print(\"threads with >=3 commenters\", len(three_or_more_threads))\n",
    "print(\"threads with broken structure\", len(threads) - len(one_commenter_threads) - len(two_commenter_threads) - len(three_or_more_threads))"
   ]
  },
  {
   "cell_type": "markdown",
   "metadata": {},
   "source": [
    "Let **C_depth** be defined as the depth of the top-level-comment tree that C's first utterance is located at. The top-level-comment has depth 1, so if C responds to the top-level-comment directly, then C_depth = 2."
   ]
  },
  {
   "cell_type": "markdown",
   "metadata": {},
   "source": [
    "Let **density** be the number of utterances directed from A to B or B to A. For non-dyadic threads (i.e. threads with >=3 users), this is the density before C first arrives. (Note: self-replies are not counted.)"
   ]
  },
  {
   "cell_type": "markdown",
   "metadata": {},
   "source": [
    "Let **C_target** be the speaker of the utterance that C first responds to."
   ]
  },
  {
   "cell_type": "code",
   "execution_count": 19,
   "metadata": {},
   "outputs": [],
   "source": [
    "df = pd.DataFrame(data=two_commenter_threads+three_or_more_threads, columns=['thread_id', 'motif_type', 'density', 'C_depth', 'C_target'])"
   ]
  },
  {
   "cell_type": "code",
   "execution_count": 20,
   "metadata": {},
   "outputs": [],
   "source": [
    "df = df.set_index('thread_id')"
   ]
  },
  {
   "cell_type": "code",
   "execution_count": 21,
   "metadata": {},
   "outputs": [
    {
     "data": {
      "text/html": [
       "<div>\n",
       "<style scoped>\n",
       "    .dataframe tbody tr th:only-of-type {\n",
       "        vertical-align: middle;\n",
       "    }\n",
       "\n",
       "    .dataframe tbody tr th {\n",
       "        vertical-align: top;\n",
       "    }\n",
       "\n",
       "    .dataframe thead th {\n",
       "        text-align: right;\n",
       "    }\n",
       "</style>\n",
       "<table border=\"1\" class=\"dataframe\">\n",
       "  <thead>\n",
       "    <tr style=\"text-align: right;\">\n",
       "      <th></th>\n",
       "      <th>motif_type</th>\n",
       "      <th>density</th>\n",
       "      <th>C_depth</th>\n",
       "      <th>C_target</th>\n",
       "    </tr>\n",
       "    <tr>\n",
       "      <th>thread_id</th>\n",
       "      <th></th>\n",
       "      <th></th>\n",
       "      <th></th>\n",
       "      <th></th>\n",
       "    </tr>\n",
       "  </thead>\n",
       "  <tbody>\n",
       "    <tr>\n",
       "      <th>e56q8hz</th>\n",
       "      <td>DYADIC_TRIADS</td>\n",
       "      <td>2</td>\n",
       "      <td>-1</td>\n",
       "      <td>nil</td>\n",
       "    </tr>\n",
       "    <tr>\n",
       "      <th>e56qccf</th>\n",
       "      <td>DYADIC_TRIADS</td>\n",
       "      <td>3</td>\n",
       "      <td>-1</td>\n",
       "      <td>nil</td>\n",
       "    </tr>\n",
       "    <tr>\n",
       "      <th>e56qq9j</th>\n",
       "      <td>DYADIC_TRIADS</td>\n",
       "      <td>2</td>\n",
       "      <td>-1</td>\n",
       "      <td>nil</td>\n",
       "    </tr>\n",
       "    <tr>\n",
       "      <th>e56qu2i</th>\n",
       "      <td>DYADIC_TRIADS</td>\n",
       "      <td>2</td>\n",
       "      <td>-1</td>\n",
       "      <td>nil</td>\n",
       "    </tr>\n",
       "    <tr>\n",
       "      <th>e56r3ms</th>\n",
       "      <td>DYADIC_TRIADS</td>\n",
       "      <td>2</td>\n",
       "      <td>-1</td>\n",
       "      <td>nil</td>\n",
       "    </tr>\n",
       "  </tbody>\n",
       "</table>\n",
       "</div>"
      ],
      "text/plain": [
       "              motif_type  density  C_depth C_target\n",
       "thread_id                                          \n",
       "e56q8hz    DYADIC_TRIADS        2       -1      nil\n",
       "e56qccf    DYADIC_TRIADS        3       -1      nil\n",
       "e56qq9j    DYADIC_TRIADS        2       -1      nil\n",
       "e56qu2i    DYADIC_TRIADS        2       -1      nil\n",
       "e56r3ms    DYADIC_TRIADS        2       -1      nil"
      ]
     },
     "execution_count": 21,
     "metadata": {},
     "output_type": "execute_result"
    }
   ],
   "source": [
    "df.head()"
   ]
  },
  {
   "cell_type": "code",
   "execution_count": 22,
   "metadata": {},
   "outputs": [
    {
     "data": {
      "text/plain": [
       "Counter({'DYADIC_TRIADS': 18869,\n",
       "         'OUTGOING_3TO1_TRIADS': 3714,\n",
       "         'UNIDIRECTIONAL_TRIADS': 3649,\n",
       "         'INCOMING_2TO3_TRIADS': 1018,\n",
       "         'INCOMING_RECIPROCAL_TRIADS': 1084,\n",
       "         'DIRECIPROCAL_2TO3_TRIADS': 165,\n",
       "         'INCOMING_TRIADS': 2698,\n",
       "         'DIRECIPROCAL_TRIADS': 506,\n",
       "         'INCOMING_1TO3_TRIADS': 474,\n",
       "         'OUTGOING_RECIPROCAL_TRIADS': 103,\n",
       "         'DIRECTED_CYCLE_1TO3_TRIADS': 95,\n",
       "         'DIRECTED_CYCLE_TRIADS': 58,\n",
       "         'TRIRECIPROCAL_TRIADS': 27})"
      ]
     },
     "execution_count": 22,
     "metadata": {},
     "output_type": "execute_result"
    }
   ],
   "source": [
    "Counter(df['motif_type'])"
   ]
  },
  {
   "cell_type": "code",
   "execution_count": 23,
   "metadata": {},
   "outputs": [
    {
     "data": {
      "text/plain": [
       "[(1, 5),\n",
       " (2, 9801),\n",
       " (3, 2310),\n",
       " (4, 828),\n",
       " (5, 331),\n",
       " (6, 144),\n",
       " (7, 72),\n",
       " (8, 43),\n",
       " (9, 21),\n",
       " (10, 14),\n",
       " (11, 9),\n",
       " (12, 3),\n",
       " (13, 6),\n",
       " (14, 2),\n",
       " (15, 2)]"
      ]
     },
     "execution_count": 23,
     "metadata": {},
     "output_type": "execute_result"
    }
   ],
   "source": [
    "sorted(list(Counter(df[df['motif_type'] != 'DYADIC_TRIADS']['density']).items()))[:30]"
   ]
  },
  {
   "cell_type": "code",
   "execution_count": 24,
   "metadata": {},
   "outputs": [
    {
     "data": {
      "text/plain": [
       "Counter({'nil': 18869, 'B': 8568, 'A': 5023})"
      ]
     },
     "execution_count": 24,
     "metadata": {},
     "output_type": "execute_result"
    }
   ],
   "source": [
    "Counter(df['C_target'])"
   ]
  },
  {
   "cell_type": "code",
   "execution_count": 25,
   "metadata": {},
   "outputs": [
    {
     "data": {
      "text/plain": [
       "Counter({2: 22285,\n",
       "         3: 6015,\n",
       "         4: 2188,\n",
       "         8: 130,\n",
       "         5: 924,\n",
       "         11: 34,\n",
       "         6: 466,\n",
       "         7: 222,\n",
       "         10: 47,\n",
       "         9: 74,\n",
       "         13: 18,\n",
       "         14: 11,\n",
       "         15: 8,\n",
       "         12: 13,\n",
       "         17: 3,\n",
       "         21: 1,\n",
       "         18: 3,\n",
       "         22: 2,\n",
       "         23: 1,\n",
       "         25: 2,\n",
       "         16: 4,\n",
       "         19: 2,\n",
       "         41: 1,\n",
       "         29: 1,\n",
       "         1: 5})"
      ]
     },
     "execution_count": 25,
     "metadata": {},
     "output_type": "execute_result"
    }
   ],
   "source": [
    "Counter(df['density'])"
   ]
  },
  {
   "cell_type": "markdown",
   "metadata": {},
   "source": [
    "## C joins vs C does not join at each density k"
   ]
  },
  {
   "cell_type": "code",
   "execution_count": 26,
   "metadata": {},
   "outputs": [],
   "source": [
    "no_dyadic_df = df[df['motif_type'] != 'DYADIC_TRIADS']"
   ]
  },
  {
   "cell_type": "code",
   "execution_count": 27,
   "metadata": {},
   "outputs": [
    {
     "data": {
      "text/plain": [
       "(13591, 4)"
      ]
     },
     "execution_count": 27,
     "metadata": {},
     "output_type": "execute_result"
    }
   ],
   "source": [
    "no_dyadic_df.shape"
   ]
  },
  {
   "cell_type": "code",
   "execution_count": 28,
   "metadata": {},
   "outputs": [],
   "source": [
    "dyadic_df = df[df['motif_type'] == 'DYADIC_TRIADS']"
   ]
  },
  {
   "cell_type": "code",
   "execution_count": 29,
   "metadata": {},
   "outputs": [],
   "source": [
    "C_joins_percent = []\n",
    "for k in range(2, 11):\n",
    "    C_join_num = no_dyadic_df[no_dyadic_df['density'] == k].shape[0]\n",
    "    C_no_join_num_dyadic = dyadic_df[dyadic_df['density'] >= k].shape[0]\n",
    "    C_no_join_num_others = no_dyadic_df[no_dyadic_df['density'] > k].shape[0]\n",
    "    C_no_join = C_no_join_num_dyadic + C_no_join_num_others\n",
    "    C_joins_percent.append(C_join_num / (C_join_num + C_no_join))"
   ]
  },
  {
   "cell_type": "code",
   "execution_count": 30,
   "metadata": {},
   "outputs": [
    {
     "data": {
      "text/plain": [
       "<matplotlib.axes._subplots.AxesSubplot at 0x138a51320>"
      ]
     },
     "execution_count": 30,
     "metadata": {},
     "output_type": "execute_result"
    },
    {
     "data": {
      "image/png": "[encoded data removed]",
      "text/plain": [
       "<Figure size 432x288 with 1 Axes>"
      ]
     },
     "metadata": {
      "needs_background": "light"
     },
     "output_type": "display_data"
    }
   ],
   "source": [
    "sns.lineplot(x=range(2,11), y=C_joins_percent)"
   ]
  },
  {
   "cell_type": "markdown",
   "metadata": {},
   "source": [
    "## Which part of the thread does C join?"
   ]
  },
  {
   "cell_type": "markdown",
   "metadata": {},
   "source": [
    "### Basic counts of C's depth"
   ]
  },
  {
   "cell_type": "code",
   "execution_count": 31,
   "metadata": {},
   "outputs": [],
   "source": [
    "ctr = Counter(no_dyadic_df['C_depth'])"
   ]
  },
  {
   "cell_type": "code",
   "execution_count": 32,
   "metadata": {},
   "outputs": [],
   "source": [
    "num_instances = [ctr[x] for x in range(2, 11)]"
   ]
  },
  {
   "cell_type": "code",
   "execution_count": 33,
   "metadata": {},
   "outputs": [
    {
     "data": {
      "text/plain": [
       "<matplotlib.axes._subplots.AxesSubplot at 0x138a494e0>"
      ]
     },
     "execution_count": 33,
     "metadata": {},
     "output_type": "execute_result"
    },
    {
     "data": {
      "image/png": "[encoded data removed]",
      "text/plain": [
       "<Figure size 432x288 with 1 Axes>"
      ]
     },
     "metadata": {
      "needs_background": "light"
     },
     "output_type": "display_data"
    }
   ],
   "source": [
    "# Num instances against depth of comment C responds to (1 = top-level-comment)\n",
    "sns.barplot(x=list(range(1,10)), y=num_instances)"
   ]
  },
  {
   "cell_type": "markdown",
   "metadata": {},
   "source": [
    "### Plotting which part of the thread C (C's depth) joins against density before C's entrance"
   ]
  },
  {
   "cell_type": "code",
   "execution_count": 34,
   "metadata": {},
   "outputs": [
    {
     "data": {
      "text/html": [
       "<div>\n",
       "<style scoped>\n",
       "    .dataframe tbody tr th:only-of-type {\n",
       "        vertical-align: middle;\n",
       "    }\n",
       "\n",
       "    .dataframe tbody tr th {\n",
       "        vertical-align: top;\n",
       "    }\n",
       "\n",
       "    .dataframe thead th {\n",
       "        text-align: right;\n",
       "    }\n",
       "</style>\n",
       "<table border=\"1\" class=\"dataframe\">\n",
       "  <thead>\n",
       "    <tr style=\"text-align: right;\">\n",
       "      <th></th>\n",
       "      <th>C_depth</th>\n",
       "    </tr>\n",
       "    <tr>\n",
       "      <th>density</th>\n",
       "      <th></th>\n",
       "    </tr>\n",
       "  </thead>\n",
       "  <tbody>\n",
       "    <tr>\n",
       "      <th>1</th>\n",
       "      <td>2.000000</td>\n",
       "    </tr>\n",
       "    <tr>\n",
       "      <th>2</th>\n",
       "      <td>2.645342</td>\n",
       "    </tr>\n",
       "    <tr>\n",
       "      <th>3</th>\n",
       "      <td>3.053247</td>\n",
       "    </tr>\n",
       "    <tr>\n",
       "      <th>4</th>\n",
       "      <td>3.932367</td>\n",
       "    </tr>\n",
       "    <tr>\n",
       "      <th>5</th>\n",
       "      <td>4.208459</td>\n",
       "    </tr>\n",
       "    <tr>\n",
       "      <th>6</th>\n",
       "      <td>5.187500</td>\n",
       "    </tr>\n",
       "    <tr>\n",
       "      <th>7</th>\n",
       "      <td>5.208333</td>\n",
       "    </tr>\n",
       "    <tr>\n",
       "      <th>8</th>\n",
       "      <td>6.186047</td>\n",
       "    </tr>\n",
       "    <tr>\n",
       "      <th>9</th>\n",
       "      <td>6.428571</td>\n",
       "    </tr>\n",
       "    <tr>\n",
       "      <th>10</th>\n",
       "      <td>7.214286</td>\n",
       "    </tr>\n",
       "    <tr>\n",
       "      <th>11</th>\n",
       "      <td>9.777778</td>\n",
       "    </tr>\n",
       "    <tr>\n",
       "      <th>12</th>\n",
       "      <td>9.000000</td>\n",
       "    </tr>\n",
       "    <tr>\n",
       "      <th>13</th>\n",
       "      <td>7.000000</td>\n",
       "    </tr>\n",
       "    <tr>\n",
       "      <th>14</th>\n",
       "      <td>12.000000</td>\n",
       "    </tr>\n",
       "    <tr>\n",
       "      <th>15</th>\n",
       "      <td>6.000000</td>\n",
       "    </tr>\n",
       "  </tbody>\n",
       "</table>\n",
       "</div>"
      ],
      "text/plain": [
       "           C_depth\n",
       "density           \n",
       "1         2.000000\n",
       "2         2.645342\n",
       "3         3.053247\n",
       "4         3.932367\n",
       "5         4.208459\n",
       "6         5.187500\n",
       "7         5.208333\n",
       "8         6.186047\n",
       "9         6.428571\n",
       "10        7.214286\n",
       "11        9.777778\n",
       "12        9.000000\n",
       "13        7.000000\n",
       "14       12.000000\n",
       "15        6.000000"
      ]
     },
     "execution_count": 34,
     "metadata": {},
     "output_type": "execute_result"
    }
   ],
   "source": [
    "no_dyadic_df.groupby('density').mean()"
   ]
  },
  {
   "cell_type": "code",
   "execution_count": 35,
   "metadata": {},
   "outputs": [],
   "source": [
    "y = no_dyadic_df.groupby('density').mean().values[1:10].flatten() # exclude density == 1 (edge cases)"
   ]
  },
  {
   "cell_type": "code",
   "execution_count": 36,
   "metadata": {},
   "outputs": [],
   "source": [
    "x = range(2, 11)"
   ]
  },
  {
   "cell_type": "code",
   "execution_count": 37,
   "metadata": {},
   "outputs": [
    {
     "data": {
      "text/plain": [
       "Text(0.5, 1.0, 'C_depth against density')"
      ]
     },
     "execution_count": 37,
     "metadata": {},
     "output_type": "execute_result"
    },
    {
     "data": {
      "image/png": "[encoded data removed]",
      "text/plain": [
       "<Figure size 432x288 with 1 Axes>"
      ]
     },
     "metadata": {
      "needs_background": "light"
     },
     "output_type": "display_data"
    }
   ],
   "source": [
    "# C's depth against A/B density before C enters\n",
    "sns.scatterplot(x=x, y=y).set_title('C_depth against density')"
   ]
  },
  {
   "cell_type": "markdown",
   "metadata": {},
   "source": [
    "### How does C's depth on joining correlate to the final motif?"
   ]
  },
  {
   "cell_type": "code",
   "execution_count": 38,
   "metadata": {},
   "outputs": [],
   "source": [
    "triad_order = convokit.TriadMotif.get_motif_types()"
   ]
  },
  {
   "cell_type": "code",
   "execution_count": 39,
   "metadata": {},
   "outputs": [],
   "source": [
    "motif_to_Cdepth = df.groupby('motif_type')['C_depth'].mean().to_dict()"
   ]
  },
  {
   "cell_type": "code",
   "execution_count": 40,
   "metadata": {},
   "outputs": [],
   "source": [
    "y = [motif_to_Cdepth[motif] for motif in triad_order if motif in motif_to_Cdepth]"
   ]
  },
  {
   "cell_type": "code",
   "execution_count": 41,
   "metadata": {},
   "outputs": [
    {
     "data": {
      "text/plain": [
       "['NO_EDGE_TRIADS',\n",
       " 'SINGLE_EDGE_TRIADS',\n",
       " 'INCOMING_TRIADS',\n",
       " 'OUTGOING_TRIADS',\n",
       " 'DYADIC_TRIADS',\n",
       " 'UNIDIRECTIONAL_TRIADS',\n",
       " 'INCOMING_2TO3_TRIADS',\n",
       " 'DIRECTED_CYCLE_TRIADS',\n",
       " 'INCOMING_1TO3_TRIADS',\n",
       " 'OUTGOING_3TO1_TRIADS',\n",
       " 'INCOMING_RECIPROCAL_TRIADS',\n",
       " 'OUTGOING_RECIPROCAL_TRIADS',\n",
       " 'DIRECTED_CYCLE_1TO3_TRIADS',\n",
       " 'DIRECIPROCAL_TRIADS',\n",
       " 'DIRECIPROCAL_2TO3_TRIADS',\n",
       " 'TRIRECIPROCAL_TRIADS']"
      ]
     },
     "execution_count": 41,
     "metadata": {},
     "output_type": "execute_result"
    }
   ],
   "source": [
    "triad_order"
   ]
  },
  {
   "cell_type": "code",
   "execution_count": 42,
   "metadata": {},
   "outputs": [
    {
     "data": {
      "text/plain": [
       "(array([ 0,  1,  2,  3,  4,  5,  6,  7,  8,  9, 10, 11, 12]),\n",
       " <a list of 13 Text xticklabel objects>)"
      ]
     },
     "execution_count": 42,
     "metadata": {},
     "output_type": "execute_result"
    },
    {
     "data": {
      "image/png": "[encoded data removed]",
      "text/plain": [
       "<Figure size 432x288 with 1 Axes>"
      ]
     },
     "metadata": {
      "needs_background": "light"
     },
     "output_type": "display_data"
    }
   ],
   "source": [
    "sns.barplot(x=[motif for motif in triad_order if motif in motif_to_Cdepth], y=y)\n",
    "plt.title('Average C_depth for motif')\n",
    "plt.xticks(rotation=45, horizontalalignment='right')"
   ]
  },
  {
   "cell_type": "code",
   "execution_count": 43,
   "metadata": {},
   "outputs": [
    {
     "data": {
      "text/plain": [
       "{'DIRECIPROCAL_2TO3_TRIADS': 3.121212121212121,\n",
       " 'DIRECIPROCAL_TRIADS': 3.0118577075098814,\n",
       " 'DIRECTED_CYCLE_1TO3_TRIADS': 2.8947368421052633,\n",
       " 'DIRECTED_CYCLE_TRIADS': 3.0517241379310347,\n",
       " 'DYADIC_TRIADS': -1.0,\n",
       " 'INCOMING_1TO3_TRIADS': 2.018987341772152,\n",
       " 'INCOMING_2TO3_TRIADS': 3.0776031434184676,\n",
       " 'INCOMING_RECIPROCAL_TRIADS': 3.4990774907749076,\n",
       " 'INCOMING_TRIADS': 2.028169014084507,\n",
       " 'OUTGOING_3TO1_TRIADS': 3.289983844911147,\n",
       " 'OUTGOING_RECIPROCAL_TRIADS': 3.0485436893203883,\n",
       " 'TRIRECIPROCAL_TRIADS': 2.888888888888889,\n",
       " 'UNIDIRECTIONAL_TRIADS': 3.0142504795834477}"
      ]
     },
     "execution_count": 43,
     "metadata": {},
     "output_type": "execute_result"
    }
   ],
   "source": [
    "motif_to_Cdepth"
   ]
  },
  {
   "cell_type": "markdown",
   "metadata": {},
   "source": [
    "### C_target against C_depth "
   ]
  },
  {
   "cell_type": "markdown",
   "metadata": {},
   "source": [
    "Note that we expect an obvious correlation between the two."
   ]
  },
  {
   "cell_type": "code",
   "execution_count": 44,
   "metadata": {},
   "outputs": [],
   "source": [
    "C_target_grouped_by_depth = no_dyadic_df.groupby('C_depth')['C_target'].value_counts(normalize=True).unstack()"
   ]
  },
  {
   "cell_type": "code",
   "execution_count": 45,
   "metadata": {},
   "outputs": [
    {
     "data": {
      "text/plain": [
       "<matplotlib.axes._subplots.AxesSubplot at 0x138c2ad30>"
      ]
     },
     "execution_count": 45,
     "metadata": {},
     "output_type": "execute_result"
    },
    {
     "data": {
      "image/png": "[encoded data removed]",
      "text/plain": [
       "<Figure size 432x288 with 1 Axes>"
      ]
     },
     "metadata": {
      "needs_background": "light"
     },
     "output_type": "display_data"
    }
   ],
   "source": [
    "C_target_grouped_by_depth.plot(kind='bar',stacked=True)"
   ]
  },
  {
   "cell_type": "markdown",
   "metadata": {},
   "source": [
    "### Alternate view: C_depth against C_target"
   ]
  },
  {
   "cell_type": "code",
   "execution_count": 46,
   "metadata": {},
   "outputs": [],
   "source": [
    "C_depth_grouped_by_target = no_dyadic_df.groupby('C_target')['C_depth'].value_counts(normalize=True).unstack()"
   ]
  },
  {
   "cell_type": "code",
   "execution_count": 47,
   "metadata": {},
   "outputs": [
    {
     "data": {
      "text/html": [
       "<div>\n",
       "<style scoped>\n",
       "    .dataframe tbody tr th:only-of-type {\n",
       "        vertical-align: middle;\n",
       "    }\n",
       "\n",
       "    .dataframe tbody tr th {\n",
       "        vertical-align: top;\n",
       "    }\n",
       "\n",
       "    .dataframe thead th {\n",
       "        text-align: right;\n",
       "    }\n",
       "</style>\n",
       "<table border=\"1\" class=\"dataframe\">\n",
       "  <thead>\n",
       "    <tr style=\"text-align: right;\">\n",
       "      <th>C_target</th>\n",
       "      <th>A</th>\n",
       "      <th>B</th>\n",
       "    </tr>\n",
       "    <tr>\n",
       "      <th>C_depth</th>\n",
       "      <th></th>\n",
       "      <th></th>\n",
       "    </tr>\n",
       "  </thead>\n",
       "  <tbody>\n",
       "    <tr>\n",
       "      <th>2</th>\n",
       "      <td>0.840932</td>\n",
       "      <td>NaN</td>\n",
       "    </tr>\n",
       "    <tr>\n",
       "      <th>3</th>\n",
       "      <td>0.011149</td>\n",
       "      <td>0.912582</td>\n",
       "    </tr>\n",
       "    <tr>\n",
       "      <th>4</th>\n",
       "      <td>0.120247</td>\n",
       "      <td>0.006303</td>\n",
       "    </tr>\n",
       "    <tr>\n",
       "      <th>5</th>\n",
       "      <td>0.001991</td>\n",
       "      <td>0.065826</td>\n",
       "    </tr>\n",
       "    <tr>\n",
       "      <th>6</th>\n",
       "      <td>0.018515</td>\n",
       "      <td>0.000817</td>\n",
       "    </tr>\n",
       "    <tr>\n",
       "      <th>7</th>\n",
       "      <td>0.001195</td>\n",
       "      <td>0.009921</td>\n",
       "    </tr>\n",
       "    <tr>\n",
       "      <th>8</th>\n",
       "      <td>0.004579</td>\n",
       "      <td>0.000233</td>\n",
       "    </tr>\n",
       "    <tr>\n",
       "      <th>9</th>\n",
       "      <td>0.000199</td>\n",
       "      <td>0.002684</td>\n",
       "    </tr>\n",
       "    <tr>\n",
       "      <th>10</th>\n",
       "      <td>0.000597</td>\n",
       "      <td>0.000117</td>\n",
       "    </tr>\n",
       "    <tr>\n",
       "      <th>11</th>\n",
       "      <td>0.000398</td>\n",
       "      <td>0.000934</td>\n",
       "    </tr>\n",
       "    <tr>\n",
       "      <th>12</th>\n",
       "      <td>0.000199</td>\n",
       "      <td>0.000117</td>\n",
       "    </tr>\n",
       "    <tr>\n",
       "      <th>13</th>\n",
       "      <td>NaN</td>\n",
       "      <td>0.000350</td>\n",
       "    </tr>\n",
       "    <tr>\n",
       "      <th>15</th>\n",
       "      <td>NaN</td>\n",
       "      <td>0.000117</td>\n",
       "    </tr>\n",
       "  </tbody>\n",
       "</table>\n",
       "</div>"
      ],
      "text/plain": [
       "C_target         A         B\n",
       "C_depth                     \n",
       "2         0.840932       NaN\n",
       "3         0.011149  0.912582\n",
       "4         0.120247  0.006303\n",
       "5         0.001991  0.065826\n",
       "6         0.018515  0.000817\n",
       "7         0.001195  0.009921\n",
       "8         0.004579  0.000233\n",
       "9         0.000199  0.002684\n",
       "10        0.000597  0.000117\n",
       "11        0.000398  0.000934\n",
       "12        0.000199  0.000117\n",
       "13             NaN  0.000350\n",
       "15             NaN  0.000117"
      ]
     },
     "execution_count": 47,
     "metadata": {},
     "output_type": "execute_result"
    }
   ],
   "source": [
    "C_depth_grouped_by_target.T"
   ]
  },
  {
   "cell_type": "code",
   "execution_count": null,
   "metadata": {},
   "outputs": [],
   "source": []
  }
 ],
 "metadata": {
  "kernelspec": {
   "display_name": "Python 3",
   "language": "python",
   "name": "python3"
  },
  "language_info": {
   "codemirror_mode": {
    "name": "ipython",
    "version": 3
   },
   "file_extension": ".py",
   "mimetype": "text/x-python",
   "name": "python",
   "nbconvert_exporter": "python",
   "pygments_lexer": "ipython3",
   "version": "3.7.3"
  }
 },
 "nbformat": 4,
 "nbformat_minor": 2
}
