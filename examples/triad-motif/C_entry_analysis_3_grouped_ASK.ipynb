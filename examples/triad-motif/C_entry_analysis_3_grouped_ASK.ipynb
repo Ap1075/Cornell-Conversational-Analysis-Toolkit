{
 "cells": [
  {
   "cell_type": "code",
   "execution_count": 1,
   "metadata": {},
   "outputs": [],
   "source": [
    "import os"
   ]
  },
  {
   "cell_type": "code",
   "execution_count": 2,
   "metadata": {},
   "outputs": [],
   "source": [
    "os.chdir('../..')"
   ]
  },
  {
   "cell_type": "code",
   "execution_count": 4,
   "metadata": {},
   "outputs": [],
   "source": [
    "import convokit\n",
    "from convokit import Corpus, download, TriadMotif, Thread\n",
    "import seaborn as sns; sns.set(style=\"ticks\", color_codes=True)\n",
    "import matplotlib.pyplot as plt\n",
    "from collections import Counter\n",
    "import pandas as pd"
   ]
  },
  {
   "cell_type": "code",
   "execution_count": 5,
   "metadata": {},
   "outputs": [],
   "source": [
    "corpus_dir = \"/sauna/fake-news/one_month\""
   ]
  },
  {
   "cell_type": "code",
   "execution_count": 7,
   "metadata": {},
   "outputs": [],
   "source": [
    "corpus_names = os.listdir(corpus_dir)"
   ]
  },
  {
   "cell_type": "code",
   "execution_count": 8,
   "metadata": {},
   "outputs": [
    {
     "data": {
      "text/plain": [
       "['news-onemonth-corpus',\n",
       " 'politics-onemonth-corpus',\n",
       " 'worldnews-onemonth-corpus',\n",
       " 'askscience-onemonth-corpus',\n",
       " 'AskCulinary-onemonth-corpus',\n",
       " 'AskWomen-onemonth-corpus',\n",
       " 'WTF-onemonth-corpus',\n",
       " 'gifs-onemonth-corpus',\n",
       " 'funny-onemonth-corpus']"
      ]
     },
     "execution_count": 8,
     "metadata": {},
     "output_type": "execute_result"
    }
   ],
   "source": [
    "corpus_names"
   ]
  },
  {
   "cell_type": "code",
   "execution_count": 9,
   "metadata": {},
   "outputs": [],
   "source": [
    "corpus1 = Corpus(filename=os.path.join(corpus_dir, corpus_names[3]))\n",
    "corpus2 = Corpus(filename=os.path.join(corpus_dir, corpus_names[4]))\n",
    "corpus3 = Corpus(filename=os.path.join(corpus_dir, corpus_names[5]))"
   ]
  },
  {
   "cell_type": "code",
   "execution_count": 10,
   "metadata": {},
   "outputs": [],
   "source": [
    "corpus = corpus1.merge(corpus2).merge(corpus3)"
   ]
  },
  {
   "cell_type": "code",
   "execution_count": 11,
   "metadata": {},
   "outputs": [
    {
     "name": "stdout",
     "output_type": "stream",
     "text": [
      "Number of Users: 42752\n",
      "Number of Utterances: 185507\n",
      "Number of Conversations: 16855\n"
     ]
    }
   ],
   "source": [
    "corpus.print_summary_stats()"
   ]
  },
  {
   "cell_type": "code",
   "execution_count": 12,
   "metadata": {},
   "outputs": [],
   "source": [
    "threads = corpus.utterance_threads(include_root=False)"
   ]
  },
  {
   "cell_type": "code",
   "execution_count": 13,
   "metadata": {},
   "outputs": [
    {
     "name": "stdout",
     "output_type": "stream",
     "text": [
      "85422\n"
     ]
    }
   ],
   "source": [
    "print(len(threads))"
   ]
  },
  {
   "cell_type": "markdown",
   "metadata": {},
   "source": [
    "## Initialize thread objects"
   ]
  },
  {
   "cell_type": "code",
   "execution_count": 14,
   "metadata": {},
   "outputs": [],
   "source": [
    "thread_objs = dict()\n",
    "fails = []\n",
    "for thread_id, thread_utts in threads.items():\n",
    "    thread_obj = Thread(list(thread_utts.values()))\n",
    "    if thread_obj.check_integrity(verbose=False):\n",
    "        thread_objs[thread_id] = thread_obj\n",
    "        thread_obj.annotate_depth()"
   ]
  },
  {
   "cell_type": "code",
   "execution_count": 15,
   "metadata": {},
   "outputs": [
    {
     "name": "stdout",
     "output_type": "stream",
     "text": [
      "Broken threads 535\n"
     ]
    }
   ],
   "source": [
    "print(\"Broken threads\", len(threads) - len(thread_objs))"
   ]
  },
  {
   "cell_type": "markdown",
   "metadata": {},
   "source": [
    "## Initialize thread hypergraphs"
   ]
  },
  {
   "cell_type": "code",
   "execution_count": 16,
   "metadata": {},
   "outputs": [],
   "source": [
    "threads = corpus.utterance_threads(include_root=False)\n",
    "threads_hypergraphs = dict()\n",
    "for i, (root, thread) in enumerate(threads.items()):\n",
    "    G = convokit.HyperConvo._make_hypergraph(uts=thread)\n",
    "    threads_hypergraphs[root] = G"
   ]
  },
  {
   "cell_type": "markdown",
   "metadata": {},
   "source": [
    "## Some descriptive stats on the top-level comment threads from 1 Oct 2017 - 1 Oct 2018"
   ]
  },
  {
   "cell_type": "code",
   "execution_count": 17,
   "metadata": {},
   "outputs": [
    {
     "data": {
      "text/plain": [
       "84887"
      ]
     },
     "execution_count": 17,
     "metadata": {},
     "output_type": "execute_result"
    }
   ],
   "source": [
    "# Number of threads\n",
    "len(thread_objs)"
   ]
  },
  {
   "cell_type": "markdown",
   "metadata": {},
   "source": [
    "## Distribution of number of participants in the threads"
   ]
  },
  {
   "cell_type": "code",
   "execution_count": 18,
   "metadata": {},
   "outputs": [],
   "source": [
    "from collections import defaultdict\n",
    "threads_num_users = defaultdict(int)\n",
    "for thread_id, hg in threads_hypergraphs.items():\n",
    "    threads_num_users[len(hg.hypernodes)] += 1"
   ]
  },
  {
   "cell_type": "code",
   "execution_count": 19,
   "metadata": {},
   "outputs": [
    {
     "data": {
      "text/plain": [
       "[(1, 68349),\n",
       " (2, 10137),\n",
       " (3, 2996),\n",
       " (4, 1358),\n",
       " (5, 732),\n",
       " (6, 423),\n",
       " (7, 275),\n",
       " (8, 198),\n",
       " (9, 134),\n",
       " (10, 119),\n",
       " (11, 80),\n",
       " (12, 65),\n",
       " (13, 56),\n",
       " (14, 41),\n",
       " (15, 42),\n",
       " (16, 37),\n",
       " (17, 35),\n",
       " (18, 22),\n",
       " (19, 24),\n",
       " (20, 22)]"
      ]
     },
     "execution_count": 19,
     "metadata": {},
     "output_type": "execute_result"
    }
   ],
   "source": [
    "sorted(list(threads_num_users.items()))[:20]"
   ]
  },
  {
   "cell_type": "code",
   "execution_count": 20,
   "metadata": {},
   "outputs": [],
   "source": [
    "# convokit.display_thread(threads, 'e58r4yf')"
   ]
  },
  {
   "cell_type": "code",
   "execution_count": 21,
   "metadata": {},
   "outputs": [],
   "source": [
    "from itertools import permutations\n",
    "def identify_final_motif(hg, userA, userB, userC):\n",
    "    # We use the identities of user A, B, C (i.e. top-level-commenter, first replier, first third-party replier)\n",
    "    # to simplify the typically-difficult final motif identification step\n",
    "    num_edge_dirs = 0\n",
    "    for user_pair in permutations([userA, userB, userC], 2):\n",
    "        if len(hg.adj_in[user_pair[0]].get(user_pair[1], [])) > 0:\n",
    "            num_edge_dirs += 1\n",
    "    \n",
    "    # sanity check\n",
    "    assert 2 <= num_edge_dirs <= 6\n",
    "    if num_edge_dirs == 6:\n",
    "        return 'TRIRECIPROCAL_TRIADS'\n",
    "    elif num_edge_dirs == 5:\n",
    "        return 'DIRECIPROCAL_2TO3_TRIADS'\n",
    "    elif num_edge_dirs == 4:\n",
    "        if len(hg.adj_out[userB].get(userC, [])) == 0 and len(hg.adj_out[userC].get(userB, [])) == 0:\n",
    "            # B and C do not talk\n",
    "            return \"DIRECIPROCAL_TRIADS\"\n",
    "        elif len(hg.adj_out[userB].get(userC, [])) > 0 and len(hg.adj_out[userC].get(userB, [])) > 0:\n",
    "            # B and C talk to each other\n",
    "            return \"INCOMING_RECIPROCAL_TRIADS\"\n",
    "        elif len(hg.adj_out[userC].get(userB, [])) > 0 and len(hg.adj_out[userC].get(userA, [])) > 0 and \\\n",
    "                len(hg.adj_in[userC].get(userB, [])) == 0 and len(hg.adj_in[userC].get(userA, [])) == 0:\n",
    "            # C talks to A and B but gets no responses\n",
    "            return \"OUTGOING_RECIPROCAL_TRIADS\"\n",
    "        elif len(hg.adj_out[userB].get(userC, [])) > 0 and len(hg.adj_out[userB].get(userA, [])) > 0 and \\\n",
    "                len(hg.adj_in[userB].get(userC, [])) == 0 and len(hg.adj_in[userC].get(userA, [])) == 0:\n",
    "            # B talks to A and C but gets no response\n",
    "            return \"OUTGOING_RECIPROCAL_TRIADS\"\n",
    "        else:\n",
    "            return \"DIRECTED_CYCLE_1TO3_TRIADS\"\n",
    "    elif num_edge_dirs == 3:\n",
    "        if len(hg.adj_in[userC].get(userA, [])) > 0: # A talks to C\n",
    "            if len(hg.adj_in[userA].get(userC, [])) > 0: # C talks to A\n",
    "                return \"INCOMING_1TO3_TRIADS\"\n",
    "            else: # C does not talk to A\n",
    "                return \"DIRECTED_CYCLE_TRIADS\"\n",
    "        else: # A does not tak to C\n",
    "            if len(hg.adj_out[userC].get(userB, [])) > 0: # C talks to B\n",
    "                return \"OUTGOING_3TO1_TRIADS\"\n",
    "            else:\n",
    "                return \"INCOMING_2TO3_TRIADS\"\n",
    "    elif num_edge_dirs == 2:\n",
    "        # cannot be outgoing by definition, can only be incoming or unidirectional\n",
    "        if len(hg.adj_in[userA].get(userC, [])) > 0:\n",
    "            return 'INCOMING_TRIADS'\n",
    "        else:\n",
    "            return 'UNIDIRECTIONAL_TRIADS'\n",
    "\n",
    "        "
   ]
  },
  {
   "cell_type": "code",
   "execution_count": 22,
   "metadata": {},
   "outputs": [],
   "source": [
    "broken_threads = []\n",
    "one_commenter_threads = []\n",
    "two_commenter_threads = []\n",
    "three_or_more_threads = []\n",
    "for thread_id, thread_obj in thread_objs.items():\n",
    "    hg = threads_hypergraphs[thread_id]\n",
    "    if not thread_obj.check_integrity(verbose=False):\n",
    "        broken_threads.append(thread_id)\n",
    "        continue\n",
    "    userA, userB, userC = thread_obj.identify_ABC()\n",
    "    if userB is None:\n",
    "        one_commenter_threads.append(thread_id)\n",
    "    elif userC is None:\n",
    "        density = thread_obj.get_AB_density(userA, userB)\n",
    "        two_commenter_threads.append((thread_id, 'DYADIC_TRIADS', density, -1, \"nil\"))\n",
    "    else:\n",
    "        final_type = identify_final_motif(hg, thread_obj.get_user(userA), \n",
    "                                          thread_obj.get_user(userB), thread_obj.get_user(userC))\n",
    "#         print(userA, userB, userC)\n",
    "        density = thread_obj.get_AB_density_beforeC(userA, userB, userC)\n",
    "        C_depth, target = thread_obj.get_C_entrance(userA, userB, userC) \n",
    "        three_or_more_threads.append((thread_id, final_type, density, C_depth, target))\n",
    "        "
   ]
  },
  {
   "cell_type": "code",
   "execution_count": 23,
   "metadata": {},
   "outputs": [
    {
     "name": "stdout",
     "output_type": "stream",
     "text": [
      "Total threads 85422\n",
      "threads with one commenter 68031\n",
      "threads with two commenters 9986\n",
      "threads with >=3 commenters 6870\n",
      "threads with broken structure 535\n"
     ]
    }
   ],
   "source": [
    "print(\"Total threads\", len(threads))\n",
    "print(\"threads with one commenter\", len(one_commenter_threads))\n",
    "print(\"threads with two commenters\", len(two_commenter_threads))\n",
    "print(\"threads with >=3 commenters\", len(three_or_more_threads))\n",
    "print(\"threads with broken structure\", len(threads) - len(one_commenter_threads) - len(two_commenter_threads) - len(three_or_more_threads))"
   ]
  },
  {
   "cell_type": "markdown",
   "metadata": {},
   "source": [
    "Let **C_depth** be defined as the depth of the top-level-comment tree that C's first utterance is located at. The top-level-comment has depth 1, so if C responds to the top-level-comment directly, then C_depth = 2."
   ]
  },
  {
   "cell_type": "markdown",
   "metadata": {},
   "source": [
    "Let **density** be the number of utterances directed from A to B or B to A. For non-dyadic threads (i.e. threads with >=3 users), this is the density before C first arrives. (Note: self-replies are not counted.)"
   ]
  },
  {
   "cell_type": "markdown",
   "metadata": {},
   "source": [
    "Let **C_target** be the speaker of the utterance that C first responds to."
   ]
  },
  {
   "cell_type": "code",
   "execution_count": 24,
   "metadata": {},
   "outputs": [],
   "source": [
    "df = pd.DataFrame(data=two_commenter_threads+three_or_more_threads, columns=['thread_id', 'motif_type', 'density', 'C_depth', 'C_target'])"
   ]
  },
  {
   "cell_type": "code",
   "execution_count": 25,
   "metadata": {},
   "outputs": [],
   "source": [
    "df = df.set_index('thread_id')"
   ]
  },
  {
   "cell_type": "code",
   "execution_count": 26,
   "metadata": {},
   "outputs": [
    {
     "data": {
      "text/html": [
       "<div>\n",
       "<style scoped>\n",
       "    .dataframe tbody tr th:only-of-type {\n",
       "        vertical-align: middle;\n",
       "    }\n",
       "\n",
       "    .dataframe tbody tr th {\n",
       "        vertical-align: top;\n",
       "    }\n",
       "\n",
       "    .dataframe thead th {\n",
       "        text-align: right;\n",
       "    }\n",
       "</style>\n",
       "<table border=\"1\" class=\"dataframe\">\n",
       "  <thead>\n",
       "    <tr style=\"text-align: right;\">\n",
       "      <th></th>\n",
       "      <th>motif_type</th>\n",
       "      <th>density</th>\n",
       "      <th>C_depth</th>\n",
       "      <th>C_target</th>\n",
       "    </tr>\n",
       "    <tr>\n",
       "      <th>thread_id</th>\n",
       "      <th></th>\n",
       "      <th></th>\n",
       "      <th></th>\n",
       "      <th></th>\n",
       "    </tr>\n",
       "  </thead>\n",
       "  <tbody>\n",
       "    <tr>\n",
       "      <td>e56rdfd</td>\n",
       "      <td>DYADIC_TRIADS</td>\n",
       "      <td>2</td>\n",
       "      <td>-1</td>\n",
       "      <td>nil</td>\n",
       "    </tr>\n",
       "    <tr>\n",
       "      <td>e56vf4m</td>\n",
       "      <td>DYADIC_TRIADS</td>\n",
       "      <td>2</td>\n",
       "      <td>-1</td>\n",
       "      <td>nil</td>\n",
       "    </tr>\n",
       "    <tr>\n",
       "      <td>e56xjah</td>\n",
       "      <td>DYADIC_TRIADS</td>\n",
       "      <td>3</td>\n",
       "      <td>-1</td>\n",
       "      <td>nil</td>\n",
       "    </tr>\n",
       "    <tr>\n",
       "      <td>e56y9qz</td>\n",
       "      <td>DYADIC_TRIADS</td>\n",
       "      <td>3</td>\n",
       "      <td>-1</td>\n",
       "      <td>nil</td>\n",
       "    </tr>\n",
       "    <tr>\n",
       "      <td>e570muh</td>\n",
       "      <td>DYADIC_TRIADS</td>\n",
       "      <td>2</td>\n",
       "      <td>-1</td>\n",
       "      <td>nil</td>\n",
       "    </tr>\n",
       "  </tbody>\n",
       "</table>\n",
       "</div>"
      ],
      "text/plain": [
       "              motif_type  density  C_depth C_target\n",
       "thread_id                                          \n",
       "e56rdfd    DYADIC_TRIADS        2       -1      nil\n",
       "e56vf4m    DYADIC_TRIADS        2       -1      nil\n",
       "e56xjah    DYADIC_TRIADS        3       -1      nil\n",
       "e56y9qz    DYADIC_TRIADS        3       -1      nil\n",
       "e570muh    DYADIC_TRIADS        2       -1      nil"
      ]
     },
     "execution_count": 26,
     "metadata": {},
     "output_type": "execute_result"
    }
   ],
   "source": [
    "df.head()"
   ]
  },
  {
   "cell_type": "code",
   "execution_count": 27,
   "metadata": {},
   "outputs": [
    {
     "data": {
      "text/plain": [
       "Counter({'DYADIC_TRIADS': 9986,\n",
       "         'INCOMING_TRIADS': 2162,\n",
       "         'INCOMING_2TO3_TRIADS': 973,\n",
       "         'OUTGOING_3TO1_TRIADS': 974,\n",
       "         'UNIDIRECTIONAL_TRIADS': 1125,\n",
       "         'DIRECIPROCAL_TRIADS': 622,\n",
       "         'INCOMING_RECIPROCAL_TRIADS': 272,\n",
       "         'DIRECIPROCAL_2TO3_TRIADS': 48,\n",
       "         'INCOMING_1TO3_TRIADS': 554,\n",
       "         'OUTGOING_RECIPROCAL_TRIADS': 52,\n",
       "         'DIRECTED_CYCLE_1TO3_TRIADS': 49,\n",
       "         'DIRECTED_CYCLE_TRIADS': 29,\n",
       "         'TRIRECIPROCAL_TRIADS': 10})"
      ]
     },
     "execution_count": 27,
     "metadata": {},
     "output_type": "execute_result"
    }
   ],
   "source": [
    "Counter(df['motif_type'])"
   ]
  },
  {
   "cell_type": "code",
   "execution_count": 28,
   "metadata": {},
   "outputs": [
    {
     "data": {
      "text/plain": [
       "[(1, 1),\n",
       " (2, 5100),\n",
       " (3, 1214),\n",
       " (4, 332),\n",
       " (5, 126),\n",
       " (6, 57),\n",
       " (7, 15),\n",
       " (8, 11),\n",
       " (9, 6),\n",
       " (10, 5),\n",
       " (11, 2),\n",
       " (20, 1)]"
      ]
     },
     "execution_count": 28,
     "metadata": {},
     "output_type": "execute_result"
    }
   ],
   "source": [
    "sorted(list(Counter(df[df['motif_type'] != 'DYADIC_TRIADS']['density']).items()))[:30]"
   ]
  },
  {
   "cell_type": "code",
   "execution_count": 29,
   "metadata": {},
   "outputs": [
    {
     "data": {
      "text/plain": [
       "Counter({'nil': 9986, 'A': 4439, 'B': 2431})"
      ]
     },
     "execution_count": 29,
     "metadata": {},
     "output_type": "execute_result"
    }
   ],
   "source": [
    "Counter(df['C_target'])"
   ]
  },
  {
   "cell_type": "code",
   "execution_count": 30,
   "metadata": {},
   "outputs": [
    {
     "data": {
      "text/plain": [
       "Counter({2: 11838,\n",
       "         3: 3299,\n",
       "         4: 991,\n",
       "         6: 175,\n",
       "         5: 390,\n",
       "         11: 8,\n",
       "         8: 32,\n",
       "         10: 21,\n",
       "         15: 1,\n",
       "         9: 16,\n",
       "         178: 1,\n",
       "         17: 1,\n",
       "         13: 3,\n",
       "         7: 62,\n",
       "         12: 7,\n",
       "         16: 2,\n",
       "         14: 5,\n",
       "         24: 1,\n",
       "         19: 1,\n",
       "         20: 1,\n",
       "         1: 1})"
      ]
     },
     "execution_count": 30,
     "metadata": {},
     "output_type": "execute_result"
    }
   ],
   "source": [
    "Counter(df['density'])"
   ]
  },
  {
   "cell_type": "markdown",
   "metadata": {},
   "source": [
    "## C joins vs C does not join at each density k"
   ]
  },
  {
   "cell_type": "code",
   "execution_count": 31,
   "metadata": {},
   "outputs": [],
   "source": [
    "no_dyadic_df = df[df['motif_type'] != 'DYADIC_TRIADS']"
   ]
  },
  {
   "cell_type": "code",
   "execution_count": 32,
   "metadata": {},
   "outputs": [
    {
     "data": {
      "text/plain": [
       "(6870, 4)"
      ]
     },
     "execution_count": 32,
     "metadata": {},
     "output_type": "execute_result"
    }
   ],
   "source": [
    "no_dyadic_df.shape"
   ]
  },
  {
   "cell_type": "code",
   "execution_count": 33,
   "metadata": {},
   "outputs": [],
   "source": [
    "dyadic_df = df[df['motif_type'] == 'DYADIC_TRIADS']"
   ]
  },
  {
   "cell_type": "code",
   "execution_count": 34,
   "metadata": {},
   "outputs": [],
   "source": [
    "C_joins_percent = []\n",
    "for k in range(2, 11):\n",
    "    C_join_num = no_dyadic_df[no_dyadic_df['density'] == k].shape[0]\n",
    "    C_no_join_num_dyadic = dyadic_df[dyadic_df['density'] >= k].shape[0]\n",
    "    C_no_join_num_others = no_dyadic_df[no_dyadic_df['density'] > k].shape[0]\n",
    "    C_no_join = C_no_join_num_dyadic + C_no_join_num_others\n",
    "    C_joins_percent.append(C_join_num / (C_join_num + C_no_join))"
   ]
  },
  {
   "cell_type": "code",
   "execution_count": 35,
   "metadata": {},
   "outputs": [
    {
     "data": {
      "text/plain": [
       "<matplotlib.axes._subplots.AxesSubplot at 0x7fe0e94945d0>"
      ]
     },
     "execution_count": 35,
     "metadata": {},
     "output_type": "execute_result"
    },
    {
     "data": {
      "image/png": "[encoded data removed]",
      "text/plain": [
       "<Figure size 432x288 with 1 Axes>"
      ]
     },
     "metadata": {
      "needs_background": "light"
     },
     "output_type": "display_data"
    }
   ],
   "source": [
    "sns.lineplot(x=range(2,11), y=C_joins_percent)"
   ]
  },
  {
   "cell_type": "markdown",
   "metadata": {},
   "source": [
    "## Which part of the thread does C join?"
   ]
  },
  {
   "cell_type": "markdown",
   "metadata": {},
   "source": [
    "### Basic counts of C's depth"
   ]
  },
  {
   "cell_type": "code",
   "execution_count": 36,
   "metadata": {},
   "outputs": [],
   "source": [
    "ctr = Counter(no_dyadic_df['C_depth'])"
   ]
  },
  {
   "cell_type": "code",
   "execution_count": 37,
   "metadata": {},
   "outputs": [],
   "source": [
    "num_instances = [ctr[x] for x in range(2, 11)]"
   ]
  },
  {
   "cell_type": "code",
   "execution_count": 38,
   "metadata": {},
   "outputs": [
    {
     "data": {
      "text/plain": [
       "<matplotlib.axes._subplots.AxesSubplot at 0x7fe0fb779910>"
      ]
     },
     "execution_count": 38,
     "metadata": {},
     "output_type": "execute_result"
    },
    {
     "data": {
      "image/png": "[encoded data removed]",
      "text/plain": [
       "<Figure size 432x288 with 1 Axes>"
      ]
     },
     "metadata": {
      "needs_background": "light"
     },
     "output_type": "display_data"
    }
   ],
   "source": [
    "# Num instances against depth of comment C responds to (1 = top-level-comment)\n",
    "sns.barplot(x=list(range(1,10)), y=num_instances)"
   ]
  },
  {
   "cell_type": "markdown",
   "metadata": {},
   "source": [
    "### Plotting which part of the thread C (C's depth) joins against density before C's entrance"
   ]
  },
  {
   "cell_type": "code",
   "execution_count": 39,
   "metadata": {},
   "outputs": [
    {
     "data": {
      "text/html": [
       "<div>\n",
       "<style scoped>\n",
       "    .dataframe tbody tr th:only-of-type {\n",
       "        vertical-align: middle;\n",
       "    }\n",
       "\n",
       "    .dataframe tbody tr th {\n",
       "        vertical-align: top;\n",
       "    }\n",
       "\n",
       "    .dataframe thead th {\n",
       "        text-align: right;\n",
       "    }\n",
       "</style>\n",
       "<table border=\"1\" class=\"dataframe\">\n",
       "  <thead>\n",
       "    <tr style=\"text-align: right;\">\n",
       "      <th></th>\n",
       "      <th>C_depth</th>\n",
       "    </tr>\n",
       "    <tr>\n",
       "      <th>density</th>\n",
       "      <th></th>\n",
       "    </tr>\n",
       "  </thead>\n",
       "  <tbody>\n",
       "    <tr>\n",
       "      <td>1</td>\n",
       "      <td>2.000000</td>\n",
       "    </tr>\n",
       "    <tr>\n",
       "      <td>2</td>\n",
       "      <td>2.386667</td>\n",
       "    </tr>\n",
       "    <tr>\n",
       "      <td>3</td>\n",
       "      <td>2.779242</td>\n",
       "    </tr>\n",
       "    <tr>\n",
       "      <td>4</td>\n",
       "      <td>3.253012</td>\n",
       "    </tr>\n",
       "    <tr>\n",
       "      <td>5</td>\n",
       "      <td>3.500000</td>\n",
       "    </tr>\n",
       "    <tr>\n",
       "      <td>6</td>\n",
       "      <td>3.982456</td>\n",
       "    </tr>\n",
       "    <tr>\n",
       "      <td>7</td>\n",
       "      <td>4.333333</td>\n",
       "    </tr>\n",
       "    <tr>\n",
       "      <td>8</td>\n",
       "      <td>4.000000</td>\n",
       "    </tr>\n",
       "    <tr>\n",
       "      <td>9</td>\n",
       "      <td>6.833333</td>\n",
       "    </tr>\n",
       "    <tr>\n",
       "      <td>10</td>\n",
       "      <td>4.800000</td>\n",
       "    </tr>\n",
       "    <tr>\n",
       "      <td>11</td>\n",
       "      <td>6.500000</td>\n",
       "    </tr>\n",
       "    <tr>\n",
       "      <td>20</td>\n",
       "      <td>2.000000</td>\n",
       "    </tr>\n",
       "  </tbody>\n",
       "</table>\n",
       "</div>"
      ],
      "text/plain": [
       "          C_depth\n",
       "density          \n",
       "1        2.000000\n",
       "2        2.386667\n",
       "3        2.779242\n",
       "4        3.253012\n",
       "5        3.500000\n",
       "6        3.982456\n",
       "7        4.333333\n",
       "8        4.000000\n",
       "9        6.833333\n",
       "10       4.800000\n",
       "11       6.500000\n",
       "20       2.000000"
      ]
     },
     "execution_count": 39,
     "metadata": {},
     "output_type": "execute_result"
    }
   ],
   "source": [
    "no_dyadic_df.groupby('density').mean()"
   ]
  },
  {
   "cell_type": "code",
   "execution_count": 40,
   "metadata": {},
   "outputs": [],
   "source": [
    "y = no_dyadic_df.groupby('density').mean().values[1:10].flatten() # exclude density == 1 (edge cases)"
   ]
  },
  {
   "cell_type": "code",
   "execution_count": 41,
   "metadata": {},
   "outputs": [],
   "source": [
    "x = range(2, 11)"
   ]
  },
  {
   "cell_type": "code",
   "execution_count": 42,
   "metadata": {},
   "outputs": [
    {
     "data": {
      "text/plain": [
       "Text(0.5, 1.0, 'C_depth against density')"
      ]
     },
     "execution_count": 42,
     "metadata": {},
     "output_type": "execute_result"
    },
    {
     "data": {
      "image/png": "[encoded data removed]",
      "text/plain": [
       "<Figure size 432x288 with 1 Axes>"
      ]
     },
     "metadata": {
      "needs_background": "light"
     },
     "output_type": "display_data"
    }
   ],
   "source": [
    "# C's depth against A/B density before C enters\n",
    "sns.scatterplot(x=x, y=y).set_title('C_depth against density')"
   ]
  },
  {
   "cell_type": "code",
   "execution_count": 43,
   "metadata": {},
   "outputs": [
    {
     "data": {
      "text/plain": [
       "Text(0.5, 1.0, '(C_depth - density) against density')"
      ]
     },
     "execution_count": 43,
     "metadata": {},
     "output_type": "execute_result"
    },
    {
     "data": {
      "image/png": "[encoded data removed]",
      "text/plain": [
       "<Figure size 432x288 with 1 Axes>"
      ]
     },
     "metadata": {
      "needs_background": "light"
     },
     "output_type": "display_data"
    }
   ],
   "source": [
    "sns.scatterplot(x=x, y=y-x).set_title('(C_depth - density) against density')"
   ]
  },
  {
   "cell_type": "markdown",
   "metadata": {},
   "source": [
    "### How does C's depth on joining correlate to the final motif?"
   ]
  },
  {
   "cell_type": "code",
   "execution_count": 44,
   "metadata": {},
   "outputs": [],
   "source": [
    "triad_order = convokit.TriadMotif.get_motif_types()"
   ]
  },
  {
   "cell_type": "code",
   "execution_count": 45,
   "metadata": {},
   "outputs": [],
   "source": [
    "motif_to_Cdepth = df.groupby('motif_type')['C_depth'].mean().to_dict()"
   ]
  },
  {
   "cell_type": "code",
   "execution_count": 46,
   "metadata": {},
   "outputs": [],
   "source": [
    "y = [motif_to_Cdepth[motif] for motif in triad_order if motif in motif_to_Cdepth]"
   ]
  },
  {
   "cell_type": "code",
   "execution_count": 47,
   "metadata": {},
   "outputs": [
    {
     "data": {
      "text/plain": [
       "['NO_EDGE_TRIADS',\n",
       " 'SINGLE_EDGE_TRIADS',\n",
       " 'INCOMING_TRIADS',\n",
       " 'OUTGOING_TRIADS',\n",
       " 'DYADIC_TRIADS',\n",
       " 'UNIDIRECTIONAL_TRIADS',\n",
       " 'INCOMING_2TO3_TRIADS',\n",
       " 'DIRECTED_CYCLE_TRIADS',\n",
       " 'INCOMING_1TO3_TRIADS',\n",
       " 'OUTGOING_3TO1_TRIADS',\n",
       " 'INCOMING_RECIPROCAL_TRIADS',\n",
       " 'OUTGOING_RECIPROCAL_TRIADS',\n",
       " 'DIRECTED_CYCLE_1TO3_TRIADS',\n",
       " 'DIRECIPROCAL_TRIADS',\n",
       " 'DIRECIPROCAL_2TO3_TRIADS',\n",
       " 'TRIRECIPROCAL_TRIADS']"
      ]
     },
     "execution_count": 47,
     "metadata": {},
     "output_type": "execute_result"
    }
   ],
   "source": [
    "triad_order"
   ]
  },
  {
   "cell_type": "code",
   "execution_count": 48,
   "metadata": {},
   "outputs": [
    {
     "data": {
      "text/plain": [
       "(array([ 0,  1,  2,  3,  4,  5,  6,  7,  8,  9, 10, 11, 12]),\n",
       " <a list of 13 Text xticklabel objects>)"
      ]
     },
     "execution_count": 48,
     "metadata": {},
     "output_type": "execute_result"
    },
    {
     "data": {
      "image/png": "[encoded data removed]",
      "text/plain": [
       "<Figure size 432x288 with 1 Axes>"
      ]
     },
     "metadata": {
      "needs_background": "light"
     },
     "output_type": "display_data"
    }
   ],
   "source": [
    "sns.barplot(x=[motif for motif in triad_order if motif in motif_to_Cdepth], y=y)\n",
    "plt.title('Average C_depth for motif')\n",
    "plt.xticks(rotation=45, horizontalalignment='right')"
   ]
  },
  {
   "cell_type": "code",
   "execution_count": 49,
   "metadata": {},
   "outputs": [
    {
     "data": {
      "text/plain": [
       "{'DIRECIPROCAL_2TO3_TRIADS': 3.125,\n",
       " 'DIRECIPROCAL_TRIADS': 2.545016077170418,\n",
       " 'DIRECTED_CYCLE_1TO3_TRIADS': 2.5510204081632653,\n",
       " 'DIRECTED_CYCLE_TRIADS': 3.0,\n",
       " 'DYADIC_TRIADS': -1.0,\n",
       " 'INCOMING_1TO3_TRIADS': 2.0162454873646207,\n",
       " 'INCOMING_2TO3_TRIADS': 2.5488180883864335,\n",
       " 'INCOMING_RECIPROCAL_TRIADS': 3.286764705882353,\n",
       " 'INCOMING_TRIADS': 2.005550416281221,\n",
       " 'OUTGOING_3TO1_TRIADS': 3.193018480492813,\n",
       " 'OUTGOING_RECIPROCAL_TRIADS': 2.923076923076923,\n",
       " 'TRIRECIPROCAL_TRIADS': 3.7,\n",
       " 'UNIDIRECTIONAL_TRIADS': 3.034666666666667}"
      ]
     },
     "execution_count": 49,
     "metadata": {},
     "output_type": "execute_result"
    }
   ],
   "source": [
    "motif_to_Cdepth"
   ]
  },
  {
   "cell_type": "markdown",
   "metadata": {},
   "source": [
    "### C_target against C_depth "
   ]
  },
  {
   "cell_type": "markdown",
   "metadata": {},
   "source": [
    "Note that we expect an obvious correlation between the two."
   ]
  },
  {
   "cell_type": "code",
   "execution_count": 50,
   "metadata": {},
   "outputs": [],
   "source": [
    "C_target_grouped_by_depth = no_dyadic_df.groupby('C_depth')['C_target'].value_counts(normalize=True).unstack()"
   ]
  },
  {
   "cell_type": "code",
   "execution_count": 51,
   "metadata": {},
   "outputs": [
    {
     "data": {
      "text/plain": [
       "<matplotlib.axes._subplots.AxesSubplot at 0x7fe0e9293b90>"
      ]
     },
     "execution_count": 51,
     "metadata": {},
     "output_type": "execute_result"
    },
    {
     "data": {
      "image/png": "[encoded data removed]",
      "text/plain": [
       "<Figure size 432x288 with 1 Axes>"
      ]
     },
     "metadata": {
      "needs_background": "light"
     },
     "output_type": "display_data"
    }
   ],
   "source": [
    "C_target_grouped_by_depth.plot(kind='bar',stacked=True)"
   ]
  },
  {
   "cell_type": "markdown",
   "metadata": {},
   "source": [
    "### Alternate view: C_depth against C_target"
   ]
  },
  {
   "cell_type": "code",
   "execution_count": 52,
   "metadata": {},
   "outputs": [],
   "source": [
    "C_depth_grouped_by_target = no_dyadic_df.groupby('C_target')['C_depth'].value_counts(normalize=True).unstack()"
   ]
  },
  {
   "cell_type": "code",
   "execution_count": 53,
   "metadata": {},
   "outputs": [
    {
     "data": {
      "text/html": [
       "<div>\n",
       "<style scoped>\n",
       "    .dataframe tbody tr th:only-of-type {\n",
       "        vertical-align: middle;\n",
       "    }\n",
       "\n",
       "    .dataframe tbody tr th {\n",
       "        vertical-align: top;\n",
       "    }\n",
       "\n",
       "    .dataframe thead th {\n",
       "        text-align: right;\n",
       "    }\n",
       "</style>\n",
       "<table border=\"1\" class=\"dataframe\">\n",
       "  <thead>\n",
       "    <tr style=\"text-align: right;\">\n",
       "      <th>C_target</th>\n",
       "      <th>A</th>\n",
       "      <th>B</th>\n",
       "    </tr>\n",
       "    <tr>\n",
       "      <th>C_depth</th>\n",
       "      <th></th>\n",
       "      <th></th>\n",
       "    </tr>\n",
       "  </thead>\n",
       "  <tbody>\n",
       "    <tr>\n",
       "      <td>2</td>\n",
       "      <td>0.902005</td>\n",
       "      <td>NaN</td>\n",
       "    </tr>\n",
       "    <tr>\n",
       "      <td>3</td>\n",
       "      <td>0.003154</td>\n",
       "      <td>0.933772</td>\n",
       "    </tr>\n",
       "    <tr>\n",
       "      <td>4</td>\n",
       "      <td>0.085830</td>\n",
       "      <td>0.009461</td>\n",
       "    </tr>\n",
       "    <tr>\n",
       "      <td>5</td>\n",
       "      <td>0.001352</td>\n",
       "      <td>0.044838</td>\n",
       "    </tr>\n",
       "    <tr>\n",
       "      <td>6</td>\n",
       "      <td>0.006533</td>\n",
       "      <td>0.002468</td>\n",
       "    </tr>\n",
       "    <tr>\n",
       "      <td>7</td>\n",
       "      <td>0.000451</td>\n",
       "      <td>0.006993</td>\n",
       "    </tr>\n",
       "    <tr>\n",
       "      <td>9</td>\n",
       "      <td>NaN</td>\n",
       "      <td>0.001234</td>\n",
       "    </tr>\n",
       "    <tr>\n",
       "      <td>10</td>\n",
       "      <td>0.000676</td>\n",
       "      <td>NaN</td>\n",
       "    </tr>\n",
       "    <tr>\n",
       "      <td>11</td>\n",
       "      <td>NaN</td>\n",
       "      <td>0.000823</td>\n",
       "    </tr>\n",
       "    <tr>\n",
       "      <td>12</td>\n",
       "      <td>NaN</td>\n",
       "      <td>0.000411</td>\n",
       "    </tr>\n",
       "  </tbody>\n",
       "</table>\n",
       "</div>"
      ],
      "text/plain": [
       "C_target         A         B\n",
       "C_depth                     \n",
       "2         0.902005       NaN\n",
       "3         0.003154  0.933772\n",
       "4         0.085830  0.009461\n",
       "5         0.001352  0.044838\n",
       "6         0.006533  0.002468\n",
       "7         0.000451  0.006993\n",
       "9              NaN  0.001234\n",
       "10        0.000676       NaN\n",
       "11             NaN  0.000823\n",
       "12             NaN  0.000411"
      ]
     },
     "execution_count": 53,
     "metadata": {},
     "output_type": "execute_result"
    }
   ],
   "source": [
    "C_depth_grouped_by_target.T"
   ]
  },
  {
   "cell_type": "code",
   "execution_count": null,
   "metadata": {},
   "outputs": [],
   "source": []
  },
  {
   "cell_type": "code",
   "execution_count": null,
   "metadata": {},
   "outputs": [],
   "source": []
  },
  {
   "cell_type": "code",
   "execution_count": null,
   "metadata": {},
   "outputs": [],
   "source": []
  }
 ],
 "metadata": {
  "kernelspec": {
   "display_name": "Python 3",
   "language": "python",
   "name": "python3"
  },
  "language_info": {
   "codemirror_mode": {
    "name": "ipython",
    "version": 3
   },
   "file_extension": ".py",
   "mimetype": "text/x-python",
   "name": "python",
   "nbconvert_exporter": "python",
   "pygments_lexer": "ipython3",
   "version": "3.7.4"
  }
 },
 "nbformat": 4,
 "nbformat_minor": 2
}
