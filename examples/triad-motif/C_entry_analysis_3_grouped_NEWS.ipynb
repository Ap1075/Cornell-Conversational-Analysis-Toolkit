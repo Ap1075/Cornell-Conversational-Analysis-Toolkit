{
 "cells": [
  {
   "cell_type": "code",
   "execution_count": 1,
   "metadata": {},
   "outputs": [],
   "source": [
    "import os"
   ]
  },
  {
   "cell_type": "code",
   "execution_count": 2,
   "metadata": {},
   "outputs": [],
   "source": [
    "os.chdir('../..')"
   ]
  },
  {
   "cell_type": "code",
   "execution_count": 3,
   "metadata": {},
   "outputs": [],
   "source": [
    "import convokit\n",
    "from convokit import Corpus, download, TriadMotif, Thread\n",
    "import seaborn as sns; sns.set(style=\"ticks\", color_codes=True)\n",
    "import matplotlib.pyplot as plt\n",
    "from collections import Counter\n",
    "import pandas as pd"
   ]
  },
  {
   "cell_type": "code",
   "execution_count": 4,
   "metadata": {},
   "outputs": [],
   "source": [
    "corpus_dir = \"/sauna/fake-news/one_month\""
   ]
  },
  {
   "cell_type": "code",
   "execution_count": 5,
   "metadata": {},
   "outputs": [],
   "source": [
    "corpus_names = os.listdir(corpus_dir)"
   ]
  },
  {
   "cell_type": "code",
   "execution_count": 6,
   "metadata": {},
   "outputs": [
    {
     "data": {
      "text/plain": [
       "['news-onemonth-corpus',\n",
       " 'politics-onemonth-corpus',\n",
       " 'worldnews-onemonth-corpus',\n",
       " 'askscience-onemonth-corpus',\n",
       " 'AskCulinary-onemonth-corpus',\n",
       " 'AskWomen-onemonth-corpus',\n",
       " 'WTF-onemonth-corpus',\n",
       " 'gifs-onemonth-corpus',\n",
       " 'funny-onemonth-corpus']"
      ]
     },
     "execution_count": 6,
     "metadata": {},
     "output_type": "execute_result"
    }
   ],
   "source": [
    "corpus_names"
   ]
  },
  {
   "cell_type": "code",
   "execution_count": 7,
   "metadata": {},
   "outputs": [],
   "source": [
    "corpus1 = Corpus(filename=os.path.join(corpus_dir, corpus_names[0]))\n",
    "corpus2 = Corpus(filename=os.path.join(corpus_dir, corpus_names[1]))\n",
    "corpus3 = Corpus(filename=os.path.join(corpus_dir, corpus_names[2]))"
   ]
  },
  {
   "cell_type": "code",
   "execution_count": 8,
   "metadata": {},
   "outputs": [],
   "source": [
    "corpus = corpus1.merge(corpus2).merge(corpus3)"
   ]
  },
  {
   "cell_type": "code",
   "execution_count": 9,
   "metadata": {},
   "outputs": [
    {
     "name": "stdout",
     "output_type": "stream",
     "text": [
      "Number of Users: 354675\n",
      "Number of Utterances: 3779644\n",
      "Number of Conversations: 110554\n"
     ]
    }
   ],
   "source": [
    "corpus.print_summary_stats()"
   ]
  },
  {
   "cell_type": "code",
   "execution_count": 10,
   "metadata": {},
   "outputs": [],
   "source": [
    "threads = corpus.utterance_threads(include_root=False)"
   ]
  },
  {
   "cell_type": "code",
   "execution_count": 11,
   "metadata": {},
   "outputs": [
    {
     "name": "stdout",
     "output_type": "stream",
     "text": [
      "852439\n"
     ]
    }
   ],
   "source": [
    "print(len(threads))"
   ]
  },
  {
   "cell_type": "markdown",
   "metadata": {},
   "source": [
    "## Initialize thread objects"
   ]
  },
  {
   "cell_type": "code",
   "execution_count": 12,
   "metadata": {},
   "outputs": [],
   "source": [
    "thread_objs = dict()\n",
    "fails = []\n",
    "for thread_id, thread_utts in threads.items():\n",
    "    thread_obj = Thread(list(thread_utts.values()))\n",
    "    if thread_obj.check_integrity(verbose=False):\n",
    "        thread_objs[thread_id] = thread_obj\n",
    "        thread_obj.annotate_depth()"
   ]
  },
  {
   "cell_type": "code",
   "execution_count": 13,
   "metadata": {},
   "outputs": [
    {
     "name": "stdout",
     "output_type": "stream",
     "text": [
      "Broken threads 4577\n"
     ]
    }
   ],
   "source": [
    "print(\"Broken threads\", len(threads) - len(thread_objs))"
   ]
  },
  {
   "cell_type": "markdown",
   "metadata": {},
   "source": [
    "## Initialize thread hypergraphs"
   ]
  },
  {
   "cell_type": "code",
   "execution_count": 14,
   "metadata": {},
   "outputs": [],
   "source": [
    "threads = corpus.utterance_threads(include_root=False)\n",
    "threads_hypergraphs = dict()\n",
    "for i, (root, thread) in enumerate(threads.items()):\n",
    "    G = convokit.HyperConvo._make_hypergraph(uts=thread)\n",
    "    threads_hypergraphs[root] = G"
   ]
  },
  {
   "cell_type": "markdown",
   "metadata": {},
   "source": [
    "## Some descriptive stats on the top-level comment threads from 1 Oct 2017 - 1 Oct 2018"
   ]
  },
  {
   "cell_type": "code",
   "execution_count": 15,
   "metadata": {},
   "outputs": [
    {
     "data": {
      "text/plain": [
       "847862"
      ]
     },
     "execution_count": 15,
     "metadata": {},
     "output_type": "execute_result"
    }
   ],
   "source": [
    "# Number of threads\n",
    "len(thread_objs)"
   ]
  },
  {
   "cell_type": "markdown",
   "metadata": {},
   "source": [
    "## Distribution of number of participants in the threads"
   ]
  },
  {
   "cell_type": "code",
   "execution_count": 16,
   "metadata": {},
   "outputs": [],
   "source": [
    "from collections import defaultdict\n",
    "threads_num_users = defaultdict(int)\n",
    "for thread_id, hg in threads_hypergraphs.items():\n",
    "    threads_num_users[len(hg.hypernodes)] += 1"
   ]
  },
  {
   "cell_type": "code",
   "execution_count": 17,
   "metadata": {},
   "outputs": [
    {
     "data": {
      "text/plain": [
       "[(1, 590049),\n",
       " (2, 105819),\n",
       " (3, 47195),\n",
       " (4, 26972),\n",
       " (5, 16785),\n",
       " (6, 11804),\n",
       " (7, 8447),\n",
       " (8, 6387),\n",
       " (9, 4841),\n",
       " (10, 3847),\n",
       " (11, 3203),\n",
       " (12, 2646),\n",
       " (13, 2255),\n",
       " (14, 1858),\n",
       " (15, 1534),\n",
       " (16, 1339),\n",
       " (17, 1208),\n",
       " (18, 1038),\n",
       " (19, 948),\n",
       " (20, 836)]"
      ]
     },
     "execution_count": 17,
     "metadata": {},
     "output_type": "execute_result"
    }
   ],
   "source": [
    "sorted(list(threads_num_users.items()))[:20]"
   ]
  },
  {
   "cell_type": "code",
   "execution_count": 18,
   "metadata": {},
   "outputs": [],
   "source": [
    "# convokit.display_thread(threads, 'e58r4yf')"
   ]
  },
  {
   "cell_type": "code",
   "execution_count": 19,
   "metadata": {},
   "outputs": [],
   "source": [
    "from itertools import permutations\n",
    "def identify_final_motif(hg, userA, userB, userC):\n",
    "    # We use the identities of user A, B, C (i.e. top-level-commenter, first replier, first third-party replier)\n",
    "    # to simplify the typically-difficult final motif identification step\n",
    "    num_edge_dirs = 0\n",
    "    for user_pair in permutations([userA, userB, userC], 2):\n",
    "        if len(hg.adj_in[user_pair[0]].get(user_pair[1], [])) > 0:\n",
    "            num_edge_dirs += 1\n",
    "    \n",
    "    # sanity check\n",
    "    assert 2 <= num_edge_dirs <= 6\n",
    "    if num_edge_dirs == 6:\n",
    "        return 'TRIRECIPROCAL_TRIADS'\n",
    "    elif num_edge_dirs == 5:\n",
    "        return 'DIRECIPROCAL_2TO3_TRIADS'\n",
    "    elif num_edge_dirs == 4:\n",
    "        if len(hg.adj_out[userB].get(userC, [])) == 0 and len(hg.adj_out[userC].get(userB, [])) == 0:\n",
    "            # B and C do not talk\n",
    "            return \"DIRECIPROCAL_TRIADS\"\n",
    "        elif len(hg.adj_out[userB].get(userC, [])) > 0 and len(hg.adj_out[userC].get(userB, [])) > 0:\n",
    "            # B and C talk to each other\n",
    "            return \"INCOMING_RECIPROCAL_TRIADS\"\n",
    "        elif len(hg.adj_out[userC].get(userB, [])) > 0 and len(hg.adj_out[userC].get(userA, [])) > 0 and \\\n",
    "                len(hg.adj_in[userC].get(userB, [])) == 0 and len(hg.adj_in[userC].get(userA, [])) == 0:\n",
    "            # C talks to A and B but gets no responses\n",
    "            return \"OUTGOING_RECIPROCAL_TRIADS\"\n",
    "        elif len(hg.adj_out[userB].get(userC, [])) > 0 and len(hg.adj_out[userB].get(userA, [])) > 0 and \\\n",
    "                len(hg.adj_in[userB].get(userC, [])) == 0 and len(hg.adj_in[userC].get(userA, [])) == 0:\n",
    "            # B talks to A and C but gets no response\n",
    "            return \"OUTGOING_RECIPROCAL_TRIADS\"\n",
    "        else:\n",
    "            return \"DIRECTED_CYCLE_1TO3_TRIADS\"\n",
    "    elif num_edge_dirs == 3:\n",
    "        if len(hg.adj_in[userC].get(userA, [])) > 0: # A talks to C\n",
    "            if len(hg.adj_in[userA].get(userC, [])) > 0: # C talks to A\n",
    "                return \"INCOMING_1TO3_TRIADS\"\n",
    "            else: # C does not talk to A\n",
    "                return \"DIRECTED_CYCLE_TRIADS\"\n",
    "        else: # A does not tak to C\n",
    "            if len(hg.adj_out[userC].get(userB, [])) > 0: # C talks to B\n",
    "                return \"OUTGOING_3TO1_TRIADS\"\n",
    "            else:\n",
    "                return \"INCOMING_2TO3_TRIADS\"\n",
    "    elif num_edge_dirs == 2:\n",
    "        # cannot be outgoing by definition, can only be incoming or unidirectional\n",
    "        if len(hg.adj_in[userA].get(userC, [])) > 0:\n",
    "            return 'INCOMING_TRIADS'\n",
    "        else:\n",
    "            return 'UNIDIRECTIONAL_TRIADS'\n",
    "\n",
    "        "
   ]
  },
  {
   "cell_type": "code",
   "execution_count": 20,
   "metadata": {},
   "outputs": [],
   "source": [
    "broken_threads = []\n",
    "one_commenter_threads = []\n",
    "two_commenter_threads = []\n",
    "three_or_more_threads = []\n",
    "for thread_id, thread_obj in thread_objs.items():\n",
    "    hg = threads_hypergraphs[thread_id]\n",
    "    if not thread_obj.check_integrity(verbose=False):\n",
    "        broken_threads.append(thread_id)\n",
    "        continue\n",
    "    userA, userB, userC = thread_obj.identify_ABC()\n",
    "    if userB is None:\n",
    "        one_commenter_threads.append(thread_id)\n",
    "    elif userC is None:\n",
    "        density = thread_obj.get_AB_density(userA, userB)\n",
    "        two_commenter_threads.append((thread_id, 'DYADIC_TRIADS', density, -1, \"nil\"))\n",
    "    else:\n",
    "        final_type = identify_final_motif(hg, thread_obj.get_user(userA), \n",
    "                                          thread_obj.get_user(userB), thread_obj.get_user(userC))\n",
    "#         print(userA, userB, userC)\n",
    "        density = thread_obj.get_AB_density_beforeC(userA, userB, userC)\n",
    "        C_depth, target = thread_obj.get_C_entrance(userA, userB, userC) \n",
    "        three_or_more_threads.append((thread_id, final_type, density, C_depth, target))\n",
    "        "
   ]
  },
  {
   "cell_type": "code",
   "execution_count": 21,
   "metadata": {},
   "outputs": [
    {
     "name": "stdout",
     "output_type": "stream",
     "text": [
      "Total threads 852439\n",
      "threads with one commenter 587574\n",
      "threads with two commenters 104790\n",
      "threads with >=3 commenters 155498\n",
      "threads with broken structure 4577\n"
     ]
    }
   ],
   "source": [
    "print(\"Total threads\", len(threads))\n",
    "print(\"threads with one commenter\", len(one_commenter_threads))\n",
    "print(\"threads with two commenters\", len(two_commenter_threads))\n",
    "print(\"threads with >=3 commenters\", len(three_or_more_threads))\n",
    "print(\"threads with broken structure\", len(threads) - len(one_commenter_threads) - len(two_commenter_threads) - len(three_or_more_threads))"
   ]
  },
  {
   "cell_type": "markdown",
   "metadata": {},
   "source": [
    "Let **C_depth** be defined as the depth of the top-level-comment tree that C's first utterance is located at. The top-level-comment has depth 1, so if C responds to the top-level-comment directly, then C_depth = 2."
   ]
  },
  {
   "cell_type": "markdown",
   "metadata": {},
   "source": [
    "Let **density** be the number of utterances directed from A to B or B to A. For non-dyadic threads (i.e. threads with >=3 users), this is the density before C first arrives. (Note: self-replies are not counted.)"
   ]
  },
  {
   "cell_type": "markdown",
   "metadata": {},
   "source": [
    "Let **C_target** be the speaker of the utterance that C first responds to."
   ]
  },
  {
   "cell_type": "code",
   "execution_count": 22,
   "metadata": {},
   "outputs": [],
   "source": [
    "df = pd.DataFrame(data=two_commenter_threads+three_or_more_threads, columns=['thread_id', 'motif_type', 'density', 'C_depth', 'C_target'])"
   ]
  },
  {
   "cell_type": "code",
   "execution_count": 23,
   "metadata": {},
   "outputs": [],
   "source": [
    "df = df.set_index('thread_id')"
   ]
  },
  {
   "cell_type": "code",
   "execution_count": 24,
   "metadata": {},
   "outputs": [
    {
     "data": {
      "text/html": [
       "<div>\n",
       "<style scoped>\n",
       "    .dataframe tbody tr th:only-of-type {\n",
       "        vertical-align: middle;\n",
       "    }\n",
       "\n",
       "    .dataframe tbody tr th {\n",
       "        vertical-align: top;\n",
       "    }\n",
       "\n",
       "    .dataframe thead th {\n",
       "        text-align: right;\n",
       "    }\n",
       "</style>\n",
       "<table border=\"1\" class=\"dataframe\">\n",
       "  <thead>\n",
       "    <tr style=\"text-align: right;\">\n",
       "      <th></th>\n",
       "      <th>motif_type</th>\n",
       "      <th>density</th>\n",
       "      <th>C_depth</th>\n",
       "      <th>C_target</th>\n",
       "    </tr>\n",
       "    <tr>\n",
       "      <th>thread_id</th>\n",
       "      <th></th>\n",
       "      <th></th>\n",
       "      <th></th>\n",
       "      <th></th>\n",
       "    </tr>\n",
       "  </thead>\n",
       "  <tbody>\n",
       "    <tr>\n",
       "      <td>e56q43y</td>\n",
       "      <td>DYADIC_TRIADS</td>\n",
       "      <td>2</td>\n",
       "      <td>-1</td>\n",
       "      <td>nil</td>\n",
       "    </tr>\n",
       "    <tr>\n",
       "      <td>e56q5hq</td>\n",
       "      <td>DYADIC_TRIADS</td>\n",
       "      <td>3</td>\n",
       "      <td>-1</td>\n",
       "      <td>nil</td>\n",
       "    </tr>\n",
       "    <tr>\n",
       "      <td>e56qadq</td>\n",
       "      <td>DYADIC_TRIADS</td>\n",
       "      <td>2</td>\n",
       "      <td>-1</td>\n",
       "      <td>nil</td>\n",
       "    </tr>\n",
       "    <tr>\n",
       "      <td>e56qcz0</td>\n",
       "      <td>DYADIC_TRIADS</td>\n",
       "      <td>3</td>\n",
       "      <td>-1</td>\n",
       "      <td>nil</td>\n",
       "    </tr>\n",
       "    <tr>\n",
       "      <td>e56qp8v</td>\n",
       "      <td>DYADIC_TRIADS</td>\n",
       "      <td>3</td>\n",
       "      <td>-1</td>\n",
       "      <td>nil</td>\n",
       "    </tr>\n",
       "  </tbody>\n",
       "</table>\n",
       "</div>"
      ],
      "text/plain": [
       "              motif_type  density  C_depth C_target\n",
       "thread_id                                          \n",
       "e56q43y    DYADIC_TRIADS        2       -1      nil\n",
       "e56q5hq    DYADIC_TRIADS        3       -1      nil\n",
       "e56qadq    DYADIC_TRIADS        2       -1      nil\n",
       "e56qcz0    DYADIC_TRIADS        3       -1      nil\n",
       "e56qp8v    DYADIC_TRIADS        3       -1      nil"
      ]
     },
     "execution_count": 24,
     "metadata": {},
     "output_type": "execute_result"
    }
   ],
   "source": [
    "df.head()"
   ]
  },
  {
   "cell_type": "code",
   "execution_count": 25,
   "metadata": {},
   "outputs": [
    {
     "data": {
      "text/plain": [
       "Counter({'DYADIC_TRIADS': 104790,\n",
       "         'UNIDIRECTIONAL_TRIADS': 29673,\n",
       "         'OUTGOING_3TO1_TRIADS': 18119,\n",
       "         'INCOMING_RECIPROCAL_TRIADS': 3889,\n",
       "         'INCOMING_2TO3_TRIADS': 16826,\n",
       "         'DIRECIPROCAL_TRIADS': 8714,\n",
       "         'INCOMING_TRIADS': 64262,\n",
       "         'INCOMING_1TO3_TRIADS': 10731,\n",
       "         'DIRECTED_CYCLE_1TO3_TRIADS': 884,\n",
       "         'DIRECTED_CYCLE_TRIADS': 550,\n",
       "         'DIRECIPROCAL_2TO3_TRIADS': 923,\n",
       "         'OUTGOING_RECIPROCAL_TRIADS': 784,\n",
       "         'TRIRECIPROCAL_TRIADS': 143})"
      ]
     },
     "execution_count": 25,
     "metadata": {},
     "output_type": "execute_result"
    }
   ],
   "source": [
    "Counter(df['motif_type'])"
   ]
  },
  {
   "cell_type": "code",
   "execution_count": 26,
   "metadata": {},
   "outputs": [
    {
     "data": {
      "text/plain": [
       "[(1, 309),\n",
       " (2, 131711),\n",
       " (3, 16921),\n",
       " (4, 3870),\n",
       " (5, 1391),\n",
       " (6, 586),\n",
       " (7, 296),\n",
       " (8, 164),\n",
       " (9, 77),\n",
       " (10, 42),\n",
       " (11, 41),\n",
       " (12, 27),\n",
       " (13, 16),\n",
       " (14, 13),\n",
       " (15, 9),\n",
       " (16, 4),\n",
       " (17, 1),\n",
       " (18, 3),\n",
       " (19, 4),\n",
       " (20, 1),\n",
       " (21, 3),\n",
       " (22, 1),\n",
       " (26, 1),\n",
       " (27, 1),\n",
       " (28, 1),\n",
       " (31, 3),\n",
       " (35, 2)]"
      ]
     },
     "execution_count": 26,
     "metadata": {},
     "output_type": "execute_result"
    }
   ],
   "source": [
    "sorted(list(Counter(df[df['motif_type'] != 'DYADIC_TRIADS']['density']).items()))[:30]"
   ]
  },
  {
   "cell_type": "code",
   "execution_count": 27,
   "metadata": {},
   "outputs": [
    {
     "data": {
      "text/plain": [
       "Counter({'nil': 104790, 'B': 52437, 'A': 103061})"
      ]
     },
     "execution_count": 27,
     "metadata": {},
     "output_type": "execute_result"
    }
   ],
   "source": [
    "Counter(df['C_target'])"
   ]
  },
  {
   "cell_type": "code",
   "execution_count": 28,
   "metadata": {},
   "outputs": [
    {
     "data": {
      "text/plain": [
       "Counter({2: 214215,\n",
       "         3: 31496,\n",
       "         7: 685,\n",
       "         4: 7868,\n",
       "         5: 3149,\n",
       "         10: 162,\n",
       "         6: 1359,\n",
       "         8: 412,\n",
       "         12: 82,\n",
       "         13: 60,\n",
       "         11: 112,\n",
       "         14: 45,\n",
       "         9: 225,\n",
       "         15: 34,\n",
       "         262: 1,\n",
       "         20: 4,\n",
       "         24: 1,\n",
       "         18: 10,\n",
       "         17: 8,\n",
       "         32: 1,\n",
       "         26: 2,\n",
       "         21: 7,\n",
       "         23: 1,\n",
       "         16: 12,\n",
       "         19: 8,\n",
       "         36: 1,\n",
       "         27: 3,\n",
       "         57: 1,\n",
       "         81: 1,\n",
       "         38: 1,\n",
       "         43: 2,\n",
       "         22: 3,\n",
       "         60: 1,\n",
       "         68: 1,\n",
       "         31: 3,\n",
       "         1: 309,\n",
       "         28: 1,\n",
       "         35: 2})"
      ]
     },
     "execution_count": 28,
     "metadata": {},
     "output_type": "execute_result"
    }
   ],
   "source": [
    "Counter(df['density'])"
   ]
  },
  {
   "cell_type": "markdown",
   "metadata": {},
   "source": [
    "## C joins vs C does not join at each density k"
   ]
  },
  {
   "cell_type": "code",
   "execution_count": 29,
   "metadata": {},
   "outputs": [],
   "source": [
    "no_dyadic_df = df[df['motif_type'] != 'DYADIC_TRIADS']"
   ]
  },
  {
   "cell_type": "code",
   "execution_count": 30,
   "metadata": {},
   "outputs": [
    {
     "data": {
      "text/plain": [
       "(155498, 4)"
      ]
     },
     "execution_count": 30,
     "metadata": {},
     "output_type": "execute_result"
    }
   ],
   "source": [
    "no_dyadic_df.shape"
   ]
  },
  {
   "cell_type": "code",
   "execution_count": 31,
   "metadata": {},
   "outputs": [],
   "source": [
    "dyadic_df = df[df['motif_type'] == 'DYADIC_TRIADS']"
   ]
  },
  {
   "cell_type": "code",
   "execution_count": 32,
   "metadata": {},
   "outputs": [],
   "source": [
    "C_joins_percent = []\n",
    "for k in range(2, 11):\n",
    "    C_join_num = no_dyadic_df[no_dyadic_df['density'] == k].shape[0]\n",
    "    C_no_join_num_dyadic = dyadic_df[dyadic_df['density'] >= k].shape[0]\n",
    "    C_no_join_num_others = no_dyadic_df[no_dyadic_df['density'] > k].shape[0]\n",
    "    C_no_join = C_no_join_num_dyadic + C_no_join_num_others\n",
    "    C_joins_percent.append(C_join_num / (C_join_num + C_no_join))"
   ]
  },
  {
   "cell_type": "code",
   "execution_count": 33,
   "metadata": {},
   "outputs": [
    {
     "data": {
      "text/plain": [
       "<matplotlib.axes._subplots.AxesSubplot at 0x7fdad294ab90>"
      ]
     },
     "execution_count": 33,
     "metadata": {},
     "output_type": "execute_result"
    },
    {
     "data": {
      "image/png": "[encoded data removed]",
      "text/plain": [
       "<Figure size 432x288 with 1 Axes>"
      ]
     },
     "metadata": {
      "needs_background": "light"
     },
     "output_type": "display_data"
    }
   ],
   "source": [
    "sns.lineplot(x=range(2,11), y=C_joins_percent)"
   ]
  },
  {
   "cell_type": "markdown",
   "metadata": {},
   "source": [
    "## Which part of the thread does C join?"
   ]
  },
  {
   "cell_type": "markdown",
   "metadata": {},
   "source": [
    "### Basic counts of C's depth"
   ]
  },
  {
   "cell_type": "code",
   "execution_count": 34,
   "metadata": {},
   "outputs": [],
   "source": [
    "ctr = Counter(no_dyadic_df['C_depth'])"
   ]
  },
  {
   "cell_type": "code",
   "execution_count": 35,
   "metadata": {},
   "outputs": [],
   "source": [
    "num_instances = [ctr[x] for x in range(2, 11)]"
   ]
  },
  {
   "cell_type": "code",
   "execution_count": 36,
   "metadata": {},
   "outputs": [
    {
     "data": {
      "text/plain": [
       "<matplotlib.axes._subplots.AxesSubplot at 0x7fd9ffef3850>"
      ]
     },
     "execution_count": 36,
     "metadata": {},
     "output_type": "execute_result"
    },
    {
     "data": {
      "image/png": "[encoded data removed]",
      "text/plain": [
       "<Figure size 432x288 with 1 Axes>"
      ]
     },
     "metadata": {
      "needs_background": "light"
     },
     "output_type": "display_data"
    }
   ],
   "source": [
    "# Num instances against depth of comment C responds to (1 = top-level-comment)\n",
    "sns.barplot(x=list(range(1,10)), y=num_instances)"
   ]
  },
  {
   "cell_type": "markdown",
   "metadata": {},
   "source": [
    "### Plotting which part of the thread C (C's depth) joins against density before C's entrance"
   ]
  },
  {
   "cell_type": "code",
   "execution_count": 37,
   "metadata": {},
   "outputs": [
    {
     "data": {
      "text/html": [
       "<div>\n",
       "<style scoped>\n",
       "    .dataframe tbody tr th:only-of-type {\n",
       "        vertical-align: middle;\n",
       "    }\n",
       "\n",
       "    .dataframe tbody tr th {\n",
       "        vertical-align: top;\n",
       "    }\n",
       "\n",
       "    .dataframe thead th {\n",
       "        text-align: right;\n",
       "    }\n",
       "</style>\n",
       "<table border=\"1\" class=\"dataframe\">\n",
       "  <thead>\n",
       "    <tr style=\"text-align: right;\">\n",
       "      <th></th>\n",
       "      <th>C_depth</th>\n",
       "    </tr>\n",
       "    <tr>\n",
       "      <th>density</th>\n",
       "      <th></th>\n",
       "    </tr>\n",
       "  </thead>\n",
       "  <tbody>\n",
       "    <tr>\n",
       "      <td>1</td>\n",
       "      <td>2.009709</td>\n",
       "    </tr>\n",
       "    <tr>\n",
       "      <td>2</td>\n",
       "      <td>2.352894</td>\n",
       "    </tr>\n",
       "    <tr>\n",
       "      <td>3</td>\n",
       "      <td>2.897819</td>\n",
       "    </tr>\n",
       "    <tr>\n",
       "      <td>4</td>\n",
       "      <td>3.392765</td>\n",
       "    </tr>\n",
       "    <tr>\n",
       "      <td>5</td>\n",
       "      <td>3.926671</td>\n",
       "    </tr>\n",
       "    <tr>\n",
       "      <td>6</td>\n",
       "      <td>4.633106</td>\n",
       "    </tr>\n",
       "    <tr>\n",
       "      <td>7</td>\n",
       "      <td>5.114865</td>\n",
       "    </tr>\n",
       "    <tr>\n",
       "      <td>8</td>\n",
       "      <td>5.884146</td>\n",
       "    </tr>\n",
       "    <tr>\n",
       "      <td>9</td>\n",
       "      <td>6.597403</td>\n",
       "    </tr>\n",
       "    <tr>\n",
       "      <td>10</td>\n",
       "      <td>6.738095</td>\n",
       "    </tr>\n",
       "    <tr>\n",
       "      <td>11</td>\n",
       "      <td>8.024390</td>\n",
       "    </tr>\n",
       "    <tr>\n",
       "      <td>12</td>\n",
       "      <td>7.777778</td>\n",
       "    </tr>\n",
       "    <tr>\n",
       "      <td>13</td>\n",
       "      <td>8.125000</td>\n",
       "    </tr>\n",
       "    <tr>\n",
       "      <td>14</td>\n",
       "      <td>11.307692</td>\n",
       "    </tr>\n",
       "    <tr>\n",
       "      <td>15</td>\n",
       "      <td>9.666667</td>\n",
       "    </tr>\n",
       "    <tr>\n",
       "      <td>16</td>\n",
       "      <td>11.250000</td>\n",
       "    </tr>\n",
       "    <tr>\n",
       "      <td>17</td>\n",
       "      <td>18.000000</td>\n",
       "    </tr>\n",
       "    <tr>\n",
       "      <td>18</td>\n",
       "      <td>13.333333</td>\n",
       "    </tr>\n",
       "    <tr>\n",
       "      <td>19</td>\n",
       "      <td>11.500000</td>\n",
       "    </tr>\n",
       "    <tr>\n",
       "      <td>20</td>\n",
       "      <td>21.000000</td>\n",
       "    </tr>\n",
       "    <tr>\n",
       "      <td>21</td>\n",
       "      <td>16.333333</td>\n",
       "    </tr>\n",
       "    <tr>\n",
       "      <td>22</td>\n",
       "      <td>17.000000</td>\n",
       "    </tr>\n",
       "    <tr>\n",
       "      <td>26</td>\n",
       "      <td>27.000000</td>\n",
       "    </tr>\n",
       "    <tr>\n",
       "      <td>27</td>\n",
       "      <td>27.000000</td>\n",
       "    </tr>\n",
       "    <tr>\n",
       "      <td>28</td>\n",
       "      <td>29.000000</td>\n",
       "    </tr>\n",
       "    <tr>\n",
       "      <td>31</td>\n",
       "      <td>16.000000</td>\n",
       "    </tr>\n",
       "    <tr>\n",
       "      <td>35</td>\n",
       "      <td>34.000000</td>\n",
       "    </tr>\n",
       "  </tbody>\n",
       "</table>\n",
       "</div>"
      ],
      "text/plain": [
       "           C_depth\n",
       "density           \n",
       "1         2.009709\n",
       "2         2.352894\n",
       "3         2.897819\n",
       "4         3.392765\n",
       "5         3.926671\n",
       "6         4.633106\n",
       "7         5.114865\n",
       "8         5.884146\n",
       "9         6.597403\n",
       "10        6.738095\n",
       "11        8.024390\n",
       "12        7.777778\n",
       "13        8.125000\n",
       "14       11.307692\n",
       "15        9.666667\n",
       "16       11.250000\n",
       "17       18.000000\n",
       "18       13.333333\n",
       "19       11.500000\n",
       "20       21.000000\n",
       "21       16.333333\n",
       "22       17.000000\n",
       "26       27.000000\n",
       "27       27.000000\n",
       "28       29.000000\n",
       "31       16.000000\n",
       "35       34.000000"
      ]
     },
     "execution_count": 37,
     "metadata": {},
     "output_type": "execute_result"
    }
   ],
   "source": [
    "no_dyadic_df.groupby('density').mean()"
   ]
  },
  {
   "cell_type": "code",
   "execution_count": 38,
   "metadata": {},
   "outputs": [],
   "source": [
    "y = no_dyadic_df.groupby('density').mean().values[1:10].flatten() # exclude density == 1 (edge cases)"
   ]
  },
  {
   "cell_type": "code",
   "execution_count": 39,
   "metadata": {},
   "outputs": [],
   "source": [
    "x = range(2, 11)"
   ]
  },
  {
   "cell_type": "code",
   "execution_count": 40,
   "metadata": {},
   "outputs": [
    {
     "data": {
      "text/plain": [
       "Text(0.5, 1.0, 'C_depth against density')"
      ]
     },
     "execution_count": 40,
     "metadata": {},
     "output_type": "execute_result"
    },
    {
     "data": {
      "image/png": "[encoded data removed]",
      "text/plain": [
       "<Figure size 432x288 with 1 Axes>"
      ]
     },
     "metadata": {
      "needs_background": "light"
     },
     "output_type": "display_data"
    }
   ],
   "source": [
    "# C's depth against A/B density before C enters\n",
    "sns.scatterplot(x=x, y=y).set_title('C_depth against density')"
   ]
  },
  {
   "cell_type": "code",
   "execution_count": 41,
   "metadata": {},
   "outputs": [
    {
     "data": {
      "text/plain": [
       "Text(0.5, 1.0, '(C_depth - density) against density')"
      ]
     },
     "execution_count": 41,
     "metadata": {},
     "output_type": "execute_result"
    },
    {
     "data": {
      "image/png": "[encoded data removed]",
      "text/plain": [
       "<Figure size 432x288 with 1 Axes>"
      ]
     },
     "metadata": {
      "needs_background": "light"
     },
     "output_type": "display_data"
    }
   ],
   "source": [
    "sns.scatterplot(x=x, y=y-x).set_title('(C_depth - density) against density')"
   ]
  },
  {
   "cell_type": "markdown",
   "metadata": {},
   "source": [
    "### How does C's depth on joining correlate to the final motif?"
   ]
  },
  {
   "cell_type": "code",
   "execution_count": 42,
   "metadata": {},
   "outputs": [],
   "source": [
    "triad_order = convokit.TriadMotif.get_motif_types()"
   ]
  },
  {
   "cell_type": "code",
   "execution_count": 43,
   "metadata": {},
   "outputs": [],
   "source": [
    "motif_to_Cdepth = df.groupby('motif_type')['C_depth'].mean().to_dict()"
   ]
  },
  {
   "cell_type": "code",
   "execution_count": 44,
   "metadata": {},
   "outputs": [],
   "source": [
    "y = [motif_to_Cdepth[motif] for motif in triad_order if motif in motif_to_Cdepth]"
   ]
  },
  {
   "cell_type": "code",
   "execution_count": 45,
   "metadata": {},
   "outputs": [
    {
     "data": {
      "text/plain": [
       "['NO_EDGE_TRIADS',\n",
       " 'SINGLE_EDGE_TRIADS',\n",
       " 'INCOMING_TRIADS',\n",
       " 'OUTGOING_TRIADS',\n",
       " 'DYADIC_TRIADS',\n",
       " 'UNIDIRECTIONAL_TRIADS',\n",
       " 'INCOMING_2TO3_TRIADS',\n",
       " 'DIRECTED_CYCLE_TRIADS',\n",
       " 'INCOMING_1TO3_TRIADS',\n",
       " 'OUTGOING_3TO1_TRIADS',\n",
       " 'INCOMING_RECIPROCAL_TRIADS',\n",
       " 'OUTGOING_RECIPROCAL_TRIADS',\n",
       " 'DIRECTED_CYCLE_1TO3_TRIADS',\n",
       " 'DIRECIPROCAL_TRIADS',\n",
       " 'DIRECIPROCAL_2TO3_TRIADS',\n",
       " 'TRIRECIPROCAL_TRIADS']"
      ]
     },
     "execution_count": 45,
     "metadata": {},
     "output_type": "execute_result"
    }
   ],
   "source": [
    "triad_order"
   ]
  },
  {
   "cell_type": "code",
   "execution_count": 46,
   "metadata": {},
   "outputs": [
    {
     "data": {
      "text/plain": [
       "(array([ 0,  1,  2,  3,  4,  5,  6,  7,  8,  9, 10, 11, 12]),\n",
       " <a list of 13 Text xticklabel objects>)"
      ]
     },
     "execution_count": 46,
     "metadata": {},
     "output_type": "execute_result"
    },
    {
     "data": {
      "image/png": "[encoded data removed]",
      "text/plain": [
       "<Figure size 432x288 with 1 Axes>"
      ]
     },
     "metadata": {
      "needs_background": "light"
     },
     "output_type": "display_data"
    }
   ],
   "source": [
    "sns.barplot(x=[motif for motif in triad_order if motif in motif_to_Cdepth], y=y)\n",
    "plt.title('Average C_depth for motif')\n",
    "plt.xticks(rotation=45, horizontalalignment='right')"
   ]
  },
  {
   "cell_type": "code",
   "execution_count": 47,
   "metadata": {},
   "outputs": [
    {
     "data": {
      "text/plain": [
       "{'DIRECIPROCAL_2TO3_TRIADS': 2.8515709642470206,\n",
       " 'DIRECIPROCAL_TRIADS': 2.6831535460179023,\n",
       " 'DIRECTED_CYCLE_1TO3_TRIADS': 2.6278280542986425,\n",
       " 'DIRECTED_CYCLE_TRIADS': 3.0327272727272727,\n",
       " 'DYADIC_TRIADS': -1.0,\n",
       " 'INCOMING_1TO3_TRIADS': 2.006523157208089,\n",
       " 'INCOMING_2TO3_TRIADS': 2.629977415903958,\n",
       " 'INCOMING_RECIPROCAL_TRIADS': 3.2013371046541526,\n",
       " 'INCOMING_TRIADS': 2.003812517506458,\n",
       " 'OUTGOING_3TO1_TRIADS': 3.118273635410343,\n",
       " 'OUTGOING_RECIPROCAL_TRIADS': 3.0905612244897958,\n",
       " 'TRIRECIPROCAL_TRIADS': 2.9510489510489513,\n",
       " 'UNIDIRECTIONAL_TRIADS': 3.003403767734978}"
      ]
     },
     "execution_count": 47,
     "metadata": {},
     "output_type": "execute_result"
    }
   ],
   "source": [
    "motif_to_Cdepth"
   ]
  },
  {
   "cell_type": "markdown",
   "metadata": {},
   "source": [
    "### C_target against C_depth "
   ]
  },
  {
   "cell_type": "markdown",
   "metadata": {},
   "source": [
    "Note that we expect an obvious correlation between the two."
   ]
  },
  {
   "cell_type": "code",
   "execution_count": 48,
   "metadata": {},
   "outputs": [],
   "source": [
    "C_target_grouped_by_depth = no_dyadic_df.groupby('C_depth')['C_target'].value_counts(normalize=True).unstack()"
   ]
  },
  {
   "cell_type": "code",
   "execution_count": 49,
   "metadata": {},
   "outputs": [
    {
     "data": {
      "text/plain": [
       "<matplotlib.axes._subplots.AxesSubplot at 0x7fd9ffa4d290>"
      ]
     },
     "execution_count": 49,
     "metadata": {},
     "output_type": "execute_result"
    },
    {
     "data": {
      "image/png": "[encoded data removed]",
      "text/plain": [
       "<Figure size 432x288 with 1 Axes>"
      ]
     },
     "metadata": {
      "needs_background": "light"
     },
     "output_type": "display_data"
    }
   ],
   "source": [
    "C_target_grouped_by_depth.plot(kind='bar',stacked=True)"
   ]
  },
  {
   "cell_type": "markdown",
   "metadata": {},
   "source": [
    "### Alternate view: C_depth against C_target"
   ]
  },
  {
   "cell_type": "code",
   "execution_count": 50,
   "metadata": {},
   "outputs": [],
   "source": [
    "C_depth_grouped_by_target = no_dyadic_df.groupby('C_target')['C_depth'].value_counts(normalize=True).unstack()"
   ]
  },
  {
   "cell_type": "code",
   "execution_count": 51,
   "metadata": {},
   "outputs": [
    {
     "data": {
      "text/html": [
       "<div>\n",
       "<style scoped>\n",
       "    .dataframe tbody tr th:only-of-type {\n",
       "        vertical-align: middle;\n",
       "    }\n",
       "\n",
       "    .dataframe tbody tr th {\n",
       "        vertical-align: top;\n",
       "    }\n",
       "\n",
       "    .dataframe thead th {\n",
       "        text-align: right;\n",
       "    }\n",
       "</style>\n",
       "<table border=\"1\" class=\"dataframe\">\n",
       "  <thead>\n",
       "    <tr style=\"text-align: right;\">\n",
       "      <th>C_target</th>\n",
       "      <th>A</th>\n",
       "      <th>B</th>\n",
       "    </tr>\n",
       "    <tr>\n",
       "      <th>C_depth</th>\n",
       "      <th></th>\n",
       "      <th></th>\n",
       "    </tr>\n",
       "  </thead>\n",
       "  <tbody>\n",
       "    <tr>\n",
       "      <td>2</td>\n",
       "      <td>0.923948</td>\n",
       "      <td>NaN</td>\n",
       "    </tr>\n",
       "    <tr>\n",
       "      <td>3</td>\n",
       "      <td>0.002998</td>\n",
       "      <td>0.967294</td>\n",
       "    </tr>\n",
       "    <tr>\n",
       "      <td>4</td>\n",
       "      <td>0.065476</td>\n",
       "      <td>0.002803</td>\n",
       "    </tr>\n",
       "    <tr>\n",
       "      <td>5</td>\n",
       "      <td>0.000359</td>\n",
       "      <td>0.023686</td>\n",
       "    </tr>\n",
       "    <tr>\n",
       "      <td>6</td>\n",
       "      <td>0.005327</td>\n",
       "      <td>0.000095</td>\n",
       "    </tr>\n",
       "    <tr>\n",
       "      <td>7</td>\n",
       "      <td>0.000029</td>\n",
       "      <td>0.003948</td>\n",
       "    </tr>\n",
       "    <tr>\n",
       "      <td>8</td>\n",
       "      <td>0.001155</td>\n",
       "      <td>0.000038</td>\n",
       "    </tr>\n",
       "    <tr>\n",
       "      <td>9</td>\n",
       "      <td>NaN</td>\n",
       "      <td>0.001163</td>\n",
       "    </tr>\n",
       "    <tr>\n",
       "      <td>10</td>\n",
       "      <td>0.000320</td>\n",
       "      <td>NaN</td>\n",
       "    </tr>\n",
       "    <tr>\n",
       "      <td>11</td>\n",
       "      <td>0.000039</td>\n",
       "      <td>0.000420</td>\n",
       "    </tr>\n",
       "    <tr>\n",
       "      <td>12</td>\n",
       "      <td>0.000155</td>\n",
       "      <td>0.000076</td>\n",
       "    </tr>\n",
       "    <tr>\n",
       "      <td>13</td>\n",
       "      <td>NaN</td>\n",
       "      <td>0.000172</td>\n",
       "    </tr>\n",
       "    <tr>\n",
       "      <td>14</td>\n",
       "      <td>0.000078</td>\n",
       "      <td>NaN</td>\n",
       "    </tr>\n",
       "    <tr>\n",
       "      <td>15</td>\n",
       "      <td>NaN</td>\n",
       "      <td>0.000153</td>\n",
       "    </tr>\n",
       "    <tr>\n",
       "      <td>16</td>\n",
       "      <td>0.000039</td>\n",
       "      <td>NaN</td>\n",
       "    </tr>\n",
       "    <tr>\n",
       "      <td>17</td>\n",
       "      <td>NaN</td>\n",
       "      <td>0.000038</td>\n",
       "    </tr>\n",
       "    <tr>\n",
       "      <td>18</td>\n",
       "      <td>0.000010</td>\n",
       "      <td>NaN</td>\n",
       "    </tr>\n",
       "    <tr>\n",
       "      <td>19</td>\n",
       "      <td>NaN</td>\n",
       "      <td>0.000038</td>\n",
       "    </tr>\n",
       "    <tr>\n",
       "      <td>20</td>\n",
       "      <td>0.000019</td>\n",
       "      <td>NaN</td>\n",
       "    </tr>\n",
       "    <tr>\n",
       "      <td>21</td>\n",
       "      <td>NaN</td>\n",
       "      <td>0.000019</td>\n",
       "    </tr>\n",
       "    <tr>\n",
       "      <td>22</td>\n",
       "      <td>0.000019</td>\n",
       "      <td>NaN</td>\n",
       "    </tr>\n",
       "    <tr>\n",
       "      <td>27</td>\n",
       "      <td>NaN</td>\n",
       "      <td>0.000038</td>\n",
       "    </tr>\n",
       "    <tr>\n",
       "      <td>29</td>\n",
       "      <td>NaN</td>\n",
       "      <td>0.000019</td>\n",
       "    </tr>\n",
       "    <tr>\n",
       "      <td>32</td>\n",
       "      <td>0.000019</td>\n",
       "      <td>NaN</td>\n",
       "    </tr>\n",
       "    <tr>\n",
       "      <td>36</td>\n",
       "      <td>0.000010</td>\n",
       "      <td>NaN</td>\n",
       "    </tr>\n",
       "  </tbody>\n",
       "</table>\n",
       "</div>"
      ],
      "text/plain": [
       "C_target         A         B\n",
       "C_depth                     \n",
       "2         0.923948       NaN\n",
       "3         0.002998  0.967294\n",
       "4         0.065476  0.002803\n",
       "5         0.000359  0.023686\n",
       "6         0.005327  0.000095\n",
       "7         0.000029  0.003948\n",
       "8         0.001155  0.000038\n",
       "9              NaN  0.001163\n",
       "10        0.000320       NaN\n",
       "11        0.000039  0.000420\n",
       "12        0.000155  0.000076\n",
       "13             NaN  0.000172\n",
       "14        0.000078       NaN\n",
       "15             NaN  0.000153\n",
       "16        0.000039       NaN\n",
       "17             NaN  0.000038\n",
       "18        0.000010       NaN\n",
       "19             NaN  0.000038\n",
       "20        0.000019       NaN\n",
       "21             NaN  0.000019\n",
       "22        0.000019       NaN\n",
       "27             NaN  0.000038\n",
       "29             NaN  0.000019\n",
       "32        0.000019       NaN\n",
       "36        0.000010       NaN"
      ]
     },
     "execution_count": 51,
     "metadata": {},
     "output_type": "execute_result"
    }
   ],
   "source": [
    "C_depth_grouped_by_target.T"
   ]
  },
  {
   "cell_type": "code",
   "execution_count": null,
   "metadata": {},
   "outputs": [],
   "source": []
  },
  {
   "cell_type": "code",
   "execution_count": null,
   "metadata": {},
   "outputs": [],
   "source": []
  }
 ],
 "metadata": {
  "kernelspec": {
   "display_name": "Python 3",
   "language": "python",
   "name": "python3"
  },
  "language_info": {
   "codemirror_mode": {
    "name": "ipython",
    "version": 3
   },
   "file_extension": ".py",
   "mimetype": "text/x-python",
   "name": "python",
   "nbconvert_exporter": "python",
   "pygments_lexer": "ipython3",
   "version": "3.7.4"
  }
 },
 "nbformat": 4,
 "nbformat_minor": 2
}
