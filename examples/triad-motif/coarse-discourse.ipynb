{
 "cells": [
  {
   "cell_type": "code",
   "execution_count": 1,
   "metadata": {},
   "outputs": [],
   "source": [
    "import os\n",
    "os.chdir('../..')"
   ]
  },
  {
   "cell_type": "code",
   "execution_count": 2,
   "metadata": {},
   "outputs": [
    {
     "name": "stderr",
     "output_type": "stream",
     "text": [
      "/Library/Frameworks/Python.framework/Versions/3.7/lib/python3.7/site-packages/sklearn/externals/joblib/__init__.py:15: DeprecationWarning: sklearn.externals.joblib is deprecated in 0.21 and will be removed in 0.23. Please import this functionality directly from joblib, which can be installed with: pip install joblib. If this warning is raised when loading pickled models, you may need to re-serialize those models with scikit-learn 0.21+.\n",
      "  warnings.warn(msg, category=DeprecationWarning)\n"
     ]
    }
   ],
   "source": [
    "import convokit\n",
    "from convokit import Corpus, download"
   ]
  },
  {
   "cell_type": "code",
   "execution_count": 3,
   "metadata": {},
   "outputs": [],
   "source": [
    "from convokit import TriadMotifTransformer"
   ]
  },
  {
   "cell_type": "code",
   "execution_count": 4,
   "metadata": {},
   "outputs": [
    {
     "name": "stdout",
     "output_type": "stream",
     "text": [
      "Dataset already exists at /Users/calebchiam/.convokit/downloads/reddit-coarse-discourse-corpus\n"
     ]
    }
   ],
   "source": [
    "corpus = Corpus(filename=download('reddit-coarse-discourse-corpus', use_local=True))"
   ]
  },
  {
   "cell_type": "code",
   "execution_count": 5,
   "metadata": {},
   "outputs": [],
   "source": [
    "for utt in corpus.iter_utterances():\n",
    "    utt.timestamp = utt.meta['post_depth']"
   ]
  },
  {
   "cell_type": "code",
   "execution_count": 6,
   "metadata": {},
   "outputs": [
    {
     "name": "stdout",
     "output_type": "stream",
     "text": [
      "Number of Users: 63573\n",
      "Number of Utterances: 115827\n",
      "Number of Conversations: 9483\n"
     ]
    }
   ],
   "source": [
    "corpus.print_summary_stats()"
   ]
  },
  {
   "cell_type": "code",
   "execution_count": 7,
   "metadata": {},
   "outputs": [],
   "source": [
    "tmt = TriadMotifTransformer(prefix_len = None, min_thread_len=3)"
   ]
  },
  {
   "cell_type": "code",
   "execution_count": 8,
   "metadata": {},
   "outputs": [
    {
     "data": {
      "text/plain": [
       "<convokit.model.corpus.Corpus at 0x13ad7dbe0>"
      ]
     },
     "execution_count": 8,
     "metadata": {},
     "output_type": "execute_result"
    }
   ],
   "source": [
    "tmt.fit_transform(corpus)"
   ]
  },
  {
   "cell_type": "code",
   "execution_count": 9,
   "metadata": {},
   "outputs": [
    {
     "data": {
      "text/plain": [
       "{'subreddit': '100movies365days',\n",
       " 'url': 'https://www.reddit.com/r/100movies365days/comments/1bx6qw/dtx120_87_nashville/',\n",
       " 'title': 'DTX120: #87 - Nashville',\n",
       " 'triad_motifs': {'NO_EDGE_TRIADS': [],\n",
       "  'SINGLE_EDGE_TRIADS': [],\n",
       "  'INCOMING_TRIADS': [],\n",
       "  'OUTGOING_TRIADS': [],\n",
       "  'DYADIC_TRIADS': [],\n",
       "  'UNIDIRECTIONAL_TRIADS': [],\n",
       "  'INCOMING_2TO3_TRIADS': [],\n",
       "  'INCOMING_1TO3_TRIADS': [],\n",
       "  'DIRECTED_CYCLE_TRIADS': [],\n",
       "  'OUTGOING_3TO1_TRIADS': [],\n",
       "  'INCOMING_RECIPROCAL_TRIADS': [],\n",
       "  'OUTGOING_RECIPROCAL_TRIADS': [],\n",
       "  'DIRECTED_CYCLE_1TO3_TRIADS': [],\n",
       "  'DIRECIPROCAL_TRIADS': [],\n",
       "  'DIRECIPROCAL_2TO3_TRIADS': [],\n",
       "  'TRIRECIPROCAL_TRIADS': []}}"
      ]
     },
     "execution_count": 9,
     "metadata": {},
     "output_type": "execute_result"
    }
   ],
   "source": [
    "next(corpus.iter_conversations()).meta"
   ]
  },
  {
   "cell_type": "code",
   "execution_count": 10,
   "metadata": {},
   "outputs": [],
   "source": [
    "convo = next(corpus.iter_conversations())"
   ]
  },
  {
   "cell_type": "code",
   "execution_count": 11,
   "metadata": {},
   "outputs": [
    {
     "data": {
      "text/plain": [
       "Conversation({'obj_type': 'conversation', '_owner': <convokit.model.corpus.Corpus object at 0x13ad7dbe0>, 'meta': {'subreddit': '100movies365days', 'url': 'https://www.reddit.com/r/100movies365days/comments/1bx6qw/dtx120_87_nashville/', 'title': 'DTX120: #87 - Nashville', 'triad_motifs': {'NO_EDGE_TRIADS': [], 'SINGLE_EDGE_TRIADS': [], 'INCOMING_TRIADS': [], 'OUTGOING_TRIADS': [], 'DYADIC_TRIADS': [], 'UNIDIRECTIONAL_TRIADS': [], 'INCOMING_2TO3_TRIADS': [], 'INCOMING_1TO3_TRIADS': [], 'DIRECTED_CYCLE_TRIADS': [], 'OUTGOING_3TO1_TRIADS': [], 'INCOMING_RECIPROCAL_TRIADS': [], 'OUTGOING_RECIPROCAL_TRIADS': [], 'DIRECTED_CYCLE_1TO3_TRIADS': [], 'DIRECIPROCAL_TRIADS': [], 'DIRECIPROCAL_2TO3_TRIADS': [], 'TRIRECIPROCAL_TRIADS': []}}, '_id': 't3_1bx6qw', '_utterance_ids': ['t3_1bx6qw', 't1_c9b2nyd', 't1_c9b30i1', 't1_c9b6sj0'], '_user_ids': None, 'tree': None})"
      ]
     },
     "execution_count": 11,
     "metadata": {},
     "output_type": "execute_result"
    }
   ],
   "source": [
    "convo"
   ]
  },
  {
   "cell_type": "code",
   "execution_count": 12,
   "metadata": {},
   "outputs": [
    {
     "name": "stdout",
     "output_type": "stream",
     "text": [
      "DTX120\n",
      "    mcgrewf10\n",
      "        DTX120\n",
      "            mcgrewf10\n"
     ]
    }
   ],
   "source": [
    "convo.print_conversation_structure()"
   ]
  },
  {
   "cell_type": "code",
   "execution_count": 13,
   "metadata": {},
   "outputs": [
    {
     "name": "stdout",
     "output_type": "stream",
     "text": [
      "Sailorgalaxy\n",
      "    MlLADY\n",
      "    Stuck1nher\n",
      "    0urlasthope\n",
      "        Sailorgalaxy\n",
      "    SanfewOfFi\n",
      "    ConstantRager17\n"
     ]
    }
   ],
   "source": [
    "corpus.get_conversation('t3_20pv9h').print_conversation_structure()"
   ]
  },
  {
   "cell_type": "code",
   "execution_count": 14,
   "metadata": {},
   "outputs": [
    {
     "data": {
      "text/plain": [
       "{'NO_EDGE_TRIADS': [<convokit.triad_motif.triadMotif.TriadMotif at 0x14ef46630>,\n",
       "  <convokit.triad_motif.triadMotif.TriadMotif at 0x13adb12b0>,\n",
       "  <convokit.triad_motif.triadMotif.TriadMotif at 0x13adb1278>,\n",
       "  <convokit.triad_motif.triadMotif.TriadMotif at 0x13adb1240>,\n",
       "  <convokit.triad_motif.triadMotif.TriadMotif at 0x13adb1470>,\n",
       "  <convokit.triad_motif.triadMotif.TriadMotif at 0x13adb1438>,\n",
       "  <convokit.triad_motif.triadMotif.TriadMotif at 0x13adb1400>,\n",
       "  <convokit.triad_motif.triadMotif.TriadMotif at 0x13adb13c8>,\n",
       "  <convokit.triad_motif.triadMotif.TriadMotif at 0x13adb1390>,\n",
       "  <convokit.triad_motif.triadMotif.TriadMotif at 0x13adb15c0>],\n",
       " 'SINGLE_EDGE_TRIADS': [],\n",
       " 'INCOMING_TRIADS': [<convokit.triad_motif.triadMotif.TriadMotif at 0x13adb1588>,\n",
       "  <convokit.triad_motif.triadMotif.TriadMotif at 0x13adb1550>,\n",
       "  <convokit.triad_motif.triadMotif.TriadMotif at 0x13adb1518>,\n",
       "  <convokit.triad_motif.triadMotif.TriadMotif at 0x13adb14e0>,\n",
       "  <convokit.triad_motif.triadMotif.TriadMotif at 0x13adb17b8>,\n",
       "  <convokit.triad_motif.triadMotif.TriadMotif at 0x13adb1780>],\n",
       " 'OUTGOING_TRIADS': [],\n",
       " 'DYADIC_TRIADS': [],\n",
       " 'UNIDIRECTIONAL_TRIADS': [],\n",
       " 'INCOMING_2TO3_TRIADS': [],\n",
       " 'INCOMING_1TO3_TRIADS': [<convokit.triad_motif.triadMotif.TriadMotif at 0x13adb1748>,\n",
       "  <convokit.triad_motif.triadMotif.TriadMotif at 0x13adb1710>,\n",
       "  <convokit.triad_motif.triadMotif.TriadMotif at 0x13adb16d8>,\n",
       "  <convokit.triad_motif.triadMotif.TriadMotif at 0x13adb1908>],\n",
       " 'DIRECTED_CYCLE_TRIADS': [],\n",
       " 'OUTGOING_3TO1_TRIADS': [],\n",
       " 'INCOMING_RECIPROCAL_TRIADS': [],\n",
       " 'OUTGOING_RECIPROCAL_TRIADS': [],\n",
       " 'DIRECTED_CYCLE_1TO3_TRIADS': [],\n",
       " 'DIRECIPROCAL_TRIADS': [],\n",
       " 'DIRECIPROCAL_2TO3_TRIADS': [],\n",
       " 'TRIRECIPROCAL_TRIADS': []}"
      ]
     },
     "execution_count": 14,
     "metadata": {},
     "output_type": "execute_result"
    }
   ],
   "source": [
    "corpus.get_conversation('t3_20pv9h').meta['triad_motifs']"
   ]
  },
  {
   "cell_type": "code",
   "execution_count": 15,
   "metadata": {},
   "outputs": [],
   "source": [
    "incoming_2to3 = []\n",
    "for convo in corpus.iter_conversations():\n",
    "    if convo.meta['triad_motifs'] is not None:\n",
    "        incoming_2to3.extend(convo.meta['triad_motifs']['INCOMING_2TO3_TRIADS'])"
   ]
  },
  {
   "cell_type": "code",
   "execution_count": 16,
   "metadata": {},
   "outputs": [
    {
     "data": {
      "text/plain": [
       "1272"
      ]
     },
     "execution_count": 16,
     "metadata": {},
     "output_type": "execute_result"
    }
   ],
   "source": [
    "len(incoming_2to3)"
   ]
  },
  {
   "cell_type": "code",
   "execution_count": 17,
   "metadata": {},
   "outputs": [
    {
     "name": "stdout",
     "output_type": "stream",
     "text": [
      "Number of Users: 63573\n",
      "Number of Utterances: 115827\n",
      "Number of Conversations: 9483\n"
     ]
    }
   ],
   "source": [
    "corpus.print_summary_stats()"
   ]
  },
  {
   "cell_type": "markdown",
   "metadata": {},
   "source": [
    "INCOMING_2TO3 has the structure: (C1, C2, C3, C2->C1, C3->C1, C2->C3)"
   ]
  },
  {
   "cell_type": "code",
   "execution_count": 18,
   "metadata": {},
   "outputs": [
    {
     "data": {
      "text/plain": [
       "([{'utt': Utterance({'obj_type': 'utterance', '_owner': <convokit.model.corpus.Corpus object at 0x13ad7dbe0>, 'meta': {'post_depth': 1, 'majority_type': 'answer', 'majority_link': 't3_351n7m', 'annotation-types': ['answer', 'answer', 'answer'], 'annotation-links': ['t3_351n7m', 't3_351n7m', 't3_351n7m'], 'ups': 5}, '_id': 't1_cr03o2q', 'user': User({'obj_type': 'user', '_owner': <convokit.model.corpus.Corpus object at 0x13ad7dbe0>, 'meta': {}, '_id': 'futurestorms', '_name': 'futurestorms'}), 'root': 't3_351n7m', 'reply_to': 't3_351n7m', 'timestamp': 1, 'text': \"I love to go on walks or hikes. Exploring new places. It is usually free. It's a hobby that pays off on many fronts. \\n\\nNot a hobby but: You would be surprised at how much your local libraries have to offer. Books, movies, video games. All free to borrow. \\n\\n \"}),\n",
       "   'target_user': 'nothingfinal'}],\n",
       " [{'utt': Utterance({'obj_type': 'utterance', '_owner': <convokit.model.corpus.Corpus object at 0x13ad7dbe0>, 'meta': {'post_depth': 1, 'majority_type': 'answer', 'majority_link': 't3_351n7m', 'annotation-types': ['answer', 'answer', 'answer'], 'annotation-links': ['t3_351n7m', 't3_351n7m', 't3_351n7m'], 'ups': 2}, '_id': 't1_cr0fdzg', 'user': User({'obj_type': 'user', '_owner': <convokit.model.corpus.Corpus object at 0x13ad7dbe0>, 'meta': {}, '_id': 'shalafi71', '_name': 'shalafi71'}), 'root': 't3_351n7m', 'reply_to': 't3_351n7m', 'timestamp': 1, 'text': 'When my ex and I split up I really got into playing Left 4 Dead (OK, I was already *too* into it).  It\\'s a nice game for your situation since it\\'s cooperative, easy to learn and, maybe most importantly, it gives you some social interaction.  Another great aspect of the game is that you can pick it up and put it down whenever you like.  There\\'s no \"investment\".  Play for an hour or six or come back a month later.\\n\\nJust jump in some random games with strangers and build a friend list of people who you like.  It really takes the sting out of the loneliness when you can jump on after work, find some friends and go blast zombies together.  We laugh and joke, talk about our lives, etc.  There isn\\'t a bunch of strategerizing or other seriousness.  Just cooperate with your team and do your best, that\\'s all we care about.  Nobody cares if you\\'re new or if you suck.  Just stick by and we\\'ll cover you.\\n\\nIn my group it\\'s not just a bunch of young guys either.  I\\'m 44 and better than half of my game friends are older than I am.  We\\'ve got white people, black people, hispanic people, men, women, everybody.\\n\\nI\\'m sure there are plenty of games that provide the same experience but L4D is the only game I play.  If you ever want to give it a shot PM me.  We\\'ll grab a pair of my friends and go hunting.  Or just the two of us.  I know you need a sympathetic ear that\\'s been there/done that.\\n\\n(Steam, the platform you load on your PC, is free and the game is $20.  $20 for headphones.)'}),\n",
       "   'target_user': 'nothingfinal'}],\n",
       " [{'utt': Utterance({'obj_type': 'utterance', '_owner': <convokit.model.corpus.Corpus object at 0x13ad7dbe0>, 'meta': {'post_depth': 2, 'majority_type': 'agreement', 'majority_link': 't1_cr0fdzg', 'annotation-types': ['elaboration', 'agreement', 'agreement'], 'annotation-links': ['t1_cr0fdzg', 't1_cr0fdzg', 't1_cr0fdzg'], 'ups': 2}, '_id': 't1_cr0uq2p', 'user': User({'obj_type': 'user', '_owner': <convokit.model.corpus.Corpus object at 0x13ad7dbe0>, 'meta': {}, '_id': 'futurestorms', '_name': 'futurestorms'}), 'root': 't3_351n7m', 'reply_to': 't1_cr0fdzg', 'timestamp': 2, 'text': \"I joined the Steam network. There's a lot for cheap to distract even the most honed gaming enthusiast.       \"}),\n",
       "   'target_user': 'shalafi71'}])"
      ]
     },
     "execution_count": 18,
     "metadata": {},
     "output_type": "execute_result"
    }
   ],
   "source": [
    "incoming_2to3[0].edges"
   ]
  },
  {
   "cell_type": "code",
   "execution_count": 19,
   "metadata": {},
   "outputs": [],
   "source": [
    "def get_labels(triad_motif):\n",
    "    return tuple(edges[0]['utt'].meta['majority_type'] for edges in triad_motif.get_edges())"
   ]
  },
  {
   "cell_type": "code",
   "execution_count": 20,
   "metadata": {},
   "outputs": [],
   "source": [
    "labelled_incoming2to3 = [get_labels(tm) for tm in incoming_2to3]"
   ]
  },
  {
   "cell_type": "code",
   "execution_count": 21,
   "metadata": {},
   "outputs": [],
   "source": [
    "from collections import Counter"
   ]
  },
  {
   "cell_type": "code",
   "execution_count": 22,
   "metadata": {},
   "outputs": [
    {
     "data": {
      "text/plain": [
       "[(('answer', 'answer', 'elaboration'), 208),\n",
       " (('answer', 'answer', 'agreement'), 107),\n",
       " (('answer', 'answer', None), 86),\n",
       " (('answer', 'answer', 'disagreement'), 50),\n",
       " (('answer', 'answer', 'appreciation'), 45),\n",
       " (('answer', 'answer', 'question'), 43),\n",
       " (('elaboration', 'elaboration', 'elaboration'), 29),\n",
       " (('answer', 'question', 'answer'), 28),\n",
       " (('answer', 'answer', 'humor'), 23),\n",
       " (('elaboration', 'question', 'answer'), 20),\n",
       " ((None, 'elaboration', 'elaboration'), 15),\n",
       " (('answer', 'answer', 'answer'), 15),\n",
       " (('question', 'question', 'answer'), 14),\n",
       " ((None, 'question', 'answer'), 13),\n",
       " ((None, None, None), 12),\n",
       " ((None, None, 'elaboration'), 11),\n",
       " (('answer', 'answer', 'other'), 10),\n",
       " (('elaboration', 'elaboration', 'agreement'), 9),\n",
       " (('answer', 'question', None), 9),\n",
       " (('appreciation', 'appreciation', 'appreciation'), 8),\n",
       " (('answer', 'answer', 'negativereaction'), 8),\n",
       " (('elaboration', 'elaboration', 'appreciation'), 8),\n",
       " (('answer', 'elaboration', 'elaboration'), 8),\n",
       " (('question', 'answer', None), 8),\n",
       " (('elaboration', 'answer', 'elaboration'), 8),\n",
       " (('answer', None, None), 8),\n",
       " (('question', 'answer', 'elaboration'), 8),\n",
       " (('elaboration', 'elaboration', 'question'), 8),\n",
       " ((None, 'answer', None), 8),\n",
       " (('answer', None, 'elaboration'), 7),\n",
       " ((None, None, 'appreciation'), 7),\n",
       " ((None, 'elaboration', 'agreement'), 6),\n",
       " (('elaboration', None, 'elaboration'), 6),\n",
       " (('appreciation', 'question', 'answer'), 6),\n",
       " (('question', 'elaboration', 'agreement'), 5),\n",
       " (('question', 'elaboration', 'elaboration'), 5),\n",
       " (('elaboration', 'negativereaction', 'elaboration'), 5),\n",
       " ((None, 'answer', 'elaboration'), 5),\n",
       " ((None, None, 'agreement'), 5),\n",
       " (('elaboration', None, 'agreement'), 4),\n",
       " (('elaboration', None, None), 4),\n",
       " ((None, 'elaboration', None), 4),\n",
       " (('question', None, None), 4),\n",
       " (('question', None, 'elaboration'), 4),\n",
       " ((None, None, 'answer'), 4),\n",
       " (('elaboration', None, 'disagreement'), 4),\n",
       " ((None, 'answer', 'disagreement'), 4),\n",
       " (('question', 'answer', 'agreement'), 4),\n",
       " (('elaboration', 'question', None), 4),\n",
       " (('appreciation', 'elaboration', 'elaboration'), 4),\n",
       " (('elaboration', 'question', 'elaboration'), 3),\n",
       " (('other', 'question', 'answer'), 3),\n",
       " (('answer', 'elaboration', None), 3),\n",
       " ((None, 'answer', 'agreement'), 3),\n",
       " (('appreciation', 'appreciation', 'elaboration'), 3),\n",
       " (('elaboration', 'answer', 'appreciation'), 3),\n",
       " (('agreement', 'elaboration', 'elaboration'), 3),\n",
       " (('appreciation', 'appreciation', 'agreement'), 3),\n",
       " (('disagreement', 'question', 'answer'), 3),\n",
       " (('elaboration', 'elaboration', 'disagreement'), 3),\n",
       " (('answer', None, 'agreement'), 3),\n",
       " (('elaboration', 'elaboration', None), 3),\n",
       " (('appreciation', 'agreement', 'agreement'), 3),\n",
       " (('humor', 'answer', None), 3),\n",
       " (('agreement', 'question', 'answer'), 3),\n",
       " (('negativereaction', None, 'elaboration'), 2),\n",
       " (('appreciation', 'appreciation', 'disagreement'), 2),\n",
       " (('answer', None, 'humor'), 2),\n",
       " (('other', 'answer', 'elaboration'), 2),\n",
       " (('appreciation', None, 'question'), 2),\n",
       " (('elaboration', 'agreement', 'agreement'), 2),\n",
       " (('answer', None, 'disagreement'), 2),\n",
       " (('elaboration', 'elaboration', 'answer'), 2),\n",
       " (('appreciation', 'elaboration', 'negativereaction'), 2),\n",
       " (('question', 'elaboration', 'appreciation'), 2),\n",
       " (('elaboration', 'answer', 'agreement'), 2),\n",
       " (('appreciation', 'question', None), 2),\n",
       " ((None, 'humor', 'humor'), 2),\n",
       " (('negativereaction', 'question', 'question'), 2),\n",
       " (('answer', 'elaboration', 'question'), 2),\n",
       " (('other', None, None), 2),\n",
       " (('elaboration', 'agreement', 'appreciation'), 2),\n",
       " (('other', None, 'disagreement'), 2),\n",
       " (('appreciation', 'humor', 'humor'), 2),\n",
       " ((None, None, 'humor'), 2),\n",
       " (('appreciation', None, None), 2),\n",
       " (('appreciation', 'elaboration', None), 2),\n",
       " ((None, 'question', None), 2),\n",
       " (('elaboration', 'agreement', None), 2),\n",
       " (('answer', 'question', 'agreement'), 2),\n",
       " (('disagreement', 'disagreement', None), 2),\n",
       " (('question', 'elaboration', 'humor'), 2),\n",
       " (('answer', 'appreciation', 'answer'), 2),\n",
       " (('question', None, 'answer'), 2),\n",
       " (('question', 'answer', 'humor'), 2),\n",
       " (('question', 'question', None), 2),\n",
       " (('question', 'answer', 'question'), 2),\n",
       " ((None, 'answer', 'appreciation'), 2),\n",
       " (('negativereaction', 'negativereaction', 'negativereaction'), 2),\n",
       " (('elaboration', 'appreciation', 'question'), 2),\n",
       " (('question', None, 'negativereaction'), 2),\n",
       " (('appreciation', 'other', 'appreciation'), 2),\n",
       " (('appreciation', 'answer', None), 2),\n",
       " ((None, 'question', 'elaboration'), 2),\n",
       " (('elaboration', 'answer', None), 2),\n",
       " (('disagreement', 'answer', 'elaboration'), 2),\n",
       " (('question', 'answer', 'appreciation'), 2),\n",
       " (('answer', 'negativereaction', 'elaboration'), 2),\n",
       " (('elaboration', 'answer', 'question'), 2),\n",
       " (('elaboration', 'appreciation', 'elaboration'), 2),\n",
       " (('other', 'elaboration', 'elaboration'), 2),\n",
       " (('appreciation', 'elaboration', 'appreciation'), 2),\n",
       " (('humor', 'answer', 'humor'), 2),\n",
       " ((None, 'question', 'question'), 2),\n",
       " (('agreement', 'agreement', 'agreement'), 2),\n",
       " ((None, 'appreciation', None), 2),\n",
       " (('negativereaction', 'negativereaction', None), 2),\n",
       " (('answer', 'question', 'humor'), 2),\n",
       " (('other', 'other', 'other'), 2),\n",
       " ((None, None, 'question'), 2),\n",
       " (('agreement', 'answer', 'disagreement'), 1),\n",
       " (('appreciation', 'negativereaction', 'agreement'), 1),\n",
       " (('appreciation', 'negativereaction', 'elaboration'), 1),\n",
       " (('answer', 'negativereaction', 'agreement'), 1),\n",
       " (('humor', 'elaboration', 'answer'), 1),\n",
       " (('humor', 'question', 'humor'), 1),\n",
       " ((None, 'humor', None), 1),\n",
       " (('answer', 'negativereaction', 'humor'), 1),\n",
       " (('humor', 'question', 'answer'), 1),\n",
       " (('answer', 'elaboration', 'agreement'), 1),\n",
       " (('question', 'answer', 'answer'), 1),\n",
       " (('appreciation', 'humor', None), 1),\n",
       " (('humor', 'answer', 'agreement'), 1),\n",
       " (('agreement', 'negativereaction', 'elaboration'), 1),\n",
       " (('elaboration', None, 'humor'), 1),\n",
       " (('humor', 'answer', 'elaboration'), 1),\n",
       " (('elaboration', None, 'answer'), 1),\n",
       " (('humor', None, 'elaboration'), 1),\n",
       " (('appreciation', 'appreciation', None), 1),\n",
       " (('negativereaction', 'question', 'answer'), 1),\n",
       " (('elaboration', 'humor', 'humor'), 1),\n",
       " (('appreciation', 'appreciation', 'humor'), 1),\n",
       " (('appreciation', 'question', 'negativereaction'), 1),\n",
       " (('humor', 'humor', 'humor'), 1),\n",
       " (('agreement', 'answer', 'elaboration'), 1),\n",
       " (('question', 'question', 'disagreement'), 1),\n",
       " (('agreement', 'disagreement', 'elaboration'), 1),\n",
       " (('other', 'appreciation', 'appreciation'), 1),\n",
       " (('negativereaction', None, 'agreement'), 1),\n",
       " (('elaboration', 'negativereaction', 'answer'), 1),\n",
       " (('question', 'question', 'question'), 1),\n",
       " (('elaboration', 'elaboration', 'negativereaction'), 1),\n",
       " ((None, 'answer', 'negativereaction'), 1),\n",
       " ((None, 'negativereaction', None), 1),\n",
       " ((None, None, 'other'), 1),\n",
       " ((None, 'appreciation', 'appreciation'), 1),\n",
       " (('elaboration', 'appreciation', 'answer'), 1),\n",
       " (('question', 'question', 'appreciation'), 1),\n",
       " ((None, 'question', 'agreement'), 1),\n",
       " (('appreciation', 'agreement', 'appreciation'), 1),\n",
       " ((None, 'agreement', None), 1),\n",
       " (('disagreement', 'negativereaction', None), 1),\n",
       " (('appreciation', 'negativereaction', 'humor'), 1),\n",
       " (('elaboration', 'question', 'agreement'), 1),\n",
       " ((None, 'other', 'elaboration'), 1),\n",
       " (('disagreement', 'elaboration', 'elaboration'), 1),\n",
       " (('answer', 'elaboration', 'appreciation'), 1),\n",
       " (('question', 'question', 'agreement'), 1),\n",
       " (('answer', 'question', 'disagreement'), 1),\n",
       " (('question', 'appreciation', None), 1),\n",
       " (('negativereaction', None, 'disagreement'), 1),\n",
       " (('humor', 'other', 'humor'), 1),\n",
       " (('elaboration', 'question', 'humor'), 1),\n",
       " (('answer', 'elaboration', 'disagreement'), 1),\n",
       " ((None, 'elaboration', 'negativereaction'), 1),\n",
       " (('answer', 'disagreement', 'agreement'), 1),\n",
       " (('answer', 'negativereaction', None), 1),\n",
       " ((None, 'elaboration', 'question'), 1),\n",
       " (('disagreement', 'disagreement', 'elaboration'), 1),\n",
       " (('elaboration', 'agreement', 'disagreement'), 1),\n",
       " (('agreement', 'question', 'question'), 1),\n",
       " (('humor', 'elaboration', None), 1),\n",
       " (('answer', 'question', 'elaboration'), 1),\n",
       " (('answer', 'disagreement', 'appreciation'), 1),\n",
       " (('humor', 'negativereaction', None), 1),\n",
       " ((None, 'humor', 'disagreement'), 1),\n",
       " ((None, 'answer', 'humor'), 1),\n",
       " (('appreciation', 'negativereaction', 'other'), 1),\n",
       " (('question', 'humor', 'question'), 1),\n",
       " (('negativereaction', 'humor', 'humor'), 1),\n",
       " (('disagreement', 'negativereaction', 'question'), 1),\n",
       " (('question', 'elaboration', 'disagreement'), 1),\n",
       " ((None, 'negativereaction', 'appreciation'), 1),\n",
       " (('humor', 'humor', 'elaboration'), 1),\n",
       " (('elaboration', 'humor', None), 1),\n",
       " (('disagreement', 'elaboration', 'agreement'), 1),\n",
       " (('agreement', 'elaboration', 'agreement'), 1),\n",
       " (('agreement', 'agreement', 'elaboration'), 1),\n",
       " (('appreciation', 'disagreement', 'elaboration'), 1),\n",
       " (('agreement', None, 'appreciation'), 1),\n",
       " (('question', 'other', 'other'), 1),\n",
       " (('disagreement', 'agreement', 'elaboration'), 1),\n",
       " (('disagreement', 'answer', 'negativereaction'), 1),\n",
       " (('elaboration', 'disagreement', 'answer'), 1),\n",
       " (('other', 'question', 'other'), 1),\n",
       " (('other', 'agreement', 'other'), 1),\n",
       " (('question', 'elaboration', 'question'), 1),\n",
       " (('other', 'answer', 'appreciation'), 1),\n",
       " (('answer', None, 'negativereaction'), 1),\n",
       " (('humor', None, None), 1),\n",
       " (('disagreement', 'elaboration', 'appreciation'), 1),\n",
       " (('disagreement', 'answer', 'agreement'), 1),\n",
       " ((None, 'appreciation', 'elaboration'), 1),\n",
       " (('answer', 'appreciation', 'elaboration'), 1),\n",
       " (('agreement', 'agreement', 'question'), 1),\n",
       " ((None, 'agreement', 'answer'), 1),\n",
       " (('disagreement', 'agreement', 'answer'), 1),\n",
       " ((None, 'elaboration', 'appreciation'), 1),\n",
       " (('answer', None, 'answer'), 1),\n",
       " (('answer', 'humor', 'agreement'), 1),\n",
       " (('elaboration', 'disagreement', 'appreciation'), 1),\n",
       " (('agreement', 'agreement', None), 1),\n",
       " (('other', 'other', None), 1),\n",
       " (('agreement', None, 'elaboration'), 1),\n",
       " (('answer', 'question', 'other'), 1),\n",
       " (('elaboration', 'disagreement', 'disagreement'), 1),\n",
       " (('question', None, 'other'), 1),\n",
       " (('disagreement', 'other', 'humor'), 1),\n",
       " (('appreciation', 'other', 'other'), 1),\n",
       " (('answer', 'appreciation', 'agreement'), 1),\n",
       " (('elaboration', 'appreciation', 'other'), 1),\n",
       " (('other', None, 'elaboration'), 1),\n",
       " (('other', 'elaboration', None), 1),\n",
       " (('agreement', None, None), 1),\n",
       " (('appreciation', 'appreciation', 'question'), 1),\n",
       " (('humor', None, 'other'), 1),\n",
       " (('answer', 'negativereaction', 'negativereaction'), 1),\n",
       " (('question', 'negativereaction', 'question'), 1),\n",
       " (('answer', 'other', None), 1),\n",
       " (('appreciation', 'question', 'agreement'), 1),\n",
       " ((None, 'disagreement', 'negativereaction'), 1),\n",
       " (('agreement', 'elaboration', None), 1),\n",
       " (('appreciation', 'agreement', 'elaboration'), 1),\n",
       " (('negativereaction', 'elaboration', 'other'), 1),\n",
       " (('elaboration', 'answer', 'disagreement'), 1),\n",
       " (('elaboration', 'disagreement', 'elaboration'), 1),\n",
       " (('appreciation', None, 'appreciation'), 1),\n",
       " (('agreement', 'answer', None), 1),\n",
       " ((None, 'answer', 'other'), 1),\n",
       " (('negativereaction', 'appreciation', 'answer'), 1),\n",
       " (('negativereaction', 'disagreement', 'agreement'), 1),\n",
       " (('other', 'appreciation', 'elaboration'), 1),\n",
       " (('question', 'other', 'negativereaction'), 1),\n",
       " (('other', 'appreciation', 'agreement'), 1),\n",
       " (('question', 'humor', 'humor'), 1),\n",
       " (('question', 'negativereaction', None), 1),\n",
       " (('elaboration', 'other', None), 1),\n",
       " (('elaboration', 'question', 'disagreement'), 1),\n",
       " ((None, 'negativereaction', 'agreement'), 1),\n",
       " (('appreciation', 'elaboration', 'humor'), 1),\n",
       " (('question', 'humor', 'appreciation'), 1),\n",
       " (('elaboration', 'negativereaction', 'agreement'), 1),\n",
       " (('elaboration', 'disagreement', 'humor'), 1),\n",
       " (('negativereaction', 'negativereaction', 'disagreement'), 1),\n",
       " (('other', 'negativereaction', None), 1),\n",
       " (('answer', 'other', 'answer'), 1),\n",
       " (('humor', 'elaboration', 'question'), 1),\n",
       " ((None, 'agreement', 'appreciation'), 1),\n",
       " (('answer', 'appreciation', None), 1),\n",
       " (('elaboration', 'elaboration', 'humor'), 1),\n",
       " ((None, 'other', 'appreciation'), 1),\n",
       " (('appreciation', 'question', 'elaboration'), 1),\n",
       " (('elaboration', 'other', 'appreciation'), 1),\n",
       " ((None, 'elaboration', 'disagreement'), 1),\n",
       " ((None, 'answer', 'question'), 1),\n",
       " (('appreciation', None, 'elaboration'), 1),\n",
       " (('agreement', None, 'disagreement'), 1),\n",
       " (('humor', 'humor', 'appreciation'), 1),\n",
       " (('negativereaction', 'appreciation', None), 1),\n",
       " (('disagreement', 'negativereaction', 'elaboration'), 1),\n",
       " (('negativereaction', 'elaboration', None), 1),\n",
       " (('other', 'other', 'humor'), 1),\n",
       " (('answer', 'question', 'question'), 1),\n",
       " (('negativereaction', 'negativereaction', 'answer'), 1),\n",
       " (('elaboration', 'negativereaction', 'negativereaction'), 1),\n",
       " (('negativereaction', 'answer', None), 1),\n",
       " (('answer', 'elaboration', 'humor'), 1),\n",
       " (('humor', None, 'humor'), 1),\n",
       " (('question', 'humor', None), 1),\n",
       " (('question', 'question', 'humor'), 1),\n",
       " (('appreciation', 'answer', 'appreciation'), 1),\n",
       " (('negativereaction', 'elaboration', 'elaboration'), 1),\n",
       " (('negativereaction', 'elaboration', 'agreement'), 1),\n",
       " (('negativereaction', 'elaboration', 'question'), 1),\n",
       " (('question', 'elaboration', None), 1),\n",
       " (('other', 'question', 'question'), 1),\n",
       " (('elaboration', 'negativereaction', 'humor'), 1),\n",
       " (('elaboration', 'answer', 'humor'), 1),\n",
       " ((None, 'appreciation', 'other'), 1),\n",
       " (('other', 'negativereaction', 'negativereaction'), 1),\n",
       " (('humor', 'elaboration', 'appreciation'), 1),\n",
       " (('elaboration', 'appreciation', 'agreement'), 1),\n",
       " (('other', 'disagreement', 'disagreement'), 1),\n",
       " (('agreement', 'appreciation', 'elaboration'), 1),\n",
       " ((None, 'negativereaction', 'question'), 1),\n",
       " (('answer', 'other', 'appreciation'), 1),\n",
       " (('appreciation', 'negativereaction', 'disagreement'), 1),\n",
       " (('agreement', 'appreciation', 'answer'), 1),\n",
       " (('disagreement', 'disagreement', 'agreement'), 1)]"
      ]
     },
     "execution_count": 22,
     "metadata": {},
     "output_type": "execute_result"
    }
   ],
   "source": [
    "sorted([(k, v) for k, v in Counter(labelled_incoming2to3).items()], key=lambda x: x[1], reverse=True)"
   ]
  },
  {
   "cell_type": "code",
   "execution_count": 23,
   "metadata": {},
   "outputs": [
    {
     "data": {
      "text/plain": [
       "0"
      ]
     },
     "execution_count": 23,
     "metadata": {},
     "output_type": "execute_result"
    }
   ],
   "source": [
    "Counter(labelled_incoming2to3)[('disagreement', 'agreement', 'disagreement')]"
   ]
  },
  {
   "cell_type": "code",
   "execution_count": 31,
   "metadata": {},
   "outputs": [],
   "source": [
    "aad = []\n",
    "for tm in incoming_2to3:\n",
    "    if get_labels(tm) == ('answer', 'answer', 'disagreement'):\n",
    "        aad.append(tm)"
   ]
  },
  {
   "cell_type": "code",
   "execution_count": 32,
   "metadata": {},
   "outputs": [
    {
     "data": {
      "text/plain": [
       "50"
      ]
     },
     "execution_count": 32,
     "metadata": {},
     "output_type": "execute_result"
    }
   ],
   "source": [
    "len(aad)"
   ]
  },
  {
   "cell_type": "code",
   "execution_count": 26,
   "metadata": {},
   "outputs": [
    {
     "name": "stdout",
     "output_type": "stream",
     "text": [
      "resa5xd\n",
      "    Swiftdaggers\n",
      "        canvassy\n",
      "    SubjectiveObserver\n",
      "    Monikerbored\n",
      "        Macular_Patdown\n",
      "            NDoilworker\n",
      "                Macular_Patdown\n",
      "    senorbajapanti\n",
      "        DarrenEdwards\n",
      "            senorbajapanti\n",
      "    Macular_Patdown\n",
      "        Very_legitimate\n",
      "    bkrluffy\n",
      "    [deleted]\n",
      "    [deleted]\n",
      "    murderouspanda00\n",
      "    sandstorm9991\n",
      "    DarrenEdwards\n",
      "    Very_legitimate\n"
     ]
    }
   ],
   "source": [
    "corpus.get_conversation('t3_3596sm').print_conversation_structure()"
   ]
  },
  {
   "cell_type": "code",
   "execution_count": 27,
   "metadata": {},
   "outputs": [
    {
     "data": {
      "text/plain": [
       "('Captainium', 'Sariton', '[deleted]')"
      ]
     },
     "execution_count": 27,
     "metadata": {},
     "output_type": "execute_result"
    }
   ],
   "source": [
    "aad[15].hypernodes"
   ]
  },
  {
   "cell_type": "code",
   "execution_count": 37,
   "metadata": {},
   "outputs": [],
   "source": [
    "aad[5].visualize(text_limit=10000, verbose=True)"
   ]
  },
  {
   "cell_type": "code",
   "execution_count": null,
   "metadata": {},
   "outputs": [],
   "source": []
  }
 ],
 "metadata": {
  "kernelspec": {
   "display_name": "Python 3",
   "language": "python",
   "name": "python3"
  },
  "language_info": {
   "codemirror_mode": {
    "name": "ipython",
    "version": 3
   },
   "file_extension": ".py",
   "mimetype": "text/x-python",
   "name": "python",
   "nbconvert_exporter": "python",
   "pygments_lexer": "ipython3",
   "version": "3.7.3"
  }
 },
 "nbformat": 4,
 "nbformat_minor": 2
}
