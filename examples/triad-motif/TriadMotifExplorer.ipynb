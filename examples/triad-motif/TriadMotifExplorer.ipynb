{
 "cells": [
  {
   "cell_type": "code",
   "execution_count": 1,
   "metadata": {},
   "outputs": [
    {
     "data": {
      "text/plain": [
       "'/Users/calebchiam/Documents/GitHub/Cornell-Conversational-Analysis-Toolkit'"
      ]
     },
     "execution_count": 1,
     "metadata": {},
     "output_type": "execute_result"
    }
   ],
   "source": [
    "import os\n",
    "os.getcwd()\n",
    "os.chdir(\"..\")\n",
    "os.chdir(\"..\")\n",
    "os.getcwd()"
   ]
  },
  {
   "cell_type": "code",
   "execution_count": 2,
   "metadata": {},
   "outputs": [],
   "source": [
    "import convokit\n",
    "%matplotlib inline\n",
    "import matplotlib.pyplot as plt\n",
    "import numpy as np\n",
    "import pandas as pd\n",
    "import warnings\n",
    "warnings.filterwarnings('ignore')"
   ]
  },
  {
   "cell_type": "code",
   "execution_count": 3,
   "metadata": {},
   "outputs": [
    {
     "name": "stdout",
     "output_type": "stream",
     "text": [
      "Dataset already exists at /Users/calebchiam/.convokit/downloads/reddit-corpus-small\n"
     ]
    }
   ],
   "source": [
    "corpus = convokit.Corpus(filename=convokit.download(\"reddit-corpus-small\"))"
   ]
  },
  {
   "cell_type": "code",
   "execution_count": 4,
   "metadata": {},
   "outputs": [],
   "source": [
    "threads = corpus.utterance_threads(prefix_len=10)"
   ]
  },
  {
   "cell_type": "code",
   "execution_count": null,
   "metadata": {},
   "outputs": [],
   "source": []
  },
  {
   "cell_type": "code",
   "execution_count": 5,
   "metadata": {},
   "outputs": [
    {
     "data": {
      "text/plain": [
       "<convokit.model.Corpus at 0x1292d0ac8>"
      ]
     },
     "execution_count": 5,
     "metadata": {},
     "output_type": "execute_result"
    }
   ],
   "source": [
    "hc = convokit.HyperConvo()\n",
    "hc.fit_transform(corpus)"
   ]
  },
  {
   "cell_type": "code",
   "execution_count": 6,
   "metadata": {},
   "outputs": [],
   "source": [
    "threads_motifs = hc.retrieve_texts(corpus, prefix_len=10)"
   ]
  },
  {
   "cell_type": "code",
   "execution_count": 7,
   "metadata": {},
   "outputs": [
    {
     "data": {
      "text/plain": [
       "8286"
      ]
     },
     "execution_count": 7,
     "metadata": {},
     "output_type": "execute_result"
    }
   ],
   "source": [
    "len(threads_motifs)"
   ]
  },
  {
   "cell_type": "code",
   "execution_count": 8,
   "metadata": {},
   "outputs": [
    {
     "data": {
      "text/plain": [
       "['9c716m',\n",
       " '9c8amk',\n",
       " '9ca0yk',\n",
       " '9cfz10',\n",
       " '9crqp2',\n",
       " '9d07z8',\n",
       " '9dbjxa',\n",
       " '9dhcnh',\n",
       " '9dhek8',\n",
       " '9dnnwe']"
      ]
     },
     "execution_count": 8,
     "metadata": {},
     "output_type": "execute_result"
    }
   ],
   "source": [
    "list(threads_motifs.keys())[:10]"
   ]
  },
  {
   "cell_type": "code",
   "execution_count": 10,
   "metadata": {},
   "outputs": [
    {
     "data": {
      "text/plain": [
       "{'NO_EDGE_TRIADS': [[],\n",
       "  [],\n",
       "  [],\n",
       "  [],\n",
       "  [],\n",
       "  [],\n",
       "  [],\n",
       "  [],\n",
       "  [],\n",
       "  [],\n",
       "  [],\n",
       "  [],\n",
       "  [],\n",
       "  [],\n",
       "  [],\n",
       "  [],\n",
       "  [],\n",
       "  [],\n",
       "  [],\n",
       "  []],\n",
       " 'SINGLE_EDGE_TRIADS': [],\n",
       " 'INCOMING_TRIADS': [['Lmao 🤣🤣',\n",
       "   \"Bruh, I don't even like g-dragon but his comment is accurate af in describing how you'd come off as some socially awkward neckbeard if you talked like that to a girl.\"],\n",
       "  ['Lmao 🤣🤣', 'Both ugly '],\n",
       "  [\"Bruh, I don't even like g-dragon but his comment is accurate af in describing how you'd come off as some socially awkward neckbeard if you talked like that to a girl.\",\n",
       "   'Both ugly ']],\n",
       " 'OUTGOING_TRIADS': [],\n",
       " 'DYADIC_TRIADS': [],\n",
       " 'UNIDIRECTIONAL_TRIADS': [['Lmao 🤣🤣',\n",
       "   \"How to spoil a kpop fangirl's day. Tell her you want to send her a pic of g dragon.\\n\\nShe'll be expecting something like [this](https://cdn2.i-scmp.com/sites/default/files/styles/landscape/public/images/methode/2018/01/18/482a92dc-fc0b-11e7-b2f7-03450b80c791_1280x720_135443.jpg?itok=tXZBSZ0u), but no. Send his [candid pics without makeup](https://koreaboo-cdn.storage.googleapis.com/2017/10/GDragon-Beard-01.jpg).\\n\\nAmazing what makeup can do for guys too, not just girls.\"],\n",
       "  [\"Bruh, I don't even like g-dragon but his comment is accurate af in describing how you'd come off as some socially awkward neckbeard if you talked like that to a girl.\",\n",
       "   \"How to spoil a kpop fangirl's day. Tell her you want to send her a pic of g dragon.\\n\\nShe'll be expecting something like [this](https://cdn2.i-scmp.com/sites/default/files/styles/landscape/public/images/methode/2018/01/18/482a92dc-fc0b-11e7-b2f7-03450b80c791_1280x720_135443.jpg?itok=tXZBSZ0u), but no. Send his [candid pics without makeup](https://koreaboo-cdn.storage.googleapis.com/2017/10/GDragon-Beard-01.jpg).\\n\\nAmazing what makeup can do for guys too, not just girls.\"],\n",
       "  ['Both ugly ',\n",
       "   \"How to spoil a kpop fangirl's day. Tell her you want to send her a pic of g dragon.\\n\\nShe'll be expecting something like [this](https://cdn2.i-scmp.com/sites/default/files/styles/landscape/public/images/methode/2018/01/18/482a92dc-fc0b-11e7-b2f7-03450b80c791_1280x720_135443.jpg?itok=tXZBSZ0u), but no. Send his [candid pics without makeup](https://koreaboo-cdn.storage.googleapis.com/2017/10/GDragon-Beard-01.jpg).\\n\\nAmazing what makeup can do for guys too, not just girls.\"]],\n",
       " 'INCOMING_2TO3_TRIADS': [],\n",
       " 'INCOMING_1TO3_TRIADS': [],\n",
       " 'DIRECTED_CYCLE_TRIADS': [],\n",
       " 'OUTGOING_3TO1_TRIADS': [[\"How to spoil a kpop fangirl's day. Tell her you want to send her a pic of g dragon.\\n\\nShe'll be expecting something like [this](https://cdn2.i-scmp.com/sites/default/files/styles/landscape/public/images/methode/2018/01/18/482a92dc-fc0b-11e7-b2f7-03450b80c791_1280x720_135443.jpg?itok=tXZBSZ0u), but no. Send his [candid pics without makeup](https://koreaboo-cdn.storage.googleapis.com/2017/10/GDragon-Beard-01.jpg).\\n\\nAmazing what makeup can do for guys too, not just girls.\",\n",
       "   'wat.. he looks like a random extra in a JAV',\n",
       "   'His \"candid\" pics look better leh'],\n",
       "  [\"How to spoil a kpop fangirl's day. Tell her you want to send her a pic of g dragon.\\n\\nShe'll be expecting something like [this](https://cdn2.i-scmp.com/sites/default/files/styles/landscape/public/images/methode/2018/01/18/482a92dc-fc0b-11e7-b2f7-03450b80c791_1280x720_135443.jpg?itok=tXZBSZ0u), but no. Send his [candid pics without makeup](https://koreaboo-cdn.storage.googleapis.com/2017/10/GDragon-Beard-01.jpg).\\n\\nAmazing what makeup can do for guys too, not just girls.\",\n",
       "   \"I'm sorry if that's how your interactions with friends go 😥\",\n",
       "   '“Hi Kpop girl can I send you a pic of g-dragon?”\\n\\n“Uhhh ok” (what the hell? this guy is so weird)\\n\\n“Here you go” *sends pic of g-dragon with no makeup*\\n\\n“Uhh thanks I guess” (Jesus I hope he never talks to me again)']],\n",
       " 'INCOMING_RECIPROCAL_TRIADS': [],\n",
       " 'OUTGOING_RECIPROCAL_TRIADS': [],\n",
       " 'DIRECTED_CYCLE_1TO3_TRIADS': [],\n",
       " 'DIRECIPROCAL_TRIADS': [['wat.. he looks like a random extra in a JAV',\n",
       "   'His \"candid\" pics look better leh',\n",
       "   \"I'm sorry if that's how your interactions with friends go 😥\",\n",
       "   '“Hi Kpop girl can I send you a pic of g-dragon?”\\n\\n“Uhhh ok” (what the hell? this guy is so weird)\\n\\n“Here you go” *sends pic of g-dragon with no makeup*\\n\\n“Uhh thanks I guess” (Jesus I hope he never talks to me again)']],\n",
       " 'DIRECIPROCAL_2TO3_TRIADS': [],\n",
       " 'TRIRECIPROCAL_TRIADS': []}"
      ]
     },
     "execution_count": 10,
     "metadata": {},
     "output_type": "execute_result"
    }
   ],
   "source": [
    "threads_motifs['9c716m']"
   ]
  },
  {
   "cell_type": "code",
   "execution_count": 11,
   "metadata": {},
   "outputs": [
    {
     "name": "stdout",
     "output_type": "stream",
     "text": [
      "UTTERANCE\n",
      "wat.. he looks like a random extra in a JAV\n",
      "\n",
      "\n",
      "UTTERANCE\n",
      "His \"candid\" pics look better leh\n",
      "\n",
      "\n",
      "UTTERANCE\n",
      "I'm sorry if that's how your interactions with friends go 😥\n",
      "\n",
      "\n",
      "UTTERANCE\n",
      "“Hi Kpop girl can I send you a pic of g-dragon?”\n",
      "\n",
      "“Uhhh ok” (what the hell? this guy is so weird)\n",
      "\n",
      "“Here you go” *sends pic of g-dragon with no makeup*\n",
      "\n",
      "“Uhh thanks I guess” (Jesus I hope he never talks to me again)\n",
      "\n",
      "\n",
      "\n",
      "\n",
      "~~~~~~~~~~~~~~~~~\n",
      "\n",
      "\n"
     ]
    }
   ],
   "source": [
    "for x in threads_motifs['9c716m']['DIRECIPROCAL_TRIADS']:\n",
    "    for utt in x:\n",
    "        print(\"UTTERANCE\")\n",
    "        print(utt)\n",
    "        print(\"\\n\")\n",
    "    print(\"\\n\")\n",
    "    print(\"~~~~~~~~~~~~~~~~~\")\n",
    "    print(\"\\n\")"
   ]
  },
  {
   "cell_type": "code",
   "execution_count": 12,
   "metadata": {},
   "outputs": [],
   "source": [
    "def print_utterances(threads_motifs, thread_id, motif_type = None):\n",
    "    for triad_type, instances in threads_motifs[thread_id].items():\n",
    "        if motif_type is None: \n",
    "            continue\n",
    "        elif motif_type != triad_type: \n",
    "            continue\n",
    "        assert(motif_type == triad_type)\n",
    "        if len(instances) > 0:\n",
    "            print(\"========UTTERANCES for \" + triad_type + \"===========\")\n",
    "            print(\"\\n\")\n",
    "            for motif_instance in instances:\n",
    "                print(\"***********INSTANCE**************\")\n",
    "                print(\"\\n\")\n",
    "                for utt in motif_instance:\n",
    "                    print(\"UTTERANCE\")\n",
    "                    print(utt)\n",
    "                    print(\"\\n\")\n",
    "                print(\"~~~~~~~~~~~~~~~~~~~~~~~~~~~~~~~~~~~~~~~~~~~~~~~~~~~~~~~~~~~~~~~~~~~~~\")\n",
    "                print(\"\\n\")\n",
    "            return True\n",
    "        else:\n",
    "            return False\n",
    "        "
   ]
  },
  {
   "cell_type": "code",
   "execution_count": 16,
   "metadata": {},
   "outputs": [
    {
     "name": "stdout",
     "output_type": "stream",
     "text": [
      "========UTTERANCES for UNIDIRECTIONAL_TRIADS===========\n",
      "\n",
      "\n",
      "***********INSTANCE**************\n",
      "\n",
      "\n",
      "UTTERANCE\n",
      "Lmao 🤣🤣\n",
      "\n",
      "\n",
      "UTTERANCE\n",
      "How to spoil a kpop fangirl's day. Tell her you want to send her a pic of g dragon.\n",
      "\n",
      "She'll be expecting something like [this](https://cdn2.i-scmp.com/sites/default/files/styles/landscape/public/images/methode/2018/01/18/482a92dc-fc0b-11e7-b2f7-03450b80c791_1280x720_135443.jpg?itok=tXZBSZ0u), but no. Send his [candid pics without makeup](https://koreaboo-cdn.storage.googleapis.com/2017/10/GDragon-Beard-01.jpg).\n",
      "\n",
      "Amazing what makeup can do for guys too, not just girls.\n",
      "\n",
      "\n",
      "~~~~~~~~~~~~~~~~~~~~~~~~~~~~~~~~~~~~~~~~~~~~~~~~~~~~~~~~~~~~~~~~~~~~~\n",
      "\n",
      "\n",
      "***********INSTANCE**************\n",
      "\n",
      "\n",
      "UTTERANCE\n",
      "Bruh, I don't even like g-dragon but his comment is accurate af in describing how you'd come off as some socially awkward neckbeard if you talked like that to a girl.\n",
      "\n",
      "\n",
      "UTTERANCE\n",
      "How to spoil a kpop fangirl's day. Tell her you want to send her a pic of g dragon.\n",
      "\n",
      "She'll be expecting something like [this](https://cdn2.i-scmp.com/sites/default/files/styles/landscape/public/images/methode/2018/01/18/482a92dc-fc0b-11e7-b2f7-03450b80c791_1280x720_135443.jpg?itok=tXZBSZ0u), but no. Send his [candid pics without makeup](https://koreaboo-cdn.storage.googleapis.com/2017/10/GDragon-Beard-01.jpg).\n",
      "\n",
      "Amazing what makeup can do for guys too, not just girls.\n",
      "\n",
      "\n",
      "~~~~~~~~~~~~~~~~~~~~~~~~~~~~~~~~~~~~~~~~~~~~~~~~~~~~~~~~~~~~~~~~~~~~~\n",
      "\n",
      "\n",
      "***********INSTANCE**************\n",
      "\n",
      "\n",
      "UTTERANCE\n",
      "Both ugly \n",
      "\n",
      "\n",
      "UTTERANCE\n",
      "How to spoil a kpop fangirl's day. Tell her you want to send her a pic of g dragon.\n",
      "\n",
      "She'll be expecting something like [this](https://cdn2.i-scmp.com/sites/default/files/styles/landscape/public/images/methode/2018/01/18/482a92dc-fc0b-11e7-b2f7-03450b80c791_1280x720_135443.jpg?itok=tXZBSZ0u), but no. Send his [candid pics without makeup](https://koreaboo-cdn.storage.googleapis.com/2017/10/GDragon-Beard-01.jpg).\n",
      "\n",
      "Amazing what makeup can do for guys too, not just girls.\n",
      "\n",
      "\n",
      "~~~~~~~~~~~~~~~~~~~~~~~~~~~~~~~~~~~~~~~~~~~~~~~~~~~~~~~~~~~~~~~~~~~~~\n",
      "\n",
      "\n"
     ]
    }
   ],
   "source": [
    "a = print_utterances(threads_motifs, '9c716m', motif_type='UNIDIRECTIONAL_TRIADS')"
   ]
  },
  {
   "cell_type": "markdown",
   "metadata": {},
   "source": [
    "As one of the features the identified subreddits from thread_randomizer consistently differed from the norm from was: DIRECIPROCAL_2to3, let's pick any one and try to elucidate what are the key words used in a DIRECIPROCAL_2TO3 triad."
   ]
  },
  {
   "cell_type": "markdown",
   "metadata": {},
   "source": [
    "Let's try: **MensRights**"
   ]
  },
  {
   "cell_type": "code",
   "execution_count": 17,
   "metadata": {},
   "outputs": [],
   "source": [
    "def get_subreddit(threads, thread_id):\n",
    "    if thread_id not in threads:\n",
    "        return None\n",
    "    return threads[thread_id][thread_id].meta[\"subreddit\"]\n",
    "\n",
    "MensRights_threads = [thread_id for thread_id in threads if get_subreddit(threads, thread_id) == \"MensRights\"]"
   ]
  },
  {
   "cell_type": "code",
   "execution_count": 19,
   "metadata": {},
   "outputs": [
    {
     "name": "stdout",
     "output_type": "stream",
     "text": [
      "========UTTERANCES for DIRECIPROCAL_2TO3_TRIADS===========\n",
      "\n",
      "\n",
      "***********INSTANCE**************\n",
      "\n",
      "\n",
      "UTTERANCE\n",
      "Hi. I edited it a little to show it was more her yelling at my friend than the president. You are welcome to use these stories if you like. I was rant typing last night so not super paying attention. Though fun fact she really did brainwash the president to believe my friend was a pervert despite three years of seeing how good a person he was. What I mean by that is he would spew her nonsense when club members asked where my friend had gone to even if she wasn’t there to force him to say that.\n",
      "\n",
      "\n",
      "UTTERANCE\n",
      "Thanks a lot. That's really creepy. I'll add it now.\n",
      "\n",
      "\n",
      "UTTERANCE\n",
      "Reading what you wrote just really got to me. I have a lot of stories which get me pissed off at how much toxic feminism prospers in society and especially in the college scene. I only graduated college a year ago so I can remember these events extremely well. When I was in my third year my best friend was accused of rape because he rejected a girl who tried to force him to sleep with her and cheat on his girlfriend. Despite having no evidence, because there was none the police were investigating him for over a year simply because this girl said something happened that didn’t. He lost so much weight and developed really terrible anxiety because of it. It was like no matter how much he said it didn’t happen the police refused to accept it. They even got to the point where they were throwing out other claims based on her bullshit statement like he abused her even if he didn’t rape her and etc. He legit almost took a plea deal to try to make it all stop. This bitch meanwhile was playing victim and getting support from everyone, which in the end they concluded was the primary reason she kept it going so long, because she wanted attention. \n",
      "\n",
      "My second big example actually happened during the year after I graduated undergrad and now it happened at the gaming club which I founded, by my immediate successor and his crazy girlfriend who pretended to be the president over him. A different friend I have who is a super sweet guy and very inclusive saw that one of the female members was off in a corner on her own so he decided to be friendly and try to find an interest she likes. They talked about anime and music yada yada so when club ended he decided to friend her on FB so they could talk about the anime some more and she would feel she made a friend. She misinterprets it hard. Her immediate response is to report him to the club president who was probably going to just let it go until his girlfriend says my friend needs to be made an example of. She takes lead yelling at him and tells him things along the line of people like him are the type who kill girls who reject them and it was obvious he wasn’t just being nice but hitting on her and if he didn’t leave club they would call campus PD on him. I’m standing there mouth wide open while the new president doesn’t do anything but nod in agreement with her. This guy btw knows him as well for three years and was even invited to gaming club through my friend and he does nothing to defend my friends image to her, it really pissed me off to see that. I later found out it was because if he didn’t let her have her victory she wouldn’t sleep with him for awhile. I stopped talking to him in altogether after that. After that we lost over half the members and the ones that stayed dealt with her tranny over what was and wasn’t allowed to be said or done in club. I felt obligated to continue club because I started it but in the end I also had to quit because it never sat right with me what they did to my friend and what they were doing to my organization. My club is now in the hands of a weak willed president and his extreme feminist GF who hates when guys are nice to girls.\n",
      "\n",
      "\n",
      "UTTERANCE\n",
      "I'm sadly certain we all have these kinds of story. Especially the last part. Desperate men will do anything for a vagina and that can be used against them and other men with such ease. It's sad. \n",
      "\n",
      "\n",
      "UTTERANCE\n",
      "I'd really like to put those in the Our Stories section on [Menarehuman.com](https://Menarehuman.com) if you'll let me, though there are a couple of slightly confusing bits in the second section that would need a little ironing out (It's not entirely clear who is berating him). Anyone else who has any stories, feel free to tell me here or via PM. However you are comfortable.\n",
      "\n",
      "\n",
      "~~~~~~~~~~~~~~~~~~~~~~~~~~~~~~~~~~~~~~~~~~~~~~~~~~~~~~~~~~~~~~~~~~~~~\n",
      "\n",
      "\n",
      "9crdjf\n",
      "###################DISPLAYING THREAD###################\n",
      "BabaXIII\n",
      "    Silbax\n",
      "        BabaXIII\n",
      "            Hadashi_blacksky\n",
      "                Silbax\n",
      "                    Hadashi_blacksky\n",
      "                        Hadashi_blacksky\n",
      "                            Silbax\n",
      "                                Hadashi_blacksky\n",
      "                                    Hadashi_blacksky\n",
      "\n",
      "========UTTERANCES for DIRECIPROCAL_2TO3_TRIADS===========\n",
      "\n",
      "\n",
      "***********INSTANCE**************\n",
      "\n",
      "\n",
      "UTTERANCE\n",
      "That's why the crazy old lady who totally made up the encounter should be Hollywood black listed and jailed \n",
      "\n",
      "\n",
      "UTTERANCE\n",
      "The Police and CPS thought there was enough evidence to convict. Both of those are to blame also. It shouldn't have taken long to review the video footage to find the claims were completely false.\n",
      "\n",
      "What I'm getting at is, if the system was working as it was suppose to, then this case shouldn't have gone as far as it did. It should have ended during the stage when the footage is reviewed so the Police could identify a suspect in the case.\n",
      "\n",
      "Then the question is, how many have been badgered by the Police and CPS, then dragged through the courts system and found guilty. \n",
      "\n",
      "\n",
      "UTTERANCE\n",
      "Why not start by publicly shaming the crazy old lady from game of thrones who accused him? Who not petition she has her acting career ruined for falsely accusing a male. Boycott the show. Hit them in the wallet. \n",
      "\n",
      "Society let that bitch get away with it. Society can equally ruin her. \n",
      "\n",
      "\n",
      "UTTERANCE\n",
      "#WHAT THE F###\n",
      "\n",
      "&gt; Why not start by publicly shaming the crazy old lady from game of thrones who accused him?\n",
      "\n",
      "Anyone doing so from UK Jurisdiction faces **JAIL TIME**.\n",
      "\n",
      "**Do Not Encourage anyone** who is Legally Ignorant or even mentally unwell to embark upon a course of action that could have them In jail and you left pissing about outside of The UK. \n",
      "\n",
      "What you have Written is Perilously Close To Encouraging Doxxing\n",
      "\n",
      "See The Side Bar\n",
      "\n",
      "&gt;Facebook and Twitter posts must be done w/ screenshot &amp; blanked names.\n",
      "&gt;\n",
      "&gt;**Absolutely no doxxing will be tolerated.**\n",
      "&gt;\n",
      "&gt;Advocating for violence/illegal acts will be removed.\n",
      "\n",
      "\n",
      "\n",
      "\n",
      "\n",
      "UTTERANCE\n",
      "It's weird you jump to that conclusion. Maybe the implication was for the press to publish a story including her name and a photo of her.\n",
      "\n",
      "Considering that happens when anyone is accused, regardless of the validity of the claims.\n",
      "\n",
      "\n",
      "~~~~~~~~~~~~~~~~~~~~~~~~~~~~~~~~~~~~~~~~~~~~~~~~~~~~~~~~~~~~~~~~~~~~~\n",
      "\n",
      "\n",
      "9eco7c\n",
      "###################DISPLAYING THREAD###################\n",
      "Imnotmrabut\n",
      "    Artemis663\n",
      "        Wisemanner\n",
      "            Artemis663\n",
      "        Imnotmrabut\n",
      "            Clemicus\n",
      "            Artemis663\n",
      "                Imnotmrabut\n",
      "        Clemicus\n",
      "            Artemis663\n",
      "\n",
      "========UTTERANCES for DIRECIPROCAL_2TO3_TRIADS===========\n",
      "\n",
      "\n",
      "***********INSTANCE**************\n",
      "\n",
      "\n",
      "UTTERANCE\n",
      "&gt; The ghostbusters reboot was terrible.\n",
      "\n",
      "Only a slimy *misogynist* would think it wasn't the best movie ever made.\n",
      "\n",
      "\n",
      "UTTERANCE\n",
      "Considering how trivial it is, that one bothered me more than it should. When you try and tell me I'm a sexist because I don't like bad movies you've lost your mind. \n",
      "\n",
      "Reasonable people should have been able to win that one. Looking back I'm surprised there wasn't more push back.\n",
      "\n",
      "\n",
      "UTTERANCE\n",
      "&gt; arent they going to be making a Jane Bond? retarded.\n",
      "\n",
      "Having a movie about an original female 007 agent within the James Bond universe is a great idea. Simply having a \"female James Bond\" is a lousy idea. I'm something of a low-rent connoisseur of Bond films.\n",
      "\n",
      "\n",
      "UTTERANCE\n",
      "oh yeah, if it was like...008 003 005 named Hermoine Wills or some such nonsense would be great. i loved Atomic Blonde.\n",
      "\n",
      "but literally having a woman 007 named Jane Bond would be a shit show.\n",
      "\n",
      "cant you find some other avenue to \"empower\" women than to drag a timeless character through the mud?\n",
      "\n",
      "\n",
      "UTTERANCE\n",
      "The ghostbusters reboot was terrible.\n",
      "\n",
      "It really bothered me that accepting it was terrible was taken as evidence that you are misogynist. \n",
      "\n",
      "Now that the hype has died down, it would be interesting if everyone who dismissed criticism of that movie as sexism can say it wasn't a bad movie with a straight face.\n",
      "\n",
      "Funnier still is that the black character was a caricature, but there is this hierarchy of discrimination thing where a character cannot be racist if it's in a film that empowers women.\n",
      "\n",
      "\n",
      "~~~~~~~~~~~~~~~~~~~~~~~~~~~~~~~~~~~~~~~~~~~~~~~~~~~~~~~~~~~~~~~~~~~~~\n",
      "\n",
      "\n",
      "9i3b0h\n",
      "###################DISPLAYING THREAD###################\n",
      "QuietJackfruit\n",
      "    stumpdawg\n",
      "        fengpi\n",
      "            stumpdawg\n",
      "        zelda0934\n",
      "        mule_roany_mare\n",
      "            fengpi\n",
      "                mule_roany_mare\n",
      "        Man-n-Stars\n",
      "        tenchineuro\n",
      "\n",
      "========UTTERANCES for DIRECIPROCAL_2TO3_TRIADS===========\n",
      "\n",
      "\n",
      "***********INSTANCE**************\n",
      "\n",
      "\n",
      "UTTERANCE\n",
      "Man it breaks my heart tae say it. I wish I could say it gets easier, it doesn’t. As a single dad the sexism is extreme. Maybe less where you live.\n",
      "\n",
      "Shit sucks being a guy\n",
      "\n",
      "Keep fighting it will eventually happen \n",
      "\n",
      "\n",
      "UTTERANCE\n",
      "Nope, I'm pretty sure it's as bad here as it is in the rest of the world, or worse. Problem is that the court system here would only give custody to the father if the mother is a proven drug user or prostitute. \n",
      "\n",
      "I'm sure that the worst is yet to come... :/\n",
      "\n",
      "\n",
      "UTTERANCE\n",
      "7 and a half here. Finally got custody. Liberal Washington took her away. Didn’t like the idea of single father so now I’m in a second custody battle \n",
      "\n",
      "\n",
      "UTTERANCE\n",
      "Damn man. I’m going back to court as well. Supervised visits time for mom.\n",
      "\n",
      "\n",
      "UTTERANCE\n",
      "Clinical psychologist, not physicist. \n",
      "\n",
      "Btw, I'm in the same boat. She's lied to all of our common friends for over a year now after abducting my son to another country. I have a handful of friends left here and the rest of my aquaintances think I'm a monster. It sucks but I'm looking forward to her trying her shit in front of a judge next month. \n",
      "\n",
      "\n",
      "~~~~~~~~~~~~~~~~~~~~~~~~~~~~~~~~~~~~~~~~~~~~~~~~~~~~~~~~~~~~~~~~~~~~~\n",
      "\n",
      "\n",
      "9jonjc\n",
      "###################DISPLAYING THREAD###################\n",
      "_Apoleo\n",
      "    Johnnyoneshot\n",
      "        DrScott88\n",
      "            Johnnyoneshot\n",
      "            Johnnyoneshot\n",
      "                DrScott88\n",
      "                    Johnnyoneshot\n",
      "                        bishopspappy\n",
      "                            DrScott88\n",
      "                                bishopspappy\n",
      "\n"
     ]
    }
   ],
   "source": [
    "from convokit.util import display_thread\n",
    "\n",
    "for thread in MensRights_threads[:100]:\n",
    "    if print_utterances(threads_motifs, thread, \"DIRECIPROCAL_2TO3_TRIADS\"):\n",
    "        print(thread)\n",
    "        print('###################DISPLAYING THREAD###################')\n",
    "        display_thread(threads, thread)\n",
    "        print()\n"
   ]
  },
  {
   "cell_type": "markdown",
   "metadata": {},
   "source": [
    "Ordering of utterances: *(C1->C2, C2->C1, C1->C3, C3->C1, C2->C3)*"
   ]
  },
  {
   "cell_type": "code",
   "execution_count": null,
   "metadata": {},
   "outputs": [],
   "source": []
  }
 ],
 "metadata": {
  "kernelspec": {
   "display_name": "Python 3",
   "language": "python",
   "name": "python3"
  },
  "language_info": {
   "codemirror_mode": {
    "name": "ipython",
    "version": 3
   },
   "file_extension": ".py",
   "mimetype": "text/x-python",
   "name": "python",
   "nbconvert_exporter": "python",
   "pygments_lexer": "ipython3",
   "version": "3.7.3"
  }
 },
 "nbformat": 4,
 "nbformat_minor": 2
}
