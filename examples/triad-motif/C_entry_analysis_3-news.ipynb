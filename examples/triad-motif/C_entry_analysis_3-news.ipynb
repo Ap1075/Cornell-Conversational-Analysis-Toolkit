{
 "cells": [
  {
   "cell_type": "code",
   "execution_count": 1,
   "metadata": {},
   "outputs": [],
   "source": [
    "import os"
   ]
  },
  {
   "cell_type": "code",
   "execution_count": 2,
   "metadata": {},
   "outputs": [],
   "source": [
    "os.chdir('../..')"
   ]
  },
  {
   "cell_type": "code",
   "execution_count": 3,
   "metadata": {},
   "outputs": [],
   "source": [
    "import convokit\n",
    "from convokit import Corpus, download, TriadMotif, Thread\n",
    "import seaborn as sns; sns.set(style=\"ticks\", color_codes=True)\n",
    "import matplotlib.pyplot as plt\n",
    "from collections import Counter\n",
    "import pandas as pd"
   ]
  },
  {
   "cell_type": "code",
   "execution_count": 4,
   "metadata": {},
   "outputs": [],
   "source": [
    "corpus = Corpus(filename=\"/Users/calebchiam/Documents/datasets/news-filtered-corpus\")"
   ]
  },
  {
   "cell_type": "code",
   "execution_count": 5,
   "metadata": {},
   "outputs": [
    {
     "name": "stdout",
     "output_type": "stream",
     "text": [
      "Number of Users: 436784\n",
      "Number of Utterances: 3182961\n",
      "Number of Conversations: 208732\n"
     ]
    }
   ],
   "source": [
    "corpus.print_summary_stats()"
   ]
  },
  {
   "cell_type": "code",
   "execution_count": 6,
   "metadata": {},
   "outputs": [],
   "source": [
    "threads = corpus.utterance_threads(include_root=False)"
   ]
  },
  {
   "cell_type": "code",
   "execution_count": 7,
   "metadata": {},
   "outputs": [
    {
     "name": "stdout",
     "output_type": "stream",
     "text": [
      "502399\n"
     ]
    }
   ],
   "source": [
    "print(len(threads))"
   ]
  },
  {
   "cell_type": "markdown",
   "metadata": {},
   "source": [
    "## Initialize thread objects"
   ]
  },
  {
   "cell_type": "code",
   "execution_count": 8,
   "metadata": {},
   "outputs": [],
   "source": [
    "thread_objs = dict()\n",
    "fails = []\n",
    "for thread_id, thread_utts in threads.items():\n",
    "    thread_obj = Thread(list(thread_utts.values()))\n",
    "    if thread_obj.check_integrity(verbose=False):\n",
    "        thread_objs[thread_id] = thread_obj\n",
    "        thread_obj.annotate_depth()"
   ]
  },
  {
   "cell_type": "code",
   "execution_count": 9,
   "metadata": {},
   "outputs": [
    {
     "name": "stdout",
     "output_type": "stream",
     "text": [
      "Broken threads 6124\n"
     ]
    }
   ],
   "source": [
    "print(\"Broken threads\", len(threads) - len(thread_objs))"
   ]
  },
  {
   "cell_type": "markdown",
   "metadata": {},
   "source": [
    "## Initialize thread hypergraphs"
   ]
  },
  {
   "cell_type": "code",
   "execution_count": 10,
   "metadata": {},
   "outputs": [],
   "source": [
    "threads = corpus.utterance_threads(include_root=False)\n",
    "threads_hypergraphs = dict()\n",
    "for i, (root, thread) in enumerate(threads.items()):\n",
    "    G = convokit.HyperConvo._make_hypergraph(uts=thread)\n",
    "    threads_hypergraphs[root] = G"
   ]
  },
  {
   "cell_type": "markdown",
   "metadata": {},
   "source": [
    "## Some descriptive stats on the top-level comment threads from 1 Oct 2017 - 1 Oct 2018"
   ]
  },
  {
   "cell_type": "code",
   "execution_count": 11,
   "metadata": {},
   "outputs": [
    {
     "data": {
      "text/plain": [
       "496275"
      ]
     },
     "execution_count": 11,
     "metadata": {},
     "output_type": "execute_result"
    }
   ],
   "source": [
    "# Number of threads\n",
    "len(thread_objs)"
   ]
  },
  {
   "cell_type": "markdown",
   "metadata": {},
   "source": [
    "## Distribution of number of participants in the threads"
   ]
  },
  {
   "cell_type": "code",
   "execution_count": 12,
   "metadata": {},
   "outputs": [],
   "source": [
    "from collections import defaultdict\n",
    "threads_num_users = defaultdict(int)\n",
    "for thread_id, hg in threads_hypergraphs.items():\n",
    "    threads_num_users[len(hg.hypernodes)] += 1"
   ]
  },
  {
   "cell_type": "code",
   "execution_count": 13,
   "metadata": {},
   "outputs": [
    {
     "data": {
      "text/plain": [
       "[(1, 337217),\n",
       " (2, 63175),\n",
       " (3, 29811),\n",
       " (4, 16947),\n",
       " (5, 10768),\n",
       " (6, 7541),\n",
       " (7, 5471),\n",
       " (8, 4092),\n",
       " (9, 3326),\n",
       " (10, 2674),\n",
       " (11, 2218),\n",
       " (12, 1815),\n",
       " (13, 1462),\n",
       " (14, 1245),\n",
       " (15, 1067),\n",
       " (16, 899),\n",
       " (17, 792),\n",
       " (18, 694),\n",
       " (19, 624),\n",
       " (20, 568),\n",
       " (21, 518),\n",
       " (22, 447),\n",
       " (23, 432),\n",
       " (24, 360),\n",
       " (25, 340),\n",
       " (26, 320),\n",
       " (27, 291),\n",
       " (28, 295),\n",
       " (29, 261),\n",
       " (30, 212)]"
      ]
     },
     "execution_count": 13,
     "metadata": {},
     "output_type": "execute_result"
    }
   ],
   "source": [
    "sorted(list(threads_num_users.items()))[:30]"
   ]
  },
  {
   "cell_type": "code",
   "execution_count": 14,
   "metadata": {},
   "outputs": [],
   "source": [
    "# convokit.display_thread(threads, 'e58r4yf')"
   ]
  },
  {
   "cell_type": "code",
   "execution_count": 15,
   "metadata": {},
   "outputs": [],
   "source": [
    "from itertools import permutations\n",
    "def identify_final_motif(hg, userA, userB, userC):\n",
    "    # We use the identities of user A, B, C (i.e. top-level-commenter, first replier, first third-party replier)\n",
    "    # to simplify the typically-difficult final motif identification step\n",
    "    num_edge_dirs = 0\n",
    "    for user_pair in permutations([userA, userB, userC], 2):\n",
    "        if len(hg.adj_in[user_pair[0]].get(user_pair[1], [])) > 0:\n",
    "            num_edge_dirs += 1\n",
    "    \n",
    "    # sanity check\n",
    "    assert 2 <= num_edge_dirs <= 6\n",
    "    if num_edge_dirs == 6:\n",
    "        return 'TRIRECIPROCAL_TRIADS'\n",
    "    elif num_edge_dirs == 5:\n",
    "        return 'DIRECIPROCAL_2TO3_TRIADS'\n",
    "    elif num_edge_dirs == 4:\n",
    "        if len(hg.adj_out[userB].get(userC, [])) == 0 and len(hg.adj_out[userC].get(userB, [])) == 0:\n",
    "            # B and C do not talk\n",
    "            return \"DIRECIPROCAL_TRIADS\"\n",
    "        elif len(hg.adj_out[userB].get(userC, [])) > 0 and len(hg.adj_out[userC].get(userB, [])) > 0:\n",
    "            # B and C talk to each other\n",
    "            return \"INCOMING_RECIPROCAL_TRIADS\"\n",
    "        elif len(hg.adj_out[userC].get(userB, [])) > 0 and len(hg.adj_out[userC].get(userA, [])) > 0 and \\\n",
    "                len(hg.adj_in[userC].get(userB, [])) == 0 and len(hg.adj_in[userC].get(userA, [])) == 0:\n",
    "            # C talks to A and B but gets no responses\n",
    "            return \"OUTGOING_RECIPROCAL_TRIADS\"\n",
    "        elif len(hg.adj_out[userB].get(userC, [])) > 0 and len(hg.adj_out[userB].get(userA, [])) > 0 and \\\n",
    "                len(hg.adj_in[userB].get(userC, [])) == 0 and len(hg.adj_in[userC].get(userA, [])) == 0:\n",
    "            # B talks to A and C but gets no response\n",
    "            return \"OUTGOING_RECIPROCAL_TRIADS\"\n",
    "        else:\n",
    "            return \"DIRECTED_CYCLE_1TO3_TRIADS\"\n",
    "    elif num_edge_dirs == 3:\n",
    "        if len(hg.adj_in[userC].get(userA, [])) > 0: # A talks to C\n",
    "            if len(hg.adj_in[userA].get(userC, [])) > 0: # C talks to A\n",
    "                return \"INCOMING_1TO3_TRIADS\"\n",
    "            else: # C does not talk to A\n",
    "                return \"DIRECTED_CYCLE_TRIADS\"\n",
    "        else: # A does not tak to C\n",
    "            if len(hg.adj_out[userC].get(userB, [])) > 0: # C talks to B\n",
    "                return \"OUTGOING_3TO1_TRIADS\"\n",
    "            else:\n",
    "                return \"INCOMING_2TO3_TRIADS\"\n",
    "    elif num_edge_dirs == 2:\n",
    "        # cannot be outgoing by definition, can only be incoming or unidirectional\n",
    "        if len(hg.adj_in[userA].get(userC, [])) > 0:\n",
    "            return 'INCOMING_TRIADS'\n",
    "        else:\n",
    "            return 'UNIDIRECTIONAL_TRIADS'\n",
    "\n",
    "        "
   ]
  },
  {
   "cell_type": "code",
   "execution_count": 16,
   "metadata": {},
   "outputs": [],
   "source": [
    "# thread_objs['e56q3vo'].utterances"
   ]
  },
  {
   "cell_type": "code",
   "execution_count": 17,
   "metadata": {},
   "outputs": [],
   "source": [
    "broken_threads = []\n",
    "one_commenter_threads = []\n",
    "two_commenter_threads = []\n",
    "three_or_more_threads = []\n",
    "for thread_id, thread_obj in thread_objs.items():\n",
    "    hg = threads_hypergraphs[thread_id]\n",
    "    if not thread_obj.check_integrity(verbose=False):\n",
    "        broken_threads.append(thread_id)\n",
    "        continue\n",
    "    userA, userB, userC = thread_obj.identify_ABC()\n",
    "    if userB is None:\n",
    "        one_commenter_threads.append(thread_id)\n",
    "    elif userC is None:\n",
    "        density = thread_obj.get_AB_density(userA, userB)\n",
    "        two_commenter_threads.append((thread_id, 'DYADIC_TRIADS', density, -1, \"nil\"))\n",
    "    else:\n",
    "        final_type = identify_final_motif(hg, thread_obj.get_user(userA), \n",
    "                                          thread_obj.get_user(userB), thread_obj.get_user(userC))\n",
    "#         print(userA, userB, userC)\n",
    "        density = thread_obj.get_AB_density_beforeC(userA, userB, userC)\n",
    "        C_depth, target = thread_obj.get_C_entrance(userA, userB, userC) \n",
    "        three_or_more_threads.append((thread_id, final_type, density, C_depth, target))\n",
    "        "
   ]
  },
  {
   "cell_type": "code",
   "execution_count": 18,
   "metadata": {},
   "outputs": [
    {
     "name": "stdout",
     "output_type": "stream",
     "text": [
      "Total threads 502399\n",
      "threads with one commenter 334198\n",
      "threads with two commenters 61757\n",
      "threads with >=3 commenters 100320\n",
      "threads with broken structure 6124\n"
     ]
    }
   ],
   "source": [
    "print(\"Total threads\", len(threads))\n",
    "print(\"threads with one commenter\", len(one_commenter_threads))\n",
    "print(\"threads with two commenters\", len(two_commenter_threads))\n",
    "print(\"threads with >=3 commenters\", len(three_or_more_threads))\n",
    "print(\"threads with broken structure\", len(threads) - len(one_commenter_threads) - len(two_commenter_threads) - len(three_or_more_threads))"
   ]
  },
  {
   "cell_type": "markdown",
   "metadata": {},
   "source": [
    "Let **C_depth** be defined as the depth of the top-level-comment tree that C's first utterance is located at. The top-level-comment has depth 1, so if C responds to the top-level-comment directly, then C_depth = 2."
   ]
  },
  {
   "cell_type": "markdown",
   "metadata": {},
   "source": [
    "Let **density** be the number of utterances directed from A to B or B to A. For non-dyadic threads (i.e. threads with >=3 users), this is the density before C first arrives. (Note: self-replies are not counted.)"
   ]
  },
  {
   "cell_type": "markdown",
   "metadata": {},
   "source": [
    "Let **C_target** be the speaker of the utterance that C first responds to."
   ]
  },
  {
   "cell_type": "code",
   "execution_count": 19,
   "metadata": {},
   "outputs": [],
   "source": [
    "df = pd.DataFrame(data=two_commenter_threads+three_or_more_threads, columns=['thread_id', 'motif_type', 'density', 'C_depth', 'C_target'])"
   ]
  },
  {
   "cell_type": "code",
   "execution_count": 20,
   "metadata": {},
   "outputs": [],
   "source": [
    "df = df.set_index('thread_id')"
   ]
  },
  {
   "cell_type": "code",
   "execution_count": 21,
   "metadata": {},
   "outputs": [
    {
     "data": {
      "text/html": [
       "<div>\n",
       "<style scoped>\n",
       "    .dataframe tbody tr th:only-of-type {\n",
       "        vertical-align: middle;\n",
       "    }\n",
       "\n",
       "    .dataframe tbody tr th {\n",
       "        vertical-align: top;\n",
       "    }\n",
       "\n",
       "    .dataframe thead th {\n",
       "        text-align: right;\n",
       "    }\n",
       "</style>\n",
       "<table border=\"1\" class=\"dataframe\">\n",
       "  <thead>\n",
       "    <tr style=\"text-align: right;\">\n",
       "      <th></th>\n",
       "      <th>motif_type</th>\n",
       "      <th>density</th>\n",
       "      <th>C_depth</th>\n",
       "      <th>C_target</th>\n",
       "    </tr>\n",
       "    <tr>\n",
       "      <th>thread_id</th>\n",
       "      <th></th>\n",
       "      <th></th>\n",
       "      <th></th>\n",
       "      <th></th>\n",
       "    </tr>\n",
       "  </thead>\n",
       "  <tbody>\n",
       "    <tr>\n",
       "      <th>c0850fv</th>\n",
       "      <td>DYADIC_TRIADS</td>\n",
       "      <td>2</td>\n",
       "      <td>-1</td>\n",
       "      <td>nil</td>\n",
       "    </tr>\n",
       "    <tr>\n",
       "      <th>c0852q8</th>\n",
       "      <td>DYADIC_TRIADS</td>\n",
       "      <td>2</td>\n",
       "      <td>-1</td>\n",
       "      <td>nil</td>\n",
       "    </tr>\n",
       "    <tr>\n",
       "      <th>c0854fo</th>\n",
       "      <td>DYADIC_TRIADS</td>\n",
       "      <td>4</td>\n",
       "      <td>-1</td>\n",
       "      <td>nil</td>\n",
       "    </tr>\n",
       "    <tr>\n",
       "      <th>c085eww</th>\n",
       "      <td>DYADIC_TRIADS</td>\n",
       "      <td>2</td>\n",
       "      <td>-1</td>\n",
       "      <td>nil</td>\n",
       "    </tr>\n",
       "    <tr>\n",
       "      <th>c085jp6</th>\n",
       "      <td>DYADIC_TRIADS</td>\n",
       "      <td>2</td>\n",
       "      <td>-1</td>\n",
       "      <td>nil</td>\n",
       "    </tr>\n",
       "  </tbody>\n",
       "</table>\n",
       "</div>"
      ],
      "text/plain": [
       "              motif_type  density  C_depth C_target\n",
       "thread_id                                          \n",
       "c0850fv    DYADIC_TRIADS        2       -1      nil\n",
       "c0852q8    DYADIC_TRIADS        2       -1      nil\n",
       "c0854fo    DYADIC_TRIADS        4       -1      nil\n",
       "c085eww    DYADIC_TRIADS        2       -1      nil\n",
       "c085jp6    DYADIC_TRIADS        2       -1      nil"
      ]
     },
     "execution_count": 21,
     "metadata": {},
     "output_type": "execute_result"
    }
   ],
   "source": [
    "df.head()"
   ]
  },
  {
   "cell_type": "code",
   "execution_count": 22,
   "metadata": {},
   "outputs": [
    {
     "data": {
      "text/plain": [
       "Counter({'DYADIC_TRIADS': 61757,\n",
       "         'DIRECIPROCAL_TRIADS': 7311,\n",
       "         'OUTGOING_3TO1_TRIADS': 13758,\n",
       "         'UNIDIRECTIONAL_TRIADS': 18019,\n",
       "         'INCOMING_TRIADS': 35058,\n",
       "         'INCOMING_2TO3_TRIADS': 11903,\n",
       "         'INCOMING_1TO3_TRIADS': 7563,\n",
       "         'INCOMING_RECIPROCAL_TRIADS': 3700,\n",
       "         'OUTGOING_RECIPROCAL_TRIADS': 665,\n",
       "         'DIRECTED_CYCLE_1TO3_TRIADS': 846,\n",
       "         'DIRECTED_CYCLE_TRIADS': 395,\n",
       "         'DIRECIPROCAL_2TO3_TRIADS': 930,\n",
       "         'TRIRECIPROCAL_TRIADS': 172})"
      ]
     },
     "execution_count": 22,
     "metadata": {},
     "output_type": "execute_result"
    }
   ],
   "source": [
    "Counter(df['motif_type'])"
   ]
  },
  {
   "cell_type": "code",
   "execution_count": 23,
   "metadata": {},
   "outputs": [
    {
     "data": {
      "text/plain": [
       "[(1, 119),\n",
       " (2, 82014),\n",
       " (3, 12645),\n",
       " (4, 3237),\n",
       " (5, 1174),\n",
       " (6, 508),\n",
       " (7, 233),\n",
       " (8, 157),\n",
       " (9, 89),\n",
       " (10, 56),\n",
       " (11, 23),\n",
       " (12, 17),\n",
       " (13, 14),\n",
       " (14, 11),\n",
       " (15, 7),\n",
       " (16, 1),\n",
       " (17, 1),\n",
       " (18, 3),\n",
       " (19, 4),\n",
       " (20, 1),\n",
       " (21, 2),\n",
       " (26, 1),\n",
       " (29, 1),\n",
       " (30, 1),\n",
       " (32, 1)]"
      ]
     },
     "execution_count": 23,
     "metadata": {},
     "output_type": "execute_result"
    }
   ],
   "source": [
    "sorted(list(Counter(df[df['motif_type'] != 'DYADIC_TRIADS']['density']).items()))[:30]"
   ]
  },
  {
   "cell_type": "code",
   "execution_count": 24,
   "metadata": {},
   "outputs": [
    {
     "data": {
      "text/plain": [
       "Counter({'nil': 61757, 'A': 64198, 'B': 36122})"
      ]
     },
     "execution_count": 24,
     "metadata": {},
     "output_type": "execute_result"
    }
   ],
   "source": [
    "Counter(df['C_target'])"
   ]
  },
  {
   "cell_type": "code",
   "execution_count": 25,
   "metadata": {},
   "outputs": [
    {
     "data": {
      "text/plain": [
       "Counter({2: 127523,\n",
       "         4: 6326,\n",
       "         3: 22836,\n",
       "         15: 26,\n",
       "         5: 2505,\n",
       "         6: 1135,\n",
       "         12: 54,\n",
       "         11: 80,\n",
       "         16: 14,\n",
       "         13: 44,\n",
       "         10: 142,\n",
       "         7: 597,\n",
       "         9: 218,\n",
       "         8: 358,\n",
       "         14: 31,\n",
       "         17: 14,\n",
       "         31: 1,\n",
       "         18: 9,\n",
       "         20: 9,\n",
       "         27: 1,\n",
       "         24: 2,\n",
       "         30: 4,\n",
       "         19: 10,\n",
       "         22: 2,\n",
       "         23: 2,\n",
       "         39: 1,\n",
       "         26: 4,\n",
       "         28: 2,\n",
       "         41: 1,\n",
       "         32: 2,\n",
       "         21: 3,\n",
       "         49: 1,\n",
       "         1: 119,\n",
       "         29: 1})"
      ]
     },
     "execution_count": 25,
     "metadata": {},
     "output_type": "execute_result"
    }
   ],
   "source": [
    "Counter(df['density'])"
   ]
  },
  {
   "cell_type": "markdown",
   "metadata": {},
   "source": [
    "## C joins vs C does not join at each density k"
   ]
  },
  {
   "cell_type": "code",
   "execution_count": 26,
   "metadata": {},
   "outputs": [],
   "source": [
    "no_dyadic_df = df[df['motif_type'] != 'DYADIC_TRIADS']"
   ]
  },
  {
   "cell_type": "code",
   "execution_count": 27,
   "metadata": {},
   "outputs": [
    {
     "data": {
      "text/plain": [
       "(100320, 4)"
      ]
     },
     "execution_count": 27,
     "metadata": {},
     "output_type": "execute_result"
    }
   ],
   "source": [
    "no_dyadic_df.shape"
   ]
  },
  {
   "cell_type": "code",
   "execution_count": 28,
   "metadata": {},
   "outputs": [],
   "source": [
    "dyadic_df = df[df['motif_type'] == 'DYADIC_TRIADS']"
   ]
  },
  {
   "cell_type": "code",
   "execution_count": 29,
   "metadata": {},
   "outputs": [],
   "source": [
    "C_joins_percent = []\n",
    "for k in range(2, 11):\n",
    "    C_join_num = no_dyadic_df[no_dyadic_df['density'] == k].shape[0]\n",
    "    C_no_join_num_dyadic = dyadic_df[dyadic_df['density'] >= k].shape[0]\n",
    "    C_no_join_num_others = no_dyadic_df[no_dyadic_df['density'] > k].shape[0]\n",
    "    C_no_join = C_no_join_num_dyadic + C_no_join_num_others\n",
    "    C_joins_percent.append(C_join_num / (C_join_num + C_no_join))"
   ]
  },
  {
   "cell_type": "code",
   "execution_count": 30,
   "metadata": {},
   "outputs": [
    {
     "data": {
      "text/plain": [
       "<matplotlib.axes._subplots.AxesSubplot at 0x1393fd1d0>"
      ]
     },
     "execution_count": 30,
     "metadata": {},
     "output_type": "execute_result"
    },
    {
     "data": {
      "image/png": "[encoded data removed]",
      "text/plain": [
       "<Figure size 432x288 with 1 Axes>"
      ]
     },
     "metadata": {
      "needs_background": "light"
     },
     "output_type": "display_data"
    }
   ],
   "source": [
    "sns.lineplot(x=range(2,11), y=C_joins_percent)"
   ]
  },
  {
   "cell_type": "markdown",
   "metadata": {},
   "source": [
    "## Which part of the thread does C join?"
   ]
  },
  {
   "cell_type": "markdown",
   "metadata": {},
   "source": [
    "### Basic counts of C's depth"
   ]
  },
  {
   "cell_type": "code",
   "execution_count": 31,
   "metadata": {},
   "outputs": [],
   "source": [
    "ctr = Counter(no_dyadic_df['C_depth'])"
   ]
  },
  {
   "cell_type": "code",
   "execution_count": 32,
   "metadata": {},
   "outputs": [],
   "source": [
    "num_instances = [ctr[x] for x in range(2, 11)]"
   ]
  },
  {
   "cell_type": "code",
   "execution_count": 33,
   "metadata": {},
   "outputs": [
    {
     "data": {
      "text/plain": [
       "<matplotlib.axes._subplots.AxesSubplot at 0x139476940>"
      ]
     },
     "execution_count": 33,
     "metadata": {},
     "output_type": "execute_result"
    },
    {
     "data": {
      "image/png": "[encoded data removed]",
      "text/plain": [
       "<Figure size 432x288 with 1 Axes>"
      ]
     },
     "metadata": {
      "needs_background": "light"
     },
     "output_type": "display_data"
    }
   ],
   "source": [
    "# Num instances against depth of comment C responds to (1 = top-level-comment)\n",
    "sns.barplot(x=list(range(1,10)), y=num_instances)"
   ]
  },
  {
   "cell_type": "markdown",
   "metadata": {},
   "source": [
    "### Plotting which part of the thread C (C's depth) joins against density before C's entrance"
   ]
  },
  {
   "cell_type": "code",
   "execution_count": 34,
   "metadata": {},
   "outputs": [
    {
     "data": {
      "text/html": [
       "<div>\n",
       "<style scoped>\n",
       "    .dataframe tbody tr th:only-of-type {\n",
       "        vertical-align: middle;\n",
       "    }\n",
       "\n",
       "    .dataframe tbody tr th {\n",
       "        vertical-align: top;\n",
       "    }\n",
       "\n",
       "    .dataframe thead th {\n",
       "        text-align: right;\n",
       "    }\n",
       "</style>\n",
       "<table border=\"1\" class=\"dataframe\">\n",
       "  <thead>\n",
       "    <tr style=\"text-align: right;\">\n",
       "      <th></th>\n",
       "      <th>C_depth</th>\n",
       "    </tr>\n",
       "    <tr>\n",
       "      <th>density</th>\n",
       "      <th></th>\n",
       "    </tr>\n",
       "  </thead>\n",
       "  <tbody>\n",
       "    <tr>\n",
       "      <th>1</th>\n",
       "      <td>2.016807</td>\n",
       "    </tr>\n",
       "    <tr>\n",
       "      <th>2</th>\n",
       "      <td>2.384142</td>\n",
       "    </tr>\n",
       "    <tr>\n",
       "      <th>3</th>\n",
       "      <td>2.889522</td>\n",
       "    </tr>\n",
       "    <tr>\n",
       "      <th>4</th>\n",
       "      <td>3.360828</td>\n",
       "    </tr>\n",
       "    <tr>\n",
       "      <th>5</th>\n",
       "      <td>3.917376</td>\n",
       "    </tr>\n",
       "    <tr>\n",
       "      <th>6</th>\n",
       "      <td>4.507874</td>\n",
       "    </tr>\n",
       "    <tr>\n",
       "      <th>7</th>\n",
       "      <td>4.969957</td>\n",
       "    </tr>\n",
       "    <tr>\n",
       "      <th>8</th>\n",
       "      <td>5.828025</td>\n",
       "    </tr>\n",
       "    <tr>\n",
       "      <th>9</th>\n",
       "      <td>5.988764</td>\n",
       "    </tr>\n",
       "    <tr>\n",
       "      <th>10</th>\n",
       "      <td>6.625000</td>\n",
       "    </tr>\n",
       "    <tr>\n",
       "      <th>11</th>\n",
       "      <td>6.000000</td>\n",
       "    </tr>\n",
       "    <tr>\n",
       "      <th>12</th>\n",
       "      <td>8.117647</td>\n",
       "    </tr>\n",
       "    <tr>\n",
       "      <th>13</th>\n",
       "      <td>8.428571</td>\n",
       "    </tr>\n",
       "    <tr>\n",
       "      <th>14</th>\n",
       "      <td>8.545455</td>\n",
       "    </tr>\n",
       "    <tr>\n",
       "      <th>15</th>\n",
       "      <td>9.142857</td>\n",
       "    </tr>\n",
       "    <tr>\n",
       "      <th>16</th>\n",
       "      <td>10.000000</td>\n",
       "    </tr>\n",
       "    <tr>\n",
       "      <th>17</th>\n",
       "      <td>2.000000</td>\n",
       "    </tr>\n",
       "    <tr>\n",
       "      <th>18</th>\n",
       "      <td>9.333333</td>\n",
       "    </tr>\n",
       "    <tr>\n",
       "      <th>19</th>\n",
       "      <td>13.000000</td>\n",
       "    </tr>\n",
       "    <tr>\n",
       "      <th>20</th>\n",
       "      <td>21.000000</td>\n",
       "    </tr>\n",
       "    <tr>\n",
       "      <th>21</th>\n",
       "      <td>12.000000</td>\n",
       "    </tr>\n",
       "    <tr>\n",
       "      <th>26</th>\n",
       "      <td>20.000000</td>\n",
       "    </tr>\n",
       "    <tr>\n",
       "      <th>29</th>\n",
       "      <td>13.000000</td>\n",
       "    </tr>\n",
       "    <tr>\n",
       "      <th>30</th>\n",
       "      <td>7.000000</td>\n",
       "    </tr>\n",
       "    <tr>\n",
       "      <th>32</th>\n",
       "      <td>32.000000</td>\n",
       "    </tr>\n",
       "  </tbody>\n",
       "</table>\n",
       "</div>"
      ],
      "text/plain": [
       "           C_depth\n",
       "density           \n",
       "1         2.016807\n",
       "2         2.384142\n",
       "3         2.889522\n",
       "4         3.360828\n",
       "5         3.917376\n",
       "6         4.507874\n",
       "7         4.969957\n",
       "8         5.828025\n",
       "9         5.988764\n",
       "10        6.625000\n",
       "11        6.000000\n",
       "12        8.117647\n",
       "13        8.428571\n",
       "14        8.545455\n",
       "15        9.142857\n",
       "16       10.000000\n",
       "17        2.000000\n",
       "18        9.333333\n",
       "19       13.000000\n",
       "20       21.000000\n",
       "21       12.000000\n",
       "26       20.000000\n",
       "29       13.000000\n",
       "30        7.000000\n",
       "32       32.000000"
      ]
     },
     "execution_count": 34,
     "metadata": {},
     "output_type": "execute_result"
    }
   ],
   "source": [
    "no_dyadic_df.groupby('density').mean()"
   ]
  },
  {
   "cell_type": "code",
   "execution_count": 35,
   "metadata": {},
   "outputs": [],
   "source": [
    "y = no_dyadic_df.groupby('density').mean().values[1:10].flatten() # exclude density == 1 (edge cases)"
   ]
  },
  {
   "cell_type": "code",
   "execution_count": 36,
   "metadata": {},
   "outputs": [],
   "source": [
    "x = range(2, 11)"
   ]
  },
  {
   "cell_type": "code",
   "execution_count": 37,
   "metadata": {},
   "outputs": [
    {
     "data": {
      "text/plain": [
       "Text(0.5, 1.0, 'C_depth against density')"
      ]
     },
     "execution_count": 37,
     "metadata": {},
     "output_type": "execute_result"
    },
    {
     "data": {
      "image/png": "[encoded data removed]",
      "text/plain": [
       "<Figure size 432x288 with 1 Axes>"
      ]
     },
     "metadata": {
      "needs_background": "light"
     },
     "output_type": "display_data"
    }
   ],
   "source": [
    "# C's depth against A/B density before C enters\n",
    "sns.scatterplot(x=x, y=y).set_title('C_depth against density')"
   ]
  },
  {
   "cell_type": "code",
   "execution_count": 38,
   "metadata": {},
   "outputs": [
    {
     "data": {
      "text/plain": [
       "Text(0.5, 1.0, '(C_depth - density) against density')"
      ]
     },
     "execution_count": 38,
     "metadata": {},
     "output_type": "execute_result"
    },
    {
     "data": {
      "image/png": "[encoded data removed]",
      "text/plain": [
       "<Figure size 432x288 with 1 Axes>"
      ]
     },
     "metadata": {
      "needs_background": "light"
     },
     "output_type": "display_data"
    }
   ],
   "source": [
    "# C's depth against A/B density before C enters\n",
    "sns.scatterplot(x=x, y=y-x).set_title('(C_depth - density) against density')"
   ]
  },
  {
   "cell_type": "markdown",
   "metadata": {},
   "source": [
    "### How does C's depth on joining correlate to the final motif?"
   ]
  },
  {
   "cell_type": "code",
   "execution_count": 39,
   "metadata": {},
   "outputs": [],
   "source": [
    "triad_order = convokit.TriadMotif.get_motif_types()"
   ]
  },
  {
   "cell_type": "code",
   "execution_count": 40,
   "metadata": {},
   "outputs": [],
   "source": [
    "motif_to_Cdepth = df.groupby('motif_type')['C_depth'].mean().to_dict()"
   ]
  },
  {
   "cell_type": "code",
   "execution_count": 41,
   "metadata": {},
   "outputs": [],
   "source": [
    "y = [motif_to_Cdepth[motif] for motif in triad_order if motif in motif_to_Cdepth]"
   ]
  },
  {
   "cell_type": "code",
   "execution_count": 42,
   "metadata": {},
   "outputs": [
    {
     "data": {
      "text/plain": [
       "['NO_EDGE_TRIADS',\n",
       " 'SINGLE_EDGE_TRIADS',\n",
       " 'INCOMING_TRIADS',\n",
       " 'OUTGOING_TRIADS',\n",
       " 'DYADIC_TRIADS',\n",
       " 'UNIDIRECTIONAL_TRIADS',\n",
       " 'INCOMING_2TO3_TRIADS',\n",
       " 'DIRECTED_CYCLE_TRIADS',\n",
       " 'INCOMING_1TO3_TRIADS',\n",
       " 'OUTGOING_3TO1_TRIADS',\n",
       " 'INCOMING_RECIPROCAL_TRIADS',\n",
       " 'OUTGOING_RECIPROCAL_TRIADS',\n",
       " 'DIRECTED_CYCLE_1TO3_TRIADS',\n",
       " 'DIRECIPROCAL_TRIADS',\n",
       " 'DIRECIPROCAL_2TO3_TRIADS',\n",
       " 'TRIRECIPROCAL_TRIADS']"
      ]
     },
     "execution_count": 42,
     "metadata": {},
     "output_type": "execute_result"
    }
   ],
   "source": [
    "triad_order"
   ]
  },
  {
   "cell_type": "code",
   "execution_count": 43,
   "metadata": {},
   "outputs": [
    {
     "data": {
      "text/plain": [
       "(array([ 0,  1,  2,  3,  4,  5,  6,  7,  8,  9, 10, 11, 12]),\n",
       " <a list of 13 Text xticklabel objects>)"
      ]
     },
     "execution_count": 43,
     "metadata": {},
     "output_type": "execute_result"
    },
    {
     "data": {
      "image/png": "[encoded data removed]",
      "text/plain": [
       "<Figure size 432x288 with 1 Axes>"
      ]
     },
     "metadata": {
      "needs_background": "light"
     },
     "output_type": "display_data"
    }
   ],
   "source": [
    "sns.barplot(x=[motif for motif in triad_order if motif in motif_to_Cdepth], y=y)\n",
    "plt.title('Average C_depth for motif')\n",
    "plt.xticks(rotation=45, horizontalalignment='right')"
   ]
  },
  {
   "cell_type": "code",
   "execution_count": 44,
   "metadata": {},
   "outputs": [
    {
     "data": {
      "text/plain": [
       "{'DIRECIPROCAL_2TO3_TRIADS': 2.838709677419355,\n",
       " 'DIRECIPROCAL_TRIADS': 2.636575023936534,\n",
       " 'DIRECTED_CYCLE_1TO3_TRIADS': 2.615839243498818,\n",
       " 'DIRECTED_CYCLE_TRIADS': 3.0354430379746837,\n",
       " 'DYADIC_TRIADS': -1.0,\n",
       " 'INCOMING_1TO3_TRIADS': 2.0178500595001982,\n",
       " 'INCOMING_2TO3_TRIADS': 2.643199193480635,\n",
       " 'INCOMING_RECIPROCAL_TRIADS': 3.2375675675675675,\n",
       " 'INCOMING_TRIADS': 2.008557247989047,\n",
       " 'OUTGOING_3TO1_TRIADS': 3.106992295391772,\n",
       " 'OUTGOING_RECIPROCAL_TRIADS': 2.887218045112782,\n",
       " 'TRIRECIPROCAL_TRIADS': 3.052325581395349,\n",
       " 'UNIDIRECTIONAL_TRIADS': 3.006826127976025}"
      ]
     },
     "execution_count": 44,
     "metadata": {},
     "output_type": "execute_result"
    }
   ],
   "source": [
    "motif_to_Cdepth"
   ]
  },
  {
   "cell_type": "markdown",
   "metadata": {},
   "source": [
    "### C_target against C_depth "
   ]
  },
  {
   "cell_type": "markdown",
   "metadata": {},
   "source": [
    "Note that we expect an obvious correlation between the two."
   ]
  },
  {
   "cell_type": "code",
   "execution_count": 45,
   "metadata": {},
   "outputs": [],
   "source": [
    "C_target_grouped_by_depth = no_dyadic_df.groupby('C_depth')['C_target'].value_counts(normalize=True).unstack()"
   ]
  },
  {
   "cell_type": "code",
   "execution_count": 46,
   "metadata": {},
   "outputs": [
    {
     "data": {
      "text/plain": [
       "<matplotlib.axes._subplots.AxesSubplot at 0x13961dbe0>"
      ]
     },
     "execution_count": 46,
     "metadata": {},
     "output_type": "execute_result"
    },
    {
     "data": {
      "image/png": "[encoded data removed]",
      "text/plain": [
       "<Figure size 432x288 with 1 Axes>"
      ]
     },
     "metadata": {
      "needs_background": "light"
     },
     "output_type": "display_data"
    }
   ],
   "source": [
    "C_target_grouped_by_depth.plot(kind='bar',stacked=True)"
   ]
  },
  {
   "cell_type": "markdown",
   "metadata": {},
   "source": [
    "### Alternate view: C_depth against C_target"
   ]
  },
  {
   "cell_type": "code",
   "execution_count": 47,
   "metadata": {},
   "outputs": [],
   "source": [
    "C_depth_grouped_by_target = no_dyadic_df.groupby('C_target')['C_depth'].value_counts(normalize=True).unstack()"
   ]
  },
  {
   "cell_type": "code",
   "execution_count": 48,
   "metadata": {},
   "outputs": [
    {
     "data": {
      "text/html": [
       "<div>\n",
       "<style scoped>\n",
       "    .dataframe tbody tr th:only-of-type {\n",
       "        vertical-align: middle;\n",
       "    }\n",
       "\n",
       "    .dataframe tbody tr th {\n",
       "        vertical-align: top;\n",
       "    }\n",
       "\n",
       "    .dataframe thead th {\n",
       "        text-align: right;\n",
       "    }\n",
       "</style>\n",
       "<table border=\"1\" class=\"dataframe\">\n",
       "  <thead>\n",
       "    <tr style=\"text-align: right;\">\n",
       "      <th>C_target</th>\n",
       "      <th>A</th>\n",
       "      <th>B</th>\n",
       "    </tr>\n",
       "    <tr>\n",
       "      <th>C_depth</th>\n",
       "      <th></th>\n",
       "      <th></th>\n",
       "    </tr>\n",
       "  </thead>\n",
       "  <tbody>\n",
       "    <tr>\n",
       "      <th>2</th>\n",
       "      <td>0.906695</td>\n",
       "      <td>NaN</td>\n",
       "    </tr>\n",
       "    <tr>\n",
       "      <th>3</th>\n",
       "      <td>0.006838</td>\n",
       "      <td>0.956647</td>\n",
       "    </tr>\n",
       "    <tr>\n",
       "      <th>4</th>\n",
       "      <td>0.076669</td>\n",
       "      <td>0.005426</td>\n",
       "    </tr>\n",
       "    <tr>\n",
       "      <th>5</th>\n",
       "      <td>0.000748</td>\n",
       "      <td>0.030148</td>\n",
       "    </tr>\n",
       "    <tr>\n",
       "      <th>6</th>\n",
       "      <td>0.006589</td>\n",
       "      <td>0.000111</td>\n",
       "    </tr>\n",
       "    <tr>\n",
       "      <th>7</th>\n",
       "      <td>0.000078</td>\n",
       "      <td>0.005232</td>\n",
       "    </tr>\n",
       "    <tr>\n",
       "      <th>8</th>\n",
       "      <td>0.001542</td>\n",
       "      <td>0.000083</td>\n",
       "    </tr>\n",
       "    <tr>\n",
       "      <th>9</th>\n",
       "      <td>0.000047</td>\n",
       "      <td>0.001384</td>\n",
       "    </tr>\n",
       "    <tr>\n",
       "      <th>10</th>\n",
       "      <td>0.000452</td>\n",
       "      <td>0.000028</td>\n",
       "    </tr>\n",
       "    <tr>\n",
       "      <th>11</th>\n",
       "      <td>0.000031</td>\n",
       "      <td>0.000581</td>\n",
       "    </tr>\n",
       "    <tr>\n",
       "      <th>12</th>\n",
       "      <td>0.000125</td>\n",
       "      <td>0.000111</td>\n",
       "    </tr>\n",
       "    <tr>\n",
       "      <th>13</th>\n",
       "      <td>NaN</td>\n",
       "      <td>0.000083</td>\n",
       "    </tr>\n",
       "    <tr>\n",
       "      <th>14</th>\n",
       "      <td>0.000062</td>\n",
       "      <td>NaN</td>\n",
       "    </tr>\n",
       "    <tr>\n",
       "      <th>15</th>\n",
       "      <td>NaN</td>\n",
       "      <td>0.000138</td>\n",
       "    </tr>\n",
       "    <tr>\n",
       "      <th>16</th>\n",
       "      <td>0.000062</td>\n",
       "      <td>NaN</td>\n",
       "    </tr>\n",
       "    <tr>\n",
       "      <th>20</th>\n",
       "      <td>0.000031</td>\n",
       "      <td>NaN</td>\n",
       "    </tr>\n",
       "    <tr>\n",
       "      <th>21</th>\n",
       "      <td>NaN</td>\n",
       "      <td>0.000028</td>\n",
       "    </tr>\n",
       "    <tr>\n",
       "      <th>22</th>\n",
       "      <td>0.000016</td>\n",
       "      <td>NaN</td>\n",
       "    </tr>\n",
       "    <tr>\n",
       "      <th>32</th>\n",
       "      <td>0.000016</td>\n",
       "      <td>NaN</td>\n",
       "    </tr>\n",
       "  </tbody>\n",
       "</table>\n",
       "</div>"
      ],
      "text/plain": [
       "C_target         A         B\n",
       "C_depth                     \n",
       "2         0.906695       NaN\n",
       "3         0.006838  0.956647\n",
       "4         0.076669  0.005426\n",
       "5         0.000748  0.030148\n",
       "6         0.006589  0.000111\n",
       "7         0.000078  0.005232\n",
       "8         0.001542  0.000083\n",
       "9         0.000047  0.001384\n",
       "10        0.000452  0.000028\n",
       "11        0.000031  0.000581\n",
       "12        0.000125  0.000111\n",
       "13             NaN  0.000083\n",
       "14        0.000062       NaN\n",
       "15             NaN  0.000138\n",
       "16        0.000062       NaN\n",
       "20        0.000031       NaN\n",
       "21             NaN  0.000028\n",
       "22        0.000016       NaN\n",
       "32        0.000016       NaN"
      ]
     },
     "execution_count": 48,
     "metadata": {},
     "output_type": "execute_result"
    }
   ],
   "source": [
    "C_depth_grouped_by_target.T"
   ]
  },
  {
   "cell_type": "code",
   "execution_count": null,
   "metadata": {},
   "outputs": [],
   "source": []
  }
 ],
 "metadata": {
  "kernelspec": {
   "display_name": "Python 3",
   "language": "python",
   "name": "python3"
  },
  "language_info": {
   "codemirror_mode": {
    "name": "ipython",
    "version": 3
   },
   "file_extension": ".py",
   "mimetype": "text/x-python",
   "name": "python",
   "nbconvert_exporter": "python",
   "pygments_lexer": "ipython3",
   "version": "3.7.3"
  }
 },
 "nbformat": 4,
 "nbformat_minor": 2
}
