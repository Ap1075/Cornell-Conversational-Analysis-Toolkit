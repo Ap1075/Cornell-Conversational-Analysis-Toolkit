{
 "cells": [
  {
   "cell_type": "code",
   "execution_count": null,
   "metadata": {},
   "outputs": [],
   "source": []
  },
  {
   "cell_type": "code",
   "execution_count": 1,
   "metadata": {},
   "outputs": [],
   "source": [
    "import os\n",
    "os.getcwd()\n",
    "os.chdir(\"../..\")\n",
    "os.getcwd()"
   ]
  },
  {
   "cell_type": "markdown",
   "metadata": {},
   "source": [
    "We can use Hypergraph features for various predictive tasks:"
   ]
  },
  {
   "cell_type": "code",
   "execution_count": 2,
   "metadata": {},
   "outputs": [],
   "source": [
    "from convokit import PairedPrediction"
   ]
  },
  {
   "cell_type": "code",
   "execution_count": 3,
   "metadata": {},
   "outputs": [],
   "source": [
    "import convokit\n",
    "import pickle\n",
    "import pandas as pd\n",
    "import warnings\n",
    "warnings.filterwarnings('ignore')"
   ]
  },
  {
   "cell_type": "code",
   "execution_count": 4,
   "metadata": {},
   "outputs": [],
   "source": [
    "# os.chdir('..')"
   ]
  },
  {
   "cell_type": "code",
   "execution_count": 5,
   "metadata": {},
   "outputs": [],
   "source": [
    "# os.chdir('reddit-corpus')"
   ]
  },
  {
   "cell_type": "code",
   "execution_count": 6,
   "metadata": {},
   "outputs": [
    {
     "data": {
      "text/plain": [
       "['LICENSE.md',\n",
       " 'convokit',\n",
       " '.DS_Store',\n",
       " 'hyperconvo_feats.p',\n",
       " 'requirements.txt',\n",
       " 'dist',\n",
       " 'Makefile',\n",
       " 'website',\n",
       " 'datasets',\n",
       " 'tests',\n",
       " 'README.md',\n",
       " 'setup.py',\n",
       " '.gitignore',\n",
       " 'CONTRIBUTING.md',\n",
       " 'examples',\n",
       " 'doc',\n",
       " 'venv-triadmotif',\n",
       " 'convokit.egg-info',\n",
       " 'venv',\n",
       " '.git',\n",
       " '.idea']"
      ]
     },
     "execution_count": 6,
     "metadata": {},
     "output_type": "execute_result"
    }
   ],
   "source": [
    "os.listdir()"
   ]
  },
  {
   "cell_type": "code",
   "execution_count": 7,
   "metadata": {},
   "outputs": [
    {
     "name": "stdout",
     "output_type": "stream",
     "text": [
      "Dataset already exists at /Users/calebchiam/.convokit/downloads/reddit-corpus\n"
     ]
    }
   ],
   "source": [
    "corpus = convokit.Corpus(filename=convokit.download('reddit-corpus'))\n",
    "# corpus = convokit.Corpus(filename='reddit-corpus')"
   ]
  },
  {
   "cell_type": "code",
   "execution_count": 8,
   "metadata": {},
   "outputs": [
    {
     "data": {
      "text/plain": [
       "<convokit.model.corpus.Corpus at 0x1239101d0>"
      ]
     },
     "execution_count": 8,
     "metadata": {},
     "output_type": "execute_result"
    }
   ],
   "source": [
    "hc = convokit.HyperConvo(prefix_len=10, min_thread_len=10, include_root=False)\n",
    "hc.fit_transform(corpus)"
   ]
  },
  {
   "cell_type": "code",
   "execution_count": 9,
   "metadata": {},
   "outputs": [],
   "source": [
    "remake_cache = True\n",
    "if remake_cache:\n",
    "    with open(\"hyperconvo_feats.p\", \"wb\") as f:\n",
    "        hyperconvo_feats = {}\n",
    "        for convo in corpus.iter_conversations():\n",
    "            hyperconvo_feats.update(convo.meta[\"hyperconvo\"])\n",
    "        pickle.dump(hyperconvo_feats, f)\n",
    "else:\n",
    "    with open(\"hyperconvo_feats.p\", \"rb\") as f:\n",
    "        hyperconvo_feats = pickle.load(f)"
   ]
  },
  {
   "cell_type": "code",
   "execution_count": 10,
   "metadata": {},
   "outputs": [],
   "source": [
    "threads = corpus.utterance_threads(include_root=False)"
   ]
  },
  {
   "cell_type": "code",
   "execution_count": 11,
   "metadata": {},
   "outputs": [],
   "source": [
    "# Use only the first 10 comments in each thread\n",
    "thread_pfxs = corpus.utterance_threads(prefix_len=10, include_root=False)"
   ]
  },
  {
   "cell_type": "code",
   "execution_count": 12,
   "metadata": {},
   "outputs": [
    {
     "data": {
      "text/plain": [
       "100000"
      ]
     },
     "execution_count": 12,
     "metadata": {},
     "output_type": "execute_result"
    }
   ],
   "source": [
    "len(threads)"
   ]
  },
  {
   "cell_type": "code",
   "execution_count": 13,
   "metadata": {},
   "outputs": [
    {
     "name": "stdout",
     "output_type": "stream",
     "text": [
      "Number of Users: 521777\n",
      "Number of Utterances: 2004262\n",
      "Number of Conversations: 84979\n"
     ]
    }
   ],
   "source": [
    "corpus.print_summary_stats()"
   ]
  },
  {
   "cell_type": "code",
   "execution_count": 14,
   "metadata": {},
   "outputs": [],
   "source": [
    "from collections import defaultdict\n",
    "thread_roots_by_self_post = defaultdict(list)\n",
    "for top_level_comment, thread in threads.items():\n",
    "    rt = thread[next(iter(thread))].root\n",
    "    thread_roots_by_self_post[rt].append(top_level_comment)"
   ]
  },
  {
   "cell_type": "code",
   "execution_count": 15,
   "metadata": {},
   "outputs": [],
   "source": [
    "from sklearn.feature_extraction.text import CountVectorizer"
   ]
  },
  {
   "cell_type": "code",
   "execution_count": 16,
   "metadata": {
    "scrolled": true
   },
   "outputs": [],
   "source": [
    "hyperconvo_feats = hc.retrieve_feats(corpus)"
   ]
  },
  {
   "cell_type": "code",
   "execution_count": 17,
   "metadata": {},
   "outputs": [],
   "source": [
    "path_stats = hc.retrieve_motif_pathway_stats(corpus)"
   ]
  },
  {
   "cell_type": "code",
   "execution_count": 18,
   "metadata": {},
   "outputs": [],
   "source": [
    "motif_counts = hc.retrieve_motif_counts(corpus)"
   ]
  },
  {
   "cell_type": "code",
   "execution_count": 19,
   "metadata": {},
   "outputs": [],
   "source": [
    "threads_motifs = hc.retrieve_motifs(corpus)"
   ]
  },
  {
   "cell_type": "code",
   "execution_count": 20,
   "metadata": {},
   "outputs": [],
   "source": [
    "latent_motif_count = {thread_id: hc._latent_motif_count(motif_dict, trans=False)[0] for thread_id, motif_dict in threads_motifs.items()}"
   ]
  },
  {
   "cell_type": "code",
   "execution_count": 21,
   "metadata": {},
   "outputs": [],
   "source": [
    "hyperconv_df = pd.DataFrame.from_dict(hyperconvo_feats, orient='index')\n",
    "hyperconv_feat_names = list(hyperconv_df.columns)"
   ]
  },
  {
   "cell_type": "code",
   "execution_count": 48,
   "metadata": {},
   "outputs": [],
   "source": [
    "path_stats_df = pd.DataFrame.from_dict(path_stats, orient='index')\n",
    "columns = ['PATH-'+', '.join(filter(lambda x: type(x) == str, col)).strip() for col in path_stats_df.columns.values]\n",
    "path_stats_df.columns = columns\n",
    "path_feat_names = list(path_stats_df.columns)"
   ]
  },
  {
   "cell_type": "code",
   "execution_count": 23,
   "metadata": {},
   "outputs": [],
   "source": [
    "motif_counts_df = pd.DataFrame.from_dict(motif_counts, orient='index')\n",
    "motif_feat_names = list(motif_counts_df.columns)"
   ]
  },
  {
   "cell_type": "code",
   "execution_count": 24,
   "metadata": {},
   "outputs": [],
   "source": [
    "latentmotif_df = pd.DataFrame.from_dict(latent_motif_count, orient='index')\n",
    "latentmotif_df.columns = ['LATENT_'+c for c in latentmotif_df.columns]\n",
    "latent_motif_feat_names = list(latentmotif_df.columns)"
   ]
  },
  {
   "cell_type": "code",
   "execution_count": 25,
   "metadata": {},
   "outputs": [],
   "source": [
    "def get_num_users(thread):\n",
    "    return len(set(utt.user.name for utt in thread.values()))\n",
    "\n",
    "thread_to_usercount = dict()\n",
    "for thread_id in thread_pfxs:\n",
    "    thread_to_usercount[thread_id] = {\"num_users\": get_num_users(thread_pfxs[thread_id])}"
   ]
  },
  {
   "cell_type": "code",
   "execution_count": 26,
   "metadata": {},
   "outputs": [],
   "source": [
    "num_users_df = pd.DataFrame.from_dict(thread_to_usercount, orient='index')\n",
    "num_users_feat = ['num_users']"
   ]
  },
  {
   "cell_type": "code",
   "execution_count": 49,
   "metadata": {},
   "outputs": [],
   "source": [
    "feats_df = pd.concat([hyperconv_df, path_stats_df, motif_counts_df, latentmotif_df, num_users_df], axis=1)"
   ]
  },
  {
   "cell_type": "code",
   "execution_count": 30,
   "metadata": {},
   "outputs": [],
   "source": [
    "# first generate positive and negative examples based on task\n",
    "import random\n",
    "def generate_pos_neg(task: str, post_to_thread_obj, threads, thread_pfxs):\n",
    "    pos, neg = [], []\n",
    "    if task == \"comment-growth\":\n",
    "        for post_id, thread_roots in post_to_thread_obj.items():\n",
    "            has_pos = [root for root in thread_roots if len(threads[root]) >= 15]\n",
    "            has_neg = [root for root in thread_roots if len(threads[root]) == 10]\n",
    "            \n",
    "            if has_pos and has_neg:\n",
    "                pos.append(random.choice(has_pos))\n",
    "                neg.append(random.choice(has_neg))\n",
    "    elif task == \"commenter-growth\":\n",
    "        for post_id, thread_roots in post_to_thread_obj.items():\n",
    "            has_pos, has_neg = [], []\n",
    "            for root in thread_roots:\n",
    "                if len(threads[root]) >= 20:\n",
    "                    if len(set(c.user.name for c in threads[root].values())) >= \\\n",
    "                        len(set(c.user.name for c in thread_pfxs[root].values())) * 2:\n",
    "                            has_pos.append(root)\n",
    "                    else:\n",
    "                        has_neg.append(root)\n",
    "            if has_pos and has_neg:\n",
    "                pos.append(random.choice(has_pos))\n",
    "                neg.append(random.choice(has_neg))\n",
    "    print(\"- {} positive, {} negative pts for {} task\".format(len(pos), len(neg), task))\n",
    "    \n",
    "    return pos, neg\n"
   ]
  },
  {
   "cell_type": "code",
   "execution_count": 31,
   "metadata": {},
   "outputs": [
    {
     "name": "stdout",
     "output_type": "stream",
     "text": [
      "- 1827 positive, 1827 negative pts for comment-growth task\n"
     ]
    }
   ],
   "source": [
    "pos_comment_growth, neg_comment_growth = generate_pos_neg(\"comment-growth\", \n",
    "                                                          thread_roots_by_self_post,\n",
    "                                                          threads,\n",
    "                                                          thread_pfxs\n",
    "                                                         )"
   ]
  },
  {
   "cell_type": "code",
   "execution_count": 32,
   "metadata": {},
   "outputs": [
    {
     "name": "stdout",
     "output_type": "stream",
     "text": [
      "- 849 positive, 849 negative pts for commenter-growth task\n"
     ]
    }
   ],
   "source": [
    "pos_commenter_growth, neg_commenter_growth = generate_pos_neg(\"commenter-growth\", \n",
    "                                                          thread_roots_by_self_post,\n",
    "                                                          threads,\n",
    "                                                          thread_pfxs\n",
    "                                                         )"
   ]
  },
  {
   "cell_type": "code",
   "execution_count": 50,
   "metadata": {},
   "outputs": [
    {
     "name": "stdout",
     "output_type": "stream",
     "text": [
      "TASK: comment-growth\n",
      "\n",
      "- 1827 positive, 1827 negative pts for comment-growth task\n",
      "Feature set: hyperconvo\n",
      "Excluded 49 data point(s) that contained NaN values.\n",
      "Train accuracy: 0.6456\n",
      "Test accuracy: 0.5506\n",
      "\n",
      "TOP 5 FEATURES\n",
      "prop-nonzero[indegree over C->C mid-thread responses]: 1.245\n",
      "mean[outdegree over C->c responses]: 0.351\n",
      "mean[outdegree over C->C responses]: 0.351\n",
      "mean[indegree over C->C responses]: 0.351\n",
      "norm.max[outdegree over C->c mid-thread responses]: 0.335\n",
      "\n",
      "BOTTOM 5 FEATURES\n",
      "max[indegree over C->C responses]: -0.375\n",
      "entropy[indegree over C->C mid-thread responses]: -0.376\n",
      "entropy[indegree over C->C responses]: -0.404\n",
      "mean-nonzero[indegree over C->C responses]: -0.520\n",
      "prop-nonzero[indegree over C->C responses]: -1.022\n",
      "\n",
      "Feature set: hyperconv-usercount\n",
      "Excluded 49 data point(s) that contained NaN values.\n",
      "Train accuracy: 0.6456\n",
      "Test accuracy: 0.5506\n",
      "\n",
      "TOP 5 FEATURES\n",
      "prop-nonzero[indegree over C->C mid-thread responses]: 1.246\n",
      "mean[outdegree over C->c responses]: 0.351\n",
      "mean[outdegree over C->C responses]: 0.351\n",
      "mean[indegree over C->C responses]: 0.351\n",
      "norm.max[outdegree over C->c mid-thread responses]: 0.335\n",
      "\n",
      "BOTTOM 5 FEATURES\n",
      "norm.max[indegree over C->C responses]: -0.375\n",
      "entropy[indegree over C->C mid-thread responses]: -0.376\n",
      "entropy[indegree over C->C responses]: -0.404\n",
      "mean-nonzero[indegree over C->C responses]: -0.520\n",
      "prop-nonzero[indegree over C->C responses]: -1.022\n",
      "\n",
      "Feature set: latentmotif\n",
      "Train accuracy: 0.6201\n",
      "Test accuracy: 0.6311\n",
      "\n",
      "TOP 5 FEATURES\n",
      "LATENT_NO_EDGE_TRIADS: 0.947\n",
      "LATENT_OUTGOING_TRIADS: 0.231\n",
      "LATENT_DIRECIPROCAL_TRIADS: 0.198\n",
      "LATENT_DIRECIPROCAL_2TO3_TRIADS: 0.090\n",
      "LATENT_INCOMING_RECIPROCAL_TRIADS: 0.090\n",
      "\n",
      "BOTTOM 5 FEATURES\n",
      "LATENT_OUTGOING_RECIPROCAL_TRIADS: -0.055\n",
      "LATENT_UNIDIRECTIONAL_TRIADS: -0.111\n",
      "LATENT_SINGLE_EDGE_TRIADS: -0.140\n",
      "LATENT_DYADIC_TRIADS: -0.143\n",
      "LATENT_INCOMING_TRIADS: -0.266\n",
      "\n",
      "Feature set: latentmotif-usercount\n",
      "Train accuracy: 0.6160\n",
      "Test accuracy: 0.5929\n",
      "\n",
      "TOP 5 FEATURES\n",
      "num_users: 0.662\n",
      "LATENT_NO_EDGE_TRIADS: 0.374\n",
      "LATENT_OUTGOING_TRIADS: 0.201\n",
      "LATENT_DIRECIPROCAL_TRIADS: 0.164\n",
      "LATENT_DIRECIPROCAL_2TO3_TRIADS: 0.101\n",
      "\n",
      "BOTTOM 5 FEATURES\n",
      "LATENT_OUTGOING_RECIPROCAL_TRIADS: -0.062\n",
      "LATENT_UNIDIRECTIONAL_TRIADS: -0.143\n",
      "LATENT_SINGLE_EDGE_TRIADS: -0.159\n",
      "LATENT_DYADIC_TRIADS: -0.269\n",
      "LATENT_INCOMING_TRIADS: -0.301\n",
      "\n",
      "Feature set: motifpaths\n",
      "Train accuracy: 0.6331\n",
      "Test accuracy: 0.6120\n",
      "\n",
      "TOP 5 FEATURES\n",
      "PATH-NO_EDGE_TRIADS: 0.747\n",
      "PATH-NO_EDGE_TRIADS, SINGLE_EDGE_TRIADS, UNIDIRECTIONAL_TRIADS, DIRECTED_CYCLE_TRIADS, DIRECTED_CYCLE_1TO3_TRIADS, DIRECIPROCAL_2TO3_TRIADS: 0.260\n",
      "PATH-NO_EDGE_TRIADS, SINGLE_EDGE_TRIADS, UNIDIRECTIONAL_TRIADS, INCOMING_1TO3_TRIADS, DIRECIPROCAL_TRIADS, DIRECIPROCAL_2TO3_TRIADS, TRIRECIPROCAL_TRIADS: 0.233\n",
      "PATH-NO_EDGE_TRIADS, SINGLE_EDGE_TRIADS, OUTGOING_TRIADS, INCOMING_2TO3_TRIADS: 0.211\n",
      "PATH-NO_EDGE_TRIADS, SINGLE_EDGE_TRIADS, UNIDIRECTIONAL_TRIADS, INCOMING_2TO3_TRIADS, OUTGOING_RECIPROCAL_TRIADS, DIRECIPROCAL_2TO3_TRIADS: 0.200\n",
      "\n",
      "BOTTOM 5 FEATURES\n",
      "PATH-NO_EDGE_TRIADS, SINGLE_EDGE_TRIADS, INCOMING_TRIADS, INCOMING_2TO3_TRIADS, DIRECTED_CYCLE_1TO3_TRIADS, DIRECIPROCAL_2TO3_TRIADS, TRIRECIPROCAL_TRIADS: -0.145\n",
      "PATH-NO_EDGE_TRIADS, SINGLE_EDGE_TRIADS, INCOMING_TRIADS, INCOMING_1TO3_TRIADS, DIRECIPROCAL_TRIADS, DIRECIPROCAL_2TO3_TRIADS, TRIRECIPROCAL_TRIADS: -0.156\n",
      "PATH-NO_EDGE_TRIADS, SINGLE_EDGE_TRIADS, UNIDIRECTIONAL_TRIADS, INCOMING_1TO3_TRIADS, OUTGOING_RECIPROCAL_TRIADS: -0.160\n",
      "PATH-NO_EDGE_TRIADS, SINGLE_EDGE_TRIADS, INCOMING_TRIADS: -0.300\n",
      "PATH-NO_EDGE_TRIADS, SINGLE_EDGE_TRIADS, UNIDIRECTIONAL_TRIADS, INCOMING_2TO3_TRIADS, INCOMING_RECIPROCAL_TRIADS: -0.322\n",
      "\n",
      "Feature set: motifpaths-usercount\n",
      "Train accuracy: 0.6311\n",
      "Test accuracy: 0.5874\n",
      "\n",
      "TOP 5 FEATURES\n",
      "num_users: 0.609\n",
      "PATH-NO_EDGE_TRIADS: 0.335\n",
      "PATH-NO_EDGE_TRIADS, SINGLE_EDGE_TRIADS, UNIDIRECTIONAL_TRIADS, DIRECTED_CYCLE_TRIADS, DIRECTED_CYCLE_1TO3_TRIADS, DIRECIPROCAL_2TO3_TRIADS: 0.253\n",
      "PATH-NO_EDGE_TRIADS, SINGLE_EDGE_TRIADS, UNIDIRECTIONAL_TRIADS, INCOMING_1TO3_TRIADS, DIRECIPROCAL_TRIADS, DIRECIPROCAL_2TO3_TRIADS, TRIRECIPROCAL_TRIADS: 0.233\n",
      "PATH-NO_EDGE_TRIADS, SINGLE_EDGE_TRIADS, OUTGOING_TRIADS, INCOMING_2TO3_TRIADS: 0.225\n",
      "\n",
      "BOTTOM 5 FEATURES\n",
      "PATH-NO_EDGE_TRIADS, SINGLE_EDGE_TRIADS, INCOMING_TRIADS, INCOMING_1TO3_TRIADS, DIRECIPROCAL_TRIADS, DIRECIPROCAL_2TO3_TRIADS, TRIRECIPROCAL_TRIADS: -0.157\n",
      "PATH-NO_EDGE_TRIADS, SINGLE_EDGE_TRIADS, UNIDIRECTIONAL_TRIADS, INCOMING_1TO3_TRIADS, OUTGOING_RECIPROCAL_TRIADS: -0.159\n",
      "PATH-NO_EDGE_TRIADS, SINGLE_EDGE_TRIADS, DYADIC_TRIADS: -0.197\n",
      "PATH-NO_EDGE_TRIADS, SINGLE_EDGE_TRIADS, UNIDIRECTIONAL_TRIADS, INCOMING_2TO3_TRIADS, INCOMING_RECIPROCAL_TRIADS: -0.319\n",
      "PATH-NO_EDGE_TRIADS, SINGLE_EDGE_TRIADS, INCOMING_TRIADS: -0.349\n",
      "\n",
      "Feature set: hyperconv-motif\n",
      "Excluded 49 data point(s) that contained NaN values.\n",
      "Train accuracy: 0.6498\n",
      "Test accuracy: 0.5674\n",
      "\n",
      "TOP 5 FEATURES\n",
      "prop-nonzero[indegree over C->C mid-thread responses]: 1.271\n",
      "mean[outdegree over C->c responses]: 0.517\n",
      "mean[outdegree over C->C responses]: 0.517\n",
      "mean[indegree over C->C responses]: 0.517\n",
      "norm.max[outdegree over C->c mid-thread responses]: 0.325\n",
      "\n",
      "BOTTOM 5 FEATURES\n",
      "max[indegree over C->C responses]: -0.378\n",
      "entropy[indegree over C->C mid-thread responses]: -0.425\n",
      "entropy[indegree over C->C responses]: -0.460\n",
      "mean-nonzero[indegree over C->C responses]: -0.504\n",
      "prop-nonzero[indegree over C->C responses]: -0.798\n",
      "\n",
      "Feature set: hyperconv-paths\n",
      "Excluded 49 data point(s) that contained NaN values.\n",
      "Train accuracy: 0.6603\n",
      "Test accuracy: 0.5983\n",
      "\n",
      "TOP 5 FEATURES\n",
      "prop-nonzero[indegree over C->C mid-thread responses]: 1.341\n",
      "mean[outdegree over C->c responses]: 0.463\n",
      "mean[outdegree over C->C responses]: 0.463\n",
      "mean[indegree over C->C responses]: 0.463\n",
      "norm.max[outdegree over C->c mid-thread responses]: 0.287\n",
      "\n",
      "BOTTOM 5 FEATURES\n",
      "entropy[indegree over C->C mid-thread responses]: -0.426\n",
      "PATH-NO_EDGE_TRIADS, SINGLE_EDGE_TRIADS, INCOMING_TRIADS: -0.447\n",
      "mean-nonzero[indegree over C->C responses]: -0.490\n",
      "entropy[indegree over C->C responses]: -0.575\n",
      "prop-nonzero[indegree over C->C responses]: -0.693\n",
      "\n",
      "Feature set: hyperconv-latent\n",
      "Excluded 49 data point(s) that contained NaN values.\n",
      "Train accuracy: 0.6526\n",
      "Test accuracy: 0.5871\n",
      "\n",
      "TOP 5 FEATURES\n",
      "prop-nonzero[indegree over C->C mid-thread responses]: 1.264\n",
      "mean[outdegree over C->c responses]: 0.532\n",
      "mean[outdegree over C->C responses]: 0.532\n",
      "mean[indegree over C->C responses]: 0.532\n",
      "norm.max[outdegree over C->c mid-thread responses]: 0.323\n",
      "\n",
      "BOTTOM 5 FEATURES\n",
      "norm.max[indegree over C->C responses]: -0.389\n",
      "max[indegree over C->C responses]: -0.389\n",
      "entropy[indegree over C->C mid-thread responses]: -0.420\n",
      "mean-nonzero[indegree over C->C responses]: -0.509\n",
      "prop-nonzero[indegree over C->C responses]: -0.880\n",
      "\n",
      "Feature set: hyperconvo-motifall\n",
      "Excluded 49 data point(s) that contained NaN values.\n",
      "Train accuracy: 0.6603\n",
      "Test accuracy: 0.5955\n",
      "\n",
      "TOP 5 FEATURES\n",
      "prop-nonzero[indegree over C->C mid-thread responses]: 1.342\n",
      "mean[outdegree over C->c responses]: 0.463\n",
      "mean[outdegree over C->C responses]: 0.463\n",
      "mean[indegree over C->C responses]: 0.463\n",
      "norm.max[outdegree over C->c mid-thread responses]: 0.286\n",
      "\n",
      "BOTTOM 5 FEATURES\n",
      "PATH-NO_EDGE_TRIADS, SINGLE_EDGE_TRIADS, UNIDIRECTIONAL_TRIADS, INCOMING_2TO3_TRIADS, INCOMING_RECIPROCAL_TRIADS: -0.345\n",
      "entropy[indegree over C->C mid-thread responses]: -0.426\n",
      "mean-nonzero[indegree over C->C responses]: -0.488\n",
      "entropy[indegree over C->C responses]: -0.586\n",
      "prop-nonzero[indegree over C->C responses]: -0.682\n",
      "\n",
      "Feature set: usercount\n",
      "Train accuracy: 0.5989\n",
      "Test accuracy: 0.6066\n",
      "\n",
      "TOP 5 FEATURES\n",
      "num_users: 0.481\n",
      "\n",
      "BOTTOM 5 FEATURES\n",
      "num_users: 0.481\n",
      "\n",
      "TASK: commenter-growth\n",
      "\n",
      "- 849 positive, 849 negative pts for commenter-growth task\n",
      "Feature set: hyperconvo\n",
      "Excluded 20 data point(s) that contained NaN values.\n",
      "Train accuracy: 0.6365\n",
      "Test accuracy: 0.4940\n",
      "\n",
      "TOP 5 FEATURES\n",
      "entropy[outdegree over C->c mid-thread responses]: 0.586\n",
      "entropy[outdegree over C->C mid-thread responses]: 0.586\n",
      "norm.max[outdegree over c->c mid-thread responses]: 0.544\n",
      "norm.2nd-largest[outdegree over c->c mid-thread responses]: 0.537\n",
      "entropy[indegree over C->C mid-thread responses]: 0.440\n",
      "\n",
      "BOTTOM 5 FEATURES\n",
      "2nd-largest / max[indegree over C->c responses]: -0.455\n",
      "max[indegree over C->C mid-thread responses]: -0.517\n",
      "2nd-largest / max[indegree over C->C mid-thread responses]: -0.543\n",
      "prop-multiple[indegree over c->c mid-thread responses]: -0.621\n",
      "prop-multiple[indegree over C->c mid-thread responses]: -0.621\n",
      "\n",
      "Feature set: hyperconv-usercount\n"
     ]
    },
    {
     "name": "stdout",
     "output_type": "stream",
     "text": [
      "Excluded 20 data point(s) that contained NaN values.\n",
      "Train accuracy: 0.6425\n",
      "Test accuracy: 0.4940\n",
      "\n",
      "TOP 5 FEATURES\n",
      "entropy[outdegree over C->c mid-thread responses]: 0.578\n",
      "entropy[outdegree over C->C mid-thread responses]: 0.578\n",
      "norm.max[outdegree over c->c mid-thread responses]: 0.540\n",
      "norm.2nd-largest[outdegree over c->c mid-thread responses]: 0.534\n",
      "entropy[indegree over C->C mid-thread responses]: 0.442\n",
      "\n",
      "BOTTOM 5 FEATURES\n",
      "2nd-largest / max[indegree over C->c responses]: -0.458\n",
      "max[indegree over C->C mid-thread responses]: -0.527\n",
      "2nd-largest / max[indegree over C->C mid-thread responses]: -0.546\n",
      "prop-multiple[indegree over c->c mid-thread responses]: -0.619\n",
      "prop-multiple[indegree over C->c mid-thread responses]: -0.619\n",
      "\n",
      "Feature set: latentmotif\n",
      "Train accuracy: 0.5361\n",
      "Test accuracy: 0.4882\n",
      "\n",
      "TOP 5 FEATURES\n",
      "LATENT_INCOMING_1TO3_TRIADS: 0.451\n",
      "LATENT_SINGLE_EDGE_TRIADS: 0.292\n",
      "LATENT_DIRECTED_CYCLE_TRIADS: 0.118\n",
      "LATENT_INCOMING_2TO3_TRIADS: 0.065\n",
      "LATENT_INCOMING_TRIADS: 0.007\n",
      "\n",
      "BOTTOM 5 FEATURES\n",
      "LATENT_OUTGOING_3TO1_TRIADS: -0.075\n",
      "LATENT_TRIRECIPROCAL_TRIADS: -0.101\n",
      "LATENT_OUTGOING_TRIADS: -0.128\n",
      "LATENT_NO_EDGE_TRIADS: -0.184\n",
      "LATENT_DIRECIPROCAL_TRIADS: -0.510\n",
      "\n",
      "Feature set: latentmotif-usercount\n",
      "Train accuracy: 0.5493\n",
      "Test accuracy: 0.5000\n",
      "\n",
      "TOP 5 FEATURES\n",
      "LATENT_INCOMING_1TO3_TRIADS: 0.453\n",
      "LATENT_SINGLE_EDGE_TRIADS: 0.285\n",
      "LATENT_DIRECTED_CYCLE_TRIADS: 0.117\n",
      "num_users: 0.105\n",
      "LATENT_INCOMING_2TO3_TRIADS: 0.064\n",
      "\n",
      "BOTTOM 5 FEATURES\n",
      "LATENT_OUTGOING_3TO1_TRIADS: -0.075\n",
      "LATENT_TRIRECIPROCAL_TRIADS: -0.097\n",
      "LATENT_OUTGOING_TRIADS: -0.135\n",
      "LATENT_NO_EDGE_TRIADS: -0.274\n",
      "LATENT_DIRECIPROCAL_TRIADS: -0.512\n",
      "\n",
      "Feature set: motifpaths\n",
      "Train accuracy: 0.5538\n",
      "Test accuracy: 0.4588\n",
      "\n",
      "TOP 5 FEATURES\n",
      "PATH-NO_EDGE_TRIADS, SINGLE_EDGE_TRIADS, INCOMING_TRIADS, INCOMING_1TO3_TRIADS, OUTGOING_RECIPROCAL_TRIADS, DIRECIPROCAL_2TO3_TRIADS: 0.254\n",
      "PATH-NO_EDGE_TRIADS, SINGLE_EDGE_TRIADS: 0.249\n",
      "PATH-NO_EDGE_TRIADS, SINGLE_EDGE_TRIADS, INCOMING_TRIADS: 0.235\n",
      "PATH-NO_EDGE_TRIADS, SINGLE_EDGE_TRIADS, UNIDIRECTIONAL_TRIADS, INCOMING_1TO3_TRIADS, OUTGOING_RECIPROCAL_TRIADS: 0.208\n",
      "PATH-NO_EDGE_TRIADS, SINGLE_EDGE_TRIADS, INCOMING_TRIADS, INCOMING_1TO3_TRIADS, OUTGOING_RECIPROCAL_TRIADS: 0.203\n",
      "\n",
      "BOTTOM 5 FEATURES\n",
      "PATH-NO_EDGE_TRIADS, SINGLE_EDGE_TRIADS, INCOMING_TRIADS, INCOMING_2TO3_TRIADS, OUTGOING_RECIPROCAL_TRIADS, DIRECIPROCAL_2TO3_TRIADS, TRIRECIPROCAL_TRIADS: -0.194\n",
      "PATH-NO_EDGE_TRIADS, SINGLE_EDGE_TRIADS, OUTGOING_TRIADS: -0.201\n",
      "PATH-NO_EDGE_TRIADS, SINGLE_EDGE_TRIADS, INCOMING_TRIADS, INCOMING_2TO3_TRIADS, DIRECTED_CYCLE_1TO3_TRIADS: -0.246\n",
      "PATH-NO_EDGE_TRIADS, SINGLE_EDGE_TRIADS, UNIDIRECTIONAL_TRIADS, INCOMING_2TO3_TRIADS, INCOMING_RECIPROCAL_TRIADS: -0.324\n",
      "PATH-NO_EDGE_TRIADS: -0.325\n",
      "\n",
      "Feature set: motifpaths-usercount\n",
      "Train accuracy: 0.5552\n",
      "Test accuracy: 0.4882\n",
      "\n",
      "TOP 5 FEATURES\n",
      "PATH-NO_EDGE_TRIADS, SINGLE_EDGE_TRIADS, INCOMING_TRIADS, INCOMING_1TO3_TRIADS, OUTGOING_RECIPROCAL_TRIADS, DIRECIPROCAL_2TO3_TRIADS: 0.254\n",
      "PATH-NO_EDGE_TRIADS, SINGLE_EDGE_TRIADS: 0.228\n",
      "PATH-NO_EDGE_TRIADS, SINGLE_EDGE_TRIADS, INCOMING_TRIADS: 0.226\n",
      "PATH-NO_EDGE_TRIADS, SINGLE_EDGE_TRIADS, UNIDIRECTIONAL_TRIADS, INCOMING_1TO3_TRIADS, OUTGOING_RECIPROCAL_TRIADS: 0.209\n",
      "PATH-NO_EDGE_TRIADS, SINGLE_EDGE_TRIADS, INCOMING_TRIADS, INCOMING_1TO3_TRIADS, OUTGOING_RECIPROCAL_TRIADS: 0.203\n",
      "\n",
      "BOTTOM 5 FEATURES\n",
      "PATH-NO_EDGE_TRIADS, SINGLE_EDGE_TRIADS, INCOMING_TRIADS, INCOMING_2TO3_TRIADS, OUTGOING_RECIPROCAL_TRIADS, DIRECIPROCAL_2TO3_TRIADS, TRIRECIPROCAL_TRIADS: -0.193\n",
      "PATH-NO_EDGE_TRIADS, SINGLE_EDGE_TRIADS, OUTGOING_TRIADS: -0.212\n",
      "PATH-NO_EDGE_TRIADS, SINGLE_EDGE_TRIADS, INCOMING_TRIADS, INCOMING_2TO3_TRIADS, DIRECTED_CYCLE_1TO3_TRIADS: -0.247\n",
      "PATH-NO_EDGE_TRIADS, SINGLE_EDGE_TRIADS, UNIDIRECTIONAL_TRIADS, INCOMING_2TO3_TRIADS, INCOMING_RECIPROCAL_TRIADS: -0.323\n",
      "PATH-NO_EDGE_TRIADS: -0.382\n",
      "\n",
      "Feature set: hyperconv-motif\n",
      "Excluded 20 data point(s) that contained NaN values.\n",
      "Train accuracy: 0.6471\n",
      "Test accuracy: 0.5120\n",
      "\n",
      "TOP 5 FEATURES\n",
      "entropy[outdegree over C->c mid-thread responses]: 0.537\n",
      "entropy[outdegree over C->C mid-thread responses]: 0.537\n",
      "norm.2nd-largest[outdegree over c->c mid-thread responses]: 0.510\n",
      "norm.max[outdegree over c->c mid-thread responses]: 0.492\n",
      "entropy[indegree over C->C mid-thread responses]: 0.454\n",
      "\n",
      "BOTTOM 5 FEATURES\n",
      "2nd-largest / max[indegree over C->c responses]: -0.492\n",
      "2nd-largest / max[indegree over C->C mid-thread responses]: -0.571\n",
      "prop-multiple[indegree over c->c mid-thread responses]: -0.600\n",
      "prop-multiple[indegree over C->c mid-thread responses]: -0.600\n",
      "max[indegree over C->C mid-thread responses]: -0.645\n",
      "\n",
      "Feature set: hyperconv-paths\n",
      "Excluded 20 data point(s) that contained NaN values.\n",
      "Train accuracy: 0.6772\n",
      "Test accuracy: 0.4940\n",
      "\n",
      "TOP 5 FEATURES\n",
      "entropy[outdegree over C->c mid-thread responses]: 0.567\n",
      "entropy[outdegree over C->C mid-thread responses]: 0.567\n",
      "entropy[indegree over C->C mid-thread responses]: 0.550\n",
      "norm.2nd-largest[outdegree over c->c mid-thread responses]: 0.458\n",
      "norm.max[outdegree over c->c mid-thread responses]: 0.451\n",
      "\n",
      "BOTTOM 5 FEATURES\n",
      "2nd-largest / max[indegree over C->c responses]: -0.489\n",
      "prop-multiple[indegree over c->c mid-thread responses]: -0.574\n",
      "prop-multiple[indegree over C->c mid-thread responses]: -0.574\n",
      "max[indegree over C->C mid-thread responses]: -0.683\n",
      "2nd-largest / max[indegree over C->C mid-thread responses]: -0.716\n",
      "\n",
      "Feature set: hyperconv-latent\n",
      "Excluded 20 data point(s) that contained NaN values.\n",
      "Train accuracy: 0.6516\n",
      "Test accuracy: 0.4940\n",
      "\n",
      "TOP 5 FEATURES\n",
      "entropy[outdegree over C->c mid-thread responses]: 0.526\n",
      "entropy[outdegree over C->C mid-thread responses]: 0.526\n",
      "norm.2nd-largest[outdegree over c->c mid-thread responses]: 0.495\n",
      "norm.max[outdegree over c->c mid-thread responses]: 0.488\n",
      "entropy[indegree over C->C mid-thread responses]: 0.444\n",
      "\n",
      "BOTTOM 5 FEATURES\n",
      "2nd-largest / max[indegree over C->c responses]: -0.458\n",
      "2nd-largest / max[indegree over C->C mid-thread responses]: -0.576\n",
      "prop-multiple[indegree over c->c mid-thread responses]: -0.584\n",
      "prop-multiple[indegree over C->c mid-thread responses]: -0.584\n",
      "max[indegree over C->C mid-thread responses]: -0.653\n",
      "\n",
      "Feature set: hyperconvo-motifall\n",
      "Excluded 20 data point(s) that contained NaN values.\n",
      "Train accuracy: 0.6772\n",
      "Test accuracy: 0.4940\n",
      "\n",
      "TOP 5 FEATURES\n",
      "entropy[outdegree over C->c mid-thread responses]: 0.559\n",
      "entropy[outdegree over C->C mid-thread responses]: 0.559\n",
      "entropy[indegree over C->C mid-thread responses]: 0.547\n",
      "norm.2nd-largest[outdegree over c->c mid-thread responses]: 0.454\n",
      "norm.max[outdegree over c->c mid-thread responses]: 0.445\n",
      "\n",
      "BOTTOM 5 FEATURES\n",
      "2nd-largest / max[indegree over C->c responses]: -0.493\n",
      "prop-multiple[indegree over c->c mid-thread responses]: -0.572\n",
      "prop-multiple[indegree over C->c mid-thread responses]: -0.572\n",
      "max[indegree over C->C mid-thread responses]: -0.687\n",
      "2nd-largest / max[indegree over C->C mid-thread responses]: -0.716\n",
      "\n",
      "Feature set: usercount\n",
      "Train accuracy: 0.5376\n",
      "Test accuracy: 0.5471\n",
      "\n",
      "TOP 5 FEATURES\n",
      "num_users: 0.134\n",
      "\n",
      "BOTTOM 5 FEATURES\n",
      "num_users: 0.134\n",
      "\n"
     ]
    }
   ],
   "source": [
    "random.seed(2019)\n",
    "for task in [\"comment-growth\", \"commenter-growth\"]: #, \"post-deleted\", \"user-deleted\"\n",
    "    print(\"TASK: {}\\n\".format(task))\n",
    "    \n",
    "    pos, neg = generate_pos_neg(task, thread_roots_by_self_post, threads, thread_pfxs)\n",
    "    for feature_set, name in [(hyperconv_feat_names, \"hyperconvo\"),\n",
    "                        (hyperconv_feat_names + num_users_feat, \"hyperconv-usercount\"),\n",
    "                        (latent_motif_feat_names, \"latentmotif\"),\n",
    "                        (latent_motif_feat_names + num_users_feat, \"latentmotif-usercount\"),\n",
    "                        (path_feat_names, \"motifpaths\"),\n",
    "                        (path_feat_names + num_users_feat, \"motifpaths-usercount\"),\n",
    "                        (hyperconv_feat_names + motif_feat_names, \"hyperconv-motif\"),\n",
    "                        (hyperconv_feat_names + path_feat_names, \"hyperconv-paths\"),\n",
    "                        (hyperconv_feat_names + latent_motif_feat_names, \"hyperconv-latent\"),\n",
    "                        (hyperconv_feat_names + motif_feat_names + path_feat_names + latent_motif_feat_names, \"hyperconvo-motifall\"),\n",
    "                        (num_users_feat, \"usercount\")\n",
    "                       ]:\n",
    "        pp = PairedPrediction()\n",
    "        print(\"Feature set: {}\".format(name))\n",
    "        pp.fit_predict(feats_df[feature_set], pos, neg, test_size=0.2)\n",
    "        pp.print_extreme_coefs(feature_set, num_features=5)"
   ]
  },
  {
   "cell_type": "code",
   "execution_count": null,
   "metadata": {},
   "outputs": [],
   "source": []
  },
  {
   "cell_type": "code",
   "execution_count": null,
   "metadata": {},
   "outputs": [],
   "source": [
    "pos, neg = generate_pos_neg(\"comment-growth\", thread_roots_by_self_post, threads, thread_pfxs)"
   ]
  },
  {
   "cell_type": "code",
   "execution_count": null,
   "metadata": {},
   "outputs": [],
   "source": [
    "threads_text = dict()\n",
    "for thread_id in pos + neg:\n",
    "    threads_text[thread_id] = {\"text\": \" \".join(utt.text for utt in thread_pfxs[thread_id].values())}"
   ]
  },
  {
   "cell_type": "code",
   "execution_count": null,
   "metadata": {},
   "outputs": [],
   "source": [
    "text_df = pd.DataFrame.from_dict(threads_text).T"
   ]
  },
  {
   "cell_type": "code",
   "execution_count": null,
   "metadata": {},
   "outputs": [],
   "source": [
    "# First split the pos + neg pairs in train, test sets"
   ]
  },
  {
   "cell_type": "code",
   "execution_count": null,
   "metadata": {},
   "outputs": [],
   "source": [
    "from sklearn.model_selection import train_test_split\n",
    "pos_neg_train, pos_neg_test = train_test_split(list(zip(pos, neg)), test_size=0.2, random_state=42)"
   ]
  },
  {
   "cell_type": "code",
   "execution_count": null,
   "metadata": {},
   "outputs": [],
   "source": [
    "pos_train = [x[0] for x in pos_neg_train]\n",
    "neg_train = [x[1] for x in pos_neg_train] \n",
    "pos_test = [x[0] for x in pos_neg_test]\n",
    "neg_test = [x[1] for x in pos_neg_test]"
   ]
  },
  {
   "cell_type": "code",
   "execution_count": null,
   "metadata": {},
   "outputs": [],
   "source": [
    "# BOW vectorizer on train dataset"
   ]
  },
  {
   "cell_type": "code",
   "execution_count": null,
   "metadata": {},
   "outputs": [],
   "source": [
    "train_text_df = text_df.loc[pos_train + neg_train]"
   ]
  },
  {
   "cell_type": "code",
   "execution_count": null,
   "metadata": {},
   "outputs": [],
   "source": [
    "test_text_df = text_df.loc[pos_test + neg_test]"
   ]
  },
  {
   "cell_type": "code",
   "execution_count": null,
   "metadata": {},
   "outputs": [],
   "source": [
    "len(test_text_df)"
   ]
  },
  {
   "cell_type": "code",
   "execution_count": null,
   "metadata": {},
   "outputs": [],
   "source": [
    "cv = CountVectorizer(min_df=0.15, max_df=0.7)"
   ]
  },
  {
   "cell_type": "code",
   "execution_count": null,
   "metadata": {},
   "outputs": [],
   "source": [
    "train_text_arr = cv.fit_transform(train_text_df['text'])"
   ]
  },
  {
   "cell_type": "code",
   "execution_count": null,
   "metadata": {},
   "outputs": [],
   "source": [
    "train_text_transform_df = pd.DataFrame(train_text_arr.toarray(), columns=cv.get_feature_names(), index=train_text_df.index)"
   ]
  },
  {
   "cell_type": "code",
   "execution_count": null,
   "metadata": {},
   "outputs": [],
   "source": [
    "train_text_transform_df.head()"
   ]
  },
  {
   "cell_type": "code",
   "execution_count": null,
   "metadata": {},
   "outputs": [],
   "source": [
    "test_text_arr = cv.transform(test_text_df['text'])\n",
    "test_text_transform_df = pd.DataFrame(test_text_arr.toarray(), columns=cv.get_feature_names(), index=test_text_df.index)   \n"
   ]
  },
  {
   "cell_type": "code",
   "execution_count": null,
   "metadata": {},
   "outputs": [],
   "source": [
    "from pandas import DataFrame\n",
    "def _generate_paired_X_y(feats: DataFrame, pos_ids, neg_ids):\n",
    "\n",
    "    X, y = [], []\n",
    "    flip = True\n",
    "\n",
    "    excluded = 0\n",
    "    for idx in range(len(pos_ids)):\n",
    "        pos_feats = np.array(feats.loc[pos_ids[idx]])\n",
    "        neg_feats = np.array(feats.loc[neg_ids[idx]])\n",
    "\n",
    "        if (np.isnan(pos_feats).any() or np.isnan(neg_feats).any()):\n",
    "            excluded += 1\n",
    "            continue\n",
    "\n",
    "        if flip:\n",
    "            y.append(1)\n",
    "            diff = pos_feats - neg_feats\n",
    "        else:\n",
    "            y.append(0)\n",
    "            diff = neg_feats - pos_feats\n",
    "\n",
    "        X.append(diff)\n",
    "        flip = not flip\n",
    "\n",
    "    if excluded > 0:\n",
    "        print(\"Excluded {} data point(s) that contained NaN values.\".format(excluded))\n",
    "\n",
    "    return np.array(X), np.array(y)"
   ]
  },
  {
   "cell_type": "code",
   "execution_count": null,
   "metadata": {},
   "outputs": [],
   "source": [
    "X_train, y_train = _generate_paired_X_y(train_text_transform_df, pos_train, neg_train)"
   ]
  },
  {
   "cell_type": "code",
   "execution_count": null,
   "metadata": {},
   "outputs": [],
   "source": [
    "X_test, y_test = _generate_paired_X_y(test_text_transform_df, pos_test, neg_test)"
   ]
  },
  {
   "cell_type": "code",
   "execution_count": null,
   "metadata": {},
   "outputs": [],
   "source": [
    "from sklearn.pipeline import Pipeline\n",
    "from sklearn.preprocessing import StandardScaler\n",
    "from sklearn.linear_model import LogisticRegression\n",
    "clf = Pipeline([(\"standardScaler\", StandardScaler()), (\"logreg\", LogisticRegression(solver='liblinear'))])       "
   ]
  },
  {
   "cell_type": "code",
   "execution_count": null,
   "metadata": {},
   "outputs": [],
   "source": [
    "X_train.shape"
   ]
  },
  {
   "cell_type": "code",
   "execution_count": null,
   "metadata": {},
   "outputs": [],
   "source": []
  },
  {
   "cell_type": "code",
   "execution_count": null,
   "metadata": {},
   "outputs": [],
   "source": [
    "clf = clf.fit(X_train, y_train)"
   ]
  },
  {
   "cell_type": "code",
   "execution_count": null,
   "metadata": {},
   "outputs": [],
   "source": [
    "train_acc = clf.score(X_train, y_train)\n",
    "test_acc = clf.score(X_test, y_test)\n",
    "print(\"- {}: {:.4f} train, {:.4f} test\".format(\"cumulative_bow\", train_acc, test_acc))"
   ]
  },
  {
   "cell_type": "code",
   "execution_count": null,
   "metadata": {},
   "outputs": [],
   "source": [
    "def print_extreme_coefs(clf, feature_names, num_features: int = 5):\n",
    "    coefs = clf.named_steps['logreg'].coef_[0].tolist()\n",
    "\n",
    "    assert len(feature_names) == len(coefs)\n",
    "\n",
    "    feats_coefs = sorted(list(zip(feature_names, coefs)), key=lambda x: x[1], reverse=True)\n",
    "\n",
    "    print()\n",
    "    print(\"TOP {} FEATURES\".format(num_features))\n",
    "    for ft, coef in feats_coefs[:num_features]:\n",
    "        print(\"{}: {:.3f}\".format(ft, coef))\n",
    "    print()\n",
    "    print(\"BOTTOM {} FEATURES\".format(num_features))\n",
    "    for ft, coef in feats_coefs[-num_features:]:\n",
    "        print(\"{}: {:.3f}\".format(ft, coef))\n",
    "    print()"
   ]
  },
  {
   "cell_type": "code",
   "execution_count": null,
   "metadata": {},
   "outputs": [],
   "source": [
    "print_extreme_coefs(clf, cv.get_feature_names(), num_features=20)"
   ]
  },
  {
   "cell_type": "code",
   "execution_count": null,
   "metadata": {
    "scrolled": false
   },
   "outputs": [],
   "source": [
    "import random\n",
    "from sklearn.linear_model import LogisticRegression\n",
    "import numpy as np\n",
    "from sklearn.model_selection import train_test_split\n",
    "\n",
    "random.seed(2019)\n",
    "\n",
    "for task in [\"comment-growth\", \"commenter-growth\"]: #, \"post-deleted\", \"user-deleted\"\n",
    "    print(\"TASK: {}\\n\".format(task))\n",
    "    \n",
    "    pos, neg = generate_pos_neg(task, thread_roots_by_self_post, threads, thread_pfxs)\n",
    "\n",
    "    X, y = generate_paired_features(hyperconvo_feats, pos, neg)\n",
    "    X_motifcnt, y_motifcnt = generate_paired_features(motif_counts, pos, neg)\n",
    "    X_latent, y_latent = generate_paired_features(latent_motif_count, pos, neg)\n",
    "    X_path, y_path = generate_paired_features(path_stats, pos, neg)\n",
    "    X_hcmotif, y_hcmotif = generate_paired_features(hyperconv_motif, pos, neg)\n",
    "    X_hcpath, y_hcpath = generate_paired_features(hyperconv_paths, pos, neg)\n",
    "    X_hclatent, y_hclatent = generate_paired_features(hyperconv_latent, pos, neg)\n",
    "    X_all, y_all = generate_paired_features(hyperconv_motifall, pos, neg)\n",
    "    for X, y, feats, name in [(X, y, hyperconvo_feats, \"hyperconv\"),\n",
    "                       (X_motifcnt, y_motifcnt, motif_counts, \"motifcount\"),\n",
    "                       (X_latent, y_latent, latent_motif_count, \"latentmotif\"),\n",
    "                       (X_path, y_path, path_stats, \"motifpaths\"),\n",
    "                       (X_hcmotif, y_hcmotif, hyperconv_motif, \"hyperconv-motif\"),\n",
    "                       (X_hcpath, y_hcpath, hyperconv_paths, \"hyperconv-paths\"),\n",
    "                       (X_hclatent, y_hclatent, hyperconv_latent, \"hyperconv-latent\"),\n",
    "                       (X_all, y_all, hyperconv_motifall, \"hyperconvo-motifall\")\n",
    "                      ]:\n",
    "        X_train, X_test, y_train, y_test = train_test_split(X, y, test_size=0.2, random_state=42)\n",
    "\n",
    "        clf = Pipeline([(\"standardScaler\", StandardScaler()), (\"logreg\", LogisticRegression(solver='liblinear'))])\n",
    "        clf.fit(X_train, y_train)\n",
    "\n",
    "        train_acc = clf.score(X_train, y_train)\n",
    "        test_acc = clf.score(X_test, y_test)\n",
    "        print(\"- {}: {:.4f} train, {:.4f} test\".format(name, train_acc, test_acc))\n",
    "        print_extreme_coefs(clf, feats)"
   ]
  },
  {
   "cell_type": "code",
   "execution_count": null,
   "metadata": {},
   "outputs": [],
   "source": []
  },
  {
   "cell_type": "code",
   "execution_count": null,
   "metadata": {},
   "outputs": [],
   "source": []
  },
  {
   "cell_type": "code",
   "execution_count": null,
   "metadata": {},
   "outputs": [],
   "source": []
  }
 ],
 "metadata": {
  "kernelspec": {
   "display_name": "Python 3",
   "language": "python",
   "name": "python3"
  },
  "language_info": {
   "codemirror_mode": {
    "name": "ipython",
    "version": 3
   },
   "file_extension": ".py",
   "mimetype": "text/x-python",
   "name": "python",
   "nbconvert_exporter": "python",
   "pygments_lexer": "ipython3",
   "version": "3.7.3"
  },
  "pycharm": {
   "stem_cell": {
    "cell_type": "raw",
    "metadata": {
     "collapsed": false
    },
    "source": []
   }
  }
 },
 "nbformat": 4,
 "nbformat_minor": 2
}
