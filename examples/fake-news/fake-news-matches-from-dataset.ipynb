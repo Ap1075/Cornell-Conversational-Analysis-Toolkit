{
 "cells": [
  {
   "cell_type": "code",
   "execution_count": 1,
   "metadata": {},
   "outputs": [],
   "source": [
    "import os"
   ]
  },
  {
   "cell_type": "code",
   "execution_count": 2,
   "metadata": {},
   "outputs": [],
   "source": [
    "fake_news_dir = '/sauna/fake-news'\n",
    "news_dir = '/sauna/reddit_201810_raw/corpus/newreddits_nsfw~-~news/news/'\n",
    "donald_dir = '/sauna/reddit_201810_raw/corpus/TheTwoBeerQueers~-~The_Donald/The_Donald/'"
   ]
  },
  {
   "cell_type": "code",
   "execution_count": 4,
   "metadata": {},
   "outputs": [],
   "source": [
    "os.chdir(fake_news_dir)"
   ]
  },
  {
   "cell_type": "code",
   "execution_count": 5,
   "metadata": {},
   "outputs": [
    {
     "data": {
      "text/plain": [
       "['labels.csv',\n",
       " 'articles.db',\n",
       " '.DS_Store',\n",
       " 'titles.tar',\n",
       " 'articles.tar',\n",
       " 'articles',\n",
       " 'titles']"
      ]
     },
     "execution_count": 5,
     "metadata": {},
     "output_type": "execute_result"
    }
   ],
   "source": [
    "os.listdir()"
   ]
  },
  {
   "cell_type": "code",
   "execution_count": 6,
   "metadata": {},
   "outputs": [],
   "source": [
    "import pandas as pd"
   ]
  },
  {
   "cell_type": "code",
   "execution_count": 7,
   "metadata": {},
   "outputs": [],
   "source": [
    "df = pd.read_csv('labels.csv', index_col=0)"
   ]
  },
  {
   "cell_type": "code",
   "execution_count": 8,
   "metadata": {},
   "outputs": [
    {
     "data": {
      "text/html": [
       "<div>\n",
       "<style scoped>\n",
       "    .dataframe tbody tr th:only-of-type {\n",
       "        vertical-align: middle;\n",
       "    }\n",
       "\n",
       "    .dataframe tbody tr th {\n",
       "        vertical-align: top;\n",
       "    }\n",
       "\n",
       "    .dataframe thead th {\n",
       "        text-align: right;\n",
       "    }\n",
       "</style>\n",
       "<table border=\"1\" class=\"dataframe\">\n",
       "  <thead>\n",
       "    <tr style=\"text-align: right;\">\n",
       "      <th></th>\n",
       "      <th>NewsGuard, Does not repeatedly publish false content</th>\n",
       "      <th>NewsGuard, Gathers and presents information responsibly</th>\n",
       "      <th>NewsGuard, Regularly corrects or clarifies errors</th>\n",
       "      <th>NewsGuard, Handles the difference between news and opinion responsibly</th>\n",
       "      <th>NewsGuard, Avoids deceptive headlines</th>\n",
       "      <th>NewsGuard, Website discloses ownership and financing</th>\n",
       "      <th>NewsGuard, Clearly labels advertising</th>\n",
       "      <th>NewsGuard, Reveals who's in charge, including any possible conflicts of interest</th>\n",
       "      <th>NewsGuard, Provides information about content creators</th>\n",
       "      <th>NewsGuard, score</th>\n",
       "      <th>...</th>\n",
       "      <th>Allsides, community_agree</th>\n",
       "      <th>Allsides, community_disagree</th>\n",
       "      <th>Allsides, community_label</th>\n",
       "      <th>BuzzFeed, leaning</th>\n",
       "      <th>PolitiFact, Pants on Fire!</th>\n",
       "      <th>PolitiFact, False</th>\n",
       "      <th>PolitiFact, Mostly False</th>\n",
       "      <th>PolitiFact, Half-True</th>\n",
       "      <th>PolitiFact, Mostly True</th>\n",
       "      <th>PolitiFact, True</th>\n",
       "    </tr>\n",
       "  </thead>\n",
       "  <tbody>\n",
       "    <tr>\n",
       "      <td>21stCenturyWire</td>\n",
       "      <td>NaN</td>\n",
       "      <td>NaN</td>\n",
       "      <td>NaN</td>\n",
       "      <td>NaN</td>\n",
       "      <td>NaN</td>\n",
       "      <td>NaN</td>\n",
       "      <td>NaN</td>\n",
       "      <td>NaN</td>\n",
       "      <td>NaN</td>\n",
       "      <td>NaN</td>\n",
       "      <td>...</td>\n",
       "      <td>NaN</td>\n",
       "      <td>NaN</td>\n",
       "      <td>NaN</td>\n",
       "      <td>left</td>\n",
       "      <td>NaN</td>\n",
       "      <td>NaN</td>\n",
       "      <td>NaN</td>\n",
       "      <td>NaN</td>\n",
       "      <td>NaN</td>\n",
       "      <td>NaN</td>\n",
       "    </tr>\n",
       "    <tr>\n",
       "      <td>ABC News</td>\n",
       "      <td>0.0</td>\n",
       "      <td>0.0</td>\n",
       "      <td>0.0</td>\n",
       "      <td>0.0</td>\n",
       "      <td>0.0</td>\n",
       "      <td>0.0</td>\n",
       "      <td>0.0</td>\n",
       "      <td>1.0</td>\n",
       "      <td>0.0</td>\n",
       "      <td>95.0</td>\n",
       "      <td>...</td>\n",
       "      <td>8964.0</td>\n",
       "      <td>6949.0</td>\n",
       "      <td>somewhat agree</td>\n",
       "      <td>NaN</td>\n",
       "      <td>NaN</td>\n",
       "      <td>NaN</td>\n",
       "      <td>NaN</td>\n",
       "      <td>NaN</td>\n",
       "      <td>NaN</td>\n",
       "      <td>NaN</td>\n",
       "    </tr>\n",
       "    <tr>\n",
       "      <td>AMERICAblog News</td>\n",
       "      <td>NaN</td>\n",
       "      <td>NaN</td>\n",
       "      <td>NaN</td>\n",
       "      <td>NaN</td>\n",
       "      <td>NaN</td>\n",
       "      <td>NaN</td>\n",
       "      <td>NaN</td>\n",
       "      <td>NaN</td>\n",
       "      <td>NaN</td>\n",
       "      <td>NaN</td>\n",
       "      <td>...</td>\n",
       "      <td>NaN</td>\n",
       "      <td>NaN</td>\n",
       "      <td>NaN</td>\n",
       "      <td>left</td>\n",
       "      <td>NaN</td>\n",
       "      <td>NaN</td>\n",
       "      <td>NaN</td>\n",
       "      <td>NaN</td>\n",
       "      <td>NaN</td>\n",
       "      <td>NaN</td>\n",
       "    </tr>\n",
       "    <tr>\n",
       "      <td>Activist Post</td>\n",
       "      <td>NaN</td>\n",
       "      <td>NaN</td>\n",
       "      <td>NaN</td>\n",
       "      <td>NaN</td>\n",
       "      <td>NaN</td>\n",
       "      <td>NaN</td>\n",
       "      <td>NaN</td>\n",
       "      <td>NaN</td>\n",
       "      <td>NaN</td>\n",
       "      <td>NaN</td>\n",
       "      <td>...</td>\n",
       "      <td>NaN</td>\n",
       "      <td>NaN</td>\n",
       "      <td>NaN</td>\n",
       "      <td>left</td>\n",
       "      <td>NaN</td>\n",
       "      <td>NaN</td>\n",
       "      <td>NaN</td>\n",
       "      <td>NaN</td>\n",
       "      <td>NaN</td>\n",
       "      <td>NaN</td>\n",
       "    </tr>\n",
       "    <tr>\n",
       "      <td>Addicting Info</td>\n",
       "      <td>NaN</td>\n",
       "      <td>NaN</td>\n",
       "      <td>NaN</td>\n",
       "      <td>NaN</td>\n",
       "      <td>NaN</td>\n",
       "      <td>NaN</td>\n",
       "      <td>NaN</td>\n",
       "      <td>NaN</td>\n",
       "      <td>NaN</td>\n",
       "      <td>NaN</td>\n",
       "      <td>...</td>\n",
       "      <td>NaN</td>\n",
       "      <td>NaN</td>\n",
       "      <td>NaN</td>\n",
       "      <td>left</td>\n",
       "      <td>NaN</td>\n",
       "      <td>NaN</td>\n",
       "      <td>NaN</td>\n",
       "      <td>NaN</td>\n",
       "      <td>NaN</td>\n",
       "      <td>NaN</td>\n",
       "    </tr>\n",
       "  </tbody>\n",
       "</table>\n",
       "<p>5 rows × 57 columns</p>\n",
       "</div>"
      ],
      "text/plain": [
       "                  NewsGuard, Does not repeatedly publish false content  \\\n",
       "21stCenturyWire                                                 NaN      \n",
       "ABC News                                                        0.0      \n",
       "AMERICAblog News                                                NaN      \n",
       "Activist Post                                                   NaN      \n",
       "Addicting Info                                                  NaN      \n",
       "\n",
       "                  NewsGuard, Gathers and presents information responsibly  \\\n",
       "21stCenturyWire                                                 NaN         \n",
       "ABC News                                                        0.0         \n",
       "AMERICAblog News                                                NaN         \n",
       "Activist Post                                                   NaN         \n",
       "Addicting Info                                                  NaN         \n",
       "\n",
       "                  NewsGuard, Regularly corrects or clarifies errors  \\\n",
       "21stCenturyWire                                                 NaN   \n",
       "ABC News                                                        0.0   \n",
       "AMERICAblog News                                                NaN   \n",
       "Activist Post                                                   NaN   \n",
       "Addicting Info                                                  NaN   \n",
       "\n",
       "                  NewsGuard, Handles the difference between news and opinion responsibly  \\\n",
       "21stCenturyWire                                                 NaN                        \n",
       "ABC News                                                        0.0                        \n",
       "AMERICAblog News                                                NaN                        \n",
       "Activist Post                                                   NaN                        \n",
       "Addicting Info                                                  NaN                        \n",
       "\n",
       "                  NewsGuard, Avoids deceptive headlines  \\\n",
       "21stCenturyWire                                     NaN   \n",
       "ABC News                                            0.0   \n",
       "AMERICAblog News                                    NaN   \n",
       "Activist Post                                       NaN   \n",
       "Addicting Info                                      NaN   \n",
       "\n",
       "                  NewsGuard, Website discloses ownership and financing  \\\n",
       "21stCenturyWire                                                 NaN      \n",
       "ABC News                                                        0.0      \n",
       "AMERICAblog News                                                NaN      \n",
       "Activist Post                                                   NaN      \n",
       "Addicting Info                                                  NaN      \n",
       "\n",
       "                  NewsGuard, Clearly labels advertising  \\\n",
       "21stCenturyWire                                     NaN   \n",
       "ABC News                                            0.0   \n",
       "AMERICAblog News                                    NaN   \n",
       "Activist Post                                       NaN   \n",
       "Addicting Info                                      NaN   \n",
       "\n",
       "                  NewsGuard, Reveals who's in charge, including any possible conflicts of interest  \\\n",
       "21stCenturyWire                                                 NaN                                  \n",
       "ABC News                                                        1.0                                  \n",
       "AMERICAblog News                                                NaN                                  \n",
       "Activist Post                                                   NaN                                  \n",
       "Addicting Info                                                  NaN                                  \n",
       "\n",
       "                  NewsGuard, Provides information about content creators  \\\n",
       "21stCenturyWire                                                 NaN        \n",
       "ABC News                                                        0.0        \n",
       "AMERICAblog News                                                NaN        \n",
       "Activist Post                                                   NaN        \n",
       "Addicting Info                                                  NaN        \n",
       "\n",
       "                  NewsGuard, score  ...  Allsides, community_agree  \\\n",
       "21stCenturyWire                NaN  ...                        NaN   \n",
       "ABC News                      95.0  ...                     8964.0   \n",
       "AMERICAblog News               NaN  ...                        NaN   \n",
       "Activist Post                  NaN  ...                        NaN   \n",
       "Addicting Info                 NaN  ...                        NaN   \n",
       "\n",
       "                  Allsides, community_disagree  Allsides, community_label  \\\n",
       "21stCenturyWire                            NaN                        NaN   \n",
       "ABC News                                6949.0             somewhat agree   \n",
       "AMERICAblog News                           NaN                        NaN   \n",
       "Activist Post                              NaN                        NaN   \n",
       "Addicting Info                             NaN                        NaN   \n",
       "\n",
       "                  BuzzFeed, leaning  PolitiFact, Pants on Fire!  \\\n",
       "21stCenturyWire                left                         NaN   \n",
       "ABC News                        NaN                         NaN   \n",
       "AMERICAblog News               left                         NaN   \n",
       "Activist Post                  left                         NaN   \n",
       "Addicting Info                 left                         NaN   \n",
       "\n",
       "                  PolitiFact, False  PolitiFact, Mostly False  \\\n",
       "21stCenturyWire                 NaN                       NaN   \n",
       "ABC News                        NaN                       NaN   \n",
       "AMERICAblog News                NaN                       NaN   \n",
       "Activist Post                   NaN                       NaN   \n",
       "Addicting Info                  NaN                       NaN   \n",
       "\n",
       "                  PolitiFact, Half-True  PolitiFact, Mostly True  \\\n",
       "21stCenturyWire                     NaN                      NaN   \n",
       "ABC News                            NaN                      NaN   \n",
       "AMERICAblog News                    NaN                      NaN   \n",
       "Activist Post                       NaN                      NaN   \n",
       "Addicting Info                      NaN                      NaN   \n",
       "\n",
       "                  PolitiFact, True  \n",
       "21stCenturyWire                NaN  \n",
       "ABC News                       NaN  \n",
       "AMERICAblog News               NaN  \n",
       "Activist Post                  NaN  \n",
       "Addicting Info                 NaN  \n",
       "\n",
       "[5 rows x 57 columns]"
      ]
     },
     "execution_count": 8,
     "metadata": {},
     "output_type": "execute_result"
    }
   ],
   "source": [
    "df.head(5)"
   ]
  },
  {
   "cell_type": "code",
   "execution_count": 9,
   "metadata": {},
   "outputs": [
    {
     "data": {
      "text/plain": [
       "(194, 57)"
      ]
     },
     "execution_count": 9,
     "metadata": {},
     "output_type": "execute_result"
    }
   ],
   "source": [
    "df.shape"
   ]
  },
  {
   "cell_type": "code",
   "execution_count": 10,
   "metadata": {},
   "outputs": [
    {
     "data": {
      "text/plain": [
       "(0, 57)"
      ]
     },
     "execution_count": 10,
     "metadata": {},
     "output_type": "execute_result"
    }
   ],
   "source": [
    "# Dropping rows with any na\n",
    "df.dropna().shape"
   ]
  },
  {
   "cell_type": "code",
   "execution_count": 11,
   "metadata": {},
   "outputs": [],
   "source": [
    "# Dropping columns with any na\n",
    "df2 = df[df.columns[~df.isnull().any()]]"
   ]
  },
  {
   "cell_type": "code",
   "execution_count": 12,
   "metadata": {},
   "outputs": [
    {
     "data": {
      "text/plain": [
       "(194, 0)"
      ]
     },
     "execution_count": 12,
     "metadata": {},
     "output_type": "execute_result"
    }
   ],
   "source": [
    "df2.shape"
   ]
  },
  {
   "cell_type": "code",
   "execution_count": 13,
   "metadata": {},
   "outputs": [
    {
     "data": {
      "text/plain": [
       "(155, 57)"
      ]
     },
     "execution_count": 13,
     "metadata": {},
     "output_type": "execute_result"
    }
   ],
   "source": [
    "# Dropping rows with all na\n",
    "df.dropna(how='all').shape"
   ]
  },
  {
   "cell_type": "code",
   "execution_count": 14,
   "metadata": {},
   "outputs": [
    {
     "data": {
      "text/plain": [
       "(194, 56)"
      ]
     },
     "execution_count": 14,
     "metadata": {},
     "output_type": "execute_result"
    }
   ],
   "source": [
    "# Dropping columns with all na\n",
    "df[df.columns[~df.isnull().all()]].shape"
   ]
  },
  {
   "cell_type": "code",
   "execution_count": 15,
   "metadata": {},
   "outputs": [],
   "source": [
    "df = df.dropna(how='all')\n",
    "df = df[df.columns[~df.isnull().all()]]"
   ]
  },
  {
   "cell_type": "code",
   "execution_count": 16,
   "metadata": {},
   "outputs": [
    {
     "data": {
      "text/plain": [
       "(155, 56)"
      ]
     },
     "execution_count": 16,
     "metadata": {},
     "output_type": "execute_result"
    }
   ],
   "source": [
    "df.shape"
   ]
  },
  {
   "cell_type": "code",
   "execution_count": 17,
   "metadata": {},
   "outputs": [
    {
     "data": {
      "text/html": [
       "<div>\n",
       "<style scoped>\n",
       "    .dataframe tbody tr th:only-of-type {\n",
       "        vertical-align: middle;\n",
       "    }\n",
       "\n",
       "    .dataframe tbody tr th {\n",
       "        vertical-align: top;\n",
       "    }\n",
       "\n",
       "    .dataframe thead th {\n",
       "        text-align: right;\n",
       "    }\n",
       "</style>\n",
       "<table border=\"1\" class=\"dataframe\">\n",
       "  <thead>\n",
       "    <tr style=\"text-align: right;\">\n",
       "      <th></th>\n",
       "      <th>NewsGuard, Does not repeatedly publish false content</th>\n",
       "      <th>NewsGuard, Gathers and presents information responsibly</th>\n",
       "      <th>NewsGuard, Regularly corrects or clarifies errors</th>\n",
       "      <th>NewsGuard, Handles the difference between news and opinion responsibly</th>\n",
       "      <th>NewsGuard, Avoids deceptive headlines</th>\n",
       "      <th>NewsGuard, Website discloses ownership and financing</th>\n",
       "      <th>NewsGuard, Clearly labels advertising</th>\n",
       "      <th>NewsGuard, Reveals who's in charge, including any possible conflicts of interest</th>\n",
       "      <th>NewsGuard, Provides information about content creators</th>\n",
       "      <th>NewsGuard, score</th>\n",
       "      <th>...</th>\n",
       "      <th>Allsides, community_agree</th>\n",
       "      <th>Allsides, community_disagree</th>\n",
       "      <th>Allsides, community_label</th>\n",
       "      <th>BuzzFeed, leaning</th>\n",
       "      <th>PolitiFact, Pants on Fire!</th>\n",
       "      <th>PolitiFact, False</th>\n",
       "      <th>PolitiFact, Mostly False</th>\n",
       "      <th>PolitiFact, Half-True</th>\n",
       "      <th>PolitiFact, Mostly True</th>\n",
       "      <th>PolitiFact, True</th>\n",
       "    </tr>\n",
       "  </thead>\n",
       "  <tbody>\n",
       "    <tr>\n",
       "      <td>21stCenturyWire</td>\n",
       "      <td>NaN</td>\n",
       "      <td>NaN</td>\n",
       "      <td>NaN</td>\n",
       "      <td>NaN</td>\n",
       "      <td>NaN</td>\n",
       "      <td>NaN</td>\n",
       "      <td>NaN</td>\n",
       "      <td>NaN</td>\n",
       "      <td>NaN</td>\n",
       "      <td>NaN</td>\n",
       "      <td>...</td>\n",
       "      <td>NaN</td>\n",
       "      <td>NaN</td>\n",
       "      <td>NaN</td>\n",
       "      <td>left</td>\n",
       "      <td>NaN</td>\n",
       "      <td>NaN</td>\n",
       "      <td>NaN</td>\n",
       "      <td>NaN</td>\n",
       "      <td>NaN</td>\n",
       "      <td>NaN</td>\n",
       "    </tr>\n",
       "    <tr>\n",
       "      <td>ABC News</td>\n",
       "      <td>0.0</td>\n",
       "      <td>0.0</td>\n",
       "      <td>0.0</td>\n",
       "      <td>0.0</td>\n",
       "      <td>0.0</td>\n",
       "      <td>0.0</td>\n",
       "      <td>0.0</td>\n",
       "      <td>1.0</td>\n",
       "      <td>0.0</td>\n",
       "      <td>95.0</td>\n",
       "      <td>...</td>\n",
       "      <td>8964.0</td>\n",
       "      <td>6949.0</td>\n",
       "      <td>somewhat agree</td>\n",
       "      <td>NaN</td>\n",
       "      <td>NaN</td>\n",
       "      <td>NaN</td>\n",
       "      <td>NaN</td>\n",
       "      <td>NaN</td>\n",
       "      <td>NaN</td>\n",
       "      <td>NaN</td>\n",
       "    </tr>\n",
       "    <tr>\n",
       "      <td>AMERICAblog News</td>\n",
       "      <td>NaN</td>\n",
       "      <td>NaN</td>\n",
       "      <td>NaN</td>\n",
       "      <td>NaN</td>\n",
       "      <td>NaN</td>\n",
       "      <td>NaN</td>\n",
       "      <td>NaN</td>\n",
       "      <td>NaN</td>\n",
       "      <td>NaN</td>\n",
       "      <td>NaN</td>\n",
       "      <td>...</td>\n",
       "      <td>NaN</td>\n",
       "      <td>NaN</td>\n",
       "      <td>NaN</td>\n",
       "      <td>left</td>\n",
       "      <td>NaN</td>\n",
       "      <td>NaN</td>\n",
       "      <td>NaN</td>\n",
       "      <td>NaN</td>\n",
       "      <td>NaN</td>\n",
       "      <td>NaN</td>\n",
       "    </tr>\n",
       "    <tr>\n",
       "      <td>Activist Post</td>\n",
       "      <td>NaN</td>\n",
       "      <td>NaN</td>\n",
       "      <td>NaN</td>\n",
       "      <td>NaN</td>\n",
       "      <td>NaN</td>\n",
       "      <td>NaN</td>\n",
       "      <td>NaN</td>\n",
       "      <td>NaN</td>\n",
       "      <td>NaN</td>\n",
       "      <td>NaN</td>\n",
       "      <td>...</td>\n",
       "      <td>NaN</td>\n",
       "      <td>NaN</td>\n",
       "      <td>NaN</td>\n",
       "      <td>left</td>\n",
       "      <td>NaN</td>\n",
       "      <td>NaN</td>\n",
       "      <td>NaN</td>\n",
       "      <td>NaN</td>\n",
       "      <td>NaN</td>\n",
       "      <td>NaN</td>\n",
       "    </tr>\n",
       "    <tr>\n",
       "      <td>Addicting Info</td>\n",
       "      <td>NaN</td>\n",
       "      <td>NaN</td>\n",
       "      <td>NaN</td>\n",
       "      <td>NaN</td>\n",
       "      <td>NaN</td>\n",
       "      <td>NaN</td>\n",
       "      <td>NaN</td>\n",
       "      <td>NaN</td>\n",
       "      <td>NaN</td>\n",
       "      <td>NaN</td>\n",
       "      <td>...</td>\n",
       "      <td>NaN</td>\n",
       "      <td>NaN</td>\n",
       "      <td>NaN</td>\n",
       "      <td>left</td>\n",
       "      <td>NaN</td>\n",
       "      <td>NaN</td>\n",
       "      <td>NaN</td>\n",
       "      <td>NaN</td>\n",
       "      <td>NaN</td>\n",
       "      <td>NaN</td>\n",
       "    </tr>\n",
       "  </tbody>\n",
       "</table>\n",
       "<p>5 rows × 56 columns</p>\n",
       "</div>"
      ],
      "text/plain": [
       "                  NewsGuard, Does not repeatedly publish false content  \\\n",
       "21stCenturyWire                                                 NaN      \n",
       "ABC News                                                        0.0      \n",
       "AMERICAblog News                                                NaN      \n",
       "Activist Post                                                   NaN      \n",
       "Addicting Info                                                  NaN      \n",
       "\n",
       "                  NewsGuard, Gathers and presents information responsibly  \\\n",
       "21stCenturyWire                                                 NaN         \n",
       "ABC News                                                        0.0         \n",
       "AMERICAblog News                                                NaN         \n",
       "Activist Post                                                   NaN         \n",
       "Addicting Info                                                  NaN         \n",
       "\n",
       "                  NewsGuard, Regularly corrects or clarifies errors  \\\n",
       "21stCenturyWire                                                 NaN   \n",
       "ABC News                                                        0.0   \n",
       "AMERICAblog News                                                NaN   \n",
       "Activist Post                                                   NaN   \n",
       "Addicting Info                                                  NaN   \n",
       "\n",
       "                  NewsGuard, Handles the difference between news and opinion responsibly  \\\n",
       "21stCenturyWire                                                 NaN                        \n",
       "ABC News                                                        0.0                        \n",
       "AMERICAblog News                                                NaN                        \n",
       "Activist Post                                                   NaN                        \n",
       "Addicting Info                                                  NaN                        \n",
       "\n",
       "                  NewsGuard, Avoids deceptive headlines  \\\n",
       "21stCenturyWire                                     NaN   \n",
       "ABC News                                            0.0   \n",
       "AMERICAblog News                                    NaN   \n",
       "Activist Post                                       NaN   \n",
       "Addicting Info                                      NaN   \n",
       "\n",
       "                  NewsGuard, Website discloses ownership and financing  \\\n",
       "21stCenturyWire                                                 NaN      \n",
       "ABC News                                                        0.0      \n",
       "AMERICAblog News                                                NaN      \n",
       "Activist Post                                                   NaN      \n",
       "Addicting Info                                                  NaN      \n",
       "\n",
       "                  NewsGuard, Clearly labels advertising  \\\n",
       "21stCenturyWire                                     NaN   \n",
       "ABC News                                            0.0   \n",
       "AMERICAblog News                                    NaN   \n",
       "Activist Post                                       NaN   \n",
       "Addicting Info                                      NaN   \n",
       "\n",
       "                  NewsGuard, Reveals who's in charge, including any possible conflicts of interest  \\\n",
       "21stCenturyWire                                                 NaN                                  \n",
       "ABC News                                                        1.0                                  \n",
       "AMERICAblog News                                                NaN                                  \n",
       "Activist Post                                                   NaN                                  \n",
       "Addicting Info                                                  NaN                                  \n",
       "\n",
       "                  NewsGuard, Provides information about content creators  \\\n",
       "21stCenturyWire                                                 NaN        \n",
       "ABC News                                                        0.0        \n",
       "AMERICAblog News                                                NaN        \n",
       "Activist Post                                                   NaN        \n",
       "Addicting Info                                                  NaN        \n",
       "\n",
       "                  NewsGuard, score  ...  Allsides, community_agree  \\\n",
       "21stCenturyWire                NaN  ...                        NaN   \n",
       "ABC News                      95.0  ...                     8964.0   \n",
       "AMERICAblog News               NaN  ...                        NaN   \n",
       "Activist Post                  NaN  ...                        NaN   \n",
       "Addicting Info                 NaN  ...                        NaN   \n",
       "\n",
       "                  Allsides, community_disagree  Allsides, community_label  \\\n",
       "21stCenturyWire                            NaN                        NaN   \n",
       "ABC News                                6949.0             somewhat agree   \n",
       "AMERICAblog News                           NaN                        NaN   \n",
       "Activist Post                              NaN                        NaN   \n",
       "Addicting Info                             NaN                        NaN   \n",
       "\n",
       "                  BuzzFeed, leaning  PolitiFact, Pants on Fire!  \\\n",
       "21stCenturyWire                left                         NaN   \n",
       "ABC News                        NaN                         NaN   \n",
       "AMERICAblog News               left                         NaN   \n",
       "Activist Post                  left                         NaN   \n",
       "Addicting Info                 left                         NaN   \n",
       "\n",
       "                  PolitiFact, False  PolitiFact, Mostly False  \\\n",
       "21stCenturyWire                 NaN                       NaN   \n",
       "ABC News                        NaN                       NaN   \n",
       "AMERICAblog News                NaN                       NaN   \n",
       "Activist Post                   NaN                       NaN   \n",
       "Addicting Info                  NaN                       NaN   \n",
       "\n",
       "                  PolitiFact, Half-True  PolitiFact, Mostly True  \\\n",
       "21stCenturyWire                     NaN                      NaN   \n",
       "ABC News                            NaN                      NaN   \n",
       "AMERICAblog News                    NaN                      NaN   \n",
       "Activist Post                       NaN                      NaN   \n",
       "Addicting Info                      NaN                      NaN   \n",
       "\n",
       "                  PolitiFact, True  \n",
       "21stCenturyWire                NaN  \n",
       "ABC News                       NaN  \n",
       "AMERICAblog News               NaN  \n",
       "Activist Post                  NaN  \n",
       "Addicting Info                 NaN  \n",
       "\n",
       "[5 rows x 56 columns]"
      ]
     },
     "execution_count": 17,
     "metadata": {},
     "output_type": "execute_result"
    }
   ],
   "source": [
    "df.head()"
   ]
  },
  {
   "cell_type": "markdown",
   "metadata": {},
   "source": [
    "**Notes**:\n",
    "- Every row has missing data. Every column has missing data. \n",
    "- 39 rows have no data at all. 1 row has no column at all.\n",
    "- NewsGuard, by inspection, is sometimes quite odd. Al Jazeera is deemed not credible (see overall_class.) Bipartisan Report is recorded as: Does not repeatedly publish false content, Gathers and presents information responsibly, Regularly corrects or clarifies errors, Handles the difference between news and opinion responsibly, Avoids deceptive headlines, Website discloses ownership and financing -- yet it somehow has one of the lowest credibility scores. In fact, the organizations that score the highest on these have 0s (i.e. False) for all these metrics, suggesting that the data has been flipped?\n",
    "- We don't have by-article labels, only by-source labels. In other words, we will be assuming that all news from a site is either real or fake. "
   ]
  },
  {
   "cell_type": "markdown",
   "metadata": {},
   "source": [
    "To get a clear signal for whether a site has real or fake news, we will use the labels that are unequivocal about the site's classification. We also generally limit these to binary features, as the non-binary features are counts that are not straightforward to interpret.\n",
    "\n",
    "**Fake news**\n",
    "- Media Bias / Fact Check, fake_news (turns out that 0 sites have fake_news == 1)\n",
    "- Media Bias / Fact Check, conspiracy\n",
    "- Media Bias / Fact Check, pseudoscience\n",
    "\n",
    "**Real news**\n",
    "- NewsGuard, score: 100\n",
    "- Media Bias / Fact Check, factual_reporting: 5"
   ]
  },
  {
   "cell_type": "code",
   "execution_count": 18,
   "metadata": {},
   "outputs": [],
   "source": [
    "fake_news_df = df[(df['Media Bias / Fact Check, fake_news'] == 1) | (df['Media Bias / Fact Check, conspiracy'] == 1) | (df['Media Bias / Fact Check, pseudoscience'] == 1)]"
   ]
  },
  {
   "cell_type": "code",
   "execution_count": 19,
   "metadata": {},
   "outputs": [
    {
     "data": {
      "text/plain": [
       "(9, 56)"
      ]
     },
     "execution_count": 19,
     "metadata": {},
     "output_type": "execute_result"
    }
   ],
   "source": [
    "fake_news_df.shape"
   ]
  },
  {
   "cell_type": "code",
   "execution_count": 20,
   "metadata": {},
   "outputs": [],
   "source": [
    "fake_news_sites = list(fake_news_df.index)"
   ]
  },
  {
   "cell_type": "code",
   "execution_count": 21,
   "metadata": {},
   "outputs": [
    {
     "data": {
      "text/plain": [
       "['Breitbart',\n",
       " 'DC Gazette',\n",
       " 'Daily Mail',\n",
       " 'LewRockwell',\n",
       " 'Newswars',\n",
       " 'Pamela Geller Report',\n",
       " 'The D.C. Clothesline',\n",
       " 'The Gateway Pundit',\n",
       " 'True Activist']"
      ]
     },
     "execution_count": 21,
     "metadata": {},
     "output_type": "execute_result"
    }
   ],
   "source": [
    "fake_news_sites"
   ]
  },
  {
   "cell_type": "code",
   "execution_count": 22,
   "metadata": {},
   "outputs": [],
   "source": [
    "real_news_df = df[(df['NewsGuard, score'] == 100) | (df['Media Bias / Fact Check, factual_reporting'] == 5)]"
   ]
  },
  {
   "cell_type": "code",
   "execution_count": 23,
   "metadata": {},
   "outputs": [
    {
     "data": {
      "text/plain": [
       "(30, 56)"
      ]
     },
     "execution_count": 23,
     "metadata": {},
     "output_type": "execute_result"
    }
   ],
   "source": [
    "real_news_df.shape"
   ]
  },
  {
   "cell_type": "code",
   "execution_count": 24,
   "metadata": {},
   "outputs": [],
   "source": [
    "real_news_sites = list(real_news_df.index)"
   ]
  },
  {
   "cell_type": "markdown",
   "metadata": {},
   "source": [
    "## Finding posts that appear in both subreddits"
   ]
  },
  {
   "cell_type": "code",
   "execution_count": 26,
   "metadata": {},
   "outputs": [],
   "source": [
    "os.chdir('/home/caleb/Cornell-Conversational-Analysis-Toolkit')"
   ]
  },
  {
   "cell_type": "code",
   "execution_count": 27,
   "metadata": {},
   "outputs": [],
   "source": [
    "from convokit import Corpus\n",
    "import convokit"
   ]
  },
  {
   "cell_type": "code",
   "execution_count": 28,
   "metadata": {},
   "outputs": [],
   "source": [
    "donald_corpus = Corpus(filename=donald_dir)"
   ]
  },
  {
   "cell_type": "code",
   "execution_count": 29,
   "metadata": {},
   "outputs": [
    {
     "name": "stdout",
     "output_type": "stream",
     "text": [
      "Number of Users: 617191\n",
      "Number of Utterances: 38640598\n",
      "Number of Conversations: 3830155\n"
     ]
    }
   ],
   "source": [
    "donald_corpus.print_summary_stats()"
   ]
  },
  {
   "cell_type": "code",
   "execution_count": 30,
   "metadata": {},
   "outputs": [
    {
     "data": {
      "text/plain": [
       "Conversation({'_owner': <convokit.model.corpus.Corpus object at 0x7f2f6f6ee950>, '_id': '4cstwp', '_utterance_ids': ['4cstwp', 'd1l5e8t', 'd1l5egq', 'd1l5grh', 'd1l5h2s', 'd1l5h5z', 'd1l5mm4', 'd1l5mut', 'd1l5ocj', 'd1l5q5c', 'd1l5qsl', 'd1l5ssq', 'd1l5thm', 'd1l5ukw', 'd1l5vsv', 'd1l5vt6', 'd1l5vu7', 'd1l5wyn', 'd1l5x8q', 'd1l5y03', 'd1l5z1q', 'd1l615j', 'd1l65gw', 'd1l65or', 'd1l66fm', 'd1l692u', 'd1l6afl', 'd1l6nds', 'd1l6syz', 'd1l778w', 'd1l7aaj', 'd1l7dmi', 'd1l7q34', 'd1l8872', 'd1l8ihv', 'd1l8onm', 'd1l8rrl', 'd1lblj8', 'd1lbnhe', 'd1lc1b1', 'd1lchkh', 'd1leke9', 'd1lemam', 'd1lfz68', 'd1li0aq', 'd1li3d8', 'd1lit2w', 'd1lkela', 'd1lsh9u', 'd1ly9pn'], '_usernames': None, '_meta': {'title': 'Who is going to match my level of cringe?!', 'num_comments': 45, 'domain': 'imgur.com', 'timestamp': 1459468808, 'subreddit': 'The_Donald', 'gilded': 0, 'gildings': None, 'stickied': False, 'author_flair_text': 'NY'}})"
      ]
     },
     "execution_count": 30,
     "metadata": {},
     "output_type": "execute_result"
    }
   ],
   "source": [
    "next(donald_corpus.iter_conversations())"
   ]
  },
  {
   "cell_type": "code",
   "execution_count": 31,
   "metadata": {},
   "outputs": [],
   "source": [
    "donald_title_domains = [(convo.meta['title'], convo.meta['domain']) for convo in donald_corpus.iter_conversations()]"
   ]
  },
  {
   "cell_type": "code",
   "execution_count": 32,
   "metadata": {},
   "outputs": [
    {
     "data": {
      "text/plain": [
       "3830155"
      ]
     },
     "execution_count": 32,
     "metadata": {},
     "output_type": "execute_result"
    }
   ],
   "source": [
    "len(donald_title_domains)"
   ]
  },
  {
   "cell_type": "code",
   "execution_count": 33,
   "metadata": {},
   "outputs": [],
   "source": [
    "donald_title_domains = set(donald_title_domains)"
   ]
  },
  {
   "cell_type": "code",
   "execution_count": 34,
   "metadata": {},
   "outputs": [
    {
     "data": {
      "text/plain": [
       "3674684"
      ]
     },
     "execution_count": 34,
     "metadata": {},
     "output_type": "execute_result"
    }
   ],
   "source": [
    "len(donald_title_domains)"
   ]
  },
  {
   "cell_type": "code",
   "execution_count": 35,
   "metadata": {},
   "outputs": [
    {
     "data": {
      "text/plain": [
       "['Breitbart',\n",
       " 'DC Gazette',\n",
       " 'Daily Mail',\n",
       " 'LewRockwell',\n",
       " 'Newswars',\n",
       " 'Pamela Geller Report',\n",
       " 'The D.C. Clothesline',\n",
       " 'The Gateway Pundit',\n",
       " 'True Activist']"
      ]
     },
     "execution_count": 35,
     "metadata": {},
     "output_type": "execute_result"
    }
   ],
   "source": [
    "fake_news_sites"
   ]
  },
  {
   "cell_type": "code",
   "execution_count": 36,
   "metadata": {},
   "outputs": [],
   "source": [
    "fake_news_urls = {'breitbart.com', 'dcgazette.com', \"dailymail.co.uk\", \n",
    "                  \"lewrockwell.com\", \"newswars.com\", \"gellerreport.com\",\n",
    "                  \"dcclothesline.com\", \"thegatewaypundit.com\", \"trueactivist.com\"\n",
    "                 }"
   ]
  },
  {
   "cell_type": "code",
   "execution_count": 37,
   "metadata": {},
   "outputs": [],
   "source": [
    "filtered_donald_domains = {(k, v) for k, v in donald_title_domains if v in fake_news_urls}"
   ]
  },
  {
   "cell_type": "code",
   "execution_count": 38,
   "metadata": {},
   "outputs": [
    {
     "data": {
      "text/plain": [
       "98334"
      ]
     },
     "execution_count": 38,
     "metadata": {},
     "output_type": "execute_result"
    }
   ],
   "source": [
    "len(filtered_donald_domains)"
   ]
  },
  {
   "cell_type": "code",
   "execution_count": 40,
   "metadata": {},
   "outputs": [],
   "source": [
    "from collections import Counter"
   ]
  },
  {
   "cell_type": "code",
   "execution_count": 41,
   "metadata": {},
   "outputs": [],
   "source": [
    "domains_ctr = Counter([domain for title, domain in filtered_donald_domains])"
   ]
  },
  {
   "cell_type": "markdown",
   "metadata": {},
   "source": [
    "no. of posts per website (filtering for duplicate titles; does not always filter duplicate articles because url is not inside the conversation metadata)"
   ]
  },
  {
   "cell_type": "code",
   "execution_count": 42,
   "metadata": {},
   "outputs": [
    {
     "data": {
      "text/plain": [
       "Counter({'breitbart.com': 61778,\n",
       "         'thegatewaypundit.com': 18591,\n",
       "         'dailymail.co.uk': 16675,\n",
       "         'dcclothesline.com': 248,\n",
       "         'lewrockwell.com': 276,\n",
       "         'trueactivist.com': 43,\n",
       "         'gellerreport.com': 301,\n",
       "         'newswars.com': 404,\n",
       "         'dcgazette.com': 18})"
      ]
     },
     "execution_count": 42,
     "metadata": {},
     "output_type": "execute_result"
    }
   ],
   "source": [
    "domains_ctr "
   ]
  },
  {
   "cell_type": "code",
   "execution_count": 46,
   "metadata": {},
   "outputs": [],
   "source": [
    "fake_news_df = pd.read_pickle('examples/fake-news/fake_news_df.pkl')\n",
    "real_news_df = pd.read_pickle('examples/fake-news/real_news_df.pkl')"
   ]
  },
  {
   "cell_type": "code",
   "execution_count": 75,
   "metadata": {},
   "outputs": [],
   "source": []
  },
  {
   "cell_type": "code",
   "execution_count": 86,
   "metadata": {},
   "outputs": [],
   "source": [
    "from collections import defaultdict\n",
    "fake_news_titles = set()\n",
    "for index, row in fake_news_df.iterrows():\n",
    "    fake_news_titles.add(row.Title.lower())\n",
    "    \n",
    "real_news_titles = set()\n",
    "for index, row in real_news_df.iterrows():\n",
    "    real_news_titles.add(row.Title.lower())"
   ]
  },
  {
   "cell_type": "code",
   "execution_count": 76,
   "metadata": {},
   "outputs": [],
   "source": [
    "# there are about 20000 fake news titles are 120000 real news titles"
   ]
  },
  {
   "cell_type": "code",
   "execution_count": 73,
   "metadata": {},
   "outputs": [],
   "source": []
  },
  {
   "cell_type": "code",
   "execution_count": 96,
   "metadata": {},
   "outputs": [],
   "source": [
    "fake_news_matches_donald = set()\n",
    "real_news_matches_donald = set()\n",
    "for convo in donald_corpus.iter_conversations():\n",
    "    title = convo.meta['title'].lower()\n",
    "    if title in fake_news_titles:\n",
    "        fake_news_matches_donald.add(title)\n",
    "    elif title in real_news_titles:\n",
    "        real_news_matches_donald.add(title)"
   ]
  },
  {
   "cell_type": "code",
   "execution_count": 88,
   "metadata": {},
   "outputs": [
    {
     "data": {
      "text/plain": [
       "[('breitbart.com', 119),\n",
       " ('i.redd.it', 102),\n",
       " ('self.The_Donald', 98),\n",
       " ('thegatewaypundit.com', 64),\n",
       " ('archive.is', 37),\n",
       " ('imgur.com', 35),\n",
       " ('infowars.com', 35),\n",
       " ('youtube.com', 24),\n",
       " ('dailycaller.com', 23),\n",
       " ('i.imgur.com', 22)]"
      ]
     },
     "execution_count": 88,
     "metadata": {},
     "output_type": "execute_result"
    }
   ],
   "source": [
    "Counter(fake_news_matches).most_common()[:10]"
   ]
  },
  {
   "cell_type": "code",
   "execution_count": 89,
   "metadata": {},
   "outputs": [
    {
     "data": {
      "text/plain": [
       "[('i.redd.it', 213),\n",
       " ('self.The_Donald', 101),\n",
       " ('thehill.com', 67),\n",
       " ('imgur.com', 41),\n",
       " ('i.imgur.com', 33),\n",
       " ('youtube.com', 32),\n",
       " ('bbc.com', 30),\n",
       " ('edition.cnn.com', 30),\n",
       " ('i.reddituploads.com', 27),\n",
       " ('cnn.com', 27)]"
      ]
     },
     "execution_count": 89,
     "metadata": {},
     "output_type": "execute_result"
    }
   ],
   "source": [
    "Counter(real_news_matches).most_common()[:10]"
   ]
  },
  {
   "cell_type": "code",
   "execution_count": 80,
   "metadata": {},
   "outputs": [
    {
     "name": "stdout",
     "output_type": "stream",
     "text": [
      "Number of fake news matches (potential overlap):  760\n",
      "Number of real news matches (potential overlap):  1178\n"
     ]
    }
   ],
   "source": [
    "# Totals\n",
    "print(\"Number of fake news matches (potential overlap): \", len(fake_news_matches))\n",
    "print(\"Number of real news matches (potential overlap): \", len(real_news_matches))"
   ]
  },
  {
   "cell_type": "markdown",
   "metadata": {},
   "source": [
    "In r/The_Donald:\n",
    "- Match on lowercased string (possible overlaps): Fake (758), Real (1175)\n",
    "- Match on lowercased punctuation escaped string (possible overlaps): Fake (760), Real (1178)\n",
    "- Match on lowercased string (no overlaps): Fake (380), Real (642)\n",
    "\n",
    "**overlaps occur because some titles may be posted multiples times"
   ]
  },
  {
   "cell_type": "code",
   "execution_count": 97,
   "metadata": {},
   "outputs": [],
   "source": [
    "news_corpus = Corpus(filename=news_dir)"
   ]
  },
  {
   "cell_type": "code",
   "execution_count": 98,
   "metadata": {},
   "outputs": [],
   "source": [
    "fake_news_matches_news = set()\n",
    "real_news_matches_news = set()\n",
    "for convo in news_corpus.iter_conversations():\n",
    "    title = convo.meta['title'].lower()\n",
    "    if title in fake_news_titles:\n",
    "        fake_news_matches_news.add(title)\n",
    "    elif title in real_news_titles:\n",
    "        real_news_matches_news.add(title)"
   ]
  },
  {
   "cell_type": "code",
   "execution_count": 100,
   "metadata": {},
   "outputs": [
    {
     "data": {
      "text/plain": [
       "59"
      ]
     },
     "execution_count": 100,
     "metadata": {},
     "output_type": "execute_result"
    }
   ],
   "source": [
    "len(fake_news_matches_news)"
   ]
  },
  {
   "cell_type": "code",
   "execution_count": 101,
   "metadata": {},
   "outputs": [
    {
     "data": {
      "text/plain": [
       "1942"
      ]
     },
     "execution_count": 101,
     "metadata": {},
     "output_type": "execute_result"
    }
   ],
   "source": [
    "len(real_news_matches_news)"
   ]
  },
  {
   "cell_type": "markdown",
   "metadata": {},
   "source": [
    "In r/news:\n",
    "\n",
    "- Match on lowercased string (no overlaps): Fake (59), Real (1942)"
   ]
  },
  {
   "cell_type": "markdown",
   "metadata": {},
   "source": [
    "Fake news that appear in both r/The_Donald and r/news:"
   ]
  },
  {
   "cell_type": "code",
   "execution_count": 105,
   "metadata": {},
   "outputs": [
    {
     "data": {
      "text/plain": [
       "24"
      ]
     },
     "execution_count": 105,
     "metadata": {},
     "output_type": "execute_result"
    }
   ],
   "source": [
    "len(fake_news_matches_news.intersection(fake_news_matches_donald))"
   ]
  },
  {
   "cell_type": "code",
   "execution_count": 106,
   "metadata": {},
   "outputs": [
    {
     "data": {
      "text/plain": [
       "{'adam schiff spoofed with russian claim of nude trump pic',\n",
       " 'calexit',\n",
       " 'california',\n",
       " 'california judge rules twitter can be sued for falsely advertising free speech',\n",
       " 'climate change',\n",
       " 'dc police respond to mass shooting threat at event in trump hotel',\n",
       " 'draining the swamp',\n",
       " 'fbi admits it used multiple spies to infiltrate trump campaign',\n",
       " 'free at last',\n",
       " 'leftist antifa terrorist arrested with bombs with plans to sell to friends to kill law enforcement',\n",
       " 'live trump press conference',\n",
       " 'michael avenatti locks account after admitting kavanaugh accuser might not come forward',\n",
       " 'remembrance',\n",
       " 'republican senators doxxed by someone in house shortly after questioning kavanaugh',\n",
       " 'saudi arabia',\n",
       " 'social media',\n",
       " 'ted cruz defeats jimmy kimmel in charity basketball game',\n",
       " 'texas teenager attacked for wearing make america great again hat',\n",
       " 'trump administration seeks public comments on marijuana reclassification',\n",
       " 'trump mulls pulling some federal agents from california',\n",
       " 'trump to terminate birthright citizenship',\n",
       " 'twitter suspends benghazi hero after criticism of president obama',\n",
       " 'two norwegian lawmakers nominate trump for nobel peace prize',\n",
       " 'violence against right escalates as media amp up hate-rhetoric against trump'}"
      ]
     },
     "execution_count": 106,
     "metadata": {},
     "output_type": "execute_result"
    }
   ],
   "source": [
    "fake_news_matches_news.intersection(fake_news_matches_donald)"
   ]
  },
  {
   "cell_type": "code",
   "execution_count": 107,
   "metadata": {},
   "outputs": [],
   "source": [
    "# Real news that appears in both r/news and r/The_Donald"
   ]
  },
  {
   "cell_type": "code",
   "execution_count": 108,
   "metadata": {},
   "outputs": [
    {
     "data": {
      "text/plain": [
       "143"
      ]
     },
     "execution_count": 108,
     "metadata": {},
     "output_type": "execute_result"
    }
   ],
   "source": [
    "len(real_news_matches_news.intersection(real_news_matches_donald))"
   ]
  },
  {
   "cell_type": "markdown",
   "metadata": {},
   "source": [
    "## Let's condense r/The_Donald to its matches and proceed with a simpler task"
   ]
  },
  {
   "cell_type": "code",
   "execution_count": 113,
   "metadata": {},
   "outputs": [],
   "source": [
    "title_to_convoid_fake = dict()\n",
    "title_to_convoid_real = dict()\n",
    "for convo in donald_corpus.iter_conversations():\n",
    "    title = convo.meta['title'].lower()\n",
    "    if title in fake_news_matches_donald or title in real_news_matches_donald:\n",
    "        if title in fake_news_matches_donald:\n",
    "            d = title_to_convoid_fake\n",
    "        else:\n",
    "            d = title_to_convoid_real\n",
    "        if title in d:\n",
    "            prev_convo_comments = d[title].meta['num_comments']\n",
    "            if convo.meta['num_comments'] > prev_convo_comments:\n",
    "                d[title] = convo\n",
    "        else:\n",
    "            d[title] = convo"
   ]
  },
  {
   "cell_type": "code",
   "execution_count": 114,
   "metadata": {},
   "outputs": [
    {
     "data": {
      "text/plain": [
       "380"
      ]
     },
     "execution_count": 114,
     "metadata": {},
     "output_type": "execute_result"
    }
   ],
   "source": [
    "len(title_to_convoid_fake)"
   ]
  },
  {
   "cell_type": "code",
   "execution_count": 115,
   "metadata": {},
   "outputs": [
    {
     "data": {
      "text/plain": [
       "642"
      ]
     },
     "execution_count": 115,
     "metadata": {},
     "output_type": "execute_result"
    }
   ],
   "source": [
    "len(title_to_convoid_real)"
   ]
  },
  {
   "cell_type": "code",
   "execution_count": 119,
   "metadata": {},
   "outputs": [],
   "source": [
    "title_to_convoid_fake = {title: convo.id for title, convo in title_to_convoid_fake.items()}"
   ]
  },
  {
   "cell_type": "code",
   "execution_count": 121,
   "metadata": {},
   "outputs": [],
   "source": [
    "title_to_convoid_real = {title: convo.id for title, convo in title_to_convoid_real.items()}"
   ]
  },
  {
   "cell_type": "code",
   "execution_count": null,
   "metadata": {},
   "outputs": [],
   "source": [
    "os.chdir('./examples/fake-news')"
   ]
  },
  {
   "cell_type": "code",
   "execution_count": 117,
   "metadata": {},
   "outputs": [
    {
     "ename": "KeyboardInterrupt",
     "evalue": "",
     "output_type": "error",
     "traceback": [
      "\u001b[0;31m---------------------------------------------------------------------------\u001b[0m",
      "\u001b[0;31mKeyboardInterrupt\u001b[0m                         Traceback (most recent call last)",
      "\u001b[0;32m<ipython-input-117-f66ab0ea8da8>\u001b[0m in \u001b[0;36m<module>\u001b[0;34m\u001b[0m\n\u001b[1;32m      1\u001b[0m \u001b[0;32mimport\u001b[0m \u001b[0mpickle\u001b[0m\u001b[0;34m\u001b[0m\u001b[0;34m\u001b[0m\u001b[0m\n\u001b[1;32m      2\u001b[0m \u001b[0;32mwith\u001b[0m \u001b[0mopen\u001b[0m\u001b[0;34m(\u001b[0m\u001b[0;34m'donald_fake_titles.pkl'\u001b[0m\u001b[0;34m,\u001b[0m \u001b[0;34m'wb'\u001b[0m\u001b[0;34m)\u001b[0m \u001b[0;32mas\u001b[0m \u001b[0mhandle\u001b[0m\u001b[0;34m:\u001b[0m\u001b[0;34m\u001b[0m\u001b[0;34m\u001b[0m\u001b[0m\n\u001b[0;32m----> 3\u001b[0;31m     \u001b[0mpickle\u001b[0m\u001b[0;34m.\u001b[0m\u001b[0mdump\u001b[0m\u001b[0;34m(\u001b[0m\u001b[0mtitle_to_convoid_fake\u001b[0m\u001b[0;34m,\u001b[0m \u001b[0mhandle\u001b[0m\u001b[0;34m,\u001b[0m \u001b[0mprotocol\u001b[0m\u001b[0;34m=\u001b[0m\u001b[0mpickle\u001b[0m\u001b[0;34m.\u001b[0m\u001b[0mHIGHEST_PROTOCOL\u001b[0m\u001b[0;34m)\u001b[0m\u001b[0;34m\u001b[0m\u001b[0;34m\u001b[0m\u001b[0m\n\u001b[0m\u001b[1;32m      4\u001b[0m \u001b[0;34m\u001b[0m\u001b[0m\n\u001b[1;32m      5\u001b[0m \u001b[0;32mwith\u001b[0m \u001b[0mopen\u001b[0m\u001b[0;34m(\u001b[0m\u001b[0;34m'news_fake_titles.pkl'\u001b[0m\u001b[0;34m,\u001b[0m \u001b[0;34m'wb'\u001b[0m\u001b[0;34m)\u001b[0m \u001b[0;32mas\u001b[0m \u001b[0mhandle\u001b[0m\u001b[0;34m:\u001b[0m\u001b[0;34m\u001b[0m\u001b[0;34m\u001b[0m\u001b[0m\n",
      "\u001b[0;31mKeyboardInterrupt\u001b[0m: "
     ]
    }
   ],
   "source": [
    "with open('donald_fake_titles.json', 'w') as f:\n",
    "    json.dump(title_to_convoid_fake, f)\n",
    "    \n",
    "with open('donald_real_titles.json', 'w') as f:\n",
    "    json.dump(title_to_convoid_real, f)"
   ]
  },
  {
   "cell_type": "code",
   "execution_count": null,
   "metadata": {},
   "outputs": [],
   "source": []
  }
 ],
 "metadata": {
  "kernelspec": {
   "display_name": "Python 3",
   "language": "python",
   "name": "python3"
  },
  "language_info": {
   "codemirror_mode": {
    "name": "ipython",
    "version": 3
   },
   "file_extension": ".py",
   "mimetype": "text/x-python",
   "name": "python",
   "nbconvert_exporter": "python",
   "pygments_lexer": "ipython3",
   "version": "3.7.4"
  }
 },
 "nbformat": 4,
 "nbformat_minor": 2
}
