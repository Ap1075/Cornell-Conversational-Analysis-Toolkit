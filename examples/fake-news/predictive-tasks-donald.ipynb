{
 "cells": [
  {
   "cell_type": "code",
   "execution_count": 1,
   "metadata": {},
   "outputs": [],
   "source": [
    "import os\n",
    "os.chdir('/home/caleb/Cornell-Conversational-Analysis-Toolkit')\n",
    "import random\n",
    "from sklearn.linear_model import LogisticRegression\n",
    "import numpy as np\n",
    "from sklearn.model_selection import train_test_split\n",
    "import convokit"
   ]
  },
  {
   "cell_type": "code",
   "execution_count": 2,
   "metadata": {},
   "outputs": [],
   "source": [
    "news_dir = '/sauna/reddit_201810_raw/corpus/newreddits_nsfw~-~news/news/'\n",
    "donald_dir = '/sauna/reddit_201810_raw/corpus/TheTwoBeerQueers~-~The_Donald/The_Donald/'"
   ]
  },
  {
   "cell_type": "code",
   "execution_count": 3,
   "metadata": {},
   "outputs": [],
   "source": [
    "from convokit import Corpus"
   ]
  },
  {
   "cell_type": "code",
   "execution_count": null,
   "metadata": {},
   "outputs": [],
   "source": [
    "import json\n",
    "with open('examples/fake-news/donald_fake_titles.json', 'r') as f:\n",
    "    title_to_convo_fake = json.load(f)\n",
    "with open('examples/fake-news/donald_real_titles.json', 'r') as f:\n",
    "    title_to_convo_real = json.load(f)"
   ]
  },
  {
   "cell_type": "code",
   "execution_count": null,
   "metadata": {},
   "outputs": [],
   "source": [
    "donald_corpus = Corpus(filename=donald_dir)"
   ]
  },
  {
   "cell_type": "code",
   "execution_count": null,
   "metadata": {},
   "outputs": [],
   "source": [
    "convo_ids = set(title_to_convo_fake.values()).union(set(title_to_convo_real.values()))"
   ]
  },
  {
   "cell_type": "code",
   "execution_count": null,
   "metadata": {},
   "outputs": [],
   "source": [
    "filterfunc = lambda x: x.id in convo_ids"
   ]
  },
  {
   "cell_type": "code",
   "execution_count": null,
   "metadata": {},
   "outputs": [],
   "source": [
    "donald_corpus.filter_conversations_by(func=filterfunc)"
   ]
  },
  {
   "cell_type": "code",
   "execution_count": 4,
   "metadata": {},
   "outputs": [],
   "source": [
    "#donald_corpus.dump('corpus', base_path='/sauna/fake-news')\n",
    "donald_corpus = Corpus(filename='/sauna/fake-news/corpus')"
   ]
  },
  {
   "cell_type": "code",
   "execution_count": 5,
   "metadata": {},
   "outputs": [
    {
     "name": "stdout",
     "output_type": "stream",
     "text": [
      "Number of Users: 7017\n",
      "Number of Utterances: 15585\n",
      "Number of Conversations: 1022\n"
     ]
    }
   ],
   "source": [
    "donald_corpus.print_summary_stats()"
   ]
  },
  {
   "cell_type": "code",
   "execution_count": null,
   "metadata": {},
   "outputs": [],
   "source": []
  },
  {
   "cell_type": "code",
   "execution_count": null,
   "metadata": {},
   "outputs": [],
   "source": []
  },
  {
   "cell_type": "code",
   "execution_count": 6,
   "metadata": {},
   "outputs": [
    {
     "name": "stderr",
     "output_type": "stream",
     "text": [
      "/home/caleb/Cornell-Conversational-Analysis-Toolkit/convokit/hyperconvo/hyperconvo.py:187: RuntimeWarning: invalid value encountered in long_scalars\n",
      "  \"norm.max\": lambda l: np.max(l) / np.sum(l),\n",
      "/home/caleb/Cornell-Conversational-Analysis-Toolkit/convokit/hyperconvo/hyperconvo.py:192: RuntimeWarning: invalid value encountered in long_scalars\n",
      "  if len(l) > 1 else np.nan,\n",
      "/home/caleb/miniconda/envs/venv/lib/python3.7/site-packages/numpy/core/fromnumeric.py:3118: RuntimeWarning: Mean of empty slice.\n",
      "  out=out, **kwargs)\n",
      "/home/caleb/miniconda/envs/venv/lib/python3.7/site-packages/numpy/core/_methods.py:85: RuntimeWarning: invalid value encountered in double_scalars\n",
      "  ret = ret.dtype.type(ret / rcount)\n",
      "/home/caleb/miniconda/envs/venv/lib/python3.7/site-packages/scipy/stats/_distn_infrastructure.py:2614: RuntimeWarning: invalid value encountered in true_divide\n",
      "  pk = 1.0*pk / np.sum(pk, axis=0)\n",
      "/home/caleb/Cornell-Conversational-Analysis-Toolkit/convokit/hyperconvo/hyperconvo.py:199: RuntimeWarning: invalid value encountered in long_scalars\n",
      "  if len(l) > 1 else np.nan\n"
     ]
    },
    {
     "name": "stdout",
     "output_type": "stream",
     "text": [
      "4aw9kx\n",
      "4g99y9\n",
      "4k2jur\n",
      "69y86q\n",
      "6qh8is\n",
      "71qc3m\n",
      "74k65y\n",
      "74n3ja\n",
      "7xif20\n",
      "811hk1\n",
      "84ah75\n",
      "86ukqt\n",
      "870v4l\n",
      "87s320\n",
      "8bd822\n",
      "8ecqhk\n",
      "8k8u4q\n",
      "8m34li\n",
      "8pt74y\n",
      "8qsa9u\n",
      "8qx8te\n",
      "8r2dln\n",
      "8rcg2i\n",
      "8s8nh6\n",
      "8vttql\n",
      "8y6sns\n",
      "924uxz\n",
      "987at1\n",
      "98ds2c\n",
      "9b85b2\n",
      "9bcd8m\n",
      "9c4bpu\n",
      "9ceoho\n",
      "9cley1\n",
      "9dieb9\n",
      "9f2e0y\n",
      "9f6jpn\n",
      "9f6lo9\n",
      "9fc56y\n",
      "9fry8r\n",
      "9jzpfm\n",
      "9mdeoh\n",
      "9mong7\n",
      "9oxnqb\n",
      "9p1u7h\n",
      "9q0o9j\n",
      "9q9mgt\n",
      "9s9b4c\n",
      "9smim3\n"
     ]
    }
   ],
   "source": [
    "hc = convokit.HyperConvo(prefix_len=10, min_thread_len=10, include_root=False)\n",
    "donald_corpus = hc.fit_transform(donald_corpus)"
   ]
  },
  {
   "cell_type": "code",
   "execution_count": 11,
   "metadata": {},
   "outputs": [],
   "source": [
    "hyperconv_feats = dict()\n",
    "for convo in donald_corpus.iter_conversations():\n",
    "    if 'hyperconvo' not in convo.meta: continue\n",
    "    hyperconv_feats[convo.id] = list(convo.meta['hyperconvo'].values())[0]"
   ]
  },
  {
   "cell_type": "code",
   "execution_count": 12,
   "metadata": {},
   "outputs": [
    {
     "data": {
      "text/plain": [
       "49"
      ]
     },
     "execution_count": 12,
     "metadata": {},
     "output_type": "execute_result"
    }
   ],
   "source": [
    "len(hyperconv_feats)"
   ]
  },
  {
   "cell_type": "code",
   "execution_count": null,
   "metadata": {},
   "outputs": [],
   "source": []
  }
 ],
 "metadata": {
  "kernelspec": {
   "display_name": "Python 3",
   "language": "python",
   "name": "python3"
  },
  "language_info": {
   "codemirror_mode": {
    "name": "ipython",
    "version": 3
   },
   "file_extension": ".py",
   "mimetype": "text/x-python",
   "name": "python",
   "nbconvert_exporter": "python",
   "pygments_lexer": "ipython3",
   "version": "3.7.4"
  }
 },
 "nbformat": 4,
 "nbformat_minor": 2
}
