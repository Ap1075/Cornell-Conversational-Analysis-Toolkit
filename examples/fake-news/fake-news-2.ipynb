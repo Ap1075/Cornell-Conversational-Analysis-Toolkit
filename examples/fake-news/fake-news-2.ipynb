{
 "cells": [
  {
   "cell_type": "code",
   "execution_count": 1,
   "metadata": {},
   "outputs": [],
   "source": [
    "import os"
   ]
  },
  {
   "cell_type": "code",
   "execution_count": 2,
   "metadata": {},
   "outputs": [],
   "source": [
    "news_dir = '/sauna/reddit_201810_raw/corpus/newreddits_nsfw~-~news/news/'\n",
    "donald_dir = '/sauna/reddit_201810_raw/corpus/TheTwoBeerQueers~-~The_Donald/The_Donald/'"
   ]
  },
  {
   "cell_type": "markdown",
   "metadata": {},
   "source": [
    "## Finding posts that appear in both subreddits"
   ]
  },
  {
   "cell_type": "code",
   "execution_count": 3,
   "metadata": {},
   "outputs": [],
   "source": [
    "os.chdir('/home/caleb/Cornell-Conversational-Analysis-Toolkit')"
   ]
  },
  {
   "cell_type": "code",
   "execution_count": 4,
   "metadata": {},
   "outputs": [],
   "source": [
    "from convokit import Corpus\n",
    "import convokit"
   ]
  },
  {
   "cell_type": "code",
   "execution_count": 5,
   "metadata": {},
   "outputs": [],
   "source": [
    "donald_corpus = Corpus(filename=donald_dir)"
   ]
  },
  {
   "cell_type": "code",
   "execution_count": 57,
   "metadata": {},
   "outputs": [
    {
     "name": "stdout",
     "output_type": "stream",
     "text": [
      "Number of Users: 617191\n",
      "Number of Utterances: 38640598\n",
      "Number of Conversations: 3830155\n"
     ]
    }
   ],
   "source": [
    "donald_corpus.print_summary_stats()"
   ]
  },
  {
   "cell_type": "code",
   "execution_count": 58,
   "metadata": {},
   "outputs": [
    {
     "data": {
      "text/plain": [
       "Conversation({'_owner': <convokit.model.corpus.Corpus object at 0x7f89dbd106d0>, '_id': '4cstwp', '_utterance_ids': ['4cstwp', 'd1l5e8t', 'd1l5egq', 'd1l5grh', 'd1l5h2s', 'd1l5h5z', 'd1l5mm4', 'd1l5mut', 'd1l5ocj', 'd1l5q5c', 'd1l5qsl', 'd1l5ssq', 'd1l5thm', 'd1l5ukw', 'd1l5vsv', 'd1l5vt6', 'd1l5vu7', 'd1l5wyn', 'd1l5x8q', 'd1l5y03', 'd1l5z1q', 'd1l615j', 'd1l65gw', 'd1l65or', 'd1l66fm', 'd1l692u', 'd1l6afl', 'd1l6nds', 'd1l6syz', 'd1l778w', 'd1l7aaj', 'd1l7dmi', 'd1l7q34', 'd1l8872', 'd1l8ihv', 'd1l8onm', 'd1l8rrl', 'd1lblj8', 'd1lbnhe', 'd1lc1b1', 'd1lchkh', 'd1leke9', 'd1lemam', 'd1lfz68', 'd1li0aq', 'd1li3d8', 'd1lit2w', 'd1lkela', 'd1lsh9u', 'd1ly9pn'], '_usernames': None, '_meta': {'title': 'Who is going to match my level of cringe?!', 'num_comments': 45, 'domain': 'imgur.com', 'timestamp': 1459468808, 'subreddit': 'The_Donald', 'gilded': 0, 'gildings': None, 'stickied': False, 'author_flair_text': 'NY'}})"
      ]
     },
     "execution_count": 58,
     "metadata": {},
     "output_type": "execute_result"
    }
   ],
   "source": [
    "next(donald_corpus.iter_conversations())"
   ]
  },
  {
   "cell_type": "code",
   "execution_count": 59,
   "metadata": {},
   "outputs": [],
   "source": [
    "donald_title_domains = [(convo.meta['title'], convo.meta['domain']) for convo in donald_corpus.iter_conversations()]"
   ]
  },
  {
   "cell_type": "code",
   "execution_count": 64,
   "metadata": {},
   "outputs": [
    {
     "data": {
      "text/plain": [
       "3830155"
      ]
     },
     "execution_count": 64,
     "metadata": {},
     "output_type": "execute_result"
    }
   ],
   "source": [
    "len(donald_title_domains)"
   ]
  },
  {
   "cell_type": "code",
   "execution_count": 68,
   "metadata": {},
   "outputs": [],
   "source": [
    "donald_title_domains = set(donald_title_domains)"
   ]
  },
  {
   "cell_type": "code",
   "execution_count": 69,
   "metadata": {},
   "outputs": [
    {
     "data": {
      "text/plain": [
       "3674684"
      ]
     },
     "execution_count": 69,
     "metadata": {},
     "output_type": "execute_result"
    }
   ],
   "source": [
    "len(donald_title_domains)"
   ]
  },
  {
   "cell_type": "code",
   "execution_count": 72,
   "metadata": {},
   "outputs": [
    {
     "data": {
      "text/plain": [
       "['Breitbart',\n",
       " 'DC Gazette',\n",
       " 'Daily Mail',\n",
       " 'LewRockwell',\n",
       " 'Newswars',\n",
       " 'Pamela Geller Report',\n",
       " 'The D.C. Clothesline',\n",
       " 'The Gateway Pundit',\n",
       " 'True Activist']"
      ]
     },
     "execution_count": 72,
     "metadata": {},
     "output_type": "execute_result"
    }
   ],
   "source": [
    "fake_news_sites"
   ]
  },
  {
   "cell_type": "code",
   "execution_count": 73,
   "metadata": {},
   "outputs": [],
   "source": [
    "fake_news_urls = {'breitbart.com', 'dcgazette.com', \"dailymail.co.uk\", \n",
    "                  \"lewrockwell.com\", \"newswars.com\", \"gellerreport.com\",\n",
    "                  \"dcclothesline.com\", \"thegatewaypundit.com\", \"trueactivist.com\"\n",
    "                 }"
   ]
  },
  {
   "cell_type": "code",
   "execution_count": 70,
   "metadata": {},
   "outputs": [],
   "source": [
    "filtered_donald_domains = {(k, v) for k, v in donald_title_domains if v in fake_news_urls}"
   ]
  },
  {
   "cell_type": "code",
   "execution_count": 71,
   "metadata": {},
   "outputs": [
    {
     "data": {
      "text/plain": [
       "98334"
      ]
     },
     "execution_count": 71,
     "metadata": {},
     "output_type": "execute_result"
    }
   ],
   "source": [
    "len(filtered_donald_domains)"
   ]
  },
  {
   "cell_type": "code",
   "execution_count": 74,
   "metadata": {},
   "outputs": [],
   "source": [
    "domains_ctr = Counter([domain for title, domain in filtered_donald_domains])"
   ]
  },
  {
   "cell_type": "markdown",
   "metadata": {},
   "source": [
    "no. of posts per website (filtering for duplicate titles; does not always filter duplicate articles because url is not inside the conversation metadata)"
   ]
  },
  {
   "cell_type": "code",
   "execution_count": 76,
   "metadata": {},
   "outputs": [
    {
     "data": {
      "text/plain": [
       "Counter({'breitbart.com': 61778,\n",
       "         'thegatewaypundit.com': 18591,\n",
       "         'dailymail.co.uk': 16675,\n",
       "         'newswars.com': 404,\n",
       "         'dcclothesline.com': 248,\n",
       "         'lewrockwell.com': 276,\n",
       "         'gellerreport.com': 301,\n",
       "         'trueactivist.com': 43,\n",
       "         'dcgazette.com': 18})"
      ]
     },
     "execution_count": 76,
     "metadata": {},
     "output_type": "execute_result"
    }
   ],
   "source": [
    "domains_ctr "
   ]
  },
  {
   "cell_type": "code",
   "execution_count": null,
   "metadata": {},
   "outputs": [],
   "source": []
  },
  {
   "cell_type": "code",
   "execution_count": null,
   "metadata": {},
   "outputs": [],
   "source": []
  },
  {
   "cell_type": "code",
   "execution_count": null,
   "metadata": {},
   "outputs": [],
   "source": [
    "news_corpus = Corpus(filename=news_dir)"
   ]
  },
  {
   "cell_type": "code",
   "execution_count": null,
   "metadata": {},
   "outputs": [],
   "source": []
  }
 ],
 "metadata": {
  "kernelspec": {
   "display_name": "Python 3",
   "language": "python",
   "name": "python3"
  },
  "language_info": {
   "codemirror_mode": {
    "name": "ipython",
    "version": 3
   },
   "file_extension": ".py",
   "mimetype": "text/x-python",
   "name": "python",
   "nbconvert_exporter": "python",
   "pygments_lexer": "ipython3",
   "version": "3.7.4"
  }
 },
 "nbformat": 4,
 "nbformat_minor": 2
}
