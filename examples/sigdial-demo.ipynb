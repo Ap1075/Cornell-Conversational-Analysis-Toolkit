{
 "cells": [
  {
   "cell_type": "markdown",
   "metadata": {},
   "source": [
    "In this example, we do a Fighting Words analysis on a Corpus of movie transcripts. Specifically, we want to examine how utterances of mixed-gender conversations (i.e. both male and female participants) differ from utterances of single-gender conversations in a **fictional** setting."
   ]
  },
  {
   "cell_type": "markdown",
   "metadata": {},
   "source": [
    "Before we get into the demo, we would like to note two things:\n",
    "1. This is a quick and straightforward analysis for the purposes of demonstration. More rigorous analyses with a more nuanced approach to gender can be conducted, but we limit our analysis to male and female speakers because of the limitations of the dataset (which only has labels for male and female speakers).\n",
    "\n",
    "2. This is an especially interesting example because it makes use of all three levels of the ConvoKit hierarchy in its analysis. Recall that we want to understand how *Utterances* from *Conversations* with different sets of *Speakers* differ linguistically."
   ]
  },
  {
   "cell_type": "markdown",
   "metadata": {},
   "source": [
    "### Loading a Corpus"
   ]
  },
  {
   "cell_type": "code",
   "execution_count": 1,
   "metadata": {},
   "outputs": [],
   "source": [
    "from convokit import Corpus, download, TextCleaner, FightingWords"
   ]
  },
  {
   "cell_type": "code",
   "execution_count": 2,
   "metadata": {},
   "outputs": [
    {
     "name": "stdout",
     "output_type": "stream",
     "text": [
      "Dataset already exists at /Users/calebchiam/.convokit/downloads/movie-corpus\n"
     ]
    }
   ],
   "source": [
    "movie_corpus = Corpus(download('movie-corpus'))"
   ]
  },
  {
   "cell_type": "markdown",
   "metadata": {},
   "source": [
    "### Preprocessing: Cleaning the text of the utterances\n",
    "\n",
    "This step cleans the texts of the Utterances by lowercasing and removing any unicode from them."
   ]
  },
  {
   "cell_type": "code",
   "execution_count": 3,
   "metadata": {},
   "outputs": [
    {
     "name": "stderr",
     "output_type": "stream",
     "text": [
      "/Library/Frameworks/Python.framework/Versions/3.7/lib/python3.7/site-packages/convokit/text_processing/textProcessor.py:63: FutureWarning: set_info() is deprecated and will be removed in a future release. Use add_meta() instead.\n"
     ]
    },
    {
     "name": "stdout",
     "output_type": "stream",
     "text": [
      "50000/304713 utterances processed\n",
      "100000/304713 utterances processed\n",
      "150000/304713 utterances processed\n",
      "200000/304713 utterances processed\n",
      "250000/304713 utterances processed\n",
      "300000/304713 utterances processed\n",
      "304713/304713 utterances processed\n"
     ]
    },
    {
     "name": "stderr",
     "output_type": "stream",
     "text": [
      "/Library/Frameworks/Python.framework/Versions/3.7/lib/python3.7/site-packages/convokit/text_processing/textCleaner.py:50: FutureWarning: get_info() is deprecated and will be removed in a future release. Use retrieve_meta() instead.\n",
      "/Library/Frameworks/Python.framework/Versions/3.7/lib/python3.7/site-packages/convokit/text_processing/textCleaner.py:52: FutureWarning: set_info() is deprecated and will be removed in a future release. Use add_meta() instead.\n"
     ]
    },
    {
     "data": {
      "text/plain": [
       "<convokit.model.corpus.Corpus at 0x1297bf490>"
      ]
     },
     "execution_count": 3,
     "metadata": {},
     "output_type": "execute_result"
    }
   ],
   "source": [
    "TextCleaner(verbosity=50000).transform(movie_corpus)"
   ]
  },
  {
   "cell_type": "markdown",
   "metadata": {},
   "source": [
    "### Custom feature extraction: Labeling the Conversations as 'mixed-gender' or 'single-gender'"
   ]
  },
  {
   "cell_type": "code",
   "execution_count": 4,
   "metadata": {},
   "outputs": [],
   "source": [
    "for convo in movie_corpus.iter_conversations():\n",
    "    genders = set([speaker.meta['gender'] for speaker in convo.iter_speakers()])\n",
    "    convo.meta['mixed'] = 'M' in genders and 'F' in genders"
   ]
  },
  {
   "cell_type": "markdown",
   "metadata": {},
   "source": [
    "Notice that it is easy to link different components of the Corpus together. In this case, we set an attribute for each Conversation based on attributes of the Speakers that participate in said Conversation -- a step that might be significantly more difficult in other setups."
   ]
  },
  {
   "cell_type": "markdown",
   "metadata": {},
   "source": [
    "### Analysis: Applying the FightingWords transformer\n",
    "This generates a summary of language differences between Utterances from the two types of Conversations"
   ]
  },
  {
   "cell_type": "code",
   "execution_count": 5,
   "metadata": {},
   "outputs": [
    {
     "name": "stdout",
     "output_type": "stream",
     "text": [
      "Initializing default CountVectorizer with ngram_range (1, 3)... Done.\n",
      "class1_func returned 100931 valid utterances. class2_func returned 203782 valid utterances.\n",
      "Vocab size is 15000\n",
      "Comparing language...\n",
      "ngram zscores computed.\n"
     ]
    },
    {
     "ename": "NameError",
     "evalue": "name 'corpus' is not defined",
     "output_type": "error",
     "traceback": [
      "\u001b[0;31m---------------------------------------------------------------------------\u001b[0m",
      "\u001b[0;31mNameError\u001b[0m                                 Traceback (most recent call last)",
      "\u001b[0;32m<ipython-input-5-5dd97de4d7e7>\u001b[0m in \u001b[0;36m<module>\u001b[0;34m\u001b[0m\n\u001b[1;32m      4\u001b[0m        class2_func=lambda utt: not utt.get_conversation().meta['mixed'])\n\u001b[1;32m      5\u001b[0m \u001b[0;34m\u001b[0m\u001b[0m\n\u001b[0;32m----> 6\u001b[0;31m \u001b[0mfw\u001b[0m\u001b[0;34m.\u001b[0m\u001b[0msummarize\u001b[0m\u001b[0;34m(\u001b[0m\u001b[0mcorpus\u001b[0m\u001b[0;34m,\u001b[0m \u001b[0mplot\u001b[0m\u001b[0;34m=\u001b[0m\u001b[0;32mTrue\u001b[0m\u001b[0;34m)\u001b[0m\u001b[0;34m\u001b[0m\u001b[0;34m\u001b[0m\u001b[0m\n\u001b[0m",
      "\u001b[0;31mNameError\u001b[0m: name 'corpus' is not defined"
     ]
    }
   ],
   "source": [
    "fw = FightingWords()\n",
    "\n",
    "fw.fit(movie_corpus, class1_func=lambda utt: utt.get_conversation().meta['mixed'],\n",
    "       class2_func=lambda utt: not utt.get_conversation().meta['mixed'])\n",
    "\n",
    "fw.summarize(corpus, plot=True)"
   ]
  },
  {
   "cell_type": "markdown",
   "metadata": {},
   "source": [
    "We see the mixed-gender conversations (class1) have more terms of endearment, like 'love' and 'honey', while single-gender conersations (class2) have more male terms of reference, such as 'man', 'mr', 'sir'.\n",
    "\n",
    "This perhaps reflects known stereotypes that have been discussed in prior research, such as that mixed-gender conversations are more likely to be romantic in nature, while single-gender conversations are more likely to be between male characters (most movies fail the Bechdel test)."
   ]
  },
  {
   "cell_type": "code",
   "execution_count": null,
   "metadata": {},
   "outputs": [],
   "source": []
  }
 ],
 "metadata": {
  "kernelspec": {
   "display_name": "Python 3",
   "language": "python",
   "name": "python3"
  },
  "language_info": {
   "codemirror_mode": {
    "name": "ipython",
    "version": 3
   },
   "file_extension": ".py",
   "mimetype": "text/x-python",
   "name": "python",
   "nbconvert_exporter": "python",
   "pygments_lexer": "ipython3",
   "version": "3.7.6"
  }
 },
 "nbformat": 4,
 "nbformat_minor": 2
}
