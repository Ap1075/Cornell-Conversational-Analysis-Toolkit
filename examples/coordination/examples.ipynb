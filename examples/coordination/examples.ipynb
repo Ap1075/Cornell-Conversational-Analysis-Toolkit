{
 "cells": [
  {
   "cell_type": "markdown",
   "metadata": {},
   "source": [
    "## Example 1"
   ]
  },
  {
   "cell_type": "markdown",
   "metadata": {},
   "source": [
    "This example uses the supreme court corpus to compute some simple information:\n",
    "- Which justices coordinate the most to others?\n",
    "- Which justices are coordinated to the most?"
   ]
  },
  {
   "cell_type": "code",
   "execution_count": 27,
   "metadata": {},
   "outputs": [],
   "source": [
    "import convokit\n",
    "\n",
    "from convokit import Corpus"
   ]
  },
  {
   "cell_type": "code",
   "execution_count": 18,
   "metadata": {},
   "outputs": [
    {
     "name": "stdout",
     "output_type": "stream",
     "text": [
      "\u001b[91mWARNING: \u001b[0mFound conflicting values for Corpus metadata key: 'name'. Overwriting with other Corpus's metadata.\n",
      "\u001b[91mWARNING: \u001b[0mFound conflicting values for Corpus metadata key: 'year'. Overwriting with other Corpus's metadata.\n",
      "\u001b[91mWARNING: \u001b[0mFound conflicting values for Corpus metadata key: 'name'. Overwriting with other Corpus's metadata.\n",
      "\u001b[91mWARNING: \u001b[0mFound conflicting values for Corpus metadata key: 'year'. Overwriting with other Corpus's metadata.\n",
      "\u001b[91mWARNING: \u001b[0mFound conflicting values for Corpus metadata key: 'name'. Overwriting with other Corpus's metadata.\n",
      "\u001b[91mWARNING: \u001b[0mFound conflicting values for Corpus metadata key: 'year'. Overwriting with other Corpus's metadata.\n",
      "\u001b[91mWARNING: \u001b[0mFound conflicting values for Corpus metadata key: 'name'. Overwriting with other Corpus's metadata.\n",
      "\u001b[91mWARNING: \u001b[0mFound conflicting values for Corpus metadata key: 'year'. Overwriting with other Corpus's metadata.\n",
      "\u001b[91mWARNING: \u001b[0mFound conflicting values for Corpus metadata key: 'name'. Overwriting with other Corpus's metadata.\n",
      "\u001b[91mWARNING: \u001b[0mFound conflicting values for Corpus metadata key: 'year'. Overwriting with other Corpus's metadata.\n",
      "\u001b[91mWARNING: \u001b[0mFound conflicting values for Corpus metadata key: 'name'. Overwriting with other Corpus's metadata.\n",
      "\u001b[91mWARNING: \u001b[0mFound conflicting values for Corpus metadata key: 'year'. Overwriting with other Corpus's metadata.\n",
      "\u001b[91mWARNING: \u001b[0mFound conflicting values for Corpus metadata key: 'name'. Overwriting with other Corpus's metadata.\n",
      "\u001b[91mWARNING: \u001b[0mFound conflicting values for Corpus metadata key: 'year'. Overwriting with other Corpus's metadata.\n",
      "\u001b[91mWARNING: \u001b[0mFound conflicting values for Corpus metadata key: 'name'. Overwriting with other Corpus's metadata.\n",
      "\u001b[91mWARNING: \u001b[0mFound conflicting values for Corpus metadata key: 'year'. Overwriting with other Corpus's metadata.\n",
      "\u001b[91mWARNING: \u001b[0mFound conflicting values for Corpus metadata key: 'name'. Overwriting with other Corpus's metadata.\n",
      "\u001b[91mWARNING: \u001b[0mFound conflicting values for Corpus metadata key: 'year'. Overwriting with other Corpus's metadata.\n"
     ]
    }
   ],
   "source": [
    "# OPTION 1: DOWNLOAD CORPUS\n",
    "# UNCOMMENT THESE LINES TO DOWNLOAD CORPUS\n",
    "# DATA_DIR = '<YOUR DIRECTORY>'\n",
    "# ROOT_DIR = convokit.download('supreme-corpus', data_dir=DATA_DIR)\n",
    "\n",
    "# OPTION 2: READ PREVIOUSLY-DOWNLOADED CORPUS FROM DISK\n",
    "# UNCOMMENT THIS LINE AND REPLACE WITH THE DIRECTORY WHERE THE CORPUS IS LOCATED\n",
    "# ROOT_DIR = '<YOUR DIRECTORY>'\n",
    "\n",
    "corpus = None\n",
    "for x in range(10):\n",
    "    ROOT_DIR = \"/c/users/andrew/downloads/zissou.infosci.cornell.edu/convokit/datasets/oyez-corpus/oyez_201{}\".format(x, x)\n",
    "    corpus = Corpus(ROOT_DIR) if corpus is None else corpus.merge(Corpus(ROOT_DIR))\n",
    "#corpus = Corpus(filename=download(\"oyez_2019\"))"
   ]
  },
  {
   "cell_type": "code",
   "execution_count": 42,
   "metadata": {},
   "outputs": [],
   "source": [
    "corpus = Corpus(\"/c/users/andrew/dev/Cornell-Conversational-Analysis-Toolkit/datasets/supreme-corpus/supreme\")"
   ]
  },
  {
   "cell_type": "code",
   "execution_count": 37,
   "metadata": {
    "scrolled": true
   },
   "outputs": [
    {
     "name": "stdout",
     "output_type": "stream",
     "text": [
      "Justices, ranked by how much they coordinate to others:\n",
      "JUSTICE THOMAS 0.12485\n",
      "JUSTICE BREYER 0.04606\n",
      "JUSTICE O'CONNOR 0.04432\n",
      "JUSTICE SOUTER 0.04118\n",
      "JUSTICE SCALIA 0.03885\n",
      "JUSTICE KENNEDY 0.03419\n",
      "JUSTICE STEVENS 0.03193\n",
      "JUSTICE GINSBURG 0.02437\n",
      "CHIEF JUSTICE REHNQUIST 0.01977\n",
      "CHIEF JUSTICE ROBERTS 0.01923\n",
      "JUSTICE ALITO 0.01045\n",
      "\n",
      "Justices, ranked by how much others coordinate to them:\n",
      "CHIEF JUSTICE REHNQUIST 0.08959\n",
      "CHIEF JUSTICE ROBERTS 0.06644\n",
      "JUSTICE GINSBURG 0.05971\n",
      "JUSTICE O'CONNOR 0.056\n",
      "JUSTICE STEVENS 0.04988\n",
      "JUSTICE ALITO 0.0446\n",
      "JUSTICE KENNEDY 0.04273\n",
      "JUSTICE SOUTER 0.04045\n",
      "JUSTICE SCALIA 0.03438\n",
      "JUSTICE THOMAS 0.03393\n",
      "JUSTICE BREYER 0.02758\n",
      "\n"
     ]
    }
   ],
   "source": [
    "# compute coordination scores on this corpus\n",
    "coord = convokit.Coordination()\n",
    "coord.fit(corpus)\n",
    "\n",
    "# get coordination scores\n",
    "coord.transform(corpus)\n",
    "\n",
    "# get set of all justices\n",
    "justices = lambda speaker: speaker.meta[\"type\"] == \"J\"\n",
    "# get set of all speakers\n",
    "everyone = lambda speaker: True\n",
    "\n",
    "# compute coordination from each justice to everyone\n",
    "print(\"Justices, ranked by how much they coordinate to others:\")\n",
    "justices_to_everyone = coord.summarize(corpus, justices, everyone)\n",
    "for justice, score in sorted(justices_to_everyone.averages_by_speaker().items(),\n",
    "    key=lambda x: x[1], reverse=True):\n",
    "    print(justice.id, round(score, 5))\n",
    "print()\n",
    "\n",
    "# compute coordination from everyone to each justice\n",
    "print(\"Justices, ranked by how much others coordinate to them:\")\n",
    "everyone_to_justices = coord.summarize(corpus, everyone, justices, focus=\"targets\")\n",
    "for justice, score in sorted(everyone_to_justices.averages_by_speaker().items(), \n",
    "    key=lambda x: x[1], reverse=True):\n",
    "    print(justice.id, round(score, 5))\n",
    "print()"
   ]
  },
  {
   "cell_type": "markdown",
   "metadata": {},
   "source": [
    "##### Example 2"
   ]
  },
  {
   "cell_type": "markdown",
   "metadata": {},
   "source": [
    "This example uses the supreme court corpus to reproduce figures 4 and 5 from\n",
    "  the echoes of power paper (https://www.cs.cornell.edu/~cristian/Echoes_of_power.html).\n",
    "\n",
    "The plots answer these questions:\n",
    "- Do lawyers coordinate more to justices than the other way around?\n",
    "- Do lawyers coordinate more to unfavorable or favorable justices?\n",
    "- Do unfavorable justices coordinate to lawyers more than favorable justices,\n",
    "    or vice versa?"
   ]
  },
  {
   "cell_type": "code",
   "execution_count": 38,
   "metadata": {},
   "outputs": [],
   "source": [
    "from convokit import Utterance, Corpus, Coordination, download\n",
    "\n",
    "import matplotlib.pyplot as plt\n",
    "import matplotlib.patches as mpatches\n",
    "import numpy as np\n",
    "\n",
    "%matplotlib inline"
   ]
  },
  {
   "cell_type": "code",
   "execution_count": 39,
   "metadata": {},
   "outputs": [],
   "source": [
    "# helper function to plot two coordination scores against each other as a chart,\n",
    "#   on aggregate and by coordination marker\n",
    "# a is a tuple (speakers, targets)\n",
    "# b is a tuple (speakers, targets)\n",
    "def make_chart(a_scores, b_scores, a_description, b_description, a_color=\"b\", b_color=\"g\"):\n",
    "    # get scores by marker and on aggregate\n",
    "    a_score_by_marker = a_scores[\"marker_agg2\"]\n",
    "    a_agg1, a_agg2, a_agg3 = a_scores[\"agg1\"], a_scores[\"agg2\"], a_scores[\"agg3\"]\n",
    "    b_score_by_marker = b_scores[\"marker_agg2\"]\n",
    "    b_agg1, b_agg2, b_agg3 = b_scores[\"agg1\"], b_scores[\"agg2\"], b_scores[\"agg3\"]\n",
    "\n",
    "    # the rest plots this data as a double bar graph\n",
    "    a_data_points = sorted(a_score_by_marker.items())\n",
    "    b_data_points = sorted(b_score_by_marker.items())\n",
    "    a_data_points, b_data_points = zip(*sorted(zip(a_data_points, b_data_points),\n",
    "        key=lambda x: x[0][1], reverse=True))\n",
    "    labels, a_data_points = zip(*a_data_points)\n",
    "    _, b_data_points = zip(*b_data_points)\n",
    "\n",
    "    labels = [\"aggregate 1\", \"aggregate 2\", \"aggregate 3\"] + list(labels)\n",
    "    a_data_points = [a_agg1, a_agg2, a_agg3] + list(a_data_points)\n",
    "    b_data_points = [b_agg1, b_agg2, b_agg3] + list(b_data_points)\n",
    "\n",
    "    fig, ax = plt.subplots()\n",
    "    ax.set_xticks(np.arange(len(a_data_points)) + 0.35)\n",
    "    ax.set_xticklabels(labels, rotation=\"vertical\")\n",
    "\n",
    "    ax.bar(np.arange(len(a_data_points)), a_data_points, 0.35, color=a_color)\n",
    "    ax.bar(np.arange(len(b_data_points)) + 0.35, b_data_points, 0.35, color=b_color)\n",
    "\n",
    "    b_patch = mpatches.Patch(color=\"b\",\n",
    "                             label=a_description + \" (total: \" +\n",
    "                             str(a_scores[\"count_agg1\"]) + \", \" +\n",
    "                             str(a_scores[\"count_agg2\"]) + \")\")\n",
    "    g_patch = mpatches.Patch(color=\"g\",\n",
    "                             label=b_description + \" (total: \"  +\n",
    "                             str(b_scores[\"count_agg1\"]) + \", \" +\n",
    "                             str(b_scores[\"count_agg2\"]) + \")\")\n",
    "    plt.legend(handles=[b_patch, g_patch])\n",
    "\n",
    "    filename = str(a_description) + \" vs \" + str(b_description) + \".png\"\n",
    "    plt.savefig(filename, bbox_inches=\"tight\")\n",
    "    print('Created chart \"' + filename + '\"')"
   ]
  },
  {
   "cell_type": "code",
   "execution_count": 51,
   "metadata": {},
   "outputs": [
    {
     "name": "stdout",
     "output_type": "stream",
     "text": [
      "Created chart \"Target-unfavorable justice vs Target-favorable justice.png\"\n",
      "Created chart \"Speaker-unfavorable justice vs Speaker-favorable justice.png\"\n"
     ]
    },
    {
     "data": {
      "image/png": "[encoded data removed]",
      "text/plain": [
       "<Figure size 432x288 with 1 Axes>"
      ]
     },
     "metadata": {
      "needs_background": "light"
     },
     "output_type": "display_data"
    },
    {
     "data": {
      "image/png": "[encoded data removed]",
      "text/plain": [
       "<Figure size 432x288 with 1 Axes>"
      ]
     },
     "metadata": {
      "needs_background": "light"
     },
     "output_type": "display_data"
    }
   ],
   "source": [
    "# split speakers by case id\n",
    "# this treats the same person across two different cases as two different speakers\n",
    "split = [\"case_id\"]\n",
    "\n",
    "# create coordination object\n",
    "coord = Coordination()\n",
    "coord.fit(corpus)\n",
    "\n",
    "# get all groups of speakers that we want to compare\n",
    "everyone = lambda speaker: True\n",
    "justices = lambda speaker: speaker.meta[\"type\"] == \"J\"\n",
    "lawyers = lambda speaker: speaker.meta[\"type\"] == \"A\"\n",
    "\n",
    "# filter out justice utterances, leaving only justices who voted on the same side as the advocates speaking to them\n",
    "def target_justice_is_favorable(speaker_utt, target_utt):\n",
    "    convo = speaker_utt.get_conversation()\n",
    "    if convo.meta[\"votes_side\"] is None: return False\n",
    "    if speaker_utt.speaker.id not in convo.meta[\"advocates\"]: return False\n",
    "    lawyer_side = convo.meta[\"advocates\"][speaker_utt.speaker.id][\"side\"]\n",
    "    if target_utt.speaker.id not in convo.meta[\"votes_side\"]: return False\n",
    "    justice_side = convo.meta[\"votes_side\"][target_utt.speaker.id]\n",
    "    return justice_side == lawyer_side\n",
    "\n",
    "def target_justice_is_unfavorable(speaker_utt, target_utt):\n",
    "    convo = speaker_utt.get_conversation()\n",
    "    if convo.meta[\"votes_side\"] is None: return False\n",
    "    if speaker_utt.speaker.id not in convo.meta[\"advocates\"]: return False\n",
    "    lawyer_side = convo.meta[\"advocates\"][speaker_utt.speaker.id][\"side\"]\n",
    "    if target_utt.speaker.id not in convo.meta[\"votes_side\"]: return False\n",
    "    justice_side = convo.meta[\"votes_side\"][target_utt.speaker.id]\n",
    "    return justice_side != lawyer_side\n",
    "\n",
    "# filter out justice utterances, leaving only justices who voted on the same side as the advocates they spoke to\n",
    "def speaker_justice_is_favorable(speaker_utt, target_utt):\n",
    "    convo = speaker_utt.get_conversation()\n",
    "    if convo.meta[\"votes_side\"] is None: return False\n",
    "    if target_utt.speaker.id not in convo.meta[\"advocates\"]: return False\n",
    "    lawyer_side = convo.meta[\"advocates\"][target_utt.speaker.id][\"side\"]\n",
    "    if speaker_utt.speaker.id not in convo.meta[\"votes_side\"]: return False\n",
    "    justice_side = convo.meta[\"votes_side\"][speaker_utt.speaker.id]\n",
    "    return justice_side == lawyer_side\n",
    "\n",
    "def speaker_justice_is_unfavorable(speaker_utt, target_utt):\n",
    "    convo = speaker_utt.get_conversation()\n",
    "    if convo.meta[\"votes_side\"] is None: return False\n",
    "    if target_utt.speaker.id not in convo.meta[\"advocates\"]: return False\n",
    "    lawyer_side = convo.meta[\"advocates\"][target_utt.speaker.id][\"side\"]\n",
    "    if speaker_utt.speaker.id not in convo.meta[\"votes_side\"]: return False\n",
    "    justice_side = convo.meta[\"votes_side\"][speaker_utt.speaker.id]\n",
    "    return justice_side != lawyer_side\n",
    "\n",
    "# do lawyers coordinate more to unfavorable or favorable justices?\n",
    "make_chart(\n",
    "    coord.summarize(corpus, lawyers, justices, summary_report=True,\n",
    "                    target_thresh=3, speaker_thresh=3, split_by_attribs=split,\n",
    "                    target_utterance_selector=target_justice_is_unfavorable),\n",
    "    coord.summarize(corpus, lawyers, justices, summary_report=True,\n",
    "                    target_thresh=3, speaker_thresh=3, split_by_attribs=split,\n",
    "                    target_utterance_selector=target_justice_is_favorable),\n",
    "    \"Target-unfavorable justice\", \"Target-favorable justice\"\n",
    ")\n",
    "# do unfavorable justices coordinate to lawyers more than favorable justices, or\n",
    "#   vice versa?\n",
    "make_chart(\n",
    "    coord.summarize(corpus, justices, lawyers, summary_report=True,\n",
    "                    target_thresh=6, split_by_attribs=split,\n",
    "                    speaker_utterance_selector=speaker_justice_is_unfavorable),\n",
    "    coord.summarize(corpus, justices, lawyers, summary_report=True,\n",
    "                    target_thresh=6, split_by_attribs=split,\n",
    "                    speaker_utterance_selector=speaker_justice_is_favorable),\n",
    "    \"Speaker-unfavorable justice\", \"Speaker-favorable justice\"\n",
    ")"
   ]
  },
  {
   "cell_type": "markdown",
   "metadata": {},
   "source": [
    "## Example 3"
   ]
  },
  {
   "cell_type": "markdown",
   "metadata": {},
   "source": [
    "This example uses the wikipedia conversations corpus to reproduce figure 1\n",
    "  from the echoes of power paper (https://www.cs.cornell.edu/~cristian/Echoes_of_power.html).\n",
    "\n",
    "The plots answer these questions: \n",
    "- Do speakers on the whole coordinate more to admins or nonadmins?\n",
    "- Do admins coordinate to other people more than nonadmins do?"
   ]
  },
  {
   "cell_type": "code",
   "execution_count": 21,
   "metadata": {},
   "outputs": [],
   "source": [
    "# OPTION 1: DOWNLOAD CORPUS\n",
    "# UNCOMMENT THESE LINES TO DOWNLOAD CORPUS\n",
    "# DATA_DIR = '<YOUR DIRECTORY>'\n",
    "# ROOT_DIR = convokit.download('wiki-corpus', data_dir=DATA_DIR)\n",
    "\n",
    "# OPTION 2: READ PREVIOUSLY-DOWNLOADED CORPUS FROM DISK\n",
    "# UNCOMMENT THIS LINE AND REPLACE WITH THE DIRECTORY WHERE THE CORPUS IS LOCATED\n",
    "# ROOT_DIR = '<YOUR DIRECTORY>'\n",
    "\n",
    "corpus = Corpus(ROOT_DIR)\n",
    "split = [\"is-admin\"]"
   ]
  },
  {
   "cell_type": "code",
   "execution_count": 24,
   "metadata": {},
   "outputs": [
    {
     "name": "stdout",
     "output_type": "stream",
     "text": [
      "Created chart \"Target-admins vs Target-nonadmins.png\"\n",
      "Created chart \"Speaker-admins vs Speaker-nonadmins.png\"\n"
     ]
    },
    {
     "data": {
      "image/png": "[encoded data removed]",
      "text/plain": [
       "<Figure size 432x288 with 1 Axes>"
      ]
     },
     "metadata": {
      "needs_background": "light"
     },
     "output_type": "display_data"
    },
    {
     "data": {
      "image/png": "[encoded data removed]",
      "text/plain": [
       "<Figure size 432x288 with 1 Axes>"
      ]
     },
     "metadata": {
      "needs_background": "light"
     },
     "output_type": "display_data"
    }
   ],
   "source": [
    "# create coordination object\n",
    "coord = Coordination()\n",
    "coord.fit(corpus)\n",
    "\n",
    "# get all groups of speakers that we want to compare\n",
    "everyone = lambda speaker: True\n",
    "admins = lambda speaker: speaker.meta[\"is-admin\"]\n",
    "nonadmins = lambda speaker: not speaker.meta[\"is-admin\"]\n",
    "\n",
    "# do speakers on the whole coordinate more to admins or nonadmins?\n",
    "make_chart(\n",
    "    coord.summarize(corpus, everyone, admins, focus=\"targets\", summary_report=True,\n",
    "                    target_thresh=7, split_by_attribs=split),\n",
    "    coord.summarize(corpus, everyone, nonadmins, focus=\"targets\", summary_report=True,\n",
    "                    target_thresh=7, split_by_attribs=split),\n",
    "    \"Target-admins\", \"Target-nonadmins\"\n",
    ")\n",
    "# do admins coordinate to other people more than nonadmins do?\n",
    "make_chart(\n",
    "    coord.summarize(corpus, admins, everyone, summary_report=True,\n",
    "                    speaker_thresh=7, target_thresh=7, split_by_attribs=split),\n",
    "    coord.summarize(corpus, nonadmins, everyone, summary_report=True,\n",
    "                    speaker_thresh=7, target_thresh=7, split_by_attribs=split),\n",
    "    \"Speaker-admins\", \"Speaker-nonadmins\"\n",
    ")"
   ]
  },
  {
   "cell_type": "code",
   "execution_count": null,
   "metadata": {},
   "outputs": [],
   "source": []
  }
 ],
 "metadata": {
  "kernelspec": {
   "display_name": "Python 3",
   "language": "python",
   "name": "python3"
  },
  "language_info": {
   "codemirror_mode": {
    "name": "ipython",
    "version": 3
   },
   "file_extension": ".py",
   "mimetype": "text/x-python",
   "name": "python",
   "nbconvert_exporter": "python",
   "pygments_lexer": "ipython3",
   "version": "3.6.8"
  }
 },
 "nbformat": 4,
 "nbformat_minor": 2
}
