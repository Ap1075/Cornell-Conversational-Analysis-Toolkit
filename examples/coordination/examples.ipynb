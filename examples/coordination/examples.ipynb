{
 "cells": [
  {
   "cell_type": "markdown",
   "metadata": {},
   "source": [
    "## Example 1"
   ]
  },
  {
   "cell_type": "markdown",
   "metadata": {},
   "source": [
    "This example uses the supreme court corpus to compute some simple information:\n",
    "- Which justices coordinate the most to others?\n",
    "- Which justices are coordinated to the most?"
   ]
  },
  {
   "cell_type": "code",
   "execution_count": 27,
   "metadata": {},
   "outputs": [],
   "source": [
    "import convokit\n",
    "\n",
    "from convokit import Corpus"
   ]
  },
  {
   "cell_type": "code",
   "execution_count": 68,
   "metadata": {},
   "outputs": [
    {
     "name": "stdout",
     "output_type": "stream",
     "text": [
      "\u001b[91mWARNING: \u001b[0mFound conflicting values for Corpus metadata key: 'name'. Overwriting with other Corpus's metadata.\n",
      "\u001b[91mWARNING: \u001b[0mFound conflicting values for Corpus metadata key: 'year'. Overwriting with other Corpus's metadata.\n",
      "\u001b[91mWARNING: \u001b[0mFound conflicting values for Corpus metadata key: 'name'. Overwriting with other Corpus's metadata.\n",
      "\u001b[91mWARNING: \u001b[0mFound conflicting values for Corpus metadata key: 'year'. Overwriting with other Corpus's metadata.\n",
      "\u001b[91mWARNING: \u001b[0mFound conflicting values for Corpus metadata key: 'name'. Overwriting with other Corpus's metadata.\n",
      "\u001b[91mWARNING: \u001b[0mFound conflicting values for Corpus metadata key: 'year'. Overwriting with other Corpus's metadata.\n",
      "\u001b[91mWARNING: \u001b[0mFound conflicting values for Corpus metadata key: 'name'. Overwriting with other Corpus's metadata.\n",
      "\u001b[91mWARNING: \u001b[0mFound conflicting values for Corpus metadata key: 'year'. Overwriting with other Corpus's metadata.\n",
      "\u001b[91mWARNING: \u001b[0mFound conflicting values for Corpus metadata key: 'name'. Overwriting with other Corpus's metadata.\n",
      "\u001b[91mWARNING: \u001b[0mFound conflicting values for Corpus metadata key: 'year'. Overwriting with other Corpus's metadata.\n",
      "\u001b[91mWARNING: \u001b[0mFound conflicting values for Corpus metadata key: 'name'. Overwriting with other Corpus's metadata.\n",
      "\u001b[91mWARNING: \u001b[0mFound conflicting values for Corpus metadata key: 'year'. Overwriting with other Corpus's metadata.\n",
      "\u001b[91mWARNING: \u001b[0mFound conflicting values for Corpus metadata key: 'name'. Overwriting with other Corpus's metadata.\n",
      "\u001b[91mWARNING: \u001b[0mFound conflicting values for Corpus metadata key: 'year'. Overwriting with other Corpus's metadata.\n"
     ]
    }
   ],
   "source": [
    "# OPTION 1: DOWNLOAD CORPUS\n",
    "# UNCOMMENT THESE LINES TO DOWNLOAD CORPUS\n",
    "# DATA_DIR = '<YOUR DIRECTORY>'\n",
    "# ROOT_DIR = convokit.download('supreme-corpus', data_dir=DATA_DIR)\n",
    "\n",
    "# OPTION 2: READ PREVIOUSLY-DOWNLOADED CORPUS FROM DISK\n",
    "# UNCOMMENT THIS LINE AND REPLACE WITH THE DIRECTORY WHERE THE CORPUS IS LOCATED\n",
    "# ROOT_DIR = '<YOUR DIRECTORY>'\n",
    "\n",
    "corpus_new = None\n",
    "for x in range(8):\n",
    "    ROOT_DIR = \"/c/users/andrew/downloads/zissou.infosci.cornell.edu/convokit/datasets/oyez-corpus/oyez_{}\".format(2004 + x)\n",
    "    corpus_new = Corpus(ROOT_DIR) if corpus_new is None else corpus_new.merge(Corpus(ROOT_DIR))\n",
    "#corpus = Corpus(filename=download(\"oyez_2019\"))"
   ]
  },
  {
   "cell_type": "code",
   "execution_count": 71,
   "metadata": {},
   "outputs": [],
   "source": [
    "corpus_old = Corpus(\"/c/users/andrew/dev/Cornell-Conversational-Analysis-Toolkit/datasets/supreme-corpus/supreme\")"
   ]
  },
  {
   "cell_type": "code",
   "execution_count": 108,
   "metadata": {},
   "outputs": [
    {
     "name": "stdout",
     "output_type": "stream",
     "text": [
      "['08-661', '05-260', '05-998', '08-598', '08-310', '03-1423', '06-666', '04-1739', '06-1595', '08-495']\n",
      "<convokit.model.corpus.Corpus object at 0x7fd43bbf05f8>\n"
     ]
    }
   ],
   "source": [
    "utts = list(corpus_old.utterances.values())\n",
    "case_ids_old = set([u.meta[\"case_id\"] for u in utts])\n",
    "\n",
    "utts = list(corpus_new.utterances.values())\n",
    "case_ids_new = [u.meta[\"case_id\"] for u in utts]\n",
    "case_ids_new = set([x[5:] for x in case_ids_new])\n",
    "print(list(case_ids_new)[:10])\n",
    "\n",
    "corpus_new_filt = corpus_new.filter_utterances_by(lambda u: u.meta[\"case_id\"][5:] in case_ids_old)\n",
    "\n",
    "#utts2 = [u for u in utts if u.meta[\"case_id\"] == \"04-5928\"]\n",
    "\n",
    "##for u1, u2 in zip(utts1, utts2):\n",
    "#    print(\">>\", u1.text)\n",
    "#    print(\"<<\", u2.text)\n",
    "#print([u.text for u in utts])\n",
    "\n",
    "\n",
    "#print(utts[:10])\n",
    "\n",
    "corpus = corpus_new_filt"
   ]
  },
  {
   "cell_type": "code",
   "execution_count": 109,
   "metadata": {
    "scrolled": true
   },
   "outputs": [
    {
     "name": "stdout",
     "output_type": "stream",
     "text": [
      "Justices, ranked by how much they coordinate to others:\n",
      "j__clarence_thomas 0.12485\n",
      "j__stephen_g_breyer 0.04631\n",
      "j__sandra_day_oconnor 0.04564\n",
      "j__david_h_souter 0.04175\n",
      "j__antonin_scalia 0.04082\n",
      "j__anthony_m_kennedy 0.0334\n",
      "j__john_paul_stevens 0.03198\n",
      "j__ruth_bader_ginsburg 0.02459\n",
      "j__john_g_roberts_jr 0.01922\n",
      "j__william_h_rehnquist 0.01801\n",
      "j__samuel_a_alito_jr 0.0087\n",
      "\n",
      "Justices, ranked by how much others coordinate to them:\n",
      "j__ruth_bader_ginsburg 0.0595\n",
      "j__sandra_day_oconnor 0.05624\n",
      "j__william_h_rehnquist 0.05271\n",
      "j__david_h_souter 0.0425\n",
      "j__samuel_a_alito_jr 0.04247\n",
      "j__anthony_m_kennedy 0.04195\n",
      "j__john_paul_stevens 0.04155\n",
      "j__john_g_roberts_jr 0.0399\n",
      "j__clarence_thomas 0.03393\n",
      "j__antonin_scalia 0.03367\n",
      "j__stephen_g_breyer 0.02924\n",
      "\n"
     ]
    }
   ],
   "source": [
    "# compute coordination scores on this corpus\n",
    "coord = convokit.Coordination()\n",
    "coord.fit(corpus)\n",
    "\n",
    "# get coordination scores\n",
    "coord.transform(corpus)\n",
    "\n",
    "# get set of all justices\n",
    "justices = lambda speaker: speaker.meta[\"type\"] == \"J\"\n",
    "# get set of all speakers\n",
    "everyone = lambda speaker: True\n",
    "\n",
    "# compute coordination from each justice to everyone\n",
    "print(\"Justices, ranked by how much they coordinate to others:\")\n",
    "justices_to_everyone = coord.summarize(corpus, justices, everyone)\n",
    "for justice, score in sorted(justices_to_everyone.averages_by_speaker().items(),\n",
    "    key=lambda x: x[1], reverse=True):\n",
    "    print(justice.id, round(score, 5))\n",
    "print()\n",
    "\n",
    "# compute coordination from everyone to each justice\n",
    "print(\"Justices, ranked by how much others coordinate to them:\")\n",
    "everyone_to_justices = coord.summarize(corpus, everyone, justices, focus=\"targets\")\n",
    "for justice, score in sorted(everyone_to_justices.averages_by_speaker().items(), \n",
    "    key=lambda x: x[1], reverse=True):\n",
    "    print(justice.id, round(score, 5))\n",
    "print()"
   ]
  },
  {
   "cell_type": "markdown",
   "metadata": {},
   "source": [
    "##### Example 2"
   ]
  },
  {
   "cell_type": "markdown",
   "metadata": {},
   "source": [
    "This example uses the supreme court corpus to reproduce figures 4 and 5 from\n",
    "  the echoes of power paper (https://www.cs.cornell.edu/~cristian/Echoes_of_power.html).\n",
    "\n",
    "The plots answer these questions:\n",
    "- Do lawyers coordinate more to justices than the other way around?\n",
    "- Do lawyers coordinate more to unfavorable or favorable justices?\n",
    "- Do unfavorable justices coordinate to lawyers more than favorable justices,\n",
    "    or vice versa?"
   ]
  },
  {
   "cell_type": "code",
   "execution_count": 110,
   "metadata": {},
   "outputs": [],
   "source": [
    "from convokit import Utterance, Corpus, Coordination, download\n",
    "\n",
    "import matplotlib.pyplot as plt\n",
    "import matplotlib.patches as mpatches\n",
    "import numpy as np\n",
    "\n",
    "%matplotlib inline"
   ]
  },
  {
   "cell_type": "code",
   "execution_count": 111,
   "metadata": {},
   "outputs": [],
   "source": [
    "# helper function to plot two coordination scores against each other as a chart,\n",
    "#   on aggregate and by coordination marker\n",
    "# a is a tuple (speakers, targets)\n",
    "# b is a tuple (speakers, targets)\n",
    "def make_chart(a_scores, b_scores, a_description, b_description, a_color=\"b\", b_color=\"g\"):\n",
    "    # get scores by marker and on aggregate\n",
    "    a_score_by_marker = a_scores[\"marker_agg2\"]\n",
    "    a_agg1, a_agg2, a_agg3 = a_scores[\"agg1\"], a_scores[\"agg2\"], a_scores[\"agg3\"]\n",
    "    b_score_by_marker = b_scores[\"marker_agg2\"]\n",
    "    b_agg1, b_agg2, b_agg3 = b_scores[\"agg1\"], b_scores[\"agg2\"], b_scores[\"agg3\"]\n",
    "\n",
    "    # the rest plots this data as a double bar graph\n",
    "    a_data_points = sorted(a_score_by_marker.items())\n",
    "    b_data_points = sorted(b_score_by_marker.items())\n",
    "    a_data_points, b_data_points = zip(*sorted(zip(a_data_points, b_data_points),\n",
    "        key=lambda x: x[0][1], reverse=True))\n",
    "    labels, a_data_points = zip(*a_data_points)\n",
    "    _, b_data_points = zip(*b_data_points)\n",
    "\n",
    "    labels = [\"aggregate 1\", \"aggregate 2\", \"aggregate 3\"] + list(labels)\n",
    "    a_data_points = [a_agg1, a_agg2, a_agg3] + list(a_data_points)\n",
    "    b_data_points = [b_agg1, b_agg2, b_agg3] + list(b_data_points)\n",
    "\n",
    "    fig, ax = plt.subplots()\n",
    "    ax.set_xticks(np.arange(len(a_data_points)) + 0.35)\n",
    "    ax.set_xticklabels(labels, rotation=\"vertical\")\n",
    "\n",
    "    ax.bar(np.arange(len(a_data_points)), a_data_points, 0.35, color=a_color)\n",
    "    ax.bar(np.arange(len(b_data_points)) + 0.35, b_data_points, 0.35, color=b_color)\n",
    "\n",
    "    b_patch = mpatches.Patch(color=\"b\",\n",
    "                             label=a_description + \" (total: \" +\n",
    "                             str(a_scores[\"count_agg1\"]) + \", \" +\n",
    "                             str(a_scores[\"count_agg2\"]) + \")\")\n",
    "    g_patch = mpatches.Patch(color=\"g\",\n",
    "                             label=b_description + \" (total: \"  +\n",
    "                             str(b_scores[\"count_agg1\"]) + \", \" +\n",
    "                             str(b_scores[\"count_agg2\"]) + \")\")\n",
    "    plt.legend(handles=[b_patch, g_patch])\n",
    "\n",
    "    filename = str(a_description) + \" vs \" + str(b_description) + \".png\"\n",
    "    plt.savefig(filename, bbox_inches=\"tight\")\n",
    "    print('Created chart \"' + filename + '\"')"
   ]
  },
  {
   "cell_type": "code",
   "execution_count": 112,
   "metadata": {},
   "outputs": [
    {
     "name": "stdout",
     "output_type": "stream",
     "text": [
      "Created chart \"Target-unfavorable justice vs Target-favorable justice.png\"\n",
      "Created chart \"Speaker-unfavorable justice vs Speaker-favorable justice.png\"\n"
     ]
    },
    {
     "data": {
      "image/png": "[encoded data removed]",
      "text/plain": [
       "<Figure size 432x288 with 1 Axes>"
      ]
     },
     "metadata": {
      "needs_background": "light"
     },
     "output_type": "display_data"
    },
    {
     "data": {
      "image/png": "[encoded data removed]",
      "text/plain": [
       "<Figure size 432x288 with 1 Axes>"
      ]
     },
     "metadata": {
      "needs_background": "light"
     },
     "output_type": "display_data"
    }
   ],
   "source": [
    "# split speakers by case id\n",
    "# this treats the same person across two different cases as two different speakers\n",
    "split = [\"case_id\"]\n",
    "\n",
    "# create coordination object\n",
    "coord = Coordination()\n",
    "coord.fit(corpus)\n",
    "\n",
    "# get all groups of speakers that we want to compare\n",
    "everyone = lambda speaker: True\n",
    "justices = lambda speaker: speaker.meta[\"type\"] == \"J\"\n",
    "lawyers = lambda speaker: speaker.meta[\"type\"] == \"A\"\n",
    "\n",
    "# filter out justice utterances, leaving only justices who voted on the same side as the advocates speaking to them\n",
    "def target_justice_is_favorable(speaker_utt, target_utt):\n",
    "    convo = speaker_utt.get_conversation()\n",
    "    if convo.meta[\"votes_side\"] is None: return False\n",
    "    if speaker_utt.speaker.id not in convo.meta[\"advocates\"]: return False\n",
    "    lawyer_side = convo.meta[\"advocates\"][speaker_utt.speaker.id][\"side\"]\n",
    "    if target_utt.speaker.id not in convo.meta[\"votes_side\"]: return False\n",
    "    justice_side = convo.meta[\"votes_side\"][target_utt.speaker.id]\n",
    "    return justice_side == lawyer_side\n",
    "\n",
    "def target_justice_is_unfavorable(speaker_utt, target_utt):\n",
    "    convo = speaker_utt.get_conversation()\n",
    "    if convo.meta[\"votes_side\"] is None: return False\n",
    "    if speaker_utt.speaker.id not in convo.meta[\"advocates\"]: return False\n",
    "    lawyer_side = convo.meta[\"advocates\"][speaker_utt.speaker.id][\"side\"]\n",
    "    if target_utt.speaker.id not in convo.meta[\"votes_side\"]: return False\n",
    "    justice_side = convo.meta[\"votes_side\"][target_utt.speaker.id]\n",
    "    return justice_side != lawyer_side\n",
    "\n",
    "# filter out justice utterances, leaving only justices who voted on the same side as the advocates they spoke to\n",
    "def speaker_justice_is_favorable(speaker_utt, target_utt):\n",
    "    convo = speaker_utt.get_conversation()\n",
    "    if convo.meta[\"votes_side\"] is None: return False\n",
    "    if target_utt.speaker.id not in convo.meta[\"advocates\"]: return False\n",
    "    lawyer_side = convo.meta[\"advocates\"][target_utt.speaker.id][\"side\"]\n",
    "    if speaker_utt.speaker.id not in convo.meta[\"votes_side\"]: return False\n",
    "    justice_side = convo.meta[\"votes_side\"][speaker_utt.speaker.id]\n",
    "    return justice_side == lawyer_side\n",
    "\n",
    "def speaker_justice_is_unfavorable(speaker_utt, target_utt):\n",
    "    convo = speaker_utt.get_conversation()\n",
    "    if convo.meta[\"votes_side\"] is None: return False\n",
    "    if target_utt.speaker.id not in convo.meta[\"advocates\"]: return False\n",
    "    lawyer_side = convo.meta[\"advocates\"][target_utt.speaker.id][\"side\"]\n",
    "    if speaker_utt.speaker.id not in convo.meta[\"votes_side\"]: return False\n",
    "    justice_side = convo.meta[\"votes_side\"][speaker_utt.speaker.id]\n",
    "    return justice_side != lawyer_side\n",
    "\n",
    "# do lawyers coordinate more to unfavorable or favorable justices?\n",
    "make_chart(\n",
    "    coord.summarize(corpus, lawyers, justices, summary_report=True,\n",
    "                    target_thresh=3, speaker_thresh=3, split_by_attribs=split,\n",
    "                    target_utterance_selector=target_justice_is_unfavorable),\n",
    "    coord.summarize(corpus, lawyers, justices, summary_report=True,\n",
    "                    target_thresh=3, speaker_thresh=3, split_by_attribs=split,\n",
    "                    target_utterance_selector=target_justice_is_favorable),\n",
    "    \"Target-unfavorable justice\", \"Target-favorable justice\"\n",
    ")\n",
    "# do unfavorable justices coordinate to lawyers more than favorable justices, or\n",
    "#   vice versa?\n",
    "make_chart(\n",
    "    coord.summarize(corpus, justices, lawyers, summary_report=True,\n",
    "                    target_thresh=6, split_by_attribs=split,\n",
    "                    speaker_utterance_selector=speaker_justice_is_unfavorable),\n",
    "    coord.summarize(corpus, justices, lawyers, summary_report=True,\n",
    "                    target_thresh=6, split_by_attribs=split,\n",
    "                    speaker_utterance_selector=speaker_justice_is_favorable),\n",
    "    \"Speaker-unfavorable justice\", \"Speaker-favorable justice\"\n",
    ")"
   ]
  },
  {
   "cell_type": "markdown",
   "metadata": {},
   "source": [
    "## Example 3"
   ]
  },
  {
   "cell_type": "markdown",
   "metadata": {},
   "source": [
    "This example uses the wikipedia conversations corpus to reproduce figure 1\n",
    "  from the echoes of power paper (https://www.cs.cornell.edu/~cristian/Echoes_of_power.html).\n",
    "\n",
    "The plots answer these questions: \n",
    "- Do speakers on the whole coordinate more to admins or nonadmins?\n",
    "- Do admins coordinate to other people more than nonadmins do?"
   ]
  },
  {
   "cell_type": "code",
   "execution_count": 21,
   "metadata": {},
   "outputs": [],
   "source": [
    "# OPTION 1: DOWNLOAD CORPUS\n",
    "# UNCOMMENT THESE LINES TO DOWNLOAD CORPUS\n",
    "# DATA_DIR = '<YOUR DIRECTORY>'\n",
    "# ROOT_DIR = convokit.download('wiki-corpus', data_dir=DATA_DIR)\n",
    "\n",
    "# OPTION 2: READ PREVIOUSLY-DOWNLOADED CORPUS FROM DISK\n",
    "# UNCOMMENT THIS LINE AND REPLACE WITH THE DIRECTORY WHERE THE CORPUS IS LOCATED\n",
    "# ROOT_DIR = '<YOUR DIRECTORY>'\n",
    "\n",
    "corpus = Corpus(ROOT_DIR)\n",
    "split = [\"is-admin\"]"
   ]
  },
  {
   "cell_type": "code",
   "execution_count": 24,
   "metadata": {},
   "outputs": [
    {
     "name": "stdout",
     "output_type": "stream",
     "text": [
      "Created chart \"Target-admins vs Target-nonadmins.png\"\n",
      "Created chart \"Speaker-admins vs Speaker-nonadmins.png\"\n"
     ]
    },
    {
     "data": {
      "image/png": "[encoded data removed]",
      "text/plain": [
       "<Figure size 432x288 with 1 Axes>"
      ]
     },
     "metadata": {
      "needs_background": "light"
     },
     "output_type": "display_data"
    },
    {
     "data": {
      "image/png": "[encoded data removed]",
      "text/plain": [
       "<Figure size 432x288 with 1 Axes>"
      ]
     },
     "metadata": {
      "needs_background": "light"
     },
     "output_type": "display_data"
    }
   ],
   "source": [
    "# create coordination object\n",
    "coord = Coordination()\n",
    "coord.fit(corpus)\n",
    "\n",
    "# get all groups of speakers that we want to compare\n",
    "everyone = lambda speaker: True\n",
    "admins = lambda speaker: speaker.meta[\"is-admin\"]\n",
    "nonadmins = lambda speaker: not speaker.meta[\"is-admin\"]\n",
    "\n",
    "# do speakers on the whole coordinate more to admins or nonadmins?\n",
    "make_chart(\n",
    "    coord.summarize(corpus, everyone, admins, focus=\"targets\", summary_report=True,\n",
    "                    target_thresh=7, split_by_attribs=split),\n",
    "    coord.summarize(corpus, everyone, nonadmins, focus=\"targets\", summary_report=True,\n",
    "                    target_thresh=7, split_by_attribs=split),\n",
    "    \"Target-admins\", \"Target-nonadmins\"\n",
    ")\n",
    "# do admins coordinate to other people more than nonadmins do?\n",
    "make_chart(\n",
    "    coord.summarize(corpus, admins, everyone, summary_report=True,\n",
    "                    speaker_thresh=7, target_thresh=7, split_by_attribs=split),\n",
    "    coord.summarize(corpus, nonadmins, everyone, summary_report=True,\n",
    "                    speaker_thresh=7, target_thresh=7, split_by_attribs=split),\n",
    "    \"Speaker-admins\", \"Speaker-nonadmins\"\n",
    ")"
   ]
  },
  {
   "cell_type": "code",
   "execution_count": null,
   "metadata": {},
   "outputs": [],
   "source": []
  }
 ],
 "metadata": {
  "kernelspec": {
   "display_name": "Python 3",
   "language": "python",
   "name": "python3"
  },
  "language_info": {
   "codemirror_mode": {
    "name": "ipython",
    "version": 3
   },
   "file_extension": ".py",
   "mimetype": "text/x-python",
   "name": "python",
   "nbconvert_exporter": "python",
   "pygments_lexer": "ipython3",
   "version": "3.6.8"
  }
 },
 "nbformat": 4,
 "nbformat_minor": 2
}
