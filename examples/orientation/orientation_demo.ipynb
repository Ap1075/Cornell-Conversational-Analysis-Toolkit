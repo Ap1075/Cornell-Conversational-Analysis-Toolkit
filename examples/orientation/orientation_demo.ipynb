{
 "cells": [
  {
   "cell_type": "code",
   "execution_count": 1,
   "metadata": {
    "collapsed": true
   },
   "outputs": [],
   "source": [
    "import os\n",
    "\n",
    "import pandas as pd\n",
    "import json"
   ]
  },
  {
   "cell_type": "code",
   "execution_count": 2,
   "metadata": {
    "collapsed": true
   },
   "outputs": [],
   "source": [
    "from convokit import Corpus\n",
    "from convokit.text_processing import TextProcessor, TextToArcs\n",
    "from convokit import download"
   ]
  },
  {
   "cell_type": "code",
   "execution_count": 11,
   "metadata": {
    "collapsed": true
   },
   "outputs": [],
   "source": [
    "from convokit.convokitPipeline import ConvokitPipeline"
   ]
  },
  {
   "cell_type": "code",
   "execution_count": 9,
   "metadata": {
    "collapsed": true
   },
   "outputs": [],
   "source": [
    "import warnings\n",
    "warnings.filterwarnings('ignore')"
   ]
  },
  {
   "cell_type": "code",
   "execution_count": 3,
   "metadata": {
    "collapsed": true
   },
   "outputs": [],
   "source": [
    "DEMO_CORPUS_NAME = 'oyez_2019'"
   ]
  },
  {
   "cell_type": "code",
   "execution_count": 4,
   "metadata": {
    "collapsed": true
   },
   "outputs": [],
   "source": [
    "DATA_DIR = '/kitchen/experimental_justine/scotus/demo_data'"
   ]
  },
  {
   "cell_type": "code",
   "execution_count": 6,
   "metadata": {},
   "outputs": [
    {
     "name": "stdout",
     "output_type": "stream",
     "text": [
      "Downloading oyez_2019 to /kitchen/experimental_justine/scotus/demo_data/oyez_2019\n",
      "Downloading oyez_2019 from http://zissou.infosci.cornell.edu/convokit/datasets/oyez-corpus/oyez_2019.zip (14.2MB)... Done\n"
     ]
    }
   ],
   "source": [
    "demo_corpus = Corpus(download(DEMO_CORPUS_NAME, data_dir=DATA_DIR))\n",
    "# demo_corpus = Corpus(os.path.join(DATA_DIR, DEMO_CORPUS_NAME))"
   ]
  },
  {
   "cell_type": "code",
   "execution_count": 7,
   "metadata": {},
   "outputs": [
    {
     "name": "stdout",
     "output_type": "stream",
     "text": [
      "Number of Speakers: 113\n",
      "Number of Utterances: 13707\n",
      "Number of Conversations: 58\n"
     ]
    }
   ],
   "source": [
    "demo_corpus.print_summary_stats()"
   ]
  },
  {
   "cell_type": "code",
   "execution_count": null,
   "metadata": {
    "collapsed": true
   },
   "outputs": [],
   "source": []
  },
  {
   "cell_type": "code",
   "execution_count": 10,
   "metadata": {},
   "outputs": [],
   "source": [
    "demo_corpus.load_info('utterance',['parsed'])"
   ]
  },
  {
   "cell_type": "code",
   "execution_count": 12,
   "metadata": {
    "collapsed": true
   },
   "outputs": [],
   "source": [
    "text_prep_pipe = ConvokitPipeline([\n",
    "    ('arcs_per_sent', TextToArcs(output_field='arcs_per_sent')),\n",
    "    ('arcs', TextProcessor(input_field='arcs_per_sent', output_field='arcs',\n",
    "                     proc_fn=lambda sents: '\\n'.join(sents))),\n",
    "    ('wordcount', TextProcessor(input_field='parsed', output_field='wordcount',\n",
    "           proc_fn=lambda sents: sum(sum(x['tag'] != '_SP' for x in sent['toks']) for sent in sents))),\n",
    "    ('tokens', TextProcessor(input_field='parsed', output_field='tokens',\n",
    "           proc_fn=lambda sents: '\\n'.join((' '.join(x['tok'] for x in sent['toks']).strip()) for sent in sents)))\n",
    "])"
   ]
  },
  {
   "cell_type": "code",
   "execution_count": 13,
   "metadata": {
    "collapsed": true
   },
   "outputs": [],
   "source": [
    "demo_corpus = text_prep_pipe.transform(demo_corpus)"
   ]
  },
  {
   "cell_type": "code",
   "execution_count": 20,
   "metadata": {
    "collapsed": true
   },
   "outputs": [],
   "source": [
    "utt = demo_corpus.get_utterance('24929__0_000')"
   ]
  },
  {
   "cell_type": "code",
   "execution_count": 21,
   "metadata": {},
   "outputs": [
    {
     "name": "stdout",
     "output_type": "stream",
     "text": [
      "We'll hear argument next in Case 18-877, Allen versus Cooper. Mr. Shaffer.\n"
     ]
    }
   ],
   "source": [
    "print(utt.text)"
   ]
  },
  {
   "cell_type": "code",
   "execution_count": 22,
   "metadata": {},
   "outputs": [
    {
     "data": {
      "text/plain": [
       "18"
      ]
     },
     "execution_count": 22,
     "metadata": {},
     "output_type": "execute_result"
    }
   ],
   "source": [
    "utt.retrieve_meta('wordcount')"
   ]
  },
  {
   "cell_type": "code",
   "execution_count": 23,
   "metadata": {},
   "outputs": [
    {
     "data": {
      "text/plain": [
       "\"'ll_* allen_* allen_versus argument_* case_* cooper_* hear_'ll hear_* hear_allen hear_argument hear_next hear_we in_* in_case next_* next_in versus_* versus_cooper we>'ll we>* we_*\\nshaffer_*\""
      ]
     },
     "execution_count": 23,
     "metadata": {},
     "output_type": "execute_result"
    }
   ],
   "source": [
    "utt.retrieve_meta('arcs')"
   ]
  },
  {
   "cell_type": "code",
   "execution_count": 25,
   "metadata": {},
   "outputs": [
    {
     "name": "stdout",
     "output_type": "stream",
     "text": [
      "We 'll hear argument next in Case 18 - 877 , Allen versus Cooper .\n",
      "Mr. Shaffer .\n"
     ]
    }
   ],
   "source": [
    "print(utt.retrieve_meta('tokens'))"
   ]
  },
  {
   "cell_type": "code",
   "execution_count": null,
   "metadata": {
    "collapsed": true
   },
   "outputs": [],
   "source": []
  },
  {
   "cell_type": "code",
   "execution_count": 26,
   "metadata": {
    "collapsed": true
   },
   "outputs": [],
   "source": [
    "def get_context_id_df(corpus):\n",
    "    prev_df = pd.DataFrame([{'id': utt.id, 'prev_id': utt.reply_to} for utt in corpus.iter_utterances()])\n",
    "    context_id_df = prev_df.join(prev_df.drop_duplicates('prev_id').set_index('prev_id')['id'].rename('next_id'), on='id')\n",
    "    return context_id_df"
   ]
  },
  {
   "cell_type": "code",
   "execution_count": 27,
   "metadata": {
    "collapsed": true
   },
   "outputs": [],
   "source": [
    "context_id_df = get_context_id_df(demo_corpus)"
   ]
  },
  {
   "cell_type": "code",
   "execution_count": 28,
   "metadata": {},
   "outputs": [
    {
     "data": {
      "text/html": [
       "<div>\n",
       "<style scoped>\n",
       "    .dataframe tbody tr th:only-of-type {\n",
       "        vertical-align: middle;\n",
       "    }\n",
       "\n",
       "    .dataframe tbody tr th {\n",
       "        vertical-align: top;\n",
       "    }\n",
       "\n",
       "    .dataframe thead th {\n",
       "        text-align: right;\n",
       "    }\n",
       "</style>\n",
       "<table border=\"1\" class=\"dataframe\">\n",
       "  <thead>\n",
       "    <tr style=\"text-align: right;\">\n",
       "      <th></th>\n",
       "      <th>id</th>\n",
       "      <th>prev_id</th>\n",
       "      <th>next_id</th>\n",
       "    </tr>\n",
       "  </thead>\n",
       "  <tbody>\n",
       "    <tr>\n",
       "      <th>0</th>\n",
       "      <td>24929__0_000</td>\n",
       "      <td>None</td>\n",
       "      <td>24929__0_001</td>\n",
       "    </tr>\n",
       "    <tr>\n",
       "      <th>1</th>\n",
       "      <td>24929__0_001</td>\n",
       "      <td>24929__0_000</td>\n",
       "      <td>24929__0_002</td>\n",
       "    </tr>\n",
       "    <tr>\n",
       "      <th>2</th>\n",
       "      <td>24929__0_002</td>\n",
       "      <td>24929__0_001</td>\n",
       "      <td>24929__0_003</td>\n",
       "    </tr>\n",
       "    <tr>\n",
       "      <th>3</th>\n",
       "      <td>24929__0_003</td>\n",
       "      <td>24929__0_002</td>\n",
       "      <td>24929__0_004</td>\n",
       "    </tr>\n",
       "    <tr>\n",
       "      <th>4</th>\n",
       "      <td>24929__0_004</td>\n",
       "      <td>24929__0_003</td>\n",
       "      <td>24929__0_005</td>\n",
       "    </tr>\n",
       "  </tbody>\n",
       "</table>\n",
       "</div>"
      ],
      "text/plain": [
       "             id       prev_id       next_id\n",
       "0  24929__0_000          None  24929__0_001\n",
       "1  24929__0_001  24929__0_000  24929__0_002\n",
       "2  24929__0_002  24929__0_001  24929__0_003\n",
       "3  24929__0_003  24929__0_002  24929__0_004\n",
       "4  24929__0_004  24929__0_003  24929__0_005"
      ]
     },
     "execution_count": 28,
     "metadata": {},
     "output_type": "execute_result"
    }
   ],
   "source": [
    "context_id_df.head()"
   ]
  },
  {
   "cell_type": "code",
   "execution_count": 29,
   "metadata": {
    "collapsed": true
   },
   "outputs": [],
   "source": [
    "source_filter = lambda utt: (utt.retrieve_meta('speaker_type') == 'J') and (utt.retrieve_meta('arcs') != '')\n",
    "target_filter = lambda utt: (utt.retrieve_meta('speaker_type') == 'A') and (utt.retrieve_meta('arcs') != '')"
   ]
  },
  {
   "cell_type": "code",
   "execution_count": 30,
   "metadata": {
    "collapsed": true
   },
   "outputs": [],
   "source": [
    "for utt in demo_corpus.iter_utterances():\n",
    "    utt.set_info('source_filter',source_filter(utt))\n",
    "    utt.set_info('target_filter',target_filter(utt))"
   ]
  },
  {
   "cell_type": "code",
   "execution_count": 31,
   "metadata": {
    "collapsed": true
   },
   "outputs": [],
   "source": [
    "utt_df = demo_corpus.get_attribute_table('utterance', ['wordcount', 'source_filter','target_filter'])"
   ]
  },
  {
   "cell_type": "code",
   "execution_count": 32,
   "metadata": {},
   "outputs": [
    {
     "data": {
      "text/html": [
       "<div>\n",
       "<style scoped>\n",
       "    .dataframe tbody tr th:only-of-type {\n",
       "        vertical-align: middle;\n",
       "    }\n",
       "\n",
       "    .dataframe tbody tr th {\n",
       "        vertical-align: top;\n",
       "    }\n",
       "\n",
       "    .dataframe thead th {\n",
       "        text-align: right;\n",
       "    }\n",
       "</style>\n",
       "<table border=\"1\" class=\"dataframe\">\n",
       "  <thead>\n",
       "    <tr style=\"text-align: right;\">\n",
       "      <th></th>\n",
       "      <th>source_filter</th>\n",
       "      <th>target_filter</th>\n",
       "      <th>wordcount</th>\n",
       "    </tr>\n",
       "    <tr>\n",
       "      <th>id</th>\n",
       "      <th></th>\n",
       "      <th></th>\n",
       "      <th></th>\n",
       "    </tr>\n",
       "  </thead>\n",
       "  <tbody>\n",
       "    <tr>\n",
       "      <th>24929__0_000</th>\n",
       "      <td>True</td>\n",
       "      <td>False</td>\n",
       "      <td>18</td>\n",
       "    </tr>\n",
       "    <tr>\n",
       "      <th>24929__0_001</th>\n",
       "      <td>False</td>\n",
       "      <td>True</td>\n",
       "      <td>390</td>\n",
       "    </tr>\n",
       "    <tr>\n",
       "      <th>24929__0_002</th>\n",
       "      <td>True</td>\n",
       "      <td>False</td>\n",
       "      <td>45</td>\n",
       "    </tr>\n",
       "    <tr>\n",
       "      <th>24929__0_003</th>\n",
       "      <td>False</td>\n",
       "      <td>True</td>\n",
       "      <td>161</td>\n",
       "    </tr>\n",
       "    <tr>\n",
       "      <th>24929__0_004</th>\n",
       "      <td>True</td>\n",
       "      <td>False</td>\n",
       "      <td>4</td>\n",
       "    </tr>\n",
       "  </tbody>\n",
       "</table>\n",
       "</div>"
      ],
      "text/plain": [
       "              source_filter  target_filter  wordcount\n",
       "id                                                   \n",
       "24929__0_000           True          False         18\n",
       "24929__0_001          False           True        390\n",
       "24929__0_002           True          False         45\n",
       "24929__0_003          False           True        161\n",
       "24929__0_004           True          False          4"
      ]
     },
     "execution_count": 32,
     "metadata": {},
     "output_type": "execute_result"
    }
   ],
   "source": [
    "utt_df.head()"
   ]
  },
  {
   "cell_type": "code",
   "execution_count": 33,
   "metadata": {
    "collapsed": true
   },
   "outputs": [],
   "source": [
    "full_context_df = context_id_df.join(utt_df, on='id')\\\n",
    "    .join(utt_df, on='prev_id', rsuffix='_prev')\\\n",
    "    .join(utt_df, on='next_id', rsuffix='_next')"
   ]
  },
  {
   "cell_type": "code",
   "execution_count": 34,
   "metadata": {},
   "outputs": [
    {
     "data": {
      "text/html": [
       "<div>\n",
       "<style scoped>\n",
       "    .dataframe tbody tr th:only-of-type {\n",
       "        vertical-align: middle;\n",
       "    }\n",
       "\n",
       "    .dataframe tbody tr th {\n",
       "        vertical-align: top;\n",
       "    }\n",
       "\n",
       "    .dataframe thead th {\n",
       "        text-align: right;\n",
       "    }\n",
       "</style>\n",
       "<table border=\"1\" class=\"dataframe\">\n",
       "  <thead>\n",
       "    <tr style=\"text-align: right;\">\n",
       "      <th></th>\n",
       "      <th>id</th>\n",
       "      <th>prev_id</th>\n",
       "      <th>next_id</th>\n",
       "      <th>source_filter</th>\n",
       "      <th>target_filter</th>\n",
       "      <th>wordcount</th>\n",
       "      <th>source_filter_prev</th>\n",
       "      <th>target_filter_prev</th>\n",
       "      <th>wordcount_prev</th>\n",
       "      <th>source_filter_next</th>\n",
       "      <th>target_filter_next</th>\n",
       "      <th>wordcount_next</th>\n",
       "    </tr>\n",
       "  </thead>\n",
       "  <tbody>\n",
       "    <tr>\n",
       "      <th>0</th>\n",
       "      <td>24929__0_000</td>\n",
       "      <td>None</td>\n",
       "      <td>24929__0_001</td>\n",
       "      <td>True</td>\n",
       "      <td>False</td>\n",
       "      <td>18</td>\n",
       "      <td>NaN</td>\n",
       "      <td>NaN</td>\n",
       "      <td>NaN</td>\n",
       "      <td>False</td>\n",
       "      <td>True</td>\n",
       "      <td>390.0</td>\n",
       "    </tr>\n",
       "    <tr>\n",
       "      <th>1</th>\n",
       "      <td>24929__0_001</td>\n",
       "      <td>24929__0_000</td>\n",
       "      <td>24929__0_002</td>\n",
       "      <td>False</td>\n",
       "      <td>True</td>\n",
       "      <td>390</td>\n",
       "      <td>True</td>\n",
       "      <td>False</td>\n",
       "      <td>18.0</td>\n",
       "      <td>True</td>\n",
       "      <td>False</td>\n",
       "      <td>45.0</td>\n",
       "    </tr>\n",
       "    <tr>\n",
       "      <th>2</th>\n",
       "      <td>24929__0_002</td>\n",
       "      <td>24929__0_001</td>\n",
       "      <td>24929__0_003</td>\n",
       "      <td>True</td>\n",
       "      <td>False</td>\n",
       "      <td>45</td>\n",
       "      <td>False</td>\n",
       "      <td>True</td>\n",
       "      <td>390.0</td>\n",
       "      <td>False</td>\n",
       "      <td>True</td>\n",
       "      <td>161.0</td>\n",
       "    </tr>\n",
       "    <tr>\n",
       "      <th>3</th>\n",
       "      <td>24929__0_003</td>\n",
       "      <td>24929__0_002</td>\n",
       "      <td>24929__0_004</td>\n",
       "      <td>False</td>\n",
       "      <td>True</td>\n",
       "      <td>161</td>\n",
       "      <td>True</td>\n",
       "      <td>False</td>\n",
       "      <td>45.0</td>\n",
       "      <td>True</td>\n",
       "      <td>False</td>\n",
       "      <td>4.0</td>\n",
       "    </tr>\n",
       "    <tr>\n",
       "      <th>4</th>\n",
       "      <td>24929__0_004</td>\n",
       "      <td>24929__0_003</td>\n",
       "      <td>24929__0_005</td>\n",
       "      <td>True</td>\n",
       "      <td>False</td>\n",
       "      <td>4</td>\n",
       "      <td>False</td>\n",
       "      <td>True</td>\n",
       "      <td>161.0</td>\n",
       "      <td>False</td>\n",
       "      <td>True</td>\n",
       "      <td>7.0</td>\n",
       "    </tr>\n",
       "  </tbody>\n",
       "</table>\n",
       "</div>"
      ],
      "text/plain": [
       "             id       prev_id       next_id  source_filter  target_filter  \\\n",
       "0  24929__0_000          None  24929__0_001           True          False   \n",
       "1  24929__0_001  24929__0_000  24929__0_002          False           True   \n",
       "2  24929__0_002  24929__0_001  24929__0_003           True          False   \n",
       "3  24929__0_003  24929__0_002  24929__0_004          False           True   \n",
       "4  24929__0_004  24929__0_003  24929__0_005           True          False   \n",
       "\n",
       "   wordcount source_filter_prev target_filter_prev  wordcount_prev  \\\n",
       "0         18                NaN                NaN             NaN   \n",
       "1        390               True              False            18.0   \n",
       "2         45              False               True           390.0   \n",
       "3        161               True              False            45.0   \n",
       "4          4              False               True           161.0   \n",
       "\n",
       "  source_filter_next target_filter_next  wordcount_next  \n",
       "0              False               True           390.0  \n",
       "1               True              False            45.0  \n",
       "2              False               True           161.0  \n",
       "3               True              False             4.0  \n",
       "4              False               True             7.0  "
      ]
     },
     "execution_count": 34,
     "metadata": {},
     "output_type": "execute_result"
    }
   ],
   "source": [
    "full_context_df.head()"
   ]
  },
  {
   "cell_type": "code",
   "execution_count": null,
   "metadata": {
    "collapsed": true
   },
   "outputs": [],
   "source": []
  },
  {
   "cell_type": "code",
   "execution_count": 36,
   "metadata": {},
   "outputs": [],
   "source": [
    "min_wc_source = 10\n",
    "max_wc_source = 50\n",
    "min_wc_target = 10\n",
    "max_wc_target = 75"
   ]
  },
  {
   "cell_type": "code",
   "execution_count": 37,
   "metadata": {
    "collapsed": true
   },
   "outputs": [],
   "source": [
    "source_df = full_context_df[full_context_df.source_filter\n",
    "           & full_context_df.wordcount.between(min_wc_source, max_wc_source)\n",
    "           & full_context_df.wordcount_prev.between(min_wc_target, max_wc_target)\n",
    "           & full_context_df.wordcount_next.between(min_wc_target, max_wc_target)].set_index('id')"
   ]
  },
  {
   "cell_type": "code",
   "execution_count": 39,
   "metadata": {
    "collapsed": true
   },
   "outputs": [],
   "source": [
    "target_df = full_context_df[full_context_df.target_filter\n",
    "   & full_context_df.wordcount.between(min_wc_target, max_wc_target)].set_index('id')\n",
    "source_df = source_df[source_df.prev_id.isin(target_df.index)\n",
    "         & source_df.next_id.isin(target_df.index)]"
   ]
  },
  {
   "cell_type": "code",
   "execution_count": 40,
   "metadata": {},
   "outputs": [
    {
     "data": {
      "text/plain": [
       "353"
      ]
     },
     "execution_count": 40,
     "metadata": {},
     "output_type": "execute_result"
    }
   ],
   "source": [
    "len(source_df)"
   ]
  },
  {
   "cell_type": "code",
   "execution_count": 41,
   "metadata": {},
   "outputs": [
    {
     "data": {
      "text/plain": [
       "2087"
      ]
     },
     "execution_count": 41,
     "metadata": {},
     "output_type": "execute_result"
    }
   ],
   "source": [
    "len(target_df)"
   ]
  },
  {
   "cell_type": "code",
   "execution_count": null,
   "metadata": {
    "collapsed": true
   },
   "outputs": [],
   "source": []
  },
  {
   "cell_type": "code",
   "execution_count": 42,
   "metadata": {
    "collapsed": true
   },
   "outputs": [],
   "source": [
    "text_cols = ['arcs','tokens']\n",
    "text_df = demo_corpus.get_attribute_table('utterance',text_cols)"
   ]
  },
  {
   "cell_type": "code",
   "execution_count": 43,
   "metadata": {
    "collapsed": true
   },
   "outputs": [],
   "source": [
    "source_df = source_df[['prev_id','next_id']].join(text_df)\n",
    "target_df = target_df[[]].join(text_df)"
   ]
  },
  {
   "cell_type": "code",
   "execution_count": 44,
   "metadata": {},
   "outputs": [
    {
     "data": {
      "text/html": [
       "<div>\n",
       "<style scoped>\n",
       "    .dataframe tbody tr th:only-of-type {\n",
       "        vertical-align: middle;\n",
       "    }\n",
       "\n",
       "    .dataframe tbody tr th {\n",
       "        vertical-align: top;\n",
       "    }\n",
       "\n",
       "    .dataframe thead th {\n",
       "        text-align: right;\n",
       "    }\n",
       "</style>\n",
       "<table border=\"1\" class=\"dataframe\">\n",
       "  <thead>\n",
       "    <tr style=\"text-align: right;\">\n",
       "      <th></th>\n",
       "      <th>prev_id</th>\n",
       "      <th>next_id</th>\n",
       "      <th>arcs</th>\n",
       "      <th>tokens</th>\n",
       "    </tr>\n",
       "    <tr>\n",
       "      <th>id</th>\n",
       "      <th></th>\n",
       "      <th></th>\n",
       "      <th></th>\n",
       "      <th></th>\n",
       "    </tr>\n",
       "  </thead>\n",
       "  <tbody>\n",
       "    <tr>\n",
       "      <th>24929__0_014</th>\n",
       "      <td>24929__0_013</td>\n",
       "      <td>24929__0_015</td>\n",
       "      <td>but&gt;* but&gt;how could_* going_* going_rules goin...</td>\n",
       "      <td>But how -- how could -- how could we have the ...</td>\n",
       "    </tr>\n",
       "    <tr>\n",
       "      <th>24929__0_016</th>\n",
       "      <td>24929__0_015</td>\n",
       "      <td>24929__0_017</td>\n",
       "      <td>'re_* asking_'re asking_* asking_basically ask...</td>\n",
       "      <td>So , basically , you 're asking us to overrule...</td>\n",
       "    </tr>\n",
       "    <tr>\n",
       "      <th>24929__0_054</th>\n",
       "      <td>24929__0_053</td>\n",
       "      <td>24929__0_055</td>\n",
       "      <td>a_* by_* by_government by_state constitutional...</td>\n",
       "      <td>Every -- every infringement is a violate -- ev...</td>\n",
       "    </tr>\n",
       "    <tr>\n",
       "      <th>24929__0_082</th>\n",
       "      <td>24929__0_081</td>\n",
       "      <td>24929__0_083</td>\n",
       "      <td>all&gt;* all_* california_* over_* over_all over_...</td>\n",
       "      <td>All over California .\\nWhy does n't California...</td>\n",
       "    </tr>\n",
       "    <tr>\n",
       "      <th>24929__0_086</th>\n",
       "      <td>24929__0_085</td>\n",
       "      <td>24929__0_087</td>\n",
       "      <td>'m_* about_* about_copyright copyright_* i&gt;'m ...</td>\n",
       "      <td>I 'm not talking about copyright .\\nI 'm talki...</td>\n",
       "    </tr>\n",
       "  </tbody>\n",
       "</table>\n",
       "</div>"
      ],
      "text/plain": [
       "                   prev_id       next_id  \\\n",
       "id                                         \n",
       "24929__0_014  24929__0_013  24929__0_015   \n",
       "24929__0_016  24929__0_015  24929__0_017   \n",
       "24929__0_054  24929__0_053  24929__0_055   \n",
       "24929__0_082  24929__0_081  24929__0_083   \n",
       "24929__0_086  24929__0_085  24929__0_087   \n",
       "\n",
       "                                                           arcs  \\\n",
       "id                                                                \n",
       "24929__0_014  but>* but>how could_* going_* going_rules goin...   \n",
       "24929__0_016  're_* asking_'re asking_* asking_basically ask...   \n",
       "24929__0_054  a_* by_* by_government by_state constitutional...   \n",
       "24929__0_082  all>* all_* california_* over_* over_all over_...   \n",
       "24929__0_086  'm_* about_* about_copyright copyright_* i>'m ...   \n",
       "\n",
       "                                                         tokens  \n",
       "id                                                               \n",
       "24929__0_014  But how -- how could -- how could we have the ...  \n",
       "24929__0_016  So , basically , you 're asking us to overrule...  \n",
       "24929__0_054  Every -- every infringement is a violate -- ev...  \n",
       "24929__0_082  All over California .\\nWhy does n't California...  \n",
       "24929__0_086  I 'm not talking about copyright .\\nI 'm talki...  "
      ]
     },
     "execution_count": 44,
     "metadata": {},
     "output_type": "execute_result"
    }
   ],
   "source": [
    "source_df.head()"
   ]
  },
  {
   "cell_type": "code",
   "execution_count": 45,
   "metadata": {},
   "outputs": [
    {
     "data": {
      "text/html": [
       "<div>\n",
       "<style scoped>\n",
       "    .dataframe tbody tr th:only-of-type {\n",
       "        vertical-align: middle;\n",
       "    }\n",
       "\n",
       "    .dataframe tbody tr th {\n",
       "        vertical-align: top;\n",
       "    }\n",
       "\n",
       "    .dataframe thead th {\n",
       "        text-align: right;\n",
       "    }\n",
       "</style>\n",
       "<table border=\"1\" class=\"dataframe\">\n",
       "  <thead>\n",
       "    <tr style=\"text-align: right;\">\n",
       "      <th></th>\n",
       "      <th>arcs</th>\n",
       "      <th>tokens</th>\n",
       "    </tr>\n",
       "    <tr>\n",
       "      <th>id</th>\n",
       "      <th></th>\n",
       "      <th></th>\n",
       "    </tr>\n",
       "  </thead>\n",
       "  <tbody>\n",
       "    <tr>\n",
       "      <th>24929__0_013</th>\n",
       "      <td>argument_* argument_kagan argument_that be_* b...</td>\n",
       "      <td>It would be certainly open to folks in patent ...</td>\n",
       "    </tr>\n",
       "    <tr>\n",
       "      <th>24929__0_015</th>\n",
       "      <td>be_* be_prediction be_that be_would my_* predi...</td>\n",
       "      <td>That would be my prediction .\\nMy prediction i...</td>\n",
       "    </tr>\n",
       "    <tr>\n",
       "      <th>24929__0_017</th>\n",
       "      <td>'m_* alito_* alito_justice alito_think asking_...</td>\n",
       "      <td>I 'm asking this Court to follow Katz , Justic...</td>\n",
       "    </tr>\n",
       "    <tr>\n",
       "      <th>24929__0_019</th>\n",
       "      <td>basis_* basis_for basis_the florida_* for_* fo...</td>\n",
       "      <td>I think it -- it overruled -- it overruled the...</td>\n",
       "    </tr>\n",
       "    <tr>\n",
       "      <th>24929__0_025</th>\n",
       "      <td>court_* court_the decide_* decide_court decide...</td>\n",
       "      <td>Well , Justice Kavanaugh , obviously , the Cou...</td>\n",
       "    </tr>\n",
       "  </tbody>\n",
       "</table>\n",
       "</div>"
      ],
      "text/plain": [
       "                                                           arcs  \\\n",
       "id                                                                \n",
       "24929__0_013  argument_* argument_kagan argument_that be_* b...   \n",
       "24929__0_015  be_* be_prediction be_that be_would my_* predi...   \n",
       "24929__0_017  'm_* alito_* alito_justice alito_think asking_...   \n",
       "24929__0_019  basis_* basis_for basis_the florida_* for_* fo...   \n",
       "24929__0_025  court_* court_the decide_* decide_court decide...   \n",
       "\n",
       "                                                         tokens  \n",
       "id                                                               \n",
       "24929__0_013  It would be certainly open to folks in patent ...  \n",
       "24929__0_015  That would be my prediction .\\nMy prediction i...  \n",
       "24929__0_017  I 'm asking this Court to follow Katz , Justic...  \n",
       "24929__0_019  I think it -- it overruled -- it overruled the...  \n",
       "24929__0_025  Well , Justice Kavanaugh , obviously , the Cou...  "
      ]
     },
     "execution_count": 45,
     "metadata": {},
     "output_type": "execute_result"
    }
   ],
   "source": [
    "target_df.head()"
   ]
  },
  {
   "cell_type": "code",
   "execution_count": null,
   "metadata": {
    "collapsed": true
   },
   "outputs": [],
   "source": []
  },
  {
   "cell_type": "code",
   "execution_count": 46,
   "metadata": {
    "collapsed": true
   },
   "outputs": [],
   "source": [
    "MIN_YEAR = 1955\n",
    "MAX_YEAR = 2019"
   ]
  },
  {
   "cell_type": "code",
   "execution_count": 47,
   "metadata": {
    "collapsed": true
   },
   "outputs": [],
   "source": [
    "source_dfs = []\n",
    "target_dfs = []"
   ]
  },
  {
   "cell_type": "code",
   "execution_count": 48,
   "metadata": {
    "collapsed": true
   },
   "outputs": [],
   "source": [
    "for year in range(MIN_YEAR, MAX_YEAR + 1):\n",
    "    source_dfs.append(pd.read_csv(os.path.join(DATA_DIR, 'oyez_' + str(year) + '.source.tsv'), sep='\\t', index_col=0))\n",
    "    target_dfs.append(pd.read_csv(os.path.join(DATA_DIR, 'oyez_' + str(year) + '.target.tsv'), sep='\\t', index_col=0))"
   ]
  },
  {
   "cell_type": "code",
   "execution_count": 50,
   "metadata": {
    "collapsed": true
   },
   "outputs": [],
   "source": [
    "source_df = pd.concat(source_dfs)\n",
    "target_df = pd.concat(target_dfs)"
   ]
  },
  {
   "cell_type": "code",
   "execution_count": 51,
   "metadata": {},
   "outputs": [
    {
     "data": {
      "text/plain": [
       "91924"
      ]
     },
     "execution_count": 51,
     "metadata": {},
     "output_type": "execute_result"
    }
   ],
   "source": [
    "len(source_df)"
   ]
  },
  {
   "cell_type": "code",
   "execution_count": 52,
   "metadata": {},
   "outputs": [
    {
     "data": {
      "text/plain": [
       "372268"
      ]
     },
     "execution_count": 52,
     "metadata": {},
     "output_type": "execute_result"
    }
   ],
   "source": [
    "len(target_df)"
   ]
  },
  {
   "cell_type": "code",
   "execution_count": 54,
   "metadata": {
    "collapsed": true
   },
   "outputs": [],
   "source": [
    "import numpy as np\n",
    "\n",
    "from sklearn.base import TransformerMixin\n",
    "from sklearn.feature_extraction.text import TfidfVectorizer\n",
    "from sklearn.utils.extmath import randomized_svd\n",
    "from sklearn.preprocessing import normalize\n",
    "\n",
    "from sklearn.metrics.pairwise import cosine_distances\n",
    "from scipy import sparse"
   ]
  },
  {
   "cell_type": "code",
   "execution_count": 55,
   "metadata": {},
   "outputs": [],
   "source": [
    "source_df['mtx_idx'] = np.arange(len(source_df))\n",
    "target_df['mtx_idx'] = np.arange(len(target_df))"
   ]
  },
  {
   "cell_type": "code",
   "execution_count": null,
   "metadata": {
    "collapsed": true
   },
   "outputs": [],
   "source": []
  },
  {
   "cell_type": "code",
   "execution_count": 56,
   "metadata": {
    "collapsed": true
   },
   "outputs": [],
   "source": [
    "MIN_DF = 100\n",
    "MAX_DF = 1.\n",
    "MAX_FEATURES = 2000\n",
    "\n",
    "TEXT_COL = 'arcs'"
   ]
  },
  {
   "cell_type": "code",
   "execution_count": 57,
   "metadata": {
    "collapsed": true
   },
   "outputs": [],
   "source": [
    "class ColNormedTfidf(TransformerMixin):\n",
    "    \n",
    "    def __init__(self, norm_cols=True, **kwargs):\n",
    "        self.tfidf_model = TfidfVectorizer(token_pattern=r'(?u)(\\S+)',**kwargs)\n",
    "        self.norm_cols = norm_cols\n",
    "    \n",
    "    def fit(self, X, y=None):\n",
    "        tfidf_vects_raw = self.tfidf_model.fit_transform(X)\n",
    "        self.tfidf_norms = sparse.linalg.norm(tfidf_vects_raw, axis=0)\n",
    "    \n",
    "    def transform(self, X):\n",
    "        tfidf_vects_raw = self.tfidf_model.transform(X)\n",
    "        if self.norm_cols:\n",
    "            tfidf_vect = tfidf_vects_raw.T / self.tfidf_norms[:,np.newaxis]\n",
    "        else:\n",
    "            tfidf_vect = tfidf_vects_raw.T / np.ones_like(self.tfidf_norms[:,np.newaxis])\n",
    "        return tfidf_vect\n",
    "    \n",
    "    def fit_transform(self, X, y=None):\n",
    "        self.fit(X, y)\n",
    "        return self.transform(X)\n",
    "\n",
    "    def get_feature_names(self):\n",
    "        return self.tfidf_model.get_feature_names()\n",
    "    \n",
    "    def get_params(self, deep=True):\n",
    "        return self.tfidf_model.get_params(deep=deep)\n",
    "    \n",
    "    def set_params(self, **params):\n",
    "        return self.tfidf_model.set_params(**params)"
   ]
  },
  {
   "cell_type": "code",
   "execution_count": 58,
   "metadata": {
    "collapsed": true
   },
   "outputs": [],
   "source": [
    "source_tfidf_obj = ColNormedTfidf(max_features=MAX_FEATURES, binary=True,\n",
    "                                 min_df=MIN_DF, max_df=MAX_DF)\n",
    "source_tfidf_vect = source_tfidf_obj.fit_transform(source_df[TEXT_COL].values)"
   ]
  },
  {
   "cell_type": "code",
   "execution_count": 59,
   "metadata": {},
   "outputs": [
    {
     "data": {
      "text/plain": [
       "(2000, 91924)"
      ]
     },
     "execution_count": 59,
     "metadata": {},
     "output_type": "execute_result"
    }
   ],
   "source": [
    "source_tfidf_vect.shape"
   ]
  },
  {
   "cell_type": "code",
   "execution_count": 60,
   "metadata": {
    "collapsed": true
   },
   "outputs": [],
   "source": [
    "target_tfidf_obj = ColNormedTfidf(max_features=MAX_FEATURES, binary=True,\n",
    "                                 min_df=MIN_DF, max_df=MAX_DF)\n",
    "target_tfidf_vect = target_tfidf_obj.fit_transform(target_df[TEXT_COL].values)"
   ]
  },
  {
   "cell_type": "code",
   "execution_count": 61,
   "metadata": {},
   "outputs": [
    {
     "data": {
      "text/plain": [
       "(2000, 372268)"
      ]
     },
     "execution_count": 61,
     "metadata": {},
     "output_type": "execute_result"
    }
   ],
   "source": [
    "target_tfidf_vect.shape"
   ]
  },
  {
   "cell_type": "code",
   "execution_count": 62,
   "metadata": {
    "collapsed": true
   },
   "outputs": [],
   "source": [
    "frequency = np.array(source_tfidf_vect > 0).sum(axis=1)"
   ]
  },
  {
   "cell_type": "code",
   "execution_count": null,
   "metadata": {
    "collapsed": true
   },
   "outputs": [],
   "source": []
  },
  {
   "cell_type": "code",
   "execution_count": 63,
   "metadata": {
    "collapsed": true
   },
   "outputs": [],
   "source": [
    "SVD_DIMS = 15\n",
    "RANDOM_STATE = 2019"
   ]
  },
  {
   "cell_type": "code",
   "execution_count": 64,
   "metadata": {
    "collapsed": true
   },
   "outputs": [],
   "source": [
    "def get_svd_obj(vect, svd_dims, random_state=RANDOM_STATE):\n",
    "    U,s,V = randomized_svd(vect, n_components=svd_dims, random_state=random_state)\n",
    "    return {'U': U, 's': s, 'V': V.T}"
   ]
  },
  {
   "cell_type": "code",
   "execution_count": 65,
   "metadata": {
    "collapsed": true
   },
   "outputs": [],
   "source": [
    "target_svd_obj = get_svd_obj(target_tfidf_vect, SVD_DIMS)"
   ]
  },
  {
   "cell_type": "code",
   "execution_count": 68,
   "metadata": {},
   "outputs": [
    {
     "data": {
      "text/plain": [
       "array([4.96525955, 2.22446003, 2.11388959, 2.05197851, 2.00981703,\n",
       "       1.98249565, 1.9364843 , 1.92670078, 1.91136899, 1.89870573,\n",
       "       1.88872119, 1.84319579, 1.83926558, 1.82746449, 1.82167165])"
      ]
     },
     "execution_count": 68,
     "metadata": {},
     "output_type": "execute_result"
    }
   ],
   "source": [
    "target_svd_obj['s']"
   ]
  },
  {
   "cell_type": "code",
   "execution_count": 69,
   "metadata": {
    "collapsed": true
   },
   "outputs": [],
   "source": [
    "def snip(vects, dim=None, snip_first_dim=True):\n",
    "    if dim is None:\n",
    "        dim = vects.shape[1]\n",
    "    return normalize(vects[:,int(snip_first_dim):dim])"
   ]
  },
  {
   "cell_type": "code",
   "execution_count": null,
   "metadata": {
    "collapsed": true
   },
   "outputs": [],
   "source": []
  },
  {
   "cell_type": "code",
   "execution_count": 66,
   "metadata": {
    "collapsed": true
   },
   "outputs": [],
   "source": [
    "source_df = source_df.join(target_df.mtx_idx, on='prev_id', rsuffix='_prev')\\\n",
    "    .join(target_df.mtx_idx, on='next_id', rsuffix='_next')"
   ]
  },
  {
   "cell_type": "code",
   "execution_count": 67,
   "metadata": {
    "collapsed": true
   },
   "outputs": [],
   "source": [
    "fw_idx_mapping = source_df[['mtx_idx','mtx_idx_next']].values\n",
    "bk_idx_mapping = source_df[['mtx_idx','mtx_idx_prev']].values"
   ]
  },
  {
   "cell_type": "code",
   "execution_count": null,
   "metadata": {
    "collapsed": true
   },
   "outputs": [],
   "source": []
  },
  {
   "cell_type": "code",
   "execution_count": 70,
   "metadata": {
    "collapsed": true
   },
   "outputs": [],
   "source": [
    "class CrossEmbed:\n",
    "    \n",
    "    def __init__(self, source_vects, target_embeddings, target_s, idx_mapping, snip_first_dim=True):\n",
    "        \n",
    "        self.source_vects = source_vects\n",
    "        self.target_embeddings = target_embeddings\n",
    "        self.target_s = target_s\n",
    "        \n",
    "        source_subset = self.source_vects[:, idx_mapping[:,0]]\n",
    "        target_subset = self.target_embeddings[idx_mapping[:, 1]]\n",
    "        \n",
    "        self.term_embeddings = source_subset * target_subset / target_s\n",
    "        \n",
    "        full_dists = cosine_distances(\n",
    "            snip(self.term_embeddings, snip_first_dim=snip_first_dim),\n",
    "            snip(target_subset, snip_first_dim=snip_first_dim)\n",
    "        )\n",
    "        weights = normalize(np.array(source_subset > 0), norm='l1')\n",
    "        clipped_dists = np.clip(full_dists, None, 1)\n",
    "        \n",
    "        self.term_ranges = (clipped_dists * weights).sum(axis=1)\n",
    "    \n",
    "    def embed_docs(self, doc_vect):\n",
    "        return doc_vect.T * self.term_embeddings / self.target_s\n",
    "    \n",
    "    def compute_docs_range(self, doc_vect):\n",
    "        return np.dot(normalize(doc_vect.T, norm='l1'), self.term_ranges)"
   ]
  },
  {
   "cell_type": "code",
   "execution_count": 71,
   "metadata": {
    "collapsed": true
   },
   "outputs": [],
   "source": [
    "fw_obj = CrossEmbed(source_tfidf_vect, target_svd_obj['V'], target_svd_obj['s'], fw_idx_mapping)"
   ]
  },
  {
   "cell_type": "code",
   "execution_count": 72,
   "metadata": {
    "collapsed": true
   },
   "outputs": [],
   "source": [
    "bk_obj = CrossEmbed(source_tfidf_vect, target_svd_obj['V'], target_svd_obj['s'], bk_idx_mapping)"
   ]
  },
  {
   "cell_type": "code",
   "execution_count": null,
   "metadata": {
    "collapsed": true
   },
   "outputs": [],
   "source": []
  },
  {
   "cell_type": "code",
   "execution_count": 73,
   "metadata": {
    "collapsed": true
   },
   "outputs": [],
   "source": [
    "orientation = bk_obj.term_ranges - fw_obj.term_ranges"
   ]
  },
  {
   "cell_type": "code",
   "execution_count": 74,
   "metadata": {
    "collapsed": true
   },
   "outputs": [],
   "source": [
    "orientation_df = pd.DataFrame({\n",
    "    'index': source_tfidf_obj.get_feature_names(),\n",
    "    'orientation': orientation,\n",
    "    'fw_range': fw_obj.term_ranges,\n",
    "    'bk_range': bk_obj.term_ranges,\n",
    "    'n': frequency\n",
    "}).set_index('index')"
   ]
  },
  {
   "cell_type": "code",
   "execution_count": 75,
   "metadata": {},
   "outputs": [
    {
     "data": {
      "text/plain": [
       " 1.0    0.639\n",
       "-1.0    0.361\n",
       "Name: orientation, dtype: float64"
      ]
     },
     "execution_count": 75,
     "metadata": {},
     "output_type": "execute_result"
    }
   ],
   "source": [
    "np.sign(orientation_df.orientation).value_counts(normalize=True)"
   ]
  },
  {
   "cell_type": "code",
   "execution_count": 76,
   "metadata": {},
   "outputs": [
    {
     "data": {
      "text/html": [
       "<div>\n",
       "<style scoped>\n",
       "    .dataframe tbody tr th:only-of-type {\n",
       "        vertical-align: middle;\n",
       "    }\n",
       "\n",
       "    .dataframe tbody tr th {\n",
       "        vertical-align: top;\n",
       "    }\n",
       "\n",
       "    .dataframe thead th {\n",
       "        text-align: right;\n",
       "    }\n",
       "</style>\n",
       "<table border=\"1\" class=\"dataframe\">\n",
       "  <thead>\n",
       "    <tr style=\"text-align: right;\">\n",
       "      <th></th>\n",
       "      <th>orientation</th>\n",
       "      <th>fw_range</th>\n",
       "      <th>bk_range</th>\n",
       "      <th>n</th>\n",
       "    </tr>\n",
       "    <tr>\n",
       "      <th>index</th>\n",
       "      <th></th>\n",
       "      <th></th>\n",
       "      <th></th>\n",
       "      <th></th>\n",
       "    </tr>\n",
       "  </thead>\n",
       "  <tbody>\n",
       "    <tr>\n",
       "      <th>available_*</th>\n",
       "      <td>-0.068312</td>\n",
       "      <td>0.875046</td>\n",
       "      <td>0.806734</td>\n",
       "      <td>317</td>\n",
       "    </tr>\n",
       "    <tr>\n",
       "      <th>commission_*</th>\n",
       "      <td>-0.067559</td>\n",
       "      <td>0.852920</td>\n",
       "      <td>0.785361</td>\n",
       "      <td>656</td>\n",
       "    </tr>\n",
       "    <tr>\n",
       "      <th>specific_*</th>\n",
       "      <td>-0.060206</td>\n",
       "      <td>0.875184</td>\n",
       "      <td>0.814978</td>\n",
       "      <td>342</td>\n",
       "    </tr>\n",
       "    <tr>\n",
       "      <th>and&gt;it</th>\n",
       "      <td>-0.059189</td>\n",
       "      <td>0.855133</td>\n",
       "      <td>0.795944</td>\n",
       "      <td>329</td>\n",
       "    </tr>\n",
       "    <tr>\n",
       "      <th>employees_*</th>\n",
       "      <td>-0.054333</td>\n",
       "      <td>0.767615</td>\n",
       "      <td>0.713282</td>\n",
       "      <td>318</td>\n",
       "    </tr>\n",
       "    <tr>\n",
       "      <th>laughter_*</th>\n",
       "      <td>-0.053807</td>\n",
       "      <td>0.832771</td>\n",
       "      <td>0.778964</td>\n",
       "      <td>683</td>\n",
       "    </tr>\n",
       "    <tr>\n",
       "      <th>in_order</th>\n",
       "      <td>-0.053699</td>\n",
       "      <td>0.873568</td>\n",
       "      <td>0.819868</td>\n",
       "      <td>410</td>\n",
       "    </tr>\n",
       "    <tr>\n",
       "      <th>understand_that</th>\n",
       "      <td>-0.053405</td>\n",
       "      <td>0.880014</td>\n",
       "      <td>0.826609</td>\n",
       "      <td>392</td>\n",
       "    </tr>\n",
       "    <tr>\n",
       "      <th>agency_*</th>\n",
       "      <td>-0.052310</td>\n",
       "      <td>0.798216</td>\n",
       "      <td>0.745906</td>\n",
       "      <td>398</td>\n",
       "    </tr>\n",
       "    <tr>\n",
       "      <th>all&gt;*</th>\n",
       "      <td>-0.051825</td>\n",
       "      <td>0.882862</td>\n",
       "      <td>0.831037</td>\n",
       "      <td>697</td>\n",
       "    </tr>\n",
       "    <tr>\n",
       "      <th>mean_do</th>\n",
       "      <td>-0.051218</td>\n",
       "      <td>0.884045</td>\n",
       "      <td>0.832826</td>\n",
       "      <td>463</td>\n",
       "    </tr>\n",
       "    <tr>\n",
       "      <th>commission_the</th>\n",
       "      <td>-0.050825</td>\n",
       "      <td>0.837871</td>\n",
       "      <td>0.787047</td>\n",
       "      <td>572</td>\n",
       "    </tr>\n",
       "    <tr>\n",
       "      <th>which&gt;*</th>\n",
       "      <td>-0.050679</td>\n",
       "      <td>0.866757</td>\n",
       "      <td>0.816078</td>\n",
       "      <td>323</td>\n",
       "    </tr>\n",
       "    <tr>\n",
       "      <th>class_*</th>\n",
       "      <td>-0.045307</td>\n",
       "      <td>0.849193</td>\n",
       "      <td>0.803885</td>\n",
       "      <td>333</td>\n",
       "    </tr>\n",
       "    <tr>\n",
       "      <th>claims_*</th>\n",
       "      <td>-0.043514</td>\n",
       "      <td>0.841856</td>\n",
       "      <td>0.798342</td>\n",
       "      <td>417</td>\n",
       "    </tr>\n",
       "    <tr>\n",
       "      <th>to_it</th>\n",
       "      <td>-0.042727</td>\n",
       "      <td>0.880942</td>\n",
       "      <td>0.838215</td>\n",
       "      <td>326</td>\n",
       "    </tr>\n",
       "    <tr>\n",
       "      <th>union_*</th>\n",
       "      <td>-0.041612</td>\n",
       "      <td>0.764056</td>\n",
       "      <td>0.722444</td>\n",
       "      <td>584</td>\n",
       "    </tr>\n",
       "    <tr>\n",
       "      <th>sort_*</th>\n",
       "      <td>-0.041548</td>\n",
       "      <td>0.856325</td>\n",
       "      <td>0.814777</td>\n",
       "      <td>487</td>\n",
       "    </tr>\n",
       "    <tr>\n",
       "      <th>secretary_*</th>\n",
       "      <td>-0.040721</td>\n",
       "      <td>0.802924</td>\n",
       "      <td>0.762202</td>\n",
       "      <td>313</td>\n",
       "    </tr>\n",
       "    <tr>\n",
       "      <th>conviction_*</th>\n",
       "      <td>-0.040569</td>\n",
       "      <td>0.795129</td>\n",
       "      <td>0.754559</td>\n",
       "      <td>336</td>\n",
       "    </tr>\n",
       "    <tr>\n",
       "      <th>and&gt;you</th>\n",
       "      <td>-0.039887</td>\n",
       "      <td>0.880936</td>\n",
       "      <td>0.841049</td>\n",
       "      <td>747</td>\n",
       "    </tr>\n",
       "    <tr>\n",
       "      <th>’s_*</th>\n",
       "      <td>-0.039664</td>\n",
       "      <td>0.878093</td>\n",
       "      <td>0.838430</td>\n",
       "      <td>984</td>\n",
       "    </tr>\n",
       "    <tr>\n",
       "      <th>is_which</th>\n",
       "      <td>-0.039471</td>\n",
       "      <td>0.862212</td>\n",
       "      <td>0.822741</td>\n",
       "      <td>472</td>\n",
       "    </tr>\n",
       "    <tr>\n",
       "      <th>i&gt;do</th>\n",
       "      <td>-0.037842</td>\n",
       "      <td>0.896891</td>\n",
       "      <td>0.859049</td>\n",
       "      <td>1054</td>\n",
       "    </tr>\n",
       "    <tr>\n",
       "      <th>against_*</th>\n",
       "      <td>-0.036482</td>\n",
       "      <td>0.864050</td>\n",
       "      <td>0.827568</td>\n",
       "      <td>1506</td>\n",
       "    </tr>\n",
       "  </tbody>\n",
       "</table>\n",
       "</div>"
      ],
      "text/plain": [
       "                 orientation  fw_range  bk_range     n\n",
       "index                                                 \n",
       "available_*        -0.068312  0.875046  0.806734   317\n",
       "commission_*       -0.067559  0.852920  0.785361   656\n",
       "specific_*         -0.060206  0.875184  0.814978   342\n",
       "and>it             -0.059189  0.855133  0.795944   329\n",
       "employees_*        -0.054333  0.767615  0.713282   318\n",
       "laughter_*         -0.053807  0.832771  0.778964   683\n",
       "in_order           -0.053699  0.873568  0.819868   410\n",
       "understand_that    -0.053405  0.880014  0.826609   392\n",
       "agency_*           -0.052310  0.798216  0.745906   398\n",
       "all>*              -0.051825  0.882862  0.831037   697\n",
       "mean_do            -0.051218  0.884045  0.832826   463\n",
       "commission_the     -0.050825  0.837871  0.787047   572\n",
       "which>*            -0.050679  0.866757  0.816078   323\n",
       "class_*            -0.045307  0.849193  0.803885   333\n",
       "claims_*           -0.043514  0.841856  0.798342   417\n",
       "to_it              -0.042727  0.880942  0.838215   326\n",
       "union_*            -0.041612  0.764056  0.722444   584\n",
       "sort_*             -0.041548  0.856325  0.814777   487\n",
       "secretary_*        -0.040721  0.802924  0.762202   313\n",
       "conviction_*       -0.040569  0.795129  0.754559   336\n",
       "and>you            -0.039887  0.880936  0.841049   747\n",
       "’s_*               -0.039664  0.878093  0.838430   984\n",
       "is_which           -0.039471  0.862212  0.822741   472\n",
       "i>do               -0.037842  0.896891  0.859049  1054\n",
       "against_*          -0.036482  0.864050  0.827568  1506"
      ]
     },
     "execution_count": 76,
     "metadata": {},
     "output_type": "execute_result"
    }
   ],
   "source": [
    "orientation_df[orientation_df.n >= 300].sort_values('orientation').head(25)"
   ]
  },
  {
   "cell_type": "code",
   "execution_count": 77,
   "metadata": {},
   "outputs": [
    {
     "data": {
      "text/html": [
       "<div>\n",
       "<style scoped>\n",
       "    .dataframe tbody tr th:only-of-type {\n",
       "        vertical-align: middle;\n",
       "    }\n",
       "\n",
       "    .dataframe tbody tr th {\n",
       "        vertical-align: top;\n",
       "    }\n",
       "\n",
       "    .dataframe thead th {\n",
       "        text-align: right;\n",
       "    }\n",
       "</style>\n",
       "<table border=\"1\" class=\"dataframe\">\n",
       "  <thead>\n",
       "    <tr style=\"text-align: right;\">\n",
       "      <th></th>\n",
       "      <th>orientation</th>\n",
       "      <th>fw_range</th>\n",
       "      <th>bk_range</th>\n",
       "      <th>n</th>\n",
       "    </tr>\n",
       "    <tr>\n",
       "      <th>index</th>\n",
       "      <th></th>\n",
       "      <th></th>\n",
       "      <th></th>\n",
       "      <th></th>\n",
       "    </tr>\n",
       "  </thead>\n",
       "  <tbody>\n",
       "    <tr>\n",
       "      <th>in_brief</th>\n",
       "      <td>0.145374</td>\n",
       "      <td>0.654769</td>\n",
       "      <td>0.800142</td>\n",
       "      <td>313</td>\n",
       "    </tr>\n",
       "    <tr>\n",
       "      <th>brief_your</th>\n",
       "      <td>0.141113</td>\n",
       "      <td>0.676582</td>\n",
       "      <td>0.817695</td>\n",
       "      <td>338</td>\n",
       "    </tr>\n",
       "    <tr>\n",
       "      <th>be_what</th>\n",
       "      <td>0.113340</td>\n",
       "      <td>0.723905</td>\n",
       "      <td>0.837245</td>\n",
       "      <td>363</td>\n",
       "    </tr>\n",
       "    <tr>\n",
       "      <th>be_you</th>\n",
       "      <td>0.102827</td>\n",
       "      <td>0.749427</td>\n",
       "      <td>0.852254</td>\n",
       "      <td>368</td>\n",
       "    </tr>\n",
       "    <tr>\n",
       "      <th>of_appeals</th>\n",
       "      <td>0.097252</td>\n",
       "      <td>0.614031</td>\n",
       "      <td>0.711283</td>\n",
       "      <td>1094</td>\n",
       "    </tr>\n",
       "    <tr>\n",
       "      <th>where&gt;*</th>\n",
       "      <td>0.091886</td>\n",
       "      <td>0.725915</td>\n",
       "      <td>0.817801</td>\n",
       "      <td>556</td>\n",
       "    </tr>\n",
       "    <tr>\n",
       "      <th>is_where</th>\n",
       "      <td>0.091748</td>\n",
       "      <td>0.728747</td>\n",
       "      <td>0.820495</td>\n",
       "      <td>433</td>\n",
       "    </tr>\n",
       "    <tr>\n",
       "      <th>suppose&gt;*</th>\n",
       "      <td>0.090441</td>\n",
       "      <td>0.721628</td>\n",
       "      <td>0.812069</td>\n",
       "      <td>591</td>\n",
       "    </tr>\n",
       "    <tr>\n",
       "      <th>brief_*</th>\n",
       "      <td>0.088758</td>\n",
       "      <td>0.702960</td>\n",
       "      <td>0.791717</td>\n",
       "      <td>663</td>\n",
       "    </tr>\n",
       "    <tr>\n",
       "      <th>raised_*</th>\n",
       "      <td>0.088452</td>\n",
       "      <td>0.689256</td>\n",
       "      <td>0.777707</td>\n",
       "      <td>372</td>\n",
       "    </tr>\n",
       "    <tr>\n",
       "      <th>appeals_*</th>\n",
       "      <td>0.085380</td>\n",
       "      <td>0.629112</td>\n",
       "      <td>0.714492</td>\n",
       "      <td>1171</td>\n",
       "    </tr>\n",
       "    <tr>\n",
       "      <th>in_record</th>\n",
       "      <td>0.084385</td>\n",
       "      <td>0.588508</td>\n",
       "      <td>0.672893</td>\n",
       "      <td>565</td>\n",
       "    </tr>\n",
       "    <tr>\n",
       "      <th>difference_the</th>\n",
       "      <td>0.084344</td>\n",
       "      <td>0.729926</td>\n",
       "      <td>0.814270</td>\n",
       "      <td>376</td>\n",
       "    </tr>\n",
       "    <tr>\n",
       "      <th>would&gt;you</th>\n",
       "      <td>0.083218</td>\n",
       "      <td>0.786076</td>\n",
       "      <td>0.869295</td>\n",
       "      <td>462</td>\n",
       "    </tr>\n",
       "    <tr>\n",
       "      <th>many_how</th>\n",
       "      <td>0.080834</td>\n",
       "      <td>0.681081</td>\n",
       "      <td>0.761915</td>\n",
       "      <td>430</td>\n",
       "    </tr>\n",
       "    <tr>\n",
       "      <th>difference_between</th>\n",
       "      <td>0.080253</td>\n",
       "      <td>0.749194</td>\n",
       "      <td>0.829447</td>\n",
       "      <td>308</td>\n",
       "    </tr>\n",
       "    <tr>\n",
       "      <th>would_it</th>\n",
       "      <td>0.078910</td>\n",
       "      <td>0.738195</td>\n",
       "      <td>0.817105</td>\n",
       "      <td>535</td>\n",
       "    </tr>\n",
       "    <tr>\n",
       "      <th>ask_may</th>\n",
       "      <td>0.077732</td>\n",
       "      <td>0.822390</td>\n",
       "      <td>0.900121</td>\n",
       "      <td>405</td>\n",
       "    </tr>\n",
       "    <tr>\n",
       "      <th>do&gt;*</th>\n",
       "      <td>0.076604</td>\n",
       "      <td>0.811296</td>\n",
       "      <td>0.887901</td>\n",
       "      <td>2905</td>\n",
       "    </tr>\n",
       "    <tr>\n",
       "      <th>court_of</th>\n",
       "      <td>0.076058</td>\n",
       "      <td>0.635932</td>\n",
       "      <td>0.711990</td>\n",
       "      <td>1487</td>\n",
       "    </tr>\n",
       "    <tr>\n",
       "      <th>suggesting_you</th>\n",
       "      <td>0.075158</td>\n",
       "      <td>0.792180</td>\n",
       "      <td>0.867337</td>\n",
       "      <td>309</td>\n",
       "    </tr>\n",
       "    <tr>\n",
       "      <th>what&gt;if</th>\n",
       "      <td>0.073559</td>\n",
       "      <td>0.713383</td>\n",
       "      <td>0.786942</td>\n",
       "      <td>461</td>\n",
       "    </tr>\n",
       "    <tr>\n",
       "      <th>would&gt;*</th>\n",
       "      <td>0.073488</td>\n",
       "      <td>0.750698</td>\n",
       "      <td>0.824186</td>\n",
       "      <td>1452</td>\n",
       "    </tr>\n",
       "    <tr>\n",
       "      <th>do&gt;you</th>\n",
       "      <td>0.073377</td>\n",
       "      <td>0.802752</td>\n",
       "      <td>0.876129</td>\n",
       "      <td>2183</td>\n",
       "    </tr>\n",
       "    <tr>\n",
       "      <th>purpose_the</th>\n",
       "      <td>0.072127</td>\n",
       "      <td>0.716075</td>\n",
       "      <td>0.788202</td>\n",
       "      <td>339</td>\n",
       "    </tr>\n",
       "  </tbody>\n",
       "</table>\n",
       "</div>"
      ],
      "text/plain": [
       "                    orientation  fw_range  bk_range     n\n",
       "index                                                    \n",
       "in_brief               0.145374  0.654769  0.800142   313\n",
       "brief_your             0.141113  0.676582  0.817695   338\n",
       "be_what                0.113340  0.723905  0.837245   363\n",
       "be_you                 0.102827  0.749427  0.852254   368\n",
       "of_appeals             0.097252  0.614031  0.711283  1094\n",
       "where>*                0.091886  0.725915  0.817801   556\n",
       "is_where               0.091748  0.728747  0.820495   433\n",
       "suppose>*              0.090441  0.721628  0.812069   591\n",
       "brief_*                0.088758  0.702960  0.791717   663\n",
       "raised_*               0.088452  0.689256  0.777707   372\n",
       "appeals_*              0.085380  0.629112  0.714492  1171\n",
       "in_record              0.084385  0.588508  0.672893   565\n",
       "difference_the         0.084344  0.729926  0.814270   376\n",
       "would>you              0.083218  0.786076  0.869295   462\n",
       "many_how               0.080834  0.681081  0.761915   430\n",
       "difference_between     0.080253  0.749194  0.829447   308\n",
       "would_it               0.078910  0.738195  0.817105   535\n",
       "ask_may                0.077732  0.822390  0.900121   405\n",
       "do>*                   0.076604  0.811296  0.887901  2905\n",
       "court_of               0.076058  0.635932  0.711990  1487\n",
       "suggesting_you         0.075158  0.792180  0.867337   309\n",
       "what>if                0.073559  0.713383  0.786942   461\n",
       "would>*                0.073488  0.750698  0.824186  1452\n",
       "do>you                 0.073377  0.802752  0.876129  2183\n",
       "purpose_the            0.072127  0.716075  0.788202   339"
      ]
     },
     "execution_count": 77,
     "metadata": {},
     "output_type": "execute_result"
    }
   ],
   "source": [
    "orientation_df[orientation_df.n >= 300].sort_values('orientation', ascending=False).head(25)"
   ]
  },
  {
   "cell_type": "code",
   "execution_count": null,
   "metadata": {
    "collapsed": true
   },
   "outputs": [],
   "source": []
  },
  {
   "cell_type": "code",
   "execution_count": null,
   "metadata": {
    "collapsed": true
   },
   "outputs": [],
   "source": [
    "def get_cross_embed_neighbors(source_term_embeds, target_term_embeds, source_terms, target_terms,\n",
    "                             snip_first_dim=True):\n",
    "    neighbors = cosine_distances(snip(source_term_embeds, snip_first_dim=snip_first_dim),\n",
    "                                snip(target_term_embeds, snip_first_dim=snip_first_dim))\n",
    "    return pd.DataFrame(data=neighbors, index=source_terms, columns=target_terms)"
   ]
  }
 ],
 "metadata": {
  "kernelspec": {
   "display_name": "Python 3",
   "language": "python",
   "name": "python3"
  },
  "language_info": {
   "codemirror_mode": {
    "name": "ipython",
    "version": 3
   },
   "file_extension": ".py",
   "mimetype": "text/x-python",
   "name": "python",
   "nbconvert_exporter": "python",
   "pygments_lexer": "ipython3",
   "version": "3.6.3"
  }
 },
 "nbformat": 4,
 "nbformat_minor": 2
}
