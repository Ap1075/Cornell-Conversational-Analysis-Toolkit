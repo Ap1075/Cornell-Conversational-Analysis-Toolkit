{
 "cells": [
  {
   "cell_type": "markdown",
   "metadata": {},
   "source": [
    "#### converting the movie corpus into Corpus format \n",
    "- data source = https://www.cs.cornell.edu/~cristian/Cornell_Movie-Dialogs_Corpus.html "
   ]
  },
  {
   "cell_type": "code",
   "execution_count": 36,
   "metadata": {},
   "outputs": [],
   "source": [
    "from convokit import Corpus, User, Utterance\n",
    "from tqdm import tqdm"
   ]
  },
  {
   "cell_type": "markdown",
   "metadata": {},
   "source": [
    "#### creating users\n",
    "Each character in a movie is considered a user, metadata for them are in movie_characters_metadata.txt. There are 9,035 characters in total. \n",
    "\n",
    "Note that since charater names can overlap, user_id provided in the original dataset is used as username, whereas the actual charatcter name is saved in user-metadata.\n",
    "\n",
    "For each user, metadata include the following information: \n",
    "    * name of the character.\n",
    "    * idx and name of the movie this charater is from\n",
    "    * gender(available for 3,774 characters)\n",
    "    * position on movie credits (3,321 characters available)"
   ]
  },
  {
   "cell_type": "code",
   "execution_count": 30,
   "metadata": {},
   "outputs": [],
   "source": [
    "data_dir = \"../cornell_movie_dialogs_corpus/\""
   ]
  },
  {
   "cell_type": "code",
   "execution_count": 31,
   "metadata": {},
   "outputs": [],
   "source": [
    "with open(data_dir + \"movie_characters_metadata.txt\", \"r\", encoding='utf-8', errors='ignore') as f:\n",
    "    user_data = f.readlines()"
   ]
  },
  {
   "cell_type": "code",
   "execution_count": 25,
   "metadata": {},
   "outputs": [],
   "source": [
    "user_meta = {}\n",
    "for user in user_data:\n",
    "    user_info = [info.strip() for info in user.split(\"+++$+++\")]\n",
    "    user_meta[user_info[0]] = {\"character_name\": user_info[1],\n",
    "                               \"movie_idx\": user_info[2],\n",
    "                               \"movie_name\": user_info[3],\n",
    "                               \"gender\": user_info[4],\n",
    "                               \"credit_pos\": user_info[5]}"
   ]
  },
  {
   "cell_type": "markdown",
   "metadata": {},
   "source": [
    "- create an User object for each unique character in the data, which will be used to for Utterances objects later"
   ]
  },
  {
   "cell_type": "code",
   "execution_count": 26,
   "metadata": {},
   "outputs": [],
   "source": [
    "corpus_users = {k: User(name = k, meta = v) for k,v in user_meta.items()}"
   ]
  },
  {
   "cell_type": "code",
   "execution_count": 21,
   "metadata": {},
   "outputs": [
    {
     "data": {
      "text/plain": [
       "9035"
      ]
     },
     "execution_count": 21,
     "metadata": {},
     "output_type": "execute_result"
    }
   ],
   "source": [
    "len(corpus_users)"
   ]
  },
  {
   "cell_type": "markdown",
   "metadata": {},
   "source": [
    "- checking on meta data for an example user"
   ]
  },
  {
   "cell_type": "code",
   "execution_count": 28,
   "metadata": {},
   "outputs": [
    {
     "data": {
      "text/plain": [
       "{'character_name': 'BIANCA',\n",
       " 'movie_idx': 'm0',\n",
       " 'movie_name': '10 things i hate about you',\n",
       " 'gender': 'f',\n",
       " 'credit_pos': '4'}"
      ]
     },
     "execution_count": 28,
     "metadata": {},
     "output_type": "execute_result"
    }
   ],
   "source": [
    "corpus_users['u0'].meta"
   ]
  },
  {
   "cell_type": "code",
   "execution_count": null,
   "metadata": {},
   "outputs": [],
   "source": []
  },
  {
   "cell_type": "markdown",
   "metadata": {},
   "source": [
    "#### creating utterance objects\n",
    "Utterances can be found in movie_lines.txt file. There are 304,713 utterances in total in this dataset. \n",
    "\n",
    "An utterance object normally expects at least:\n",
    "- id: the unique id of the utterance. \n",
    "- user: the user giving the utterance.\n",
    "- root: the id of the root utterance of the conversation.\n",
    "- reply_to: id of the utterance this was a reply to.\n",
    "- timestamp: timestamp of the utterance. \n",
    "- text: text of the utterance.\n",
    "\n",
    "Additional information associated with the utterance, e.g., in this case, the movie this utterance is coming from, may be saved as utterance level metadata."
   ]
  },
  {
   "cell_type": "code",
   "execution_count": 38,
   "metadata": {},
   "outputs": [],
   "source": [
    "with open(data_dir + \"movie_lines.txt\", \"r\", encoding='utf-8', errors='ignore') as f:\n",
    "    utterance_data = f.readlines()"
   ]
  },
  {
   "cell_type": "code",
   "execution_count": 46,
   "metadata": {},
   "outputs": [
    {
     "name": "stderr",
     "output_type": "stream",
     "text": [
      "100%|██████████| 304713/304713 [00:02<00:00, 108504.86it/s]\n"
     ]
    }
   ],
   "source": [
    "utterance_corpus = {}\n",
    "for utterance in tqdm(utterance_data):\n",
    "    \n",
    "    utterance_info = [info.strip() for info in utterance.split(\"+++$+++\")]\n",
    "    \n",
    "    # ignoring character name since User object already has information\n",
    "    idx, user, movie_id, text = utterance_info[0], utterance_info[1], utterance_info[2], utterance_info[4]\n",
    "    \n",
    "    meta = {'movie_id': movie_id}\n",
    "    \n",
    "    # root & reply_to will be updated later, timestamp is not applicable \n",
    "    utterance_corpus[idx] = Utterance(idx, corpus_users[user], None, None, None, text, meta=meta)"
   ]
  },
  {
   "cell_type": "code",
   "execution_count": 52,
   "metadata": {},
   "outputs": [
    {
     "data": {
      "text/plain": [
       "304713"
      ]
     },
     "execution_count": 52,
     "metadata": {},
     "output_type": "execute_result"
    }
   ],
   "source": [
    "len(utter_corpus)"
   ]
  },
  {
   "cell_type": "markdown",
   "metadata": {},
   "source": [
    "- the utterance object now contains utterance idx, user, and text, with movie idx as meta data"
   ]
  },
  {
   "cell_type": "code",
   "execution_count": 60,
   "metadata": {},
   "outputs": [
    {
     "data": {
      "text/plain": [
       "Utterance({'id': 'L1044', 'user': User([('name', 'u2')]), 'root': None, 'reply_to': None, 'timestamp': None, 'text': 'They do to!', 'other': None, 'meta': {'movie_id': 'm0'}})"
      ]
     },
     "execution_count": 60,
     "metadata": {},
     "output_type": "execute_result"
    }
   ],
   "source": [
    "utterance_corpus['L1044'] "
   ]
  },
  {
   "cell_type": "code",
   "execution_count": 61,
   "metadata": {},
   "outputs": [
    {
     "data": {
      "text/plain": [
       "{'movie_id': 'm0'}"
      ]
     },
     "execution_count": 61,
     "metadata": {},
     "output_type": "execute_result"
    }
   ],
   "source": [
    "utterance_corpus['L1044'].meta"
   ]
  },
  {
   "cell_type": "code",
   "execution_count": null,
   "metadata": {},
   "outputs": [],
   "source": []
  },
  {
   "cell_type": "markdown",
   "metadata": {},
   "source": [
    "#### updating root and reply_to information to utterances\n",
    "movie_conversations.txt provides the structure of conversations that organizes the above utterances. This will allow us to add the missing root and reply_to information to individual utterances. "
   ]
  },
  {
   "cell_type": "code",
   "execution_count": 63,
   "metadata": {},
   "outputs": [],
   "source": [
    "with open(data_dir + \"movie_conversations.txt\", \"r\", encoding='utf-8', errors='ignore') as f:\n",
    "    convo_data = f.readlines()"
   ]
  },
  {
   "cell_type": "code",
   "execution_count": 64,
   "metadata": {},
   "outputs": [],
   "source": [
    "import ast"
   ]
  },
  {
   "cell_type": "code",
   "execution_count": 65,
   "metadata": {},
   "outputs": [
    {
     "name": "stderr",
     "output_type": "stream",
     "text": [
      "100%|██████████| 83097/83097 [00:02<00:00, 29433.29it/s]\n"
     ]
    }
   ],
   "source": [
    "for info in tqdm(convo_data):\n",
    "        \n",
    "    user1, user2, m, convo = [info.strip() for info in info.split(\"+++$+++\")]\n",
    "\n",
    "    convo_seq = ast.literal_eval(convo)\n",
    "    \n",
    "    # update utterance\n",
    "    root = convo_seq[0]\n",
    "    \n",
    "    # convo_seq is a list of utterances ids, arranged in conversational order\n",
    "    for i, line in enumerate(convo_seq):\n",
    "        \n",
    "        # sanity checking: user giving the utterance is indeed in the pair of characters provided\n",
    "        if utter_corpus[line].user.name not in [user1, user2]:\n",
    "            print(\"user mismatch in line {0}\".format(i))\n",
    "        \n",
    "        utterance_corpus[line].root = root\n",
    "        \n",
    "        if i == 0:\n",
    "            utterance_corpus[line].reply_to = root\n",
    "        else:\n",
    "            utterance_corpus[line].reply_to = convo_seq[i-1]"
   ]
  },
  {
   "cell_type": "markdown",
   "metadata": {},
   "source": [
    "- check now that utterances have root and reply_to information"
   ]
  },
  {
   "cell_type": "code",
   "execution_count": 71,
   "metadata": {},
   "outputs": [
    {
     "data": {
      "text/plain": [
       "Utterance({'id': 'L666499', 'user': User([('name', 'u9028')]), 'root': 'L666497', 'reply_to': 'L666498', 'timestamp': None, 'text': 'How quickly can you move your artillery forward?', 'other': None, 'meta': {'movie_id': 'm616'}})"
      ]
     },
     "execution_count": 71,
     "metadata": {},
     "output_type": "execute_result"
    }
   ],
   "source": [
    "utterance_corpus['L666499']"
   ]
  },
  {
   "cell_type": "code",
   "execution_count": 69,
   "metadata": {},
   "outputs": [
    {
     "data": {
      "text/plain": [
       "{'movie_id': 'm616'}"
      ]
     },
     "execution_count": 69,
     "metadata": {},
     "output_type": "execute_result"
    }
   ],
   "source": [
    "utterance_corpus['L666497'].meta"
   ]
  },
  {
   "cell_type": "markdown",
   "metadata": {},
   "source": [
    "#### creating corpus from list of utterances"
   ]
  },
  {
   "cell_type": "code",
   "execution_count": 72,
   "metadata": {},
   "outputs": [],
   "source": [
    "utterance_list = [utterance for k,utterance in utterance_corpus.items()]"
   ]
  },
  {
   "cell_type": "code",
   "execution_count": 74,
   "metadata": {},
   "outputs": [],
   "source": [
    "movie_corpus = Corpus(utterances=utterance_list)"
   ]
  },
  {
   "cell_type": "code",
   "execution_count": 75,
   "metadata": {},
   "outputs": [
    {
     "data": {
      "text/plain": [
       "83097"
      ]
     },
     "execution_count": 75,
     "metadata": {},
     "output_type": "execute_result"
    }
   ],
   "source": [
    "len(movie_corpus.get_conversation_ids())"
   ]
  },
  {
   "cell_type": "code",
   "execution_count": 76,
   "metadata": {},
   "outputs": [],
   "source": [
    "convo_ids = list(movie_corpus.get_conversation_ids())"
   ]
  },
  {
   "cell_type": "markdown",
   "metadata": {},
   "source": [
    "- example conversations, note that there is no order gurantee"
   ]
  },
  {
   "cell_type": "code",
   "execution_count": 78,
   "metadata": {},
   "outputs": [
    {
     "name": "stdout",
     "output_type": "stream",
     "text": [
      "['L1045', 'L1044']\n",
      "['L985', 'L984']\n",
      "['L925', 'L924']\n",
      "['L872', 'L871', 'L870']\n",
      "['L869', 'L868', 'L867', 'L866']\n"
     ]
    }
   ],
   "source": [
    "for idx in convo_ids[0:5]:\n",
    "    print(movie_corpus.get_conversation(idx).get_utterance_ids())"
   ]
  },
  {
   "cell_type": "code",
   "execution_count": 120,
   "metadata": {},
   "outputs": [
    {
     "data": {
      "text/plain": [
       "304713"
      ]
     },
     "execution_count": 120,
     "metadata": {},
     "output_type": "execute_result"
    }
   ],
   "source": [
    "# sanity checking, # of utterances\n",
    "len(movie_corpus.get_utterance_ids())"
   ]
  },
  {
   "cell_type": "code",
   "execution_count": 32,
   "metadata": {},
   "outputs": [],
   "source": []
  },
  {
   "cell_type": "markdown",
   "metadata": {},
   "source": [
    "#### adding parses for utterances"
   ]
  },
  {
   "cell_type": "code",
   "execution_count": 95,
   "metadata": {},
   "outputs": [],
   "source": [
    "from convokit import Parser"
   ]
  },
  {
   "cell_type": "code",
   "execution_count": 96,
   "metadata": {},
   "outputs": [],
   "source": [
    "annotator = Parser()"
   ]
  },
  {
   "cell_type": "markdown",
   "metadata": {},
   "source": [
    "- this is a good place to get a progress bar"
   ]
  },
  {
   "cell_type": "code",
   "execution_count": 97,
   "metadata": {},
   "outputs": [],
   "source": [
    "movie_corpus = annotator.fit_transform(movie_corpus)"
   ]
  },
  {
   "cell_type": "code",
   "execution_count": null,
   "metadata": {},
   "outputs": [],
   "source": []
  },
  {
   "cell_type": "markdown",
   "metadata": {},
   "source": [
    "#### updating Corpus level metadata:\n",
    "In this dataset, there are a few sets of additional information about a total of 617 movies, e.g., genres, release year, url from which the raw sources are retrieved. These will all be saved as Corpus level meta data (since these are not utterance or conversational level information)"
   ]
  },
  {
   "cell_type": "code",
   "execution_count": 146,
   "metadata": {},
   "outputs": [],
   "source": [
    "movie_corpus.meta['name'] = \"Cornell Movie-Dialogs Corpus\""
   ]
  },
  {
   "cell_type": "markdown",
   "metadata": {},
   "source": [
    "- urls"
   ]
  },
  {
   "cell_type": "code",
   "execution_count": 152,
   "metadata": {},
   "outputs": [],
   "source": [
    "with open(data_dir + \"raw_script_urls.txt\", \"r\", encoding='utf-8', errors='ignore') as f:\n",
    "    urls = f.readlines()"
   ]
  },
  {
   "cell_type": "code",
   "execution_count": 153,
   "metadata": {},
   "outputs": [],
   "source": [
    "movie_meta = {}\n",
    "for movie in urls:\n",
    "    movie_id, title, url = [info.strip() for info in movie.split(\"+++$+++\")]\n",
    "    movie_meta[movie_id] = {'title': title, \"url\": url}"
   ]
  },
  {
   "cell_type": "code",
   "execution_count": 154,
   "metadata": {},
   "outputs": [
    {
     "data": {
      "text/plain": [
       "617"
      ]
     },
     "execution_count": 154,
     "metadata": {},
     "output_type": "execute_result"
    }
   ],
   "source": [
    "len(movie_meta)"
   ]
  },
  {
   "cell_type": "markdown",
   "metadata": {},
   "source": [
    "- additional movie meta"
   ]
  },
  {
   "cell_type": "code",
   "execution_count": 155,
   "metadata": {},
   "outputs": [],
   "source": [
    "with open(data_dir + \"movie_titles_metadata.txt\", \"r\", encoding='utf-8', errors='ignore') as f:\n",
    "    movie_extra = f.readlines()"
   ]
  },
  {
   "cell_type": "code",
   "execution_count": 156,
   "metadata": {},
   "outputs": [],
   "source": [
    "for movie in movie_extra:\n",
    "    movie_id, title, year, rating, votes, genre  = [info.strip() for info in movie.split(\"+++$+++\")]\n",
    "    movie_meta[movie_id]['release_year'] = year\n",
    "    movie_meta[movie_id]['rating'] = rating\n",
    "    movie_meta[movie_id]['votes'] = votes\n",
    "    movie_meta[movie_id]['genre'] = genre"
   ]
  },
  {
   "cell_type": "code",
   "execution_count": 157,
   "metadata": {},
   "outputs": [
    {
     "data": {
      "text/plain": [
       "{'title': 'the avengers',\n",
       " 'url': 'http://www.dailyscript.com/scripts/Avengers.html',\n",
       " 'release_year': '1998',\n",
       " 'rating': '3.40',\n",
       " 'votes': '21519',\n",
       " 'genre': \"['action', 'adventure', 'thriller']\"}"
      ]
     },
     "execution_count": 157,
     "metadata": {},
     "output_type": "execute_result"
    }
   ],
   "source": [
    "movie_meta['m23']"
   ]
  },
  {
   "cell_type": "code",
   "execution_count": 159,
   "metadata": {},
   "outputs": [],
   "source": [
    "movie_corpus.meta['movie_metadata'] = movie_meta"
   ]
  },
  {
   "cell_type": "code",
   "execution_count": null,
   "metadata": {},
   "outputs": [],
   "source": []
  },
  {
   "cell_type": "markdown",
   "metadata": {},
   "source": [
    "#### saving created datasets"
   ]
  },
  {
   "cell_type": "markdown",
   "metadata": {},
   "source": [
    "- checking available information of the data"
   ]
  },
  {
   "cell_type": "code",
   "execution_count": 170,
   "metadata": {},
   "outputs": [],
   "source": [
    "from convokit import meta_index"
   ]
  },
  {
   "cell_type": "code",
   "execution_count": 171,
   "metadata": {},
   "outputs": [
    {
     "data": {
      "text/plain": [
       "{'utterances-index': {'movie_id': \"<class 'str'>\", 'parsed': 'bin'},\n",
       " 'users-index': {'character_name': \"<class 'str'>\",\n",
       "  'movie_idx': \"<class 'str'>\",\n",
       "  'movie_name': \"<class 'str'>\",\n",
       "  'gender': \"<class 'str'>\",\n",
       "  'credit_pos': \"<class 'str'>\"},\n",
       " 'conversations-index': {},\n",
       " 'overall-index': {}}"
      ]
     },
     "execution_count": 171,
     "metadata": {},
     "output_type": "execute_result"
    }
   ],
   "source": [
    "meta_index(corpus = movie_corpus)"
   ]
  },
  {
   "cell_type": "markdown",
   "metadata": {},
   "source": [
    "- saving dataset"
   ]
  },
  {
   "cell_type": "code",
   "execution_count": 173,
   "metadata": {},
   "outputs": [],
   "source": [
    "# probably another good place to add progress bar"
   ]
  },
  {
   "cell_type": "code",
   "execution_count": 172,
   "metadata": {},
   "outputs": [],
   "source": [
    "movie_corpus.dump(data_dir + \"movie_corpus\")"
   ]
  },
  {
   "cell_type": "markdown",
   "metadata": {},
   "source": [
    "- after saving, the available info from dataset can be checked directly， without loading"
   ]
  },
  {
   "cell_type": "code",
   "execution_count": 193,
   "metadata": {},
   "outputs": [
    {
     "data": {
      "text/plain": [
       "{'utterances-index': {'movie_id': \"<class 'str'>\", 'parsed': 'bin'},\n",
       " 'users-index': {'character_name': \"<class 'str'>\",\n",
       "  'movie_idx': \"<class 'str'>\",\n",
       "  'movie_name': \"<class 'str'>\",\n",
       "  'gender': \"<class 'str'>\",\n",
       "  'credit_pos': \"<class 'str'>\"},\n",
       " 'conversations-index': {},\n",
       " 'overall-index': {'name': \"<class 'str'>\",\n",
       "  'movie_metadata': \"<class 'dict'>\"}}"
      ]
     },
     "execution_count": 193,
     "metadata": {},
     "output_type": "execute_result"
    }
   ],
   "source": [
    "meta_index(filename = data_dir + \"movie_corpus\")"
   ]
  },
  {
   "cell_type": "code",
   "execution_count": null,
   "metadata": {},
   "outputs": [],
   "source": []
  },
  {
   "cell_type": "code",
   "execution_count": null,
   "metadata": {},
   "outputs": [],
   "source": []
  }
 ],
 "metadata": {
  "kernelspec": {
   "display_name": "py36",
   "language": "python",
   "name": "py36"
  },
  "language_info": {
   "codemirror_mode": {
    "name": "ipython",
    "version": 3
   },
   "file_extension": ".py",
   "mimetype": "text/x-python",
   "name": "python",
   "nbconvert_exporter": "python",
   "pygments_lexer": "ipython3",
   "version": "3.6.0"
  }
 },
 "nbformat": 4,
 "nbformat_minor": 2
}
