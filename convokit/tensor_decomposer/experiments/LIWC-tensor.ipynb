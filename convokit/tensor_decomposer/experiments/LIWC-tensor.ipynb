{
 "cells": [
  {
   "cell_type": "code",
   "execution_count": 2,
   "metadata": {},
   "outputs": [],
   "source": [
    "import os\n",
    "os.chdir('../../..')"
   ]
  },
  {
   "cell_type": "code",
   "execution_count": 3,
   "metadata": {},
   "outputs": [],
   "source": [
    "import convokit\n",
    "from convokit import TextParser, TensorDecomposer, Corpus, download"
   ]
  },
  {
   "cell_type": "code",
   "execution_count": 4,
   "metadata": {},
   "outputs": [],
   "source": [
    "corpus = Corpus(filename='convokit/tensors/longreddit_construction/long-reddit-corpus-liwc-lite')"
   ]
  },
  {
   "cell_type": "code",
   "execution_count": 5,
   "metadata": {},
   "outputs": [],
   "source": [
    "cats = {'adverb', 'article', 'auxverb', 'conj', 'ipron', 'ppron', 'prep', 'quant'}\n",
    "\n",
    "\n",
    "# for utt in corpus.iter_utterances():\n",
    "#     if 'prep' in utt.meta:\n",
    "#         for cat in cats:\n",
    "#             utt.meta[cat+'-present'] = (utt.meta[cat]) > 0"
   ]
  },
  {
   "cell_type": "code",
   "execution_count": 6,
   "metadata": {},
   "outputs": [],
   "source": [
    "# corpus.dump('long-reddit-corpus-liwc-lite', base_path='convokit/tensors/longreddit_construction')"
   ]
  },
  {
   "cell_type": "code",
   "execution_count": 7,
   "metadata": {},
   "outputs": [
    {
     "data": {
      "text/plain": [
       "{'score': 15,\n",
       " 'top_level_comment': 'drkfxrm',\n",
       " 'retrieved_on': 1514950413,\n",
       " 'subreddit': 'australia',\n",
       " 'permalink': '/r/australia/comments/7l8qds/thats_a_record_elon_musks_tesla_battery_in_south/drkq9hn/',\n",
       " 'author_flair_text': '',\n",
       " 'prep': 7.69,\n",
       " 'ppron': 3.85,\n",
       " 'article': 3.85,\n",
       " 'quant': 0.0,\n",
       " 'conj': 0.0,\n",
       " 'adverb': 3.85,\n",
       " 'auxverb': 15.38,\n",
       " 'ipron': 7.69,\n",
       " 'auxverb-present': True,\n",
       " 'ipron-present': True,\n",
       " 'conj-present': False,\n",
       " 'article-present': True,\n",
       " 'prep-present': True,\n",
       " 'quant-present': False,\n",
       " 'adverb-present': True,\n",
       " 'ppron-present': True}"
      ]
     },
     "execution_count": 7,
     "metadata": {},
     "output_type": "execute_result"
    }
   ],
   "source": [
    "corpus.random_utterance().meta"
   ]
  },
  {
   "cell_type": "code",
   "execution_count": 8,
   "metadata": {},
   "outputs": [],
   "source": [
    "cats\n",
    "cats_present = {k+\"-present\" for k in cats}"
   ]
  },
  {
   "cell_type": "code",
   "execution_count": 9,
   "metadata": {},
   "outputs": [],
   "source": [
    "for convo in corpus.iter_conversations():\n",
    "    for idx, utt in enumerate(convo.get_chronological_utterance_list()[:20]):\n",
    "        convo.meta['liwc-{}'.format(idx+1)] = {k: utt.meta[k] for k in cats_present}"
   ]
  },
  {
   "cell_type": "code",
   "execution_count": 1,
   "metadata": {},
   "outputs": [
    {
     "ename": "NameError",
     "evalue": "name 'TensorDecomposer' is not defined",
     "output_type": "error",
     "traceback": [
      "\u001b[0;31m---------------------------------------------------------------------------\u001b[0m",
      "\u001b[0;31mNameError\u001b[0m                                 Traceback (most recent call last)",
      "\u001b[0;32m<ipython-input-1-248beea6464a>\u001b[0m in \u001b[0;36m<module>\u001b[0;34m\u001b[0m\n\u001b[0;32m----> 1\u001b[0;31m td = TensorDecomposer(feature_set=['liwc-{}'.format(idx) for idx in range(1, 15+1)], \n\u001b[0m\u001b[1;32m      2\u001b[0m                       obj_type=\"conversation\", tensor_func='tensortools-ncp-bcd')\n",
      "\u001b[0;31mNameError\u001b[0m: name 'TensorDecomposer' is not defined"
     ]
    }
   ],
   "source": [
    "td = TensorDecomposer(feature_set=['liwc-{}'.format(idx) for idx in range(1, 15+1)], \n",
    "                      obj_type=\"conversation\", tensor_func='tensortools-ncp-bcd')"
   ]
  },
  {
   "cell_type": "code",
   "execution_count": null,
   "metadata": {},
   "outputs": [
    {
     "name": "stdout",
     "output_type": "stream",
     "text": [
      "Constructing tensor..."
     ]
    }
   ],
   "source": [
    "td.fit(corpus)"
   ]
  },
  {
   "cell_type": "code",
   "execution_count": 15,
   "metadata": {},
   "outputs": [
    {
     "data": {
      "text/plain": [
       "{'WC': 26.0,\n",
       " 'Analytic': 1.0,\n",
       " 'Clout': 35.01,\n",
       " 'Authentic': 17.46,\n",
       " 'Tone': 25.77,\n",
       " 'WPS': 26.0,\n",
       " 'Sixltr': 7.69,\n",
       " 'Dic': 73.08,\n",
       " 'function': 57.69,\n",
       " 'pronoun': 19.23,\n",
       " 'ppron': 15.38,\n",
       " 'i': 3.85,\n",
       " 'we': 0.0,\n",
       " 'you': 0.0,\n",
       " 'shehe': 11.54,\n",
       " 'they': 0.0,\n",
       " 'ipron': 3.85,\n",
       " 'article': 7.69,\n",
       " 'prep': 3.85,\n",
       " 'auxverb': 11.54,\n",
       " 'adverb': 11.54,\n",
       " 'conj': 19.23,\n",
       " 'negate': 3.85,\n",
       " 'verb': 19.23,\n",
       " 'adj': 0.0,\n",
       " 'compare': 0.0,\n",
       " 'interrog': 7.69,\n",
       " 'number': 0.0,\n",
       " 'quant': 0.0,\n",
       " 'affect': 0.0,\n",
       " 'posemo': 0.0,\n",
       " 'negemo': 0.0,\n",
       " 'anx': 0.0,\n",
       " 'anger': 0.0,\n",
       " 'sad': 0.0,\n",
       " 'social': 15.38,\n",
       " 'family': 0.0,\n",
       " 'friend': 0.0,\n",
       " 'female': 0.0,\n",
       " 'male': 11.54,\n",
       " 'cogproc': 15.38,\n",
       " 'insight': 0.0,\n",
       " 'cause': 0.0,\n",
       " 'discrep': 0.0,\n",
       " 'tentat': 3.85,\n",
       " 'certain': 0.0,\n",
       " 'differ': 11.54,\n",
       " 'percept': 0.0,\n",
       " 'see': 0.0,\n",
       " 'hear': 0.0,\n",
       " 'feel': 0.0,\n",
       " 'bio': 0.0,\n",
       " 'body': 0.0,\n",
       " 'health': 0.0,\n",
       " 'sexual': 0.0,\n",
       " 'ingest': 0.0,\n",
       " 'drives': 3.85,\n",
       " 'affiliation': 0.0,\n",
       " 'achieve': 0.0,\n",
       " 'power': 0.0,\n",
       " 'reward': 3.85,\n",
       " 'risk': 0.0,\n",
       " 'focuspast': 7.69,\n",
       " 'focuspresent': 11.54,\n",
       " 'focusfuture': 0.0,\n",
       " 'relativ': 11.54,\n",
       " 'motion': 0.0,\n",
       " 'space': 0.0,\n",
       " 'time': 7.69,\n",
       " 'work': 0.0,\n",
       " 'leisure': 0.0,\n",
       " 'home': 0.0,\n",
       " 'money': 0.0,\n",
       " 'relig': 0.0,\n",
       " 'death': 0.0,\n",
       " 'informal': 0.0,\n",
       " 'swear': 0.0,\n",
       " 'netspeak': 0.0,\n",
       " 'assent': 0.0,\n",
       " 'nonflu': 0.0,\n",
       " 'filler': 0.0,\n",
       " 'AllPunc': 19.23,\n",
       " 'Period': 0.0,\n",
       " 'Comma': 7.69,\n",
       " 'Colon': 0.0,\n",
       " 'SemiC': 0.0,\n",
       " 'QMark': 3.85,\n",
       " 'Exclam': 0.0,\n",
       " 'Dash': 0.0,\n",
       " 'Quote': 0.0,\n",
       " 'Apostro': 7.69,\n",
       " 'Parenth': 0.0,\n",
       " 'OtherP': 0.0}"
      ]
     },
     "execution_count": 15,
     "metadata": {},
     "output_type": "execute_result"
    }
   ],
   "source": [
    "corpus.random_utterance().meta['liwc']"
   ]
  },
  {
   "cell_type": "code",
   "execution_count": 37,
   "metadata": {},
   "outputs": [
    {
     "data": {
      "text/plain": [
       "{'adverb', 'article', 'auxverb', 'conj', 'ipron', 'ppron', 'preps', 'quant'}"
      ]
     },
     "execution_count": 37,
     "metadata": {},
     "output_type": "execute_result"
    }
   ],
   "source": [
    "cats"
   ]
  },
  {
   "cell_type": "code",
   "execution_count": null,
   "metadata": {},
   "outputs": [],
   "source": []
  },
  {
   "cell_type": "code",
   "execution_count": null,
   "metadata": {},
   "outputs": [],
   "source": []
  },
  {
   "cell_type": "code",
   "execution_count": null,
   "metadata": {},
   "outputs": [],
   "source": []
  }
 ],
 "metadata": {
  "kernelspec": {
   "display_name": "Python 3",
   "language": "python",
   "name": "python3"
  },
  "language_info": {
   "codemirror_mode": {
    "name": "ipython",
    "version": 3
   },
   "file_extension": ".py",
   "mimetype": "text/x-python",
   "name": "python",
   "nbconvert_exporter": "python",
   "pygments_lexer": "ipython3",
   "version": "3.7.6"
  }
 },
 "nbformat": 4,
 "nbformat_minor": 2
}
