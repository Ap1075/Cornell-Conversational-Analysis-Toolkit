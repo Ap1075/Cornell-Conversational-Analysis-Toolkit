{
 "cells": [
  {
   "cell_type": "code",
   "execution_count": 1,
   "metadata": {},
   "outputs": [],
   "source": [
    "import os\n",
    "os.chdir('../../..')"
   ]
  },
  {
   "cell_type": "code",
   "execution_count": 2,
   "metadata": {},
   "outputs": [],
   "source": [
    "import convokit\n",
    "from convokit import TextParser, TensorDecomposer, Corpus, download"
   ]
  },
  {
   "cell_type": "code",
   "execution_count": 3,
   "metadata": {},
   "outputs": [],
   "source": [
    "corpus = Corpus(filename='convokit/tensors/longreddit_construction/long-reddit-corpus-liwc-lite')"
   ]
  },
  {
   "cell_type": "code",
   "execution_count": 4,
   "metadata": {},
   "outputs": [],
   "source": [
    "cats = {'adverb', 'article', 'auxverb', 'conj', 'ipron', 'ppron', 'prep', 'quant'}\n",
    "\n",
    "\n",
    "# for utt in corpus.iter_utterances():\n",
    "#     if 'prep' in utt.meta:\n",
    "#         for cat in cats:\n",
    "#             utt.meta[cat+'-present'] = (utt.meta[cat]) > 0"
   ]
  },
  {
   "cell_type": "code",
   "execution_count": 5,
   "metadata": {},
   "outputs": [],
   "source": [
    "# corpus.dump('long-reddit-corpus-liwc-lite', base_path='convokit/tensors/longreddit_construction')"
   ]
  },
  {
   "cell_type": "code",
   "execution_count": 6,
   "metadata": {},
   "outputs": [],
   "source": [
    "cats\n",
    "cats_present = {k+\"-present\" for k in cats}"
   ]
  },
  {
   "cell_type": "code",
   "execution_count": null,
   "metadata": {},
   "outputs": [],
   "source": [
    "for convo in corpus.iter_conversations():\n",
    "    for idx, utt in enumerate(convo.get_chronological_utterance_list()[:20]):\n",
    "        convo.meta['liwc-{}'.format(idx+1)] = {k: utt.meta[k] for k in cats_present}"
   ]
  },
  {
   "cell_type": "code",
   "execution_count": null,
   "metadata": {},
   "outputs": [],
   "source": [
    "td = TensorDecomposer(feature_set=['liwc-{}'.format(idx) for idx in range(1, 20+1)], \n",
    "                      obj_type=\"conversation\", tensor_func='tensortools-ncp-bcd', rank=9)"
   ]
  },
  {
   "cell_type": "code",
   "execution_count": null,
   "metadata": {},
   "outputs": [],
   "source": [
    "td.fit(corpus)"
   ]
  },
  {
   "cell_type": "code",
   "execution_count": null,
   "metadata": {},
   "outputs": [],
   "source": [
    "td.summarize(corpus, axis_names=['Comment index', 'Threads', 'LIWC'], \n",
    "            output_dir='convokit/tensor_decomposer/reports/liwc-TCA')"
   ]
  },
  {
   "cell_type": "code",
   "execution_count": null,
   "metadata": {},
   "outputs": [],
   "source": [
    "cats"
   ]
  },
  {
   "cell_type": "code",
   "execution_count": null,
   "metadata": {},
   "outputs": [],
   "source": []
  }
 ],
 "metadata": {
  "kernelspec": {
   "display_name": "Python 3",
   "language": "python",
   "name": "python3"
  },
  "language_info": {
   "codemirror_mode": {
    "name": "ipython",
    "version": 3
   },
   "file_extension": ".py",
   "mimetype": "text/x-python",
   "name": "python",
   "nbconvert_exporter": "python",
   "pygments_lexer": "ipython3",
   "version": "3.7.4"
  }
 },
 "nbformat": 4,
 "nbformat_minor": 2
}
