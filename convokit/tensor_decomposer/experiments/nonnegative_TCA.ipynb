{
 "cells": [
  {
   "cell_type": "code",
   "execution_count": 1,
   "metadata": {},
   "outputs": [],
   "source": [
    "import os\n",
    "os.chdir('../../..')"
   ]
  },
  {
   "cell_type": "code",
   "execution_count": 2,
   "metadata": {},
   "outputs": [],
   "source": [
    "import convokit\n",
    "from convokit import TensorDecomposer, HyperConvo, Corpus\n",
    "import numpy as np\n",
    "import pandas as pd"
   ]
  },
  {
   "cell_type": "code",
   "execution_count": 50,
   "metadata": {},
   "outputs": [],
   "source": [
    "# CORPUS_DIR = \"convokit/thread_generator/fake-corpus-trajectory\"\n",
    "# CORPUS_DIR = \"convokit/thread_generator/annotated-fake-trajectory\"\n",
    "\n",
    "CORPUS_DIR = \"convokit/tensor_decomposer/experiments/reddit-trajectory-subset-annotated\""
   ]
  },
  {
   "cell_type": "code",
   "execution_count": 51,
   "metadata": {},
   "outputs": [],
   "source": [
    "corpus = Corpus(CORPUS_DIR)"
   ]
  },
  {
   "cell_type": "code",
   "execution_count": 52,
   "metadata": {},
   "outputs": [],
   "source": [
    "GROUP_SIZE = 500"
   ]
  },
  {
   "cell_type": "markdown",
   "metadata": {},
   "source": [
    "## Standard TCA"
   ]
  },
  {
   "cell_type": "code",
   "execution_count": 53,
   "metadata": {},
   "outputs": [],
   "source": [
    "hyperconv_range = range(3, 20+1)"
   ]
  },
  {
   "cell_type": "code",
   "execution_count": 54,
   "metadata": {},
   "outputs": [],
   "source": [
    "td = TensorDecomposer(obj_type=\"conversation\",\n",
    "                      feature_set=[\"hyperconvo-{}\".format(i) for i in hyperconv_range],\n",
    "                      group_func=lambda convo: convo.get_utterance(convo.id).meta['subreddit'],\n",
    "                      rank=3\n",
    "                     )"
   ]
  },
  {
   "cell_type": "code",
   "execution_count": 55,
   "metadata": {},
   "outputs": [
    {
     "name": "stdout",
     "output_type": "stream",
     "text": [
      "Constructing tensor...Done.\n",
      "Decomposing tensor...Done.\n"
     ]
    },
    {
     "data": {
      "text/plain": [
       "<convokit.tensor_decomposer.tensorDecomposer.TensorDecomposer at 0x12fda1fd0>"
      ]
     },
     "execution_count": 55,
     "metadata": {},
     "output_type": "execute_result"
    }
   ],
   "source": [
    "td.fit(corpus)"
   ]
  },
  {
   "cell_type": "code",
   "execution_count": 56,
   "metadata": {},
   "outputs": [],
   "source": [
    "# td.summarize(corpus, axis_names=[\"Comment idx\", \"Threads\", \"Features\"], \n",
    "#              output_dir='convokit/tensor_decomposer/reports/25May_normal', \n",
    "#              report_title=\"25 May (normal)\")"
   ]
  },
  {
   "cell_type": "code",
   "execution_count": 57,
   "metadata": {},
   "outputs": [
    {
     "data": {
      "text/plain": [
       "0.81"
      ]
     },
     "execution_count": 57,
     "metadata": {},
     "output_type": "execute_result"
    }
   ],
   "source": [
    "td.purity(n_clusters=3, actual_num_clusters=3, group_size=GROUP_SIZE)"
   ]
  },
  {
   "cell_type": "markdown",
   "metadata": {},
   "source": [
    "## Non-negative TCA (HALS)"
   ]
  },
  {
   "cell_type": "code",
   "execution_count": 80,
   "metadata": {},
   "outputs": [],
   "source": [
    "hyperconv_range = range(2, 20+1)\n",
    "td_nonneg_hals = TensorDecomposer(obj_type=\"conversation\",\n",
    "                      feature_set=[\"hyperconvo-{}\".format(i) for i in hyperconv_range],\n",
    "                      group_func=lambda convo: convo.get_utterance(convo.id).meta['subreddit'],\n",
    "                      rank=3, tensor_func='tensortools-ncp-hals',\n",
    "                      anomaly_threshold=2,\n",
    "                     )"
   ]
  },
  {
   "cell_type": "code",
   "execution_count": 81,
   "metadata": {},
   "outputs": [
    {
     "name": "stdout",
     "output_type": "stream",
     "text": [
      "Constructing tensor...Done.\n",
      "Decomposing tensor...NCP_HALS: iteration 1, objective 0.5989193538284204, improvement inf.\n",
      "NCP_HALS: iteration 2, objective 0.44457780035295025, improvement 0.15434155347547018.\n",
      "NCP_HALS: iteration 3, objective 0.42317771647029634, improvement 0.02140008388265391.\n",
      "NCP_HALS: iteration 4, objective 0.41876053959569015, improvement 0.004417176874606188.\n",
      "NCP_HALS: iteration 5, objective 0.41607842370207127, improvement 0.002682115893618886.\n",
      "NCP_HALS: iteration 6, objective 0.41443895630084165, improvement 0.0016394674012296107.\n",
      "NCP_HALS: iteration 7, objective 0.41356969958418666, improvement 0.000869256716654998.\n",
      "NCP_HALS: iteration 8, objective 0.41314749032271225, improvement 0.0004222092614744044.\n",
      "NCP_HALS: iteration 9, objective 0.4129260796916498, improvement 0.0002214106310624575.\n",
      "NCP_HALS: iteration 10, objective 0.4128044519700363, improvement 0.00012162772161350421.\n",
      "NCP_HALS: iteration 11, objective 0.41273495028098894, improvement 6.950168904734655e-05.\n",
      "NCP_HALS: iteration 12, objective 0.4126930131716298, improvement 4.193710935912476e-05.\n",
      "NCP_HALS: iteration 13, objective 0.4126662646340707, improvement 2.6748537559129204e-05.\n",
      "NCP_HALS: iteration 14, objective 0.4126488883206007, improvement 1.7376313469985583e-05.\n",
      "NCP_HALS: iteration 15, objective 0.41263748351948526, improvement 1.1404801115444396e-05.\n",
      "NCP_HALS: iteration 16, objective 0.4126301493690359, improvement 7.334150449345156e-06.\n",
      "Converged after 16 iterations, 0.5428795070001797 seconds. Objective: 0.4126301493690359.\n",
      "Done.\n"
     ]
    },
    {
     "data": {
      "text/plain": [
       "<convokit.tensor_decomposer.tensorDecomposer.TensorDecomposer at 0x12fe32710>"
      ]
     },
     "execution_count": 81,
     "metadata": {},
     "output_type": "execute_result"
    }
   ],
   "source": [
    "td_nonneg_hals.fit(corpus)"
   ]
  },
  {
   "cell_type": "code",
   "execution_count": 82,
   "metadata": {},
   "outputs": [],
   "source": [
    "# td_nonneg_hals.summarize(corpus, axis_names=[\"Comment idx\", \"Threads\", \"Features\"], \n",
    "#              output_dir='convokit/tensor_decomposer/reports/26May_nonneg_hals', \n",
    "#              report_title=\"26 May (non-negative, HALS)\")"
   ]
  },
  {
   "cell_type": "code",
   "execution_count": 83,
   "metadata": {},
   "outputs": [
    {
     "data": {
      "text/plain": [
       "0.81"
      ]
     },
     "execution_count": 83,
     "metadata": {},
     "output_type": "execute_result"
    }
   ],
   "source": [
    "td_nonneg_hals.purity(n_clusters=3, actual_num_clusters=3, group_size=GROUP_SIZE)"
   ]
  },
  {
   "cell_type": "markdown",
   "metadata": {},
   "source": [
    "## Non-negative TCA (BCD)"
   ]
  },
  {
   "cell_type": "code",
   "execution_count": 84,
   "metadata": {},
   "outputs": [],
   "source": [
    "td_nonneg_bcd = TensorDecomposer(obj_type=\"conversation\",\n",
    "                      feature_set=[\"hyperconvo-{}\".format(i) for i in hyperconv_range],\n",
    "                      group_func=lambda convo: convo.get_utterance(convo.id).meta['subreddit'],\n",
    "                      rank=3, tensor_func='tensortools-ncp-bcd',\n",
    "                      anomaly_threshold=2,\n",
    "                     )"
   ]
  },
  {
   "cell_type": "code",
   "execution_count": 85,
   "metadata": {},
   "outputs": [
    {
     "name": "stdout",
     "output_type": "stream",
     "text": [
      "Constructing tensor...Done.\n",
      "Decomposing tensor...NCP_BCD: iteration 1, objective 0.6718731318817349, improvement inf.\n",
      "NCP_BCD: iteration 2, objective 0.6290455425119065, improvement 0.042827589369828445.\n",
      "NCP_BCD: iteration 3, objective 0.6213398300026501, improvement 0.007705712509256335.\n",
      "NCP_BCD: iteration 4, objective 0.6180424428925099, improvement 0.0032973871101402707.\n",
      "NCP_BCD: iteration 5, objective 0.6142069851321517, improvement 0.0038354577603582074.\n",
      "NCP_BCD: iteration 6, objective 0.6039927726383885, improvement 0.010214212493763197.\n",
      "NCP_BCD: iteration 7, objective 0.576107310921172, improvement 0.02788546171721651.\n",
      "NCP_BCD: iteration 8, objective 0.5325931972086955, improvement 0.04351411371247649.\n",
      "NCP_BCD: iteration 9, objective 0.48055115380769464, improvement 0.052042043401000826.\n",
      "NCP_BCD: iteration 10, objective 0.4541077692194844, improvement 0.026443384588210217.\n",
      "NCP_BCD: iteration 11, objective 0.4436587357346576, improvement 0.010449033484826842.\n",
      "NCP_BCD: iteration 12, objective 0.43755985973619815, improvement 0.00609887599845943.\n",
      "NCP_BCD: iteration 13, objective 0.4336561629795846, improvement 0.0039036967566135616.\n",
      "NCP_BCD: iteration 14, objective 0.4309600085802906, improvement 0.002696154399293993.\n",
      "NCP_BCD: iteration 15, objective 0.42878813469047394, improvement 0.0021718738898166556.\n",
      "NCP_BCD: iteration 16, objective 0.42663836227700774, improvement 0.0021497724134662.\n",
      "NCP_BCD: iteration 17, objective 0.42439574663426705, improvement 0.0022426156427406974.\n",
      "NCP_BCD: iteration 18, objective 0.4221331794799061, improvement 0.0022625671543609616.\n",
      "NCP_BCD: iteration 19, objective 0.41998935064816934, improvement 0.0021438288317367493.\n",
      "NCP_BCD: iteration 20, objective 0.41809234261202605, improvement 0.0018970080361432884.\n",
      "NCP_BCD: iteration 21, objective 0.4164898598180185, improvement 0.0016024827940075426.\n",
      "NCP_BCD: iteration 22, objective 0.41520476002091516, improvement 0.0012850997971033395.\n",
      "NCP_BCD: iteration 23, objective 0.41424662282099134, improvement 0.0009581371999238253.\n",
      "NCP_BCD: iteration 24, objective 0.4136059852680457, improvement 0.0006406375529456332.\n",
      "NCP_BCD: iteration 25, objective 0.41321829776873037, improvement 0.00038768749931533675.\n",
      "NCP_BCD: iteration 26, objective 0.41299964104799475, improvement 0.0002186567207356216.\n",
      "NCP_BCD: iteration 27, objective 0.4128878106406132, improvement 0.00011183040738155237.\n",
      "NCP_BCD: iteration 28, objective 0.4128323080342347, improvement 5.550260637848803e-05.\n",
      "NCP_BCD: iteration 29, objective 0.41280031499441316, improvement 3.199303982154289e-05.\n",
      "NCP_BCD: iteration 30, objective 0.4127728140013923, improvement 2.7500993020845854e-05.\n",
      "NCP_BCD: iteration 31, objective 0.4127431333450298, improvement 2.9680656362496283e-05.\n",
      "NCP_BCD: iteration 32, objective 0.41271155073408516, improvement 3.1582610944658196e-05.\n",
      "NCP_BCD: iteration 33, objective 0.41268149537508403, improvement 3.005535900113543e-05.\n",
      "NCP_BCD: iteration 34, objective 0.4126563777243162, improvement 2.5117650767847444e-05.\n",
      "NCP_BCD: iteration 35, objective 0.41263807908277716, improvement 1.829864153901628e-05.\n",
      "NCP_BCD: iteration 36, objective 0.4126267915700543, improvement 1.1287512722890636e-05.\n",
      "NCP_BCD: iteration 37, objective 0.412621371769521, improvement 5.419800533257302e-06.\n",
      "Converged after 37 iterations, 1.4718732510000336 seconds. Objective: 0.412621371769521.\n",
      "Done.\n"
     ]
    },
    {
     "data": {
      "text/plain": [
       "<convokit.tensor_decomposer.tensorDecomposer.TensorDecomposer at 0x12fe4e450>"
      ]
     },
     "execution_count": 85,
     "metadata": {},
     "output_type": "execute_result"
    }
   ],
   "source": [
    "td_nonneg_bcd.fit(corpus)"
   ]
  },
  {
   "cell_type": "code",
   "execution_count": 86,
   "metadata": {},
   "outputs": [],
   "source": [
    "# td_nonneg_bcd.summarize(corpus, axis_names=[\"Comment idx\", \"Threads\", \"Features\"], \n",
    "#              output_dir='convokit/tensor_decomposer/reports/26May_nonneg_bcd', \n",
    "#              report_title=\"26 May (non-negative, BCD)\")"
   ]
  },
  {
   "cell_type": "code",
   "execution_count": 87,
   "metadata": {},
   "outputs": [
    {
     "data": {
      "text/plain": [
       "0.8113333333333334"
      ]
     },
     "execution_count": 87,
     "metadata": {},
     "output_type": "execute_result"
    }
   ],
   "source": [
    "td_nonneg_bcd.purity(n_clusters=3, actual_num_clusters=3, group_size=GROUP_SIZE)"
   ]
  },
  {
   "cell_type": "markdown",
   "metadata": {},
   "source": [
    "## Non-negative, standard-scaled"
   ]
  },
  {
   "cell_type": "code",
   "execution_count": 88,
   "metadata": {},
   "outputs": [],
   "source": [
    "from sklearn.preprocessing import StandardScaler\n",
    "def standard_scale(tensor):\n",
    "    tensor = tensor.copy()\n",
    "    for i in range(tensor.shape[2]):\n",
    "        tensor[:, :, i] = StandardScaler().fit_transform(tensor[:, :, i])\n",
    "    return tensor"
   ]
  },
  {
   "cell_type": "markdown",
   "metadata": {},
   "source": [
    "### HALS, 3-20, standard-scaled"
   ]
  },
  {
   "cell_type": "code",
   "execution_count": 89,
   "metadata": {},
   "outputs": [
    {
     "name": "stdout",
     "output_type": "stream",
     "text": [
      "Constructing tensor...Done.\n",
      "Decomposing tensor...NCP_HALS: iteration 1, objective 0.9291441951149553, improvement inf.\n",
      "NCP_HALS: iteration 2, objective 0.9218848155851838, improvement 0.007259379529771515.\n",
      "NCP_HALS: iteration 3, objective 0.9209688539558395, improvement 0.0009159616293442641.\n",
      "NCP_HALS: iteration 4, objective 0.9206312079458848, improvement 0.000337646009954673.\n",
      "NCP_HALS: iteration 5, objective 0.9204099867544795, improvement 0.0002212211914053297.\n",
      "NCP_HALS: iteration 6, objective 0.9202498694319202, improvement 0.00016011732255927225.\n",
      "NCP_HALS: iteration 7, objective 0.9201567653926052, improvement 9.310403931506173e-05.\n",
      "NCP_HALS: iteration 8, objective 0.9201096733398707, improvement 4.709205273445427e-05.\n",
      "NCP_HALS: iteration 9, objective 0.9200866811195542, improvement 2.2992220316542245e-05.\n",
      "NCP_HALS: iteration 10, objective 0.9200750465411732, improvement 1.1634578380936844e-05.\n",
      "NCP_HALS: iteration 11, objective 0.9200682933037229, improvement 6.753237450363159e-06.\n",
      "Converged after 11 iterations, 0.21169077500007916 seconds. Objective: 0.9200682933037229.\n",
      "Done.\n"
     ]
    },
    {
     "data": {
      "text/plain": [
       "0.8693333333333333"
      ]
     },
     "execution_count": 89,
     "metadata": {},
     "output_type": "execute_result"
    }
   ],
   "source": [
    "td_nonneg_hals_std = TensorDecomposer(obj_type=\"conversation\",\n",
    "                      feature_set=[\"hyperconvo-{}\".format(i) for i in hyperconv_range],\n",
    "                      group_func=lambda convo: convo.get_utterance(convo.id).meta['subreddit'],\n",
    "                      rank=3, tensor_func='tensortools-ncp-hals',\n",
    "                      normalize_func=standard_scale\n",
    "                     )\n",
    "td_nonneg_hals_std.fit(corpus)\n",
    "td_nonneg_hals_std.purity(n_clusters=3, actual_num_clusters=3, group_size=GROUP_SIZE)"
   ]
  },
  {
   "cell_type": "markdown",
   "metadata": {},
   "source": [
    "### HALS, 2-20, standard-scaled"
   ]
  },
  {
   "cell_type": "code",
   "execution_count": 90,
   "metadata": {},
   "outputs": [
    {
     "name": "stdout",
     "output_type": "stream",
     "text": [
      "Constructing tensor...Done.\n",
      "Decomposing tensor...NCP_HALS: iteration 1, objective 0.9291441951149553, improvement inf.\n",
      "NCP_HALS: iteration 2, objective 0.9218848155851838, improvement 0.007259379529771515.\n",
      "NCP_HALS: iteration 3, objective 0.9209688539558395, improvement 0.0009159616293442641.\n",
      "NCP_HALS: iteration 4, objective 0.9206312079458848, improvement 0.000337646009954673.\n",
      "NCP_HALS: iteration 5, objective 0.9204099867544795, improvement 0.0002212211914053297.\n",
      "NCP_HALS: iteration 6, objective 0.9202498694319202, improvement 0.00016011732255927225.\n",
      "NCP_HALS: iteration 7, objective 0.9201567653926052, improvement 9.310403931506173e-05.\n",
      "NCP_HALS: iteration 8, objective 0.9201096733398707, improvement 4.709205273445427e-05.\n",
      "NCP_HALS: iteration 9, objective 0.9200866811195542, improvement 2.2992220316542245e-05.\n",
      "NCP_HALS: iteration 10, objective 0.9200750465411732, improvement 1.1634578380936844e-05.\n",
      "NCP_HALS: iteration 11, objective 0.9200682933037229, improvement 6.753237450363159e-06.\n",
      "Converged after 11 iterations, 0.23362215299994205 seconds. Objective: 0.9200682933037229.\n",
      "Done.\n"
     ]
    },
    {
     "data": {
      "text/plain": [
       "0.8693333333333333"
      ]
     },
     "execution_count": 90,
     "metadata": {},
     "output_type": "execute_result"
    }
   ],
   "source": [
    "hyperconv_range=range(2,20+1)\n",
    "td_nonneg_hals_std = TensorDecomposer(obj_type=\"conversation\",\n",
    "                      feature_set=[\"hyperconvo-{}\".format(i) for i in hyperconv_range],\n",
    "                      group_func=lambda convo: convo.get_utterance(convo.id).meta['subreddit'],\n",
    "                      rank=3, tensor_func='tensortools-ncp-hals',\n",
    "                      normalize_func=standard_scale\n",
    "                     )\n",
    "td_nonneg_hals_std.fit(corpus)\n",
    "td_nonneg_hals_std.purity(n_clusters=3, actual_num_clusters=3, group_size=GROUP_SIZE)"
   ]
  },
  {
   "cell_type": "markdown",
   "metadata": {},
   "source": [
    "### BCD, 3-20, standard-scaled"
   ]
  },
  {
   "cell_type": "code",
   "execution_count": 91,
   "metadata": {},
   "outputs": [
    {
     "name": "stdout",
     "output_type": "stream",
     "text": [
      "Constructing tensor...Done.\n",
      "Decomposing tensor...NCP_BCD: iteration 1, objective 0.9489063627864627, improvement inf.\n",
      "NCP_BCD: iteration 2, objective 0.9337036644871701, improvement 0.01520269829929255.\n",
      "NCP_BCD: iteration 3, objective 0.9313614545177508, improvement 0.002342209969419362.\n",
      "NCP_BCD: iteration 4, objective 0.9306337639103562, improvement 0.0007276906073945266.\n",
      "NCP_BCD: iteration 5, objective 0.9300619858376821, improvement 0.0005717780726741672.\n",
      "NCP_BCD: iteration 6, objective 0.9294940742371393, improvement 0.0005679116005428142.\n",
      "NCP_BCD: iteration 7, objective 0.9288321407789624, improvement 0.0006619334581768888.\n",
      "NCP_BCD: iteration 8, objective 0.9280630666207008, improvement 0.0007690741582615512.\n",
      "NCP_BCD: iteration 9, objective 0.9272206166860036, improvement 0.0008424499346971759.\n",
      "NCP_BCD: iteration 10, objective 0.9263611520204079, improvement 0.0008594646655957217.\n",
      "NCP_BCD: iteration 11, objective 0.9254937282004757, improvement 0.0008674238199322115.\n",
      "NCP_BCD: iteration 12, objective 0.9246296569568396, improvement 0.0008640712436360776.\n",
      "NCP_BCD: iteration 13, objective 0.9238685454633246, improvement 0.0007611114935149876.\n",
      "NCP_BCD: iteration 14, objective 0.9232534882436273, improvement 0.0006150572196973458.\n",
      "NCP_BCD: iteration 15, objective 0.9227319292879155, improvement 0.0005215589557118205.\n",
      "NCP_BCD: iteration 16, objective 0.9222864894271824, improvement 0.00044543986073308783.\n",
      "NCP_BCD: iteration 17, objective 0.9219444575066941, improvement 0.0003420319204883171.\n",
      "NCP_BCD: iteration 18, objective 0.9216701966974135, improvement 0.00027426080928061314.\n",
      "NCP_BCD: iteration 19, objective 0.9214493670084717, improvement 0.00022082968894177046.\n",
      "NCP_BCD: iteration 20, objective 0.9212697488800201, improvement 0.0001796181284515752.\n",
      "NCP_BCD: iteration 21, objective 0.9211137164594624, improvement 0.00015603242055772792.\n",
      "NCP_BCD: iteration 22, objective 0.9209736468492148, improvement 0.00014006961024759512.\n",
      "NCP_BCD: iteration 23, objective 0.9208483368323012, improvement 0.00012531001691362675.\n",
      "NCP_BCD: iteration 24, objective 0.9207429777447815, improvement 0.00010535908751962975.\n",
      "NCP_BCD: iteration 25, objective 0.9206654427558304, improvement 7.753498895113342e-05.\n",
      "NCP_BCD: iteration 26, objective 0.920603766460525, improvement 6.167629530540175e-05.\n",
      "NCP_BCD: iteration 27, objective 0.9205519950263757, improvement 5.177143414925034e-05.\n",
      "NCP_BCD: iteration 28, objective 0.9205007603437466, improvement 5.1234682629131e-05.\n",
      "NCP_BCD: iteration 29, objective 0.9204417654515422, improvement 5.899489220440035e-05.\n",
      "NCP_BCD: iteration 30, objective 0.9203664712824655, improvement 7.529416907670061e-05.\n",
      "NCP_BCD: iteration 31, objective 0.9202666964256373, improvement 9.977485682821641e-05.\n",
      "NCP_BCD: iteration 32, objective 0.9201370347325801, improvement 0.00012966169305717035.\n",
      "NCP_BCD: iteration 33, objective 0.9199755054354897, improvement 0.00016152929709045694.\n",
      "NCP_BCD: iteration 34, objective 0.9197876408277631, improvement 0.00018786460772657332.\n",
      "NCP_BCD: iteration 35, objective 0.9195851855589998, improvement 0.00020245526876327968.\n",
      "NCP_BCD: iteration 36, objective 0.9193922312413026, improvement 0.0001929543176971693.\n",
      "NCP_BCD: iteration 37, objective 0.9192264598856298, improvement 0.00016577135567286128.\n",
      "NCP_BCD: iteration 38, objective 0.9190920083587651, improvement 0.0001344515268646429.\n",
      "NCP_BCD: iteration 39, objective 0.9189870011541763, improvement 0.00010500720458883617.\n",
      "NCP_BCD: iteration 40, objective 0.9188938267752861, improvement 9.317437889022617e-05.\n",
      "NCP_BCD: iteration 41, objective 0.9188007166447226, improvement 9.31101305634563e-05.\n",
      "NCP_BCD: iteration 42, objective 0.9187077415365956, improvement 9.297510812700249e-05.\n",
      "NCP_BCD: iteration 43, objective 0.9186181368451879, improvement 8.960469140772975e-05.\n",
      "NCP_BCD: iteration 44, objective 0.9185372414715101, improvement 8.089537367783617e-05.\n",
      "NCP_BCD: iteration 45, objective 0.9184589370594681, improvement 7.830441204192962e-05.\n",
      "NCP_BCD: iteration 46, objective 0.918388915205914, improvement 7.002185355409196e-05.\n",
      "NCP_BCD: iteration 47, objective 0.9183330347197431, improvement 5.5880486170889476e-05.\n",
      "NCP_BCD: iteration 48, objective 0.9182910154604674, improvement 4.201925927571626e-05.\n",
      "NCP_BCD: iteration 49, objective 0.9182607114156286, improvement 3.0304044838835864e-05.\n",
      "NCP_BCD: iteration 50, objective 0.9182373376884905, improvement 2.3373727138120692e-05.\n",
      "NCP_BCD: iteration 51, objective 0.918219188768244, improvement 1.8148920246430222e-05.\n",
      "NCP_BCD: iteration 52, objective 0.9182060773410243, improvement 1.3111427219714145e-05.\n",
      "NCP_BCD: iteration 53, objective 0.9181977130494666, improvement 8.36429155770535e-06.\n",
      "Converged after 53 iterations, 2.235882208000021 seconds. Objective: 0.9181977130494666.\n",
      "Done.\n"
     ]
    },
    {
     "data": {
      "text/plain": [
       "0.894"
      ]
     },
     "execution_count": 91,
     "metadata": {},
     "output_type": "execute_result"
    }
   ],
   "source": [
    "hyperconv_range=range(3, 21)\n",
    "td_nonneg_bcd_std = TensorDecomposer(obj_type=\"conversation\",\n",
    "                      feature_set=[\"hyperconvo-{}\".format(i) for i in hyperconv_range],\n",
    "                      group_func=lambda convo: convo.get_utterance(convo.id).meta['subreddit'],\n",
    "                      rank=3, tensor_func='tensortools-ncp-bcd',\n",
    "                      normalize_func=standard_scale\n",
    "                     )\n",
    "td_nonneg_bcd_std.fit(corpus)\n",
    "td_nonneg_bcd_std.purity(n_clusters=3, actual_num_clusters=3, group_size=GROUP_SIZE)"
   ]
  },
  {
   "cell_type": "markdown",
   "metadata": {},
   "source": [
    "### BCD, 2-20, standard-scaled"
   ]
  },
  {
   "cell_type": "code",
   "execution_count": 92,
   "metadata": {},
   "outputs": [
    {
     "name": "stdout",
     "output_type": "stream",
     "text": [
      "Constructing tensor...Done.\n",
      "Decomposing tensor...NCP_BCD: iteration 1, objective 0.9489063627864627, improvement inf.\n",
      "NCP_BCD: iteration 2, objective 0.9337036644871701, improvement 0.01520269829929255.\n",
      "NCP_BCD: iteration 3, objective 0.9313614545177508, improvement 0.002342209969419362.\n",
      "NCP_BCD: iteration 4, objective 0.9306337639103562, improvement 0.0007276906073945266.\n",
      "NCP_BCD: iteration 5, objective 0.9300619858376821, improvement 0.0005717780726741672.\n",
      "NCP_BCD: iteration 6, objective 0.9294940742371393, improvement 0.0005679116005428142.\n",
      "NCP_BCD: iteration 7, objective 0.9288321407789624, improvement 0.0006619334581768888.\n",
      "NCP_BCD: iteration 8, objective 0.9280630666207008, improvement 0.0007690741582615512.\n",
      "NCP_BCD: iteration 9, objective 0.9272206166860036, improvement 0.0008424499346971759.\n",
      "NCP_BCD: iteration 10, objective 0.9263611520204079, improvement 0.0008594646655957217.\n",
      "NCP_BCD: iteration 11, objective 0.9254937282004757, improvement 0.0008674238199322115.\n",
      "NCP_BCD: iteration 12, objective 0.9246296569568396, improvement 0.0008640712436360776.\n",
      "NCP_BCD: iteration 13, objective 0.9238685454633246, improvement 0.0007611114935149876.\n",
      "NCP_BCD: iteration 14, objective 0.9232534882436273, improvement 0.0006150572196973458.\n",
      "NCP_BCD: iteration 15, objective 0.9227319292879155, improvement 0.0005215589557118205.\n",
      "NCP_BCD: iteration 16, objective 0.9222864894271824, improvement 0.00044543986073308783.\n",
      "NCP_BCD: iteration 17, objective 0.9219444575066941, improvement 0.0003420319204883171.\n",
      "NCP_BCD: iteration 18, objective 0.9216701966974135, improvement 0.00027426080928061314.\n",
      "NCP_BCD: iteration 19, objective 0.9214493670084717, improvement 0.00022082968894177046.\n",
      "NCP_BCD: iteration 20, objective 0.9212697488800201, improvement 0.0001796181284515752.\n",
      "NCP_BCD: iteration 21, objective 0.9211137164594624, improvement 0.00015603242055772792.\n",
      "NCP_BCD: iteration 22, objective 0.9209736468492148, improvement 0.00014006961024759512.\n",
      "NCP_BCD: iteration 23, objective 0.9208483368323012, improvement 0.00012531001691362675.\n",
      "NCP_BCD: iteration 24, objective 0.9207429777447815, improvement 0.00010535908751962975.\n",
      "NCP_BCD: iteration 25, objective 0.9206654427558304, improvement 7.753498895113342e-05.\n",
      "NCP_BCD: iteration 26, objective 0.920603766460525, improvement 6.167629530540175e-05.\n",
      "NCP_BCD: iteration 27, objective 0.9205519950263757, improvement 5.177143414925034e-05.\n",
      "NCP_BCD: iteration 28, objective 0.9205007603437466, improvement 5.1234682629131e-05.\n",
      "NCP_BCD: iteration 29, objective 0.9204417654515422, improvement 5.899489220440035e-05.\n",
      "NCP_BCD: iteration 30, objective 0.9203664712824655, improvement 7.529416907670061e-05.\n",
      "NCP_BCD: iteration 31, objective 0.9202666964256373, improvement 9.977485682821641e-05.\n",
      "NCP_BCD: iteration 32, objective 0.9201370347325801, improvement 0.00012966169305717035.\n",
      "NCP_BCD: iteration 33, objective 0.9199755054354897, improvement 0.00016152929709045694.\n",
      "NCP_BCD: iteration 34, objective 0.9197876408277631, improvement 0.00018786460772657332.\n",
      "NCP_BCD: iteration 35, objective 0.9195851855589998, improvement 0.00020245526876327968.\n",
      "NCP_BCD: iteration 36, objective 0.9193922312413026, improvement 0.0001929543176971693.\n",
      "NCP_BCD: iteration 37, objective 0.9192264598856298, improvement 0.00016577135567286128.\n",
      "NCP_BCD: iteration 38, objective 0.9190920083587651, improvement 0.0001344515268646429.\n",
      "NCP_BCD: iteration 39, objective 0.9189870011541763, improvement 0.00010500720458883617.\n",
      "NCP_BCD: iteration 40, objective 0.9188938267752861, improvement 9.317437889022617e-05.\n",
      "NCP_BCD: iteration 41, objective 0.9188007166447226, improvement 9.31101305634563e-05.\n",
      "NCP_BCD: iteration 42, objective 0.9187077415365956, improvement 9.297510812700249e-05.\n",
      "NCP_BCD: iteration 43, objective 0.9186181368451879, improvement 8.960469140772975e-05.\n",
      "NCP_BCD: iteration 44, objective 0.9185372414715101, improvement 8.089537367783617e-05.\n",
      "NCP_BCD: iteration 45, objective 0.9184589370594681, improvement 7.830441204192962e-05.\n",
      "NCP_BCD: iteration 46, objective 0.918388915205914, improvement 7.002185355409196e-05.\n",
      "NCP_BCD: iteration 47, objective 0.9183330347197431, improvement 5.5880486170889476e-05.\n",
      "NCP_BCD: iteration 48, objective 0.9182910154604674, improvement 4.201925927571626e-05.\n",
      "NCP_BCD: iteration 49, objective 0.9182607114156286, improvement 3.0304044838835864e-05.\n",
      "NCP_BCD: iteration 50, objective 0.9182373376884905, improvement 2.3373727138120692e-05.\n",
      "NCP_BCD: iteration 51, objective 0.918219188768244, improvement 1.8148920246430222e-05.\n",
      "NCP_BCD: iteration 52, objective 0.9182060773410243, improvement 1.3111427219714145e-05.\n",
      "NCP_BCD: iteration 53, objective 0.9181977130494666, improvement 8.36429155770535e-06.\n",
      "Converged after 53 iterations, 2.2520398560000103 seconds. Objective: 0.9181977130494666.\n",
      "Done.\n"
     ]
    },
    {
     "data": {
      "text/plain": [
       "0.894"
      ]
     },
     "execution_count": 92,
     "metadata": {},
     "output_type": "execute_result"
    }
   ],
   "source": [
    "hyperconv_range=range(3, 21)\n",
    "td_nonneg_bcd_std = TensorDecomposer(obj_type=\"conversation\",\n",
    "                      feature_set=[\"hyperconvo-{}\".format(i) for i in hyperconv_range],\n",
    "                      group_func=lambda convo: convo.get_utterance(convo.id).meta['subreddit'],\n",
    "                      rank=3, tensor_func='tensortools-ncp-bcd',\n",
    "                      normalize_func=standard_scale\n",
    "                     )\n",
    "td_nonneg_bcd_std.fit(corpus)\n",
    "td_nonneg_bcd_std.purity(n_clusters=3, actual_num_clusters=3, group_size=GROUP_SIZE)"
   ]
  },
  {
   "cell_type": "markdown",
   "metadata": {},
   "source": [
    "## Min-max normalization"
   ]
  },
  {
   "cell_type": "code",
   "execution_count": 93,
   "metadata": {},
   "outputs": [],
   "source": [
    "import numpy as np\n",
    "def _min_max_scale(mat):\n",
    "    max_ = np.max(mat)\n",
    "    min_ = np.min(mat)\n",
    "    return (mat - min_) / (max_ - min_)\n",
    "\n",
    "def minmax_normalize(tensor):\n",
    "    tensor = tensor.copy()\n",
    "    for i in range(tensor.shape[2]):\n",
    "        tensor[:, :, i] = _min_max_scale(tensor[:, :, i])\n",
    "    return tensor"
   ]
  },
  {
   "cell_type": "markdown",
   "metadata": {},
   "source": [
    "### 3-20, MM, HALS"
   ]
  },
  {
   "cell_type": "code",
   "execution_count": 94,
   "metadata": {},
   "outputs": [
    {
     "name": "stdout",
     "output_type": "stream",
     "text": [
      "Constructing tensor...Done.\n",
      "Decomposing tensor...NCP_HALS: iteration 1, objective 0.43097866009800284, improvement inf.\n",
      "NCP_HALS: iteration 2, objective 0.35359202974748694, improvement 0.0773866303505159.\n",
      "NCP_HALS: iteration 3, objective 0.3271803830432561, improvement 0.02641164670423085.\n",
      "NCP_HALS: iteration 4, objective 0.31621588168125875, improvement 0.010964501361997336.\n",
      "NCP_HALS: iteration 5, objective 0.3141716690128713, improvement 0.002044212668387446.\n",
      "NCP_HALS: iteration 6, objective 0.31348575360841086, improvement 0.0006859154044604465.\n",
      "NCP_HALS: iteration 7, objective 0.313106175352715, improvement 0.0003795782556958449.\n",
      "NCP_HALS: iteration 8, objective 0.31286504650148755, improvement 0.00024112885122745675.\n",
      "NCP_HALS: iteration 9, objective 0.3127079991827363, improvement 0.00015704731875126887.\n",
      "NCP_HALS: iteration 10, objective 0.31260464472772254, improvement 0.00010335445501374885.\n",
      "NCP_HALS: iteration 11, objective 0.3125366971913282, improvement 6.794753639433049e-05.\n",
      "NCP_HALS: iteration 12, objective 0.3124911079645458, improvement 4.5589226782383196e-05.\n",
      "NCP_HALS: iteration 13, objective 0.3124601473523053, improvement 3.096061224050484e-05.\n",
      "NCP_HALS: iteration 14, objective 0.3124390684768212, improvement 2.1078875484137338e-05.\n",
      "NCP_HALS: iteration 15, objective 0.31242453766049194, improvement 1.4530816329239027e-05.\n",
      "NCP_HALS: iteration 16, objective 0.31241418833887646, improvement 1.034932161547708e-05.\n",
      "NCP_HALS: iteration 17, objective 0.3124066747745699, improvement 7.513564306560472e-06.\n",
      "Converged after 17 iterations, 0.29909195699997326 seconds. Objective: 0.3124066747745699.\n",
      "Done.\n"
     ]
    },
    {
     "data": {
      "text/plain": [
       "0.6666666666666666"
      ]
     },
     "execution_count": 94,
     "metadata": {},
     "output_type": "execute_result"
    }
   ],
   "source": [
    "hyperconv_range=range(3, 21)\n",
    "td_nonneg_hals_mm = TensorDecomposer(obj_type=\"conversation\",\n",
    "                      feature_set=[\"hyperconvo-{}\".format(i) for i in hyperconv_range],\n",
    "                      group_func=lambda convo: convo.get_utterance(convo.id).meta['subreddit'],\n",
    "                      rank=3, tensor_func='tensortools-ncp-hals',\n",
    "                      normalize_func=minmax_normalize\n",
    "                     )\n",
    "td_nonneg_hals_mm.fit(corpus)\n",
    "td_nonneg_hals_mm.purity(n_clusters=3, actual_num_clusters=3, group_size=GROUP_SIZE)"
   ]
  },
  {
   "cell_type": "markdown",
   "metadata": {},
   "source": [
    "### 2-20, MM, HALS"
   ]
  },
  {
   "cell_type": "code",
   "execution_count": 95,
   "metadata": {},
   "outputs": [
    {
     "name": "stdout",
     "output_type": "stream",
     "text": [
      "Constructing tensor...Done.\n",
      "Decomposing tensor...NCP_HALS: iteration 1, objective 0.4360863894644641, improvement inf.\n",
      "NCP_HALS: iteration 2, objective 0.3680191860531257, improvement 0.06806720341133837.\n",
      "NCP_HALS: iteration 3, objective 0.3357523369033273, improvement 0.03226684914979844.\n",
      "NCP_HALS: iteration 4, objective 0.3292217484600573, improvement 0.00653058844326998.\n",
      "NCP_HALS: iteration 5, objective 0.3270945182781233, improvement 0.0021272301819340034.\n",
      "NCP_HALS: iteration 6, objective 0.32527747383786343, improvement 0.001817044440259874.\n",
      "NCP_HALS: iteration 7, objective 0.32375280620305324, improvement 0.001524667634810184.\n",
      "NCP_HALS: iteration 8, objective 0.322575239220092, improvement 0.0011775669829612312.\n",
      "NCP_HALS: iteration 9, objective 0.32170035810534214, improvement 0.0008748811147498703.\n",
      "NCP_HALS: iteration 10, objective 0.321089029382533, improvement 0.000611328722809168.\n",
      "NCP_HALS: iteration 11, objective 0.32068837407665357, improvement 0.0004006553058794049.\n",
      "NCP_HALS: iteration 12, objective 0.32043980076832396, improvement 0.0002485733083296138.\n",
      "NCP_HALS: iteration 13, objective 0.3202915007509497, improvement 0.0001483000173742588.\n",
      "NCP_HALS: iteration 14, objective 0.320202050902694, improvement 8.944984825570712e-05.\n",
      "NCP_HALS: iteration 15, objective 0.3201473885125701, improvement 5.466239012391627e-05.\n",
      "NCP_HALS: iteration 16, objective 0.3201123606401724, improvement 3.502787239767491e-05.\n",
      "NCP_HALS: iteration 17, objective 0.32008850910129044, improvement 2.3851538881958234e-05.\n",
      "NCP_HALS: iteration 18, objective 0.32007138303267835, improvement 1.7126068612094425e-05.\n",
      "NCP_HALS: iteration 19, objective 0.32005837747947846, improvement 1.3005553199885167e-05.\n",
      "NCP_HALS: iteration 20, objective 0.3200479506504299, improvement 1.042682904855985e-05.\n",
      "NCP_HALS: iteration 21, objective 0.3200391931940879, improvement 8.7574563419901e-06.\n",
      "Converged after 21 iterations, 0.3720823890000702 seconds. Objective: 0.3200391931940879.\n",
      "Done.\n"
     ]
    },
    {
     "data": {
      "text/plain": [
       "0.6666666666666666"
      ]
     },
     "execution_count": 95,
     "metadata": {},
     "output_type": "execute_result"
    }
   ],
   "source": [
    "hyperconv_range=range(2, 21)\n",
    "td_nonneg_hals_mm = TensorDecomposer(obj_type=\"conversation\",\n",
    "                      feature_set=[\"hyperconvo-{}\".format(i) for i in hyperconv_range],\n",
    "                      group_func=lambda convo: convo.get_utterance(convo.id).meta['subreddit'],\n",
    "                      rank=3, tensor_func='tensortools-ncp-hals',\n",
    "                      normalize_func=minmax_normalize\n",
    "                     )\n",
    "td_nonneg_hals_mm.fit(corpus)\n",
    "td_nonneg_hals_mm.purity(n_clusters=3, actual_num_clusters=3, group_size=GROUP_SIZE)"
   ]
  },
  {
   "cell_type": "markdown",
   "metadata": {},
   "source": [
    "### 3-20, MM, BCD"
   ]
  },
  {
   "cell_type": "code",
   "execution_count": 96,
   "metadata": {},
   "outputs": [
    {
     "name": "stdout",
     "output_type": "stream",
     "text": [
      "Constructing tensor...Done.\n",
      "Decomposing tensor...NCP_BCD: iteration 1, objective 0.4485789912305747, improvement inf.\n",
      "NCP_BCD: iteration 2, objective 0.43307986021828954, improvement 0.015499131012285172.\n",
      "NCP_BCD: iteration 3, objective 0.42553363552302353, improvement 0.007546224695266002.\n",
      "NCP_BCD: iteration 4, objective 0.4206423128390538, improvement 0.0048913226839697455.\n",
      "NCP_BCD: iteration 5, objective 0.41671001998315693, improvement 0.003932292855896857.\n",
      "NCP_BCD: iteration 6, objective 0.41233343023466235, improvement 0.004376589748494586.\n",
      "NCP_BCD: iteration 7, objective 0.40614210510167664, improvement 0.006191325132985703.\n",
      "NCP_BCD: iteration 8, objective 0.3970576438033903, improvement 0.009084461298286328.\n",
      "NCP_BCD: iteration 9, objective 0.38550081069934305, improvement 0.01155683310404726.\n",
      "NCP_BCD: iteration 10, objective 0.374178253207438, improvement 0.011322557491905028.\n",
      "NCP_BCD: iteration 11, objective 0.36241934785538393, improvement 0.011758905352054094.\n",
      "NCP_BCD: iteration 12, objective 0.3460740786192483, improvement 0.016345269236135607.\n",
      "NCP_BCD: iteration 13, objective 0.3289068689413533, improvement 0.017167209677895034.\n",
      "NCP_BCD: iteration 14, objective 0.3188490464149168, improvement 0.0100578225264365.\n",
      "NCP_BCD: iteration 15, objective 0.3162274307038007, improvement 0.0026216157111160765.\n",
      "NCP_BCD: iteration 16, objective 0.314867394168242, improvement 0.0013600365355587174.\n",
      "NCP_BCD: iteration 17, objective 0.31373570462713896, improvement 0.0011316895411030425.\n",
      "NCP_BCD: iteration 18, objective 0.3133198813832989, improvement 0.0004158232438400411.\n",
      "NCP_BCD: iteration 19, objective 0.31308373754807495, improvement 0.00023614383522396754.\n",
      "NCP_BCD: iteration 20, objective 0.31284653267473084, improvement 0.0002372048733441101.\n",
      "NCP_BCD: iteration 21, objective 0.31268180940827645, improvement 0.00016472326645439184.\n",
      "NCP_BCD: iteration 22, objective 0.3125902183763339, improvement 9.159103194256168e-05.\n",
      "NCP_BCD: iteration 23, objective 0.3125307831974323, improvement 5.9435178901556807e-05.\n",
      "NCP_BCD: iteration 24, objective 0.3124846145030488, improvement 4.6168694383508235e-05.\n",
      "NCP_BCD: iteration 25, objective 0.31244600612139883, improvement 3.8608381649984924e-05.\n",
      "NCP_BCD: iteration 26, objective 0.312410423947037, improvement 3.558217436183675e-05.\n",
      "NCP_BCD: iteration 27, objective 0.31237701410326496, improvement 3.3409843772036485e-05.\n",
      "NCP_BCD: iteration 28, objective 0.3123492455728864, improvement 2.7768530378557976e-05.\n",
      "NCP_BCD: iteration 29, objective 0.3123304500890796, improvement 1.8795483806788305e-05.\n",
      "NCP_BCD: iteration 30, objective 0.3123199587615206, improvement 1.0491327559036812e-05.\n",
      "NCP_BCD: iteration 31, objective 0.3123145271957298, improvement 5.431565790803283e-06.\n",
      "Converged after 31 iterations, 1.1972164070000417 seconds. Objective: 0.3123145271957298.\n",
      "Done.\n"
     ]
    },
    {
     "data": {
      "text/plain": [
       "0.6666666666666666"
      ]
     },
     "execution_count": 96,
     "metadata": {},
     "output_type": "execute_result"
    }
   ],
   "source": [
    "hyperconv_range=range(3, 21)\n",
    "td_nonneg_bcd_mm = TensorDecomposer(obj_type=\"conversation\",\n",
    "                      feature_set=[\"hyperconvo-{}\".format(i) for i in hyperconv_range],\n",
    "                      group_func=lambda convo: convo.get_utterance(convo.id).meta['subreddit'],\n",
    "                      rank=3, tensor_func='tensortools-ncp-bcd',\n",
    "                      normalize_func=minmax_normalize\n",
    "                     )\n",
    "td_nonneg_bcd_mm.fit(corpus)\n",
    "td_nonneg_bcd_mm.purity(n_clusters=3, actual_num_clusters=3, group_size=GROUP_SIZE)"
   ]
  },
  {
   "cell_type": "markdown",
   "metadata": {},
   "source": [
    "### 2-20, MM, BCD"
   ]
  },
  {
   "cell_type": "code",
   "execution_count": 97,
   "metadata": {},
   "outputs": [
    {
     "name": "stdout",
     "output_type": "stream",
     "text": [
      "Constructing tensor...Done.\n",
      "Decomposing tensor...NCP_BCD: iteration 1, objective 0.45640583542384155, improvement inf.\n",
      "NCP_BCD: iteration 2, objective 0.4393436290630484, improvement 0.017062206360793142.\n",
      "NCP_BCD: iteration 3, objective 0.43145226187361707, improvement 0.007891367189431342.\n",
      "NCP_BCD: iteration 4, objective 0.42585108678790123, improvement 0.005601175085715837.\n",
      "NCP_BCD: iteration 5, objective 0.42045631439226394, improvement 0.005394772395637293.\n",
      "NCP_BCD: iteration 6, objective 0.4135471750852902, improvement 0.006909139306973733.\n",
      "NCP_BCD: iteration 7, objective 0.4039661503871584, improvement 0.009581024698131824.\n",
      "NCP_BCD: iteration 8, objective 0.39227148574411397, improvement 0.011694664643044417.\n",
      "NCP_BCD: iteration 9, objective 0.38091839445953923, improvement 0.011353091284574734.\n",
      "NCP_BCD: iteration 10, objective 0.3696155507174774, improvement 0.011302843742061808.\n",
      "NCP_BCD: iteration 11, objective 0.3552893262560573, improvement 0.014326224461420123.\n",
      "NCP_BCD: iteration 12, objective 0.339490679951159, improvement 0.0157986463048983.\n",
      "NCP_BCD: iteration 13, objective 0.3296369743358726, improvement 0.009853705615286423.\n",
      "NCP_BCD: iteration 14, objective 0.32678955955580224, improvement 0.0028474147800703342.\n",
      "NCP_BCD: iteration 15, objective 0.3253126999474583, improvement 0.0014768596083439278.\n",
      "NCP_BCD: iteration 16, objective 0.3239698812742438, improvement 0.0013428186732145075.\n",
      "NCP_BCD: iteration 17, objective 0.3231722207787414, improvement 0.0007976604955023947.\n",
      "NCP_BCD: iteration 18, objective 0.3226149188559865, improvement 0.0005573019227549381.\n",
      "NCP_BCD: iteration 19, objective 0.3221688401192598, improvement 0.00044607873672669607.\n",
      "NCP_BCD: iteration 20, objective 0.3218511740104031, improvement 0.00031766610885669566.\n",
      "NCP_BCD: iteration 21, objective 0.32162696359291715, improvement 0.00022421041748593717.\n",
      "NCP_BCD: iteration 22, objective 0.32147297747698195, improvement 0.00015398611593520073.\n",
      "NCP_BCD: iteration 23, objective 0.321365805819168, improvement 0.00010717165781393145.\n",
      "NCP_BCD: iteration 24, objective 0.32127368408173035, improvement 9.212173743766705e-05.\n",
      "NCP_BCD: iteration 25, objective 0.32118674277104653, improvement 8.694131068381905e-05.\n",
      "NCP_BCD: iteration 26, objective 0.32110647009301263, improvement 8.027267803389915e-05.\n",
      "NCP_BCD: iteration 27, objective 0.3210344089651007, improvement 7.206112791191543e-05.\n",
      "NCP_BCD: iteration 28, objective 0.32096895678782567, improvement 6.545217727504937e-05.\n",
      "NCP_BCD: iteration 29, objective 0.32090816297882996, improvement 6.079380899570719e-05.\n",
      "NCP_BCD: iteration 30, objective 0.32085139547814756, improvement 5.6767500682397554e-05.\n",
      "NCP_BCD: iteration 31, objective 0.3207988116750998, improvement 5.2583803047734357e-05.\n",
      "NCP_BCD: iteration 32, objective 0.32075048926744076, improvement 4.8322407659062705e-05.\n",
      "NCP_BCD: iteration 33, objective 0.32070622198710785, improvement 4.4267280332910275e-05.\n",
      "NCP_BCD: iteration 34, objective 0.32066575390299923, improvement 4.046808410862468e-05.\n",
      "NCP_BCD: iteration 35, objective 0.32062897049406364, improvement 3.678340893559229e-05.\n",
      "NCP_BCD: iteration 36, objective 0.32059589949674694, improvement 3.3070997316697603e-05.\n",
      "NCP_BCD: iteration 37, objective 0.32056652124445917, improvement 2.937825228777058e-05.\n",
      "NCP_BCD: iteration 38, objective 0.320540716176029, improvement 2.580506843019581e-05.\n",
      "NCP_BCD: iteration 39, objective 0.32051813432901627, improvement 2.2581847012703715e-05.\n",
      "NCP_BCD: iteration 40, objective 0.3204983114927553, improvement 1.9822836260952048e-05.\n",
      "NCP_BCD: iteration 41, objective 0.32048087230785677, improvement 1.74391848985489e-05.\n",
      "NCP_BCD: iteration 42, objective 0.3204652948694176, improvement 1.5577438439162705e-05.\n",
      "NCP_BCD: iteration 43, objective 0.320451272073786, improvement 1.4022795631618568e-05.\n",
      "NCP_BCD: iteration 44, objective 0.3204386715841674, improvement 1.2600489618597166e-05.\n",
      "NCP_BCD: iteration 45, objective 0.32042728703612283, improvement 1.1384548044557352e-05.\n",
      "NCP_BCD: iteration 46, objective 0.3204168233573362, improvement 1.0463678786654107e-05.\n",
      "NCP_BCD: iteration 47, objective 0.32040699267093115, improvement 9.830686405032374e-06.\n",
      "Converged after 47 iterations, 2.1790682399998786 seconds. Objective: 0.32040699267093115.\n",
      "Done.\n"
     ]
    },
    {
     "data": {
      "text/plain": [
       "0.6666666666666666"
      ]
     },
     "execution_count": 97,
     "metadata": {},
     "output_type": "execute_result"
    }
   ],
   "source": [
    "hyperconv_range=range(2, 21)\n",
    "td_nonneg_bcd_mm = TensorDecomposer(obj_type=\"conversation\",\n",
    "                      feature_set=[\"hyperconvo-{}\".format(i) for i in hyperconv_range],\n",
    "                      group_func=lambda convo: convo.get_utterance(convo.id).meta['subreddit'],\n",
    "                      rank=3, tensor_func='tensortools-ncp-bcd',\n",
    "                      normalize_func=minmax_normalize\n",
    "                     )\n",
    "td_nonneg_bcd_mm.fit(corpus)\n",
    "td_nonneg_bcd_mm.purity(n_clusters=3, actual_num_clusters=3, group_size=GROUP_SIZE)"
   ]
  },
  {
   "cell_type": "markdown",
   "metadata": {},
   "source": [
    "## Non-negative, standard-scaled by comment index"
   ]
  },
  {
   "cell_type": "code",
   "execution_count": 75,
   "metadata": {},
   "outputs": [],
   "source": [
    "from sklearn.preprocessing import scale\n",
    "def scale_by_comment_idx(tensor):\n",
    "    tensor = tensor.copy()\n",
    "    for i in range(tensor.shape[0]):\n",
    "        tensor[0, :, :] = scale(tensor[0, :, :])\n",
    "    return tensor"
   ]
  },
  {
   "cell_type": "markdown",
   "metadata": {},
   "source": [
    "### HALS, 3-20"
   ]
  },
  {
   "cell_type": "code",
   "execution_count": 98,
   "metadata": {},
   "outputs": [
    {
     "name": "stdout",
     "output_type": "stream",
     "text": [
      "Constructing tensor...Done.\n",
      "Decomposing tensor...NCP_HALS: iteration 1, objective 0.5847326014861733, improvement inf.\n",
      "NCP_HALS: iteration 2, objective 0.44724996002037426, improvement 0.13748264146579908.\n",
      "NCP_HALS: iteration 3, objective 0.43885342749020045, improvement 0.008396532530173806.\n",
      "NCP_HALS: iteration 4, objective 0.43211150710389135, improvement 0.006741920386309108.\n",
      "NCP_HALS: iteration 5, objective 0.42670926754888, improvement 0.0054022395550113456.\n"
     ]
    },
    {
     "name": "stderr",
     "output_type": "stream",
     "text": [
      "/Library/Frameworks/Python.framework/Versions/3.7/lib/python3.7/site-packages/sklearn/preprocessing/data.py:189: UserWarning: Numerical issues were encountered when scaling the data and might not be solved. The standard deviation of the data is probably very close to 0. \n",
      "  warnings.warn(\"Numerical issues were encountered \"\n"
     ]
    },
    {
     "name": "stdout",
     "output_type": "stream",
     "text": [
      "NCP_HALS: iteration 6, objective 0.42265197335998017, improvement 0.004057294188899829.\n",
      "NCP_HALS: iteration 7, objective 0.4195631345135251, improvement 0.0030888388464550554.\n",
      "NCP_HALS: iteration 8, objective 0.4173283461894587, improvement 0.002234788324066428.\n",
      "NCP_HALS: iteration 9, objective 0.41583728700307493, improvement 0.0014910591863837586.\n",
      "NCP_HALS: iteration 10, objective 0.41491614565860163, improvement 0.0009211413444732974.\n",
      "NCP_HALS: iteration 11, objective 0.4143817158114916, improvement 0.0005344298471100517.\n",
      "NCP_HALS: iteration 12, objective 0.4140797703328296, improvement 0.0003019454786619691.\n",
      "NCP_HALS: iteration 13, objective 0.41390603889440963, improvement 0.0001737314384199773.\n",
      "NCP_HALS: iteration 14, objective 0.41380367595443057, improvement 0.00010236293997906154.\n",
      "NCP_HALS: iteration 15, objective 0.4137434028907967, improvement 6.027306363387552e-05.\n",
      "NCP_HALS: iteration 16, objective 0.4137070222883468, improvement 3.638060244987029e-05.\n",
      "NCP_HALS: iteration 17, objective 0.4136839615274977, improvement 2.3060760849125117e-05.\n",
      "NCP_HALS: iteration 18, objective 0.41366894390306397, improvement 1.5017624433733001e-05.\n",
      "NCP_HALS: iteration 19, objective 0.41365910353984653, improvement 9.840363217439307e-06.\n",
      "Converged after 19 iterations, 0.36822681399985413 seconds. Objective: 0.41365910353984653.\n",
      "Done.\n"
     ]
    },
    {
     "data": {
      "text/plain": [
       "0.8186666666666667"
      ]
     },
     "execution_count": 98,
     "metadata": {},
     "output_type": "execute_result"
    }
   ],
   "source": [
    "hyperconv_range=range(3, 21)\n",
    "td_nonneg_hals_scale_idx = TensorDecomposer(obj_type=\"conversation\",\n",
    "                      feature_set=[\"hyperconvo-{}\".format(i) for i in hyperconv_range],\n",
    "                      group_func=lambda convo: convo.get_utterance(convo.id).meta['subreddit'],\n",
    "                      rank=3, tensor_func='tensortools-ncp-hals',\n",
    "                      normalize_func=scale_by_comment_idx\n",
    "                     )\n",
    "td_nonneg_hals_scale_idx.fit(corpus)\n",
    "td_nonneg_hals_scale_idx.purity(n_clusters=3, actual_num_clusters=3, group_size=GROUP_SIZE)"
   ]
  },
  {
   "cell_type": "markdown",
   "metadata": {},
   "source": [
    "### HALS, 2-20"
   ]
  },
  {
   "cell_type": "code",
   "execution_count": 99,
   "metadata": {},
   "outputs": [
    {
     "name": "stdout",
     "output_type": "stream",
     "text": [
      "Constructing tensor...Done.\n",
      "Decomposing tensor...NCP_HALS: iteration 1, objective 0.5979506808723881, improvement inf.\n",
      "NCP_HALS: iteration 2, objective 0.44302441273215015, improvement 0.15492626814023797.\n",
      "NCP_HALS: iteration 3, objective 0.42146575467759845, improvement 0.021558658054551705.\n",
      "NCP_HALS: iteration 4, objective 0.4169959071875714, improvement 0.004469847490027046.\n",
      "NCP_HALS: iteration 5, objective 0.4142934700167866, improvement 0.002702437170784777.\n",
      "NCP_HALS: iteration 6, objective 0.4126497443283105, improvement 0.0016437256884761497.\n",
      "NCP_HALS: iteration 7, objective 0.4117819178506981, improvement 0.0008678264776123545.\n",
      "NCP_HALS: iteration 8, objective 0.4113615242702575, improvement 0.0004203935804406034.\n",
      "NCP_HALS: iteration 9, objective 0.4111409835806552, improvement 0.000220540689602311.\n",
      "NCP_HALS: iteration 10, objective 0.41101968409064155, improvement 0.00012129949001365992.\n",
      "NCP_HALS: iteration 11, objective 0.41095028814584833, improvement 6.939594479321576e-05.\n",
      "NCP_HALS: iteration 12, objective 0.4109083737860841, improvement 4.1914359764250175e-05.\n",
      "NCP_HALS: iteration 13, objective 0.41088163450925624, improvement 2.6739276827836278e-05.\n",
      "NCP_HALS: iteration 14, objective 0.41086427695865646, improvement 1.735755059978361e-05.\n",
      "NCP_HALS: iteration 15, objective 0.41085288962113886, improvement 1.1387337517598795e-05.\n",
      "NCP_HALS: iteration 16, objective 0.4108455792789447, improvement 7.3103421941445035e-06.\n",
      "Converged after 16 iterations, 0.45413755599997785 seconds. Objective: 0.4108455792789447.\n",
      "Done.\n"
     ]
    },
    {
     "data": {
      "text/plain": [
       "0.81"
      ]
     },
     "execution_count": 99,
     "metadata": {},
     "output_type": "execute_result"
    }
   ],
   "source": [
    "hyperconv_range=range(2, 21)\n",
    "td_nonneg_hals_scale_idx = TensorDecomposer(obj_type=\"conversation\",\n",
    "                      feature_set=[\"hyperconvo-{}\".format(i) for i in hyperconv_range],\n",
    "                      group_func=lambda convo: convo.get_utterance(convo.id).meta['subreddit'],\n",
    "                      rank=3, tensor_func='tensortools-ncp-hals',\n",
    "                      normalize_func=scale_by_comment_idx\n",
    "                     )\n",
    "td_nonneg_hals_scale_idx.fit(corpus)\n",
    "td_nonneg_hals_scale_idx.purity(n_clusters=3, actual_num_clusters=3, group_size=GROUP_SIZE)"
   ]
  },
  {
   "cell_type": "markdown",
   "metadata": {},
   "source": [
    "### BCD, 3-20"
   ]
  },
  {
   "cell_type": "code",
   "execution_count": 100,
   "metadata": {},
   "outputs": [
    {
     "name": "stdout",
     "output_type": "stream",
     "text": [
      "Constructing tensor...Done.\n",
      "Decomposing tensor...NCP_BCD: iteration 1, objective 0.662097527351528, improvement inf.\n",
      "NCP_BCD: iteration 2, objective 0.6216978376147345, improvement 0.04039968973679353.\n",
      "NCP_BCD: iteration 3, objective 0.6084393579975929, improvement 0.01325847961714166.\n"
     ]
    },
    {
     "name": "stderr",
     "output_type": "stream",
     "text": [
      "/Library/Frameworks/Python.framework/Versions/3.7/lib/python3.7/site-packages/sklearn/preprocessing/data.py:189: UserWarning: Numerical issues were encountered when scaling the data and might not be solved. The standard deviation of the data is probably very close to 0. \n",
      "  warnings.warn(\"Numerical issues were encountered \"\n"
     ]
    },
    {
     "name": "stdout",
     "output_type": "stream",
     "text": [
      "NCP_BCD: iteration 4, objective 0.5890455946104586, improvement 0.019393763387134277.\n",
      "NCP_BCD: iteration 5, objective 0.5522170685936694, improvement 0.03682852601678921.\n",
      "NCP_BCD: iteration 6, objective 0.5152629784162073, improvement 0.036954090177462096.\n",
      "NCP_BCD: iteration 7, objective 0.49056767294626935, improvement 0.024695305469937923.\n",
      "NCP_BCD: iteration 8, objective 0.4763008872114972, improvement 0.014266785734772136.\n",
      "NCP_BCD: iteration 9, objective 0.4686417792080012, improvement 0.007659108003496007.\n",
      "NCP_BCD: iteration 10, objective 0.4645485686820743, improvement 0.004093210525926927.\n",
      "NCP_BCD: iteration 11, objective 0.46154855666926825, improvement 0.0030000120128060304.\n",
      "NCP_BCD: iteration 12, objective 0.45848240913859867, improvement 0.003066147530669583.\n",
      "NCP_BCD: iteration 13, objective 0.4551189274086325, improvement 0.0033634817299661446.\n",
      "NCP_BCD: iteration 14, objective 0.4517036795755256, improvement 0.003415247833106927.\n",
      "NCP_BCD: iteration 15, objective 0.44899807550321846, improvement 0.002705604072307133.\n",
      "NCP_BCD: iteration 16, objective 0.44749045002599575, improvement 0.0015076254772227182.\n",
      "NCP_BCD: iteration 17, objective 0.44683129969856533, improvement 0.0006591503274304134.\n",
      "NCP_BCD: iteration 18, objective 0.44625339423120397, improvement 0.0005779054673613615.\n",
      "NCP_BCD: iteration 19, objective 0.44552071419951295, improvement 0.0007326800316910242.\n",
      "NCP_BCD: iteration 20, objective 0.4448217940309861, improvement 0.0006989201685268509.\n",
      "NCP_BCD: iteration 21, objective 0.4442574459675453, improvement 0.0005643480634408005.\n",
      "NCP_BCD: iteration 22, objective 0.44376523459046324, improvement 0.0004922113770820524.\n",
      "NCP_BCD: iteration 23, objective 0.4432358270266213, improvement 0.0005294075638419549.\n",
      "NCP_BCD: iteration 24, objective 0.4426072179685873, improvement 0.0006286090580339687.\n",
      "NCP_BCD: iteration 25, objective 0.4418820023692198, improvement 0.0007252155993675014.\n",
      "NCP_BCD: iteration 26, objective 0.4410464695082678, improvement 0.0008355328609520041.\n",
      "NCP_BCD: iteration 27, objective 0.4400769869656313, improvement 0.0009694825426365128.\n",
      "NCP_BCD: iteration 28, objective 0.43892689903335785, improvement 0.001150087932273447.\n",
      "NCP_BCD: iteration 29, objective 0.43755299292709243, improvement 0.0013739061062654212.\n",
      "NCP_BCD: iteration 30, objective 0.4359352610266066, improvement 0.0016177319004858082.\n",
      "NCP_BCD: iteration 31, objective 0.43404630668460986, improvement 0.0018889543419967625.\n",
      "NCP_BCD: iteration 32, objective 0.4318859198097935, improvement 0.0021603868748163446.\n",
      "NCP_BCD: iteration 33, objective 0.4294852323598265, improvement 0.0024006874499670205.\n",
      "NCP_BCD: iteration 34, objective 0.42690972002992106, improvement 0.0025755123299054383.\n",
      "NCP_BCD: iteration 35, objective 0.4242712035067417, improvement 0.0026385165231793684.\n",
      "NCP_BCD: iteration 36, objective 0.4217229526810786, improvement 0.0025482508256630676.\n",
      "NCP_BCD: iteration 37, objective 0.41943878348777425, improvement 0.002284169193304375.\n",
      "NCP_BCD: iteration 38, objective 0.4175620340528207, improvement 0.0018767494349535285.\n",
      "NCP_BCD: iteration 39, objective 0.4161832107027699, improvement 0.0013788233500507951.\n",
      "NCP_BCD: iteration 40, objective 0.4152069393352903, improvement 0.0009762713674796308.\n",
      "NCP_BCD: iteration 41, objective 0.4145926771596747, improvement 0.0006142621756156097.\n",
      "NCP_BCD: iteration 42, objective 0.4142494169814466, improvement 0.0003432601782280553.\n",
      "NCP_BCD: iteration 43, objective 0.4140932291763571, improvement 0.0001561878050895249.\n",
      "NCP_BCD: iteration 44, objective 0.4140393313204222, improvement 5.389785593490348e-05.\n",
      "NCP_BCD: iteration 45, objective 0.41402615570396356, improvement 1.3175616458638295e-05.\n",
      "NCP_BCD: iteration 46, objective 0.41401122279681735, improvement 1.4932907146214536e-05.\n",
      "NCP_BCD: iteration 47, objective 0.4139736818196039, improvement 3.7540977213423865e-05.\n",
      "NCP_BCD: iteration 48, objective 0.41391277200084414, improvement 6.090981875978008e-05.\n",
      "NCP_BCD: iteration 49, objective 0.4138399260444119, improvement 7.284595643225478e-05.\n",
      "NCP_BCD: iteration 50, objective 0.4137699379313169, improvement 6.998811309499864e-05.\n",
      "NCP_BCD: iteration 51, objective 0.4137133714206836, improvement 5.656651063329354e-05.\n",
      "NCP_BCD: iteration 52, objective 0.41367531125486373, improvement 3.806016581986427e-05.\n",
      "NCP_BCD: iteration 53, objective 0.4136556413745578, improvement 1.966988030593919e-05.\n",
      "NCP_BCD: iteration 54, objective 0.41364994328361054, improvement 5.698090947248158e-06.\n",
      "Converged after 54 iterations, 2.178984954000043 seconds. Objective: 0.41364994328361054.\n",
      "Done.\n"
     ]
    },
    {
     "data": {
      "text/plain": [
       "0.8093333333333333"
      ]
     },
     "execution_count": 100,
     "metadata": {},
     "output_type": "execute_result"
    }
   ],
   "source": [
    "hyperconv_range=range(3, 21)\n",
    "td_nonneg_bcd_scale_idx = TensorDecomposer(obj_type=\"conversation\",\n",
    "                      feature_set=[\"hyperconvo-{}\".format(i) for i in hyperconv_range],\n",
    "                      group_func=lambda convo: convo.get_utterance(convo.id).meta['subreddit'],\n",
    "                      rank=3, tensor_func='tensortools-ncp-bcd',\n",
    "                      normalize_func=scale_by_comment_idx\n",
    "                     )\n",
    "td_nonneg_bcd_scale_idx.fit(corpus)\n",
    "td_nonneg_bcd_scale_idx.purity(n_clusters=3, actual_num_clusters=3, group_size=GROUP_SIZE)"
   ]
  },
  {
   "cell_type": "markdown",
   "metadata": {},
   "source": [
    "### BCD, 2-20"
   ]
  },
  {
   "cell_type": "code",
   "execution_count": 101,
   "metadata": {},
   "outputs": [
    {
     "name": "stdout",
     "output_type": "stream",
     "text": [
      "Constructing tensor...Done.\n",
      "Decomposing tensor...NCP_BCD: iteration 1, objective 0.6718556712278926, improvement inf.\n",
      "NCP_BCD: iteration 2, objective 0.6283926699812932, improvement 0.04346300124659941.\n",
      "NCP_BCD: iteration 3, objective 0.6205182067144807, improvement 0.007874463266812515.\n",
      "NCP_BCD: iteration 4, objective 0.6171166723188156, improvement 0.00340153439566504.\n",
      "NCP_BCD: iteration 5, objective 0.6131055102869242, improvement 0.0040111620318914465.\n",
      "NCP_BCD: iteration 6, objective 0.6023442843823225, improvement 0.010761225904601712.\n",
      "NCP_BCD: iteration 7, objective 0.573539896758957, improvement 0.028804387623365457.\n",
      "NCP_BCD: iteration 8, objective 0.5293641674692354, improvement 0.04417572928972158.\n",
      "NCP_BCD: iteration 9, objective 0.47776094905175676, improvement 0.05160321841747867.\n",
      "NCP_BCD: iteration 10, objective 0.4520579731898742, improvement 0.025702975861882582.\n",
      "NCP_BCD: iteration 11, objective 0.4415776803149377, improvement 0.010480292874936459.\n",
      "NCP_BCD: iteration 12, objective 0.4356283013314523, improvement 0.005949378983485409.\n",
      "NCP_BCD: iteration 13, objective 0.43180496137721075, improvement 0.003823339954241556.\n",
      "NCP_BCD: iteration 14, objective 0.42911149244874847, improvement 0.0026934689284622837.\n",
      "NCP_BCD: iteration 15, objective 0.42690268355427213, improvement 0.002208808894476333.\n",
      "NCP_BCD: iteration 16, objective 0.42469911862259924, improvement 0.0022035649316728967.\n",
      "NCP_BCD: iteration 17, objective 0.4224049420524453, improvement 0.0022941765701539607.\n",
      "NCP_BCD: iteration 18, objective 0.4201108116625783, improvement 0.0022941303898669774.\n",
      "NCP_BCD: iteration 19, objective 0.41796344185927586, improvement 0.0021473698033024347.\n",
      "NCP_BCD: iteration 20, objective 0.4160869170939916, improvement 0.001876524765284271.\n",
      "NCP_BCD: iteration 21, objective 0.4145160642232368, improvement 0.001570852870754813.\n",
      "NCP_BCD: iteration 22, objective 0.41327120748585267, improvement 0.0012448567373841146.\n",
      "NCP_BCD: iteration 23, objective 0.4123565084834746, improvement 0.000914699002378061.\n",
      "NCP_BCD: iteration 24, objective 0.4117548102750427, improvement 0.0006016982084319222.\n",
      "NCP_BCD: iteration 25, objective 0.41139502747933643, improvement 0.0003597827957062538.\n",
      "NCP_BCD: iteration 26, objective 0.4111946205457571, improvement 0.00020040693357931127.\n",
      "NCP_BCD: iteration 27, objective 0.4110935205804198, improvement 0.00010109996533730348.\n",
      "NCP_BCD: iteration 28, objective 0.41104320901903074, improvement 5.0311561389071446e-05.\n",
      "NCP_BCD: iteration 29, objective 0.4110127584475323, improvement 3.0450571498419343e-05.\n",
      "NCP_BCD: iteration 30, objective 0.4109850834526223, improvement 2.767499491002079e-05.\n",
      "NCP_BCD: iteration 31, objective 0.4109548158654593, improvement 3.0267587163013143e-05.\n",
      "NCP_BCD: iteration 32, objective 0.41092299041479236, improvement 3.182545066693354e-05.\n",
      "NCP_BCD: iteration 33, objective 0.41089322365176506, improvement 2.976676302729464e-05.\n",
      "NCP_BCD: iteration 34, objective 0.4108688344675327, improvement 2.4389184232365135e-05.\n",
      "NCP_BCD: iteration 35, objective 0.4108514596276571, improvement 1.7374839875572423e-05.\n",
      "NCP_BCD: iteration 36, objective 0.41084107454088115, improvement 1.0385086775976937e-05.\n",
      "NCP_BCD: iteration 37, objective 0.41083636642685284, improvement 4.708114028306731e-06.\n",
      "Converged after 37 iterations, 1.8614226870001858 seconds. Objective: 0.41083636642685284.\n",
      "Done.\n"
     ]
    },
    {
     "data": {
      "text/plain": [
       "0.8113333333333334"
      ]
     },
     "execution_count": 101,
     "metadata": {},
     "output_type": "execute_result"
    }
   ],
   "source": [
    "hyperconv_range=range(2, 21)\n",
    "td_nonneg_bcd_scale_idx = TensorDecomposer(obj_type=\"conversation\",\n",
    "                      feature_set=[\"hyperconvo-{}\".format(i) for i in hyperconv_range],\n",
    "                      group_func=lambda convo: convo.get_utterance(convo.id).meta['subreddit'],\n",
    "                      rank=3, tensor_func='tensortools-ncp-bcd',\n",
    "                      normalize_func=scale_by_comment_idx\n",
    "                     )\n",
    "td_nonneg_bcd_scale_idx.fit(corpus)\n",
    "td_nonneg_bcd_scale_idx.purity(n_clusters=3, actual_num_clusters=3, group_size=GROUP_SIZE)"
   ]
  },
  {
   "cell_type": "code",
   "execution_count": null,
   "metadata": {},
   "outputs": [],
   "source": []
  }
 ],
 "metadata": {
  "kernelspec": {
   "display_name": "Python 3",
   "language": "python",
   "name": "python3"
  },
  "language_info": {
   "codemirror_mode": {
    "name": "ipython",
    "version": 3
   },
   "file_extension": ".py",
   "mimetype": "text/x-python",
   "name": "python",
   "nbconvert_exporter": "python",
   "pygments_lexer": "ipython3",
   "version": "3.7.6"
  },
  "pycharm": {
   "stem_cell": {
    "cell_type": "raw",
    "metadata": {
     "collapsed": false
    },
    "source": []
   }
  }
 },
 "nbformat": 4,
 "nbformat_minor": 2
}
