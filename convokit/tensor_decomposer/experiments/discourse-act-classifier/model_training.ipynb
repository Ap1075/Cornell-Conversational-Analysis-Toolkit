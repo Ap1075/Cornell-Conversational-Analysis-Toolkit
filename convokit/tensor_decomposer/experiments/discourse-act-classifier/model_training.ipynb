{
 "cells": [
  {
   "cell_type": "code",
   "execution_count": 22,
   "metadata": {},
   "outputs": [],
   "source": [
    "from convokit import Corpus, download, TextCleaner\n",
    "import pandas as pd\n",
    "from sklearn.feature_extraction.text import CountVectorizer as CV\n",
    "from xgboost import XGBClassifier\n",
    "from cleantext import clean"
   ]
  },
  {
   "cell_type": "code",
   "execution_count": 60,
   "metadata": {},
   "outputs": [
    {
     "name": "stdout",
     "output_type": "stream",
     "text": [
      "Dataset already exists at /Users/calebchiam/.convokit/downloads/reddit-coarse-discourse-corpus\n"
     ]
    }
   ],
   "source": [
    "corpus = Corpus(download('reddit-coarse-discourse-corpus'))"
   ]
  },
  {
   "cell_type": "code",
   "execution_count": 61,
   "metadata": {},
   "outputs": [],
   "source": [
    "clean_str = lambda s: clean(s,\n",
    "                            fix_unicode=True,               # fix various unicode errors\n",
    "                            to_ascii=True,                  # transliterate to closest ASCII representation\n",
    "                            lower=True,                     # lowercase text\n",
    "                            no_line_breaks=True,           # fully strip line breaks as opposed to only normalizing them\n",
    "                            no_urls=True,                  # replace all URLs with a special token\n",
    "                            no_emails=True,                # replace all email addresses with a special token\n",
    "                            no_phone_numbers=True,         # replace all phone numbers with a special token\n",
    "                            no_numbers=False,               # replace all numbers with a special token\n",
    "                            no_digits=False,                # replace all digits with a special token\n",
    "                            no_currency_symbols=True,      # replace all currency symbols with a special token\n",
    "                            no_punct=False,                 # fully remove punctuation\n",
    "                            replace_with_url=\"<URL>\",\n",
    "                            replace_with_email=\"<EMAIL>\",\n",
    "                            replace_with_phone_number=\"<PHONE>\",\n",
    "                            replace_with_number=\"<NUMBER>\",\n",
    "                            replace_with_digit=\"0\",\n",
    "                            replace_with_currency_symbol=\"<CUR>\",\n",
    "                            lang=\"en\"\n",
    "                            )"
   ]
  },
  {
   "cell_type": "code",
   "execution_count": 62,
   "metadata": {},
   "outputs": [],
   "source": [
    "tc = TextCleaner(text_cleaner=clean_str, replace_text=False, verbosity=10000)"
   ]
  },
  {
   "cell_type": "code",
   "execution_count": 63,
   "metadata": {},
   "outputs": [
    {
     "name": "stdout",
     "output_type": "stream",
     "text": [
      "10000/115827 utterances processed\n",
      "20000/115827 utterances processed\n",
      "30000/115827 utterances processed\n",
      "40000/115827 utterances processed\n",
      "50000/115827 utterances processed\n",
      "60000/115827 utterances processed\n",
      "70000/115827 utterances processed\n",
      "80000/115827 utterances processed\n",
      "90000/115827 utterances processed\n",
      "100000/115827 utterances processed\n",
      "110000/115827 utterances processed\n",
      "115827/115827 utterances processed\n"
     ]
    },
    {
     "data": {
      "text/plain": [
       "<convokit.model.corpus.Corpus at 0x142f6d710>"
      ]
     },
     "execution_count": 63,
     "metadata": {},
     "output_type": "execute_result"
    }
   ],
   "source": [
    "tc.transform(corpus)"
   ]
  },
  {
   "cell_type": "code",
   "execution_count": 64,
   "metadata": {},
   "outputs": [
    {
     "data": {
      "text/plain": [
       "Utterance({'obj_type': 'utterance', '_owner': <convokit.model.corpus.Corpus object at 0x142f6d710>, 'meta': {'post_depth': 3, 'majority_type': 'answer', 'majority_link': 't1_cgn9n5r', 'annotation-types': ['answer', 'answer'], 'annotation-links': ['t1_cgn9n5r', 't1_cgn9n5r'], 'ups': 1, 'cleaned': 'no, when we investigated further we found that their had been a outbreak of some disease, (my memory fails me it was 35 years or so ago) whooping cough maybe? but the entire family except the mother had died 3 kids and her husband, and she just never went back and refused to allow anyone else to do anything with the place.'}, '_id': 't1_cgnaxi7', 'speaker': Speaker({'obj_type': 'speaker', '_owner': <convokit.model.corpus.Corpus object at 0x142f6d710>, 'meta': {}, '_id': 'Mordredbas'}), 'conversation_id': 't3_22hvqh', '_root': 't3_22hvqh', 'reply_to': 't1_cgn9n5r', 'timestamp': None, 'text': 'No, when we investigated further we found that their had been a outbreak of some disease, (my memory fails me it was 35 years or so ago) whooping cough maybe? But the entire family except the mother had died 3 kids and her husband, and she just never went back and refused to allow anyone else to do anything with the place. '})"
      ]
     },
     "execution_count": 64,
     "metadata": {},
     "output_type": "execute_result"
    }
   ],
   "source": [
    "corpus.random_utterance()"
   ]
  },
  {
   "cell_type": "markdown",
   "metadata": {},
   "source": [
    "### Some data cleaning"
   ]
  },
  {
   "cell_type": "markdown",
   "metadata": {},
   "source": [
    "Not every utterance has a majority type, so we randomly assign them one from the annotations"
   ]
  },
  {
   "cell_type": "code",
   "execution_count": 65,
   "metadata": {},
   "outputs": [
    {
     "data": {
      "text/plain": [
       "{'post_depth': 2,\n",
       " 'majority_type': 'elaboration',\n",
       " 'majority_link': 't1_cgjq67z',\n",
       " 'annotation-types': ['elaboration', 'elaboration', 'elaboration'],\n",
       " 'annotation-links': ['t1_cgjq67z', 't1_cgjq67z', 't1_cgjq67z'],\n",
       " 'ups': 3,\n",
       " 'cleaned': 'sooner or later importing from japan will be the only option. they sell for cheap over there but importation costs are a bitch.'}"
      ]
     },
     "execution_count": 65,
     "metadata": {},
     "output_type": "execute_result"
    }
   ],
   "source": [
    "corpus.random_utterance().meta"
   ]
  },
  {
   "cell_type": "code",
   "execution_count": 66,
   "metadata": {},
   "outputs": [
    {
     "name": "stdout",
     "output_type": "stream",
     "text": [
      "Number of Speakers: 63573\n",
      "Number of Utterances: 115827\n",
      "Number of Conversations: 9483\n"
     ]
    }
   ],
   "source": [
    "corpus.print_summary_stats()"
   ]
  },
  {
   "cell_type": "code",
   "execution_count": 67,
   "metadata": {},
   "outputs": [
    {
     "name": "stdout",
     "output_type": "stream",
     "text": [
      "12277\n"
     ]
    }
   ],
   "source": [
    "no_maj = 0\n",
    "for utt in corpus.iter_utterances():\n",
    "    if utt.meta['majority_type'] is None:\n",
    "        no_maj += 1\n",
    "print(no_maj)"
   ]
  },
  {
   "cell_type": "code",
   "execution_count": 68,
   "metadata": {},
   "outputs": [
    {
     "name": "stdout",
     "output_type": "stream",
     "text": [
      "2571\n"
     ]
    }
   ],
   "source": [
    "no_text = 0\n",
    "for utt in corpus.iter_utterances():\n",
    "    if utt.text is None or utt.text == '':\n",
    "        no_text += 1\n",
    "print(no_text)"
   ]
  },
  {
   "cell_type": "code",
   "execution_count": 69,
   "metadata": {},
   "outputs": [],
   "source": [
    "import random\n",
    "for utt in corpus.iter_utterances():\n",
    "    if utt.meta['majority_type'] is None:\n",
    "        utt.meta['majority_type'] = random.choice(utt.meta['annotation-types'])"
   ]
  },
  {
   "cell_type": "markdown",
   "metadata": {},
   "source": [
    "### Feature set"
   ]
  },
  {
   "cell_type": "code",
   "execution_count": 160,
   "metadata": {},
   "outputs": [],
   "source": [
    "from sklearn.feature_extraction.text import TfidfVectorizer\n",
    "import spacy"
   ]
  },
  {
   "cell_type": "code",
   "execution_count": 161,
   "metadata": {},
   "outputs": [],
   "source": [
    "nlp = spacy.load('en_core_web_md')"
   ]
  },
  {
   "cell_type": "code",
   "execution_count": 163,
   "metadata": {},
   "outputs": [],
   "source": [
    "tfidf = TfidfVectorizer(decode_error='ignore', strip_accents='unicode', \n",
    "                        tokenizer=lambda text: [token.text for token in nlp(text)],\n",
    "                        ngram_range=(1,3), min_df=50\n",
    "                       )"
   ]
  },
  {
   "cell_type": "code",
   "execution_count": 164,
   "metadata": {},
   "outputs": [],
   "source": [
    "docs = [utt.meta['cleaned'] for utt in corpus.iter_utterances()]"
   ]
  },
  {
   "cell_type": "code",
   "execution_count": 165,
   "metadata": {},
   "outputs": [],
   "source": [
    "X_content = tfidf.fit_transform(docs)"
   ]
  },
  {
   "cell_type": "code",
   "execution_count": 166,
   "metadata": {},
   "outputs": [
    {
     "data": {
      "text/plain": [
       "(113256, 22577)"
      ]
     },
     "execution_count": 166,
     "metadata": {},
     "output_type": "execute_result"
    }
   ],
   "source": [
    "X_content.shape"
   ]
  },
  {
   "cell_type": "code",
   "execution_count": 168,
   "metadata": {},
   "outputs": [],
   "source": [
    "for utt in convo.iter_utterances():\n",
    "    utt.meta['doc'] = nlp(utt.meta['cleaned'])"
   ]
  },
  {
   "cell_type": "code",
   "execution_count": 174,
   "metadata": {},
   "outputs": [
    {
     "data": {
      "text/plain": [
       "3"
      ]
     },
     "execution_count": 174,
     "metadata": {},
     "output_type": "execute_result"
    }
   ],
   "source": [
    "len(list(nlp(corpus.random_utterance().meta['cleaned']).sents))"
   ]
  },
  {
   "cell_type": "code",
   "execution_count": 177,
   "metadata": {},
   "outputs": [
    {
     "data": {
      "text/plain": [
       "14"
      ]
     },
     "execution_count": 177,
     "metadata": {},
     "output_type": "execute_result"
    }
   ],
   "source": [
    "len(nlp(corpus.random_utterance().meta['cleaned']))"
   ]
  },
  {
   "cell_type": "code",
   "execution_count": 180,
   "metadata": {},
   "outputs": [
    {
     "data": {
      "text/plain": [
       "{'post_depth': 0,\n",
       " 'majority_type': 'announcement',\n",
       " 'majority_link': 'none',\n",
       " 'annotation-types': ['announcement', 'other'],\n",
       " 'annotation-links': ['none', 'none'],\n",
       " 'ups': None,\n",
       " 'cleaned': '[update 5.5](<url>) hey, everybody. it\\'s roman. i\\'ve been reading through your comments of dylan\\'s last update, and they actually made me laugh. you people. so uncreative. you really thought i wrecked the car, and he would have been able to press enter? ha. i submitted his last post, morons. right now, you\\'re probably all really confused, and this pleases me more than you know. i pulled the wool over everyone\\'s eyes. let me get you caught up. this is the third time i\\'ve done something like this. you know that creep that\\'s been \"stalking\" me? he\\'s my father. i\\'ve lived in three different countries, lived three different lives, murdered countless people. it\\'s sweet that dylan confessed his love to me, poor boy. he didn\\'t even know what hit him. i sure did have everyone fooled, huh? dylan, julie, my coworkers. i earned everyone\\'s trust, including yours, redditors. some of you actually thought *dylan* was in on this. that tickled me the most. i suppose i don\\'t really owe anyone an explanation, and if i want to keep on with this hobby, i won\\'t continue. i just thought i should let everyone know how stupid you are. have a nice life. you never know when you\\'re gonna meet someone like me. :) **update:** this is the last time i\\'ll be posting here. i just wanted to clarify. my father and i are a team. we work together.',\n",
       " 'is-reply': 0}"
      ]
     },
     "execution_count": 180,
     "metadata": {},
     "output_type": "execute_result"
    }
   ],
   "source": [
    "corpus.random_utterance().meta"
   ]
  },
  {
   "cell_type": "code",
   "execution_count": 181,
   "metadata": {},
   "outputs": [],
   "source": [
    "for convo in corpus.iter_conversations():\n",
    "    convo_len = len(list(convo.iter_utterances()))\n",
    "    for utt in convo.iter_utterances():\n",
    "        utt.meta['post_depth_norm'] = utt.meta['post_depth'] / convo_len\n",
    "        utt.meta['num_sentences'] = len(list(doc.sents))\n",
    "        utt.meta['num_tokens'] = len(doc)\n",
    "        utt.meta['num_chars'] = len(utt.meta['cleaned'])"
   ]
  },
  {
   "cell_type": "code",
   "execution_count": 202,
   "metadata": {},
   "outputs": [],
   "source": [
    "for utt in corpus.iter_utterances():\n",
    "    utt.meta['is-post'] = int(utt.meta['post_depth'] == 0)"
   ]
  },
  {
   "cell_type": "code",
   "execution_count": 186,
   "metadata": {},
   "outputs": [
    {
     "data": {
      "text/plain": [
       "'t3_jcga7'"
      ]
     },
     "execution_count": 186,
     "metadata": {},
     "output_type": "execute_result"
    }
   ],
   "source": [
    "corpus.get_utterance('t1_c2ayszn').reply_to"
   ]
  },
  {
   "cell_type": "code",
   "execution_count": 187,
   "metadata": {},
   "outputs": [],
   "source": [
    "feats = ['post_depth_norm', 'num_sentences', 'num_tokens', 'num_chars']\n",
    "\n",
    "for utt in corpus.iter_utterances():\n",
    "    if utt.reply_to is not None:\n",
    "        try:\n",
    "            prev_utt = corpus.get_utterance(utt.reply_to)\n",
    "            for feat in feats:\n",
    "                utt.meta['prev_' + feat] = prev_utt.meta[feat]\n",
    "        except KeyError:\n",
    "            utt.meta['prev_num_sentences'] = -1\n",
    "            utt.meta['prev_num_tokens'] = -1\n",
    "            utt.meta['prev_num_chars'] = -1\n",
    "    else:\n",
    "        utt.meta['prev_num_sentences'] = -1\n",
    "        utt.meta['prev_num_tokens'] = -1\n",
    "        utt.meta['prev_num_chars'] = -1"
   ]
  },
  {
   "cell_type": "code",
   "execution_count": 203,
   "metadata": {},
   "outputs": [
    {
     "name": "stdout",
     "output_type": "stream",
     "text": [
      "['is-post', 'post_depth', 'post_depth_norm', 'num_sentences', 'num_tokens', 'num_chars', 'prev_num_sentences', 'prev_num_tokens', 'prev_num_chars']\n"
     ]
    }
   ],
   "source": [
    "structural_feats = ['is-post', 'post_depth'] + feats + ['prev_' + f for f in feats[-3:]]\n",
    "print(structural_feats)"
   ]
  },
  {
   "cell_type": "code",
   "execution_count": 204,
   "metadata": {},
   "outputs": [],
   "source": [
    "X_structure = []\n",
    "for utt in corpus.iter_utterances():\n",
    "    utt_feats = [utt.meta[f] for f in structural_feats]\n",
    "    X_structure.append(utt_feats)"
   ]
  },
  {
   "cell_type": "code",
   "execution_count": 206,
   "metadata": {},
   "outputs": [],
   "source": [
    "import numpy as np"
   ]
  },
  {
   "cell_type": "code",
   "execution_count": 207,
   "metadata": {},
   "outputs": [],
   "source": [
    "X_structure = np.array(X_structure)"
   ]
  },
  {
   "cell_type": "code",
   "execution_count": 211,
   "metadata": {},
   "outputs": [
    {
     "data": {
      "text/plain": [
       "(113256, 22577)"
      ]
     },
     "execution_count": 211,
     "metadata": {},
     "output_type": "execute_result"
    }
   ],
   "source": [
    "X_content.shape"
   ]
  },
  {
   "cell_type": "code",
   "execution_count": 209,
   "metadata": {},
   "outputs": [
    {
     "data": {
      "text/plain": [
       "(113256, 9)"
      ]
     },
     "execution_count": 209,
     "metadata": {},
     "output_type": "execute_result"
    }
   ],
   "source": [
    "X_structure.shape"
   ]
  },
  {
   "cell_type": "code",
   "execution_count": 213,
   "metadata": {},
   "outputs": [
    {
     "data": {
      "text/plain": [
       "<function numpy.hstack(tup)>"
      ]
     },
     "execution_count": 213,
     "metadata": {},
     "output_type": "execute_result"
    }
   ],
   "source": [
    "np.hstack"
   ]
  },
  {
   "cell_type": "code",
   "execution_count": 216,
   "metadata": {},
   "outputs": [
    {
     "data": {
      "text/plain": [
       "(113256, 22577)"
      ]
     },
     "execution_count": 216,
     "metadata": {},
     "output_type": "execute_result"
    }
   ],
   "source": [
    "X_content.shape"
   ]
  },
  {
   "cell_type": "code",
   "execution_count": 219,
   "metadata": {},
   "outputs": [],
   "source": [
    "stacked = np.hstack((X_content.toarray(), X_structure))"
   ]
  },
  {
   "cell_type": "markdown",
   "metadata": {},
   "source": [
    "## Multiclass classifier"
   ]
  },
  {
   "cell_type": "code",
   "execution_count": 221,
   "metadata": {},
   "outputs": [],
   "source": [
    "Y = [utt.meta['majority_type'] for utt in corpus.iter_utterances()]"
   ]
  },
  {
   "cell_type": "code",
   "execution_count": 222,
   "metadata": {},
   "outputs": [],
   "source": [
    "from sklearn.model_selection import train_test_split"
   ]
  },
  {
   "cell_type": "code",
   "execution_count": 225,
   "metadata": {},
   "outputs": [],
   "source": [
    "X_train, X_test, y_train, y_test = train_test_split(X_content, Y, test_size=0.2, random_state=42)"
   ]
  },
  {
   "cell_type": "code",
   "execution_count": 226,
   "metadata": {},
   "outputs": [],
   "source": [
    "num_classes = len(set(Y))"
   ]
  },
  {
   "cell_type": "code",
   "execution_count": 227,
   "metadata": {},
   "outputs": [
    {
     "data": {
      "text/plain": [
       "XGBClassifier(base_score=0.5, booster='gbtree', colsample_bylevel=1,\n",
       "              colsample_bynode=1, colsample_bytree=1, eval_metric='auc',\n",
       "              gamma=0, gpu_id=-1, importance_type='gain',\n",
       "              interaction_constraints='', learning_rate=0.300000012,\n",
       "              max_delta_step=0, max_depth=6, min_child_weight=1, missing=nan,\n",
       "              monotone_constraints='()', n_estimators=100, n_jobs=0,\n",
       "              num_class=10, num_parallel_tree=1, objective='multi:softprob',\n",
       "              random_state=42, reg_alpha=0, reg_lambda=1, scale_pos_weight=None,\n",
       "              subsample=1, tree_method='exact', validate_parameters=1,\n",
       "              verbosity=None)"
      ]
     },
     "execution_count": 227,
     "metadata": {},
     "output_type": "execute_result"
    }
   ],
   "source": [
    "xgb = XGBClassifier(booster='gbtree', objective='multi:softprob', \n",
    "                    random_state=42, eval_metric='auc', num_class=num_classes)\n",
    "\n",
    "xgb.fit(X_train, y_train)"
   ]
  },
  {
   "cell_type": "code",
   "execution_count": 228,
   "metadata": {},
   "outputs": [],
   "source": [
    "from sklearn.metrics import roc_auc_score\n",
    "from sklearn import preprocessing"
   ]
  },
  {
   "cell_type": "code",
   "execution_count": 229,
   "metadata": {},
   "outputs": [],
   "source": [
    "y_pred = xgb.predict(X_test)"
   ]
  },
  {
   "cell_type": "code",
   "execution_count": 230,
   "metadata": {},
   "outputs": [
    {
     "name": "stdout",
     "output_type": "stream",
     "text": [
      "                  precision    recall  f1-score   support\n",
      "\n",
      "       agreement       0.57      0.24      0.33      1265\n",
      "    announcement       0.49      0.08      0.14       311\n",
      "          answer       0.51      0.85      0.64      8520\n",
      "    appreciation       0.67      0.60      0.63      1928\n",
      "    disagreement       0.42      0.04      0.08       858\n",
      "     elaboration       0.35      0.15      0.21      4300\n",
      "           humor       0.31      0.03      0.05       686\n",
      "negativereaction       0.28      0.03      0.06       552\n",
      "           other       0.54      0.05      0.10       713\n",
      "        question       0.72      0.83      0.77      3519\n",
      "\n",
      "        accuracy                           0.55     22652\n",
      "       macro avg       0.49      0.29      0.30     22652\n",
      "    weighted avg       0.52      0.55      0.48     22652\n",
      "\n"
     ]
    }
   ],
   "source": [
    "print(classification_report(y_test, y_pred))"
   ]
  },
  {
   "cell_type": "code",
   "execution_count": 133,
   "metadata": {},
   "outputs": [
    {
     "data": {
      "text/plain": [
       "LabelBinarizer(neg_label=0, pos_label=1, sparse_output=False)"
      ]
     },
     "execution_count": 133,
     "metadata": {},
     "output_type": "execute_result"
    }
   ],
   "source": [
    "lb = preprocessing.LabelBinarizer()\n",
    "lb.fit(y_test)"
   ]
  },
  {
   "cell_type": "code",
   "execution_count": 134,
   "metadata": {},
   "outputs": [],
   "source": [
    "y_test_lb = lb.transform(y_test)"
   ]
  },
  {
   "cell_type": "code",
   "execution_count": 135,
   "metadata": {},
   "outputs": [],
   "source": [
    "pred_lb = lb.transform(y_pred)"
   ]
  },
  {
   "cell_type": "code",
   "execution_count": 141,
   "metadata": {},
   "outputs": [
    {
     "data": {
      "text/plain": [
       "0.5916967198317197"
      ]
     },
     "execution_count": 141,
     "metadata": {},
     "output_type": "execute_result"
    }
   ],
   "source": [
    "roc_auc_score(y_test_lb, pred_lb, multi_class='ovr')"
   ]
  },
  {
   "cell_type": "code",
   "execution_count": 142,
   "metadata": {},
   "outputs": [],
   "source": [
    "from sklearn.metrics import classification_report"
   ]
  },
  {
   "cell_type": "code",
   "execution_count": 158,
   "metadata": {},
   "outputs": [
    {
     "data": {
      "text/plain": [
       "{'13': 26,\n",
       " '27': 70,\n",
       " '12': 24,\n",
       " 'url': 13433,\n",
       " 'it': 6199,\n",
       " 'was': 13740,\n",
       " 'only': 8595,\n",
       " 'few': 4012,\n",
       " 'minutes': 7608,\n",
       " 'into': 5948,\n",
       " 'robert': 9914,\n",
       " 'epic': 3704,\n",
       " 'that': 11247,\n",
       " 'got': 4784,\n",
       " 'feeling': 3996,\n",
       " 'watching': 13841,\n",
       " 'great': 4823,\n",
       " 'movie': 7757,\n",
       " 'by': 2183,\n",
       " 'end': 3653,\n",
       " 'could': 2827,\n",
       " 'not': 8083,\n",
       " 'be': 1538,\n",
       " 'now': 8198,\n",
       " 'sure': 11004,\n",
       " 'helps': 5270,\n",
       " 'since': 10409,\n",
       " 'this': 12389,\n",
       " 'created': 2900,\n",
       " 'an': 567,\n",
       " 'immediate': 5648,\n",
       " 'connection': 2738,\n",
       " 'to': 12647,\n",
       " 'subject': 10934,\n",
       " 'matter': 7370,\n",
       " 'spent': 10739,\n",
       " 'portion': 9215,\n",
       " 'of': 8266,\n",
       " 'with': 14337,\n",
       " 'my': 7805,\n",
       " 'in': 5671,\n",
       " 'lap': 6789,\n",
       " 'trying': 13245,\n",
       " 'play': 9116,\n",
       " 'along': 473,\n",
       " 'characters': 2458,\n",
       " 'who': 14194,\n",
       " 'all': 401,\n",
       " 'seem': 10165,\n",
       " 'really': 9618,\n",
       " 'playing': 9139,\n",
       " 'and': 607,\n",
       " 'singing': 10425,\n",
       " 'these': 12215,\n",
       " 'songs': 10670,\n",
       " 'however': 5481,\n",
       " 'also': 487,\n",
       " 'am': 530,\n",
       " 'fan': 3933,\n",
       " 'country': 2860,\n",
       " 'western': 14009,\n",
       " 'so': 10491,\n",
       " 'have': 5032,\n",
       " 'easily': 3564,\n",
       " 'been': 1713,\n",
       " 'turn': 13258,\n",
       " 'off': 8402,\n",
       " 'begin': 1749,\n",
       " 'describing': 3115,\n",
       " 'action': 265,\n",
       " 'film': 4058,\n",
       " 'is': 5984,\n",
       " 'can': 2247,\n",
       " 'even': 3746,\n",
       " 'process': 9365,\n",
       " 'lot': 7176,\n",
       " 'what': 14012,\n",
       " 'saw': 10040,\n",
       " 'extremely': 3890,\n",
       " 'first': 4105,\n",
       " '30': 77,\n",
       " 'or': 8659,\n",
       " 'are': 1058,\n",
       " 'just': 6569,\n",
       " 'figure': 4039,\n",
       " 'out': 8767,\n",
       " 'people': 8961,\n",
       " 'their': 12077,\n",
       " 'relationships': 9743,\n",
       " 'one': 8545,\n",
       " 'another': 946,\n",
       " 'some': 10598,\n",
       " 'which': 14156,\n",
       " 'purely': 9442,\n",
       " 'slowly': 10472,\n",
       " 'become': 1706,\n",
       " 'clear': 2544,\n",
       " 'as': 1191,\n",
       " 'things': 12326,\n",
       " 'progress': 9387,\n",
       " 'cast': 2389,\n",
       " 'no': 8031,\n",
       " 'lead': 6833,\n",
       " 'lots': 7193,\n",
       " 'conversations': 2793,\n",
       " 'tie': 12588,\n",
       " 'together': 13083,\n",
       " 'kind': 6693,\n",
       " 'loose': 7161,\n",
       " 'ends': 3665,\n",
       " 'there': 12146,\n",
       " 'throughout': 12573,\n",
       " 'very': 13596,\n",
       " 'sense': 10208,\n",
       " 'about': 187,\n",
       " 'world': 14481,\n",
       " 'they': 12224,\n",
       " 'feels': 4002,\n",
       " 'like': 6950,\n",
       " 'doesn': 3338,\n",
       " 'rather': 9542,\n",
       " 'makes': 7295,\n",
       " 'more': 7682,\n",
       " 'consider': 2744,\n",
       " 'for': 4186,\n",
       " 'example': 3818,\n",
       " 'jeff': 6525,\n",
       " 'entire': 3698,\n",
       " 'character': 2456,\n",
       " 'feel': 3980,\n",
       " 'should': 10335,\n",
       " 'mention': 7518,\n",
       " 'he': 5153,\n",
       " 'never': 7978,\n",
       " 'awesome': 1438,\n",
       " 'around': 1166,\n",
       " 'hour': 5434,\n",
       " 'music': 7800,\n",
       " 'its': 6495,\n",
       " '150': 32,\n",
       " 'minute': 7607,\n",
       " 'run': 9959,\n",
       " 'time': 12596,\n",
       " 'believe': 1772,\n",
       " 'sometimes': 10661,\n",
       " 'most': 7723,\n",
       " 'if': 5538,\n",
       " 'original': 8734,\n",
       " 'speak': 10714,\n",
       " 'audience': 1402,\n",
       " 'many': 7328,\n",
       " 'scenes': 10079,\n",
       " 'such': 10950,\n",
       " 'when': 14089,\n",
       " 'spaces': 10708,\n",
       " 'on': 8450,\n",
       " 'stage': 10777,\n",
       " 'begins': 1755,\n",
       " 'between': 1825,\n",
       " 'numbers': 8236,\n",
       " 'at': 1312,\n",
       " 'back': 1447,\n",
       " 'bar': 1502,\n",
       " 'folk': 4167,\n",
       " 'poor': 9201,\n",
       " 'crowd': 2921,\n",
       " 'still': 10842,\n",
       " 'she': 10271,\n",
       " 'actually': 278,\n",
       " 'sing': 10424,\n",
       " 'rich': 9870,\n",
       " 'complex': 2695,\n",
       " 'perfectly': 9001,\n",
       " 'suited': 10974,\n",
       " 'moment': 7654,\n",
       " 'us': 13467,\n",
       " 'seems': 10175,\n",
       " 'though': 12524,\n",
       " 'will': 14251,\n",
       " 'reward': 9865,\n",
       " 'additional': 301,\n",
       " 'during': 3536,\n",
       " 'long': 7115,\n",
       " 'movies': 7758,\n",
       " 'but': 2037,\n",
       " 'bored': 1912,\n",
       " 'me': 7402,\n",
       " 'interesting': 5935,\n",
       " 'maybe': 7389,\n",
       " 'seen': 10183,\n",
       " 'coming': 2643,\n",
       " '10': 11,\n",
       " 'url it': 13446,\n",
       " 'it was': 6446,\n",
       " 'was only': 13790,\n",
       " 'only few': 8600,\n",
       " 'few minutes': 4017,\n",
       " 'that got': 11301,\n",
       " 'got the': 4794,\n",
       " 'the feeling': 11638,\n",
       " 'by the': 2202,\n",
       " 'the end': 11618,\n",
       " 'end it': 3655,\n",
       " 'it could': 6245,\n",
       " 'could not': 2844,\n",
       " 'not be': 8094,\n",
       " 'sure it': 11012,\n",
       " 'it helps': 6301,\n",
       " 'since this': 10418,\n",
       " 'to the': 13022,\n",
       " 'the subject': 11983,\n",
       " 'portion of': 9216,\n",
       " 'of the': 8355,\n",
       " 'the movie': 11795,\n",
       " 'with my': 14373,\n",
       " 'in my': 5735,\n",
       " 'trying to': 13246,\n",
       " 'to play': 12938,\n",
       " 'along with': 476,\n",
       " 'with the': 14386,\n",
       " 'the characters': 11558,\n",
       " 'seem to': 10167,\n",
       " 'to be': 12678,\n",
       " 'be really': 1623,\n",
       " 'am not': 540,\n",
       " 'not fan': 8110,\n",
       " 'fan of': 3934,\n",
       " 'so that': 10548,\n",
       " 'that could': 11277,\n",
       " 'could have': 2839,\n",
       " 'turn off': 13261,\n",
       " 'off to': 8415,\n",
       " 'to begin': 12697,\n",
       " 'the action': 11479,\n",
       " 'in the': 5777,\n",
       " 'the film': 11643,\n",
       " 'can even': 2271,\n",
       " 'lot of': 7186,\n",
       " 'of what': 8393,\n",
       " 'saw this': 10044,\n",
       " 'this movie': 12458,\n",
       " 'is extremely': 6033,\n",
       " 'and the': 842,\n",
       " 'the first': 11646,\n",
       " '30 minutes': 78,\n",
       " 'or so': 8699,\n",
       " 'just trying': 6643,\n",
       " 'to figure': 12784,\n",
       " 'figure out': 4042,\n",
       " 'people are': 8963,\n",
       " 'to one': 12924,\n",
       " 'some of': 10610,\n",
       " 'of which': 8396,\n",
       " 'which are': 14157,\n",
       " 'it an': 6211,\n",
       " 'with no': 14375,\n",
       " 'and lots': 752,\n",
       " 'lots of': 7194,\n",
       " 'kind of': 6694,\n",
       " 'there is': 12173,\n",
       " 'about people': 212,\n",
       " 'and so': 821,\n",
       " 'so is': 10518,\n",
       " 'is the': 6139,\n",
       " 'the world': 12068,\n",
       " 'it feels': 6268,\n",
       " 'feels like': 4003,\n",
       " 'that doesn': 11284,\n",
       " 'just makes': 6615,\n",
       " 'makes it': 7296,\n",
       " 'all the': 439,\n",
       " 'the more': 11789,\n",
       " 'for example': 4219,\n",
       " 'is in': 6063,\n",
       " 'in this': 5814,\n",
       " 'he never': 5183,\n",
       " 'and he': 704,\n",
       " 'he is': 5171,\n",
       " 'is awesome': 6001,\n",
       " 'an hour': 591,\n",
       " 'of music': 8327,\n",
       " 'in its': 5719,\n",
       " 'believe it': 1774,\n",
       " 'if not': 5565,\n",
       " 'not all': 8086,\n",
       " 'all of': 423,\n",
       " 'to speak': 12996,\n",
       " 'to or': 12928,\n",
       " 'sometimes it': 10662,\n",
       " 'it all': 6204,\n",
       " 'all about': 402,\n",
       " 'about the': 215,\n",
       " 'the audience': 11499,\n",
       " 'there are': 12153,\n",
       " 'are many': 1100,\n",
       " 'such as': 10952,\n",
       " 'out on': 8793,\n",
       " 'at the': 1346,\n",
       " 'the back': 11503,\n",
       " 'back of': 1459,\n",
       " 'and still': 827,\n",
       " 'to believe': 12700,\n",
       " 'believe that': 1775,\n",
       " 'that she': 11389,\n",
       " 'she can': 10272,\n",
       " 'can actually': 2248,\n",
       " 'this is': 12426,\n",
       " 'in time': 5819,\n",
       " 'time the': 12613,\n",
       " 'the us': 12030,\n",
       " 'that seems': 11388,\n",
       " 'as though': 1248,\n",
       " 'though it': 12530,\n",
       " 'it will': 6467,\n",
       " 'but was': 2158,\n",
       " 'was never': 13783,\n",
       " 'with its': 14363,\n",
       " 'that maybe': 11354,\n",
       " 'should have': 10345,\n",
       " 'have seen': 5096,\n",
       " 'it was only': 6452,\n",
       " 'by the end': 2203,\n",
       " 'along with the': 477,\n",
       " 'seem to be': 10168,\n",
       " 'just trying to': 6644,\n",
       " 'trying to figure': 13249,\n",
       " 'to figure out': 12785,\n",
       " 'in the end': 5789,\n",
       " 'it feels like': 6269,\n",
       " 'some of the': 10612,\n",
       " 'it all about': 6205,\n",
       " 'there are many': 12156,\n",
       " 'the back of': 11504,\n",
       " 'to believe that': 12701,\n",
       " 've': 13542,\n",
       " 'wanted': 13723,\n",
       " 'watch': 13837,\n",
       " 'turned': 13265,\n",
       " 'aspect': 1287,\n",
       " 'wanted to': 13724,\n",
       " 'to watch': 13064,\n",
       " 'this for': 12411,\n",
       " 'for long': 4242,\n",
       " 'long time': 7126,\n",
       " 'time was': 12620,\n",
       " 'was also': 13747,\n",
       " 'off by': 8406,\n",
       " 'the country': 11585,\n",
       " 'for long time': 4243,\n",
       " 'you': 14643,\n",
       " 'strike': 10896,\n",
       " 'type': 13294,\n",
       " 'would': 14502,\n",
       " 'appreciate': 1044,\n",
       " 'give': 4641,\n",
       " 'go': 4673,\n",
       " 'didn': 3175,\n",
       " 'know': 6716,\n",
       " 'expect': 3852,\n",
       " 'except': 3825,\n",
       " 'always': 521,\n",
       " 'compare': 2674,\n",
       " 'nights': 8027,\n",
       " 'being': 1760,\n",
       " 'probably': 9344,\n",
       " 'best': 1799,\n",
       " 'analog': 604,\n",
       " 'terms': 11190,\n",
       " 'structure': 10905,\n",
       " 'having': 5144,\n",
       " 'different': 3201,\n",
       " 'much': 7765,\n",
       " 'me as': 7408,\n",
       " 'as the': 1242,\n",
       " 'the type': 12024,\n",
       " 'who would': 14211,\n",
       " 'appreciate it': 1045,\n",
       " 'it would': 6481,\n",
       " 'would give': 14524,\n",
       " 'give it': 4644,\n",
       " 'it go': 6282,\n",
       " 'is also': 5991,\n",
       " 'my first': 7834,\n",
       " 'didn really': 3185,\n",
       " 'really know': 9639,\n",
       " 'know what': 6743,\n",
       " 'what to': 14058,\n",
       " 'to expect': 12776,\n",
       " 'that people': 11377,\n",
       " 'as being': 1197,\n",
       " 'is probably': 6115,\n",
       " 'probably the': 9351,\n",
       " 'the best': 11521,\n",
       " 'in terms': 5773,\n",
       " 'terms of': 11191,\n",
       " 'but it': 2089,\n",
       " 'it is': 6313,\n",
       " 'very different': 13598,\n",
       " 'much more': 7782,\n",
       " 'this is also': 12428,\n",
       " 'really know what': 9640,\n",
       " 'know what to': 6745,\n",
       " 'is probably the': 6116,\n",
       " 'probably the best': 9352,\n",
       " 'in terms of': 5774,\n",
       " 'but it is': 2095,\n",
       " 'yeah': 14601,\n",
       " 'heard': 5231,\n",
       " 'famous': 3932,\n",
       " 'his': 5361,\n",
       " 'too': 13105,\n",
       " 've always': 13545,\n",
       " 'heard that': 5235,\n",
       " 'for his': 4231,\n",
       " 'have never': 5081,\n",
       " 'never seen': 7990,\n",
       " 'alright': 486,\n",
       " 'guys': 4892,\n",
       " 'little': 7050,\n",
       " 'background': 1470,\n",
       " 'myself': 7896,\n",
       " 'good': 4744,\n",
       " 'looking': 7145,\n",
       " '23': 64,\n",
       " 'year': 14607,\n",
       " 'old': 8446,\n",
       " 'male': 7310,\n",
       " 'had': 4902,\n",
       " 'success': 10947,\n",
       " 'past': 8919,\n",
       " 'women': 14417,\n",
       " 'decided': 3048,\n",
       " 'isn': 6180,\n",
       " 'enough': 3685,\n",
       " 'anymore': 988,\n",
       " 'problem': 9354,\n",
       " 'has': 4990,\n",
       " 'lack': 6768,\n",
       " 'attention': 1389,\n",
       " 'opportunity': 8644,\n",
       " 'killer': 6690,\n",
       " 'extreme': 3889,\n",
       " 'aa': 175,\n",
       " 'point': 9169,\n",
       " 'where': 14128,\n",
       " 'basically': 1517,\n",
       " 'eye': 3891,\n",
       " 'fuck': 4449,\n",
       " 'don': 3375,\n",
       " 'say': 10045,\n",
       " 'anything': 998,\n",
       " 'unless': 13350,\n",
       " 'something': 10639,\n",
       " 'goal': 4702,\n",
       " 'approach': 1048,\n",
       " '100': 18,\n",
       " 'sets': 10243,\n",
       " 'april': 1052,\n",
       " 'hopefully': 5419,\n",
       " 'break': 1957,\n",
       " 'year old': 14612,\n",
       " 'have had': 5065,\n",
       " 'the past': 11855,\n",
       " 'but have': 2074,\n",
       " 'decided that': 3049,\n",
       " 'just isn': 6605,\n",
       " 'good enough': 4750,\n",
       " 'the problem': 11887,\n",
       " 'has never': 5009,\n",
       " 'never been': 7980,\n",
       " 'lack of': 6769,\n",
       " 'it just': 6324,\n",
       " 'just been': 6575,\n",
       " 'not having': 8121,\n",
       " 'having the': 5147,\n",
       " 'the point': 11874,\n",
       " 'point where': 9181,\n",
       " 'me and': 7406,\n",
       " 'still don': 10846,\n",
       " 'don have': 3393,\n",
       " 'have the': 5104,\n",
       " 'to say': 12968,\n",
       " 'say anything': 10047,\n",
       " 'unless they': 13353,\n",
       " 'they say': 12277,\n",
       " 'say something': 10052,\n",
       " 'goal is': 4703,\n",
       " 'is to': 6153,\n",
       " 'end of': 3656,\n",
       " 'and hopefully': 714,\n",
       " 'in the past': 5801,\n",
       " 'to the point': 13026,\n",
       " 'the point where': 11876,\n",
       " 'don have the': 3395,\n",
       " 'the end of': 11619,\n",
       " 'january': 6515,\n",
       " 'went': 13983,\n",
       " 'shopping': 10325,\n",
       " 'visited': 13648,\n",
       " 'her': 5273,\n",
       " 'we': 13879,\n",
       " 'factory': 3909,\n",
       " 'store': 10870,\n",
       " 'opened': 8632,\n",
       " 'set': 10236,\n",
       " 'changing': 2450,\n",
       " 'room': 9929,\n",
       " 'cute': 2966,\n",
       " 'asian': 1266,\n",
       " 'asked': 1278,\n",
       " 'questions': 9485,\n",
       " 'wearing': 13933,\n",
       " 'made': 7237,\n",
       " 'laugh': 6817,\n",
       " 'several': 10250,\n",
       " 'times': 12627,\n",
       " 'jokes': 6544,\n",
       " 'introduced': 5961,\n",
       " 'talked': 11107,\n",
       " 'after': 338,\n",
       " 'done': 3436,\n",
       " 'picking': 9053,\n",
       " 'clothes': 2573,\n",
       " 'left': 6871,\n",
       " 'second': 10125,\n",
       " 'older': 8448,\n",
       " 'mid': 7552,\n",
       " '40': 99,\n",
       " 'wouldn': 14567,\n",
       " 'because': 1673,\n",
       " 'casual': 2392,\n",
       " 'chat': 2469,\n",
       " 'outfit': 8810,\n",
       " 'put': 9450,\n",
       " 'said': 9988,\n",
       " 'responded': 9827,\n",
       " 'attractive': 1394,\n",
       " 'haha': 4927,\n",
       " 'gave': 4538,\n",
       " 'continued': 2775,\n",
       " 'laughing': 6819,\n",
       " 'third': 12387,\n",
       " 'number': 8234,\n",
       " 'close': 2562,\n",
       " 'waiting': 13675,\n",
       " 'line': 7013,\n",
       " 'helped': 5266,\n",
       " 'checking': 2485,\n",
       " 'walks': 13684,\n",
       " 'register': 9732,\n",
       " 'immediately': 5649,\n",
       " 'small': 10473,\n",
       " 'talk': 11103,\n",
       " 'talking': 11110,\n",
       " 'points': 9187,\n",
       " 'making': 7305,\n",
       " 'fun': 4464,\n",
       " 'suggested': 10966,\n",
       " 'limited': 7010,\n",
       " 'look': 7131,\n",
       " 'then': 12119,\n",
       " 'rolled': 9923,\n",
       " 'write': 14581,\n",
       " 'down': 3461,\n",
       " 'name': 7906,\n",
       " 'did': 3161,\n",
       " 'want': 13692,\n",
       " 'tell': 11160,\n",
       " 'saying': 10060,\n",
       " 'work': 14441,\n",
       " 'foot': 4183,\n",
       " 'next': 8005,\n",
       " 'whole': 14214,\n",
       " 'mind': 7587,\n",
       " 'completely': 2693,\n",
       " 'white': 14193,\n",
       " 'full': 4460,\n",
       " 'japanese': 6517,\n",
       " 'bit': 1853,\n",
       " 'war': 13730,\n",
       " 'how': 5444,\n",
       " 'etc': 3734,\n",
       " 'take': 11076,\n",
       " 'leave': 6863,\n",
       " 'text': 11202,\n",
       " 'later': 6812,\n",
       " 'tl': 12643,\n",
       " 'dr': 3483,\n",
       " 'right': 9883,\n",
       " 'went out': 13988,\n",
       " 'we go': 13895,\n",
       " 'go to': 4696,\n",
       " 'was the': 13808,\n",
       " 'questions about': 9486,\n",
       " 'about what': 222,\n",
       " 'what was': 14062,\n",
       " 'several times': 10251,\n",
       " 'her to': 5286,\n",
       " 'to my': 12916,\n",
       " 'and we': 896,\n",
       " 'we all': 13880,\n",
       " 'was done': 13757,\n",
       " 'out the': 8799,\n",
       " 'and left': 743,\n",
       " 'was this': 13813,\n",
       " 'give her': 4642,\n",
       " 'because it': 1681,\n",
       " 'was more': 13779,\n",
       " 'more of': 7704,\n",
       " 'of just': 8316,\n",
       " 'put on': 9458,\n",
       " 'she said': 10287,\n",
       " 'said she': 9994,\n",
       " 'she didn': 10275,\n",
       " 'didn like': 3183,\n",
       " 'like it': 6966,\n",
       " 'and she': 818,\n",
       " 'said that': 9995,\n",
       " 'as she': 1234,\n",
       " 'and went': 900,\n",
       " 'went into': 13986,\n",
       " 'and my': 769,\n",
       " 'in line': 5723,\n",
       " 'checking out': 2486,\n",
       " 'out and': 8770,\n",
       " 'at her': 1323,\n",
       " 'talking about': 11111,\n",
       " 'one the': 8576,\n",
       " 'out some': 8797,\n",
       " 'to write': 13077,\n",
       " 'it down': 6260,\n",
       " 'to put': 12951,\n",
       " 'there too': 12200,\n",
       " 'she did': 10274,\n",
       " 'did and': 3162,\n",
       " 'and then': 848,\n",
       " 'so you': 10571,\n",
       " 'you can': 14674,\n",
       " 'can tell': 2319,\n",
       " 'tell me': 11164,\n",
       " 'me when': 7457,\n",
       " 'when you': 14119,\n",
       " 'watch it': 13838,\n",
       " 'yeah that': 14604,\n",
       " 'work it': 14450,\n",
       " 'next to': 8009,\n",
       " 'to me': 12905,\n",
       " 'me the': 7445,\n",
       " 'the whole': 12058,\n",
       " 'whole time': 14218,\n",
       " 'she was': 10290,\n",
       " 'mind you': 7590,\n",
       " 'you look': 14792,\n",
       " 'for bit': 4207,\n",
       " 'about my': 211,\n",
       " 'the war': 12043,\n",
       " 'and how': 715,\n",
       " 'take my': 11084,\n",
       " 'about an': 191,\n",
       " 'we have': 13898,\n",
       " 'have been': 5048,\n",
       " 'tl dr': 12644,\n",
       " 'because it was': 1683,\n",
       " 'me and my': 7407,\n",
       " 'so you can': 10572,\n",
       " 'you can tell': 14694,\n",
       " 'the whole time': 12060,\n",
       " 'are the': 1126,\n",
       " 'are the best': 1127,\n",
       " 'dude': 3524,\n",
       " 're': 9551,\n",
       " 'doing': 3363,\n",
       " 'sounds': 10695,\n",
       " 'natural': 7919,\n",
       " 'meeting': 7499,\n",
       " 'once': 8534,\n",
       " 'get': 4566,\n",
       " 'are awesome': 1072,\n",
       " 'you re': 14830,\n",
       " 're doing': 9555,\n",
       " 'sounds like': 10697,\n",
       " 'like you': 6996,\n",
       " 'once you': 8543,\n",
       " 'you get': 14736,\n",
       " 'past the': 8921,\n",
       " 'you re doing': 14831,\n",
       " 'sounds like you': 10698,\n",
       " 'like you re': 6998,\n",
       " 'once you get': 8544,\n",
       " 'thanks': 11232,\n",
       " 'man': 7312,\n",
       " 'keep': 6656,\n",
       " 'cares': 2372,\n",
       " 'attitude': 1391,\n",
       " 'normally': 8079,\n",
       " 'freak': 4379,\n",
       " 'find': 4068,\n",
       " 'bring': 1975,\n",
       " 'up': 13372,\n",
       " 'going': 4715,\n",
       " 'pretty': 9298,\n",
       " 'thanks man': 11243,\n",
       " 'to just': 12872,\n",
       " 'just keep': 6606,\n",
       " 'keep the': 6665,\n",
       " 'have fun': 5060,\n",
       " 'out about': 8768,\n",
       " 'but find': 2067,\n",
       " 'up and': 13376,\n",
       " 'and get': 682,\n",
       " 'get some': 4602,\n",
       " 'actually pretty': 282,\n",
       " 'pretty good': 9304,\n",
       " 'ok': 8440,\n",
       " 'update': 13414,\n",
       " 'sorry': 10676,\n",
       " 'haven': 5135,\n",
       " 'day': 3002,\n",
       " 'let': 6897,\n",
       " 'see': 10134,\n",
       " 'remember': 9762,\n",
       " '17': 39,\n",
       " 'various': 13538,\n",
       " 'opening': 8633,\n",
       " 'unfortunately': 13335,\n",
       " '4th': 113,\n",
       " 'game': 4490,\n",
       " 'grab': 4804,\n",
       " 'bite': 1861,\n",
       " 'eat': 3571,\n",
       " 'local': 7100,\n",
       " 'joint': 6542,\n",
       " 'before': 1736,\n",
       " 'ordering': 8726,\n",
       " 'behind': 1758,\n",
       " 'female': 4010,\n",
       " 'mostly': 7733,\n",
       " 'sports': 10753,\n",
       " 'joined': 6540,\n",
       " 'conversation': 2792,\n",
       " 'lasted': 6806,\n",
       " 'learned': 6851,\n",
       " 'both': 1919,\n",
       " 'through': 12565,\n",
       " 'order': 8722,\n",
       " '5th': 126,\n",
       " 'works': 14476,\n",
       " 'grocery': 4845,\n",
       " 'chain': 2425,\n",
       " 'new': 7993,\n",
       " 'rain': 9518,\n",
       " 'semi': 10200,\n",
       " 'ordered': 8725,\n",
       " 'drink': 3498,\n",
       " 'than': 11208,\n",
       " 'hence': 5271,\n",
       " 'why': 14221,\n",
       " 'try': 13232,\n",
       " 'every': 3774,\n",
       " 'soon': 10672,\n",
       " 'haven been': 5136,\n",
       " 'been doing': 1718,\n",
       " 'doing this': 3369,\n",
       " 'this day': 12408,\n",
       " 'day to': 3012,\n",
       " 'should be': 10337,\n",
       " 'let me': 6903,\n",
       " 'see what': 10152,\n",
       " 'what can': 14019,\n",
       " 'can remember': 2306,\n",
       " 'during the': 3537,\n",
       " 'went to': 13990,\n",
       " 'to grab': 12832,\n",
       " 'to eat': 12767,\n",
       " 'the local': 11756,\n",
       " 'decided to': 3050,\n",
       " 'talked about': 11108,\n",
       " 'myself and': 7897,\n",
       " 'and her': 707,\n",
       " 'the conversation': 11579,\n",
       " 'at my': 1337,\n",
       " 'my local': 7856,\n",
       " 'of all': 8268,\n",
       " 'all things': 446,\n",
       " 'with both': 14345,\n",
       " 'know there': 6739,\n",
       " 'there more': 12186,\n",
       " 'more than': 7714,\n",
       " 'than this': 11221,\n",
       " 'why should': 14234,\n",
       " 'should try': 10355,\n",
       " 'try to': 13242,\n",
       " 'to update': 13051,\n",
       " 'every day': 3775,\n",
       " 'be back': 1553,\n",
       " 'updates': 13416,\n",
       " 'love': 7197,\n",
       " 'cheese': 2489,\n",
       " 'cake': 2213,\n",
       " 'eating': 3573,\n",
       " 'sad': 9981,\n",
       " 'usually': 13515,\n",
       " 'crazy': 2897,\n",
       " 'calorie': 2228,\n",
       " 'counts': 2862,\n",
       " 'low': 7216,\n",
       " 'recipes': 9683,\n",
       " 'them': 12080,\n",
       " 'especially': 3719,\n",
       " 'ones': 8590,\n",
       " 'instance': 5900,\n",
       " 'require': 9806,\n",
       " 'sugar': 10962,\n",
       " 'free': 4381,\n",
       " 'cool': 2799,\n",
       " 'cream': 2898,\n",
       " 'specific': 10723,\n",
       " 'items': 6494,\n",
       " 'aren': 1152,\n",
       " 'available': 1416,\n",
       " 'everywhere': 3801,\n",
       " 'here': 5287,\n",
       " 'delicious': 3083,\n",
       " 'hope': 5410,\n",
       " 'others': 8758,\n",
       " 'enjoy': 3678,\n",
       " 'it so': 6401,\n",
       " 'to see': 12973,\n",
       " 'see that': 10148,\n",
       " 'that they': 11412,\n",
       " 'they usually': 12289,\n",
       " 'the most': 11791,\n",
       " 'and don': 655,\n",
       " 'don see': 3417,\n",
       " 'for them': 4300,\n",
       " 'ones that': 8591,\n",
       " 'that can': 11272,\n",
       " 'can work': 2331,\n",
       " 'work for': 14446,\n",
       " 'for many': 4246,\n",
       " 'for instance': 4235,\n",
       " 'that aren': 11259,\n",
       " 'so here': 10513,\n",
       " 'here is': 5297,\n",
       " 'it very': 6445,\n",
       " 'and hope': 713,\n",
       " 'enjoy it': 3679,\n",
       " 'it too': 6429,\n",
       " 'to see that': 12977,\n",
       " 'funny': 4477,\n",
       " 'practically': 9267,\n",
       " 'impossible': 5662,\n",
       " 'sheet': 10293,\n",
       " 'form': 4345,\n",
       " 'light': 6943,\n",
       " 'inspired': 5896,\n",
       " 'your': 14930,\n",
       " 'recipe': 9682,\n",
       " 'wing': 14316,\n",
       " 'used': 13492,\n",
       " 'pre': 9271,\n",
       " 'mini': 7597,\n",
       " 'came': 2230,\n",
       " 'entirely': 3699,\n",
       " 'texture': 11205,\n",
       " 'll': 7065,\n",
       " 'again': 352,\n",
       " 'idea': 5519,\n",
       " 'find this': 4082,\n",
       " 'us and': 13468,\n",
       " 'and find': 675,\n",
       " 'find it': 4072,\n",
       " 'impossible to': 5663,\n",
       " 'to find': 12787,\n",
       " 'by your': 2208,\n",
       " 'it with': 6470,\n",
       " 'with what': 14398,\n",
       " 'what could': 14020,\n",
       " 'could find': 2835,\n",
       " 'came out': 2236,\n",
       " 'like in': 6965,\n",
       " 'but still': 2134,\n",
       " 'and ll': 747,\n",
       " 'll be': 7067,\n",
       " 'them and': 12082,\n",
       " 'and trying': 878,\n",
       " 'thanks for': 11234,\n",
       " 'for the': 4286,\n",
       " 'the idea': 11709,\n",
       " 'in the us': 5807,\n",
       " 'thanks for the': 11236,\n",
       " 'figured': 4045,\n",
       " 'easier': 3559,\n",
       " 'those': 12516,\n",
       " 'zero': 14993,\n",
       " 'posts': 9246,\n",
       " 'from': 4407,\n",
       " 'keto': 6674,\n",
       " 'front': 4439,\n",
       " 'page': 8858,\n",
       " 'under': 13319,\n",
       " 'impression': 5665,\n",
       " 'easiest': 3563,\n",
       " 'thing': 12307,\n",
       " 'replace': 9787,\n",
       " 'use': 13477,\n",
       " 'know but': 6721,\n",
       " 'figured it': 4046,\n",
       " 'would be': 14505,\n",
       " 'be easier': 1566,\n",
       " 'easier to': 3562,\n",
       " 'to those': 13038,\n",
       " 'you did': 14709,\n",
       " 'than it': 11212,\n",
       " 'is for': 6038,\n",
       " 'on the': 8498,\n",
       " 'the front': 11659,\n",
       " 'front page': 4442,\n",
       " 'so was': 10561,\n",
       " 'under the': 13321,\n",
       " 'the impression': 11713,\n",
       " 'that was': 11432,\n",
       " 'too and': 13106,\n",
       " 'all have': 411,\n",
       " 'have them': 5107,\n",
       " 'them but': 12088,\n",
       " 'but that': 2136,\n",
       " 'that the': 11404,\n",
       " 'the easiest': 11614,\n",
       " 'thing to': 12320,\n",
       " 'to replace': 12964,\n",
       " 'didn even': 3177,\n",
       " 'use them': 13488,\n",
       " 'it would be': 6482,\n",
       " 'report': 9796,\n",
       " 'delete': 3081,\n",
       " 'comment': 2653,\n",
       " 'source': 10699,\n",
       " 'code': 2586,\n",
       " 'contact': 2762,\n",
       " 'developer': 3147,\n",
       " 'oh': 8431,\n",
       " 'read': 9591,\n",
       " 'two': 13284,\n",
       " 'forms': 4351,\n",
       " 'simple': 10404,\n",
       " 'either': 3610,\n",
       " 'hard': 4972,\n",
       " 'typically': 13301,\n",
       " 'place': 9083,\n",
       " 'exactly': 3811,\n",
       " 'same': 10009,\n",
       " 'according': 247,\n",
       " 'wikipedia': 14249,\n",
       " 'but ve': 2155,\n",
       " 've never': 13565,\n",
       " 'seen it': 10186,\n",
       " 'it in': 6309,\n",
       " 'from what': 4434,\n",
       " 'what ve': 14060,\n",
       " 've read': 13572,\n",
       " 'between the': 1826,\n",
       " 'the two': 12023,\n",
       " 'is no': 6092,\n",
       " 'url as': 13436,\n",
       " 'as for': 1202,\n",
       " 'haven seen': 5141,\n",
       " 'too hard': 13112,\n",
       " 'here we': 5307,\n",
       " 'we use': 13917,\n",
       " 'in their': 5810,\n",
       " 'it not': 6360,\n",
       " 'not exactly': 8109,\n",
       " 'exactly the': 3813,\n",
       " 'the same': 11931,\n",
       " 'according to': 248,\n",
       " 'and more': 764,\n",
       " 've never seen': 13568,\n",
       " 'from what ve': 4435,\n",
       " 'between the two': 1827,\n",
       " 'but it not': 2097,\n",
       " 'exactly the same': 3814,\n",
       " 'described': 3114,\n",
       " 'meal': 7462,\n",
       " 'sweet': 11046,\n",
       " 'known': 6757,\n",
       " 'american': 557,\n",
       " 'english': 3677,\n",
       " 'united': 13342,\n",
       " 'kingdom': 6702,\n",
       " 'popular': 9208,\n",
       " 'term': 11188,\n",
       " 'belief': 1770,\n",
       " 'properties': 9400,\n",
       " 'due': 3526,\n",
       " 'were': 13993,\n",
       " 'developed': 3146,\n",
       " 'existed': 3843,\n",
       " 'prior': 9336,\n",
       " 'baking': 1490,\n",
       " ...}"
      ]
     },
     "execution_count": 158,
     "metadata": {},
     "output_type": "execute_result"
    }
   ],
   "source": [
    "vectorizer.vocabulary_"
   ]
  },
  {
   "cell_type": "code",
   "execution_count": 148,
   "metadata": {},
   "outputs": [
    {
     "name": "stdout",
     "output_type": "stream",
     "text": [
      "              precision    recall  f1-score   support\n",
      "\n",
      "           0       0.51      0.26      0.35      1265\n",
      "           1       0.44      0.09      0.15       311\n",
      "           2       0.47      0.88      0.62      8520\n",
      "           3       0.70      0.55      0.61      1928\n",
      "           4       0.38      0.04      0.07       858\n",
      "           5       0.32      0.10      0.15      4300\n",
      "           6       0.08      0.00      0.00       686\n",
      "           7       0.33      0.04      0.07       552\n",
      "           8       0.73      0.04      0.07       713\n",
      "           9       0.68      0.58      0.62      3519\n",
      "\n",
      "   micro avg       0.51      0.51      0.51     22652\n",
      "   macro avg       0.46      0.26      0.27     22652\n",
      "weighted avg       0.49      0.51      0.44     22652\n",
      " samples avg       0.51      0.51      0.51     22652\n",
      "\n"
     ]
    }
   ],
   "source": [
    "print(classification_report(y_test_lb, pred_lb))"
   ]
  },
  {
   "cell_type": "code",
   "execution_count": 149,
   "metadata": {},
   "outputs": [
    {
     "name": "stdout",
     "output_type": "stream",
     "text": [
      "                  precision    recall  f1-score   support\n",
      "\n",
      "       agreement       0.51      0.26      0.35      1265\n",
      "    announcement       0.44      0.09      0.15       311\n",
      "          answer       0.47      0.88      0.62      8520\n",
      "    appreciation       0.70      0.55      0.61      1928\n",
      "    disagreement       0.38      0.04      0.07       858\n",
      "     elaboration       0.32      0.10      0.15      4300\n",
      "           humor       0.08      0.00      0.00       686\n",
      "negativereaction       0.33      0.04      0.07       552\n",
      "           other       0.73      0.04      0.07       713\n",
      "        question       0.68      0.58      0.62      3519\n",
      "\n",
      "        accuracy                           0.51     22652\n",
      "       macro avg       0.46      0.26      0.27     22652\n",
      "    weighted avg       0.49      0.51      0.44     22652\n",
      "\n"
     ]
    }
   ],
   "source": [
    "print(classification_report(y_test, y_pred))"
   ]
  },
  {
   "cell_type": "code",
   "execution_count": 112,
   "metadata": {},
   "outputs": [],
   "source": [
    "output = pd.DataFrame()\n",
    "output['expected'] = y_test\n",
    "output['predicted'] = X_pred"
   ]
  },
  {
   "cell_type": "code",
   "execution_count": 115,
   "metadata": {},
   "outputs": [
    {
     "data": {
      "text/plain": [
       "Counter({'answer': 8520,\n",
       "         'elaboration': 4300,\n",
       "         'question': 3519,\n",
       "         'announcement': 311,\n",
       "         'other': 713,\n",
       "         'appreciation': 1928,\n",
       "         'disagreement': 858,\n",
       "         'agreement': 1265,\n",
       "         'negativereaction': 552,\n",
       "         'humor': 686})"
      ]
     },
     "execution_count": 115,
     "metadata": {},
     "output_type": "execute_result"
    }
   ],
   "source": [
    "from collections import Counter\n",
    "Counter(y_test)"
   ]
  },
  {
   "cell_type": "code",
   "execution_count": 125,
   "metadata": {},
   "outputs": [],
   "source": [
    "from sklearn_crfsuite import metrics"
   ]
  },
  {
   "cell_type": "code",
   "execution_count": 233,
   "metadata": {},
   "outputs": [
    {
     "data": {
      "text/plain": [
       "{'post_depth': 6,\n",
       " 'majority_type': 'question',\n",
       " 'majority_link': 't1_d206qne',\n",
       " 'annotation-types': ['question', 'question', 'question'],\n",
       " 'annotation-links': ['t1_d206qne', 't1_d206qne', 't1_d206qne'],\n",
       " 'ups': 1,\n",
       " 'cleaned': \"wouldn't it be better with spd/cd/atk?\",\n",
       " 'is-reply': 1,\n",
       " 'post_depth_norm': 0.2608695652173913,\n",
       " 'num_sentences': 1,\n",
       " 'num_tokens': 15,\n",
       " 'num_chars': 38,\n",
       " 'prev_post_depth_norm': 0.21739130434782608,\n",
       " 'prev_num_sentences': 1,\n",
       " 'prev_num_tokens': 15,\n",
       " 'prev_num_chars': 58,\n",
       " 'is-post': 0}"
      ]
     },
     "execution_count": 233,
     "metadata": {},
     "output_type": "execute_result"
    }
   ],
   "source": []
  },
  {
   "cell_type": "code",
   "execution_count": 127,
   "metadata": {},
   "outputs": [
    {
     "data": {
      "text/plain": [
       "22652"
      ]
     },
     "execution_count": 127,
     "metadata": {},
     "output_type": "execute_result"
    }
   ],
   "source": [
    "len(y_test)"
   ]
  },
  {
   "cell_type": "code",
   "execution_count": 128,
   "metadata": {},
   "outputs": [
    {
     "data": {
      "text/plain": [
       "22652"
      ]
     },
     "execution_count": 128,
     "metadata": {},
     "output_type": "execute_result"
    }
   ],
   "source": [
    "len(X_pred)"
   ]
  },
  {
   "cell_type": "code",
   "execution_count": 130,
   "metadata": {},
   "outputs": [
    {
     "data": {
      "text/plain": [
       "(22652,)"
      ]
     },
     "execution_count": 130,
     "metadata": {},
     "output_type": "execute_result"
    }
   ],
   "source": [
    "X_pred.shape"
   ]
  },
  {
   "cell_type": "code",
   "execution_count": 131,
   "metadata": {},
   "outputs": [
    {
     "ename": "AttributeError",
     "evalue": "'list' object has no attribute 'shape'",
     "output_type": "error",
     "traceback": [
      "\u001b[0;31m---------------------------------------------------------------------------\u001b[0m",
      "\u001b[0;31mAttributeError\u001b[0m                            Traceback (most recent call last)",
      "\u001b[0;32m<ipython-input-131-4f30429c224a>\u001b[0m in \u001b[0;36m<module>\u001b[0;34m\u001b[0m\n\u001b[0;32m----> 1\u001b[0;31m \u001b[0my_test\u001b[0m\u001b[0;34m.\u001b[0m\u001b[0mshape\u001b[0m\u001b[0;34m\u001b[0m\u001b[0;34m\u001b[0m\u001b[0m\n\u001b[0m",
      "\u001b[0;31mAttributeError\u001b[0m: 'list' object has no attribute 'shape'"
     ]
    }
   ],
   "source": []
  },
  {
   "cell_type": "code",
   "execution_count": 129,
   "metadata": {},
   "outputs": [
    {
     "ename": "ValueError",
     "evalue": "Found input variables with inconsistent numbers of samples: [190948, 161197]",
     "output_type": "error",
     "traceback": [
      "\u001b[0;31m---------------------------------------------------------------------------\u001b[0m",
      "\u001b[0;31mValueError\u001b[0m                                Traceback (most recent call last)",
      "\u001b[0;32m<ipython-input-129-544165140f23>\u001b[0m in \u001b[0;36m<module>\u001b[0;34m\u001b[0m\n\u001b[0;32m----> 1\u001b[0;31m \u001b[0mprint\u001b[0m\u001b[0;34m(\u001b[0m\u001b[0mmetrics\u001b[0m\u001b[0;34m.\u001b[0m\u001b[0mflat_classification_report\u001b[0m\u001b[0;34m(\u001b[0m\u001b[0my_test\u001b[0m\u001b[0;34m,\u001b[0m \u001b[0mX_pred\u001b[0m\u001b[0;34m)\u001b[0m\u001b[0;34m)\u001b[0m\u001b[0;34m\u001b[0m\u001b[0;34m\u001b[0m\u001b[0m\n\u001b[0m",
      "\u001b[0;32m/Library/Frameworks/Python.framework/Versions/3.7/lib/python3.7/site-packages/sklearn_crfsuite/metrics.py\u001b[0m in \u001b[0;36mwrapper\u001b[0;34m(y_true, y_pred, *args, **kwargs)\u001b[0m\n\u001b[1;32m     11\u001b[0m         \u001b[0my_true_flat\u001b[0m \u001b[0;34m=\u001b[0m \u001b[0mflatten\u001b[0m\u001b[0;34m(\u001b[0m\u001b[0my_true\u001b[0m\u001b[0;34m)\u001b[0m\u001b[0;34m\u001b[0m\u001b[0;34m\u001b[0m\u001b[0m\n\u001b[1;32m     12\u001b[0m         \u001b[0my_pred_flat\u001b[0m \u001b[0;34m=\u001b[0m \u001b[0mflatten\u001b[0m\u001b[0;34m(\u001b[0m\u001b[0my_pred\u001b[0m\u001b[0;34m)\u001b[0m\u001b[0;34m\u001b[0m\u001b[0;34m\u001b[0m\u001b[0m\n\u001b[0;32m---> 13\u001b[0;31m         \u001b[0;32mreturn\u001b[0m \u001b[0mfunc\u001b[0m\u001b[0;34m(\u001b[0m\u001b[0my_true_flat\u001b[0m\u001b[0;34m,\u001b[0m \u001b[0my_pred_flat\u001b[0m\u001b[0;34m,\u001b[0m \u001b[0;34m*\u001b[0m\u001b[0margs\u001b[0m\u001b[0;34m,\u001b[0m \u001b[0;34m**\u001b[0m\u001b[0mkwargs\u001b[0m\u001b[0;34m)\u001b[0m\u001b[0;34m\u001b[0m\u001b[0;34m\u001b[0m\u001b[0m\n\u001b[0m\u001b[1;32m     14\u001b[0m     \u001b[0;32mreturn\u001b[0m \u001b[0mwrapper\u001b[0m\u001b[0;34m\u001b[0m\u001b[0;34m\u001b[0m\u001b[0m\n\u001b[1;32m     15\u001b[0m \u001b[0;34m\u001b[0m\u001b[0m\n",
      "\u001b[0;32m/Library/Frameworks/Python.framework/Versions/3.7/lib/python3.7/site-packages/sklearn_crfsuite/metrics.py\u001b[0m in \u001b[0;36mflat_classification_report\u001b[0;34m(y_true, y_pred, labels, **kwargs)\u001b[0m\n\u001b[1;32m     66\u001b[0m     \"\"\"\n\u001b[1;32m     67\u001b[0m     \u001b[0;32mfrom\u001b[0m \u001b[0msklearn\u001b[0m \u001b[0;32mimport\u001b[0m \u001b[0mmetrics\u001b[0m\u001b[0;34m\u001b[0m\u001b[0;34m\u001b[0m\u001b[0m\n\u001b[0;32m---> 68\u001b[0;31m     \u001b[0;32mreturn\u001b[0m \u001b[0mmetrics\u001b[0m\u001b[0;34m.\u001b[0m\u001b[0mclassification_report\u001b[0m\u001b[0;34m(\u001b[0m\u001b[0my_true\u001b[0m\u001b[0;34m,\u001b[0m \u001b[0my_pred\u001b[0m\u001b[0;34m,\u001b[0m \u001b[0mlabels\u001b[0m\u001b[0;34m,\u001b[0m \u001b[0;34m**\u001b[0m\u001b[0mkwargs\u001b[0m\u001b[0;34m)\u001b[0m\u001b[0;34m\u001b[0m\u001b[0;34m\u001b[0m\u001b[0m\n\u001b[0m\u001b[1;32m     69\u001b[0m \u001b[0;34m\u001b[0m\u001b[0m\n\u001b[1;32m     70\u001b[0m \u001b[0;34m\u001b[0m\u001b[0m\n",
      "\u001b[0;32m/Library/Frameworks/Python.framework/Versions/3.7/lib/python3.7/site-packages/sklearn/metrics/_classification.py\u001b[0m in \u001b[0;36mclassification_report\u001b[0;34m(y_true, y_pred, labels, target_names, sample_weight, digits, output_dict, zero_division)\u001b[0m\n\u001b[1;32m   1969\u001b[0m     \"\"\"\n\u001b[1;32m   1970\u001b[0m \u001b[0;34m\u001b[0m\u001b[0m\n\u001b[0;32m-> 1971\u001b[0;31m     \u001b[0my_type\u001b[0m\u001b[0;34m,\u001b[0m \u001b[0my_true\u001b[0m\u001b[0;34m,\u001b[0m \u001b[0my_pred\u001b[0m \u001b[0;34m=\u001b[0m \u001b[0m_check_targets\u001b[0m\u001b[0;34m(\u001b[0m\u001b[0my_true\u001b[0m\u001b[0;34m,\u001b[0m \u001b[0my_pred\u001b[0m\u001b[0;34m)\u001b[0m\u001b[0;34m\u001b[0m\u001b[0;34m\u001b[0m\u001b[0m\n\u001b[0m\u001b[1;32m   1972\u001b[0m \u001b[0;34m\u001b[0m\u001b[0m\n\u001b[1;32m   1973\u001b[0m     \u001b[0mlabels_given\u001b[0m \u001b[0;34m=\u001b[0m \u001b[0;32mTrue\u001b[0m\u001b[0;34m\u001b[0m\u001b[0;34m\u001b[0m\u001b[0m\n",
      "\u001b[0;32m/Library/Frameworks/Python.framework/Versions/3.7/lib/python3.7/site-packages/sklearn/metrics/_classification.py\u001b[0m in \u001b[0;36m_check_targets\u001b[0;34m(y_true, y_pred)\u001b[0m\n\u001b[1;32m     78\u001b[0m     \u001b[0my_pred\u001b[0m \u001b[0;34m:\u001b[0m \u001b[0marray\u001b[0m \u001b[0;32mor\u001b[0m \u001b[0mindicator\u001b[0m \u001b[0mmatrix\u001b[0m\u001b[0;34m\u001b[0m\u001b[0;34m\u001b[0m\u001b[0m\n\u001b[1;32m     79\u001b[0m     \"\"\"\n\u001b[0;32m---> 80\u001b[0;31m     \u001b[0mcheck_consistent_length\u001b[0m\u001b[0;34m(\u001b[0m\u001b[0my_true\u001b[0m\u001b[0;34m,\u001b[0m \u001b[0my_pred\u001b[0m\u001b[0;34m)\u001b[0m\u001b[0;34m\u001b[0m\u001b[0;34m\u001b[0m\u001b[0m\n\u001b[0m\u001b[1;32m     81\u001b[0m     \u001b[0mtype_true\u001b[0m \u001b[0;34m=\u001b[0m \u001b[0mtype_of_target\u001b[0m\u001b[0;34m(\u001b[0m\u001b[0my_true\u001b[0m\u001b[0;34m)\u001b[0m\u001b[0;34m\u001b[0m\u001b[0;34m\u001b[0m\u001b[0m\n\u001b[1;32m     82\u001b[0m     \u001b[0mtype_pred\u001b[0m \u001b[0;34m=\u001b[0m \u001b[0mtype_of_target\u001b[0m\u001b[0;34m(\u001b[0m\u001b[0my_pred\u001b[0m\u001b[0;34m)\u001b[0m\u001b[0;34m\u001b[0m\u001b[0;34m\u001b[0m\u001b[0m\n",
      "\u001b[0;32m/Library/Frameworks/Python.framework/Versions/3.7/lib/python3.7/site-packages/sklearn/utils/validation.py\u001b[0m in \u001b[0;36mcheck_consistent_length\u001b[0;34m(*arrays)\u001b[0m\n\u001b[1;32m    210\u001b[0m     \u001b[0;32mif\u001b[0m \u001b[0mlen\u001b[0m\u001b[0;34m(\u001b[0m\u001b[0muniques\u001b[0m\u001b[0;34m)\u001b[0m \u001b[0;34m>\u001b[0m \u001b[0;36m1\u001b[0m\u001b[0;34m:\u001b[0m\u001b[0;34m\u001b[0m\u001b[0;34m\u001b[0m\u001b[0m\n\u001b[1;32m    211\u001b[0m         raise ValueError(\"Found input variables with inconsistent numbers of\"\n\u001b[0;32m--> 212\u001b[0;31m                          \" samples: %r\" % [int(l) for l in lengths])\n\u001b[0m\u001b[1;32m    213\u001b[0m \u001b[0;34m\u001b[0m\u001b[0m\n\u001b[1;32m    214\u001b[0m \u001b[0;34m\u001b[0m\u001b[0m\n",
      "\u001b[0;31mValueError\u001b[0m: Found input variables with inconsistent numbers of samples: [190948, 161197]"
     ]
    }
   ],
   "source": [
    "print(metrics.flat_classification_report(y_test, X_pred))"
   ]
  },
  {
   "cell_type": "code",
   "execution_count": null,
   "metadata": {},
   "outputs": [],
   "source": []
  },
  {
   "cell_type": "code",
   "execution_count": null,
   "metadata": {},
   "outputs": [],
   "source": []
  },
  {
   "cell_type": "code",
   "execution_count": 118,
   "metadata": {},
   "outputs": [],
   "source": [
    "ids = [utt.id for utt in corpus.iter_utterances()]"
   ]
  },
  {
   "cell_type": "code",
   "execution_count": 120,
   "metadata": {},
   "outputs": [
    {
     "data": {
      "text/plain": [
       "113256"
      ]
     },
     "execution_count": 120,
     "metadata": {},
     "output_type": "execute_result"
    }
   ],
   "source": [
    "len(ids)"
   ]
  },
  {
   "cell_type": "code",
   "execution_count": 121,
   "metadata": {},
   "outputs": [
    {
     "data": {
      "text/plain": [
       "22652"
      ]
     },
     "execution_count": 121,
     "metadata": {},
     "output_type": "execute_result"
    }
   ],
   "source": [
    "len(y_test)"
   ]
  },
  {
   "cell_type": "code",
   "execution_count": 119,
   "metadata": {},
   "outputs": [
    {
     "ename": "ValueError",
     "evalue": "Length of values does not match length of index",
     "output_type": "error",
     "traceback": [
      "\u001b[0;31m---------------------------------------------------------------------------\u001b[0m",
      "\u001b[0;31mValueError\u001b[0m                                Traceback (most recent call last)",
      "\u001b[0;32m<ipython-input-119-8232995d76b1>\u001b[0m in \u001b[0;36m<module>\u001b[0;34m\u001b[0m\n\u001b[0;32m----> 1\u001b[0;31m \u001b[0moutput\u001b[0m\u001b[0;34m[\u001b[0m\u001b[0;34m'id'\u001b[0m\u001b[0;34m]\u001b[0m \u001b[0;34m=\u001b[0m \u001b[0mids\u001b[0m\u001b[0;34m\u001b[0m\u001b[0;34m\u001b[0m\u001b[0m\n\u001b[0m",
      "\u001b[0;32m/Library/Frameworks/Python.framework/Versions/3.7/lib/python3.7/site-packages/pandas/core/frame.py\u001b[0m in \u001b[0;36m__setitem__\u001b[0;34m(self, key, value)\u001b[0m\n\u001b[1;32m   3368\u001b[0m         \u001b[0;32melse\u001b[0m\u001b[0;34m:\u001b[0m\u001b[0;34m\u001b[0m\u001b[0;34m\u001b[0m\u001b[0m\n\u001b[1;32m   3369\u001b[0m             \u001b[0;31m# set column\u001b[0m\u001b[0;34m\u001b[0m\u001b[0;34m\u001b[0m\u001b[0;34m\u001b[0m\u001b[0m\n\u001b[0;32m-> 3370\u001b[0;31m             \u001b[0mself\u001b[0m\u001b[0;34m.\u001b[0m\u001b[0m_set_item\u001b[0m\u001b[0;34m(\u001b[0m\u001b[0mkey\u001b[0m\u001b[0;34m,\u001b[0m \u001b[0mvalue\u001b[0m\u001b[0;34m)\u001b[0m\u001b[0;34m\u001b[0m\u001b[0;34m\u001b[0m\u001b[0m\n\u001b[0m\u001b[1;32m   3371\u001b[0m \u001b[0;34m\u001b[0m\u001b[0m\n\u001b[1;32m   3372\u001b[0m     \u001b[0;32mdef\u001b[0m \u001b[0m_setitem_slice\u001b[0m\u001b[0;34m(\u001b[0m\u001b[0mself\u001b[0m\u001b[0;34m,\u001b[0m \u001b[0mkey\u001b[0m\u001b[0;34m,\u001b[0m \u001b[0mvalue\u001b[0m\u001b[0;34m)\u001b[0m\u001b[0;34m:\u001b[0m\u001b[0;34m\u001b[0m\u001b[0;34m\u001b[0m\u001b[0m\n",
      "\u001b[0;32m/Library/Frameworks/Python.framework/Versions/3.7/lib/python3.7/site-packages/pandas/core/frame.py\u001b[0m in \u001b[0;36m_set_item\u001b[0;34m(self, key, value)\u001b[0m\n\u001b[1;32m   3443\u001b[0m \u001b[0;34m\u001b[0m\u001b[0m\n\u001b[1;32m   3444\u001b[0m         \u001b[0mself\u001b[0m\u001b[0;34m.\u001b[0m\u001b[0m_ensure_valid_index\u001b[0m\u001b[0;34m(\u001b[0m\u001b[0mvalue\u001b[0m\u001b[0;34m)\u001b[0m\u001b[0;34m\u001b[0m\u001b[0;34m\u001b[0m\u001b[0m\n\u001b[0;32m-> 3445\u001b[0;31m         \u001b[0mvalue\u001b[0m \u001b[0;34m=\u001b[0m \u001b[0mself\u001b[0m\u001b[0;34m.\u001b[0m\u001b[0m_sanitize_column\u001b[0m\u001b[0;34m(\u001b[0m\u001b[0mkey\u001b[0m\u001b[0;34m,\u001b[0m \u001b[0mvalue\u001b[0m\u001b[0;34m)\u001b[0m\u001b[0;34m\u001b[0m\u001b[0;34m\u001b[0m\u001b[0m\n\u001b[0m\u001b[1;32m   3446\u001b[0m         \u001b[0mNDFrame\u001b[0m\u001b[0;34m.\u001b[0m\u001b[0m_set_item\u001b[0m\u001b[0;34m(\u001b[0m\u001b[0mself\u001b[0m\u001b[0;34m,\u001b[0m \u001b[0mkey\u001b[0m\u001b[0;34m,\u001b[0m \u001b[0mvalue\u001b[0m\u001b[0;34m)\u001b[0m\u001b[0;34m\u001b[0m\u001b[0;34m\u001b[0m\u001b[0m\n\u001b[1;32m   3447\u001b[0m \u001b[0;34m\u001b[0m\u001b[0m\n",
      "\u001b[0;32m/Library/Frameworks/Python.framework/Versions/3.7/lib/python3.7/site-packages/pandas/core/frame.py\u001b[0m in \u001b[0;36m_sanitize_column\u001b[0;34m(self, key, value, broadcast)\u001b[0m\n\u001b[1;32m   3628\u001b[0m \u001b[0;34m\u001b[0m\u001b[0m\n\u001b[1;32m   3629\u001b[0m             \u001b[0;31m# turn me into an ndarray\u001b[0m\u001b[0;34m\u001b[0m\u001b[0;34m\u001b[0m\u001b[0;34m\u001b[0m\u001b[0m\n\u001b[0;32m-> 3630\u001b[0;31m             \u001b[0mvalue\u001b[0m \u001b[0;34m=\u001b[0m \u001b[0msanitize_index\u001b[0m\u001b[0;34m(\u001b[0m\u001b[0mvalue\u001b[0m\u001b[0;34m,\u001b[0m \u001b[0mself\u001b[0m\u001b[0;34m.\u001b[0m\u001b[0mindex\u001b[0m\u001b[0;34m,\u001b[0m \u001b[0mcopy\u001b[0m\u001b[0;34m=\u001b[0m\u001b[0;32mFalse\u001b[0m\u001b[0;34m)\u001b[0m\u001b[0;34m\u001b[0m\u001b[0;34m\u001b[0m\u001b[0m\n\u001b[0m\u001b[1;32m   3631\u001b[0m             \u001b[0;32mif\u001b[0m \u001b[0;32mnot\u001b[0m \u001b[0misinstance\u001b[0m\u001b[0;34m(\u001b[0m\u001b[0mvalue\u001b[0m\u001b[0;34m,\u001b[0m \u001b[0;34m(\u001b[0m\u001b[0mnp\u001b[0m\u001b[0;34m.\u001b[0m\u001b[0mndarray\u001b[0m\u001b[0;34m,\u001b[0m \u001b[0mIndex\u001b[0m\u001b[0;34m)\u001b[0m\u001b[0;34m)\u001b[0m\u001b[0;34m:\u001b[0m\u001b[0;34m\u001b[0m\u001b[0;34m\u001b[0m\u001b[0m\n\u001b[1;32m   3632\u001b[0m                 \u001b[0;32mif\u001b[0m \u001b[0misinstance\u001b[0m\u001b[0;34m(\u001b[0m\u001b[0mvalue\u001b[0m\u001b[0;34m,\u001b[0m \u001b[0mlist\u001b[0m\u001b[0;34m)\u001b[0m \u001b[0;32mand\u001b[0m \u001b[0mlen\u001b[0m\u001b[0;34m(\u001b[0m\u001b[0mvalue\u001b[0m\u001b[0;34m)\u001b[0m \u001b[0;34m>\u001b[0m \u001b[0;36m0\u001b[0m\u001b[0;34m:\u001b[0m\u001b[0;34m\u001b[0m\u001b[0;34m\u001b[0m\u001b[0m\n",
      "\u001b[0;32m/Library/Frameworks/Python.framework/Versions/3.7/lib/python3.7/site-packages/pandas/core/internals/construction.py\u001b[0m in \u001b[0;36msanitize_index\u001b[0;34m(data, index, copy)\u001b[0m\n\u001b[1;32m    517\u001b[0m \u001b[0;34m\u001b[0m\u001b[0m\n\u001b[1;32m    518\u001b[0m     \u001b[0;32mif\u001b[0m \u001b[0mlen\u001b[0m\u001b[0;34m(\u001b[0m\u001b[0mdata\u001b[0m\u001b[0;34m)\u001b[0m \u001b[0;34m!=\u001b[0m \u001b[0mlen\u001b[0m\u001b[0;34m(\u001b[0m\u001b[0mindex\u001b[0m\u001b[0;34m)\u001b[0m\u001b[0;34m:\u001b[0m\u001b[0;34m\u001b[0m\u001b[0;34m\u001b[0m\u001b[0m\n\u001b[0;32m--> 519\u001b[0;31m         \u001b[0;32mraise\u001b[0m \u001b[0mValueError\u001b[0m\u001b[0;34m(\u001b[0m\u001b[0;34m'Length of values does not match length of index'\u001b[0m\u001b[0;34m)\u001b[0m\u001b[0;34m\u001b[0m\u001b[0;34m\u001b[0m\u001b[0m\n\u001b[0m\u001b[1;32m    520\u001b[0m \u001b[0;34m\u001b[0m\u001b[0m\n\u001b[1;32m    521\u001b[0m     \u001b[0;32mif\u001b[0m \u001b[0misinstance\u001b[0m\u001b[0;34m(\u001b[0m\u001b[0mdata\u001b[0m\u001b[0;34m,\u001b[0m \u001b[0mABCIndexClass\u001b[0m\u001b[0;34m)\u001b[0m \u001b[0;32mand\u001b[0m \u001b[0;32mnot\u001b[0m \u001b[0mcopy\u001b[0m\u001b[0;34m:\u001b[0m\u001b[0;34m\u001b[0m\u001b[0;34m\u001b[0m\u001b[0m\n",
      "\u001b[0;31mValueError\u001b[0m: Length of values does not match length of index"
     ]
    }
   ],
   "source": [
    "output['id'] = ids"
   ]
  },
  {
   "cell_type": "code",
   "execution_count": 114,
   "metadata": {},
   "outputs": [
    {
     "data": {
      "text/html": [
       "<div>\n",
       "<style scoped>\n",
       "    .dataframe tbody tr th:only-of-type {\n",
       "        vertical-align: middle;\n",
       "    }\n",
       "\n",
       "    .dataframe tbody tr th {\n",
       "        vertical-align: top;\n",
       "    }\n",
       "\n",
       "    .dataframe thead th {\n",
       "        text-align: right;\n",
       "    }\n",
       "</style>\n",
       "<table border=\"1\" class=\"dataframe\">\n",
       "  <thead>\n",
       "    <tr style=\"text-align: right;\">\n",
       "      <th></th>\n",
       "      <th>expected</th>\n",
       "      <th>predicted</th>\n",
       "    </tr>\n",
       "  </thead>\n",
       "  <tbody>\n",
       "    <tr>\n",
       "      <th>0</th>\n",
       "      <td>answer</td>\n",
       "      <td>answer</td>\n",
       "    </tr>\n",
       "    <tr>\n",
       "      <th>1</th>\n",
       "      <td>answer</td>\n",
       "      <td>answer</td>\n",
       "    </tr>\n",
       "    <tr>\n",
       "      <th>2</th>\n",
       "      <td>answer</td>\n",
       "      <td>appreciation</td>\n",
       "    </tr>\n",
       "    <tr>\n",
       "      <th>3</th>\n",
       "      <td>answer</td>\n",
       "      <td>answer</td>\n",
       "    </tr>\n",
       "    <tr>\n",
       "      <th>4</th>\n",
       "      <td>elaboration</td>\n",
       "      <td>answer</td>\n",
       "    </tr>\n",
       "    <tr>\n",
       "      <th>5</th>\n",
       "      <td>answer</td>\n",
       "      <td>answer</td>\n",
       "    </tr>\n",
       "    <tr>\n",
       "      <th>6</th>\n",
       "      <td>question</td>\n",
       "      <td>answer</td>\n",
       "    </tr>\n",
       "    <tr>\n",
       "      <th>7</th>\n",
       "      <td>announcement</td>\n",
       "      <td>question</td>\n",
       "    </tr>\n",
       "    <tr>\n",
       "      <th>8</th>\n",
       "      <td>other</td>\n",
       "      <td>answer</td>\n",
       "    </tr>\n",
       "    <tr>\n",
       "      <th>9</th>\n",
       "      <td>appreciation</td>\n",
       "      <td>appreciation</td>\n",
       "    </tr>\n",
       "    <tr>\n",
       "      <th>10</th>\n",
       "      <td>elaboration</td>\n",
       "      <td>answer</td>\n",
       "    </tr>\n",
       "    <tr>\n",
       "      <th>11</th>\n",
       "      <td>answer</td>\n",
       "      <td>answer</td>\n",
       "    </tr>\n",
       "    <tr>\n",
       "      <th>12</th>\n",
       "      <td>appreciation</td>\n",
       "      <td>answer</td>\n",
       "    </tr>\n",
       "    <tr>\n",
       "      <th>13</th>\n",
       "      <td>question</td>\n",
       "      <td>answer</td>\n",
       "    </tr>\n",
       "    <tr>\n",
       "      <th>14</th>\n",
       "      <td>answer</td>\n",
       "      <td>answer</td>\n",
       "    </tr>\n",
       "    <tr>\n",
       "      <th>15</th>\n",
       "      <td>answer</td>\n",
       "      <td>answer</td>\n",
       "    </tr>\n",
       "    <tr>\n",
       "      <th>16</th>\n",
       "      <td>elaboration</td>\n",
       "      <td>answer</td>\n",
       "    </tr>\n",
       "    <tr>\n",
       "      <th>17</th>\n",
       "      <td>answer</td>\n",
       "      <td>answer</td>\n",
       "    </tr>\n",
       "    <tr>\n",
       "      <th>18</th>\n",
       "      <td>disagreement</td>\n",
       "      <td>answer</td>\n",
       "    </tr>\n",
       "    <tr>\n",
       "      <th>19</th>\n",
       "      <td>appreciation</td>\n",
       "      <td>answer</td>\n",
       "    </tr>\n",
       "    <tr>\n",
       "      <th>20</th>\n",
       "      <td>elaboration</td>\n",
       "      <td>answer</td>\n",
       "    </tr>\n",
       "    <tr>\n",
       "      <th>21</th>\n",
       "      <td>disagreement</td>\n",
       "      <td>answer</td>\n",
       "    </tr>\n",
       "    <tr>\n",
       "      <th>22</th>\n",
       "      <td>elaboration</td>\n",
       "      <td>answer</td>\n",
       "    </tr>\n",
       "    <tr>\n",
       "      <th>23</th>\n",
       "      <td>answer</td>\n",
       "      <td>answer</td>\n",
       "    </tr>\n",
       "    <tr>\n",
       "      <th>24</th>\n",
       "      <td>elaboration</td>\n",
       "      <td>answer</td>\n",
       "    </tr>\n",
       "    <tr>\n",
       "      <th>25</th>\n",
       "      <td>answer</td>\n",
       "      <td>answer</td>\n",
       "    </tr>\n",
       "    <tr>\n",
       "      <th>26</th>\n",
       "      <td>answer</td>\n",
       "      <td>question</td>\n",
       "    </tr>\n",
       "    <tr>\n",
       "      <th>27</th>\n",
       "      <td>agreement</td>\n",
       "      <td>answer</td>\n",
       "    </tr>\n",
       "    <tr>\n",
       "      <th>28</th>\n",
       "      <td>answer</td>\n",
       "      <td>answer</td>\n",
       "    </tr>\n",
       "    <tr>\n",
       "      <th>29</th>\n",
       "      <td>question</td>\n",
       "      <td>appreciation</td>\n",
       "    </tr>\n",
       "    <tr>\n",
       "      <th>...</th>\n",
       "      <td>...</td>\n",
       "      <td>...</td>\n",
       "    </tr>\n",
       "    <tr>\n",
       "      <th>70</th>\n",
       "      <td>agreement</td>\n",
       "      <td>answer</td>\n",
       "    </tr>\n",
       "    <tr>\n",
       "      <th>71</th>\n",
       "      <td>answer</td>\n",
       "      <td>answer</td>\n",
       "    </tr>\n",
       "    <tr>\n",
       "      <th>72</th>\n",
       "      <td>question</td>\n",
       "      <td>question</td>\n",
       "    </tr>\n",
       "    <tr>\n",
       "      <th>73</th>\n",
       "      <td>answer</td>\n",
       "      <td>answer</td>\n",
       "    </tr>\n",
       "    <tr>\n",
       "      <th>74</th>\n",
       "      <td>answer</td>\n",
       "      <td>question</td>\n",
       "    </tr>\n",
       "    <tr>\n",
       "      <th>75</th>\n",
       "      <td>question</td>\n",
       "      <td>question</td>\n",
       "    </tr>\n",
       "    <tr>\n",
       "      <th>76</th>\n",
       "      <td>answer</td>\n",
       "      <td>answer</td>\n",
       "    </tr>\n",
       "    <tr>\n",
       "      <th>77</th>\n",
       "      <td>elaboration</td>\n",
       "      <td>answer</td>\n",
       "    </tr>\n",
       "    <tr>\n",
       "      <th>78</th>\n",
       "      <td>answer</td>\n",
       "      <td>answer</td>\n",
       "    </tr>\n",
       "    <tr>\n",
       "      <th>79</th>\n",
       "      <td>elaboration</td>\n",
       "      <td>answer</td>\n",
       "    </tr>\n",
       "    <tr>\n",
       "      <th>80</th>\n",
       "      <td>question</td>\n",
       "      <td>question</td>\n",
       "    </tr>\n",
       "    <tr>\n",
       "      <th>81</th>\n",
       "      <td>appreciation</td>\n",
       "      <td>appreciation</td>\n",
       "    </tr>\n",
       "    <tr>\n",
       "      <th>82</th>\n",
       "      <td>elaboration</td>\n",
       "      <td>answer</td>\n",
       "    </tr>\n",
       "    <tr>\n",
       "      <th>83</th>\n",
       "      <td>answer</td>\n",
       "      <td>answer</td>\n",
       "    </tr>\n",
       "    <tr>\n",
       "      <th>84</th>\n",
       "      <td>elaboration</td>\n",
       "      <td>appreciation</td>\n",
       "    </tr>\n",
       "    <tr>\n",
       "      <th>85</th>\n",
       "      <td>humor</td>\n",
       "      <td>answer</td>\n",
       "    </tr>\n",
       "    <tr>\n",
       "      <th>86</th>\n",
       "      <td>question</td>\n",
       "      <td>question</td>\n",
       "    </tr>\n",
       "    <tr>\n",
       "      <th>87</th>\n",
       "      <td>appreciation</td>\n",
       "      <td>appreciation</td>\n",
       "    </tr>\n",
       "    <tr>\n",
       "      <th>88</th>\n",
       "      <td>elaboration</td>\n",
       "      <td>answer</td>\n",
       "    </tr>\n",
       "    <tr>\n",
       "      <th>89</th>\n",
       "      <td>question</td>\n",
       "      <td>question</td>\n",
       "    </tr>\n",
       "    <tr>\n",
       "      <th>90</th>\n",
       "      <td>disagreement</td>\n",
       "      <td>answer</td>\n",
       "    </tr>\n",
       "    <tr>\n",
       "      <th>91</th>\n",
       "      <td>answer</td>\n",
       "      <td>answer</td>\n",
       "    </tr>\n",
       "    <tr>\n",
       "      <th>92</th>\n",
       "      <td>question</td>\n",
       "      <td>answer</td>\n",
       "    </tr>\n",
       "    <tr>\n",
       "      <th>93</th>\n",
       "      <td>answer</td>\n",
       "      <td>answer</td>\n",
       "    </tr>\n",
       "    <tr>\n",
       "      <th>94</th>\n",
       "      <td>answer</td>\n",
       "      <td>answer</td>\n",
       "    </tr>\n",
       "    <tr>\n",
       "      <th>95</th>\n",
       "      <td>answer</td>\n",
       "      <td>answer</td>\n",
       "    </tr>\n",
       "    <tr>\n",
       "      <th>96</th>\n",
       "      <td>question</td>\n",
       "      <td>elaboration</td>\n",
       "    </tr>\n",
       "    <tr>\n",
       "      <th>97</th>\n",
       "      <td>elaboration</td>\n",
       "      <td>elaboration</td>\n",
       "    </tr>\n",
       "    <tr>\n",
       "      <th>98</th>\n",
       "      <td>elaboration</td>\n",
       "      <td>answer</td>\n",
       "    </tr>\n",
       "    <tr>\n",
       "      <th>99</th>\n",
       "      <td>answer</td>\n",
       "      <td>answer</td>\n",
       "    </tr>\n",
       "  </tbody>\n",
       "</table>\n",
       "<p>100 rows × 2 columns</p>\n",
       "</div>"
      ],
      "text/plain": [
       "        expected     predicted\n",
       "0         answer        answer\n",
       "1         answer        answer\n",
       "2         answer  appreciation\n",
       "3         answer        answer\n",
       "4    elaboration        answer\n",
       "5         answer        answer\n",
       "6       question        answer\n",
       "7   announcement      question\n",
       "8          other        answer\n",
       "9   appreciation  appreciation\n",
       "10   elaboration        answer\n",
       "11        answer        answer\n",
       "12  appreciation        answer\n",
       "13      question        answer\n",
       "14        answer        answer\n",
       "15        answer        answer\n",
       "16   elaboration        answer\n",
       "17        answer        answer\n",
       "18  disagreement        answer\n",
       "19  appreciation        answer\n",
       "20   elaboration        answer\n",
       "21  disagreement        answer\n",
       "22   elaboration        answer\n",
       "23        answer        answer\n",
       "24   elaboration        answer\n",
       "25        answer        answer\n",
       "26        answer      question\n",
       "27     agreement        answer\n",
       "28        answer        answer\n",
       "29      question  appreciation\n",
       "..           ...           ...\n",
       "70     agreement        answer\n",
       "71        answer        answer\n",
       "72      question      question\n",
       "73        answer        answer\n",
       "74        answer      question\n",
       "75      question      question\n",
       "76        answer        answer\n",
       "77   elaboration        answer\n",
       "78        answer        answer\n",
       "79   elaboration        answer\n",
       "80      question      question\n",
       "81  appreciation  appreciation\n",
       "82   elaboration        answer\n",
       "83        answer        answer\n",
       "84   elaboration  appreciation\n",
       "85         humor        answer\n",
       "86      question      question\n",
       "87  appreciation  appreciation\n",
       "88   elaboration        answer\n",
       "89      question      question\n",
       "90  disagreement        answer\n",
       "91        answer        answer\n",
       "92      question        answer\n",
       "93        answer        answer\n",
       "94        answer        answer\n",
       "95        answer        answer\n",
       "96      question   elaboration\n",
       "97   elaboration   elaboration\n",
       "98   elaboration        answer\n",
       "99        answer        answer\n",
       "\n",
       "[100 rows x 2 columns]"
      ]
     },
     "execution_count": 114,
     "metadata": {},
     "output_type": "execute_result"
    }
   ],
   "source": [
    "output.head(100)"
   ]
  },
  {
   "cell_type": "code",
   "execution_count": 86,
   "metadata": {},
   "outputs": [
    {
     "data": {
      "text/plain": [
       "{'post_depth': 1,\n",
       " 'majority_type': 'answer',\n",
       " 'majority_link': 't3_31gsg3',\n",
       " 'annotation-types': ['answer', 'answer', 'appreciation'],\n",
       " 'annotation-links': ['t3_31gsg3', 't3_31gsg3', 't3_31gsg3'],\n",
       " 'ups': 1,\n",
       " 'cleaned': \"should be fine. you'd probably be fine going pure fighter, but if you go wizard maybe transmuter and level into an odd str (since transmute would make that even and the other level up could go to con 14). traits: i love reactionary on every character, and magical knack if you splash wizard for extra duration* and stuff.\",\n",
       " 'is-reply': 1}"
      ]
     },
     "execution_count": 86,
     "metadata": {},
     "output_type": "execute_result"
    }
   ],
   "source": [
    "corpus.random_utterance().meta"
   ]
  },
  {
   "cell_type": "code",
   "execution_count": null,
   "metadata": {},
   "outputs": [],
   "source": []
  }
 ],
 "metadata": {
  "kernelspec": {
   "display_name": "Python 3",
   "language": "python",
   "name": "python3"
  },
  "language_info": {
   "codemirror_mode": {
    "name": "ipython",
    "version": 3
   },
   "file_extension": ".py",
   "mimetype": "text/x-python",
   "name": "python",
   "nbconvert_exporter": "python",
   "pygments_lexer": "ipython3",
   "version": "3.7.6"
  }
 },
 "nbformat": 4,
 "nbformat_minor": 2
}
