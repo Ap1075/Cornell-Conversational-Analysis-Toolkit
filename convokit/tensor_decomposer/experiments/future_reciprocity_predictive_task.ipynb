{
 "cells": [
  {
   "cell_type": "code",
   "execution_count": 1,
   "metadata": {},
   "outputs": [],
   "source": [
    "import os\n",
    "os.chdir('../../..')"
   ]
  },
  {
   "cell_type": "code",
   "execution_count": 2,
   "metadata": {},
   "outputs": [],
   "source": [
    "import convokit"
   ]
  },
  {
   "cell_type": "code",
   "execution_count": 3,
   "metadata": {},
   "outputs": [],
   "source": [
    "import matplotlib.pyplot as plt\n",
    "import numpy as np\n",
    "import pandas as pd"
   ]
  },
  {
   "cell_type": "code",
   "execution_count": 4,
   "metadata": {},
   "outputs": [],
   "source": [
    "from convokit import Corpus, HyperConvo, TensorDecomposer"
   ]
  },
  {
   "cell_type": "markdown",
   "metadata": {},
   "source": [
    "First we download the reddit corpus:"
   ]
  },
  {
   "cell_type": "code",
   "execution_count": 5,
   "metadata": {},
   "outputs": [],
   "source": [
    "# corpus = Corpus(filename=\"convokit/thread_generator/fake-corpus-trajectory-40\")\n",
    "corpus = Corpus(filename=\"convokit/thread_generator/annotated-fake-trajectory-experiment\")\n",
    "# corpus = Corpus(filename=\"convokit/tensor_decomposer/experiments/reddit-trajectory-subset-annotated\")"
   ]
  },
  {
   "cell_type": "code",
   "execution_count": 6,
   "metadata": {},
   "outputs": [
    {
     "name": "stdout",
     "output_type": "stream",
     "text": [
      "Number of Speakers: 40\n",
      "Number of Utterances: 375000\n",
      "Number of Conversations: 15000\n"
     ]
    }
   ],
   "source": [
    "corpus.print_summary_stats()"
   ]
  },
  {
   "cell_type": "code",
   "execution_count": 43,
   "metadata": {},
   "outputs": [],
   "source": [
    "hyperconv_range = range(2, 20+1)"
   ]
  },
  {
   "cell_type": "code",
   "execution_count": 8,
   "metadata": {},
   "outputs": [],
   "source": [
    "# def multi_hyperconv_transform(corpus, hyperconv_range):\n",
    "#     hc_transformers = [HyperConvo(prefix_len=i, feat_name=\"hyperconvo-{}\".format(i), invalid_val=-1) for i in hyperconv_range]\n",
    "#     for idx, hc in enumerate(list(reversed(hc_transformers))):\n",
    "#         print(hyperconv_range[-1]-idx)\n",
    "#         hc.transform(corpus)\n",
    "# multi_hyperconv_transform(corpus, hyperconv_range)\n",
    "# corpus.dump('annotated-fake-trajectory-40', base_path=\"convokit/thread_generator\")"
   ]
  },
  {
   "cell_type": "code",
   "execution_count": null,
   "metadata": {},
   "outputs": [],
   "source": []
  },
  {
   "cell_type": "code",
   "execution_count": 44,
   "metadata": {},
   "outputs": [],
   "source": [
    "# grown = 0\n",
    "# thresh = 1.5\n",
    "# for convo in corpus.iter_conversations():\n",
    "#     utts40 = convo.get_chronological_utterance_list()\n",
    "#     utts20 = utts40[:20]\n",
    "#     num_spkrs_20 = len(set(utt.speaker.id for utt in utts20))\n",
    "#     num_spkrs_40 = len(set(utt.speaker.id for utt in utts40))\n",
    "#     convo.meta['grown'] = (num_spkrs_40 / num_spkrs_20) >= thresh\n",
    "#     grown += (num_spkrs_40 / num_spkrs_20) >= thresh"
   ]
  },
  {
   "cell_type": "code",
   "execution_count": 8,
   "metadata": {},
   "outputs": [],
   "source": [
    "grown = 0\n",
    "thresh = 1.5\n",
    "for convo in corpus.iter_conversations():\n",
    "    try:\n",
    "        recip_div = convo.meta['hyperconvo-25']['count[reciprocity motif]'] / convo.meta['hyperconvo-20']['count[reciprocity motif]']\n",
    "    except ZeroDivisionError:\n",
    "        recip_div = 2\n",
    "    convo.meta['grown'] = recip_div >= thresh\n",
    "    grown += convo.meta['grown']"
   ]
  },
  {
   "cell_type": "code",
   "execution_count": 9,
   "metadata": {},
   "outputs": [
    {
     "data": {
      "text/plain": [
       "6233"
      ]
     },
     "execution_count": 9,
     "metadata": {},
     "output_type": "execute_result"
    }
   ],
   "source": [
    "grown"
   ]
  },
  {
   "cell_type": "code",
   "execution_count": 11,
   "metadata": {},
   "outputs": [],
   "source": [
    "from convokit import Classifier"
   ]
  },
  {
   "cell_type": "code",
   "execution_count": 10,
   "metadata": {},
   "outputs": [],
   "source": [
    "# clf = Classifier(obj_type=\"conversation\", pred_feats=['hyperconvo-20'], labeller=lambda convo: convo.meta['grown'],\n",
    "#                 clf_feat_name='hyperconv-pred', clf_prob_feat_name='hyperconv-pred-score'\n",
    "#                 )"
   ]
  },
  {
   "cell_type": "code",
   "execution_count": 12,
   "metadata": {},
   "outputs": [],
   "source": [
    "clf = Classifier(obj_type=\"conversation\", pred_feats=['hyperconvo-20'], labeller=lambda convo: convo.meta['grown'],\n",
    "                clf_feat_name='hyperconv-pred', clf_prob_feat_name='hyperconv-pred-score'\n",
    "                )"
   ]
  },
  {
   "cell_type": "code",
   "execution_count": 13,
   "metadata": {},
   "outputs": [
    {
     "name": "stdout",
     "output_type": "stream",
     "text": [
      "Using corpus objects...\n",
      "Running a cross-validated evaluation...\n",
      "Done.\n"
     ]
    }
   ],
   "source": [
    "res = clf.evaluate_with_cv(corpus)"
   ]
  },
  {
   "cell_type": "code",
   "execution_count": 14,
   "metadata": {},
   "outputs": [
    {
     "data": {
      "text/plain": [
       "0.8206"
      ]
     },
     "execution_count": 14,
     "metadata": {},
     "output_type": "execute_result"
    }
   ],
   "source": [
    "np.mean(res)"
   ]
  },
  {
   "cell_type": "markdown",
   "metadata": {},
   "source": [
    "## Tensor feats (rank 3)"
   ]
  },
  {
   "cell_type": "code",
   "execution_count": 15,
   "metadata": {},
   "outputs": [],
   "source": [
    "td = TensorDecomposer(obj_type=\"conversation\",\n",
    "                      feature_set=[\"hyperconvo-{}\".format(i) for i in range(2, 21)],\n",
    "                      group_func=lambda convo: convo.get_utterance(convo.id).meta['subreddit'],\n",
    "                      rank=3, tensor_func='tensorly'\n",
    "                     )"
   ]
  },
  {
   "cell_type": "code",
   "execution_count": 16,
   "metadata": {},
   "outputs": [
    {
     "name": "stdout",
     "output_type": "stream",
     "text": [
      "Constructing tensor...Done.\n",
      "Decomposing tensor...Done.\n"
     ]
    },
    {
     "data": {
      "text/plain": [
       "<convokit.tensor_decomposer.tensorDecomposer.TensorDecomposer at 0x12868f690>"
      ]
     },
     "execution_count": 16,
     "metadata": {},
     "output_type": "execute_result"
    }
   ],
   "source": [
    "td.fit(corpus)"
   ]
  },
  {
   "cell_type": "code",
   "execution_count": 17,
   "metadata": {},
   "outputs": [
    {
     "data": {
      "text/plain": [
       "<convokit.model.corpus.Corpus at 0x1283f4dd0>"
      ]
     },
     "execution_count": 17,
     "metadata": {},
     "output_type": "execute_result"
    }
   ],
   "source": [
    "td.transform(corpus)"
   ]
  },
  {
   "cell_type": "code",
   "execution_count": 18,
   "metadata": {},
   "outputs": [],
   "source": [
    "from convokit import BoWClassifier"
   ]
  },
  {
   "cell_type": "code",
   "execution_count": 19,
   "metadata": {},
   "outputs": [
    {
     "name": "stdout",
     "output_type": "stream",
     "text": [
      "Initializing default classification model (standard scaled logistic regression)\n"
     ]
    }
   ],
   "source": [
    "clf_tensor = BoWClassifier(obj_type=\"conversation\", vector_name='tensor_factor', labeller=lambda convo: convo.meta['grown'],\n",
    "                clf_feat_name='tensor-pred', clf_prob_feat_name='tensor-pred-score'\n",
    "                )"
   ]
  },
  {
   "cell_type": "code",
   "execution_count": 20,
   "metadata": {},
   "outputs": [
    {
     "name": "stdout",
     "output_type": "stream",
     "text": [
      "Using corpus objects...\n",
      "\n",
      "Running a cross-validated evaluation...\n",
      "Done.\n"
     ]
    }
   ],
   "source": [
    "res = clf_tensor.evaluate_with_cv(corpus)"
   ]
  },
  {
   "cell_type": "code",
   "execution_count": 21,
   "metadata": {},
   "outputs": [
    {
     "data": {
      "text/plain": [
       "0.7932"
      ]
     },
     "execution_count": 21,
     "metadata": {},
     "output_type": "execute_result"
    }
   ],
   "source": [
    "np.mean(res)"
   ]
  },
  {
   "cell_type": "code",
   "execution_count": 63,
   "metadata": {},
   "outputs": [],
   "source": [
    "for convo in corpus.iter_conversations():\n",
    "    convo.meta['tensor_rank3'] = convo.meta['tensor_factor']"
   ]
  },
  {
   "cell_type": "markdown",
   "metadata": {},
   "source": [
    "### Rank 9 decomp"
   ]
  },
  {
   "cell_type": "code",
   "execution_count": 28,
   "metadata": {},
   "outputs": [],
   "source": [
    "td_9 = TensorDecomposer(obj_type=\"conversation\",\n",
    "                      feature_set=[\"hyperconvo-{}\".format(i) for i in range(2, 21)],\n",
    "                      group_func=lambda convo: convo.get_utterance(convo.id).meta['subreddit'],\n",
    "                      rank=9, tensor_func='tensorly'\n",
    "                     )"
   ]
  },
  {
   "cell_type": "code",
   "execution_count": 29,
   "metadata": {},
   "outputs": [
    {
     "name": "stdout",
     "output_type": "stream",
     "text": [
      "Constructing tensor...Done.\n",
      "Decomposing tensor...Done.\n"
     ]
    },
    {
     "data": {
      "text/plain": [
       "<convokit.tensor_decomposer.tensorDecomposer.TensorDecomposer at 0x1286aae50>"
      ]
     },
     "execution_count": 29,
     "metadata": {},
     "output_type": "execute_result"
    }
   ],
   "source": [
    "td_9.fit(corpus)"
   ]
  },
  {
   "cell_type": "code",
   "execution_count": 30,
   "metadata": {},
   "outputs": [
    {
     "data": {
      "text/plain": [
       "<convokit.model.corpus.Corpus at 0x1283f4dd0>"
      ]
     },
     "execution_count": 30,
     "metadata": {},
     "output_type": "execute_result"
    }
   ],
   "source": [
    "td_9.transform(corpus)"
   ]
  },
  {
   "cell_type": "code",
   "execution_count": 31,
   "metadata": {},
   "outputs": [
    {
     "name": "stdout",
     "output_type": "stream",
     "text": [
      "Initializing default classification model (standard scaled logistic regression)\n"
     ]
    }
   ],
   "source": [
    "clf_tensor_9 = BoWClassifier(obj_type=\"conversation\", vector_name='tensor_factor', labeller=lambda convo: convo.meta['grown'],\n",
    "                clf_feat_name='tensor-pred', clf_prob_feat_name='tensor-pred-score'\n",
    "                )"
   ]
  },
  {
   "cell_type": "code",
   "execution_count": 32,
   "metadata": {},
   "outputs": [
    {
     "name": "stdout",
     "output_type": "stream",
     "text": [
      "Using corpus objects...\n",
      "\n",
      "Running a cross-validated evaluation...\n",
      "Done.\n"
     ]
    }
   ],
   "source": [
    "res = clf_tensor_9.evaluate_with_cv(corpus)"
   ]
  },
  {
   "cell_type": "code",
   "execution_count": 33,
   "metadata": {},
   "outputs": [
    {
     "data": {
      "text/plain": [
       "0.8355333333333335"
      ]
     },
     "execution_count": 33,
     "metadata": {},
     "output_type": "execute_result"
    }
   ],
   "source": [
    "np.mean(res)"
   ]
  },
  {
   "cell_type": "markdown",
   "metadata": {},
   "source": [
    "### Baseline: class information"
   ]
  },
  {
   "cell_type": "code",
   "execution_count": 25,
   "metadata": {},
   "outputs": [],
   "source": [
    "# for generated data\n",
    "for idx, convo in enumerate(corpus.iter_conversations()):\n",
    "    convo.meta['class1'] = int((idx / 5000) < 1)\n",
    "    convo.meta['class2'] = int(1 <= (idx / 5000) < 2)\n",
    "    convo.meta['class3'] = int(idx/5000 >= 2)"
   ]
  },
  {
   "cell_type": "code",
   "execution_count": 26,
   "metadata": {},
   "outputs": [],
   "source": [
    "clf_base = Classifier(obj_type=\"conversation\", pred_feats=['class1', 'class2', 'class3'], \n",
    "                 labeller=lambda convo: convo.meta['grown'],\n",
    "                clf_feat_name='base-pred', clf_prob_feat_name='base-pred-score'\n",
    "                )"
   ]
  },
  {
   "cell_type": "code",
   "execution_count": 27,
   "metadata": {},
   "outputs": [
    {
     "name": "stdout",
     "output_type": "stream",
     "text": [
      "Using corpus objects...\n",
      "Running a cross-validated evaluation...\n",
      "Done.\n"
     ]
    },
    {
     "data": {
      "text/plain": [
       "0.8785999999999999"
      ]
     },
     "execution_count": 27,
     "metadata": {},
     "output_type": "execute_result"
    }
   ],
   "source": [
    "np.mean(clf_base.evaluate_with_cv(corpus))"
   ]
  },
  {
   "cell_type": "markdown",
   "metadata": {},
   "source": [
    "## Combined feature sets"
   ]
  },
  {
   "cell_type": "code",
   "execution_count": 73,
   "metadata": {},
   "outputs": [
    {
     "data": {
      "text/plain": [
       "788"
      ]
     },
     "execution_count": 73,
     "metadata": {},
     "output_type": "execute_result"
    }
   ],
   "source": [
    "grown"
   ]
  },
  {
   "cell_type": "code",
   "execution_count": 74,
   "metadata": {},
   "outputs": [
    {
     "name": "stdout",
     "output_type": "stream",
     "text": [
      "Number of Speakers: 25994\n",
      "Number of Utterances: 53135\n",
      "Number of Conversations: 1500\n"
     ]
    }
   ],
   "source": [
    "corpus.print_summary_stats()"
   ]
  },
  {
   "cell_type": "markdown",
   "metadata": {},
   "source": [
    "### Hyperconvo-20 + TCA (rank 9)"
   ]
  },
  {
   "cell_type": "code",
   "execution_count": 75,
   "metadata": {},
   "outputs": [],
   "source": [
    "for convo in corpus.iter_conversations():\n",
    "    convo.meta['tensor_dict'] = {idx: v for idx, v in enumerate(convo.meta['tensor_factor'])}"
   ]
  },
  {
   "cell_type": "code",
   "execution_count": 78,
   "metadata": {},
   "outputs": [],
   "source": [
    "clf_all = Classifier(obj_type=\"conversation\", pred_feats=['hyperconvo-15', 'tensor_dict'], labeller=lambda convo: convo.meta['grown'],\n",
    "                )"
   ]
  },
  {
   "cell_type": "code",
   "execution_count": 79,
   "metadata": {},
   "outputs": [
    {
     "name": "stdout",
     "output_type": "stream",
     "text": [
      "Using corpus objects...\n",
      "Running a cross-validated evaluation...\n",
      "Done.\n"
     ]
    }
   ],
   "source": [
    "res = clf_all.evaluate_with_cv(corpus)"
   ]
  },
  {
   "cell_type": "code",
   "execution_count": 80,
   "metadata": {},
   "outputs": [
    {
     "data": {
      "text/plain": [
       "0.7333333333333334"
      ]
     },
     "execution_count": 80,
     "metadata": {},
     "output_type": "execute_result"
    }
   ],
   "source": [
    "np.mean(res)"
   ]
  },
  {
   "cell_type": "markdown",
   "metadata": {},
   "source": [
    "### Hyperconvo-20 + TCA (rank 3)"
   ]
  },
  {
   "cell_type": "code",
   "execution_count": 81,
   "metadata": {},
   "outputs": [],
   "source": [
    "for convo in corpus.iter_conversations():\n",
    "    convo.meta['tensor_dict3'] = {idx: v for idx, v in enumerate(convo.meta['tensor_rank3'])}"
   ]
  },
  {
   "cell_type": "code",
   "execution_count": 82,
   "metadata": {},
   "outputs": [],
   "source": [
    "clf_all_3 = Classifier(obj_type=\"conversation\", pred_feats=['hyperconvo-15', 'tensor_dict3'], labeller=lambda convo: convo.meta['grown'],\n",
    "                )"
   ]
  },
  {
   "cell_type": "code",
   "execution_count": 83,
   "metadata": {},
   "outputs": [
    {
     "name": "stdout",
     "output_type": "stream",
     "text": [
      "Using corpus objects...\n",
      "Running a cross-validated evaluation...\n",
      "Done.\n"
     ]
    },
    {
     "data": {
      "text/plain": [
       "0.7333333333333334"
      ]
     },
     "execution_count": 83,
     "metadata": {},
     "output_type": "execute_result"
    }
   ],
   "source": [
    "res = clf_all_3.evaluate_with_cv(corpus)\n",
    "np.mean(res)"
   ]
  },
  {
   "cell_type": "code",
   "execution_count": null,
   "metadata": {},
   "outputs": [],
   "source": []
  }
 ],
 "metadata": {
  "kernelspec": {
   "display_name": "Python 3",
   "language": "python",
   "name": "python3"
  },
  "language_info": {
   "codemirror_mode": {
    "name": "ipython",
    "version": 3
   },
   "file_extension": ".py",
   "mimetype": "text/x-python",
   "name": "python",
   "nbconvert_exporter": "python",
   "pygments_lexer": "ipython3",
   "version": "3.7.6"
  }
 },
 "nbformat": 4,
 "nbformat_minor": 2
}
