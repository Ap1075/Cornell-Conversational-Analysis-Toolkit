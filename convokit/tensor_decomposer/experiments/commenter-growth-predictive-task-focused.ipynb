{
 "cells": [
  {
   "cell_type": "code",
   "execution_count": 1,
   "metadata": {},
   "outputs": [],
   "source": [
    "import os\n",
    "os.chdir('../../..')"
   ]
  },
  {
   "cell_type": "code",
   "execution_count": 2,
   "metadata": {},
   "outputs": [],
   "source": [
    "import convokit"
   ]
  },
  {
   "cell_type": "code",
   "execution_count": 64,
   "metadata": {},
   "outputs": [],
   "source": [
    "import matplotlib.pyplot as plt\n",
    "import numpy as np\n",
    "import pandas as pd\n",
    "from sklearn.metrics import roc_auc_score\n",
    "from collections import defaultdict"
   ]
  },
  {
   "cell_type": "code",
   "execution_count": 4,
   "metadata": {},
   "outputs": [],
   "source": [
    "from convokit import Corpus, HyperConvo, TensorDecomposer, download, Classifier\n",
    "from convokit import extract_feats_dict"
   ]
  },
  {
   "cell_type": "code",
   "execution_count": 81,
   "metadata": {},
   "outputs": [],
   "source": [
    "from sklearn.pipeline import Pipeline\n",
    "from sklearn.preprocessing import StandardScaler\n",
    "from sklearn.linear_model import LogisticRegression\n",
    "from sklearn.decomposition import PCA\n",
    "from sklearn import svm"
   ]
  },
  {
   "cell_type": "markdown",
   "metadata": {},
   "source": [
    "First we download the reddit corpus:"
   ]
  },
  {
   "cell_type": "code",
   "execution_count": 12,
   "metadata": {},
   "outputs": [
    {
     "name": "stdout",
     "output_type": "stream",
     "text": [
      "Dataset already exists at /Users/calebchiam/.convokit/downloads/reddit-corpus\n"
     ]
    }
   ],
   "source": [
    "# corpus = Corpus(filename=\"convokit/thread_generator/fake-corpus-trajectory-40\")\n",
    "# corpus = Corpus(filename=\"convokit/thread_generator/annotated-fake-trajectory-40\")\n",
    "corpus = Corpus(download('reddit-corpus'))\n",
    "# corpus = Corpus(filename=\"convokit/tensor_decomposer/experiments/reddit-trajectory-subset-annotated\")"
   ]
  },
  {
   "cell_type": "code",
   "execution_count": 13,
   "metadata": {},
   "outputs": [
    {
     "name": "stdout",
     "output_type": "stream",
     "text": [
      "Number of Speakers: 521777\n",
      "Number of Utterances: 2004262\n",
      "Number of Conversations: 84979\n"
     ]
    }
   ],
   "source": [
    "corpus.print_summary_stats()"
   ]
  },
  {
   "cell_type": "markdown",
   "metadata": {},
   "source": [
    "### Data filtering"
   ]
  },
  {
   "cell_type": "code",
   "execution_count": 15,
   "metadata": {},
   "outputs": [],
   "source": [
    "convo_ids = set(corpus.get_conversation_ids())"
   ]
  },
  {
   "cell_type": "code",
   "execution_count": 16,
   "metadata": {},
   "outputs": [],
   "source": [
    "from convokit import Utterance, Speaker\n",
    "filler_utts = [Utterance(id=cid, conversation_id=cid, speaker=Speaker(id='534rehwh3h')) for cid in convo_ids]"
   ]
  },
  {
   "cell_type": "code",
   "execution_count": 19,
   "metadata": {},
   "outputs": [],
   "source": [
    "for utt in filler_utts:\n",
    "    utt.timestamp = 0"
   ]
  },
  {
   "cell_type": "code",
   "execution_count": 17,
   "metadata": {},
   "outputs": [
    {
     "data": {
      "text/plain": [
       "<convokit.model.corpus.Corpus at 0x1354b46d0>"
      ]
     },
     "execution_count": 17,
     "metadata": {},
     "output_type": "execute_result"
    }
   ],
   "source": [
    "corpus.add_utterances(filler_utts, warnings=True, with_checks=False)"
   ]
  },
  {
   "cell_type": "code",
   "execution_count": 18,
   "metadata": {},
   "outputs": [
    {
     "data": {
      "text/plain": [
       "84979"
      ]
     },
     "execution_count": 18,
     "metadata": {},
     "output_type": "execute_result"
    }
   ],
   "source": [
    "full_convos = {c.id for c in corpus.iter_conversations() if c.check_integrity(verbose=False)}\n",
    "len(full_convos)"
   ]
  },
  {
   "cell_type": "code",
   "execution_count": 21,
   "metadata": {},
   "outputs": [],
   "source": [
    "top_level_comment_ids = [utt.id for utt in corpus.iter_utterances() if utt.reply_to in convo_ids]\n",
    "corpus = corpus.reindex_conversations(top_level_comment_ids)"
   ]
  },
  {
   "cell_type": "code",
   "execution_count": 22,
   "metadata": {},
   "outputs": [
    {
     "name": "stdout",
     "output_type": "stream",
     "text": [
      "Number of Speakers: 521777\n",
      "Number of Utterances: 2004262\n",
      "Number of Conversations: 100000\n"
     ]
    }
   ],
   "source": [
    "corpus.print_summary_statsary_stats()"
   ]
  },
  {
   "cell_type": "code",
   "execution_count": 24,
   "metadata": {},
   "outputs": [],
   "source": [
    "import random\n",
    "longest_path_ids = []\n",
    "for convo in corpus.iter_conversations():\n",
    "    longest_path = random.choice(convo.get_longest_paths())\n",
    "    convo.meta['longest_path'] = len(longest_path)\n",
    "    longest_path_ids.extend([utt.id for utt in longest_path])"
   ]
  },
  {
   "cell_type": "code",
   "execution_count": 26,
   "metadata": {},
   "outputs": [],
   "source": [
    "longest_path_ids = set(longest_path_ids)"
   ]
  },
  {
   "cell_type": "code",
   "execution_count": 28,
   "metadata": {},
   "outputs": [],
   "source": [
    "path_lengths = [convo.meta['longest_path'] for convo in corpus.iter_conversations()]"
   ]
  },
  {
   "cell_type": "code",
   "execution_count": 30,
   "metadata": {},
   "outputs": [
    {
     "data": {
      "text/plain": [
       "<matplotlib.axes._subplots.AxesSubplot at 0x1b7f41910>"
      ]
     },
     "execution_count": 30,
     "metadata": {},
     "output_type": "execute_result"
    }
   ],
   "source": [
    "%matplotlib qt\n",
    "import seaborn as sns\n",
    "sns.countplot(path_lengths)"
   ]
  },
  {
   "cell_type": "code",
   "execution_count": 31,
   "metadata": {},
   "outputs": [],
   "source": [
    "corpus = corpus.filter_utterances_by(lambda utt: utt.id in longest_path_ids and \n",
    "                                     utt.get_conversation().meta['longest_path'] >= 8)"
   ]
  },
  {
   "cell_type": "code",
   "execution_count": 32,
   "metadata": {},
   "outputs": [
    {
     "name": "stdout",
     "output_type": "stream",
     "text": [
      "Number of Speakers: 129207\n",
      "Number of Utterances: 508962\n",
      "Number of Conversations: 45881\n"
     ]
    }
   ],
   "source": [
    "corpus.print_summary_stats()"
   ]
  },
  {
   "cell_type": "code",
   "execution_count": 34,
   "metadata": {},
   "outputs": [],
   "source": [
    "corpus.dump('reddit-focused-8', base_path='convokit/tensor_decomposer/experiments')"
   ]
  },
  {
   "cell_type": "code",
   "execution_count": 5,
   "metadata": {},
   "outputs": [],
   "source": [
    "corpus = Corpus('convokit/tensor_decomposer/experiments/reddit-focused-8')"
   ]
  },
  {
   "cell_type": "code",
   "execution_count": 6,
   "metadata": {},
   "outputs": [
    {
     "name": "stdout",
     "output_type": "stream",
     "text": [
      "AnOddSmith\n",
      "    JdPhoenix\n",
      "        PG-13_Woodhouse\n",
      "            JdPhoenix\n",
      "                PG-13_Woodhouse\n",
      "                    Ilyak1986\n",
      "                        PG-13_Woodhouse\n",
      "                            Ilyak1986\n",
      "                                PG-13_Woodhouse\n"
     ]
    }
   ],
   "source": [
    "corpus.random_conversation().print_conversation_structure()"
   ]
  },
  {
   "cell_type": "code",
   "execution_count": 7,
   "metadata": {},
   "outputs": [],
   "source": [
    "hyperconv_range = range(2, 7+1)"
   ]
  },
  {
   "cell_type": "code",
   "execution_count": 8,
   "metadata": {},
   "outputs": [
    {
     "name": "stdout",
     "output_type": "stream",
     "text": [
      "7\n",
      "6\n",
      "5\n",
      "4\n",
      "3\n",
      "2\n"
     ]
    }
   ],
   "source": [
    "def multi_hyperconv_transform(corpus, hyperconv_range):\n",
    "    hc_transformers = [HyperConvo(prefix_len=i, feat_name=\"hyperconvo-{}\".format(i), invalid_val=-1) for i in hyperconv_range]\n",
    "    for idx, hc in enumerate(list(reversed(hc_transformers))):\n",
    "        print(hyperconv_range[-1]-idx)\n",
    "        hc.transform(corpus)\n",
    "multi_hyperconv_transform(corpus, hyperconv_range)\n",
    "# corpus.dump('annotated-fake-trajectory-40', base_path=\"convokit/thread_generator\")"
   ]
  },
  {
   "cell_type": "code",
   "execution_count": 9,
   "metadata": {},
   "outputs": [],
   "source": [
    "grown = 0\n",
    "thresh = 1.5\n",
    "for convo in corpus.iter_conversations(lambda convo: convo.meta['longest_path'] >= 14):\n",
    "    utts16 = convo.get_chronological_utterance_list()[:14]\n",
    "    utts8 = utts16[:7]\n",
    "    num_spkrs_8 = len(set(utt.speaker.id for utt in utts8))\n",
    "    num_spkrs_16 = len(set(utt.speaker.id for utt in utts16))\n",
    "    convo.meta['grown'] = (num_spkrs_16 / num_spkrs_8) >= thresh\n",
    "    grown += (num_spkrs_16 / num_spkrs_8) >= thresh"
   ]
  },
  {
   "cell_type": "code",
   "execution_count": 10,
   "metadata": {},
   "outputs": [
    {
     "data": {
      "text/plain": [
       "7304"
      ]
     },
     "execution_count": 10,
     "metadata": {},
     "output_type": "execute_result"
    }
   ],
   "source": [
    "len(list(corpus.iter_conversations(lambda convo: convo.meta['longest_path'] >= 14)))"
   ]
  },
  {
   "cell_type": "code",
   "execution_count": 11,
   "metadata": {},
   "outputs": [
    {
     "data": {
      "text/plain": [
       "730"
      ]
     },
     "execution_count": 11,
     "metadata": {},
     "output_type": "execute_result"
    }
   ],
   "source": [
    "grown"
   ]
  },
  {
   "cell_type": "markdown",
   "metadata": {},
   "source": [
    "## Classifier components"
   ]
  },
  {
   "cell_type": "code",
   "execution_count": 99,
   "metadata": {},
   "outputs": [],
   "source": [
    "from convokit import Classifier\n",
    "from scipy.sparse import csr_matrix\n",
    "from sklearn.model_selection import KFold\n",
    "\n",
    "model = Pipeline([(\"standardScaler\", StandardScaler(with_mean=False)),\n",
    "                            (\"logreg\", LogisticRegression(solver='liblinear'))])\n",
    "kfold = KFold(n_splits=10, shuffle=True, random_state=2020)\n",
    "\n",
    "pca = PCA(n_components=20, random_state=2020)"
   ]
  },
  {
   "cell_type": "markdown",
   "metadata": {},
   "source": [
    "## Hyperconvo classifier"
   ]
  },
  {
   "cell_type": "code",
   "execution_count": 14,
   "metadata": {},
   "outputs": [],
   "source": [
    "clf = Classifier(obj_type=\"conversation\", pred_feats=['hyperconvo-7'], labeller=lambda convo: convo.meta['grown'],\n",
    "                clf_feat_name='hyperconv-pred', clf_prob_feat_name='hyperconv-pred-score',  clf=model\n",
    "                )"
   ]
  },
  {
   "cell_type": "code",
   "execution_count": 15,
   "metadata": {},
   "outputs": [],
   "source": [
    "long14 = lambda convo: convo.meta['longest_path'] >= 14"
   ]
  },
  {
   "cell_type": "code",
   "execution_count": 16,
   "metadata": {},
   "outputs": [
    {
     "name": "stdout",
     "output_type": "stream",
     "text": [
      "Using corpus objects...\n",
      "Running a cross-validated evaluation...\n",
      "Done.\n"
     ]
    }
   ],
   "source": [
    "res = clf.evaluate_with_cv(corpus, selector=long14)"
   ]
  },
  {
   "cell_type": "code",
   "execution_count": 17,
   "metadata": {},
   "outputs": [
    {
     "data": {
      "text/plain": [
       "0.9000559759219151"
      ]
     },
     "execution_count": 17,
     "metadata": {},
     "output_type": "execute_result"
    }
   ],
   "source": [
    "np.mean(res)"
   ]
  },
  {
   "cell_type": "code",
   "execution_count": 18,
   "metadata": {},
   "outputs": [
    {
     "data": {
      "text/plain": [
       "<convokit.classifier.classifier.Classifier at 0x187559e50>"
      ]
     },
     "execution_count": 18,
     "metadata": {},
     "output_type": "execute_result"
    }
   ],
   "source": [
    "clf.fit(corpus, selector=long14)"
   ]
  },
  {
   "cell_type": "code",
   "execution_count": 115,
   "metadata": {},
   "outputs": [],
   "source": [
    "obj_id_to_feats = extract_feats_dict(corpus, \"conversation\", [\"hyperconvo-7\"], long14)\n",
    "feats_df = pd.DataFrame.from_dict(obj_id_to_feats, orient='index').reindex(index = list(obj_id_to_feats))\n",
    "X = csr_matrix(feats_df.values.astype('float64'))\n",
    "y = np.array([convo.meta['grown'] for convo in corpus.iter_conversations(selector=long14)])"
   ]
  },
  {
   "cell_type": "code",
   "execution_count": 59,
   "metadata": {},
   "outputs": [
    {
     "name": "stdout",
     "output_type": "stream",
     "text": [
      "0.5\n"
     ]
    }
   ],
   "source": [
    "roc_scores = []\n",
    "\n",
    "for train, test in kfold.split(X, y):\n",
    "    model.fit(X[train], y[train])\n",
    "    predict_proba = model.predict_proba(X[test])\n",
    "    roc_scores.append(roc_auc_score(y_true=y[test], y_score=[x[1] for x in predict_proba]))\n",
    "\n",
    "print(np.mean(roc_scores))"
   ]
  },
  {
   "cell_type": "markdown",
   "metadata": {},
   "source": [
    "### PCA"
   ]
  },
  {
   "cell_type": "code",
   "execution_count": 125,
   "metadata": {},
   "outputs": [
    {
     "name": "stderr",
     "output_type": "stream",
     "text": [
      "/Library/Frameworks/Python.framework/Versions/3.7/lib/python3.7/site-packages/sklearn/preprocessing/_data.py:190: UserWarning: Numerical issues were encountered when scaling the data and might not be solved. The standard deviation of the data is probably very close to 0. \n",
      "  warnings.warn(\"Numerical issues were encountered \"\n"
     ]
    },
    {
     "name": "stdout",
     "output_type": "stream",
     "text": [
      "0.6232041817116005\n"
     ]
    }
   ],
   "source": [
    "roc_scores = []\n",
    "X = scale(X.toarray())\n",
    "for train, test in kfold.split(X, y):\n",
    "    \n",
    "    model.fit(pca.fit_transform(X[train]), y[train])\n",
    "    predict_proba = model.predict_proba(pca.transform(X[test]))\n",
    "    roc_scores.append(roc_auc_score(y_true=y[test], y_score=[x[1] for x in predict_proba]))\n",
    "\n",
    "print(np.mean(roc_scores))"
   ]
  },
  {
   "cell_type": "markdown",
   "metadata": {},
   "source": [
    "## Averaged rep: HC-2 to HC-7"
   ]
  },
  {
   "cell_type": "code",
   "execution_count": 78,
   "metadata": {},
   "outputs": [],
   "source": [
    "for convo in corpus.iter_conversations(long14):\n",
    "    d = defaultdict(int)\n",
    "    for idx in hyperconv_range:\n",
    "        for k, v in convo.meta['hyperconvo-{}'.format(idx)].items():\n",
    "            d[k] += v\n",
    "    \n",
    "    for k, v in d.items():\n",
    "        d[k] = v / len(hyperconv_range)\n",
    "    convo.meta['hyperconvo-avg'] = dict(d)"
   ]
  },
  {
   "cell_type": "code",
   "execution_count": 126,
   "metadata": {},
   "outputs": [],
   "source": [
    "obj_id_to_feats = extract_feats_dict(corpus, \"conversation\", [\"hyperconvo-avg\"], long14)\n",
    "feats_df = pd.DataFrame.from_dict(obj_id_to_feats, orient='index').reindex(index = list(obj_id_to_feats))\n",
    "X = csr_matrix(feats_df.values.astype('float64'))\n",
    "y = np.array([convo.meta['grown'] for convo in corpus.iter_conversations(selector=long14)])"
   ]
  },
  {
   "cell_type": "code",
   "execution_count": 127,
   "metadata": {},
   "outputs": [
    {
     "name": "stderr",
     "output_type": "stream",
     "text": [
      "/Library/Frameworks/Python.framework/Versions/3.7/lib/python3.7/site-packages/sklearn/preprocessing/_data.py:190: UserWarning: Numerical issues were encountered when scaling the data and might not be solved. The standard deviation of the data is probably very close to 0. \n",
      "  warnings.warn(\"Numerical issues were encountered \"\n"
     ]
    },
    {
     "name": "stdout",
     "output_type": "stream",
     "text": [
      "0.6234789264619349\n"
     ]
    }
   ],
   "source": [
    "roc_scores = []\n",
    "X = scale(X.toarray())\n",
    "for train, test in kfold.split(X, y):\n",
    "    model.fit(X[train], y[train])\n",
    "    predict_proba = model.predict_proba(X[test])\n",
    "    roc_scores.append(roc_auc_score(y_true=y[test], y_score=[x[1] for x in predict_proba]))\n",
    "\n",
    "print(np.mean(roc_scores))"
   ]
  },
  {
   "cell_type": "markdown",
   "metadata": {},
   "source": [
    "### PCA"
   ]
  },
  {
   "cell_type": "code",
   "execution_count": 129,
   "metadata": {},
   "outputs": [
    {
     "name": "stdout",
     "output_type": "stream",
     "text": [
      "0.6237111883866623\n"
     ]
    }
   ],
   "source": [
    "roc_scores = []\n",
    "for train, test in kfold.split(X, y):\n",
    "    model.fit(pca.fit_transform(X[train]), y[train])\n",
    "    predict_proba = model.predict_proba(pca.transform(X[test]))\n",
    "    roc_scores.append(roc_auc_score(y_true=y[test], y_score=[x[1] for x in predict_proba]))\n",
    "\n",
    "print(np.mean(roc_scores))"
   ]
  },
  {
   "cell_type": "markdown",
   "metadata": {},
   "source": [
    "## Concatenated rep: HC-2 to HC-7"
   ]
  },
  {
   "cell_type": "code",
   "execution_count": 94,
   "metadata": {},
   "outputs": [],
   "source": [
    "for convo in corpus.iter_conversations(long14):\n",
    "    d = dict()\n",
    "    for idx in hyperconv_range:\n",
    "        for k, v in convo.meta['hyperconvo-{}'.format(idx)].items():\n",
    "            d[k+str(idx)] = v\n",
    "    \n",
    "    convo.meta['hyperconvo-concat'] = d"
   ]
  },
  {
   "cell_type": "code",
   "execution_count": 130,
   "metadata": {},
   "outputs": [],
   "source": [
    "obj_id_to_feats = extract_feats_dict(corpus, \"conversation\", [\"hyperconvo-concat\"], long14)\n",
    "feats_df = pd.DataFrame.from_dict(obj_id_to_feats, orient='index').reindex(index = list(obj_id_to_feats))\n",
    "X = csr_matrix(feats_df.values.astype('float64'))\n",
    "y = np.array([convo.meta['grown'] for convo in corpus.iter_conversations(selector=long14)])"
   ]
  },
  {
   "cell_type": "code",
   "execution_count": 131,
   "metadata": {},
   "outputs": [
    {
     "name": "stderr",
     "output_type": "stream",
     "text": [
      "/Library/Frameworks/Python.framework/Versions/3.7/lib/python3.7/site-packages/sklearn/preprocessing/_data.py:190: UserWarning: Numerical issues were encountered when scaling the data and might not be solved. The standard deviation of the data is probably very close to 0. \n",
      "  warnings.warn(\"Numerical issues were encountered \"\n"
     ]
    },
    {
     "name": "stdout",
     "output_type": "stream",
     "text": [
      "0.6172415691895714\n"
     ]
    }
   ],
   "source": [
    "roc_scores = []\n",
    "X = scale(X.toarray())\n",
    "\n",
    "for train, test in kfold.split(X, y):\n",
    "    model.fit(pca.fit_transform(X[train]), y[train])\n",
    "    predict_proba = model.predict_proba(pca.transform(X[test]))\n",
    "    roc_scores.append(roc_auc_score(y_true=y[test], y_score=[x[1] for x in predict_proba]))\n",
    "\n",
    "print(np.mean(roc_scores))"
   ]
  },
  {
   "cell_type": "markdown",
   "metadata": {},
   "source": [
    "## Rank-20 non-negative TCA"
   ]
  },
  {
   "cell_type": "code",
   "execution_count": 101,
   "metadata": {},
   "outputs": [],
   "source": [
    "from sklearn.preprocessing import scale\n",
    "def scale_by_comment_idx(tensor):\n",
    "    tensor = tensor.copy()\n",
    "    for i in range(tensor.shape[0]):\n",
    "        tensor[i, :, :] = scale(tensor[i, :, :])\n",
    "    return tensor"
   ]
  },
  {
   "cell_type": "code",
   "execution_count": 102,
   "metadata": {},
   "outputs": [],
   "source": [
    "td = TensorDecomposer(obj_type=\"conversation\",\n",
    "                      feature_set=[\"hyperconvo-{}\".format(i) for i in range(2, 7)],\n",
    "                      group_func=lambda convo: convo.get_utterance(convo.id).meta['subreddit'],\n",
    "                      rank=20, tensor_func='tensortools-ncp-bcd', normalize_func=scale_by_comment_idx\n",
    "                     )"
   ]
  },
  {
   "cell_type": "code",
   "execution_count": 103,
   "metadata": {
    "scrolled": true
   },
   "outputs": [
    {
     "name": "stdout",
     "output_type": "stream",
     "text": [
      "Constructing tensor...Done.\n"
     ]
    },
    {
     "name": "stderr",
     "output_type": "stream",
     "text": [
      "/Library/Frameworks/Python.framework/Versions/3.7/lib/python3.7/site-packages/sklearn/preprocessing/_data.py:190: UserWarning: Numerical issues were encountered when scaling the data and might not be solved. The standard deviation of the data is probably very close to 0. \n",
      "  warnings.warn(\"Numerical issues were encountered \"\n",
      "/Library/Frameworks/Python.framework/Versions/3.7/lib/python3.7/site-packages/sklearn/preprocessing/_data.py:190: UserWarning: Numerical issues were encountered when scaling the data and might not be solved. The standard deviation of the data is probably very close to 0. \n",
      "  warnings.warn(\"Numerical issues were encountered \"\n",
      "/Library/Frameworks/Python.framework/Versions/3.7/lib/python3.7/site-packages/sklearn/preprocessing/_data.py:190: UserWarning: Numerical issues were encountered when scaling the data and might not be solved. The standard deviation of the data is probably very close to 0. \n",
      "  warnings.warn(\"Numerical issues were encountered \"\n",
      "/Library/Frameworks/Python.framework/Versions/3.7/lib/python3.7/site-packages/sklearn/preprocessing/_data.py:190: UserWarning: Numerical issues were encountered when scaling the data and might not be solved. The standard deviation of the data is probably very close to 0. \n",
      "  warnings.warn(\"Numerical issues were encountered \"\n"
     ]
    },
    {
     "name": "stdout",
     "output_type": "stream",
     "text": [
      "Decomposing tensor...NCP_BCD: iteration 1, objective 0.9752328449871601, improvement inf.\n",
      "NCP_BCD: iteration 2, objective 0.9482366291273642, improvement 0.026996215859795947.\n",
      "NCP_BCD: iteration 3, objective 0.9281696790812498, improvement 0.020066950046114362.\n",
      "NCP_BCD: iteration 4, objective 0.9108438533747785, improvement 0.017325825706471343.\n",
      "NCP_BCD: iteration 5, objective 0.8897067825668089, improvement 0.02113707080796956.\n",
      "NCP_BCD: iteration 6, objective 0.8686007327871634, improvement 0.021106049779645475.\n",
      "NCP_BCD: iteration 7, objective 0.8521243708926308, improvement 0.01647636189453261.\n",
      "NCP_BCD: iteration 8, objective 0.8408816883387459, improvement 0.011242682553884942.\n",
      "NCP_BCD: iteration 9, objective 0.8315439231981193, improvement 0.009337765140626564.\n",
      "NCP_BCD: iteration 10, objective 0.8233344429122232, improvement 0.008209480285896076.\n",
      "NCP_BCD: iteration 11, objective 0.8167002777792959, improvement 0.006634165132927361.\n",
      "NCP_BCD: iteration 12, objective 0.8127938527489751, improvement 0.003906425030320793.\n",
      "NCP_BCD: iteration 13, objective 0.8107345011186743, improvement 0.0020593516303007986.\n",
      "NCP_BCD: iteration 14, objective 0.809140257000621, improvement 0.0015942441180533118.\n",
      "NCP_BCD: iteration 15, objective 0.8076102656008232, improvement 0.0015299913997978143.\n",
      "NCP_BCD: iteration 16, objective 0.8057577228085121, improvement 0.0018525427923110627.\n",
      "NCP_BCD: iteration 17, objective 0.803607984246603, improvement 0.0021497385619091425.\n",
      "NCP_BCD: iteration 18, objective 0.8009321417473123, improvement 0.002675842499290648.\n",
      "NCP_BCD: iteration 19, objective 0.7981979821012992, improvement 0.00273415964601309.\n",
      "NCP_BCD: iteration 20, objective 0.7961503277604297, improvement 0.002047654340869509.\n",
      "NCP_BCD: iteration 21, objective 0.7951095579892147, improvement 0.0010407697712150332.\n",
      "NCP_BCD: iteration 22, objective 0.7945866780378119, improvement 0.000522879951402766.\n",
      "NCP_BCD: iteration 23, objective 0.7939682523103774, improvement 0.0006184257274345351.\n",
      "NCP_BCD: iteration 24, objective 0.7932200778422801, improvement 0.0007481744680972735.\n",
      "NCP_BCD: iteration 25, objective 0.7924382121023709, improvement 0.0007818657399092377.\n",
      "NCP_BCD: iteration 26, objective 0.7915970947547688, improvement 0.0008411173476020606.\n",
      "NCP_BCD: iteration 27, objective 0.7906378129374716, improvement 0.0009592818172972084.\n",
      "NCP_BCD: iteration 28, objective 0.7896296080528271, improvement 0.0010082048846444813.\n",
      "NCP_BCD: iteration 29, objective 0.7887919665015853, improvement 0.0008376415512417745.\n",
      "NCP_BCD: iteration 30, objective 0.7883870159101599, improvement 0.00040495059142542367.\n",
      "NCP_BCD: iteration 31, objective 0.7882869792859972, improvement 0.00010003662416269155.\n",
      "NCP_BCD: iteration 32, objective 0.7881627754605769, improvement 0.0001242038254203326.\n",
      "NCP_BCD: iteration 33, objective 0.7880871122968633, improvement 7.566316371354631e-05.\n",
      "NCP_BCD: iteration 34, objective 0.7880299637338468, improvement 5.714856301652915e-05.\n",
      "NCP_BCD: iteration 35, objective 0.7879709471953175, improvement 5.901653852935507e-05.\n",
      "NCP_BCD: iteration 36, objective 0.7879082283558605, improvement 6.271883945696555e-05.\n",
      "NCP_BCD: iteration 37, objective 0.7878419567778683, improvement 6.627157799221628e-05.\n",
      "NCP_BCD: iteration 38, objective 0.7877715390039692, improvement 7.041777389904524e-05.\n",
      "NCP_BCD: iteration 39, objective 0.787693838951523, improvement 7.770005244622791e-05.\n",
      "NCP_BCD: iteration 40, objective 0.7876042589650554, improvement 8.95799864676361e-05.\n",
      "NCP_BCD: iteration 41, objective 0.7874967040165431, improvement 0.00010755494851222291.\n",
      "NCP_BCD: iteration 42, objective 0.7873648596882294, improvement 0.00013184432831370163.\n",
      "NCP_BCD: iteration 43, objective 0.7872113369039785, improvement 0.000153522784250959.\n",
      "NCP_BCD: iteration 44, objective 0.7870528759754157, improvement 0.00015846092856275362.\n",
      "NCP_BCD: iteration 45, objective 0.7868955022706665, improvement 0.00015737370474921963.\n",
      "NCP_BCD: iteration 46, objective 0.7867553294370513, improvement 0.00014017283361522637.\n",
      "NCP_BCD: iteration 47, objective 0.7866403475298736, improvement 0.00011498190717773582.\n",
      "NCP_BCD: iteration 48, objective 0.7865343686159088, improvement 0.0001059789139647993.\n",
      "NCP_BCD: iteration 49, objective 0.7864149427653415, improvement 0.00011942585056723409.\n",
      "NCP_BCD: iteration 50, objective 0.7862664067125866, improvement 0.00014853605275488846.\n",
      "NCP_BCD: iteration 51, objective 0.78609552159681, improvement 0.00017088511577667553.\n",
      "NCP_BCD: iteration 52, objective 0.7859367707347819, improvement 0.00015875086202810085.\n",
      "NCP_BCD: iteration 53, objective 0.7858025414447614, improvement 0.00013422929002049333.\n",
      "NCP_BCD: iteration 54, objective 0.7856602904715846, improvement 0.00014225097317677182.\n",
      "NCP_BCD: iteration 55, objective 0.7854916901595053, improvement 0.00016860031207932558.\n",
      "NCP_BCD: iteration 56, objective 0.7852885164713332, improvement 0.0002031736881720203.\n",
      "NCP_BCD: iteration 57, objective 0.7850373762196008, improvement 0.00025114025173245125.\n",
      "NCP_BCD: iteration 58, objective 0.7847023229901144, improvement 0.0003350532294863484.\n",
      "NCP_BCD: iteration 59, objective 0.7842534841535823, improvement 0.0004488388365321283.\n",
      "NCP_BCD: iteration 60, objective 0.783667135882622, improvement 0.0005863482709602685.\n",
      "NCP_BCD: iteration 61, objective 0.7829262891224951, improvement 0.0007408467601269786.\n",
      "NCP_BCD: iteration 62, objective 0.7820436550022017, improvement 0.0008826341202933241.\n",
      "NCP_BCD: iteration 63, objective 0.7811336649155274, improvement 0.0009099900866743615.\n",
      "NCP_BCD: iteration 64, objective 0.7803558444667136, improvement 0.0007778204488138041.\n",
      "NCP_BCD: iteration 65, objective 0.7797733985396512, improvement 0.0005824459270623583.\n",
      "NCP_BCD: iteration 66, objective 0.7793820761138853, improvement 0.00039132242576589427.\n",
      "NCP_BCD: iteration 67, objective 0.7791475364369609, improvement 0.000234539676924439.\n",
      "NCP_BCD: iteration 68, objective 0.779028064079923, improvement 0.0001194723570379086.\n",
      "NCP_BCD: iteration 69, objective 0.7789835896825843, improvement 4.447439733867853e-05.\n",
      "NCP_BCD: iteration 70, objective 0.7789849983757792, improvement -1.4086931948709136e-06.\n",
      "Converged after 70 iterations, 23.739093124000647 seconds. Objective: 0.7789849983757792.\n",
      "Done.\n"
     ]
    },
    {
     "data": {
      "text/plain": [
       "<convokit.tensor_decomposer.tensorDecomposer.TensorDecomposer at 0x130c91b50>"
      ]
     },
     "execution_count": 103,
     "metadata": {},
     "output_type": "execute_result"
    }
   ],
   "source": [
    "td.fit(corpus, selector=lambda convo: convo.meta['longest_path'] >= 14)"
   ]
  },
  {
   "cell_type": "code",
   "execution_count": 104,
   "metadata": {},
   "outputs": [
    {
     "data": {
      "text/plain": [
       "<convokit.model.corpus.Corpus at 0x12f51cfd0>"
      ]
     },
     "execution_count": 104,
     "metadata": {},
     "output_type": "execute_result"
    }
   ],
   "source": [
    "td.transform(corpus, selector=lambda convo: convo.meta['longest_path'] >= 14)"
   ]
  },
  {
   "cell_type": "code",
   "execution_count": 105,
   "metadata": {},
   "outputs": [],
   "source": [
    "from convokit import BoWClassifier"
   ]
  },
  {
   "cell_type": "code",
   "execution_count": 106,
   "metadata": {},
   "outputs": [],
   "source": [
    "clf_tensor = BoWClassifier(obj_type=\"conversation\", vector_name='tensor_factor', labeller=lambda convo: convo.meta['grown'],\n",
    "                clf_feat_name='tensor-pred', clf_prob_feat_name='tensor-pred-score', clf=model\n",
    "                )"
   ]
  },
  {
   "cell_type": "code",
   "execution_count": 107,
   "metadata": {},
   "outputs": [],
   "source": [
    "from sklearn.model_selection import KFold"
   ]
  },
  {
   "cell_type": "code",
   "execution_count": 108,
   "metadata": {},
   "outputs": [
    {
     "name": "stdout",
     "output_type": "stream",
     "text": [
      "Using corpus objects...\n",
      "\n",
      "Running a cross-validated evaluation...\n",
      "Done.\n"
     ]
    }
   ],
   "source": [
    "res = clf_tensor.evaluate_with_cv(corpus, selector=lambda convo: convo.meta['longest_path'] >= 14, cv=KFold(n_splits=5, shuffle=True))"
   ]
  },
  {
   "cell_type": "code",
   "execution_count": 109,
   "metadata": {},
   "outputs": [
    {
     "data": {
      "text/plain": [
       "0.9000543819676896"
      ]
     },
     "execution_count": 109,
     "metadata": {},
     "output_type": "execute_result"
    }
   ],
   "source": [
    "np.mean(res)"
   ]
  },
  {
   "cell_type": "code",
   "execution_count": 38,
   "metadata": {},
   "outputs": [
    {
     "data": {
      "text/plain": [
       "<convokit.classifier.bow_classifier.BoWClassifier at 0x1874e1350>"
      ]
     },
     "execution_count": 38,
     "metadata": {},
     "output_type": "execute_result"
    }
   ],
   "source": [
    "clf_tensor.fit(corpus, selector=long14)"
   ]
  },
  {
   "cell_type": "code",
   "execution_count": 110,
   "metadata": {},
   "outputs": [],
   "source": [
    "from scipy.sparse import vstack, issparse\n",
    "X = []\n",
    "y = []\n",
    "for obj in corpus.iter_objs('conversation', long14):\n",
    "    X.append(obj.meta['tensor_factor'])\n",
    "    y.append(obj.meta['grown'])\n",
    "if issparse(X[0]): # for csr_matrix\n",
    "    X = vstack(X)\n",
    "else: # for non-compressed numpy arrays\n",
    "    X = np.vstack(X)\n",
    "y = np.array(y)"
   ]
  },
  {
   "cell_type": "code",
   "execution_count": 113,
   "metadata": {},
   "outputs": [
    {
     "name": "stdout",
     "output_type": "stream",
     "text": [
      "0.615434769825202\n"
     ]
    }
   ],
   "source": [
    "roc_scores = []\n",
    "\n",
    "for train, test in kfold.split(X, y):\n",
    "    model.fit(X[train], y[train])\n",
    "    predict_proba = model.predict_proba(X[test])\n",
    "    roc_scores.append(roc_auc_score(y_true=y[test], y_score=[x[1] for x in predict_proba]))\n",
    "\n",
    "print(np.mean(roc_scores))"
   ]
  },
  {
   "cell_type": "markdown",
   "metadata": {},
   "source": [
    "## Combined feature sets"
   ]
  },
  {
   "cell_type": "code",
   "execution_count": 132,
   "metadata": {},
   "outputs": [],
   "source": [
    "obj_id_to_feats = extract_feats_dict(corpus, \"conversation\", [\"hyperconvo-7\"], long14)\n",
    "feats_df = pd.DataFrame.from_dict(obj_id_to_feats, orient='index').reindex(index = list(obj_id_to_feats))\n",
    "X_hc7 = csr_matrix(feats_df.values.astype('float64'))"
   ]
  },
  {
   "cell_type": "code",
   "execution_count": 137,
   "metadata": {},
   "outputs": [],
   "source": [
    "obj_id_to_feats = extract_feats_dict(corpus, \"conversation\", [\"hyperconvo-avg\"], long14)\n",
    "feats_df = pd.DataFrame.from_dict(obj_id_to_feats, orient='index').reindex(index = list(obj_id_to_feats))\n",
    "X_hc_avg = csr_matrix(feats_df.values.astype('float64'))"
   ]
  },
  {
   "cell_type": "code",
   "execution_count": 136,
   "metadata": {},
   "outputs": [],
   "source": [
    "obj_id_to_feats = extract_feats_dict(corpus, \"conversation\", [\"hyperconvo-concat\"], long14)\n",
    "feats_df = pd.DataFrame.from_dict(obj_id_to_feats, orient='index').reindex(index = list(obj_id_to_feats))\n",
    "X_hc_concat = csr_matrix(feats_df.values.astype('float64'))"
   ]
  },
  {
   "cell_type": "code",
   "execution_count": 141,
   "metadata": {},
   "outputs": [],
   "source": [
    "from scipy.sparse import vstack, issparse\n",
    "X_tensor = []\n",
    "y = []\n",
    "for obj in corpus.iter_objs('conversation', long14):\n",
    "    X_tensor.append(obj.meta['tensor_factor'])\n",
    "if issparse(X[0]): # for csr_matrix\n",
    "    X_tensor = vstack(X_tensor)\n",
    "else: # for non-compressed numpy arrays\n",
    "    X_tensor = np.vstack(X_tensor)"
   ]
  },
  {
   "cell_type": "code",
   "execution_count": 146,
   "metadata": {},
   "outputs": [],
   "source": [
    "y = np.array([convo.meta['grown'] for convo in corpus.iter_conversations(long14)])"
   ]
  },
  {
   "cell_type": "markdown",
   "metadata": {},
   "source": [
    "### Hyperconvo-7 (PCA) + TCA (rank 20)"
   ]
  },
  {
   "cell_type": "code",
   "execution_count": 164,
   "metadata": {},
   "outputs": [
    {
     "name": "stderr",
     "output_type": "stream",
     "text": [
      "/Library/Frameworks/Python.framework/Versions/3.7/lib/python3.7/site-packages/sklearn/preprocessing/_data.py:190: UserWarning: Numerical issues were encountered when scaling the data and might not be solved. The standard deviation of the data is probably very close to 0. \n",
      "  warnings.warn(\"Numerical issues were encountered \"\n"
     ]
    },
    {
     "name": "stdout",
     "output_type": "stream",
     "text": [
      "0.5745332287375828\n"
     ]
    }
   ],
   "source": [
    "roc_scores = []\n",
    "X = scale(X_hc7.toarray())\n",
    "\n",
    "for train, test in kfold.split(X, y):\n",
    "    \n",
    "    X_combi_train = np.hstack((pca.fit_transform(X[train]), X_tensor[train])) \n",
    "    model.fit(X_combi_train, y[train])\n",
    "    X_combi_test = np.hstack((pca.fit_transform(X[test]), X_tensor[test]))\n",
    "    predict_proba = model.predict_proba(X_combi_test)\n",
    "    roc_scores.append(roc_auc_score(y_true=y[test], y_score=[x[1] for x in predict_proba]))\n",
    "\n",
    "print(np.mean(roc_scores))"
   ]
  },
  {
   "cell_type": "markdown",
   "metadata": {},
   "source": [
    "### HC-Avg (PCA) + TCA"
   ]
  },
  {
   "cell_type": "code",
   "execution_count": 194,
   "metadata": {},
   "outputs": [
    {
     "name": "stdout",
     "output_type": "stream",
     "text": [
      "0.509109467616744\n"
     ]
    }
   ],
   "source": [
    "roc_scores = []\n",
    "# X = scale(X_hc_avg.toarray())\n",
    "X = X_hc_avg.toarray()\n",
    "\n",
    "for train, test in kfold.split(X, y):\n",
    "    \n",
    "    X_combi_train = np.hstack((pca.fit_transform(X[train]), X_tensor[train])) \n",
    "    model.fit(X_combi_train, y[train])\n",
    "    X_combi_test = np.hstack((pca.fit_transform(X[test]), X_tensor[test]))\n",
    "    predict_proba = model.predict_proba(X_combi_test)\n",
    "    roc_scores.append(roc_auc_score(y_true=y[test], y_score=[x[1] for x in predict_proba]))\n",
    "\n",
    "print(np.mean(roc_scores))"
   ]
  },
  {
   "cell_type": "markdown",
   "metadata": {},
   "source": [
    "### HC-Concat (PCA) + TCA"
   ]
  },
  {
   "cell_type": "code",
   "execution_count": 168,
   "metadata": {},
   "outputs": [
    {
     "data": {
      "text/plain": [
       "array([ 1.        ,  0.        ,  1.        ,  0.        ,  1.        ,\n",
       "        0.        ,  0.5       ,  1.        ,  0.5       ,  0.        ,\n",
       "        0.        ,  0.        ,  1.        ,  1.        ,  1.        ,\n",
       "        0.        ,  1.        ,  1.        ,  0.        ,  0.        ,\n",
       "        0.        ,  1.        ,  0.        ,  0.        ,  0.5       ,\n",
       "        0.5       ,  1.        ,  1.        ,  0.5       ,  0.5       ,\n",
       "        0.        ,  0.        ,  0.        ,  0.        ,  0.        ,\n",
       "        0.        ,  1.        ,  1.        ,  1.        ,  0.        ,\n",
       "        1.        ,  1.        ,  0.        ,  0.        ,  0.        ,\n",
       "        1.        ,  0.        ,  0.        ,  0.5       ,  0.5       ,\n",
       "        1.        ,  1.        ,  0.5       ,  0.5       ,  0.        ,\n",
       "        0.        ,  0.        ,  0.        ,  0.        ,  0.        ,\n",
       "        0.        ,  0.        ,  0.        ,  0.        ,  0.        ,\n",
       "        0.        ,  0.        ,  0.        ,  0.        ,  0.        ,\n",
       "        0.        ,  0.        ,  0.        , -1.        , -1.        ,\n",
       "       -1.        ,  0.        ,  0.        ,  0.        ,  0.        ,\n",
       "       -1.        , -1.        ,  0.        ,  0.        ,  0.        ,\n",
       "        0.        ,  0.        ,  0.        , -1.        , -1.        ,\n",
       "       -1.        , -1.        , -1.        , -1.        ,  0.        ,\n",
       "        0.        ,  0.        ,  0.        ,  0.        ,  0.        ,\n",
       "        0.        ,  0.        , -1.        , -1.        , -1.        ,\n",
       "       -1.        ,  0.        ,  0.        ,  0.        ,  0.        ,\n",
       "        0.        ,  0.        , -1.        , -1.        , -1.        ,\n",
       "       -1.        , -1.        , -1.        ,  0.        ,  0.        ,\n",
       "        0.        ,  0.        ,  0.        ,  0.        ,  0.        ,\n",
       "        0.        , -1.        , -1.        , -1.        , -1.        ,\n",
       "        0.        ,  0.        ,  0.        ,  0.        ,  0.        ,\n",
       "        0.        ,  0.        ,  0.        ,  0.        ,  0.        ,\n",
       "        1.        ,  0.        ,  0.5       ,  1.        ,  1.        ,\n",
       "        0.5       ,  0.66666667,  1.        ,  0.66666667,  0.        ,\n",
       "        0.69314718,  1.        ,  1.        ,  1.        ,  0.        ,\n",
       "        0.        ,  0.5       ,  0.5       ,  1.        ,  1.        ,\n",
       "        1.        ,  1.        ,  0.5       ,  0.5       ,  1.        ,\n",
       "        0.66666667,  1.        ,  1.        ,  1.        ,  0.66666667,\n",
       "        0.        ,  0.        ,  0.69314718,  0.69314718,  1.        ,\n",
       "        1.        ,  1.        ,  1.        ,  0.        ,  0.        ,\n",
       "        0.5       ,  0.5       ,  1.        ,  1.        ,  1.        ,\n",
       "        1.        ,  0.5       ,  0.5       ,  1.        ,  1.        ,\n",
       "        1.        ,  1.        ,  1.        ,  1.        ,  0.        ,\n",
       "        0.        ,  0.69314718,  0.69314718,  1.        ,  1.        ,\n",
       "        1.        ,  1.        ,  0.        ,  0.        ,  1.        ,\n",
       "        1.        ,  0.        ,  0.        ,  0.        ,  0.        ,\n",
       "        1.        ,  0.        ,  1.        ,  0.        ,  1.        ,\n",
       "        0.        ,  0.5       ,  1.        ,  0.5       ,  0.        ,\n",
       "        0.        ,  0.        ,  1.        ,  1.        ,  1.        ,\n",
       "        0.        ,  1.        ,  1.        ,  0.        ,  0.        ,\n",
       "        0.        ,  1.        ,  0.        ,  0.        ,  0.5       ,\n",
       "        0.5       ,  1.        ,  1.        ,  0.5       ,  0.5       ,\n",
       "        0.        ,  0.        ,  0.        ,  0.        ,  0.        ,\n",
       "        0.        ,  1.        ,  1.        ,  1.        ,  0.        ,\n",
       "        1.        ,  1.        ,  0.        ,  0.        ,  0.        ,\n",
       "        1.        ,  0.        ,  0.        ,  0.5       ,  0.5       ,\n",
       "        1.        ,  1.        ,  0.5       ,  0.5       ,  0.        ,\n",
       "        0.        ,  0.        ,  0.        ,  0.        ,  0.        ,\n",
       "        0.        ,  0.        ,  0.        ,  0.        ,  0.        ,\n",
       "        0.        ,  0.        ,  0.        ,  0.        ,  0.        ,\n",
       "        1.        ,  0.        ,  0.33333333,  1.        ,  1.        ,\n",
       "        0.33333333,  0.75      ,  1.        ,  0.75      ,  0.        ,\n",
       "        1.09861229,  1.        ,  2.        ,  1.        ,  1.        ,\n",
       "        0.        ,  0.66666667,  0.33333333,  1.        ,  1.        ,\n",
       "        0.        ,  1.        ,  0.33333333,  0.33333333,  1.5       ,\n",
       "        0.75      ,  1.5       ,  1.        ,  1.        ,  0.75      ,\n",
       "        0.5       ,  0.        ,  0.63651417,  1.09861229,  0.5       ,\n",
       "        1.        ,  1.        ,  1.        ,  0.        ,  0.        ,\n",
       "        0.5       ,  0.5       ,  1.        ,  1.        ,  1.        ,\n",
       "        1.        ,  0.5       ,  0.5       ,  1.        ,  1.        ,\n",
       "        1.        ,  1.        ,  1.        ,  1.        ,  0.        ,\n",
       "        0.        ,  0.69314718,  0.69314718,  1.        ,  1.        ,\n",
       "        1.        ,  2.        ,  0.        ,  0.        ,  1.        ,\n",
       "        1.        ,  0.        ,  0.        ,  0.        ,  0.        ,\n",
       "        1.        ,  0.        ,  0.5       ,  1.        ,  1.        ,\n",
       "        0.5       ,  0.66666667,  1.        ,  0.66666667,  0.        ,\n",
       "        0.69314718,  1.        ,  1.        ,  1.        ,  0.        ,\n",
       "        0.        ,  0.5       ,  0.5       ,  1.        ,  1.        ,\n",
       "        1.        ,  1.        ,  0.5       ,  0.5       ,  1.        ,\n",
       "        0.66666667,  1.        ,  1.        ,  1.        ,  0.66666667,\n",
       "        0.        ,  0.        ,  0.69314718,  0.69314718,  1.        ,\n",
       "        1.        ,  1.        ,  1.        ,  0.        ,  0.        ,\n",
       "        0.5       ,  0.5       ,  1.        ,  1.        ,  1.        ,\n",
       "        1.        ,  0.5       ,  0.5       ,  1.        ,  1.        ,\n",
       "        1.        ,  1.        ,  1.        ,  1.        ,  0.        ,\n",
       "        0.        ,  0.69314718,  0.69314718,  1.        ,  1.        ,\n",
       "        1.        ,  1.        ,  0.        ,  0.        ,  1.        ,\n",
       "        1.        ,  0.        ,  0.        ,  0.        ,  0.        ,\n",
       "        1.        ,  0.        ,  0.25      ,  1.        ,  1.        ,\n",
       "        0.25      ,  0.8       ,  1.        ,  0.8       ,  0.        ,\n",
       "        1.38629436,  1.        ,  2.        ,  1.        ,  0.        ,\n",
       "        0.        ,  0.5       ,  0.25      ,  2.        ,  1.        ,\n",
       "        1.        ,  1.        ,  0.5       ,  0.25      ,  2.        ,\n",
       "        0.8       ,  2.        ,  1.        ,  1.        ,  0.8       ,\n",
       "        1.        ,  0.        ,  0.69314718,  1.38629436,  1.        ,\n",
       "        1.        ,  1.        ,  1.        ,  0.        ,  0.        ,\n",
       "        0.5       ,  0.5       ,  1.        ,  1.        ,  1.        ,\n",
       "        1.        ,  0.5       ,  0.5       ,  1.        ,  1.        ,\n",
       "        1.        ,  1.        ,  1.        ,  1.        ,  0.        ,\n",
       "        0.        ,  0.69314718,  0.69314718,  1.        ,  1.        ,\n",
       "        1.        ,  3.        ,  0.        ,  0.        ,  1.        ,\n",
       "        1.        ,  0.        ,  0.        ,  0.        ,  0.        ,\n",
       "        1.        ,  0.        ,  0.33333333,  1.        ,  1.        ,\n",
       "        0.33333333,  0.75      ,  1.        ,  0.75      ,  0.        ,\n",
       "        1.09861229,  1.        ,  2.        ,  1.        ,  1.        ,\n",
       "        0.        ,  0.66666667,  0.33333333,  1.        ,  1.        ,\n",
       "        0.        ,  1.        ,  0.33333333,  0.33333333,  1.5       ,\n",
       "        0.75      ,  1.5       ,  1.        ,  1.        ,  0.75      ,\n",
       "        0.5       ,  0.        ,  0.63651417,  1.09861229,  0.5       ,\n",
       "        1.        ,  1.        ,  1.        ,  0.        ,  0.        ,\n",
       "        0.5       ,  0.5       ,  1.        ,  1.        ,  1.        ,\n",
       "        1.        ,  0.5       ,  0.5       ,  1.        ,  1.        ,\n",
       "        1.        ,  1.        ,  1.        ,  1.        ,  0.        ,\n",
       "        0.        ,  0.69314718,  0.69314718,  1.        ,  1.        ,\n",
       "        1.        ,  2.        ,  0.        ,  0.        ,  1.        ,\n",
       "        1.        ,  0.        ,  0.        ,  0.        ,  0.        ,\n",
       "        1.        ,  0.        ,  0.2       ,  1.        ,  1.        ,\n",
       "        0.2       ,  0.83333333,  1.        ,  0.83333333,  0.        ,\n",
       "        1.60943791,  1.        ,  3.        ,  1.        ,  1.        ,\n",
       "        0.        ,  0.6       ,  0.2       ,  2.        ,  1.        ,\n",
       "        0.        ,  1.        ,  0.4       ,  0.2       ,  2.5       ,\n",
       "        0.83333333,  2.5       ,  1.        ,  1.        ,  0.83333333,\n",
       "        1.        ,  0.        ,  0.67301167,  1.60943791,  0.66666667,\n",
       "        1.        ,  1.        ,  1.        ,  0.        ,  0.        ,\n",
       "        0.5       ,  0.5       ,  1.        ,  1.        ,  1.        ,\n",
       "        1.        ,  0.5       ,  0.5       ,  1.        ,  1.        ,\n",
       "        1.        ,  1.        ,  1.        ,  1.        ,  0.        ,\n",
       "        0.        ,  0.69314718,  0.69314718,  1.        ,  1.        ,\n",
       "        1.        ,  4.        ,  0.        ,  0.        ,  1.        ,\n",
       "        1.        ,  0.        ,  0.        ,  0.        ,  0.        ,\n",
       "        1.        ,  0.        ,  0.25      ,  1.        ,  1.        ,\n",
       "        0.25      ,  0.8       ,  1.        ,  0.8       ,  0.        ,\n",
       "        1.38629436,  1.        ,  2.        ,  1.        ,  0.        ,\n",
       "        0.        ,  0.5       ,  0.25      ,  2.        ,  1.        ,\n",
       "        1.        ,  1.        ,  0.5       ,  0.25      ,  2.        ,\n",
       "        0.8       ,  2.        ,  1.        ,  1.        ,  0.8       ,\n",
       "        1.        ,  0.        ,  0.69314718,  1.38629436,  1.        ,\n",
       "        1.        ,  1.        ,  1.        ,  0.        ,  0.        ,\n",
       "        0.5       ,  0.5       ,  1.        ,  1.        ,  1.        ,\n",
       "        1.        ,  0.5       ,  0.5       ,  1.        ,  1.        ,\n",
       "        1.        ,  1.        ,  1.        ,  1.        ,  0.        ,\n",
       "        0.        ,  0.69314718,  0.69314718,  1.        ,  1.        ,\n",
       "        1.        ,  3.        ,  0.        ,  0.        ,  1.        ,\n",
       "        1.        ,  0.        ,  0.        ,  0.        ,  0.        ,\n",
       "        1.        ,  0.        ,  0.16666667,  1.        ,  1.        ,\n",
       "        0.16666667,  0.85714286,  1.        ,  0.85714286,  0.        ,\n",
       "        1.79175947,  1.        ,  3.        ,  1.        ,  0.        ,\n",
       "        0.        ,  0.5       ,  0.16666667,  3.        ,  1.        ,\n",
       "        1.        ,  1.        ,  0.5       ,  0.16666667,  3.        ,\n",
       "        0.85714286,  3.        ,  1.        ,  1.        ,  0.85714286,\n",
       "        1.        ,  0.        ,  0.69314718,  1.79175947,  1.        ,\n",
       "        1.        ,  1.        ,  1.        ,  0.        ,  0.        ,\n",
       "        0.5       ,  0.5       ,  1.        ,  1.        ,  1.        ,\n",
       "        1.        ,  0.5       ,  0.5       ,  1.        ,  1.        ,\n",
       "        1.        ,  1.        ,  1.        ,  1.        ,  0.        ,\n",
       "        0.        ,  0.69314718,  0.69314718,  1.        ,  1.        ,\n",
       "        1.        ,  5.        ,  0.        ,  0.        ,  1.        ,\n",
       "        1.        ,  0.        ,  0.        ,  0.        ,  0.        ,\n",
       "        1.        ,  0.        ,  0.2       ,  1.        ,  1.        ,\n",
       "        0.2       ,  0.83333333,  1.        ,  0.83333333,  0.        ,\n",
       "        1.60943791,  1.        ,  3.        ,  1.        ,  1.        ,\n",
       "        0.        ,  0.6       ,  0.2       ,  2.        ,  1.        ,\n",
       "        0.        ,  1.        ,  0.4       ,  0.2       ,  2.5       ,\n",
       "        0.83333333,  2.5       ,  1.        ,  1.        ,  0.83333333,\n",
       "        1.        ,  0.        ,  0.67301167,  1.60943791,  0.66666667,\n",
       "        1.        ,  1.        ,  1.        ,  0.        ,  0.        ,\n",
       "        0.5       ,  0.5       ,  1.        ,  1.        ,  1.        ,\n",
       "        1.        ,  0.5       ,  0.5       ,  1.        ,  1.        ,\n",
       "        1.        ,  1.        ,  1.        ,  1.        ,  0.        ,\n",
       "        0.        ,  0.69314718,  0.69314718,  1.        ,  1.        ,\n",
       "        1.        ,  4.        ,  0.        ,  0.        ,  1.        ,\n",
       "        1.        ,  0.        ,  0.        ,  0.        ,  0.        ])"
      ]
     },
     "execution_count": 168,
     "metadata": {},
     "output_type": "execute_result"
    }
   ],
   "source": [
    "X_hc_concat.toarray()[0]"
   ]
  },
  {
   "cell_type": "code",
   "execution_count": 193,
   "metadata": {},
   "outputs": [
    {
     "name": "stdout",
     "output_type": "stream",
     "text": [
      "0.507870116498549\n"
     ]
    }
   ],
   "source": [
    "roc_scores = []\n",
    "# X = scale(X_hc_concat.toarray())\n",
    "X = X_hc_concat.toarray()\n",
    "for train, test in kfold.split(X, y):\n",
    "    X_combi_train = np.hstack((pca.fit_transform(X[train]), X_tensor[train])) \n",
    "    model.fit(X_combi_train, y[train])\n",
    "    X_combi_test = np.hstack((pca.fit_transform(X[test]), X_tensor[test]))\n",
    "    predict_proba = model.predict_proba(X_combi_test)\n",
    "    roc_scores.append(roc_auc_score(y_true=y[test], y_score=[x[1] for x in predict_proba]))\n",
    "\n",
    "print(np.mean(roc_scores))"
   ]
  },
  {
   "cell_type": "code",
   "execution_count": 188,
   "metadata": {},
   "outputs": [
    {
     "data": {
      "text/plain": [
       "<matplotlib.axes._subplots.AxesSubplot at 0x130e01710>"
      ]
     },
     "execution_count": 188,
     "metadata": {},
     "output_type": "execute_result"
    },
    {
     "data": {
      "image/png": "[encoded data removed]",
      "text/plain": [
       "<Figure size 432x288 with 1 Axes>"
      ]
     },
     "metadata": {
      "needs_background": "light"
     },
     "output_type": "display_data"
    }
   ],
   "source": [
    "import seaborn as sns\n",
    "\n",
    "sns.distplot(X[:, 514])"
   ]
  },
  {
   "cell_type": "code",
   "execution_count": 190,
   "metadata": {},
   "outputs": [
    {
     "data": {
      "text/plain": [
       "6771.20878630641"
      ]
     },
     "execution_count": 190,
     "metadata": {},
     "output_type": "execute_result"
    }
   ],
   "source": [
    "np.sum(np.abs(X[:,514]))"
   ]
  },
  {
   "cell_type": "code",
   "execution_count": 192,
   "metadata": {},
   "outputs": [
    {
     "data": {
      "text/plain": [
       "<matplotlib.axes._subplots.AxesSubplot at 0x130e4b690>"
      ]
     },
     "execution_count": 192,
     "metadata": {},
     "output_type": "execute_result"
    },
    {
     "data": {
      "image/png": "[encoded data removed]",
      "text/plain": [
       "<Figure size 432x288 with 1 Axes>"
      ]
     },
     "metadata": {
      "needs_background": "light"
     },
     "output_type": "display_data"
    }
   ],
   "source": [
    "sns.distplot(X_hc_concat.toarray()[:, 514])"
   ]
  },
  {
   "cell_type": "code",
   "execution_count": null,
   "metadata": {},
   "outputs": [],
   "source": []
  }
 ],
 "metadata": {
  "kernelspec": {
   "display_name": "Python 3",
   "language": "python",
   "name": "python3"
  },
  "language_info": {
   "codemirror_mode": {
    "name": "ipython",
    "version": 3
   },
   "file_extension": ".py",
   "mimetype": "text/x-python",
   "name": "python",
   "nbconvert_exporter": "python",
   "pygments_lexer": "ipython3",
   "version": "3.7.6"
  }
 },
 "nbformat": 4,
 "nbformat_minor": 2
}
