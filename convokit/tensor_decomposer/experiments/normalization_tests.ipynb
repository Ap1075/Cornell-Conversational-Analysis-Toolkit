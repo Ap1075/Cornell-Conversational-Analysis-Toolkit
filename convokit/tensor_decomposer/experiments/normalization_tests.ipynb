{
 "cells": [
  {
   "cell_type": "code",
   "execution_count": 1,
   "metadata": {},
   "outputs": [],
   "source": [
    "import os\n",
    "os.chdir('../../..')"
   ]
  },
  {
   "cell_type": "code",
   "execution_count": 2,
   "metadata": {},
   "outputs": [],
   "source": [
    "import convokit"
   ]
  },
  {
   "cell_type": "code",
   "execution_count": 45,
   "metadata": {},
   "outputs": [],
   "source": [
    "# CORPUS_DIR = \"convokit/thread_generator/fake-corpus-trajectory\"\n",
    "CORPUS_DIR = \"convokit/thread_generator/annotated-fake-trajectory-2\"\n",
    "# CORPUS_DIR = 'convokit/tensor_decomposer/experiments/reddit-trajectory-subset-annotated'\n",
    "# CORPUS_DIR = \"convokit/tensor_decomposer/experiments/reddit-trajectory-subset\""
   ]
  },
  {
   "cell_type": "code",
   "execution_count": 46,
   "metadata": {},
   "outputs": [],
   "source": [
    "from convokit import TensorDecomposer, HyperConvo, Corpus"
   ]
  },
  {
   "cell_type": "code",
   "execution_count": 52,
   "metadata": {},
   "outputs": [],
   "source": [
    "corpus = Corpus(filename=CORPUS_DIR)"
   ]
  },
  {
   "cell_type": "code",
   "execution_count": 6,
   "metadata": {},
   "outputs": [],
   "source": [
    "# hyperconv_range = range(2, 20+1)"
   ]
  },
  {
   "cell_type": "code",
   "execution_count": 7,
   "metadata": {},
   "outputs": [],
   "source": [
    "# hyperconv_range = range(2, 20+1)\n",
    "# def multi_hyperconv_transform(corpus, hyperconv_range):\n",
    "#     hc_transformers = [HyperConvo(prefix_len=i, feat_name=\"hyperconvo-{}\".format(i)) for i in hyperconv_range]\n",
    "#     for idx, hc in enumerate(list(reversed(hc_transformers))):\n",
    "#         print(hyperconv_range[-1]-idx)\n",
    "#         hc.transform(corpus)"
   ]
  },
  {
   "cell_type": "code",
   "execution_count": 8,
   "metadata": {},
   "outputs": [],
   "source": [
    "# multi_hyperconv_transform(corpus, hyperconv_range)"
   ]
  },
  {
   "cell_type": "code",
   "execution_count": 9,
   "metadata": {},
   "outputs": [],
   "source": [
    "# corpus.dump(\"reddit-trajectory-subset-annotated\", base_path=\"convokit/tensor_decomposer/experiments\")"
   ]
  },
  {
   "cell_type": "code",
   "execution_count": 53,
   "metadata": {},
   "outputs": [],
   "source": [
    "GROUP_SIZE=333"
   ]
  },
  {
   "cell_type": "code",
   "execution_count": 88,
   "metadata": {},
   "outputs": [],
   "source": [
    "import numpy as np\n",
    "def _min_max_scale(mat):\n",
    "    max_ = np.max(mat)\n",
    "    min_ = np.min(mat)\n",
    "    return (mat - min_) / (max_ - min_)\n",
    "\n",
    "def minmax_normalize(tensor):\n",
    "    tensor = tensor.copy()\n",
    "    for i in range(tensor.shape[2]):\n",
    "        tensor[:, :, i] = _min_max_scale(tensor[:, :, i])\n",
    "    return tensor"
   ]
  },
  {
   "cell_type": "code",
   "execution_count": null,
   "metadata": {},
   "outputs": [],
   "source": []
  },
  {
   "cell_type": "code",
   "execution_count": 55,
   "metadata": {},
   "outputs": [],
   "source": [
    "hyperconv_range = range(2, 20+1)\n",
    "td = TensorDecomposer(obj_type=\"conversation\",\n",
    "                      feature_set=[\"hyperconvo-{}\".format(i) for i in hyperconv_range],\n",
    "                      group_func=lambda convo: convo.get_utterance(convo.id).meta['subreddit'],\n",
    "                      rank=3\n",
    "                     )"
   ]
  },
  {
   "cell_type": "code",
   "execution_count": 56,
   "metadata": {},
   "outputs": [
    {
     "name": "stdout",
     "output_type": "stream",
     "text": [
      "Constructing tensor...Done.\n",
      "Decomposing tensor...Done.\n"
     ]
    },
    {
     "data": {
      "text/plain": [
       "<convokit.tensor_decomposer.tensorDecomposer.TensorDecomposer at 0x13cb01690>"
      ]
     },
     "execution_count": 56,
     "metadata": {},
     "output_type": "execute_result"
    }
   ],
   "source": [
    "td.fit(corpus)"
   ]
  },
  {
   "cell_type": "code",
   "execution_count": 14,
   "metadata": {},
   "outputs": [],
   "source": [
    "# td.summarize(corpus, axis_names=[\"Comment idx\", \"Threads\", \"Features\"], \n",
    "#              output_dir='convokit/tensor_decomposer/reports/25May_normal', \n",
    "#              report_title=\"25 May (normal)\")"
   ]
  },
  {
   "cell_type": "code",
   "execution_count": 57,
   "metadata": {},
   "outputs": [
    {
     "name": "stdout",
     "output_type": "stream",
     "text": [
      "0.9569569569569569\n"
     ]
    }
   ],
   "source": [
    "score = td.purity(n_clusters=3, actual_num_clusters=3, group_size=GROUP_SIZE)\n",
    "print(score)"
   ]
  },
  {
   "cell_type": "markdown",
   "metadata": {},
   "source": [
    "## Standard (from 3)"
   ]
  },
  {
   "cell_type": "code",
   "execution_count": 58,
   "metadata": {},
   "outputs": [],
   "source": [
    "td_3 = TensorDecomposer(obj_type=\"conversation\",\n",
    "                      feature_set=[\"hyperconvo-{}\".format(i) for i in range(3, 20+1)],\n",
    "                      group_func=lambda convo: convo.get_utterance(convo.id).meta['subreddit'],\n",
    "                      rank=3\n",
    "                     )"
   ]
  },
  {
   "cell_type": "code",
   "execution_count": 59,
   "metadata": {},
   "outputs": [
    {
     "name": "stdout",
     "output_type": "stream",
     "text": [
      "Constructing tensor...Done.\n",
      "Decomposing tensor...Done.\n"
     ]
    },
    {
     "data": {
      "text/plain": [
       "<convokit.tensor_decomposer.tensorDecomposer.TensorDecomposer at 0x13caa78d0>"
      ]
     },
     "execution_count": 59,
     "metadata": {},
     "output_type": "execute_result"
    }
   ],
   "source": [
    "td_3.fit(corpus)"
   ]
  },
  {
   "cell_type": "code",
   "execution_count": 60,
   "metadata": {},
   "outputs": [
    {
     "data": {
      "text/plain": [
       "(18, 999, 140)"
      ]
     },
     "execution_count": 60,
     "metadata": {},
     "output_type": "execute_result"
    }
   ],
   "source": [
    "td_3.tensor.shape"
   ]
  },
  {
   "cell_type": "code",
   "execution_count": 61,
   "metadata": {},
   "outputs": [
    {
     "name": "stdout",
     "output_type": "stream",
     "text": [
      "0.9569569569569569\n"
     ]
    }
   ],
   "source": [
    "score = td_3.purity(n_clusters=3, actual_num_clusters=3, group_size=GROUP_SIZE)\n",
    "print(score)"
   ]
  },
  {
   "cell_type": "markdown",
   "metadata": {},
   "source": [
    "## Min-max normalized (across threads)"
   ]
  },
  {
   "cell_type": "markdown",
   "metadata": {},
   "source": [
    "### From 2"
   ]
  },
  {
   "cell_type": "code",
   "execution_count": 62,
   "metadata": {},
   "outputs": [],
   "source": [
    "td_min_max = TensorDecomposer(obj_type=\"conversation\",\n",
    "                      feature_set=[\"hyperconvo-{}\".format(i) for i in range(2, 21)],\n",
    "                      group_func=lambda convo: convo.get_utterance(convo.id).meta['subreddit'],\n",
    "                      normalize_func=minmax_normalize,\n",
    "                      rank=3\n",
    "                     )"
   ]
  },
  {
   "cell_type": "code",
   "execution_count": 63,
   "metadata": {},
   "outputs": [
    {
     "name": "stdout",
     "output_type": "stream",
     "text": [
      "Constructing tensor...Done.\n",
      "Decomposing tensor...Done.\n"
     ]
    },
    {
     "data": {
      "text/plain": [
       "<convokit.tensor_decomposer.tensorDecomposer.TensorDecomposer at 0x13ca95110>"
      ]
     },
     "execution_count": 63,
     "metadata": {},
     "output_type": "execute_result"
    }
   ],
   "source": [
    "td_min_max.fit(corpus)"
   ]
  },
  {
   "cell_type": "code",
   "execution_count": 64,
   "metadata": {},
   "outputs": [],
   "source": [
    "# td_min_max.summarize(corpus, axis_names=[\"Comment idx\", \"Threads\", \"Features\"], \n",
    "#              output_dir='convokit/tensor_decomposer/reports/25May_minmax', \n",
    "#              report_title=\"25 May (min_max)\")"
   ]
  },
  {
   "cell_type": "code",
   "execution_count": 65,
   "metadata": {},
   "outputs": [
    {
     "name": "stdout",
     "output_type": "stream",
     "text": [
      "0.8528528528528528\n"
     ]
    }
   ],
   "source": [
    "score = td_min_max.purity(n_clusters=3, actual_num_clusters=3, group_size=GROUP_SIZE)\n",
    "print(score)"
   ]
  },
  {
   "cell_type": "markdown",
   "metadata": {},
   "source": [
    "### From 3"
   ]
  },
  {
   "cell_type": "code",
   "execution_count": 66,
   "metadata": {},
   "outputs": [
    {
     "name": "stdout",
     "output_type": "stream",
     "text": [
      "Constructing tensor...Done.\n",
      "Decomposing tensor...Done.\n"
     ]
    },
    {
     "data": {
      "text/plain": [
       "0.8698698698698699"
      ]
     },
     "execution_count": 66,
     "metadata": {},
     "output_type": "execute_result"
    }
   ],
   "source": [
    "td_min_max = TensorDecomposer(obj_type=\"conversation\",\n",
    "                      feature_set=[\"hyperconvo-{}\".format(i) for i in range(3, 21)],\n",
    "                      group_func=lambda convo: convo.get_utterance(convo.id).meta['subreddit'],\n",
    "                      normalize_func=minmax_normalize,\n",
    "                      rank=3\n",
    "                     )\n",
    "td_min_max.fit(corpus)\n",
    "td_min_max.purity(n_clusters=3, actual_num_clusters=3, group_size=GROUP_SIZE)"
   ]
  },
  {
   "cell_type": "markdown",
   "metadata": {},
   "source": [
    "## Standard-scaled (across threads)"
   ]
  },
  {
   "cell_type": "code",
   "execution_count": null,
   "metadata": {},
   "outputs": [],
   "source": []
  },
  {
   "cell_type": "code",
   "execution_count": 67,
   "metadata": {},
   "outputs": [],
   "source": [
    "from sklearn.preprocessing import StandardScaler\n",
    "def standard_scale(tensor):\n",
    "    tensor = tensor.copy()\n",
    "    for i in range(tensor.shape[2]):\n",
    "        tensor[:, :, i] = StandardScaler().fit_transform(tensor[:, :, i])\n",
    "    return tensor"
   ]
  },
  {
   "cell_type": "markdown",
   "metadata": {},
   "source": [
    "### From 2"
   ]
  },
  {
   "cell_type": "code",
   "execution_count": 68,
   "metadata": {},
   "outputs": [],
   "source": [
    "td_std_scale = TensorDecomposer(obj_type=\"conversation\",\n",
    "                      feature_set=[\"hyperconvo-{}\".format(i) for i in hyperconv_range],\n",
    "                      group_func=lambda convo: convo.get_utterance(convo.id).meta['subreddit'],\n",
    "                      normalize_func=standard_scale,\n",
    "                      rank=3\n",
    "                     )"
   ]
  },
  {
   "cell_type": "code",
   "execution_count": 69,
   "metadata": {},
   "outputs": [
    {
     "name": "stdout",
     "output_type": "stream",
     "text": [
      "Constructing tensor...Done.\n",
      "Decomposing tensor...Done.\n"
     ]
    },
    {
     "data": {
      "text/plain": [
       "<convokit.tensor_decomposer.tensorDecomposer.TensorDecomposer at 0x13cb02a90>"
      ]
     },
     "execution_count": 69,
     "metadata": {},
     "output_type": "execute_result"
    }
   ],
   "source": [
    "td_std_scale.fit(corpus)"
   ]
  },
  {
   "cell_type": "code",
   "execution_count": 70,
   "metadata": {},
   "outputs": [],
   "source": [
    "# td_std_scale.summarize(corpus, axis_names=[\"Comment idx\", \"Threads\", \"Features\"], \n",
    "#              output_dir='convokit/tensor_decomposer/reports/25May_std_scl', \n",
    "#              report_title=\"25 May (std scale)\")"
   ]
  },
  {
   "cell_type": "code",
   "execution_count": 71,
   "metadata": {},
   "outputs": [
    {
     "name": "stdout",
     "output_type": "stream",
     "text": [
      "0.7867867867867868\n"
     ]
    }
   ],
   "source": [
    "score = td_std_scale.purity(n_clusters=3, actual_num_clusters=3, group_size=GROUP_SIZE)\n",
    "print(score)"
   ]
  },
  {
   "cell_type": "markdown",
   "metadata": {},
   "source": [
    "### From 3"
   ]
  },
  {
   "cell_type": "code",
   "execution_count": 72,
   "metadata": {},
   "outputs": [
    {
     "name": "stdout",
     "output_type": "stream",
     "text": [
      "Constructing tensor...Done.\n",
      "Decomposing tensor...Done.\n"
     ]
    },
    {
     "data": {
      "text/plain": [
       "0.5125125125125125"
      ]
     },
     "execution_count": 72,
     "metadata": {},
     "output_type": "execute_result"
    }
   ],
   "source": [
    "td_std_scale = TensorDecomposer(obj_type=\"conversation\",\n",
    "                      feature_set=[\"hyperconvo-{}\".format(i) for i in range(3, 21)],\n",
    "                      group_func=lambda convo: convo.get_utterance(convo.id).meta['subreddit'],\n",
    "                      normalize_func=standard_scale,\n",
    "                      rank=3\n",
    "                     )\n",
    "td_std_scale.fit(corpus)\n",
    "td_std_scale.purity(n_clusters=3, actual_num_clusters=3, group_size=GROUP_SIZE)"
   ]
  },
  {
   "cell_type": "markdown",
   "metadata": {},
   "source": [
    "## Min-max scaled (within thread)"
   ]
  },
  {
   "cell_type": "code",
   "execution_count": null,
   "metadata": {},
   "outputs": [],
   "source": []
  },
  {
   "cell_type": "code",
   "execution_count": 73,
   "metadata": {},
   "outputs": [],
   "source": [
    "def _min_max_within(mat):\n",
    "    for i in range(mat.shape[1]):\n",
    "        min_ = np.min(mat[:, i])\n",
    "        max_ = np.max(mat[:, i])\n",
    "        if max_ - min_ == 0:\n",
    "            mat[:, i] = 0\n",
    "        else:\n",
    "            mat[:, i] = (mat[:, i] - min_)/ (max_ - min_)\n",
    "    return mat\n",
    "\n",
    "def minmax_within(tensor):\n",
    "    tensor = tensor.copy()\n",
    "    for i in range(tensor.shape[1]):\n",
    "        tensor[:, i, :] = _min_max_within(tensor[:, i, :])\n",
    "    return tensor"
   ]
  },
  {
   "cell_type": "markdown",
   "metadata": {},
   "source": [
    "### From 2"
   ]
  },
  {
   "cell_type": "code",
   "execution_count": 74,
   "metadata": {},
   "outputs": [],
   "source": [
    "td_min_max_within = TensorDecomposer(obj_type=\"conversation\",\n",
    "                      feature_set=[\"hyperconvo-{}\".format(i) for i in hyperconv_range],\n",
    "                      group_func=lambda convo: convo.get_utterance(convo.id).meta['subreddit'],\n",
    "                      normalize_func=minmax_within,\n",
    "                      rank=3\n",
    "                     )"
   ]
  },
  {
   "cell_type": "code",
   "execution_count": 75,
   "metadata": {},
   "outputs": [
    {
     "name": "stdout",
     "output_type": "stream",
     "text": [
      "Constructing tensor...Done.\n",
      "Decomposing tensor...Done.\n"
     ]
    },
    {
     "data": {
      "text/plain": [
       "<convokit.tensor_decomposer.tensorDecomposer.TensorDecomposer at 0x13ca75550>"
      ]
     },
     "execution_count": 75,
     "metadata": {},
     "output_type": "execute_result"
    }
   ],
   "source": [
    "td_min_max_within.fit(corpus)"
   ]
  },
  {
   "cell_type": "code",
   "execution_count": 76,
   "metadata": {},
   "outputs": [
    {
     "name": "stdout",
     "output_type": "stream",
     "text": [
      "Directory already exists. Exiting summarize()\n"
     ]
    },
    {
     "data": {
      "image/png": "[encoded data removed]",
      "text/plain": [
       "<Figure size 864x237.6 with 3 Axes>"
      ]
     },
     "metadata": {
      "needs_background": "light"
     },
     "output_type": "display_data"
    },
    {
     "data": {
      "image/png": "[encoded data removed]",
      "text/plain": [
       "<Figure size 864x237.6 with 3 Axes>"
      ]
     },
     "metadata": {
      "needs_background": "light"
     },
     "output_type": "display_data"
    },
    {
     "data": {
      "image/png": "[encoded data removed]",
      "text/plain": [
       "<Figure size 864x237.6 with 3 Axes>"
      ]
     },
     "metadata": {
      "needs_background": "light"
     },
     "output_type": "display_data"
    }
   ],
   "source": [
    "td_min_max_within.summarize(corpus, axis_names=[\"Comment idx\", \"Threads\", \"Features\"], \n",
    "             output_dir='convokit/tensor_decomposer/reports/25May_minmax_within', \n",
    "             report_title=\"25 May (min max within)\")"
   ]
  },
  {
   "cell_type": "code",
   "execution_count": 78,
   "metadata": {},
   "outputs": [
    {
     "name": "stdout",
     "output_type": "stream",
     "text": [
      "0.7897897897897898\n"
     ]
    }
   ],
   "source": [
    "score = td_min_max_within.purity(n_clusters=3, actual_num_clusters=3, group_size=GROUP_SIZE)\n",
    "print(score)"
   ]
  },
  {
   "cell_type": "markdown",
   "metadata": {},
   "source": [
    "### From 3"
   ]
  },
  {
   "cell_type": "code",
   "execution_count": 79,
   "metadata": {},
   "outputs": [],
   "source": [
    "td_min_max_within = TensorDecomposer(obj_type=\"conversation\",\n",
    "                      feature_set=[\"hyperconvo-{}\".format(i) for i in range(3, 21)],\n",
    "                      group_func=lambda convo: convo.get_utterance(convo.id).meta['subreddit'],\n",
    "                      normalize_func=minmax_within,\n",
    "                      rank=3\n",
    "                     )"
   ]
  },
  {
   "cell_type": "code",
   "execution_count": 80,
   "metadata": {},
   "outputs": [
    {
     "name": "stdout",
     "output_type": "stream",
     "text": [
      "Constructing tensor...Done.\n",
      "Decomposing tensor...Done.\n"
     ]
    },
    {
     "data": {
      "text/plain": [
       "0.6136136136136137"
      ]
     },
     "execution_count": 80,
     "metadata": {},
     "output_type": "execute_result"
    }
   ],
   "source": [
    "td_min_max_within.fit(corpus)\n",
    "td_min_max_within.purity(n_clusters=3, actual_num_clusters=3, group_size=GROUP_SIZE)"
   ]
  },
  {
   "cell_type": "markdown",
   "metadata": {},
   "source": [
    "## Standard scaling by comment index"
   ]
  },
  {
   "cell_type": "code",
   "execution_count": 81,
   "metadata": {},
   "outputs": [],
   "source": [
    "from sklearn.preprocessing import scale"
   ]
  },
  {
   "cell_type": "code",
   "execution_count": 82,
   "metadata": {},
   "outputs": [
    {
     "data": {
      "text/plain": [
       "array([[15.        ,  0.        ,  0.78947368, ...,  1.        ,\n",
       "         0.        ,  0.        ],\n",
       "       [15.        ,  0.        ,  0.78947368, ...,  1.        ,\n",
       "         1.        ,  1.        ],\n",
       "       [13.        ,  0.        ,  0.68421053, ...,  2.        ,\n",
       "         1.        ,  1.        ],\n",
       "       ...,\n",
       "       [ 2.        ,  3.        ,  0.10526316, ...,  5.        ,\n",
       "         1.        ,  7.        ],\n",
       "       [ 2.        ,  1.        ,  0.10526316, ...,  6.        ,\n",
       "         1.        ,  8.        ],\n",
       "       [ 2.        ,  1.        ,  0.10526316, ...,  3.        ,\n",
       "         1.        ,  7.        ]])"
      ]
     },
     "execution_count": 82,
     "metadata": {},
     "output_type": "execute_result"
    }
   ],
   "source": [
    "td.tensor[18, :, :]"
   ]
  },
  {
   "cell_type": "code",
   "execution_count": 83,
   "metadata": {},
   "outputs": [],
   "source": [
    "def scale_by_comment_idx(tensor):\n",
    "    tensor = tensor.copy()\n",
    "    for i in range(tensor.shape[0]):\n",
    "        tensor[0, :, :] = scale(tensor[0, :, :])\n",
    "    return tensor"
   ]
  },
  {
   "cell_type": "markdown",
   "metadata": {},
   "source": [
    "### From 2"
   ]
  },
  {
   "cell_type": "code",
   "execution_count": 84,
   "metadata": {},
   "outputs": [],
   "source": [
    "td_idx_scale = TensorDecomposer(obj_type=\"conversation\",\n",
    "                      feature_set=[\"hyperconvo-{}\".format(i) for i in range(2, 21)],\n",
    "                      group_func=lambda convo: convo.get_utterance(convo.id).meta['subreddit'],\n",
    "                      normalize_func=scale_by_comment_idx,\n",
    "                      rank=3\n",
    "                     )"
   ]
  },
  {
   "cell_type": "code",
   "execution_count": 85,
   "metadata": {},
   "outputs": [
    {
     "name": "stdout",
     "output_type": "stream",
     "text": [
      "Constructing tensor...Done.\n",
      "Decomposing tensor...Done.\n"
     ]
    },
    {
     "data": {
      "text/plain": [
       "0.9569569569569569"
      ]
     },
     "execution_count": 85,
     "metadata": {},
     "output_type": "execute_result"
    }
   ],
   "source": [
    "td_idx_scale.fit(corpus)\n",
    "td_idx_scale.purity(n_clusters=3, actual_num_clusters=3, group_size=GROUP_SIZE)"
   ]
  },
  {
   "cell_type": "markdown",
   "metadata": {},
   "source": [
    "### From 3"
   ]
  },
  {
   "cell_type": "code",
   "execution_count": 86,
   "metadata": {},
   "outputs": [],
   "source": [
    "td_idx_scale_3 = TensorDecomposer(obj_type=\"conversation\",\n",
    "                      feature_set=[\"hyperconvo-{}\".format(i) for i in range(3, 21)],\n",
    "                      group_func=lambda convo: convo.get_utterance(convo.id).meta['subreddit'],\n",
    "                      normalize_func=scale_by_comment_idx,\n",
    "                      rank=3\n",
    "                     )"
   ]
  },
  {
   "cell_type": "code",
   "execution_count": 87,
   "metadata": {},
   "outputs": [
    {
     "name": "stdout",
     "output_type": "stream",
     "text": [
      "Constructing tensor...Done.\n",
      "Decomposing tensor..."
     ]
    },
    {
     "name": "stderr",
     "output_type": "stream",
     "text": [
      "/Library/Frameworks/Python.framework/Versions/3.7/lib/python3.7/site-packages/sklearn/preprocessing/data.py:189: UserWarning: Numerical issues were encountered when scaling the data and might not be solved. The standard deviation of the data is probably very close to 0. \n",
      "  warnings.warn(\"Numerical issues were encountered \"\n"
     ]
    },
    {
     "name": "stdout",
     "output_type": "stream",
     "text": [
      "Done.\n"
     ]
    },
    {
     "data": {
      "text/plain": [
       "0.9569569569569569"
      ]
     },
     "execution_count": 87,
     "metadata": {},
     "output_type": "execute_result"
    }
   ],
   "source": [
    "td_idx_scale_3.fit(corpus)\n",
    "td_idx_scale_3.purity(n_clusters=3, actual_num_clusters=3, group_size=GROUP_SIZE)"
   ]
  },
  {
   "cell_type": "code",
   "execution_count": null,
   "metadata": {},
   "outputs": [],
   "source": []
  }
 ],
 "metadata": {
  "kernelspec": {
   "display_name": "Python 3",
   "language": "python",
   "name": "python3"
  },
  "language_info": {
   "codemirror_mode": {
    "name": "ipython",
    "version": 3
   },
   "file_extension": ".py",
   "mimetype": "text/x-python",
   "name": "python",
   "nbconvert_exporter": "python",
   "pygments_lexer": "ipython3",
   "version": "3.7.6"
  }
 },
 "nbformat": 4,
 "nbformat_minor": 2
}
