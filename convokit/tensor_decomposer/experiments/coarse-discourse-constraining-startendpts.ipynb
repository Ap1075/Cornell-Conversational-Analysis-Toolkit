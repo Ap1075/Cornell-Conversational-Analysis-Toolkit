{
 "cells": [
  {
   "cell_type": "code",
   "execution_count": 1,
   "metadata": {},
   "outputs": [],
   "source": [
    "import os\n",
    "os.chdir('../../..')"
   ]
  },
  {
   "cell_type": "code",
   "execution_count": 2,
   "metadata": {},
   "outputs": [],
   "source": [
    "import convokit\n",
    "from convokit import TextParser, TensorDecomposer, Corpus, download"
   ]
  },
  {
   "cell_type": "code",
   "execution_count": 3,
   "metadata": {},
   "outputs": [],
   "source": [
    "corpus = Corpus('convokit/tensor_decomposer/experiments/coarse-discourse-subset')"
   ]
  },
  {
   "cell_type": "code",
   "execution_count": 4,
   "metadata": {},
   "outputs": [],
   "source": [
    "convo_df = corpus.get_conversations_dataframe()"
   ]
  },
  {
   "cell_type": "code",
   "execution_count": 5,
   "metadata": {},
   "outputs": [],
   "source": [
    "dis_8 = 0\n",
    "for convo_id in convo_df[convo_df['meta.longest_path'] >= 8].index:\n",
    "    convo = corpus.get_conversation(convo_id)\n",
    "    if convo.get_chronological_utterance_list()[7].meta['disagreement'] == 1:\n",
    "        dis_8 += 1"
   ]
  },
  {
   "cell_type": "code",
   "execution_count": 6,
   "metadata": {},
   "outputs": [
    {
     "data": {
      "text/plain": [
       "127"
      ]
     },
     "execution_count": 6,
     "metadata": {},
     "output_type": "execute_result"
    }
   ],
   "source": [
    "dis_8"
   ]
  },
  {
   "cell_type": "code",
   "execution_count": 7,
   "metadata": {},
   "outputs": [],
   "source": [
    "td_disgmt = TensorDecomposer(feature_set=['annot-dict-{}'.format(idx) for idx in range(1, 8+1)], \n",
    "                      obj_type=\"conversation\", tensor_func='tensortools-ncp-bcd', rank=9)"
   ]
  },
  {
   "cell_type": "code",
   "execution_count": 8,
   "metadata": {},
   "outputs": [
    {
     "name": "stdout",
     "output_type": "stream",
     "text": [
      "Constructing tensor...Done.\n",
      "Decomposing tensor...NCP_BCD: iteration 1, objective 0.8035441580297471, improvement inf.\n",
      "NCP_BCD: iteration 2, objective 0.7740759343271497, improvement 0.029468223702597385.\n",
      "NCP_BCD: iteration 3, objective 0.7537409848439106, improvement 0.020334949483239106.\n",
      "NCP_BCD: iteration 4, objective 0.7286451330574913, improvement 0.025095851786419265.\n",
      "NCP_BCD: iteration 5, objective 0.7057673622372209, improvement 0.022877770820270427.\n",
      "NCP_BCD: iteration 6, objective 0.6857903562170073, improvement 0.019977006020213572.\n",
      "NCP_BCD: iteration 7, objective 0.6713788293710824, improvement 0.014411526845924949.\n",
      "NCP_BCD: iteration 8, objective 0.6614151738323972, improvement 0.009963655538685168.\n",
      "NCP_BCD: iteration 9, objective 0.6540387152334705, improvement 0.007376458598926772.\n",
      "NCP_BCD: iteration 10, objective 0.6487659767696531, improvement 0.0052727384638173724.\n",
      "NCP_BCD: iteration 11, objective 0.6446100394629971, improvement 0.004155937306655977.\n",
      "NCP_BCD: iteration 12, objective 0.641009449905601, improvement 0.003600589557396061.\n",
      "NCP_BCD: iteration 13, objective 0.6378065568184826, improvement 0.003202893087118408.\n",
      "NCP_BCD: iteration 14, objective 0.6347645491182518, improvement 0.0030420077002308865.\n",
      "NCP_BCD: iteration 15, objective 0.6318110647385037, improvement 0.0029534843797480725.\n",
      "NCP_BCD: iteration 16, objective 0.6289812230930919, improvement 0.002829841645411779.\n",
      "NCP_BCD: iteration 17, objective 0.6263998084348087, improvement 0.00258141465828321.\n",
      "NCP_BCD: iteration 18, objective 0.6240886500063348, improvement 0.0023111584284738473.\n",
      "NCP_BCD: iteration 19, objective 0.6220813592741179, improvement 0.0020072907322169486.\n",
      "NCP_BCD: iteration 20, objective 0.6203413385776368, improvement 0.0017400206964810483.\n",
      "NCP_BCD: iteration 21, objective 0.6189079441996316, improvement 0.0014333943780052705.\n",
      "NCP_BCD: iteration 22, objective 0.6176747727460786, improvement 0.0012331714535529503.\n",
      "NCP_BCD: iteration 23, objective 0.6167652066966797, improvement 0.0009095660493989577.\n",
      "NCP_BCD: iteration 24, objective 0.6160004768827636, improvement 0.0007647298139160652.\n",
      "NCP_BCD: iteration 25, objective 0.6154602824623584, improvement 0.0005401944204052045.\n",
      "NCP_BCD: iteration 26, objective 0.6151464130999271, improvement 0.00031386936243127384.\n",
      "NCP_BCD: iteration 27, objective 0.6149554543191914, improvement 0.00019095878073571715.\n",
      "NCP_BCD: iteration 28, objective 0.6148281893937768, improvement 0.0001272649254145941.\n",
      "NCP_BCD: iteration 29, objective 0.614726908261239, improvement 0.00010128113253782267.\n",
      "NCP_BCD: iteration 30, objective 0.6146371951694721, improvement 8.971309176686315e-05.\n",
      "NCP_BCD: iteration 31, objective 0.6145523964117092, improvement 8.479875776290502e-05.\n",
      "NCP_BCD: iteration 32, objective 0.6144720032255974, improvement 8.039318611186008e-05.\n",
      "NCP_BCD: iteration 33, objective 0.6143980518027713, improvement 7.395142282606848e-05.\n",
      "NCP_BCD: iteration 34, objective 0.6143316288301922, improvement 6.642297257908325e-05.\n",
      "NCP_BCD: iteration 35, objective 0.6142722894922843, improvement 5.933933790791546e-05.\n",
      "NCP_BCD: iteration 36, objective 0.6142186070980333, improvement 5.368239425096455e-05.\n",
      "NCP_BCD: iteration 37, objective 0.6141680840033691, improvement 5.052309466424543e-05.\n",
      "NCP_BCD: iteration 38, objective 0.6141185070591897, improvement 4.9576944179396953e-05.\n",
      "NCP_BCD: iteration 39, objective 0.6140722195547048, improvement 4.628750448487651e-05.\n",
      "NCP_BCD: iteration 40, objective 0.6140227540015176, improvement 4.946555318718904e-05.\n",
      "NCP_BCD: iteration 41, objective 0.6139706426683981, improvement 5.2111333119553294e-05.\n",
      "NCP_BCD: iteration 42, objective 0.6139168358009937, improvement 5.380686740441565e-05.\n",
      "NCP_BCD: iteration 43, objective 0.6138619532031467, improvement 5.488259784691696e-05.\n",
      "NCP_BCD: iteration 44, objective 0.6138061673818818, improvement 5.578582126497533e-05.\n",
      "NCP_BCD: iteration 45, objective 0.6137489459307572, improvement 5.7221451124522815e-05.\n",
      "NCP_BCD: iteration 46, objective 0.6136900521149377, improvement 5.889381581958286e-05.\n",
      "NCP_BCD: iteration 47, objective 0.6136296854576666, improvement 6.0366657271049284e-05.\n",
      "NCP_BCD: iteration 48, objective 0.6135682264855068, improvement 6.145897215981133e-05.\n",
      "NCP_BCD: iteration 49, objective 0.6135062048769664, improvement 6.202160854040795e-05.\n",
      "NCP_BCD: iteration 50, objective 0.6134442353229892, improvement 6.19695539771925e-05.\n",
      "NCP_BCD: iteration 51, objective 0.6133838195585255, improvement 6.04157644636949e-05.\n",
      "NCP_BCD: iteration 52, objective 0.6133247486658401, improvement 5.9070892685419985e-05.\n",
      "NCP_BCD: iteration 53, objective 0.6132672359250454, improvement 5.751274079468516e-05.\n",
      "NCP_BCD: iteration 54, objective 0.6132116878844615, improvement 5.554804058394147e-05.\n",
      "NCP_BCD: iteration 55, objective 0.6131584465359795, improvement 5.324134848194717e-05.\n",
      "NCP_BCD: iteration 56, objective 0.6131149346511492, improvement 4.3511884830316205e-05.\n",
      "NCP_BCD: iteration 57, objective 0.6130866993057786, improvement 2.8235345370553055e-05.\n",
      "NCP_BCD: iteration 58, objective 0.6130575496619722, improvement 2.914964380640317e-05.\n",
      "NCP_BCD: iteration 59, objective 0.6130285769346148, improvement 2.897272735746803e-05.\n",
      "NCP_BCD: iteration 60, objective 0.6130013280661661, improvement 2.7248868448626062e-05.\n",
      "NCP_BCD: iteration 61, objective 0.6129764593213639, improvement 2.4868744802231113e-05.\n",
      "NCP_BCD: iteration 62, objective 0.6129532929651061, improvement 2.316635625776442e-05.\n",
      "NCP_BCD: iteration 63, objective 0.6129309973217277, improvement 2.229564337841161e-05.\n",
      "NCP_BCD: iteration 64, objective 0.6129090153971017, improvement 2.1981924625991134e-05.\n",
      "NCP_BCD: iteration 65, objective 0.6128869648313131, improvement 2.2050565788633847e-05.\n",
      "NCP_BCD: iteration 66, objective 0.6128644622306131, improvement 2.2502600700025077e-05.\n",
      "NCP_BCD: iteration 67, objective 0.6128410165257641, improvement 2.3445704849023308e-05.\n",
      "NCP_BCD: iteration 68, objective 0.6128160506592817, improvement 2.4965866482373755e-05.\n",
      "NCP_BCD: iteration 69, objective 0.6127890213987819, improvement 2.7029260499800145e-05.\n",
      "NCP_BCD: iteration 70, objective 0.6127593361272125, improvement 2.9685271569435123e-05.\n",
      "NCP_BCD: iteration 71, objective 0.6127262897644971, improvement 3.3046362715394295e-05.\n",
      "NCP_BCD: iteration 72, objective 0.6126890859400481, improvement 3.7203824448939216e-05.\n",
      "NCP_BCD: iteration 73, objective 0.6126467986452055, improvement 4.228729484256899e-05.\n",
      "NCP_BCD: iteration 74, objective 0.6125985576860873, improvement 4.8240959118261983e-05.\n",
      "NCP_BCD: iteration 75, objective 0.6125435501219834, improvement 5.500756410392604e-05.\n",
      "NCP_BCD: iteration 76, objective 0.6124810430393789, improvement 6.250708260446824e-05.\n",
      "NCP_BCD: iteration 77, objective 0.612410703412744, improvement 7.033962663494098e-05.\n",
      "NCP_BCD: iteration 78, objective 0.6123331687061326, improvement 7.753470661131523e-05.\n",
      "NCP_BCD: iteration 79, objective 0.6122517541327457, improvement 8.14145733869509e-05.\n",
      "NCP_BCD: iteration 80, objective 0.6121681717123693, improvement 8.358242037642682e-05.\n",
      "NCP_BCD: iteration 81, objective 0.6120994415845924, improvement 6.87301277768615e-05.\n",
      "NCP_BCD: iteration 82, objective 0.612024979731243, improvement 7.446185334936128e-05.\n",
      "NCP_BCD: iteration 83, objective 0.611949914117703, improvement 7.506561353998187e-05.\n",
      "NCP_BCD: iteration 84, objective 0.6118790812647825, improvement 7.083285292053265e-05.\n",
      "NCP_BCD: iteration 85, objective 0.6118155748432056, improvement 6.350642157693098e-05.\n",
      "NCP_BCD: iteration 86, objective 0.6117696447495743, improvement 4.593009363129674e-05.\n",
      "NCP_BCD: iteration 87, objective 0.6117426544534591, improvement 2.6990296115192436e-05.\n",
      "NCP_BCD: iteration 88, objective 0.6117209912206306, improvement 2.1663232828483814e-05.\n",
      "NCP_BCD: iteration 89, objective 0.6117044619407676, improvement 1.6529279863064517e-05.\n",
      "NCP_BCD: iteration 90, objective 0.6116929416739915, improvement 1.1520266776088306e-05.\n",
      "NCP_BCD: iteration 91, objective 0.6116856185804055, improvement 7.323093585975826e-06.\n",
      "Converged after 91 iterations, 0.1239434330000222 seconds. Objective: 0.6116856185804055.\n",
      "Done.\n"
     ]
    },
    {
     "data": {
      "text/plain": [
       "<convokit.tensor_decomposer.tensorDecomposer.TensorDecomposer at 0x132bda290>"
      ]
     },
     "execution_count": 8,
     "metadata": {},
     "output_type": "execute_result"
    }
   ],
   "source": [
    "td_disgmt.fit(corpus, selector=lambda convo: convo.meta['longest_path'] >= 8 and \n",
    "              convo.get_chronological_utterance_list()[7].meta['disagreement'] == 1)"
   ]
  },
  {
   "cell_type": "code",
   "execution_count": 9,
   "metadata": {
    "scrolled": false
   },
   "outputs": [
    {
     "name": "stdout",
     "output_type": "stream",
     "text": [
      "Directory already exists. Exiting summarize()\n"
     ]
    },
    {
     "data": {
      "image/png": "[encoded data removed]",
      "text/plain": [
       "<Figure size 864x324 with 3 Axes>"
      ]
     },
     "metadata": {
      "needs_background": "light"
     },
     "output_type": "display_data"
    },
    {
     "data": {
      "image/png": "[encoded data removed]",
      "text/plain": [
       "<Figure size 864x324 with 3 Axes>"
      ]
     },
     "metadata": {},
     "output_type": "display_data"
    },
    {
     "data": {
      "image/png": "[encoded data removed]",
      "text/plain": [
       "<Figure size 864x324 with 3 Axes>"
      ]
     },
     "metadata": {},
     "output_type": "display_data"
    },
    {
     "data": {
      "image/png": "[encoded data removed]",
      "text/plain": [
       "<Figure size 864x324 with 3 Axes>"
      ]
     },
     "metadata": {},
     "output_type": "display_data"
    },
    {
     "data": {
      "image/png": "[encoded data removed]",
      "text/plain": [
       "<Figure size 864x324 with 3 Axes>"
      ]
     },
     "metadata": {},
     "output_type": "display_data"
    },
    {
     "data": {
      "image/png": "[encoded data removed]",
      "text/plain": [
       "<Figure size 864x324 with 3 Axes>"
      ]
     },
     "metadata": {},
     "output_type": "display_data"
    },
    {
     "data": {
      "image/png": "[encoded data removed]",
      "text/plain": [
       "<Figure size 864x324 with 3 Axes>"
      ]
     },
     "metadata": {},
     "output_type": "display_data"
    },
    {
     "data": {
      "image/png": "[encoded data removed]",
      "text/plain": [
       "<Figure size 864x324 with 3 Axes>"
      ]
     },
     "metadata": {},
     "output_type": "display_data"
    },
    {
     "data": {
      "image/png": "[encoded data removed]",
      "text/plain": [
       "<Figure size 864x324 with 3 Axes>"
      ]
     },
     "metadata": {},
     "output_type": "display_data"
    }
   ],
   "source": [
    "td_disgmt.summarize(corpus, axis_names=['Comment index', 'Threads', 'Annotations'], \n",
    "             output_dir='convokit/tensor_decomposer/reports/coarse-discourse', \n",
    "             report_title='Coarse discourse', \n",
    "             liwc=True)"
   ]
  },
  {
   "cell_type": "code",
   "execution_count": 20,
   "metadata": {},
   "outputs": [],
   "source": [
    "import seaborn as sns\n",
    "import numpy as np"
   ]
  },
  {
   "cell_type": "code",
   "execution_count": 17,
   "metadata": {},
   "outputs": [
    {
     "data": {
      "text/plain": [
       "<matplotlib.axes._subplots.AxesSubplot at 0x12751ed90>"
      ]
     },
     "execution_count": 17,
     "metadata": {},
     "output_type": "execute_result"
    },
    {
     "data": {
      "image/png": "[encoded data removed]",
      "text/plain": [
       "<Figure size 432x288 with 1 Axes>"
      ]
     },
     "metadata": {},
     "output_type": "display_data"
    }
   ],
   "source": [
    "sns.distplot(td_disgmt.factors[1][:, 1])"
   ]
  },
  {
   "cell_type": "code",
   "execution_count": 18,
   "metadata": {},
   "outputs": [
    {
     "data": {
      "text/plain": [
       "<matplotlib.axes._subplots.AxesSubplot at 0x12751b4d0>"
      ]
     },
     "execution_count": 18,
     "metadata": {},
     "output_type": "execute_result"
    },
    {
     "data": {
      "image/png": "[encoded data removed]",
      "text/plain": [
       "<Figure size 432x288 with 1 Axes>"
      ]
     },
     "metadata": {},
     "output_type": "display_data"
    }
   ],
   "source": [
    "sns.distplot(td_disgmt.factors[1][:, 2])"
   ]
  },
  {
   "cell_type": "code",
   "execution_count": 76,
   "metadata": {},
   "outputs": [],
   "source": [
    "arr0 = td_disgmt.factors[1][:, 0]\n",
    "arr1 = td_disgmt.factors[1][:, 1]\n",
    "arr2 = td_disgmt.factors[1][:, 2]"
   ]
  },
  {
   "cell_type": "code",
   "execution_count": 103,
   "metadata": {},
   "outputs": [
    {
     "data": {
      "text/plain": [
       "0.3604255565872809"
      ]
     },
     "execution_count": 103,
     "metadata": {},
     "output_type": "execute_result"
    }
   ],
   "source": [
    "arr0[27]"
   ]
  },
  {
   "cell_type": "code",
   "execution_count": 123,
   "metadata": {},
   "outputs": [],
   "source": [
    "start_index = 55\n",
    "arr0_top = set(list(np.argsort(arr0)[-start_index:]))\n",
    "arr1_top = set(list(np.argsort(arr1)[-start_index:]))\n",
    "arr2_top = set(list(np.argsort(arr2)[-start_index:]))"
   ]
  },
  {
   "cell_type": "code",
   "execution_count": 131,
   "metadata": {},
   "outputs": [
    {
     "data": {
      "text/plain": [
       "18"
      ]
     },
     "execution_count": 131,
     "metadata": {},
     "output_type": "execute_result"
    }
   ],
   "source": [
    "# appears in all three\n",
    "len(arr0_top & arr1_top & arr2_top)"
   ]
  },
  {
   "cell_type": "code",
   "execution_count": 125,
   "metadata": {},
   "outputs": [],
   "source": [
    "convo_df_subset = corpus.get_conversations_dataframe(selector=lambda convo: convo.meta['longest_path'] >= 8 and \n",
    "              convo.get_chronological_utterance_list()[7].meta['disagreement'] == 1)"
   ]
  },
  {
   "cell_type": "code",
   "execution_count": 126,
   "metadata": {},
   "outputs": [
    {
     "name": "stdout",
     "output_type": "stream",
     "text": [
      "0\n",
      "    0\n",
      "        1\n",
      "            0\n",
      "                1\n",
      "                    1\n",
      "                        1\n",
      "                            1\n",
      "0\n",
      "    0\n",
      "        1\n",
      "            1\n",
      "                1\n",
      "                    1\n",
      "                        1\n",
      "                            1\n",
      "0\n",
      "    0\n",
      "        1\n",
      "            1\n",
      "                1\n",
      "                    1\n",
      "                        1\n",
      "                            1\n",
      "0\n",
      "    0\n",
      "        1\n",
      "            1\n",
      "                1\n",
      "                    1\n",
      "                        1\n",
      "                            1\n",
      "0\n",
      "    0\n",
      "        0\n",
      "            1\n",
      "                1\n",
      "                    1\n",
      "                        1\n",
      "                            1\n",
      "0\n",
      "    1\n",
      "        1\n",
      "            1\n",
      "                1\n",
      "                    1\n",
      "                        1\n",
      "                            1\n",
      "0\n",
      "    0\n",
      "        1\n",
      "            1\n",
      "                1\n",
      "                    1\n",
      "                        1\n",
      "                            1\n",
      "0\n",
      "    1\n",
      "        0\n",
      "            1\n",
      "                1\n",
      "                    1\n",
      "                        1\n",
      "                            1\n",
      "0\n",
      "    0\n",
      "        1\n",
      "            1\n",
      "                1\n",
      "                    1\n",
      "                        1\n",
      "                            1\n",
      "0\n",
      "    0\n",
      "        0\n",
      "            1\n",
      "                1\n",
      "                    1\n",
      "                        1\n",
      "                            1\n",
      "0\n",
      "    0\n",
      "        1\n",
      "            1\n",
      "                1\n",
      "                    1\n",
      "                        1\n",
      "                            1\n",
      "0\n",
      "    0\n",
      "        1\n",
      "            1\n",
      "                1\n",
      "                    1\n",
      "                        1\n",
      "                            1\n",
      "0\n",
      "    1\n",
      "        1\n",
      "            1\n",
      "                1\n",
      "                    1\n",
      "                        1\n",
      "                            1\n",
      "0\n",
      "    0\n",
      "        1\n",
      "            0\n",
      "                1\n",
      "                    1\n",
      "                        1\n",
      "                            1\n",
      "0\n",
      "    1\n",
      "        1\n",
      "            1\n",
      "                1\n",
      "                    1\n",
      "                        1\n",
      "                            1\n",
      "0\n",
      "    0\n",
      "        1\n",
      "            0\n",
      "                1\n",
      "                    1\n",
      "                        1\n",
      "                            1\n",
      "0\n",
      "    0\n",
      "        1\n",
      "            1\n",
      "                1\n",
      "                    1\n",
      "                        1\n",
      "                            1\n",
      "0\n",
      "    0\n",
      "        1\n",
      "            1\n",
      "                1\n",
      "                    1\n",
      "                        1\n",
      "                            1\n"
     ]
    }
   ],
   "source": [
    "for idx in (arr0_top & arr1_top & arr2_top):\n",
    "    convo_id = convo_df_subset.iloc[idx].name\n",
    "    corpus.get_conversation(convo_id).print_conversation_structure(lambda utt: str(utt.meta['disagreement']), limit=8)"
   ]
  },
  {
   "cell_type": "code",
   "execution_count": 132,
   "metadata": {},
   "outputs": [
    {
     "data": {
      "text/plain": [
       "15"
      ]
     },
     "execution_count": 132,
     "metadata": {},
     "output_type": "execute_result"
    }
   ],
   "source": [
    "len(arr0_top - (arr1_top | arr2_top))"
   ]
  },
  {
   "cell_type": "code",
   "execution_count": 129,
   "metadata": {
    "scrolled": false
   },
   "outputs": [
    {
     "name": "stdout",
     "output_type": "stream",
     "text": [
      "0\n",
      "    0\n",
      "        0\n",
      "            1\n",
      "                0\n",
      "                    0\n",
      "                        1\n",
      "                            1\n",
      "0\n",
      "    0\n",
      "        1\n",
      "            1\n",
      "                1\n",
      "                    0\n",
      "                        1\n",
      "                            1\n",
      "0\n",
      "    0\n",
      "        0\n",
      "            1\n",
      "                0\n",
      "                    0\n",
      "                        0\n",
      "                            1\n",
      "0\n",
      "    0\n",
      "        0\n",
      "            1\n",
      "                0\n",
      "                    0\n",
      "                        0\n",
      "                            1\n",
      "0\n",
      "    0\n",
      "        1\n",
      "            1\n",
      "                0\n",
      "                    0\n",
      "                        1\n",
      "                            1\n",
      "0\n",
      "    0\n",
      "        1\n",
      "            1\n",
      "                0\n",
      "                    0\n",
      "                        0\n",
      "                            1\n",
      "0\n",
      "    0\n",
      "        0\n",
      "            1\n",
      "                0\n",
      "                    0\n",
      "                        0\n",
      "                            1\n",
      "0\n",
      "    0\n",
      "        1\n",
      "            1\n",
      "                0\n",
      "                    0\n",
      "                        0\n",
      "                            1\n",
      "0\n",
      "    1\n",
      "        1\n",
      "            1\n",
      "                0\n",
      "                    1\n",
      "                        0\n",
      "                            1\n",
      "0\n",
      "    0\n",
      "        1\n",
      "            1\n",
      "                0\n",
      "                    0\n",
      "                        0\n",
      "                            1\n",
      "0\n",
      "    0\n",
      "        1\n",
      "            1\n",
      "                0\n",
      "                    1\n",
      "                        0\n",
      "                            1\n",
      "0\n",
      "    1\n",
      "        1\n",
      "            1\n",
      "                0\n",
      "                    1\n",
      "                        0\n",
      "                            1\n",
      "0\n",
      "    0\n",
      "        0\n",
      "            1\n",
      "                0\n",
      "                    0\n",
      "                        1\n",
      "                            1\n",
      "0\n",
      "    1\n",
      "        1\n",
      "            1\n",
      "                0\n",
      "                    0\n",
      "                        0\n",
      "                            1\n",
      "0\n",
      "    0\n",
      "        0\n",
      "            1\n",
      "                0\n",
      "                    0\n",
      "                        0\n",
      "                            1\n"
     ]
    }
   ],
   "source": [
    "for idx in (arr0_top - (arr1_top | arr2_top)):\n",
    "    convo_id = convo_df_subset.iloc[idx].name\n",
    "    corpus.get_conversation(convo_id).print_conversation_structure(lambda utt: str(utt.meta['disagreement']), limit=8)"
   ]
  },
  {
   "cell_type": "code",
   "execution_count": 135,
   "metadata": {},
   "outputs": [
    {
     "data": {
      "text/plain": [
       "17"
      ]
     },
     "execution_count": 135,
     "metadata": {},
     "output_type": "execute_result"
    }
   ],
   "source": [
    "len(arr2_top - (arr0_top | arr1_top))"
   ]
  },
  {
   "cell_type": "code",
   "execution_count": 136,
   "metadata": {
    "scrolled": false
   },
   "outputs": [
    {
     "name": "stdout",
     "output_type": "stream",
     "text": [
      "0\n",
      "    0\n",
      "        0\n",
      "            1\n",
      "                0\n",
      "                    1\n",
      "                        1\n",
      "                            1\n",
      "0\n",
      "    0\n",
      "        1\n",
      "            0\n",
      "                0\n",
      "                    1\n",
      "                        1\n",
      "                            1\n",
      "0\n",
      "    0\n",
      "        0\n",
      "            0\n",
      "                0\n",
      "                    1\n",
      "                        1\n",
      "                            1\n",
      "0\n",
      "    0\n",
      "        0\n",
      "            0\n",
      "                0\n",
      "                    1\n",
      "                        1\n",
      "                            1\n",
      "0\n",
      "    0\n",
      "        1\n",
      "            0\n",
      "                0\n",
      "                    1\n",
      "                        1\n",
      "                            1\n",
      "0\n",
      "    0\n",
      "        0\n",
      "            0\n",
      "                0\n",
      "                    1\n",
      "                        1\n",
      "                            1\n",
      "0\n",
      "    0\n",
      "        0\n",
      "            0\n",
      "                0\n",
      "                    0\n",
      "                        1\n",
      "                            1\n",
      "0\n",
      "    0\n",
      "        0\n",
      "            0\n",
      "                0\n",
      "                    1\n",
      "                        1\n",
      "                            1\n",
      "0\n",
      "    0\n",
      "        0\n",
      "            0\n",
      "                0\n",
      "                    1\n",
      "                        1\n",
      "                            1\n",
      "0\n",
      "    0\n",
      "        0\n",
      "            0\n",
      "                0\n",
      "                    1\n",
      "                        1\n",
      "                            1\n",
      "0\n",
      "    0\n",
      "        0\n",
      "            0\n",
      "                0\n",
      "                    0\n",
      "                        1\n",
      "                            1\n",
      "0\n",
      "    0\n",
      "        0\n",
      "            0\n",
      "                0\n",
      "                    0\n",
      "                        1\n",
      "                            1\n",
      "0\n",
      "    1\n",
      "        0\n",
      "            0\n",
      "                0\n",
      "                    1\n",
      "                        1\n",
      "                            1\n",
      "0\n",
      "    0\n",
      "        0\n",
      "            0\n",
      "                0\n",
      "                    0\n",
      "                        1\n",
      "                            1\n",
      "0\n",
      "    0\n",
      "        0\n",
      "            0\n",
      "                0\n",
      "                    0\n",
      "                        1\n",
      "                            1\n",
      "0\n",
      "    0\n",
      "        0\n",
      "            1\n",
      "                0\n",
      "                    1\n",
      "                        1\n",
      "                            1\n",
      "0\n",
      "    0\n",
      "        1\n",
      "            0\n",
      "                0\n",
      "                    1\n",
      "                        1\n",
      "                            1\n"
     ]
    }
   ],
   "source": [
    "for idx in (arr2_top - (arr0_top | arr1_top)):\n",
    "    convo_id = convo_df_subset.iloc[idx].name\n",
    "    corpus.get_conversation(convo_id).print_conversation_structure(lambda utt: str(utt.meta['disagreement']), limit=8)"
   ]
  },
  {
   "cell_type": "code",
   "execution_count": 73,
   "metadata": {},
   "outputs": [
    {
     "data": {
      "text/plain": [
       "22"
      ]
     },
     "execution_count": 73,
     "metadata": {},
     "output_type": "execute_result"
    }
   ],
   "source": [
    "len(arr2_top & arr1_top)"
   ]
  },
  {
   "cell_type": "code",
   "execution_count": null,
   "metadata": {},
   "outputs": [],
   "source": []
  },
  {
   "cell_type": "code",
   "execution_count": 38,
   "metadata": {},
   "outputs": [
    {
     "data": {
      "text/plain": [
       "array([  0,   1,   2,   3,   4,   5,   6,   7,   8,   9,  10,  11,  12,\n",
       "        13,  15,  16,  17,  18,  21,  22,  23,  24,  25,  26,  28,  29,\n",
       "        30,  31,  32,  33,  34,  35,  36,  37,  38,  39,  40,  41,  42,\n",
       "        43,  44,  45,  46,  47,  48,  49,  50,  51,  52,  53,  54,  55,\n",
       "        56,  57,  58,  59,  60,  61,  63,  64,  65,  66,  67,  69,  70,\n",
       "        71,  72,  73,  74,  76,  77,  78,  79,  80,  81,  82,  84,  85,\n",
       "        86,  88,  89,  90,  91,  92,  93,  94,  95,  97,  99, 100, 101,\n",
       "       102, 103, 104, 105, 106, 107, 108, 109, 110, 111, 112, 113, 114,\n",
       "       115, 116, 117, 118, 119, 120, 121, 122, 123, 124, 125, 126])"
      ]
     },
     "execution_count": 38,
     "metadata": {},
     "output_type": "execute_result"
    }
   ],
   "source": [
    "np.argwhere(arr2 >= np.quantile(td_disgmt.factors[2][:, 1], q=0.66)).flatten()"
   ]
  },
  {
   "cell_type": "code",
   "execution_count": null,
   "metadata": {},
   "outputs": [],
   "source": []
  },
  {
   "cell_type": "markdown",
   "metadata": {},
   "source": [
    "### Emphasizing disagreements"
   ]
  },
  {
   "cell_type": "code",
   "execution_count": 20,
   "metadata": {},
   "outputs": [
    {
     "data": {
      "text/plain": [
       "Utterance({'obj_type': 'utterance', '_owner': <convokit.model.corpus.Corpus object at 0x103f25390>, 'meta': {'post_depth': 3, 'majority_type': None, 'majority_link': 't1_d28jr77', 'annotation-types': ['humor', 'elaboration', 'other'], 'annotation-links': ['t1_d28jr77', 't1_d28jr77', 'none'], 'ups': 2, 'annot-dict': {'agreement': 0, 'announcement': 0, 'answer': 0, 'appreciation': 0, 'disagreement': 0, 'elaboration': 1, 'humor': 1, 'negativereaction': 0, 'other': 1, 'question': 0}, 'agreement': 0, 'announcement': 0, 'answer': 0, 'appreciation': 0, 'disagreement': 0, 'elaboration': 1, 'humor': 1, 'negativereaction': 0, 'other': 1, 'question': 0}, '_id': 't1_d294h9v', 'speaker': Speaker({'obj_type': 'speaker', '_owner': <convokit.model.corpus.Corpus object at 0x103f25390>, 'meta': {}, '_id': 'DSP_GC_98'}), 'conversation_id': 't3_4fg0ul', '_root': 't3_4fg0ul', 'reply_to': 't1_d28jr77', 'timestamp': 0, 'text': 'haha, im from philly so being a smart ass is in my blood. '})"
      ]
     },
     "execution_count": 20,
     "metadata": {},
     "output_type": "execute_result"
    }
   ],
   "source": [
    "corpus.random_utterance()"
   ]
  },
  {
   "cell_type": "code",
   "execution_count": 26,
   "metadata": {},
   "outputs": [],
   "source": [
    "annotation_types = ['agreement',\n",
    "                     'announcement',\n",
    "                     'answer',\n",
    "                     'appreciation',\n",
    "                     'disagreement',\n",
    "                     'elaboration',\n",
    "                     'humor',\n",
    "                     'negativereaction',\n",
    "                     'other',\n",
    "                     'question']"
   ]
  },
  {
   "cell_type": "code",
   "execution_count": 27,
   "metadata": {},
   "outputs": [],
   "source": []
  },
  {
   "cell_type": "code",
   "execution_count": 29,
   "metadata": {},
   "outputs": [],
   "source": [
    "no_maj = 0\n",
    "no_maj_types = {t: 0 for t in annotation_types}\n",
    "for utt in corpus.iter_utterances():\n",
    "    if utt.meta['majority_type'] is None:\n",
    "        no_maj += 1\n",
    "        for t in utt.meta['annotation-types']:\n",
    "            no_maj_types[t] += 1"
   ]
  },
  {
   "cell_type": "code",
   "execution_count": 31,
   "metadata": {},
   "outputs": [],
   "source": [
    "for t in no_maj_types:\n",
    "    no_maj_types[t] /= 3961"
   ]
  },
  {
   "cell_type": "code",
   "execution_count": 32,
   "metadata": {},
   "outputs": [
    {
     "data": {
      "text/plain": [
       "{'agreement': 0.3082554910376168,\n",
       " 'announcement': 0.05023983842464024,\n",
       " 'answer': 0.26861903559707145,\n",
       " 'appreciation': 0.3006816460489775,\n",
       " 'disagreement': 0.24640242363039636,\n",
       " 'elaboration': 0.7020954304468568,\n",
       " 'humor': 0.18505427922241857,\n",
       " 'negativereaction': 0.18808381721787426,\n",
       " 'other': 0.3287048725069427,\n",
       " 'question': 0.21560212067659681}"
      ]
     },
     "execution_count": 32,
     "metadata": {},
     "output_type": "execute_result"
    }
   ],
   "source": [
    "no_maj_types"
   ]
  },
  {
   "cell_type": "code",
   "execution_count": 24,
   "metadata": {},
   "outputs": [
    {
     "data": {
      "text/plain": [
       "0.7020954304468568"
      ]
     },
     "execution_count": 24,
     "metadata": {},
     "output_type": "execute_result"
    }
   ],
   "source": [
    "no_maj_elab / no_maj"
   ]
  },
  {
   "cell_type": "code",
   "execution_count": 23,
   "metadata": {},
   "outputs": [
    {
     "data": {
      "text/plain": [
       "3961"
      ]
     },
     "execution_count": 23,
     "metadata": {},
     "output_type": "execute_result"
    }
   ],
   "source": [
    "no_maj"
   ]
  },
  {
   "cell_type": "markdown",
   "metadata": {},
   "source": [
    "### TSNE"
   ]
  },
  {
   "cell_type": "code",
   "execution_count": 34,
   "metadata": {},
   "outputs": [],
   "source": [
    "from sklearn.preprocessing import Normalizer, StandardScaler\n",
    "from sklearn.decomposition import TruncatedSVD\n",
    "from sklearn.manifold import TSNE\n",
    "from sklearn.metrics.pairwise import pairwise_distances"
   ]
  },
  {
   "cell_type": "code",
   "execution_count": 35,
   "metadata": {},
   "outputs": [],
   "source": [
    "from sklearn.manifold import TSNE\n",
    "tsne = TSNE(random_state=2000, verbose=1)"
   ]
  },
  {
   "cell_type": "code",
   "execution_count": 43,
   "metadata": {},
   "outputs": [],
   "source": [
    "type_to_trunc = {\n",
    "    'agreement': 'agmt',\n",
    "    'announcement': 'anc',\n",
    "    'answer': 'ans',\n",
    "    'appreciation': 'appr',\n",
    "    'disagreement': 'dsgmt',\n",
    "    'elaboration': 'elab',\n",
    "    'humor': 'hmr',\n",
    "    'negativereaction': 'negR',\n",
    "    'other': 'othr',\n",
    "    'question': 'qn'\n",
    "}"
   ]
  },
  {
   "cell_type": "code",
   "execution_count": 48,
   "metadata": {},
   "outputs": [],
   "source": [
    "import random"
   ]
  },
  {
   "cell_type": "code",
   "execution_count": 64,
   "metadata": {},
   "outputs": [],
   "source": [
    "for utt in corpus.iter_utterances():\n",
    "    if utt.meta['majority_type'] is None:\n",
    "        if 'disagreement' in utt.meta['annotation-types']:\n",
    "            utt.meta['majority_type_'] = 'disagreement'\n",
    "        else:\n",
    "            utt.meta['majority_type_'] = random.choice(utt.meta['annotation-types'])\n",
    "    else:\n",
    "        utt.meta['majority_type_'] = utt.meta['majority_type']"
   ]
  },
  {
   "cell_type": "code",
   "execution_count": 65,
   "metadata": {},
   "outputs": [],
   "source": [
    "for convo in corpus.iter_conversations():\n",
    "    convo.meta['path'] = '-'.join([type_to_trunc[utt.meta['majority_type_']] for utt in convo.get_chronological_utterance_list()][:8])"
   ]
  },
  {
   "cell_type": "code",
   "execution_count": null,
   "metadata": {},
   "outputs": [],
   "source": [
    "convo.meta['path']"
   ]
  },
  {
   "cell_type": "code",
   "execution_count": 66,
   "metadata": {},
   "outputs": [
    {
     "name": "stdout",
     "output_type": "stream",
     "text": [
      "[t-SNE] Computing 91 nearest neighbors...\n",
      "[t-SNE] Indexed 127 samples in 0.000s...\n",
      "[t-SNE] Computed neighbors for 127 samples in 0.005s...\n",
      "[t-SNE] Computed conditional probabilities for sample 127 / 127\n",
      "[t-SNE] Mean sigma: 0.213288\n",
      "[t-SNE] KL divergence after 250 iterations with early exaggeration: 57.464378\n",
      "[t-SNE] KL divergence after 1000 iterations: 0.353370\n",
      "(127, 2)\n"
     ]
    }
   ],
   "source": [
    "df = corpus.get_conversations_dataframe(lambda c: c.meta['longest_path'] >= 8 and\n",
    "                                        c.get_chronological_utterance_list()[7].meta['disagreement'] == 1)\n",
    "projected_threads = tsne.fit_transform(td_disgmt.factors[1])\n",
    "print(projected_threads.shape)\n",
    "\n",
    "xs = [x for (x, y) in projected_threads]\n",
    "ys = [y for (x, y) in projected_threads]\n",
    "\n",
    "df['x'] = xs\n",
    "df['y'] = ys"
   ]
  },
  {
   "cell_type": "code",
   "execution_count": null,
   "metadata": {},
   "outputs": [],
   "source": []
  },
  {
   "cell_type": "code",
   "execution_count": 67,
   "metadata": {},
   "outputs": [
    {
     "data": {
      "text/html": [
       "<div>\n",
       "<style scoped>\n",
       "    .dataframe tbody tr th:only-of-type {\n",
       "        vertical-align: middle;\n",
       "    }\n",
       "\n",
       "    .dataframe tbody tr th {\n",
       "        vertical-align: top;\n",
       "    }\n",
       "\n",
       "    .dataframe thead th {\n",
       "        text-align: right;\n",
       "    }\n",
       "</style>\n",
       "<table border=\"1\" class=\"dataframe\">\n",
       "  <thead>\n",
       "    <tr style=\"text-align: right;\">\n",
       "      <th></th>\n",
       "      <th>meta.annot-dict-1</th>\n",
       "      <th>meta.annot-dict-10</th>\n",
       "      <th>meta.annot-dict-11</th>\n",
       "      <th>meta.annot-dict-2</th>\n",
       "      <th>meta.annot-dict-3</th>\n",
       "      <th>meta.annot-dict-4</th>\n",
       "      <th>meta.annot-dict-5</th>\n",
       "      <th>meta.annot-dict-6</th>\n",
       "      <th>meta.annot-dict-7</th>\n",
       "      <th>meta.annot-dict-8</th>\n",
       "      <th>meta.annot-dict-9</th>\n",
       "      <th>meta.longest_path</th>\n",
       "      <th>meta.path</th>\n",
       "      <th>meta.subreddit</th>\n",
       "      <th>meta.title</th>\n",
       "      <th>meta.url</th>\n",
       "      <th>x</th>\n",
       "      <th>y</th>\n",
       "    </tr>\n",
       "    <tr>\n",
       "      <th>id</th>\n",
       "      <th></th>\n",
       "      <th></th>\n",
       "      <th></th>\n",
       "      <th></th>\n",
       "      <th></th>\n",
       "      <th></th>\n",
       "      <th></th>\n",
       "      <th></th>\n",
       "      <th></th>\n",
       "      <th></th>\n",
       "      <th></th>\n",
       "      <th></th>\n",
       "      <th></th>\n",
       "      <th></th>\n",
       "      <th></th>\n",
       "      <th></th>\n",
       "      <th></th>\n",
       "      <th></th>\n",
       "    </tr>\n",
       "  </thead>\n",
       "  <tbody>\n",
       "    <tr>\n",
       "      <th>t3_1at5ow</th>\n",
       "      <td>{'agreement': 0, 'announcement': 0, 'answer': ...</td>\n",
       "      <td>NaN</td>\n",
       "      <td>NaN</td>\n",
       "      <td>{'agreement': 0, 'announcement': 0, 'answer': ...</td>\n",
       "      <td>{'agreement': 1, 'announcement': 0, 'answer': ...</td>\n",
       "      <td>{'agreement': 0, 'announcement': 0, 'answer': ...</td>\n",
       "      <td>{'agreement': 0, 'announcement': 0, 'answer': ...</td>\n",
       "      <td>{'agreement': 0, 'announcement': 0, 'answer': ...</td>\n",
       "      <td>{'agreement': 0, 'announcement': 0, 'answer': ...</td>\n",
       "      <td>{'agreement': 0, 'announcement': 0, 'answer': ...</td>\n",
       "      <td>NaN</td>\n",
       "      <td>8</td>\n",
       "      <td>qn-ans-agmt-qn-ans-dsgmt-dsgmt-dsgmt</td>\n",
       "      <td>askreddit</td>\n",
       "      <td>What book do you think is beautifully written?</td>\n",
       "      <td>https://www.reddit.com/r/AskReddit/comments/1a...</td>\n",
       "      <td>2.604131</td>\n",
       "      <td>-0.293164</td>\n",
       "    </tr>\n",
       "    <tr>\n",
       "      <th>t3_24ffw3</th>\n",
       "      <td>{'agreement': 0, 'announcement': 0, 'answer': ...</td>\n",
       "      <td>NaN</td>\n",
       "      <td>NaN</td>\n",
       "      <td>{'agreement': 0, 'announcement': 0, 'answer': ...</td>\n",
       "      <td>{'agreement': 0, 'announcement': 0, 'answer': ...</td>\n",
       "      <td>{'agreement': 0, 'announcement': 0, 'answer': ...</td>\n",
       "      <td>{'agreement': 0, 'announcement': 0, 'answer': ...</td>\n",
       "      <td>{'agreement': 0, 'announcement': 0, 'answer': ...</td>\n",
       "      <td>{'agreement': 0, 'announcement': 0, 'answer': ...</td>\n",
       "      <td>{'agreement': 0, 'announcement': 0, 'answer': ...</td>\n",
       "      <td>NaN</td>\n",
       "      <td>8</td>\n",
       "      <td>qn-ans-dsgmt-dsgmt-dsgmt-dsgmt-dsgmt-dsgmt</td>\n",
       "      <td>askreddit</td>\n",
       "      <td>What is one thing you should never give up on?</td>\n",
       "      <td>https://www.reddit.com/r/AskReddit/comments/24...</td>\n",
       "      <td>-1.041959</td>\n",
       "      <td>4.421836</td>\n",
       "    </tr>\n",
       "    <tr>\n",
       "      <th>t3_no05m</th>\n",
       "      <td>{'agreement': 0, 'announcement': 0, 'answer': ...</td>\n",
       "      <td>NaN</td>\n",
       "      <td>NaN</td>\n",
       "      <td>{'agreement': 0, 'announcement': 0, 'answer': ...</td>\n",
       "      <td>{'agreement': 0, 'announcement': 0, 'answer': ...</td>\n",
       "      <td>{'agreement': 0, 'announcement': 0, 'answer': ...</td>\n",
       "      <td>{'agreement': 0, 'announcement': 0, 'answer': ...</td>\n",
       "      <td>{'agreement': 0, 'announcement': 0, 'answer': ...</td>\n",
       "      <td>{'agreement': 0, 'announcement': 0, 'answer': ...</td>\n",
       "      <td>{'agreement': 0, 'announcement': 0, 'answer': ...</td>\n",
       "      <td>NaN</td>\n",
       "      <td>8</td>\n",
       "      <td>qn-ans-qn-ans-qn-ans-dsgmt-dsgmt</td>\n",
       "      <td>askreddit</td>\n",
       "      <td>Why do you not believe in aliens?</td>\n",
       "      <td>https://www.reddit.com/r/AskReddit/comments/no...</td>\n",
       "      <td>8.779455</td>\n",
       "      <td>0.771824</td>\n",
       "    </tr>\n",
       "    <tr>\n",
       "      <th>t3_1mm7er</th>\n",
       "      <td>{'agreement': 0, 'announcement': 0, 'answer': ...</td>\n",
       "      <td>NaN</td>\n",
       "      <td>NaN</td>\n",
       "      <td>{'agreement': 0, 'announcement': 0, 'answer': ...</td>\n",
       "      <td>{'agreement': 0, 'announcement': 0, 'answer': ...</td>\n",
       "      <td>{'agreement': 0, 'announcement': 0, 'answer': ...</td>\n",
       "      <td>{'agreement': 0, 'announcement': 0, 'answer': ...</td>\n",
       "      <td>{'agreement': 0, 'announcement': 0, 'answer': ...</td>\n",
       "      <td>{'agreement': 0, 'announcement': 0, 'answer': ...</td>\n",
       "      <td>{'agreement': 0, 'announcement': 0, 'answer': ...</td>\n",
       "      <td>NaN</td>\n",
       "      <td>8</td>\n",
       "      <td>qn-ans-qn-ans-elab-dsgmt-elab-dsgmt</td>\n",
       "      <td>askuk</td>\n",
       "      <td>UK Broadband/ISP subreddits?</td>\n",
       "      <td>https://www.reddit.com/r/AskUK/comments/1mm7er...</td>\n",
       "      <td>5.996558</td>\n",
       "      <td>4.133040</td>\n",
       "    </tr>\n",
       "    <tr>\n",
       "      <th>t3_3yvz6m</th>\n",
       "      <td>{'agreement': 0, 'announcement': 0, 'answer': ...</td>\n",
       "      <td>NaN</td>\n",
       "      <td>NaN</td>\n",
       "      <td>{'agreement': 0, 'announcement': 0, 'answer': ...</td>\n",
       "      <td>{'agreement': 0, 'announcement': 0, 'answer': ...</td>\n",
       "      <td>{'agreement': 0, 'announcement': 0, 'answer': ...</td>\n",
       "      <td>{'agreement': 0, 'announcement': 0, 'answer': ...</td>\n",
       "      <td>{'agreement': 1, 'announcement': 0, 'answer': ...</td>\n",
       "      <td>{'agreement': 0, 'announcement': 0, 'answer': ...</td>\n",
       "      <td>{'agreement': 0, 'announcement': 0, 'answer': ...</td>\n",
       "      <td>NaN</td>\n",
       "      <td>8</td>\n",
       "      <td>qn-ans-elab-dsgmt-qn-ans-dsgmt-elab</td>\n",
       "      <td>buttcoin</td>\n",
       "      <td>Do most butters accept global warming? If so, ...</td>\n",
       "      <td>https://www.reddit.com/r/Buttcoin/comments/3yv...</td>\n",
       "      <td>1.988119</td>\n",
       "      <td>0.417150</td>\n",
       "    </tr>\n",
       "    <tr>\n",
       "      <th>t3_1tqv73</th>\n",
       "      <td>{'agreement': 0, 'announcement': 1, 'answer': ...</td>\n",
       "      <td>NaN</td>\n",
       "      <td>NaN</td>\n",
       "      <td>{'agreement': 0, 'announcement': 0, 'answer': ...</td>\n",
       "      <td>{'agreement': 1, 'announcement': 0, 'answer': ...</td>\n",
       "      <td>{'agreement': 1, 'announcement': 0, 'answer': ...</td>\n",
       "      <td>{'agreement': 1, 'announcement': 0, 'answer': ...</td>\n",
       "      <td>{'agreement': 1, 'announcement': 0, 'answer': ...</td>\n",
       "      <td>{'agreement': 0, 'announcement': 0, 'answer': ...</td>\n",
       "      <td>{'agreement': 0, 'announcement': 0, 'answer': ...</td>\n",
       "      <td>NaN</td>\n",
       "      <td>8</td>\n",
       "      <td>anc-dsgmt-dsgmt-dsgmt-agmt-agmt-dsgmt-dsgmt</td>\n",
       "      <td>cfb</td>\n",
       "      <td>SI's 'Next Texas Head Coach Bracket' is in the...</td>\n",
       "      <td>https://www.reddit.com/r/CFB/comments/1tqv73/s...</td>\n",
       "      <td>0.772290</td>\n",
       "      <td>-9.832353</td>\n",
       "    </tr>\n",
       "    <tr>\n",
       "      <th>t3_12uk6w</th>\n",
       "      <td>{'agreement': 0, 'announcement': 0, 'answer': ...</td>\n",
       "      <td>{'agreement': 0, 'announcement': 0, 'answer': ...</td>\n",
       "      <td>{'agreement': 0, 'announcement': 0, 'answer': ...</td>\n",
       "      <td>{'agreement': 0, 'announcement': 0, 'answer': ...</td>\n",
       "      <td>{'agreement': 0, 'announcement': 0, 'answer': ...</td>\n",
       "      <td>{'agreement': 0, 'announcement': 0, 'answer': ...</td>\n",
       "      <td>{'agreement': 0, 'announcement': 0, 'answer': ...</td>\n",
       "      <td>{'agreement': 0, 'announcement': 0, 'answer': ...</td>\n",
       "      <td>{'agreement': 0, 'announcement': 0, 'answer': ...</td>\n",
       "      <td>{'agreement': 0, 'announcement': 0, 'answer': ...</td>\n",
       "      <td>{'agreement': 0, 'announcement': 0, 'answer': ...</td>\n",
       "      <td>11</td>\n",
       "      <td>qn-ans-hmr-elab-elab-elab-hmr-dsgmt</td>\n",
       "      <td>christianity</td>\n",
       "      <td>Confused about this subreddit</td>\n",
       "      <td>https://www.reddit.com/r/Christianity/comments...</td>\n",
       "      <td>3.659177</td>\n",
       "      <td>1.884816</td>\n",
       "    </tr>\n",
       "    <tr>\n",
       "      <th>t3_1mz7pe</th>\n",
       "      <td>{'agreement': 0, 'announcement': 0, 'answer': ...</td>\n",
       "      <td>NaN</td>\n",
       "      <td>NaN</td>\n",
       "      <td>{'agreement': 0, 'announcement': 0, 'answer': ...</td>\n",
       "      <td>{'agreement': 1, 'announcement': 0, 'answer': ...</td>\n",
       "      <td>{'agreement': 0, 'announcement': 0, 'answer': ...</td>\n",
       "      <td>{'agreement': 0, 'announcement': 0, 'answer': ...</td>\n",
       "      <td>{'agreement': 0, 'announcement': 0, 'answer': ...</td>\n",
       "      <td>{'agreement': 0, 'announcement': 0, 'answer': ...</td>\n",
       "      <td>{'agreement': 0, 'announcement': 0, 'answer': ...</td>\n",
       "      <td>{'agreement': 0, 'announcement': 0, 'answer': ...</td>\n",
       "      <td>9</td>\n",
       "      <td>qn-ans-qn-ans-qn-ans-appr-elab</td>\n",
       "      <td>chromecast</td>\n",
       "      <td>Just got my chromecast - What are you doing wi...</td>\n",
       "      <td>https://www.reddit.com/r/Chromecast/comments/1...</td>\n",
       "      <td>9.445363</td>\n",
       "      <td>0.786452</td>\n",
       "    </tr>\n",
       "    <tr>\n",
       "      <th>t3_4b35qi</th>\n",
       "      <td>{'agreement': 0, 'announcement': 1, 'answer': ...</td>\n",
       "      <td>NaN</td>\n",
       "      <td>NaN</td>\n",
       "      <td>{'agreement': 1, 'announcement': 0, 'answer': ...</td>\n",
       "      <td>{'agreement': 0, 'announcement': 0, 'answer': ...</td>\n",
       "      <td>{'agreement': 0, 'announcement': 0, 'answer': ...</td>\n",
       "      <td>{'agreement': 1, 'announcement': 0, 'answer': ...</td>\n",
       "      <td>{'agreement': 1, 'announcement': 0, 'answer': ...</td>\n",
       "      <td>{'agreement': 1, 'announcement': 0, 'answer': ...</td>\n",
       "      <td>{'agreement': 1, 'announcement': 0, 'answer': ...</td>\n",
       "      <td>NaN</td>\n",
       "      <td>8</td>\n",
       "      <td>anc-agmt-elab-elab-agmt-elab-agmt-dsgmt</td>\n",
       "      <td>collegebasketball</td>\n",
       "      <td>The Pac-12 is the first league to lose 5 games...</td>\n",
       "      <td>https://www.reddit.com/r/CollegeBasketball/com...</td>\n",
       "      <td>2.843944</td>\n",
       "      <td>-8.952960</td>\n",
       "    </tr>\n",
       "    <tr>\n",
       "      <th>t3_46edrj</th>\n",
       "      <td>{'agreement': 0, 'announcement': 1, 'answer': ...</td>\n",
       "      <td>NaN</td>\n",
       "      <td>NaN</td>\n",
       "      <td>{'agreement': 0, 'announcement': 0, 'answer': ...</td>\n",
       "      <td>{'agreement': 0, 'announcement': 0, 'answer': ...</td>\n",
       "      <td>{'agreement': 0, 'announcement': 0, 'answer': ...</td>\n",
       "      <td>{'agreement': 0, 'announcement': 0, 'answer': ...</td>\n",
       "      <td>{'agreement': 0, 'announcement': 0, 'answer': ...</td>\n",
       "      <td>{'agreement': 0, 'announcement': 0, 'answer': ...</td>\n",
       "      <td>{'agreement': 0, 'announcement': 0, 'answer': ...</td>\n",
       "      <td>NaN</td>\n",
       "      <td>8</td>\n",
       "      <td>anc-dsgmt-qn-ans-dsgmt-elab-negR-elab</td>\n",
       "      <td>dota2</td>\n",
       "      <td>Make Iron Talon a requirement for Battlefurry.</td>\n",
       "      <td>https://www.reddit.com/r/DotA2/comments/46edrj...</td>\n",
       "      <td>-0.065032</td>\n",
       "      <td>-8.138913</td>\n",
       "    </tr>\n",
       "    <tr>\n",
       "      <th>t3_493d2b</th>\n",
       "      <td>{'agreement': 0, 'announcement': 0, 'answer': ...</td>\n",
       "      <td>{'agreement': 0, 'announcement': 0, 'answer': ...</td>\n",
       "      <td>{'agreement': 0, 'announcement': 0, 'answer': ...</td>\n",
       "      <td>{'agreement': 0, 'announcement': 0, 'answer': ...</td>\n",
       "      <td>{'agreement': 0, 'announcement': 0, 'answer': ...</td>\n",
       "      <td>{'agreement': 0, 'announcement': 0, 'answer': ...</td>\n",
       "      <td>{'agreement': 0, 'announcement': 0, 'answer': ...</td>\n",
       "      <td>{'agreement': 0, 'announcement': 0, 'answer': ...</td>\n",
       "      <td>{'agreement': 0, 'announcement': 0, 'answer': ...</td>\n",
       "      <td>{'agreement': 0, 'announcement': 0, 'answer': ...</td>\n",
       "      <td>{'agreement': 0, 'announcement': 0, 'answer': ...</td>\n",
       "      <td>11</td>\n",
       "      <td>qn-ans-elab-dsgmt-elab-dsgmt-dsgmt-dsgmt</td>\n",
       "      <td>dota2</td>\n",
       "      <td>Drafting question! ELI5</td>\n",
       "      <td>https://www.reddit.com/r/DotA2/comments/493d2b...</td>\n",
       "      <td>1.846136</td>\n",
       "      <td>2.228165</td>\n",
       "    </tr>\n",
       "    <tr>\n",
       "      <th>t3_p61bo</th>\n",
       "      <td>{'agreement': 0, 'announcement': 0, 'answer': ...</td>\n",
       "      <td>NaN</td>\n",
       "      <td>NaN</td>\n",
       "      <td>{'agreement': 0, 'announcement': 0, 'answer': ...</td>\n",
       "      <td>{'agreement': 0, 'announcement': 0, 'answer': ...</td>\n",
       "      <td>{'agreement': 0, 'announcement': 0, 'answer': ...</td>\n",
       "      <td>{'agreement': 0, 'announcement': 0, 'answer': ...</td>\n",
       "      <td>{'agreement': 0, 'announcement': 0, 'answer': ...</td>\n",
       "      <td>{'agreement': 0, 'announcement': 0, 'answer': ...</td>\n",
       "      <td>{'agreement': 0, 'announcement': 0, 'answer': ...</td>\n",
       "      <td>NaN</td>\n",
       "      <td>8</td>\n",
       "      <td>qn-qn-qn-ans-elab-elab-elab-dsgmt</td>\n",
       "      <td>fitness</td>\n",
       "      <td>Heya fitness, I'm here to ask for some critici...</td>\n",
       "      <td>https://www.reddit.com/r/Fitness/comments/p61b...</td>\n",
       "      <td>8.168591</td>\n",
       "      <td>4.481871</td>\n",
       "    </tr>\n",
       "    <tr>\n",
       "      <th>t3_340hy7</th>\n",
       "      <td>{'agreement': 0, 'announcement': 1, 'answer': ...</td>\n",
       "      <td>NaN</td>\n",
       "      <td>NaN</td>\n",
       "      <td>{'agreement': 1, 'announcement': 0, 'answer': ...</td>\n",
       "      <td>{'agreement': 0, 'announcement': 0, 'answer': ...</td>\n",
       "      <td>{'agreement': 0, 'announcement': 0, 'answer': ...</td>\n",
       "      <td>{'agreement': 0, 'announcement': 0, 'answer': ...</td>\n",
       "      <td>{'agreement': 0, 'announcement': 0, 'answer': ...</td>\n",
       "      <td>{'agreement': 0, 'announcement': 0, 'answer': ...</td>\n",
       "      <td>{'agreement': 0, 'announcement': 0, 'answer': ...</td>\n",
       "      <td>{'agreement': 0, 'announcement': 0, 'answer': ...</td>\n",
       "      <td>9</td>\n",
       "      <td>anc-negR-dsgmt-dsgmt-dsgmt-dsgmt-dsgmt-dsgmt</td>\n",
       "      <td>futurology</td>\n",
       "      <td>LAWS And The Autonomy Of Killer Robots: the fu...</td>\n",
       "      <td>https://www.reddit.com/r/Futurology/comments/3...</td>\n",
       "      <td>-0.943018</td>\n",
       "      <td>-9.742813</td>\n",
       "    </tr>\n",
       "    <tr>\n",
       "      <th>t3_1ujsj7</th>\n",
       "      <td>{'agreement': 0, 'announcement': 0, 'answer': ...</td>\n",
       "      <td>NaN</td>\n",
       "      <td>NaN</td>\n",
       "      <td>{'agreement': 0, 'announcement': 0, 'answer': ...</td>\n",
       "      <td>{'agreement': 0, 'announcement': 0, 'answer': ...</td>\n",
       "      <td>{'agreement': 0, 'announcement': 0, 'answer': ...</td>\n",
       "      <td>{'agreement': 0, 'announcement': 0, 'answer': ...</td>\n",
       "      <td>{'agreement': 0, 'announcement': 0, 'answer': ...</td>\n",
       "      <td>{'agreement': 0, 'announcement': 0, 'answer': ...</td>\n",
       "      <td>{'agreement': 0, 'announcement': 0, 'answer': ...</td>\n",
       "      <td>NaN</td>\n",
       "      <td>8</td>\n",
       "      <td>qn-ans-appr-elab-dsgmt-dsgmt-dsgmt-dsgmt</td>\n",
       "      <td>gtav</td>\n",
       "      <td>Does stealth actually do anything useful online?</td>\n",
       "      <td>https://www.reddit.com/r/GTAV/comments/1ujsj7/...</td>\n",
       "      <td>2.375036</td>\n",
       "      <td>7.403002</td>\n",
       "    </tr>\n",
       "    <tr>\n",
       "      <th>t3_4bmcqt</th>\n",
       "      <td>{'agreement': 0, 'announcement': 0, 'answer': ...</td>\n",
       "      <td>NaN</td>\n",
       "      <td>NaN</td>\n",
       "      <td>{'agreement': 0, 'announcement': 0, 'answer': ...</td>\n",
       "      <td>{'agreement': 0, 'announcement': 0, 'answer': ...</td>\n",
       "      <td>{'agreement': 0, 'announcement': 0, 'answer': ...</td>\n",
       "      <td>{'agreement': 0, 'announcement': 0, 'answer': ...</td>\n",
       "      <td>{'agreement': 0, 'announcement': 0, 'answer': ...</td>\n",
       "      <td>{'agreement': 1, 'announcement': 0, 'answer': ...</td>\n",
       "      <td>{'agreement': 0, 'announcement': 0, 'answer': ...</td>\n",
       "      <td>NaN</td>\n",
       "      <td>8</td>\n",
       "      <td>qn-qn-ans-dsgmt-hmr-elab-agmt-dsgmt</td>\n",
       "      <td>globaloffensive</td>\n",
       "      <td>I bought a \"random skin\" on kinguin but where ...</td>\n",
       "      <td>https://www.reddit.com/r/GlobalOffensive/comme...</td>\n",
       "      <td>6.182343</td>\n",
       "      <td>2.183459</td>\n",
       "    </tr>\n",
       "    <tr>\n",
       "      <th>t3_4lbuq4</th>\n",
       "      <td>{'agreement': 0, 'announcement': 0, 'answer': ...</td>\n",
       "      <td>{'agreement': 0, 'announcement': 0, 'answer': ...</td>\n",
       "      <td>{'agreement': 0, 'announcement': 0, 'answer': ...</td>\n",
       "      <td>{'agreement': 0, 'announcement': 0, 'answer': ...</td>\n",
       "      <td>{'agreement': 0, 'announcement': 0, 'answer': ...</td>\n",
       "      <td>{'agreement': 0, 'announcement': 0, 'answer': ...</td>\n",
       "      <td>{'agreement': 0, 'announcement': 0, 'answer': ...</td>\n",
       "      <td>{'agreement': 0, 'announcement': 0, 'answer': ...</td>\n",
       "      <td>{'agreement': 0, 'announcement': 0, 'answer': ...</td>\n",
       "      <td>{'agreement': 0, 'announcement': 0, 'answer': ...</td>\n",
       "      <td>{'agreement': 0, 'announcement': 0, 'answer': ...</td>\n",
       "      <td>11</td>\n",
       "      <td>qn-ans-appr-othr-hmr-dsgmt-dsgmt-dsgmt</td>\n",
       "      <td>globaloffensive</td>\n",
       "      <td>Buffalo Wild Wings showing E-League?</td>\n",
       "      <td>https://www.reddit.com/r/GlobalOffensive/comme...</td>\n",
       "      <td>7.666335</td>\n",
       "      <td>1.426871</td>\n",
       "    </tr>\n",
       "    <tr>\n",
       "      <th>t3_317ynl</th>\n",
       "      <td>{'agreement': 0, 'announcement': 0, 'answer': ...</td>\n",
       "      <td>{'agreement': 0, 'announcement': 0, 'answer': ...</td>\n",
       "      <td>NaN</td>\n",
       "      <td>{'agreement': 0, 'announcement': 0, 'answer': ...</td>\n",
       "      <td>{'agreement': 0, 'announcement': 0, 'answer': ...</td>\n",
       "      <td>{'agreement': 0, 'announcement': 0, 'answer': ...</td>\n",
       "      <td>{'agreement': 0, 'announcement': 0, 'answer': ...</td>\n",
       "      <td>{'agreement': 0, 'announcement': 0, 'answer': ...</td>\n",
       "      <td>{'agreement': 0, 'announcement': 0, 'answer': ...</td>\n",
       "      <td>{'agreement': 0, 'announcement': 0, 'answer': ...</td>\n",
       "      <td>{'agreement': 0, 'announcement': 0, 'answer': ...</td>\n",
       "      <td>10</td>\n",
       "      <td>qn-ans-dsgmt-dsgmt-negR-dsgmt-dsgmt-dsgmt</td>\n",
       "      <td>iwanttolearn</td>\n",
       "      <td>IWTL How do I learn \"practical\" coding skills?...</td>\n",
       "      <td>https://www.reddit.com/r/IWantToLearn/comments...</td>\n",
       "      <td>-2.079753</td>\n",
       "      <td>1.017207</td>\n",
       "    </tr>\n",
       "    <tr>\n",
       "      <th>t3_d9v26</th>\n",
       "      <td>{'agreement': 0, 'announcement': 0, 'answer': ...</td>\n",
       "      <td>{'agreement': 0, 'announcement': 0, 'answer': ...</td>\n",
       "      <td>{'agreement': 0, 'announcement': 0, 'answer': ...</td>\n",
       "      <td>{'agreement': 0, 'announcement': 0, 'answer': ...</td>\n",
       "      <td>{'agreement': 1, 'announcement': 0, 'answer': ...</td>\n",
       "      <td>{'agreement': 0, 'announcement': 0, 'answer': ...</td>\n",
       "      <td>{'agreement': 1, 'announcement': 0, 'answer': ...</td>\n",
       "      <td>{'agreement': 0, 'announcement': 0, 'answer': ...</td>\n",
       "      <td>{'agreement': 0, 'announcement': 0, 'answer': ...</td>\n",
       "      <td>{'agreement': 0, 'announcement': 0, 'answer': ...</td>\n",
       "      <td>{'agreement': 0, 'announcement': 0, 'answer': ...</td>\n",
       "      <td>11</td>\n",
       "      <td>qn-ans-dsgmt-dsgmt-elab-dsgmt-dsgmt-dsgmt</td>\n",
       "      <td>judaism</td>\n",
       "      <td>Putting a stumbling block before the blind?</td>\n",
       "      <td>https://www.reddit.com/r/Judaism/comments/d9v2...</td>\n",
       "      <td>1.115203</td>\n",
       "      <td>2.443722</td>\n",
       "    </tr>\n",
       "    <tr>\n",
       "      <th>t3_3v559e</th>\n",
       "      <td>{'agreement': 0, 'announcement': 1, 'answer': ...</td>\n",
       "      <td>NaN</td>\n",
       "      <td>NaN</td>\n",
       "      <td>{'agreement': 0, 'announcement': 0, 'answer': ...</td>\n",
       "      <td>{'agreement': 0, 'announcement': 0, 'answer': ...</td>\n",
       "      <td>{'agreement': 0, 'announcement': 0, 'answer': ...</td>\n",
       "      <td>{'agreement': 0, 'announcement': 0, 'answer': ...</td>\n",
       "      <td>{'agreement': 0, 'announcement': 0, 'answer': ...</td>\n",
       "      <td>{'agreement': 0, 'announcement': 0, 'answer': ...</td>\n",
       "      <td>{'agreement': 0, 'announcement': 0, 'answer': ...</td>\n",
       "      <td>NaN</td>\n",
       "      <td>8</td>\n",
       "      <td>anc-qn-ans-dsgmt-qn-qn-elab-dsgmt</td>\n",
       "      <td>kotakuinaction</td>\n",
       "      <td>[Ethics] Trump 100% Vindicated: CBS Reports ‘S...</td>\n",
       "      <td>https://www.reddit.com/r/KotakuInAction/commen...</td>\n",
       "      <td>1.848446</td>\n",
       "      <td>-8.649786</td>\n",
       "    </tr>\n",
       "    <tr>\n",
       "      <th>t3_182m0o</th>\n",
       "      <td>{'agreement': 0, 'announcement': 1, 'answer': ...</td>\n",
       "      <td>NaN</td>\n",
       "      <td>NaN</td>\n",
       "      <td>{'agreement': 0, 'announcement': 0, 'answer': ...</td>\n",
       "      <td>{'agreement': 0, 'announcement': 0, 'answer': ...</td>\n",
       "      <td>{'agreement': 0, 'announcement': 0, 'answer': ...</td>\n",
       "      <td>{'agreement': 0, 'announcement': 0, 'answer': ...</td>\n",
       "      <td>{'agreement': 1, 'announcement': 0, 'answer': ...</td>\n",
       "      <td>{'agreement': 1, 'announcement': 0, 'answer': ...</td>\n",
       "      <td>{'agreement': 0, 'announcement': 0, 'answer': ...</td>\n",
       "      <td>NaN</td>\n",
       "      <td>8</td>\n",
       "      <td>anc-elab-elab-dsgmt-dsgmt-agmt-elab-dsgmt</td>\n",
       "      <td>mcfc</td>\n",
       "      <td>Premier League vote through Financial Fair Pla...</td>\n",
       "      <td>https://www.reddit.com/r/MCFC/comments/182m0o/...</td>\n",
       "      <td>-0.957359</td>\n",
       "      <td>-6.600791</td>\n",
       "    </tr>\n",
       "    <tr>\n",
       "      <th>t3_4c3mfu</th>\n",
       "      <td>{'agreement': 0, 'announcement': 1, 'answer': ...</td>\n",
       "      <td>NaN</td>\n",
       "      <td>NaN</td>\n",
       "      <td>{'agreement': 0, 'announcement': 0, 'answer': ...</td>\n",
       "      <td>{'agreement': 0, 'announcement': 0, 'answer': ...</td>\n",
       "      <td>{'agreement': 0, 'announcement': 0, 'answer': ...</td>\n",
       "      <td>{'agreement': 0, 'announcement': 0, 'answer': ...</td>\n",
       "      <td>{'agreement': 0, 'announcement': 0, 'answer': ...</td>\n",
       "      <td>{'agreement': 1, 'announcement': 0, 'answer': ...</td>\n",
       "      <td>{'agreement': 0, 'announcement': 0, 'answer': ...</td>\n",
       "      <td>{'agreement': 0, 'announcement': 0, 'answer': ...</td>\n",
       "      <td>9</td>\n",
       "      <td>anc-elab-elab-dsgmt-qn-ans-agmt-dsgmt</td>\n",
       "      <td>mortalkombat</td>\n",
       "      <td>\"HoneyBee (Tarkatan Alien) vs SonicFox (Acidic...</td>\n",
       "      <td>https://www.reddit.com/r/MortalKombat/comments...</td>\n",
       "      <td>1.122953</td>\n",
       "      <td>-7.960777</td>\n",
       "    </tr>\n",
       "    <tr>\n",
       "      <th>t3_1vyg3j</th>\n",
       "      <td>{'agreement': 0, 'announcement': 0, 'answer': ...</td>\n",
       "      <td>NaN</td>\n",
       "      <td>NaN</td>\n",
       "      <td>{'agreement': 0, 'announcement': 0, 'answer': ...</td>\n",
       "      <td>{'agreement': 0, 'announcement': 0, 'answer': ...</td>\n",
       "      <td>{'agreement': 0, 'announcement': 0, 'answer': ...</td>\n",
       "      <td>{'agreement': 0, 'announcement': 0, 'answer': ...</td>\n",
       "      <td>{'agreement': 0, 'announcement': 0, 'answer': ...</td>\n",
       "      <td>{'agreement': 0, 'announcement': 0, 'answer': ...</td>\n",
       "      <td>{'agreement': 0, 'announcement': 0, 'answer': ...</td>\n",
       "      <td>NaN</td>\n",
       "      <td>8</td>\n",
       "      <td>qn-dsgmt-dsgmt-dsgmt-hmr-qn-ans-appr</td>\n",
       "      <td>naruto</td>\n",
       "      <td>Everybody forgot about Konohamaru</td>\n",
       "      <td>https://www.reddit.com/r/Naruto/comments/1vyg3...</td>\n",
       "      <td>-1.079677</td>\n",
       "      <td>0.617628</td>\n",
       "    </tr>\n",
       "    <tr>\n",
       "      <th>t3_rskt6</th>\n",
       "      <td>{'agreement': 0, 'announcement': 0, 'answer': ...</td>\n",
       "      <td>NaN</td>\n",
       "      <td>NaN</td>\n",
       "      <td>{'agreement': 0, 'announcement': 0, 'answer': ...</td>\n",
       "      <td>{'agreement': 1, 'announcement': 0, 'answer': ...</td>\n",
       "      <td>{'agreement': 0, 'announcement': 0, 'answer': ...</td>\n",
       "      <td>{'agreement': 0, 'announcement': 0, 'answer': ...</td>\n",
       "      <td>{'agreement': 1, 'announcement': 0, 'answer': ...</td>\n",
       "      <td>{'agreement': 1, 'announcement': 0, 'answer': ...</td>\n",
       "      <td>{'agreement': 0, 'announcement': 0, 'answer': ...</td>\n",
       "      <td>NaN</td>\n",
       "      <td>8</td>\n",
       "      <td>qn-ans-agmt-dsgmt-hmr-hmr-hmr-dsgmt</td>\n",
       "      <td>onepiece</td>\n",
       "      <td>Just saw the 10th movie and I have a few quest...</td>\n",
       "      <td>https://www.reddit.com/r/OnePiece/comments/rsk...</td>\n",
       "      <td>-0.670513</td>\n",
       "      <td>0.004157</td>\n",
       "    </tr>\n",
       "    <tr>\n",
       "      <th>t3_105bsr</th>\n",
       "      <td>{'agreement': 0, 'announcement': 0, 'answer': ...</td>\n",
       "      <td>{'agreement': 0, 'announcement': 0, 'answer': ...</td>\n",
       "      <td>{'agreement': 0, 'announcement': 0, 'answer': ...</td>\n",
       "      <td>{'agreement': 0, 'announcement': 0, 'answer': ...</td>\n",
       "      <td>{'agreement': 0, 'announcement': 0, 'answer': ...</td>\n",
       "      <td>{'agreement': 1, 'announcement': 0, 'answer': ...</td>\n",
       "      <td>{'agreement': 0, 'announcement': 0, 'answer': ...</td>\n",
       "      <td>{'agreement': 0, 'announcement': 0, 'answer': ...</td>\n",
       "      <td>{'agreement': 0, 'announcement': 0, 'answer': ...</td>\n",
       "      <td>{'agreement': 0, 'announcement': 0, 'answer': ...</td>\n",
       "      <td>{'agreement': 0, 'announcement': 0, 'answer': ...</td>\n",
       "      <td>11</td>\n",
       "      <td>qn-ans-dsgmt-agmt-dsgmt-dsgmt-elab-elab</td>\n",
       "      <td>ps3</td>\n",
       "      <td>[POLL] So what does /r/PS3 think of the new PS...</td>\n",
       "      <td>https://www.reddit.com/r/PS3/comments/105bsr/p...</td>\n",
       "      <td>1.524934</td>\n",
       "      <td>5.516500</td>\n",
       "    </tr>\n",
       "    <tr>\n",
       "      <th>t3_12o6im</th>\n",
       "      <td>{'agreement': 0, 'announcement': 1, 'answer': ...</td>\n",
       "      <td>{'agreement': 0, 'announcement': 0, 'answer': ...</td>\n",
       "      <td>{'agreement': 0, 'announcement': 0, 'answer': ...</td>\n",
       "      <td>{'agreement': 0, 'announcement': 0, 'answer': ...</td>\n",
       "      <td>{'agreement': 0, 'announcement': 0, 'answer': ...</td>\n",
       "      <td>{'agreement': 0, 'announcement': 0, 'answer': ...</td>\n",
       "      <td>{'agreement': 0, 'announcement': 0, 'answer': ...</td>\n",
       "      <td>{'agreement': 0, 'announcement': 0, 'answer': ...</td>\n",
       "      <td>{'agreement': 0, 'announcement': 0, 'answer': ...</td>\n",
       "      <td>{'agreement': 0, 'announcement': 0, 'answer': ...</td>\n",
       "      <td>{'agreement': 0, 'announcement': 0, 'answer': ...</td>\n",
       "      <td>11</td>\n",
       "      <td>anc-qn-negR-qn-dsgmt-dsgmt-negR-elab</td>\n",
       "      <td>politicaldiscussion</td>\n",
       "      <td>The uninformed should not vote</td>\n",
       "      <td>https://www.reddit.com/r/PoliticalDiscussion/c...</td>\n",
       "      <td>-1.866932</td>\n",
       "      <td>-9.104713</td>\n",
       "    </tr>\n",
       "    <tr>\n",
       "      <th>t3_4daitq</th>\n",
       "      <td>{'agreement': 0, 'announcement': 1, 'answer': ...</td>\n",
       "      <td>{'agreement': 0, 'announcement': 0, 'answer': ...</td>\n",
       "      <td>{'agreement': 1, 'announcement': 0, 'answer': ...</td>\n",
       "      <td>{'agreement': 0, 'announcement': 0, 'answer': ...</td>\n",
       "      <td>{'agreement': 0, 'announcement': 0, 'answer': ...</td>\n",
       "      <td>{'agreement': 0, 'announcement': 0, 'answer': ...</td>\n",
       "      <td>{'agreement': 0, 'announcement': 0, 'answer': ...</td>\n",
       "      <td>{'agreement': 0, 'announcement': 0, 'answer': ...</td>\n",
       "      <td>{'agreement': 0, 'announcement': 0, 'answer': ...</td>\n",
       "      <td>{'agreement': 0, 'announcement': 0, 'answer': ...</td>\n",
       "      <td>{'agreement': 0, 'announcement': 0, 'answer': ...</td>\n",
       "      <td>11</td>\n",
       "      <td>anc-negR-negR-elab-qn-ans-dsgmt-elab</td>\n",
       "      <td>rainbow6</td>\n",
       "      <td>PSA: if you keep receiving \"Connection error\",...</td>\n",
       "      <td>https://www.reddit.com/r/Rainbow6/comments/4da...</td>\n",
       "      <td>1.709509</td>\n",
       "      <td>-7.454687</td>\n",
       "    </tr>\n",
       "    <tr>\n",
       "      <th>t3_1lddvq</th>\n",
       "      <td>{'agreement': 0, 'announcement': 0, 'answer': ...</td>\n",
       "      <td>{'agreement': 0, 'announcement': 0, 'answer': ...</td>\n",
       "      <td>{'agreement': 0, 'announcement': 0, 'answer': ...</td>\n",
       "      <td>{'agreement': 0, 'announcement': 0, 'answer': ...</td>\n",
       "      <td>{'agreement': 0, 'announcement': 0, 'answer': ...</td>\n",
       "      <td>{'agreement': 0, 'announcement': 0, 'answer': ...</td>\n",
       "      <td>{'agreement': 0, 'announcement': 0, 'answer': ...</td>\n",
       "      <td>{'agreement': 0, 'announcement': 0, 'answer': ...</td>\n",
       "      <td>{'agreement': 0, 'announcement': 0, 'answer': ...</td>\n",
       "      <td>{'agreement': 0, 'announcement': 0, 'answer': ...</td>\n",
       "      <td>{'agreement': 0, 'announcement': 0, 'answer': ...</td>\n",
       "      <td>11</td>\n",
       "      <td>qn-ans-dsgmt-dsgmt-elab-dsgmt-negR-dsgmt</td>\n",
       "      <td>showerthoughts</td>\n",
       "      <td>What if everything I do is predetermined and I...</td>\n",
       "      <td>https://www.reddit.com/r/Showerthoughts/commen...</td>\n",
       "      <td>-1.981446</td>\n",
       "      <td>7.092827</td>\n",
       "    </tr>\n",
       "    <tr>\n",
       "      <th>t3_4l3w9e</th>\n",
       "      <td>{'agreement': 0, 'announcement': 1, 'answer': ...</td>\n",
       "      <td>NaN</td>\n",
       "      <td>NaN</td>\n",
       "      <td>{'agreement': 0, 'announcement': 0, 'answer': ...</td>\n",
       "      <td>{'agreement': 0, 'announcement': 0, 'answer': ...</td>\n",
       "      <td>{'agreement': 0, 'announcement': 0, 'answer': ...</td>\n",
       "      <td>{'agreement': 1, 'announcement': 0, 'answer': ...</td>\n",
       "      <td>{'agreement': 1, 'announcement': 0, 'answer': ...</td>\n",
       "      <td>{'agreement': 1, 'announcement': 0, 'answer': ...</td>\n",
       "      <td>{'agreement': 0, 'announcement': 0, 'answer': ...</td>\n",
       "      <td>NaN</td>\n",
       "      <td>8</td>\n",
       "      <td>qn-dsgmt-dsgmt-dsgmt-agmt-elab-agmt-dsgmt</td>\n",
       "      <td>smite</td>\n",
       "      <td>How to make Ah Puch relevant</td>\n",
       "      <td>https://www.reddit.com/r/Smite/comments/4l3w9e...</td>\n",
       "      <td>-1.524218</td>\n",
       "      <td>-4.774646</td>\n",
       "    </tr>\n",
       "    <tr>\n",
       "      <th>t3_43ywgn</th>\n",
       "      <td>{'agreement': 0, 'announcement': 0, 'answer': ...</td>\n",
       "      <td>{'agreement': 0, 'announcement': 0, 'answer': ...</td>\n",
       "      <td>{'agreement': 0, 'announcement': 0, 'answer': ...</td>\n",
       "      <td>{'agreement': 0, 'announcement': 0, 'answer': ...</td>\n",
       "      <td>{'agreement': 0, 'announcement': 0, 'answer': ...</td>\n",
       "      <td>{'agreement': 0, 'announcement': 0, 'answer': ...</td>\n",
       "      <td>{'agreement': 1, 'announcement': 0, 'answer': ...</td>\n",
       "      <td>{'agreement': 1, 'announcement': 0, 'answer': ...</td>\n",
       "      <td>{'agreement': 0, 'announcement': 0, 'answer': ...</td>\n",
       "      <td>{'agreement': 0, 'announcement': 0, 'answer': ...</td>\n",
       "      <td>{'agreement': 0, 'announcement': 0, 'answer': ...</td>\n",
       "      <td>11</td>\n",
       "      <td>qn-ans-dsgmt-elab-elab-dsgmt-elab-dsgmt</td>\n",
       "      <td>squadrontowerdefense</td>\n",
       "      <td>The modes of this game</td>\n",
       "      <td>https://www.reddit.com/r/SquadronTowerDefense/...</td>\n",
       "      <td>2.730401</td>\n",
       "      <td>2.781029</td>\n",
       "    </tr>\n",
       "    <tr>\n",
       "      <th>t3_2cpde4</th>\n",
       "      <td>{'agreement': 0, 'announcement': 0, 'answer': ...</td>\n",
       "      <td>{'agreement': 0, 'announcement': 0, 'answer': ...</td>\n",
       "      <td>NaN</td>\n",
       "      <td>{'agreement': 0, 'announcement': 0, 'answer': ...</td>\n",
       "      <td>{'agreement': 1, 'announcement': 0, 'answer': ...</td>\n",
       "      <td>{'agreement': 0, 'announcement': 0, 'answer': ...</td>\n",
       "      <td>{'agreement': 0, 'announcement': 0, 'answer': ...</td>\n",
       "      <td>{'agreement': 0, 'announcement': 0, 'answer': ...</td>\n",
       "      <td>{'agreement': 0, 'announcement': 0, 'answer': ...</td>\n",
       "      <td>{'agreement': 0, 'announcement': 0, 'answer': ...</td>\n",
       "      <td>{'agreement': 0, 'announcement': 0, 'answer': ...</td>\n",
       "      <td>10</td>\n",
       "      <td>qn-ans-elab-qn-ans-qn-ans-elab</td>\n",
       "      <td>warframe</td>\n",
       "      <td>Vacation and kuvrow isnt in stasis</td>\n",
       "      <td>https://www.reddit.com/r/Warframe/comments/2cp...</td>\n",
       "      <td>8.913803</td>\n",
       "      <td>2.994216</td>\n",
       "    </tr>\n",
       "    <tr>\n",
       "      <th>...</th>\n",
       "      <td>...</td>\n",
       "      <td>...</td>\n",
       "      <td>...</td>\n",
       "      <td>...</td>\n",
       "      <td>...</td>\n",
       "      <td>...</td>\n",
       "      <td>...</td>\n",
       "      <td>...</td>\n",
       "      <td>...</td>\n",
       "      <td>...</td>\n",
       "      <td>...</td>\n",
       "      <td>...</td>\n",
       "      <td>...</td>\n",
       "      <td>...</td>\n",
       "      <td>...</td>\n",
       "      <td>...</td>\n",
       "      <td>...</td>\n",
       "      <td>...</td>\n",
       "    </tr>\n",
       "    <tr>\n",
       "      <th>t3_jos4q</th>\n",
       "      <td>{'agreement': 0, 'announcement': 0, 'answer': ...</td>\n",
       "      <td>NaN</td>\n",
       "      <td>NaN</td>\n",
       "      <td>{'agreement': 0, 'announcement': 0, 'answer': ...</td>\n",
       "      <td>{'agreement': 1, 'announcement': 0, 'answer': ...</td>\n",
       "      <td>{'agreement': 0, 'announcement': 0, 'answer': ...</td>\n",
       "      <td>{'agreement': 0, 'announcement': 0, 'answer': ...</td>\n",
       "      <td>{'agreement': 0, 'announcement': 0, 'answer': ...</td>\n",
       "      <td>{'agreement': 0, 'announcement': 0, 'answer': ...</td>\n",
       "      <td>{'agreement': 0, 'announcement': 0, 'answer': ...</td>\n",
       "      <td>NaN</td>\n",
       "      <td>8</td>\n",
       "      <td>qn-ans-agmt-elab-dsgmt-dsgmt-dsgmt-dsgmt</td>\n",
       "      <td>prowrestling</td>\n",
       "      <td>Is the money in the bank briefcase really a go...</td>\n",
       "      <td>https://www.reddit.com/r/prowrestling/comments...</td>\n",
       "      <td>-0.748737</td>\n",
       "      <td>6.979676</td>\n",
       "    </tr>\n",
       "    <tr>\n",
       "      <th>t3_16k2iz</th>\n",
       "      <td>{'agreement': 0, 'announcement': 0, 'answer': ...</td>\n",
       "      <td>{'agreement': 0, 'announcement': 0, 'answer': ...</td>\n",
       "      <td>{'agreement': 0, 'announcement': 0, 'answer': ...</td>\n",
       "      <td>{'agreement': 0, 'announcement': 0, 'answer': ...</td>\n",
       "      <td>{'agreement': 0, 'announcement': 0, 'answer': ...</td>\n",
       "      <td>{'agreement': 0, 'announcement': 0, 'answer': ...</td>\n",
       "      <td>{'agreement': 0, 'announcement': 0, 'answer': ...</td>\n",
       "      <td>{'agreement': 0, 'announcement': 0, 'answer': ...</td>\n",
       "      <td>{'agreement': 0, 'announcement': 0, 'answer': ...</td>\n",
       "      <td>{'agreement': 0, 'announcement': 0, 'answer': ...</td>\n",
       "      <td>{'agreement': 1, 'announcement': 0, 'answer': ...</td>\n",
       "      <td>11</td>\n",
       "      <td>qn-ans-appr-elab-dsgmt-appr-ans-dsgmt</td>\n",
       "      <td>raleigh</td>\n",
       "      <td>Questions about visiting Raleigh for a Canes game</td>\n",
       "      <td>https://www.reddit.com/r/raleigh/comments/16k2...</td>\n",
       "      <td>3.226150</td>\n",
       "      <td>7.112080</td>\n",
       "    </tr>\n",
       "    <tr>\n",
       "      <th>t3_1ibfbt</th>\n",
       "      <td>{'agreement': 0, 'announcement': 0, 'answer': ...</td>\n",
       "      <td>{'agreement': 0, 'announcement': 0, 'answer': ...</td>\n",
       "      <td>{'agreement': 0, 'announcement': 0, 'answer': ...</td>\n",
       "      <td>{'agreement': 0, 'announcement': 0, 'answer': ...</td>\n",
       "      <td>{'agreement': 0, 'announcement': 0, 'answer': ...</td>\n",
       "      <td>{'agreement': 0, 'announcement': 0, 'answer': ...</td>\n",
       "      <td>{'agreement': 0, 'announcement': 0, 'answer': ...</td>\n",
       "      <td>{'agreement': 0, 'announcement': 0, 'answer': ...</td>\n",
       "      <td>{'agreement': 0, 'announcement': 0, 'answer': ...</td>\n",
       "      <td>{'agreement': 0, 'announcement': 0, 'answer': ...</td>\n",
       "      <td>{'agreement': 0, 'announcement': 0, 'answer': ...</td>\n",
       "      <td>11</td>\n",
       "      <td>qn-ans-dsgmt-dsgmt-dsgmt-dsgmt-dsgmt-dsgmt</td>\n",
       "      <td>running</td>\n",
       "      <td>How is that possible so many people manages to...</td>\n",
       "      <td>https://www.reddit.com/r/running/comments/1ibf...</td>\n",
       "      <td>-2.676287</td>\n",
       "      <td>7.504809</td>\n",
       "    </tr>\n",
       "    <tr>\n",
       "      <th>t3_v1nh2</th>\n",
       "      <td>{'agreement': 0, 'announcement': 0, 'answer': ...</td>\n",
       "      <td>NaN</td>\n",
       "      <td>NaN</td>\n",
       "      <td>{'agreement': 0, 'announcement': 0, 'answer': ...</td>\n",
       "      <td>{'agreement': 0, 'announcement': 0, 'answer': ...</td>\n",
       "      <td>{'agreement': 0, 'announcement': 0, 'answer': ...</td>\n",
       "      <td>{'agreement': 0, 'announcement': 0, 'answer': ...</td>\n",
       "      <td>{'agreement': 0, 'announcement': 0, 'answer': ...</td>\n",
       "      <td>{'agreement': 0, 'announcement': 0, 'answer': ...</td>\n",
       "      <td>{'agreement': 0, 'announcement': 0, 'answer': ...</td>\n",
       "      <td>{'agreement': 0, 'announcement': 0, 'answer': ...</td>\n",
       "      <td>9</td>\n",
       "      <td>qn-ans-qn-ans-qn-ans-elab-elab</td>\n",
       "      <td>running</td>\n",
       "      <td>Last workout left me hella-sore all over. What...</td>\n",
       "      <td>https://www.reddit.com/r/running/comments/v1nh...</td>\n",
       "      <td>9.724588</td>\n",
       "      <td>1.232578</td>\n",
       "    </tr>\n",
       "    <tr>\n",
       "      <th>t3_2k2bp6</th>\n",
       "      <td>{'agreement': 0, 'announcement': 1, 'answer': ...</td>\n",
       "      <td>NaN</td>\n",
       "      <td>NaN</td>\n",
       "      <td>{'agreement': 0, 'announcement': 0, 'answer': ...</td>\n",
       "      <td>{'agreement': 0, 'announcement': 0, 'answer': ...</td>\n",
       "      <td>{'agreement': 0, 'announcement': 0, 'answer': ...</td>\n",
       "      <td>{'agreement': 1, 'announcement': 0, 'answer': ...</td>\n",
       "      <td>{'agreement': 0, 'announcement': 0, 'answer': ...</td>\n",
       "      <td>{'agreement': 0, 'announcement': 0, 'answer': ...</td>\n",
       "      <td>{'agreement': 0, 'announcement': 0, 'answer': ...</td>\n",
       "      <td>{'agreement': 1, 'announcement': 0, 'answer': ...</td>\n",
       "      <td>9</td>\n",
       "      <td>qn-ans-elab-elab-elab-elab-dsgmt-dsgmt</td>\n",
       "      <td>sandiego</td>\n",
       "      <td>Went to an art/wine class. Instructions unclear.</td>\n",
       "      <td>https://www.reddit.com/r/sandiego/comments/2k2...</td>\n",
       "      <td>-0.284795</td>\n",
       "      <td>-4.598480</td>\n",
       "    </tr>\n",
       "    <tr>\n",
       "      <th>t3_2hcnhi</th>\n",
       "      <td>{'agreement': 0, 'announcement': 0, 'answer': ...</td>\n",
       "      <td>NaN</td>\n",
       "      <td>NaN</td>\n",
       "      <td>{'agreement': 0, 'announcement': 0, 'answer': ...</td>\n",
       "      <td>{'agreement': 1, 'announcement': 0, 'answer': ...</td>\n",
       "      <td>{'agreement': 1, 'announcement': 0, 'answer': ...</td>\n",
       "      <td>{'agreement': 1, 'announcement': 0, 'answer': ...</td>\n",
       "      <td>{'agreement': 0, 'announcement': 0, 'answer': ...</td>\n",
       "      <td>{'agreement': 0, 'announcement': 0, 'answer': ...</td>\n",
       "      <td>{'agreement': 0, 'announcement': 0, 'answer': ...</td>\n",
       "      <td>{'agreement': 0, 'announcement': 0, 'answer': ...</td>\n",
       "      <td>9</td>\n",
       "      <td>qn-ans-agmt-dsgmt-agmt-dsgmt-dsgmt-dsgmt</td>\n",
       "      <td>slashdiablo</td>\n",
       "      <td>ES/nova or Nova/orb sorc?</td>\n",
       "      <td>https://www.reddit.com/r/slashdiablo/comments/...</td>\n",
       "      <td>1.886309</td>\n",
       "      <td>1.682411</td>\n",
       "    </tr>\n",
       "    <tr>\n",
       "      <th>t3_3bttgz</th>\n",
       "      <td>{'agreement': 0, 'announcement': 0, 'answer': ...</td>\n",
       "      <td>{'agreement': 0, 'announcement': 0, 'answer': ...</td>\n",
       "      <td>{'agreement': 0, 'announcement': 0, 'answer': ...</td>\n",
       "      <td>{'agreement': 0, 'announcement': 0, 'answer': ...</td>\n",
       "      <td>{'agreement': 0, 'announcement': 0, 'answer': ...</td>\n",
       "      <td>{'agreement': 0, 'announcement': 0, 'answer': ...</td>\n",
       "      <td>{'agreement': 0, 'announcement': 0, 'answer': ...</td>\n",
       "      <td>{'agreement': 0, 'announcement': 0, 'answer': ...</td>\n",
       "      <td>{'agreement': 0, 'announcement': 0, 'answer': ...</td>\n",
       "      <td>{'agreement': 0, 'announcement': 0, 'answer': ...</td>\n",
       "      <td>{'agreement': 0, 'announcement': 0, 'answer': ...</td>\n",
       "      <td>11</td>\n",
       "      <td>qn-ans-dsgmt-dsgmt-dsgmt-dsgmt-dsgmt-dsgmt</td>\n",
       "      <td>socialism</td>\n",
       "      <td>How does /r/socialism recommend I go about rad...</td>\n",
       "      <td>https://www.reddit.com/r/socialism/comments/3b...</td>\n",
       "      <td>-2.794004</td>\n",
       "      <td>4.177018</td>\n",
       "    </tr>\n",
       "    <tr>\n",
       "      <th>t3_1umu7e</th>\n",
       "      <td>{'agreement': 0, 'announcement': 1, 'answer': ...</td>\n",
       "      <td>NaN</td>\n",
       "      <td>NaN</td>\n",
       "      <td>{'agreement': 0, 'announcement': 0, 'answer': ...</td>\n",
       "      <td>{'agreement': 1, 'announcement': 0, 'answer': ...</td>\n",
       "      <td>{'agreement': 0, 'announcement': 0, 'answer': ...</td>\n",
       "      <td>{'agreement': 0, 'announcement': 0, 'answer': ...</td>\n",
       "      <td>{'agreement': 0, 'announcement': 0, 'answer': ...</td>\n",
       "      <td>{'agreement': 0, 'announcement': 0, 'answer': ...</td>\n",
       "      <td>{'agreement': 0, 'announcement': 0, 'answer': ...</td>\n",
       "      <td>NaN</td>\n",
       "      <td>8</td>\n",
       "      <td>anc-qn-ans-elab-appr-elab-qn-ans</td>\n",
       "      <td>songaweek</td>\n",
       "      <td>~36 hours left, depending on when you go to bed</td>\n",
       "      <td>https://www.reddit.com/r/songaweek/comments/1u...</td>\n",
       "      <td>3.550873</td>\n",
       "      <td>-7.873744</td>\n",
       "    </tr>\n",
       "    <tr>\n",
       "      <th>t3_2li4rb</th>\n",
       "      <td>{'agreement': 0, 'announcement': 0, 'answer': ...</td>\n",
       "      <td>NaN</td>\n",
       "      <td>NaN</td>\n",
       "      <td>{'agreement': 0, 'announcement': 0, 'answer': ...</td>\n",
       "      <td>{'agreement': 0, 'announcement': 0, 'answer': ...</td>\n",
       "      <td>{'agreement': 0, 'announcement': 0, 'answer': ...</td>\n",
       "      <td>{'agreement': 0, 'announcement': 0, 'answer': ...</td>\n",
       "      <td>{'agreement': 0, 'announcement': 0, 'answer': ...</td>\n",
       "      <td>{'agreement': 0, 'announcement': 0, 'answer': ...</td>\n",
       "      <td>{'agreement': 0, 'announcement': 0, 'answer': ...</td>\n",
       "      <td>{'agreement': 0, 'announcement': 0, 'answer': ...</td>\n",
       "      <td>9</td>\n",
       "      <td>qn-ans-qn-ans-qn-ans-elab-dsgmt</td>\n",
       "      <td>starcitizen</td>\n",
       "      <td>LTI, Perma Death and Ship Stolen - What happens?</td>\n",
       "      <td>https://www.reddit.com/r/starcitizen/comments/...</td>\n",
       "      <td>6.423782</td>\n",
       "      <td>-0.455071</td>\n",
       "    </tr>\n",
       "    <tr>\n",
       "      <th>t3_1e3k01</th>\n",
       "      <td>{'agreement': 0, 'announcement': 1, 'answer': ...</td>\n",
       "      <td>{'agreement': 0, 'announcement': 0, 'answer': ...</td>\n",
       "      <td>NaN</td>\n",
       "      <td>{'agreement': 0, 'announcement': 0, 'answer': ...</td>\n",
       "      <td>{'agreement': 0, 'announcement': 0, 'answer': ...</td>\n",
       "      <td>{'agreement': 0, 'announcement': 0, 'answer': ...</td>\n",
       "      <td>{'agreement': 0, 'announcement': 0, 'answer': ...</td>\n",
       "      <td>{'agreement': 0, 'announcement': 0, 'answer': ...</td>\n",
       "      <td>{'agreement': 0, 'announcement': 0, 'answer': ...</td>\n",
       "      <td>{'agreement': 0, 'announcement': 0, 'answer': ...</td>\n",
       "      <td>{'agreement': 0, 'announcement': 0, 'answer': ...</td>\n",
       "      <td>10</td>\n",
       "      <td>anc-dsgmt-negR-dsgmt-dsgmt-elab-dsgmt-dsgmt</td>\n",
       "      <td>starcraft</td>\n",
       "      <td>HasuObs wins EPS over Socke 3-1!</td>\n",
       "      <td>https://www.reddit.com/r/starcraft/comments/1e...</td>\n",
       "      <td>-0.177475</td>\n",
       "      <td>-9.331255</td>\n",
       "    </tr>\n",
       "    <tr>\n",
       "      <th>t3_2o0yow</th>\n",
       "      <td>{'agreement': 0, 'announcement': 0, 'answer': ...</td>\n",
       "      <td>{'agreement': 0, 'announcement': 0, 'answer': ...</td>\n",
       "      <td>NaN</td>\n",
       "      <td>{'agreement': 0, 'announcement': 0, 'answer': ...</td>\n",
       "      <td>{'agreement': 0, 'announcement': 0, 'answer': ...</td>\n",
       "      <td>{'agreement': 0, 'announcement': 0, 'answer': ...</td>\n",
       "      <td>{'agreement': 0, 'announcement': 0, 'answer': ...</td>\n",
       "      <td>{'agreement': 0, 'announcement': 0, 'answer': ...</td>\n",
       "      <td>{'agreement': 0, 'announcement': 0, 'answer': ...</td>\n",
       "      <td>{'agreement': 0, 'announcement': 0, 'answer': ...</td>\n",
       "      <td>{'agreement': 0, 'announcement': 0, 'answer': ...</td>\n",
       "      <td>10</td>\n",
       "      <td>qn-ans-elab-dsgmt-dsgmt-dsgmt-elab-dsgmt</td>\n",
       "      <td>starcraft</td>\n",
       "      <td>LotV - The Void Ray</td>\n",
       "      <td>https://www.reddit.com/r/starcraft/comments/2o...</td>\n",
       "      <td>-2.401202</td>\n",
       "      <td>3.448201</td>\n",
       "    </tr>\n",
       "    <tr>\n",
       "      <th>t3_sxol2</th>\n",
       "      <td>{'agreement': 0, 'announcement': 0, 'answer': ...</td>\n",
       "      <td>NaN</td>\n",
       "      <td>NaN</td>\n",
       "      <td>{'agreement': 0, 'announcement': 0, 'answer': ...</td>\n",
       "      <td>{'agreement': 0, 'announcement': 0, 'answer': ...</td>\n",
       "      <td>{'agreement': 0, 'announcement': 0, 'answer': ...</td>\n",
       "      <td>{'agreement': 0, 'announcement': 0, 'answer': ...</td>\n",
       "      <td>{'agreement': 0, 'announcement': 0, 'answer': ...</td>\n",
       "      <td>{'agreement': 0, 'announcement': 0, 'answer': ...</td>\n",
       "      <td>{'agreement': 0, 'announcement': 0, 'answer': ...</td>\n",
       "      <td>{'agreement': 1, 'announcement': 0, 'answer': ...</td>\n",
       "      <td>9</td>\n",
       "      <td>qn-ans-qn-ans-dsgmt-dsgmt-elab-elab</td>\n",
       "      <td>starcraft</td>\n",
       "      <td>Can we stop with the \"[insert pro's name here]...</td>\n",
       "      <td>https://www.reddit.com/r/starcraft/comments/sx...</td>\n",
       "      <td>5.244894</td>\n",
       "      <td>6.221284</td>\n",
       "    </tr>\n",
       "    <tr>\n",
       "      <th>t3_1l24ac</th>\n",
       "      <td>{'agreement': 0, 'announcement': 1, 'answer': ...</td>\n",
       "      <td>NaN</td>\n",
       "      <td>NaN</td>\n",
       "      <td>{'agreement': 0, 'announcement': 0, 'answer': ...</td>\n",
       "      <td>{'agreement': 0, 'announcement': 0, 'answer': ...</td>\n",
       "      <td>{'agreement': 0, 'announcement': 0, 'answer': ...</td>\n",
       "      <td>{'agreement': 0, 'announcement': 0, 'answer': ...</td>\n",
       "      <td>{'agreement': 0, 'announcement': 0, 'answer': ...</td>\n",
       "      <td>{'agreement': 0, 'announcement': 0, 'answer': ...</td>\n",
       "      <td>{'agreement': 0, 'announcement': 0, 'answer': ...</td>\n",
       "      <td>NaN</td>\n",
       "      <td>8</td>\n",
       "      <td>anc-hmr-elab-dsgmt-negR-elab-negR-dsgmt</td>\n",
       "      <td>steampunk</td>\n",
       "      <td>LEGO steampunk walking ship.</td>\n",
       "      <td>https://www.reddit.com/r/steampunk/comments/1l...</td>\n",
       "      <td>-0.803875</td>\n",
       "      <td>-4.617933</td>\n",
       "    </tr>\n",
       "    <tr>\n",
       "      <th>t3_3fxcat</th>\n",
       "      <td>{'agreement': 0, 'announcement': 0, 'answer': ...</td>\n",
       "      <td>NaN</td>\n",
       "      <td>NaN</td>\n",
       "      <td>{'agreement': 0, 'announcement': 0, 'answer': ...</td>\n",
       "      <td>{'agreement': 0, 'announcement': 0, 'answer': ...</td>\n",
       "      <td>{'agreement': 0, 'announcement': 0, 'answer': ...</td>\n",
       "      <td>{'agreement': 0, 'announcement': 0, 'answer': ...</td>\n",
       "      <td>{'agreement': 0, 'announcement': 0, 'answer': ...</td>\n",
       "      <td>{'agreement': 0, 'announcement': 0, 'answer': ...</td>\n",
       "      <td>{'agreement': 0, 'announcement': 0, 'answer': ...</td>\n",
       "      <td>{'agreement': 0, 'announcement': 0, 'answer': ...</td>\n",
       "      <td>9</td>\n",
       "      <td>qn-ans-qn-ans-elab-dsgmt-elab-elab</td>\n",
       "      <td>stevenuniverse</td>\n",
       "      <td>What if Amethyst...</td>\n",
       "      <td>https://www.reddit.com/r/stevenuniverse/commen...</td>\n",
       "      <td>5.196903</td>\n",
       "      <td>3.726058</td>\n",
       "    </tr>\n",
       "    <tr>\n",
       "      <th>t3_2kgr08</th>\n",
       "      <td>{'agreement': 0, 'announcement': 0, 'answer': ...</td>\n",
       "      <td>NaN</td>\n",
       "      <td>NaN</td>\n",
       "      <td>{'agreement': 0, 'announcement': 0, 'answer': ...</td>\n",
       "      <td>{'agreement': 1, 'announcement': 0, 'answer': ...</td>\n",
       "      <td>{'agreement': 0, 'announcement': 0, 'answer': ...</td>\n",
       "      <td>{'agreement': 0, 'announcement': 0, 'answer': ...</td>\n",
       "      <td>{'agreement': 0, 'announcement': 0, 'answer': ...</td>\n",
       "      <td>{'agreement': 0, 'announcement': 0, 'answer': ...</td>\n",
       "      <td>{'agreement': 0, 'announcement': 0, 'answer': ...</td>\n",
       "      <td>NaN</td>\n",
       "      <td>8</td>\n",
       "      <td>qn-ans-agmt-dsgmt-qn-ans-dsgmt-dsgmt</td>\n",
       "      <td>summonerschool</td>\n",
       "      <td>Ive been playing Nidalee support recently and ...</td>\n",
       "      <td>https://www.reddit.com/r/summonerschool/commen...</td>\n",
       "      <td>0.382042</td>\n",
       "      <td>-0.253664</td>\n",
       "    </tr>\n",
       "    <tr>\n",
       "      <th>t3_3vd1gt</th>\n",
       "      <td>{'agreement': 0, 'announcement': 0, 'answer': ...</td>\n",
       "      <td>{'agreement': 0, 'announcement': 0, 'answer': ...</td>\n",
       "      <td>NaN</td>\n",
       "      <td>{'agreement': 0, 'announcement': 0, 'answer': ...</td>\n",
       "      <td>{'agreement': 1, 'announcement': 0, 'answer': ...</td>\n",
       "      <td>{'agreement': 0, 'announcement': 0, 'answer': ...</td>\n",
       "      <td>{'agreement': 0, 'announcement': 0, 'answer': ...</td>\n",
       "      <td>{'agreement': 0, 'announcement': 0, 'answer': ...</td>\n",
       "      <td>{'agreement': 0, 'announcement': 0, 'answer': ...</td>\n",
       "      <td>{'agreement': 0, 'announcement': 0, 'answer': ...</td>\n",
       "      <td>{'agreement': 0, 'announcement': 0, 'answer': ...</td>\n",
       "      <td>10</td>\n",
       "      <td>qn-ans-agmt-elab-elab-qn-ans-dsgmt</td>\n",
       "      <td>sydney</td>\n",
       "      <td>Has anyone here got done by the new road side ...</td>\n",
       "      <td>https://www.reddit.com/r/sydney/comments/3vd1g...</td>\n",
       "      <td>4.893307</td>\n",
       "      <td>0.616185</td>\n",
       "    </tr>\n",
       "    <tr>\n",
       "      <th>t3_2nw4z3</th>\n",
       "      <td>{'agreement': 0, 'announcement': 0, 'answer': ...</td>\n",
       "      <td>NaN</td>\n",
       "      <td>NaN</td>\n",
       "      <td>{'agreement': 0, 'announcement': 0, 'answer': ...</td>\n",
       "      <td>{'agreement': 0, 'announcement': 0, 'answer': ...</td>\n",
       "      <td>{'agreement': 0, 'announcement': 0, 'answer': ...</td>\n",
       "      <td>{'agreement': 0, 'announcement': 0, 'answer': ...</td>\n",
       "      <td>{'agreement': 0, 'announcement': 0, 'answer': ...</td>\n",
       "      <td>{'agreement': 0, 'announcement': 0, 'answer': ...</td>\n",
       "      <td>{'agreement': 0, 'announcement': 0, 'answer': ...</td>\n",
       "      <td>{'agreement': 1, 'announcement': 0, 'answer': ...</td>\n",
       "      <td>9</td>\n",
       "      <td>qn-ans-dsgmt-dsgmt-dsgmt-elab-dsgmt-elab</td>\n",
       "      <td>teenagers</td>\n",
       "      <td>[Discussion] What can us high school students ...</td>\n",
       "      <td>https://www.reddit.com/r/teenagers/comments/2n...</td>\n",
       "      <td>-0.981551</td>\n",
       "      <td>4.484861</td>\n",
       "    </tr>\n",
       "    <tr>\n",
       "      <th>t3_4e9tyc</th>\n",
       "      <td>{'agreement': 0, 'announcement': 0, 'answer': ...</td>\n",
       "      <td>NaN</td>\n",
       "      <td>NaN</td>\n",
       "      <td>{'agreement': 0, 'announcement': 0, 'answer': ...</td>\n",
       "      <td>{'agreement': 0, 'announcement': 0, 'answer': ...</td>\n",
       "      <td>{'agreement': 0, 'announcement': 0, 'answer': ...</td>\n",
       "      <td>{'agreement': 0, 'announcement': 0, 'answer': ...</td>\n",
       "      <td>{'agreement': 0, 'announcement': 0, 'answer': ...</td>\n",
       "      <td>{'agreement': 0, 'announcement': 0, 'answer': ...</td>\n",
       "      <td>{'agreement': 0, 'announcement': 0, 'answer': ...</td>\n",
       "      <td>NaN</td>\n",
       "      <td>8</td>\n",
       "      <td>qn-ans-dsgmt-dsgmt-elab-dsgmt-dsgmt-dsgmt</td>\n",
       "      <td>thedivision</td>\n",
       "      <td>Item duping in patch 1.2</td>\n",
       "      <td>https://www.reddit.com/r/thedivision/comments/...</td>\n",
       "      <td>-1.288372</td>\n",
       "      <td>1.549729</td>\n",
       "    </tr>\n",
       "    <tr>\n",
       "      <th>t3_46d0iu</th>\n",
       "      <td>{'agreement': 0, 'announcement': 0, 'answer': ...</td>\n",
       "      <td>{'agreement': 0, 'announcement': 0, 'answer': ...</td>\n",
       "      <td>{'agreement': 1, 'announcement': 0, 'answer': ...</td>\n",
       "      <td>{'agreement': 0, 'announcement': 0, 'answer': ...</td>\n",
       "      <td>{'agreement': 0, 'announcement': 0, 'answer': ...</td>\n",
       "      <td>{'agreement': 0, 'announcement': 0, 'answer': ...</td>\n",
       "      <td>{'agreement': 0, 'announcement': 0, 'answer': ...</td>\n",
       "      <td>{'agreement': 0, 'announcement': 0, 'answer': ...</td>\n",
       "      <td>{'agreement': 0, 'announcement': 0, 'answer': ...</td>\n",
       "      <td>{'agreement': 0, 'announcement': 0, 'answer': ...</td>\n",
       "      <td>{'agreement': 0, 'announcement': 0, 'answer': ...</td>\n",
       "      <td>11</td>\n",
       "      <td>qn-qn-ans-qn-dsgmt-dsgmt-dsgmt-dsgmt</td>\n",
       "      <td>trees</td>\n",
       "      <td>Despite the English Definition, Is weed Someho...</td>\n",
       "      <td>https://www.reddit.com/r/trees/comments/46d0iu...</td>\n",
       "      <td>7.759293</td>\n",
       "      <td>-2.983533</td>\n",
       "    </tr>\n",
       "    <tr>\n",
       "      <th>t3_1dxf7i</th>\n",
       "      <td>{'agreement': 0, 'announcement': 0, 'answer': ...</td>\n",
       "      <td>{'agreement': 0, 'announcement': 0, 'answer': ...</td>\n",
       "      <td>{'agreement': 0, 'announcement': 0, 'answer': ...</td>\n",
       "      <td>{'agreement': 0, 'announcement': 0, 'answer': ...</td>\n",
       "      <td>{'agreement': 0, 'announcement': 0, 'answer': ...</td>\n",
       "      <td>{'agreement': 0, 'announcement': 0, 'answer': ...</td>\n",
       "      <td>{'agreement': 0, 'announcement': 0, 'answer': ...</td>\n",
       "      <td>{'agreement': 0, 'announcement': 0, 'answer': ...</td>\n",
       "      <td>{'agreement': 0, 'announcement': 0, 'answer': ...</td>\n",
       "      <td>{'agreement': 0, 'announcement': 0, 'answer': ...</td>\n",
       "      <td>{'agreement': 0, 'announcement': 0, 'answer': ...</td>\n",
       "      <td>11</td>\n",
       "      <td>qn-qn-elab-elab-qn-ans-elab-elab</td>\n",
       "      <td>truegaming</td>\n",
       "      <td>Has the age of regular updates led to a greate...</td>\n",
       "      <td>https://www.reddit.com/r/truegaming/comments/1...</td>\n",
       "      <td>6.851417</td>\n",
       "      <td>2.411833</td>\n",
       "    </tr>\n",
       "    <tr>\n",
       "      <th>t3_3f43pu</th>\n",
       "      <td>{'agreement': 0, 'announcement': 1, 'answer': ...</td>\n",
       "      <td>NaN</td>\n",
       "      <td>NaN</td>\n",
       "      <td>{'agreement': 0, 'announcement': 0, 'answer': ...</td>\n",
       "      <td>{'agreement': 0, 'announcement': 0, 'answer': ...</td>\n",
       "      <td>{'agreement': 1, 'announcement': 0, 'answer': ...</td>\n",
       "      <td>{'agreement': 0, 'announcement': 0, 'answer': ...</td>\n",
       "      <td>{'agreement': 0, 'announcement': 0, 'answer': ...</td>\n",
       "      <td>{'agreement': 0, 'announcement': 0, 'answer': ...</td>\n",
       "      <td>{'agreement': 0, 'announcement': 0, 'answer': ...</td>\n",
       "      <td>{'agreement': 0, 'announcement': 0, 'answer': ...</td>\n",
       "      <td>9</td>\n",
       "      <td>anc-elab-elab-agmt-elab-elab-hmr-dsgmt</td>\n",
       "      <td>weekendgunnit</td>\n",
       "      <td>I am bored cleaning guns in my gun room AMA.</td>\n",
       "      <td>https://www.reddit.com/r/weekendgunnit/comment...</td>\n",
       "      <td>1.047748</td>\n",
       "      <td>-6.271486</td>\n",
       "    </tr>\n",
       "    <tr>\n",
       "      <th>t3_1b5ocp</th>\n",
       "      <td>{'agreement': 0, 'announcement': 0, 'answer': ...</td>\n",
       "      <td>{'agreement': 0, 'announcement': 0, 'answer': ...</td>\n",
       "      <td>{'agreement': 0, 'announcement': 0, 'answer': ...</td>\n",
       "      <td>{'agreement': 0, 'announcement': 0, 'answer': ...</td>\n",
       "      <td>{'agreement': 0, 'announcement': 0, 'answer': ...</td>\n",
       "      <td>{'agreement': 0, 'announcement': 0, 'answer': ...</td>\n",
       "      <td>{'agreement': 0, 'announcement': 0, 'answer': ...</td>\n",
       "      <td>{'agreement': 0, 'announcement': 0, 'answer': ...</td>\n",
       "      <td>{'agreement': 0, 'announcement': 0, 'answer': ...</td>\n",
       "      <td>{'agreement': 0, 'announcement': 0, 'answer': ...</td>\n",
       "      <td>{'agreement': 0, 'announcement': 0, 'answer': ...</td>\n",
       "      <td>11</td>\n",
       "      <td>qn-ans-qn-elab-elab-qn-dsgmt-dsgmt</td>\n",
       "      <td>whowouldwin</td>\n",
       "      <td>The Presence vs The One-Above-All</td>\n",
       "      <td>https://www.reddit.com/r/whowouldwin/comments/...</td>\n",
       "      <td>5.065013</td>\n",
       "      <td>0.224862</td>\n",
       "    </tr>\n",
       "    <tr>\n",
       "      <th>t3_27m29d</th>\n",
       "      <td>{'agreement': 0, 'announcement': 0, 'answer': ...</td>\n",
       "      <td>{'agreement': 0, 'announcement': 0, 'answer': ...</td>\n",
       "      <td>{'agreement': 0, 'announcement': 0, 'answer': ...</td>\n",
       "      <td>{'agreement': 0, 'announcement': 0, 'answer': ...</td>\n",
       "      <td>{'agreement': 0, 'announcement': 0, 'answer': ...</td>\n",
       "      <td>{'agreement': 0, 'announcement': 0, 'answer': ...</td>\n",
       "      <td>{'agreement': 0, 'announcement': 0, 'answer': ...</td>\n",
       "      <td>{'agreement': 0, 'announcement': 0, 'answer': ...</td>\n",
       "      <td>{'agreement': 0, 'announcement': 0, 'answer': ...</td>\n",
       "      <td>{'agreement': 1, 'announcement': 0, 'answer': ...</td>\n",
       "      <td>{'agreement': 0, 'announcement': 0, 'answer': ...</td>\n",
       "      <td>11</td>\n",
       "      <td>qn-ans-dsgmt-qn-ans-qn-ans-dsgmt</td>\n",
       "      <td>whowouldwin</td>\n",
       "      <td>Tug of war. Magneto vs Luke Skywalker.</td>\n",
       "      <td>https://www.reddit.com/r/whowouldwin/comments/...</td>\n",
       "      <td>5.395791</td>\n",
       "      <td>-1.400618</td>\n",
       "    </tr>\n",
       "    <tr>\n",
       "      <th>t3_2nihk5</th>\n",
       "      <td>{'agreement': 0, 'announcement': 1, 'answer': ...</td>\n",
       "      <td>NaN</td>\n",
       "      <td>NaN</td>\n",
       "      <td>{'agreement': 0, 'announcement': 0, 'answer': ...</td>\n",
       "      <td>{'agreement': 0, 'announcement': 0, 'answer': ...</td>\n",
       "      <td>{'agreement': 0, 'announcement': 0, 'answer': ...</td>\n",
       "      <td>{'agreement': 0, 'announcement': 0, 'answer': ...</td>\n",
       "      <td>{'agreement': 0, 'announcement': 0, 'answer': ...</td>\n",
       "      <td>{'agreement': 0, 'announcement': 0, 'answer': ...</td>\n",
       "      <td>{'agreement': 0, 'announcement': 0, 'answer': ...</td>\n",
       "      <td>NaN</td>\n",
       "      <td>8</td>\n",
       "      <td>qn-ans-appr-elab-qn-ans-dsgmt-ans</td>\n",
       "      <td>whowouldwin</td>\n",
       "      <td>Sundipped Superman vs Darkseid in a Fist Fight</td>\n",
       "      <td>https://www.reddit.com/r/whowouldwin/comments/...</td>\n",
       "      <td>5.610367</td>\n",
       "      <td>-5.986479</td>\n",
       "    </tr>\n",
       "    <tr>\n",
       "      <th>t3_3cnnx4</th>\n",
       "      <td>{'agreement': 0, 'announcement': 1, 'answer': ...</td>\n",
       "      <td>{'agreement': 1, 'announcement': 0, 'answer': ...</td>\n",
       "      <td>NaN</td>\n",
       "      <td>{'agreement': 0, 'announcement': 0, 'answer': ...</td>\n",
       "      <td>{'agreement': 0, 'announcement': 0, 'answer': ...</td>\n",
       "      <td>{'agreement': 0, 'announcement': 0, 'answer': ...</td>\n",
       "      <td>{'agreement': 0, 'announcement': 0, 'answer': ...</td>\n",
       "      <td>{'agreement': 0, 'announcement': 0, 'answer': ...</td>\n",
       "      <td>{'agreement': 0, 'announcement': 0, 'answer': ...</td>\n",
       "      <td>{'agreement': 0, 'announcement': 0, 'answer': ...</td>\n",
       "      <td>{'agreement': 0, 'announcement': 0, 'answer': ...</td>\n",
       "      <td>10</td>\n",
       "      <td>qn-ans-dsgmt-dsgmt-elab-dsgmt-dsgmt-elab</td>\n",
       "      <td>whowouldwin</td>\n",
       "      <td>Feudal Japan vs any feudal western European co...</td>\n",
       "      <td>https://www.reddit.com/r/whowouldwin/comments/...</td>\n",
       "      <td>-0.834172</td>\n",
       "      <td>-4.470060</td>\n",
       "    </tr>\n",
       "    <tr>\n",
       "      <th>t3_1wgjnx</th>\n",
       "      <td>{'agreement': 0, 'announcement': 0, 'answer': ...</td>\n",
       "      <td>NaN</td>\n",
       "      <td>NaN</td>\n",
       "      <td>{'agreement': 0, 'announcement': 0, 'answer': ...</td>\n",
       "      <td>{'agreement': 0, 'announcement': 0, 'answer': ...</td>\n",
       "      <td>{'agreement': 1, 'announcement': 0, 'answer': ...</td>\n",
       "      <td>{'agreement': 0, 'announcement': 0, 'answer': ...</td>\n",
       "      <td>{'agreement': 0, 'announcement': 0, 'answer': ...</td>\n",
       "      <td>{'agreement': 0, 'announcement': 0, 'answer': ...</td>\n",
       "      <td>{'agreement': 0, 'announcement': 0, 'answer': ...</td>\n",
       "      <td>{'agreement': 0, 'announcement': 0, 'answer': ...</td>\n",
       "      <td>9</td>\n",
       "      <td>qn-ans-appr-agmt-elab-othr-othr-dsgmt</td>\n",
       "      <td>wiiu</td>\n",
       "      <td>Is it possible from, turning the wiiu on, to p...</td>\n",
       "      <td>https://www.reddit.com/r/wiiu/comments/1wgjnx/...</td>\n",
       "      <td>3.925484</td>\n",
       "      <td>1.042331</td>\n",
       "    </tr>\n",
       "    <tr>\n",
       "      <th>t3_278ptr</th>\n",
       "      <td>{'agreement': 0, 'announcement': 1, 'answer': ...</td>\n",
       "      <td>{'agreement': 0, 'announcement': 0, 'answer': ...</td>\n",
       "      <td>{'agreement': 0, 'announcement': 0, 'answer': ...</td>\n",
       "      <td>{'agreement': 0, 'announcement': 0, 'answer': ...</td>\n",
       "      <td>{'agreement': 0, 'announcement': 0, 'answer': ...</td>\n",
       "      <td>{'agreement': 1, 'announcement': 0, 'answer': ...</td>\n",
       "      <td>{'agreement': 0, 'announcement': 0, 'answer': ...</td>\n",
       "      <td>{'agreement': 0, 'announcement': 0, 'answer': ...</td>\n",
       "      <td>{'agreement': 0, 'announcement': 0, 'answer': ...</td>\n",
       "      <td>{'agreement': 0, 'announcement': 0, 'answer': ...</td>\n",
       "      <td>{'agreement': 0, 'announcement': 0, 'answer': ...</td>\n",
       "      <td>11</td>\n",
       "      <td>anc-dsgmt-dsgmt-elab-elab-elab-elab-elab</td>\n",
       "      <td>wma</td>\n",
       "      <td>A new (and better) definition of Indes</td>\n",
       "      <td>https://www.reddit.com/r/wma/comments/278ptr/a...</td>\n",
       "      <td>-1.182184</td>\n",
       "      <td>-6.840075</td>\n",
       "    </tr>\n",
       "    <tr>\n",
       "      <th>t3_32jid7</th>\n",
       "      <td>{'agreement': 0, 'announcement': 0, 'answer': ...</td>\n",
       "      <td>{'agreement': 0, 'announcement': 0, 'answer': ...</td>\n",
       "      <td>NaN</td>\n",
       "      <td>{'agreement': 0, 'announcement': 0, 'answer': ...</td>\n",
       "      <td>{'agreement': 1, 'announcement': 0, 'answer': ...</td>\n",
       "      <td>{'agreement': 0, 'announcement': 0, 'answer': ...</td>\n",
       "      <td>{'agreement': 0, 'announcement': 0, 'answer': ...</td>\n",
       "      <td>{'agreement': 0, 'announcement': 0, 'answer': ...</td>\n",
       "      <td>{'agreement': 0, 'announcement': 0, 'answer': ...</td>\n",
       "      <td>{'agreement': 0, 'announcement': 0, 'answer': ...</td>\n",
       "      <td>{'agreement': 1, 'announcement': 0, 'answer': ...</td>\n",
       "      <td>10</td>\n",
       "      <td>qn-ans-agmt-qn-ans-qn-ans-dsgmt</td>\n",
       "      <td>wow</td>\n",
       "      <td>Is Hellfire Citadel the final raid?</td>\n",
       "      <td>https://www.reddit.com/r/wow/comments/32jid7/i...</td>\n",
       "      <td>9.347777</td>\n",
       "      <td>2.458409</td>\n",
       "    </tr>\n",
       "    <tr>\n",
       "      <th>t3_3i0ejk</th>\n",
       "      <td>{'agreement': 0, 'announcement': 0, 'answer': ...</td>\n",
       "      <td>NaN</td>\n",
       "      <td>NaN</td>\n",
       "      <td>{'agreement': 0, 'announcement': 0, 'answer': ...</td>\n",
       "      <td>{'agreement': 0, 'announcement': 0, 'answer': ...</td>\n",
       "      <td>{'agreement': 0, 'announcement': 0, 'answer': ...</td>\n",
       "      <td>{'agreement': 0, 'announcement': 0, 'answer': ...</td>\n",
       "      <td>{'agreement': 0, 'announcement': 0, 'answer': ...</td>\n",
       "      <td>{'agreement': 0, 'announcement': 0, 'answer': ...</td>\n",
       "      <td>{'agreement': 0, 'announcement': 0, 'answer': ...</td>\n",
       "      <td>NaN</td>\n",
       "      <td>8</td>\n",
       "      <td>qn-ans-elab-elab-elab-elab-dsgmt-elab</td>\n",
       "      <td>woweconomy</td>\n",
       "      <td>What is the purpose of the gold token? (A litt...</td>\n",
       "      <td>https://www.reddit.com/r/woweconomy/comments/3...</td>\n",
       "      <td>4.975788</td>\n",
       "      <td>5.685836</td>\n",
       "    </tr>\n",
       "    <tr>\n",
       "      <th>t3_2qbmbi</th>\n",
       "      <td>{'agreement': 0, 'announcement': 0, 'answer': ...</td>\n",
       "      <td>{'agreement': 1, 'announcement': 0, 'answer': ...</td>\n",
       "      <td>NaN</td>\n",
       "      <td>{'agreement': 0, 'announcement': 0, 'answer': ...</td>\n",
       "      <td>{'agreement': 0, 'announcement': 0, 'answer': ...</td>\n",
       "      <td>{'agreement': 0, 'announcement': 0, 'answer': ...</td>\n",
       "      <td>{'agreement': 0, 'announcement': 0, 'answer': ...</td>\n",
       "      <td>{'agreement': 0, 'announcement': 0, 'answer': ...</td>\n",
       "      <td>{'agreement': 0, 'announcement': 0, 'answer': ...</td>\n",
       "      <td>{'agreement': 0, 'announcement': 0, 'answer': ...</td>\n",
       "      <td>{'agreement': 0, 'announcement': 0, 'answer': ...</td>\n",
       "      <td>10</td>\n",
       "      <td>qn-ans-elab-dsgmt-dsgmt-ans-qn-dsgmt</td>\n",
       "      <td>yugioh</td>\n",
       "      <td>What are Fluffals lacking to make them viable?</td>\n",
       "      <td>https://www.reddit.com/r/yugioh/comments/2qbmb...</td>\n",
       "      <td>-1.345777</td>\n",
       "      <td>7.899681</td>\n",
       "    </tr>\n",
       "  </tbody>\n",
       "</table>\n",
       "<p>127 rows × 18 columns</p>\n",
       "</div>"
      ],
      "text/plain": [
       "                                           meta.annot-dict-1  \\\n",
       "id                                                             \n",
       "t3_1at5ow  {'agreement': 0, 'announcement': 0, 'answer': ...   \n",
       "t3_24ffw3  {'agreement': 0, 'announcement': 0, 'answer': ...   \n",
       "t3_no05m   {'agreement': 0, 'announcement': 0, 'answer': ...   \n",
       "t3_1mm7er  {'agreement': 0, 'announcement': 0, 'answer': ...   \n",
       "t3_3yvz6m  {'agreement': 0, 'announcement': 0, 'answer': ...   \n",
       "t3_1tqv73  {'agreement': 0, 'announcement': 1, 'answer': ...   \n",
       "t3_12uk6w  {'agreement': 0, 'announcement': 0, 'answer': ...   \n",
       "t3_1mz7pe  {'agreement': 0, 'announcement': 0, 'answer': ...   \n",
       "t3_4b35qi  {'agreement': 0, 'announcement': 1, 'answer': ...   \n",
       "t3_46edrj  {'agreement': 0, 'announcement': 1, 'answer': ...   \n",
       "t3_493d2b  {'agreement': 0, 'announcement': 0, 'answer': ...   \n",
       "t3_p61bo   {'agreement': 0, 'announcement': 0, 'answer': ...   \n",
       "t3_340hy7  {'agreement': 0, 'announcement': 1, 'answer': ...   \n",
       "t3_1ujsj7  {'agreement': 0, 'announcement': 0, 'answer': ...   \n",
       "t3_4bmcqt  {'agreement': 0, 'announcement': 0, 'answer': ...   \n",
       "t3_4lbuq4  {'agreement': 0, 'announcement': 0, 'answer': ...   \n",
       "t3_317ynl  {'agreement': 0, 'announcement': 0, 'answer': ...   \n",
       "t3_d9v26   {'agreement': 0, 'announcement': 0, 'answer': ...   \n",
       "t3_3v559e  {'agreement': 0, 'announcement': 1, 'answer': ...   \n",
       "t3_182m0o  {'agreement': 0, 'announcement': 1, 'answer': ...   \n",
       "t3_4c3mfu  {'agreement': 0, 'announcement': 1, 'answer': ...   \n",
       "t3_1vyg3j  {'agreement': 0, 'announcement': 0, 'answer': ...   \n",
       "t3_rskt6   {'agreement': 0, 'announcement': 0, 'answer': ...   \n",
       "t3_105bsr  {'agreement': 0, 'announcement': 0, 'answer': ...   \n",
       "t3_12o6im  {'agreement': 0, 'announcement': 1, 'answer': ...   \n",
       "t3_4daitq  {'agreement': 0, 'announcement': 1, 'answer': ...   \n",
       "t3_1lddvq  {'agreement': 0, 'announcement': 0, 'answer': ...   \n",
       "t3_4l3w9e  {'agreement': 0, 'announcement': 1, 'answer': ...   \n",
       "t3_43ywgn  {'agreement': 0, 'announcement': 0, 'answer': ...   \n",
       "t3_2cpde4  {'agreement': 0, 'announcement': 0, 'answer': ...   \n",
       "...                                                      ...   \n",
       "t3_jos4q   {'agreement': 0, 'announcement': 0, 'answer': ...   \n",
       "t3_16k2iz  {'agreement': 0, 'announcement': 0, 'answer': ...   \n",
       "t3_1ibfbt  {'agreement': 0, 'announcement': 0, 'answer': ...   \n",
       "t3_v1nh2   {'agreement': 0, 'announcement': 0, 'answer': ...   \n",
       "t3_2k2bp6  {'agreement': 0, 'announcement': 1, 'answer': ...   \n",
       "t3_2hcnhi  {'agreement': 0, 'announcement': 0, 'answer': ...   \n",
       "t3_3bttgz  {'agreement': 0, 'announcement': 0, 'answer': ...   \n",
       "t3_1umu7e  {'agreement': 0, 'announcement': 1, 'answer': ...   \n",
       "t3_2li4rb  {'agreement': 0, 'announcement': 0, 'answer': ...   \n",
       "t3_1e3k01  {'agreement': 0, 'announcement': 1, 'answer': ...   \n",
       "t3_2o0yow  {'agreement': 0, 'announcement': 0, 'answer': ...   \n",
       "t3_sxol2   {'agreement': 0, 'announcement': 0, 'answer': ...   \n",
       "t3_1l24ac  {'agreement': 0, 'announcement': 1, 'answer': ...   \n",
       "t3_3fxcat  {'agreement': 0, 'announcement': 0, 'answer': ...   \n",
       "t3_2kgr08  {'agreement': 0, 'announcement': 0, 'answer': ...   \n",
       "t3_3vd1gt  {'agreement': 0, 'announcement': 0, 'answer': ...   \n",
       "t3_2nw4z3  {'agreement': 0, 'announcement': 0, 'answer': ...   \n",
       "t3_4e9tyc  {'agreement': 0, 'announcement': 0, 'answer': ...   \n",
       "t3_46d0iu  {'agreement': 0, 'announcement': 0, 'answer': ...   \n",
       "t3_1dxf7i  {'agreement': 0, 'announcement': 0, 'answer': ...   \n",
       "t3_3f43pu  {'agreement': 0, 'announcement': 1, 'answer': ...   \n",
       "t3_1b5ocp  {'agreement': 0, 'announcement': 0, 'answer': ...   \n",
       "t3_27m29d  {'agreement': 0, 'announcement': 0, 'answer': ...   \n",
       "t3_2nihk5  {'agreement': 0, 'announcement': 1, 'answer': ...   \n",
       "t3_3cnnx4  {'agreement': 0, 'announcement': 1, 'answer': ...   \n",
       "t3_1wgjnx  {'agreement': 0, 'announcement': 0, 'answer': ...   \n",
       "t3_278ptr  {'agreement': 0, 'announcement': 1, 'answer': ...   \n",
       "t3_32jid7  {'agreement': 0, 'announcement': 0, 'answer': ...   \n",
       "t3_3i0ejk  {'agreement': 0, 'announcement': 0, 'answer': ...   \n",
       "t3_2qbmbi  {'agreement': 0, 'announcement': 0, 'answer': ...   \n",
       "\n",
       "                                          meta.annot-dict-10  \\\n",
       "id                                                             \n",
       "t3_1at5ow                                                NaN   \n",
       "t3_24ffw3                                                NaN   \n",
       "t3_no05m                                                 NaN   \n",
       "t3_1mm7er                                                NaN   \n",
       "t3_3yvz6m                                                NaN   \n",
       "t3_1tqv73                                                NaN   \n",
       "t3_12uk6w  {'agreement': 0, 'announcement': 0, 'answer': ...   \n",
       "t3_1mz7pe                                                NaN   \n",
       "t3_4b35qi                                                NaN   \n",
       "t3_46edrj                                                NaN   \n",
       "t3_493d2b  {'agreement': 0, 'announcement': 0, 'answer': ...   \n",
       "t3_p61bo                                                 NaN   \n",
       "t3_340hy7                                                NaN   \n",
       "t3_1ujsj7                                                NaN   \n",
       "t3_4bmcqt                                                NaN   \n",
       "t3_4lbuq4  {'agreement': 0, 'announcement': 0, 'answer': ...   \n",
       "t3_317ynl  {'agreement': 0, 'announcement': 0, 'answer': ...   \n",
       "t3_d9v26   {'agreement': 0, 'announcement': 0, 'answer': ...   \n",
       "t3_3v559e                                                NaN   \n",
       "t3_182m0o                                                NaN   \n",
       "t3_4c3mfu                                                NaN   \n",
       "t3_1vyg3j                                                NaN   \n",
       "t3_rskt6                                                 NaN   \n",
       "t3_105bsr  {'agreement': 0, 'announcement': 0, 'answer': ...   \n",
       "t3_12o6im  {'agreement': 0, 'announcement': 0, 'answer': ...   \n",
       "t3_4daitq  {'agreement': 0, 'announcement': 0, 'answer': ...   \n",
       "t3_1lddvq  {'agreement': 0, 'announcement': 0, 'answer': ...   \n",
       "t3_4l3w9e                                                NaN   \n",
       "t3_43ywgn  {'agreement': 0, 'announcement': 0, 'answer': ...   \n",
       "t3_2cpde4  {'agreement': 0, 'announcement': 0, 'answer': ...   \n",
       "...                                                      ...   \n",
       "t3_jos4q                                                 NaN   \n",
       "t3_16k2iz  {'agreement': 0, 'announcement': 0, 'answer': ...   \n",
       "t3_1ibfbt  {'agreement': 0, 'announcement': 0, 'answer': ...   \n",
       "t3_v1nh2                                                 NaN   \n",
       "t3_2k2bp6                                                NaN   \n",
       "t3_2hcnhi                                                NaN   \n",
       "t3_3bttgz  {'agreement': 0, 'announcement': 0, 'answer': ...   \n",
       "t3_1umu7e                                                NaN   \n",
       "t3_2li4rb                                                NaN   \n",
       "t3_1e3k01  {'agreement': 0, 'announcement': 0, 'answer': ...   \n",
       "t3_2o0yow  {'agreement': 0, 'announcement': 0, 'answer': ...   \n",
       "t3_sxol2                                                 NaN   \n",
       "t3_1l24ac                                                NaN   \n",
       "t3_3fxcat                                                NaN   \n",
       "t3_2kgr08                                                NaN   \n",
       "t3_3vd1gt  {'agreement': 0, 'announcement': 0, 'answer': ...   \n",
       "t3_2nw4z3                                                NaN   \n",
       "t3_4e9tyc                                                NaN   \n",
       "t3_46d0iu  {'agreement': 0, 'announcement': 0, 'answer': ...   \n",
       "t3_1dxf7i  {'agreement': 0, 'announcement': 0, 'answer': ...   \n",
       "t3_3f43pu                                                NaN   \n",
       "t3_1b5ocp  {'agreement': 0, 'announcement': 0, 'answer': ...   \n",
       "t3_27m29d  {'agreement': 0, 'announcement': 0, 'answer': ...   \n",
       "t3_2nihk5                                                NaN   \n",
       "t3_3cnnx4  {'agreement': 1, 'announcement': 0, 'answer': ...   \n",
       "t3_1wgjnx                                                NaN   \n",
       "t3_278ptr  {'agreement': 0, 'announcement': 0, 'answer': ...   \n",
       "t3_32jid7  {'agreement': 0, 'announcement': 0, 'answer': ...   \n",
       "t3_3i0ejk                                                NaN   \n",
       "t3_2qbmbi  {'agreement': 1, 'announcement': 0, 'answer': ...   \n",
       "\n",
       "                                          meta.annot-dict-11  \\\n",
       "id                                                             \n",
       "t3_1at5ow                                                NaN   \n",
       "t3_24ffw3                                                NaN   \n",
       "t3_no05m                                                 NaN   \n",
       "t3_1mm7er                                                NaN   \n",
       "t3_3yvz6m                                                NaN   \n",
       "t3_1tqv73                                                NaN   \n",
       "t3_12uk6w  {'agreement': 0, 'announcement': 0, 'answer': ...   \n",
       "t3_1mz7pe                                                NaN   \n",
       "t3_4b35qi                                                NaN   \n",
       "t3_46edrj                                                NaN   \n",
       "t3_493d2b  {'agreement': 0, 'announcement': 0, 'answer': ...   \n",
       "t3_p61bo                                                 NaN   \n",
       "t3_340hy7                                                NaN   \n",
       "t3_1ujsj7                                                NaN   \n",
       "t3_4bmcqt                                                NaN   \n",
       "t3_4lbuq4  {'agreement': 0, 'announcement': 0, 'answer': ...   \n",
       "t3_317ynl                                                NaN   \n",
       "t3_d9v26   {'agreement': 0, 'announcement': 0, 'answer': ...   \n",
       "t3_3v559e                                                NaN   \n",
       "t3_182m0o                                                NaN   \n",
       "t3_4c3mfu                                                NaN   \n",
       "t3_1vyg3j                                                NaN   \n",
       "t3_rskt6                                                 NaN   \n",
       "t3_105bsr  {'agreement': 0, 'announcement': 0, 'answer': ...   \n",
       "t3_12o6im  {'agreement': 0, 'announcement': 0, 'answer': ...   \n",
       "t3_4daitq  {'agreement': 1, 'announcement': 0, 'answer': ...   \n",
       "t3_1lddvq  {'agreement': 0, 'announcement': 0, 'answer': ...   \n",
       "t3_4l3w9e                                                NaN   \n",
       "t3_43ywgn  {'agreement': 0, 'announcement': 0, 'answer': ...   \n",
       "t3_2cpde4                                                NaN   \n",
       "...                                                      ...   \n",
       "t3_jos4q                                                 NaN   \n",
       "t3_16k2iz  {'agreement': 0, 'announcement': 0, 'answer': ...   \n",
       "t3_1ibfbt  {'agreement': 0, 'announcement': 0, 'answer': ...   \n",
       "t3_v1nh2                                                 NaN   \n",
       "t3_2k2bp6                                                NaN   \n",
       "t3_2hcnhi                                                NaN   \n",
       "t3_3bttgz  {'agreement': 0, 'announcement': 0, 'answer': ...   \n",
       "t3_1umu7e                                                NaN   \n",
       "t3_2li4rb                                                NaN   \n",
       "t3_1e3k01                                                NaN   \n",
       "t3_2o0yow                                                NaN   \n",
       "t3_sxol2                                                 NaN   \n",
       "t3_1l24ac                                                NaN   \n",
       "t3_3fxcat                                                NaN   \n",
       "t3_2kgr08                                                NaN   \n",
       "t3_3vd1gt                                                NaN   \n",
       "t3_2nw4z3                                                NaN   \n",
       "t3_4e9tyc                                                NaN   \n",
       "t3_46d0iu  {'agreement': 1, 'announcement': 0, 'answer': ...   \n",
       "t3_1dxf7i  {'agreement': 0, 'announcement': 0, 'answer': ...   \n",
       "t3_3f43pu                                                NaN   \n",
       "t3_1b5ocp  {'agreement': 0, 'announcement': 0, 'answer': ...   \n",
       "t3_27m29d  {'agreement': 0, 'announcement': 0, 'answer': ...   \n",
       "t3_2nihk5                                                NaN   \n",
       "t3_3cnnx4                                                NaN   \n",
       "t3_1wgjnx                                                NaN   \n",
       "t3_278ptr  {'agreement': 0, 'announcement': 0, 'answer': ...   \n",
       "t3_32jid7                                                NaN   \n",
       "t3_3i0ejk                                                NaN   \n",
       "t3_2qbmbi                                                NaN   \n",
       "\n",
       "                                           meta.annot-dict-2  \\\n",
       "id                                                             \n",
       "t3_1at5ow  {'agreement': 0, 'announcement': 0, 'answer': ...   \n",
       "t3_24ffw3  {'agreement': 0, 'announcement': 0, 'answer': ...   \n",
       "t3_no05m   {'agreement': 0, 'announcement': 0, 'answer': ...   \n",
       "t3_1mm7er  {'agreement': 0, 'announcement': 0, 'answer': ...   \n",
       "t3_3yvz6m  {'agreement': 0, 'announcement': 0, 'answer': ...   \n",
       "t3_1tqv73  {'agreement': 0, 'announcement': 0, 'answer': ...   \n",
       "t3_12uk6w  {'agreement': 0, 'announcement': 0, 'answer': ...   \n",
       "t3_1mz7pe  {'agreement': 0, 'announcement': 0, 'answer': ...   \n",
       "t3_4b35qi  {'agreement': 1, 'announcement': 0, 'answer': ...   \n",
       "t3_46edrj  {'agreement': 0, 'announcement': 0, 'answer': ...   \n",
       "t3_493d2b  {'agreement': 0, 'announcement': 0, 'answer': ...   \n",
       "t3_p61bo   {'agreement': 0, 'announcement': 0, 'answer': ...   \n",
       "t3_340hy7  {'agreement': 1, 'announcement': 0, 'answer': ...   \n",
       "t3_1ujsj7  {'agreement': 0, 'announcement': 0, 'answer': ...   \n",
       "t3_4bmcqt  {'agreement': 0, 'announcement': 0, 'answer': ...   \n",
       "t3_4lbuq4  {'agreement': 0, 'announcement': 0, 'answer': ...   \n",
       "t3_317ynl  {'agreement': 0, 'announcement': 0, 'answer': ...   \n",
       "t3_d9v26   {'agreement': 0, 'announcement': 0, 'answer': ...   \n",
       "t3_3v559e  {'agreement': 0, 'announcement': 0, 'answer': ...   \n",
       "t3_182m0o  {'agreement': 0, 'announcement': 0, 'answer': ...   \n",
       "t3_4c3mfu  {'agreement': 0, 'announcement': 0, 'answer': ...   \n",
       "t3_1vyg3j  {'agreement': 0, 'announcement': 0, 'answer': ...   \n",
       "t3_rskt6   {'agreement': 0, 'announcement': 0, 'answer': ...   \n",
       "t3_105bsr  {'agreement': 0, 'announcement': 0, 'answer': ...   \n",
       "t3_12o6im  {'agreement': 0, 'announcement': 0, 'answer': ...   \n",
       "t3_4daitq  {'agreement': 0, 'announcement': 0, 'answer': ...   \n",
       "t3_1lddvq  {'agreement': 0, 'announcement': 0, 'answer': ...   \n",
       "t3_4l3w9e  {'agreement': 0, 'announcement': 0, 'answer': ...   \n",
       "t3_43ywgn  {'agreement': 0, 'announcement': 0, 'answer': ...   \n",
       "t3_2cpde4  {'agreement': 0, 'announcement': 0, 'answer': ...   \n",
       "...                                                      ...   \n",
       "t3_jos4q   {'agreement': 0, 'announcement': 0, 'answer': ...   \n",
       "t3_16k2iz  {'agreement': 0, 'announcement': 0, 'answer': ...   \n",
       "t3_1ibfbt  {'agreement': 0, 'announcement': 0, 'answer': ...   \n",
       "t3_v1nh2   {'agreement': 0, 'announcement': 0, 'answer': ...   \n",
       "t3_2k2bp6  {'agreement': 0, 'announcement': 0, 'answer': ...   \n",
       "t3_2hcnhi  {'agreement': 0, 'announcement': 0, 'answer': ...   \n",
       "t3_3bttgz  {'agreement': 0, 'announcement': 0, 'answer': ...   \n",
       "t3_1umu7e  {'agreement': 0, 'announcement': 0, 'answer': ...   \n",
       "t3_2li4rb  {'agreement': 0, 'announcement': 0, 'answer': ...   \n",
       "t3_1e3k01  {'agreement': 0, 'announcement': 0, 'answer': ...   \n",
       "t3_2o0yow  {'agreement': 0, 'announcement': 0, 'answer': ...   \n",
       "t3_sxol2   {'agreement': 0, 'announcement': 0, 'answer': ...   \n",
       "t3_1l24ac  {'agreement': 0, 'announcement': 0, 'answer': ...   \n",
       "t3_3fxcat  {'agreement': 0, 'announcement': 0, 'answer': ...   \n",
       "t3_2kgr08  {'agreement': 0, 'announcement': 0, 'answer': ...   \n",
       "t3_3vd1gt  {'agreement': 0, 'announcement': 0, 'answer': ...   \n",
       "t3_2nw4z3  {'agreement': 0, 'announcement': 0, 'answer': ...   \n",
       "t3_4e9tyc  {'agreement': 0, 'announcement': 0, 'answer': ...   \n",
       "t3_46d0iu  {'agreement': 0, 'announcement': 0, 'answer': ...   \n",
       "t3_1dxf7i  {'agreement': 0, 'announcement': 0, 'answer': ...   \n",
       "t3_3f43pu  {'agreement': 0, 'announcement': 0, 'answer': ...   \n",
       "t3_1b5ocp  {'agreement': 0, 'announcement': 0, 'answer': ...   \n",
       "t3_27m29d  {'agreement': 0, 'announcement': 0, 'answer': ...   \n",
       "t3_2nihk5  {'agreement': 0, 'announcement': 0, 'answer': ...   \n",
       "t3_3cnnx4  {'agreement': 0, 'announcement': 0, 'answer': ...   \n",
       "t3_1wgjnx  {'agreement': 0, 'announcement': 0, 'answer': ...   \n",
       "t3_278ptr  {'agreement': 0, 'announcement': 0, 'answer': ...   \n",
       "t3_32jid7  {'agreement': 0, 'announcement': 0, 'answer': ...   \n",
       "t3_3i0ejk  {'agreement': 0, 'announcement': 0, 'answer': ...   \n",
       "t3_2qbmbi  {'agreement': 0, 'announcement': 0, 'answer': ...   \n",
       "\n",
       "                                           meta.annot-dict-3  \\\n",
       "id                                                             \n",
       "t3_1at5ow  {'agreement': 1, 'announcement': 0, 'answer': ...   \n",
       "t3_24ffw3  {'agreement': 0, 'announcement': 0, 'answer': ...   \n",
       "t3_no05m   {'agreement': 0, 'announcement': 0, 'answer': ...   \n",
       "t3_1mm7er  {'agreement': 0, 'announcement': 0, 'answer': ...   \n",
       "t3_3yvz6m  {'agreement': 0, 'announcement': 0, 'answer': ...   \n",
       "t3_1tqv73  {'agreement': 1, 'announcement': 0, 'answer': ...   \n",
       "t3_12uk6w  {'agreement': 0, 'announcement': 0, 'answer': ...   \n",
       "t3_1mz7pe  {'agreement': 1, 'announcement': 0, 'answer': ...   \n",
       "t3_4b35qi  {'agreement': 0, 'announcement': 0, 'answer': ...   \n",
       "t3_46edrj  {'agreement': 0, 'announcement': 0, 'answer': ...   \n",
       "t3_493d2b  {'agreement': 0, 'announcement': 0, 'answer': ...   \n",
       "t3_p61bo   {'agreement': 0, 'announcement': 0, 'answer': ...   \n",
       "t3_340hy7  {'agreement': 0, 'announcement': 0, 'answer': ...   \n",
       "t3_1ujsj7  {'agreement': 0, 'announcement': 0, 'answer': ...   \n",
       "t3_4bmcqt  {'agreement': 0, 'announcement': 0, 'answer': ...   \n",
       "t3_4lbuq4  {'agreement': 0, 'announcement': 0, 'answer': ...   \n",
       "t3_317ynl  {'agreement': 0, 'announcement': 0, 'answer': ...   \n",
       "t3_d9v26   {'agreement': 1, 'announcement': 0, 'answer': ...   \n",
       "t3_3v559e  {'agreement': 0, 'announcement': 0, 'answer': ...   \n",
       "t3_182m0o  {'agreement': 0, 'announcement': 0, 'answer': ...   \n",
       "t3_4c3mfu  {'agreement': 0, 'announcement': 0, 'answer': ...   \n",
       "t3_1vyg3j  {'agreement': 0, 'announcement': 0, 'answer': ...   \n",
       "t3_rskt6   {'agreement': 1, 'announcement': 0, 'answer': ...   \n",
       "t3_105bsr  {'agreement': 0, 'announcement': 0, 'answer': ...   \n",
       "t3_12o6im  {'agreement': 0, 'announcement': 0, 'answer': ...   \n",
       "t3_4daitq  {'agreement': 0, 'announcement': 0, 'answer': ...   \n",
       "t3_1lddvq  {'agreement': 0, 'announcement': 0, 'answer': ...   \n",
       "t3_4l3w9e  {'agreement': 0, 'announcement': 0, 'answer': ...   \n",
       "t3_43ywgn  {'agreement': 0, 'announcement': 0, 'answer': ...   \n",
       "t3_2cpde4  {'agreement': 1, 'announcement': 0, 'answer': ...   \n",
       "...                                                      ...   \n",
       "t3_jos4q   {'agreement': 1, 'announcement': 0, 'answer': ...   \n",
       "t3_16k2iz  {'agreement': 0, 'announcement': 0, 'answer': ...   \n",
       "t3_1ibfbt  {'agreement': 0, 'announcement': 0, 'answer': ...   \n",
       "t3_v1nh2   {'agreement': 0, 'announcement': 0, 'answer': ...   \n",
       "t3_2k2bp6  {'agreement': 0, 'announcement': 0, 'answer': ...   \n",
       "t3_2hcnhi  {'agreement': 1, 'announcement': 0, 'answer': ...   \n",
       "t3_3bttgz  {'agreement': 0, 'announcement': 0, 'answer': ...   \n",
       "t3_1umu7e  {'agreement': 1, 'announcement': 0, 'answer': ...   \n",
       "t3_2li4rb  {'agreement': 0, 'announcement': 0, 'answer': ...   \n",
       "t3_1e3k01  {'agreement': 0, 'announcement': 0, 'answer': ...   \n",
       "t3_2o0yow  {'agreement': 0, 'announcement': 0, 'answer': ...   \n",
       "t3_sxol2   {'agreement': 0, 'announcement': 0, 'answer': ...   \n",
       "t3_1l24ac  {'agreement': 0, 'announcement': 0, 'answer': ...   \n",
       "t3_3fxcat  {'agreement': 0, 'announcement': 0, 'answer': ...   \n",
       "t3_2kgr08  {'agreement': 1, 'announcement': 0, 'answer': ...   \n",
       "t3_3vd1gt  {'agreement': 1, 'announcement': 0, 'answer': ...   \n",
       "t3_2nw4z3  {'agreement': 0, 'announcement': 0, 'answer': ...   \n",
       "t3_4e9tyc  {'agreement': 0, 'announcement': 0, 'answer': ...   \n",
       "t3_46d0iu  {'agreement': 0, 'announcement': 0, 'answer': ...   \n",
       "t3_1dxf7i  {'agreement': 0, 'announcement': 0, 'answer': ...   \n",
       "t3_3f43pu  {'agreement': 0, 'announcement': 0, 'answer': ...   \n",
       "t3_1b5ocp  {'agreement': 0, 'announcement': 0, 'answer': ...   \n",
       "t3_27m29d  {'agreement': 0, 'announcement': 0, 'answer': ...   \n",
       "t3_2nihk5  {'agreement': 0, 'announcement': 0, 'answer': ...   \n",
       "t3_3cnnx4  {'agreement': 0, 'announcement': 0, 'answer': ...   \n",
       "t3_1wgjnx  {'agreement': 0, 'announcement': 0, 'answer': ...   \n",
       "t3_278ptr  {'agreement': 0, 'announcement': 0, 'answer': ...   \n",
       "t3_32jid7  {'agreement': 1, 'announcement': 0, 'answer': ...   \n",
       "t3_3i0ejk  {'agreement': 0, 'announcement': 0, 'answer': ...   \n",
       "t3_2qbmbi  {'agreement': 0, 'announcement': 0, 'answer': ...   \n",
       "\n",
       "                                           meta.annot-dict-4  \\\n",
       "id                                                             \n",
       "t3_1at5ow  {'agreement': 0, 'announcement': 0, 'answer': ...   \n",
       "t3_24ffw3  {'agreement': 0, 'announcement': 0, 'answer': ...   \n",
       "t3_no05m   {'agreement': 0, 'announcement': 0, 'answer': ...   \n",
       "t3_1mm7er  {'agreement': 0, 'announcement': 0, 'answer': ...   \n",
       "t3_3yvz6m  {'agreement': 0, 'announcement': 0, 'answer': ...   \n",
       "t3_1tqv73  {'agreement': 1, 'announcement': 0, 'answer': ...   \n",
       "t3_12uk6w  {'agreement': 0, 'announcement': 0, 'answer': ...   \n",
       "t3_1mz7pe  {'agreement': 0, 'announcement': 0, 'answer': ...   \n",
       "t3_4b35qi  {'agreement': 0, 'announcement': 0, 'answer': ...   \n",
       "t3_46edrj  {'agreement': 0, 'announcement': 0, 'answer': ...   \n",
       "t3_493d2b  {'agreement': 0, 'announcement': 0, 'answer': ...   \n",
       "t3_p61bo   {'agreement': 0, 'announcement': 0, 'answer': ...   \n",
       "t3_340hy7  {'agreement': 0, 'announcement': 0, 'answer': ...   \n",
       "t3_1ujsj7  {'agreement': 0, 'announcement': 0, 'answer': ...   \n",
       "t3_4bmcqt  {'agreement': 0, 'announcement': 0, 'answer': ...   \n",
       "t3_4lbuq4  {'agreement': 0, 'announcement': 0, 'answer': ...   \n",
       "t3_317ynl  {'agreement': 0, 'announcement': 0, 'answer': ...   \n",
       "t3_d9v26   {'agreement': 0, 'announcement': 0, 'answer': ...   \n",
       "t3_3v559e  {'agreement': 0, 'announcement': 0, 'answer': ...   \n",
       "t3_182m0o  {'agreement': 0, 'announcement': 0, 'answer': ...   \n",
       "t3_4c3mfu  {'agreement': 0, 'announcement': 0, 'answer': ...   \n",
       "t3_1vyg3j  {'agreement': 0, 'announcement': 0, 'answer': ...   \n",
       "t3_rskt6   {'agreement': 0, 'announcement': 0, 'answer': ...   \n",
       "t3_105bsr  {'agreement': 1, 'announcement': 0, 'answer': ...   \n",
       "t3_12o6im  {'agreement': 0, 'announcement': 0, 'answer': ...   \n",
       "t3_4daitq  {'agreement': 0, 'announcement': 0, 'answer': ...   \n",
       "t3_1lddvq  {'agreement': 0, 'announcement': 0, 'answer': ...   \n",
       "t3_4l3w9e  {'agreement': 0, 'announcement': 0, 'answer': ...   \n",
       "t3_43ywgn  {'agreement': 0, 'announcement': 0, 'answer': ...   \n",
       "t3_2cpde4  {'agreement': 0, 'announcement': 0, 'answer': ...   \n",
       "...                                                      ...   \n",
       "t3_jos4q   {'agreement': 0, 'announcement': 0, 'answer': ...   \n",
       "t3_16k2iz  {'agreement': 0, 'announcement': 0, 'answer': ...   \n",
       "t3_1ibfbt  {'agreement': 0, 'announcement': 0, 'answer': ...   \n",
       "t3_v1nh2   {'agreement': 0, 'announcement': 0, 'answer': ...   \n",
       "t3_2k2bp6  {'agreement': 0, 'announcement': 0, 'answer': ...   \n",
       "t3_2hcnhi  {'agreement': 1, 'announcement': 0, 'answer': ...   \n",
       "t3_3bttgz  {'agreement': 0, 'announcement': 0, 'answer': ...   \n",
       "t3_1umu7e  {'agreement': 0, 'announcement': 0, 'answer': ...   \n",
       "t3_2li4rb  {'agreement': 0, 'announcement': 0, 'answer': ...   \n",
       "t3_1e3k01  {'agreement': 0, 'announcement': 0, 'answer': ...   \n",
       "t3_2o0yow  {'agreement': 0, 'announcement': 0, 'answer': ...   \n",
       "t3_sxol2   {'agreement': 0, 'announcement': 0, 'answer': ...   \n",
       "t3_1l24ac  {'agreement': 0, 'announcement': 0, 'answer': ...   \n",
       "t3_3fxcat  {'agreement': 0, 'announcement': 0, 'answer': ...   \n",
       "t3_2kgr08  {'agreement': 0, 'announcement': 0, 'answer': ...   \n",
       "t3_3vd1gt  {'agreement': 0, 'announcement': 0, 'answer': ...   \n",
       "t3_2nw4z3  {'agreement': 0, 'announcement': 0, 'answer': ...   \n",
       "t3_4e9tyc  {'agreement': 0, 'announcement': 0, 'answer': ...   \n",
       "t3_46d0iu  {'agreement': 0, 'announcement': 0, 'answer': ...   \n",
       "t3_1dxf7i  {'agreement': 0, 'announcement': 0, 'answer': ...   \n",
       "t3_3f43pu  {'agreement': 1, 'announcement': 0, 'answer': ...   \n",
       "t3_1b5ocp  {'agreement': 0, 'announcement': 0, 'answer': ...   \n",
       "t3_27m29d  {'agreement': 0, 'announcement': 0, 'answer': ...   \n",
       "t3_2nihk5  {'agreement': 0, 'announcement': 0, 'answer': ...   \n",
       "t3_3cnnx4  {'agreement': 0, 'announcement': 0, 'answer': ...   \n",
       "t3_1wgjnx  {'agreement': 1, 'announcement': 0, 'answer': ...   \n",
       "t3_278ptr  {'agreement': 1, 'announcement': 0, 'answer': ...   \n",
       "t3_32jid7  {'agreement': 0, 'announcement': 0, 'answer': ...   \n",
       "t3_3i0ejk  {'agreement': 0, 'announcement': 0, 'answer': ...   \n",
       "t3_2qbmbi  {'agreement': 0, 'announcement': 0, 'answer': ...   \n",
       "\n",
       "                                           meta.annot-dict-5  \\\n",
       "id                                                             \n",
       "t3_1at5ow  {'agreement': 0, 'announcement': 0, 'answer': ...   \n",
       "t3_24ffw3  {'agreement': 0, 'announcement': 0, 'answer': ...   \n",
       "t3_no05m   {'agreement': 0, 'announcement': 0, 'answer': ...   \n",
       "t3_1mm7er  {'agreement': 0, 'announcement': 0, 'answer': ...   \n",
       "t3_3yvz6m  {'agreement': 0, 'announcement': 0, 'answer': ...   \n",
       "t3_1tqv73  {'agreement': 1, 'announcement': 0, 'answer': ...   \n",
       "t3_12uk6w  {'agreement': 0, 'announcement': 0, 'answer': ...   \n",
       "t3_1mz7pe  {'agreement': 0, 'announcement': 0, 'answer': ...   \n",
       "t3_4b35qi  {'agreement': 1, 'announcement': 0, 'answer': ...   \n",
       "t3_46edrj  {'agreement': 0, 'announcement': 0, 'answer': ...   \n",
       "t3_493d2b  {'agreement': 0, 'announcement': 0, 'answer': ...   \n",
       "t3_p61bo   {'agreement': 0, 'announcement': 0, 'answer': ...   \n",
       "t3_340hy7  {'agreement': 0, 'announcement': 0, 'answer': ...   \n",
       "t3_1ujsj7  {'agreement': 0, 'announcement': 0, 'answer': ...   \n",
       "t3_4bmcqt  {'agreement': 0, 'announcement': 0, 'answer': ...   \n",
       "t3_4lbuq4  {'agreement': 0, 'announcement': 0, 'answer': ...   \n",
       "t3_317ynl  {'agreement': 0, 'announcement': 0, 'answer': ...   \n",
       "t3_d9v26   {'agreement': 1, 'announcement': 0, 'answer': ...   \n",
       "t3_3v559e  {'agreement': 0, 'announcement': 0, 'answer': ...   \n",
       "t3_182m0o  {'agreement': 0, 'announcement': 0, 'answer': ...   \n",
       "t3_4c3mfu  {'agreement': 0, 'announcement': 0, 'answer': ...   \n",
       "t3_1vyg3j  {'agreement': 0, 'announcement': 0, 'answer': ...   \n",
       "t3_rskt6   {'agreement': 0, 'announcement': 0, 'answer': ...   \n",
       "t3_105bsr  {'agreement': 0, 'announcement': 0, 'answer': ...   \n",
       "t3_12o6im  {'agreement': 0, 'announcement': 0, 'answer': ...   \n",
       "t3_4daitq  {'agreement': 0, 'announcement': 0, 'answer': ...   \n",
       "t3_1lddvq  {'agreement': 0, 'announcement': 0, 'answer': ...   \n",
       "t3_4l3w9e  {'agreement': 1, 'announcement': 0, 'answer': ...   \n",
       "t3_43ywgn  {'agreement': 1, 'announcement': 0, 'answer': ...   \n",
       "t3_2cpde4  {'agreement': 0, 'announcement': 0, 'answer': ...   \n",
       "...                                                      ...   \n",
       "t3_jos4q   {'agreement': 0, 'announcement': 0, 'answer': ...   \n",
       "t3_16k2iz  {'agreement': 0, 'announcement': 0, 'answer': ...   \n",
       "t3_1ibfbt  {'agreement': 0, 'announcement': 0, 'answer': ...   \n",
       "t3_v1nh2   {'agreement': 0, 'announcement': 0, 'answer': ...   \n",
       "t3_2k2bp6  {'agreement': 1, 'announcement': 0, 'answer': ...   \n",
       "t3_2hcnhi  {'agreement': 1, 'announcement': 0, 'answer': ...   \n",
       "t3_3bttgz  {'agreement': 0, 'announcement': 0, 'answer': ...   \n",
       "t3_1umu7e  {'agreement': 0, 'announcement': 0, 'answer': ...   \n",
       "t3_2li4rb  {'agreement': 0, 'announcement': 0, 'answer': ...   \n",
       "t3_1e3k01  {'agreement': 0, 'announcement': 0, 'answer': ...   \n",
       "t3_2o0yow  {'agreement': 0, 'announcement': 0, 'answer': ...   \n",
       "t3_sxol2   {'agreement': 0, 'announcement': 0, 'answer': ...   \n",
       "t3_1l24ac  {'agreement': 0, 'announcement': 0, 'answer': ...   \n",
       "t3_3fxcat  {'agreement': 0, 'announcement': 0, 'answer': ...   \n",
       "t3_2kgr08  {'agreement': 0, 'announcement': 0, 'answer': ...   \n",
       "t3_3vd1gt  {'agreement': 0, 'announcement': 0, 'answer': ...   \n",
       "t3_2nw4z3  {'agreement': 0, 'announcement': 0, 'answer': ...   \n",
       "t3_4e9tyc  {'agreement': 0, 'announcement': 0, 'answer': ...   \n",
       "t3_46d0iu  {'agreement': 0, 'announcement': 0, 'answer': ...   \n",
       "t3_1dxf7i  {'agreement': 0, 'announcement': 0, 'answer': ...   \n",
       "t3_3f43pu  {'agreement': 0, 'announcement': 0, 'answer': ...   \n",
       "t3_1b5ocp  {'agreement': 0, 'announcement': 0, 'answer': ...   \n",
       "t3_27m29d  {'agreement': 0, 'announcement': 0, 'answer': ...   \n",
       "t3_2nihk5  {'agreement': 0, 'announcement': 0, 'answer': ...   \n",
       "t3_3cnnx4  {'agreement': 0, 'announcement': 0, 'answer': ...   \n",
       "t3_1wgjnx  {'agreement': 0, 'announcement': 0, 'answer': ...   \n",
       "t3_278ptr  {'agreement': 0, 'announcement': 0, 'answer': ...   \n",
       "t3_32jid7  {'agreement': 0, 'announcement': 0, 'answer': ...   \n",
       "t3_3i0ejk  {'agreement': 0, 'announcement': 0, 'answer': ...   \n",
       "t3_2qbmbi  {'agreement': 0, 'announcement': 0, 'answer': ...   \n",
       "\n",
       "                                           meta.annot-dict-6  \\\n",
       "id                                                             \n",
       "t3_1at5ow  {'agreement': 0, 'announcement': 0, 'answer': ...   \n",
       "t3_24ffw3  {'agreement': 0, 'announcement': 0, 'answer': ...   \n",
       "t3_no05m   {'agreement': 0, 'announcement': 0, 'answer': ...   \n",
       "t3_1mm7er  {'agreement': 0, 'announcement': 0, 'answer': ...   \n",
       "t3_3yvz6m  {'agreement': 1, 'announcement': 0, 'answer': ...   \n",
       "t3_1tqv73  {'agreement': 1, 'announcement': 0, 'answer': ...   \n",
       "t3_12uk6w  {'agreement': 0, 'announcement': 0, 'answer': ...   \n",
       "t3_1mz7pe  {'agreement': 0, 'announcement': 0, 'answer': ...   \n",
       "t3_4b35qi  {'agreement': 1, 'announcement': 0, 'answer': ...   \n",
       "t3_46edrj  {'agreement': 0, 'announcement': 0, 'answer': ...   \n",
       "t3_493d2b  {'agreement': 0, 'announcement': 0, 'answer': ...   \n",
       "t3_p61bo   {'agreement': 0, 'announcement': 0, 'answer': ...   \n",
       "t3_340hy7  {'agreement': 0, 'announcement': 0, 'answer': ...   \n",
       "t3_1ujsj7  {'agreement': 0, 'announcement': 0, 'answer': ...   \n",
       "t3_4bmcqt  {'agreement': 0, 'announcement': 0, 'answer': ...   \n",
       "t3_4lbuq4  {'agreement': 0, 'announcement': 0, 'answer': ...   \n",
       "t3_317ynl  {'agreement': 0, 'announcement': 0, 'answer': ...   \n",
       "t3_d9v26   {'agreement': 0, 'announcement': 0, 'answer': ...   \n",
       "t3_3v559e  {'agreement': 0, 'announcement': 0, 'answer': ...   \n",
       "t3_182m0o  {'agreement': 1, 'announcement': 0, 'answer': ...   \n",
       "t3_4c3mfu  {'agreement': 0, 'announcement': 0, 'answer': ...   \n",
       "t3_1vyg3j  {'agreement': 0, 'announcement': 0, 'answer': ...   \n",
       "t3_rskt6   {'agreement': 1, 'announcement': 0, 'answer': ...   \n",
       "t3_105bsr  {'agreement': 0, 'announcement': 0, 'answer': ...   \n",
       "t3_12o6im  {'agreement': 0, 'announcement': 0, 'answer': ...   \n",
       "t3_4daitq  {'agreement': 0, 'announcement': 0, 'answer': ...   \n",
       "t3_1lddvq  {'agreement': 0, 'announcement': 0, 'answer': ...   \n",
       "t3_4l3w9e  {'agreement': 1, 'announcement': 0, 'answer': ...   \n",
       "t3_43ywgn  {'agreement': 1, 'announcement': 0, 'answer': ...   \n",
       "t3_2cpde4  {'agreement': 0, 'announcement': 0, 'answer': ...   \n",
       "...                                                      ...   \n",
       "t3_jos4q   {'agreement': 0, 'announcement': 0, 'answer': ...   \n",
       "t3_16k2iz  {'agreement': 0, 'announcement': 0, 'answer': ...   \n",
       "t3_1ibfbt  {'agreement': 0, 'announcement': 0, 'answer': ...   \n",
       "t3_v1nh2   {'agreement': 0, 'announcement': 0, 'answer': ...   \n",
       "t3_2k2bp6  {'agreement': 0, 'announcement': 0, 'answer': ...   \n",
       "t3_2hcnhi  {'agreement': 0, 'announcement': 0, 'answer': ...   \n",
       "t3_3bttgz  {'agreement': 0, 'announcement': 0, 'answer': ...   \n",
       "t3_1umu7e  {'agreement': 0, 'announcement': 0, 'answer': ...   \n",
       "t3_2li4rb  {'agreement': 0, 'announcement': 0, 'answer': ...   \n",
       "t3_1e3k01  {'agreement': 0, 'announcement': 0, 'answer': ...   \n",
       "t3_2o0yow  {'agreement': 0, 'announcement': 0, 'answer': ...   \n",
       "t3_sxol2   {'agreement': 0, 'announcement': 0, 'answer': ...   \n",
       "t3_1l24ac  {'agreement': 0, 'announcement': 0, 'answer': ...   \n",
       "t3_3fxcat  {'agreement': 0, 'announcement': 0, 'answer': ...   \n",
       "t3_2kgr08  {'agreement': 0, 'announcement': 0, 'answer': ...   \n",
       "t3_3vd1gt  {'agreement': 0, 'announcement': 0, 'answer': ...   \n",
       "t3_2nw4z3  {'agreement': 0, 'announcement': 0, 'answer': ...   \n",
       "t3_4e9tyc  {'agreement': 0, 'announcement': 0, 'answer': ...   \n",
       "t3_46d0iu  {'agreement': 0, 'announcement': 0, 'answer': ...   \n",
       "t3_1dxf7i  {'agreement': 0, 'announcement': 0, 'answer': ...   \n",
       "t3_3f43pu  {'agreement': 0, 'announcement': 0, 'answer': ...   \n",
       "t3_1b5ocp  {'agreement': 0, 'announcement': 0, 'answer': ...   \n",
       "t3_27m29d  {'agreement': 0, 'announcement': 0, 'answer': ...   \n",
       "t3_2nihk5  {'agreement': 0, 'announcement': 0, 'answer': ...   \n",
       "t3_3cnnx4  {'agreement': 0, 'announcement': 0, 'answer': ...   \n",
       "t3_1wgjnx  {'agreement': 0, 'announcement': 0, 'answer': ...   \n",
       "t3_278ptr  {'agreement': 0, 'announcement': 0, 'answer': ...   \n",
       "t3_32jid7  {'agreement': 0, 'announcement': 0, 'answer': ...   \n",
       "t3_3i0ejk  {'agreement': 0, 'announcement': 0, 'answer': ...   \n",
       "t3_2qbmbi  {'agreement': 0, 'announcement': 0, 'answer': ...   \n",
       "\n",
       "                                           meta.annot-dict-7  \\\n",
       "id                                                             \n",
       "t3_1at5ow  {'agreement': 0, 'announcement': 0, 'answer': ...   \n",
       "t3_24ffw3  {'agreement': 0, 'announcement': 0, 'answer': ...   \n",
       "t3_no05m   {'agreement': 0, 'announcement': 0, 'answer': ...   \n",
       "t3_1mm7er  {'agreement': 0, 'announcement': 0, 'answer': ...   \n",
       "t3_3yvz6m  {'agreement': 0, 'announcement': 0, 'answer': ...   \n",
       "t3_1tqv73  {'agreement': 0, 'announcement': 0, 'answer': ...   \n",
       "t3_12uk6w  {'agreement': 0, 'announcement': 0, 'answer': ...   \n",
       "t3_1mz7pe  {'agreement': 0, 'announcement': 0, 'answer': ...   \n",
       "t3_4b35qi  {'agreement': 1, 'announcement': 0, 'answer': ...   \n",
       "t3_46edrj  {'agreement': 0, 'announcement': 0, 'answer': ...   \n",
       "t3_493d2b  {'agreement': 0, 'announcement': 0, 'answer': ...   \n",
       "t3_p61bo   {'agreement': 0, 'announcement': 0, 'answer': ...   \n",
       "t3_340hy7  {'agreement': 0, 'announcement': 0, 'answer': ...   \n",
       "t3_1ujsj7  {'agreement': 0, 'announcement': 0, 'answer': ...   \n",
       "t3_4bmcqt  {'agreement': 1, 'announcement': 0, 'answer': ...   \n",
       "t3_4lbuq4  {'agreement': 0, 'announcement': 0, 'answer': ...   \n",
       "t3_317ynl  {'agreement': 0, 'announcement': 0, 'answer': ...   \n",
       "t3_d9v26   {'agreement': 0, 'announcement': 0, 'answer': ...   \n",
       "t3_3v559e  {'agreement': 0, 'announcement': 0, 'answer': ...   \n",
       "t3_182m0o  {'agreement': 1, 'announcement': 0, 'answer': ...   \n",
       "t3_4c3mfu  {'agreement': 1, 'announcement': 0, 'answer': ...   \n",
       "t3_1vyg3j  {'agreement': 0, 'announcement': 0, 'answer': ...   \n",
       "t3_rskt6   {'agreement': 1, 'announcement': 0, 'answer': ...   \n",
       "t3_105bsr  {'agreement': 0, 'announcement': 0, 'answer': ...   \n",
       "t3_12o6im  {'agreement': 0, 'announcement': 0, 'answer': ...   \n",
       "t3_4daitq  {'agreement': 0, 'announcement': 0, 'answer': ...   \n",
       "t3_1lddvq  {'agreement': 0, 'announcement': 0, 'answer': ...   \n",
       "t3_4l3w9e  {'agreement': 1, 'announcement': 0, 'answer': ...   \n",
       "t3_43ywgn  {'agreement': 0, 'announcement': 0, 'answer': ...   \n",
       "t3_2cpde4  {'agreement': 0, 'announcement': 0, 'answer': ...   \n",
       "...                                                      ...   \n",
       "t3_jos4q   {'agreement': 0, 'announcement': 0, 'answer': ...   \n",
       "t3_16k2iz  {'agreement': 0, 'announcement': 0, 'answer': ...   \n",
       "t3_1ibfbt  {'agreement': 0, 'announcement': 0, 'answer': ...   \n",
       "t3_v1nh2   {'agreement': 0, 'announcement': 0, 'answer': ...   \n",
       "t3_2k2bp6  {'agreement': 0, 'announcement': 0, 'answer': ...   \n",
       "t3_2hcnhi  {'agreement': 0, 'announcement': 0, 'answer': ...   \n",
       "t3_3bttgz  {'agreement': 0, 'announcement': 0, 'answer': ...   \n",
       "t3_1umu7e  {'agreement': 0, 'announcement': 0, 'answer': ...   \n",
       "t3_2li4rb  {'agreement': 0, 'announcement': 0, 'answer': ...   \n",
       "t3_1e3k01  {'agreement': 0, 'announcement': 0, 'answer': ...   \n",
       "t3_2o0yow  {'agreement': 0, 'announcement': 0, 'answer': ...   \n",
       "t3_sxol2   {'agreement': 0, 'announcement': 0, 'answer': ...   \n",
       "t3_1l24ac  {'agreement': 0, 'announcement': 0, 'answer': ...   \n",
       "t3_3fxcat  {'agreement': 0, 'announcement': 0, 'answer': ...   \n",
       "t3_2kgr08  {'agreement': 0, 'announcement': 0, 'answer': ...   \n",
       "t3_3vd1gt  {'agreement': 0, 'announcement': 0, 'answer': ...   \n",
       "t3_2nw4z3  {'agreement': 0, 'announcement': 0, 'answer': ...   \n",
       "t3_4e9tyc  {'agreement': 0, 'announcement': 0, 'answer': ...   \n",
       "t3_46d0iu  {'agreement': 0, 'announcement': 0, 'answer': ...   \n",
       "t3_1dxf7i  {'agreement': 0, 'announcement': 0, 'answer': ...   \n",
       "t3_3f43pu  {'agreement': 0, 'announcement': 0, 'answer': ...   \n",
       "t3_1b5ocp  {'agreement': 0, 'announcement': 0, 'answer': ...   \n",
       "t3_27m29d  {'agreement': 0, 'announcement': 0, 'answer': ...   \n",
       "t3_2nihk5  {'agreement': 0, 'announcement': 0, 'answer': ...   \n",
       "t3_3cnnx4  {'agreement': 0, 'announcement': 0, 'answer': ...   \n",
       "t3_1wgjnx  {'agreement': 0, 'announcement': 0, 'answer': ...   \n",
       "t3_278ptr  {'agreement': 0, 'announcement': 0, 'answer': ...   \n",
       "t3_32jid7  {'agreement': 0, 'announcement': 0, 'answer': ...   \n",
       "t3_3i0ejk  {'agreement': 0, 'announcement': 0, 'answer': ...   \n",
       "t3_2qbmbi  {'agreement': 0, 'announcement': 0, 'answer': ...   \n",
       "\n",
       "                                           meta.annot-dict-8  \\\n",
       "id                                                             \n",
       "t3_1at5ow  {'agreement': 0, 'announcement': 0, 'answer': ...   \n",
       "t3_24ffw3  {'agreement': 0, 'announcement': 0, 'answer': ...   \n",
       "t3_no05m   {'agreement': 0, 'announcement': 0, 'answer': ...   \n",
       "t3_1mm7er  {'agreement': 0, 'announcement': 0, 'answer': ...   \n",
       "t3_3yvz6m  {'agreement': 0, 'announcement': 0, 'answer': ...   \n",
       "t3_1tqv73  {'agreement': 0, 'announcement': 0, 'answer': ...   \n",
       "t3_12uk6w  {'agreement': 0, 'announcement': 0, 'answer': ...   \n",
       "t3_1mz7pe  {'agreement': 0, 'announcement': 0, 'answer': ...   \n",
       "t3_4b35qi  {'agreement': 1, 'announcement': 0, 'answer': ...   \n",
       "t3_46edrj  {'agreement': 0, 'announcement': 0, 'answer': ...   \n",
       "t3_493d2b  {'agreement': 0, 'announcement': 0, 'answer': ...   \n",
       "t3_p61bo   {'agreement': 0, 'announcement': 0, 'answer': ...   \n",
       "t3_340hy7  {'agreement': 0, 'announcement': 0, 'answer': ...   \n",
       "t3_1ujsj7  {'agreement': 0, 'announcement': 0, 'answer': ...   \n",
       "t3_4bmcqt  {'agreement': 0, 'announcement': 0, 'answer': ...   \n",
       "t3_4lbuq4  {'agreement': 0, 'announcement': 0, 'answer': ...   \n",
       "t3_317ynl  {'agreement': 0, 'announcement': 0, 'answer': ...   \n",
       "t3_d9v26   {'agreement': 0, 'announcement': 0, 'answer': ...   \n",
       "t3_3v559e  {'agreement': 0, 'announcement': 0, 'answer': ...   \n",
       "t3_182m0o  {'agreement': 0, 'announcement': 0, 'answer': ...   \n",
       "t3_4c3mfu  {'agreement': 0, 'announcement': 0, 'answer': ...   \n",
       "t3_1vyg3j  {'agreement': 0, 'announcement': 0, 'answer': ...   \n",
       "t3_rskt6   {'agreement': 0, 'announcement': 0, 'answer': ...   \n",
       "t3_105bsr  {'agreement': 0, 'announcement': 0, 'answer': ...   \n",
       "t3_12o6im  {'agreement': 0, 'announcement': 0, 'answer': ...   \n",
       "t3_4daitq  {'agreement': 0, 'announcement': 0, 'answer': ...   \n",
       "t3_1lddvq  {'agreement': 0, 'announcement': 0, 'answer': ...   \n",
       "t3_4l3w9e  {'agreement': 0, 'announcement': 0, 'answer': ...   \n",
       "t3_43ywgn  {'agreement': 0, 'announcement': 0, 'answer': ...   \n",
       "t3_2cpde4  {'agreement': 0, 'announcement': 0, 'answer': ...   \n",
       "...                                                      ...   \n",
       "t3_jos4q   {'agreement': 0, 'announcement': 0, 'answer': ...   \n",
       "t3_16k2iz  {'agreement': 0, 'announcement': 0, 'answer': ...   \n",
       "t3_1ibfbt  {'agreement': 0, 'announcement': 0, 'answer': ...   \n",
       "t3_v1nh2   {'agreement': 0, 'announcement': 0, 'answer': ...   \n",
       "t3_2k2bp6  {'agreement': 0, 'announcement': 0, 'answer': ...   \n",
       "t3_2hcnhi  {'agreement': 0, 'announcement': 0, 'answer': ...   \n",
       "t3_3bttgz  {'agreement': 0, 'announcement': 0, 'answer': ...   \n",
       "t3_1umu7e  {'agreement': 0, 'announcement': 0, 'answer': ...   \n",
       "t3_2li4rb  {'agreement': 0, 'announcement': 0, 'answer': ...   \n",
       "t3_1e3k01  {'agreement': 0, 'announcement': 0, 'answer': ...   \n",
       "t3_2o0yow  {'agreement': 0, 'announcement': 0, 'answer': ...   \n",
       "t3_sxol2   {'agreement': 0, 'announcement': 0, 'answer': ...   \n",
       "t3_1l24ac  {'agreement': 0, 'announcement': 0, 'answer': ...   \n",
       "t3_3fxcat  {'agreement': 0, 'announcement': 0, 'answer': ...   \n",
       "t3_2kgr08  {'agreement': 0, 'announcement': 0, 'answer': ...   \n",
       "t3_3vd1gt  {'agreement': 0, 'announcement': 0, 'answer': ...   \n",
       "t3_2nw4z3  {'agreement': 0, 'announcement': 0, 'answer': ...   \n",
       "t3_4e9tyc  {'agreement': 0, 'announcement': 0, 'answer': ...   \n",
       "t3_46d0iu  {'agreement': 0, 'announcement': 0, 'answer': ...   \n",
       "t3_1dxf7i  {'agreement': 0, 'announcement': 0, 'answer': ...   \n",
       "t3_3f43pu  {'agreement': 0, 'announcement': 0, 'answer': ...   \n",
       "t3_1b5ocp  {'agreement': 0, 'announcement': 0, 'answer': ...   \n",
       "t3_27m29d  {'agreement': 1, 'announcement': 0, 'answer': ...   \n",
       "t3_2nihk5  {'agreement': 0, 'announcement': 0, 'answer': ...   \n",
       "t3_3cnnx4  {'agreement': 0, 'announcement': 0, 'answer': ...   \n",
       "t3_1wgjnx  {'agreement': 0, 'announcement': 0, 'answer': ...   \n",
       "t3_278ptr  {'agreement': 0, 'announcement': 0, 'answer': ...   \n",
       "t3_32jid7  {'agreement': 0, 'announcement': 0, 'answer': ...   \n",
       "t3_3i0ejk  {'agreement': 0, 'announcement': 0, 'answer': ...   \n",
       "t3_2qbmbi  {'agreement': 0, 'announcement': 0, 'answer': ...   \n",
       "\n",
       "                                           meta.annot-dict-9  \\\n",
       "id                                                             \n",
       "t3_1at5ow                                                NaN   \n",
       "t3_24ffw3                                                NaN   \n",
       "t3_no05m                                                 NaN   \n",
       "t3_1mm7er                                                NaN   \n",
       "t3_3yvz6m                                                NaN   \n",
       "t3_1tqv73                                                NaN   \n",
       "t3_12uk6w  {'agreement': 0, 'announcement': 0, 'answer': ...   \n",
       "t3_1mz7pe  {'agreement': 0, 'announcement': 0, 'answer': ...   \n",
       "t3_4b35qi                                                NaN   \n",
       "t3_46edrj                                                NaN   \n",
       "t3_493d2b  {'agreement': 0, 'announcement': 0, 'answer': ...   \n",
       "t3_p61bo                                                 NaN   \n",
       "t3_340hy7  {'agreement': 0, 'announcement': 0, 'answer': ...   \n",
       "t3_1ujsj7                                                NaN   \n",
       "t3_4bmcqt                                                NaN   \n",
       "t3_4lbuq4  {'agreement': 0, 'announcement': 0, 'answer': ...   \n",
       "t3_317ynl  {'agreement': 0, 'announcement': 0, 'answer': ...   \n",
       "t3_d9v26   {'agreement': 0, 'announcement': 0, 'answer': ...   \n",
       "t3_3v559e                                                NaN   \n",
       "t3_182m0o                                                NaN   \n",
       "t3_4c3mfu  {'agreement': 0, 'announcement': 0, 'answer': ...   \n",
       "t3_1vyg3j                                                NaN   \n",
       "t3_rskt6                                                 NaN   \n",
       "t3_105bsr  {'agreement': 0, 'announcement': 0, 'answer': ...   \n",
       "t3_12o6im  {'agreement': 0, 'announcement': 0, 'answer': ...   \n",
       "t3_4daitq  {'agreement': 0, 'announcement': 0, 'answer': ...   \n",
       "t3_1lddvq  {'agreement': 0, 'announcement': 0, 'answer': ...   \n",
       "t3_4l3w9e                                                NaN   \n",
       "t3_43ywgn  {'agreement': 0, 'announcement': 0, 'answer': ...   \n",
       "t3_2cpde4  {'agreement': 0, 'announcement': 0, 'answer': ...   \n",
       "...                                                      ...   \n",
       "t3_jos4q                                                 NaN   \n",
       "t3_16k2iz  {'agreement': 1, 'announcement': 0, 'answer': ...   \n",
       "t3_1ibfbt  {'agreement': 0, 'announcement': 0, 'answer': ...   \n",
       "t3_v1nh2   {'agreement': 0, 'announcement': 0, 'answer': ...   \n",
       "t3_2k2bp6  {'agreement': 1, 'announcement': 0, 'answer': ...   \n",
       "t3_2hcnhi  {'agreement': 0, 'announcement': 0, 'answer': ...   \n",
       "t3_3bttgz  {'agreement': 0, 'announcement': 0, 'answer': ...   \n",
       "t3_1umu7e                                                NaN   \n",
       "t3_2li4rb  {'agreement': 0, 'announcement': 0, 'answer': ...   \n",
       "t3_1e3k01  {'agreement': 0, 'announcement': 0, 'answer': ...   \n",
       "t3_2o0yow  {'agreement': 0, 'announcement': 0, 'answer': ...   \n",
       "t3_sxol2   {'agreement': 1, 'announcement': 0, 'answer': ...   \n",
       "t3_1l24ac                                                NaN   \n",
       "t3_3fxcat  {'agreement': 0, 'announcement': 0, 'answer': ...   \n",
       "t3_2kgr08                                                NaN   \n",
       "t3_3vd1gt  {'agreement': 0, 'announcement': 0, 'answer': ...   \n",
       "t3_2nw4z3  {'agreement': 1, 'announcement': 0, 'answer': ...   \n",
       "t3_4e9tyc                                                NaN   \n",
       "t3_46d0iu  {'agreement': 0, 'announcement': 0, 'answer': ...   \n",
       "t3_1dxf7i  {'agreement': 0, 'announcement': 0, 'answer': ...   \n",
       "t3_3f43pu  {'agreement': 0, 'announcement': 0, 'answer': ...   \n",
       "t3_1b5ocp  {'agreement': 0, 'announcement': 0, 'answer': ...   \n",
       "t3_27m29d  {'agreement': 0, 'announcement': 0, 'answer': ...   \n",
       "t3_2nihk5                                                NaN   \n",
       "t3_3cnnx4  {'agreement': 0, 'announcement': 0, 'answer': ...   \n",
       "t3_1wgjnx  {'agreement': 0, 'announcement': 0, 'answer': ...   \n",
       "t3_278ptr  {'agreement': 0, 'announcement': 0, 'answer': ...   \n",
       "t3_32jid7  {'agreement': 1, 'announcement': 0, 'answer': ...   \n",
       "t3_3i0ejk                                                NaN   \n",
       "t3_2qbmbi  {'agreement': 0, 'announcement': 0, 'answer': ...   \n",
       "\n",
       "          meta.longest_path                                     meta.path  \\\n",
       "id                                                                          \n",
       "t3_1at5ow                 8          qn-ans-agmt-qn-ans-dsgmt-dsgmt-dsgmt   \n",
       "t3_24ffw3                 8    qn-ans-dsgmt-dsgmt-dsgmt-dsgmt-dsgmt-dsgmt   \n",
       "t3_no05m                  8              qn-ans-qn-ans-qn-ans-dsgmt-dsgmt   \n",
       "t3_1mm7er                 8           qn-ans-qn-ans-elab-dsgmt-elab-dsgmt   \n",
       "t3_3yvz6m                 8           qn-ans-elab-dsgmt-qn-ans-dsgmt-elab   \n",
       "t3_1tqv73                 8   anc-dsgmt-dsgmt-dsgmt-agmt-agmt-dsgmt-dsgmt   \n",
       "t3_12uk6w                11           qn-ans-hmr-elab-elab-elab-hmr-dsgmt   \n",
       "t3_1mz7pe                 9                qn-ans-qn-ans-qn-ans-appr-elab   \n",
       "t3_4b35qi                 8       anc-agmt-elab-elab-agmt-elab-agmt-dsgmt   \n",
       "t3_46edrj                 8         anc-dsgmt-qn-ans-dsgmt-elab-negR-elab   \n",
       "t3_493d2b                11      qn-ans-elab-dsgmt-elab-dsgmt-dsgmt-dsgmt   \n",
       "t3_p61bo                  8             qn-qn-qn-ans-elab-elab-elab-dsgmt   \n",
       "t3_340hy7                 9  anc-negR-dsgmt-dsgmt-dsgmt-dsgmt-dsgmt-dsgmt   \n",
       "t3_1ujsj7                 8      qn-ans-appr-elab-dsgmt-dsgmt-dsgmt-dsgmt   \n",
       "t3_4bmcqt                 8           qn-qn-ans-dsgmt-hmr-elab-agmt-dsgmt   \n",
       "t3_4lbuq4                11        qn-ans-appr-othr-hmr-dsgmt-dsgmt-dsgmt   \n",
       "t3_317ynl                10     qn-ans-dsgmt-dsgmt-negR-dsgmt-dsgmt-dsgmt   \n",
       "t3_d9v26                 11     qn-ans-dsgmt-dsgmt-elab-dsgmt-dsgmt-dsgmt   \n",
       "t3_3v559e                 8             anc-qn-ans-dsgmt-qn-qn-elab-dsgmt   \n",
       "t3_182m0o                 8     anc-elab-elab-dsgmt-dsgmt-agmt-elab-dsgmt   \n",
       "t3_4c3mfu                 9         anc-elab-elab-dsgmt-qn-ans-agmt-dsgmt   \n",
       "t3_1vyg3j                 8          qn-dsgmt-dsgmt-dsgmt-hmr-qn-ans-appr   \n",
       "t3_rskt6                  8           qn-ans-agmt-dsgmt-hmr-hmr-hmr-dsgmt   \n",
       "t3_105bsr                11       qn-ans-dsgmt-agmt-dsgmt-dsgmt-elab-elab   \n",
       "t3_12o6im                11          anc-qn-negR-qn-dsgmt-dsgmt-negR-elab   \n",
       "t3_4daitq                11          anc-negR-negR-elab-qn-ans-dsgmt-elab   \n",
       "t3_1lddvq                11      qn-ans-dsgmt-dsgmt-elab-dsgmt-negR-dsgmt   \n",
       "t3_4l3w9e                 8     qn-dsgmt-dsgmt-dsgmt-agmt-elab-agmt-dsgmt   \n",
       "t3_43ywgn                11       qn-ans-dsgmt-elab-elab-dsgmt-elab-dsgmt   \n",
       "t3_2cpde4                10                qn-ans-elab-qn-ans-qn-ans-elab   \n",
       "...                     ...                                           ...   \n",
       "t3_jos4q                  8      qn-ans-agmt-elab-dsgmt-dsgmt-dsgmt-dsgmt   \n",
       "t3_16k2iz                11         qn-ans-appr-elab-dsgmt-appr-ans-dsgmt   \n",
       "t3_1ibfbt                11    qn-ans-dsgmt-dsgmt-dsgmt-dsgmt-dsgmt-dsgmt   \n",
       "t3_v1nh2                  9                qn-ans-qn-ans-qn-ans-elab-elab   \n",
       "t3_2k2bp6                 9        qn-ans-elab-elab-elab-elab-dsgmt-dsgmt   \n",
       "t3_2hcnhi                 9      qn-ans-agmt-dsgmt-agmt-dsgmt-dsgmt-dsgmt   \n",
       "t3_3bttgz                11    qn-ans-dsgmt-dsgmt-dsgmt-dsgmt-dsgmt-dsgmt   \n",
       "t3_1umu7e                 8              anc-qn-ans-elab-appr-elab-qn-ans   \n",
       "t3_2li4rb                 9               qn-ans-qn-ans-qn-ans-elab-dsgmt   \n",
       "t3_1e3k01                10   anc-dsgmt-negR-dsgmt-dsgmt-elab-dsgmt-dsgmt   \n",
       "t3_2o0yow                10      qn-ans-elab-dsgmt-dsgmt-dsgmt-elab-dsgmt   \n",
       "t3_sxol2                  9           qn-ans-qn-ans-dsgmt-dsgmt-elab-elab   \n",
       "t3_1l24ac                 8       anc-hmr-elab-dsgmt-negR-elab-negR-dsgmt   \n",
       "t3_3fxcat                 9            qn-ans-qn-ans-elab-dsgmt-elab-elab   \n",
       "t3_2kgr08                 8          qn-ans-agmt-dsgmt-qn-ans-dsgmt-dsgmt   \n",
       "t3_3vd1gt                10            qn-ans-agmt-elab-elab-qn-ans-dsgmt   \n",
       "t3_2nw4z3                 9      qn-ans-dsgmt-dsgmt-dsgmt-elab-dsgmt-elab   \n",
       "t3_4e9tyc                 8     qn-ans-dsgmt-dsgmt-elab-dsgmt-dsgmt-dsgmt   \n",
       "t3_46d0iu                11          qn-qn-ans-qn-dsgmt-dsgmt-dsgmt-dsgmt   \n",
       "t3_1dxf7i                11              qn-qn-elab-elab-qn-ans-elab-elab   \n",
       "t3_3f43pu                 9        anc-elab-elab-agmt-elab-elab-hmr-dsgmt   \n",
       "t3_1b5ocp                11            qn-ans-qn-elab-elab-qn-dsgmt-dsgmt   \n",
       "t3_27m29d                11              qn-ans-dsgmt-qn-ans-qn-ans-dsgmt   \n",
       "t3_2nihk5                 8             qn-ans-appr-elab-qn-ans-dsgmt-ans   \n",
       "t3_3cnnx4                10      qn-ans-dsgmt-dsgmt-elab-dsgmt-dsgmt-elab   \n",
       "t3_1wgjnx                 9         qn-ans-appr-agmt-elab-othr-othr-dsgmt   \n",
       "t3_278ptr                11      anc-dsgmt-dsgmt-elab-elab-elab-elab-elab   \n",
       "t3_32jid7                10               qn-ans-agmt-qn-ans-qn-ans-dsgmt   \n",
       "t3_3i0ejk                 8         qn-ans-elab-elab-elab-elab-dsgmt-elab   \n",
       "t3_2qbmbi                10          qn-ans-elab-dsgmt-dsgmt-ans-qn-dsgmt   \n",
       "\n",
       "                 meta.subreddit  \\\n",
       "id                                \n",
       "t3_1at5ow             askreddit   \n",
       "t3_24ffw3             askreddit   \n",
       "t3_no05m              askreddit   \n",
       "t3_1mm7er                 askuk   \n",
       "t3_3yvz6m              buttcoin   \n",
       "t3_1tqv73                   cfb   \n",
       "t3_12uk6w          christianity   \n",
       "t3_1mz7pe            chromecast   \n",
       "t3_4b35qi     collegebasketball   \n",
       "t3_46edrj                 dota2   \n",
       "t3_493d2b                 dota2   \n",
       "t3_p61bo                fitness   \n",
       "t3_340hy7            futurology   \n",
       "t3_1ujsj7                  gtav   \n",
       "t3_4bmcqt       globaloffensive   \n",
       "t3_4lbuq4       globaloffensive   \n",
       "t3_317ynl          iwanttolearn   \n",
       "t3_d9v26                judaism   \n",
       "t3_3v559e        kotakuinaction   \n",
       "t3_182m0o                  mcfc   \n",
       "t3_4c3mfu          mortalkombat   \n",
       "t3_1vyg3j                naruto   \n",
       "t3_rskt6               onepiece   \n",
       "t3_105bsr                   ps3   \n",
       "t3_12o6im   politicaldiscussion   \n",
       "t3_4daitq              rainbow6   \n",
       "t3_1lddvq        showerthoughts   \n",
       "t3_4l3w9e                 smite   \n",
       "t3_43ywgn  squadrontowerdefense   \n",
       "t3_2cpde4              warframe   \n",
       "...                         ...   \n",
       "t3_jos4q           prowrestling   \n",
       "t3_16k2iz               raleigh   \n",
       "t3_1ibfbt               running   \n",
       "t3_v1nh2                running   \n",
       "t3_2k2bp6              sandiego   \n",
       "t3_2hcnhi           slashdiablo   \n",
       "t3_3bttgz             socialism   \n",
       "t3_1umu7e             songaweek   \n",
       "t3_2li4rb           starcitizen   \n",
       "t3_1e3k01             starcraft   \n",
       "t3_2o0yow             starcraft   \n",
       "t3_sxol2              starcraft   \n",
       "t3_1l24ac             steampunk   \n",
       "t3_3fxcat        stevenuniverse   \n",
       "t3_2kgr08        summonerschool   \n",
       "t3_3vd1gt                sydney   \n",
       "t3_2nw4z3             teenagers   \n",
       "t3_4e9tyc           thedivision   \n",
       "t3_46d0iu                 trees   \n",
       "t3_1dxf7i            truegaming   \n",
       "t3_3f43pu         weekendgunnit   \n",
       "t3_1b5ocp           whowouldwin   \n",
       "t3_27m29d           whowouldwin   \n",
       "t3_2nihk5           whowouldwin   \n",
       "t3_3cnnx4           whowouldwin   \n",
       "t3_1wgjnx                  wiiu   \n",
       "t3_278ptr                   wma   \n",
       "t3_32jid7                   wow   \n",
       "t3_3i0ejk            woweconomy   \n",
       "t3_2qbmbi                yugioh   \n",
       "\n",
       "                                                  meta.title  \\\n",
       "id                                                             \n",
       "t3_1at5ow     What book do you think is beautifully written?   \n",
       "t3_24ffw3     What is one thing you should never give up on?   \n",
       "t3_no05m                   Why do you not believe in aliens?   \n",
       "t3_1mm7er                       UK Broadband/ISP subreddits?   \n",
       "t3_3yvz6m  Do most butters accept global warming? If so, ...   \n",
       "t3_1tqv73  SI's 'Next Texas Head Coach Bracket' is in the...   \n",
       "t3_12uk6w                      Confused about this subreddit   \n",
       "t3_1mz7pe  Just got my chromecast - What are you doing wi...   \n",
       "t3_4b35qi  The Pac-12 is the first league to lose 5 games...   \n",
       "t3_46edrj     Make Iron Talon a requirement for Battlefurry.   \n",
       "t3_493d2b                            Drafting question! ELI5   \n",
       "t3_p61bo   Heya fitness, I'm here to ask for some critici...   \n",
       "t3_340hy7  LAWS And The Autonomy Of Killer Robots: the fu...   \n",
       "t3_1ujsj7   Does stealth actually do anything useful online?   \n",
       "t3_4bmcqt  I bought a \"random skin\" on kinguin but where ...   \n",
       "t3_4lbuq4               Buffalo Wild Wings showing E-League?   \n",
       "t3_317ynl  IWTL How do I learn \"practical\" coding skills?...   \n",
       "t3_d9v26         Putting a stumbling block before the blind?   \n",
       "t3_3v559e  [Ethics] Trump 100% Vindicated: CBS Reports ‘S...   \n",
       "t3_182m0o  Premier League vote through Financial Fair Pla...   \n",
       "t3_4c3mfu  \"HoneyBee (Tarkatan Alien) vs SonicFox (Acidic...   \n",
       "t3_1vyg3j                  Everybody forgot about Konohamaru   \n",
       "t3_rskt6   Just saw the 10th movie and I have a few quest...   \n",
       "t3_105bsr  [POLL] So what does /r/PS3 think of the new PS...   \n",
       "t3_12o6im                     The uninformed should not vote   \n",
       "t3_4daitq  PSA: if you keep receiving \"Connection error\",...   \n",
       "t3_1lddvq  What if everything I do is predetermined and I...   \n",
       "t3_4l3w9e                       How to make Ah Puch relevant   \n",
       "t3_43ywgn                             The modes of this game   \n",
       "t3_2cpde4                 Vacation and kuvrow isnt in stasis   \n",
       "...                                                      ...   \n",
       "t3_jos4q   Is the money in the bank briefcase really a go...   \n",
       "t3_16k2iz  Questions about visiting Raleigh for a Canes game   \n",
       "t3_1ibfbt  How is that possible so many people manages to...   \n",
       "t3_v1nh2   Last workout left me hella-sore all over. What...   \n",
       "t3_2k2bp6   Went to an art/wine class. Instructions unclear.   \n",
       "t3_2hcnhi                          ES/nova or Nova/orb sorc?   \n",
       "t3_3bttgz  How does /r/socialism recommend I go about rad...   \n",
       "t3_1umu7e    ~36 hours left, depending on when you go to bed   \n",
       "t3_2li4rb   LTI, Perma Death and Ship Stolen - What happens?   \n",
       "t3_1e3k01                   HasuObs wins EPS over Socke 3-1!   \n",
       "t3_2o0yow                                LotV - The Void Ray   \n",
       "t3_sxol2   Can we stop with the \"[insert pro's name here]...   \n",
       "t3_1l24ac                       LEGO steampunk walking ship.   \n",
       "t3_3fxcat                                What if Amethyst...   \n",
       "t3_2kgr08  Ive been playing Nidalee support recently and ...   \n",
       "t3_3vd1gt  Has anyone here got done by the new road side ...   \n",
       "t3_2nw4z3  [Discussion] What can us high school students ...   \n",
       "t3_4e9tyc                           Item duping in patch 1.2   \n",
       "t3_46d0iu  Despite the English Definition, Is weed Someho...   \n",
       "t3_1dxf7i  Has the age of regular updates led to a greate...   \n",
       "t3_3f43pu       I am bored cleaning guns in my gun room AMA.   \n",
       "t3_1b5ocp                  The Presence vs The One-Above-All   \n",
       "t3_27m29d             Tug of war. Magneto vs Luke Skywalker.   \n",
       "t3_2nihk5     Sundipped Superman vs Darkseid in a Fist Fight   \n",
       "t3_3cnnx4  Feudal Japan vs any feudal western European co...   \n",
       "t3_1wgjnx  Is it possible from, turning the wiiu on, to p...   \n",
       "t3_278ptr             A new (and better) definition of Indes   \n",
       "t3_32jid7                Is Hellfire Citadel the final raid?   \n",
       "t3_3i0ejk  What is the purpose of the gold token? (A litt...   \n",
       "t3_2qbmbi     What are Fluffals lacking to make them viable?   \n",
       "\n",
       "                                                    meta.url         x  \\\n",
       "id                                                                       \n",
       "t3_1at5ow  https://www.reddit.com/r/AskReddit/comments/1a...  2.604131   \n",
       "t3_24ffw3  https://www.reddit.com/r/AskReddit/comments/24... -1.041959   \n",
       "t3_no05m   https://www.reddit.com/r/AskReddit/comments/no...  8.779455   \n",
       "t3_1mm7er  https://www.reddit.com/r/AskUK/comments/1mm7er...  5.996558   \n",
       "t3_3yvz6m  https://www.reddit.com/r/Buttcoin/comments/3yv...  1.988119   \n",
       "t3_1tqv73  https://www.reddit.com/r/CFB/comments/1tqv73/s...  0.772290   \n",
       "t3_12uk6w  https://www.reddit.com/r/Christianity/comments...  3.659177   \n",
       "t3_1mz7pe  https://www.reddit.com/r/Chromecast/comments/1...  9.445363   \n",
       "t3_4b35qi  https://www.reddit.com/r/CollegeBasketball/com...  2.843944   \n",
       "t3_46edrj  https://www.reddit.com/r/DotA2/comments/46edrj... -0.065032   \n",
       "t3_493d2b  https://www.reddit.com/r/DotA2/comments/493d2b...  1.846136   \n",
       "t3_p61bo   https://www.reddit.com/r/Fitness/comments/p61b...  8.168591   \n",
       "t3_340hy7  https://www.reddit.com/r/Futurology/comments/3... -0.943018   \n",
       "t3_1ujsj7  https://www.reddit.com/r/GTAV/comments/1ujsj7/...  2.375036   \n",
       "t3_4bmcqt  https://www.reddit.com/r/GlobalOffensive/comme...  6.182343   \n",
       "t3_4lbuq4  https://www.reddit.com/r/GlobalOffensive/comme...  7.666335   \n",
       "t3_317ynl  https://www.reddit.com/r/IWantToLearn/comments... -2.079753   \n",
       "t3_d9v26   https://www.reddit.com/r/Judaism/comments/d9v2...  1.115203   \n",
       "t3_3v559e  https://www.reddit.com/r/KotakuInAction/commen...  1.848446   \n",
       "t3_182m0o  https://www.reddit.com/r/MCFC/comments/182m0o/... -0.957359   \n",
       "t3_4c3mfu  https://www.reddit.com/r/MortalKombat/comments...  1.122953   \n",
       "t3_1vyg3j  https://www.reddit.com/r/Naruto/comments/1vyg3... -1.079677   \n",
       "t3_rskt6   https://www.reddit.com/r/OnePiece/comments/rsk... -0.670513   \n",
       "t3_105bsr  https://www.reddit.com/r/PS3/comments/105bsr/p...  1.524934   \n",
       "t3_12o6im  https://www.reddit.com/r/PoliticalDiscussion/c... -1.866932   \n",
       "t3_4daitq  https://www.reddit.com/r/Rainbow6/comments/4da...  1.709509   \n",
       "t3_1lddvq  https://www.reddit.com/r/Showerthoughts/commen... -1.981446   \n",
       "t3_4l3w9e  https://www.reddit.com/r/Smite/comments/4l3w9e... -1.524218   \n",
       "t3_43ywgn  https://www.reddit.com/r/SquadronTowerDefense/...  2.730401   \n",
       "t3_2cpde4  https://www.reddit.com/r/Warframe/comments/2cp...  8.913803   \n",
       "...                                                      ...       ...   \n",
       "t3_jos4q   https://www.reddit.com/r/prowrestling/comments... -0.748737   \n",
       "t3_16k2iz  https://www.reddit.com/r/raleigh/comments/16k2...  3.226150   \n",
       "t3_1ibfbt  https://www.reddit.com/r/running/comments/1ibf... -2.676287   \n",
       "t3_v1nh2   https://www.reddit.com/r/running/comments/v1nh...  9.724588   \n",
       "t3_2k2bp6  https://www.reddit.com/r/sandiego/comments/2k2... -0.284795   \n",
       "t3_2hcnhi  https://www.reddit.com/r/slashdiablo/comments/...  1.886309   \n",
       "t3_3bttgz  https://www.reddit.com/r/socialism/comments/3b... -2.794004   \n",
       "t3_1umu7e  https://www.reddit.com/r/songaweek/comments/1u...  3.550873   \n",
       "t3_2li4rb  https://www.reddit.com/r/starcitizen/comments/...  6.423782   \n",
       "t3_1e3k01  https://www.reddit.com/r/starcraft/comments/1e... -0.177475   \n",
       "t3_2o0yow  https://www.reddit.com/r/starcraft/comments/2o... -2.401202   \n",
       "t3_sxol2   https://www.reddit.com/r/starcraft/comments/sx...  5.244894   \n",
       "t3_1l24ac  https://www.reddit.com/r/steampunk/comments/1l... -0.803875   \n",
       "t3_3fxcat  https://www.reddit.com/r/stevenuniverse/commen...  5.196903   \n",
       "t3_2kgr08  https://www.reddit.com/r/summonerschool/commen...  0.382042   \n",
       "t3_3vd1gt  https://www.reddit.com/r/sydney/comments/3vd1g...  4.893307   \n",
       "t3_2nw4z3  https://www.reddit.com/r/teenagers/comments/2n... -0.981551   \n",
       "t3_4e9tyc  https://www.reddit.com/r/thedivision/comments/... -1.288372   \n",
       "t3_46d0iu  https://www.reddit.com/r/trees/comments/46d0iu...  7.759293   \n",
       "t3_1dxf7i  https://www.reddit.com/r/truegaming/comments/1...  6.851417   \n",
       "t3_3f43pu  https://www.reddit.com/r/weekendgunnit/comment...  1.047748   \n",
       "t3_1b5ocp  https://www.reddit.com/r/whowouldwin/comments/...  5.065013   \n",
       "t3_27m29d  https://www.reddit.com/r/whowouldwin/comments/...  5.395791   \n",
       "t3_2nihk5  https://www.reddit.com/r/whowouldwin/comments/...  5.610367   \n",
       "t3_3cnnx4  https://www.reddit.com/r/whowouldwin/comments/... -0.834172   \n",
       "t3_1wgjnx  https://www.reddit.com/r/wiiu/comments/1wgjnx/...  3.925484   \n",
       "t3_278ptr  https://www.reddit.com/r/wma/comments/278ptr/a... -1.182184   \n",
       "t3_32jid7  https://www.reddit.com/r/wow/comments/32jid7/i...  9.347777   \n",
       "t3_3i0ejk  https://www.reddit.com/r/woweconomy/comments/3...  4.975788   \n",
       "t3_2qbmbi  https://www.reddit.com/r/yugioh/comments/2qbmb... -1.345777   \n",
       "\n",
       "                  y  \n",
       "id                   \n",
       "t3_1at5ow -0.293164  \n",
       "t3_24ffw3  4.421836  \n",
       "t3_no05m   0.771824  \n",
       "t3_1mm7er  4.133040  \n",
       "t3_3yvz6m  0.417150  \n",
       "t3_1tqv73 -9.832353  \n",
       "t3_12uk6w  1.884816  \n",
       "t3_1mz7pe  0.786452  \n",
       "t3_4b35qi -8.952960  \n",
       "t3_46edrj -8.138913  \n",
       "t3_493d2b  2.228165  \n",
       "t3_p61bo   4.481871  \n",
       "t3_340hy7 -9.742813  \n",
       "t3_1ujsj7  7.403002  \n",
       "t3_4bmcqt  2.183459  \n",
       "t3_4lbuq4  1.426871  \n",
       "t3_317ynl  1.017207  \n",
       "t3_d9v26   2.443722  \n",
       "t3_3v559e -8.649786  \n",
       "t3_182m0o -6.600791  \n",
       "t3_4c3mfu -7.960777  \n",
       "t3_1vyg3j  0.617628  \n",
       "t3_rskt6   0.004157  \n",
       "t3_105bsr  5.516500  \n",
       "t3_12o6im -9.104713  \n",
       "t3_4daitq -7.454687  \n",
       "t3_1lddvq  7.092827  \n",
       "t3_4l3w9e -4.774646  \n",
       "t3_43ywgn  2.781029  \n",
       "t3_2cpde4  2.994216  \n",
       "...             ...  \n",
       "t3_jos4q   6.979676  \n",
       "t3_16k2iz  7.112080  \n",
       "t3_1ibfbt  7.504809  \n",
       "t3_v1nh2   1.232578  \n",
       "t3_2k2bp6 -4.598480  \n",
       "t3_2hcnhi  1.682411  \n",
       "t3_3bttgz  4.177018  \n",
       "t3_1umu7e -7.873744  \n",
       "t3_2li4rb -0.455071  \n",
       "t3_1e3k01 -9.331255  \n",
       "t3_2o0yow  3.448201  \n",
       "t3_sxol2   6.221284  \n",
       "t3_1l24ac -4.617933  \n",
       "t3_3fxcat  3.726058  \n",
       "t3_2kgr08 -0.253664  \n",
       "t3_3vd1gt  0.616185  \n",
       "t3_2nw4z3  4.484861  \n",
       "t3_4e9tyc  1.549729  \n",
       "t3_46d0iu -2.983533  \n",
       "t3_1dxf7i  2.411833  \n",
       "t3_3f43pu -6.271486  \n",
       "t3_1b5ocp  0.224862  \n",
       "t3_27m29d -1.400618  \n",
       "t3_2nihk5 -5.986479  \n",
       "t3_3cnnx4 -4.470060  \n",
       "t3_1wgjnx  1.042331  \n",
       "t3_278ptr -6.840075  \n",
       "t3_32jid7  2.458409  \n",
       "t3_3i0ejk  5.685836  \n",
       "t3_2qbmbi  7.899681  \n",
       "\n",
       "[127 rows x 18 columns]"
      ]
     },
     "execution_count": 67,
     "metadata": {},
     "output_type": "execute_result"
    }
   ],
   "source": [
    "df"
   ]
  },
  {
   "cell_type": "code",
   "execution_count": 69,
   "metadata": {},
   "outputs": [
    {
     "data": {
      "application/vnd.plotly.v1+json": {
       "config": {
        "plotlyServerURL": "https://plot.ly"
       },
       "data": [
        {
         "customdata": [
          [
           "qn-ans-agmt-qn-ans-dsgmt-dsgmt-dsgmt"
          ],
          [
           "qn-ans-dsgmt-dsgmt-dsgmt-dsgmt-dsgmt-dsgmt"
          ],
          [
           "qn-ans-qn-ans-qn-ans-dsgmt-dsgmt"
          ],
          [
           "qn-ans-qn-ans-elab-dsgmt-elab-dsgmt"
          ],
          [
           "qn-ans-elab-dsgmt-qn-ans-dsgmt-elab"
          ],
          [
           "anc-dsgmt-dsgmt-dsgmt-agmt-agmt-dsgmt-dsgmt"
          ],
          [
           "qn-ans-hmr-elab-elab-elab-hmr-dsgmt"
          ],
          [
           "qn-ans-qn-ans-qn-ans-appr-elab"
          ],
          [
           "anc-agmt-elab-elab-agmt-elab-agmt-dsgmt"
          ],
          [
           "anc-dsgmt-qn-ans-dsgmt-elab-negR-elab"
          ],
          [
           "qn-ans-elab-dsgmt-elab-dsgmt-dsgmt-dsgmt"
          ],
          [
           "qn-qn-qn-ans-elab-elab-elab-dsgmt"
          ],
          [
           "anc-negR-dsgmt-dsgmt-dsgmt-dsgmt-dsgmt-dsgmt"
          ],
          [
           "qn-ans-appr-elab-dsgmt-dsgmt-dsgmt-dsgmt"
          ],
          [
           "qn-qn-ans-dsgmt-hmr-elab-agmt-dsgmt"
          ],
          [
           "qn-ans-appr-othr-hmr-dsgmt-dsgmt-dsgmt"
          ],
          [
           "qn-ans-dsgmt-dsgmt-negR-dsgmt-dsgmt-dsgmt"
          ],
          [
           "qn-ans-dsgmt-dsgmt-elab-dsgmt-dsgmt-dsgmt"
          ],
          [
           "anc-qn-ans-dsgmt-qn-qn-elab-dsgmt"
          ],
          [
           "anc-elab-elab-dsgmt-dsgmt-agmt-elab-dsgmt"
          ],
          [
           "anc-elab-elab-dsgmt-qn-ans-agmt-dsgmt"
          ],
          [
           "qn-dsgmt-dsgmt-dsgmt-hmr-qn-ans-appr"
          ],
          [
           "qn-ans-agmt-dsgmt-hmr-hmr-hmr-dsgmt"
          ],
          [
           "qn-ans-dsgmt-agmt-dsgmt-dsgmt-elab-elab"
          ],
          [
           "anc-qn-negR-qn-dsgmt-dsgmt-negR-elab"
          ],
          [
           "anc-negR-negR-elab-qn-ans-dsgmt-elab"
          ],
          [
           "qn-ans-dsgmt-dsgmt-elab-dsgmt-negR-dsgmt"
          ],
          [
           "qn-dsgmt-dsgmt-dsgmt-agmt-elab-agmt-dsgmt"
          ],
          [
           "qn-ans-dsgmt-elab-elab-dsgmt-elab-dsgmt"
          ],
          [
           "qn-ans-elab-qn-ans-qn-ans-elab"
          ],
          [
           "qn-ans-appr-ans-negR-elab-negR-dsgmt"
          ],
          [
           "qn-ans-qn-ans-qn-ans-appr-agmt"
          ],
          [
           "qn-ans-appr-ans-appr-qn-qn-ans"
          ],
          [
           "qn-ans-elab-dsgmt-elab-elab-dsgmt-dsgmt"
          ],
          [
           "qn-ans-negR-dsgmt-negR-dsgmt-negR-negR"
          ],
          [
           "qn-dsgmt-elab-dsgmt-dsgmt-dsgmt-elab-dsgmt"
          ],
          [
           "qn-ans-qn-ans-dsgmt-dsgmt-dsgmt-dsgmt"
          ],
          [
           "qn-ans-qn-ans-qn-ans-negR-dsgmt"
          ],
          [
           "anc-dsgmt-dsgmt-dsgmt-dsgmt-dsgmt-dsgmt-dsgmt"
          ],
          [
           "qn-ans-dsgmt-dsgmt-dsgmt-dsgmt-dsgmt-qn"
          ],
          [
           "hmr-dsgmt-appr-dsgmt-dsgmt-dsgmt-dsgmt-dsgmt"
          ],
          [
           "qn-ans-elab-agmt-elab-elab-dsgmt-dsgmt"
          ],
          [
           "qn-qn-ans-dsgmt-dsgmt-dsgmt-hmr-dsgmt"
          ],
          [
           "qn-ans-dsgmt-dsgmt-dsgmt-dsgmt-dsgmt-dsgmt"
          ],
          [
           "qn-ans-qn-ans-qn-ans-elab-dsgmt"
          ],
          [
           "qn-ans-dsgmt-dsgmt-dsgmt-dsgmt-negR-negR"
          ],
          [
           "anc-elab-elab-qn-ans-ans-elab-elab"
          ],
          [
           "anc-dsgmt-dsgmt-elab-dsgmt-dsgmt-dsgmt-dsgmt"
          ],
          [
           "qn-ans-elab-dsgmt-ans-elab-elab-dsgmt"
          ],
          [
           "anc-elab-qn-dsgmt-elab-dsgmt-dsgmt-dsgmt"
          ],
          [
           "anc-othr-qn-elab-agmt-othr-dsgmt-dsgmt"
          ],
          [
           "anc-negR-elab-qn-ans-negR-dsgmt-dsgmt"
          ],
          [
           "qn-agmt-othr-negR-qn-ans-dsgmt-elab"
          ],
          [
           "qn-ans-elab-elab-elab-dsgmt-agmt-elab"
          ],
          [
           "qn-ans-elab-elab-dsgmt-agmt-dsgmt-dsgmt"
          ],
          [
           "anc-elab-dsgmt-dsgmt-elab-elab-agmt-dsgmt"
          ],
          [
           "qn-ans-dsgmt-dsgmt-dsgmt-dsgmt-dsgmt-dsgmt"
          ],
          [
           "qn-othr-dsgmt-othr-dsgmt-dsgmt-dsgmt-dsgmt"
          ],
          [
           "qn-ans-agmt-dsgmt-elab-dsgmt-dsgmt-elab"
          ],
          [
           "qn-ans-elab-elab-elab-elab-elab-elab"
          ],
          [
           "qn-ans-elab-elab-elab-agmt-ans-elab"
          ],
          [
           "qn-ans-ans-elab-agmt-negR-dsgmt-dsgmt"
          ],
          [
           "qn-ans-elab-elab-elab-qn-ans-dsgmt"
          ],
          [
           "qn-ans-qn-ans-qn-ans-dsgmt-dsgmt"
          ],
          [
           "qn-dsgmt-qn-ans-elab-dsgmt-dsgmt-dsgmt"
          ],
          [
           "qn-ans-dsgmt-qn-ans-dsgmt-elab-elab"
          ],
          [
           "qn-ans-dsgmt-elab-dsgmt-elab-elab-dsgmt"
          ],
          [
           "anc-qn-hmr-elab-elab-dsgmt-dsgmt-dsgmt"
          ],
          [
           "qn-ans-dsgmt-dsgmt-dsgmt-qn-ans-elab"
          ],
          [
           "qn-ans-ans-qn-ans-elab-elab-elab"
          ],
          [
           "qn-ans-qn-ans-elab-elab-negR-elab"
          ],
          [
           "qn-qn-qn-ans-elab-elab-elab-dsgmt"
          ],
          [
           "qn-ans-elab-elab-qn-ans-dsgmt-dsgmt"
          ],
          [
           "qn-ans-qn-ans-elab-dsgmt-elab-agmt"
          ],
          [
           "qn-ans-qn-ans-qn-qn-dsgmt-dsgmt"
          ],
          [
           "anc-agmt-qn-ans-qn-ans-elab-elab"
          ],
          [
           "qn-ans-ans-qn-ans-dsgmt-elab-dsgmt"
          ],
          [
           "qn-ans-elab-dsgmt-elab-dsgmt-elab-elab"
          ],
          [
           "qn-ans-elab-ans-elab-elab-dsgmt-dsgmt"
          ],
          [
           "qn-ans-dsgmt-qn-ans-dsgmt-elab-dsgmt"
          ],
          [
           "qn-ans-qn-ans-qn-ans-elab-dsgmt"
          ],
          [
           "qn-ans-qn-ans-qn-ans-dsgmt-dsgmt"
          ],
          [
           "qn-ans-qn-elab-elab-elab-elab-elab"
          ],
          [
           "anc-qn-qn-ans-elab-qn-ans-elab"
          ],
          [
           "qn-ans-dsgmt-dsgmt-dsgmt-dsgmt-elab-dsgmt"
          ],
          [
           "anc-qn-ans-appr-agmt-dsgmt-dsgmt-dsgmt"
          ],
          [
           "qn-dsgmt-elab-dsgmt-elab-dsgmt-qn-ans"
          ],
          [
           "qn-dsgmt-qn-ans-agmt-ans-agmt-elab"
          ],
          [
           "qn-ans-elab-dsgmt-dsgmt-dsgmt-elab-dsgmt"
          ],
          [
           "anc-qn-qn-ans-elab-ans-elab-dsgmt"
          ],
          [
           "qn-ans-elab-elab-dsgmt-dsgmt-elab-dsgmt"
          ],
          [
           "qn-ans-qn-elab-dsgmt-qn-dsgmt-elab"
          ],
          [
           "qn-ans-qn-ans-ans-qn-ans-elab"
          ],
          [
           "qn-ans-qn-ans-qn-ans-dsgmt-dsgmt"
          ],
          [
           "qn-ans-dsgmt-dsgmt-dsgmt-qn-ans-dsgmt"
          ],
          [
           "qn-ans-elab-dsgmt-elab-qn-ans-dsgmt"
          ],
          [
           "qn-ans-dsgmt-elab-dsgmt-agmt-elab-dsgmt"
          ],
          [
           "qn-ans-agmt-elab-dsgmt-dsgmt-dsgmt-dsgmt"
          ],
          [
           "qn-ans-appr-elab-dsgmt-appr-ans-dsgmt"
          ],
          [
           "qn-ans-dsgmt-dsgmt-dsgmt-dsgmt-dsgmt-dsgmt"
          ],
          [
           "qn-ans-qn-ans-qn-ans-elab-elab"
          ],
          [
           "qn-ans-elab-elab-elab-elab-dsgmt-dsgmt"
          ],
          [
           "qn-ans-agmt-dsgmt-agmt-dsgmt-dsgmt-dsgmt"
          ],
          [
           "qn-ans-dsgmt-dsgmt-dsgmt-dsgmt-dsgmt-dsgmt"
          ],
          [
           "anc-qn-ans-elab-appr-elab-qn-ans"
          ],
          [
           "qn-ans-qn-ans-qn-ans-elab-dsgmt"
          ],
          [
           "anc-dsgmt-negR-dsgmt-dsgmt-elab-dsgmt-dsgmt"
          ],
          [
           "qn-ans-elab-dsgmt-dsgmt-dsgmt-elab-dsgmt"
          ],
          [
           "qn-ans-qn-ans-dsgmt-dsgmt-elab-elab"
          ],
          [
           "anc-hmr-elab-dsgmt-negR-elab-negR-dsgmt"
          ],
          [
           "qn-ans-qn-ans-elab-dsgmt-elab-elab"
          ],
          [
           "qn-ans-agmt-dsgmt-qn-ans-dsgmt-dsgmt"
          ],
          [
           "qn-ans-agmt-elab-elab-qn-ans-dsgmt"
          ],
          [
           "qn-ans-dsgmt-dsgmt-dsgmt-elab-dsgmt-elab"
          ],
          [
           "qn-ans-dsgmt-dsgmt-elab-dsgmt-dsgmt-dsgmt"
          ],
          [
           "qn-qn-ans-qn-dsgmt-dsgmt-dsgmt-dsgmt"
          ],
          [
           "qn-qn-elab-elab-qn-ans-elab-elab"
          ],
          [
           "anc-elab-elab-agmt-elab-elab-hmr-dsgmt"
          ],
          [
           "qn-ans-qn-elab-elab-qn-dsgmt-dsgmt"
          ],
          [
           "qn-ans-dsgmt-qn-ans-qn-ans-dsgmt"
          ],
          [
           "qn-ans-appr-elab-qn-ans-dsgmt-ans"
          ],
          [
           "qn-ans-dsgmt-dsgmt-elab-dsgmt-dsgmt-elab"
          ],
          [
           "qn-ans-appr-agmt-elab-othr-othr-dsgmt"
          ],
          [
           "anc-dsgmt-dsgmt-elab-elab-elab-elab-elab"
          ],
          [
           "qn-ans-agmt-qn-ans-qn-ans-dsgmt"
          ],
          [
           "qn-ans-elab-elab-elab-elab-dsgmt-elab"
          ],
          [
           "qn-ans-elab-dsgmt-dsgmt-ans-qn-dsgmt"
          ]
         ],
         "hovertemplate": "x=%{x}<br>y=%{y}<br>meta.path=%{customdata[0]}<extra></extra>",
         "legendgroup": "",
         "marker": {
          "color": "#636efa",
          "symbol": "circle"
         },
         "mode": "markers",
         "name": "",
         "orientation": "v",
         "showlegend": false,
         "type": "scatter",
         "x": [
          2.604130744934082,
          -1.0419590473175049,
          8.779455184936523,
          5.99655818939209,
          1.9881192445755005,
          0.7722903490066528,
          3.659176826477051,
          9.44536304473877,
          2.8439443111419678,
          -0.06503196805715561,
          1.846136212348938,
          8.168590545654297,
          -0.9430177211761475,
          2.3750362396240234,
          6.182342529296875,
          7.666334629058838,
          -2.0797531604766846,
          1.11520254611969,
          1.8484461307525635,
          -0.9573585391044617,
          1.1229526996612549,
          -1.079676628112793,
          -0.6705126166343689,
          1.5249336957931519,
          -1.8669319152832031,
          1.7095088958740234,
          -1.9814462661743164,
          -1.5242184400558472,
          2.7304012775421143,
          8.913803100585938,
          9.508172035217285,
          7.609726905822754,
          7.045136451721191,
          1.7185304164886475,
          -0.23019631206989288,
          -1.280470609664917,
          2.5028672218322754,
          7.54321813583374,
          -1.5257813930511475,
          -1.8703573942184448,
          -0.8641672730445862,
          4.1842193603515625,
          -0.9539132714271545,
          -0.789941132068634,
          9.352089881896973,
          -2.208540439605713,
          2.676827907562256,
          -2.1190531253814697,
          -0.6501149535179138,
          -1.0633352994918823,
          1.6947237253189087,
          2.26839017868042,
          2.7065601348876953,
          6.825771808624268,
          3.4466731548309326,
          -1.5203098058700562,
          -2.2738988399505615,
          -0.8420642614364624,
          2.2384095191955566,
          3.79144287109375,
          4.62515926361084,
          8.618452072143555,
          0.526280403137207,
          7.819206714630127,
          4.476375102996826,
          6.518147945404053,
          -2.1963441371917725,
          3.8249924182891846,
          -2.6702349185943604,
          10.132170677185059,
          4.1981611251831055,
          6.439272880554199,
          -0.09558998048305511,
          0.5660295486450195,
          8.927691459655762,
          3.274935007095337,
          6.323522090911865,
          -2.5771570205688477,
          1.1612627506256104,
          2.619063138961792,
          8.35990047454834,
          6.874027252197266,
          4.794093132019043,
          2.9606969356536865,
          -2.975799798965454,
          3.278651475906372,
          -0.08440506458282471,
          8.516973495483398,
          0.34496137499809265,
          3.2406649589538574,
          3.0518534183502197,
          5.695385456085205,
          9.808744430541992,
          5.647394180297852,
          -2.5775375366210938,
          0.9670472145080566,
          2.3162927627563477,
          -0.7487370371818542,
          3.2261500358581543,
          -2.6762866973876953,
          9.724588394165039,
          -0.28479453921318054,
          1.8863085508346558,
          -2.794003963470459,
          3.550873279571533,
          6.423781871795654,
          -0.17747481167316437,
          -2.401202440261841,
          5.244893550872803,
          -0.8038745522499084,
          5.196903228759766,
          0.38204216957092285,
          4.893306732177734,
          -0.9815512299537659,
          -1.2883720397949219,
          7.759293079376221,
          6.851417064666748,
          1.0477482080459595,
          5.065013408660889,
          5.3957905769348145,
          5.610367298126221,
          -0.8341719508171082,
          3.9254837036132812,
          -1.1821842193603516,
          9.347777366638184,
          4.975788116455078,
          -1.3457772731781006
         ],
         "xaxis": "x",
         "y": [
          -0.29316410422325134,
          4.421835899353027,
          0.771823525428772,
          4.133040428161621,
          0.4171501398086548,
          -9.832352638244629,
          1.8848156929016113,
          0.7864515781402588,
          -8.952960014343262,
          -8.13891315460205,
          2.2281646728515625,
          4.481870651245117,
          -9.742813110351562,
          7.4030022621154785,
          2.1834588050842285,
          1.426871418952942,
          1.017207384109497,
          2.4437224864959717,
          -8.649785995483398,
          -6.600790977478027,
          -7.9607768058776855,
          0.6176275610923767,
          0.004156673327088356,
          5.516499996185303,
          -9.104713439941406,
          -7.454687118530273,
          7.092827320098877,
          -4.774646282196045,
          2.781029224395752,
          2.994215965270996,
          3.204442024230957,
          -0.355451375246048,
          -0.8938323259353638,
          6.246686935424805,
          5.925270080566406,
          3.615668773651123,
          6.316819190979004,
          -1.1504058837890625,
          -9.681181907653809,
          6.369668960571289,
          -7.679166316986084,
          3.661397695541382,
          8.774764060974121,
          4.270094871520996,
          0.10503066331148148,
          7.958068370819092,
          -6.181277751922607,
          -9.513888359069824,
          0.593752920627594,
          -7.597728252410889,
          -6.401895523071289,
          -6.439596652984619,
          -7.10037899017334,
          4.163777828216553,
          3.2585723400115967,
          -5.717264175415039,
          7.629571914672852,
          7.542568683624268,
          0.47404536604881287,
          5.383849620819092,
          2.9491941928863525,
          1.9527931213378906,
          4.459502696990967,
          -2.4146246910095215,
          6.201472759246826,
          3.041200637817383,
          4.257315635681152,
          -8.861967086791992,
          2.07806396484375,
          1.7461785078048706,
          6.799452781677246,
          0.8887699246406555,
          1.8838201761245728,
          6.970344066619873,
          -0.6317348480224609,
          -6.214019775390625,
          6.113521099090576,
          4.376474380493164,
          -4.812010288238525,
          -0.4440188705921173,
          -0.07460229098796844,
          -1.635855793952942,
          4.813324451446533,
          -5.41241455078125,
          3.064096450805664,
          -9.130756378173828,
          2.5107014179229736,
          3.1888322830200195,
          5.171126842498779,
          -7.201484203338623,
          3.7694146633148193,
          5.239466667175293,
          0.1789584755897522,
          -5.831029415130615,
          6.852477073669434,
          1.307400107383728,
          4.950829029083252,
          6.979676246643066,
          7.112079620361328,
          7.504809379577637,
          1.232578158378601,
          -4.598479747772217,
          1.6824110746383667,
          4.177017688751221,
          -7.873743534088135,
          -0.45507144927978516,
          -9.331254959106445,
          3.4482009410858154,
          6.22128438949585,
          -4.61793327331543,
          3.726057767868042,
          -0.2536637783050537,
          0.6161848306655884,
          4.484860897064209,
          1.5497288703918457,
          -2.9835329055786133,
          2.4118330478668213,
          -6.271485805511475,
          0.22486159205436707,
          -1.4006184339523315,
          -5.98647928237915,
          -4.470060348510742,
          1.0423314571380615,
          -6.84007453918457,
          2.458408832550049,
          5.685835838317871,
          7.8996806144714355
         ],
         "yaxis": "y"
        }
       ],
       "layout": {
        "legend": {
         "tracegroupgap": 0
        },
        "margin": {
         "t": 60
        },
        "template": {
         "data": {
          "bar": [
           {
            "error_x": {
             "color": "#2a3f5f"
            },
            "error_y": {
             "color": "#2a3f5f"
            },
            "marker": {
             "line": {
              "color": "#E5ECF6",
              "width": 0.5
             }
            },
            "type": "bar"
           }
          ],
          "barpolar": [
           {
            "marker": {
             "line": {
              "color": "#E5ECF6",
              "width": 0.5
             }
            },
            "type": "barpolar"
           }
          ],
          "carpet": [
           {
            "aaxis": {
             "endlinecolor": "#2a3f5f",
             "gridcolor": "white",
             "linecolor": "white",
             "minorgridcolor": "white",
             "startlinecolor": "#2a3f5f"
            },
            "baxis": {
             "endlinecolor": "#2a3f5f",
             "gridcolor": "white",
             "linecolor": "white",
             "minorgridcolor": "white",
             "startlinecolor": "#2a3f5f"
            },
            "type": "carpet"
           }
          ],
          "choropleth": [
           {
            "colorbar": {
             "outlinewidth": 0,
             "ticks": ""
            },
            "type": "choropleth"
           }
          ],
          "contour": [
           {
            "colorbar": {
             "outlinewidth": 0,
             "ticks": ""
            },
            "colorscale": [
             [
              0,
              "#0d0887"
             ],
             [
              0.1111111111111111,
              "#46039f"
             ],
             [
              0.2222222222222222,
              "#7201a8"
             ],
             [
              0.3333333333333333,
              "#9c179e"
             ],
             [
              0.4444444444444444,
              "#bd3786"
             ],
             [
              0.5555555555555556,
              "#d8576b"
             ],
             [
              0.6666666666666666,
              "#ed7953"
             ],
             [
              0.7777777777777778,
              "#fb9f3a"
             ],
             [
              0.8888888888888888,
              "#fdca26"
             ],
             [
              1,
              "#f0f921"
             ]
            ],
            "type": "contour"
           }
          ],
          "contourcarpet": [
           {
            "colorbar": {
             "outlinewidth": 0,
             "ticks": ""
            },
            "type": "contourcarpet"
           }
          ],
          "heatmap": [
           {
            "colorbar": {
             "outlinewidth": 0,
             "ticks": ""
            },
            "colorscale": [
             [
              0,
              "#0d0887"
             ],
             [
              0.1111111111111111,
              "#46039f"
             ],
             [
              0.2222222222222222,
              "#7201a8"
             ],
             [
              0.3333333333333333,
              "#9c179e"
             ],
             [
              0.4444444444444444,
              "#bd3786"
             ],
             [
              0.5555555555555556,
              "#d8576b"
             ],
             [
              0.6666666666666666,
              "#ed7953"
             ],
             [
              0.7777777777777778,
              "#fb9f3a"
             ],
             [
              0.8888888888888888,
              "#fdca26"
             ],
             [
              1,
              "#f0f921"
             ]
            ],
            "type": "heatmap"
           }
          ],
          "heatmapgl": [
           {
            "colorbar": {
             "outlinewidth": 0,
             "ticks": ""
            },
            "colorscale": [
             [
              0,
              "#0d0887"
             ],
             [
              0.1111111111111111,
              "#46039f"
             ],
             [
              0.2222222222222222,
              "#7201a8"
             ],
             [
              0.3333333333333333,
              "#9c179e"
             ],
             [
              0.4444444444444444,
              "#bd3786"
             ],
             [
              0.5555555555555556,
              "#d8576b"
             ],
             [
              0.6666666666666666,
              "#ed7953"
             ],
             [
              0.7777777777777778,
              "#fb9f3a"
             ],
             [
              0.8888888888888888,
              "#fdca26"
             ],
             [
              1,
              "#f0f921"
             ]
            ],
            "type": "heatmapgl"
           }
          ],
          "histogram": [
           {
            "marker": {
             "colorbar": {
              "outlinewidth": 0,
              "ticks": ""
             }
            },
            "type": "histogram"
           }
          ],
          "histogram2d": [
           {
            "colorbar": {
             "outlinewidth": 0,
             "ticks": ""
            },
            "colorscale": [
             [
              0,
              "#0d0887"
             ],
             [
              0.1111111111111111,
              "#46039f"
             ],
             [
              0.2222222222222222,
              "#7201a8"
             ],
             [
              0.3333333333333333,
              "#9c179e"
             ],
             [
              0.4444444444444444,
              "#bd3786"
             ],
             [
              0.5555555555555556,
              "#d8576b"
             ],
             [
              0.6666666666666666,
              "#ed7953"
             ],
             [
              0.7777777777777778,
              "#fb9f3a"
             ],
             [
              0.8888888888888888,
              "#fdca26"
             ],
             [
              1,
              "#f0f921"
             ]
            ],
            "type": "histogram2d"
           }
          ],
          "histogram2dcontour": [
           {
            "colorbar": {
             "outlinewidth": 0,
             "ticks": ""
            },
            "colorscale": [
             [
              0,
              "#0d0887"
             ],
             [
              0.1111111111111111,
              "#46039f"
             ],
             [
              0.2222222222222222,
              "#7201a8"
             ],
             [
              0.3333333333333333,
              "#9c179e"
             ],
             [
              0.4444444444444444,
              "#bd3786"
             ],
             [
              0.5555555555555556,
              "#d8576b"
             ],
             [
              0.6666666666666666,
              "#ed7953"
             ],
             [
              0.7777777777777778,
              "#fb9f3a"
             ],
             [
              0.8888888888888888,
              "#fdca26"
             ],
             [
              1,
              "#f0f921"
             ]
            ],
            "type": "histogram2dcontour"
           }
          ],
          "mesh3d": [
           {
            "colorbar": {
             "outlinewidth": 0,
             "ticks": ""
            },
            "type": "mesh3d"
           }
          ],
          "parcoords": [
           {
            "line": {
             "colorbar": {
              "outlinewidth": 0,
              "ticks": ""
             }
            },
            "type": "parcoords"
           }
          ],
          "pie": [
           {
            "automargin": true,
            "type": "pie"
           }
          ],
          "scatter": [
           {
            "marker": {
             "colorbar": {
              "outlinewidth": 0,
              "ticks": ""
             }
            },
            "type": "scatter"
           }
          ],
          "scatter3d": [
           {
            "line": {
             "colorbar": {
              "outlinewidth": 0,
              "ticks": ""
             }
            },
            "marker": {
             "colorbar": {
              "outlinewidth": 0,
              "ticks": ""
             }
            },
            "type": "scatter3d"
           }
          ],
          "scattercarpet": [
           {
            "marker": {
             "colorbar": {
              "outlinewidth": 0,
              "ticks": ""
             }
            },
            "type": "scattercarpet"
           }
          ],
          "scattergeo": [
           {
            "marker": {
             "colorbar": {
              "outlinewidth": 0,
              "ticks": ""
             }
            },
            "type": "scattergeo"
           }
          ],
          "scattergl": [
           {
            "marker": {
             "colorbar": {
              "outlinewidth": 0,
              "ticks": ""
             }
            },
            "type": "scattergl"
           }
          ],
          "scattermapbox": [
           {
            "marker": {
             "colorbar": {
              "outlinewidth": 0,
              "ticks": ""
             }
            },
            "type": "scattermapbox"
           }
          ],
          "scatterpolar": [
           {
            "marker": {
             "colorbar": {
              "outlinewidth": 0,
              "ticks": ""
             }
            },
            "type": "scatterpolar"
           }
          ],
          "scatterpolargl": [
           {
            "marker": {
             "colorbar": {
              "outlinewidth": 0,
              "ticks": ""
             }
            },
            "type": "scatterpolargl"
           }
          ],
          "scatterternary": [
           {
            "marker": {
             "colorbar": {
              "outlinewidth": 0,
              "ticks": ""
             }
            },
            "type": "scatterternary"
           }
          ],
          "surface": [
           {
            "colorbar": {
             "outlinewidth": 0,
             "ticks": ""
            },
            "colorscale": [
             [
              0,
              "#0d0887"
             ],
             [
              0.1111111111111111,
              "#46039f"
             ],
             [
              0.2222222222222222,
              "#7201a8"
             ],
             [
              0.3333333333333333,
              "#9c179e"
             ],
             [
              0.4444444444444444,
              "#bd3786"
             ],
             [
              0.5555555555555556,
              "#d8576b"
             ],
             [
              0.6666666666666666,
              "#ed7953"
             ],
             [
              0.7777777777777778,
              "#fb9f3a"
             ],
             [
              0.8888888888888888,
              "#fdca26"
             ],
             [
              1,
              "#f0f921"
             ]
            ],
            "type": "surface"
           }
          ],
          "table": [
           {
            "cells": {
             "fill": {
              "color": "#EBF0F8"
             },
             "line": {
              "color": "white"
             }
            },
            "header": {
             "fill": {
              "color": "#C8D4E3"
             },
             "line": {
              "color": "white"
             }
            },
            "type": "table"
           }
          ]
         },
         "layout": {
          "annotationdefaults": {
           "arrowcolor": "#2a3f5f",
           "arrowhead": 0,
           "arrowwidth": 1
          },
          "coloraxis": {
           "colorbar": {
            "outlinewidth": 0,
            "ticks": ""
           }
          },
          "colorscale": {
           "diverging": [
            [
             0,
             "#8e0152"
            ],
            [
             0.1,
             "#c51b7d"
            ],
            [
             0.2,
             "#de77ae"
            ],
            [
             0.3,
             "#f1b6da"
            ],
            [
             0.4,
             "#fde0ef"
            ],
            [
             0.5,
             "#f7f7f7"
            ],
            [
             0.6,
             "#e6f5d0"
            ],
            [
             0.7,
             "#b8e186"
            ],
            [
             0.8,
             "#7fbc41"
            ],
            [
             0.9,
             "#4d9221"
            ],
            [
             1,
             "#276419"
            ]
           ],
           "sequential": [
            [
             0,
             "#0d0887"
            ],
            [
             0.1111111111111111,
             "#46039f"
            ],
            [
             0.2222222222222222,
             "#7201a8"
            ],
            [
             0.3333333333333333,
             "#9c179e"
            ],
            [
             0.4444444444444444,
             "#bd3786"
            ],
            [
             0.5555555555555556,
             "#d8576b"
            ],
            [
             0.6666666666666666,
             "#ed7953"
            ],
            [
             0.7777777777777778,
             "#fb9f3a"
            ],
            [
             0.8888888888888888,
             "#fdca26"
            ],
            [
             1,
             "#f0f921"
            ]
           ],
           "sequentialminus": [
            [
             0,
             "#0d0887"
            ],
            [
             0.1111111111111111,
             "#46039f"
            ],
            [
             0.2222222222222222,
             "#7201a8"
            ],
            [
             0.3333333333333333,
             "#9c179e"
            ],
            [
             0.4444444444444444,
             "#bd3786"
            ],
            [
             0.5555555555555556,
             "#d8576b"
            ],
            [
             0.6666666666666666,
             "#ed7953"
            ],
            [
             0.7777777777777778,
             "#fb9f3a"
            ],
            [
             0.8888888888888888,
             "#fdca26"
            ],
            [
             1,
             "#f0f921"
            ]
           ]
          },
          "colorway": [
           "#636efa",
           "#EF553B",
           "#00cc96",
           "#ab63fa",
           "#FFA15A",
           "#19d3f3",
           "#FF6692",
           "#B6E880",
           "#FF97FF",
           "#FECB52"
          ],
          "font": {
           "color": "#2a3f5f"
          },
          "geo": {
           "bgcolor": "white",
           "lakecolor": "white",
           "landcolor": "#E5ECF6",
           "showlakes": true,
           "showland": true,
           "subunitcolor": "white"
          },
          "hoverlabel": {
           "align": "left"
          },
          "hovermode": "closest",
          "mapbox": {
           "style": "light"
          },
          "paper_bgcolor": "white",
          "plot_bgcolor": "#E5ECF6",
          "polar": {
           "angularaxis": {
            "gridcolor": "white",
            "linecolor": "white",
            "ticks": ""
           },
           "bgcolor": "#E5ECF6",
           "radialaxis": {
            "gridcolor": "white",
            "linecolor": "white",
            "ticks": ""
           }
          },
          "scene": {
           "xaxis": {
            "backgroundcolor": "#E5ECF6",
            "gridcolor": "white",
            "gridwidth": 2,
            "linecolor": "white",
            "showbackground": true,
            "ticks": "",
            "zerolinecolor": "white"
           },
           "yaxis": {
            "backgroundcolor": "#E5ECF6",
            "gridcolor": "white",
            "gridwidth": 2,
            "linecolor": "white",
            "showbackground": true,
            "ticks": "",
            "zerolinecolor": "white"
           },
           "zaxis": {
            "backgroundcolor": "#E5ECF6",
            "gridcolor": "white",
            "gridwidth": 2,
            "linecolor": "white",
            "showbackground": true,
            "ticks": "",
            "zerolinecolor": "white"
           }
          },
          "shapedefaults": {
           "line": {
            "color": "#2a3f5f"
           }
          },
          "ternary": {
           "aaxis": {
            "gridcolor": "white",
            "linecolor": "white",
            "ticks": ""
           },
           "baxis": {
            "gridcolor": "white",
            "linecolor": "white",
            "ticks": ""
           },
           "bgcolor": "#E5ECF6",
           "caxis": {
            "gridcolor": "white",
            "linecolor": "white",
            "ticks": ""
           }
          },
          "title": {
           "x": 0.05
          },
          "xaxis": {
           "automargin": true,
           "gridcolor": "white",
           "linecolor": "white",
           "ticks": "",
           "title": {
            "standoff": 15
           },
           "zerolinecolor": "white",
           "zerolinewidth": 2
          },
          "yaxis": {
           "automargin": true,
           "gridcolor": "white",
           "linecolor": "white",
           "ticks": "",
           "title": {
            "standoff": 15
           },
           "zerolinecolor": "white",
           "zerolinewidth": 2
          }
         }
        },
        "xaxis": {
         "anchor": "y",
         "domain": [
          0,
          1
         ],
         "title": {
          "text": "x"
         }
        },
        "yaxis": {
         "anchor": "x",
         "domain": [
          0,
          1
         ],
         "title": {
          "text": "y"
         }
        }
       }
      },
      "text/html": [
       "<div>\n",
       "        \n",
       "        \n",
       "            <div id=\"ad5bb38e-1349-4dfd-af36-4018b3c201ef\" class=\"plotly-graph-div\" style=\"height:525px; width:100%;\"></div>\n",
       "            <script type=\"text/javascript\">\n",
       "                require([\"plotly\"], function(Plotly) {\n",
       "                    window.PLOTLYENV=window.PLOTLYENV || {};\n",
       "                    \n",
       "                if (document.getElementById(\"ad5bb38e-1349-4dfd-af36-4018b3c201ef\")) {\n",
       "                    Plotly.newPlot(\n",
       "                        'ad5bb38e-1349-4dfd-af36-4018b3c201ef',\n",
       "                        [{\"customdata\": [[\"qn-ans-agmt-qn-ans-dsgmt-dsgmt-dsgmt\"], [\"qn-ans-dsgmt-dsgmt-dsgmt-dsgmt-dsgmt-dsgmt\"], [\"qn-ans-qn-ans-qn-ans-dsgmt-dsgmt\"], [\"qn-ans-qn-ans-elab-dsgmt-elab-dsgmt\"], [\"qn-ans-elab-dsgmt-qn-ans-dsgmt-elab\"], [\"anc-dsgmt-dsgmt-dsgmt-agmt-agmt-dsgmt-dsgmt\"], [\"qn-ans-hmr-elab-elab-elab-hmr-dsgmt\"], [\"qn-ans-qn-ans-qn-ans-appr-elab\"], [\"anc-agmt-elab-elab-agmt-elab-agmt-dsgmt\"], [\"anc-dsgmt-qn-ans-dsgmt-elab-negR-elab\"], [\"qn-ans-elab-dsgmt-elab-dsgmt-dsgmt-dsgmt\"], [\"qn-qn-qn-ans-elab-elab-elab-dsgmt\"], [\"anc-negR-dsgmt-dsgmt-dsgmt-dsgmt-dsgmt-dsgmt\"], [\"qn-ans-appr-elab-dsgmt-dsgmt-dsgmt-dsgmt\"], [\"qn-qn-ans-dsgmt-hmr-elab-agmt-dsgmt\"], [\"qn-ans-appr-othr-hmr-dsgmt-dsgmt-dsgmt\"], [\"qn-ans-dsgmt-dsgmt-negR-dsgmt-dsgmt-dsgmt\"], [\"qn-ans-dsgmt-dsgmt-elab-dsgmt-dsgmt-dsgmt\"], [\"anc-qn-ans-dsgmt-qn-qn-elab-dsgmt\"], [\"anc-elab-elab-dsgmt-dsgmt-agmt-elab-dsgmt\"], [\"anc-elab-elab-dsgmt-qn-ans-agmt-dsgmt\"], [\"qn-dsgmt-dsgmt-dsgmt-hmr-qn-ans-appr\"], [\"qn-ans-agmt-dsgmt-hmr-hmr-hmr-dsgmt\"], [\"qn-ans-dsgmt-agmt-dsgmt-dsgmt-elab-elab\"], [\"anc-qn-negR-qn-dsgmt-dsgmt-negR-elab\"], [\"anc-negR-negR-elab-qn-ans-dsgmt-elab\"], [\"qn-ans-dsgmt-dsgmt-elab-dsgmt-negR-dsgmt\"], [\"qn-dsgmt-dsgmt-dsgmt-agmt-elab-agmt-dsgmt\"], [\"qn-ans-dsgmt-elab-elab-dsgmt-elab-dsgmt\"], [\"qn-ans-elab-qn-ans-qn-ans-elab\"], [\"qn-ans-appr-ans-negR-elab-negR-dsgmt\"], [\"qn-ans-qn-ans-qn-ans-appr-agmt\"], [\"qn-ans-appr-ans-appr-qn-qn-ans\"], [\"qn-ans-elab-dsgmt-elab-elab-dsgmt-dsgmt\"], [\"qn-ans-negR-dsgmt-negR-dsgmt-negR-negR\"], [\"qn-dsgmt-elab-dsgmt-dsgmt-dsgmt-elab-dsgmt\"], [\"qn-ans-qn-ans-dsgmt-dsgmt-dsgmt-dsgmt\"], [\"qn-ans-qn-ans-qn-ans-negR-dsgmt\"], [\"anc-dsgmt-dsgmt-dsgmt-dsgmt-dsgmt-dsgmt-dsgmt\"], [\"qn-ans-dsgmt-dsgmt-dsgmt-dsgmt-dsgmt-qn\"], [\"hmr-dsgmt-appr-dsgmt-dsgmt-dsgmt-dsgmt-dsgmt\"], [\"qn-ans-elab-agmt-elab-elab-dsgmt-dsgmt\"], [\"qn-qn-ans-dsgmt-dsgmt-dsgmt-hmr-dsgmt\"], [\"qn-ans-dsgmt-dsgmt-dsgmt-dsgmt-dsgmt-dsgmt\"], [\"qn-ans-qn-ans-qn-ans-elab-dsgmt\"], [\"qn-ans-dsgmt-dsgmt-dsgmt-dsgmt-negR-negR\"], [\"anc-elab-elab-qn-ans-ans-elab-elab\"], [\"anc-dsgmt-dsgmt-elab-dsgmt-dsgmt-dsgmt-dsgmt\"], [\"qn-ans-elab-dsgmt-ans-elab-elab-dsgmt\"], [\"anc-elab-qn-dsgmt-elab-dsgmt-dsgmt-dsgmt\"], [\"anc-othr-qn-elab-agmt-othr-dsgmt-dsgmt\"], [\"anc-negR-elab-qn-ans-negR-dsgmt-dsgmt\"], [\"qn-agmt-othr-negR-qn-ans-dsgmt-elab\"], [\"qn-ans-elab-elab-elab-dsgmt-agmt-elab\"], [\"qn-ans-elab-elab-dsgmt-agmt-dsgmt-dsgmt\"], [\"anc-elab-dsgmt-dsgmt-elab-elab-agmt-dsgmt\"], [\"qn-ans-dsgmt-dsgmt-dsgmt-dsgmt-dsgmt-dsgmt\"], [\"qn-othr-dsgmt-othr-dsgmt-dsgmt-dsgmt-dsgmt\"], [\"qn-ans-agmt-dsgmt-elab-dsgmt-dsgmt-elab\"], [\"qn-ans-elab-elab-elab-elab-elab-elab\"], [\"qn-ans-elab-elab-elab-agmt-ans-elab\"], [\"qn-ans-ans-elab-agmt-negR-dsgmt-dsgmt\"], [\"qn-ans-elab-elab-elab-qn-ans-dsgmt\"], [\"qn-ans-qn-ans-qn-ans-dsgmt-dsgmt\"], [\"qn-dsgmt-qn-ans-elab-dsgmt-dsgmt-dsgmt\"], [\"qn-ans-dsgmt-qn-ans-dsgmt-elab-elab\"], [\"qn-ans-dsgmt-elab-dsgmt-elab-elab-dsgmt\"], [\"anc-qn-hmr-elab-elab-dsgmt-dsgmt-dsgmt\"], [\"qn-ans-dsgmt-dsgmt-dsgmt-qn-ans-elab\"], [\"qn-ans-ans-qn-ans-elab-elab-elab\"], [\"qn-ans-qn-ans-elab-elab-negR-elab\"], [\"qn-qn-qn-ans-elab-elab-elab-dsgmt\"], [\"qn-ans-elab-elab-qn-ans-dsgmt-dsgmt\"], [\"qn-ans-qn-ans-elab-dsgmt-elab-agmt\"], [\"qn-ans-qn-ans-qn-qn-dsgmt-dsgmt\"], [\"anc-agmt-qn-ans-qn-ans-elab-elab\"], [\"qn-ans-ans-qn-ans-dsgmt-elab-dsgmt\"], [\"qn-ans-elab-dsgmt-elab-dsgmt-elab-elab\"], [\"qn-ans-elab-ans-elab-elab-dsgmt-dsgmt\"], [\"qn-ans-dsgmt-qn-ans-dsgmt-elab-dsgmt\"], [\"qn-ans-qn-ans-qn-ans-elab-dsgmt\"], [\"qn-ans-qn-ans-qn-ans-dsgmt-dsgmt\"], [\"qn-ans-qn-elab-elab-elab-elab-elab\"], [\"anc-qn-qn-ans-elab-qn-ans-elab\"], [\"qn-ans-dsgmt-dsgmt-dsgmt-dsgmt-elab-dsgmt\"], [\"anc-qn-ans-appr-agmt-dsgmt-dsgmt-dsgmt\"], [\"qn-dsgmt-elab-dsgmt-elab-dsgmt-qn-ans\"], [\"qn-dsgmt-qn-ans-agmt-ans-agmt-elab\"], [\"qn-ans-elab-dsgmt-dsgmt-dsgmt-elab-dsgmt\"], [\"anc-qn-qn-ans-elab-ans-elab-dsgmt\"], [\"qn-ans-elab-elab-dsgmt-dsgmt-elab-dsgmt\"], [\"qn-ans-qn-elab-dsgmt-qn-dsgmt-elab\"], [\"qn-ans-qn-ans-ans-qn-ans-elab\"], [\"qn-ans-qn-ans-qn-ans-dsgmt-dsgmt\"], [\"qn-ans-dsgmt-dsgmt-dsgmt-qn-ans-dsgmt\"], [\"qn-ans-elab-dsgmt-elab-qn-ans-dsgmt\"], [\"qn-ans-dsgmt-elab-dsgmt-agmt-elab-dsgmt\"], [\"qn-ans-agmt-elab-dsgmt-dsgmt-dsgmt-dsgmt\"], [\"qn-ans-appr-elab-dsgmt-appr-ans-dsgmt\"], [\"qn-ans-dsgmt-dsgmt-dsgmt-dsgmt-dsgmt-dsgmt\"], [\"qn-ans-qn-ans-qn-ans-elab-elab\"], [\"qn-ans-elab-elab-elab-elab-dsgmt-dsgmt\"], [\"qn-ans-agmt-dsgmt-agmt-dsgmt-dsgmt-dsgmt\"], [\"qn-ans-dsgmt-dsgmt-dsgmt-dsgmt-dsgmt-dsgmt\"], [\"anc-qn-ans-elab-appr-elab-qn-ans\"], [\"qn-ans-qn-ans-qn-ans-elab-dsgmt\"], [\"anc-dsgmt-negR-dsgmt-dsgmt-elab-dsgmt-dsgmt\"], [\"qn-ans-elab-dsgmt-dsgmt-dsgmt-elab-dsgmt\"], [\"qn-ans-qn-ans-dsgmt-dsgmt-elab-elab\"], [\"anc-hmr-elab-dsgmt-negR-elab-negR-dsgmt\"], [\"qn-ans-qn-ans-elab-dsgmt-elab-elab\"], [\"qn-ans-agmt-dsgmt-qn-ans-dsgmt-dsgmt\"], [\"qn-ans-agmt-elab-elab-qn-ans-dsgmt\"], [\"qn-ans-dsgmt-dsgmt-dsgmt-elab-dsgmt-elab\"], [\"qn-ans-dsgmt-dsgmt-elab-dsgmt-dsgmt-dsgmt\"], [\"qn-qn-ans-qn-dsgmt-dsgmt-dsgmt-dsgmt\"], [\"qn-qn-elab-elab-qn-ans-elab-elab\"], [\"anc-elab-elab-agmt-elab-elab-hmr-dsgmt\"], [\"qn-ans-qn-elab-elab-qn-dsgmt-dsgmt\"], [\"qn-ans-dsgmt-qn-ans-qn-ans-dsgmt\"], [\"qn-ans-appr-elab-qn-ans-dsgmt-ans\"], [\"qn-ans-dsgmt-dsgmt-elab-dsgmt-dsgmt-elab\"], [\"qn-ans-appr-agmt-elab-othr-othr-dsgmt\"], [\"anc-dsgmt-dsgmt-elab-elab-elab-elab-elab\"], [\"qn-ans-agmt-qn-ans-qn-ans-dsgmt\"], [\"qn-ans-elab-elab-elab-elab-dsgmt-elab\"], [\"qn-ans-elab-dsgmt-dsgmt-ans-qn-dsgmt\"]], \"hovertemplate\": \"x=%{x}<br>y=%{y}<br>meta.path=%{customdata[0]}<extra></extra>\", \"legendgroup\": \"\", \"marker\": {\"color\": \"#636efa\", \"symbol\": \"circle\"}, \"mode\": \"markers\", \"name\": \"\", \"orientation\": \"v\", \"showlegend\": false, \"type\": \"scatter\", \"x\": [2.604130744934082, -1.0419590473175049, 8.779455184936523, 5.99655818939209, 1.9881192445755005, 0.7722903490066528, 3.659176826477051, 9.44536304473877, 2.8439443111419678, -0.06503196805715561, 1.846136212348938, 8.168590545654297, -0.9430177211761475, 2.3750362396240234, 6.182342529296875, 7.666334629058838, -2.0797531604766846, 1.11520254611969, 1.8484461307525635, -0.9573585391044617, 1.1229526996612549, -1.079676628112793, -0.6705126166343689, 1.5249336957931519, -1.8669319152832031, 1.7095088958740234, -1.9814462661743164, -1.5242184400558472, 2.7304012775421143, 8.913803100585938, 9.508172035217285, 7.609726905822754, 7.045136451721191, 1.7185304164886475, -0.23019631206989288, -1.280470609664917, 2.5028672218322754, 7.54321813583374, -1.5257813930511475, -1.8703573942184448, -0.8641672730445862, 4.1842193603515625, -0.9539132714271545, -0.789941132068634, 9.352089881896973, -2.208540439605713, 2.676827907562256, -2.1190531253814697, -0.6501149535179138, -1.0633352994918823, 1.6947237253189087, 2.26839017868042, 2.7065601348876953, 6.825771808624268, 3.4466731548309326, -1.5203098058700562, -2.2738988399505615, -0.8420642614364624, 2.2384095191955566, 3.79144287109375, 4.62515926361084, 8.618452072143555, 0.526280403137207, 7.819206714630127, 4.476375102996826, 6.518147945404053, -2.1963441371917725, 3.8249924182891846, -2.6702349185943604, 10.132170677185059, 4.1981611251831055, 6.439272880554199, -0.09558998048305511, 0.5660295486450195, 8.927691459655762, 3.274935007095337, 6.323522090911865, -2.5771570205688477, 1.1612627506256104, 2.619063138961792, 8.35990047454834, 6.874027252197266, 4.794093132019043, 2.9606969356536865, -2.975799798965454, 3.278651475906372, -0.08440506458282471, 8.516973495483398, 0.34496137499809265, 3.2406649589538574, 3.0518534183502197, 5.695385456085205, 9.808744430541992, 5.647394180297852, -2.5775375366210938, 0.9670472145080566, 2.3162927627563477, -0.7487370371818542, 3.2261500358581543, -2.6762866973876953, 9.724588394165039, -0.28479453921318054, 1.8863085508346558, -2.794003963470459, 3.550873279571533, 6.423781871795654, -0.17747481167316437, -2.401202440261841, 5.244893550872803, -0.8038745522499084, 5.196903228759766, 0.38204216957092285, 4.893306732177734, -0.9815512299537659, -1.2883720397949219, 7.759293079376221, 6.851417064666748, 1.0477482080459595, 5.065013408660889, 5.3957905769348145, 5.610367298126221, -0.8341719508171082, 3.9254837036132812, -1.1821842193603516, 9.347777366638184, 4.975788116455078, -1.3457772731781006], \"xaxis\": \"x\", \"y\": [-0.29316410422325134, 4.421835899353027, 0.771823525428772, 4.133040428161621, 0.4171501398086548, -9.832352638244629, 1.8848156929016113, 0.7864515781402588, -8.952960014343262, -8.13891315460205, 2.2281646728515625, 4.481870651245117, -9.742813110351562, 7.4030022621154785, 2.1834588050842285, 1.426871418952942, 1.017207384109497, 2.4437224864959717, -8.649785995483398, -6.600790977478027, -7.9607768058776855, 0.6176275610923767, 0.004156673327088356, 5.516499996185303, -9.104713439941406, -7.454687118530273, 7.092827320098877, -4.774646282196045, 2.781029224395752, 2.994215965270996, 3.204442024230957, -0.355451375246048, -0.8938323259353638, 6.246686935424805, 5.925270080566406, 3.615668773651123, 6.316819190979004, -1.1504058837890625, -9.681181907653809, 6.369668960571289, -7.679166316986084, 3.661397695541382, 8.774764060974121, 4.270094871520996, 0.10503066331148148, 7.958068370819092, -6.181277751922607, -9.513888359069824, 0.593752920627594, -7.597728252410889, -6.401895523071289, -6.439596652984619, -7.10037899017334, 4.163777828216553, 3.2585723400115967, -5.717264175415039, 7.629571914672852, 7.542568683624268, 0.47404536604881287, 5.383849620819092, 2.9491941928863525, 1.9527931213378906, 4.459502696990967, -2.4146246910095215, 6.201472759246826, 3.041200637817383, 4.257315635681152, -8.861967086791992, 2.07806396484375, 1.7461785078048706, 6.799452781677246, 0.8887699246406555, 1.8838201761245728, 6.970344066619873, -0.6317348480224609, -6.214019775390625, 6.113521099090576, 4.376474380493164, -4.812010288238525, -0.4440188705921173, -0.07460229098796844, -1.635855793952942, 4.813324451446533, -5.41241455078125, 3.064096450805664, -9.130756378173828, 2.5107014179229736, 3.1888322830200195, 5.171126842498779, -7.201484203338623, 3.7694146633148193, 5.239466667175293, 0.1789584755897522, -5.831029415130615, 6.852477073669434, 1.307400107383728, 4.950829029083252, 6.979676246643066, 7.112079620361328, 7.504809379577637, 1.232578158378601, -4.598479747772217, 1.6824110746383667, 4.177017688751221, -7.873743534088135, -0.45507144927978516, -9.331254959106445, 3.4482009410858154, 6.22128438949585, -4.61793327331543, 3.726057767868042, -0.2536637783050537, 0.6161848306655884, 4.484860897064209, 1.5497288703918457, -2.9835329055786133, 2.4118330478668213, -6.271485805511475, 0.22486159205436707, -1.4006184339523315, -5.98647928237915, -4.470060348510742, 1.0423314571380615, -6.84007453918457, 2.458408832550049, 5.685835838317871, 7.8996806144714355], \"yaxis\": \"y\"}],\n",
       "                        {\"legend\": {\"tracegroupgap\": 0}, \"margin\": {\"t\": 60}, \"template\": {\"data\": {\"bar\": [{\"error_x\": {\"color\": \"#2a3f5f\"}, \"error_y\": {\"color\": \"#2a3f5f\"}, \"marker\": {\"line\": {\"color\": \"#E5ECF6\", \"width\": 0.5}}, \"type\": \"bar\"}], \"barpolar\": [{\"marker\": {\"line\": {\"color\": \"#E5ECF6\", \"width\": 0.5}}, \"type\": \"barpolar\"}], \"carpet\": [{\"aaxis\": {\"endlinecolor\": \"#2a3f5f\", \"gridcolor\": \"white\", \"linecolor\": \"white\", \"minorgridcolor\": \"white\", \"startlinecolor\": \"#2a3f5f\"}, \"baxis\": {\"endlinecolor\": \"#2a3f5f\", \"gridcolor\": \"white\", \"linecolor\": \"white\", \"minorgridcolor\": \"white\", \"startlinecolor\": \"#2a3f5f\"}, \"type\": \"carpet\"}], \"choropleth\": [{\"colorbar\": {\"outlinewidth\": 0, \"ticks\": \"\"}, \"type\": \"choropleth\"}], \"contour\": [{\"colorbar\": {\"outlinewidth\": 0, \"ticks\": \"\"}, \"colorscale\": [[0.0, \"#0d0887\"], [0.1111111111111111, \"#46039f\"], [0.2222222222222222, \"#7201a8\"], [0.3333333333333333, \"#9c179e\"], [0.4444444444444444, \"#bd3786\"], [0.5555555555555556, \"#d8576b\"], [0.6666666666666666, \"#ed7953\"], [0.7777777777777778, \"#fb9f3a\"], [0.8888888888888888, \"#fdca26\"], [1.0, \"#f0f921\"]], \"type\": \"contour\"}], \"contourcarpet\": [{\"colorbar\": {\"outlinewidth\": 0, \"ticks\": \"\"}, \"type\": \"contourcarpet\"}], \"heatmap\": [{\"colorbar\": {\"outlinewidth\": 0, \"ticks\": \"\"}, \"colorscale\": [[0.0, \"#0d0887\"], [0.1111111111111111, \"#46039f\"], [0.2222222222222222, \"#7201a8\"], [0.3333333333333333, \"#9c179e\"], [0.4444444444444444, \"#bd3786\"], [0.5555555555555556, \"#d8576b\"], [0.6666666666666666, \"#ed7953\"], [0.7777777777777778, \"#fb9f3a\"], [0.8888888888888888, \"#fdca26\"], [1.0, \"#f0f921\"]], \"type\": \"heatmap\"}], \"heatmapgl\": [{\"colorbar\": {\"outlinewidth\": 0, \"ticks\": \"\"}, \"colorscale\": [[0.0, \"#0d0887\"], [0.1111111111111111, \"#46039f\"], [0.2222222222222222, \"#7201a8\"], [0.3333333333333333, \"#9c179e\"], [0.4444444444444444, \"#bd3786\"], [0.5555555555555556, \"#d8576b\"], [0.6666666666666666, \"#ed7953\"], [0.7777777777777778, \"#fb9f3a\"], [0.8888888888888888, \"#fdca26\"], [1.0, \"#f0f921\"]], \"type\": \"heatmapgl\"}], \"histogram\": [{\"marker\": {\"colorbar\": {\"outlinewidth\": 0, \"ticks\": \"\"}}, \"type\": \"histogram\"}], \"histogram2d\": [{\"colorbar\": {\"outlinewidth\": 0, \"ticks\": \"\"}, \"colorscale\": [[0.0, \"#0d0887\"], [0.1111111111111111, \"#46039f\"], [0.2222222222222222, \"#7201a8\"], [0.3333333333333333, \"#9c179e\"], [0.4444444444444444, \"#bd3786\"], [0.5555555555555556, \"#d8576b\"], [0.6666666666666666, \"#ed7953\"], [0.7777777777777778, \"#fb9f3a\"], [0.8888888888888888, \"#fdca26\"], [1.0, \"#f0f921\"]], \"type\": \"histogram2d\"}], \"histogram2dcontour\": [{\"colorbar\": {\"outlinewidth\": 0, \"ticks\": \"\"}, \"colorscale\": [[0.0, \"#0d0887\"], [0.1111111111111111, \"#46039f\"], [0.2222222222222222, \"#7201a8\"], [0.3333333333333333, \"#9c179e\"], [0.4444444444444444, \"#bd3786\"], [0.5555555555555556, \"#d8576b\"], [0.6666666666666666, \"#ed7953\"], [0.7777777777777778, \"#fb9f3a\"], [0.8888888888888888, \"#fdca26\"], [1.0, \"#f0f921\"]], \"type\": \"histogram2dcontour\"}], \"mesh3d\": [{\"colorbar\": {\"outlinewidth\": 0, \"ticks\": \"\"}, \"type\": \"mesh3d\"}], \"parcoords\": [{\"line\": {\"colorbar\": {\"outlinewidth\": 0, \"ticks\": \"\"}}, \"type\": \"parcoords\"}], \"pie\": [{\"automargin\": true, \"type\": \"pie\"}], \"scatter\": [{\"marker\": {\"colorbar\": {\"outlinewidth\": 0, \"ticks\": \"\"}}, \"type\": \"scatter\"}], \"scatter3d\": [{\"line\": {\"colorbar\": {\"outlinewidth\": 0, \"ticks\": \"\"}}, \"marker\": {\"colorbar\": {\"outlinewidth\": 0, \"ticks\": \"\"}}, \"type\": \"scatter3d\"}], \"scattercarpet\": [{\"marker\": {\"colorbar\": {\"outlinewidth\": 0, \"ticks\": \"\"}}, \"type\": \"scattercarpet\"}], \"scattergeo\": [{\"marker\": {\"colorbar\": {\"outlinewidth\": 0, \"ticks\": \"\"}}, \"type\": \"scattergeo\"}], \"scattergl\": [{\"marker\": {\"colorbar\": {\"outlinewidth\": 0, \"ticks\": \"\"}}, \"type\": \"scattergl\"}], \"scattermapbox\": [{\"marker\": {\"colorbar\": {\"outlinewidth\": 0, \"ticks\": \"\"}}, \"type\": \"scattermapbox\"}], \"scatterpolar\": [{\"marker\": {\"colorbar\": {\"outlinewidth\": 0, \"ticks\": \"\"}}, \"type\": \"scatterpolar\"}], \"scatterpolargl\": [{\"marker\": {\"colorbar\": {\"outlinewidth\": 0, \"ticks\": \"\"}}, \"type\": \"scatterpolargl\"}], \"scatterternary\": [{\"marker\": {\"colorbar\": {\"outlinewidth\": 0, \"ticks\": \"\"}}, \"type\": \"scatterternary\"}], \"surface\": [{\"colorbar\": {\"outlinewidth\": 0, \"ticks\": \"\"}, \"colorscale\": [[0.0, \"#0d0887\"], [0.1111111111111111, \"#46039f\"], [0.2222222222222222, \"#7201a8\"], [0.3333333333333333, \"#9c179e\"], [0.4444444444444444, \"#bd3786\"], [0.5555555555555556, \"#d8576b\"], [0.6666666666666666, \"#ed7953\"], [0.7777777777777778, \"#fb9f3a\"], [0.8888888888888888, \"#fdca26\"], [1.0, \"#f0f921\"]], \"type\": \"surface\"}], \"table\": [{\"cells\": {\"fill\": {\"color\": \"#EBF0F8\"}, \"line\": {\"color\": \"white\"}}, \"header\": {\"fill\": {\"color\": \"#C8D4E3\"}, \"line\": {\"color\": \"white\"}}, \"type\": \"table\"}]}, \"layout\": {\"annotationdefaults\": {\"arrowcolor\": \"#2a3f5f\", \"arrowhead\": 0, \"arrowwidth\": 1}, \"coloraxis\": {\"colorbar\": {\"outlinewidth\": 0, \"ticks\": \"\"}}, \"colorscale\": {\"diverging\": [[0, \"#8e0152\"], [0.1, \"#c51b7d\"], [0.2, \"#de77ae\"], [0.3, \"#f1b6da\"], [0.4, \"#fde0ef\"], [0.5, \"#f7f7f7\"], [0.6, \"#e6f5d0\"], [0.7, \"#b8e186\"], [0.8, \"#7fbc41\"], [0.9, \"#4d9221\"], [1, \"#276419\"]], \"sequential\": [[0.0, \"#0d0887\"], [0.1111111111111111, \"#46039f\"], [0.2222222222222222, \"#7201a8\"], [0.3333333333333333, \"#9c179e\"], [0.4444444444444444, \"#bd3786\"], [0.5555555555555556, \"#d8576b\"], [0.6666666666666666, \"#ed7953\"], [0.7777777777777778, \"#fb9f3a\"], [0.8888888888888888, \"#fdca26\"], [1.0, \"#f0f921\"]], \"sequentialminus\": [[0.0, \"#0d0887\"], [0.1111111111111111, \"#46039f\"], [0.2222222222222222, \"#7201a8\"], [0.3333333333333333, \"#9c179e\"], [0.4444444444444444, \"#bd3786\"], [0.5555555555555556, \"#d8576b\"], [0.6666666666666666, \"#ed7953\"], [0.7777777777777778, \"#fb9f3a\"], [0.8888888888888888, \"#fdca26\"], [1.0, \"#f0f921\"]]}, \"colorway\": [\"#636efa\", \"#EF553B\", \"#00cc96\", \"#ab63fa\", \"#FFA15A\", \"#19d3f3\", \"#FF6692\", \"#B6E880\", \"#FF97FF\", \"#FECB52\"], \"font\": {\"color\": \"#2a3f5f\"}, \"geo\": {\"bgcolor\": \"white\", \"lakecolor\": \"white\", \"landcolor\": \"#E5ECF6\", \"showlakes\": true, \"showland\": true, \"subunitcolor\": \"white\"}, \"hoverlabel\": {\"align\": \"left\"}, \"hovermode\": \"closest\", \"mapbox\": {\"style\": \"light\"}, \"paper_bgcolor\": \"white\", \"plot_bgcolor\": \"#E5ECF6\", \"polar\": {\"angularaxis\": {\"gridcolor\": \"white\", \"linecolor\": \"white\", \"ticks\": \"\"}, \"bgcolor\": \"#E5ECF6\", \"radialaxis\": {\"gridcolor\": \"white\", \"linecolor\": \"white\", \"ticks\": \"\"}}, \"scene\": {\"xaxis\": {\"backgroundcolor\": \"#E5ECF6\", \"gridcolor\": \"white\", \"gridwidth\": 2, \"linecolor\": \"white\", \"showbackground\": true, \"ticks\": \"\", \"zerolinecolor\": \"white\"}, \"yaxis\": {\"backgroundcolor\": \"#E5ECF6\", \"gridcolor\": \"white\", \"gridwidth\": 2, \"linecolor\": \"white\", \"showbackground\": true, \"ticks\": \"\", \"zerolinecolor\": \"white\"}, \"zaxis\": {\"backgroundcolor\": \"#E5ECF6\", \"gridcolor\": \"white\", \"gridwidth\": 2, \"linecolor\": \"white\", \"showbackground\": true, \"ticks\": \"\", \"zerolinecolor\": \"white\"}}, \"shapedefaults\": {\"line\": {\"color\": \"#2a3f5f\"}}, \"ternary\": {\"aaxis\": {\"gridcolor\": \"white\", \"linecolor\": \"white\", \"ticks\": \"\"}, \"baxis\": {\"gridcolor\": \"white\", \"linecolor\": \"white\", \"ticks\": \"\"}, \"bgcolor\": \"#E5ECF6\", \"caxis\": {\"gridcolor\": \"white\", \"linecolor\": \"white\", \"ticks\": \"\"}}, \"title\": {\"x\": 0.05}, \"xaxis\": {\"automargin\": true, \"gridcolor\": \"white\", \"linecolor\": \"white\", \"ticks\": \"\", \"title\": {\"standoff\": 15}, \"zerolinecolor\": \"white\", \"zerolinewidth\": 2}, \"yaxis\": {\"automargin\": true, \"gridcolor\": \"white\", \"linecolor\": \"white\", \"ticks\": \"\", \"title\": {\"standoff\": 15}, \"zerolinecolor\": \"white\", \"zerolinewidth\": 2}}}, \"xaxis\": {\"anchor\": \"y\", \"domain\": [0.0, 1.0], \"title\": {\"text\": \"x\"}}, \"yaxis\": {\"anchor\": \"x\", \"domain\": [0.0, 1.0], \"title\": {\"text\": \"y\"}}},\n",
       "                        {\"responsive\": true}\n",
       "                    ).then(function(){\n",
       "                            \n",
       "var gd = document.getElementById('ad5bb38e-1349-4dfd-af36-4018b3c201ef');\n",
       "var x = new MutationObserver(function (mutations, observer) {{\n",
       "        var display = window.getComputedStyle(gd).display;\n",
       "        if (!display || display === 'none') {{\n",
       "            console.log([gd, 'removed!']);\n",
       "            Plotly.purge(gd);\n",
       "            observer.disconnect();\n",
       "        }}\n",
       "}});\n",
       "\n",
       "// Listen for the removal of the full notebook cells\n",
       "var notebookContainer = gd.closest('#notebook-container');\n",
       "if (notebookContainer) {{\n",
       "    x.observe(notebookContainer, {childList: true});\n",
       "}}\n",
       "\n",
       "// Listen for the clearing of the current output cell\n",
       "var outputEl = gd.closest('.output');\n",
       "if (outputEl) {{\n",
       "    x.observe(outputEl, {childList: true});\n",
       "}}\n",
       "\n",
       "                        })\n",
       "                };\n",
       "                });\n",
       "            </script>\n",
       "        </div>"
      ]
     },
     "metadata": {},
     "output_type": "display_data"
    }
   ],
   "source": [
    "import plotly.express as px\n",
    "fig = px.scatter(df, x='x', y='y', hover_data=['meta.path'])\n",
    "fig.show()"
   ]
  },
  {
   "cell_type": "code",
   "execution_count": 60,
   "metadata": {},
   "outputs": [
    {
     "data": {
      "text/plain": [
       "(127, 18)"
      ]
     },
     "execution_count": 60,
     "metadata": {},
     "output_type": "execute_result"
    }
   ],
   "source": [
    "df.shape"
   ]
  },
  {
   "cell_type": "code",
   "execution_count": null,
   "metadata": {},
   "outputs": [],
   "source": []
  }
 ],
 "metadata": {
  "kernelspec": {
   "display_name": "Python 3",
   "language": "python",
   "name": "python3"
  },
  "language_info": {
   "codemirror_mode": {
    "name": "ipython",
    "version": 3
   },
   "file_extension": ".py",
   "mimetype": "text/x-python",
   "name": "python",
   "nbconvert_exporter": "python",
   "pygments_lexer": "ipython3",
   "version": "3.7.6"
  }
 },
 "nbformat": 4,
 "nbformat_minor": 2
}
