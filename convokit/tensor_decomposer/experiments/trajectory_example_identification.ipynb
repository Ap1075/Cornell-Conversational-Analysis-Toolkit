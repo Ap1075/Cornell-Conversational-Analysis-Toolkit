{
 "cells": [
  {
   "cell_type": "markdown",
   "metadata": {},
   "source": [
    "1. Focused -> expansionary\n",
    "2. Expansionary, non-reciprocal -> Focused, reciprocal\n",
    "3. Dyadic chain"
   ]
  },
  {
   "cell_type": "code",
   "execution_count": 1,
   "metadata": {},
   "outputs": [],
   "source": [
    "import os\n",
    "os.chdir('../../..')\n",
    "import convokit"
   ]
  },
  {
   "cell_type": "code",
   "execution_count": 17,
   "metadata": {},
   "outputs": [],
   "source": [
    "from convokit import Corpus, download, HyperConvo"
   ]
  },
  {
   "cell_type": "code",
   "execution_count": 148,
   "metadata": {},
   "outputs": [
    {
     "name": "stdout",
     "output_type": "stream",
     "text": [
      "Dataset already exists at /Users/calebchiam/.convokit/downloads/reddit-corpus\n"
     ]
    }
   ],
   "source": [
    "corpus = Corpus(download('reddit-corpus'))"
   ]
  },
  {
   "cell_type": "code",
   "execution_count": 150,
   "metadata": {},
   "outputs": [
    {
     "name": "stdout",
     "output_type": "stream",
     "text": [
      "Number of Speakers: 521777\n",
      "Number of Utterances: 2004262\n",
      "Number of Conversations: 84979\n"
     ]
    }
   ],
   "source": [
    "corpus.print_summary_stats()"
   ]
  },
  {
   "cell_type": "code",
   "execution_count": 155,
   "metadata": {},
   "outputs": [],
   "source": [
    "convo = corpus.random_conversation()"
   ]
  },
  {
   "cell_type": "code",
   "execution_count": 158,
   "metadata": {},
   "outputs": [
    {
     "name": "stdout",
     "output_type": "stream",
     "text": [
      "Checking reply-to chain of Conversation 8v9iko\n",
      "\u001b[91mWARNING: \u001b[0mERROR: Missing utterance 8v9iko\n"
     ]
    },
    {
     "data": {
      "text/plain": [
       "False"
      ]
     },
     "execution_count": 158,
     "metadata": {},
     "output_type": "execute_result"
    }
   ],
   "source": [
    "convo.check_integrity()"
   ]
  },
  {
   "cell_type": "code",
   "execution_count": 159,
   "metadata": {},
   "outputs": [],
   "source": [
    "convo = corpus.get_conversation('7r2x7x')"
   ]
  },
  {
   "cell_type": "code",
   "execution_count": 161,
   "metadata": {},
   "outputs": [],
   "source": [
    "convo_ids = set(corpus.get_conversation_ids())"
   ]
  },
  {
   "cell_type": "code",
   "execution_count": 168,
   "metadata": {},
   "outputs": [],
   "source": [
    "from convokit import Utterance, Speaker"
   ]
  },
  {
   "cell_type": "code",
   "execution_count": 169,
   "metadata": {},
   "outputs": [],
   "source": [
    "filler_utts = [Utterance(id=cid, conversation_id=cid, speaker=Speaker(id='534rehwh3h')) for cid in convo_ids]"
   ]
  },
  {
   "cell_type": "code",
   "execution_count": 170,
   "metadata": {},
   "outputs": [
    {
     "data": {
      "text/plain": [
       "<convokit.model.corpus.Corpus at 0x1651b79d0>"
      ]
     },
     "execution_count": 170,
     "metadata": {},
     "output_type": "execute_result"
    }
   ],
   "source": [
    "corpus.add_utterances(filler_utts, warnings=True, with_checks=False)"
   ]
  },
  {
   "cell_type": "code",
   "execution_count": 171,
   "metadata": {},
   "outputs": [
    {
     "name": "stdout",
     "output_type": "stream",
     "text": [
      "Number of Speakers: 521778\n",
      "Number of Utterances: 2089241\n",
      "Number of Conversations: 84979\n"
     ]
    }
   ],
   "source": [
    "corpus.print_summary_stats()"
   ]
  },
  {
   "cell_type": "code",
   "execution_count": 172,
   "metadata": {},
   "outputs": [],
   "source": [
    "top_level_comment_ids = [utt.id for utt in corpus.iter_utterances() if utt.reply_to in convo_ids]"
   ]
  },
  {
   "cell_type": "code",
   "execution_count": 173,
   "metadata": {},
   "outputs": [],
   "source": [
    "corpus = corpus.reindex_conversations(top_level_comment_ids)"
   ]
  },
  {
   "cell_type": "code",
   "execution_count": 174,
   "metadata": {},
   "outputs": [
    {
     "name": "stdout",
     "output_type": "stream",
     "text": [
      "Number of Speakers: 521777\n",
      "Number of Utterances: 2004262\n",
      "Number of Conversations: 100000\n"
     ]
    }
   ],
   "source": [
    "corpus.print_summary_stats()"
   ]
  },
  {
   "cell_type": "code",
   "execution_count": 175,
   "metadata": {},
   "outputs": [],
   "source": [
    "corpus.filter_conversations_by(lambda convo: len(list(convo.iter_utterances())) >= 20)"
   ]
  },
  {
   "cell_type": "code",
   "execution_count": 176,
   "metadata": {},
   "outputs": [
    {
     "name": "stdout",
     "output_type": "stream",
     "text": [
      "Number of Speakers: 344223\n",
      "Number of Utterances: 1085877\n",
      "Number of Conversations: 29487\n"
     ]
    }
   ],
   "source": [
    "corpus.print_summary_stats()"
   ]
  },
  {
   "cell_type": "code",
   "execution_count": 177,
   "metadata": {},
   "outputs": [],
   "source": [
    "for convo in corpus.iter_conversations():\n",
    "    for idx, utt in enumerate(convo.get_chronological_utterance_list()):\n",
    "        utt.meta['order'] = idx+1"
   ]
  },
  {
   "cell_type": "code",
   "execution_count": 178,
   "metadata": {},
   "outputs": [],
   "source": [
    "hc10 = HyperConvo(prefix_len=10, feat_name='hyperconvo-10')\n",
    "hc20 = HyperConvo(prefix_len=20, feat_name='hyperconvo-20')"
   ]
  },
  {
   "cell_type": "code",
   "execution_count": 179,
   "metadata": {},
   "outputs": [
    {
     "data": {
      "text/plain": [
       "<convokit.model.corpus.Corpus at 0x193828950>"
      ]
     },
     "execution_count": 179,
     "metadata": {},
     "output_type": "execute_result"
    }
   ],
   "source": [
    "hc10.fit_transform(corpus)\n",
    "hc20.fit_transform(corpus)"
   ]
  },
  {
   "cell_type": "code",
   "execution_count": 180,
   "metadata": {},
   "outputs": [
    {
     "data": {
      "text/plain": [
       "{'max[indegree over c->c responses]': 2,\n",
       " 'argmax[indegree over c->c responses]': 1,\n",
       " 'norm.max[indegree over c->c responses]': 0.2222222222222222,\n",
       " '2nd-largest[indegree over c->c responses]': 2,\n",
       " '2nd-argmax[indegree over c->c responses]': 3,\n",
       " 'norm.2nd-largest[indegree over c->c responses]': 0.2222222222222222,\n",
       " 'mean[indegree over c->c responses]': 0.9,\n",
       " 'mean-nonzero[indegree over c->c responses]': 1.2857142857142858,\n",
       " 'prop-nonzero[indegree over c->c responses]': 0.7,\n",
       " 'prop-multiple[indegree over c->c responses]': 0.2857142857142857,\n",
       " 'entropy[indegree over c->c responses]': 1.8891591637540217,\n",
       " '2nd-largest / max[indegree over c->c responses]': 1.0,\n",
       " 'max[outdegree over C->c responses]': 4,\n",
       " 'max[indegree over C->c responses]': 2,\n",
       " 'argmax[outdegree over C->c responses]': 1,\n",
       " 'argmax[indegree over C->c responses]': 1,\n",
       " 'norm.max[outdegree over C->c responses]': 0.4444444444444444,\n",
       " 'norm.max[indegree over C->c responses]': 0.2222222222222222,\n",
       " '2nd-largest[outdegree over C->c responses]': 2,\n",
       " '2nd-largest[indegree over C->c responses]': 2,\n",
       " '2nd-argmax[outdegree over C->c responses]': 4,\n",
       " '2nd-argmax[indegree over C->c responses]': 3,\n",
       " 'norm.2nd-largest[outdegree over C->c responses]': 0.2222222222222222,\n",
       " 'norm.2nd-largest[indegree over C->c responses]': 0.2222222222222222,\n",
       " 'mean[outdegree over C->c responses]': 1.5,\n",
       " 'mean[indegree over C->c responses]': 0.9,\n",
       " 'mean-nonzero[outdegree over C->c responses]': 1.8,\n",
       " 'mean-nonzero[indegree over C->c responses]': 1.2857142857142858,\n",
       " 'prop-nonzero[outdegree over C->c responses]': 0.8333333333333334,\n",
       " 'prop-nonzero[indegree over C->c responses]': 0.7,\n",
       " 'prop-multiple[outdegree over C->c responses]': 0.4,\n",
       " 'prop-multiple[indegree over C->c responses]': 0.2857142857142857,\n",
       " 'entropy[outdegree over C->c responses]': 1.4270610433807247,\n",
       " 'entropy[indegree over C->c responses]': 1.8891591637540217,\n",
       " '2nd-largest / max[outdegree over C->c responses]': 0.5,\n",
       " '2nd-largest / max[indegree over C->c responses]': 1.0,\n",
       " 'max[outdegree over C->C responses]': 3,\n",
       " 'max[indegree over C->C responses]': 4,\n",
       " 'argmax[outdegree over C->C responses]': 1,\n",
       " 'argmax[indegree over C->C responses]': 1,\n",
       " 'norm.max[outdegree over C->C responses]': 0.42857142857142855,\n",
       " 'norm.max[indegree over C->C responses]': 0.5714285714285714,\n",
       " '2nd-largest[outdegree over C->C responses]': 1,\n",
       " '2nd-largest[indegree over C->C responses]': 1,\n",
       " '2nd-argmax[outdegree over C->C responses]': 2,\n",
       " '2nd-argmax[indegree over C->C responses]': 0,\n",
       " 'norm.2nd-largest[outdegree over C->C responses]': 0.14285714285714285,\n",
       " 'norm.2nd-largest[indegree over C->C responses]': 0.14285714285714285,\n",
       " 'mean[outdegree over C->C responses]': 1.1666666666666667,\n",
       " 'mean[indegree over C->C responses]': 1.1666666666666667,\n",
       " 'mean-nonzero[outdegree over C->C responses]': 1.4,\n",
       " 'mean-nonzero[indegree over C->C responses]': 1.75,\n",
       " 'prop-nonzero[outdegree over C->C responses]': 0.8333333333333334,\n",
       " 'prop-nonzero[indegree over C->C responses]': 0.6666666666666666,\n",
       " 'prop-multiple[outdegree over C->C responses]': 0.2,\n",
       " 'prop-multiple[indegree over C->C responses]': 0.25,\n",
       " 'entropy[outdegree over C->C responses]': 1.4750763110546947,\n",
       " 'entropy[indegree over C->C responses]': 1.15374194270109,\n",
       " '2nd-largest / max[outdegree over C->C responses]': 0.3333333333333333,\n",
       " '2nd-largest / max[indegree over C->C responses]': 0.25,\n",
       " 'is-present[reciprocity motif]': True,\n",
       " 'count[reciprocity motif]': 3,\n",
       " 'is-present[external reciprocity motif]': True,\n",
       " 'count[external reciprocity motif]': 5,\n",
       " 'is-present[dyadic interaction motif]': True,\n",
       " 'count[dyadic interaction motif]': 2,\n",
       " 'is-present[incoming triads]': True,\n",
       " 'count[incoming triads]': 6,\n",
       " 'is-present[outgoing triads]': True,\n",
       " 'count[outgoing triads]': 3,\n",
       " 'max[indegree over c->c mid-thread responses]': 2,\n",
       " 'argmax[indegree over c->c mid-thread responses]': 0,\n",
       " 'norm.max[indegree over c->c mid-thread responses]': 0.25,\n",
       " '2nd-largest[indegree over c->c mid-thread responses]': 2,\n",
       " '2nd-argmax[indegree over c->c mid-thread responses]': 2,\n",
       " 'norm.2nd-largest[indegree over c->c mid-thread responses]': 0.25,\n",
       " 'mean[indegree over c->c mid-thread responses]': 0.8888888888888888,\n",
       " 'mean-nonzero[indegree over c->c mid-thread responses]': 1.3333333333333333,\n",
       " 'prop-nonzero[indegree over c->c mid-thread responses]': 0.6666666666666666,\n",
       " 'prop-multiple[indegree over c->c mid-thread responses]': 0.3333333333333333,\n",
       " 'entropy[indegree over c->c mid-thread responses]': 1.732867951399863,\n",
       " '2nd-largest / max[indegree over c->c mid-thread responses]': 1.0,\n",
       " 'max[outdegree over C->c mid-thread responses]': 3,\n",
       " 'max[indegree over C->c mid-thread responses]': 2,\n",
       " 'argmax[outdegree over C->c mid-thread responses]': 0,\n",
       " 'argmax[indegree over C->c mid-thread responses]': 0,\n",
       " 'norm.max[outdegree over C->c mid-thread responses]': 0.375,\n",
       " 'norm.max[indegree over C->c mid-thread responses]': 0.25,\n",
       " '2nd-largest[outdegree over C->c mid-thread responses]': 2,\n",
       " '2nd-largest[indegree over C->c mid-thread responses]': 2,\n",
       " '2nd-argmax[outdegree over C->c mid-thread responses]': 3,\n",
       " '2nd-argmax[indegree over C->c mid-thread responses]': 2,\n",
       " 'norm.2nd-largest[outdegree over C->c mid-thread responses]': 0.25,\n",
       " 'norm.2nd-largest[indegree over C->c mid-thread responses]': 0.25,\n",
       " 'mean[outdegree over C->c mid-thread responses]': 1.6,\n",
       " 'mean[indegree over C->c mid-thread responses]': 0.8888888888888888,\n",
       " 'mean-nonzero[outdegree over C->c mid-thread responses]': 1.6,\n",
       " 'mean-nonzero[indegree over C->c mid-thread responses]': 1.3333333333333333,\n",
       " 'prop-nonzero[outdegree over C->c mid-thread responses]': 1.0,\n",
       " 'prop-nonzero[indegree over C->c mid-thread responses]': 0.6666666666666666,\n",
       " 'prop-multiple[outdegree over C->c mid-thread responses]': 0.4,\n",
       " 'prop-multiple[indegree over C->c mid-thread responses]': 0.3333333333333333,\n",
       " 'entropy[outdegree over C->c mid-thread responses]': 1.4941751382893085,\n",
       " 'entropy[indegree over C->c mid-thread responses]': 1.732867951399863,\n",
       " '2nd-largest / max[outdegree over C->c mid-thread responses]': 0.6666666666666666,\n",
       " '2nd-largest / max[indegree over C->c mid-thread responses]': 1.0,\n",
       " 'max[outdegree over C->C mid-thread responses]': 2,\n",
       " 'max[indegree over C->C mid-thread responses]': 4,\n",
       " 'argmax[outdegree over C->C mid-thread responses]': 0,\n",
       " 'argmax[indegree over C->C mid-thread responses]': 0,\n",
       " 'norm.max[outdegree over C->C mid-thread responses]': 0.3333333333333333,\n",
       " 'norm.max[indegree over C->C mid-thread responses]': 0.6666666666666666,\n",
       " '2nd-largest[outdegree over C->C mid-thread responses]': 1,\n",
       " '2nd-largest[indegree over C->C mid-thread responses]': 1,\n",
       " '2nd-argmax[outdegree over C->C mid-thread responses]': 1,\n",
       " '2nd-argmax[indegree over C->C mid-thread responses]': 1,\n",
       " 'norm.2nd-largest[outdegree over C->C mid-thread responses]': 0.16666666666666666,\n",
       " 'norm.2nd-largest[indegree over C->C mid-thread responses]': 0.16666666666666666,\n",
       " 'mean[outdegree over C->C mid-thread responses]': 1.2,\n",
       " 'mean[indegree over C->C mid-thread responses]': 1.2,\n",
       " 'mean-nonzero[outdegree over C->C mid-thread responses]': 1.2,\n",
       " 'mean-nonzero[indegree over C->C mid-thread responses]': 2.0,\n",
       " 'prop-nonzero[outdegree over C->C mid-thread responses]': 1.0,\n",
       " 'prop-nonzero[indegree over C->C mid-thread responses]': 0.6,\n",
       " 'prop-multiple[outdegree over C->C mid-thread responses]': 0.2,\n",
       " 'prop-multiple[indegree over C->C mid-thread responses]': 0.3333333333333333,\n",
       " 'entropy[outdegree over C->C mid-thread responses]': 1.5607104090414063,\n",
       " 'entropy[indegree over C->C mid-thread responses]': 0.8675632284814612,\n",
       " '2nd-largest / max[outdegree over C->C mid-thread responses]': 0.5,\n",
       " '2nd-largest / max[indegree over C->C mid-thread responses]': 0.25,\n",
       " 'is-present[reciprocity motif over mid-thread]': True,\n",
       " 'count[reciprocity motif over mid-thread]': 3,\n",
       " 'is-present[external reciprocity motif over mid-thread]': True,\n",
       " 'count[external reciprocity motif over mid-thread]': 3,\n",
       " 'is-present[dyadic interaction motif over mid-thread]': True,\n",
       " 'count[dyadic interaction motif over mid-thread]': 2,\n",
       " 'is-present[incoming triads over mid-thread]': True,\n",
       " 'count[incoming triads over mid-thread]': 6,\n",
       " 'is-present[outgoing triads over mid-thread]': True,\n",
       " 'count[outgoing triads over mid-thread]': 1}"
      ]
     },
     "execution_count": 180,
     "metadata": {},
     "output_type": "execute_result"
    }
   ],
   "source": [
    "corpus.random_conversation().meta['hyperconvo-10']"
   ]
  },
  {
   "cell_type": "code",
   "execution_count": 181,
   "metadata": {},
   "outputs": [],
   "source": [
    "corpus.dump('annotated-reddit-corpus', base_path='convokit/tensor_decomposer/experiments')"
   ]
  },
  {
   "cell_type": "markdown",
   "metadata": {},
   "source": [
    "## Group 1: focused -> expansionary"
   ]
  },
  {
   "cell_type": "code",
   "execution_count": 380,
   "metadata": {},
   "outputs": [],
   "source": [
    "def group1(convo):\n",
    "    return convo.meta['hyperconvo-10']['max[indegree over C->c responses]'] <= 3 and \\\n",
    "           convo.meta['hyperconvo-20']['max[indegree over C->c responses]'] >= 7"
   ]
  },
  {
   "cell_type": "code",
   "execution_count": 382,
   "metadata": {},
   "outputs": [
    {
     "name": "stdout",
     "output_type": "stream",
     "text": [
      "585\n"
     ]
    }
   ],
   "source": [
    "group1_convos = list(corpus.iter_conversations(group1))\n",
    "print(len(group1_convos))"
   ]
  },
  {
   "cell_type": "code",
   "execution_count": 385,
   "metadata": {},
   "outputs": [
    {
     "name": "stdout",
     "output_type": "stream",
     "text": [
      "1. kittylovesblog\n",
      "    2. blubeeds\n",
      "    3. pookskii\n",
      "        4. kittylovesblog\n",
      "            5. pookskii\n",
      "                6. kittylovesblog\n",
      "            7. 4b3ats\n",
      "                8. kittylovesblog\n",
      "                    9. 4b3ats\n",
      "            13. ashley_the_otter\n",
      "            15. scorpiohkg\n",
      "    10. BrandNewSidewalk\n",
      "        11. kittylovesblog\n",
      "            19. memebigboiii\n",
      "    12. Saynotoshityouhate\n",
      "        14. pottymouthgrl\n",
      "    16. [deleted]\n",
      "    17. cheu\n",
      "    18. memebigboiii\n",
      "    20. kittymeowmixi\n"
     ]
    }
   ],
   "source": [
    "group1_convos[50].print_conversation_structure(lambda utt: str(utt.meta['order']) + \". \" + utt.speaker.id, limit=20)"
   ]
  },
  {
   "cell_type": "code",
   "execution_count": null,
   "metadata": {},
   "outputs": [],
   "source": []
  },
  {
   "cell_type": "markdown",
   "metadata": {},
   "source": [
    "## Group 2: expansionary -> focused"
   ]
  },
  {
   "cell_type": "code",
   "execution_count": 280,
   "metadata": {},
   "outputs": [],
   "source": [
    "def group2(convo):\n",
    "    hc10 = convo.meta['hyperconvo-10']\n",
    "    hc20 = convo.meta['hyperconvo-20']\n",
    "    return hc10['count[external reciprocity motif]'] + hc10['count[reciprocity motif]'] <= 3 and \\\n",
    "        hc20['count[external reciprocity motif]'] + hc20['count[reciprocity motif]'] >= 11"
   ]
  },
  {
   "cell_type": "code",
   "execution_count": 283,
   "metadata": {},
   "outputs": [],
   "source": [
    "group2_convos = list(corpus.iter_conversations(group2))"
   ]
  },
  {
   "cell_type": "code",
   "execution_count": 284,
   "metadata": {},
   "outputs": [
    {
     "data": {
      "text/plain": [
       "986"
      ]
     },
     "execution_count": 284,
     "metadata": {},
     "output_type": "execute_result"
    }
   ],
   "source": [
    "len(group2_convos)"
   ]
  },
  {
   "cell_type": "code",
   "execution_count": 285,
   "metadata": {},
   "outputs": [
    {
     "name": "stdout",
     "output_type": "stream",
     "text": [
      "1. xThe-Legend-Killerx\n",
      "    2. Shamrock5\n",
      "    3. LukeNeverShaves\n",
      "    4. Mister_Jay_Peg\n",
      "        8. sirtinykins\n",
      "            9. Mister_Jay_Peg\n",
      "            12. awakins\n",
      "                13. Jasmith85\n",
      "                    14. awakins\n",
      "                        15. Jasmith85\n",
      "                            16. awakins\n",
      "                                17. Jasmith85\n",
      "                                    18. awakins\n",
      "            19. HurricaneErickson\n",
      "            20. Falconinati\n",
      "    5. fronkensteen\n",
      "    6. IrishFuryHD\n",
      "    7. Catdaddypanther97\n",
      "    10. BukkakeKing69\n",
      "    11. Bigforsumthin\n"
     ]
    }
   ],
   "source": [
    "group2_convos[10].print_conversation_structure(lambda utt: str(utt.meta['order']) + \". \" + utt.speaker.id, limit=20)"
   ]
  },
  {
   "cell_type": "markdown",
   "metadata": {},
   "source": [
    "## Group 3"
   ]
  },
  {
   "cell_type": "code",
   "execution_count": 267,
   "metadata": {},
   "outputs": [],
   "source": [
    "def group3(convo):\n",
    "    return convo.meta['hyperconvo-10']['count[reciprocity motif]'] >= 7 and \\\n",
    "           convo.meta['hyperconvo-20']['count[reciprocity motif]'] >= 16"
   ]
  },
  {
   "cell_type": "code",
   "execution_count": 268,
   "metadata": {},
   "outputs": [
    {
     "name": "stdout",
     "output_type": "stream",
     "text": [
      "1262\n"
     ]
    }
   ],
   "source": [
    "group3_convos = list(corpus.iter_conversations(group3))\n",
    "print(len(group3_convos))"
   ]
  },
  {
   "cell_type": "code",
   "execution_count": 269,
   "metadata": {},
   "outputs": [
    {
     "name": "stdout",
     "output_type": "stream",
     "text": [
      "1. Agent_Phantom\n",
      "    2. phillwilk\n",
      "        3. Agent_Phantom\n",
      "            4. phillwilk\n",
      "                5. Agent_Phantom\n",
      "                    6. phillwilk\n",
      "                        7. Agent_Phantom\n",
      "                            8. phillwilk\n",
      "                                9. Agent_Phantom\n",
      "                                    10. phillwilk\n",
      "                                        11. Agent_Phantom\n",
      "                                            12. phillwilk\n",
      "                                                14. Agent_Phantom\n",
      "                                            13. phillwilk\n",
      "                                                15. Agent_Phantom\n",
      "                                                    16. phillwilk\n",
      "                                                    17. phillwilk\n",
      "                                                        18. Agent_Phantom\n",
      "                                                            19. phillwilk\n",
      "                                                            20. phillwilk\n"
     ]
    }
   ],
   "source": [
    "group3_convos[100].print_conversation_structure(lambda utt: str(utt.meta['order']) + \". \" + utt.speaker.id, limit=20)"
   ]
  },
  {
   "cell_type": "markdown",
   "metadata": {},
   "source": [
    "## Constructing corpus"
   ]
  },
  {
   "cell_type": "code",
   "execution_count": 387,
   "metadata": {},
   "outputs": [
    {
     "data": {
      "text/plain": [
       "585"
      ]
     },
     "execution_count": 387,
     "metadata": {},
     "output_type": "execute_result"
    }
   ],
   "source": [
    "len(group1_convos)"
   ]
  },
  {
   "cell_type": "code",
   "execution_count": 388,
   "metadata": {},
   "outputs": [
    {
     "data": {
      "text/plain": [
       "986"
      ]
     },
     "execution_count": 388,
     "metadata": {},
     "output_type": "execute_result"
    }
   ],
   "source": [
    "len(group2_convos)"
   ]
  },
  {
   "cell_type": "code",
   "execution_count": 389,
   "metadata": {},
   "outputs": [
    {
     "data": {
      "text/plain": [
       "1262"
      ]
     },
     "execution_count": 389,
     "metadata": {},
     "output_type": "execute_result"
    }
   ],
   "source": [
    "len(group3_convos)"
   ]
  },
  {
   "cell_type": "code",
   "execution_count": 392,
   "metadata": {},
   "outputs": [],
   "source": [
    "group1_ids = set([c.id for c in group1_convos])\n",
    "group2_ids = set([c.id for c in group2_convos])\n",
    "group3_ids = set([c.id for c in group3_convos])"
   ]
  },
  {
   "cell_type": "code",
   "execution_count": 393,
   "metadata": {},
   "outputs": [
    {
     "data": {
      "text/plain": [
       "set()"
      ]
     },
     "execution_count": 393,
     "metadata": {},
     "output_type": "execute_result"
    }
   ],
   "source": [
    "group1_ids.intersection(group2_ids)"
   ]
  },
  {
   "cell_type": "code",
   "execution_count": 394,
   "metadata": {},
   "outputs": [
    {
     "data": {
      "text/plain": [
       "set()"
      ]
     },
     "execution_count": 394,
     "metadata": {},
     "output_type": "execute_result"
    }
   ],
   "source": [
    "group1_ids.intersection(group3_ids)"
   ]
  },
  {
   "cell_type": "code",
   "execution_count": 395,
   "metadata": {},
   "outputs": [
    {
     "data": {
      "text/plain": [
       "set()"
      ]
     },
     "execution_count": 395,
     "metadata": {},
     "output_type": "execute_result"
    }
   ],
   "source": [
    "group2_ids.intersection(group3_ids)"
   ]
  },
  {
   "cell_type": "markdown",
   "metadata": {},
   "source": [
    "A GOOD SIGN!"
   ]
  },
  {
   "cell_type": "markdown",
   "metadata": {},
   "source": [
    "Take 500 of each."
   ]
  },
  {
   "cell_type": "code",
   "execution_count": 399,
   "metadata": {},
   "outputs": [],
   "source": [
    "import random"
   ]
  },
  {
   "cell_type": "code",
   "execution_count": 404,
   "metadata": {},
   "outputs": [],
   "source": [
    "subset = random.sample(group1_ids, 500) + random.sample(group2_ids, 500) + random.sample(group3_ids, 500)"
   ]
  },
  {
   "cell_type": "code",
   "execution_count": 405,
   "metadata": {},
   "outputs": [
    {
     "data": {
      "text/plain": [
       "1500"
      ]
     },
     "execution_count": 405,
     "metadata": {},
     "output_type": "execute_result"
    }
   ],
   "source": [
    "len(subset)"
   ]
  },
  {
   "cell_type": "code",
   "execution_count": 415,
   "metadata": {},
   "outputs": [
    {
     "data": {
      "text/plain": [
       "['e52fu0v',\n",
       " 'e6r170g',\n",
       " 'e4cm58e',\n",
       " 'dxsbfq9',\n",
       " 'dxh8854',\n",
       " 'e4y96kr',\n",
       " 'dsefjnn',\n",
       " 'dwb23hx',\n",
       " 'drc2ksp',\n",
       " 'dy1rgnx',\n",
       " 'dxu23iw',\n",
       " 'dtv9az1',\n",
       " 'dsmsvnm',\n",
       " 'dwc91r8',\n",
       " 'drocyz9',\n",
       " 'dr0ax0m',\n",
       " 'dujz8rf',\n",
       " 'e11uho6',\n",
       " 'dvvmuin',\n",
       " 'dxobldc',\n",
       " 'dt9rqjd',\n",
       " 'dxbictg',\n",
       " 'dyl9bqb',\n",
       " 'duemcw2',\n",
       " 'dycl6m1',\n",
       " 'dut3hlq',\n",
       " 'e0lse3v',\n",
       " 'du495kg',\n",
       " 'dptxn0g',\n",
       " 'e0u7dic',\n",
       " 'dum4yjh',\n",
       " 'dyf6bq7',\n",
       " 'dzr9tp1',\n",
       " 'e2weero',\n",
       " 'dpeif8u',\n",
       " 'e0e7lv7',\n",
       " 'dr889x6',\n",
       " 'dzjictc',\n",
       " 'e69zt8p',\n",
       " 'e6v7ky2',\n",
       " 'e2v73dk',\n",
       " 'drlg81q',\n",
       " 'e1l1i35',\n",
       " 'dtk0vvh',\n",
       " 'dzca4kq',\n",
       " 'dtoalms',\n",
       " 'e5livao',\n",
       " 'dw3qe5c',\n",
       " 'dss2gre',\n",
       " 'dtomh1s',\n",
       " 'e1ccuqb',\n",
       " 'dsvtmn6',\n",
       " 'dydw9s1',\n",
       " 'e29lu91',\n",
       " 'e0ts652',\n",
       " 'e38uef0',\n",
       " 'dsrzn3d',\n",
       " 'dw2ht9e',\n",
       " 'dv91ssg',\n",
       " 'e0pg1jb',\n",
       " 'e6wmhxx',\n",
       " 'dq8l354',\n",
       " 'e0zubyt',\n",
       " 'e64xnrb',\n",
       " 'doet1o7',\n",
       " 'do6c1aa',\n",
       " 'e170jcl',\n",
       " 'dp538uy',\n",
       " 'e6vh7fe',\n",
       " 'dqnbdgr',\n",
       " 'dnsp5ci',\n",
       " 'dyjuxox',\n",
       " 'dto2di9',\n",
       " 'dv56jpf',\n",
       " 'ds4g49j',\n",
       " 'e5qwney',\n",
       " 'e3v20et',\n",
       " 'e576gqe',\n",
       " 'e0xxbhd',\n",
       " 'dvvr86n',\n",
       " 'dpdzhk7',\n",
       " 'dr6oz31',\n",
       " 'e3o2j2z',\n",
       " 'duanl1p',\n",
       " 'dxghnhc',\n",
       " 'drxmisf',\n",
       " 'dverbvg',\n",
       " 'duxugq9',\n",
       " 'e6t36is',\n",
       " 'dtgxkwq',\n",
       " 'drcjh5q',\n",
       " 'e5vubyq',\n",
       " 'dnrjwvc',\n",
       " 'dwi45m8',\n",
       " 'dzly6z2',\n",
       " 'e3gv35b',\n",
       " 'dokl1os',\n",
       " 'e2i945b',\n",
       " 'dxasrn1',\n",
       " 'dydzsld',\n",
       " 'dw42sl9',\n",
       " 'dvty8yn',\n",
       " 'e08wypt',\n",
       " 'dshr6a0',\n",
       " 'e2b976i',\n",
       " 'dwbi85l',\n",
       " 'e6csw79',\n",
       " 'dvdt8ml',\n",
       " 'dv1d4bj',\n",
       " 'dr3m636',\n",
       " 'dntvatf',\n",
       " 'dpp9al5',\n",
       " 'e19egwy',\n",
       " 'dpmor4i',\n",
       " 'dq2f7xl',\n",
       " 'e2frvzb',\n",
       " 'e6945r2',\n",
       " 'dochtpc',\n",
       " 'dpapw9b',\n",
       " 'e3k7sba',\n",
       " 'dnv1i3w',\n",
       " 'e5gfa1e',\n",
       " 'dxgyn6d',\n",
       " 'dqqptwn',\n",
       " 'dtck2o3',\n",
       " 'drtsefe',\n",
       " 'e18ofoj',\n",
       " 'dt09kwt',\n",
       " 'dv3znx7',\n",
       " 'dv0md3w',\n",
       " 'dvegrmz',\n",
       " 'dq1ddjr',\n",
       " 'dzq832f',\n",
       " 'e4z659k',\n",
       " 'donxxp8',\n",
       " 'drycoyr',\n",
       " 'dtq742g',\n",
       " 'e6patdn',\n",
       " 'e414rtb',\n",
       " 'dssf0fr',\n",
       " 'dv4y9ak',\n",
       " 'e11n49b',\n",
       " 'dp3p457',\n",
       " 'dwt8mq9',\n",
       " 'e1bp70p',\n",
       " 'dwt737u',\n",
       " 'dvhx95o',\n",
       " 'e6jly2g',\n",
       " 'e6gp682',\n",
       " 'dws7m7s',\n",
       " 'dq2t8o7',\n",
       " 'dvosh3f',\n",
       " 'dzy0l5d',\n",
       " 'dw1izh7',\n",
       " 'dy4imkb',\n",
       " 'dsqru9r',\n",
       " 'dqxeplj',\n",
       " 'dqclo3y',\n",
       " 'dratnij',\n",
       " 'dyjxd95',\n",
       " 'e6n2hnu',\n",
       " 'dykween',\n",
       " 'e2ikrox',\n",
       " 'dorxa9d',\n",
       " 'drlxjx4',\n",
       " 'duex1my',\n",
       " 'dw74c03',\n",
       " 'dokad2u',\n",
       " 'dsktn2i',\n",
       " 'e0579t4',\n",
       " 'e4z1lbv',\n",
       " 'dtyghwb',\n",
       " 'dqasn24',\n",
       " 'e32v739',\n",
       " 'dt7xxe1',\n",
       " 'e3tqi4g',\n",
       " 'dobnm5q',\n",
       " 'duttejp',\n",
       " 'e2nqoh3',\n",
       " 'dsdeezl',\n",
       " 'dv4a74g',\n",
       " 'doultl4',\n",
       " 'dpby0h8',\n",
       " 'dv60arp',\n",
       " 'dqni9le',\n",
       " 'dtcadlj',\n",
       " 'dx8po5h',\n",
       " 'e6a13gy',\n",
       " 'e60rw82',\n",
       " 'e0wzb54',\n",
       " 'dx9nisz',\n",
       " 'dtklx18',\n",
       " 'e6fe0bz',\n",
       " 'e332m2z',\n",
       " 'dsz401a',\n",
       " 'dzpn6ey',\n",
       " 'dwvrglv',\n",
       " 'ds180nn',\n",
       " 'e14fkpo',\n",
       " 'e635nh8',\n",
       " 'dw9mndg',\n",
       " 'e1l7x07',\n",
       " 'dxvtr9m',\n",
       " 'dxg5uaq',\n",
       " 'driuopl',\n",
       " 'dqvp3p0',\n",
       " 'e0p157b',\n",
       " 'e02iq8i',\n",
       " 'dpkssdt',\n",
       " 'dqg1p3t',\n",
       " 'e5yzpyx',\n",
       " 'dxypbp8',\n",
       " 'dpuu2g4',\n",
       " 'e1fec3g',\n",
       " 'dq7s7ay',\n",
       " 'dtvrc3u',\n",
       " 'e1llvq1',\n",
       " 'dw0hibo',\n",
       " 'e4g2y1l',\n",
       " 'dx5xjw3',\n",
       " 'dw00vdm',\n",
       " 'e345bpa',\n",
       " 'e1q2aqn',\n",
       " 'dowdmyx',\n",
       " 'dpjq5vi',\n",
       " 'dnx8wpa',\n",
       " 'duefzso',\n",
       " 'dqaunrz',\n",
       " 'dzo0d3f',\n",
       " 'doxmj58',\n",
       " 'e5kis4y',\n",
       " 'e51pzos',\n",
       " 'dwlujmo',\n",
       " 'e5wuz48',\n",
       " 'drsyizi',\n",
       " 'e30dw8k',\n",
       " 'e6wgaq2',\n",
       " 'e6o6l23',\n",
       " 'duz8m35',\n",
       " 'e4fljpy',\n",
       " 'dqg5noq',\n",
       " 'e3ldar9',\n",
       " 'dpkmcbd',\n",
       " 'dw7eplg',\n",
       " 'dxl4iga',\n",
       " 'e2pbxyq',\n",
       " 'dvpee66',\n",
       " 'docr045',\n",
       " 'dwb83ed',\n",
       " 'e1pcdam',\n",
       " 'dq7h0wb',\n",
       " 'dz6nkzi',\n",
       " 'e53yc9k',\n",
       " 'dybmg7e',\n",
       " 'dpit3pq',\n",
       " 'dppernd',\n",
       " 'dpzhb0p',\n",
       " 'e4tlelc',\n",
       " 'dwxhgv6',\n",
       " 'dqrl37m',\n",
       " 'e1tvu2f',\n",
       " 'dxn3igw',\n",
       " 'dpo2227',\n",
       " 'dwixpt1',\n",
       " 'dz4dudm',\n",
       " 'e0ikq8p',\n",
       " 'dpspvc1',\n",
       " 'dxlhag8',\n",
       " 'drrxei0',\n",
       " 'dz81x7o',\n",
       " 'e4yyypf',\n",
       " 'e5ecft0',\n",
       " 'dtnypmf',\n",
       " 'dwd72p2',\n",
       " 'dpo0axv',\n",
       " 'dpj4sid',\n",
       " 'dnrpl12',\n",
       " 'dwim7ew',\n",
       " 'dp1qs91',\n",
       " 'e328mg4',\n",
       " 'e22boj8',\n",
       " 'dugi1ol',\n",
       " 'dtxjqzf',\n",
       " 'dsueuvk',\n",
       " 'dvv47kb',\n",
       " 'dr9efd2',\n",
       " 'e5e8i5k',\n",
       " 'dyc3txv',\n",
       " 'e1vrzzu',\n",
       " 'dstl5fw',\n",
       " 'dzlrl93',\n",
       " 'e6dqzek',\n",
       " 'e013zdj',\n",
       " 'dpalmoj',\n",
       " 'e6f0ec6',\n",
       " 'e6l9bnv',\n",
       " 'dw4lett',\n",
       " 'e0qh4zo',\n",
       " 'dsfx7cq',\n",
       " 'dut9dih',\n",
       " 'dsrnp95',\n",
       " 'dzg7got',\n",
       " 'dqcj7l2',\n",
       " 'dv0up7q',\n",
       " 'dpm3uyt',\n",
       " 'dulzaa5',\n",
       " 'dsbiszq',\n",
       " 'e2y2s4z',\n",
       " 'dpux8uh',\n",
       " 'e2fvgqd',\n",
       " 'dy0nszy',\n",
       " 'dzfmmk9',\n",
       " 'dwe1k9a',\n",
       " 'e03o41z',\n",
       " 'dp901eu',\n",
       " 'durd982',\n",
       " 'e2gh38r',\n",
       " 'e1arjps',\n",
       " 'drbxlnz',\n",
       " 'e23719f',\n",
       " 'dz7co77',\n",
       " 'dotr1ku',\n",
       " 'e2ivy5k',\n",
       " 'dxzy426',\n",
       " 'e1s7vf2',\n",
       " 'dofaw5b',\n",
       " 'e32i3wk',\n",
       " 'dukby0g',\n",
       " 'dxcxh2x',\n",
       " 'e2pt1jw',\n",
       " 'e1r83jv',\n",
       " 'dxu1nvu',\n",
       " 'e0v41xw',\n",
       " 'dstt6u3',\n",
       " 'duyqtkv',\n",
       " 'e68845v',\n",
       " 'e2jvr14',\n",
       " 'e5wn190',\n",
       " 'dzzqgf9',\n",
       " 'e2zadkk',\n",
       " 'e0hl79p',\n",
       " 'dsg5yq4',\n",
       " 'dvbdyrj',\n",
       " 'e1ex6zs',\n",
       " 'e45n443',\n",
       " 'dq6c62n',\n",
       " 'drwlx87',\n",
       " 'dsx5vi9',\n",
       " 'dogsbnq',\n",
       " 'dztmm2m',\n",
       " 'dr1uyq3',\n",
       " 'dt6fqan',\n",
       " 'dz8nv92',\n",
       " 'dqza74l',\n",
       " 'dp7c4y1',\n",
       " 'dt4w6zh',\n",
       " 'dtbprkr',\n",
       " 'e2qbdf2',\n",
       " 'e3dj472',\n",
       " 'e42jlco',\n",
       " 'dp5964y',\n",
       " 'e6451hd',\n",
       " 'dxi1mpd',\n",
       " 'dp0zu7s',\n",
       " 'e1vw6cw',\n",
       " 'doxbla5',\n",
       " 'do4k3tk',\n",
       " 'dz8ysmu',\n",
       " 'e5i2p9a',\n",
       " 'dwz25eu',\n",
       " 'e5iypr3',\n",
       " 'e20bspo',\n",
       " 'e5zf7fr',\n",
       " 'e6pfvuq',\n",
       " 'dudiiym',\n",
       " 'dxtwg21',\n",
       " 'dplehml',\n",
       " 'e2ydwat',\n",
       " 'dohojtw',\n",
       " 'drfywpk',\n",
       " 'dwwan5r',\n",
       " 'dvbmbx3',\n",
       " 'dqg9ak5',\n",
       " 'e4vdq8m',\n",
       " 'e326cyy',\n",
       " 'dp63og7',\n",
       " 'dy34kiw',\n",
       " 'dxuayxs',\n",
       " 'druibhq',\n",
       " 'dwi3o31',\n",
       " 'dsj3hhy',\n",
       " 'dzznz7s',\n",
       " 'dreq445',\n",
       " 'e0eydo1',\n",
       " 'e2dkhlt',\n",
       " 'e19rkem',\n",
       " 'dzjxqum',\n",
       " 'ds3ud2m',\n",
       " 'e3pe21o',\n",
       " 'dvqo47e',\n",
       " 'dzql05s',\n",
       " 'dxanfyk',\n",
       " 'dp1b6l0',\n",
       " 'e2fjdps',\n",
       " 'e2e13h2',\n",
       " 'e0o4ytz',\n",
       " 'dvbau4p',\n",
       " 'dz98v1h',\n",
       " 'e4fucpm',\n",
       " 'e2do7jl',\n",
       " 'dqc07ns',\n",
       " 'dxtrds8',\n",
       " 'dx8td44',\n",
       " 'dtz5dh2',\n",
       " 'e5mhgb5',\n",
       " 'dtvmmwp',\n",
       " 'e09xaaw',\n",
       " 'dp1egj3',\n",
       " 'dvdw9fa',\n",
       " 'e0v43kp',\n",
       " 'e46591u',\n",
       " 'do346pg',\n",
       " 'dtd2no2',\n",
       " 'e1wjltq',\n",
       " 'dubw9zv',\n",
       " 'e5jp30s',\n",
       " 'e13tchn',\n",
       " 'du85br0',\n",
       " 'dr3pusm',\n",
       " 'e3a5gm8',\n",
       " 'e62c9eb',\n",
       " 'duzowq2',\n",
       " 'e4rwtm0',\n",
       " 'e3bf5ap',\n",
       " 'dzg0j9d',\n",
       " 'dw808kk',\n",
       " 'dyjrbpc',\n",
       " 'dvy12hn',\n",
       " 'e66wdb0',\n",
       " 'dpiy9dq',\n",
       " 'dpwppce',\n",
       " 'e1dq3o5',\n",
       " 'e4mo315',\n",
       " 'dsdij2r',\n",
       " 'e42w1ps',\n",
       " 'dq0cnt0',\n",
       " 'e5iou18',\n",
       " 'e1drq6x',\n",
       " 'e5ep1xh',\n",
       " 'dzyc592',\n",
       " 'dpks1wj',\n",
       " 'dxeml11',\n",
       " 'dpi64db',\n",
       " 'dw9gl3k',\n",
       " 'dqb24mj',\n",
       " 'e474vsa',\n",
       " 'dup4jn5',\n",
       " 'dnss2m0',\n",
       " 'dqkg9yr',\n",
       " 'dv2sw85',\n",
       " 'dvosvdy',\n",
       " 'dt4f0tt',\n",
       " 'dpbs5u2',\n",
       " 'e4khu5s',\n",
       " 'dxmn8u3',\n",
       " 'dp8xy12',\n",
       " 'ds3zgeo',\n",
       " 'dzr6key',\n",
       " 'e4xu1wk',\n",
       " 'e5wxobu',\n",
       " 'dtp2dep',\n",
       " 'docpqjh',\n",
       " 'dyo7pyw',\n",
       " 'dz5piqt',\n",
       " 'e02a97k',\n",
       " 'e4td5a0',\n",
       " 'e4s4zy6',\n",
       " 'dr57l2f',\n",
       " 'dzzri9s',\n",
       " 'dufzhhr',\n",
       " 'e5trcym',\n",
       " 'dtlacy1',\n",
       " 'e5xrvgy',\n",
       " 'dpjs47n',\n",
       " 'dwcva3n',\n",
       " 'dq44osk',\n",
       " 'duv53om',\n",
       " 'dttl5dm',\n",
       " 'dtrkvxk',\n",
       " 'e3w87kr',\n",
       " 'e1c5mem',\n",
       " 'e2hdo3l',\n",
       " 'e2np6m3',\n",
       " 'e4whlwq',\n",
       " 'dw64k7y',\n",
       " 'e3ohbu9',\n",
       " 'e25s3y3',\n",
       " 'du5g53i',\n",
       " 'dtk4pgd',\n",
       " 'doif9fm']"
      ]
     },
     "execution_count": 415,
     "metadata": {},
     "output_type": "execute_result"
    }
   ],
   "source": [
    "list(subset)[:500]"
   ]
  },
  {
   "cell_type": "code",
   "execution_count": 416,
   "metadata": {},
   "outputs": [
    {
     "data": {
      "text/plain": [
       "{'dnr6ggh',\n",
       " 'dnrjwvc',\n",
       " 'dnrpl12',\n",
       " 'dnsks1t',\n",
       " 'dnthzsj',\n",
       " 'dntjcdw',\n",
       " 'dntvatf',\n",
       " 'dnurgxw',\n",
       " 'dnvkdiz',\n",
       " 'dnw0av2',\n",
       " 'dnwql4a',\n",
       " 'dnxsq99',\n",
       " 'dnxw04f',\n",
       " 'dnzy2nx',\n",
       " 'do09ju8',\n",
       " 'do170c7',\n",
       " 'do1gaz8',\n",
       " 'do3dley',\n",
       " 'do3w4z8',\n",
       " 'do40096',\n",
       " 'do4i0os',\n",
       " 'do4qdq7',\n",
       " 'do6rzmu',\n",
       " 'do7sxpz',\n",
       " 'do8fd2x',\n",
       " 'doanp28',\n",
       " 'dobnm5q',\n",
       " 'dobntas',\n",
       " 'docr045',\n",
       " 'dodzqpc',\n",
       " 'dofaw5b',\n",
       " 'dofqsue',\n",
       " 'dog0xh0',\n",
       " 'dog8pa7',\n",
       " 'dogsbnq',\n",
       " 'dokl1os',\n",
       " 'doob601',\n",
       " 'doqofd8',\n",
       " 'dorxa9d',\n",
       " 'dot3uvf',\n",
       " 'douc90e',\n",
       " 'dowdmyx',\n",
       " 'dox4ecm',\n",
       " 'doxbla5',\n",
       " 'doxl9yv',\n",
       " 'doxmj58',\n",
       " 'doz2ed3',\n",
       " 'dp0zu7s',\n",
       " 'dp1qs91',\n",
       " 'dp3p457',\n",
       " 'dp7c4y1',\n",
       " 'dp8xy12',\n",
       " 'dp97kxy',\n",
       " 'dpalmoj',\n",
       " 'dpapw9b',\n",
       " 'dpdzhk7',\n",
       " 'dpgombj',\n",
       " 'dpgsp76',\n",
       " 'dpi64db',\n",
       " 'dpiy9dq',\n",
       " 'dpj4sid',\n",
       " 'dpjd805',\n",
       " 'dpkmcbd',\n",
       " 'dpks1wj',\n",
       " 'dplwhp2',\n",
       " 'dplwq40',\n",
       " 'dpm3uyt',\n",
       " 'dpmor4i',\n",
       " 'dpo0axv',\n",
       " 'dpo274i',\n",
       " 'dpo2f3m',\n",
       " 'dppernd',\n",
       " 'dpqsbsw',\n",
       " 'dptwfoi',\n",
       " 'dpu19f8',\n",
       " 'dpuu2g4',\n",
       " 'dpvn7vg',\n",
       " 'dpvnec4',\n",
       " 'dpwfjfk',\n",
       " 'dpx5itk',\n",
       " 'dq1ikcn',\n",
       " 'dq2pm5b',\n",
       " 'dq2t8o7',\n",
       " 'dq4q762',\n",
       " 'dq5023v',\n",
       " 'dq6c62n',\n",
       " 'dq6ix21',\n",
       " 'dq71wxz',\n",
       " 'dq8l354',\n",
       " 'dq9o2us',\n",
       " 'dqasn24',\n",
       " 'dqc3a67',\n",
       " 'dqcub12',\n",
       " 'dqd41fr',\n",
       " 'dqeio3s',\n",
       " 'dqewjsa',\n",
       " 'dqg5noq',\n",
       " 'dqh3p9h',\n",
       " 'dqhdvju',\n",
       " 'dqiwzfa',\n",
       " 'dqkebor',\n",
       " 'dqkg9yr',\n",
       " 'dql3a7o',\n",
       " 'dqlc88u',\n",
       " 'dqm119b',\n",
       " 'dqni9le',\n",
       " 'dqnlcss',\n",
       " 'dqnosf8',\n",
       " 'dqqptwn',\n",
       " 'dqrl37m',\n",
       " 'dqu3qk6',\n",
       " 'dqucsvn',\n",
       " 'dqvuij3',\n",
       " 'dqx1tc6',\n",
       " 'dqyoc45',\n",
       " 'dqztzqg',\n",
       " 'dr1uyq3',\n",
       " 'dr3m636',\n",
       " 'dr4v450',\n",
       " 'dr57l2f',\n",
       " 'dr6oz31',\n",
       " 'dr6u6pc',\n",
       " 'dr7yfld',\n",
       " 'dr8ws6k',\n",
       " 'drb4wis',\n",
       " 'drcjh5q',\n",
       " 'drcpqp6',\n",
       " 'drdgh90',\n",
       " 'drek0ec',\n",
       " 'drgve6d',\n",
       " 'drhq6f1',\n",
       " 'drlq4xm',\n",
       " 'drm50by',\n",
       " 'drm7qjv',\n",
       " 'drmeq6e',\n",
       " 'drmmv94',\n",
       " 'drocyz9',\n",
       " 'drp95zu',\n",
       " 'dru7drj',\n",
       " 'drv7an9',\n",
       " 'drw7n8e',\n",
       " 'drxmisf',\n",
       " 'drycoyr',\n",
       " 'ds04n5s',\n",
       " 'ds2dfe9',\n",
       " 'ds2dxk2',\n",
       " 'ds2u5ah',\n",
       " 'ds38rqg',\n",
       " 'ds39ati',\n",
       " 'ds3nou3',\n",
       " 'ds3yj75',\n",
       " 'ds5vwlf',\n",
       " 'ds70fok',\n",
       " 'ds729h7',\n",
       " 'ds7wbws',\n",
       " 'ds87ojv',\n",
       " 'ds8hram',\n",
       " 'dsdeezl',\n",
       " 'dsetbny',\n",
       " 'dsfrkik',\n",
       " 'dsfzwuq',\n",
       " 'dsjys58',\n",
       " 'dsk172u',\n",
       " 'dsmcw17',\n",
       " 'dsos68q',\n",
       " 'dss2gre',\n",
       " 'dsz401a',\n",
       " 'dt2k87h',\n",
       " 'dt4w6zh',\n",
       " 'dt50ic5',\n",
       " 'dt56jkf',\n",
       " 'dt6fqan',\n",
       " 'dt7xxe1',\n",
       " 'dt91e0v',\n",
       " 'dtak8lw',\n",
       " 'dtbprkr',\n",
       " 'dtcadlj',\n",
       " 'dtck2o3',\n",
       " 'dteqsc0',\n",
       " 'dteyc87',\n",
       " 'dtf4cjf',\n",
       " 'dti92k4',\n",
       " 'dtjzrse',\n",
       " 'dtlpxnl',\n",
       " 'dtmi65c',\n",
       " 'dtmltwu',\n",
       " 'dto2di9',\n",
       " 'dtomh1s',\n",
       " 'dtp2dep',\n",
       " 'dtpj9d2',\n",
       " 'dtpq6sj',\n",
       " 'dtq3b8o',\n",
       " 'dtq9tbh',\n",
       " 'dtqfld4',\n",
       " 'dts7tru',\n",
       " 'dtsz4ut',\n",
       " 'dtv2zzs',\n",
       " 'dtvgpvj',\n",
       " 'dtvmmwp',\n",
       " 'dtvrut8',\n",
       " 'dtvyb96',\n",
       " 'dtxqa71',\n",
       " 'dtz5dh2',\n",
       " 'du58t8z',\n",
       " 'du5g53i',\n",
       " 'du969nd',\n",
       " 'du97oye',\n",
       " 'dual6sb',\n",
       " 'duanl1p',\n",
       " 'dub1z3f',\n",
       " 'dub6hwd',\n",
       " 'dubi6lf',\n",
       " 'ducbr3s',\n",
       " 'dudiiym',\n",
       " 'due7vsj',\n",
       " 'duefzso',\n",
       " 'duemcw2',\n",
       " 'dufnv61',\n",
       " 'duhr18v',\n",
       " 'dui480e',\n",
       " 'dukby0g',\n",
       " 'dulgx46',\n",
       " 'dulzaa5',\n",
       " 'dum4yjh',\n",
       " 'dupaozq',\n",
       " 'duv53om',\n",
       " 'duw1g9v',\n",
       " 'duxugq9',\n",
       " 'duynodz',\n",
       " 'duyqtkv',\n",
       " 'duz8m35',\n",
       " 'duz93zb',\n",
       " 'duzowq2',\n",
       " 'duzwzlw',\n",
       " 'dv0cjdr',\n",
       " 'dv1wya1',\n",
       " 'dv31tx0',\n",
       " 'dv3znx7',\n",
       " 'dv4z3fy',\n",
       " 'dv56jpf',\n",
       " 'dv5dlnj',\n",
       " 'dv60arp',\n",
       " 'dv6cllw',\n",
       " 'dv6euwt',\n",
       " 'dv9wfvn',\n",
       " 'dvbdhqr',\n",
       " 'dvbt8ib',\n",
       " 'dvcqmh0',\n",
       " 'dvdcat5',\n",
       " 'dvdfbgs',\n",
       " 'dvegrmz',\n",
       " 'dvelb19',\n",
       " 'dvenxjg',\n",
       " 'dvfrdyd',\n",
       " 'dvhx95o',\n",
       " 'dvmxscc',\n",
       " 'dvosh3f',\n",
       " 'dvosvdy',\n",
       " 'dvpee66',\n",
       " 'dvqo47e',\n",
       " 'dvt5yuf',\n",
       " 'dvt96vk',\n",
       " 'dvuegdn',\n",
       " 'dvuj7p8',\n",
       " 'dvvr86n',\n",
       " 'dvvwcmc',\n",
       " 'dvxp6cm',\n",
       " 'dvy2u3q',\n",
       " 'dvyc5af',\n",
       " 'dvyq71r',\n",
       " 'dvz1itk',\n",
       " 'dw2ht9e',\n",
       " 'dw3qe5c',\n",
       " 'dw52yvv',\n",
       " 'dw8vpzm',\n",
       " 'dw9gl3k',\n",
       " 'dwavqki',\n",
       " 'dwb26fv',\n",
       " 'dwb83ed',\n",
       " 'dwc91r8',\n",
       " 'dwcva3n',\n",
       " 'dwd72p2',\n",
       " 'dwd7rh8',\n",
       " 'dwi3o31',\n",
       " 'dwiafmg',\n",
       " 'dwixpt1',\n",
       " 'dwlfuza',\n",
       " 'dwlujmo',\n",
       " 'dwnxd0e',\n",
       " 'dwpwoqr',\n",
       " 'dwpyxle',\n",
       " 'dwtiegv',\n",
       " 'dwwan5r',\n",
       " 'dwwzkfn',\n",
       " 'dwxge8e',\n",
       " 'dwxk01b',\n",
       " 'dwyvrde',\n",
       " 'dwz0r8l',\n",
       " 'dx0i833',\n",
       " 'dx1rfg8',\n",
       " 'dx2o9jk',\n",
       " 'dx3oela',\n",
       " 'dx40rzi',\n",
       " 'dx4isjs',\n",
       " 'dx5xjw3',\n",
       " 'dx6ipcm',\n",
       " 'dx6s2xo',\n",
       " 'dxa2ql9',\n",
       " 'dxanfyk',\n",
       " 'dxb87dx',\n",
       " 'dxbictg',\n",
       " 'dxc8zlw',\n",
       " 'dxfmzro',\n",
       " 'dxg5uaq',\n",
       " 'dxgyn6d',\n",
       " 'dxh8854',\n",
       " 'dxm7tn9',\n",
       " 'dxmdkma',\n",
       " 'dxmn8u3',\n",
       " 'dxn3igw',\n",
       " 'dxph340',\n",
       " 'dxsww3a',\n",
       " 'dxu1nvu',\n",
       " 'dxu7mr6',\n",
       " 'dxuayxs',\n",
       " 'dxvtr9m',\n",
       " 'dxvu9uh',\n",
       " 'dxwvjpa',\n",
       " 'dxy1qg6',\n",
       " 'dy0nszy',\n",
       " 'dy15nus',\n",
       " 'dy1b9ab',\n",
       " 'dy1m31z',\n",
       " 'dy52c3h',\n",
       " 'dy86lqi',\n",
       " 'dy9kt75',\n",
       " 'dy9lhn7',\n",
       " 'dybmg7e',\n",
       " 'dyc3txv',\n",
       " 'dycjynr',\n",
       " 'dydw9s1',\n",
       " 'dyf6zpq',\n",
       " 'dygnhp4',\n",
       " 'dyhd76e',\n",
       " 'dyhhc6m',\n",
       " 'dyjseyr',\n",
       " 'dyjxd95',\n",
       " 'dylpo0b',\n",
       " 'dymx7wt',\n",
       " 'dynm2gs',\n",
       " 'dyo7pyw',\n",
       " 'dyp24zt',\n",
       " 'dyqkp8y',\n",
       " 'dyr159w',\n",
       " 'dys6bdy',\n",
       " 'dyt0ntv',\n",
       " 'dyv0lop',\n",
       " 'dyvp9mu',\n",
       " 'dywo2ir',\n",
       " 'dyx72vv',\n",
       " 'dz0n0rp',\n",
       " 'dz4awt8',\n",
       " 'dz806fj',\n",
       " 'dz81x7o',\n",
       " 'dz8djq9',\n",
       " 'dz8x4tl',\n",
       " 'dzca4kq',\n",
       " 'dzctpl2',\n",
       " 'dzd6bue',\n",
       " 'dzdyfgx',\n",
       " 'dzef4ro',\n",
       " 'dzeq64o',\n",
       " 'dzf2dwh',\n",
       " 'dzg0j9d',\n",
       " 'dziu2kj',\n",
       " 'dzkbinu',\n",
       " 'dzkjeo6',\n",
       " 'dzknpkf',\n",
       " 'dzl7un8',\n",
       " 'dzl9qfa',\n",
       " 'dzlrl93',\n",
       " 'dznc9xn',\n",
       " 'dznrazi',\n",
       " 'dzo0d3f',\n",
       " 'dzotrb4',\n",
       " 'dzql05s',\n",
       " 'dzr6key',\n",
       " 'dzr9tp1',\n",
       " 'dzrqbmk',\n",
       " 'dztfawj',\n",
       " 'dztfrht',\n",
       " 'dzth7jl',\n",
       " 'dzw20ys',\n",
       " 'dzxa81w',\n",
       " 'dzxdrxs',\n",
       " 'dzxrdzu',\n",
       " 'dzy4ce8',\n",
       " 'dzznz7s',\n",
       " 'dzzqgf9',\n",
       " 'dzzri9s',\n",
       " 'e008mve',\n",
       " 'e021164',\n",
       " 'e0579t4',\n",
       " 'e05m9sh',\n",
       " 'e05og72',\n",
       " 'e05vrpy',\n",
       " 'e065av3',\n",
       " 'e06yh6a',\n",
       " 'e08wypt',\n",
       " 'e09lf3u',\n",
       " 'e0apvqn',\n",
       " 'e0egfrd',\n",
       " 'e0eydo1',\n",
       " 'e0fy7tw',\n",
       " 'e0hiw3g',\n",
       " 'e0hl79p',\n",
       " 'e0jeh7f',\n",
       " 'e0jlt4u',\n",
       " 'e0kozu5',\n",
       " 'e0mf583',\n",
       " 'e0mwbvc',\n",
       " 'e0o4ytz',\n",
       " 'e0ot1hd',\n",
       " 'e0rm5j0',\n",
       " 'e0ts652',\n",
       " 'e0wrvet',\n",
       " 'e0yruo8',\n",
       " 'e1053mb',\n",
       " 'e116wai',\n",
       " 'e11uho6',\n",
       " 'e13w6l9',\n",
       " 'e14fkpo',\n",
       " 'e15bzel',\n",
       " 'e17eg5w',\n",
       " 'e17urhm',\n",
       " 'e18ofoj',\n",
       " 'e1arjps',\n",
       " 'e1bp70p',\n",
       " 'e1dq3o5',\n",
       " 'e1drq6x',\n",
       " 'e1f8t3r',\n",
       " 'e1g9yye',\n",
       " 'e1h0w3p',\n",
       " 'e1ij666',\n",
       " 'e1kpe4t',\n",
       " 'e1l4hp5',\n",
       " 'e1l7x07',\n",
       " 'e1l864x',\n",
       " 'e1llvq1',\n",
       " 'e1pcdam',\n",
       " 'e1qnbtl',\n",
       " 'e1s7kh2',\n",
       " 'e1s7vf2',\n",
       " 'e1sah4d',\n",
       " 'e1tvu2f',\n",
       " 'e1u0zl9',\n",
       " 'e22e7sf',\n",
       " 'e22y97q',\n",
       " 'e24cq1g',\n",
       " 'e26ur7x',\n",
       " 'e28giwm',\n",
       " 'e28zdjz',\n",
       " 'e292sd6',\n",
       " 'e29lu91',\n",
       " 'e2b1sot',\n",
       " 'e2b976i',\n",
       " 'e2c8g3z',\n",
       " 'e2do7jl',\n",
       " 'e2dqg8p',\n",
       " 'e2edwoq',\n",
       " 'e2ej18f',\n",
       " 'e2em3kh',\n",
       " 'e2exyfs',\n",
       " 'e2fiksl',\n",
       " 'e2fvgqd',\n",
       " 'e2g4tgf',\n",
       " 'e2hdo3l',\n",
       " 'e2hv8g0',\n",
       " 'e2jvr14',\n",
       " 'e2lmwfd',\n",
       " 'e2loqzb',\n",
       " 'e2nqoh3',\n",
       " 'e2ntgdv',\n",
       " 'e2p2jt0',\n",
       " 'e2ps9xe',\n",
       " 'e2qhk5f',\n",
       " 'e30b7w6',\n",
       " 'e30y7pb',\n",
       " 'e3193da',\n",
       " 'e38hrfx',\n",
       " 'e38uef0',\n",
       " 'e39ax4e',\n",
       " 'e3a5gm8',\n",
       " 'e3ely8n',\n",
       " 'e3gi2f5',\n",
       " 'e3j5jng',\n",
       " 'e3jj9ku',\n",
       " 'e3jocsh',\n",
       " 'e3jzafz',\n",
       " 'e3k7sba',\n",
       " 'e3mifmf',\n",
       " 'e3mvlnn',\n",
       " 'e3n167f',\n",
       " 'e3uig3i',\n",
       " 'e3xqoec',\n",
       " 'e3yqz3x',\n",
       " 'e4177i7',\n",
       " 'e42fm1p',\n",
       " 'e42gxgx',\n",
       " 'e42jk3c',\n",
       " 'e42jlco',\n",
       " 'e450p6z',\n",
       " 'e46fhai',\n",
       " 'e47jx2d',\n",
       " 'e49cfe8',\n",
       " 'e4aaqxm',\n",
       " 'e4cj6wm',\n",
       " 'e4cm58e',\n",
       " 'e4e5wdd',\n",
       " 'e4fljpy',\n",
       " 'e4g2y1l',\n",
       " 'e4gzd05',\n",
       " 'e4m95q8',\n",
       " 'e4mo315',\n",
       " 'e4s4zy6',\n",
       " 'e4svk9x',\n",
       " 'e4xqdjz',\n",
       " 'e4yfw6m',\n",
       " 'e4zzua0',\n",
       " 'e51yi4c',\n",
       " 'e5437m1',\n",
       " 'e55nbpp',\n",
       " 'e5908mo',\n",
       " 'e5ac3zf',\n",
       " 'e5d9btg',\n",
       " 'e5ecft0',\n",
       " 'e5gfa1e',\n",
       " 'e5iou18',\n",
       " 'e5kis4y',\n",
       " 'e5livao',\n",
       " 'e5mhgb5',\n",
       " 'e5obgjv',\n",
       " 'e5qwney',\n",
       " 'e5rmx22',\n",
       " 'e5s96we',\n",
       " 'e5t5j0r',\n",
       " 'e5t5m2r',\n",
       " 'e5trcym',\n",
       " 'e5vxhiu',\n",
       " 'e5wq6q1',\n",
       " 'e5wuz48',\n",
       " 'e5wxobu',\n",
       " 'e5x0ffx',\n",
       " 'e5yr16e',\n",
       " 'e607ry8',\n",
       " 'e6451hd',\n",
       " 'e670kwp',\n",
       " 'e687kuj',\n",
       " 'e68845v',\n",
       " 'e6a13gy',\n",
       " 'e6ccouj',\n",
       " 'e6e46hd',\n",
       " 'e6gp682',\n",
       " 'e6gqcx4',\n",
       " 'e6gr6oy',\n",
       " 'e6hjmje',\n",
       " 'e6hn5o5',\n",
       " 'e6i5eji',\n",
       " 'e6jly2g',\n",
       " 'e6kg2xm',\n",
       " 'e6kh0hz',\n",
       " 'e6m6o30',\n",
       " 'e6mbksg',\n",
       " 'e6n2hnu',\n",
       " 'e6nhlcs',\n",
       " 'e6pfvuq',\n",
       " 'e6qc1qr',\n",
       " 'e6r05vf',\n",
       " 'e6r170g',\n",
       " 'e6rxe6j',\n",
       " 'e6t4l6a',\n",
       " 'e6ul0bf',\n",
       " 'e6v7ky2',\n",
       " 'e6vh7fe',\n",
       " 'e6wmhxx'}"
      ]
     },
     "execution_count": 416,
     "metadata": {},
     "output_type": "execute_result"
    }
   ],
   "source": [
    "group1_ids"
   ]
  },
  {
   "cell_type": "code",
   "execution_count": 406,
   "metadata": {},
   "outputs": [],
   "source": [
    "subset = set(subset)"
   ]
  },
  {
   "cell_type": "code",
   "execution_count": 407,
   "metadata": {},
   "outputs": [],
   "source": [
    "corpus.filter_conversations_by(lambda convo: convo.id in subset)"
   ]
  },
  {
   "cell_type": "code",
   "execution_count": 417,
   "metadata": {},
   "outputs": [
    {
     "name": "stdout",
     "output_type": "stream",
     "text": [
      "Number of Speakers: 25994\n",
      "Number of Utterances: 53135\n",
      "Number of Conversations: 1500\n"
     ]
    }
   ],
   "source": [
    "corpus.print_summary_stats()"
   ]
  },
  {
   "cell_type": "code",
   "execution_count": 419,
   "metadata": {},
   "outputs": [
    {
     "name": "stdout",
     "output_type": "stream",
     "text": [
      "Number of Speakers: 25994\n",
      "Number of Utterances: 53135\n",
      "Number of Conversations: 1500\n"
     ]
    }
   ],
   "source": [
    "corpus.print_summary_stats()"
   ]
  },
  {
   "cell_type": "code",
   "execution_count": 420,
   "metadata": {},
   "outputs": [],
   "source": [
    "group1_ids = set(group1_ids)\n",
    "group2_ids = set(group2_ids)\n",
    "group3_ids = set(group3_ids)"
   ]
  },
  {
   "cell_type": "code",
   "execution_count": 421,
   "metadata": {},
   "outputs": [],
   "source": [
    "group1_utts, group2_utts, group3_utts = [], [], []"
   ]
  },
  {
   "cell_type": "code",
   "execution_count": 422,
   "metadata": {},
   "outputs": [],
   "source": [
    "for convo in corpus.iter_conversations():\n",
    "    if convo.id in group1_ids:\n",
    "        group1_utts.extend(convo.get_chronological_utterance_list())\n",
    "    elif convo.id in group2_ids:\n",
    "        group2_utts.extend(convo.get_chronological_utterance_list())\n",
    "    elif convo.id in group3_ids:\n",
    "        group3_utts.extend(convo.get_chronological_utterance_list())\n",
    "    else:\n",
    "        raise ValueError(convo.id)"
   ]
  },
  {
   "cell_type": "code",
   "execution_count": 423,
   "metadata": {},
   "outputs": [
    {
     "data": {
      "text/plain": [
       "19320"
      ]
     },
     "execution_count": 423,
     "metadata": {},
     "output_type": "execute_result"
    }
   ],
   "source": [
    "len(group1_utts)"
   ]
  },
  {
   "cell_type": "code",
   "execution_count": 424,
   "metadata": {},
   "outputs": [
    {
     "data": {
      "text/plain": [
       "18594"
      ]
     },
     "execution_count": 424,
     "metadata": {},
     "output_type": "execute_result"
    }
   ],
   "source": [
    "len(group2_utts)"
   ]
  },
  {
   "cell_type": "code",
   "execution_count": 425,
   "metadata": {},
   "outputs": [
    {
     "data": {
      "text/plain": [
       "15221"
      ]
     },
     "execution_count": 425,
     "metadata": {},
     "output_type": "execute_result"
    }
   ],
   "source": [
    "len(group3_utts)"
   ]
  },
  {
   "cell_type": "code",
   "execution_count": 426,
   "metadata": {},
   "outputs": [
    {
     "name": "stdout",
     "output_type": "stream",
     "text": [
      "Number of Speakers: 25994\n",
      "Number of Utterances: 53135\n",
      "Number of Conversations: 1500\n"
     ]
    }
   ],
   "source": [
    "corpus.print_summary_stats()"
   ]
  },
  {
   "cell_type": "code",
   "execution_count": 427,
   "metadata": {},
   "outputs": [],
   "source": [
    "new_corpus = Corpus(utterances=group1_utts + group2_utts + group3_utts)"
   ]
  },
  {
   "cell_type": "code",
   "execution_count": 432,
   "metadata": {},
   "outputs": [],
   "source": [
    "new_corpus.dump('reddit-trajectory-subset', base_path='convokit/tensor_decomposer/experiments')"
   ]
  },
  {
   "cell_type": "code",
   "execution_count": null,
   "metadata": {},
   "outputs": [],
   "source": []
  }
 ],
 "metadata": {
  "kernelspec": {
   "display_name": "Python 3",
   "language": "python",
   "name": "python3"
  },
  "language_info": {
   "codemirror_mode": {
    "name": "ipython",
    "version": 3
   },
   "file_extension": ".py",
   "mimetype": "text/x-python",
   "name": "python",
   "nbconvert_exporter": "python",
   "pygments_lexer": "ipython3",
   "version": "3.7.6"
  }
 },
 "nbformat": 4,
 "nbformat_minor": 2
}
