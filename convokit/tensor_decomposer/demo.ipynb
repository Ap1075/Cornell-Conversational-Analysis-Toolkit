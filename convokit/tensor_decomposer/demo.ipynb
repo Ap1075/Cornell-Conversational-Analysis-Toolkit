{
 "cells": [
  {
   "cell_type": "code",
   "execution_count": 1,
   "metadata": {},
   "outputs": [],
   "source": [
    "import os\n",
    "os.chdir('../..')"
   ]
  },
  {
   "cell_type": "code",
   "execution_count": 2,
   "metadata": {},
   "outputs": [],
   "source": [
    "import convokit"
   ]
  },
  {
   "cell_type": "code",
   "execution_count": 3,
   "metadata": {},
   "outputs": [],
   "source": [
    "# CORPUS_DIR = \"convokit/thread_generator/fake-corpus-trajectory\"\n",
    "CORPUS_DIR = \"convokit/thread_generator/annotated-fake-trajectory\"\n",
    "OUTPUT_DIR = \"test_1\""
   ]
  },
  {
   "cell_type": "code",
   "execution_count": 4,
   "metadata": {},
   "outputs": [],
   "source": [
    "from convokit import TensorDecomposer, HyperConvo, Corpus"
   ]
  },
  {
   "cell_type": "code",
   "execution_count": 5,
   "metadata": {},
   "outputs": [],
   "source": [
    "corpus = Corpus(filename=CORPUS_DIR)"
   ]
  },
  {
   "cell_type": "code",
   "execution_count": 6,
   "metadata": {},
   "outputs": [],
   "source": [
    "hyperconv_range = range(2, 20+1)"
   ]
  },
  {
   "cell_type": "code",
   "execution_count": 7,
   "metadata": {},
   "outputs": [],
   "source": [
    "# hyperconv_range = range(2, 20+1)\n",
    "# def multi_hyperconv_transform(corpus, hyperconv_range):\n",
    "#     hc_transformers = [HyperConvo(prefix_len=i, feat_name=\"hyperconvo-{}\".format(i)) for i in hyperconv_range]\n",
    "#     for idx, hc in enumerate(list(reversed(hc_transformers))):\n",
    "#         print(hyperconv_range[-1]-idx)\n",
    "#         hc.transform(corpus)"
   ]
  },
  {
   "cell_type": "code",
   "execution_count": 8,
   "metadata": {},
   "outputs": [],
   "source": [
    "# multi_hyperconv_transform(corpus, hyperconv_range)"
   ]
  },
  {
   "cell_type": "code",
   "execution_count": 9,
   "metadata": {},
   "outputs": [],
   "source": [
    "# corpus.dump(\"annotated-fake-trajectory\", base_path=\"./convokit/thread_generator/\")"
   ]
  },
  {
   "cell_type": "code",
   "execution_count": null,
   "metadata": {},
   "outputs": [],
   "source": []
  },
  {
   "cell_type": "code",
   "execution_count": 10,
   "metadata": {},
   "outputs": [],
   "source": [
    "td = TensorDecomposer(obj_type=\"conversation\",\n",
    "                      feature_set=[\"hyperconvo-{}\".format(i) for i in hyperconv_range],\n",
    "                      group_func=lambda convo: convo.get_utterance(convo.id).meta['subreddit']\n",
    "                     )"
   ]
  },
  {
   "cell_type": "code",
   "execution_count": 11,
   "metadata": {},
   "outputs": [
    {
     "name": "stdout",
     "output_type": "stream",
     "text": [
      "Constructing tensor...Done.\n",
      "Decomposing tensor...Done.\n"
     ]
    },
    {
     "data": {
      "text/plain": [
       "<convokit.tensor_decomposer.tensorDecomposer.TensorDecomposer at 0x1322429d0>"
      ]
     },
     "execution_count": 11,
     "metadata": {},
     "output_type": "execute_result"
    }
   ],
   "source": [
    "td.fit(corpus)"
   ]
  },
  {
   "cell_type": "code",
   "execution_count": 12,
   "metadata": {},
   "outputs": [
    {
     "data": {
      "text/plain": [
       "['max[indegree over c->c responses]',\n",
       " 'argmax[indegree over c->c responses]',\n",
       " 'norm.max[indegree over c->c responses]',\n",
       " '2nd-largest[indegree over c->c responses]',\n",
       " '2nd-argmax[indegree over c->c responses]',\n",
       " 'norm.2nd-largest[indegree over c->c responses]',\n",
       " 'mean[indegree over c->c responses]',\n",
       " 'mean-nonzero[indegree over c->c responses]',\n",
       " 'prop-nonzero[indegree over c->c responses]',\n",
       " 'prop-multiple[indegree over c->c responses]',\n",
       " 'entropy[indegree over c->c responses]',\n",
       " '2nd-largest / max[indegree over c->c responses]',\n",
       " 'max[outdegree over C->c responses]',\n",
       " 'max[indegree over C->c responses]',\n",
       " 'argmax[outdegree over C->c responses]',\n",
       " 'argmax[indegree over C->c responses]',\n",
       " 'norm.max[outdegree over C->c responses]',\n",
       " 'norm.max[indegree over C->c responses]',\n",
       " '2nd-largest[outdegree over C->c responses]',\n",
       " '2nd-largest[indegree over C->c responses]',\n",
       " '2nd-argmax[outdegree over C->c responses]',\n",
       " '2nd-argmax[indegree over C->c responses]',\n",
       " 'norm.2nd-largest[outdegree over C->c responses]',\n",
       " 'norm.2nd-largest[indegree over C->c responses]',\n",
       " 'mean[outdegree over C->c responses]',\n",
       " 'mean[indegree over C->c responses]',\n",
       " 'mean-nonzero[outdegree over C->c responses]',\n",
       " 'mean-nonzero[indegree over C->c responses]',\n",
       " 'prop-nonzero[outdegree over C->c responses]',\n",
       " 'prop-nonzero[indegree over C->c responses]',\n",
       " 'prop-multiple[outdegree over C->c responses]',\n",
       " 'prop-multiple[indegree over C->c responses]',\n",
       " 'entropy[outdegree over C->c responses]',\n",
       " 'entropy[indegree over C->c responses]',\n",
       " '2nd-largest / max[outdegree over C->c responses]',\n",
       " '2nd-largest / max[indegree over C->c responses]',\n",
       " 'max[outdegree over C->C responses]',\n",
       " 'max[indegree over C->C responses]',\n",
       " 'argmax[outdegree over C->C responses]',\n",
       " 'argmax[indegree over C->C responses]',\n",
       " 'norm.max[outdegree over C->C responses]',\n",
       " 'norm.max[indegree over C->C responses]',\n",
       " '2nd-largest[outdegree over C->C responses]',\n",
       " '2nd-largest[indegree over C->C responses]',\n",
       " '2nd-argmax[outdegree over C->C responses]',\n",
       " '2nd-argmax[indegree over C->C responses]',\n",
       " 'norm.2nd-largest[outdegree over C->C responses]',\n",
       " 'norm.2nd-largest[indegree over C->C responses]',\n",
       " 'mean[outdegree over C->C responses]',\n",
       " 'mean[indegree over C->C responses]',\n",
       " 'mean-nonzero[outdegree over C->C responses]',\n",
       " 'mean-nonzero[indegree over C->C responses]',\n",
       " 'prop-nonzero[outdegree over C->C responses]',\n",
       " 'prop-nonzero[indegree over C->C responses]',\n",
       " 'prop-multiple[outdegree over C->C responses]',\n",
       " 'prop-multiple[indegree over C->C responses]',\n",
       " 'entropy[outdegree over C->C responses]',\n",
       " 'entropy[indegree over C->C responses]',\n",
       " '2nd-largest / max[outdegree over C->C responses]',\n",
       " '2nd-largest / max[indegree over C->C responses]',\n",
       " 'is-present[reciprocity motif]',\n",
       " 'count[reciprocity motif]',\n",
       " 'is-present[external reciprocity motif]',\n",
       " 'count[external reciprocity motif]',\n",
       " 'is-present[dyadic interaction motif]',\n",
       " 'count[dyadic interaction motif]',\n",
       " 'is-present[incoming triads]',\n",
       " 'count[incoming triads]',\n",
       " 'is-present[outgoing triads]',\n",
       " 'count[outgoing triads]',\n",
       " 'max[indegree over c->c mid-thread responses]',\n",
       " 'argmax[indegree over c->c mid-thread responses]',\n",
       " 'norm.max[indegree over c->c mid-thread responses]',\n",
       " '2nd-largest[indegree over c->c mid-thread responses]',\n",
       " '2nd-argmax[indegree over c->c mid-thread responses]',\n",
       " 'norm.2nd-largest[indegree over c->c mid-thread responses]',\n",
       " 'mean[indegree over c->c mid-thread responses]',\n",
       " 'mean-nonzero[indegree over c->c mid-thread responses]',\n",
       " 'prop-nonzero[indegree over c->c mid-thread responses]',\n",
       " 'prop-multiple[indegree over c->c mid-thread responses]',\n",
       " 'entropy[indegree over c->c mid-thread responses]',\n",
       " '2nd-largest / max[indegree over c->c mid-thread responses]',\n",
       " 'max[outdegree over C->c mid-thread responses]',\n",
       " 'max[indegree over C->c mid-thread responses]',\n",
       " 'argmax[outdegree over C->c mid-thread responses]',\n",
       " 'argmax[indegree over C->c mid-thread responses]',\n",
       " 'norm.max[outdegree over C->c mid-thread responses]',\n",
       " 'norm.max[indegree over C->c mid-thread responses]',\n",
       " '2nd-largest[outdegree over C->c mid-thread responses]',\n",
       " '2nd-largest[indegree over C->c mid-thread responses]',\n",
       " '2nd-argmax[outdegree over C->c mid-thread responses]',\n",
       " '2nd-argmax[indegree over C->c mid-thread responses]',\n",
       " 'norm.2nd-largest[outdegree over C->c mid-thread responses]',\n",
       " 'norm.2nd-largest[indegree over C->c mid-thread responses]',\n",
       " 'mean[outdegree over C->c mid-thread responses]',\n",
       " 'mean[indegree over C->c mid-thread responses]',\n",
       " 'mean-nonzero[outdegree over C->c mid-thread responses]',\n",
       " 'mean-nonzero[indegree over C->c mid-thread responses]',\n",
       " 'prop-nonzero[outdegree over C->c mid-thread responses]',\n",
       " 'prop-nonzero[indegree over C->c mid-thread responses]',\n",
       " 'prop-multiple[outdegree over C->c mid-thread responses]',\n",
       " 'prop-multiple[indegree over C->c mid-thread responses]',\n",
       " 'entropy[outdegree over C->c mid-thread responses]',\n",
       " 'entropy[indegree over C->c mid-thread responses]',\n",
       " '2nd-largest / max[outdegree over C->c mid-thread responses]',\n",
       " '2nd-largest / max[indegree over C->c mid-thread responses]',\n",
       " 'max[outdegree over C->C mid-thread responses]',\n",
       " 'max[indegree over C->C mid-thread responses]',\n",
       " 'argmax[outdegree over C->C mid-thread responses]',\n",
       " 'argmax[indegree over C->C mid-thread responses]',\n",
       " 'norm.max[outdegree over C->C mid-thread responses]',\n",
       " 'norm.max[indegree over C->C mid-thread responses]',\n",
       " '2nd-largest[outdegree over C->C mid-thread responses]',\n",
       " '2nd-largest[indegree over C->C mid-thread responses]',\n",
       " '2nd-argmax[outdegree over C->C mid-thread responses]',\n",
       " '2nd-argmax[indegree over C->C mid-thread responses]',\n",
       " 'norm.2nd-largest[outdegree over C->C mid-thread responses]',\n",
       " 'norm.2nd-largest[indegree over C->C mid-thread responses]',\n",
       " 'mean[outdegree over C->C mid-thread responses]',\n",
       " 'mean[indegree over C->C mid-thread responses]',\n",
       " 'mean-nonzero[outdegree over C->C mid-thread responses]',\n",
       " 'mean-nonzero[indegree over C->C mid-thread responses]',\n",
       " 'prop-nonzero[outdegree over C->C mid-thread responses]',\n",
       " 'prop-nonzero[indegree over C->C mid-thread responses]',\n",
       " 'prop-multiple[outdegree over C->C mid-thread responses]',\n",
       " 'prop-multiple[indegree over C->C mid-thread responses]',\n",
       " 'entropy[outdegree over C->C mid-thread responses]',\n",
       " 'entropy[indegree over C->C mid-thread responses]',\n",
       " '2nd-largest / max[outdegree over C->C mid-thread responses]',\n",
       " '2nd-largest / max[indegree over C->C mid-thread responses]',\n",
       " 'is-present[reciprocity motif over mid-thread]',\n",
       " 'count[reciprocity motif over mid-thread]',\n",
       " 'is-present[external reciprocity motif over mid-thread]',\n",
       " 'count[external reciprocity motif over mid-thread]',\n",
       " 'is-present[dyadic interaction motif over mid-thread]',\n",
       " 'count[dyadic interaction motif over mid-thread]',\n",
       " 'is-present[incoming triads over mid-thread]',\n",
       " 'count[incoming triads over mid-thread]',\n",
       " 'is-present[outgoing triads over mid-thread]',\n",
       " 'count[outgoing triads over mid-thread]']"
      ]
     },
     "execution_count": 12,
     "metadata": {},
     "output_type": "execute_result"
    }
   ],
   "source": [
    "td.summarize(corpus, axis_names=[\"\"])"
   ]
  },
  {
   "cell_type": "code",
   "execution_count": null,
   "metadata": {},
   "outputs": [],
   "source": []
  }
 ],
 "metadata": {
  "kernelspec": {
   "display_name": "Python 3",
   "language": "python",
   "name": "python3"
  },
  "language_info": {
   "codemirror_mode": {
    "name": "ipython",
    "version": 3
   },
   "file_extension": ".py",
   "mimetype": "text/x-python",
   "name": "python",
   "nbconvert_exporter": "python",
   "pygments_lexer": "ipython3",
   "version": "3.7.6"
  }
 },
 "nbformat": 4,
 "nbformat_minor": 2
}
