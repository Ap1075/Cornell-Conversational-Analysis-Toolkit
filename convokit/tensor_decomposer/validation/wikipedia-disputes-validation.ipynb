{
 "cells": [
  {
   "cell_type": "code",
   "execution_count": 1,
   "metadata": {},
   "outputs": [],
   "source": [
    "from convokit import Corpus\n",
    "from vaderSentiment.vaderSentiment import SentimentIntensityAnalyzer"
   ]
  },
  {
   "cell_type": "code",
   "execution_count": 2,
   "metadata": {},
   "outputs": [],
   "source": [
    "corpus = Corpus(filename='Wikipedia-Disputes-Corpus')"
   ]
  },
  {
   "cell_type": "code",
   "execution_count": 4,
   "metadata": {},
   "outputs": [],
   "source": [
    "analyzer = SentimentIntensityAnalyzer()"
   ]
  },
  {
   "cell_type": "code",
   "execution_count": 5,
   "metadata": {},
   "outputs": [],
   "source": [
    "for utt in corpus.iter_utterances():\n",
    "    utt.meta['vader'] = analyzer.polarity_scores(utt.text)\n",
    "    utt.meta['compound'] = utt.meta['vader']['compound']"
   ]
  },
  {
   "cell_type": "markdown",
   "metadata": {},
   "source": [
    "From https://github.com/cjhutto/vaderSentiment, \n",
    "\n",
    "\"The compound score is computed by summing the valence scores of each word in the lexicon, adjusted according to the rules, and then normalized to be between -1 (most extreme negative) and +1 (most extreme positive). This is the most useful metric if you want a single unidimensional measure of sentiment for a given sentence. Calling it a 'normalized, weighted composite score' is accurate.\"\n",
    "\n",
    "It is also useful for researchers who would like to set standardized thresholds for classifying sentences as either positive, neutral, or negative. Typical threshold values (used in the literature cited on this page) are:\n",
    "\n",
    "- positive sentiment: compound score >= 0.05\n",
    "- neutral sentiment: (compound score > -0.05) and (compound score < 0.05)\n",
    "- negative sentiment: compound score <= -0.05\n"
   ]
  },
  {
   "cell_type": "markdown",
   "metadata": {},
   "source": [
    "## Feature annotation"
   ]
  },
  {
   "cell_type": "markdown",
   "metadata": {},
   "source": [
    "We can't do topic features since they were not included in the data, nor can we include 'num_revisions' in the discussion_feats."
   ]
  },
  {
   "cell_type": "code",
   "execution_count": 60,
   "metadata": {},
   "outputs": [],
   "source": [
    "from convokit import BoWTransformer, VectorClassifier, Classifier\n",
    "from sklearn.feature_extraction.text import CountVectorizer\n",
    "from sklearn.pipeline import Pipeline\n",
    "from sklearn.preprocessing import StandardScaler\n",
    "from sklearn.linear_model import LogisticRegression"
   ]
  },
  {
   "cell_type": "markdown",
   "metadata": {},
   "source": [
    "### Discussion features"
   ]
  },
  {
   "cell_type": "code",
   "execution_count": 21,
   "metadata": {},
   "outputs": [],
   "source": [
    "for convo in corpus.iter_conversations():\n",
    "    discussion_feats = dict()\n",
    "    discussion_feats['num_turns'] = len(list(convo.iter_utterances())) \n",
    "    discussion_feats['num_participants'] = len(set(list(convo.iter_speakers())))\n",
    "    discussion_feats['avg_num_words_per_turn'] = sum([len(utt.text.split(' ')) for utt in convo.iter_utterances()]) / discussion_feats['num_turns']\n",
    "    convo.meta['discussion_feats'] = discussion_feats"
   ]
  },
  {
   "cell_type": "code",
   "execution_count": 32,
   "metadata": {},
   "outputs": [
    {
     "data": {
      "text/plain": [
       "'Discussion:Transcendental Meditation_Archive 12'"
      ]
     },
     "execution_count": 32,
     "metadata": {},
     "output_type": "execute_result"
    }
   ],
   "source": [
    "corpus.random_conversation().meta['page_name']"
   ]
  },
  {
   "cell_type": "code",
   "execution_count": 20,
   "metadata": {},
   "outputs": [
    {
     "data": {
      "text/plain": [
       "{'num_turns': 15,\n",
       " 'num_participants': 9,\n",
       " 'avg_num_words_per_turn': 31.533333333333335}"
      ]
     },
     "execution_count": 20,
     "metadata": {},
     "output_type": "execute_result"
    }
   ],
   "source": [
    "discussion_feats"
   ]
  },
  {
   "cell_type": "code",
   "execution_count": 61,
   "metadata": {},
   "outputs": [],
   "source": [
    "model = Pipeline([(\"standardScaler\", StandardScaler(with_mean=False)),\n",
    "                            (\"logreg\", LogisticRegression(solver='liblinear'))])\n",
    "clf = Classifier(obj_type='conversation', pred_feats=['discussion_feats'], \n",
    "                 labeller=lambda convo: convo.meta['has_dispute'], clf=model)"
   ]
  },
  {
   "cell_type": "code",
   "execution_count": 62,
   "metadata": {},
   "outputs": [
    {
     "name": "stdout",
     "output_type": "stream",
     "text": [
      "Using corpus objects...\n",
      "Running a cross-validated evaluation...\n",
      "Done.\n"
     ]
    }
   ],
   "source": [
    "res = clf.evaluate_with_cv(corpus)"
   ]
  },
  {
   "cell_type": "code",
   "execution_count": 63,
   "metadata": {},
   "outputs": [
    {
     "data": {
      "text/plain": [
       "0.6634987320582889"
      ]
     },
     "execution_count": 63,
     "metadata": {},
     "output_type": "execute_result"
    }
   ],
   "source": [
    "np.mean(res)"
   ]
  },
  {
   "cell_type": "code",
   "execution_count": 69,
   "metadata": {},
   "outputs": [
    {
     "data": {
      "text/plain": [
       "<convokit.classifier.classifier.Classifier at 0x1587db150>"
      ]
     },
     "execution_count": 69,
     "metadata": {},
     "output_type": "execute_result"
    }
   ],
   "source": [
    "clf.fit(corpus)"
   ]
  },
  {
   "cell_type": "code",
   "execution_count": 70,
   "metadata": {},
   "outputs": [
    {
     "data": {
      "text/html": [
       "<div>\n",
       "<style scoped>\n",
       "    .dataframe tbody tr th:only-of-type {\n",
       "        vertical-align: middle;\n",
       "    }\n",
       "\n",
       "    .dataframe tbody tr th {\n",
       "        vertical-align: top;\n",
       "    }\n",
       "\n",
       "    .dataframe thead th {\n",
       "        text-align: right;\n",
       "    }\n",
       "</style>\n",
       "<table border=\"1\" class=\"dataframe\">\n",
       "  <thead>\n",
       "    <tr style=\"text-align: right;\">\n",
       "      <th></th>\n",
       "      <th>coef</th>\n",
       "    </tr>\n",
       "    <tr>\n",
       "      <th>feat_name</th>\n",
       "      <th></th>\n",
       "    </tr>\n",
       "  </thead>\n",
       "  <tbody>\n",
       "    <tr>\n",
       "      <th>num_turns</th>\n",
       "      <td>1.480032</td>\n",
       "    </tr>\n",
       "    <tr>\n",
       "      <th>avg_num_words_per_turn</th>\n",
       "      <td>0.576046</td>\n",
       "    </tr>\n",
       "    <tr>\n",
       "      <th>num_participants</th>\n",
       "      <td>0.350013</td>\n",
       "    </tr>\n",
       "  </tbody>\n",
       "</table>\n",
       "</div>"
      ],
      "text/plain": [
       "                            coef\n",
       "feat_name                       \n",
       "num_turns               1.480032\n",
       "avg_num_words_per_turn  0.576046\n",
       "num_participants        0.350013"
      ]
     },
     "execution_count": 70,
     "metadata": {},
     "output_type": "execute_result"
    }
   ],
   "source": [
    "clf.get_coefs(feature_names=['num_turns', 'num_participants', 'avg_num_words_per_turn'])"
   ]
  },
  {
   "cell_type": "markdown",
   "metadata": {},
   "source": [
    "### Lexical features"
   ]
  },
  {
   "cell_type": "code",
   "execution_count": 50,
   "metadata": {},
   "outputs": [],
   "source": [
    "from convokit import BoWTransformer, VectorClassifier\n",
    "from sklearn.feature_extraction.text import CountVectorizer\n",
    "import numpy as np"
   ]
  },
  {
   "cell_type": "code",
   "execution_count": 39,
   "metadata": {},
   "outputs": [],
   "source": [
    "cv = CountVectorizer(min_df=10, max_df=.5, ngram_range=(1, 2),\n",
    "                     binary=False, max_features=15000)"
   ]
  },
  {
   "cell_type": "code",
   "execution_count": 40,
   "metadata": {},
   "outputs": [],
   "source": [
    "bow_transformer = BoWTransformer(obj_type='conversation', vectorizer=cv)"
   ]
  },
  {
   "cell_type": "code",
   "execution_count": 42,
   "metadata": {},
   "outputs": [
    {
     "data": {
      "text/plain": [
       "<convokit.model.corpus.Corpus at 0x1241ecdd0>"
      ]
     },
     "execution_count": 42,
     "metadata": {},
     "output_type": "execute_result"
    }
   ],
   "source": [
    "bow_transformer.fit_transform(corpus)"
   ]
  },
  {
   "cell_type": "code",
   "execution_count": 71,
   "metadata": {},
   "outputs": [
    {
     "name": "stdout",
     "output_type": "stream",
     "text": [
      "Initialized default classification model (standard scaled logistic regression).\n"
     ]
    }
   ],
   "source": [
    "vclf = VectorClassifier(obj_type='conversation', labeller=lambda convo: convo.meta['has_dispute'], vector_name='bow_vector')"
   ]
  },
  {
   "cell_type": "code",
   "execution_count": 74,
   "metadata": {},
   "outputs": [
    {
     "name": "stdout",
     "output_type": "stream",
     "text": [
      "Running a cross-validated evaluation...Done.\n",
      "[0.80193906 0.80401662 0.79293629 0.80526681 0.79279279]\n",
      "0.7993903129637202\n"
     ]
    }
   ],
   "source": [
    "res = vclf.evaluate_with_cv(corpus)\n",
    "print(res)\n",
    "print(np.mean(res))"
   ]
  },
  {
   "cell_type": "code",
   "execution_count": 78,
   "metadata": {},
   "outputs": [
    {
     "data": {
      "text/plain": [
       "<convokit.classifier.vectorClassifier.VectorClassifier at 0x158521550>"
      ]
     },
     "execution_count": 78,
     "metadata": {},
     "output_type": "execute_result"
    }
   ],
   "source": [
    "vclf.fit(corpus)"
   ]
  },
  {
   "cell_type": "code",
   "execution_count": 79,
   "metadata": {},
   "outputs": [
    {
     "data": {
      "text/html": [
       "<div>\n",
       "<style scoped>\n",
       "    .dataframe tbody tr th:only-of-type {\n",
       "        vertical-align: middle;\n",
       "    }\n",
       "\n",
       "    .dataframe tbody tr th {\n",
       "        vertical-align: top;\n",
       "    }\n",
       "\n",
       "    .dataframe thead th {\n",
       "        text-align: right;\n",
       "    }\n",
       "</style>\n",
       "<table border=\"1\" class=\"dataframe\">\n",
       "  <thead>\n",
       "    <tr style=\"text-align: right;\">\n",
       "      <th></th>\n",
       "      <th>coef</th>\n",
       "    </tr>\n",
       "    <tr>\n",
       "      <th>feat_name</th>\n",
       "      <th></th>\n",
       "    </tr>\n",
       "  </thead>\n",
       "  <tbody>\n",
       "    <tr>\n",
       "      <th>for comment</th>\n",
       "      <td>0.863760</td>\n",
       "    </tr>\n",
       "    <tr>\n",
       "      <th>request for</th>\n",
       "      <td>0.851167</td>\n",
       "    </tr>\n",
       "    <tr>\n",
       "      <th>request</th>\n",
       "      <td>0.481580</td>\n",
       "    </tr>\n",
       "    <tr>\n",
       "      <th>for comments</th>\n",
       "      <td>0.407265</td>\n",
       "    </tr>\n",
       "    <tr>\n",
       "      <th>rfc</th>\n",
       "      <td>0.327475</td>\n",
       "    </tr>\n",
       "    <tr>\n",
       "      <th>an rfc</th>\n",
       "      <td>0.259022</td>\n",
       "    </tr>\n",
       "    <tr>\n",
       "      <th>rfc is</th>\n",
       "      <td>0.218804</td>\n",
       "    </tr>\n",
       "    <tr>\n",
       "      <th>sockpuppet</th>\n",
       "      <td>0.210076</td>\n",
       "    </tr>\n",
       "    <tr>\n",
       "      <th>statements by</th>\n",
       "      <td>0.208874</td>\n",
       "    </tr>\n",
       "    <tr>\n",
       "      <th>the rfc</th>\n",
       "      <td>0.206110</td>\n",
       "    </tr>\n",
       "    <tr>\n",
       "      <th>comment on</th>\n",
       "      <td>0.197817</td>\n",
       "    </tr>\n",
       "    <tr>\n",
       "      <th>editors previously</th>\n",
       "      <td>0.194663</td>\n",
       "    </tr>\n",
       "    <tr>\n",
       "      <th>this rfc</th>\n",
       "      <td>0.194337</td>\n",
       "    </tr>\n",
       "    <tr>\n",
       "      <th>the request</th>\n",
       "      <td>0.193926</td>\n",
       "    </tr>\n",
       "    <tr>\n",
       "      <th>comment to</th>\n",
       "      <td>0.191666</td>\n",
       "    </tr>\n",
       "    <tr>\n",
       "      <th>rfcs</th>\n",
       "      <td>0.187750</td>\n",
       "    </tr>\n",
       "    <tr>\n",
       "      <th>previously involved</th>\n",
       "      <td>0.187467</td>\n",
       "    </tr>\n",
       "    <tr>\n",
       "      <th>don be</th>\n",
       "      <td>0.178045</td>\n",
       "    </tr>\n",
       "    <tr>\n",
       "      <th>ask for</th>\n",
       "      <td>0.177053</td>\n",
       "    </tr>\n",
       "    <tr>\n",
       "      <th>two editors</th>\n",
       "      <td>0.176791</td>\n",
       "    </tr>\n",
       "    <tr>\n",
       "      <th>the dispute</th>\n",
       "      <td>0.176458</td>\n",
       "    </tr>\n",
       "    <tr>\n",
       "      <th>rfc on</th>\n",
       "      <td>0.175578</td>\n",
       "    </tr>\n",
       "    <tr>\n",
       "      <th>arbitration</th>\n",
       "      <td>0.172231</td>\n",
       "    </tr>\n",
       "    <tr>\n",
       "      <th>be fine</th>\n",
       "      <td>0.168981</td>\n",
       "    </tr>\n",
       "    <tr>\n",
       "      <th>from other</th>\n",
       "      <td>0.166233</td>\n",
       "    </tr>\n",
       "    <tr>\n",
       "      <th>how is</th>\n",
       "      <td>0.165447</td>\n",
       "    </tr>\n",
       "    <tr>\n",
       "      <th>in circles</th>\n",
       "      <td>0.164878</td>\n",
       "    </tr>\n",
       "    <tr>\n",
       "      <th>consensus the</th>\n",
       "      <td>0.164509</td>\n",
       "    </tr>\n",
       "    <tr>\n",
       "      <th>to settle</th>\n",
       "      <td>0.164393</td>\n",
       "    </tr>\n",
       "    <tr>\n",
       "      <th>in dispute</th>\n",
       "      <td>0.160379</td>\n",
       "    </tr>\n",
       "    <tr>\n",
       "      <th>...</th>\n",
       "      <td>...</td>\n",
       "    </tr>\n",
       "    <tr>\n",
       "      <th>all other</th>\n",
       "      <td>-0.141055</td>\n",
       "    </tr>\n",
       "    <tr>\n",
       "      <th>someone</th>\n",
       "      <td>-0.141261</td>\n",
       "    </tr>\n",
       "    <tr>\n",
       "      <th>done that</th>\n",
       "      <td>-0.141287</td>\n",
       "    </tr>\n",
       "    <tr>\n",
       "      <th>article says</th>\n",
       "      <td>-0.141375</td>\n",
       "    </tr>\n",
       "    <tr>\n",
       "      <th>opponent</th>\n",
       "      <td>-0.142005</td>\n",
       "    </tr>\n",
       "    <tr>\n",
       "      <th>000 000</th>\n",
       "      <td>-0.142451</td>\n",
       "    </tr>\n",
       "    <tr>\n",
       "      <th>tour</th>\n",
       "      <td>-0.144455</td>\n",
       "    </tr>\n",
       "    <tr>\n",
       "      <th>place for</th>\n",
       "      <td>-0.144528</td>\n",
       "    </tr>\n",
       "    <tr>\n",
       "      <th>automatically</th>\n",
       "      <td>-0.146395</td>\n",
       "    </tr>\n",
       "    <tr>\n",
       "      <th>2012</th>\n",
       "      <td>-0.148052</td>\n",
       "    </tr>\n",
       "    <tr>\n",
       "      <th>seven</th>\n",
       "      <td>-0.148172</td>\n",
       "    </tr>\n",
       "    <tr>\n",
       "      <th>and makes</th>\n",
       "      <td>-0.149402</td>\n",
       "    </tr>\n",
       "    <tr>\n",
       "      <th>blank</th>\n",
       "      <td>-0.152279</td>\n",
       "    </tr>\n",
       "    <tr>\n",
       "      <th>radio</th>\n",
       "      <td>-0.153327</td>\n",
       "    </tr>\n",
       "    <tr>\n",
       "      <th>use to</th>\n",
       "      <td>-0.154930</td>\n",
       "    </tr>\n",
       "    <tr>\n",
       "      <th>edward</th>\n",
       "      <td>-0.155567</td>\n",
       "    </tr>\n",
       "    <tr>\n",
       "      <th>situations</th>\n",
       "      <td>-0.155811</td>\n",
       "    </tr>\n",
       "    <tr>\n",
       "      <th>be deleted</th>\n",
       "      <td>-0.158397</td>\n",
       "    </tr>\n",
       "    <tr>\n",
       "      <th>anyone has</th>\n",
       "      <td>-0.162704</td>\n",
       "    </tr>\n",
       "    <tr>\n",
       "      <th>asserts</th>\n",
       "      <td>-0.167054</td>\n",
       "    </tr>\n",
       "    <tr>\n",
       "      <th>removed it</th>\n",
       "      <td>-0.167412</td>\n",
       "    </tr>\n",
       "    <tr>\n",
       "      <th>cartoon</th>\n",
       "      <td>-0.168048</td>\n",
       "    </tr>\n",
       "    <tr>\n",
       "      <th>species</th>\n",
       "      <td>-0.171146</td>\n",
       "    </tr>\n",
       "    <tr>\n",
       "      <th>the following</th>\n",
       "      <td>-0.183023</td>\n",
       "    </tr>\n",
       "    <tr>\n",
       "      <th>right the</th>\n",
       "      <td>-0.184802</td>\n",
       "    </tr>\n",
       "    <tr>\n",
       "      <th>wondering</th>\n",
       "      <td>-0.194018</td>\n",
       "    </tr>\n",
       "    <tr>\n",
       "      <th>added by</th>\n",
       "      <td>-0.262876</td>\n",
       "    </tr>\n",
       "    <tr>\n",
       "      <th>preceding comment</th>\n",
       "      <td>-0.268729</td>\n",
       "    </tr>\n",
       "    <tr>\n",
       "      <th>preceding</th>\n",
       "      <td>-0.269877</td>\n",
       "    </tr>\n",
       "    <tr>\n",
       "      <th>comment added</th>\n",
       "      <td>-0.277786</td>\n",
       "    </tr>\n",
       "  </tbody>\n",
       "</table>\n",
       "<p>15000 rows × 1 columns</p>\n",
       "</div>"
      ],
      "text/plain": [
       "                         coef\n",
       "feat_name                    \n",
       "for comment          0.863760\n",
       "request for          0.851167\n",
       "request              0.481580\n",
       "for comments         0.407265\n",
       "rfc                  0.327475\n",
       "an rfc               0.259022\n",
       "rfc is               0.218804\n",
       "sockpuppet           0.210076\n",
       "statements by        0.208874\n",
       "the rfc              0.206110\n",
       "comment on           0.197817\n",
       "editors previously   0.194663\n",
       "this rfc             0.194337\n",
       "the request          0.193926\n",
       "comment to           0.191666\n",
       "rfcs                 0.187750\n",
       "previously involved  0.187467\n",
       "don be               0.178045\n",
       "ask for              0.177053\n",
       "two editors          0.176791\n",
       "the dispute          0.176458\n",
       "rfc on               0.175578\n",
       "arbitration          0.172231\n",
       "be fine              0.168981\n",
       "from other           0.166233\n",
       "how is               0.165447\n",
       "in circles           0.164878\n",
       "consensus the        0.164509\n",
       "to settle            0.164393\n",
       "in dispute           0.160379\n",
       "...                       ...\n",
       "all other           -0.141055\n",
       "someone             -0.141261\n",
       "done that           -0.141287\n",
       "article says        -0.141375\n",
       "opponent            -0.142005\n",
       "000 000             -0.142451\n",
       "tour                -0.144455\n",
       "place for           -0.144528\n",
       "automatically       -0.146395\n",
       "2012                -0.148052\n",
       "seven               -0.148172\n",
       "and makes           -0.149402\n",
       "blank               -0.152279\n",
       "radio               -0.153327\n",
       "use to              -0.154930\n",
       "edward              -0.155567\n",
       "situations          -0.155811\n",
       "be deleted          -0.158397\n",
       "anyone has          -0.162704\n",
       "asserts             -0.167054\n",
       "removed it          -0.167412\n",
       "cartoon             -0.168048\n",
       "species             -0.171146\n",
       "the following       -0.183023\n",
       "right the           -0.184802\n",
       "wondering           -0.194018\n",
       "added by            -0.262876\n",
       "preceding comment   -0.268729\n",
       "preceding           -0.269877\n",
       "comment added       -0.277786\n",
       "\n",
       "[15000 rows x 1 columns]"
      ]
     },
     "execution_count": 79,
     "metadata": {},
     "output_type": "execute_result"
    }
   ],
   "source": [
    "vclf.get_coefs(feature_names=corpus.get_vector_matrix('bow_vector').columns)"
   ]
  },
  {
   "cell_type": "markdown",
   "metadata": {},
   "source": [
    "### Sentiment features"
   ]
  },
  {
   "cell_type": "markdown",
   "metadata": {},
   "source": [
    "- positive sentiment: compound score >= 0.05\n",
    "- neutral sentiment: (compound score > -0.05) and (compound score < 0.05)\n",
    "- negative sentiment: compound score <= -0.05"
   ]
  },
  {
   "cell_type": "code",
   "execution_count": 84,
   "metadata": {},
   "outputs": [],
   "source": [
    "from collections import defaultdict"
   ]
  },
  {
   "cell_type": "code",
   "execution_count": 81,
   "metadata": {},
   "outputs": [],
   "source": [
    "def output_sentiment_labels(compound_score):\n",
    "    if compound_score <= -0.05:\n",
    "        return (False, False, True)\n",
    "    elif compound_score >= 0.05:\n",
    "        return (True, False, False)\n",
    "    else:\n",
    "        return (False, True, False)"
   ]
  },
  {
   "cell_type": "code",
   "execution_count": 82,
   "metadata": {},
   "outputs": [],
   "source": [
    "for utt in corpus.iter_utterances():\n",
    "    utt.meta['positive'], utt.meta['neutral'], utt.meta['negative'] = output_sentiment_labels(utt.meta['compound'])"
   ]
  },
  {
   "cell_type": "markdown",
   "metadata": {},
   "source": [
    "#### Sentiment flow"
   ]
  },
  {
   "cell_type": "code",
   "execution_count": 83,
   "metadata": {},
   "outputs": [],
   "source": [
    "def get_label(utt):\n",
    "    if utt.meta['positive']: return 'positive'\n",
    "    if utt.meta['negative']: return 'negative'\n",
    "    if utt.meta['neutral']: return 'neutral'"
   ]
  },
  {
   "cell_type": "code",
   "execution_count": 179,
   "metadata": {},
   "outputs": [],
   "source": [
    "valences = ['positive', 'negative', 'neutral']"
   ]
  },
  {
   "cell_type": "code",
   "execution_count": 180,
   "metadata": {},
   "outputs": [],
   "source": [
    "from itertools import product"
   ]
  },
  {
   "cell_type": "code",
   "execution_count": 183,
   "metadata": {},
   "outputs": [],
   "source": [
    "def compute_sentiment_flow(ordered_utts):\n",
    "    retval = dict()\n",
    "    num_pos, num_neu, num_neg = 0, 0, 0\n",
    "    for utt in ordered_utts:\n",
    "        if utt.meta['positive']:\n",
    "            num_pos += 1\n",
    "        elif utt.meta['negative']:\n",
    "            num_neg += 1\n",
    "        else:\n",
    "            num_neu += 1\n",
    "            \n",
    "    total = num_pos + num_neg + num_neu\n",
    "    retval['num_positive'], retval['num_neutral'], retval['num_negative'] = num_pos, num_neu, num_neg\n",
    "    retval['prob_positive'], retval['pos_neutral'], retval['pos_negative'] = num_pos / total, num_neu / total, num_neg / total\n",
    "\n",
    "    \n",
    "    transitions = {f'{source}->{sink}': 0 for source, sink in product(valences, valences)}\n",
    "    prev_utt = ordered_utts[0]\n",
    "    for utt in ordered_utts[1:]:\n",
    "        transitions[f'{get_label(prev_utt)}->{get_label(utt)}'] += 1\n",
    "        prev_utt = utt\n",
    "        \n",
    "    total_trans = len(ordered_utts) - 1\n",
    "    for trans, cnt in transitions.items():\n",
    "        retval['prob_{}'.format(trans)] = cnt / total_trans\n",
    "    return retval"
   ]
  },
  {
   "cell_type": "code",
   "execution_count": 184,
   "metadata": {},
   "outputs": [],
   "source": [
    "import math\n",
    "for convo in corpus.iter_conversations():\n",
    "    utts = list(convo.iter_utterances())\n",
    "    num_utts = len(utts)\n",
    "    third_size = math.ceil(num_utts / 3)\n",
    "    convo.meta['global_sentiment'] = {'global_' + k: v for k, v in compute_sentiment_flow(utts).items()}\n",
    "    convo.meta['1st_third_sentiment'] = {'1/3_' + k: v for k, v in compute_sentiment_flow(utts[:third_size]).items()}\n",
    "    convo.meta['2nd_third_sentiment'] = {'2/3_' + k: v for k, v in compute_sentiment_flow(utts[third_size:2*third_size]).items()}\n",
    "    convo.meta['3rd_third_sentiment'] = {'3/3_' + k: v for k, v in compute_sentiment_flow(utts[2*third_size:]).items()}"
   ]
  },
  {
   "cell_type": "code",
   "execution_count": 186,
   "metadata": {},
   "outputs": [],
   "source": [
    "sentiment_clf = Classifier(obj_type='conversation', pred_feats=['global_sentiment', \n",
    "                                                                '1st_third_sentiment', \n",
    "                                                                '2nd_third_sentiment',\n",
    "                                                                '3rd_third_sentiment'\n",
    "                                                               ], labeller=lambda convo: convo.meta['has_dispute'])"
   ]
  },
  {
   "cell_type": "code",
   "execution_count": 188,
   "metadata": {},
   "outputs": [
    {
     "name": "stdout",
     "output_type": "stream",
     "text": [
      "Using corpus objects...\n",
      "Running a cross-validated evaluation...\n",
      "Done.\n",
      "[0.59556787 0.5567867  0.72783934 0.75190575 0.77200277]\n",
      "0.6808204859451397\n"
     ]
    }
   ],
   "source": [
    "res = sentiment_clf.evaluate_with_cv(corpus, )\n",
    "print(res)\n",
    "print(np.mean(res))"
   ]
  },
  {
   "cell_type": "code",
   "execution_count": null,
   "metadata": {},
   "outputs": [],
   "source": []
  },
  {
   "cell_type": "code",
   "execution_count": 13,
   "metadata": {},
   "outputs": [],
   "source": [
    "import seaborn as sns\n",
    "from collections import Counter"
   ]
  },
  {
   "cell_type": "code",
   "execution_count": 14,
   "metadata": {},
   "outputs": [],
   "source": [
    "ctr = Counter(convo_lens)"
   ]
  },
  {
   "cell_type": "code",
   "execution_count": 16,
   "metadata": {},
   "outputs": [
    {
     "data": {
      "text/plain": [
       "{10: 408,\n",
       " 11: 361,\n",
       " 12: 356,\n",
       " 13: 327,\n",
       " 14: 294,\n",
       " 15: 257,\n",
       " 16: 253,\n",
       " 17: 252,\n",
       " 18: 227,\n",
       " 19: 197,\n",
       " 20: 213,\n",
       " 21: 174,\n",
       " 22: 205,\n",
       " 23: 167,\n",
       " 24: 157,\n",
       " 25: 135,\n",
       " 26: 119,\n",
       " 27: 119,\n",
       " 28: 130,\n",
       " 29: 112,\n",
       " 30: 98,\n",
       " 31: 94,\n",
       " 32: 88,\n",
       " 33: 90,\n",
       " 34: 84,\n",
       " 35: 89,\n",
       " 36: 81,\n",
       " 37: 83,\n",
       " 38: 78,\n",
       " 39: 73,\n",
       " 40: 64,\n",
       " 41: 83,\n",
       " 42: 68,\n",
       " 43: 47,\n",
       " 44: 50,\n",
       " 45: 60,\n",
       " 46: 43,\n",
       " 47: 39,\n",
       " 48: 55,\n",
       " 49: 43,\n",
       " 50: 44,\n",
       " 51: 44,\n",
       " 52: 44,\n",
       " 53: 46,\n",
       " 54: 39,\n",
       " 55: 42,\n",
       " 56: 34,\n",
       " 57: 42,\n",
       " 58: 30,\n",
       " 59: 33,\n",
       " 60: 35,\n",
       " 61: 28,\n",
       " 62: 32,\n",
       " 63: 33,\n",
       " 64: 37,\n",
       " 65: 21,\n",
       " 66: 16,\n",
       " 67: 26,\n",
       " 68: 21,\n",
       " 69: 27,\n",
       " 70: 25,\n",
       " 71: 25,\n",
       " 72: 14,\n",
       " 73: 17,\n",
       " 74: 20,\n",
       " 75: 18,\n",
       " 76: 14,\n",
       " 77: 16,\n",
       " 78: 17,\n",
       " 79: 11,\n",
       " 80: 12,\n",
       " 81: 13,\n",
       " 82: 14,\n",
       " 83: 12,\n",
       " 84: 20,\n",
       " 85: 12,\n",
       " 86: 11,\n",
       " 87: 8,\n",
       " 88: 11,\n",
       " 89: 7,\n",
       " 90: 9,\n",
       " 91: 6,\n",
       " 92: 7,\n",
       " 93: 18,\n",
       " 94: 5,\n",
       " 95: 10,\n",
       " 96: 3,\n",
       " 97: 9,\n",
       " 98: 4,\n",
       " 99: 10,\n",
       " 100: 5,\n",
       " 101: 7,\n",
       " 102: 5,\n",
       " 103: 10,\n",
       " 104: 10,\n",
       " 105: 5,\n",
       " 106: 6,\n",
       " 107: 13,\n",
       " 108: 3,\n",
       " 109: 8,\n",
       " 110: 6,\n",
       " 111: 2,\n",
       " 112: 7,\n",
       " 113: 3,\n",
       " 114: 6,\n",
       " 115: 5,\n",
       " 116: 4,\n",
       " 117: 5,\n",
       " 118: 7,\n",
       " 119: 4,\n",
       " 120: 9,\n",
       " 121: 6,\n",
       " 122: 3,\n",
       " 123: 1,\n",
       " 124: 1,\n",
       " 125: 4,\n",
       " 127: 2,\n",
       " 128: 2,\n",
       " 129: 5,\n",
       " 130: 3,\n",
       " 131: 5,\n",
       " 132: 4,\n",
       " 133: 4,\n",
       " 134: 1,\n",
       " 135: 3,\n",
       " 136: 3,\n",
       " 139: 1,\n",
       " 140: 3,\n",
       " 141: 2,\n",
       " 142: 2,\n",
       " 143: 3,\n",
       " 144: 3,\n",
       " 146: 3,\n",
       " 148: 1,\n",
       " 149: 4,\n",
       " 151: 3,\n",
       " 153: 2,\n",
       " 155: 5,\n",
       " 156: 5,\n",
       " 157: 1,\n",
       " 158: 2,\n",
       " 160: 2,\n",
       " 161: 2,\n",
       " 162: 1,\n",
       " 163: 1,\n",
       " 165: 2,\n",
       " 166: 3,\n",
       " 168: 2,\n",
       " 170: 2,\n",
       " 173: 1,\n",
       " 174: 1,\n",
       " 176: 1,\n",
       " 177: 4,\n",
       " 179: 2,\n",
       " 182: 1,\n",
       " 184: 2,\n",
       " 185: 1,\n",
       " 186: 1,\n",
       " 188: 1,\n",
       " 190: 3,\n",
       " 192: 1,\n",
       " 193: 1,\n",
       " 196: 1,\n",
       " 197: 2,\n",
       " 198: 2,\n",
       " 201: 2,\n",
       " 202: 1,\n",
       " 204: 1,\n",
       " 206: 2,\n",
       " 209: 1,\n",
       " 210: 2,\n",
       " 211: 1,\n",
       " 212: 1,\n",
       " 213: 1,\n",
       " 214: 2,\n",
       " 220: 1,\n",
       " 222: 1,\n",
       " 223: 1,\n",
       " 227: 1,\n",
       " 229: 1,\n",
       " 232: 1,\n",
       " 245: 1,\n",
       " 246: 1,\n",
       " 253: 1,\n",
       " 257: 1,\n",
       " 266: 2,\n",
       " 279: 1,\n",
       " 288: 1,\n",
       " 292: 1,\n",
       " 313: 1,\n",
       " 315: 1,\n",
       " 349: 1,\n",
       " 351: 1,\n",
       " 372: 1,\n",
       " 403: 1,\n",
       " 2115: 1}"
      ]
     },
     "execution_count": 16,
     "metadata": {},
     "output_type": "execute_result"
    }
   ],
   "source": [
    "{k: ctr[k] for k in sorted(ctr)}"
   ]
  },
  {
   "cell_type": "code",
   "execution_count": 8,
   "metadata": {},
   "outputs": [
    {
     "data": {
      "text/plain": [
       "<matplotlib.axes._subplots.AxesSubplot at 0x1247f8190>"
      ]
     },
     "execution_count": 8,
     "metadata": {},
     "output_type": "execute_result"
    },
    {
     "data": {
      "image/png": "[encoded data removed]",
      "text/plain": [
       "<Figure size 432x288 with 1 Axes>"
      ]
     },
     "metadata": {
      "needs_background": "light"
     },
     "output_type": "display_data"
    }
   ],
   "source": [
    "sns.distplot(convo_lens)"
   ]
  },
  {
   "cell_type": "code",
   "execution_count": null,
   "metadata": {},
   "outputs": [],
   "source": []
  }
 ],
 "metadata": {
  "kernelspec": {
   "display_name": "Python 3",
   "language": "python",
   "name": "python3"
  },
  "language_info": {
   "codemirror_mode": {
    "name": "ipython",
    "version": 3
   },
   "file_extension": ".py",
   "mimetype": "text/x-python",
   "name": "python",
   "nbconvert_exporter": "python",
   "pygments_lexer": "ipython3",
   "version": "3.7.6"
  }
 },
 "nbformat": 4,
 "nbformat_minor": 2
}
