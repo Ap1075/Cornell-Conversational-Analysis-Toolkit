{
 "cells": [
  {
   "cell_type": "markdown",
   "metadata": {},
   "source": [
    "# Applying the Expected Context Framework to Wikipedia discussions\n",
    "\n",
    "This notebook demonstrates an application of the Expected Context Framework to analyze Wikipedia talk page discussions. We are working up to the following question: what types of comments are more likely to start conversations that eventually derail into toxic personal attacks, versus conversations that remain civil throughout? The notebook goes over a few key function calls along the way; for further details, see [this paper](https://www.cs.cornell.edu/~cristian/Conversations_gone_awry_files/conversations_gone_awry.pdf) for details on the analysis question and datasets, and [TODO: DISSERTATION] for details on the framework and more comments on the below analyses."
   ]
  },
  {
   "cell_type": "markdown",
   "metadata": {},
   "source": [
    "For this demo, we start by training an Expected Context Model on a collection of Wikipedia discussions (different from the dataset we later analyze). In short, we want to infer different _rhetorical types_ of comments that occur at the start of these discussions. Via the framework, we'll derive representations of comments based on their expected replies (the \"forwards context\" of the conversation), and then infer types of comments by clustering these representations. We interpret the resultant clusters as different rhetorical types."
   ]
  },
  {
   "cell_type": "markdown",
   "metadata": {},
   "source": [
    "For an extended version of this analysis, on a slightly older implementation of the model (using the `PromptTypes` functionality), see [this notebook](https://github.com/CornellNLP/Cornell-Conversational-Analysis-Toolkit/blob/master/examples/conversations-gone-awry/Conversations_Gone_Awry_Prediction.ipynb)."
   ]
  },
  {
   "cell_type": "code",
   "execution_count": 1,
   "metadata": {
    "collapsed": true
   },
   "outputs": [],
   "source": [
    "import warnings\n",
    "warnings.filterwarnings('ignore')"
   ]
  },
  {
   "cell_type": "code",
   "execution_count": 2,
   "metadata": {
    "collapsed": true
   },
   "outputs": [],
   "source": [
    "import pandas as pd\n",
    "import numpy as np\n",
    "import math\n",
    "import os"
   ]
  },
  {
   "cell_type": "code",
   "execution_count": null,
   "metadata": {
    "collapsed": true
   },
   "outputs": [],
   "source": []
  },
  {
   "cell_type": "markdown",
   "metadata": {},
   "source": [
    "## 1. Loading and preprocessing the training data"
   ]
  },
  {
   "cell_type": "code",
   "execution_count": 3,
   "metadata": {
    "collapsed": true
   },
   "outputs": [],
   "source": [
    "from convokit import Corpus"
   ]
  },
  {
   "cell_type": "code",
   "execution_count": 4,
   "metadata": {
    "collapsed": true
   },
   "outputs": [],
   "source": [
    "WIKI_CORPUS_PATH = '/kitchen/experimental_justine/convokit_dev/wiki-corpus'"
   ]
  },
  {
   "cell_type": "code",
   "execution_count": 5,
   "metadata": {
    "collapsed": true
   },
   "outputs": [],
   "source": [
    "wiki_corpus = Corpus(WIKI_CORPUS_PATH)"
   ]
  },
  {
   "cell_type": "code",
   "execution_count": 6,
   "metadata": {},
   "outputs": [
    {
     "name": "stdout",
     "output_type": "stream",
     "text": [
      "Number of Speakers: 38462\n",
      "Number of Utterances: 391294\n",
      "Number of Conversations: 125292\n"
     ]
    }
   ],
   "source": [
    "wiki_corpus.print_summary_stats()"
   ]
  },
  {
   "cell_type": "markdown",
   "metadata": {},
   "source": [
    "We represent Wikipedia comments as dependency-parse arcs; in order to capture  rhetorical rather than topical information, we've removed nouns. These features are included with the release of the corpus, and can be loaded as follows:"
   ]
  },
  {
   "cell_type": "code",
   "execution_count": 7,
   "metadata": {
    "collapsed": true
   },
   "outputs": [],
   "source": [
    "wiki_corpus.load_info('utterance',['arcs_censored'])"
   ]
  },
  {
   "cell_type": "markdown",
   "metadata": {},
   "source": [
    "To make sure that the arcs are stored in the right format (i.e., as strings, not lists), we apply the following transformer:"
   ]
  },
  {
   "cell_type": "code",
   "execution_count": 8,
   "metadata": {
    "collapsed": true
   },
   "outputs": [],
   "source": [
    "from convokit.text_processing import TextProcessor\n",
    "join_arcs = TextProcessor(input_field='arcs_censored', output_field='arcs',\n",
    "                     proc_fn=lambda sents: '\\n'.join(sents))\n",
    "wiki_corpus = join_arcs.transform(wiki_corpus)"
   ]
  },
  {
   "cell_type": "markdown",
   "metadata": {},
   "source": [
    "In applying the framework, we need to associate utterances with their replies. One comment can receive multiple replies; here, we arbitrarily choose one (noting that future work could make better use of this additional information). "
   ]
  },
  {
   "cell_type": "code",
   "execution_count": 9,
   "metadata": {
    "collapsed": true
   },
   "outputs": [],
   "source": [
    "for ut in wiki_corpus.iter_utterances(selector=lambda x: x.reply_to is not None):\n",
    "    wiki_corpus.get_utterance(ut.reply_to).meta['next_id'] = ut.id"
   ]
  },
  {
   "cell_type": "code",
   "execution_count": null,
   "metadata": {
    "collapsed": true
   },
   "outputs": [],
   "source": []
  },
  {
   "cell_type": "markdown",
   "metadata": {},
   "source": [
    "## 2. Applying the Expected Context Framework\n"
   ]
  },
  {
   "cell_type": "code",
   "execution_count": 10,
   "metadata": {
    "collapsed": true
   },
   "outputs": [],
   "source": [
    "from convokit.expected_context_framework import ColNormedTfidfWrapper, ExpectedContextModelWrapper"
   ]
  },
  {
   "cell_type": "markdown",
   "metadata": {},
   "source": [
    "To apply the Expected Context Framework, we start by converting the input utterance text to an input vector representation. Here, we represent utterances in a term-document matrix that's _normalized by columns_ (empirically, we found that this ensures that the representations derived by the framework aren't skewed by the relative frequency of utterances). We use the `ColNormedTfidfWrapper` transformer to do this.\n",
    "\n",
    "We found that it was preferable to derive different tf-idf representations (and hence different inverse document frequencies, normalization terms, and vocabularies) for comments that receive replies, and utterances that have predecessors. We make this partitioning by passing in different selectors to the `fit` functions below.\n",
    "\n",
    "The two sets are of course overlapping, but the former set mostly contains comments that start conversations, and the second contains more comments that reply to conversation-starters. We note that we'd expect the language of conversation-starters and repliers to be slightly different (i.e., the former tend to be requests, and the latter tend to be responses to these requests)."
   ]
  },
  {
   "cell_type": "code",
   "execution_count": 11,
   "metadata": {
    "collapsed": true
   },
   "outputs": [],
   "source": [
    "first_tfidf_obj = ColNormedTfidfWrapper(input_field='arcs', output_field='first_tfidf', binary=True, min_df=50)\n",
    "_ = first_tfidf_obj.fit(wiki_corpus, selector=lambda x: x.meta.get('next_id',None) is not None)\n",
    "_ = first_tfidf_obj.transform(wiki_corpus)\n",
    "\n",
    "second_tfidf_obj = ColNormedTfidfWrapper(input_field='arcs', output_field='second_tfidf', binary=True, min_df=50)\n",
    "_ = second_tfidf_obj.fit(wiki_corpus, selector=lambda x: x.reply_to is not None)\n",
    "_ = second_tfidf_obj.transform(wiki_corpus)"
   ]
  },
  {
   "cell_type": "markdown",
   "metadata": {},
   "source": [
    "We then initialize an Expected Context Model:\n",
    "* we specify that the conversational context we will derive our comment representations from is the reply, `context_field=next_id`\n",
    "* as input, the model will use tf-idf representations from `vect_field=first_tfidf` to represent comments, and `context_vect_field=second_tfidf` to represent context comments\n",
    "* we'll derive `n_svd_dims=25`-dimensional representations, and infer `n_clusters=6` clusters\n",
    "* to infer these clusters, we will cluster _term_-level representations, `cluster_on='terms'`. Note that by default, the model will cluster _comment_-level representations, but in this context (perhaps since comments can get fairly long and unstructured), clustering on terms produces more interpretable output."
   ]
  },
  {
   "cell_type": "code",
   "execution_count": 12,
   "metadata": {
    "collapsed": true
   },
   "outputs": [],
   "source": [
    "ec_fw = ExpectedContextModelWrapper(\n",
    "    context_field='next_id', output_prefix='fw', \n",
    "    vect_field='first_tfidf', context_vect_field='second_tfidf', \n",
    "      n_svd_dims=25, n_clusters=6, cluster_on='terms',\n",
    "     random_state=1000, cluster_random_state=1000)"
   ]
  },
  {
   "cell_type": "markdown",
   "metadata": {},
   "source": [
    "(note that the following call takes some time to run)"
   ]
  },
  {
   "cell_type": "code",
   "execution_count": 13,
   "metadata": {
    "collapsed": true
   },
   "outputs": [],
   "source": [
    "ec_fw.fit(wiki_corpus, selector=lambda x: (x.meta.get('first_tfidf__n_feats',0)>=1)\n",
    "                                  and (x.meta.get('next_id',None) is not None), \n",
    "            context_selector=lambda x: (x.meta.get('second_tfidf__n_feats',0)>= 1)\n",
    "                         and (x.reply_to is not None))"
   ]
  },
  {
   "cell_type": "code",
   "execution_count": null,
   "metadata": {
    "collapsed": true
   },
   "outputs": [],
   "source": []
  },
  {
   "cell_type": "markdown",
   "metadata": {},
   "source": [
    "### Inferred comment types\n",
    "\n",
    "Below, we print representative terms, comments, and context terms and comments for the clusters we've inferred (note that the output is quite long)"
   ]
  },
  {
   "cell_type": "code",
   "execution_count": 14,
   "metadata": {},
   "outputs": [
    {
     "name": "stdout",
     "output_type": "stream",
     "text": [
      "CLUSTER 0 0\n",
      "---\n",
      "terms\n",
      "           cluster_dist\n",
      "index                  \n",
      "'m_*           0.497348\n",
      "thought_*      0.498929\n",
      "guess_*        0.508338\n",
      "sorry>*        0.521577\n",
      "know_*         0.526687\n",
      "had_*          0.531728\n",
      "got_*          0.537593\n",
      "'s_*           0.543810\n",
      "have>*         0.544413\n",
      "saw_*          0.549280\n",
      "\n",
      "context terms\n",
      "          cluster_dist\n",
      "index                 \n",
      "saw_*         0.598228\n",
      "yes>*         0.603147\n",
      "knew_*        0.607990\n",
      "but>*         0.614208\n",
      "oh>*          0.615937\n",
      "anyway>*      0.619059\n",
      "hey>*         0.620055\n",
      "guess_*       0.620307\n",
      "oh_*          0.635252\n",
      "and>*         0.639936\n",
      "\n",
      "\n",
      "utterances\n",
      "> 512605 0.456 Thanks for your help but I thought I'd point [http:\\/\\/en.wikipedia.org\\/w\\/index.php?title=List_of_Playboy_Playmates_of_1962&curid=27082401&diff=358137637&oldid=357917384 this] out.  Thanks again, <s\n",
      "> 384706 0.463 Sorry but I don't know. I 've seen people doing this manually based. -- \n",
      "> 58226 0.464 Hi WFinch. I think it's awesome that you're improving Nero Wolfe articles, but I'm curious - do you know the copyright status of the scripts you are linking to in some articles (eg [[The Silent Speake\n",
      "> 141668 0.464 [http:\\/\\/en.wikipedia.org\\/w\\/index.php?title=Halloween_%281978_film%29&curid=20179415&diff=443119488&oldid=443117044 This] was gorgeous.  I thought I had done some severe cutting in my plot trimming\n",
      "> 294263 0.468 Yes, I saw the comment, and thought it was likely to be the case. I found myself itching to add ''proto-'' in the lede, but that's probably a worse fudge than using an anachronistic term that is widel\n",
      "> 325392 0.469 Well, to be honest I knew I was probably not following the right protocol! I thought my solution would be ok but I guess I should have asked for help instead. Anyways, thanks for the advice and the cl\n",
      "> 134322 0.470 LOL! Sorry about that man. I just think all this confusing about it is ridiculous. By the way, the reason I suggested the second cover go by Disc Two or Meet Miley Cyrus Cover is so it won't get contr\n",
      "> 341552 0.471 (I think when referring to chart positions, it is better to use numerals whether or not our friendly style guide suggests  it, if in fact it comments (as opposed to spelling out numbers one to nine). \n",
      "> 24168 0.471 By the way, just thought I'd say that I think the recent edits you made to this article look good. There's so much negativity all the time I like to consciously remember to comment on useful additions\n",
      "> 549552 0.472 Ah... that makes sense. Thanks. Do you know who is responsible for picking names? The [[Admiralty]]? I've seen a lot of RN ship names (especially 18th century) that seem like somebody threw a dart at \n",
      "\n",
      "context utterances\n",
      ">> 141287 0.550 Hey thanks mate atleast someone has the logical mind to remove trashy pov its a shame that admins who protect these articles like k2 and nanga parbat turn a blind eye towards this blatant pov just bec\n",
      ">> 177807 0.554 Very nice, well done, Maybe format the dates? from 00-00-00, to 1 August 1111, as an exemple. but overall, you did a wonderful job on the list. <br \\/>&nbsp;&nbsp;\\u2013 ''\n",
      ">> 70287 0.568 Re Eddie Watkins. Yes it is, he joined Wigan in March 1939. I'll update the article to reflect his league career today. When I started writing many of the Welsh articles I had a limited number of refe\n",
      ">> 422098 0.569 I saw you had contributed to video game articles and I remember many video game pictures from Ubisoft were deleted from Commons, so I wondered what if anything you might have uploaded there, since it'\n",
      ">> 344312 0.578 Thanks. But I saw that William, a real expert, already talked to him. --\n",
      ">> 234888 0.586 It's no big deal. After thinking about it, I guess you're right about this. --\n",
      ">> 23171 0.590 Yeah, I guess it makes sence. Since the CFL doesn't play all their games on one particular day of the week. And thanks the website, I got all my information from [http:\\/\\/michigan-football.com\\/cfl\\/\n",
      ">> 394976 0.592 hi Maurreen, it more happenstance than system, i was filling in red links at [[MacArthur Fellows Program]], (which to me is a snowball keep) and checking histories, saw a couple that i undid, also fou\n",
      ">> 576498 0.594 Wow Mongo, never expected this. You've had a hard time here, but your work dealing with fringe views is invaluable. I hope you can look beyond this one block and see that you are very much appreciated\n",
      ">> 583441 0.596 I was just starting to RC patrol when I saw that diff. I thought it looked fimiliar and I realised I had one just like that[http:\\/\\/en.wikipedia.org\\/w\\/index.php?title=User_talk%3ASpellcast&diff=149\n",
      "\n",
      "====\n",
      "\n",
      "CLUSTER 1 1\n",
      "---\n",
      "terms\n",
      "              cluster_dist\n",
      "index                     \n",
      "let_*             0.507374\n",
      "done_*            0.509473\n",
      "appreciate_*      0.512464\n",
      "tried_*           0.524234\n",
      "help_*            0.530647\n",
      "let_know          0.536958\n",
      "look_*            0.540756\n",
      "hi>*              0.545773\n",
      "hi_*              0.548464\n",
      "take_*            0.549002\n",
      "\n",
      "context terms\n",
      "               cluster_dist\n",
      "index                      \n",
      "okay>*             0.641118\n",
      "ok>*               0.646864\n",
      "alright>*          0.653850\n",
      "uploaded_have      0.670640\n",
      "update_*           0.681726\n",
      "ok_*               0.683843\n",
      "helps_*            0.705702\n",
      "cool>*             0.707850\n",
      "cool_*             0.709546\n",
      "hope_do            0.712557\n",
      "\n",
      "\n",
      "utterances\n",
      "> 164003 0.446 Good work on the list of Jat clans. It would be nice if there were a more current census.  Let me know if you need help with polishing on articles you write, and I will be glad to edit.  You might use\n",
      "> 550714 0.452 Hello Splash! I haven't had much of a chance for correspondance lately, getting ready for the start of the new semester and all that, but I've been wondering what your ideas are concerning the [[Londo\n",
      "> 350317 0.454 If you do ever choose to run again, please let me know.  I'll be there. &mdash;&nbsp;\n",
      "> 340943 0.455 Let me know which sound files you want added. I'd like to see \\\"Harborcoat\\\", but I suppose I would have to be \\\"Letter Never Sent\\\" or \\\"Camera\\\" from that album. \n",
      "> 161635 0.456 Once you've figured out what format you want, let me know what archive names you want and what you want at the top of each archive and I'll be able to set up the bot for you. '''<span style=\\\"font-fam\n",
      "> 365578 0.457 Hi Sydney. I hope this finds you well. My name is Matthew Roth and I'm a Storyteller at the Wikimedia Foundation. We're chronicling the inspiring stories of the Wikipedia community, especially editors\n",
      "> 339036 0.457 Hi Leah, good hearing from you again! When I'm creating books, I mainly create them on two merits: The first is that I must have some sort of interest in the topic, and the second is that the topic mu\n",
      "> 107916 0.459 You might try contacting user [[User talk:Colds7ream|Colds7ream]], who successfully took [[International Space Station]] through FAC a year ago -- they may be both knowledgeable and willing to help wi\n",
      "> 570792 0.460 I actually don't know how to do that. If you can point me at any examples of what you're trying to do, I'll prod at it and let you know how it works. I'd like to encourage you to focus less on your us\n",
      "> 462990 0.461 Your help is very much appreciated. I don't know if I understand exactly all what you mean but I will try my best. The examples of other composers that you suggested will be a great help. I will be in\n",
      "\n",
      "context utterances\n",
      ">> 296304 0.601 Alright; got someone else I could bug? I've already contacted Fuchs. <font face=\\\"Verdana\\\">\n",
      ">> 165740 0.610 Thanks, I appreciate the help.  The list above helps, and I'll mess with it some more to see if any further scrutiny is required to eliminate the chances of tagging incorrect images.  \n",
      ">> 347273 0.616 Hi, you have some good comments. I started a rudimentary Core Topics COTW at [[Wikipedia:Version 1.0 Editorial Team\\/Core topics\\/Core topics COTW]]. We can see how it goes. Thanks. \n",
      ">> 321554 0.618 OK with the group we can do it all. Although Picasso images are proving to be tough to work with because of copyrights and estate issues. Olympia, maybe or late Monet - what a story. \n",
      ">> 551717 0.623 Great, I hate autoblocks. They're more trouble than they're worth in situations like these. Ok, off to deliver pizzas...<font color=\\\"#4682B4\\\">\n",
      ">> 90138 0.623 Okay. Nevertheless, please drop a line on the football project talk page once the discussion has been opened. --\n",
      ">> 374426 0.625 Okay, I appreciate your looking into it, \n",
      ">> 545836 0.629 Hey there. Yes, I do see your argument, but unfortunately with organisations like the CDC and WHO all referring to this as \\\"swine influenza\\\" (see [http:\\/\\/www.who.int\\/csr\\/disease\\/swineflu\\/en\\/i\n",
      ">> 543511 0.631 Ok then... I appreciate the recognition though. Thanks, <b><font face=\\\"Arial\\\" color=\\\"1F860E\\\">[[User:BrendelSignature|Signature]]<\\/font><font color=\\\"20038A\\\"><sup>\n",
      ">> 239293 0.643 Since he hasn't edited since the end of August, I also dropped a copy on Jpgordon's page as well.  Hopefully we'll hear from one of them soon. \n",
      "\n",
      "====\n",
      "\n"
     ]
    },
    {
     "name": "stdout",
     "output_type": "stream",
     "text": [
      "CLUSTER 2 2\n",
      "---\n",
      "terms\n",
      "               cluster_dist\n",
      "index                      \n",
      "deleted_*          0.483710\n",
      "deleted_be         0.542814\n",
      "remove_*           0.551680\n",
      "restored_*         0.560979\n",
      "deleted_was        0.577411\n",
      "deleted_not        0.580295\n",
      "deleted_is         0.586556\n",
      "find_can           0.586681\n",
      "remove_from        0.589373\n",
      "remove_please      0.591656\n",
      "\n",
      "context terms\n",
      "               cluster_dist\n",
      "index                      \n",
      "hello_*            0.617250\n",
      "restored_'ve       0.634718\n",
      "restored_*         0.635371\n",
      "hello>*            0.662584\n",
      "restored_have      0.666999\n",
      "replaced_with      0.673871\n",
      "since>*            0.675255\n",
      "replaced_*         0.679293\n",
      "tag_*              0.693324\n",
      "provided_*         0.694144\n",
      "\n",
      "\n",
      "utterances\n",
      "> 116734 0.471 also ... you deleted mention in the body of at least one bio of the fact that the person was Jewish.  Please RV all such deletions, or let me know why you do not wish to do so.  Thanks. --\n",
      "> 111384 0.473 To clarify, [[WP:G4]] only applies to articles deleted per a [[WP:XFD|deletion discussion]], not those deleted via [[WP:CSD]]. Cheers \\u2014\n",
      "> 373927 0.474 the article was deleted due to copyright infringement. OTRS has received permission from the copyright holder under CC-by-sa-3.0 to use the material. If you have OTRS access, please consult ticket# 20\n",
      "> 23238 0.475 I know you've managed to deflect concerns about your userpage in the past, Timeshift, but I'm afraid it'll be best for everyone if you take GorillaWarfare's advice now, rather than taking this to an M\n",
      "> 490974 0.476 Hi. Please do not recreate \\\"WP:USER.pce3@ij.net\\\". Doing so constitutes recreation of deleted material and will be deleted on sight and may lead to blocking of your account. --PS2pcGAMER (talk) 10:59\n",
      "> 527977 0.478 The article was deleted at a second AfD nomination ([[Wikipedia:Articles for deletion\\/List of city nicknames (2nd nomination)]]). The result on that nomination was delete. If you want to contest the \n",
      "> 290756 0.480 The edit you made [http:\\/\\/en.wikipedia.org\\/w\\/index.php?title=Political_positions_of_Barack_Obama&diff=254112557&oldid=254098937 here] constitutes a misuse of the rollback feature, and I must ask y\n",
      "> 42967 0.481 The inclusionists, so far as I know, have won the culture war at XfD. If you have even two or three refs from any even semi-decent source, the article will not be deleted. Moreover, you can make a cas\n",
      "> 495307 0.482 The deletion log[http:\\/\\/en.wikipedia.org\\/w\\/index.php?title=Special:Log\\/delete&page=Bernadette_Sands_McKevitt] states ''deleted \\\"Bernadette Sands McKevitt\\\" (csd a7)'' - I have no idea what a ''c\n",
      "> 427636 0.482 You have your email turned off.  Therefore, you have to email me.  If you're referring to this: [[Wikipedia:Articles for deletion\\/Alexander MacGregor]], the result was '''no consensus'''.  Any inform\n",
      "\n",
      "context utterances\n",
      ">> 344102 0.589 Hi Mrg. If you check out [[Latin alphabet]], you will see that this term is not restricted to the original Roman alphabet, but includes the close derivatives like German (with umlauts \\xe4,\\xdc,...), \n",
      ">> 263586 0.599 Hello. Well, everything needs to be verifiable. If the photograph says that it can be reproduced then I would advise that that permission also needs to be be uploaded and linked to. \n",
      ">> 517615 0.611 Thank you for warning me about 3rr. I was acting in goodwill as proposed by [[User:Kmccoy|kmccoy]]'s mediation, by substituting the compromise (temp) version of the article for the disputed one. All p\n",
      ">> 336908 0.616 Hi Mike, seriously, nothing personal. If I hadn't made the changes, somebody, eventually would have. I would recommend that you review some of Wikipedia's policy, guidelines and FAQs at [[WP:HELP]]. A\n",
      ">> 264359 0.616 Hi. <nowiki>{{nn-band}}<\\/nowiki> means \\\"non-notable band.\\\" Your article failed the criteria for inclusion outlined at [[WP:BAND]]. For inclusion, you MUST cite several reliable third party referenc\n",
      ">> 123827 0.626 Hello! It so happens that my mother (76 years old) was with him in the same class and remembers him very well. If you need any details on personnal basis that could clarify anything - just ask.  --\n",
      ">> 503563 0.626 Oh for heaven's sake you two. Stop bickering about the past. Homologeo, if some of the deleted material is worth discussing then discuss it. You don't need to restore old edits for that. If it is hard\n",
      ">> 532648 0.627 In that case, no problem. Page is restored. For proper formatting, I advise you to check some similar articles and try to format it in the similar way. Any by the way, if you upload a photo, you shoul\n",
      ">> 480730 0.629 Man was that ever. Ok, I will first review you edits to see what we need to do. If you don't have email set please do. Friday is also your coach and  I advise you to contact him to see if we can set u\n",
      ">> 117653 0.630 842U, I see that elsewhere you have recently directed this editor to [[WP:OWN]]. IIRC when a similar issue arose concerning this editor, [[User:Daniel_J._Leivick]] took a special interest in him and g\n",
      "\n",
      "====\n",
      "\n",
      "CLUSTER 3 3\n",
      "---\n",
      "terms\n",
      "           cluster_dist\n",
      "index                  \n",
      "is_*           0.558697\n",
      "is_there       0.564460\n",
      "is_not         0.576292\n",
      "is_is          0.591916\n",
      "even>*         0.593364\n",
      "seems_to       0.600885\n",
      "'s_not         0.609943\n",
      "what>*         0.614863\n",
      "are_not        0.617335\n",
      "mean_does      0.617859\n",
      "\n",
      "context terms\n",
      "           cluster_dist\n",
      "index                  \n",
      "to>*           0.631598\n",
      "has_*          0.631947\n",
      "is_*           0.650184\n",
      "as>*           0.660322\n",
      "is_fine        0.662922\n",
      "in>*           0.668126\n",
      "is_to          0.669242\n",
      "is_see         0.678658\n",
      "because>*      0.689098\n",
      "makes_*        0.689591\n",
      "\n",
      "\n",
      "utterances\n",
      "> 531550 0.526 It is not that big of a deal or anything, but there are some college\\/university navbars that have unique fonts on the heading. The only reason I did it like that, is because that specific font is ver\n",
      "> 526290 0.531 Is the asterisk in the infobox a stray mark or does it mean something? \n",
      "> 356839 0.533 In the caption to this phote there is a small error. The word \\\"rebar\\\" is slang for reinforcement bar. What the workers are placing is not rebar but welded wire reinforcement, abbreviated WWR, someti\n",
      "> 559270 0.535 Deleting is not the most appropiate solution to the problem. Protecting the article, blocking the offending users and continued editing efforts are better solutions. \n",
      "> 332579 0.535 There is one important factor here: changing a category to a list is not a removal of information. \n",
      "> 61281 0.536 But lack of reliable sources for an article in the process of being written is not grounds for speedy deletion! \n",
      "> 189103 0.536 But Ireland is not in the World Cup. Extremely sexy 12:19, 25 June 2006 (UTC)\n",
      "> 133651 0.538 There is no cabal, and this is not a secret message. 000393DB396E. --\n",
      "> 178596 0.538 what a lot of utter (expletive deleted) - the order of the logic by the editor is fundamentally wrong and against the general intent of things work - add content and then verify is not how it works - \n",
      "> 134734 0.540 I think a reader expects a link to the authority when the link is so labelled as being to the authority. The unitary authority in this case ''is'' [[Cornwall Council]] - [[Cornwall]] is ''not'' a unit\n",
      "\n",
      "context utterances\n",
      ">> 159825 0.613 For some reason, the original block failed, as it didn't register in the block log. But the good news is that the re-block succeeded. --\n",
      ">> 40914 0.622 Hehe, I'm relieved to see that the bot has very little idea of how I think - though the obvious articles related to Wikileaks are always interesting. ;)  I can see that after my editing the [[Critical\n",
      ">> 210360 0.626 And giving that terminology too much weight. That is all my complaint is.\n",
      ">> 280606 0.626 Paper33d was protesting Morwen's warnings (plural) and clearly not understanding the issue when I added my first note, which was explanatory and '''not''' a warning. The policy against blanking talk p\n",
      ">> 197116 0.628 Do you have some further information on this? I know that &amp;ndash; is the  correct html source but the Wikipeda software does more than just displaying html. For example umlaut \\xe4 doesn't have to\n",
      ">> 505876 0.629 I understand that rule with the talk headers and I only do it as a minor edit when Im there doing other things.  The problem I have with that rule in general is that without the talk header newbys and\n",
      ">> 483934 0.631 And I hate to think he's a [[Dungeons & Dragons|D&D]] fan, but the only reference I can find to that term is in [[Nodwick]]. Go figure... -\n",
      ">> 275755 0.634 And \\u09b8\\u09cc\\u09ae\\u09cb is just my name in [[Bengali language|Bengali]]. --''\n",
      ">> 88155 0.637 As my German friends used to say ''Machs Nicth'' sp, makes no difference as long as a source supports whatever section they fall under. --\n",
      ">> 405770 0.637 In the spirit of good faith, of course, I will assume that this was a case of some overly fast twinkle-editing which resulted in a message going to the wrong person, which I will of course forgive, wi\n",
      "\n",
      "====\n",
      "\n",
      "CLUSTER 4 4\n",
      "---\n",
      "terms\n",
      "                cluster_dist\n",
      "index                       \n",
      "thinking_*          0.738030\n",
      "think_be            0.741211\n",
      "be_there            0.751830\n",
      "start_should        0.758371\n",
      "make_sure           0.759340\n",
      "thinking_about      0.760743\n",
      "what>do             0.765511\n",
      "thinking_'m         0.768603\n",
      "be_might            0.772642\n",
      "hmm>*               0.772663\n",
      "\n",
      "context terms\n",
      "           cluster_dist\n",
      "index                  \n",
      "split_*        0.798109\n",
      "turn_*         0.832830\n",
      "perhaps>*      0.835086\n",
      "then>*         0.837803\n",
      "but>if         0.845863\n",
      "think_yes      0.854162\n",
      "could_*        0.854613\n",
      "finish_*       0.858283\n",
      "tend_be        0.858555\n",
      "set_*          0.858626\n",
      "\n",
      "\n",
      "utterances\n",
      "> 344270 0.705 Maybe its a matter of definition. Where does \\\"uncomfortable\\\" go to \\\"painful\\\"? To be honest, my evidence is purely anecdotal - I was thinking about warm water mixers in showers. Modern ones often a\n",
      "> 157057 0.709 I agree about making an end-box version of the Holocaust infobox to be used in place of the sidebar version. I don't know a lot about infobox editing, however - though this might be an opportunity to \n",
      "> 563614 0.710 Poor [[User:Ron Ritzman|Ron Ritzman]]! &#9786;<p>I see that you blocked {{user|Frnnrthprd}}.  I, given [http:\\/\\/en.wikipedia.org\\/w\\/index.php?diff=390963663&oldid=390939755 this], which is BLP vanda\n",
      "> 389411 0.711 Hmm, you raise good arguments. If the material is posted directly on the talk page a header is indeed required. Thinking about it a bit. '''Yoenit''' (\n",
      "> 176895 0.711 Shouldn't it be formatted like another notability guideline, ala [[Wikipedia:Notability (people)]]? There might be a school one already? \\u2022 <span style=\\\"font-variant:small-caps\\\"><font color=\\\"#8\n",
      "> 399915 0.714 In other news . . . I'd been thinking of nominating one or two clueful people as administrator. These are people who've been beavering away ''writing articles'' and making informative contributions to\n",
      "> 27579 0.714 Also I would be curious what you think about the choices it makes about which symbols are suitble for rendering as simple html.  To me many things should probably include spaces that do not.  But issu\n",
      "> 487973 0.715 My best advice to you is that one should avoid getting caught up in the debates on the RfA, or worrying to much about this go-round.  While this RfA is unlikely to succeed, I think if you broaden your\n",
      "> 197697 0.719 You don't have infoboxes everywhere. If it is about inserting original script in normal articles, it might be better to have something like the IPA template and a font presented horizontally. If so, w\n",
      "> 492604 0.719 I would agree if it was clear that all of these categories should be treated the same.  That may well be the case.  There is also another interesting question raised here if you look at the parent cat\n",
      "\n",
      "context utterances\n",
      ">> 271870 0.773 Maybe if the building has enough content then split it into an own separate article... <small style=\\\"font:bold 12px Courier New;display:inline;border:#009 1px dashed;padding:1px 6px 2px 7px;white-spa\n",
      ">> 191805 0.793 Ok, split. \n",
      ">> 337287 0.794 Then Buddha must love me :). Hey, no biggie here. Cheers and take care! --\n",
      ">> 577834 0.798 That's good to see that you've noticed some errors, I assume there could be many. I didn't create the content, I only split existing content from [[Mickey Mouse]] into a new article.  --  \n",
      ">> 96972 0.799 BTW, if the section gets too long, it can always be split off into a new article. \n",
      ">> 183800 0.801 Troublesome? Should I be donning my flameproof suit yet again? Argh! but thank you. Much to be done on Khokhar, I think. - \n",
      ">> 575632 0.805 Hire me to be your campaign manager. With any luck, we'd split the Republican vote right in half.\\u2014\n",
      ">> 48820 0.807 We agree that [http:\\/\\/www.os390-mvs.freesurf.fr\\/mvshist.htm MVS... a long history] is \\\"not a well-established source, it's just the readily available one\\\" (although it looks like it's written by \n",
      ">> 247277 0.810 Should I pass the pooh to Materialscientist who changed to the de-version? (No I won't) --\n",
      ">> 141862 0.812 FYI, the basketball coach navboxes for five of the six major conferences (ACC, Big Ten, Big XII, Pac-10, SEC) have now been upgraded.  Once we finish enhancing the Division I basketball navboxes and p\n",
      "\n",
      "====\n",
      "\n",
      "CLUSTER 5 5\n",
      "---\n",
      "terms\n",
      "            cluster_dist\n",
      "index                   \n",
      "reverted_*      0.610958\n",
      "report_*        0.618923\n",
      "revert_*        0.637270\n",
      "appears_*       0.650385\n",
      "explain_*       0.675527\n",
      "warned_*        0.682376\n",
      "think_did       0.685245\n",
      "for>*           0.687296\n",
      "was_not         0.687717\n",
      "welcome_to      0.689001\n",
      "\n",
      "context terms\n",
      "             cluster_dist\n",
      "index                    \n",
      "ignore_*         0.715005\n",
      "fixed_have       0.742801\n",
      "refused_*        0.746171\n",
      "accusing_*       0.759295\n",
      "apologize_*      0.765259\n",
      "handled_*        0.766994\n",
      "extended_*       0.767898\n",
      "continue_do      0.768159\n",
      "keeping_*        0.774206\n",
      "clarify_*        0.775986\n",
      "\n",
      "\n",
      "utterances\n",
      "> 279892 0.564 First of all, about edit - Eupator removed not only my edit but others. I have showed now on talkpage another neutral source to support my edit. But question is not about content but about behavior. A\n"
     ]
    },
    {
     "name": "stdout",
     "output_type": "stream",
     "text": [
      "> 349468 0.569 And they are back again [http:\\/\\/en.wikipedia.org\\/w\\/index.php?title=Trigger_point&diff=213404241&oldid=213149905]. I reverted this time. --\n",
      "> 385865 0.572 Yes Fainites, direktor reverted all other users as well. And, no, C didn\\xb4t edit-warred this time, he only reverted direktor, who actually started edit-warring again, just as he continuosly does in \n",
      "> 364488 0.572 I have [[Totimoshi|restored the article]] with some text and refs. It's not much, but I believe that the notability has been established because the band has been reviewed by multiple unrelated public\n",
      "> 267363 0.577 Yes, there is a guideline, policy, or whatever. \\\"Requirement\\\" on Wikipedia is to strong a word. But it does say in [[WP:Footnotes]] or [[WP:CITE]] or someplace that a \\\"bunch of links at the bottom\\\n",
      "> 362856 0.578 You reverted the page four times, Sanders. That's a violation. \n",
      "> 214104 0.580 I've just noticed your hidden comment in this edit, [http:\\/\\/en.wikipedia.org\\/w\\/index.php?title=Will_Eisner&diff=next&oldid=171281643].  Please note such comments are counter to our policies on [[W\n",
      "> 476805 0.581 Thanks for your offer to unblock me. I would obviously have accepted your conditions but was so thoroughly disgusted by the ridiculousness of the block that I didn't even bother to sign in for a week \n",
      "> 153679 0.585 Yes, the latter certainly appears to be a breach of the traditional rights and also of Magna Carta - yet according to a judge interviewed on R4 the other night, it is precisely what Parliament has dec\n",
      "> 484395 0.585 I was going to be bold and \\\"fix\\\" this, but it appears that it will require an administrator change and I found that you had explicitly changed this stuff.   Can you please explain to me why DNS shou\n",
      "\n",
      "context utterances\n",
      ">> 234254 0.686 Hi Harry<br> Yes, the National Jockey's Hall of Fame did exist at Pimlico and burnt to ground when [[Pimlico]]'s historic Clubhouse caught fire and then both ceased to exist. That was infact the build\n",
      ">> 569540 0.691 Eh?  I stopped using that '''ages''' ago, when first alerted to a problem!  My sig now links though to my talk page and contains no image or other html\\/wiki code. Regards, \n",
      ">> 573280 0.712 How is Gator1? I hope everything has worked out but I'm disappointed to have not seen some decisive stance taken by the [[User talk:Jimbo Wales#Gator1 stalked in the real world|wikipedia chief]]. I ho\n",
      ">> 215912 0.714 I sign off mostly all my comments with \\\"Thanks!\\\"  Just habbit I guess.  I apologize if I offended you by saying that. \n",
      ">> 408379 0.716 Just FYI, you struck almost your entire guide - which I think was an typo in the wikicode - so I [http:\\/\\/en.wikipedia.org\\/w\\/index.php?title=User:Heimstern\\/ACE2010&diff=400313994&oldid=400311822 f\n",
      ">> 441447 0.722 Ok, thx a lot. I corrected my mistake in RFC: [http:\\/\\/en.wikipedia.org\\/w\\/index.php?title=Wikipedia%3ARequests_for_comment%2FCollect&diff=284157460&oldid=284155997] He still violated terms of his u\n",
      ">> 513939 0.724 Okay, I accept that this case is analogous to species names. \n",
      ">> 327599 0.728 Your right I copied each page and then changed all the information to try and save time. Thanks for cleaning them up. \n",
      ">> 267445 0.729 I apparently sent you (and a some other people) the wrong stuff by mistake ! This whole FA thing is complicated and as it turns out the article is [http:\\/\\/en.wikipedia.org\\/wiki\\/Wikipedia:Featured_\n",
      ">> 431892 0.730 Apology accepted :) Okay, if the consensus is for there to be no hyphens, I'll accept that, though it still comes as a surprise, amd still doesn't explain why adverbs which don't end -ly aren't treate\n",
      "\n",
      "====\n",
      "\n"
     ]
    }
   ],
   "source": [
    "ec_fw.print_clusters(k=10,corpus=wiki_corpus,max_chars=200)"
   ]
  },
  {
   "cell_type": "markdown",
   "metadata": {},
   "source": [
    "demo continues below"
   ]
  },
  {
   "cell_type": "markdown",
   "metadata": {},
   "source": [
    "Per our interpretation, we assign the following names to these clusters:"
   ]
  },
  {
   "cell_type": "code",
   "execution_count": 15,
   "metadata": {
    "collapsed": true
   },
   "outputs": [],
   "source": [
    "ec_fw.set_cluster_names(['casual', 'coordination', \n",
    "              'procedures', 'contention',\n",
    "             'editing', 'moderation'])"
   ]
  },
  {
   "cell_type": "code",
   "execution_count": 16,
   "metadata": {},
   "outputs": [
    {
     "data": {
      "text/html": [
       "<div>\n",
       "<style scoped>\n",
       "    .dataframe tbody tr th:only-of-type {\n",
       "        vertical-align: middle;\n",
       "    }\n",
       "\n",
       "    .dataframe tbody tr th {\n",
       "        vertical-align: top;\n",
       "    }\n",
       "\n",
       "    .dataframe thead th {\n",
       "        text-align: right;\n",
       "    }\n",
       "</style>\n",
       "<table border=\"1\" class=\"dataframe\">\n",
       "  <thead>\n",
       "    <tr style=\"text-align: right;\">\n",
       "      <th></th>\n",
       "      <th>utts</th>\n",
       "      <th>terms</th>\n",
       "      <th>context_utts</th>\n",
       "      <th>context_terms</th>\n",
       "    </tr>\n",
       "  </thead>\n",
       "  <tbody>\n",
       "    <tr>\n",
       "      <th>casual</th>\n",
       "      <td>0.336966</td>\n",
       "      <td>0.195341</td>\n",
       "      <td>0.201834</td>\n",
       "      <td>0.205236</td>\n",
       "    </tr>\n",
       "    <tr>\n",
       "      <th>contention</th>\n",
       "      <td>0.097679</td>\n",
       "      <td>0.174233</td>\n",
       "      <td>0.202557</td>\n",
       "      <td>0.237722</td>\n",
       "    </tr>\n",
       "    <tr>\n",
       "      <th>coordination</th>\n",
       "      <td>0.348370</td>\n",
       "      <td>0.199721</td>\n",
       "      <td>0.136531</td>\n",
       "      <td>0.105293</td>\n",
       "    </tr>\n",
       "    <tr>\n",
       "      <th>editing</th>\n",
       "      <td>0.019979</td>\n",
       "      <td>0.160892</td>\n",
       "      <td>0.225581</td>\n",
       "      <td>0.202943</td>\n",
       "    </tr>\n",
       "    <tr>\n",
       "      <th>moderation</th>\n",
       "      <td>0.097966</td>\n",
       "      <td>0.153724</td>\n",
       "      <td>0.118555</td>\n",
       "      <td>0.130136</td>\n",
       "    </tr>\n",
       "    <tr>\n",
       "      <th>procedures</th>\n",
       "      <td>0.099040</td>\n",
       "      <td>0.116089</td>\n",
       "      <td>0.114942</td>\n",
       "      <td>0.118670</td>\n",
       "    </tr>\n",
       "  </tbody>\n",
       "</table>\n",
       "</div>"
      ],
      "text/plain": [
       "                  utts     terms  context_utts  context_terms\n",
       "casual        0.336966  0.195341      0.201834       0.205236\n",
       "contention    0.097679  0.174233      0.202557       0.237722\n",
       "coordination  0.348370  0.199721      0.136531       0.105293\n",
       "editing       0.019979  0.160892      0.225581       0.202943\n",
       "moderation    0.097966  0.153724      0.118555       0.130136\n",
       "procedures    0.099040  0.116089      0.114942       0.118670"
      ]
     },
     "execution_count": 16,
     "metadata": {},
     "output_type": "execute_result"
    }
   ],
   "source": [
    "ec_fw.print_cluster_stats()"
   ]
  },
  {
   "cell_type": "code",
   "execution_count": null,
   "metadata": {
    "collapsed": true
   },
   "outputs": [],
   "source": []
  },
  {
   "cell_type": "markdown",
   "metadata": {},
   "source": [
    "## 2. Application to analysis data\n",
    "\n",
    "We now use the comment types we've just derived to analyze a dataset containing conversations that eventually derail into toxic behaviour, and conversations that stay on track throughout. We load this data:"
   ]
  },
  {
   "cell_type": "code",
   "execution_count": 17,
   "metadata": {
    "collapsed": true
   },
   "outputs": [],
   "source": [
    "AWRY_CORPUS_PATH = '/kitchen/experimental_justine/convokit_dev/conversations-gone-awry-corpus/'"
   ]
  },
  {
   "cell_type": "code",
   "execution_count": 18,
   "metadata": {
    "collapsed": true
   },
   "outputs": [],
   "source": [
    "awry_corpus = Corpus(AWRY_CORPUS_PATH)"
   ]
  },
  {
   "cell_type": "code",
   "execution_count": 19,
   "metadata": {
    "collapsed": true
   },
   "outputs": [],
   "source": [
    "awry_corpus = awry_corpus.filter_conversations_by(lambda convo: convo.meta['annotation_year'] == '2018')\n",
    "# here we filter to consider only the conversations from the original paper"
   ]
  },
  {
   "cell_type": "code",
   "execution_count": 20,
   "metadata": {},
   "outputs": [
    {
     "name": "stdout",
     "output_type": "stream",
     "text": [
      "Number of Speakers: 2010\n",
      "Number of Utterances: 6363\n",
      "Number of Conversations: 1168\n"
     ]
    }
   ],
   "source": [
    "awry_corpus.print_summary_stats()"
   ]
  },
  {
   "cell_type": "markdown",
   "metadata": {},
   "source": [
    "We start by extracting the same noun-less dependency parse arcs that we used when training the model, above. To do this, we need to load the dependency parses, and then apply a few additional transformers, below:"
   ]
  },
  {
   "cell_type": "code",
   "execution_count": 21,
   "metadata": {
    "collapsed": true
   },
   "outputs": [],
   "source": [
    "awry_corpus.load_info('utterance',['parsed'])"
   ]
  },
  {
   "cell_type": "code",
   "execution_count": 22,
   "metadata": {
    "collapsed": true
   },
   "outputs": [],
   "source": [
    "from convokit.text_processing import TextToArcs\n",
    "from convokit.phrasing_motifs import CensorNouns\n",
    "from convokit.convokitPipeline import ConvokitPipeline\n",
    "pipe = ConvokitPipeline([\n",
    "    ('censor_nouns', CensorNouns('parsed_censored')),\n",
    "    ('arcs_censored', TextToArcs('arcs_list',input_field='parsed_censored',\n",
    "            root_only=False)),\n",
    "    ('arcs', TextProcessor(input_field='arcs_list', output_field='arcs',\n",
    "                     proc_fn=lambda sents: '\\n'.join(sents)))\n",
    "])\n",
    "awry_corpus = pipe.transform(awry_corpus)"
   ]
  },
  {
   "cell_type": "markdown",
   "metadata": {},
   "source": [
    "We represent the comments from the new dataset as tf-idf vectors, using the vocabulary and parameters we've derived over the training data:"
   ]
  },
  {
   "cell_type": "code",
   "execution_count": 23,
   "metadata": {
    "collapsed": true
   },
   "outputs": [],
   "source": [
    "awry_corpus = first_tfidf_obj.transform(awry_corpus)\n",
    "awry_corpus = second_tfidf_obj.transform(awry_corpus)"
   ]
  },
  {
   "cell_type": "markdown",
   "metadata": {},
   "source": [
    "Finally, we apply the trained model to transform the new dataset. In particular, we annotate each comment with an attribute, `fw_clustering.cluster`, that denotes the comment type it's assigned to:"
   ]
  },
  {
   "cell_type": "code",
   "execution_count": 24,
   "metadata": {
    "collapsed": true
   },
   "outputs": [],
   "source": [
    "awry_corpus = ec_fw.transform(awry_corpus)"
   ]
  },
  {
   "cell_type": "markdown",
   "metadata": {},
   "source": [
    "To facilitate subsequent analyses, we will gather the comment types for each comment into a table:"
   ]
  },
  {
   "cell_type": "code",
   "execution_count": 25,
   "metadata": {
    "collapsed": true
   },
   "outputs": [],
   "source": [
    "cluster_assign_df = awry_corpus.get_attribute_table('utterance',['fw_clustering.cluster_id_'])\n",
    "type_assignments = np.zeros((len(cluster_assign_df), 6))\n",
    "type_assignments[np.arange(len(cluster_assign_df)),cluster_assign_df['fw_clustering.cluster_id_'].values.astype(int)] = 1\n",
    "cluster_assign_df = pd.DataFrame(columns=np.arange(6), index=cluster_assign_df.index, data=type_assignments)\n",
    "cluster_assign_df.columns = ec_fw.get_cluster_names()"
   ]
  },
  {
   "cell_type": "code",
   "execution_count": 26,
   "metadata": {},
   "outputs": [
    {
     "data": {
      "text/html": [
       "<div>\n",
       "<style scoped>\n",
       "    .dataframe tbody tr th:only-of-type {\n",
       "        vertical-align: middle;\n",
       "    }\n",
       "\n",
       "    .dataframe tbody tr th {\n",
       "        vertical-align: top;\n",
       "    }\n",
       "\n",
       "    .dataframe thead th {\n",
       "        text-align: right;\n",
       "    }\n",
       "</style>\n",
       "<table border=\"1\" class=\"dataframe\">\n",
       "  <thead>\n",
       "    <tr style=\"text-align: right;\">\n",
       "      <th></th>\n",
       "      <th>casual</th>\n",
       "      <th>coordination</th>\n",
       "      <th>procedures</th>\n",
       "      <th>contention</th>\n",
       "      <th>editing</th>\n",
       "      <th>moderation</th>\n",
       "    </tr>\n",
       "    <tr>\n",
       "      <th>id</th>\n",
       "      <th></th>\n",
       "      <th></th>\n",
       "      <th></th>\n",
       "      <th></th>\n",
       "      <th></th>\n",
       "      <th></th>\n",
       "    </tr>\n",
       "  </thead>\n",
       "  <tbody>\n",
       "    <tr>\n",
       "      <th>146743638.12652.12652</th>\n",
       "      <td>0.0</td>\n",
       "      <td>0.0</td>\n",
       "      <td>0.0</td>\n",
       "      <td>0.0</td>\n",
       "      <td>1.0</td>\n",
       "      <td>0.0</td>\n",
       "    </tr>\n",
       "    <tr>\n",
       "      <th>146743638.12667.12652</th>\n",
       "      <td>1.0</td>\n",
       "      <td>0.0</td>\n",
       "      <td>0.0</td>\n",
       "      <td>0.0</td>\n",
       "      <td>0.0</td>\n",
       "      <td>0.0</td>\n",
       "    </tr>\n",
       "    <tr>\n",
       "      <th>146842219.12874.12874</th>\n",
       "      <td>1.0</td>\n",
       "      <td>0.0</td>\n",
       "      <td>0.0</td>\n",
       "      <td>0.0</td>\n",
       "      <td>0.0</td>\n",
       "      <td>0.0</td>\n",
       "    </tr>\n",
       "    <tr>\n",
       "      <th>146860774.13072.13072</th>\n",
       "      <td>1.0</td>\n",
       "      <td>0.0</td>\n",
       "      <td>0.0</td>\n",
       "      <td>0.0</td>\n",
       "      <td>0.0</td>\n",
       "      <td>0.0</td>\n",
       "    </tr>\n",
       "    <tr>\n",
       "      <th>143890867.11926.11926</th>\n",
       "      <td>0.0</td>\n",
       "      <td>0.0</td>\n",
       "      <td>0.0</td>\n",
       "      <td>0.0</td>\n",
       "      <td>1.0</td>\n",
       "      <td>0.0</td>\n",
       "    </tr>\n",
       "  </tbody>\n",
       "</table>\n",
       "</div>"
      ],
      "text/plain": [
       "                       casual  coordination  procedures  contention  editing  \\\n",
       "id                                                                             \n",
       "146743638.12652.12652     0.0           0.0         0.0         0.0      1.0   \n",
       "146743638.12667.12652     1.0           0.0         0.0         0.0      0.0   \n",
       "146842219.12874.12874     1.0           0.0         0.0         0.0      0.0   \n",
       "146860774.13072.13072     1.0           0.0         0.0         0.0      0.0   \n",
       "143890867.11926.11926     0.0           0.0         0.0         0.0      1.0   \n",
       "\n",
       "                       moderation  \n",
       "id                                 \n",
       "146743638.12652.12652         0.0  \n",
       "146743638.12667.12652         0.0  \n",
       "146842219.12874.12874         0.0  \n",
       "146860774.13072.13072         0.0  \n",
       "143890867.11926.11926         0.0  "
      ]
     },
     "execution_count": 26,
     "metadata": {},
     "output_type": "execute_result"
    }
   ],
   "source": [
    "cluster_assign_df.head()"
   ]
  },
  {
   "cell_type": "code",
   "execution_count": null,
   "metadata": {
    "collapsed": true
   },
   "outputs": [],
   "source": []
  },
  {
   "cell_type": "markdown",
   "metadata": {},
   "source": [
    "## 3. Analysis: comparing comment types in awry versus on-track conversations\n",
    "\n",
    "We start by preprocessing the data, to facilitate our comparison of awry versus on-track conversations. Ultimately, we will compare the occurrence of comment types in the first and second comments of these discussions."
   ]
  },
  {
   "cell_type": "code",
   "execution_count": 27,
   "metadata": {
    "collapsed": true
   },
   "outputs": [],
   "source": [
    "# first, we need to directly map comment IDs to their conversations. We'll build a DataFrame to do this\n",
    "comment_ids = []\n",
    "convo_ids = []\n",
    "timestamps = []\n",
    "page_ids = []\n",
    "for conversation in awry_corpus.iter_conversations():\n",
    "    for comment in conversation.iter_utterances():\n",
    "        # section headers are included in the dataset for completeness, but for prediction we need to ignore\n",
    "        # them as they are not utterances\n",
    "        if not comment.meta[\"is_section_header\"]:\n",
    "            comment_ids.append(comment.id)\n",
    "            convo_ids.append(comment.root)\n",
    "            timestamps.append(comment.timestamp)\n",
    "            page_ids.append(conversation.meta[\"page_id\"])\n",
    "comment_df = pd.DataFrame({\"conversation_id\": convo_ids, \"timestamp\": timestamps, \"page_id\": page_ids}, index=comment_ids)\n",
    "\n",
    "# we'll do our construction using awry conversation ID's as the reference key\n",
    "awry_convo_ids = set()\n",
    "# these dicts will then all be keyed by awry ID\n",
    "good_convo_map = {}\n",
    "page_id_map = {}\n",
    "for conversation in awry_corpus.iter_conversations():\n",
    "    if conversation.meta[\"conversation_has_personal_attack\"] and conversation.id not in awry_convo_ids:\n",
    "        awry_convo_ids.add(conversation.id)\n",
    "        good_convo_map[conversation.id] = conversation.meta[\"pair_id\"]\n",
    "        page_id_map[conversation.id] = conversation.meta[\"page_id\"]\n",
    "awry_convo_ids = list(awry_convo_ids)\n",
    "pairs_df = pd.DataFrame({\"bad_conversation_id\": awry_convo_ids,\n",
    "                         \"conversation_id\": [good_convo_map[cid] for cid in awry_convo_ids],\n",
    "                         \"page_id\": [page_id_map[cid] for cid in awry_convo_ids]})\n",
    "# finally, we will augment the pairs dataframe with the IDs of the first and second comment for both\n",
    "# the bad and good conversation. This will come in handy for constructing the feature matrix.\n",
    "first_ids = []\n",
    "second_ids = []\n",
    "first_ids_bad = []\n",
    "second_ids_bad = []\n",
    "for row in pairs_df.itertuples():\n",
    "    # \"first two\" is defined in terms of time of posting\n",
    "    comments_sorted = comment_df[comment_df.conversation_id==row.conversation_id].sort_values(by=\"timestamp\")\n",
    "    first_ids.append(comments_sorted.iloc[0].name)\n",
    "    second_ids.append(comments_sorted.iloc[1].name)\n",
    "    comments_sorted_bad = comment_df[comment_df.conversation_id==row.bad_conversation_id].sort_values(by=\"timestamp\")\n",
    "    first_ids_bad.append(comments_sorted_bad.iloc[0].name)\n",
    "    second_ids_bad.append(comments_sorted_bad.iloc[1].name)\n",
    "pairs_df = pairs_df.assign(first_id=first_ids, second_id=second_ids, \n",
    "                           bad_first_id=first_ids_bad, bad_second_id=second_ids_bad)"
   ]
  },
  {
   "cell_type": "code",
   "execution_count": 28,
   "metadata": {
    "collapsed": true
   },
   "outputs": [],
   "source": [
    "tox_first_comment_features =pairs_df[['bad_first_id']].join(cluster_assign_df, how='left', on='bad_first_id')[cluster_assign_df.columns]\n",
    "ntox_first_comment_features =pairs_df[['first_id']].join(cluster_assign_df, how='left', on='first_id')[cluster_assign_df.columns]\n",
    "\n",
    "tox_second_comment_features =pairs_df[['bad_second_id']].join(cluster_assign_df, how='left', on='bad_second_id')[cluster_assign_df.columns]\n",
    "ntox_second_comment_features =pairs_df[['second_id']].join(cluster_assign_df, how='left', on='second_id')[cluster_assign_df.columns]"
   ]
  },
  {
   "cell_type": "code",
   "execution_count": null,
   "metadata": {
    "collapsed": true
   },
   "outputs": [],
   "source": []
  },
  {
   "cell_type": "markdown",
   "metadata": {},
   "source": [
    "We compute log-odds ratios of each comment type, comparing the awry and on-track conversations. We will also compute significance values from binomal tests comparing the proportion of awry-turning conversations exhibiting a particular comment type to the proportion of on-track conversations. "
   ]
  },
  {
   "cell_type": "code",
   "execution_count": 29,
   "metadata": {
    "collapsed": true
   },
   "outputs": [],
   "source": [
    "from scipy import stats"
   ]
  },
  {
   "cell_type": "code",
   "execution_count": 30,
   "metadata": {
    "collapsed": true
   },
   "outputs": [],
   "source": [
    "def get_p_stars(x):\n",
    "    if x < .001: return '***'\n",
    "    elif x < .01: return '**'\n",
    "    elif x < .05: return '*'\n",
    "    else: return ''\n",
    "def compare_tox(df_ntox, df_tox,  min_n=0):\n",
    "    cols = df_ntox.columns\n",
    "    num_feats_in_tox = df_tox[cols].sum().astype(int).rename('num_feat_tox')\n",
    "    num_nfeats_in_tox = (1 - df_tox[cols]).sum().astype(int).rename('num_nfeat_tox')\n",
    "    num_feats_in_ntox = df_ntox[cols].sum().astype(int).rename('num_feat_ntox')\n",
    "    num_nfeats_in_ntox = (1 - df_ntox[cols]).sum().astype(int).rename('num_nfeat_ntox')\n",
    "    prop_tox = df_tox[cols].mean().rename('prop_tox')\n",
    "    ref_prop_ntox = df_ntox[cols].mean().rename('prop_ntox')\n",
    "    n_tox = len(df_tox)\n",
    "    df = pd.concat([\n",
    "        num_feats_in_tox, \n",
    "        num_nfeats_in_tox,\n",
    "        num_feats_in_ntox,\n",
    "        num_nfeats_in_ntox,\n",
    "        prop_tox,\n",
    "        ref_prop_ntox,\n",
    "    ], axis=1)\n",
    "    df['num_total'] = df.num_feat_tox + df.num_feat_ntox\n",
    "    df['log_odds'] = np.log(df.num_feat_tox) - np.log(df.num_nfeat_tox) \\\n",
    "        + np.log(df.num_nfeat_ntox) - np.log(df.num_feat_ntox)\n",
    "    df['abs_log_odds'] = np.abs(df.log_odds)\n",
    "    df['binom_p'] = df.apply(lambda x: stats.binom_test(x.num_feat_tox, n_tox, x.prop_ntox), axis=1)#*5\n",
    "    df = df[df.num_total >= min_n]\n",
    "    df['p'] = df['binom_p'].apply(lambda x: '%.3f' % x)\n",
    "    df['pstars'] = df['binom_p'].apply(get_p_stars)\n",
    "    return df.sort_values('log_odds', ascending=False)"
   ]
  },
  {
   "cell_type": "code",
   "execution_count": 31,
   "metadata": {
    "collapsed": true
   },
   "outputs": [],
   "source": [
    "first_comparisons = compare_tox(ntox_first_comment_features, tox_first_comment_features)\n",
    "second_comparisons = compare_tox(ntox_second_comment_features, tox_second_comment_features)"
   ]
  },
  {
   "cell_type": "code",
   "execution_count": null,
   "metadata": {
    "collapsed": true
   },
   "outputs": [],
   "source": []
  },
  {
   "cell_type": "markdown",
   "metadata": {},
   "source": [
    "Plotting the resultant log-odds ratios, we note some differences in which types of comments tend to start awry versus on track discussions: _contentious_ comments tend to signal future troubles, while _coordinating_ work is a signal that the conversation will remain civil throughout."
   ]
  },
  {
   "cell_type": "code",
   "execution_count": 32,
   "metadata": {
    "collapsed": true
   },
   "outputs": [],
   "source": [
    "from matplotlib import pyplot as plt\n",
    "%matplotlib inline"
   ]
  },
  {
   "cell_type": "code",
   "execution_count": 33,
   "metadata": {
    "collapsed": true
   },
   "outputs": [],
   "source": [
    "# we are now ready to plot these comparisons. the following (rather intimidating) helper function \n",
    "# produces a nicely-formatted plot:\n",
    "def draw_figure(ax, first_cmp, second_cmp, title='', prompt_types=6, min_log_odds=.2, min_freq=50,xlim=.85):\n",
    "\n",
    "    # selecting and sorting the features to plot, given minimum effect sizes and statistical significance\n",
    "    frequent_feats = first_cmp[first_cmp.num_total >= min_freq].index.union(second_cmp[second_cmp.num_total >= min_freq].index)\n",
    "    lrg_effect_feats = first_cmp[(first_cmp.abs_log_odds >= .2)\n",
    "                                & (first_cmp.binom_p < .05)].index.union(second_cmp[(second_cmp.abs_log_odds >= .2)\n",
    "                                                                                  & (second_cmp.binom_p < .05)].index)\n",
    "#     feats_to_include = frequent_feats.intersection(lrg_effect_feats)\n",
    "    feats_to_include = first_cmp.index\n",
    "    feat_order = sorted(feats_to_include, key=lambda x: first_cmp.loc[x].log_odds, reverse=True)\n",
    "\n",
    "    # parameters determining the look of the figure\n",
    "    colors = ['blue', 'grey']\n",
    "    shapes = ['^', 's']    \n",
    "    eps = .02\n",
    "    star_eps = .035\n",
    "    xlim = xlim\n",
    "    min_log = .2\n",
    "    gap_prop = 2\n",
    "    label_size = 14\n",
    "    title_size=18\n",
    "    radius = 144\n",
    "    features = feat_order\n",
    "    ax.invert_yaxis()\n",
    "    ax.plot([0,0], [0, len(features)/gap_prop], color='black')\n",
    "    \n",
    "    # for each figure we plot the point according to effect size in the first and second comment, \n",
    "    # and add axis labels denoting statistical significance\n",
    "    yticks = []\n",
    "    yticklabels = []\n",
    "    for f_idx, feat in enumerate(features):\n",
    "        curr_y = (f_idx + .5)/gap_prop\n",
    "        yticks.append(curr_y)\n",
    "        try:\n",
    "            \n",
    "            first_p = first_cmp.loc[feat].binom_p\n",
    "            second_p = second_cmp.loc[feat].binom_p            \n",
    "            if first_cmp.loc[feat].abs_log_odds < min_log:\n",
    "                first_face = \"white\"\n",
    "            elif first_p >= 0.05:\n",
    "                first_face = 'white'\n",
    "            else:\n",
    "                first_face = colors[0]\n",
    "            if second_cmp.loc[feat].abs_log_odds < min_log:\n",
    "                second_face = \"white\"\n",
    "            elif second_p >= 0.05:\n",
    "                second_face = 'white'\n",
    "            else:\n",
    "                second_face = colors[1]\n",
    "            ax.plot([-1 * xlim, xlim], [curr_y, curr_y], '--', color='grey', zorder=0, linewidth=.5)\n",
    "            \n",
    "            ax.scatter([first_cmp.loc[feat].log_odds], [curr_y + eps], s=radius, edgecolor=colors[0], marker=shapes[0],\n",
    "                        zorder=20, facecolors=first_face)\n",
    "            ax.scatter([second_cmp.loc[feat].log_odds], [curr_y + eps], s=radius, edgecolor=colors[1], marker=shapes[1], \n",
    "                       zorder=10, facecolors=second_face)\n",
    "            \n",
    "            first_pstr_len = len(get_p_stars(first_p))\n",
    "            second_pstr_len = len(get_p_stars(second_p))\n",
    "            p_str = np.array([' '] * 8)\n",
    "            if first_pstr_len > 0:\n",
    "                p_str[:first_pstr_len] = '*'\n",
    "            if second_pstr_len > 0:\n",
    "                p_str[-second_pstr_len:] = '⁺'\n",
    "            \n",
    "            feat_str = str(feat) + '\\n' + ''.join(p_str)\n",
    "            yticklabels.append(feat_str)\n",
    "        except Exception as e:\n",
    "            yticklabels.append('')\n",
    "    \n",
    "    # add the axis labels\n",
    "    ax.set_xlabel('log-odds ratio', fontsize=14)\n",
    "    ax.set_xticks([-xlim-.05, -.5, 0, .5, xlim])\n",
    "    ax.set_xticklabels(['on-track', -.5, 0, .5, 'awry'], fontsize=14)\n",
    "    ax.set_yticks(yticks)\n",
    "    ax.set_yticklabels(yticklabels, fontsize=16)\n",
    "    ax.tick_params(axis='both',  which='both', bottom='off',  top='off',left='off')\n",
    "    if title != '':\n",
    "        ax.text(0, (len(features)+2)/ gap_prop, title, fontsize=title_size, horizontalalignment='center',)\n",
    "    return feat_order"
   ]
  },
  {
   "cell_type": "code",
   "execution_count": 34,
   "metadata": {},
   "outputs": [
    {
     "data": {
      "image/png": "[encoded data removed]",
      "text/plain": [
       "<Figure size 360x360 with 1 Axes>"
      ]
     },
     "metadata": {},
     "output_type": "display_data"
    }
   ],
   "source": [
    "f, ax = plt.subplots(1,1, figsize=(5,5))\n",
    "_ = draw_figure(ax, first_comparisons, second_comparisons, 'First & second comment')"
   ]
  },
  {
   "cell_type": "code",
   "execution_count": null,
   "metadata": {
    "collapsed": true
   },
   "outputs": [],
   "source": []
  }
 ],
 "metadata": {
  "kernelspec": {
   "display_name": "Python 3",
   "language": "python",
   "name": "python3"
  },
  "language_info": {
   "codemirror_mode": {
    "name": "ipython",
    "version": 3
   },
   "file_extension": ".py",
   "mimetype": "text/x-python",
   "name": "python",
   "nbconvert_exporter": "python",
   "pygments_lexer": "ipython3",
   "version": "3.6.3"
  }
 },
 "nbformat": 4,
 "nbformat_minor": 2
}
