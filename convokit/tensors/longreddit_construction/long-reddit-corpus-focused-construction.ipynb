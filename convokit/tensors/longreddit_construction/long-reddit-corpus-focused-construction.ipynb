{
 "cells": [
  {
   "cell_type": "code",
   "execution_count": 2,
   "metadata": {},
   "outputs": [],
   "source": [
    "import convokit\n",
    "from convokit import Corpus, download"
   ]
  },
  {
   "cell_type": "code",
   "execution_count": 2,
   "metadata": {},
   "outputs": [
    {
     "name": "stdout",
     "output_type": "stream",
     "text": [
      "Dataset already exists at /Users/calebchiam/.convokit/downloads/reddit-corpus\n"
     ]
    }
   ],
   "source": [
    "corpus = Corpus(download('reddit-corpus', use_local=True))"
   ]
  },
  {
   "cell_type": "code",
   "execution_count": 4,
   "metadata": {},
   "outputs": [
    {
     "name": "stdout",
     "output_type": "stream",
     "text": [
      "Number of Speakers: 521777\n",
      "Number of Utterances: 2004262\n",
      "Number of Conversations: 84979\n"
     ]
    }
   ],
   "source": [
    "corpus.print_summary_stats()"
   ]
  },
  {
   "cell_type": "code",
   "execution_count": 5,
   "metadata": {},
   "outputs": [],
   "source": [
    "top_level_comment_ids = [utt.id for utt in corpus.iter_utterances() if utt.id == utt.meta['top_level_comment']]"
   ]
  },
  {
   "cell_type": "code",
   "execution_count": 9,
   "metadata": {},
   "outputs": [
    {
     "name": "stderr",
     "output_type": "stream",
     "text": [
      "/Library/Frameworks/Python.framework/Versions/3.7/lib/python3.7/site-packages/ipykernel_launcher.py:1: FutureWarning: utterance.root is deprecated and will be removed in a future release. Use utterance.conversation_id instead.\n"
     ]
    },
    {
     "data": {
      "text/plain": [
       "'7axc9n'"
      ]
     },
     "execution_count": 9,
     "metadata": {},
     "output_type": "execute_result"
    }
   ],
   "source": [
    "corpus.random_utterance().root"
   ]
  },
  {
   "cell_type": "code",
   "execution_count": 11,
   "metadata": {},
   "outputs": [],
   "source": [
    "roots = set(utt.conversation_id for utt in corpus.iter_utterances())"
   ]
  },
  {
   "cell_type": "code",
   "execution_count": 17,
   "metadata": {},
   "outputs": [],
   "source": [
    "from convokit import Utterance, Speaker\n",
    "generic_utts = [Utterance(id=root, conversation_id=root, speaker=Speaker(id=root)) for root in roots]"
   ]
  },
  {
   "cell_type": "code",
   "execution_count": 18,
   "metadata": {},
   "outputs": [
    {
     "data": {
      "text/plain": [
       "<convokit.model.corpus.Corpus at 0x12ab7a8d0>"
      ]
     },
     "execution_count": 18,
     "metadata": {},
     "output_type": "execute_result"
    }
   ],
   "source": [
    "corpus.add_utterances(generic_utts, with_checks=False)"
   ]
  },
  {
   "cell_type": "code",
   "execution_count": 19,
   "metadata": {},
   "outputs": [],
   "source": [
    "corpus = corpus.reindex_conversations(top_level_comment_ids)"
   ]
  },
  {
   "cell_type": "code",
   "execution_count": 20,
   "metadata": {},
   "outputs": [
    {
     "name": "stdout",
     "output_type": "stream",
     "text": [
      "Number of Speakers: 521777\n",
      "Number of Utterances: 2004262\n",
      "Number of Conversations: 100000\n"
     ]
    }
   ],
   "source": [
    "# corpus.print_summary_stats()"
   ]
  },
  {
   "cell_type": "code",
   "execution_count": 21,
   "metadata": {},
   "outputs": [],
   "source": [
    "import random"
   ]
  },
  {
   "cell_type": "code",
   "execution_count": 23,
   "metadata": {},
   "outputs": [],
   "source": [
    "longest_paths = dict()\n",
    "\n",
    "for convo in corpus.iter_conversations():\n",
    "    longest_paths[convo.id] = random.choice(convo.get_longest_paths())\n",
    "    convo.meta['longest_path_length'] = len(longest_paths[convo.id])"
   ]
  },
  {
   "cell_type": "code",
   "execution_count": 24,
   "metadata": {},
   "outputs": [],
   "source": [
    "import seaborn as sns"
   ]
  },
  {
   "cell_type": "code",
   "execution_count": 25,
   "metadata": {},
   "outputs": [],
   "source": [
    "convo_df = corpus.get_conversations_dataframe()"
   ]
  },
  {
   "cell_type": "code",
   "execution_count": 27,
   "metadata": {},
   "outputs": [
    {
     "data": {
      "text/plain": [
       "<matplotlib.axes._subplots.AxesSubplot at 0x18b42ff90>"
      ]
     },
     "execution_count": 27,
     "metadata": {},
     "output_type": "execute_result"
    },
    {
     "data": {
      "image/png": "[encoded data removed]",
      "text/plain": [
       "<Figure size 432x288 with 1 Axes>"
      ]
     },
     "metadata": {
      "needs_background": "light"
     },
     "output_type": "display_data"
    }
   ],
   "source": [
    "sns.distplot(convo_df['meta.longest_path_length'])"
   ]
  },
  {
   "cell_type": "code",
   "execution_count": 28,
   "metadata": {},
   "outputs": [],
   "source": [
    "from collections import Counter"
   ]
  },
  {
   "cell_type": "code",
   "execution_count": 33,
   "metadata": {},
   "outputs": [
    {
     "data": {
      "text/plain": [
       "Counter({False: 98111, True: 1889})"
      ]
     },
     "execution_count": 33,
     "metadata": {},
     "output_type": "execute_result"
    }
   ],
   "source": [
    "Counter(convo_df['meta.longest_path_length'] >= 20)"
   ]
  },
  {
   "cell_type": "code",
   "execution_count": 36,
   "metadata": {},
   "outputs": [],
   "source": [
    "for convo in corpus.iter_conversations():\n",
    "    convo.meta['subreddit'] = convo.get_utterance(convo.id).meta['subreddit']"
   ]
  },
  {
   "cell_type": "code",
   "execution_count": 39,
   "metadata": {},
   "outputs": [],
   "source": [
    "convo_df = corpus.get_conversations_dataframe()"
   ]
  },
  {
   "cell_type": "code",
   "execution_count": 42,
   "metadata": {},
   "outputs": [],
   "source": [
    "ctr = Counter(convo_df[convo_df['meta.longest_path_length'] >= 20]['meta.subreddit'])"
   ]
  },
  {
   "cell_type": "code",
   "execution_count": 49,
   "metadata": {},
   "outputs": [
    {
     "data": {
      "text/plain": [
       "[('Fitness', 1),\n",
       " ('Frugal', 2),\n",
       " ('magicTCG', 2),\n",
       " ('MMA', 2),\n",
       " ('askscience', 2),\n",
       " ('singapore', 2),\n",
       " ('MakeupAddiction', 2),\n",
       " ('funny', 2),\n",
       " ('books', 2),\n",
       " ('AskWomen', 3),\n",
       " ('relationships', 3),\n",
       " ('tifu', 3),\n",
       " ('DotA2', 3),\n",
       " ('Diablo', 3),\n",
       " ('baseball', 4),\n",
       " ('aww', 4),\n",
       " ('Marvel', 4),\n",
       " ('Android', 4),\n",
       " ('antiMLM', 4),\n",
       " ('trees', 4),\n",
       " ('The_Donald', 5),\n",
       " ('WTF', 5),\n",
       " ('2007scape', 5),\n",
       " ('MGTOW', 5),\n",
       " ('photography', 5),\n",
       " ('SquaredCircle', 5),\n",
       " ('science', 5),\n",
       " ('Python', 6),\n",
       " ('leagueoflegends', 6),\n",
       " ('guns', 6),\n",
       " ('Guildwars2', 6),\n",
       " ('cringepics', 6),\n",
       " ('gifs', 7),\n",
       " ('explainlikeimfive', 7),\n",
       " ('hockey', 7),\n",
       " ('anime', 8),\n",
       " ('apple', 8),\n",
       " ('CFB', 8),\n",
       " ('ShingekiNoKyojin', 8),\n",
       " ('skyrim', 8),\n",
       " ('lotr', 8),\n",
       " ('TwoXChromosomes', 8),\n",
       " ('pokemon', 8),\n",
       " ('TheRedPill', 9),\n",
       " ('MaliciousCompliance', 9),\n",
       " ('Music', 9),\n",
       " ('nba', 10),\n",
       " ('harrypotter', 10),\n",
       " ('Games', 10),\n",
       " ('videos', 10),\n",
       " ('soccer', 11),\n",
       " ('movies', 11),\n",
       " ('australia', 11),\n",
       " ('wow', 11),\n",
       " ('toronto', 12),\n",
       " ('raisedbynarcissists', 12),\n",
       " ('Conservative', 12),\n",
       " ('programming', 12),\n",
       " ('Drugs', 12),\n",
       " ('starcraft', 12),\n",
       " ('politics', 12),\n",
       " ('sex', 12),\n",
       " ('IAmA', 12),\n",
       " ('nfl', 12),\n",
       " ('mildlyinfuriating', 13),\n",
       " ('AskMen', 13),\n",
       " ('Minecraft', 14),\n",
       " ('CanadaPolitics', 15),\n",
       " ('business', 16),\n",
       " ('technology', 16),\n",
       " ('lgbt', 16),\n",
       " ('NoFap', 16),\n",
       " ('canada', 17),\n",
       " ('Bitcoin', 18),\n",
       " ('news', 19),\n",
       " ('pics', 20),\n",
       " ('Random_Acts_Of_Amazon', 21),\n",
       " ('relationship_advice', 21),\n",
       " ('unitedkingdom', 22),\n",
       " ('AmItheAsshole', 22),\n",
       " ('buildapc', 23),\n",
       " ('socialism', 25),\n",
       " ('worldnews', 25),\n",
       " ('atheism', 30),\n",
       " ('MensRights', 31),\n",
       " ('philosophy', 33),\n",
       " ('conspiracy', 35),\n",
       " ('asoiaf', 37),\n",
       " ('Economics', 37),\n",
       " ('electronic_cigarette', 37),\n",
       " ('TrueReddit', 45),\n",
       " ('teenagers', 47),\n",
       " ('techsupport', 47),\n",
       " ('AskTrumpSupporters', 64),\n",
       " ('Christianity', 67),\n",
       " ('changemyview', 67),\n",
       " ('Libertarian', 99),\n",
       " ('POLITIC', 122),\n",
       " ('DebateReligion', 127),\n",
       " ('pokemontrades', 175)]"
      ]
     },
     "execution_count": 49,
     "metadata": {},
     "output_type": "execute_result"
    }
   ],
   "source": [
    "sorted(list(ctr.items()), key=lambda x: x[1])"
   ]
  },
  {
   "cell_type": "code",
   "execution_count": 34,
   "metadata": {},
   "outputs": [
    {
     "data": {
      "text/plain": [
       "Counter({False: 94415, True: 5585})"
      ]
     },
     "execution_count": 34,
     "metadata": {},
     "output_type": "execute_result"
    }
   ],
   "source": [
    "Counter(convo_df['meta.longest_path_length'] >= 15)"
   ]
  },
  {
   "cell_type": "code",
   "execution_count": 35,
   "metadata": {},
   "outputs": [
    {
     "data": {
      "text/plain": [
       "Counter({False: 74492, True: 25508})"
      ]
     },
     "execution_count": 35,
     "metadata": {},
     "output_type": "execute_result"
    }
   ],
   "source": [
    "Counter(convo_df['meta.longest_path_length'] >= 10)"
   ]
  },
  {
   "cell_type": "code",
   "execution_count": 51,
   "metadata": {},
   "outputs": [],
   "source": [
    "filtered_utts = []\n",
    "for convo in corpus.iter_conversations(lambda convo: convo.meta['longest_path_length'] >= 10):\n",
    "    filtered_utts.extend(longest_paths[convo.id])"
   ]
  },
  {
   "cell_type": "code",
   "execution_count": 52,
   "metadata": {},
   "outputs": [
    {
     "data": {
      "text/plain": [
       "337112"
      ]
     },
     "execution_count": 52,
     "metadata": {},
     "output_type": "execute_result"
    }
   ],
   "source": [
    "len(filtered_utts)"
   ]
  },
  {
   "cell_type": "code",
   "execution_count": 54,
   "metadata": {},
   "outputs": [],
   "source": [
    "filtered_utts = set(filtered_utts)"
   ]
  },
  {
   "cell_type": "code",
   "execution_count": 58,
   "metadata": {},
   "outputs": [],
   "source": [
    "filtered_utt_ids = {utt.id for utt in filtered_utts}"
   ]
  },
  {
   "cell_type": "code",
   "execution_count": 59,
   "metadata": {},
   "outputs": [],
   "source": [
    "filtered_corpus = corpus.filter_utterances_by(lambda utt: utt.id in filtered_utt_ids)"
   ]
  },
  {
   "cell_type": "code",
   "execution_count": 60,
   "metadata": {},
   "outputs": [
    {
     "name": "stdout",
     "output_type": "stream",
     "text": [
      "Number of Speakers: 74931\n",
      "Number of Utterances: 337112\n",
      "Number of Conversations: 25508\n"
     ]
    }
   ],
   "source": [
    "filtered_corpus.print_summary_stats()"
   ]
  },
  {
   "cell_type": "code",
   "execution_count": 62,
   "metadata": {},
   "outputs": [],
   "source": [
    "for convo in filtered_corpus.iter_conversations():\n",
    "    convo.check_integrity(verbose=False)"
   ]
  },
  {
   "cell_type": "code",
   "execution_count": 68,
   "metadata": {},
   "outputs": [
    {
     "name": "stdout",
     "output_type": "stream",
     "text": [
      "zmeul\n",
      "    Wolffe_\n",
      "        zmeul\n",
      "            Wolffe_\n",
      "                zmeul\n",
      "                    Wolffe_\n",
      "                        zmeul\n",
      "                            Wolffe_\n",
      "                                zmeul\n",
      "                                    Wolffe_\n"
     ]
    }
   ],
   "source": [
    "filtered_corpus.random_conversation().print_conversation_structure()"
   ]
  },
  {
   "cell_type": "code",
   "execution_count": 69,
   "metadata": {},
   "outputs": [
    {
     "data": {
      "text/plain": [
       "['long-reddit-corpus-liwc-more-lite-trio',\n",
       " 'long-reddit-corpus-liwc-lite',\n",
       " '.DS_Store',\n",
       " 'utts.xlsx',\n",
       " 'liwc_annotation.ipynb',\n",
       " 'long-reddit-corpus-liwc-lite-trio',\n",
       " 'long-reddit-corpus-focused-construction.ipynb',\n",
       " 'long-reddit-corpus-liwc-more-lite',\n",
       " 'long-reddit-corpus',\n",
       " 'quick_stats.ipynb',\n",
       " 'long-reddit-corpus-liwc',\n",
       " '.ipynb_checkpoints',\n",
       " 'utts_liwc.xlsx',\n",
       " '~$utts_liwc.xlsx',\n",
       " 'long-reddit-corpus-liwc-lite-gifs']"
      ]
     },
     "execution_count": 69,
     "metadata": {},
     "output_type": "execute_result"
    }
   ],
   "source": [
    "import os\n",
    "os.listdir()"
   ]
  },
  {
   "cell_type": "code",
   "execution_count": 70,
   "metadata": {},
   "outputs": [],
   "source": [
    "filtered_corpus.dump('long-reddit-corpus-focused', base_path='.')"
   ]
  },
  {
   "cell_type": "markdown",
   "metadata": {},
   "source": [
    "### Annotation"
   ]
  },
  {
   "cell_type": "code",
   "execution_count": 3,
   "metadata": {},
   "outputs": [],
   "source": [
    "filtered_corpus = Corpus(filename='long-reddit-corpus-focused')"
   ]
  },
  {
   "cell_type": "code",
   "execution_count": 4,
   "metadata": {},
   "outputs": [],
   "source": [
    "import pandas as pd\n",
    "from convokit import TextCleaner\n",
    "from cleantext import clean"
   ]
  },
  {
   "cell_type": "code",
   "execution_count": 5,
   "metadata": {},
   "outputs": [],
   "source": [
    "clean_str = lambda s: clean(s,\n",
    "                            fix_unicode=True,               # fix various unicode errors\n",
    "                            to_ascii=True,                  # transliterate to closest ASCII representation\n",
    "                            lower=True,                     # lowercase text\n",
    "                            no_line_breaks=True,           # fully strip line breaks as opposed to only normalizing them\n",
    "                            no_urls=True,                  # replace all URLs with a special token\n",
    "                            no_emails=True,                # replace all email addresses with a special token\n",
    "                            no_phone_numbers=True,         # replace all phone numbers with a special token\n",
    "                            no_numbers=False,               # replace all numbers with a special token\n",
    "                            no_digits=False,                # replace all digits with a special token\n",
    "                            no_currency_symbols=True,      # replace all currency symbols with a special token\n",
    "                            no_punct=False,                 # fully remove punctuation\n",
    "                            replace_with_url=\"<URL>\",\n",
    "                            replace_with_email=\"<EMAIL>\",\n",
    "                            replace_with_phone_number=\"<PHONE>\",\n",
    "                            replace_with_number=\"<NUMBER>\",\n",
    "                            replace_with_digit=\"0\",\n",
    "                            replace_with_currency_symbol=\"<CUR>\",\n",
    "                            lang=\"en\"\n",
    "                            )"
   ]
  },
  {
   "cell_type": "code",
   "execution_count": 6,
   "metadata": {},
   "outputs": [],
   "source": [
    "tc = TextCleaner(text_cleaner=clean_str, verbosity=100000)"
   ]
  },
  {
   "cell_type": "code",
   "execution_count": 7,
   "metadata": {},
   "outputs": [
    {
     "name": "stdout",
     "output_type": "stream",
     "text": [
      "100000/337112 utterances processed\n",
      "200000/337112 utterances processed\n",
      "300000/337112 utterances processed\n",
      "337112/337112 utterances processed\n"
     ]
    },
    {
     "data": {
      "text/plain": [
       "<convokit.model.corpus.Corpus at 0x12bb2e1d0>"
      ]
     },
     "execution_count": 7,
     "metadata": {},
     "output_type": "execute_result"
    }
   ],
   "source": [
    "tc.transform(filtered_corpus)"
   ]
  },
  {
   "cell_type": "code",
   "execution_count": 17,
   "metadata": {},
   "outputs": [],
   "source": [
    "utt_ids = []\n",
    "utt_texts = []\n",
    "\n",
    "for convo in filtered_corpus.iter_conversations():\n",
    "    for utt in convo.iter_utterances():\n",
    "        utt_ids.append(utt.id)\n",
    "        utt_texts.append(utt.text)\n",
    "        \n",
    "df = pd.DataFrame([utt_ids, utt_texts]).T\n",
    "\n",
    "df['id'] = df[0]\n",
    "df['text'] = df[1]\n",
    "del df[0]\n",
    "del df[1]"
   ]
  },
  {
   "cell_type": "code",
   "execution_count": 18,
   "metadata": {},
   "outputs": [],
   "source": [
    "df.to_excel('utts_path.xlsx')"
   ]
  },
  {
   "cell_type": "code",
   "execution_count": 4,
   "metadata": {},
   "outputs": [],
   "source": [
    "df = pd.read_excel('utts_path_liwc.xlsx')"
   ]
  },
  {
   "cell_type": "code",
   "execution_count": 5,
   "metadata": {},
   "outputs": [],
   "source": [
    "df = df.set_index('Source (B)')\n",
    "del df['Source (A)']\n",
    "del df['Source (C)']"
   ]
  },
  {
   "cell_type": "code",
   "execution_count": 6,
   "metadata": {},
   "outputs": [],
   "source": [
    "for r in df.iterrows():\n",
    "    utt_id = r[0]\n",
    "    feats = r[1].to_dict()\n",
    "    if filtered_corpus.has_utterance(utt_id):\n",
    "        filtered_corpus.get_utterance(utt_id).meta['liwc'] = feats"
   ]
  },
  {
   "cell_type": "code",
   "execution_count": 7,
   "metadata": {},
   "outputs": [],
   "source": [
    "cats = {'adverb', 'article', 'auxverb', 'conj', 'ipron', 'i', 'we', 'you', 'shehe', 'they', 'prep', 'negate', \n",
    "        'interrog', 'quant'}"
   ]
  },
  {
   "cell_type": "code",
   "execution_count": 8,
   "metadata": {},
   "outputs": [],
   "source": [
    "for utt in filtered_corpus.iter_utterances():\n",
    "    if 'liwc' in utt.meta:\n",
    "        for cat in cats:\n",
    "            utt.meta[cat] = utt.meta['liwc'][cat]"
   ]
  },
  {
   "cell_type": "code",
   "execution_count": 9,
   "metadata": {},
   "outputs": [],
   "source": [
    "filtered_corpus.dump('long-reddit-corpus-focused-annotated', base_path='.')"
   ]
  },
  {
   "cell_type": "markdown",
   "metadata": {},
   "source": [
    "### First 40 words annotation"
   ]
  },
  {
   "cell_type": "code",
   "execution_count": 13,
   "metadata": {},
   "outputs": [
    {
     "name": "stdout",
     "output_type": "stream",
     "text": [
      "['Natural language processing (NLP) is a field of computer science, artificial intelligence and computational linguistics concerned with the interactions between computers and human (natural) languages, and, in particular, concerned with programming computers to fruitfully process large natural language corpora.', 'Challenges in natural language processing frequently involve natural language understanding, natural languagegeneration frequently from formal, machine-readable logical forms), connecting language and machine perception, managing human-computer dialog systems, or some combination thereof.']\n",
      "\n",
      "['Natural', 'language', 'processing', '(', 'NLP', ')', 'is', 'a', 'field', 'of', 'computer', 'science', ',', 'artificial', 'intelligence', 'and', 'computational', 'linguistics', 'concerned', 'with', 'the', 'interactions', 'between', 'computers', 'and', 'human', '(', 'natural', ')', 'languages', ',', 'and', ',', 'in', 'particular', ',', 'concerned', 'with', 'programming', 'computers', 'to', 'fruitfully', 'process', 'large', 'natural', 'language', 'corpora', '.', 'Challenges', 'in', 'natural', 'language', 'processing', 'frequently', 'involve', 'natural', 'language', 'understanding', ',', 'natural', 'languagegeneration', 'frequently', 'from', 'formal', ',', 'machine-readable', 'logical', 'forms', ')', ',', 'connecting', 'language', 'and', 'machine', 'perception', ',', 'managing', 'human-computer', 'dialog', 'systems', ',', 'or', 'some', 'combination', 'thereof', '.']\n"
     ]
    }
   ],
   "source": [
    "from nltk.tokenize import sent_tokenize, word_tokenize \n",
    "  \n",
    "text = \"Natural language processing (NLP) is a field \" + \\\n",
    "       \"of computer science, artificial intelligence \" + \\\n",
    "       \"and computational linguistics concerned with \" + \\\n",
    "       \"the interactions between computers and human \" + \\\n",
    "       \"(natural) languages, and, in particular, \" + \\\n",
    "       \"concerned with programming computers to \" + \\\n",
    "       \"fruitfully process large natural language \" + \\\n",
    "       \"corpora. Challenges in natural language \" + \\\n",
    "       \"processing frequently involve natural \" + \\\n",
    "       \"language understanding, natural language\" + \\\n",
    "       \"generation frequently from formal, machine\" + \\\n",
    "       \"-readable logical forms), connecting language \" + \\\n",
    "       \"and machine perception, managing human-\" + \\\n",
    "       \"computer dialog systems, or some combination \" + \\\n",
    "       \"thereof.\"\n",
    "  \n",
    "print(word_tokenize(text))"
   ]
  },
  {
   "cell_type": "code",
   "execution_count": 29,
   "metadata": {},
   "outputs": [],
   "source": [
    "def get_first_60_tokens(text):\n",
    "    return ' '.join(word_tokenize(text)[:60])"
   ]
  },
  {
   "cell_type": "code",
   "execution_count": 30,
   "metadata": {},
   "outputs": [
    {
     "data": {
      "text/plain": [
       "'Natural language processing ( NLP ) is a field of computer science , artificial intelligence and computational linguistics concerned with the interactions between computers and human ( natural ) languages , and , in particular , concerned with programming computers to fruitfully process large natural language corpora . Challenges in natural language processing frequently involve natural language understanding , natural'"
      ]
     },
     "execution_count": 30,
     "metadata": {},
     "output_type": "execute_result"
    }
   ],
   "source": [
    "get_first_60_tokens(text)"
   ]
  },
  {
   "cell_type": "code",
   "execution_count": 31,
   "metadata": {},
   "outputs": [],
   "source": [
    "for utt in filtered_corpus.iter_utterances():\n",
    "    utt.meta['first60tokens'] = get_first_60_tokens(utt.text)"
   ]
  },
  {
   "cell_type": "code",
   "execution_count": 32,
   "metadata": {},
   "outputs": [],
   "source": [
    "utt_ids = []\n",
    "utt_texts = []\n",
    "\n",
    "for convo in filtered_corpus.iter_conversations():\n",
    "    for utt in convo.iter_utterances():\n",
    "        utt_ids.append(utt.id)\n",
    "        utt_texts.append(utt.meta['first60tokens'])\n",
    "        \n",
    "df = pd.DataFrame([utt_ids, utt_texts]).T\n",
    "\n",
    "df['id'] = df[0]\n",
    "df['text'] = df[1]\n",
    "del df[0]\n",
    "del df[1]"
   ]
  },
  {
   "cell_type": "code",
   "execution_count": 33,
   "metadata": {},
   "outputs": [],
   "source": [
    "df.to_excel('utts_60_tokens.xlsx')"
   ]
  },
  {
   "cell_type": "code",
   "execution_count": 37,
   "metadata": {},
   "outputs": [],
   "source": [
    "df = pd.read_excel('utts_60_tokens_liwc.xlsx')"
   ]
  },
  {
   "cell_type": "code",
   "execution_count": 38,
   "metadata": {},
   "outputs": [],
   "source": [
    "df = df.set_index('Source (B)')\n",
    "del df['Source (A)']\n",
    "del df['Source (C)']"
   ]
  },
  {
   "cell_type": "code",
   "execution_count": 39,
   "metadata": {},
   "outputs": [],
   "source": [
    "for r in df.iterrows():\n",
    "    utt_id = r[0]\n",
    "    feats = r[1].to_dict()\n",
    "    if filtered_corpus.has_utterance(utt_id):\n",
    "        filtered_corpus.get_utterance(utt_id).meta['liwc'] = feats"
   ]
  },
  {
   "cell_type": "code",
   "execution_count": 41,
   "metadata": {},
   "outputs": [],
   "source": [
    "cats = {'adverb', 'article', 'auxverb', 'conj', 'ipron', 'i', 'we', 'you', 'shehe', 'they', 'prep', 'negate', \n",
    "        'interrog', 'quant'}"
   ]
  },
  {
   "cell_type": "code",
   "execution_count": 42,
   "metadata": {},
   "outputs": [],
   "source": [
    "for utt in filtered_corpus.iter_utterances():\n",
    "    if 'liwc' in utt.meta:\n",
    "        for cat in cats:\n",
    "            utt.meta[cat] = utt.meta['liwc'][cat]"
   ]
  },
  {
   "cell_type": "code",
   "execution_count": 43,
   "metadata": {},
   "outputs": [],
   "source": [
    "filtered_corpus.dump('long-reddit-corpus-focused-first60', base_path='.')"
   ]
  }
 ],
 "metadata": {
  "kernelspec": {
   "display_name": "Python 3",
   "language": "python",
   "name": "python3"
  },
  "language_info": {
   "codemirror_mode": {
    "name": "ipython",
    "version": 3
   },
   "file_extension": ".py",
   "mimetype": "text/x-python",
   "name": "python",
   "nbconvert_exporter": "python",
   "pygments_lexer": "ipython3",
   "version": "3.7.6"
  }
 },
 "nbformat": 4,
 "nbformat_minor": 2
}
