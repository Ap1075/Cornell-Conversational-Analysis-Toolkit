{
 "cells": [
  {
   "cell_type": "code",
   "execution_count": 1,
   "metadata": {},
   "outputs": [],
   "source": [
    "import convokit\n",
    "from convokit import Corpus, download"
   ]
  },
  {
   "cell_type": "code",
   "execution_count": 2,
   "metadata": {},
   "outputs": [
    {
     "name": "stdout",
     "output_type": "stream",
     "text": [
      "Dataset already exists at /Users/calebchiam/.convokit/downloads/reddit-corpus\n"
     ]
    }
   ],
   "source": [
    "corpus = Corpus(filename=download('reddit-corpus'))"
   ]
  },
  {
   "cell_type": "code",
   "execution_count": 3,
   "metadata": {},
   "outputs": [
    {
     "name": "stdout",
     "output_type": "stream",
     "text": [
      "Number of Users: 521777\n",
      "Number of Utterances: 2004262\n",
      "Number of Conversations: 84979\n"
     ]
    }
   ],
   "source": [
    "corpus.print_summary_stats()"
   ]
  },
  {
   "cell_type": "code",
   "execution_count": 6,
   "metadata": {},
   "outputs": [],
   "source": [
    "top_level_utterance_ids = [utt.id for utt in corpus.iter_utterances() if utt.id == utt.meta['top_level_comment']]"
   ]
  },
  {
   "cell_type": "code",
   "execution_count": 8,
   "metadata": {},
   "outputs": [
    {
     "data": {
      "text/plain": [
       "False"
      ]
     },
     "execution_count": 8,
     "metadata": {},
     "output_type": "execute_result"
    }
   ],
   "source": [
    "None in top_level_utterance_ids"
   ]
  },
  {
   "cell_type": "code",
   "execution_count": 10,
   "metadata": {},
   "outputs": [
    {
     "ename": "KeyError",
     "evalue": "None",
     "output_type": "error",
     "traceback": [
      "\u001b[0;31m---------------------------------------------------------------------------\u001b[0m",
      "\u001b[0;31mKeyError\u001b[0m                                  Traceback (most recent call last)",
      "\u001b[0;32m<ipython-input-10-b5fff836de6a>\u001b[0m in \u001b[0;36m<module>\u001b[0;34m\u001b[0m\n\u001b[0;32m----> 1\u001b[0;31m \u001b[0mcorpus\u001b[0m\u001b[0;34m.\u001b[0m\u001b[0mrandom_conversation\u001b[0m\u001b[0;34m(\u001b[0m\u001b[0;34m)\u001b[0m\u001b[0;34m.\u001b[0m\u001b[0minitialize_tree_structure\u001b[0m\u001b[0;34m(\u001b[0m\u001b[0;34m)\u001b[0m\u001b[0;34m\u001b[0m\u001b[0;34m\u001b[0m\u001b[0m\n\u001b[0m",
      "\u001b[0;32m/Library/Frameworks/Python.framework/Versions/3.7/lib/python3.7/site-packages/convokit/model/conversation.py\u001b[0m in \u001b[0;36minitialize_tree_structure\u001b[0;34m(self)\u001b[0m\n\u001b[1;32m    168\u001b[0m             \u001b[0mwrapped_utt\u001b[0m\u001b[0;34m.\u001b[0m\u001b[0mset_children\u001b[0m\u001b[0;34m(\u001b[0m\u001b[0;34m[\u001b[0m\u001b[0mwrapped_utts\u001b[0m\u001b[0;34m[\u001b[0m\u001b[0mchild_id\u001b[0m\u001b[0;34m]\u001b[0m \u001b[0;32mfor\u001b[0m \u001b[0mchild_id\u001b[0m \u001b[0;32min\u001b[0m \u001b[0mparent_to_children_ids\u001b[0m\u001b[0;34m[\u001b[0m\u001b[0mparent_id\u001b[0m\u001b[0;34m]\u001b[0m\u001b[0;34m]\u001b[0m\u001b[0;34m)\u001b[0m\u001b[0;34m\u001b[0m\u001b[0;34m\u001b[0m\u001b[0m\n\u001b[1;32m    169\u001b[0m \u001b[0;34m\u001b[0m\u001b[0m\n\u001b[0;32m--> 170\u001b[0;31m         \u001b[0mself\u001b[0m\u001b[0;34m.\u001b[0m\u001b[0mtree\u001b[0m \u001b[0;34m=\u001b[0m \u001b[0mwrapped_utts\u001b[0m\u001b[0;34m[\u001b[0m\u001b[0mroot_node_id\u001b[0m\u001b[0;34m]\u001b[0m\u001b[0;34m\u001b[0m\u001b[0;34m\u001b[0m\u001b[0m\n\u001b[0m\u001b[1;32m    171\u001b[0m \u001b[0;34m\u001b[0m\u001b[0m\n\u001b[1;32m    172\u001b[0m     \u001b[0;32mdef\u001b[0m \u001b[0mtraverse\u001b[0m\u001b[0;34m(\u001b[0m\u001b[0mself\u001b[0m\u001b[0;34m,\u001b[0m \u001b[0mtraversal_type\u001b[0m\u001b[0;34m:\u001b[0m \u001b[0mstr\u001b[0m\u001b[0;34m,\u001b[0m \u001b[0mas_utterance\u001b[0m\u001b[0;34m:\u001b[0m \u001b[0mbool\u001b[0m \u001b[0;34m=\u001b[0m \u001b[0;32mTrue\u001b[0m\u001b[0;34m)\u001b[0m\u001b[0;34m:\u001b[0m\u001b[0;34m\u001b[0m\u001b[0;34m\u001b[0m\u001b[0m\n",
      "\u001b[0;31mKeyError\u001b[0m: None"
     ]
    }
   ],
   "source": [
    "corpus.random_conversation().initialize_tree_structure()"
   ]
  },
  {
   "cell_type": "code",
   "execution_count": 12,
   "metadata": {},
   "outputs": [
    {
     "name": "stdout",
     "output_type": "stream",
     "text": [
      "Checking reply-to chain of Conversation 81dpze\n",
      "No issues found.\n",
      "\n"
     ]
    },
    {
     "data": {
      "text/plain": [
       "True"
      ]
     },
     "execution_count": 12,
     "metadata": {},
     "output_type": "execute_result"
    }
   ],
   "source": [
    "corpus.random_conversation().check_integrity()"
   ]
  },
  {
   "cell_type": "code",
   "execution_count": 13,
   "metadata": {},
   "outputs": [
    {
     "name": "stdout",
     "output_type": "stream",
     "text": [
      "Dataset already exists at /Users/calebchiam/.convokit/downloads/reddit-corpus-small\n"
     ]
    }
   ],
   "source": [
    "corpus2 = Corpus(filename=download('reddit-corpus-small'))"
   ]
  },
  {
   "cell_type": "code",
   "execution_count": 19,
   "metadata": {},
   "outputs": [
    {
     "name": "stdout",
     "output_type": "stream",
     "text": [
      "Number of Users: 119889\n",
      "Number of Utterances: 297132\n",
      "Number of Conversations: 8286\n"
     ]
    }
   ],
   "source": [
    "corpus2.print_summary_stats()"
   ]
  },
  {
   "cell_type": "code",
   "execution_count": 20,
   "metadata": {},
   "outputs": [
    {
     "ename": "KeyError",
     "evalue": "'83334u'",
     "output_type": "error",
     "traceback": [
      "\u001b[0;31m---------------------------------------------------------------------------\u001b[0m",
      "\u001b[0;31mKeyError\u001b[0m                                  Traceback (most recent call last)",
      "\u001b[0;32m<ipython-input-20-1f322b54d2af>\u001b[0m in \u001b[0;36m<module>\u001b[0;34m\u001b[0m\n\u001b[0;32m----> 1\u001b[0;31m \u001b[0mcorpus2\u001b[0m\u001b[0;34m.\u001b[0m\u001b[0mget_utterance\u001b[0m\u001b[0;34m(\u001b[0m\u001b[0;34m'83334u'\u001b[0m\u001b[0;34m)\u001b[0m\u001b[0;34m\u001b[0m\u001b[0;34m\u001b[0m\u001b[0m\n\u001b[0m",
      "\u001b[0;32m/Library/Frameworks/Python.framework/Versions/3.7/lib/python3.7/site-packages/convokit/model/corpus.py\u001b[0m in \u001b[0;36mget_utterance\u001b[0;34m(self, utt_id)\u001b[0m\n\u001b[1;32m    206\u001b[0m                 \u001b[0;34m:\u001b[0m\u001b[0;32mreturn\u001b[0m\u001b[0;34m:\u001b[0m \u001b[0mUtterance\u001b[0m\u001b[0;34m\u001b[0m\u001b[0;34m\u001b[0m\u001b[0m\n\u001b[1;32m    207\u001b[0m \t\t\"\"\"\n\u001b[0;32m--> 208\u001b[0;31m                 \u001b[0;32mreturn\u001b[0m \u001b[0mself\u001b[0m\u001b[0;34m.\u001b[0m\u001b[0mutterances\u001b[0m\u001b[0;34m[\u001b[0m\u001b[0mutt_id\u001b[0m\u001b[0;34m]\u001b[0m\u001b[0;34m\u001b[0m\u001b[0;34m\u001b[0m\u001b[0m\n\u001b[0m\u001b[1;32m    209\u001b[0m \u001b[0;34m\u001b[0m\u001b[0m\n\u001b[1;32m    210\u001b[0m         \u001b[0;32mdef\u001b[0m \u001b[0mget_conversation\u001b[0m\u001b[0;34m(\u001b[0m\u001b[0mself\u001b[0m\u001b[0;34m,\u001b[0m \u001b[0mconvo_id\u001b[0m\u001b[0;34m:\u001b[0m \u001b[0mstr\u001b[0m\u001b[0;34m)\u001b[0m \u001b[0;34m->\u001b[0m \u001b[0mConversation\u001b[0m\u001b[0;34m:\u001b[0m\u001b[0;34m\u001b[0m\u001b[0;34m\u001b[0m\u001b[0m\n",
      "\u001b[0;31mKeyError\u001b[0m: '83334u'"
     ]
    }
   ],
   "source": [
    "corpus2.get_utterance('83334u')"
   ]
  },
  {
   "cell_type": "code",
   "execution_count": 44,
   "metadata": {},
   "outputs": [],
   "source": [
    "convo = corpus.get_conversation('83334u')"
   ]
  },
  {
   "cell_type": "code",
   "execution_count": 48,
   "metadata": {},
   "outputs": [
    {
     "data": {
      "text/plain": [
       "['83334u',\n",
       " 'dveru01',\n",
       " 'dveru01',\n",
       " 'dvf3kua',\n",
       " 'dvf3n6u',\n",
       " 'dvf48jv',\n",
       " 'dvf4c54',\n",
       " 'dvfcq5d',\n",
       " 'dvf3n6u',\n",
       " 'dvfegmi',\n",
       " 'dvfipjz',\n",
       " 'dveru01',\n",
       " 'dvf2pb0',\n",
       " 'dvw66ba',\n",
       " '83334u',\n",
       " 'dveyt02',\n",
       " 'dveyt02',\n",
       " 'dvf2rbv',\n",
       " 'dvf2sol',\n",
       " 'dvf2ve8',\n",
       " 'dvf2lx3',\n",
       " 'dvf40ni',\n",
       " 'dvf40ni',\n",
       " 'dvf40ni',\n",
       " 'dveyt02',\n",
       " 'dveyt02',\n",
       " 'dvfa14m',\n",
       " 'dveyt02']"
      ]
     },
     "execution_count": 48,
     "metadata": {},
     "output_type": "execute_result"
    }
   ],
   "source": [
    "[utt.reply_to for utt in convo.iter_utterances()]"
   ]
  },
  {
   "cell_type": "code",
   "execution_count": 49,
   "metadata": {},
   "outputs": [],
   "source": [
    "utt_reply_tos = {utt.id: utt.reply_to for utt in convo.iter_utterances()}\n",
    "target_utt_ids = set(list(utt_reply_tos.values()))\n",
    "speaker_utt_ids = set(list(utt_reply_tos.keys()))\n",
    "root_utt_id = target_utt_ids - speaker_utt_ids"
   ]
  },
  {
   "cell_type": "code",
   "execution_count": 50,
   "metadata": {},
   "outputs": [
    {
     "data": {
      "text/plain": [
       "{'83334u'}"
      ]
     },
     "execution_count": 50,
     "metadata": {},
     "output_type": "execute_result"
    }
   ],
   "source": [
    "root_utt_id"
   ]
  },
  {
   "cell_type": "code",
   "execution_count": 55,
   "metadata": {},
   "outputs": [],
   "source": [
    "verbose=True\n",
    "warn = print"
   ]
  },
  {
   "cell_type": "code",
   "execution_count": 56,
   "metadata": {},
   "outputs": [
    {
     "name": "stdout",
     "output_type": "stream",
     "text": [
      "ERROR: Missing utterance 83334u\n",
      "False\n"
     ]
    }
   ],
   "source": [
    "if len(root_utt_id) != 1:\n",
    "    if verbose:\n",
    "        for utt_id in root_utt_id:\n",
    "            if utt_id is not None:\n",
    "                warn(\"ERROR: Missing utterance {}\".format(utt_id))\n",
    "    print('False')\n",
    "else:\n",
    "    root_id = list(root_utt_id)[0]\n",
    "    if root_id is not None:\n",
    "        if verbose: warn(\"ERROR: Missing utterance {}\".format(root_id))\n",
    "        print('False')"
   ]
  },
  {
   "cell_type": "code",
   "execution_count": 39,
   "metadata": {},
   "outputs": [],
   "source": [
    "convo = corpus2.random_conversation()"
   ]
  },
  {
   "cell_type": "code",
   "execution_count": 40,
   "metadata": {},
   "outputs": [
    {
     "data": {
      "text/plain": [
       "'9ik1yw'"
      ]
     },
     "execution_count": 40,
     "metadata": {},
     "output_type": "execute_result"
    }
   ],
   "source": [
    "convo.id"
   ]
  },
  {
   "cell_type": "code",
   "execution_count": 41,
   "metadata": {},
   "outputs": [
    {
     "name": "stdout",
     "output_type": "stream",
     "text": [
      "chipotle\n",
      "    Codybrown23\n",
      "        chipotle\n",
      "            [deleted]\n",
      "            Codybrown23\n",
      "            hey_sergio\n",
      "            Sunflower6876\n",
      "                marvin_sirius\n",
      "                    Sunflower6876\n",
      "                        marvin_sirius\n",
      "            NeonLindsay\n",
      "        AuctionHouseJunkies\n",
      "            Codybrown23\n",
      "                AuctionHouseJunkies\n",
      "                    Codybrown23\n",
      "    Core494\n",
      "        chipotle\n",
      "            Core494\n",
      "            gameking116\n",
      "                notmyrealname86\n",
      "                kaledabs\n",
      "                    Tkent91\n",
      "            rednoise\n",
      "            ohbenito\n",
      "            AHHH_BEEEES\n",
      "            Seahvosh\n",
      "            Badfootbarista\n",
      "                cynikalAhole99\n",
      "                    Badfootbarista\n",
      "                        cynikalAhole99\n",
      "            ArchDucky\n",
      "            shredtilldeth\n"
     ]
    }
   ],
   "source": [
    "convo.print_conversation_structure()"
   ]
  },
  {
   "cell_type": "code",
   "execution_count": null,
   "metadata": {},
   "outputs": [],
   "source": [
    "for utt"
   ]
  },
  {
   "cell_type": "code",
   "execution_count": 31,
   "metadata": {},
   "outputs": [
    {
     "data": {
      "text/plain": [
       "[None,\n",
       " '9df8f4',\n",
       " 'e5havem',\n",
       " 'e5hb2z2',\n",
       " 'e5havem',\n",
       " 'e5hbb2x',\n",
       " 'e5hbn7t',\n",
       " 'e5hb2z2',\n",
       " 'e5hcb1c',\n",
       " 'e5hbfbl',\n",
       " 'e5hdcma',\n",
       " 'e5hwhh7',\n",
       " 'e5ivllz',\n",
       " 'e5iw16k',\n",
       " 'e5iwc99']"
      ]
     },
     "execution_count": 31,
     "metadata": {},
     "output_type": "execute_result"
    }
   ],
   "source": [
    "[utt.reply_to for utt in list(convo.iter_utterances())]"
   ]
  },
  {
   "cell_type": "code",
   "execution_count": null,
   "metadata": {},
   "outputs": [],
   "source": [
    "corpus.get_utt"
   ]
  },
  {
   "cell_type": "code",
   "execution_count": 23,
   "metadata": {},
   "outputs": [
    {
     "data": {
      "text/plain": [
       "[Utterance({'obj_type': 'utterance', '_owner': <convokit.model.corpus.Corpus object at 0x131626210>, 'meta': {'score': 6, 'top_level_comment': 'e5qt2j2', 'retrieved_on': 1538913196, 'gilded': 0, 'gildings': {'gid_1': 0, 'gid_2': 0, 'gid_3': 0}, 'subreddit': 'changemyview', 'stickied': False, 'permalink': '/r/changemyview/comments/9eqssy/cmv_mandatory_evacuations_should_not_exist/e5qt2j2/', 'author_flair_text': '17∆'}, '_id': 'e5qt2j2', 'user': User({'obj_type': 'user', '_owner': <convokit.model.corpus.Corpus object at 0x131626210>, 'meta': {}, '_id': 'IHAQ', '_name': 'IHAQ'}), 'root': '9eqssy', 'reply_to': '9eqssy', 'timestamp': 1536611715, 'text': \"I'm going to rely on the Socratic Method here to tease out some of the underlying philosophies in your view. \\n\\nLet's take your view as stated - the government has/should have no standing to remove people from their homes in the event of an emergency under the force of law. Got it. \\n\\nWith that view in mind, do you believe that the government has/should have any obligation to provide search &amp; rescue support or reconstruction support during and after the disaster? You touch on this, but I'd like you to flesh it out a bit further. \"}),\n",
       " Utterance({'obj_type': 'utterance', '_owner': <convokit.model.corpus.Corpus object at 0x131626210>, 'meta': {'score': 0, 'top_level_comment': 'e5qt2j2', 'retrieved_on': 1538913353, 'gilded': 0, 'gildings': {'gid_1': 0, 'gid_2': 0, 'gid_3': 0}, 'subreddit': 'changemyview', 'stickied': False, 'permalink': '/r/changemyview/comments/9eqssy/cmv_mandatory_evacuations_should_not_exist/e5qtfwf/', 'author_flair_text': '3∆'}, '_id': 'e5qtfwf', 'user': User({'obj_type': 'user', '_owner': <convokit.model.corpus.Corpus object at 0x131626210>, 'meta': {}, '_id': 'Tendas', '_name': 'Tendas'}), 'root': '9eqssy', 'reply_to': 'e5qt2j2', 'timestamp': 1536612017, 'text': 'Search and rescue? No obligation. Reconstruction? Yes, because whether someone complies with or ignores an evacuation request does not change the outcome of property destruction. '}),\n",
       " Utterance({'obj_type': 'utterance', '_owner': <convokit.model.corpus.Corpus object at 0x131626210>, 'meta': {'score': 4, 'top_level_comment': 'e5qt2j2', 'retrieved_on': 1538913647, 'gilded': 0, 'gildings': {'gid_1': 0, 'gid_2': 0, 'gid_3': 0}, 'subreddit': 'changemyview', 'stickied': False, 'permalink': '/r/changemyview/comments/9eqssy/cmv_mandatory_evacuations_should_not_exist/e5qu05y/', 'author_flair_text': '17∆'}, '_id': 'e5qu05y', 'user': User({'obj_type': 'user', '_owner': <convokit.model.corpus.Corpus object at 0x131626210>, 'meta': {}, '_id': 'IHAQ', '_name': 'IHAQ'}), 'root': '9eqssy', 'reply_to': 'e5qtfwf', 'timestamp': 1536612473, 'text': \"&gt; Search and rescue? No obligation.\\n\\nOkay. Government has no obligation to provide search &amp; rescue. Either you get out as you were asked, or you suffer the consequences. Got it. \\n\\nDoes this apply to the sick and elderly too? Injured veterans? Does the Government have no obligation of search &amp; rescue for these vulnerable populations? They may lack the ability to evacuate on their own without the support of friends, family, neighbors, or private businesses/nonprofits; however, under your parent view, all of these groups would have the right to not even evacuate themselves, let alone anyone else, so I don't know what other options that leaves the sick, elderly, and disabled with. \\n\\n\"}),\n",
       " Utterance({'obj_type': 'utterance', '_owner': <convokit.model.corpus.Corpus object at 0x131626210>, 'meta': {'score': 10, 'top_level_comment': 'e5qt2j2', 'retrieved_on': 1538914078, 'gilded': 0, 'gildings': {'gid_1': 0, 'gid_2': 0, 'gid_3': 0}, 'subreddit': 'changemyview', 'stickied': False, 'permalink': '/r/changemyview/comments/9eqssy/cmv_mandatory_evacuations_should_not_exist/e5qv0t1/', 'author_flair_text': '21∆'}, '_id': 'e5qv0t1', 'user': User({'obj_type': 'user', '_owner': <convokit.model.corpus.Corpus object at 0x131626210>, 'meta': {}, '_id': 'r3dl3g', '_name': 'r3dl3g'}), 'root': '9eqssy', 'reply_to': 'e5qtfwf', 'timestamp': 1536613308, 'text': \"&gt;Search and rescue? No obligation.\\n\\nThe problem is that it's not realistic for search and rescue to be able to tell the difference between people who should have evacuated and didn't, and those who were either unable to comply with the law, or who were there for a genuine purpose that effectively allows them to get around the law (e.g. weather reporters in the path of a hurricane).\\n\\nThis is the fundamental flaw with wanting the government to run strictly off of a philosophical basis; philosophy tends to wilt under the pressure of real situations, entirely because complications come up.\\n\\nThere's a benefit to the government having the power to enforce mandatory evacuations, and the cost (the loss of liberty) is relatively small due to the fact that wide-scale enforcement in this kind of situation just isn't realistic.\"}),\n",
       " Utterance({'obj_type': 'utterance', '_owner': <convokit.model.corpus.Corpus object at 0x131626210>, 'meta': {'score': 2, 'top_level_comment': 'e5qt2j2', 'retrieved_on': 1538914414, 'gilded': 0, 'gildings': {'gid_1': 0, 'gid_2': 0, 'gid_3': 0}, 'subreddit': 'changemyview', 'stickied': False, 'permalink': '/r/changemyview/comments/9eqssy/cmv_mandatory_evacuations_should_not_exist/e5qvoph/', 'author_flair_text': '3∆'}, '_id': 'e5qvoph', 'user': User({'obj_type': 'user', '_owner': <convokit.model.corpus.Corpus object at 0x131626210>, 'meta': {}, '_id': 'Tendas', '_name': 'Tendas'}), 'root': '9eqssy', 'reply_to': 'e5qu05y', 'timestamp': 1536613860, 'text': \"I'm talking about people who are willfully staying behind. The government has no obligation to rescue them. Obviously during the rescues attempts, rescuers can't discriminate and decide who gets rescued. The issue of liability will be sorted out later and the government should place the cost of rescue on the willful stayers. \"}),\n",
       " Utterance({'obj_type': 'utterance', '_owner': <convokit.model.corpus.Corpus object at 0x131626210>, 'meta': {'score': 1, 'top_level_comment': 'e5qt2j2', 'retrieved_on': 1538914467, 'gilded': 0, 'gildings': {'gid_1': 0, 'gid_2': 0, 'gid_3': 0}, 'subreddit': 'changemyview', 'stickied': False, 'permalink': '/r/changemyview/comments/9eqssy/cmv_mandatory_evacuations_should_not_exist/e5qvt8l/', 'author_flair_text': '3∆'}, '_id': 'e5qvt8l', 'user': User({'obj_type': 'user', '_owner': <convokit.model.corpus.Corpus object at 0x131626210>, 'meta': {}, '_id': 'Tendas', '_name': 'Tendas'}), 'root': '9eqssy', 'reply_to': 'e5qv0t1', 'timestamp': 1536613964, 'text': \"I'm talking about people who are willfully staying behind. The government has no obligation to rescue them. Obviously during the rescues attempts, rescuers can't discriminate and decide who gets rescued. The issue of liability will be sorted out later and the government should place the cost of rescue on the willful stayers.\"}),\n",
       " Utterance({'obj_type': 'utterance', '_owner': <convokit.model.corpus.Corpus object at 0x131626210>, 'meta': {'score': 2, 'top_level_comment': 'e5qt2j2', 'retrieved_on': 1538914524, 'gilded': 0, 'gildings': {'gid_1': 0, 'gid_2': 0, 'gid_3': 0}, 'subreddit': 'changemyview', 'stickied': False, 'permalink': '/r/changemyview/comments/9eqssy/cmv_mandatory_evacuations_should_not_exist/e5qvy5l/', 'author_flair_text': '21∆'}, '_id': 'e5qvy5l', 'user': User({'obj_type': 'user', '_owner': <convokit.model.corpus.Corpus object at 0x131626210>, 'meta': {}, '_id': 'r3dl3g', '_name': 'r3dl3g'}), 'root': '9eqssy', 'reply_to': 'e5qvt8l', 'timestamp': 1536614079, 'text': 'Which of course means they\\'d have to prove in a Court of Law that it was both willful and negligent, which costs even more taxpayer money, and which in most cases will lead to the same conclusion; \"I couldn\\'t leave because I can\\'t afford to,\" which was a huge reason why Katrina was as bad as it was.\\n\\nI\\'d much rather just much rather they do what they do now; have somewhat unenforced mandatory evacuations where those who don\\'t evac have their crime of not evacuating ignored unless they did something *particularly* bad, in which case the law comes down on them hard.'}),\n",
       " Utterance({'obj_type': 'utterance', '_owner': <convokit.model.corpus.Corpus object at 0x131626210>, 'meta': {'score': 0, 'top_level_comment': 'e5qt2j2', 'retrieved_on': 1538915402, 'gilded': 0, 'gildings': {'gid_1': 0, 'gid_2': 0, 'gid_3': 0}, 'subreddit': 'changemyview', 'stickied': False, 'permalink': '/r/changemyview/comments/9eqssy/cmv_mandatory_evacuations_should_not_exist/e5qxr6s/', 'author_flair_text': '3∆'}, '_id': 'e5qxr6s', 'user': User({'obj_type': 'user', '_owner': <convokit.model.corpus.Corpus object at 0x131626210>, 'meta': {}, '_id': 'Tendas', '_name': 'Tendas'}), 'root': '9eqssy', 'reply_to': 'e5qvy5l', 'timestamp': 1536615646, 'text': \"I don't see why a reason why a tribunal or some other legal entity can't exist that deals specifically with issues of liability. \"}),\n",
       " Utterance({'obj_type': 'utterance', '_owner': <convokit.model.corpus.Corpus object at 0x131626210>, 'meta': {'score': 3, 'top_level_comment': 'e5qt2j2', 'retrieved_on': 1538915508, 'gilded': 0, 'gildings': {'gid_1': 0, 'gid_2': 0, 'gid_3': 0}, 'subreddit': 'changemyview', 'stickied': False, 'permalink': '/r/changemyview/comments/9eqssy/cmv_mandatory_evacuations_should_not_exist/e5qy07q/', 'author_flair_text': '21∆'}, '_id': 'e5qy07q', 'user': User({'obj_type': 'user', '_owner': <convokit.model.corpus.Corpus object at 0x131626210>, 'meta': {}, '_id': 'r3dl3g', '_name': 'r3dl3g'}), 'root': '9eqssy', 'reply_to': 'e5qxr6s', 'timestamp': 1536615866, 'text': \"&gt;I don't see why a reason why a tribunal or some other legal entity can't exist that deals specifically with issues of liability.\\n\\nThey do exist; it's a court.\\n\\nThe problem is that the only way you prove liability, in this case, is by first proving guilt. That requires a court of law. If they're not guilty of not following the evacuation order, then they're not liable. But in a court of law, you'd have to prove that they could move and chose not to, which for many of the people who don't end up evacuating is difficult because they if they're old or poor they tend to have something that will give a jury reasonable doubt.\\n\\nHence, you're wanting to waste my taxpayer dollars just so you don't have to deal with the idea that the government sometimes has to infringe on liberty in order to make things function in an effective manner.\"}),\n",
       " Utterance({'obj_type': 'utterance', '_owner': <convokit.model.corpus.Corpus object at 0x131626210>, 'meta': {'score': 0, 'top_level_comment': 'e5qt2j2', 'retrieved_on': 1538916239, 'gilded': 0, 'gildings': {'gid_1': 0, 'gid_2': 0, 'gid_3': 0}, 'subreddit': 'changemyview', 'stickied': False, 'permalink': '/r/changemyview/comments/9eqssy/cmv_mandatory_evacuations_should_not_exist/e5qzlo7/', 'author_flair_text': '3∆'}, '_id': 'e5qzlo7', 'user': User({'obj_type': 'user', '_owner': <convokit.model.corpus.Corpus object at 0x131626210>, 'meta': {}, '_id': 'Tendas', '_name': 'Tendas'}), 'root': '9eqssy', 'reply_to': 'e5qy07q', 'timestamp': 1536617313, 'text': \"&gt;They do exist; it's a court.\\n\\nReally? We have tribunals and the like set up specifically for certain types of cases. Not everything that is legal has to go through a traditional court proceeding. We do this for efficiency. We have tribunals set up by executive agencies all the time, this would be no different. \\n\\n&gt;The problem is that the only way you prove liability, in this case, is by first proving guilt. \\n\\nThis is probably the easiest problem to solve. Guilt is presumed by the shear fact that you are present in the disaster region. The burden of proof would shift to the defendant to prove they had a valid reason for not leaving. Since this would be done as a more casual proceeding, no lawyers would be necessary and poor people that couldn't afford to leave can testify to their condition and have their rescue cost waived. It could so informal as to simply mail rescuees a form and have them filling it out explaining why they didn't leave. If someone doesn't like the tribunal's/administrative judge's ruling, they can appeal and escalate to a review board and then to actual court, like every other administrative court. \"}),\n",
       " Utterance({'obj_type': 'utterance', '_owner': <convokit.model.corpus.Corpus object at 0x131626210>, 'meta': {'score': 4, 'top_level_comment': 'e5qt2j2', 'retrieved_on': 1538916257, 'gilded': 0, 'gildings': {'gid_1': 0, 'gid_2': 0, 'gid_3': 0}, 'subreddit': 'changemyview', 'stickied': False, 'permalink': '/r/changemyview/comments/9eqssy/cmv_mandatory_evacuations_should_not_exist/e5qzn6i/', 'author_flair_text': '10∆'}, '_id': 'e5qzn6i', 'user': User({'obj_type': 'user', '_owner': <convokit.model.corpus.Corpus object at 0x131626210>, 'meta': {}, '_id': 'David4194d', '_name': 'David4194d'}), 'root': '9eqssy', 'reply_to': 'e5qvt8l', 'timestamp': 1536617353, 'text': 'But you’ve also assumed that it’s only a monetary cost. In search and rescue time is of the essence. There are only so many people that can be rescued in a given time frame. So you now have to also charge these people for the cost of human lives by your logic. If anyone dies they get charged for each one. It wouldn’t matter whether the people that died chose to stay around or couldn’t because it would be really freaking hard to prove why each 1 stayed behind. Even if you could you’ve just skyrocketed cost and wasted resources. \\nYou’ve also just decided that preventing temporary infringement which saves their lives is worth the cost of other human lives. \\nWe could also just go the route if declaring anyone who refuses to leave mentally unfit which would give the state control over them. And it would be reasonable to do so because there would be literally 0 logic behind staying for no reason. \\n'}),\n",
       " Utterance({'obj_type': 'utterance', '_owner': <convokit.model.corpus.Corpus object at 0x131626210>, 'meta': {'score': 1, 'top_level_comment': 'e5qt2j2', 'retrieved_on': 1538916394, 'gilded': 0, 'gildings': {'gid_1': 0, 'gid_2': 0, 'gid_3': 0}, 'subreddit': 'changemyview', 'stickied': False, 'permalink': '/r/changemyview/comments/9eqssy/cmv_mandatory_evacuations_should_not_exist/e5qzyzp/', 'author_flair_text': '10∆'}, '_id': 'e5qzyzp', 'user': User({'obj_type': 'user', '_owner': <convokit.model.corpus.Corpus object at 0x131626210>, 'meta': {}, '_id': 'David4194d', '_name': 'David4194d'}), 'root': '9eqssy', 'reply_to': 'e5qy07q', 'timestamp': 1536617661, 'text': 'Don’t forget to fully recoup the cost we’d also have to evaluate whether each person who died did so because they chose not to leave or some other reason. We’d then have to prove they wouldn’t have died if the person had just left. \\nI mean we are going to go after them to recoop money then we’d better go after them for any lives lost they caused. Then it becomes way more expensive to the state. \\n\\nAs you’ve said this is why pure philosophy doesn’t usually work in reality '}),\n",
       " Utterance({'obj_type': 'utterance', '_owner': <convokit.model.corpus.Corpus object at 0x131626210>, 'meta': {'score': 2, 'top_level_comment': 'e5qt2j2', 'retrieved_on': 1538916772, 'gilded': 0, 'gildings': {'gid_1': 0, 'gid_2': 0, 'gid_3': 0}, 'subreddit': 'changemyview', 'stickied': False, 'permalink': '/r/changemyview/comments/9eqssy/cmv_mandatory_evacuations_should_not_exist/e5r0qak/', 'author_flair_text': '142∆'}, '_id': 'e5r0qak', 'user': User({'obj_type': 'user', '_owner': <convokit.model.corpus.Corpus object at 0x131626210>, 'meta': {}, '_id': 'caw81', '_name': 'caw81'}), 'root': '9eqssy', 'reply_to': 'e5qzlo7', 'timestamp': 1536618380, 'text': \"&gt; We have tribunals and the like set up specifically for certain types of cases. \\n\\nYou have to agree to it beforehand.  You aren't going to get people to agree to this, why should they?  Also, its going to cost to collect and make sure its legally binding (e.g. all people signed it and not just 1 person out of a house).\\n\\n&gt; It could so informal as to simply mail rescuees a form and have them filling it out explaining why they didn't leave. \\n\\nSo its just a form they have to fill out?  Leave or be rescued (with associated government costs and resources) and do paper work?  I mean if they want to see a bank account with only $10.00 in it, its pretty easy to do.\\n\"}),\n",
       " Utterance({'obj_type': 'utterance', '_owner': <convokit.model.corpus.Corpus object at 0x131626210>, 'meta': {'score': 0, 'top_level_comment': 'e5qt2j2', 'retrieved_on': 1538917232, 'gilded': 0, 'gildings': {'gid_1': 0, 'gid_2': 0, 'gid_3': 0}, 'subreddit': 'changemyview', 'stickied': False, 'permalink': '/r/changemyview/comments/9eqssy/cmv_mandatory_evacuations_should_not_exist/e5r1olh/', 'author_flair_text': '3∆'}, '_id': 'e5r1olh', 'user': User({'obj_type': 'user', '_owner': <convokit.model.corpus.Corpus object at 0x131626210>, 'meta': {}, '_id': 'Tendas', '_name': 'Tendas'}), 'root': '9eqssy', 'reply_to': 'e5r0qak', 'timestamp': 1536619282, 'text': \"&gt;You have to agree to it beforehand.\\n\\nOh! I'm sure the manufacturing industry will be delighted to learn that those pesky OSHA tribunals are optional! /s\\n\\nNo. Article 1 courts set up by an executive agency can have jurisdiction over people, whether they agree to it or not. \\n\\n&gt;So its just a form they have to fill out? \\n\\nCould be. Whatever this supposed agency (or new branch of FEMA) thinks is most effective. \"}),\n",
       " Utterance({'obj_type': 'utterance', '_owner': <convokit.model.corpus.Corpus object at 0x131626210>, 'meta': {'score': 6, 'top_level_comment': 'e5qt2j2', 'retrieved_on': 1538918133, 'gilded': 0, 'gildings': {'gid_1': 0, 'gid_2': 0, 'gid_3': 0}, 'subreddit': 'changemyview', 'stickied': False, 'permalink': '/r/changemyview/comments/9eqssy/cmv_mandatory_evacuations_should_not_exist/e5r3oml/', 'author_flair_text': '3∆'}, '_id': 'e5r3oml', 'user': User({'obj_type': 'user', '_owner': <convokit.model.corpus.Corpus object at 0x131626210>, 'meta': {}, '_id': 'random5924', '_name': 'random5924'}), 'root': '9eqssy', 'reply_to': 'e5qzlo7', 'timestamp': 1536621200, 'text': \"You don't support temporary restriction on the freedom of movement (or lack of movement), but are fine with removing due process and presumption of innocence? I see two ways that proposal goes. Either it's a toothless mail form that people either don't respond to or put down any excuse (I couldn't afford it, I didn't know I was in the evacuation zone, I had to take care of an elderly person who couldn't leave, I have a disability...) or a completely over the top procedure where innocent people are fined or jailed because they lack the knowledge or money to prove themselves innocent. More likely it's a combination of the two where people who are poor and have already lost everything face the harsh side of the system and people who can afford to hire a lawyer to represent or the ability to pay a fine are left unaffected.\\n\\n\"}),\n",
       " Utterance({'obj_type': 'utterance', '_owner': <convokit.model.corpus.Corpus object at 0x131626210>, 'meta': {'score': 2, 'top_level_comment': 'e5qt2j2', 'retrieved_on': 1538921263, 'gilded': 0, 'gildings': {'gid_1': 0, 'gid_2': 0, 'gid_3': 0}, 'subreddit': 'changemyview', 'stickied': False, 'permalink': '/r/changemyview/comments/9eqssy/cmv_mandatory_evacuations_should_not_exist/e5ra8po/', 'author_flair_text': '16∆'}, '_id': 'e5ra8po', 'user': User({'obj_type': 'user', '_owner': <convokit.model.corpus.Corpus object at 0x131626210>, 'meta': {}, '_id': 'zardeh', '_name': 'zardeh'}), 'root': '9eqssy', 'reply_to': 'e5r1olh', 'timestamp': 1536627341, 'text': \"OSHA tribunals are optional. You consent to them as part of starting certain kinds of businesses. I'm never going to be a part of one, unless I take steps to be under their jurisdiction.\\n\\nYou're suggesting a non-court tribunal which people would be subject to as a result of existing in a certain area. That's almost certainly unconstitutional unless it was functionally identical to a court.\"}),\n",
       " Utterance({'obj_type': 'utterance', '_owner': <convokit.model.corpus.Corpus object at 0x131626210>, 'meta': {'score': 2, 'top_level_comment': 'e5qt2j2', 'retrieved_on': 1538936262, 'gilded': 0, 'gildings': {'gid_1': 0, 'gid_2': 0, 'gid_3': 0}, 'subreddit': 'changemyview', 'stickied': False, 'permalink': '/r/changemyview/comments/9eqssy/cmv_mandatory_evacuations_should_not_exist/e5s6dno/', 'author_flair_text': '17∆'}, '_id': 'e5s6dno', 'user': User({'obj_type': 'user', '_owner': <convokit.model.corpus.Corpus object at 0x131626210>, 'meta': {}, '_id': 'IHAQ', '_name': 'IHAQ'}), 'root': '9eqssy', 'reply_to': 'e5qvoph', 'timestamp': 1536671867, 'text': \"&gt; The issue of liability will be sorted out later and the government should place the cost of rescue on the willful stayers.\\n\\nThat sounds suspiciously like the government using the force of law to compel evacuations or punish those who don't, no?\"})]"
      ]
     },
     "execution_count": 23,
     "metadata": {},
     "output_type": "execute_result"
    }
   ],
   "source": [
    "list(convo.iter_utterances())"
   ]
  },
  {
   "cell_type": "code",
   "execution_count": 17,
   "metadata": {},
   "outputs": [
    {
     "data": {
      "text/plain": [
       "['83334u',\n",
       " 'dveru01',\n",
       " 'dveru01',\n",
       " 'dvf3kua',\n",
       " 'dvf3n6u',\n",
       " 'dvf48jv',\n",
       " 'dvf4c54',\n",
       " 'dvfcq5d',\n",
       " 'dvf3n6u',\n",
       " 'dvfegmi',\n",
       " 'dvfipjz',\n",
       " 'dveru01',\n",
       " 'dvf2pb0',\n",
       " 'dvw66ba',\n",
       " '83334u',\n",
       " 'dveyt02',\n",
       " 'dveyt02',\n",
       " 'dvf2rbv',\n",
       " 'dvf2sol',\n",
       " 'dvf2ve8',\n",
       " 'dvf2lx3',\n",
       " 'dvf40ni',\n",
       " 'dvf40ni',\n",
       " 'dvf40ni',\n",
       " 'dveyt02',\n",
       " 'dveyt02',\n",
       " 'dvfa14m',\n",
       " 'dveyt02']"
      ]
     },
     "execution_count": 17,
     "metadata": {},
     "output_type": "execute_result"
    }
   ],
   "source": [
    "utt.reply_to for utt in list(corpus.random_conversation().iter_utterances())]"
   ]
  },
  {
   "cell_type": "code",
   "execution_count": 7,
   "metadata": {},
   "outputs": [
    {
     "ename": "KeyError",
     "evalue": "None",
     "output_type": "error",
     "traceback": [
      "\u001b[0;31m---------------------------------------------------------------------------\u001b[0m",
      "\u001b[0;31mKeyError\u001b[0m                                  Traceback (most recent call last)",
      "\u001b[0;32m<ipython-input-7-ed44b0dead7b>\u001b[0m in \u001b[0;36m<module>\u001b[0;34m\u001b[0m\n\u001b[1;32m      1\u001b[0m threads_corpus = corpus.reindex_conversations(new_convo_roots=top_level_utterance_ids, \n\u001b[1;32m      2\u001b[0m                                               \u001b[0mpreserve_convo_meta\u001b[0m\u001b[0;34m=\u001b[0m\u001b[0;32mTrue\u001b[0m\u001b[0;34m,\u001b[0m\u001b[0;34m\u001b[0m\u001b[0;34m\u001b[0m\u001b[0m\n\u001b[0;32m----> 3\u001b[0;31m                                               preserve_corpus_meta=False)\n\u001b[0m",
      "\u001b[0;32m/Library/Frameworks/Python.framework/Versions/3.7/lib/python3.7/site-packages/convokit/model/corpus.py\u001b[0m in \u001b[0;36mreindex_conversations\u001b[0;34m(self, new_convo_roots, preserve_corpus_meta, preserve_convo_meta, verbose)\u001b[0m\n\u001b[1;32m    426\u001b[0m                 \u001b[0;32mfor\u001b[0m \u001b[0mconvo\u001b[0m \u001b[0;32min\u001b[0m \u001b[0mself\u001b[0m\u001b[0;34m.\u001b[0m\u001b[0miter_conversations\u001b[0m\u001b[0;34m(\u001b[0m\u001b[0;34m)\u001b[0m\u001b[0;34m:\u001b[0m\u001b[0;34m\u001b[0m\u001b[0;34m\u001b[0m\u001b[0m\n\u001b[1;32m    427\u001b[0m                         \u001b[0;32mtry\u001b[0m\u001b[0;34m:\u001b[0m\u001b[0;34m\u001b[0m\u001b[0;34m\u001b[0m\u001b[0m\n\u001b[0;32m--> 428\u001b[0;31m                                 \u001b[0mconvo\u001b[0m\u001b[0;34m.\u001b[0m\u001b[0minitialize_tree_structure\u001b[0m\u001b[0;34m(\u001b[0m\u001b[0;34m)\u001b[0m\u001b[0;34m\u001b[0m\u001b[0;34m\u001b[0m\u001b[0m\n\u001b[0m\u001b[1;32m    429\u001b[0m                         \u001b[0;32mexcept\u001b[0m \u001b[0mValueError\u001b[0m \u001b[0;32mas\u001b[0m \u001b[0me\u001b[0m\u001b[0;34m:\u001b[0m\u001b[0;34m\u001b[0m\u001b[0;34m\u001b[0m\u001b[0m\n\u001b[1;32m    430\u001b[0m                                 \u001b[0;32mif\u001b[0m \u001b[0mverbose\u001b[0m\u001b[0;34m:\u001b[0m\u001b[0;34m\u001b[0m\u001b[0;34m\u001b[0m\u001b[0m\n",
      "\u001b[0;32m/Library/Frameworks/Python.framework/Versions/3.7/lib/python3.7/site-packages/convokit/model/conversation.py\u001b[0m in \u001b[0;36minitialize_tree_structure\u001b[0;34m(self)\u001b[0m\n\u001b[1;32m    168\u001b[0m             \u001b[0mwrapped_utt\u001b[0m\u001b[0;34m.\u001b[0m\u001b[0mset_children\u001b[0m\u001b[0;34m(\u001b[0m\u001b[0;34m[\u001b[0m\u001b[0mwrapped_utts\u001b[0m\u001b[0;34m[\u001b[0m\u001b[0mchild_id\u001b[0m\u001b[0;34m]\u001b[0m \u001b[0;32mfor\u001b[0m \u001b[0mchild_id\u001b[0m \u001b[0;32min\u001b[0m \u001b[0mparent_to_children_ids\u001b[0m\u001b[0;34m[\u001b[0m\u001b[0mparent_id\u001b[0m\u001b[0;34m]\u001b[0m\u001b[0;34m]\u001b[0m\u001b[0;34m)\u001b[0m\u001b[0;34m\u001b[0m\u001b[0;34m\u001b[0m\u001b[0m\n\u001b[1;32m    169\u001b[0m \u001b[0;34m\u001b[0m\u001b[0m\n\u001b[0;32m--> 170\u001b[0;31m         \u001b[0mself\u001b[0m\u001b[0;34m.\u001b[0m\u001b[0mtree\u001b[0m \u001b[0;34m=\u001b[0m \u001b[0mwrapped_utts\u001b[0m\u001b[0;34m[\u001b[0m\u001b[0mroot_node_id\u001b[0m\u001b[0;34m]\u001b[0m\u001b[0;34m\u001b[0m\u001b[0;34m\u001b[0m\u001b[0m\n\u001b[0m\u001b[1;32m    171\u001b[0m \u001b[0;34m\u001b[0m\u001b[0m\n\u001b[1;32m    172\u001b[0m     \u001b[0;32mdef\u001b[0m \u001b[0mtraverse\u001b[0m\u001b[0;34m(\u001b[0m\u001b[0mself\u001b[0m\u001b[0;34m,\u001b[0m \u001b[0mtraversal_type\u001b[0m\u001b[0;34m:\u001b[0m \u001b[0mstr\u001b[0m\u001b[0;34m,\u001b[0m \u001b[0mas_utterance\u001b[0m\u001b[0;34m:\u001b[0m \u001b[0mbool\u001b[0m \u001b[0;34m=\u001b[0m \u001b[0;32mTrue\u001b[0m\u001b[0;34m)\u001b[0m\u001b[0;34m:\u001b[0m\u001b[0;34m\u001b[0m\u001b[0;34m\u001b[0m\u001b[0m\n",
      "\u001b[0;31mKeyError\u001b[0m: None"
     ]
    }
   ],
   "source": [
    "threads_corpus = corpus.reindex_conversations(new_convo_roots=top_level_utterance_ids, \n",
    "                                              preserve_convo_meta=True,\n",
    "                                              preserve_corpus_meta=False)"
   ]
  },
  {
   "cell_type": "code",
   "execution_count": null,
   "metadata": {},
   "outputs": [],
   "source": []
  }
 ],
 "metadata": {
  "kernelspec": {
   "display_name": "Python 3",
   "language": "python",
   "name": "python3"
  },
  "language_info": {
   "codemirror_mode": {
    "name": "ipython",
    "version": 3
   },
   "file_extension": ".py",
   "mimetype": "text/x-python",
   "name": "python",
   "nbconvert_exporter": "python",
   "pygments_lexer": "ipython3",
   "version": "3.7.6"
  }
 },
 "nbformat": 4,
 "nbformat_minor": 2
}
