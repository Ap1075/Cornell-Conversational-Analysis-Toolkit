{
 "cells": [
  {
   "cell_type": "code",
   "execution_count": 1,
   "metadata": {},
   "outputs": [],
   "source": [
    "import os\n",
    "os.chdir('../../..')"
   ]
  },
  {
   "cell_type": "code",
   "execution_count": 3,
   "metadata": {},
   "outputs": [
    {
     "name": "stderr",
     "output_type": "stream",
     "text": [
      "/Library/Frameworks/Python.framework/Versions/3.7/lib/python3.7/site-packages/sklearn/externals/joblib/__init__.py:15: DeprecationWarning: sklearn.externals.joblib is deprecated in 0.21 and will be removed in 0.23. Please import this functionality directly from joblib, which can be installed with: pip install joblib. If this warning is raised when loading pickled models, you may need to re-serialize those models with scikit-learn 0.21+.\n",
      "  warnings.warn(msg, category=DeprecationWarning)\n"
     ]
    }
   ],
   "source": [
    "import convokit\n",
    "import pickle\n",
    "import json"
   ]
  },
  {
   "cell_type": "code",
   "execution_count": 5,
   "metadata": {},
   "outputs": [],
   "source": [
    "os.chdir('convokit/tensors')"
   ]
  },
  {
   "cell_type": "code",
   "execution_count": 6,
   "metadata": {},
   "outputs": [],
   "source": [
    "with open('data/rank_to_factors.p', 'rb') as f:\n",
    "    rank_to_factors = pickle.load(f)"
   ]
  },
  {
   "cell_type": "code",
   "execution_count": 7,
   "metadata": {},
   "outputs": [],
   "source": [
    "with open('data/hg_features.p', 'rb') as f:\n",
    "    hg_features = pickle.load(f)\n",
    "\n",
    "with open('data/subreddits.p', 'rb') as f:\n",
    "    subreddits = pickle.load(f)"
   ]
  },
  {
   "cell_type": "code",
   "execution_count": 11,
   "metadata": {},
   "outputs": [],
   "source": [
    "from sklearn.preprocessing import StandardScaler\n",
    "import numpy as np\n",
    "scaler = StandardScaler()"
   ]
  },
  {
   "cell_type": "code",
   "execution_count": 12,
   "metadata": {},
   "outputs": [],
   "source": [
    "def get_anomalous_points(factor_full, idx):\n",
    "    factor = factor_full[:, idx]\n",
    "    reshaped = factor.reshape((factor.shape[0], 1))\n",
    "    scaled = scaler.fit_transform(reshaped)\n",
    "    pos_pts = np.argwhere(scaled.reshape(factor.shape[0]) > 1.5).flatten()\n",
    "    neg_pts = np.argwhere(scaled.reshape(factor.shape[0]) < -1.5).flatten()\n",
    "    return pos_pts, neg_pts"
   ]
  },
  {
   "cell_type": "code",
   "execution_count": 13,
   "metadata": {},
   "outputs": [],
   "source": [
    "time_factor = rank_to_factors[9][0] # (9, 9)\n",
    "thread_factor = rank_to_factors[9][1] # (10000, 9)\n",
    "feature_factor = rank_to_factors[9][2] # (164, 9)"
   ]
  },
  {
   "cell_type": "code",
   "execution_count": null,
   "metadata": {},
   "outputs": [],
   "source": [
    "with open('data/thread_ids.p', 'rb') as f:\n",
    "    thread_ids = pickle.load(f)"
   ]
  },
  {
   "cell_type": "code",
   "execution_count": 22,
   "metadata": {},
   "outputs": [
    {
     "name": "stdout",
     "output_type": "stream",
     "text": [
      "Dataset already exists at /Users/calebchiam/.convokit/downloads/reddit-corpus-small\n"
     ]
    }
   ],
   "source": [
    "from convokit import Corpus, download\n",
    "corpus = Corpus(filename=download('reddit-corpus-small'))"
   ]
  },
  {
   "cell_type": "code",
   "execution_count": 23,
   "metadata": {},
   "outputs": [],
   "source": [
    "top_level_comment_ids = [utt.id for utt in corpus.iter_utterances() if utt.id == utt.meta['top_level_comment']]"
   ]
  },
  {
   "cell_type": "code",
   "execution_count": 24,
   "metadata": {},
   "outputs": [],
   "source": [
    "corpus = corpus.reindex_conversations(top_level_comment_ids)"
   ]
  },
  {
   "cell_type": "code",
   "execution_count": 25,
   "metadata": {},
   "outputs": [],
   "source": [
    "threads = [corpus.get_conversation(thread_id) for thread_id in thread_ids]"
   ]
  },
  {
   "cell_type": "markdown",
   "metadata": {},
   "source": [
    "## Inspecting threads from Factor 1"
   ]
  },
  {
   "cell_type": "code",
   "execution_count": null,
   "metadata": {},
   "outputs": [],
   "source": [
    "pos_threads, neg_threads = get_anomalous_points(thread_factor, 0)"
   ]
  },
  {
   "cell_type": "code",
   "execution_count": 33,
   "metadata": {},
   "outputs": [],
   "source": [
    "def get_convo_details(convo):\n",
    "    print(\"Subreddit: {}\".format(convo.meta['original_convo_meta']['subreddit']))\n",
    "    convo.print_conversation_structure()"
   ]
  },
  {
   "cell_type": "code",
   "execution_count": 35,
   "metadata": {},
   "outputs": [],
   "source": [
    "import random"
   ]
  },
  {
   "cell_type": "code",
   "execution_count": 38,
   "metadata": {},
   "outputs": [
    {
     "data": {
      "text/plain": [
       "[5344, 1006, 6609, 5317, 5128, 4897, 2366, 8101, 258, 9881]"
      ]
     },
     "execution_count": 38,
     "metadata": {},
     "output_type": "execute_result"
    }
   ],
   "source": [
    "random.sample(list(pos_threads), 10)"
   ]
  },
  {
   "cell_type": "code",
   "execution_count": 39,
   "metadata": {},
   "outputs": [
    {
     "name": "stdout",
     "output_type": "stream",
     "text": [
      "Subreddit: buildapc\n",
      "Stew_a_jew\n",
      "    podboi\n",
      "        Stew_a_jew\n",
      "            podboi\n",
      "                Stew_a_jew\n",
      "                    podboi\n",
      "                        Stew_a_jew\n",
      "                            podboi\n",
      "                                Stew_a_jew\n",
      "                                    podboi\n",
      "                                        Stew_a_jew\n",
      "                                        Stew_a_jew\n",
      "                                            podboi\n",
      "            Stew_a_jew\n"
     ]
    }
   ],
   "source": [
    "get_convo_details(threads[6609])"
   ]
  },
  {
   "cell_type": "code",
   "execution_count": 40,
   "metadata": {},
   "outputs": [
    {
     "name": "stdout",
     "output_type": "stream",
     "text": [
      "Subreddit: Christianity\n",
      "northstardim\n",
      "    makutamakaveli\n",
      "        northstardim\n",
      "            makutamakaveli\n",
      "                northstardim\n",
      "                    makutamakaveli\n",
      "                        northstardim\n",
      "                            makutamakaveli\n",
      "                                northstardim\n",
      "                                    makutamakaveli\n",
      "                                yemayknow\n",
      "                                    makutamakaveli\n",
      "                                        yemayknow\n",
      "                                            makutamakaveli\n",
      "                                                makutamakaveli\n",
      "                                                yemayknow\n",
      "                                                    makutamakaveli\n",
      "                                                        yemayknow\n",
      "                                                            makutamakaveli\n",
      "                                                                yemayknow\n",
      "                                                                    makutamakaveli\n",
      "                                                                        yemayknow\n",
      "                                                                            makutamakaveli\n",
      "                                                                                yemayknow\n",
      "                                                                                    makutamakaveli\n",
      "                                                                                        yemayknow\n",
      "                                            [deleted]\n",
      "                    makutamakaveli\n"
     ]
    }
   ],
   "source": [
    "get_convo_details(threads[2366])"
   ]
  },
  {
   "cell_type": "code",
   "execution_count": 41,
   "metadata": {},
   "outputs": [
    {
     "name": "stdout",
     "output_type": "stream",
     "text": [
      "Subreddit: buildapc\n",
      "kvswim\n",
      "    Catman360\n",
      "        kvswim\n",
      "            Catman360\n",
      "                kvswim\n",
      "                    Catman360\n",
      "                        kvswim\n",
      "                            Catman360\n",
      "                                kvswim\n",
      "                                    Catman360\n",
      "                                        kvswim\n",
      "                                            Catman360\n"
     ]
    }
   ],
   "source": [
    "get_convo_details(threads[8101])"
   ]
  },
  {
   "cell_type": "markdown",
   "metadata": {},
   "source": [
    "Looks like dyadic reciprocity."
   ]
  },
  {
   "cell_type": "markdown",
   "metadata": {},
   "source": [
    "## Inspecting threads from Factor 9"
   ]
  },
  {
   "cell_type": "code",
   "execution_count": 55,
   "metadata": {},
   "outputs": [],
   "source": [
    "pos_threads9, neg_threads9 = get_anomalous_points(thread_factor, 8)"
   ]
  },
  {
   "cell_type": "code",
   "execution_count": 56,
   "metadata": {},
   "outputs": [
    {
     "data": {
      "text/plain": [
       "[5739, 334, 9462, 6566, 7229, 9118, 6916, 6318, 1335, 4666]"
      ]
     },
     "execution_count": 56,
     "metadata": {},
     "output_type": "execute_result"
    }
   ],
   "source": [
    "random.sample(list(pos_threads9), 10)"
   ]
  },
  {
   "cell_type": "code",
   "execution_count": 66,
   "metadata": {},
   "outputs": [
    {
     "name": "stdout",
     "output_type": "stream",
     "text": [
      "Can you link the inspiration cover? I can’t find it\n",
      "    * [This one.](https://i.imgur.com/zFUmfpc.jpg) \n",
      "\n",
      "* [Into the Spider-verse poster does something similar too.](https://i.imgur.com/DVQHBj7.jpg)\n",
      "        Awesome! Yours included\n",
      "        God. That’s a powerful image.\n",
      "        [there's this one from into the spider verse aswell](https://www.mpaa.org/wp-content/uploads/2017/12/brazil-comic-con-cbf_mkt_firstlook_comp_004_jkt_dg_rgb.jpg)\n",
      "        [Thought it was more inspired by this from Into the Spider-Verse](https://www.cartoonbrew.com/wp-content/uploads/2017/12/spiderman_spiderverse.jpg)\n",
      "        Thank you.\n",
      "        Damn dude you took a screen shot of a video game that trumps the cover it was imitating. Incredible. \n",
      "        Your title could have used the weird book, I'm sure many of us thought the film. \n",
      "        Into the Spider-Verse is gonna be fantastic. \n",
      "        All I thought of when I first saw your pic was that photo from 9/11 called The Falling Man.... It's a bit depressing so I won't link it. \n",
      "\n",
      "I'm glad you posted the actual inspiration images. Must have been rough to recreate! \n"
     ]
    }
   ],
   "source": [
    "threads[9118].print_conversation_structure(lambda x: x.text)"
   ]
  },
  {
   "cell_type": "code",
   "execution_count": 57,
   "metadata": {},
   "outputs": [
    {
     "name": "stdout",
     "output_type": "stream",
     "text": [
      "Subreddit: gaming\n",
      "tallest_chris\n",
      "    ulsafar\n",
      "        tallest_chris\n",
      "        jburtson\n",
      "        CUI2I2EY\n",
      "        ram-ok\n",
      "        PKMNTrainerMark\n",
      "        mushroomking311\n",
      "        CageAndBale\n",
      "        KilowogTrout\n",
      "        My_Name_Is_Steven\n"
     ]
    }
   ],
   "source": [
    "get_convo_details(threads[9118])"
   ]
  },
  {
   "cell_type": "code",
   "execution_count": 58,
   "metadata": {},
   "outputs": [
    {
     "name": "stdout",
     "output_type": "stream",
     "text": [
      "Subreddit: LifeProTips\n",
      "NewShadowGuy\n",
      "    Wootimonreddit\n",
      "        NewShadowGuy\n",
      "            Wootimonreddit\n",
      "                NewShadowGuy\n",
      "                bigbadbosp\n",
      "        westbee\n",
      "            Wootimonreddit\n",
      "                Destination_Fucked\n",
      "            hairyblackhole\n",
      "        SpeckleCoatedYak\n"
     ]
    }
   ],
   "source": [
    "get_convo_details(threads[7229])"
   ]
  },
  {
   "cell_type": "code",
   "execution_count": 62,
   "metadata": {},
   "outputs": [
    {
     "name": "stdout",
     "output_type": "stream",
     "text": [
      "Subreddit: MensRights\n",
      "skepticalbob\n",
      "    Imnotmrabut\n",
      "        skepticalbob\n",
      "            Imnotmrabut\n",
      "                skepticalbob\n",
      "                    Imnotmrabut\n",
      "                        skepticalbob\n",
      "                            Imnotmrabut\n",
      "                                skepticalbob\n",
      "                                    Imnotmrabut\n",
      "                            grandmasbroach\n"
     ]
    }
   ],
   "source": [
    "get_convo_details(threads[9462])"
   ]
  },
  {
   "cell_type": "code",
   "execution_count": 59,
   "metadata": {},
   "outputs": [
    {
     "data": {
      "text/plain": [
       "[2741, 3059, 2547, 1267, 1017, 3173, 7409, 2098, 7004, 996]"
      ]
     },
     "execution_count": 59,
     "metadata": {},
     "output_type": "execute_result"
    }
   ],
   "source": [
    "random.sample(list(neg_threads9), 10)"
   ]
  },
  {
   "cell_type": "code",
   "execution_count": 60,
   "metadata": {},
   "outputs": [
    {
     "name": "stdout",
     "output_type": "stream",
     "text": [
      "Subreddit: aww\n",
      "AmoreBestia\n",
      "    HeyPScott\n",
      "    HarryCochrane\n",
      "        isolophobichermit\n",
      "            burnsito\n",
      "    hehyougotme\n",
      "        ApplesPeaches\n",
      "        new-it-grad\n",
      "    LiberatedCapsicum\n",
      "        Dovah-Bot\n",
      "    Nosefairy\n",
      "        AmoreBestia\n",
      "            aleksem\n",
      "                AmoreBestia\n",
      "                    aleksem\n",
      "        PoIwho\n",
      "        DoubleTapJ\n",
      "            Nosefairy\n",
      "                DoubleTapJ\n",
      "    inkflamingo\n",
      "    anefisenuf\n"
     ]
    }
   ],
   "source": [
    "get_convo_details(threads[1267])"
   ]
  },
  {
   "cell_type": "code",
   "execution_count": 61,
   "metadata": {},
   "outputs": [
    {
     "name": "stdout",
     "output_type": "stream",
     "text": [
      "Subreddit: Android\n",
      "cjandstuff\n",
      "    DrDan21\n",
      "    Nestramutat-\n",
      "    cxu1993\n",
      "    [deleted]\n",
      "    lifeiswater\n",
      "        Jacko3000\n",
      "            electricblues42\n",
      "                Jacko3000\n",
      "    CharlesHipster\n",
      "    tossin\n"
     ]
    }
   ],
   "source": [
    "get_convo_details(threads[1017])"
   ]
  },
  {
   "cell_type": "markdown",
   "metadata": {},
   "source": [
    "## Factor 7"
   ]
  },
  {
   "cell_type": "code",
   "execution_count": 67,
   "metadata": {},
   "outputs": [],
   "source": [
    "pos_threads7, neg_threads7 = get_anomalous_points(thread_factor, 6)"
   ]
  },
  {
   "cell_type": "code",
   "execution_count": 68,
   "metadata": {},
   "outputs": [
    {
     "data": {
      "text/plain": [
       "[1981, 6876, 29, 4152, 6298, 7597, 4568, 8457, 4844, 3043]"
      ]
     },
     "execution_count": 68,
     "metadata": {},
     "output_type": "execute_result"
    }
   ],
   "source": [
    "random.sample(list(pos_threads7), 10)"
   ]
  },
  {
   "cell_type": "code",
   "execution_count": 69,
   "metadata": {},
   "outputs": [
    {
     "name": "stdout",
     "output_type": "stream",
     "text": [
      "Subreddit: Games\n",
      "Nzash\n",
      "    AnimaLepton\n",
      "    [deleted]\n",
      "    SquilliamFancyson412\n",
      "        DexRogue\n",
      "            Sir__Walken\n",
      "                teleporterdown\n",
      "                TSPhoenix\n",
      "                    SquilliamFancyson412\n",
      "                    Cr0nq\n",
      "                        TSPhoenix\n",
      "            Lugonn\n",
      "                SquilliamFancyson412\n",
      "                    brain_fuckler\n",
      "                        SquilliamFancyson412\n",
      "    TSPhoenix\n"
     ]
    }
   ],
   "source": [
    "get_convo_details(threads[1981])"
   ]
  },
  {
   "cell_type": "code",
   "execution_count": null,
   "metadata": {},
   "outputs": [],
   "source": []
  },
  {
   "cell_type": "code",
   "execution_count": 76,
   "metadata": {},
   "outputs": [],
   "source": [
    "for idx, utt in enumerate(threads[7597].get_chronological_utterance_list()):\n",
    "    utt.meta['order'] = idx"
   ]
  },
  {
   "cell_type": "code",
   "execution_count": 79,
   "metadata": {},
   "outputs": [
    {
     "data": {
      "text/plain": [
       "'e5shplt'"
      ]
     },
     "execution_count": 79,
     "metadata": {},
     "output_type": "execute_result"
    }
   ],
   "source": [
    "thread_ids[7597]"
   ]
  },
  {
   "cell_type": "code",
   "execution_count": 78,
   "metadata": {},
   "outputs": [
    {
     "name": "stdout",
     "output_type": "stream",
     "text": [
      "0. twentyitalians\n",
      "    1. thatgirlwithbigboobs\n",
      "        8. pylestothemax\n",
      "            18. trebory6\n",
      "                23. pylestothemax\n",
      "            35. ismailismail\n",
      "    2. RockstarSuicide\n",
      "        12. 1stOnRt1\n",
      "            14. oneELECTRIC\n",
      "            27. screw_arc\n",
      "                30. 1stOnRt1\n",
      "                    33. JasonSteakums\n",
      "            28. RockstarSuicide\n",
      "                31. 1stOnRt1\n",
      "                    32. RockstarSuicide\n",
      "    3. Fanatical_Idiot\n",
      "        6. TokeyWeedtooth\n",
      "            7. Fanatical_Idiot\n",
      "            9. da_bbq\n",
      "                11. Martel732\n",
      "                    15. [deleted]\n",
      "                16. TokeyWeedtooth\n",
      "            10. MC_Fillius_Dickinson\n",
      "                17. TokeyWeedtooth\n",
      "                    20. MC_Fillius_Dickinson\n",
      "                        21. TokeyWeedtooth\n",
      "                            24. Vinnie_Vegas\n",
      "                                26. CashWho\n",
      "                            25. MC_Fillius_Dickinson\n",
      "            13. dmanny64\n",
      "                19. TokeyWeedtooth\n",
      "            29. RockstarSuicide\n",
      "            34. FlatTire2005\n",
      "    4. Mechfire11\n",
      "        5. BeetIejewz\n",
      "    22. Leo_TheLurker\n"
     ]
    }
   ],
   "source": [
    "threads[7597].print_conversation_structure(lambda utt: str(utt.meta['order']) + \". \" + utt.user.id)"
   ]
  },
  {
   "cell_type": "code",
   "execution_count": 72,
   "metadata": {},
   "outputs": [
    {
     "name": "stdout",
     "output_type": "stream",
     "text": [
      "Subreddit: Marvel\n",
      "twentyitalians\n",
      "    thatgirlwithbigboobs\n",
      "        pylestothemax\n",
      "            trebory6\n",
      "                pylestothemax\n",
      "            ismailismail\n",
      "    RockstarSuicide\n",
      "        1stOnRt1\n",
      "            oneELECTRIC\n",
      "            screw_arc\n",
      "                1stOnRt1\n",
      "                    JasonSteakums\n",
      "            RockstarSuicide\n",
      "                1stOnRt1\n",
      "                    RockstarSuicide\n",
      "    Fanatical_Idiot\n",
      "        TokeyWeedtooth\n",
      "            Fanatical_Idiot\n",
      "            da_bbq\n",
      "                Martel732\n",
      "                    [deleted]\n",
      "                TokeyWeedtooth\n",
      "            MC_Fillius_Dickinson\n",
      "                TokeyWeedtooth\n",
      "                    MC_Fillius_Dickinson\n",
      "                        TokeyWeedtooth\n",
      "                            Vinnie_Vegas\n",
      "                                CashWho\n",
      "                            MC_Fillius_Dickinson\n",
      "            dmanny64\n",
      "                TokeyWeedtooth\n",
      "            RockstarSuicide\n",
      "            FlatTire2005\n",
      "    Mechfire11\n",
      "        BeetIejewz\n",
      "    Leo_TheLurker\n"
     ]
    }
   ],
   "source": [
    "get_convo_details(threads[7597])"
   ]
  },
  {
   "cell_type": "code",
   "execution_count": 70,
   "metadata": {},
   "outputs": [
    {
     "data": {
      "text/plain": [
       "[5399, 246, 4918, 9802, 7855, 4726, 6498, 5465, 5250, 4175]"
      ]
     },
     "execution_count": 70,
     "metadata": {},
     "output_type": "execute_result"
    }
   ],
   "source": [
    "random.sample(list(neg_threads7), 10)"
   ]
  },
  {
   "cell_type": "code",
   "execution_count": 71,
   "metadata": {},
   "outputs": [
    {
     "name": "stdout",
     "output_type": "stream",
     "text": [
      "Subreddit: hockey\n",
      "Imagine1\n",
      "    aschwan41\n",
      "        Imagine1\n",
      "            aschwan41\n",
      "                Imagine1\n",
      "            xdiagnosis\n",
      "                Imagine1\n",
      "            Yashkovich\n",
      "                Imagine1\n",
      "            camster1123\n",
      "                Imagine1\n",
      "            gruesome2some\n",
      "            gruesome2some\n",
      "            gruesome2some\n",
      "            gruesome2some\n",
      "            gruesome2some\n",
      "            gruesome2some\n",
      "    justinql\n"
     ]
    }
   ],
   "source": [
    "get_convo_details(threads[4726])"
   ]
  },
  {
   "cell_type": "code",
   "execution_count": 73,
   "metadata": {},
   "outputs": [
    {
     "name": "stdout",
     "output_type": "stream",
     "text": [
      "Subreddit: hockey\n",
      "villagetorcher\n",
      "    Podo13\n",
      "        masterofstuff328\n",
      "        chiddie\n",
      "            Podo13\n",
      "                chiddie\n",
      "                DavidPuddy666\n",
      "                themikeshow\n",
      "            Roflcopter227\n",
      "                Herpes_hurricane\n",
      "                colt4594\n",
      "                suck-me-beautiful\n",
      "        Sirius_Cyborg\n",
      "            nibblerhank\n",
      "                sweetwattah\n",
      "        Tsquare43\n",
      "        MoreDescription\n",
      "        Bigforsumthin\n",
      "        sweetwattah\n",
      "            BananApocalypse\n",
      "    tandw\n",
      "        [deleted]\n",
      "    moak0\n",
      "        philocity\n",
      "        Oradi\n",
      "    PaulClarkLoadletter\n",
      "    thenicolino\n"
     ]
    }
   ],
   "source": [
    "get_convo_details(threads[6498])"
   ]
  },
  {
   "cell_type": "code",
   "execution_count": null,
   "metadata": {},
   "outputs": [],
   "source": []
  }
 ],
 "metadata": {
  "kernelspec": {
   "display_name": "Python 3",
   "language": "python",
   "name": "python3"
  },
  "language_info": {
   "codemirror_mode": {
    "name": "ipython",
    "version": 3
   },
   "file_extension": ".py",
   "mimetype": "text/x-python",
   "name": "python",
   "nbconvert_exporter": "python",
   "pygments_lexer": "ipython3",
   "version": "3.7.6"
  }
 },
 "nbformat": 4,
 "nbformat_minor": 2
}
