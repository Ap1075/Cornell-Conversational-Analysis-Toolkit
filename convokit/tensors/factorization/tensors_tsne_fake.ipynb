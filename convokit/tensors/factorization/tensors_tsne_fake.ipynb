{
 "cells": [
  {
   "cell_type": "code",
   "execution_count": 1,
   "metadata": {},
   "outputs": [],
   "source": [
    "import os\n",
    "os.chdir('../../..')"
   ]
  },
  {
   "cell_type": "code",
   "execution_count": 2,
   "metadata": {},
   "outputs": [],
   "source": [
    "import convokit"
   ]
  },
  {
   "cell_type": "code",
   "execution_count": 3,
   "metadata": {},
   "outputs": [],
   "source": [
    "from convokit import Corpus\n",
    "import pickle\n",
    "import numpy as np\n",
    "import os\n",
    "from tensorly.decomposition import parafac\n",
    "from convokit.tensors.utils import plot_factors\n",
    "from sklearn.preprocessing import StandardScaler\n",
    "from collections import defaultdict, Counter\n",
    "from jinja2 import Environment, FileSystemLoader\n",
    "import matplotlib.pyplot as plt\n",
    "import seaborn as sns\n",
    "import random\n",
    "import warnings\n",
    "from collections import defaultdict, Counter"
   ]
  },
  {
   "cell_type": "code",
   "execution_count": 4,
   "metadata": {},
   "outputs": [],
   "source": [
    "CORPUS_DIR = \"../thread_generator/fake-corpus-trajectory\"\n",
    "# CORPUS_DIR = \"reddit-corpus-small\"\n",
    "# CORPUS_DIR =\n",
    "DATA_DIR = \"data_fake_trajectory\"\n",
    "PLOT_DIR = \"html/graphs_fake_trajectory\"\n",
    "# hyperconv_range = range(0, 9+1)\n",
    "hyperconv_range = range(2, 20+1)\n",
    "rank_range = range(3, 3+1)\n",
    "max_rank = max(rank_range)\n",
    "anomaly_threshold = 1.5"
   ]
  },
  {
   "cell_type": "code",
   "execution_count": 5,
   "metadata": {},
   "outputs": [],
   "source": [
    "os.chdir('convokit/tensors')"
   ]
  },
  {
   "cell_type": "code",
   "execution_count": 6,
   "metadata": {},
   "outputs": [],
   "source": [
    "with open(os.path.join(DATA_DIR, 'tensor.p'), 'rb') as f:\n",
    "    tensor = pickle.load(f)"
   ]
  },
  {
   "cell_type": "code",
   "execution_count": 7,
   "metadata": {},
   "outputs": [],
   "source": [
    "with open(os.path.join(DATA_DIR, 'rank_to_factors.p'), 'rb') as f:\n",
    "    rank_to_factors = pickle.load(f)"
   ]
  },
  {
   "cell_type": "code",
   "execution_count": 8,
   "metadata": {},
   "outputs": [],
   "source": [
    "with open(os.path.join(DATA_DIR, 'convo_ids.p'), 'rb') as f:\n",
    "    convo_ids = pickle.load(f)"
   ]
  },
  {
   "cell_type": "code",
   "execution_count": 9,
   "metadata": {},
   "outputs": [
    {
     "data": {
      "text/plain": [
       "(19, 999, 140)"
      ]
     },
     "execution_count": 9,
     "metadata": {},
     "output_type": "execute_result"
    }
   ],
   "source": [
    "tensor.shape"
   ]
  },
  {
   "cell_type": "code",
   "execution_count": 11,
   "metadata": {},
   "outputs": [],
   "source": [
    "factors = rank_to_factors[3]"
   ]
  },
  {
   "cell_type": "code",
   "execution_count": 12,
   "metadata": {},
   "outputs": [
    {
     "data": {
      "text/plain": [
       "(19, 3)"
      ]
     },
     "execution_count": 12,
     "metadata": {},
     "output_type": "execute_result"
    }
   ],
   "source": [
    "factors[0].shape"
   ]
  },
  {
   "cell_type": "code",
   "execution_count": 13,
   "metadata": {},
   "outputs": [
    {
     "data": {
      "text/plain": [
       "(999, 3)"
      ]
     },
     "execution_count": 13,
     "metadata": {},
     "output_type": "execute_result"
    }
   ],
   "source": [
    "factors[1].shape"
   ]
  },
  {
   "cell_type": "code",
   "execution_count": 14,
   "metadata": {},
   "outputs": [
    {
     "data": {
      "text/plain": [
       "(140, 3)"
      ]
     },
     "execution_count": 14,
     "metadata": {},
     "output_type": "execute_result"
    }
   ],
   "source": [
    "factors[2].shape"
   ]
  },
  {
   "cell_type": "markdown",
   "metadata": {},
   "source": [
    "Our intention now is to provide a factorization of subreddits according to the thread types they contain."
   ]
  },
  {
   "cell_type": "code",
   "execution_count": 15,
   "metadata": {},
   "outputs": [],
   "source": [
    "anomaly_threshold = 1.5\n",
    "\n",
    "def get_anomalous_points(factor_full, idx):\n",
    "    scaler = StandardScaler()\n",
    "    factor = factor_full[:, idx]\n",
    "    reshaped = factor.reshape((factor.shape[0], 1))\n",
    "    scaled = scaler.fit_transform(reshaped)\n",
    "    pos_pts = np.argwhere(scaled.reshape(factor.shape[0]) > anomaly_threshold).flatten()\n",
    "    neg_pts = np.argwhere(scaled.reshape(factor.shape[0]) < -anomaly_threshold).flatten()\n",
    "    return pos_pts, neg_pts\n",
    "\n",
    "def generate_high_level_summary():\n",
    "    # generate_plots()\n",
    "    with open(os.path.join(DATA_DIR, 'rank_to_factors.p'), 'rb') as f:\n",
    "        rank_to_factors = pickle.load(f)\n",
    "\n",
    "    with open(os.path.join(DATA_DIR, 'hg_features.p'), 'rb') as f:\n",
    "        liwc_features = pickle.load(f)\n",
    "\n",
    "    with open(os.path.join(DATA_DIR, 'subreddits.p'), 'rb') as f:\n",
    "        subreddits = pickle.load(f)\n",
    "\n",
    "    time_factor = rank_to_factors[max_rank][0] # (9, 9)\n",
    "    thread_factor = rank_to_factors[max_rank][1] # (10000, 9)\n",
    "    feature_factor = rank_to_factors[max_rank][2] # (140, 9)\n",
    "    idx_to_distinctive_threads = defaultdict(dict)\n",
    "    idx_to_distinctive_features = defaultdict(dict)\n",
    "\n",
    "    # normalizing\n",
    "    subreddit_totals = Counter(subreddits)\n",
    "    for idx in range(max_rank):\n",
    "        pos_thread_pts, neg_thread_pts = get_anomalous_points(thread_factor, idx)\n",
    "        idx_to_distinctive_threads[idx]['pos_threads'] = pos_thread_pts\n",
    "        idx_to_distinctive_threads[idx]['neg_threads'] = neg_thread_pts\n",
    "\n",
    "        pos_features, neg_features = get_anomalous_points(feature_factor, idx)\n",
    "        idx_to_distinctive_features[idx]['pos_features'] = pos_features\n",
    "        idx_to_distinctive_features[idx]['neg_features'] = neg_features\n",
    "\n",
    "    return idx_to_distinctive_threads, idx_to_distinctive_features "
   ]
  },
  {
   "cell_type": "code",
   "execution_count": 16,
   "metadata": {},
   "outputs": [],
   "source": [
    "idx_to_distinctive_threads, idx_to_distinctive_features = generate_high_level_summary()"
   ]
  },
  {
   "cell_type": "code",
   "execution_count": 17,
   "metadata": {},
   "outputs": [
    {
     "name": "stdout",
     "output_type": "stream",
     "text": [
      "Factor 1\n",
      "Number of pos threads: 0\n",
      "Number of neg threads: 118\n",
      "Positive feats: [67]\n",
      "Negative feats: []\n",
      "\n",
      "Factor 2\n",
      "Number of pos threads: 105\n",
      "Number of neg threads: 0\n",
      "Positive feats: [  4  12  18  21  24  26  61  82  88  94  96 131]\n",
      "Negative feats: [67]\n",
      "\n",
      "Factor 3\n",
      "Number of pos threads: 126\n",
      "Number of neg threads: 37\n",
      "Positive feats: [ 61  94 131]\n",
      "Negative feats: [ 0 13 14 20 37 63 67 69]\n",
      "\n"
     ]
    }
   ],
   "source": [
    "for factor_idx, threads in idx_to_distinctive_threads.items():\n",
    "    print(\"Factor {}\".format(factor_idx+1))\n",
    "    print(\"Number of pos threads: {}\".format(len(threads['pos_threads'])))\n",
    "    print(\"Number of neg threads: {}\".format(len(threads['neg_threads'])))\n",
    "    print(\"Positive feats: {}\".format(idx_to_distinctive_features[factor_idx]['pos_features']))\n",
    "    print(\"Negative feats: {}\".format(idx_to_distinctive_features[factor_idx]['neg_features']))\n",
    "    print()"
   ]
  },
  {
   "cell_type": "code",
   "execution_count": 18,
   "metadata": {},
   "outputs": [],
   "source": [
    "included_threads = set()\n",
    "\n",
    "for factor_idx, threads in idx_to_distinctive_threads.items():\n",
    "    included_threads = included_threads.union(set(threads['pos_threads'])).union(threads['neg_threads'])"
   ]
  },
  {
   "cell_type": "code",
   "execution_count": 19,
   "metadata": {},
   "outputs": [
    {
     "data": {
      "text/plain": [
       "293"
      ]
     },
     "execution_count": 19,
     "metadata": {},
     "output_type": "execute_result"
    }
   ],
   "source": [
    "len(included_threads)"
   ]
  },
  {
   "cell_type": "code",
   "execution_count": 20,
   "metadata": {},
   "outputs": [],
   "source": [
    "thread_cnt = defaultdict(int)\n",
    "for factor_idx, threads in idx_to_distinctive_threads.items():\n",
    "    for t in threads['pos_threads']: \n",
    "        thread_cnt[t] += 1\n",
    "    for t in threads['neg_threads']:\n",
    "        thread_cnt[t] += 1"
   ]
  },
  {
   "cell_type": "code",
   "execution_count": 21,
   "metadata": {},
   "outputs": [],
   "source": [
    "appears_once = [t for t, v in thread_cnt.items() if v == 1]"
   ]
  },
  {
   "cell_type": "code",
   "execution_count": 22,
   "metadata": {},
   "outputs": [
    {
     "data": {
      "text/plain": [
       "200"
      ]
     },
     "execution_count": 22,
     "metadata": {},
     "output_type": "execute_result"
    }
   ],
   "source": [
    "len(appears_once)"
   ]
  },
  {
   "cell_type": "markdown",
   "metadata": {},
   "source": [
    "We decide to include only threads that appear in a single factor."
   ]
  },
  {
   "cell_type": "markdown",
   "metadata": {},
   "source": [
    "We say each thread belongs to one of the factors: Factor 1 to Factor 9.\n",
    "Now, we identify the subreddits of each thread and assign a percentage value for each factor to each of the subreddits."
   ]
  },
  {
   "cell_type": "code",
   "execution_count": 23,
   "metadata": {},
   "outputs": [],
   "source": [
    "corpus = Corpus(filename=CORPUS_DIR)"
   ]
  },
  {
   "cell_type": "code",
   "execution_count": 24,
   "metadata": {},
   "outputs": [],
   "source": [
    "convo_id_to_factor = dict()\n",
    "for factor_idx, threads in idx_to_distinctive_threads.items():\n",
    "    for t in threads['pos_threads']: \n",
    "        convo_id_to_factor[convo_ids[t]] = factor_idx\n",
    "    for t in threads['neg_threads']:\n",
    "        convo_id_to_factor[convo_ids[t]] = factor_idx"
   ]
  },
  {
   "cell_type": "code",
   "execution_count": null,
   "metadata": {},
   "outputs": [],
   "source": []
  },
  {
   "cell_type": "code",
   "execution_count": 25,
   "metadata": {},
   "outputs": [],
   "source": [
    "subreddit_to_thread_factors = dict()\n",
    "for convo_idx in appears_once:\n",
    "    convo = corpus.get_utterance(convo_ids[convo_idx])\n",
    "    subreddit = convo.meta['subreddit']\n",
    "    if subreddit not in subreddit_to_thread_factors:\n",
    "        subreddit_to_thread_factors[subreddit] = defaultdict(int)\n",
    "    \n",
    "    subreddit_to_thread_factors[subreddit][convo_id_to_factor[convo.id]] += 1"
   ]
  },
  {
   "cell_type": "code",
   "execution_count": 26,
   "metadata": {},
   "outputs": [],
   "source": [
    "threads_per_subreddit = dict()\n",
    "for sub, d_ in subreddit_to_thread_factors.items():\n",
    "    threads_per_subreddit[sub] = sum(list(d_.values()))"
   ]
  },
  {
   "cell_type": "code",
   "execution_count": 27,
   "metadata": {},
   "outputs": [
    {
     "name": "stdout",
     "output_type": "stream",
     "text": [
      "29\n",
      "120\n"
     ]
    }
   ],
   "source": [
    "print(min(threads_per_subreddit.values()))\n",
    "print(max(threads_per_subreddit.values()))"
   ]
  },
  {
   "cell_type": "code",
   "execution_count": 28,
   "metadata": {},
   "outputs": [],
   "source": [
    "# normalize at subreddit-level\n",
    "for sub, factor_cnts in subreddit_to_thread_factors.items():\n",
    "    total_ = sum(list(factor_cnts.values()))\n",
    "    for k, v in factor_cnts.items():\n",
    "        factor_cnts[k] = v / total_"
   ]
  },
  {
   "cell_type": "code",
   "execution_count": 30,
   "metadata": {},
   "outputs": [],
   "source": [
    "# subreddit_to_thread_factors['2007scape']"
   ]
  },
  {
   "cell_type": "code",
   "execution_count": 31,
   "metadata": {},
   "outputs": [],
   "source": [
    "import pandas as pd"
   ]
  },
  {
   "cell_type": "code",
   "execution_count": 32,
   "metadata": {},
   "outputs": [],
   "source": [
    "subreddit_df = pd.DataFrame.from_dict(subreddit_to_thread_factors, orient='index')"
   ]
  },
  {
   "cell_type": "code",
   "execution_count": 33,
   "metadata": {},
   "outputs": [],
   "source": [
    "from sklearn.preprocessing import Imputer"
   ]
  },
  {
   "cell_type": "code",
   "execution_count": 34,
   "metadata": {},
   "outputs": [],
   "source": [
    "subreddit_df = subreddit_df.fillna(0)"
   ]
  },
  {
   "cell_type": "code",
   "execution_count": 35,
   "metadata": {},
   "outputs": [],
   "source": [
    "from sklearn.preprocessing import Imputer, Normalizer, StandardScaler\n",
    "from sklearn.decomposition import TruncatedSVD\n",
    "from sklearn.manifold import TSNE\n",
    "from sklearn.metrics.pairwise import pairwise_distances\n",
    "\n",
    "tsne = TSNE(random_state=2018)\n",
    "tsne_df = pd.DataFrame(data=tsne.fit_transform(subreddit_df.values),\n",
    "                      index=subreddit_df.index)"
   ]
  },
  {
   "cell_type": "code",
   "execution_count": 36,
   "metadata": {},
   "outputs": [
    {
     "data": {
      "image/png": "[encoded data removed]",
      "text/plain": [
       "<Figure size 720x720 with 1 Axes>"
      ]
     },
     "metadata": {
      "needs_background": "light"
     },
     "output_type": "display_data"
    }
   ],
   "source": [
    "plt.figure(figsize=(10,10))\n",
    "plt.scatter(tsne_df[0].values, tsne_df[1].values)\n",
    "for i, txt in enumerate(tsne_df.index):\n",
    "    plt.annotate(txt, (tsne_df.values[i,0], tsne_df.values[i,1]))\n",
    "plt.show()"
   ]
  },
  {
   "cell_type": "code",
   "execution_count": 37,
   "metadata": {},
   "outputs": [
    {
     "data": {
      "image/png": "[encoded data removed]",
      "text/plain": [
       "<Figure size 432x288 with 1 Axes>"
      ]
     },
     "metadata": {
      "needs_background": "light"
     },
     "output_type": "display_data"
    }
   ],
   "source": [
    "games = [\"battlefield3\", \"Diablo\", \"DotA2\", \"Guildwars2\", \"leagueoflegends\", \"magicTCG\", \"Minecraft\", \"pokemon\", \"skyrim\", \"starcraft\", \"tf2\", \"wow\"]\n",
    "trade = [\"Dota2Trade\", \"pokemontrades\", \"SteamGameSwap\", \"tf2trade\", \"Random_Acts_Of_Amazon\"]\n",
    "sports = [\"baseball\", \"CFB\", \"hockey\", \"MMA\", \"nba\", \"nfl\", \"soccer\"]\n",
    "\n",
    "link_aggregators = [\"AskReddit\", \"WTF\", \"pics\", \"gifs\", \"aww\", \"funny\", \"todayilearned\",\n",
    "                   \"AdviceAnimals\"]\n",
    "relationships = [\"AskMen\", \"AskWomen\", \"relationships\", \"relationship_advice\", \"OkCupid\"]\n",
    "\n",
    "plt.scatter(tsne_df[0].values, tsne_df[1].values, color=\"#dddddd\")\n",
    "plt.scatter(tsne_df[0].values, tsne_df[1].values, color=[\n",
    "    \"green\" if l in games else\n",
    "    \"gold\" if l in trade else\n",
    "    \"purple\" if l in relationships else\n",
    "    \"red\" if l in link_aggregators else\n",
    "    \"blue\" if l in sports else\n",
    "    \"#00000000\"\n",
    "    for l in tsne_df.index])\n",
    "plt.show()"
   ]
  },
  {
   "cell_type": "code",
   "execution_count": null,
   "metadata": {},
   "outputs": [],
   "source": []
  }
 ],
 "metadata": {
  "kernelspec": {
   "display_name": "Python 3",
   "language": "python",
   "name": "python3"
  },
  "language_info": {
   "codemirror_mode": {
    "name": "ipython",
    "version": 3
   },
   "file_extension": ".py",
   "mimetype": "text/x-python",
   "name": "python",
   "nbconvert_exporter": "python",
   "pygments_lexer": "ipython3",
   "version": "3.7.6"
  }
 },
 "nbformat": 4,
 "nbformat_minor": 2
}
