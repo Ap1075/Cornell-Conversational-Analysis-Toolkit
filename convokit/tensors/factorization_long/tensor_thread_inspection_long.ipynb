{
 "cells": [
  {
   "cell_type": "code",
   "execution_count": 1,
   "metadata": {},
   "outputs": [],
   "source": [
    "import os\n",
    "os.chdir('../../..')"
   ]
  },
  {
   "cell_type": "code",
   "execution_count": 2,
   "metadata": {},
   "outputs": [],
   "source": [
    "import convokit\n",
    "import pickle\n",
    "import json"
   ]
  },
  {
   "cell_type": "code",
   "execution_count": 3,
   "metadata": {},
   "outputs": [],
   "source": [
    "os.chdir('convokit/tensors')"
   ]
  },
  {
   "cell_type": "code",
   "execution_count": 49,
   "metadata": {},
   "outputs": [],
   "source": [
    "with open('data_long/rank_to_factors.p', 'rb') as f:\n",
    "    rank_to_factors = pickle.load(f)"
   ]
  },
  {
   "cell_type": "code",
   "execution_count": 50,
   "metadata": {},
   "outputs": [],
   "source": [
    "with open('data_long/hg_features.p', 'rb') as f:\n",
    "    hg_features = pickle.load(f)\n",
    "\n",
    "with open('data_long/subreddits.p', 'rb') as f:\n",
    "    subreddits = pickle.load(f)"
   ]
  },
  {
   "cell_type": "code",
   "execution_count": 51,
   "metadata": {},
   "outputs": [],
   "source": [
    "from sklearn.preprocessing import StandardScaler\n",
    "import numpy as np\n",
    "scaler = StandardScaler()"
   ]
  },
  {
   "cell_type": "code",
   "execution_count": 52,
   "metadata": {},
   "outputs": [],
   "source": [
    "def get_anomalous_points(factor_full, idx):\n",
    "    factor = factor_full[:, idx]\n",
    "    reshaped = factor.reshape((factor.shape[0], 1))\n",
    "    scaled = scaler.fit_transform(reshaped)\n",
    "    pos_pts = np.argwhere(scaled.reshape(factor.shape[0]) > 1.5).flatten()\n",
    "    neg_pts = np.argwhere(scaled.reshape(factor.shape[0]) < -1.5).flatten()\n",
    "    return pos_pts, neg_pts"
   ]
  },
  {
   "cell_type": "code",
   "execution_count": 53,
   "metadata": {},
   "outputs": [],
   "source": [
    "time_factor = rank_to_factors[9][0] # (9, 9)\n",
    "thread_factor = rank_to_factors[9][1] # (10000, 9)\n",
    "feature_factor = rank_to_factors[9][2] # (164, 9)"
   ]
  },
  {
   "cell_type": "code",
   "execution_count": 54,
   "metadata": {},
   "outputs": [],
   "source": [
    "with open('data_long/thread_ids.p', 'rb') as f:\n",
    "    thread_ids = pickle.load(f)"
   ]
  },
  {
   "cell_type": "code",
   "execution_count": 15,
   "metadata": {},
   "outputs": [],
   "source": [
    "from convokit import Corpus, download\n",
    "corpus = Corpus(filename=\"longreddit_construction/long-reddit-corpus\")"
   ]
  },
  {
   "cell_type": "code",
   "execution_count": 36,
   "metadata": {},
   "outputs": [],
   "source": [
    "for convo in corpus.iter_conversations():\n",
    "    for idx, utt in enumerate(convo.get_chronological_utterance_list()):\n",
    "        utt.meta['order'] = idx"
   ]
  },
  {
   "cell_type": "code",
   "execution_count": null,
   "metadata": {},
   "outputs": [],
   "source": [
    "def get_convo_details(convo):\n",
    "    print(\"Subreddit: {}\".format(convo.get_utterance(convo.id).meta['subreddit']))\n",
    "    convo.print_conversation_structure(lambda utt: str(utt.meta['order']) + \". \" + utt.user.id)"
   ]
  },
  {
   "cell_type": "code",
   "execution_count": null,
   "metadata": {},
   "outputs": [],
   "source": [
    "convos = list(corpus.iter_conversations())"
   ]
  },
  {
   "cell_type": "code",
   "execution_count": 80,
   "metadata": {},
   "outputs": [],
   "source": [
    "from convokit import HyperConvo"
   ]
  },
  {
   "cell_type": "code",
   "execution_count": null,
   "metadata": {},
   "outputs": [],
   "source": [
    "import random"
   ]
  },
  {
   "cell_type": "markdown",
   "metadata": {},
   "source": [
    "## Inspecting threads from Factor 1"
   ]
  },
  {
   "cell_type": "code",
   "execution_count": 55,
   "metadata": {},
   "outputs": [],
   "source": [
    "pos_threads, neg_threads = get_anomalous_points(thread_factor, 0)"
   ]
  },
  {
   "cell_type": "code",
   "execution_count": 56,
   "metadata": {},
   "outputs": [
    {
     "data": {
      "text/plain": [
       "1149"
      ]
     },
     "execution_count": 56,
     "metadata": {},
     "output_type": "execute_result"
    }
   ],
   "source": [
    "len(pos_threads)"
   ]
  },
  {
   "cell_type": "code",
   "execution_count": 57,
   "metadata": {},
   "outputs": [
    {
     "data": {
      "text/plain": [
       "2188"
      ]
     },
     "execution_count": 57,
     "metadata": {},
     "output_type": "execute_result"
    }
   ],
   "source": [
    "len(neg_threads)"
   ]
  },
  {
   "cell_type": "code",
   "execution_count": 58,
   "metadata": {},
   "outputs": [
    {
     "data": {
      "text/plain": [
       "[26257, 3552, 7982, 2032, 12149, 22803, 20287, 9854, 13686, 2420]"
      ]
     },
     "execution_count": 58,
     "metadata": {},
     "output_type": "execute_result"
    }
   ],
   "source": [
    "random.sample(list(pos_threads), 10)"
   ]
  },
  {
   "cell_type": "code",
   "execution_count": 59,
   "metadata": {},
   "outputs": [
    {
     "name": "stdout",
     "output_type": "stream",
     "text": [
      "Subreddit: TrueReddit\n",
      "0. Sl_s\n",
      "    1. PapaTua\n",
      "        3. Pouic_pouic\n",
      "            9. PapaTua\n",
      "                13. Slinkwyde\n",
      "                    14. PapaTua\n",
      "                23. lolmeansilaughed\n",
      "                    24. wockyman\n",
      "                        25. lolmeansilaughed\n",
      "                            26. wockyman\n",
      "                                27. lolmeansilaughed\n",
      "            16. PixelatedFractal\n",
      "        10. fapingtoyourpost\n",
      "            17. [deleted]\n",
      "            19. gibberfish\n",
      "            29. Sherlockshome\n",
      "        11. Kaneshadow\n",
      "            18. [deleted]\n",
      "    2. enimodas\n",
      "    4. wuethar\n",
      "        5. Sl_s\n",
      "    6. LastFirstism\n",
      "    7. Elvysaur\n",
      "        15. Crazy-Legs\n",
      "            21. MyPenisIsaWMD\n",
      "    8. ElitistPoolGuy\n",
      "    12. Master-Thief\n",
      "    20. MyPenisIsaWMD\n",
      "        22. nattlife\n",
      "            28. MyPenisIsaWMD\n"
     ]
    }
   ],
   "source": [
    "get_convo_details(convos[26257])"
   ]
  },
  {
   "cell_type": "code",
   "execution_count": 60,
   "metadata": {},
   "outputs": [
    {
     "name": "stdout",
     "output_type": "stream",
     "text": [
      "Subreddit: Marvel\n",
      "0. FalconXpunch1292\n",
      "    1. LiquidLispyLizard\n",
      "        2. amatorsanguinis\n",
      "            5. PinkCyanLightsaber\n",
      "                6. JimmySinner\n",
      "                16. blabpth\n",
      "                18. quiresultan35\n",
      "                    27. adcd0405\n",
      "                20. BooWheet\n",
      "                21. Ephemeral_Wolf\n",
      "                    25. loykedule\n",
      "        7. HandsomeHawc\n",
      "        8. MetalGearSlayer\n",
      "        22. TheRealRaiden\n",
      "        24. BambooSound\n",
      "    3. pmMe-PicsOfSpiderMan\n",
      "        4. FalconXpunch1292\n",
      "        23. Dunksterp\n",
      "        26. TalynRahl\n",
      "    9. konq\n",
      "        11. SnorlaxMotive\n",
      "            14. konq\n",
      "            15. ihadtotypesomething\n",
      "            19. Martel732\n",
      "    10. pr0t0cl0wn\n",
      "        29. NovaStarLord\n",
      "    12. duckswithbanjos\n",
      "        17. FalconXpunch1292\n",
      "    13. Robofetus-5000\n",
      "    28. NovaStarLord\n"
     ]
    }
   ],
   "source": [
    "get_convo_details(convos[12149])"
   ]
  },
  {
   "cell_type": "code",
   "execution_count": 61,
   "metadata": {},
   "outputs": [
    {
     "name": "stdout",
     "output_type": "stream",
     "text": [
      "Subreddit: apple\n",
      "0. XeraanTruss\n",
      "    1. ANTONCHOOO\n",
      "        2. XeraanTruss\n",
      "        5. Exist50\n",
      "            6. ANTONCHOOO\n",
      "                7. Exist50\n",
      "                    10. ANTONCHOOO\n",
      "                        11. Exist50\n",
      "                            13. ANTONCHOOO\n",
      "                                14. Exist50\n",
      "                                15. Exist50\n",
      "                                    16. UnholyRectum\n",
      "                                        19. Exist50\n",
      "                                    18. ANTONCHOOO\n",
      "                                20. garena_elder\n",
      "                                    21. ANTONCHOOO\n",
      "                        17. 1s4c\n",
      "    3. I_am_Bruce_Wayne\n",
      "    4. Garrosh\n",
      "    8. madmars\n",
      "        9. samjmckenzie\n",
      "            12. NewThingsNewStuff\n",
      "                23. CantHandleTheRandal\n",
      "                    24. NewThingsNewStuff\n",
      "                        25. CantHandleTheRandal\n",
      "                            26. NewThingsNewStuff\n",
      "            27. greg5green\n",
      "                28. samjmckenzie\n",
      "                    29. greg5green\n",
      "                        30. samjmckenzie\n",
      "        22. Mds03\n"
     ]
    }
   ],
   "source": [
    "get_convo_details(convos[20287])"
   ]
  },
  {
   "cell_type": "code",
   "execution_count": 42,
   "metadata": {},
   "outputs": [
    {
     "name": "stdout",
     "output_type": "stream",
     "text": [
      "Subreddit: hockey\n",
      "0. Limey1S\n",
      "    1. cubedude719\n",
      "        18. MilHaus2000\n",
      "            29. cubedude719\n",
      "        19. NWLierly\n",
      "    2. AaronC14\n",
      "    3. omega4relay\n",
      "        10. mazzysturr\n",
      "            13. MCStuttteringBbuddha\n",
      "    4. randylaheyjr\n",
      "    5. being_inappropriate\n",
      "        12. viikatemies\n",
      "    6. HollowWiener\n",
      "        14. MilHaus2000\n",
      "            27. MightyJoeMoon\n",
      "                28. MilHaus2000\n",
      "        23. UpVotes4Worst\n",
      "        24. Imthecoolestdudeever\n",
      "    7. buckeye_204\n",
      "    8. SamtheBeagle\n",
      "    9. viikatemies\n",
      "        11. Limey1S\n",
      "            17. viikatemies\n",
      "                21. doctorfeelgood21\n",
      "                    26. viikatemies\n",
      "        20. Imthecoolestdudeever\n",
      "        22. ciera22\n",
      "            25. viikatemies\n",
      "    15. NWLierly\n",
      "    16. MCStuttteringBbuddha\n"
     ]
    }
   ],
   "source": [
    "get_convo_details(convos[8362])"
   ]
  },
  {
   "cell_type": "code",
   "execution_count": 65,
   "metadata": {},
   "outputs": [
    {
     "data": {
      "text/plain": [
       "[29425, 596, 10422, 14772, 9528, 27019, 7618, 11542, 20859, 26441]"
      ]
     },
     "execution_count": 65,
     "metadata": {},
     "output_type": "execute_result"
    }
   ],
   "source": [
    "random.sample(list(neg_threads), 10)"
   ]
  },
  {
   "cell_type": "code",
   "execution_count": 66,
   "metadata": {},
   "outputs": [
    {
     "name": "stdout",
     "output_type": "stream",
     "text": [
      "Subreddit: antiMLM\n",
      "0. takingtacet\n",
      "    1. princessofpotatoes\n",
      "        2. jianantonic\n",
      "            5. princessofpotatoes\n",
      "                10. barrierofbadnews\n",
      "                    16. princessofpotatoes\n",
      "                14. WillowCat89\n",
      "                    17. princessofpotatoes\n",
      "        3. Djbeastcakes\n",
      "            4. princessofpotatoes\n",
      "                8. Djbeastcakes\n",
      "        11. FencingFemmeFatale\n",
      "            19. princessofpotatoes\n",
      "        13. beyondbelief0\n",
      "            18. princessofpotatoes\n",
      "                21. beyondbelief0\n",
      "        15. duuuuuuuuuumb\n",
      "            20. princessofpotatoes\n",
      "    6. CootieM0nster\n",
      "    7. Evilevilcow\n",
      "    9. edgy_hitler_420\n",
      "    12. trixie_trixie\n"
     ]
    }
   ],
   "source": [
    "get_convo_details(convos[9528])"
   ]
  },
  {
   "cell_type": "code",
   "execution_count": 67,
   "metadata": {},
   "outputs": [
    {
     "name": "stdout",
     "output_type": "stream",
     "text": [
      "Subreddit: videos\n",
      "0. mrv3\n",
      "    1. SamDaManIAm\n",
      "        2. mrv3\n",
      "            3. WeirdF\n",
      "                4. mrv3\n",
      "                    7. Poopster46\n",
      "                        10. mrv3\n",
      "                            19. Poopster46\n",
      "                                20. mrv3\n",
      "                                    22. Poopster46\n",
      "                                        23. mrv3\n",
      "                                        26. Dr_Zandi\n",
      "                        25. Dr_Zandi\n",
      "                    11. MonaganX\n",
      "                        12. mrv3\n",
      "                            13. MonaganX\n",
      "                                14. mrv3\n",
      "                                    17. MonaganX\n",
      "                                        18. mrv3\n",
      "                                            21. MonaganX\n",
      "                                    27. Dr_Zandi\n",
      "            24. Dr_Zandi\n",
      "                28. mrv3\n",
      "                    35. _PM_ME_DICKPICS_\n",
      "                    42. davesidious\n",
      "    5. sgSaysR\n",
      "        9. mrv3\n",
      "            15. moreisee\n",
      "                16. mrv3\n",
      "                    30. Dr_Zandi\n",
      "                    31. ReadsStuff\n",
      "                        33. mrv3\n",
      "                            36. ReadsStuff\n",
      "                            43. davesidious\n",
      "                    32. NCFishGuy\n",
      "                        39. acolyte357\n",
      "                            40. NCFishGuy\n",
      "                                46. acolyte357\n",
      "                    34. ThePantsParty\n",
      "                    47. DougyAM\n",
      "            29. Dr_Zandi\n",
      "                44. davesidious\n",
      "    6. CashIsClay1\n",
      "    8. CQReborn\n",
      "        45. davesidious\n",
      "    37. Clovett-\n",
      "    38. alapazam\n",
      "    41. davesidious\n"
     ]
    }
   ],
   "source": [
    "get_convo_details(convos[7618])"
   ]
  },
  {
   "cell_type": "markdown",
   "metadata": {},
   "source": [
    "## Inspecting threads from Factor 8"
   ]
  },
  {
   "cell_type": "code",
   "execution_count": 62,
   "metadata": {},
   "outputs": [],
   "source": [
    "pos_threads8, neg_threads8 = get_anomalous_points(thread_factor, 7)"
   ]
  },
  {
   "cell_type": "code",
   "execution_count": 72,
   "metadata": {},
   "outputs": [
    {
     "data": {
      "text/plain": [
       "[24736, 19322, 26680, 14582, 831, 10350, 2814, 23123, 27774, 27102]"
      ]
     },
     "execution_count": 72,
     "metadata": {},
     "output_type": "execute_result"
    }
   ],
   "source": [
    "random.sample(list(pos_threads8), 10)"
   ]
  },
  {
   "cell_type": "code",
   "execution_count": 73,
   "metadata": {},
   "outputs": [
    {
     "name": "stdout",
     "output_type": "stream",
     "text": [
      "Subreddit: cringepics\n",
      "0. FarAwayFellow\n",
      "    1. Luvizzz\n",
      "        2. FarAwayFellow\n",
      "            5. rsribeiro\n",
      "                6. FarAwayFellow\n",
      "                    9. Dadapatas\n",
      "                        10. FarAwayFellow\n",
      "                            11. Dadapatas\n",
      "                                12. FarAwayFellow\n",
      "                                    16. Lexuscore\n",
      "                                        17. FarAwayFellow\n",
      "                                        26. Skyyvodka000\n",
      "                                            28. Lexuscore\n",
      "                                                32. Skyyvodka000\n",
      "                                        33. theCOMBOguy\n",
      "                                    19. howImetyoursquirrel\n",
      "            20. Ulysses89\n",
      "                21. FarAwayFellow\n",
      "                    22. Ulysses89\n",
      "                        23. FarAwayFellow\n",
      "                            24. Ulysses89\n",
      "                                25. FarAwayFellow\n",
      "                                    27. Ulysses89\n",
      "                                        30. FarAwayFellow\n",
      "    3. MrAms1204\n",
      "        4. FarAwayFellow\n",
      "            13. MrAms1204\n",
      "                14. FarAwayFellow\n",
      "                    15. Jacques_Le_Chien\n",
      "                        18. FarAwayFellow\n",
      "    7. ibraw\n",
      "        8. FarAwayFellow\n",
      "    29. Mr_UnkindnessFrisbee\n",
      "        31. FarAwayFellow\n"
     ]
    }
   ],
   "source": [
    "get_convo_details(convos[831])"
   ]
  },
  {
   "cell_type": "code",
   "execution_count": 74,
   "metadata": {},
   "outputs": [
    {
     "name": "stdout",
     "output_type": "stream",
     "text": [
      "Subreddit: toronto\n",
      "0. TheAmazingEtc\n",
      "    1. Gramage\n",
      "        7. TheAmazingEtc\n",
      "            8. whatistheQuestion\n",
      "                11. TheAmazingEtc\n",
      "                    14. whatistheQuestion\n",
      "                        17. TheAmazingEtc\n",
      "                            19. whatistheQuestion\n",
      "                            22. pjjmd\n",
      "            16. Gramage\n",
      "            21. McKingford\n",
      "    2. wedontswiminsoda\n",
      "        6. TheAmazingEtc\n",
      "            9. whatistheQuestion\n",
      "                10. TheAmazingEtc\n",
      "            23. pjjmd\n",
      "            28. wedontswiminsoda\n",
      "    3. AromaticAnalysis\n",
      "        5. TheAmazingEtc\n",
      "    4. whatistheQuestion\n",
      "        12. TheAmazingEtc\n",
      "            13. AromaticAnalysis\n",
      "                18. TheAmazingEtc\n",
      "                    20. AromaticAnalysis\n",
      "                24. KneesForThee\n",
      "                    25. AromaticAnalysis\n",
      "                        26. KneesForThee\n",
      "                27. wedontswiminsoda\n",
      "            15. whatistheQuestion\n"
     ]
    }
   ],
   "source": [
    "get_convo_details(convos[10350])"
   ]
  },
  {
   "cell_type": "code",
   "execution_count": 75,
   "metadata": {},
   "outputs": [
    {
     "data": {
      "text/plain": [
       "[15337, 22521, 21231, 16103, 468, 11604, 2429, 9985, 18551, 14024]"
      ]
     },
     "execution_count": 75,
     "metadata": {},
     "output_type": "execute_result"
    }
   ],
   "source": [
    "random.sample(list(neg_threads8), 10)"
   ]
  },
  {
   "cell_type": "code",
   "execution_count": 76,
   "metadata": {},
   "outputs": [
    {
     "name": "stdout",
     "output_type": "stream",
     "text": [
      "Subreddit: technology\n",
      "0. LeoMarius\n",
      "    1. oomotofxoo\n",
      "        2. tron_funkin_blow\n",
      "            8. LeoMarius\n",
      "        4. the-red-wheelbarrow\n",
      "        6. Tree_of_Truth\n",
      "        7. LeoMarius\n",
      "            9. oomotofxoo\n",
      "                10. LeoMarius\n",
      "                    11. oomotofxoo\n",
      "                        12. LeoMarius\n",
      "                            13. oomotofxoo\n",
      "                                14. LeoMarius\n",
      "                                    15. oomotofxoo\n",
      "                                        16. LeoMarius\n",
      "                                            17. LeoMarius\n",
      "                                            18. oomotofxoo\n",
      "                                                19. LeoMarius\n",
      "                                                    20. oomotofxoo\n",
      "                                                        21. LeoMarius\n",
      "                                                            22. oomotofxoo\n",
      "                                                                23. LeoMarius\n",
      "                                                                    24. oomotofxoo\n",
      "                                                                        25. LeoMarius\n",
      "    3. fartula\n",
      "        5. LeafyLucario64\n"
     ]
    }
   ],
   "source": [
    "get_convo_details(convos[11604])"
   ]
  },
  {
   "cell_type": "code",
   "execution_count": 77,
   "metadata": {},
   "outputs": [
    {
     "name": "stdout",
     "output_type": "stream",
     "text": [
      "Subreddit: pics\n",
      "0. teeohdeedee123\n",
      "    1. TylerDurdenSaid\n",
      "        5. midnightketoker\n",
      "            6. win_the_day_go_ducks\n",
      "                18. JuicyJaredW\n",
      "    2. bluepiggy121\n",
      "        10. weitz\n",
      "        14. JeanLucPiKirk\n",
      "            15. bluepiggy121\n",
      "    3. blessedfortherest\n",
      "        4. JonShermanator\n",
      "            16. Narwhalinspace\n",
      "        7. phatbob198\n",
      "            17. falderall\n",
      "        11. AlmostEasy43\n",
      "    8. Chocolate_Brain\n",
      "        9. teeohdeedee123\n",
      "            12. Chocolate_Brain\n",
      "                13. teeohdeedee123\n",
      "        19. Lukeforce123\n",
      "            20. Chocolate_Brain\n"
     ]
    }
   ],
   "source": [
    "get_convo_details(convos[9985])"
   ]
  },
  {
   "cell_type": "code",
   "execution_count": 78,
   "metadata": {},
   "outputs": [
    {
     "name": "stdout",
     "output_type": "stream",
     "text": [
      "Subreddit: Christianity\n",
      "0. Neetz512\n",
      "    1. TheINTL\n",
      "        2. Trisagion_und_Isolde\n",
      "            3. ikiddikidd\n",
      "                14. Trisagion_und_Isolde\n",
      "                    20. ikiddikidd\n",
      "                        21. Trisagion_und_Isolde\n",
      "            4. Eifand\n",
      "                13. Trisagion_und_Isolde\n",
      "                    15. Eifand\n",
      "                        16. Trisagion_und_Isolde\n",
      "                            17. Eifand\n",
      "                                18. Trisagion_und_Isolde\n",
      "            5. madkplusplus\n",
      "                12. Trisagion_und_Isolde\n",
      "    6. fishet\n",
      "        7. Neetz512\n",
      "            8. fishet\n",
      "                9. Neetz512\n",
      "                    10. fishet\n",
      "    11. Newtothewaste\n",
      "        19. Neetz512\n",
      "        22. Nazzul\n",
      "            24. Newtothewaste\n",
      "        23. ChurlishRhinoceros\n"
     ]
    }
   ],
   "source": [
    "get_convo_details(convos[18551])"
   ]
  },
  {
   "cell_type": "code",
   "execution_count": 59,
   "metadata": {},
   "outputs": [
    {
     "data": {
      "text/plain": [
       "[2741, 3059, 2547, 1267, 1017, 3173, 7409, 2098, 7004, 996]"
      ]
     },
     "execution_count": 59,
     "metadata": {},
     "output_type": "execute_result"
    }
   ],
   "source": [
    "random.sample(list(neg_threads9), 10)"
   ]
  },
  {
   "cell_type": "code",
   "execution_count": 60,
   "metadata": {},
   "outputs": [
    {
     "name": "stdout",
     "output_type": "stream",
     "text": [
      "Subreddit: aww\n",
      "AmoreBestia\n",
      "    HeyPScott\n",
      "    HarryCochrane\n",
      "        isolophobichermit\n",
      "            burnsito\n",
      "    hehyougotme\n",
      "        ApplesPeaches\n",
      "        new-it-grad\n",
      "    LiberatedCapsicum\n",
      "        Dovah-Bot\n",
      "    Nosefairy\n",
      "        AmoreBestia\n",
      "            aleksem\n",
      "                AmoreBestia\n",
      "                    aleksem\n",
      "        PoIwho\n",
      "        DoubleTapJ\n",
      "            Nosefairy\n",
      "                DoubleTapJ\n",
      "    inkflamingo\n",
      "    anefisenuf\n"
     ]
    }
   ],
   "source": [
    "get_convo_details(threads[1267])"
   ]
  },
  {
   "cell_type": "code",
   "execution_count": 61,
   "metadata": {},
   "outputs": [
    {
     "name": "stdout",
     "output_type": "stream",
     "text": [
      "Subreddit: Android\n",
      "cjandstuff\n",
      "    DrDan21\n",
      "    Nestramutat-\n",
      "    cxu1993\n",
      "    [deleted]\n",
      "    lifeiswater\n",
      "        Jacko3000\n",
      "            electricblues42\n",
      "                Jacko3000\n",
      "    CharlesHipster\n",
      "    tossin\n"
     ]
    }
   ],
   "source": [
    "get_convo_details(threads[1017])"
   ]
  },
  {
   "cell_type": "markdown",
   "metadata": {},
   "source": [
    "## Factor 7"
   ]
  },
  {
   "cell_type": "code",
   "execution_count": 67,
   "metadata": {},
   "outputs": [],
   "source": [
    "pos_threads7, neg_threads7 = get_anomalous_points(thread_factor, 6)"
   ]
  },
  {
   "cell_type": "code",
   "execution_count": 68,
   "metadata": {},
   "outputs": [
    {
     "data": {
      "text/plain": [
       "[1981, 6876, 29, 4152, 6298, 7597, 4568, 8457, 4844, 3043]"
      ]
     },
     "execution_count": 68,
     "metadata": {},
     "output_type": "execute_result"
    }
   ],
   "source": [
    "random.sample(list(pos_threads7), 10)"
   ]
  },
  {
   "cell_type": "code",
   "execution_count": 69,
   "metadata": {},
   "outputs": [
    {
     "name": "stdout",
     "output_type": "stream",
     "text": [
      "Subreddit: Games\n",
      "Nzash\n",
      "    AnimaLepton\n",
      "    [deleted]\n",
      "    SquilliamFancyson412\n",
      "        DexRogue\n",
      "            Sir__Walken\n",
      "                teleporterdown\n",
      "                TSPhoenix\n",
      "                    SquilliamFancyson412\n",
      "                    Cr0nq\n",
      "                        TSPhoenix\n",
      "            Lugonn\n",
      "                SquilliamFancyson412\n",
      "                    brain_fuckler\n",
      "                        SquilliamFancyson412\n",
      "    TSPhoenix\n"
     ]
    }
   ],
   "source": [
    "get_convo_details(threads[1981])"
   ]
  },
  {
   "cell_type": "code",
   "execution_count": null,
   "metadata": {},
   "outputs": [],
   "source": []
  },
  {
   "cell_type": "code",
   "execution_count": 76,
   "metadata": {},
   "outputs": [],
   "source": [
    "for idx, utt in enumerate(threads[7597].get_chronological_utterance_list()):\n",
    "    utt.meta['order'] = idx"
   ]
  },
  {
   "cell_type": "code",
   "execution_count": 79,
   "metadata": {},
   "outputs": [
    {
     "data": {
      "text/plain": [
       "'e5shplt'"
      ]
     },
     "execution_count": 79,
     "metadata": {},
     "output_type": "execute_result"
    }
   ],
   "source": [
    "thread_ids[7597]"
   ]
  },
  {
   "cell_type": "code",
   "execution_count": 78,
   "metadata": {},
   "outputs": [
    {
     "name": "stdout",
     "output_type": "stream",
     "text": [
      "0. twentyitalians\n",
      "    1. thatgirlwithbigboobs\n",
      "        8. pylestothemax\n",
      "            18. trebory6\n",
      "                23. pylestothemax\n",
      "            35. ismailismail\n",
      "    2. RockstarSuicide\n",
      "        12. 1stOnRt1\n",
      "            14. oneELECTRIC\n",
      "            27. screw_arc\n",
      "                30. 1stOnRt1\n",
      "                    33. JasonSteakums\n",
      "            28. RockstarSuicide\n",
      "                31. 1stOnRt1\n",
      "                    32. RockstarSuicide\n",
      "    3. Fanatical_Idiot\n",
      "        6. TokeyWeedtooth\n",
      "            7. Fanatical_Idiot\n",
      "            9. da_bbq\n",
      "                11. Martel732\n",
      "                    15. [deleted]\n",
      "                16. TokeyWeedtooth\n",
      "            10. MC_Fillius_Dickinson\n",
      "                17. TokeyWeedtooth\n",
      "                    20. MC_Fillius_Dickinson\n",
      "                        21. TokeyWeedtooth\n",
      "                            24. Vinnie_Vegas\n",
      "                                26. CashWho\n",
      "                            25. MC_Fillius_Dickinson\n",
      "            13. dmanny64\n",
      "                19. TokeyWeedtooth\n",
      "            29. RockstarSuicide\n",
      "            34. FlatTire2005\n",
      "    4. Mechfire11\n",
      "        5. BeetIejewz\n",
      "    22. Leo_TheLurker\n"
     ]
    }
   ],
   "source": [
    "threads[7597].print_conversation_structure(lambda utt: str(utt.meta['order']) + \". \" + utt.user.id)"
   ]
  },
  {
   "cell_type": "code",
   "execution_count": 72,
   "metadata": {},
   "outputs": [
    {
     "name": "stdout",
     "output_type": "stream",
     "text": [
      "Subreddit: Marvel\n",
      "twentyitalians\n",
      "    thatgirlwithbigboobs\n",
      "        pylestothemax\n",
      "            trebory6\n",
      "                pylestothemax\n",
      "            ismailismail\n",
      "    RockstarSuicide\n",
      "        1stOnRt1\n",
      "            oneELECTRIC\n",
      "            screw_arc\n",
      "                1stOnRt1\n",
      "                    JasonSteakums\n",
      "            RockstarSuicide\n",
      "                1stOnRt1\n",
      "                    RockstarSuicide\n",
      "    Fanatical_Idiot\n",
      "        TokeyWeedtooth\n",
      "            Fanatical_Idiot\n",
      "            da_bbq\n",
      "                Martel732\n",
      "                    [deleted]\n",
      "                TokeyWeedtooth\n",
      "            MC_Fillius_Dickinson\n",
      "                TokeyWeedtooth\n",
      "                    MC_Fillius_Dickinson\n",
      "                        TokeyWeedtooth\n",
      "                            Vinnie_Vegas\n",
      "                                CashWho\n",
      "                            MC_Fillius_Dickinson\n",
      "            dmanny64\n",
      "                TokeyWeedtooth\n",
      "            RockstarSuicide\n",
      "            FlatTire2005\n",
      "    Mechfire11\n",
      "        BeetIejewz\n",
      "    Leo_TheLurker\n"
     ]
    }
   ],
   "source": [
    "get_convo_details(threads[7597])"
   ]
  },
  {
   "cell_type": "code",
   "execution_count": 70,
   "metadata": {},
   "outputs": [
    {
     "data": {
      "text/plain": [
       "[5399, 246, 4918, 9802, 7855, 4726, 6498, 5465, 5250, 4175]"
      ]
     },
     "execution_count": 70,
     "metadata": {},
     "output_type": "execute_result"
    }
   ],
   "source": [
    "random.sample(list(neg_threads7), 10)"
   ]
  },
  {
   "cell_type": "code",
   "execution_count": 71,
   "metadata": {},
   "outputs": [
    {
     "name": "stdout",
     "output_type": "stream",
     "text": [
      "Subreddit: hockey\n",
      "Imagine1\n",
      "    aschwan41\n",
      "        Imagine1\n",
      "            aschwan41\n",
      "                Imagine1\n",
      "            xdiagnosis\n",
      "                Imagine1\n",
      "            Yashkovich\n",
      "                Imagine1\n",
      "            camster1123\n",
      "                Imagine1\n",
      "            gruesome2some\n",
      "            gruesome2some\n",
      "            gruesome2some\n",
      "            gruesome2some\n",
      "            gruesome2some\n",
      "            gruesome2some\n",
      "    justinql\n"
     ]
    }
   ],
   "source": [
    "get_convo_details(threads[4726])"
   ]
  },
  {
   "cell_type": "code",
   "execution_count": 73,
   "metadata": {},
   "outputs": [
    {
     "name": "stdout",
     "output_type": "stream",
     "text": [
      "Subreddit: hockey\n",
      "villagetorcher\n",
      "    Podo13\n",
      "        masterofstuff328\n",
      "        chiddie\n",
      "            Podo13\n",
      "                chiddie\n",
      "                DavidPuddy666\n",
      "                themikeshow\n",
      "            Roflcopter227\n",
      "                Herpes_hurricane\n",
      "                colt4594\n",
      "                suck-me-beautiful\n",
      "        Sirius_Cyborg\n",
      "            nibblerhank\n",
      "                sweetwattah\n",
      "        Tsquare43\n",
      "        MoreDescription\n",
      "        Bigforsumthin\n",
      "        sweetwattah\n",
      "            BananApocalypse\n",
      "    tandw\n",
      "        [deleted]\n",
      "    moak0\n",
      "        philocity\n",
      "        Oradi\n",
      "    PaulClarkLoadletter\n",
      "    thenicolino\n"
     ]
    }
   ],
   "source": [
    "get_convo_details(threads[6498])"
   ]
  },
  {
   "cell_type": "code",
   "execution_count": null,
   "metadata": {},
   "outputs": [],
   "source": []
  }
 ],
 "metadata": {
  "kernelspec": {
   "display_name": "Python 3",
   "language": "python",
   "name": "python3"
  },
  "language_info": {
   "codemirror_mode": {
    "name": "ipython",
    "version": 3
   },
   "file_extension": ".py",
   "mimetype": "text/x-python",
   "name": "python",
   "nbconvert_exporter": "python",
   "pygments_lexer": "ipython3",
   "version": "3.7.6"
  }
 },
 "nbformat": 4,
 "nbformat_minor": 2
}
