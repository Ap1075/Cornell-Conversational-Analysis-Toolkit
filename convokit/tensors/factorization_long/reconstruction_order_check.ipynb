{
 "cells": [
  {
   "cell_type": "code",
   "execution_count": 1,
   "metadata": {},
   "outputs": [],
   "source": [
    "import os\n",
    "os.chdir('../../..')"
   ]
  },
  {
   "cell_type": "code",
   "execution_count": 2,
   "metadata": {},
   "outputs": [],
   "source": [
    "import convokit"
   ]
  },
  {
   "cell_type": "code",
   "execution_count": 3,
   "metadata": {},
   "outputs": [],
   "source": [
    "from convokit import Corpus, download\n",
    "from convokit import HyperConvo\n",
    "import numpy as np\n",
    "import pickle"
   ]
  },
  {
   "cell_type": "code",
   "execution_count": 4,
   "metadata": {},
   "outputs": [],
   "source": [
    "from tensorly.decomposition import parafac"
   ]
  },
  {
   "cell_type": "code",
   "execution_count": 7,
   "metadata": {},
   "outputs": [],
   "source": [
    "# with open('/home/caleb/Cornell-Conversational-Analysis-Toolkit/convokit/tensors/data/hypergraph_tensor.p', 'rb') as f:\n",
    "\n",
    "with open('convokit/tensors/data_from2_fixed/tensor.p', 'rb') as f:\n",
    "    tensor = pickle.load(f)"
   ]
  },
  {
   "cell_type": "code",
   "execution_count": 8,
   "metadata": {},
   "outputs": [],
   "source": [
    "# with open('hypergraph_tensor.p', 'rb') as f:\n",
    "#     tensor = pickle.load(f)"
   ]
  },
  {
   "cell_type": "code",
   "execution_count": 9,
   "metadata": {},
   "outputs": [
    {
     "data": {
      "text/plain": [
       "(19, 29487, 140)"
      ]
     },
     "execution_count": 9,
     "metadata": {},
     "output_type": "execute_result"
    }
   ],
   "source": [
    "tensor.shape"
   ]
  },
  {
   "cell_type": "code",
   "execution_count": 10,
   "metadata": {},
   "outputs": [],
   "source": [
    "rank_to_factors = dict()"
   ]
  },
  {
   "cell_type": "code",
   "execution_count": 11,
   "metadata": {},
   "outputs": [],
   "source": [
    "start_rank = 9\n",
    "end_rank = 9 + 1"
   ]
  },
  {
   "cell_type": "code",
   "execution_count": 12,
   "metadata": {},
   "outputs": [
    {
     "name": "stdout",
     "output_type": "stream",
     "text": [
      "9\n"
     ]
    }
   ],
   "source": [
    "for rank in range(start_rank, end_rank):\n",
    "    print(rank)\n",
    "    rank_to_factors[rank] = parafac(tensor, rank=rank)[1]"
   ]
  },
  {
   "cell_type": "code",
   "execution_count": 13,
   "metadata": {},
   "outputs": [],
   "source": [
    "os.chdir('convokit/tensors')"
   ]
  },
  {
   "cell_type": "code",
   "execution_count": 14,
   "metadata": {},
   "outputs": [],
   "source": [
    "import utils"
   ]
  },
  {
   "cell_type": "code",
   "execution_count": 15,
   "metadata": {},
   "outputs": [
    {
     "data": {
      "text/plain": [
       "<module 'utils' from '/Users/calebchiam/Documents/GitHub/Cornell-Conversational-Analysis-Toolkit/convokit/tensors/utils.py'>"
      ]
     },
     "execution_count": 15,
     "metadata": {},
     "output_type": "execute_result"
    }
   ],
   "source": [
    "utils"
   ]
  },
  {
   "cell_type": "code",
   "execution_count": 48,
   "metadata": {},
   "outputs": [],
   "source": [
    "idx_to_reconstructed = dict()\n",
    "components = dict()\n",
    "for factors in rank_to_factors.values():\n",
    "    factor1 = factors[0]\n",
    "    factor2 = factors[1]\n",
    "    factor3 = factors[2]\n",
    "    for cidx in range(9):\n",
    "        components[cidx] = [factor1[:, cidx:cidx+1], factor2[:, cidx:cidx+1], factor3[:, cidx:cidx+1]]\n",
    "#         idx_to_reconstructed[cidx] = utils.reconstruct([factor1[:, :cidx], factor2[:, :cidx], factor3[:, :cidx]])\n",
    "#     rank_to_reconstructed[rank] = utils.reconstruct(factors)"
   ]
  },
  {
   "cell_type": "code",
   "execution_count": 49,
   "metadata": {},
   "outputs": [],
   "source": [
    "first_error = dict()\n",
    "for cidx, factors in components.items():\n",
    "    first_error[cidx] = np.linalg.norm(tensor-utils.reconstruct(factors))"
   ]
  },
  {
   "cell_type": "code",
   "execution_count": 50,
   "metadata": {},
   "outputs": [
    {
     "data": {
      "text/plain": [
       "{0: 14793.46061968783,\n",
       " 1: 20931.716060464576,\n",
       " 2: 19873.075860739707,\n",
       " 3: 21142.603382956448,\n",
       " 4: 19692.629491007556,\n",
       " 5: 20060.440660995115,\n",
       " 6: 16533.9825554209,\n",
       " 7: 19147.128561919,\n",
       " 8: 19982.847748290038}"
      ]
     },
     "execution_count": 50,
     "metadata": {},
     "output_type": "execute_result"
    }
   ],
   "source": [
    "first_error"
   ]
  },
  {
   "cell_type": "markdown",
   "metadata": {},
   "source": [
    "## Calculate the greedy minimum error ordering"
   ]
  },
  {
   "cell_type": "code",
   "execution_count": 51,
   "metadata": {},
   "outputs": [],
   "source": []
  },
  {
   "cell_type": "code",
   "execution_count": 80,
   "metadata": {},
   "outputs": [],
   "source": [
    "curr_order = []\n"
   ]
  },
  {
   "cell_type": "code",
   "execution_count": 53,
   "metadata": {},
   "outputs": [],
   "source": [
    "import numpy as np"
   ]
  },
  {
   "cell_type": "code",
   "execution_count": 58,
   "metadata": {},
   "outputs": [],
   "source": [
    "from functools import reduce"
   ]
  },
  {
   "cell_type": "code",
   "execution_count": 90,
   "metadata": {},
   "outputs": [],
   "source": [
    "def get_next_component(tensor, components, curr_order):\n",
    "    errors = dict()\n",
    "    for (cidx, factors) in components.items():\n",
    "        reconstructed = reduce(lambda x, y: x+y, [utils.reconstruct(f) for _, f in curr_order], 0)\n",
    "        added_factor = utils.reconstruct(factors)\n",
    "        reconstructed += added_factor\n",
    "        errors[cidx] = np.linalg.norm(tensor-reconstructed)\n",
    "    print(errors)\n",
    "    min_error_cpt = sorted(list(errors.items()), key=lambda x: x[1])[0][0]\n",
    "    curr_order.append((min_error_cpt, components[min_error_cpt]))\n",
    "    del components[min_error_cpt]\n",
    "    return min_error_cpt, curr_order"
   ]
  },
  {
   "cell_type": "code",
   "execution_count": null,
   "metadata": {},
   "outputs": [],
   "source": []
  },
  {
   "cell_type": "code",
   "execution_count": 92,
   "metadata": {},
   "outputs": [
    {
     "name": "stdout",
     "output_type": "stream",
     "text": [
      "9\n",
      "{0: 14793.46061968783, 1: 20931.716060464576, 2: 19873.075860739707, 3: 21142.603382956448, 4: 19692.629491007556, 5: 20060.440660995115, 6: 16533.9825554209, 7: 19147.128561919, 8: 19982.847748290038}\n",
      "8\n",
      "{1: 14702.316628247214, 2: 14366.697314881232, 3: 15818.619672783063, 4: 14464.296462704608, 5: 15143.40152936504, 6: 12586.38093817387, 7: 13780.89300501841, 8: 14772.52909884815}\n",
      "7\n",
      "{1: 11807.646926378538, 2: 12046.140123358311, 3: 13345.386343781354, 4: 12232.296426005536, 5: 12589.164054766115, 7: 12103.288112929436, 8: 12717.564087274925}\n",
      "6\n",
      "{2: 11202.609732688965, 3: 11759.495680572501, 4: 11430.039570396453, 5: 11074.524985616734, 7: 11268.175361330806, 8: 11712.084384592012}\n",
      "5\n",
      "{2: 10240.924697905362, 3: 10487.21071743224, 4: 10737.364695381168, 7: 10150.767138825207, 8: 10998.482540799865}\n",
      "4\n",
      "{2: 9229.312412987825, 3: 9239.686339941774, 4: 9745.563475557874, 8: 10175.013748514995}\n",
      "3\n",
      "{3: 8209.852624026707, 4: 8757.386703024033, 8: 9273.877008897305}\n",
      "2\n",
      "{4: 7711.962648135293, 8: 7117.0365883526665}\n",
      "1\n",
      "{4: 6348.4610508127425}\n"
     ]
    }
   ],
   "source": [
    "curr_order = []\n",
    "components_copy = components.copy()\n",
    "while len(components_copy) > 0:\n",
    "    print(len(components_copy))\n",
    "    _, curr_order = get_next_component(tensor, components_copy, curr_order)"
   ]
  },
  {
   "cell_type": "code",
   "execution_count": 93,
   "metadata": {},
   "outputs": [
    {
     "data": {
      "text/plain": [
       "[0, 6, 1, 5, 7, 2, 3, 8, 4]"
      ]
     },
     "execution_count": 93,
     "metadata": {},
     "output_type": "execute_result"
    }
   ],
   "source": [
    "[idx for (idx, _) in curr_order]"
   ]
  },
  {
   "cell_type": "code",
   "execution_count": 76,
   "metadata": {},
   "outputs": [
    {
     "data": {
      "text/plain": [
       "0"
      ]
     },
     "execution_count": 76,
     "metadata": {},
     "output_type": "execute_result"
    }
   ],
   "source": [
    "get_next_component(tensor, component_items, curr_order)"
   ]
  },
  {
   "cell_type": "code",
   "execution_count": null,
   "metadata": {},
   "outputs": [],
   "source": [
    "for i in range()"
   ]
  },
  {
   "cell_type": "code",
   "execution_count": 41,
   "metadata": {},
   "outputs": [
    {
     "name": "stdout",
     "output_type": "stream",
     "text": [
      "1\n",
      "(19, 29487, 140)\n",
      "10623.1502354438\n",
      "2\n",
      "(19, 29487, 140)\n",
      "11942.843327291142\n",
      "3\n",
      "(19, 29487, 140)\n",
      "12647.308447555535\n",
      "4\n",
      "(19, 29487, 140)\n",
      "12862.562510909314\n",
      "5\n",
      "(19, 29487, 140)\n",
      "13629.705060209386\n",
      "6\n",
      "(19, 29487, 140)\n",
      "14408.30386349302\n",
      "7\n",
      "(19, 29487, 140)\n",
      "17903.59400606617\n",
      "8\n",
      "(19, 29487, 140)\n",
      "18947.592028948406\n",
      "9\n",
      "(19, 29487, 140)\n",
      "19156.029151150073\n"
     ]
    }
   ],
   "source": [
    "idx_to_error = dict()\n",
    "for idx, M in idx_to_reconstructed.items():\n",
    "    print(idx)\n",
    "    print(M.shape)\n",
    "    print(np.linalg.norm(M))\n",
    "#     idx_to_error[idx] = np.linalg.norm(tensor - M)"
   ]
  },
  {
   "cell_type": "code",
   "execution_count": 39,
   "metadata": {},
   "outputs": [
    {
     "data": {
      "text/plain": [
       "{1: 14793.46061968783,\n",
       " 2: 14702.316628247214,\n",
       " 3: 14251.282784457373,\n",
       " 4: 14613.415609150643,\n",
       " 5: 14285.280975851776,\n",
       " 6: 13555.267730803329,\n",
       " 7: 9213.111133264845,\n",
       " 8: 7711.962648135293,\n",
       " 9: 6348.4610508127425}"
      ]
     },
     "execution_count": 39,
     "metadata": {},
     "output_type": "execute_result"
    }
   ],
   "source": [
    "idx_to_error"
   ]
  },
  {
   "cell_type": "code",
   "execution_count": 19,
   "metadata": {},
   "outputs": [],
   "source": [
    "import matplotlib.pyplot as plt"
   ]
  },
  {
   "cell_type": "code",
   "execution_count": 40,
   "metadata": {},
   "outputs": [
    {
     "data": {
      "text/plain": [
       "[<matplotlib.lines.Line2D at 0x130a33bd0>]"
      ]
     },
     "execution_count": 40,
     "metadata": {},
     "output_type": "execute_result"
    },
    {
     "data": {
      "image/png": "[encoded data removed]",
      "text/plain": [
       "<Figure size 432x288 with 1 Axes>"
      ]
     },
     "metadata": {
      "needs_background": "light"
     },
     "output_type": "display_data"
    }
   ],
   "source": [
    "plt.plot(list(idx_to_error.keys()), list(idx_to_error.values()))"
   ]
  },
  {
   "cell_type": "markdown",
   "metadata": {},
   "source": [
    "We'll go with 9 components for now."
   ]
  },
  {
   "cell_type": "code",
   "execution_count": 26,
   "metadata": {},
   "outputs": [
    {
     "data": {
      "text/plain": [
       "['__init__.py', 'data', 'demo', 'utils.py', '__pycache__']"
      ]
     },
     "execution_count": 26,
     "metadata": {},
     "output_type": "execute_result"
    }
   ],
   "source": [
    "os.listdir()"
   ]
  },
  {
   "cell_type": "code",
   "execution_count": 12,
   "metadata": {},
   "outputs": [],
   "source": [
    "with open('data_long/rank_to_factors.p', 'wb') as f:\n",
    "    pickle.dump(rank_to_factors, f)"
   ]
  },
  {
   "cell_type": "code",
   "execution_count": null,
   "metadata": {},
   "outputs": [],
   "source": [
    "{1: 3819.265576516634,\n",
    " 2: 2844.773417177397,\n",
    " 3: 2576.5195453161737,\n",
    " 4: 2357.5843602190625,\n",
    " 5: 2179.368911193231,\n",
    " 6: 2053.847295539327,\n",
    " 7: 1903.4653298649869}"
   ]
  },
  {
   "cell_type": "markdown",
   "metadata": {},
   "source": [
    "## Testing invariance to shuffling"
   ]
  },
  {
   "cell_type": "code",
   "execution_count": 20,
   "metadata": {},
   "outputs": [
    {
     "data": {
      "text/plain": [
       "(9, 10000, 164)"
      ]
     },
     "execution_count": 20,
     "metadata": {},
     "output_type": "execute_result"
    }
   ],
   "source": [
    "tensor.shape"
   ]
  },
  {
   "cell_type": "markdown",
   "metadata": {},
   "source": [
    "Shuffle the time dimension."
   ]
  },
  {
   "cell_type": "code",
   "execution_count": 22,
   "metadata": {},
   "outputs": [],
   "source": [
    "tensor_time_shuffled = tensor.copy()\n",
    "np.random.shuffle(tensor_time_shuffled)"
   ]
  },
  {
   "cell_type": "code",
   "execution_count": 25,
   "metadata": {},
   "outputs": [],
   "source": [
    "factors = parafac(tensor_time_shuffled, rank=rank)[1]"
   ]
  },
  {
   "cell_type": "code",
   "execution_count": 26,
   "metadata": {},
   "outputs": [],
   "source": [
    "reconstructed = utils.reconstruct(factors)\n",
    "error = np.linalg.norm(tensor_time_shuffled - reconstructed)"
   ]
  },
  {
   "cell_type": "code",
   "execution_count": 27,
   "metadata": {},
   "outputs": [
    {
     "data": {
      "text/plain": [
       "1762.374856664664"
      ]
     },
     "execution_count": 27,
     "metadata": {},
     "output_type": "execute_result"
    }
   ],
   "source": [
    "error # same error as before!"
   ]
  },
  {
   "cell_type": "code",
   "execution_count": 28,
   "metadata": {},
   "outputs": [],
   "source": [
    "with open('data/rank_to_factors_time_shuffled.p', 'wb') as f:\n",
    "    pickle.dump({9: factors}, f)"
   ]
  },
  {
   "cell_type": "markdown",
   "metadata": {},
   "source": [
    "Shuffle the discussion thread order."
   ]
  },
  {
   "cell_type": "code",
   "execution_count": 61,
   "metadata": {},
   "outputs": [],
   "source": [
    "tensor_thread_shuffled = tensor.copy()"
   ]
  },
  {
   "cell_type": "code",
   "execution_count": 62,
   "metadata": {},
   "outputs": [],
   "source": [
    "shuffle_idx = list(range(10000))"
   ]
  },
  {
   "cell_type": "code",
   "execution_count": 63,
   "metadata": {},
   "outputs": [],
   "source": [
    "np.random.shuffle(shuffle_idx)"
   ]
  },
  {
   "cell_type": "code",
   "execution_count": 65,
   "metadata": {},
   "outputs": [],
   "source": [
    "for i in range(tensor_thread_shuffled.shape[0]):\n",
    "    tensor_thread_shuffled[i] = tensor_thread_shuffled[i][shuffle_idx]"
   ]
  },
  {
   "cell_type": "code",
   "execution_count": 67,
   "metadata": {},
   "outputs": [],
   "source": [
    "factors = parafac(tensor_thread_shuffled, rank=rank)[1]"
   ]
  },
  {
   "cell_type": "code",
   "execution_count": 70,
   "metadata": {},
   "outputs": [],
   "source": [
    "reconstructed = utils.reconstruct(factors)\n",
    "error = np.linalg.norm(tensor_thread_shuffled - reconstructed)"
   ]
  },
  {
   "cell_type": "code",
   "execution_count": 71,
   "metadata": {},
   "outputs": [
    {
     "data": {
      "text/plain": [
       "1762.3748566646532"
      ]
     },
     "execution_count": 71,
     "metadata": {},
     "output_type": "execute_result"
    }
   ],
   "source": [
    "error # same error as before!"
   ]
  },
  {
   "cell_type": "code",
   "execution_count": 73,
   "metadata": {},
   "outputs": [],
   "source": [
    "with open('data/rank_to_factors_thread_shuffled.p', 'wb') as f:\n",
    "    pickle.dump({9: factors}, f)"
   ]
  },
  {
   "cell_type": "code",
   "execution_count": null,
   "metadata": {},
   "outputs": [],
   "source": []
  }
 ],
 "metadata": {
  "kernelspec": {
   "display_name": "Python 3",
   "language": "python",
   "name": "python3"
  },
  "language_info": {
   "codemirror_mode": {
    "name": "ipython",
    "version": 3
   },
   "file_extension": ".py",
   "mimetype": "text/x-python",
   "name": "python",
   "nbconvert_exporter": "python",
   "pygments_lexer": "ipython3",
   "version": "3.7.6"
  }
 },
 "nbformat": 4,
 "nbformat_minor": 2
}
