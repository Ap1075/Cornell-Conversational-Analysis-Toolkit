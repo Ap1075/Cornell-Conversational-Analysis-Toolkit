{
 "cells": [
  {
   "cell_type": "code",
   "execution_count": 1,
   "metadata": {},
   "outputs": [],
   "source": [
    "import os\n",
    "os.chdir('../../..')"
   ]
  },
  {
   "cell_type": "code",
   "execution_count": 2,
   "metadata": {},
   "outputs": [
    {
     "name": "stderr",
     "output_type": "stream",
     "text": [
      "/Library/Frameworks/Python.framework/Versions/3.7/lib/python3.7/site-packages/sklearn/externals/joblib/__init__.py:15: DeprecationWarning: sklearn.externals.joblib is deprecated in 0.21 and will be removed in 0.23. Please import this functionality directly from joblib, which can be installed with: pip install joblib. If this warning is raised when loading pickled models, you may need to re-serialize those models with scikit-learn 0.21+.\n",
      "  warnings.warn(msg, category=DeprecationWarning)\n"
     ]
    }
   ],
   "source": [
    "import convokit"
   ]
  },
  {
   "cell_type": "code",
   "execution_count": 3,
   "metadata": {},
   "outputs": [],
   "source": [
    "from convokit import Corpus, download\n",
    "from convokit import HyperConvo\n",
    "import numpy as np\n",
    "import pickle"
   ]
  },
  {
   "cell_type": "code",
   "execution_count": 4,
   "metadata": {},
   "outputs": [],
   "source": [
    "os.chdir('convokit/tensors')"
   ]
  },
  {
   "cell_type": "code",
   "execution_count": 5,
   "metadata": {},
   "outputs": [],
   "source": [
    "import utils"
   ]
  },
  {
   "cell_type": "code",
   "execution_count": 6,
   "metadata": {},
   "outputs": [
    {
     "data": {
      "text/plain": [
       "['demo', '__init__.py', '__pycache__', 'utils.py', 'data']"
      ]
     },
     "execution_count": 6,
     "metadata": {},
     "output_type": "execute_result"
    }
   ],
   "source": [
    "os.listdir()"
   ]
  },
  {
   "cell_type": "code",
   "execution_count": 7,
   "metadata": {},
   "outputs": [],
   "source": [
    "with open('data/hypergraph_tensor.p', 'rb') as f:\n",
    "    tensor = pickle.load(f)"
   ]
  },
  {
   "cell_type": "code",
   "execution_count": 8,
   "metadata": {},
   "outputs": [],
   "source": [
    "with open('data/rank_to_factors.p', 'rb') as f:\n",
    "    rank_to_factors = pickle.load(f)"
   ]
  },
  {
   "cell_type": "code",
   "execution_count": 9,
   "metadata": {},
   "outputs": [
    {
     "data": {
      "text/plain": [
       "(9, 10000, 164)"
      ]
     },
     "execution_count": 9,
     "metadata": {},
     "output_type": "execute_result"
    }
   ],
   "source": [
    "tensor.shape"
   ]
  },
  {
   "cell_type": "code",
   "execution_count": 10,
   "metadata": {},
   "outputs": [],
   "source": [
    "factors = rank_to_factors[9]"
   ]
  },
  {
   "cell_type": "code",
   "execution_count": 11,
   "metadata": {},
   "outputs": [
    {
     "data": {
      "text/plain": [
       "(9, 9)"
      ]
     },
     "execution_count": 11,
     "metadata": {},
     "output_type": "execute_result"
    }
   ],
   "source": [
    "factors[0].shape"
   ]
  },
  {
   "cell_type": "code",
   "execution_count": 12,
   "metadata": {},
   "outputs": [
    {
     "data": {
      "text/plain": [
       "(10000, 9)"
      ]
     },
     "execution_count": 12,
     "metadata": {},
     "output_type": "execute_result"
    }
   ],
   "source": [
    "factors[1].shape"
   ]
  },
  {
   "cell_type": "code",
   "execution_count": 13,
   "metadata": {},
   "outputs": [
    {
     "data": {
      "text/plain": [
       "(164, 9)"
      ]
     },
     "execution_count": 13,
     "metadata": {},
     "output_type": "execute_result"
    }
   ],
   "source": [
    "factors[2].shape"
   ]
  },
  {
   "cell_type": "code",
   "execution_count": 14,
   "metadata": {},
   "outputs": [],
   "source": [
    "with open('data/subreddits.p', 'rb') as f:\n",
    "    subreddits = pickle.load(f)"
   ]
  },
  {
   "cell_type": "code",
   "execution_count": 15,
   "metadata": {},
   "outputs": [],
   "source": [
    "from sklearn.preprocessing import Imputer, Normalizer, StandardScaler\n",
    "from sklearn.decomposition import TruncatedSVD\n",
    "from sklearn.manifold import TSNE\n",
    "from sklearn.metrics.pairwise import pairwise_distances"
   ]
  },
  {
   "cell_type": "code",
   "execution_count": 16,
   "metadata": {},
   "outputs": [],
   "source": [
    "import pandas as pd"
   ]
  },
  {
   "cell_type": "code",
   "execution_count": 17,
   "metadata": {},
   "outputs": [],
   "source": [
    "df = pd.DataFrame(factors[1])"
   ]
  },
  {
   "cell_type": "code",
   "execution_count": 18,
   "metadata": {},
   "outputs": [],
   "source": [
    "df['subreddits'] = subreddits"
   ]
  },
  {
   "cell_type": "code",
   "execution_count": 19,
   "metadata": {},
   "outputs": [
    {
     "data": {
      "text/html": [
       "<div>\n",
       "<style scoped>\n",
       "    .dataframe tbody tr th:only-of-type {\n",
       "        vertical-align: middle;\n",
       "    }\n",
       "\n",
       "    .dataframe tbody tr th {\n",
       "        vertical-align: top;\n",
       "    }\n",
       "\n",
       "    .dataframe thead th {\n",
       "        text-align: right;\n",
       "    }\n",
       "</style>\n",
       "<table border=\"1\" class=\"dataframe\">\n",
       "  <thead>\n",
       "    <tr style=\"text-align: right;\">\n",
       "      <th></th>\n",
       "      <th>0</th>\n",
       "      <th>1</th>\n",
       "      <th>2</th>\n",
       "      <th>3</th>\n",
       "      <th>4</th>\n",
       "      <th>5</th>\n",
       "      <th>6</th>\n",
       "      <th>7</th>\n",
       "      <th>8</th>\n",
       "      <th>subreddits</th>\n",
       "    </tr>\n",
       "  </thead>\n",
       "  <tbody>\n",
       "    <tr>\n",
       "      <th>0</th>\n",
       "      <td>0.008697</td>\n",
       "      <td>0.000792</td>\n",
       "      <td>0.000539</td>\n",
       "      <td>0.071000</td>\n",
       "      <td>0.057662</td>\n",
       "      <td>0.057399</td>\n",
       "      <td>-0.104448</td>\n",
       "      <td>-0.054581</td>\n",
       "      <td>0.089074</td>\n",
       "      <td>askscience</td>\n",
       "    </tr>\n",
       "    <tr>\n",
       "      <th>1</th>\n",
       "      <td>0.003533</td>\n",
       "      <td>0.008221</td>\n",
       "      <td>0.000680</td>\n",
       "      <td>0.075819</td>\n",
       "      <td>0.003311</td>\n",
       "      <td>-0.015890</td>\n",
       "      <td>0.003553</td>\n",
       "      <td>0.014978</td>\n",
       "      <td>0.081708</td>\n",
       "      <td>hiphopheads</td>\n",
       "    </tr>\n",
       "    <tr>\n",
       "      <th>2</th>\n",
       "      <td>0.016550</td>\n",
       "      <td>-0.011889</td>\n",
       "      <td>0.016083</td>\n",
       "      <td>0.077753</td>\n",
       "      <td>0.024160</td>\n",
       "      <td>0.098062</td>\n",
       "      <td>-0.081027</td>\n",
       "      <td>-0.058975</td>\n",
       "      <td>0.106615</td>\n",
       "      <td>DotA2</td>\n",
       "    </tr>\n",
       "    <tr>\n",
       "      <th>3</th>\n",
       "      <td>0.007262</td>\n",
       "      <td>0.002142</td>\n",
       "      <td>0.001870</td>\n",
       "      <td>0.077753</td>\n",
       "      <td>0.008923</td>\n",
       "      <td>0.046398</td>\n",
       "      <td>-0.086384</td>\n",
       "      <td>-0.014239</td>\n",
       "      <td>0.087071</td>\n",
       "      <td>soccer</td>\n",
       "    </tr>\n",
       "    <tr>\n",
       "      <th>4</th>\n",
       "      <td>0.003004</td>\n",
       "      <td>0.016513</td>\n",
       "      <td>-0.008518</td>\n",
       "      <td>0.080212</td>\n",
       "      <td>-0.060908</td>\n",
       "      <td>-0.013426</td>\n",
       "      <td>0.022538</td>\n",
       "      <td>0.005725</td>\n",
       "      <td>0.054135</td>\n",
       "      <td>technology</td>\n",
       "    </tr>\n",
       "  </tbody>\n",
       "</table>\n",
       "</div>"
      ],
      "text/plain": [
       "          0         1         2         3         4         5         6  \\\n",
       "0  0.008697  0.000792  0.000539  0.071000  0.057662  0.057399 -0.104448   \n",
       "1  0.003533  0.008221  0.000680  0.075819  0.003311 -0.015890  0.003553   \n",
       "2  0.016550 -0.011889  0.016083  0.077753  0.024160  0.098062 -0.081027   \n",
       "3  0.007262  0.002142  0.001870  0.077753  0.008923  0.046398 -0.086384   \n",
       "4  0.003004  0.016513 -0.008518  0.080212 -0.060908 -0.013426  0.022538   \n",
       "\n",
       "          7         8   subreddits  \n",
       "0 -0.054581  0.089074   askscience  \n",
       "1  0.014978  0.081708  hiphopheads  \n",
       "2 -0.058975  0.106615        DotA2  \n",
       "3 -0.014239  0.087071       soccer  \n",
       "4  0.005725  0.054135   technology  "
      ]
     },
     "execution_count": 19,
     "metadata": {},
     "output_type": "execute_result"
    }
   ],
   "source": [
    "df.head()"
   ]
  },
  {
   "cell_type": "code",
   "execution_count": 20,
   "metadata": {},
   "outputs": [],
   "source": [
    "subreddit_means = df.groupby('subreddits').mean()\n",
    "subreddit_df = pd.DataFrame(\n",
    "        data=Normalizer().fit_transform(subreddit_means.values),\n",
    "        index = subreddit_means.index\n",
    "    )"
   ]
  },
  {
   "cell_type": "code",
   "execution_count": 21,
   "metadata": {},
   "outputs": [],
   "source": [
    "tsne = TSNE(random_state=2018)\n",
    "tsne_df = pd.DataFrame(data=tsne.fit_transform(subreddit_df.values),\n",
    "                      index=subreddit_df.index)"
   ]
  },
  {
   "cell_type": "code",
   "execution_count": 22,
   "metadata": {},
   "outputs": [],
   "source": [
    "import matplotlib.pyplot as plt"
   ]
  },
  {
   "cell_type": "code",
   "execution_count": 23,
   "metadata": {},
   "outputs": [
    {
     "data": {
      "image/png": "[encoded data removed]",
      "text/plain": [
       "<Figure size 720x720 with 1 Axes>"
      ]
     },
     "metadata": {
      "needs_background": "light"
     },
     "output_type": "display_data"
    }
   ],
   "source": [
    "plt.figure(figsize=(10,10))\n",
    "plt.scatter(tsne_df[0].values, tsne_df[1].values)\n",
    "for i, txt in enumerate(tsne_df.index):\n",
    "    plt.annotate(txt, (tsne_df.values[i,0], tsne_df.values[i,1]))\n",
    "plt.show()"
   ]
  },
  {
   "cell_type": "code",
   "execution_count": 24,
   "metadata": {},
   "outputs": [
    {
     "data": {
      "image/png": "[encoded data removed]",
      "text/plain": [
       "<Figure size 432x288 with 1 Axes>"
      ]
     },
     "metadata": {
      "needs_background": "light"
     },
     "output_type": "display_data"
    }
   ],
   "source": [
    "games = [\"battlefield3\", \"Diablo\", \"DotA2\", \"Guildwars2\", \"leagueoflegends\", \"magicTCG\", \"Minecraft\", \"pokemon\", \"skyrim\", \"starcraft\", \"tf2\", \"wow\"]\n",
    "trade = [\"Dota2Trade\", \"pokemontrades\", \"SteamGameSwap\", \"tf2trade\", \"Random_Acts_Of_Amazon\"]\n",
    "sports = [\"baseball\", \"CFB\", \"hockey\", \"MMA\", \"nba\", \"nfl\", \"soccer\"]\n",
    "\n",
    "link_aggregators = [\"AskReddit\", \"WTF\", \"pics\", \"gifs\", \"aww\", \"funny\", \"todayilearned\",\n",
    "                   \"AdviceAnimals\"]\n",
    "relationships = [\"AskMen\", \"AskWomen\", \"relationships\", \"relationship_advice\", \"OkCupid\"]\n",
    "\n",
    "plt.scatter(tsne_df[0].values, tsne_df[1].values, color=\"#dddddd\")\n",
    "plt.scatter(tsne_df[0].values, tsne_df[1].values, color=[\n",
    "    \"green\" if l in games else\n",
    "    \"gold\" if l in trade else\n",
    "    \"purple\" if l in relationships else\n",
    "    \"red\" if l in link_aggregators else\n",
    "    \"blue\" if l in sports else\n",
    "    \"#00000000\"\n",
    "    for l in tsne_df.index])\n",
    "plt.show()"
   ]
  },
  {
   "cell_type": "code",
   "execution_count": 25,
   "metadata": {},
   "outputs": [],
   "source": [
    "dists = pairwise_distances(subreddit_df.values, metric='cosine')\n",
    "flat_dists = np.ravel(dists)\n",
    "idx1, idx2 = np.unravel_index(np.arange(len(flat_dists)), dists.shape)\n",
    "pairwise_dist_df = pd.DataFrame.from_dict({'p1': subreddit_df.index[idx1],\n",
    "                                           'p2': subreddit_df.index[idx2],\n",
    "                                           'dist': flat_dists},\n",
    "                                           orient='columns')"
   ]
  },
  {
   "cell_type": "code",
   "execution_count": 26,
   "metadata": {},
   "outputs": [],
   "source": [
    "def print_nearest_neighbors(pairwise_dist_df, \n",
    "                           test_subreddits=[],\n",
    "                           top_N=10):\n",
    "    for subreddit in test_subreddits:\n",
    "        subset_df = pairwise_dist_df[(pairwise_dist_df.p1 == subreddit)\n",
    "                                 & (pairwise_dist_df.p2 != subreddit)]\n",
    "        print(subreddit)\n",
    "        print(subset_df.sort_values('dist')[['p2', 'dist']].head(top_N))\n",
    "        print()"
   ]
  },
  {
   "cell_type": "code",
   "execution_count": 27,
   "metadata": {},
   "outputs": [
    {
     "name": "stdout",
     "output_type": "stream",
     "text": [
      "apple\n",
      "                    p2      dist\n",
      "3898         worldnews  0.001043\n",
      "3833  ShingekiNoKyojin  0.002017\n",
      "3810            Diablo  0.002373\n",
      "3840            asoiaf  0.002510\n",
      "3886            soccer  0.002692\n",
      "3816             Games  0.004317\n",
      "3868            movies  0.004494\n",
      "3875           pokemon  0.004605\n",
      "3848            canada  0.004718\n",
      "3874              pics  0.005199\n",
      "\n",
      "politics\n",
      "                     p2      dist\n",
      "7766  malefashionadvice  0.002571\n",
      "7705           AskWomen  0.002652\n",
      "7737              anime  0.003972\n",
      "7714            Fitness  0.007320\n",
      "7703             AskMen  0.010323\n",
      "7767        motorcycles  0.010736\n",
      "7710             Diablo  0.011414\n",
      "7704          AskReddit  0.011570\n",
      "7798          worldnews  0.011978\n",
      "7738              apple  0.012777\n",
      "\n",
      "leagueoflegends\n",
      "                   p2      dist\n",
      "6478      programming  0.000234\n",
      "6411            DotA2  0.000420\n",
      "6472          offbeat  0.000453\n",
      "6447         business  0.001050\n",
      "6444         baseball  0.001440\n",
      "6499              wow  0.001758\n",
      "6481  rupaulsdragrace  0.001967\n",
      "6487        starcraft  0.002368\n",
      "6465         magicTCG  0.002542\n",
      "6452       cringepics  0.002614\n",
      "\n",
      "AskWomen\n",
      "                    p2      dist\n",
      "577           politics  0.002652\n",
      "537              anime  0.003138\n",
      "566  malefashionadvice  0.004309\n",
      "567        motorcycles  0.005138\n",
      "514            Fitness  0.006175\n",
      "510             Diablo  0.007492\n",
      "515             Frugal  0.008443\n",
      "503             AskMen  0.009232\n",
      "538              apple  0.009302\n",
      "598          worldnews  0.009398\n",
      "\n",
      "Music\n",
      "                   p2      dist\n",
      "2788       technology  0.000877\n",
      "2723           Marvel  0.001145\n",
      "2721              MMA  0.001796\n",
      "2720      LifeProTips  0.002064\n",
      "2716            Games  0.003231\n",
      "2797           videos  0.003557\n",
      "2781  rupaulsdragrace  0.003588\n",
      "2786           soccer  0.003809\n",
      "2757            funny  0.003922\n",
      "2768           movies  0.004313\n",
      "\n",
      "pics\n",
      "                    p2      dist\n",
      "7448            canada  0.001169\n",
      "7433  ShingekiNoKyojin  0.001200\n",
      "7469               nba  0.001480\n",
      "7475           pokemon  0.001508\n",
      "7440            asoiaf  0.001553\n",
      "7416             Games  0.001576\n",
      "7434     SquaredCircle  0.001681\n",
      "7400     AdviceAnimals  0.001685\n",
      "7468            movies  0.001828\n",
      "7487         starcraft  0.001894\n",
      "\n",
      "australia\n",
      "                   p2      dist\n",
      "4252       cringepics  0.001013\n",
      "4244         baseball  0.001694\n",
      "4299              wow  0.001807\n",
      "4265         magicTCG  0.002294\n",
      "4211            DotA2  0.002317\n",
      "4274             pics  0.002429\n",
      "4287        starcraft  0.002766\n",
      "4216            Games  0.003057\n",
      "4264  leagueoflegends  0.003213\n",
      "4259             gifs  0.004170\n",
      "\n",
      "Random_Acts_Of_Amazon\n",
      "                        p2      dist\n",
      "3209        DebateReligion  0.034370\n",
      "3230               OkCupid  0.040337\n",
      "3254  electronic_cigarette  0.045666\n",
      "3222       MakeupAddiction  0.046752\n",
      "3208          Christianity  0.052663\n",
      "3246              buildapc  0.056048\n",
      "3229                 NoFap  0.059081\n",
      "3231               POLITIC  0.061666\n",
      "3273           photography  0.063948\n",
      "3290             teenagers  0.064106\n",
      "\n",
      "Bitcoin\n",
      "                p2      dist\n",
      "650     conspiracy  0.000582\n",
      "696  unitedkingdom  0.000694\n",
      "612          Drugs  0.001405\n",
      "661           guns  0.001406\n",
      "624     MensRights  0.002279\n",
      "692           tifu  0.002295\n",
      "617     Guildwars2  0.002593\n",
      "628         Naruto  0.003659\n",
      "695          trees  0.003701\n",
      "651         cringe  0.004495\n",
      "\n",
      "MensRights\n",
      "                 p2      dist\n",
      "2496  unitedkingdom  0.000715\n",
      "2417     Guildwars2  0.001336\n",
      "2467    motorcycles  0.001707\n",
      "2492           tifu  0.002181\n",
      "2450     conspiracy  0.002183\n",
      "2495          trees  0.002266\n",
      "2406        Bitcoin  0.002279\n",
      "2449           cars  0.002407\n",
      "2412          Drugs  0.002647\n",
      "2485         skyrim  0.002795\n",
      "\n"
     ]
    }
   ],
   "source": [
    "print_nearest_neighbors(pairwise_dist_df, ['apple', 'politics', 'leagueoflegends',\n",
    "                                          'AskWomen', 'Music', 'pics',\n",
    "                                          'australia', 'Random_Acts_Of_Amazon',\n",
    "                                          'Bitcoin', 'MensRights'])"
   ]
  },
  {
   "cell_type": "code",
   "execution_count": 47,
   "metadata": {},
   "outputs": [
    {
     "name": "stdout",
     "output_type": "stream",
     "text": [
      "For component index: 0\n",
      "Lowest: ['WTF', 'todayilearned', 'aww', 'MovieDetails', 'gifs', 'hiphopheads', 'Android']\n",
      "Highest: ['pokemontrades', 'techsupport', 'POLITIC', 'gonewild', 'buildapc', 'teenagers', 'DebateReligion']\n",
      "\n",
      "For component index: 1\n",
      "Lowest: ['pokemontrades', 'gonewild', 'techsupport', 'POLITIC', 'buildapc', 'science', 'DebateReligion']\n",
      "Highest: ['CFB', 'hiphopheads', 'WTF', 'todayilearned', 'funny', 'books', 'aww']\n",
      "\n",
      "For component index: 2\n",
      "Lowest: ['CFB', 'fantasyfootball', 'hiphopheads', 'MMA', 'WTF', 'nfl', 'aww']\n",
      "Highest: ['pokemontrades', 'gonewild', 'techsupport', 'POLITIC', 'electronic_cigarette', 'buildapc', 'teenagers']\n",
      "\n",
      "For component index: 3\n",
      "Lowest: ['gonewild', 'pokemontrades', 'POLITIC', 'techsupport', 'relationships', 'science', 'buildapc']\n",
      "Highest: ['fantasyfootball', 'CFB', 'hiphopheads', 'MMA', 'nfl', 'videos', 'soccer']\n",
      "\n",
      "For component index: 4\n",
      "Lowest: ['CFB', 'books', 'singapore', 'fantasyfootball', 'hiphopheads', 'nfl', 'malefashionadvice']\n",
      "Highest: ['relationships', 'IAmA', 'AmItheAsshole', 'tf2', 'dayz', 'relationship_advice', 'gonewild']\n",
      "\n",
      "For component index: 5\n",
      "Lowest: ['aww', 'Android', 'hiphopheads', 'WTF', 'askscience', 'todayilearned', 'hockey']\n",
      "Highest: ['pokemontrades', 'gonewild', 'POLITIC', 'Random_Acts_Of_Amazon', 'techsupport', 'DebateReligion', 'buildapc']\n",
      "\n",
      "For component index: 6\n",
      "Lowest: ['science', 'askscience', 'relationships', 'gonewild', 'pokemontrades', 'techsupport', 'TwoXChromosomes']\n",
      "Highest: ['Android', 'WTF', 'todayilearned', 'fantasyfootball', 'hiphopheads', 'hockey', 'funny']\n",
      "\n",
      "For component index: 7\n",
      "Lowest: ['Random_Acts_Of_Amazon', 'OkCupid', 'TwoXChromosomes', 'relationships', 'askscience', 'Christianity', 'photography']\n",
      "Highest: ['WTF', 'todayilearned', 'MovieDetails', 'aww', 'Android', 'rupaulsdragrace', 'wow']\n",
      "\n",
      "For component index: 8\n",
      "Lowest: ['science', 'Random_Acts_Of_Amazon', 'gonewild', 'pokemontrades', 'askscience', 'relationships', 'POLITIC']\n",
      "Highest: ['tf2', 'gaming', 'Minecraft', 'wow', 'business', 'baseball', 'skyrim']\n",
      "\n"
     ]
    }
   ],
   "source": [
    "num_subreddits = 7\n",
    "for component_idx in range(9):\n",
    "    print(\"For component index: {}\".format(component_idx))\n",
    "    \n",
    "    subreddits_for_component = list(subreddit_df.sort_values(by=[component_idx])[[component_idx]].index)\n",
    "    print(\"Lowest: {}\".format(subreddits_for_component[:num_subreddits]))\n",
    "    print(\"Highest: {}\".format(subreddits_for_component[-num_subreddits:][::-1]))\n",
    "    \n",
    "    print()"
   ]
  },
  {
   "cell_type": "code",
   "execution_count": null,
   "metadata": {},
   "outputs": [],
   "source": []
  }
 ],
 "metadata": {
  "kernelspec": {
   "display_name": "Python 3",
   "language": "python",
   "name": "python3"
  },
  "language_info": {
   "codemirror_mode": {
    "name": "ipython",
    "version": 3
   },
   "file_extension": ".py",
   "mimetype": "text/x-python",
   "name": "python",
   "nbconvert_exporter": "python",
   "pygments_lexer": "ipython3",
   "version": "3.7.3"
  }
 },
 "nbformat": 4,
 "nbformat_minor": 2
}
