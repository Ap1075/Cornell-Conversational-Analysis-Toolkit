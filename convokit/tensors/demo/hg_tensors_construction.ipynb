{
 "cells": [
  {
   "cell_type": "code",
   "execution_count": null,
   "metadata": {},
   "outputs": [],
   "source": [
    "import utils"
   ]
  },
  {
   "cell_type": "code",
   "execution_count": 1,
   "metadata": {},
   "outputs": [],
   "source": [
    "import os\n",
    "os.chdir('../../..')"
   ]
  },
  {
   "cell_type": "code",
   "execution_count": 2,
   "metadata": {},
   "outputs": [
    {
     "name": "stderr",
     "output_type": "stream",
     "text": [
      "/Library/Frameworks/Python.framework/Versions/3.7/lib/python3.7/site-packages/sklearn/externals/joblib/__init__.py:15: DeprecationWarning: sklearn.externals.joblib is deprecated in 0.21 and will be removed in 0.23. Please import this functionality directly from joblib, which can be installed with: pip install joblib. If this warning is raised when loading pickled models, you may need to re-serialize those models with scikit-learn 0.21+.\n",
      "  warnings.warn(msg, category=DeprecationWarning)\n"
     ]
    }
   ],
   "source": [
    "import convokit"
   ]
  },
  {
   "cell_type": "code",
   "execution_count": 3,
   "metadata": {},
   "outputs": [],
   "source": [
    "from convokit import Corpus, download\n",
    "from convokit import HyperConvo\n",
    "import numpy as np\n",
    "import pickle"
   ]
  },
  {
   "cell_type": "code",
   "execution_count": 4,
   "metadata": {},
   "outputs": [
    {
     "name": "stdout",
     "output_type": "stream",
     "text": [
      "Dataset already exists at /Users/calebchiam/.convokit/downloads/reddit-corpus-small\n"
     ]
    }
   ],
   "source": [
    "corpus = Corpus(filename=download('reddit-corpus-small'))"
   ]
  },
  {
   "cell_type": "markdown",
   "metadata": {},
   "source": [
    "## 1. First, generate the 3-way tensor (hypergraph_features x (time within comment thread) x threads in subreddit)"
   ]
  },
  {
   "cell_type": "markdown",
   "metadata": {},
   "source": [
    "Let's get a sense of how we should normalize the time within threads."
   ]
  },
  {
   "cell_type": "code",
   "execution_count": 5,
   "metadata": {},
   "outputs": [],
   "source": [
    "top_level_comment_ids = [utt.id for utt in corpus.iter_utterances() if utt.id == utt.meta['top_level_comment']]"
   ]
  },
  {
   "cell_type": "code",
   "execution_count": 6,
   "metadata": {},
   "outputs": [],
   "source": [
    "corpus = corpus.reindex_conversations(top_level_comment_ids)"
   ]
  },
  {
   "cell_type": "code",
   "execution_count": 7,
   "metadata": {},
   "outputs": [
    {
     "name": "stdout",
     "output_type": "stream",
     "text": [
      "Number of Users: 116643\n",
      "Number of Utterances: 288846\n",
      "Number of Conversations: 10000\n"
     ]
    }
   ],
   "source": [
    "corpus.print_summary_stats()"
   ]
  },
  {
   "cell_type": "code",
   "execution_count": 9,
   "metadata": {},
   "outputs": [],
   "source": [
    "hc_transformers = [HyperConvo(prefix_len=i, feat_name=\"hyperconvo-{}\".format(i)) for i in range(2, 11)]"
   ]
  },
  {
   "cell_type": "code",
   "execution_count": 10,
   "metadata": {},
   "outputs": [
    {
     "data": {
      "text/plain": [
       "10"
      ]
     },
     "execution_count": 10,
     "metadata": {},
     "output_type": "execute_result"
    }
   ],
   "source": [
    "len(hc_transformers)"
   ]
  },
  {
   "cell_type": "code",
   "execution_count": null,
   "metadata": {},
   "outputs": [],
   "source": [
    "for idx, hc in enumerate(list(reversed(hc_transformers))):\n",
    "    print(10-idx)\n",
    "    hc.transform(corpus)"
   ]
  },
  {
   "cell_type": "markdown",
   "metadata": {},
   "source": [
    "Now we construct the tensor:"
   ]
  },
  {
   "cell_type": "code",
   "execution_count": 76,
   "metadata": {},
   "outputs": [],
   "source": [
    "tensor = np.zeros((9, 10000, 164))"
   ]
  },
  {
   "cell_type": "code",
   "execution_count": 77,
   "metadata": {},
   "outputs": [
    {
     "data": {
      "text/plain": [
       "(9, 10000, 164)"
      ]
     },
     "execution_count": 77,
     "metadata": {},
     "output_type": "execute_result"
    }
   ],
   "source": [
    "tensor.shape"
   ]
  },
  {
   "cell_type": "code",
   "execution_count": 78,
   "metadata": {},
   "outputs": [],
   "source": [
    "for convo_idx, convo in enumerate(corpus.iter_conversations()):\n",
    "    for hyperconvo_idx in range(2, 10+1):\n",
    "        tensor[hyperconvo_idx-2][convo_idx] = list(convo.meta['hyperconvo-{}'.format(hyperconvo_idx)].values())"
   ]
  },
  {
   "cell_type": "code",
   "execution_count": 84,
   "metadata": {},
   "outputs": [],
   "source": [
    "# impute NaN = -1\n",
    "tensor[np.isnan(tensor)] = -1"
   ]
  },
  {
   "cell_type": "markdown",
   "metadata": {},
   "source": [
    "Save the tensor for future use:"
   ]
  },
  {
   "cell_type": "code",
   "execution_count": 90,
   "metadata": {},
   "outputs": [],
   "source": [
    "with open('convokit/tensor/hypergraph_tensor.p', 'wb') as f:\n",
    "    pickle.dump(tensor, f)"
   ]
  },
  {
   "cell_type": "code",
   "execution_count": null,
   "metadata": {},
   "outputs": [],
   "source": []
  },
  {
   "cell_type": "code",
   "execution_count": 92,
   "metadata": {},
   "outputs": [],
   "source": [
    "from tensorly.decomposition import parafac"
   ]
  },
  {
   "cell_type": "code",
   "execution_count": 94,
   "metadata": {},
   "outputs": [],
   "source": [
    "rank = 3\n",
    "factors_tl = parafac(tensor, rank=rank)"
   ]
  },
  {
   "cell_type": "code",
   "execution_count": 98,
   "metadata": {},
   "outputs": [],
   "source": [
    "weights_factors = factors_tl"
   ]
  },
  {
   "cell_type": "code",
   "execution_count": 99,
   "metadata": {},
   "outputs": [],
   "source": [
    "factors = weights_factors[1]"
   ]
  },
  {
   "cell_type": "code",
   "execution_count": 100,
   "metadata": {},
   "outputs": [
    {
     "data": {
      "text/plain": [
       "[array([[  -66.40266874,   221.2209921 ,   -33.25618556],\n",
       "        [ -112.39940896,   456.97747934,   103.78562753],\n",
       "        [ -379.17544745,   565.31842325,   169.16896242],\n",
       "        [ -792.41028346,   663.88399972,   223.14641012],\n",
       "        [-1342.35278634,   762.76973325,   272.0521014 ],\n",
       "        [-2028.34359701,   860.8941223 ,   319.38382641],\n",
       "        [-2825.74506353,   963.28307538,   367.69721017],\n",
       "        [-3722.59722203,  1068.50741587,   417.6908409 ],\n",
       "        [-4704.86557798,  1178.87180617,   470.50573684]]),\n",
       " array([[-0.00367843, -0.01095659, -0.01271528],\n",
       "        [-0.00384389, -0.01285473, -0.01186959],\n",
       "        [-0.00079181, -0.01775238, -0.01374339],\n",
       "        ...,\n",
       "        [-0.0086283 , -0.01188227, -0.01217201],\n",
       "        [ 0.00038416, -0.01615329, -0.01276264],\n",
       "        [-0.000353  , -0.01822856, -0.01159199]]),\n",
       " array([[ 1.73443619e-03, -1.66662650e-01,  1.91967695e-01],\n",
       "        [-2.04671934e-02, -3.95131698e-01,  2.59905677e-01],\n",
       "        [ 1.73443619e-03, -1.66662650e-01,  1.91967695e-01],\n",
       "        [ 5.35649607e-03,  8.61321739e-02, -3.11764582e-01],\n",
       "        [ 2.22392130e-03, -1.23373461e-01,  2.80766418e-01],\n",
       "        [-1.67435234e-03, -1.77757669e-01,  3.36826738e-01],\n",
       "        [-1.62334868e-03, -7.98363987e-02, -4.48215176e-02],\n",
       "        [-6.83999972e-03,  1.41632756e-02, -3.97314812e-01],\n",
       "        [-3.24669736e-03, -1.59672797e-01, -8.96430351e-02],\n",
       "        [-1.35622682e-03, -2.28647066e-01,  2.46651209e-01],\n",
       "        [-1.13386357e-03, -3.65472095e-02,  4.39772058e-02],\n",
       "        [-1.84599648e-03, -1.17903984e-02, -3.17326386e-02],\n",
       "        [ 8.72008904e-04, -9.78136331e-02,  4.85673598e-02],\n",
       "        [ 8.72008904e-04, -9.78136331e-02,  4.85673598e-02],\n",
       "        [ 1.73443619e-03, -1.66662650e-01,  1.91967695e-01],\n",
       "        [-1.03621999e-02, -3.51399118e-01,  4.35715129e-01],\n",
       "        [ 8.72008904e-04, -9.78136331e-02,  4.85673598e-02],\n",
       "        [ 4.98187314e-03, -6.08552947e-02,  4.21526880e-02],\n",
       "        [ 0.00000000e+00,  0.00000000e+00,  0.00000000e+00],\n",
       "        [-5.53583115e-03, -6.14009036e-02,  3.85863705e-02],\n",
       "        [ 1.44704361e-03, -5.53725063e-02, -2.84340723e-01],\n",
       "        [ 1.00552174e-02,  3.64790759e-02, -3.45693083e-01],\n",
       "        [-1.62334868e-03, -7.98363987e-02, -4.48215176e-02],\n",
       "        [ 1.79214937e-03,  6.82891616e-04, -1.37939927e-01],\n",
       "        [ 5.04821030e-02, -1.90338234e-01,  1.73545338e-01],\n",
       "        [-2.04671934e-02, -3.95131698e-01,  2.59905677e-01],\n",
       "        [-8.85097231e-03, -1.19547866e-01,  1.91395774e-02],\n",
       "        [ 5.35649607e-03,  8.61321739e-02, -3.11764582e-01],\n",
       "        [ 8.37634993e-03, -1.30733080e-01,  2.84551191e-01],\n",
       "        [-1.67435234e-03, -1.77757669e-01,  3.36826738e-01],\n",
       "        [ 1.79506730e-02, -1.97509000e-02, -2.28247500e-01],\n",
       "        [-6.83999972e-03,  1.41632756e-02, -3.97314812e-01],\n",
       "        [-1.72632186e-02, -7.77522903e-02, -2.31888720e-01],\n",
       "        [-1.35622682e-03, -2.28647066e-01,  2.46651209e-01],\n",
       "        [-6.16782026e-04, -1.53962896e-02, -2.06543975e-02],\n",
       "        [-1.84599648e-03, -1.17903984e-02, -3.17326386e-02],\n",
       "        [ 3.98178411e-02, -1.59105950e-01,  2.29486524e-01],\n",
       "        [ 8.72008904e-04, -9.78136331e-02,  4.85673598e-02],\n",
       "        [ 4.20205587e-02, -2.22894871e-01,  3.71231477e-01],\n",
       "        [-1.03621999e-02, -3.51399118e-01,  4.35715129e-01],\n",
       "        [ 1.37227013e-03, -1.06459031e-01,  5.81127880e-02],\n",
       "        [ 4.98187314e-03, -6.08552947e-02,  4.21526880e-02],\n",
       "        [ 1.16042052e-02, -4.86299626e-03, -1.21628012e-02],\n",
       "        [-5.53583115e-03, -6.14009036e-02,  3.85863705e-02],\n",
       "        [-1.68706670e-02, -4.47680819e-02, -2.93560373e-01],\n",
       "        [ 1.00552174e-02,  3.64790759e-02, -3.45693083e-01],\n",
       "        [-6.89382945e-03, -5.61469512e-02, -6.86185796e-02],\n",
       "        [ 1.79214937e-03,  6.82891616e-04, -1.37939927e-01],\n",
       "        [ 5.04821030e-02, -1.90338234e-01,  1.73545338e-01],\n",
       "        [ 1.85275288e-02, -3.95496205e-01,  2.47456734e-01],\n",
       "        [-8.85097231e-03, -1.19547866e-01,  1.91395774e-02],\n",
       "        [-1.77103226e-03,  6.78575370e-02, -2.59862969e-01],\n",
       "        [ 8.37634993e-03, -1.30733080e-01,  2.84551191e-01],\n",
       "        [ 3.26117231e-03, -1.79577407e-01,  3.36923241e-01],\n",
       "        [ 1.79506730e-02, -1.97509000e-02, -2.28247500e-01],\n",
       "        [ 9.73011492e-03,  6.49221912e-02, -5.33545481e-01],\n",
       "        [-1.72632186e-02, -7.77522903e-02, -2.31888720e-01],\n",
       "        [-7.25920144e-03, -1.92316301e-01,  1.58779145e-01],\n",
       "        [-6.16782026e-04, -1.53962896e-02, -2.06543975e-02],\n",
       "        [-1.69547478e-03,  7.51371634e-03, -8.87409045e-02],\n",
       "        [ 3.98178411e-02, -1.59105950e-01,  2.29486524e-01],\n",
       "        [ 3.98178411e-02, -1.59105950e-01,  2.29486524e-01],\n",
       "        [ 4.20205587e-02, -2.22894871e-01,  3.71231477e-01],\n",
       "        [ 2.66197508e-02, -3.84646078e-01,  5.40301954e-01],\n",
       "        [ 1.37227013e-03, -1.06459031e-01,  5.81127880e-02],\n",
       "        [ 7.24790842e-03, -7.22154823e-02,  5.91126917e-02],\n",
       "        [ 1.16042052e-02, -4.86299626e-03, -1.21628012e-02],\n",
       "        [ 4.57836175e-03, -5.99011323e-02,  2.84937927e-02],\n",
       "        [-1.68706670e-02, -4.47680819e-02, -2.93560373e-01],\n",
       "        [-5.32350591e-03,  3.56242653e-02, -3.35996565e-01],\n",
       "        [-6.89382945e-03, -5.61469512e-02, -6.86185796e-02],\n",
       "        [-1.95081394e-03,  1.96225643e-02, -1.89315793e-01],\n",
       "        [ 7.56804903e-03,  3.92908364e-04, -1.39836438e-01],\n",
       "        [ 7.45940445e-02,  3.82549588e-02, -2.51941314e-01],\n",
       "        [-8.87550571e-03,  2.12659903e-02, -2.81199772e-01],\n",
       "        [-3.90952422e-02,  2.46272891e-01, -1.30879937e+00],\n",
       "        [ 7.62466472e-03, -6.55072828e-03, -1.25103992e-01],\n",
       "        [ 3.91551376e-01, -3.79673236e-01,  1.22367226e+00],\n",
       "        [-8.70406070e-03, -3.99010438e-02, -1.46030357e-01],\n",
       "        [-5.94717206e-02, -3.98736124e-01, -3.93601312e-01],\n",
       "        [ 1.73443619e-03, -1.66662650e-01,  1.91967695e-01],\n",
       "        [ 5.61310669e-01, -3.89432639e-01, -3.86065172e-01],\n",
       "        [-1.19502121e-03, -2.31136756e-02, -1.74848389e-01],\n",
       "        [-9.77421760e-03,  7.85721145e-02, -6.57469152e-01],\n",
       "        [-9.83245874e-03, -1.55393949e-01, -1.11094485e-02],\n",
       "        [ 6.08548099e-04, -2.71816241e-02, -8.32711742e-02],\n",
       "        [-6.60431139e-03,  8.44211475e-02, -3.07414003e-01],\n",
       "        [-9.08843260e-03,  9.86090817e-02, -3.92658760e-01],\n",
       "        [-2.49768308e-03,  1.17627049e-01, -5.17010676e-01],\n",
       "        [-1.71298165e-03,  1.50974749e-01, -6.19980608e-01],\n",
       "        [-1.18317301e-02,  4.89116561e-03, -6.48951549e-01],\n",
       "        [-9.89173009e-03,  4.58763985e-03, -3.70635752e-01],\n",
       "        [-4.54918838e-03,  1.38335620e-01, -4.12787078e-01],\n",
       "        [-4.08689079e-03,  1.45287091e-01, -4.29068722e-01],\n",
       "        [ 2.76804931e-03,  2.19473155e-02, -1.90249022e-01],\n",
       "        [ 2.76804931e-03,  2.19473155e-02, -1.90249022e-01],\n",
       "        [-4.12447861e-03,  1.20435299e-01, -5.41664472e-01],\n",
       "        [-1.11081325e-02,  1.58744952e-01, -7.52685789e-01],\n",
       "        [ 2.76804931e-03,  2.19473155e-02, -1.90249022e-01],\n",
       "        [ 4.37789844e-03,  4.92809987e-03, -1.08808488e-01],\n",
       "        [-2.92945740e-03,  1.43548974e-01, -3.66816083e-01],\n",
       "        [-6.72932044e-03,  1.63584218e-01, -4.91862924e-01],\n",
       "        [ 5.72474730e-03,  2.36018643e-01, -8.65870873e-01],\n",
       "        [ 1.01648577e-02,  2.04680694e-01, -6.99299927e-01],\n",
       "        [-2.06935561e-03,  1.74349772e-01, -6.47037547e-01],\n",
       "        [ 6.22436491e-04,  1.54412355e-01, -5.21026865e-01],\n",
       "        [ 3.72467659e-02,  1.40046285e-02, -3.01804685e-01],\n",
       "        [-9.77421760e-03,  7.85721145e-02, -6.57469152e-01],\n",
       "        [-1.98240512e-02, -8.67126393e-02, -1.74136165e-01],\n",
       "        [ 6.08548099e-04, -2.71816241e-02, -8.32711742e-02],\n",
       "        [-5.50331006e-04,  8.63660980e-02, -3.23546494e-01],\n",
       "        [-9.08843260e-03,  9.86090817e-02, -3.92658760e-01],\n",
       "        [ 1.17324317e-02,  1.72122161e-01, -6.53719781e-01],\n",
       "        [-1.71298165e-03,  1.50974749e-01, -6.19980608e-01],\n",
       "        [-3.29994234e-02,  7.29958825e-02, -7.13715653e-01],\n",
       "        [-9.89173009e-03,  4.58763985e-03, -3.70635752e-01],\n",
       "        [-4.42124069e-03,  1.57138810e-01, -4.65543490e-01],\n",
       "        [-4.08689079e-03,  1.45287091e-01, -4.29068722e-01],\n",
       "        [ 3.37277958e-02,  1.04806400e-02, -1.30026918e-01],\n",
       "        [ 2.76804931e-03,  2.19473155e-02, -1.90249022e-01],\n",
       "        [ 2.69949264e-02,  1.14076642e-01, -5.01301628e-01],\n",
       "        [-1.11081325e-02,  1.58744952e-01, -7.52685789e-01],\n",
       "        [ 4.39309403e-03,  1.63415887e-02, -1.81770052e-01],\n",
       "        [ 4.37789844e-03,  4.92809987e-03, -1.08808488e-01],\n",
       "        [ 9.13618054e-03,  1.49260537e-01, -3.96165634e-01],\n",
       "        [-6.72932044e-03,  1.63584218e-01, -4.91862924e-01],\n",
       "        [-1.02700101e-02,  2.28112116e-01, -8.37425923e-01],\n",
       "        [ 1.01648577e-02,  2.04680694e-01, -6.99299927e-01],\n",
       "        [-8.61461685e-03,  1.81599751e-01, -6.41503203e-01],\n",
       "        [ 6.22436491e-04,  1.54412355e-01, -5.21026865e-01],\n",
       "        [ 3.72467659e-02,  1.40046285e-02, -3.01804685e-01],\n",
       "        [ 2.22120187e-02,  9.35425034e-02, -6.82270297e-01],\n",
       "        [-1.98240512e-02, -8.67126393e-02, -1.74136165e-01],\n",
       "        [-6.70901196e-03, -2.49642358e-02, -9.12042608e-02],\n",
       "        [-5.50331006e-04,  8.63660980e-02, -3.23546494e-01],\n",
       "        [-4.04987548e-03,  9.88732684e-02, -3.93523264e-01],\n",
       "        [ 1.17324317e-02,  1.72122161e-01, -6.53719781e-01],\n",
       "        [ 1.13127743e-02,  1.92332704e-01, -7.22408232e-01],\n",
       "        [-3.29994234e-02,  7.29958825e-02, -7.13715653e-01],\n",
       "        [-1.51789720e-02,  4.19794524e-02, -4.72105272e-01],\n",
       "        [-4.42124069e-03,  1.57138810e-01, -4.65543490e-01],\n",
       "        [-4.14682327e-03,  1.61004926e-01, -4.75207267e-01],\n",
       "        [ 3.37277958e-02,  1.04806400e-02, -1.30026918e-01],\n",
       "        [ 3.37277958e-02,  1.04806400e-02, -1.30026918e-01],\n",
       "        [ 2.69949264e-02,  1.14076642e-01, -5.01301628e-01],\n",
       "        [ 1.88076517e-02,  1.56614312e-01, -7.14261492e-01],\n",
       "        [ 4.39309403e-03,  1.63415887e-02, -1.81770052e-01],\n",
       "        [ 7.00032264e-03,  7.75490872e-04, -1.07529000e-01],\n",
       "        [ 9.13618054e-03,  1.49260537e-01, -3.96165634e-01],\n",
       "        [ 4.16354431e-03,  1.66265351e-01, -4.96362031e-01],\n",
       "        [-1.02700101e-02,  2.28112116e-01, -8.37425923e-01],\n",
       "        [-3.99909753e-03,  1.99081275e-01, -6.90270377e-01],\n",
       "        [-8.61461685e-03,  1.81599751e-01, -6.41503203e-01],\n",
       "        [-3.89851373e-03,  1.70731545e-01, -5.66951781e-01],\n",
       "        [ 1.07768497e-02,  2.85181353e-02, -1.60262441e-01],\n",
       "        [ 6.19053253e-02,  7.53524897e-02, -2.46041313e-01],\n",
       "        [-5.20671590e-03,  6.49183162e-02, -3.06113554e-01],\n",
       "        [-1.30796277e-02,  1.68256824e-01, -7.05547505e-01],\n",
       "        [ 1.10630495e-02,  2.33575980e-02, -1.49770807e-01],\n",
       "        [ 2.70015995e-01,  3.06783839e-02,  1.52799009e-01],\n",
       "        [-4.91086422e-03,  6.49237624e-02, -3.22887718e-01],\n",
       "        [-1.30362490e-02,  2.86894128e-01, -1.19636164e+00],\n",
       "        [-1.19502121e-03, -2.31136756e-02, -1.74848389e-01],\n",
       "        [ 3.79944717e-01,  5.43988354e-01, -2.07139174e+00]])]"
      ]
     },
     "execution_count": 100,
     "metadata": {},
     "output_type": "execute_result"
    }
   ],
   "source": [
    "factors"
   ]
  },
  {
   "cell_type": "code",
   "execution_count": 101,
   "metadata": {},
   "outputs": [],
   "source": []
  },
  {
   "cell_type": "code",
   "execution_count": 105,
   "metadata": {},
   "outputs": [],
   "source": [
    "os.chdir('convokit/tensors')"
   ]
  },
  {
   "cell_type": "code",
   "execution_count": 111,
   "metadata": {},
   "outputs": [],
   "source": [
    "from utils import *"
   ]
  },
  {
   "cell_type": "code",
   "execution_count": 112,
   "metadata": {},
   "outputs": [],
   "source": [
    "import utils"
   ]
  },
  {
   "cell_type": "code",
   "execution_count": 113,
   "metadata": {},
   "outputs": [
    {
     "data": {
      "text/plain": [
       "<module 'utils' from '/Library/Frameworks/Python.framework/Versions/3.7/lib/python3.7/site-packages/utils/__init__.py'>"
      ]
     },
     "execution_count": 113,
     "metadata": {},
     "output_type": "execute_result"
    }
   ],
   "source": [
    "utils"
   ]
  },
  {
   "cell_type": "code",
   "execution_count": 114,
   "metadata": {},
   "outputs": [
    {
     "data": {
      "text/plain": [
       "['demo', '__init__.py', '__pycache__', 'utils.py', 'data']"
      ]
     },
     "execution_count": 114,
     "metadata": {},
     "output_type": "execute_result"
    }
   ],
   "source": [
    "os.listdir()"
   ]
  },
  {
   "cell_type": "code",
   "execution_count": null,
   "metadata": {},
   "outputs": [],
   "source": []
  },
  {
   "cell_type": "code",
   "execution_count": 109,
   "metadata": {},
   "outputs": [
    {
     "ename": "NameError",
     "evalue": "name 'plot_factors' is not defined",
     "output_type": "error",
     "traceback": [
      "\u001b[0;31m---------------------------------------------------------------------------\u001b[0m",
      "\u001b[0;31mNameError\u001b[0m                                 Traceback (most recent call last)",
      "\u001b[0;32m<ipython-input-109-5284670d7ab4>\u001b[0m in \u001b[0;36m<module>\u001b[0;34m\u001b[0m\n\u001b[0;32m----> 1\u001b[0;31m \u001b[0mplot_factors\u001b[0m\u001b[0;34m(\u001b[0m\u001b[0mfactors\u001b[0m\u001b[0;34m)\u001b[0m\u001b[0;34m\u001b[0m\u001b[0;34m\u001b[0m\u001b[0m\n\u001b[0m",
      "\u001b[0;31mNameError\u001b[0m: name 'plot_factors' is not defined"
     ]
    }
   ],
   "source": [
    "plot_afactors(factors)"
   ]
  },
  {
   "cell_type": "code",
   "execution_count": null,
   "metadata": {},
   "outputs": [],
   "source": []
  }
 ],
 "metadata": {
  "kernelspec": {
   "display_name": "Python 3",
   "language": "python",
   "name": "python3"
  },
  "language_info": {
   "codemirror_mode": {
    "name": "ipython",
    "version": 3
   },
   "file_extension": ".py",
   "mimetype": "text/x-python",
   "name": "python",
   "nbconvert_exporter": "python",
   "pygments_lexer": "ipython3",
   "version": "3.7.3"
  }
 },
 "nbformat": 4,
 "nbformat_minor": 2
}
