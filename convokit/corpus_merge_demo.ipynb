{
 "cells": [
  {
   "cell_type": "code",
   "execution_count": 1,
   "metadata": {},
   "outputs": [],
   "source": [
    "from model import Corpus, Utterance, User\n"
   ]
  },
  {
   "cell_type": "code",
   "execution_count": 2,
   "metadata": {},
   "outputs": [],
   "source": [
    "def stat_summary(corpus: Corpus) -> None:\n",
    "    print(\"Number of conversations:\", len(list(corpus.iter_conversations())))\n",
    "    print(\"Number of utterances:\", len(list(corpus.iter_utterances())))\n",
    "    print(\"Number of users:\", len(list(corpus.iter_users())))"
   ]
  },
  {
   "cell_type": "markdown",
   "metadata": {},
   "source": [
    "## Merging two corpora"
   ]
  },
  {
   "cell_type": "markdown",
   "metadata": {},
   "source": [
    "Let's take a look at the characteristics of our input corpora before the merge. Apart from the summary statistics, notice that User 'foxtrot' appears in both corpora. Moreover, it has User metadata that is inconsistent.\n",
    "\n",
    "The root field in each Utterance indicates where a new Conversation begins. In this case, while there are 2 conversations in each corpus, 1 conversation (with root 2) is featured in both corpuses, so there are only 3 conversations in total."
   ]
  },
  {
   "cell_type": "markdown",
   "metadata": {},
   "source": [
    "### Corpus 1"
   ]
  },
  {
   "cell_type": "code",
   "execution_count": 3,
   "metadata": {},
   "outputs": [],
   "source": [
    "corpus1 = Corpus(utterances = [\n",
    "            Utterance(id=0, root=0, text=\"hello world\", user=User(name=\"alice\")),\n",
    "            Utterance(id=1, root=0, reply_to=0, text=\"my name is bob\", user=User(name=\"bob\")),\n",
    "            Utterance(id=2, root=2, text=\"this is a sentence\", user=User(name=\"foxtrot\", meta={\"yellow\": \"food\"})),\n",
    "        ])"
   ]
  },
  {
   "cell_type": "code",
   "execution_count": 4,
   "metadata": {},
   "outputs": [
    {
     "name": "stdout",
     "output_type": "stream",
     "text": [
      "Number of conversations: 2\n",
      "Number of utterances: 3\n",
      "Number of users: 3\n"
     ]
    }
   ],
   "source": [
    "stat_summary(corpus1)"
   ]
  },
  {
   "cell_type": "markdown",
   "metadata": {},
   "source": [
    "### Corpus 2"
   ]
  },
  {
   "cell_type": "code",
   "execution_count": 5,
   "metadata": {},
   "outputs": [],
   "source": [
    "corpus2 = Corpus(utterances = [\n",
    "            Utterance(id=3, root=3, text=\"i like pie\", user=User(name=\"charlie\", meta={\"what\": \"a mood\", \"hey\": \"food\"})),\n",
    "            Utterance(id=4, root=3, reply_to=3, text=\"sentence galore\", user=User(name=\"echo\")),\n",
    "            Utterance(id=2, root=2, text=\"this is a sentence\", user=User(name=\"foxtrot\", meta={\"yellow\": \"mood\", \"hello\": \"world\"})),\n",
    "        ])"
   ]
  },
  {
   "cell_type": "code",
   "execution_count": 6,
   "metadata": {},
   "outputs": [
    {
     "name": "stdout",
     "output_type": "stream",
     "text": [
      "Number of conversations: 2\n",
      "Number of utterances: 3\n",
      "Number of users: 3\n"
     ]
    }
   ],
   "source": [
    "stat_summary(corpus2)"
   ]
  },
  {
   "cell_type": "markdown",
   "metadata": {},
   "source": [
    "Let's attempt a merge:"
   ]
  },
  {
   "cell_type": "code",
   "execution_count": 7,
   "metadata": {},
   "outputs": [
    {
     "name": "stdout",
     "output_type": "stream",
     "text": [
      "\u001b[91mWARNING: \u001b[0mMultiple values found for User([('name', 'foxtrot')]) for meta key: yellow. Overwriting with other corpus's user metadata\n"
     ]
    }
   ],
   "source": [
    "corpus3 = corpus1.merge(corpus2)"
   ]
  },
  {
   "cell_type": "code",
   "execution_count": 8,
   "metadata": {},
   "outputs": [
    {
     "name": "stdout",
     "output_type": "stream",
     "text": [
      "Number of conversations: 3\n",
      "Number of utterances: 5\n",
      "Number of users: 5\n"
     ]
    }
   ],
   "source": [
    "stat_summary(corpus3)"
   ]
  },
  {
   "cell_type": "markdown",
   "metadata": {},
   "source": [
    "### Merging user metadata"
   ]
  },
  {
   "cell_type": "markdown",
   "metadata": {},
   "source": [
    "Notice that because User 'foxtrot' had conflicting metadata, the latest utterance (i.e. the utterance in corpus2) had its User metadata for 'foxtrot' take precedence. We verify this below. Note too that the other metadata key-value pair ('hello': 'world') has been added to the metadata as well."
   ]
  },
  {
   "cell_type": "code",
   "execution_count": 9,
   "metadata": {},
   "outputs": [
    {
     "data": {
      "text/plain": [
       "{'yellow': 'mood', 'hello': 'world'}"
      ]
     },
     "execution_count": 9,
     "metadata": {},
     "output_type": "execute_result"
    }
   ],
   "source": [
    "corpus3.get_user('foxtrot').meta"
   ]
  },
  {
   "cell_type": "markdown",
   "metadata": {},
   "source": [
    "Users were not initialized with their list of corresponding utterances / conversations. Corpus has a method for updating these User lists."
   ]
  },
  {
   "cell_type": "code",
   "execution_count": 10,
   "metadata": {},
   "outputs": [
    {
     "name": "stdout",
     "output_type": "stream",
     "text": [
      "[User([('name', 'bob')]), User([('name', 'echo')]), User([('name', 'foxtrot')]), User([('name', 'charlie')]), User([('name', 'alice')])]\n",
      "Number of utterances for User echo: 0\n",
      "Number of conversations for User echo: 0\n"
     ]
    }
   ],
   "source": [
    "print(list(corpus3.iter_users()))\n",
    "user_echo = corpus3.get_user('echo')\n",
    "print(\"Number of utterances for User echo:\", len(list(user_echo.iter_utterances())))\n",
    "print(\"Number of conversations for User echo:\", len(list(user_echo.iter_conversations())))"
   ]
  },
  {
   "cell_type": "code",
   "execution_count": 11,
   "metadata": {},
   "outputs": [],
   "source": [
    "corpus3.update_users_data()"
   ]
  },
  {
   "cell_type": "code",
   "execution_count": 12,
   "metadata": {},
   "outputs": [
    {
     "name": "stdout",
     "output_type": "stream",
     "text": [
      "Number of utterances for User echo: 1\n",
      "Number of conversations for User echo: 1\n"
     ]
    }
   ],
   "source": [
    "print(\"Number of utterances for User echo:\", len(list(user_echo.iter_utterances())))\n",
    "print(\"Number of conversations for User echo:\", len(list(user_echo.iter_conversations())))"
   ]
  },
  {
   "cell_type": "markdown",
   "metadata": {},
   "source": [
    "### Merging Utterance and Corpus metadata "
   ]
  },
  {
   "cell_type": "markdown",
   "metadata": {},
   "source": [
    "We quickly demonstrate the Utterance and Corpus metadata merging functionality. This is all handled in the merge() function as well, we just make its effects explicit here. In addition, we encode the corpora with problematic data/metadata so that the warning functionality is explicit.\n",
    "\n",
    "(Note that if Utterances have the same id but different data, the Utterance from the other Corpus is ignored and a warning is printed, though the User metadata is still kept.)"
   ]
  },
  {
   "cell_type": "markdown",
   "metadata": {},
   "source": [
    "### Corpus 4"
   ]
  },
  {
   "cell_type": "code",
   "execution_count": 13,
   "metadata": {},
   "outputs": [],
   "source": [
    "corpus4 = Corpus(utterances = [\n",
    "            Utterance(id=0, root=0, text=\"hello world\", user=User(name=\"alice\"), meta={'in': 'wonderland'}),\n",
    "            Utterance(id=1, root=0, reply_to=0, text=\"my name is bob\", user=User(name=\"bob\"), meta={'fu': 'bu'})\n",
    "        ])\n",
    "corpus4.add_meta('AB', 1)\n",
    "corpus4.add_meta('CD', 2)\n"
   ]
  },
  {
   "cell_type": "code",
   "execution_count": 14,
   "metadata": {},
   "outputs": [
    {
     "name": "stdout",
     "output_type": "stream",
     "text": [
      "Number of conversations: 1\n",
      "Number of utterances: 2\n",
      "Number of users: 2\n"
     ]
    }
   ],
   "source": [
    "stat_summary(corpus4)"
   ]
  },
  {
   "cell_type": "markdown",
   "metadata": {},
   "source": [
    "### Corpus 5"
   ]
  },
  {
   "cell_type": "code",
   "execution_count": 15,
   "metadata": {},
   "outputs": [],
   "source": [
    "corpus5 = Corpus(utterances = [\n",
    "            Utterance(id=0, root=0, text=\"hello world\", user=User(name=\"alice\"), meta={'in': 'the hat'}),\n",
    "            Utterance(id=1, root=0, reply_to=0, text=\"my name is bobbb\", user=User(name=\"bob\"), meta={'barrel': 'roll'})\n",
    "        ])\n",
    "corpus5.add_meta('AB', 3)\n",
    "corpus5.add_meta('EF', 3)"
   ]
  },
  {
   "cell_type": "code",
   "execution_count": 16,
   "metadata": {},
   "outputs": [
    {
     "name": "stdout",
     "output_type": "stream",
     "text": [
      "Number of conversations: 1\n",
      "Number of utterances: 2\n",
      "Number of users: 2\n"
     ]
    }
   ],
   "source": [
    "stat_summary(corpus5)"
   ]
  },
  {
   "cell_type": "code",
   "execution_count": 17,
   "metadata": {},
   "outputs": [
    {
     "name": "stdout",
     "output_type": "stream",
     "text": [
      "\u001b[91mWARNING: \u001b[0mFound conflicting values for Utterance 0 for metadata key: in. Overwriting with other corpus's Utterance metadata.\n",
      "\u001b[91mWARNING: \u001b[0mUtterances with same id do not share the same data:\n",
      "Utterance({'id': 1, 'user': User([('name', 'bob')]), 'root': 0, 'reply_to': 0, 'timestamp': None, 'text': 'my name is bob', 'meta': {'fu': 'bu'}})\n",
      "Utterance({'id': 1, 'user': User([('name', 'bob')]), 'root': 0, 'reply_to': 0, 'timestamp': None, 'text': 'my name is bobbb', 'meta': {'barrel': 'roll'}})\n",
      "Ignoring second corpus's utterance.\n",
      "\u001b[91mWARNING: \u001b[0mFound conflicting values for corpus metadata: AB. Overwriting with other corpus's metadata.\n"
     ]
    }
   ],
   "source": [
    "corpus6 = corpus4.merge(corpus5)"
   ]
  },
  {
   "cell_type": "code",
   "execution_count": 18,
   "metadata": {},
   "outputs": [
    {
     "name": "stdout",
     "output_type": "stream",
     "text": [
      "Number of conversations: 1\n",
      "Number of utterances: 2\n",
      "Number of users: 2\n"
     ]
    }
   ],
   "source": [
    "stat_summary(corpus6)"
   ]
  },
  {
   "cell_type": "code",
   "execution_count": 19,
   "metadata": {},
   "outputs": [
    {
     "data": {
      "text/plain": [
       "{'AB': 3, 'CD': 2, 'EF': 3}"
      ]
     },
     "execution_count": 19,
     "metadata": {},
     "output_type": "execute_result"
    }
   ],
   "source": [
    "corpus6.meta"
   ]
  },
  {
   "cell_type": "code",
   "execution_count": 20,
   "metadata": {},
   "outputs": [
    {
     "data": {
      "text/plain": [
       "Utterance({'id': 1, 'user': User([('name', 'bob')]), 'root': 0, 'reply_to': 0, 'timestamp': None, 'text': 'my name is bob', 'meta': {'fu': 'bu'}})"
      ]
     },
     "execution_count": 20,
     "metadata": {},
     "output_type": "execute_result"
    }
   ],
   "source": [
    "corpus6.get_utterance(1)"
   ]
  },
  {
   "cell_type": "code",
   "execution_count": 21,
   "metadata": {},
   "outputs": [
    {
     "data": {
      "text/plain": [
       "Utterance({'id': 0, 'user': User([('name', 'alice')]), 'root': 0, 'reply_to': None, 'timestamp': None, 'text': 'hello world', 'meta': {'in': 'the hat'}})"
      ]
     },
     "execution_count": 21,
     "metadata": {},
     "output_type": "execute_result"
    }
   ],
   "source": [
    "corpus6.get_utterance(0)"
   ]
  },
  {
   "cell_type": "markdown",
   "metadata": {},
   "source": [
    "For the most part however, as long as the data is well behaved (e.g. User/Utterance/Conversation/Corpus do not have different values for the same key in the metadata, Utterances with the same id have the same data) one should expect to see no warnings when using merge()."
   ]
  },
  {
   "cell_type": "code",
   "execution_count": null,
   "metadata": {},
   "outputs": [],
   "source": []
  }
 ],
 "metadata": {
  "kernelspec": {
   "display_name": "Python 3",
   "language": "python",
   "name": "python3"
  },
  "language_info": {
   "codemirror_mode": {
    "name": "ipython",
    "version": 3
   },
   "file_extension": ".py",
   "mimetype": "text/x-python",
   "name": "python",
   "nbconvert_exporter": "python",
   "pygments_lexer": "ipython3",
   "version": "3.7.3"
  }
 },
 "nbformat": 4,
 "nbformat_minor": 2
}
