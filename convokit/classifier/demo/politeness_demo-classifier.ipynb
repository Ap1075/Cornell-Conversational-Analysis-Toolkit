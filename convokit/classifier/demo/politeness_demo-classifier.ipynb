{
 "cells": [
  {
   "cell_type": "markdown",
   "metadata": {},
   "source": [
    "### Politeness prediction with ConvoKit"
   ]
  },
  {
   "cell_type": "markdown",
   "metadata": {},
   "source": [
    "This notebook demonstrates how to train a simple classifier to predict the politeness level of a request by considering the politeness strategies used, as seen in the paper [A computational approach to politeness with application to social factors](https://www.cs.cornell.edu/~cristian/Politeness.html), using ConvoKit. Note that this notebook is *not* intended to reproduce the paper results: legacy code for reproducibility is available at this [repository](https://github.com/sudhof/politeness). "
   ]
  },
  {
   "cell_type": "code",
   "execution_count": 1,
   "metadata": {},
   "outputs": [],
   "source": [
    "import pandas as pd\n",
    "import numpy as np\n",
    "from tqdm import tqdm"
   ]
  },
  {
   "cell_type": "code",
   "execution_count": 2,
   "metadata": {},
   "outputs": [],
   "source": [
    "import os"
   ]
  },
  {
   "cell_type": "code",
   "execution_count": 3,
   "metadata": {},
   "outputs": [],
   "source": [
    "os.chdir('../../..')"
   ]
  },
  {
   "cell_type": "code",
   "execution_count": 4,
   "metadata": {},
   "outputs": [
    {
     "name": "stderr",
     "output_type": "stream",
     "text": [
      "/Library/Frameworks/Python.framework/Versions/3.7/lib/python3.7/site-packages/sklearn/externals/joblib/__init__.py:15: DeprecationWarning: sklearn.externals.joblib is deprecated in 0.21 and will be removed in 0.23. Please import this functionality directly from joblib, which can be installed with: pip install joblib. If this warning is raised when loading pickled models, you may need to re-serialize those models with scikit-learn 0.21+.\n",
      "  warnings.warn(msg, category=DeprecationWarning)\n"
     ]
    }
   ],
   "source": [
    "import convokit\n",
    "from convokit import Corpus, User, Utterance"
   ]
  },
  {
   "cell_type": "code",
   "execution_count": 5,
   "metadata": {},
   "outputs": [],
   "source": [
    "from pandas import DataFrame\n",
    "from typing import List, Dict, Set"
   ]
  },
  {
   "cell_type": "markdown",
   "metadata": {},
   "source": [
    "#### 1: load annotated dataset\n",
    "\n",
    "We will be using the wikipedia annotations from the [Stanford Politeness Corpus](https://www.cs.cornell.edu/~cristian/Politeness.html). \n",
    "\n",
    "Code below demonstrates how to convert the original CSV file into the corpus format expected by ConvoKit, but this resultant corpus can also be directly downloaded using the helper function `download(\"wiki-politeness-annotated\")`. "
   ]
  },
  {
   "cell_type": "markdown",
   "metadata": {},
   "source": [
    "#### 2: annotate the corpus with politeness strategies"
   ]
  },
  {
   "cell_type": "markdown",
   "metadata": {},
   "source": [
    "To get politeness strategies for each utterance, we will first obtain dependency parses for the utterances, and then check for strategy use. "
   ]
  },
  {
   "cell_type": "code",
   "execution_count": 6,
   "metadata": {},
   "outputs": [],
   "source": [
    "from convokit import TextParser, PolitenessStrategies"
   ]
  },
  {
   "cell_type": "markdown",
   "metadata": {},
   "source": [
    "- adding dependency parses"
   ]
  },
  {
   "cell_type": "code",
   "execution_count": 7,
   "metadata": {},
   "outputs": [
    {
     "name": "stdout",
     "output_type": "stream",
     "text": [
      "Dataset already exists at /Users/calebchiam/.convokit/downloads/wiki-politeness-annotated\n"
     ]
    }
   ],
   "source": [
    "wiki_corpus = Corpus(convokit.download(\"wiki-politeness-annotated\"))"
   ]
  },
  {
   "cell_type": "code",
   "execution_count": 8,
   "metadata": {},
   "outputs": [],
   "source": [
    "annotator = TextParser()\n",
    "wiki_corpus = annotator.fit_transform(wiki_corpus)"
   ]
  },
  {
   "cell_type": "markdown",
   "metadata": {},
   "source": [
    "- adding strategy information"
   ]
  },
  {
   "cell_type": "code",
   "execution_count": 9,
   "metadata": {},
   "outputs": [],
   "source": [
    "ps = PolitenessStrategies()\n",
    "wiki_corpus = ps.transform(wiki_corpus)"
   ]
  },
  {
   "cell_type": "markdown",
   "metadata": {},
   "source": [
    "Below is an example of how a processed utterance now look. Dependency parses are stored in `parsed`, and politeness strategies are in `politeness_strategies`"
   ]
  },
  {
   "cell_type": "code",
   "execution_count": 10,
   "metadata": {},
   "outputs": [
    {
     "data": {
      "text/plain": [
       "Utterance({'id': 629705, 'user': User([('name', 'wiki_user')]), 'root': 629705, 'reply_to': None, 'timestamp': 'NOT_RECORDED', 'text': \"Where did you learn English? How come you're taking on a third language?\", 'meta': {'Normalized Score': -1.1200492637766977, 'Binary': -1, 'Annotations': {'A2UFD1I8ZO1V4G': 13, 'A2YFPO0N4GIS25': 9, 'AYG3MF094634L': 11, 'A38WUWONC7EXTO': 11, 'A15DM9BMKZZJQ6': 5}, 'parsed': [{'rt': 3, 'toks': [{'tok': 'Where', 'tag': 'WRB', 'dep': 'advmod', 'up': 3, 'dn': []}, {'tok': 'did', 'tag': 'VBD', 'dep': 'aux', 'up': 3, 'dn': []}, {'tok': 'you', 'tag': 'PRP', 'dep': 'nsubj', 'up': 3, 'dn': []}, {'tok': 'learn', 'tag': 'VB', 'dep': 'ROOT', 'dn': [0, 1, 2, 4, 5]}, {'tok': 'English', 'tag': 'NNP', 'dep': 'dobj', 'up': 3, 'dn': []}, {'tok': '?', 'tag': '.', 'dep': 'punct', 'up': 3, 'dn': []}]}, {'rt': 4, 'toks': [{'tok': 'How', 'tag': 'WRB', 'dep': 'advmod', 'up': 4, 'dn': []}, {'tok': 'come', 'tag': 'VB', 'dep': 'aux', 'up': 4, 'dn': []}, {'tok': 'you', 'tag': 'PRP', 'dep': 'nsubj', 'up': 4, 'dn': []}, {'tok': \"'re\", 'tag': 'VBP', 'dep': 'aux', 'up': 4, 'dn': []}, {'tok': 'taking', 'tag': 'VBG', 'dep': 'ROOT', 'dn': [0, 1, 2, 3, 5, 8, 9]}, {'tok': 'on', 'tag': 'RP', 'dep': 'prt', 'up': 4, 'dn': []}, {'tok': 'a', 'tag': 'DT', 'dep': 'det', 'up': 8, 'dn': []}, {'tok': 'third', 'tag': 'JJ', 'dep': 'amod', 'up': 8, 'dn': []}, {'tok': 'language', 'tag': 'NN', 'dep': 'dobj', 'up': 4, 'dn': [6, 7]}, {'tok': '?', 'tag': '.', 'dep': 'punct', 'up': 4, 'dn': []}]}], 'politeness_strategies': {'feature_politeness_==Please==': 0, 'feature_politeness_==Please_start==': 0, 'feature_politeness_==Indirect_(btw)==': 0, 'feature_politeness_==Hedges==': 0, 'feature_politeness_==Factuality==': 0, 'feature_politeness_==Deference==': 0, 'feature_politeness_==Gratitude==': 0, 'feature_politeness_==Apologizing==': 0, 'feature_politeness_==1st_person_pl.==': 0, 'feature_politeness_==1st_person==': 0, 'feature_politeness_==1st_person_start==': 0, 'feature_politeness_==2nd_person==': 1, 'feature_politeness_==2nd_person_start==': 0, 'feature_politeness_==Indirect_(greeting)==': 0, 'feature_politeness_==Direct_question==': 1, 'feature_politeness_==Direct_start==': 0, 'feature_politeness_==SUBJUNCTIVE==': 0, 'feature_politeness_==INDICATIVE==': 0, 'feature_politeness_==HASHEDGE==': 0, 'feature_politeness_==HASPOSITIVE==': 0, 'feature_politeness_==HASNEGATIVE==': 0}}})"
      ]
     },
     "execution_count": 10,
     "metadata": {},
     "output_type": "execute_result"
    }
   ],
   "source": [
    "wiki_corpus.get_utterance(629705)"
   ]
  },
  {
   "cell_type": "code",
   "execution_count": null,
   "metadata": {},
   "outputs": [],
   "source": []
  },
  {
   "cell_type": "markdown",
   "metadata": {},
   "source": [
    "You may want to save the corpus by doing `wiki_corpus.dump(\"wiki-politeness-annotated\")` for further exploration. Note that if you do not specify a base path, data will be saved to `.convokit/saved-corpora` in your home directory by default. "
   ]
  },
  {
   "cell_type": "code",
   "execution_count": 11,
   "metadata": {},
   "outputs": [],
   "source": [
    "from convokit import Classifier"
   ]
  },
  {
   "cell_type": "markdown",
   "metadata": {},
   "source": [
    "#### 3. predict politeness \n",
    "\n",
    "We will see how a simple classifier considering the use of politeness strategies perform. Note that this is only for demonstration, and not geared towards achieving best performance. \n",
    "\n",
    "(Most of the code below are adapted from [here](https://github.com/sudhof/politeness/blob/master/scripts/train_model.py))"
   ]
  },
  {
   "cell_type": "code",
   "execution_count": 12,
   "metadata": {},
   "outputs": [],
   "source": [
    "import random\n",
    "from sklearn import svm\n",
    "from scipy.sparse import csr_matrix\n",
    "from sklearn.metrics import classification_report"
   ]
  },
  {
   "cell_type": "markdown",
   "metadata": {},
   "source": [
    "For this prediction task, we will only consider the polite vs. impolite group (i.e., those with \"Binary\" field being either +1 or -1)"
   ]
  },
  {
   "cell_type": "code",
   "execution_count": 13,
   "metadata": {},
   "outputs": [],
   "source": [
    "binary_corpus = Corpus(utterances=[utt for utt in wiki_corpus.iter_utterances() if utt.meta[\"Binary\"] != 0])"
   ]
  },
  {
   "cell_type": "code",
   "execution_count": 14,
   "metadata": {},
   "outputs": [],
   "source": [
    "classifier = Classifier(obj_type=\"utterance\", \n",
    "                        pred_feats=[\"politeness_strategies\"], \n",
    "                        labeller=lambda utt: utt.meta['Binary'] == 1)"
   ]
  },
  {
   "cell_type": "code",
   "execution_count": 15,
   "metadata": {},
   "outputs": [
    {
     "data": {
      "text/plain": [
       "<convokit.classifier.classifier.Classifier at 0x14d068748>"
      ]
     },
     "execution_count": 15,
     "metadata": {},
     "output_type": "execute_result"
    }
   ],
   "source": [
    "classifier.fit(binary_corpus)"
   ]
  },
  {
   "cell_type": "markdown",
   "metadata": {},
   "source": [
    "We can then use this classifier to predict politeness labels for Utterances. As an example, we will use some test utterances, but you can also consider use this classifier to predict on new utterances. "
   ]
  },
  {
   "cell_type": "code",
   "execution_count": 16,
   "metadata": {},
   "outputs": [],
   "source": [
    "test_ids = [485293, 252109, 623560, 328144, 627508]"
   ]
  },
  {
   "cell_type": "markdown",
   "metadata": {},
   "source": [
    "- predicting for test utterances"
   ]
  },
  {
   "cell_type": "markdown",
   "metadata": {},
   "source": [
    "- to check predicted politeness label"
   ]
  },
  {
   "cell_type": "code",
   "execution_count": 30,
   "metadata": {},
   "outputs": [],
   "source": [
    "test_utts = [binary_corpus.get_utterance(oid) for oid in test_ids]"
   ]
  },
  {
   "cell_type": "code",
   "execution_count": 35,
   "metadata": {},
   "outputs": [],
   "source": [
    "objs = classifier.transform_objs(objs=test_utts)"
   ]
  },
  {
   "cell_type": "code",
   "execution_count": 36,
   "metadata": {},
   "outputs": [
    {
     "data": {
      "text/html": [
       "<div>\n",
       "<style scoped>\n",
       "    .dataframe tbody tr th:only-of-type {\n",
       "        vertical-align: middle;\n",
       "    }\n",
       "\n",
       "    .dataframe tbody tr th {\n",
       "        vertical-align: top;\n",
       "    }\n",
       "\n",
       "    .dataframe thead th {\n",
       "        text-align: right;\n",
       "    }\n",
       "</style>\n",
       "<table border=\"1\" class=\"dataframe\">\n",
       "  <thead>\n",
       "    <tr style=\"text-align: right;\">\n",
       "      <th></th>\n",
       "      <th>prediction</th>\n",
       "      <th>score</th>\n",
       "    </tr>\n",
       "    <tr>\n",
       "      <th>id</th>\n",
       "      <th></th>\n",
       "      <th></th>\n",
       "    </tr>\n",
       "  </thead>\n",
       "  <tbody>\n",
       "    <tr>\n",
       "      <th>485293</th>\n",
       "      <td>0</td>\n",
       "      <td>0.175010</td>\n",
       "    </tr>\n",
       "    <tr>\n",
       "      <th>252109</th>\n",
       "      <td>0</td>\n",
       "      <td>0.245648</td>\n",
       "    </tr>\n",
       "    <tr>\n",
       "      <th>623560</th>\n",
       "      <td>1</td>\n",
       "      <td>0.587791</td>\n",
       "    </tr>\n",
       "    <tr>\n",
       "      <th>328144</th>\n",
       "      <td>0</td>\n",
       "      <td>0.474318</td>\n",
       "    </tr>\n",
       "    <tr>\n",
       "      <th>627508</th>\n",
       "      <td>1</td>\n",
       "      <td>0.666071</td>\n",
       "    </tr>\n",
       "  </tbody>\n",
       "</table>\n",
       "</div>"
      ],
      "text/plain": [
       "        prediction     score\n",
       "id                          \n",
       "485293           0  0.175010\n",
       "252109           0  0.245648\n",
       "623560           1  0.587791\n",
       "328144           0  0.474318\n",
       "627508           1  0.666071"
      ]
     },
     "execution_count": 36,
     "metadata": {},
     "output_type": "execute_result"
    }
   ],
   "source": [
    "classifier.summarize(objs=objs)"
   ]
  },
  {
   "cell_type": "code",
   "execution_count": 33,
   "metadata": {},
   "outputs": [
    {
     "data": {
      "text/plain": [
       "<convokit.model.corpus.Corpus at 0x14d7887b8>"
      ]
     },
     "execution_count": 33,
     "metadata": {},
     "output_type": "execute_result"
    }
   ],
   "source": [
    "classifier.transform(binary_corpus)"
   ]
  },
  {
   "cell_type": "code",
   "execution_count": 37,
   "metadata": {},
   "outputs": [],
   "source": [
    "results = classifier.summarize(binary_corpus)"
   ]
  },
  {
   "cell_type": "code",
   "execution_count": 38,
   "metadata": {},
   "outputs": [
    {
     "data": {
      "text/html": [
       "<div>\n",
       "<style scoped>\n",
       "    .dataframe tbody tr th:only-of-type {\n",
       "        vertical-align: middle;\n",
       "    }\n",
       "\n",
       "    .dataframe tbody tr th {\n",
       "        vertical-align: top;\n",
       "    }\n",
       "\n",
       "    .dataframe thead th {\n",
       "        text-align: right;\n",
       "    }\n",
       "</style>\n",
       "<table border=\"1\" class=\"dataframe\">\n",
       "  <thead>\n",
       "    <tr style=\"text-align: right;\">\n",
       "      <th></th>\n",
       "      <th>prediction</th>\n",
       "      <th>score</th>\n",
       "    </tr>\n",
       "    <tr>\n",
       "      <th>id</th>\n",
       "      <th></th>\n",
       "      <th></th>\n",
       "    </tr>\n",
       "  </thead>\n",
       "  <tbody>\n",
       "    <tr>\n",
       "      <th>629705</th>\n",
       "      <td>0</td>\n",
       "      <td>0.142673</td>\n",
       "    </tr>\n",
       "    <tr>\n",
       "      <th>244336</th>\n",
       "      <td>1</td>\n",
       "      <td>0.944640</td>\n",
       "    </tr>\n",
       "    <tr>\n",
       "      <th>214411</th>\n",
       "      <td>1</td>\n",
       "      <td>0.878757</td>\n",
       "    </tr>\n",
       "    <tr>\n",
       "      <th>177439</th>\n",
       "      <td>0</td>\n",
       "      <td>0.417758</td>\n",
       "    </tr>\n",
       "    <tr>\n",
       "      <th>341534</th>\n",
       "      <td>1</td>\n",
       "      <td>0.676997</td>\n",
       "    </tr>\n",
       "    <tr>\n",
       "      <th>567951</th>\n",
       "      <td>0</td>\n",
       "      <td>0.232658</td>\n",
       "    </tr>\n",
       "    <tr>\n",
       "      <th>590458</th>\n",
       "      <td>0</td>\n",
       "      <td>0.436261</td>\n",
       "    </tr>\n",
       "    <tr>\n",
       "      <th>623634</th>\n",
       "      <td>0</td>\n",
       "      <td>0.333028</td>\n",
       "    </tr>\n",
       "    <tr>\n",
       "      <th>543807</th>\n",
       "      <td>0</td>\n",
       "      <td>0.294813</td>\n",
       "    </tr>\n",
       "    <tr>\n",
       "      <th>624652</th>\n",
       "      <td>1</td>\n",
       "      <td>0.664731</td>\n",
       "    </tr>\n",
       "    <tr>\n",
       "      <th>469273</th>\n",
       "      <td>1</td>\n",
       "      <td>0.627105</td>\n",
       "    </tr>\n",
       "    <tr>\n",
       "      <th>131592</th>\n",
       "      <td>0</td>\n",
       "      <td>0.232625</td>\n",
       "    </tr>\n",
       "    <tr>\n",
       "      <th>625709</th>\n",
       "      <td>1</td>\n",
       "      <td>0.666617</td>\n",
       "    </tr>\n",
       "    <tr>\n",
       "      <th>625700</th>\n",
       "      <td>1</td>\n",
       "      <td>0.902235</td>\n",
       "    </tr>\n",
       "    <tr>\n",
       "      <th>629959</th>\n",
       "      <td>0</td>\n",
       "      <td>0.278392</td>\n",
       "    </tr>\n",
       "    <tr>\n",
       "      <th>629953</th>\n",
       "      <td>1</td>\n",
       "      <td>0.903706</td>\n",
       "    </tr>\n",
       "    <tr>\n",
       "      <th>513734</th>\n",
       "      <td>1</td>\n",
       "      <td>0.995545</td>\n",
       "    </tr>\n",
       "    <tr>\n",
       "      <th>565445</th>\n",
       "      <td>0</td>\n",
       "      <td>0.278392</td>\n",
       "    </tr>\n",
       "    <tr>\n",
       "      <th>286300</th>\n",
       "      <td>0</td>\n",
       "      <td>0.282720</td>\n",
       "    </tr>\n",
       "    <tr>\n",
       "      <th>4026</th>\n",
       "      <td>1</td>\n",
       "      <td>0.681570</td>\n",
       "    </tr>\n",
       "    <tr>\n",
       "      <th>165283</th>\n",
       "      <td>1</td>\n",
       "      <td>0.792211</td>\n",
       "    </tr>\n",
       "    <tr>\n",
       "      <th>135035</th>\n",
       "      <td>1</td>\n",
       "      <td>0.797720</td>\n",
       "    </tr>\n",
       "    <tr>\n",
       "      <th>265022</th>\n",
       "      <td>1</td>\n",
       "      <td>0.795811</td>\n",
       "    </tr>\n",
       "    <tr>\n",
       "      <th>120056</th>\n",
       "      <td>0</td>\n",
       "      <td>0.175010</td>\n",
       "    </tr>\n",
       "    <tr>\n",
       "      <th>629399</th>\n",
       "      <td>0</td>\n",
       "      <td>0.142673</td>\n",
       "    </tr>\n",
       "    <tr>\n",
       "      <th>51606</th>\n",
       "      <td>0</td>\n",
       "      <td>0.039569</td>\n",
       "    </tr>\n",
       "    <tr>\n",
       "      <th>507179</th>\n",
       "      <td>0</td>\n",
       "      <td>0.059430</td>\n",
       "    </tr>\n",
       "    <tr>\n",
       "      <th>421085</th>\n",
       "      <td>1</td>\n",
       "      <td>0.634120</td>\n",
       "    </tr>\n",
       "    <tr>\n",
       "      <th>509501</th>\n",
       "      <td>1</td>\n",
       "      <td>0.626839</td>\n",
       "    </tr>\n",
       "    <tr>\n",
       "      <th>601735</th>\n",
       "      <td>1</td>\n",
       "      <td>0.874267</td>\n",
       "    </tr>\n",
       "    <tr>\n",
       "      <th>...</th>\n",
       "      <td>...</td>\n",
       "      <td>...</td>\n",
       "    </tr>\n",
       "    <tr>\n",
       "      <th>591034</th>\n",
       "      <td>1</td>\n",
       "      <td>0.686005</td>\n",
       "    </tr>\n",
       "    <tr>\n",
       "      <th>385969</th>\n",
       "      <td>0</td>\n",
       "      <td>0.077298</td>\n",
       "    </tr>\n",
       "    <tr>\n",
       "      <th>625073</th>\n",
       "      <td>1</td>\n",
       "      <td>0.627761</td>\n",
       "    </tr>\n",
       "    <tr>\n",
       "      <th>526920</th>\n",
       "      <td>1</td>\n",
       "      <td>0.944906</td>\n",
       "    </tr>\n",
       "    <tr>\n",
       "      <th>151044</th>\n",
       "      <td>1</td>\n",
       "      <td>0.648335</td>\n",
       "    </tr>\n",
       "    <tr>\n",
       "      <th>621114</th>\n",
       "      <td>0</td>\n",
       "      <td>0.066961</td>\n",
       "    </tr>\n",
       "    <tr>\n",
       "      <th>188405</th>\n",
       "      <td>1</td>\n",
       "      <td>0.904021</td>\n",
       "    </tr>\n",
       "    <tr>\n",
       "      <th>487198</th>\n",
       "      <td>1</td>\n",
       "      <td>0.898134</td>\n",
       "    </tr>\n",
       "    <tr>\n",
       "      <th>10647</th>\n",
       "      <td>1</td>\n",
       "      <td>0.944661</td>\n",
       "    </tr>\n",
       "    <tr>\n",
       "      <th>170153</th>\n",
       "      <td>0</td>\n",
       "      <td>0.278599</td>\n",
       "    </tr>\n",
       "    <tr>\n",
       "      <th>288077</th>\n",
       "      <td>0</td>\n",
       "      <td>0.415414</td>\n",
       "    </tr>\n",
       "    <tr>\n",
       "      <th>228129</th>\n",
       "      <td>0</td>\n",
       "      <td>0.413069</td>\n",
       "    </tr>\n",
       "    <tr>\n",
       "      <th>466858</th>\n",
       "      <td>1</td>\n",
       "      <td>0.942127</td>\n",
       "    </tr>\n",
       "    <tr>\n",
       "      <th>342431</th>\n",
       "      <td>0</td>\n",
       "      <td>0.089417</td>\n",
       "    </tr>\n",
       "    <tr>\n",
       "      <th>431100</th>\n",
       "      <td>0</td>\n",
       "      <td>0.463799</td>\n",
       "    </tr>\n",
       "    <tr>\n",
       "      <th>179380</th>\n",
       "      <td>1</td>\n",
       "      <td>0.748614</td>\n",
       "    </tr>\n",
       "    <tr>\n",
       "      <th>395934</th>\n",
       "      <td>0</td>\n",
       "      <td>0.474823</td>\n",
       "    </tr>\n",
       "    <tr>\n",
       "      <th>621877</th>\n",
       "      <td>0</td>\n",
       "      <td>0.413069</td>\n",
       "    </tr>\n",
       "    <tr>\n",
       "      <th>476958</th>\n",
       "      <td>0</td>\n",
       "      <td>0.412839</td>\n",
       "    </tr>\n",
       "    <tr>\n",
       "      <th>126208</th>\n",
       "      <td>1</td>\n",
       "      <td>0.835084</td>\n",
       "    </tr>\n",
       "    <tr>\n",
       "      <th>630271</th>\n",
       "      <td>1</td>\n",
       "      <td>0.679536</td>\n",
       "    </tr>\n",
       "    <tr>\n",
       "      <th>131626</th>\n",
       "      <td>0</td>\n",
       "      <td>0.115553</td>\n",
       "    </tr>\n",
       "    <tr>\n",
       "      <th>630273</th>\n",
       "      <td>1</td>\n",
       "      <td>0.888651</td>\n",
       "    </tr>\n",
       "    <tr>\n",
       "      <th>493101</th>\n",
       "      <td>1</td>\n",
       "      <td>0.794380</td>\n",
       "    </tr>\n",
       "    <tr>\n",
       "      <th>629173</th>\n",
       "      <td>1</td>\n",
       "      <td>0.626839</td>\n",
       "    </tr>\n",
       "    <tr>\n",
       "      <th>60798</th>\n",
       "      <td>0</td>\n",
       "      <td>0.145184</td>\n",
       "    </tr>\n",
       "    <tr>\n",
       "      <th>156734</th>\n",
       "      <td>0</td>\n",
       "      <td>0.142669</td>\n",
       "    </tr>\n",
       "    <tr>\n",
       "      <th>147665</th>\n",
       "      <td>0</td>\n",
       "      <td>0.472379</td>\n",
       "    </tr>\n",
       "    <tr>\n",
       "      <th>234095</th>\n",
       "      <td>1</td>\n",
       "      <td>0.670824</td>\n",
       "    </tr>\n",
       "    <tr>\n",
       "      <th>563032</th>\n",
       "      <td>1</td>\n",
       "      <td>0.810978</td>\n",
       "    </tr>\n",
       "  </tbody>\n",
       "</table>\n",
       "<p>2178 rows × 2 columns</p>\n",
       "</div>"
      ],
      "text/plain": [
       "        prediction     score\n",
       "id                          \n",
       "629705           0  0.142673\n",
       "244336           1  0.944640\n",
       "214411           1  0.878757\n",
       "177439           0  0.417758\n",
       "341534           1  0.676997\n",
       "567951           0  0.232658\n",
       "590458           0  0.436261\n",
       "623634           0  0.333028\n",
       "543807           0  0.294813\n",
       "624652           1  0.664731\n",
       "469273           1  0.627105\n",
       "131592           0  0.232625\n",
       "625709           1  0.666617\n",
       "625700           1  0.902235\n",
       "629959           0  0.278392\n",
       "629953           1  0.903706\n",
       "513734           1  0.995545\n",
       "565445           0  0.278392\n",
       "286300           0  0.282720\n",
       "4026             1  0.681570\n",
       "165283           1  0.792211\n",
       "135035           1  0.797720\n",
       "265022           1  0.795811\n",
       "120056           0  0.175010\n",
       "629399           0  0.142673\n",
       "51606            0  0.039569\n",
       "507179           0  0.059430\n",
       "421085           1  0.634120\n",
       "509501           1  0.626839\n",
       "601735           1  0.874267\n",
       "...            ...       ...\n",
       "591034           1  0.686005\n",
       "385969           0  0.077298\n",
       "625073           1  0.627761\n",
       "526920           1  0.944906\n",
       "151044           1  0.648335\n",
       "621114           0  0.066961\n",
       "188405           1  0.904021\n",
       "487198           1  0.898134\n",
       "10647            1  0.944661\n",
       "170153           0  0.278599\n",
       "288077           0  0.415414\n",
       "228129           0  0.413069\n",
       "466858           1  0.942127\n",
       "342431           0  0.089417\n",
       "431100           0  0.463799\n",
       "179380           1  0.748614\n",
       "395934           0  0.474823\n",
       "621877           0  0.413069\n",
       "476958           0  0.412839\n",
       "126208           1  0.835084\n",
       "630271           1  0.679536\n",
       "131626           0  0.115553\n",
       "630273           1  0.888651\n",
       "493101           1  0.794380\n",
       "629173           1  0.626839\n",
       "60798            0  0.145184\n",
       "156734           0  0.142669\n",
       "147665           0  0.472379\n",
       "234095           1  0.670824\n",
       "563032           1  0.810978\n",
       "\n",
       "[2178 rows x 2 columns]"
      ]
     },
     "execution_count": 38,
     "metadata": {},
     "output_type": "execute_result"
    }
   ],
   "source": [
    "results"
   ]
  },
  {
   "cell_type": "code",
   "execution_count": 22,
   "metadata": {},
   "outputs": [
    {
     "data": {
      "text/plain": [
       "0"
      ]
     },
     "execution_count": 22,
     "metadata": {},
     "output_type": "execute_result"
    }
   ],
   "source": [
    "results['prediction'].iloc[0]"
   ]
  },
  {
   "cell_type": "code",
   "execution_count": 39,
   "metadata": {},
   "outputs": [
    {
     "name": "stdout",
     "output_type": "stream",
     "text": [
      "0\n",
      "test utterance:\n",
      "Blocked, templated.  Next?\n",
      "------------------------\n",
      "Result: impolite, score = 0.1750104654227617\n",
      "\n",
      "1\n",
      "test utterance:\n",
      "Stephan, what did you mean by ''\"Is English your native language? You seem to fill in a lot of things not said with your assumptions.\"'' on my talk?\n",
      "------------------------\n",
      "Result: impolite, score = 0.2456477513871411\n",
      "\n",
      "2\n",
      "test utterance:\n",
      "I see you created a nonsense article yesterday because you were bored. If I unblock you will you disrupt more?\n",
      "------------------------\n",
      "Result: polite, score = 0.5877907997930257\n",
      "\n",
      "3\n",
      "test utterance:\n",
      "I have no need to search the interwebs, all that matters is it offends people and is a violation of NPOV and MoS. \"All Wikipedia articles and other encyclopedic content must be written from a neutral point of view (NPOV), representing fairly and without bias all significant views (that have been published by reliable sources)\" - ess-eff is a bias term for a minority group of fans, put it this way: is there an SF-channel, or how often is the clichxe9 ess-eff used outside fan-groups?\n",
      "------------------------\n",
      "Result: impolite, score = 0.4743177960895073\n",
      "\n",
      "4\n",
      "test utterance:\n",
      "I responded to your talk page comment, encouraging you to try your hand at reworking it.  Good analysis of a potential problem, so why not take a whack at it?\n",
      "------------------------\n",
      "Result: polite, score = 0.6660714149438492\n",
      "\n"
     ]
    }
   ],
   "source": [
    "pred2label = {1: \"polite\", 0: \"impolite\"}\n",
    "\n",
    "for i, idx in enumerate(test_ids):\n",
    "    print(i)\n",
    "    test_utt = binary_corpus.get_utterance(idx)\n",
    "    \n",
    "    print(\"test utterance:\\n{}\".format(test_utt.text))\n",
    "    print(\"------------------------\")\n",
    "    results = classifier.transform_objs(objs=[test_utt])[0]\n",
    "    \n",
    "    print(\"Result: {}, score = {}\\n\".format(pred2label[results.meta['prediction']], results.meta['score']))"
   ]
  },
  {
   "cell_type": "code",
   "execution_count": null,
   "metadata": {},
   "outputs": [],
   "source": []
  },
  {
   "cell_type": "markdown",
   "metadata": {},
   "source": [
    "We note that this is an implementation of a politeness classifier is trained on a specific dataset (wikipedia) and on a specific binarization of politeness classes. Depending on your scenario, you might find it is preferable to directly use the politeness strategies, as exemplified in the [conversations gone awry example](https://github.com/CornellNLP/Cornell-Conversational-Analysis-Toolkit/blob/master/examples/conversations-gone-awry/Conversations_Gone_Awry_Prediction.ipynb), rather than a politeness label/score."
   ]
  },
  {
   "cell_type": "code",
   "execution_count": 24,
   "metadata": {},
   "outputs": [
    {
     "name": "stdout",
     "output_type": "stream",
     "text": [
      "Using corpus objects...\n",
      "Running a train-test-split evaluation...\n",
      "Done.\n"
     ]
    }
   ],
   "source": [
    "accuracy, confusion_matrix = classifier.evaluate_with_train_test_split(binary_corpus)"
   ]
  },
  {
   "cell_type": "code",
   "execution_count": 25,
   "metadata": {},
   "outputs": [
    {
     "data": {
      "text/plain": [
       "0.7568807339449541"
      ]
     },
     "execution_count": 25,
     "metadata": {},
     "output_type": "execute_result"
    }
   ],
   "source": [
    "accuracy"
   ]
  },
  {
   "cell_type": "code",
   "execution_count": 26,
   "metadata": {},
   "outputs": [
    {
     "data": {
      "text/plain": [
       "array([[182,  42],\n",
       "       [ 64, 148]])"
      ]
     },
     "execution_count": 26,
     "metadata": {},
     "output_type": "execute_result"
    }
   ],
   "source": [
    "confusion_matrix"
   ]
  },
  {
   "cell_type": "code",
   "execution_count": 27,
   "metadata": {},
   "outputs": [],
   "source": [
    "y_true, y_pred = classifier.get_y_true_pred(binary_corpus)"
   ]
  },
  {
   "cell_type": "code",
   "execution_count": 28,
   "metadata": {},
   "outputs": [
    {
     "data": {
      "text/plain": [
       "array([[876, 213],\n",
       "       [325, 764]])"
      ]
     },
     "execution_count": 28,
     "metadata": {},
     "output_type": "execute_result"
    }
   ],
   "source": [
    "classifier.confusion_matrix(binary_corpus)"
   ]
  },
  {
   "cell_type": "code",
   "execution_count": 29,
   "metadata": {},
   "outputs": [
    {
     "name": "stdout",
     "output_type": "stream",
     "text": [
      "              precision    recall  f1-score   support\n",
      "\n",
      "       False       0.73      0.80      0.77      1089\n",
      "        True       0.78      0.70      0.74      1089\n",
      "\n",
      "    accuracy                           0.75      2178\n",
      "   macro avg       0.76      0.75      0.75      2178\n",
      "weighted avg       0.76      0.75      0.75      2178\n",
      "\n"
     ]
    }
   ],
   "source": [
    "print(classifier.classification_report(binary_corpus))"
   ]
  },
  {
   "cell_type": "code",
   "execution_count": null,
   "metadata": {},
   "outputs": [],
   "source": []
  }
 ],
 "metadata": {
  "kernelspec": {
   "display_name": "Python 3",
   "language": "python",
   "name": "python3"
  },
  "language_info": {
   "codemirror_mode": {
    "name": "ipython",
    "version": 3
   },
   "file_extension": ".py",
   "mimetype": "text/x-python",
   "name": "python",
   "nbconvert_exporter": "python",
   "pygments_lexer": "ipython3",
   "version": "3.7.3"
  }
 },
 "nbformat": 4,
 "nbformat_minor": 2
}
