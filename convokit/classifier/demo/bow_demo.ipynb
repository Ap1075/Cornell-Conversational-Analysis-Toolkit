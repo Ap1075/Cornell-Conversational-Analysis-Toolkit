{
 "cells": [
  {
   "cell_type": "code",
   "execution_count": 1,
   "metadata": {},
   "outputs": [],
   "source": [
    "import os\n",
    "os.chdir('../../..')"
   ]
  },
  {
   "cell_type": "code",
   "execution_count": 2,
   "metadata": {},
   "outputs": [
    {
     "name": "stderr",
     "output_type": "stream",
     "text": [
      "/Library/Frameworks/Python.framework/Versions/3.7/lib/python3.7/site-packages/sklearn/externals/joblib/__init__.py:15: DeprecationWarning: sklearn.externals.joblib is deprecated in 0.21 and will be removed in 0.23. Please import this functionality directly from joblib, which can be installed with: pip install joblib. If this warning is raised when loading pickled models, you may need to re-serialize those models with scikit-learn 0.21+.\n",
      "  warnings.warn(msg, category=DeprecationWarning)\n"
     ]
    }
   ],
   "source": [
    "from convokit import Corpus, download"
   ]
  },
  {
   "cell_type": "code",
   "execution_count": 3,
   "metadata": {},
   "outputs": [
    {
     "name": "stdout",
     "output_type": "stream",
     "text": [
      "Dataset already exists at /Users/calebchiam/.convokit/downloads/subreddit-Cornell\n"
     ]
    }
   ],
   "source": [
    "corpus = Corpus(filename=download('subreddit-Cornell'))"
   ]
  },
  {
   "cell_type": "code",
   "execution_count": 4,
   "metadata": {},
   "outputs": [
    {
     "name": "stdout",
     "output_type": "stream",
     "text": [
      "Number of Users: 7568\n",
      "Number of Utterances: 74467\n",
      "Number of Conversations: 10744\n"
     ]
    }
   ],
   "source": [
    "corpus.print_summary_stats()"
   ]
  },
  {
   "cell_type": "markdown",
   "metadata": {},
   "source": [
    "## Bag-of-words prediction for utterances having positive scores"
   ]
  },
  {
   "cell_type": "code",
   "execution_count": 5,
   "metadata": {},
   "outputs": [],
   "source": [
    "from convokit import BoWClassifier"
   ]
  },
  {
   "cell_type": "code",
   "execution_count": 6,
   "metadata": {},
   "outputs": [
    {
     "name": "stdout",
     "output_type": "stream",
     "text": [
      "Initializing default unigram CountVectorizer...\n",
      "Initializing default classification model (standard scaled logistic regression)\n"
     ]
    }
   ],
   "source": [
    "bow_classifer = BoWClassifier(obj_type=\"utterance\", labeller=lambda utt: utt.meta['score'] > 0)"
   ]
  },
  {
   "cell_type": "code",
   "execution_count": 7,
   "metadata": {},
   "outputs": [],
   "source": [
    "bow_classifer.fit(corpus)"
   ]
  },
  {
   "cell_type": "code",
   "execution_count": 8,
   "metadata": {},
   "outputs": [
    {
     "data": {
      "text/plain": [
       "<convokit.model.corpus.Corpus at 0x136d1fd68>"
      ]
     },
     "execution_count": 8,
     "metadata": {},
     "output_type": "execute_result"
    }
   ],
   "source": [
    "bow_classifer.transform(corpus)"
   ]
  },
  {
   "cell_type": "code",
   "execution_count": 9,
   "metadata": {},
   "outputs": [
    {
     "data": {
      "text/plain": [
       "{'score': 2,\n",
       " 'top_level_comment': None,\n",
       " 'retrieved_on': -1,\n",
       " 'gilded': -1,\n",
       " 'gildings': None,\n",
       " 'subreddit': 'Cornell',\n",
       " 'stickied': False,\n",
       " 'permalink': '/r/Cornell/comments/nyx4d/so_i_was_away_this_past_semester_whats_going_on/',\n",
       " 'author_flair_text': '',\n",
       " 'bow_vector': <1x9340 sparse matrix of type '<class 'numpy.int64'>'\n",
       " \twith 42 stored elements in Compressed Sparse Row format>,\n",
       " 'prediction': True,\n",
       " 'pred_score': 0.9999998491105527}"
      ]
     },
     "execution_count": 9,
     "metadata": {},
     "output_type": "execute_result"
    }
   ],
   "source": [
    "next(corpus.iter_utterances()).meta"
   ]
  },
  {
   "cell_type": "code",
   "execution_count": 10,
   "metadata": {},
   "outputs": [
    {
     "data": {
      "text/plain": [
       "array([[0, 0, 0, ..., 0, 0, 0]])"
      ]
     },
     "execution_count": 10,
     "metadata": {},
     "output_type": "execute_result"
    }
   ],
   "source": [
    "next(corpus.iter_utterances()).meta['bow_vector'].toarray()"
   ]
  },
  {
   "cell_type": "code",
   "execution_count": 37,
   "metadata": {},
   "outputs": [
    {
     "data": {
      "text/html": [
       "<div>\n",
       "<style scoped>\n",
       "    .dataframe tbody tr th:only-of-type {\n",
       "        vertical-align: middle;\n",
       "    }\n",
       "\n",
       "    .dataframe tbody tr th {\n",
       "        vertical-align: top;\n",
       "    }\n",
       "\n",
       "    .dataframe thead th {\n",
       "        text-align: right;\n",
       "    }\n",
       "</style>\n",
       "<table border=\"1\" class=\"dataframe\">\n",
       "  <thead>\n",
       "    <tr style=\"text-align: right;\">\n",
       "      <th></th>\n",
       "      <th>prediction</th>\n",
       "      <th>pred_score</th>\n",
       "    </tr>\n",
       "    <tr>\n",
       "      <th>id</th>\n",
       "      <th></th>\n",
       "      <th></th>\n",
       "    </tr>\n",
       "  </thead>\n",
       "  <tbody>\n",
       "    <tr>\n",
       "      <th>doubowe</th>\n",
       "      <td>False</td>\n",
       "      <td>3.514245e-48</td>\n",
       "    </tr>\n",
       "    <tr>\n",
       "      <th>2mx7u9</th>\n",
       "      <td>False</td>\n",
       "      <td>8.327791e-35</td>\n",
       "    </tr>\n",
       "    <tr>\n",
       "      <th>15enm8</th>\n",
       "      <td>False</td>\n",
       "      <td>7.272589e-28</td>\n",
       "    </tr>\n",
       "    <tr>\n",
       "      <th>2pl46k</th>\n",
       "      <td>False</td>\n",
       "      <td>3.508764e-23</td>\n",
       "    </tr>\n",
       "    <tr>\n",
       "      <th>e8pd1us</th>\n",
       "      <td>False</td>\n",
       "      <td>1.208424e-22</td>\n",
       "    </tr>\n",
       "  </tbody>\n",
       "</table>\n",
       "</div>"
      ],
      "text/plain": [
       "         prediction    pred_score\n",
       "id                               \n",
       "doubowe       False  3.514245e-48\n",
       "2mx7u9        False  8.327791e-35\n",
       "15enm8        False  7.272589e-28\n",
       "2pl46k        False  3.508764e-23\n",
       "e8pd1us       False  1.208424e-22"
      ]
     },
     "execution_count": 37,
     "metadata": {},
     "output_type": "execute_result"
    }
   ],
   "source": [
    "bow_classifer.summarize(corpus).head()"
   ]
  },
  {
   "cell_type": "code",
   "execution_count": 42,
   "metadata": {},
   "outputs": [
    {
     "data": {
      "text/plain": [
       "'One, just to get this out of the way: I\\'m only a sophomore in high school. In spite of this, my high school is one of the top public schools in New Jersey (and to put it bluntly it\\'s a very affluent area... although I\\'m not necessarily affluent like my classmates). The point of telling you guys that is kids start talking about all these amazing schools they want to go to in like eighth grade, so I know quite a bit about colleges. As stated in the title, I really want to go to Cornell, and I just was hoping that some of you guys and girls on here would be awesome enough to give out some SAT scores, ACT scores (if you took them), and extra curricular activities you guys got/did? My unweighted GPA is a 3.8 (weighted is a 4.2), and my first PSAT was an overall 1900, and from taking that I (not to sound cocky here) *know* that I\\'m going to get that score up a *lot*. I\\'m in all the highest level classes I can be in, and I\\'m looking to take multiple AP courses next year (junior). Do you think these are prospectively good stats? The last thing I\\'m wondering about is what type of extra curricular things I can do. Student government in my school is a popularity contest, so I have pretty much no chance of winning, giving the president is the biggest pothead in town. I\\'m probably lettering in track and baseball three years, and football two. I participate in my schools \"Key Club\" (basically community service stuff), and I am hoping to be some form of leadership position on that next year. I also am going to apply for being a \"peer leader\". So basically (back to my point) are there any other things that you guys suggest I get involved with?\\n\\n**TL;DR** Sophomore that has a 3.8 unweighted (4.2 weighted) GPA, 1900 PSAT (looking to improve greatly). Are these good prospective stats? What are some of your guys stats? What extra curricular activities do ya\\'ll suggest getting involved in?\\n\\nTHANKS IN ADVANCE FOR ANY RESPONSES &lt;3 (yeah I\\'m a boy, deal with the heart &gt;;) )\\n\\n**EDIT** My school uses a funky grading system; my weighted GPA would be a 4.52 at most schools'"
      ]
     },
     "execution_count": 42,
     "metadata": {},
     "output_type": "execute_result"
    }
   ],
   "source": [
    "corpus.get_utterance('15enm8').text"
   ]
  },
  {
   "cell_type": "code",
   "execution_count": 12,
   "metadata": {},
   "outputs": [
    {
     "data": {
      "text/html": [
       "<div>\n",
       "<style scoped>\n",
       "    .dataframe tbody tr th:only-of-type {\n",
       "        vertical-align: middle;\n",
       "    }\n",
       "\n",
       "    .dataframe tbody tr th {\n",
       "        vertical-align: top;\n",
       "    }\n",
       "\n",
       "    .dataframe thead th {\n",
       "        text-align: right;\n",
       "    }\n",
       "</style>\n",
       "<table border=\"1\" class=\"dataframe\">\n",
       "  <thead>\n",
       "    <tr style=\"text-align: right;\">\n",
       "      <th></th>\n",
       "      <th>coef</th>\n",
       "    </tr>\n",
       "    <tr>\n",
       "      <th>feat_name</th>\n",
       "      <th></th>\n",
       "    </tr>\n",
       "  </thead>\n",
       "  <tbody>\n",
       "    <tr>\n",
       "      <th>child</th>\n",
       "      <td>1.270001</td>\n",
       "    </tr>\n",
       "    <tr>\n",
       "      <th>appealing</th>\n",
       "      <td>1.115690</td>\n",
       "    </tr>\n",
       "    <tr>\n",
       "      <th>whereas</th>\n",
       "      <td>1.109702</td>\n",
       "    </tr>\n",
       "    <tr>\n",
       "      <th>messed</th>\n",
       "      <td>1.081836</td>\n",
       "    </tr>\n",
       "    <tr>\n",
       "      <th>focusing</th>\n",
       "      <td>1.071464</td>\n",
       "    </tr>\n",
       "  </tbody>\n",
       "</table>\n",
       "</div>"
      ],
      "text/plain": [
       "               coef\n",
       "feat_name          \n",
       "child      1.270001\n",
       "appealing  1.115690\n",
       "whereas    1.109702\n",
       "messed     1.081836\n",
       "focusing   1.071464"
      ]
     },
     "execution_count": 12,
     "metadata": {},
     "output_type": "execute_result"
    }
   ],
   "source": [
    "bow_classifer.get_coefs().head()"
   ]
  },
  {
   "cell_type": "code",
   "execution_count": 13,
   "metadata": {},
   "outputs": [
    {
     "data": {
      "text/html": [
       "<div>\n",
       "<style scoped>\n",
       "    .dataframe tbody tr th:only-of-type {\n",
       "        vertical-align: middle;\n",
       "    }\n",
       "\n",
       "    .dataframe tbody tr th {\n",
       "        vertical-align: top;\n",
       "    }\n",
       "\n",
       "    .dataframe thead th {\n",
       "        text-align: right;\n",
       "    }\n",
       "</style>\n",
       "<table border=\"1\" class=\"dataframe\">\n",
       "  <thead>\n",
       "    <tr style=\"text-align: right;\">\n",
       "      <th></th>\n",
       "      <th>coef</th>\n",
       "    </tr>\n",
       "    <tr>\n",
       "      <th>feat_name</th>\n",
       "      <th></th>\n",
       "    </tr>\n",
       "  </thead>\n",
       "  <tbody>\n",
       "    <tr>\n",
       "      <th>criteria</th>\n",
       "      <td>-0.667785</td>\n",
       "    </tr>\n",
       "    <tr>\n",
       "      <th>entered</th>\n",
       "      <td>-0.722992</td>\n",
       "    </tr>\n",
       "    <tr>\n",
       "      <th>bathroom</th>\n",
       "      <td>-0.742234</td>\n",
       "    </tr>\n",
       "    <tr>\n",
       "      <th>korea</th>\n",
       "      <td>-0.764383</td>\n",
       "    </tr>\n",
       "    <tr>\n",
       "      <th>goal</th>\n",
       "      <td>-0.784593</td>\n",
       "    </tr>\n",
       "  </tbody>\n",
       "</table>\n",
       "</div>"
      ],
      "text/plain": [
       "               coef\n",
       "feat_name          \n",
       "criteria  -0.667785\n",
       "entered   -0.722992\n",
       "bathroom  -0.742234\n",
       "korea     -0.764383\n",
       "goal      -0.784593"
      ]
     },
     "execution_count": 13,
     "metadata": {},
     "output_type": "execute_result"
    }
   ],
   "source": [
    "bow_classifer.get_coefs().tail()"
   ]
  },
  {
   "cell_type": "code",
   "execution_count": 14,
   "metadata": {},
   "outputs": [],
   "source": [
    "from convokit import Classifier"
   ]
  },
  {
   "cell_type": "code",
   "execution_count": 15,
   "metadata": {},
   "outputs": [],
   "source": [
    "c = Classifier(pred_feats = None, obj_type = \"utterance\", labeller = lambda utt: utt.meta['score'] > 0)"
   ]
  },
  {
   "cell_type": "code",
   "execution_count": 16,
   "metadata": {},
   "outputs": [],
   "source": [
    "y_true, y_pred = c.get_y_true_pred(corpus)"
   ]
  },
  {
   "cell_type": "code",
   "execution_count": 17,
   "metadata": {},
   "outputs": [
    {
     "data": {
      "text/plain": [
       "0.9279546644822538"
      ]
     },
     "execution_count": 17,
     "metadata": {},
     "output_type": "execute_result"
    }
   ],
   "source": [
    "c.base_accuracy(corpus)"
   ]
  },
  {
   "cell_type": "code",
   "execution_count": 18,
   "metadata": {},
   "outputs": [
    {
     "data": {
      "text/plain": [
       "0.9491452589737737"
      ]
     },
     "execution_count": 18,
     "metadata": {},
     "output_type": "execute_result"
    }
   ],
   "source": [
    "c.accuracy(corpus)"
   ]
  },
  {
   "cell_type": "code",
   "execution_count": 19,
   "metadata": {},
   "outputs": [
    {
     "name": "stdout",
     "output_type": "stream",
     "text": [
      "              precision    recall  f1-score   support\n",
      "\n",
      "       False       0.88      0.34      0.49      5365\n",
      "        True       0.95      1.00      0.97     69102\n",
      "\n",
      "    accuracy                           0.95     74467\n",
      "   macro avg       0.91      0.67      0.73     74467\n",
      "weighted avg       0.95      0.95      0.94     74467\n",
      "\n"
     ]
    }
   ],
   "source": [
    "print(c.classification_report(corpus))"
   ]
  },
  {
   "cell_type": "markdown",
   "metadata": {},
   "source": [
    "## Bag-of-words prediction for comment thread doubling in length versus staying the same length based on first 5 utterances"
   ]
  },
  {
   "cell_type": "code",
   "execution_count": 20,
   "metadata": {},
   "outputs": [],
   "source": [
    "top_level_comment_ids = [utt.id for utt in corpus.iter_utterances() if utt.id == utt.meta['top_level_comment']]"
   ]
  },
  {
   "cell_type": "code",
   "execution_count": 21,
   "metadata": {},
   "outputs": [
    {
     "name": "stdout",
     "output_type": "stream",
     "text": [
      "Number of Users: 7568\n",
      "Number of Utterances: 74467\n",
      "Number of Conversations: 10744\n"
     ]
    }
   ],
   "source": [
    "corpus.print_summary_stats()"
   ]
  },
  {
   "cell_type": "code",
   "execution_count": 22,
   "metadata": {},
   "outputs": [
    {
     "data": {
      "text/plain": [
       "32893"
      ]
     },
     "execution_count": 22,
     "metadata": {},
     "output_type": "execute_result"
    }
   ],
   "source": [
    "len(top_level_comment_ids)"
   ]
  },
  {
   "cell_type": "code",
   "execution_count": 23,
   "metadata": {},
   "outputs": [
    {
     "name": "stdout",
     "output_type": "stream",
     "text": [
      "\u001b[91mWARNING: \u001b[0mConversation pcww4 reply-to chain does not form a valid tree.\n",
      "\u001b[91mWARNING: \u001b[0mConversation pegd2 reply-to chain does not form a valid tree.\n",
      "\u001b[91mWARNING: \u001b[0mFailed to find some of the specified new convo roots:\n",
      "\n",
      "['c3oyf4d', 'c3od15i', 'c3ocsyl', 'c3p8bze', 'c3p1rn8']\n"
     ]
    }
   ],
   "source": [
    "threads_corpus = corpus.reindex_conversations(new_convo_roots=top_level_comment_ids)"
   ]
  },
  {
   "cell_type": "code",
   "execution_count": 24,
   "metadata": {},
   "outputs": [
    {
     "name": "stdout",
     "output_type": "stream",
     "text": [
      "Number of Users: 6160\n",
      "Number of Utterances: 63697\n",
      "Number of Conversations: 32888\n"
     ]
    }
   ],
   "source": [
    "threads_corpus.print_summary_stats()"
   ]
  },
  {
   "cell_type": "code",
   "execution_count": 25,
   "metadata": {},
   "outputs": [],
   "source": [
    "for thread in threads_corpus.iter_conversations():\n",
    "    thread_len = len(list(thread.iter_utterances()))\n",
    "    if thread_len == 5:\n",
    "        thread.meta['thread_doubles'] = False\n",
    "    elif thread_len >= 10:\n",
    "        thread.meta['thread_doubles'] = True\n",
    "    else:\n",
    "        thread.meta['thread_doubles'] = None"
   ]
  },
  {
   "cell_type": "code",
   "execution_count": 26,
   "metadata": {},
   "outputs": [
    {
     "name": "stdout",
     "output_type": "stream",
     "text": [
      "Initializing default unigram CountVectorizer...\n",
      "Initializing default classification model (standard scaled logistic regression)\n"
     ]
    }
   ],
   "source": [
    "bow = BoWClassifier(obj_type=\"conversation\", \n",
    "                    text_func=lambda convo: \" \".join([utt.text for utt in convo.get_chronological_utterance_list()][:5]),\n",
    "                    selector=lambda convo: convo.meta['thread_doubles'] is not None,\n",
    "                    labeller=lambda convo: convo.meta['thread_doubles']\n",
    "                   )"
   ]
  },
  {
   "cell_type": "code",
   "execution_count": 27,
   "metadata": {},
   "outputs": [],
   "source": [
    "bow.fit(threads_corpus)"
   ]
  },
  {
   "cell_type": "code",
   "execution_count": 28,
   "metadata": {},
   "outputs": [
    {
     "data": {
      "text/plain": [
       "<convokit.model.corpus.Corpus at 0x136c6b400>"
      ]
     },
     "execution_count": 28,
     "metadata": {},
     "output_type": "execute_result"
    }
   ],
   "source": [
    "bow.transform(threads_corpus)"
   ]
  },
  {
   "cell_type": "code",
   "execution_count": 29,
   "metadata": {},
   "outputs": [
    {
     "data": {
      "text/html": [
       "<div>\n",
       "<style scoped>\n",
       "    .dataframe tbody tr th:only-of-type {\n",
       "        vertical-align: middle;\n",
       "    }\n",
       "\n",
       "    .dataframe tbody tr th {\n",
       "        vertical-align: top;\n",
       "    }\n",
       "\n",
       "    .dataframe thead th {\n",
       "        text-align: right;\n",
       "    }\n",
       "</style>\n",
       "<table border=\"1\" class=\"dataframe\">\n",
       "  <thead>\n",
       "    <tr style=\"text-align: right;\">\n",
       "      <th></th>\n",
       "      <th>prediction</th>\n",
       "      <th>pred_score</th>\n",
       "    </tr>\n",
       "    <tr>\n",
       "      <th>id</th>\n",
       "      <th></th>\n",
       "      <th></th>\n",
       "    </tr>\n",
       "  </thead>\n",
       "  <tbody>\n",
       "    <tr>\n",
       "      <th>d8y9akn</th>\n",
       "      <td>False</td>\n",
       "      <td>1.558070e-16</td>\n",
       "    </tr>\n",
       "    <tr>\n",
       "      <th>dwqaa06</th>\n",
       "      <td>False</td>\n",
       "      <td>2.766371e-16</td>\n",
       "    </tr>\n",
       "    <tr>\n",
       "      <th>dxfib8r</th>\n",
       "      <td>False</td>\n",
       "      <td>2.728401e-15</td>\n",
       "    </tr>\n",
       "    <tr>\n",
       "      <th>dl7q7n2</th>\n",
       "      <td>False</td>\n",
       "      <td>8.207078e-14</td>\n",
       "    </tr>\n",
       "    <tr>\n",
       "      <th>drduxx1</th>\n",
       "      <td>False</td>\n",
       "      <td>2.465283e-12</td>\n",
       "    </tr>\n",
       "  </tbody>\n",
       "</table>\n",
       "</div>"
      ],
      "text/plain": [
       "         prediction    pred_score\n",
       "id                               \n",
       "d8y9akn       False  1.558070e-16\n",
       "dwqaa06       False  2.766371e-16\n",
       "dxfib8r       False  2.728401e-15\n",
       "dl7q7n2       False  8.207078e-14\n",
       "drduxx1       False  2.465283e-12"
      ]
     },
     "execution_count": 29,
     "metadata": {},
     "output_type": "execute_result"
    }
   ],
   "source": [
    "bow.summarize(threads_corpus).head()"
   ]
  },
  {
   "cell_type": "code",
   "execution_count": 30,
   "metadata": {},
   "outputs": [
    {
     "data": {
      "text/html": [
       "<div>\n",
       "<style scoped>\n",
       "    .dataframe tbody tr th:only-of-type {\n",
       "        vertical-align: middle;\n",
       "    }\n",
       "\n",
       "    .dataframe tbody tr th {\n",
       "        vertical-align: top;\n",
       "    }\n",
       "\n",
       "    .dataframe thead th {\n",
       "        text-align: right;\n",
       "    }\n",
       "</style>\n",
       "<table border=\"1\" class=\"dataframe\">\n",
       "  <thead>\n",
       "    <tr style=\"text-align: right;\">\n",
       "      <th></th>\n",
       "      <th>prediction</th>\n",
       "      <th>pred_score</th>\n",
       "    </tr>\n",
       "    <tr>\n",
       "      <th>id</th>\n",
       "      <th></th>\n",
       "      <th></th>\n",
       "    </tr>\n",
       "  </thead>\n",
       "  <tbody>\n",
       "    <tr>\n",
       "      <th>e70wjy3</th>\n",
       "      <td>True</td>\n",
       "      <td>1.0</td>\n",
       "    </tr>\n",
       "    <tr>\n",
       "      <th>dsldpxg</th>\n",
       "      <td>True</td>\n",
       "      <td>1.0</td>\n",
       "    </tr>\n",
       "    <tr>\n",
       "      <th>dwa6k96</th>\n",
       "      <td>True</td>\n",
       "      <td>1.0</td>\n",
       "    </tr>\n",
       "    <tr>\n",
       "      <th>dandio0</th>\n",
       "      <td>True</td>\n",
       "      <td>1.0</td>\n",
       "    </tr>\n",
       "    <tr>\n",
       "      <th>dt05qyf</th>\n",
       "      <td>True</td>\n",
       "      <td>1.0</td>\n",
       "    </tr>\n",
       "  </tbody>\n",
       "</table>\n",
       "</div>"
      ],
      "text/plain": [
       "         prediction  pred_score\n",
       "id                             \n",
       "e70wjy3        True         1.0\n",
       "dsldpxg        True         1.0\n",
       "dwa6k96        True         1.0\n",
       "dandio0        True         1.0\n",
       "dt05qyf        True         1.0"
      ]
     },
     "execution_count": 30,
     "metadata": {},
     "output_type": "execute_result"
    }
   ],
   "source": [
    "bow.summarize(threads_corpus).tail()"
   ]
  },
  {
   "cell_type": "code",
   "execution_count": 31,
   "metadata": {},
   "outputs": [],
   "source": [
    "c = Classifier(pred_feats = None, obj_type = \"conversation\", \n",
    "               selector=lambda convo: convo.meta['thread_doubles'] is not None, \n",
    "               labeller = lambda convo: convo.meta['thread_doubles'] == True)"
   ]
  },
  {
   "cell_type": "code",
   "execution_count": 32,
   "metadata": {},
   "outputs": [
    {
     "data": {
      "text/plain": [
       "0.3238095238095238"
      ]
     },
     "execution_count": 32,
     "metadata": {},
     "output_type": "execute_result"
    }
   ],
   "source": [
    "c.base_accuracy(threads_corpus)"
   ]
  },
  {
   "cell_type": "code",
   "execution_count": 33,
   "metadata": {},
   "outputs": [
    {
     "data": {
      "text/plain": [
       "0.9992063492063492"
      ]
     },
     "execution_count": 33,
     "metadata": {},
     "output_type": "execute_result"
    }
   ],
   "source": [
    "c.accuracy(threads_corpus)"
   ]
  },
  {
   "cell_type": "code",
   "execution_count": 34,
   "metadata": {},
   "outputs": [
    {
     "name": "stdout",
     "output_type": "stream",
     "text": [
      "              precision    recall  f1-score   support\n",
      "\n",
      "       False       1.00      1.00      1.00       852\n",
      "        True       1.00      1.00      1.00       408\n",
      "\n",
      "    accuracy                           1.00      1260\n",
      "   macro avg       1.00      1.00      1.00      1260\n",
      "weighted avg       1.00      1.00      1.00      1260\n",
      "\n"
     ]
    }
   ],
   "source": [
    "print(c.classification_report(threads_corpus))"
   ]
  },
  {
   "cell_type": "code",
   "execution_count": 35,
   "metadata": {},
   "outputs": [
    {
     "data": {
      "text/html": [
       "<div>\n",
       "<style scoped>\n",
       "    .dataframe tbody tr th:only-of-type {\n",
       "        vertical-align: middle;\n",
       "    }\n",
       "\n",
       "    .dataframe tbody tr th {\n",
       "        vertical-align: top;\n",
       "    }\n",
       "\n",
       "    .dataframe thead th {\n",
       "        text-align: right;\n",
       "    }\n",
       "</style>\n",
       "<table border=\"1\" class=\"dataframe\">\n",
       "  <thead>\n",
       "    <tr style=\"text-align: right;\">\n",
       "      <th></th>\n",
       "      <th>coef</th>\n",
       "    </tr>\n",
       "    <tr>\n",
       "      <th>feat_name</th>\n",
       "      <th></th>\n",
       "    </tr>\n",
       "  </thead>\n",
       "  <tbody>\n",
       "    <tr>\n",
       "      <th>tried</th>\n",
       "      <td>0.611836</td>\n",
       "    </tr>\n",
       "    <tr>\n",
       "      <th>sad</th>\n",
       "      <td>0.513460</td>\n",
       "    </tr>\n",
       "    <tr>\n",
       "      <th>basically</th>\n",
       "      <td>0.508508</td>\n",
       "    </tr>\n",
       "    <tr>\n",
       "      <th>runs</th>\n",
       "      <td>0.481761</td>\n",
       "    </tr>\n",
       "    <tr>\n",
       "      <th>talked</th>\n",
       "      <td>0.463195</td>\n",
       "    </tr>\n",
       "    <tr>\n",
       "      <th>describe</th>\n",
       "      <td>0.456155</td>\n",
       "    </tr>\n",
       "    <tr>\n",
       "      <th>degree</th>\n",
       "      <td>0.441427</td>\n",
       "    </tr>\n",
       "    <tr>\n",
       "      <th>content</th>\n",
       "      <td>0.417373</td>\n",
       "    </tr>\n",
       "    <tr>\n",
       "      <th>china</th>\n",
       "      <td>0.414063</td>\n",
       "    </tr>\n",
       "    <tr>\n",
       "      <th>imagine</th>\n",
       "      <td>0.390082</td>\n",
       "    </tr>\n",
       "    <tr>\n",
       "      <th>focused</th>\n",
       "      <td>0.383625</td>\n",
       "    </tr>\n",
       "    <tr>\n",
       "      <th>game</th>\n",
       "      <td>0.381093</td>\n",
       "    </tr>\n",
       "    <tr>\n",
       "      <th>graduated</th>\n",
       "      <td>0.373718</td>\n",
       "    </tr>\n",
       "    <tr>\n",
       "      <th>entire</th>\n",
       "      <td>0.371287</td>\n",
       "    </tr>\n",
       "    <tr>\n",
       "      <th>cut</th>\n",
       "      <td>0.366327</td>\n",
       "    </tr>\n",
       "    <tr>\n",
       "      <th>changes</th>\n",
       "      <td>0.364443</td>\n",
       "    </tr>\n",
       "    <tr>\n",
       "      <th>varies</th>\n",
       "      <td>0.356407</td>\n",
       "    </tr>\n",
       "    <tr>\n",
       "      <th>position</th>\n",
       "      <td>0.351743</td>\n",
       "    </tr>\n",
       "    <tr>\n",
       "      <th>usual</th>\n",
       "      <td>0.349424</td>\n",
       "    </tr>\n",
       "    <tr>\n",
       "      <th>need</th>\n",
       "      <td>0.349357</td>\n",
       "    </tr>\n",
       "    <tr>\n",
       "      <th>role</th>\n",
       "      <td>0.347748</td>\n",
       "    </tr>\n",
       "    <tr>\n",
       "      <th>his</th>\n",
       "      <td>0.344268</td>\n",
       "    </tr>\n",
       "    <tr>\n",
       "      <th>pay</th>\n",
       "      <td>0.342168</td>\n",
       "    </tr>\n",
       "    <tr>\n",
       "      <th>aside</th>\n",
       "      <td>0.340196</td>\n",
       "    </tr>\n",
       "    <tr>\n",
       "      <th>account</th>\n",
       "      <td>0.339342</td>\n",
       "    </tr>\n",
       "    <tr>\n",
       "      <th>mail</th>\n",
       "      <td>0.333372</td>\n",
       "    </tr>\n",
       "    <tr>\n",
       "      <th>choosing</th>\n",
       "      <td>0.330177</td>\n",
       "    </tr>\n",
       "    <tr>\n",
       "      <th>specific</th>\n",
       "      <td>0.330029</td>\n",
       "    </tr>\n",
       "    <tr>\n",
       "      <th>president</th>\n",
       "      <td>0.323724</td>\n",
       "    </tr>\n",
       "    <tr>\n",
       "      <th>sessions</th>\n",
       "      <td>0.318815</td>\n",
       "    </tr>\n",
       "    <tr>\n",
       "      <th>...</th>\n",
       "      <td>...</td>\n",
       "    </tr>\n",
       "    <tr>\n",
       "      <th>shame</th>\n",
       "      <td>-0.308640</td>\n",
       "    </tr>\n",
       "    <tr>\n",
       "      <th>poster</th>\n",
       "      <td>-0.314602</td>\n",
       "    </tr>\n",
       "    <tr>\n",
       "      <th>breaks</th>\n",
       "      <td>-0.317529</td>\n",
       "    </tr>\n",
       "    <tr>\n",
       "      <th>issues</th>\n",
       "      <td>-0.317788</td>\n",
       "    </tr>\n",
       "    <tr>\n",
       "      <th>access</th>\n",
       "      <td>-0.320627</td>\n",
       "    </tr>\n",
       "    <tr>\n",
       "      <th>disagree</th>\n",
       "      <td>-0.320648</td>\n",
       "    </tr>\n",
       "    <tr>\n",
       "      <th>write</th>\n",
       "      <td>-0.320864</td>\n",
       "    </tr>\n",
       "    <tr>\n",
       "      <th>learned</th>\n",
       "      <td>-0.322089</td>\n",
       "    </tr>\n",
       "    <tr>\n",
       "      <th>american</th>\n",
       "      <td>-0.324038</td>\n",
       "    </tr>\n",
       "    <tr>\n",
       "      <th>interesting</th>\n",
       "      <td>-0.324808</td>\n",
       "    </tr>\n",
       "    <tr>\n",
       "      <th>following</th>\n",
       "      <td>-0.326293</td>\n",
       "    </tr>\n",
       "    <tr>\n",
       "      <th>somebody</th>\n",
       "      <td>-0.330477</td>\n",
       "    </tr>\n",
       "    <tr>\n",
       "      <th>sub</th>\n",
       "      <td>-0.331599</td>\n",
       "    </tr>\n",
       "    <tr>\n",
       "      <th>referring</th>\n",
       "      <td>-0.335366</td>\n",
       "    </tr>\n",
       "    <tr>\n",
       "      <th>factor</th>\n",
       "      <td>-0.340434</td>\n",
       "    </tr>\n",
       "    <tr>\n",
       "      <th>two</th>\n",
       "      <td>-0.341346</td>\n",
       "    </tr>\n",
       "    <tr>\n",
       "      <th>pick</th>\n",
       "      <td>-0.351737</td>\n",
       "    </tr>\n",
       "    <tr>\n",
       "      <th>picture</th>\n",
       "      <td>-0.356108</td>\n",
       "    </tr>\n",
       "    <tr>\n",
       "      <th>happened</th>\n",
       "      <td>-0.358038</td>\n",
       "    </tr>\n",
       "    <tr>\n",
       "      <th>academics</th>\n",
       "      <td>-0.362693</td>\n",
       "    </tr>\n",
       "    <tr>\n",
       "      <th>straight</th>\n",
       "      <td>-0.371328</td>\n",
       "    </tr>\n",
       "    <tr>\n",
       "      <th>necessarily</th>\n",
       "      <td>-0.383503</td>\n",
       "    </tr>\n",
       "    <tr>\n",
       "      <th>2017</th>\n",
       "      <td>-0.383798</td>\n",
       "    </tr>\n",
       "    <tr>\n",
       "      <th>assuming</th>\n",
       "      <td>-0.387198</td>\n",
       "    </tr>\n",
       "    <tr>\n",
       "      <th>having</th>\n",
       "      <td>-0.403681</td>\n",
       "    </tr>\n",
       "    <tr>\n",
       "      <th>reasonable</th>\n",
       "      <td>-0.416968</td>\n",
       "    </tr>\n",
       "    <tr>\n",
       "      <th>fucking</th>\n",
       "      <td>-0.419592</td>\n",
       "    </tr>\n",
       "    <tr>\n",
       "      <th>long</th>\n",
       "      <td>-0.427233</td>\n",
       "    </tr>\n",
       "    <tr>\n",
       "      <th>hotelies</th>\n",
       "      <td>-0.491921</td>\n",
       "    </tr>\n",
       "    <tr>\n",
       "      <th>gender</th>\n",
       "      <td>-0.659170</td>\n",
       "    </tr>\n",
       "  </tbody>\n",
       "</table>\n",
       "<p>2052 rows × 1 columns</p>\n",
       "</div>"
      ],
      "text/plain": [
       "                 coef\n",
       "feat_name            \n",
       "tried        0.611836\n",
       "sad          0.513460\n",
       "basically    0.508508\n",
       "runs         0.481761\n",
       "talked       0.463195\n",
       "describe     0.456155\n",
       "degree       0.441427\n",
       "content      0.417373\n",
       "china        0.414063\n",
       "imagine      0.390082\n",
       "focused      0.383625\n",
       "game         0.381093\n",
       "graduated    0.373718\n",
       "entire       0.371287\n",
       "cut          0.366327\n",
       "changes      0.364443\n",
       "varies       0.356407\n",
       "position     0.351743\n",
       "usual        0.349424\n",
       "need         0.349357\n",
       "role         0.347748\n",
       "his          0.344268\n",
       "pay          0.342168\n",
       "aside        0.340196\n",
       "account      0.339342\n",
       "mail         0.333372\n",
       "choosing     0.330177\n",
       "specific     0.330029\n",
       "president    0.323724\n",
       "sessions     0.318815\n",
       "...               ...\n",
       "shame       -0.308640\n",
       "poster      -0.314602\n",
       "breaks      -0.317529\n",
       "issues      -0.317788\n",
       "access      -0.320627\n",
       "disagree    -0.320648\n",
       "write       -0.320864\n",
       "learned     -0.322089\n",
       "american    -0.324038\n",
       "interesting -0.324808\n",
       "following   -0.326293\n",
       "somebody    -0.330477\n",
       "sub         -0.331599\n",
       "referring   -0.335366\n",
       "factor      -0.340434\n",
       "two         -0.341346\n",
       "pick        -0.351737\n",
       "picture     -0.356108\n",
       "happened    -0.358038\n",
       "academics   -0.362693\n",
       "straight    -0.371328\n",
       "necessarily -0.383503\n",
       "2017        -0.383798\n",
       "assuming    -0.387198\n",
       "having      -0.403681\n",
       "reasonable  -0.416968\n",
       "fucking     -0.419592\n",
       "long        -0.427233\n",
       "hotelies    -0.491921\n",
       "gender      -0.659170\n",
       "\n",
       "[2052 rows x 1 columns]"
      ]
     },
     "execution_count": 35,
     "metadata": {},
     "output_type": "execute_result"
    }
   ],
   "source": [
    "bow.get_coefs()"
   ]
  },
  {
   "cell_type": "code",
   "execution_count": null,
   "metadata": {},
   "outputs": [],
   "source": []
  }
 ],
 "metadata": {
  "kernelspec": {
   "display_name": "Python 3",
   "language": "python",
   "name": "python3"
  },
  "language_info": {
   "codemirror_mode": {
    "name": "ipython",
    "version": 3
   },
   "file_extension": ".py",
   "mimetype": "text/x-python",
   "name": "python",
   "nbconvert_exporter": "python",
   "pygments_lexer": "ipython3",
   "version": "3.7.3"
  }
 },
 "nbformat": 4,
 "nbformat_minor": 1
}
