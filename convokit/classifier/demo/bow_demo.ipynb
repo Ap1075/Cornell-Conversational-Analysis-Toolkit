{
 "cells": [
  {
   "cell_type": "code",
   "execution_count": 1,
   "metadata": {},
   "outputs": [],
   "source": [
    "from convokit import Corpus, download"
   ]
  },
  {
   "cell_type": "code",
   "execution_count": 2,
   "metadata": {},
   "outputs": [
    {
     "name": "stdout",
     "output_type": "stream",
     "text": [
      "Dataset already exists at /Users/calebchiam/.convokit/downloads/subreddit-Cornell\n"
     ]
    }
   ],
   "source": [
    "corpus = Corpus(filename=download('subreddit-Cornell'))"
   ]
  },
  {
   "cell_type": "code",
   "execution_count": 3,
   "metadata": {},
   "outputs": [
    {
     "name": "stdout",
     "output_type": "stream",
     "text": [
      "Number of Speakers: 7568\n",
      "Number of Utterances: 74467\n",
      "Number of Conversations: 10744\n"
     ]
    }
   ],
   "source": [
    "corpus.print_summary_stats()"
   ]
  },
  {
   "cell_type": "markdown",
   "metadata": {},
   "source": [
    "## Bag-of-words prediction for utterances having positive scores"
   ]
  },
  {
   "cell_type": "code",
   "execution_count": 4,
   "metadata": {},
   "outputs": [],
   "source": [
    "from convokit import BoWClassifier, BoWTransformer"
   ]
  },
  {
   "cell_type": "code",
   "execution_count": 5,
   "metadata": {},
   "outputs": [
    {
     "name": "stdout",
     "output_type": "stream",
     "text": [
      "Initializing default unigram CountVectorizer...\n"
     ]
    }
   ],
   "source": [
    "bow_transformer = BoWTransformer(obj_type=\"utterance\")"
   ]
  },
  {
   "cell_type": "code",
   "execution_count": 6,
   "metadata": {},
   "outputs": [
    {
     "name": "stdout",
     "output_type": "stream",
     "text": [
      "Utterance('id': 'nyx4d', 'root': nyx4d, 'reply-to': None, 'speaker': Speaker('id': reddmau5, 'meta': {'num_posts': 3, 'num_comments': 5}), 'timestamp': 1325452698, 'text': \"I was just reading about the Princeton Mic-Check and it's getting [national press](http://www.bloomberg.com/news/2011-12-29/princeton-brews-trouble-for-us-1-percenters-commentary-by-michael-lewis.html).\\n\\nI want to get a sense of what people felt like around campus. Anything interesting happen? Anything interesting coming up?\", 'meta': {'score': 2, 'top_level_comment': None, 'retrieved_on': -1, 'gilded': -1, 'gildings': None, 'subreddit': 'Cornell', 'stickied': False, 'permalink': '/r/Cornell/comments/nyx4d/so_i_was_away_this_past_semester_whats_going_on/', 'author_flair_text': ''})\n"
     ]
    }
   ],
   "source": [
    "print(next(corpus.iter_utterances()))"
   ]
  },
  {
   "cell_type": "code",
   "execution_count": 7,
   "metadata": {},
   "outputs": [
    {
     "data": {
      "text/plain": [
       "<convokit.model.corpus.Corpus at 0x1319baa10>"
      ]
     },
     "execution_count": 7,
     "metadata": {},
     "output_type": "execute_result"
    }
   ],
   "source": [
    "bow_transformer.fit_transform(corpus)"
   ]
  },
  {
   "cell_type": "code",
   "execution_count": 8,
   "metadata": {},
   "outputs": [
    {
     "name": "stdout",
     "output_type": "stream",
     "text": [
      "Utterance('id': 'nyx4d', 'root': nyx4d, 'reply-to': None, 'speaker': Speaker('id': reddmau5, 'meta': {'num_posts': 3, 'num_comments': 5}), 'timestamp': 1325452698, 'text': \"I was just reading about the Princeton Mic-Check and it's getting [national press](http://www.bloomberg.com/news/2011-12-29/princeton-brews-trouble-for-us-1-percenters-commentary-by-michael-lewis.html).\\n\\nI want to get a sense of what people felt like around campus. Anything interesting happen? Anything interesting coming up?\", 'meta': {'score': 2, 'top_level_comment': None, 'retrieved_on': -1, 'gilded': -1, 'gildings': None, 'subreddit': 'Cornell', 'stickied': False, 'permalink': '/r/Cornell/comments/nyx4d/so_i_was_away_this_past_semester_whats_going_on/', 'author_flair_text': '', 'bow_vector': <1x9340 sparse matrix of type '<class 'numpy.int64'>'\n",
      "\twith 42 stored elements in Compressed Sparse Row format>})\n"
     ]
    }
   ],
   "source": [
    "print(next(corpus.iter_utterances()))"
   ]
  },
  {
   "cell_type": "code",
   "execution_count": 9,
   "metadata": {},
   "outputs": [
    {
     "name": "stdout",
     "output_type": "stream",
     "text": [
      "Initializing default classification model (standard scaled logistic regression)\n"
     ]
    }
   ],
   "source": [
    "bow_classifier = BoWClassifier(obj_type=\"utterance\", labeller=lambda utt: utt.meta['score'] > 0)"
   ]
  },
  {
   "cell_type": "code",
   "execution_count": 10,
   "metadata": {},
   "outputs": [
    {
     "data": {
      "text/plain": [
       "<convokit.model.corpus.Corpus at 0x1319baa10>"
      ]
     },
     "execution_count": 10,
     "metadata": {},
     "output_type": "execute_result"
    }
   ],
   "source": [
    "bow_classifier.fit_transform(corpus)"
   ]
  },
  {
   "cell_type": "code",
   "execution_count": 11,
   "metadata": {},
   "outputs": [
    {
     "data": {
      "text/plain": [
       "{'score': 2,\n",
       " 'top_level_comment': None,\n",
       " 'retrieved_on': -1,\n",
       " 'gilded': -1,\n",
       " 'gildings': None,\n",
       " 'subreddit': 'Cornell',\n",
       " 'stickied': False,\n",
       " 'permalink': '/r/Cornell/comments/nyx4d/so_i_was_away_this_past_semester_whats_going_on/',\n",
       " 'author_flair_text': '',\n",
       " 'bow_vector': <1x9340 sparse matrix of type '<class 'numpy.int64'>'\n",
       " \twith 42 stored elements in Compressed Sparse Row format>,\n",
       " 'prediction': True,\n",
       " 'pred_score': 0.9999998491105527}"
      ]
     },
     "execution_count": 11,
     "metadata": {},
     "output_type": "execute_result"
    }
   ],
   "source": [
    "next(corpus.iter_utterances()).meta"
   ]
  },
  {
   "cell_type": "code",
   "execution_count": 12,
   "metadata": {},
   "outputs": [
    {
     "data": {
      "text/plain": [
       "array([[0, 0, 0, ..., 0, 0, 0]])"
      ]
     },
     "execution_count": 12,
     "metadata": {},
     "output_type": "execute_result"
    }
   ],
   "source": [
    "next(corpus.iter_utterances()).meta['bow_vector'].toarray()"
   ]
  },
  {
   "cell_type": "code",
   "execution_count": 13,
   "metadata": {},
   "outputs": [
    {
     "data": {
      "text/html": [
       "<div>\n",
       "<style scoped>\n",
       "    .dataframe tbody tr th:only-of-type {\n",
       "        vertical-align: middle;\n",
       "    }\n",
       "\n",
       "    .dataframe tbody tr th {\n",
       "        vertical-align: top;\n",
       "    }\n",
       "\n",
       "    .dataframe thead th {\n",
       "        text-align: right;\n",
       "    }\n",
       "</style>\n",
       "<table border=\"1\" class=\"dataframe\">\n",
       "  <thead>\n",
       "    <tr style=\"text-align: right;\">\n",
       "      <th></th>\n",
       "      <th>prediction</th>\n",
       "      <th>pred_score</th>\n",
       "    </tr>\n",
       "    <tr>\n",
       "      <th>id</th>\n",
       "      <th></th>\n",
       "      <th></th>\n",
       "    </tr>\n",
       "  </thead>\n",
       "  <tbody>\n",
       "    <tr>\n",
       "      <th>dhhm9sa</th>\n",
       "      <td>True</td>\n",
       "      <td>1.0</td>\n",
       "    </tr>\n",
       "    <tr>\n",
       "      <th>dw553ml</th>\n",
       "      <td>True</td>\n",
       "      <td>1.0</td>\n",
       "    </tr>\n",
       "    <tr>\n",
       "      <th>dvzmhdx</th>\n",
       "      <td>True</td>\n",
       "      <td>1.0</td>\n",
       "    </tr>\n",
       "    <tr>\n",
       "      <th>dvzpp79</th>\n",
       "      <td>True</td>\n",
       "      <td>1.0</td>\n",
       "    </tr>\n",
       "    <tr>\n",
       "      <th>dw0imao</th>\n",
       "      <td>True</td>\n",
       "      <td>1.0</td>\n",
       "    </tr>\n",
       "  </tbody>\n",
       "</table>\n",
       "</div>"
      ],
      "text/plain": [
       "         prediction  pred_score\n",
       "id                             \n",
       "dhhm9sa        True         1.0\n",
       "dw553ml        True         1.0\n",
       "dvzmhdx        True         1.0\n",
       "dvzpp79        True         1.0\n",
       "dw0imao        True         1.0"
      ]
     },
     "execution_count": 13,
     "metadata": {},
     "output_type": "execute_result"
    }
   ],
   "source": [
    "bow_classifier.summarize(corpus).head()"
   ]
  },
  {
   "cell_type": "code",
   "execution_count": 14,
   "metadata": {},
   "outputs": [
    {
     "data": {
      "text/plain": [
       "'One, just to get this out of the way: I\\'m only a sophomore in high school. In spite of this, my high school is one of the top public schools in New Jersey (and to put it bluntly it\\'s a very affluent area... although I\\'m not necessarily affluent like my classmates). The point of telling you guys that is kids start talking about all these amazing schools they want to go to in like eighth grade, so I know quite a bit about colleges. As stated in the title, I really want to go to Cornell, and I just was hoping that some of you guys and girls on here would be awesome enough to give out some SAT scores, ACT scores (if you took them), and extra curricular activities you guys got/did? My unweighted GPA is a 3.8 (weighted is a 4.2), and my first PSAT was an overall 1900, and from taking that I (not to sound cocky here) *know* that I\\'m going to get that score up a *lot*. I\\'m in all the highest level classes I can be in, and I\\'m looking to take multiple AP courses next year (junior). Do you think these are prospectively good stats? The last thing I\\'m wondering about is what type of extra curricular things I can do. Student government in my school is a popularity contest, so I have pretty much no chance of winning, giving the president is the biggest pothead in town. I\\'m probably lettering in track and baseball three years, and football two. I participate in my schools \"Key Club\" (basically community service stuff), and I am hoping to be some form of leadership position on that next year. I also am going to apply for being a \"peer leader\". So basically (back to my point) are there any other things that you guys suggest I get involved with?\\n\\n**TL;DR** Sophomore that has a 3.8 unweighted (4.2 weighted) GPA, 1900 PSAT (looking to improve greatly). Are these good prospective stats? What are some of your guys stats? What extra curricular activities do ya\\'ll suggest getting involved in?\\n\\nTHANKS IN ADVANCE FOR ANY RESPONSES &lt;3 (yeah I\\'m a boy, deal with the heart &gt;;) )\\n\\n**EDIT** My school uses a funky grading system; my weighted GPA would be a 4.52 at most schools'"
      ]
     },
     "execution_count": 14,
     "metadata": {},
     "output_type": "execute_result"
    }
   ],
   "source": [
    "corpus.get_utterance('15enm8').text"
   ]
  },
  {
   "cell_type": "code",
   "execution_count": 15,
   "metadata": {},
   "outputs": [
    {
     "data": {
      "text/html": [
       "<div>\n",
       "<style scoped>\n",
       "    .dataframe tbody tr th:only-of-type {\n",
       "        vertical-align: middle;\n",
       "    }\n",
       "\n",
       "    .dataframe tbody tr th {\n",
       "        vertical-align: top;\n",
       "    }\n",
       "\n",
       "    .dataframe thead th {\n",
       "        text-align: right;\n",
       "    }\n",
       "</style>\n",
       "<table border=\"1\" class=\"dataframe\">\n",
       "  <thead>\n",
       "    <tr style=\"text-align: right;\">\n",
       "      <th></th>\n",
       "      <th>coef</th>\n",
       "    </tr>\n",
       "    <tr>\n",
       "      <th>feat_name</th>\n",
       "      <th></th>\n",
       "    </tr>\n",
       "  </thead>\n",
       "  <tbody>\n",
       "    <tr>\n",
       "      <th>hotels</th>\n",
       "      <td>1.270001</td>\n",
       "    </tr>\n",
       "    <tr>\n",
       "      <th>hbhs</th>\n",
       "      <td>1.115690</td>\n",
       "    </tr>\n",
       "    <tr>\n",
       "      <th>engine</th>\n",
       "      <td>1.109702</td>\n",
       "    </tr>\n",
       "    <tr>\n",
       "      <th>involves</th>\n",
       "      <td>1.081836</td>\n",
       "    </tr>\n",
       "    <tr>\n",
       "      <th>lincoln</th>\n",
       "      <td>1.071464</td>\n",
       "    </tr>\n",
       "  </tbody>\n",
       "</table>\n",
       "</div>"
      ],
      "text/plain": [
       "               coef\n",
       "feat_name          \n",
       "hotels     1.270001\n",
       "hbhs       1.115690\n",
       "engine     1.109702\n",
       "involves   1.081836\n",
       "lincoln    1.071464"
      ]
     },
     "execution_count": 15,
     "metadata": {},
     "output_type": "execute_result"
    }
   ],
   "source": [
    "bow_classifier.get_coefs(feature_names=bow_transformer.get_vocabulary()).head()"
   ]
  },
  {
   "cell_type": "code",
   "execution_count": 16,
   "metadata": {},
   "outputs": [
    {
     "data": {
      "text/html": [
       "<div>\n",
       "<style scoped>\n",
       "    .dataframe tbody tr th:only-of-type {\n",
       "        vertical-align: middle;\n",
       "    }\n",
       "\n",
       "    .dataframe tbody tr th {\n",
       "        vertical-align: top;\n",
       "    }\n",
       "\n",
       "    .dataframe thead th {\n",
       "        text-align: right;\n",
       "    }\n",
       "</style>\n",
       "<table border=\"1\" class=\"dataframe\">\n",
       "  <thead>\n",
       "    <tr style=\"text-align: right;\">\n",
       "      <th></th>\n",
       "      <th>coef</th>\n",
       "    </tr>\n",
       "    <tr>\n",
       "      <th>feat_name</th>\n",
       "      <th></th>\n",
       "    </tr>\n",
       "  </thead>\n",
       "  <tbody>\n",
       "    <tr>\n",
       "      <th>mahogany</th>\n",
       "      <td>-0.667785</td>\n",
       "    </tr>\n",
       "    <tr>\n",
       "      <th>ignoreme</th>\n",
       "      <td>-0.722992</td>\n",
       "    </tr>\n",
       "    <tr>\n",
       "      <th>hilton</th>\n",
       "      <td>-0.742234</td>\n",
       "    </tr>\n",
       "    <tr>\n",
       "      <th>binary</th>\n",
       "      <td>-0.764383</td>\n",
       "    </tr>\n",
       "    <tr>\n",
       "      <th>creation</th>\n",
       "      <td>-0.784593</td>\n",
       "    </tr>\n",
       "  </tbody>\n",
       "</table>\n",
       "</div>"
      ],
      "text/plain": [
       "               coef\n",
       "feat_name          \n",
       "mahogany  -0.667785\n",
       "ignoreme  -0.722992\n",
       "hilton    -0.742234\n",
       "binary    -0.764383\n",
       "creation  -0.784593"
      ]
     },
     "execution_count": 16,
     "metadata": {},
     "output_type": "execute_result"
    }
   ],
   "source": [
    "bow_classifier.get_coefs(feature_names=bow_transformer.get_vocabulary()).tail()"
   ]
  },
  {
   "cell_type": "code",
   "execution_count": 17,
   "metadata": {},
   "outputs": [],
   "source": [
    "y_true, y_pred = bow_classifier.get_y_true_pred(corpus)"
   ]
  },
  {
   "cell_type": "code",
   "execution_count": 18,
   "metadata": {},
   "outputs": [
    {
     "data": {
      "text/plain": [
       "0.9279546644822538"
      ]
     },
     "execution_count": 18,
     "metadata": {},
     "output_type": "execute_result"
    }
   ],
   "source": [
    "bow_classifier.base_accuracy(corpus)"
   ]
  },
  {
   "cell_type": "code",
   "execution_count": 19,
   "metadata": {},
   "outputs": [
    {
     "data": {
      "text/plain": [
       "0.9491452589737737"
      ]
     },
     "execution_count": 19,
     "metadata": {},
     "output_type": "execute_result"
    }
   ],
   "source": [
    "bow_classifier.accuracy(corpus)"
   ]
  },
  {
   "cell_type": "code",
   "execution_count": 20,
   "metadata": {},
   "outputs": [
    {
     "name": "stdout",
     "output_type": "stream",
     "text": [
      "              precision    recall  f1-score   support\n",
      "\n",
      "       False       0.88      0.34      0.49      5365\n",
      "        True       0.95      1.00      0.97     69102\n",
      "\n",
      "    accuracy                           0.95     74467\n",
      "   macro avg       0.91      0.67      0.73     74467\n",
      "weighted avg       0.95      0.95      0.94     74467\n",
      "\n"
     ]
    }
   ],
   "source": [
    "print(bow_classifier.classification_report(corpus))"
   ]
  },
  {
   "cell_type": "markdown",
   "metadata": {},
   "source": [
    "## Bag-of-words prediction for comment thread doubling in length versus staying the same length based on first 5 utterances"
   ]
  },
  {
   "cell_type": "code",
   "execution_count": 21,
   "metadata": {},
   "outputs": [],
   "source": [
    "top_level_comment_ids = [utt.id for utt in corpus.iter_utterances() if utt.id == utt.meta['top_level_comment']]"
   ]
  },
  {
   "cell_type": "code",
   "execution_count": 22,
   "metadata": {},
   "outputs": [
    {
     "name": "stdout",
     "output_type": "stream",
     "text": [
      "Number of Speakers: 7568\n",
      "Number of Utterances: 74467\n",
      "Number of Conversations: 10744\n"
     ]
    }
   ],
   "source": [
    "corpus.print_summary_stats()"
   ]
  },
  {
   "cell_type": "code",
   "execution_count": 23,
   "metadata": {},
   "outputs": [
    {
     "data": {
      "text/plain": [
       "32893"
      ]
     },
     "execution_count": 23,
     "metadata": {},
     "output_type": "execute_result"
    }
   ],
   "source": [
    "len(top_level_comment_ids)"
   ]
  },
  {
   "cell_type": "code",
   "execution_count": 24,
   "metadata": {},
   "outputs": [
    {
     "name": "stdout",
     "output_type": "stream",
     "text": [
      "\u001b[91mWARNING: \u001b[0mConversation pcww4 reply-to chain does not form a valid tree.\n",
      "\u001b[91mWARNING: \u001b[0mConversation pegd2 reply-to chain does not form a valid tree.\n",
      "\u001b[91mWARNING: \u001b[0mFailed to find some of the specified new convo roots:\n",
      "\n",
      "['c3od15i', 'c3oyf4d', 'c3p8bze', 'c3p1rn8', 'c3ocsyl']\n"
     ]
    }
   ],
   "source": [
    "threads_corpus = corpus.reindex_conversations(new_convo_roots=top_level_comment_ids)"
   ]
  },
  {
   "cell_type": "code",
   "execution_count": 25,
   "metadata": {},
   "outputs": [
    {
     "name": "stdout",
     "output_type": "stream",
     "text": [
      "Number of Speakers: 6160\n",
      "Number of Utterances: 63697\n",
      "Number of Conversations: 32888\n"
     ]
    }
   ],
   "source": [
    "threads_corpus.print_summary_stats()"
   ]
  },
  {
   "cell_type": "code",
   "execution_count": 26,
   "metadata": {},
   "outputs": [],
   "source": [
    "for thread in threads_corpus.iter_conversations():\n",
    "    thread_len = len(list(thread.iter_utterances()))\n",
    "    if thread_len == 5:\n",
    "        thread.meta['thread_doubles'] = False\n",
    "    elif thread_len >= 10:\n",
    "        thread.meta['thread_doubles'] = True\n",
    "    else:\n",
    "        thread.meta['thread_doubles'] = None"
   ]
  },
  {
   "cell_type": "code",
   "execution_count": 27,
   "metadata": {},
   "outputs": [
    {
     "name": "stdout",
     "output_type": "stream",
     "text": [
      "Initializing default unigram CountVectorizer...\n"
     ]
    }
   ],
   "source": [
    "bow_transformer2 = BoWTransformer(obj_type=\"conversation\", \n",
    "                    text_func=lambda convo: \" \".join([utt.text for utt in convo.get_chronological_utterance_list()][:5]),\n",
    "                   )"
   ]
  },
  {
   "cell_type": "code",
   "execution_count": 28,
   "metadata": {},
   "outputs": [
    {
     "data": {
      "text/plain": [
       "<convokit.model.corpus.Corpus at 0x137d5bf50>"
      ]
     },
     "execution_count": 28,
     "metadata": {},
     "output_type": "execute_result"
    }
   ],
   "source": [
    "bow_transformer2.fit_transform(threads_corpus, selector=lambda convo: convo.meta['thread_doubles'] is not None)"
   ]
  },
  {
   "cell_type": "code",
   "execution_count": 29,
   "metadata": {},
   "outputs": [
    {
     "name": "stdout",
     "output_type": "stream",
     "text": [
      "Initializing default classification model (standard scaled logistic regression)\n"
     ]
    }
   ],
   "source": [
    "bow_classifier2 = BoWClassifier(obj_type=\"conversation\", \n",
    "                    labeller=lambda convo: convo.meta['thread_doubles'])"
   ]
  },
  {
   "cell_type": "code",
   "execution_count": 30,
   "metadata": {},
   "outputs": [
    {
     "data": {
      "text/plain": [
       "<convokit.model.corpus.Corpus at 0x137d5bf50>"
      ]
     },
     "execution_count": 30,
     "metadata": {},
     "output_type": "execute_result"
    }
   ],
   "source": [
    "bow_classifier2.fit_transform(threads_corpus, selector=lambda convo: convo.meta['thread_doubles'] is not None)"
   ]
  },
  {
   "cell_type": "code",
   "execution_count": 31,
   "metadata": {},
   "outputs": [],
   "source": [
    "summary = bow_classifier2.summarize(threads_corpus, selector=lambda convo: convo.meta['thread_doubles'] is not None)"
   ]
  },
  {
   "cell_type": "code",
   "execution_count": 32,
   "metadata": {},
   "outputs": [
    {
     "data": {
      "text/html": [
       "<div>\n",
       "<style scoped>\n",
       "    .dataframe tbody tr th:only-of-type {\n",
       "        vertical-align: middle;\n",
       "    }\n",
       "\n",
       "    .dataframe tbody tr th {\n",
       "        vertical-align: top;\n",
       "    }\n",
       "\n",
       "    .dataframe thead th {\n",
       "        text-align: right;\n",
       "    }\n",
       "</style>\n",
       "<table border=\"1\" class=\"dataframe\">\n",
       "  <thead>\n",
       "    <tr style=\"text-align: right;\">\n",
       "      <th></th>\n",
       "      <th>prediction</th>\n",
       "      <th>pred_score</th>\n",
       "    </tr>\n",
       "    <tr>\n",
       "      <th>id</th>\n",
       "      <th></th>\n",
       "      <th></th>\n",
       "    </tr>\n",
       "  </thead>\n",
       "  <tbody>\n",
       "    <tr>\n",
       "      <th>dt05qyf</th>\n",
       "      <td>True</td>\n",
       "      <td>1.0</td>\n",
       "    </tr>\n",
       "    <tr>\n",
       "      <th>dandio0</th>\n",
       "      <td>True</td>\n",
       "      <td>1.0</td>\n",
       "    </tr>\n",
       "    <tr>\n",
       "      <th>dwa6k96</th>\n",
       "      <td>True</td>\n",
       "      <td>1.0</td>\n",
       "    </tr>\n",
       "    <tr>\n",
       "      <th>dsldpxg</th>\n",
       "      <td>True</td>\n",
       "      <td>1.0</td>\n",
       "    </tr>\n",
       "    <tr>\n",
       "      <th>e70wjy3</th>\n",
       "      <td>True</td>\n",
       "      <td>1.0</td>\n",
       "    </tr>\n",
       "  </tbody>\n",
       "</table>\n",
       "</div>"
      ],
      "text/plain": [
       "         prediction  pred_score\n",
       "id                             \n",
       "dt05qyf        True         1.0\n",
       "dandio0        True         1.0\n",
       "dwa6k96        True         1.0\n",
       "dsldpxg        True         1.0\n",
       "e70wjy3        True         1.0"
      ]
     },
     "execution_count": 32,
     "metadata": {},
     "output_type": "execute_result"
    }
   ],
   "source": [
    "summary.head()"
   ]
  },
  {
   "cell_type": "code",
   "execution_count": 33,
   "metadata": {},
   "outputs": [
    {
     "data": {
      "text/html": [
       "<div>\n",
       "<style scoped>\n",
       "    .dataframe tbody tr th:only-of-type {\n",
       "        vertical-align: middle;\n",
       "    }\n",
       "\n",
       "    .dataframe tbody tr th {\n",
       "        vertical-align: top;\n",
       "    }\n",
       "\n",
       "    .dataframe thead th {\n",
       "        text-align: right;\n",
       "    }\n",
       "</style>\n",
       "<table border=\"1\" class=\"dataframe\">\n",
       "  <thead>\n",
       "    <tr style=\"text-align: right;\">\n",
       "      <th></th>\n",
       "      <th>prediction</th>\n",
       "      <th>pred_score</th>\n",
       "    </tr>\n",
       "    <tr>\n",
       "      <th>id</th>\n",
       "      <th></th>\n",
       "      <th></th>\n",
       "    </tr>\n",
       "  </thead>\n",
       "  <tbody>\n",
       "    <tr>\n",
       "      <th>drduxx1</th>\n",
       "      <td>False</td>\n",
       "      <td>2.464949e-12</td>\n",
       "    </tr>\n",
       "    <tr>\n",
       "      <th>dl7q7n2</th>\n",
       "      <td>False</td>\n",
       "      <td>8.294859e-14</td>\n",
       "    </tr>\n",
       "    <tr>\n",
       "      <th>dxfib8r</th>\n",
       "      <td>False</td>\n",
       "      <td>2.744422e-15</td>\n",
       "    </tr>\n",
       "    <tr>\n",
       "      <th>dwqaa06</th>\n",
       "      <td>False</td>\n",
       "      <td>2.809290e-16</td>\n",
       "    </tr>\n",
       "    <tr>\n",
       "      <th>d8y9akn</th>\n",
       "      <td>False</td>\n",
       "      <td>1.628800e-16</td>\n",
       "    </tr>\n",
       "  </tbody>\n",
       "</table>\n",
       "</div>"
      ],
      "text/plain": [
       "         prediction    pred_score\n",
       "id                               \n",
       "drduxx1       False  2.464949e-12\n",
       "dl7q7n2       False  8.294859e-14\n",
       "dxfib8r       False  2.744422e-15\n",
       "dwqaa06       False  2.809290e-16\n",
       "d8y9akn       False  1.628800e-16"
      ]
     },
     "execution_count": 33,
     "metadata": {},
     "output_type": "execute_result"
    }
   ],
   "source": [
    "summary.tail()"
   ]
  },
  {
   "cell_type": "code",
   "execution_count": 34,
   "metadata": {},
   "outputs": [
    {
     "data": {
      "text/plain": [
       "0.6761904761904762"
      ]
     },
     "execution_count": 34,
     "metadata": {},
     "output_type": "execute_result"
    }
   ],
   "source": [
    "bow_classifier2.base_accuracy(threads_corpus, selector=lambda convo: convo.meta['thread_doubles'] is not None)"
   ]
  },
  {
   "cell_type": "code",
   "execution_count": 35,
   "metadata": {},
   "outputs": [
    {
     "data": {
      "text/plain": [
       "0.9992063492063492"
      ]
     },
     "execution_count": 35,
     "metadata": {},
     "output_type": "execute_result"
    }
   ],
   "source": [
    "bow_classifier2.accuracy(threads_corpus, selector=lambda convo: convo.meta['thread_doubles'] is not None)"
   ]
  },
  {
   "cell_type": "code",
   "execution_count": 36,
   "metadata": {},
   "outputs": [
    {
     "name": "stdout",
     "output_type": "stream",
     "text": [
      "              precision    recall  f1-score   support\n",
      "\n",
      "       False       1.00      1.00      1.00       852\n",
      "        True       1.00      1.00      1.00       408\n",
      "\n",
      "    accuracy                           1.00      1260\n",
      "   macro avg       1.00      1.00      1.00      1260\n",
      "weighted avg       1.00      1.00      1.00      1260\n",
      "\n"
     ]
    }
   ],
   "source": [
    "print(bow_classifier2.classification_report(threads_corpus, selector=lambda convo: convo.meta['thread_doubles'] is not None))"
   ]
  },
  {
   "cell_type": "code",
   "execution_count": 37,
   "metadata": {},
   "outputs": [
    {
     "data": {
      "text/html": [
       "<div>\n",
       "<style scoped>\n",
       "    .dataframe tbody tr th:only-of-type {\n",
       "        vertical-align: middle;\n",
       "    }\n",
       "\n",
       "    .dataframe tbody tr th {\n",
       "        vertical-align: top;\n",
       "    }\n",
       "\n",
       "    .dataframe thead th {\n",
       "        text-align: right;\n",
       "    }\n",
       "</style>\n",
       "<table border=\"1\" class=\"dataframe\">\n",
       "  <thead>\n",
       "    <tr style=\"text-align: right;\">\n",
       "      <th></th>\n",
       "      <th>coef</th>\n",
       "    </tr>\n",
       "    <tr>\n",
       "      <th>feat_name</th>\n",
       "      <th></th>\n",
       "    </tr>\n",
       "  </thead>\n",
       "  <tbody>\n",
       "    <tr>\n",
       "      <th>nothing</th>\n",
       "      <td>0.611803</td>\n",
       "    </tr>\n",
       "    <tr>\n",
       "      <th>house</th>\n",
       "      <td>0.513433</td>\n",
       "    </tr>\n",
       "    <tr>\n",
       "      <th>common</th>\n",
       "      <td>0.508522</td>\n",
       "    </tr>\n",
       "    <tr>\n",
       "      <th>stop</th>\n",
       "      <td>0.481769</td>\n",
       "    </tr>\n",
       "    <tr>\n",
       "      <th>saw</th>\n",
       "      <td>0.463165</td>\n",
       "    </tr>\n",
       "    <tr>\n",
       "      <th>removed</th>\n",
       "      <td>0.456147</td>\n",
       "    </tr>\n",
       "    <tr>\n",
       "      <th>media</th>\n",
       "      <td>0.441399</td>\n",
       "    </tr>\n",
       "    <tr>\n",
       "      <th>profile</th>\n",
       "      <td>0.417387</td>\n",
       "    </tr>\n",
       "    <tr>\n",
       "      <th>500</th>\n",
       "      <td>0.414077</td>\n",
       "    </tr>\n",
       "    <tr>\n",
       "      <th>gonna</th>\n",
       "      <td>0.390052</td>\n",
       "    </tr>\n",
       "  </tbody>\n",
       "</table>\n",
       "</div>"
      ],
      "text/plain": [
       "               coef\n",
       "feat_name          \n",
       "nothing    0.611803\n",
       "house      0.513433\n",
       "common     0.508522\n",
       "stop       0.481769\n",
       "saw        0.463165\n",
       "removed    0.456147\n",
       "media      0.441399\n",
       "profile    0.417387\n",
       "500        0.414077\n",
       "gonna      0.390052"
      ]
     },
     "execution_count": 37,
     "metadata": {},
     "output_type": "execute_result"
    }
   ],
   "source": [
    "bow_classifier2.get_coefs(feature_names=bow_transformer2.get_vocabulary()).head(10)"
   ]
  },
  {
   "cell_type": "code",
   "execution_count": 38,
   "metadata": {},
   "outputs": [
    {
     "data": {
      "text/html": [
       "<div>\n",
       "<style scoped>\n",
       "    .dataframe tbody tr th:only-of-type {\n",
       "        vertical-align: middle;\n",
       "    }\n",
       "\n",
       "    .dataframe tbody tr th {\n",
       "        vertical-align: top;\n",
       "    }\n",
       "\n",
       "    .dataframe thead th {\n",
       "        text-align: right;\n",
       "    }\n",
       "</style>\n",
       "<table border=\"1\" class=\"dataframe\">\n",
       "  <thead>\n",
       "    <tr style=\"text-align: right;\">\n",
       "      <th></th>\n",
       "      <th>coef</th>\n",
       "    </tr>\n",
       "    <tr>\n",
       "      <th>feat_name</th>\n",
       "      <th></th>\n",
       "    </tr>\n",
       "  </thead>\n",
       "  <tbody>\n",
       "    <tr>\n",
       "      <th>hill</th>\n",
       "      <td>-0.371316</td>\n",
       "    </tr>\n",
       "    <tr>\n",
       "      <th>added</th>\n",
       "      <td>-0.383548</td>\n",
       "    </tr>\n",
       "    <tr>\n",
       "      <th>tried</th>\n",
       "      <td>-0.383805</td>\n",
       "    </tr>\n",
       "    <tr>\n",
       "      <th>nice</th>\n",
       "      <td>-0.387194</td>\n",
       "    </tr>\n",
       "    <tr>\n",
       "      <th>70</th>\n",
       "      <td>-0.403627</td>\n",
       "    </tr>\n",
       "    <tr>\n",
       "      <th>god</th>\n",
       "      <td>-0.416933</td>\n",
       "    </tr>\n",
       "    <tr>\n",
       "      <th>joke</th>\n",
       "      <td>-0.419558</td>\n",
       "    </tr>\n",
       "    <tr>\n",
       "      <th>goes</th>\n",
       "      <td>-0.427241</td>\n",
       "    </tr>\n",
       "    <tr>\n",
       "      <th>enjoy</th>\n",
       "      <td>-0.491965</td>\n",
       "    </tr>\n",
       "    <tr>\n",
       "      <th>thanks</th>\n",
       "      <td>-0.659166</td>\n",
       "    </tr>\n",
       "  </tbody>\n",
       "</table>\n",
       "</div>"
      ],
      "text/plain": [
       "               coef\n",
       "feat_name          \n",
       "hill      -0.371316\n",
       "added     -0.383548\n",
       "tried     -0.383805\n",
       "nice      -0.387194\n",
       "70        -0.403627\n",
       "god       -0.416933\n",
       "joke      -0.419558\n",
       "goes      -0.427241\n",
       "enjoy     -0.491965\n",
       "thanks    -0.659166"
      ]
     },
     "execution_count": 38,
     "metadata": {},
     "output_type": "execute_result"
    }
   ],
   "source": [
    "bow_classifier2.get_coefs(feature_names=bow_transformer2.get_vocabulary()).tail(10)"
   ]
  },
  {
   "cell_type": "code",
   "execution_count": 39,
   "metadata": {},
   "outputs": [
    {
     "data": {
      "text/plain": [
       "array([[852,   0],\n",
       "       [  1, 407]])"
      ]
     },
     "execution_count": 39,
     "metadata": {},
     "output_type": "execute_result"
    }
   ],
   "source": [
    "bow_classifier2.confusion_matrix(threads_corpus, selector=lambda convo: convo.meta['thread_doubles'] is not None)"
   ]
  },
  {
   "cell_type": "code",
   "execution_count": 40,
   "metadata": {},
   "outputs": [],
   "source": [
    "import pandas as pd"
   ]
  },
  {
   "cell_type": "code",
   "execution_count": 41,
   "metadata": {},
   "outputs": [
    {
     "name": "stdout",
     "output_type": "stream",
     "text": [
      "Using corpus objects...\n",
      "\n",
      "Running a cross-validated evaluation...\n",
      "Done.\n"
     ]
    },
    {
     "data": {
      "text/plain": [
       "array([0.65079365, 0.56746032, 0.59126984, 0.58730159, 0.6031746 ])"
      ]
     },
     "execution_count": 41,
     "metadata": {},
     "output_type": "execute_result"
    }
   ],
   "source": [
    "bow_classifier2.evaluate_with_cv(threads_corpus, selector=lambda convo: convo.meta['thread_doubles'] is not None)"
   ]
  },
  {
   "cell_type": "code",
   "execution_count": 42,
   "metadata": {},
   "outputs": [
    {
     "name": "stdout",
     "output_type": "stream",
     "text": [
      "Using corpus objects...\n",
      "\n",
      "Running a train-test-split evaluation...\n",
      "Done.\n"
     ]
    },
    {
     "data": {
      "text/plain": [
       "(0.5793650793650794, array([[108,  51],\n",
       "        [ 55,  38]]))"
      ]
     },
     "execution_count": 42,
     "metadata": {},
     "output_type": "execute_result"
    }
   ],
   "source": [
    "bow_classifier2.evaluate_with_train_test_split(threads_corpus, selector=lambda convo: convo.meta['thread_doubles'] is not None)"
   ]
  },
  {
   "cell_type": "code",
   "execution_count": 43,
   "metadata": {},
   "outputs": [],
   "source": [
    "objs = list(threads_corpus.iter_conversations(selector=lambda convo: convo.meta['thread_doubles'] is not None))"
   ]
  },
  {
   "cell_type": "code",
   "execution_count": null,
   "metadata": {},
   "outputs": [],
   "source": []
  },
  {
   "cell_type": "code",
   "execution_count": 44,
   "metadata": {},
   "outputs": [
    {
     "name": "stdout",
     "output_type": "stream",
     "text": [
      "Using input list of corpus objects...\n",
      "\n"
     ]
    }
   ],
   "source": [
    "objs = bow_classifier2.transform_objs(objs)"
   ]
  },
  {
   "cell_type": "code",
   "execution_count": 45,
   "metadata": {},
   "outputs": [
    {
     "data": {
      "text/html": [
       "<div>\n",
       "<style scoped>\n",
       "    .dataframe tbody tr th:only-of-type {\n",
       "        vertical-align: middle;\n",
       "    }\n",
       "\n",
       "    .dataframe tbody tr th {\n",
       "        vertical-align: top;\n",
       "    }\n",
       "\n",
       "    .dataframe thead th {\n",
       "        text-align: right;\n",
       "    }\n",
       "</style>\n",
       "<table border=\"1\" class=\"dataframe\">\n",
       "  <thead>\n",
       "    <tr style=\"text-align: right;\">\n",
       "      <th></th>\n",
       "      <th>prediction</th>\n",
       "      <th>pred_score</th>\n",
       "    </tr>\n",
       "    <tr>\n",
       "      <th>id</th>\n",
       "      <th></th>\n",
       "      <th></th>\n",
       "    </tr>\n",
       "  </thead>\n",
       "  <tbody>\n",
       "    <tr>\n",
       "      <th>e447bx1</th>\n",
       "      <td>False</td>\n",
       "      <td>8.868021e-13</td>\n",
       "    </tr>\n",
       "    <tr>\n",
       "      <th>e1quixk</th>\n",
       "      <td>False</td>\n",
       "      <td>3.485643e-12</td>\n",
       "    </tr>\n",
       "    <tr>\n",
       "      <th>e0iez9l</th>\n",
       "      <td>False</td>\n",
       "      <td>7.631712e-12</td>\n",
       "    </tr>\n",
       "    <tr>\n",
       "      <th>c3n0z5p</th>\n",
       "      <td>False</td>\n",
       "      <td>1.985637e-11</td>\n",
       "    </tr>\n",
       "    <tr>\n",
       "      <th>dl7q7n2</th>\n",
       "      <td>False</td>\n",
       "      <td>2.557649e-11</td>\n",
       "    </tr>\n",
       "    <tr>\n",
       "      <th>ctdyekm</th>\n",
       "      <td>False</td>\n",
       "      <td>2.918384e-11</td>\n",
       "    </tr>\n",
       "    <tr>\n",
       "      <th>dl64gc9</th>\n",
       "      <td>False</td>\n",
       "      <td>5.108080e-11</td>\n",
       "    </tr>\n",
       "    <tr>\n",
       "      <th>dwqaa06</th>\n",
       "      <td>False</td>\n",
       "      <td>8.338774e-11</td>\n",
       "    </tr>\n",
       "    <tr>\n",
       "      <th>d8y9akn</th>\n",
       "      <td>False</td>\n",
       "      <td>1.351222e-10</td>\n",
       "    </tr>\n",
       "    <tr>\n",
       "      <th>drduxx1</th>\n",
       "      <td>False</td>\n",
       "      <td>2.494012e-10</td>\n",
       "    </tr>\n",
       "    <tr>\n",
       "      <th>c4drajn</th>\n",
       "      <td>False</td>\n",
       "      <td>5.730475e-10</td>\n",
       "    </tr>\n",
       "    <tr>\n",
       "      <th>dxfib8r</th>\n",
       "      <td>False</td>\n",
       "      <td>8.271538e-10</td>\n",
       "    </tr>\n",
       "    <tr>\n",
       "      <th>cb2p8xg</th>\n",
       "      <td>False</td>\n",
       "      <td>1.265678e-09</td>\n",
       "    </tr>\n",
       "    <tr>\n",
       "      <th>cyeq0e8</th>\n",
       "      <td>False</td>\n",
       "      <td>1.305999e-09</td>\n",
       "    </tr>\n",
       "    <tr>\n",
       "      <th>djxk078</th>\n",
       "      <td>False</td>\n",
       "      <td>1.959057e-09</td>\n",
       "    </tr>\n",
       "    <tr>\n",
       "      <th>dvd271f</th>\n",
       "      <td>False</td>\n",
       "      <td>3.469294e-09</td>\n",
       "    </tr>\n",
       "    <tr>\n",
       "      <th>cy3ilty</th>\n",
       "      <td>False</td>\n",
       "      <td>4.466918e-09</td>\n",
       "    </tr>\n",
       "    <tr>\n",
       "      <th>d0kzbx8</th>\n",
       "      <td>False</td>\n",
       "      <td>8.543851e-09</td>\n",
       "    </tr>\n",
       "    <tr>\n",
       "      <th>dshl306</th>\n",
       "      <td>False</td>\n",
       "      <td>1.358983e-08</td>\n",
       "    </tr>\n",
       "    <tr>\n",
       "      <th>djj19uc</th>\n",
       "      <td>False</td>\n",
       "      <td>1.542418e-08</td>\n",
       "    </tr>\n",
       "    <tr>\n",
       "      <th>d9otjeg</th>\n",
       "      <td>False</td>\n",
       "      <td>1.667703e-08</td>\n",
       "    </tr>\n",
       "    <tr>\n",
       "      <th>dxjwvcr</th>\n",
       "      <td>False</td>\n",
       "      <td>1.695943e-08</td>\n",
       "    </tr>\n",
       "    <tr>\n",
       "      <th>c4lrgmt</th>\n",
       "      <td>False</td>\n",
       "      <td>2.017762e-08</td>\n",
       "    </tr>\n",
       "    <tr>\n",
       "      <th>cs6l2cd</th>\n",
       "      <td>False</td>\n",
       "      <td>2.356674e-08</td>\n",
       "    </tr>\n",
       "    <tr>\n",
       "      <th>dy7qjks</th>\n",
       "      <td>False</td>\n",
       "      <td>3.531490e-08</td>\n",
       "    </tr>\n",
       "    <tr>\n",
       "      <th>dbdog59</th>\n",
       "      <td>False</td>\n",
       "      <td>3.864686e-08</td>\n",
       "    </tr>\n",
       "    <tr>\n",
       "      <th>dkigpy0</th>\n",
       "      <td>False</td>\n",
       "      <td>4.301317e-08</td>\n",
       "    </tr>\n",
       "    <tr>\n",
       "      <th>dqc7crt</th>\n",
       "      <td>False</td>\n",
       "      <td>6.281930e-08</td>\n",
       "    </tr>\n",
       "    <tr>\n",
       "      <th>du5v9vg</th>\n",
       "      <td>False</td>\n",
       "      <td>6.564624e-08</td>\n",
       "    </tr>\n",
       "    <tr>\n",
       "      <th>dqz7seu</th>\n",
       "      <td>False</td>\n",
       "      <td>8.393026e-08</td>\n",
       "    </tr>\n",
       "    <tr>\n",
       "      <th>...</th>\n",
       "      <td>...</td>\n",
       "      <td>...</td>\n",
       "    </tr>\n",
       "    <tr>\n",
       "      <th>dtpi94f</th>\n",
       "      <td>True</td>\n",
       "      <td>9.997980e-01</td>\n",
       "    </tr>\n",
       "    <tr>\n",
       "      <th>c4dr55o</th>\n",
       "      <td>True</td>\n",
       "      <td>9.998273e-01</td>\n",
       "    </tr>\n",
       "    <tr>\n",
       "      <th>dpv9yxg</th>\n",
       "      <td>True</td>\n",
       "      <td>9.998823e-01</td>\n",
       "    </tr>\n",
       "    <tr>\n",
       "      <th>dayzasi</th>\n",
       "      <td>True</td>\n",
       "      <td>9.998877e-01</td>\n",
       "    </tr>\n",
       "    <tr>\n",
       "      <th>dgyns6v</th>\n",
       "      <td>True</td>\n",
       "      <td>9.998991e-01</td>\n",
       "    </tr>\n",
       "    <tr>\n",
       "      <th>c2n8w6m</th>\n",
       "      <td>True</td>\n",
       "      <td>9.999123e-01</td>\n",
       "    </tr>\n",
       "    <tr>\n",
       "      <th>dxa82rx</th>\n",
       "      <td>True</td>\n",
       "      <td>9.999420e-01</td>\n",
       "    </tr>\n",
       "    <tr>\n",
       "      <th>d9w0rsy</th>\n",
       "      <td>True</td>\n",
       "      <td>9.999456e-01</td>\n",
       "    </tr>\n",
       "    <tr>\n",
       "      <th>dvhjc13</th>\n",
       "      <td>True</td>\n",
       "      <td>9.999529e-01</td>\n",
       "    </tr>\n",
       "    <tr>\n",
       "      <th>czqe3vw</th>\n",
       "      <td>True</td>\n",
       "      <td>9.999636e-01</td>\n",
       "    </tr>\n",
       "    <tr>\n",
       "      <th>drzdhb4</th>\n",
       "      <td>True</td>\n",
       "      <td>9.999689e-01</td>\n",
       "    </tr>\n",
       "    <tr>\n",
       "      <th>e1soayf</th>\n",
       "      <td>True</td>\n",
       "      <td>9.999707e-01</td>\n",
       "    </tr>\n",
       "    <tr>\n",
       "      <th>e7pp62a</th>\n",
       "      <td>True</td>\n",
       "      <td>9.999729e-01</td>\n",
       "    </tr>\n",
       "    <tr>\n",
       "      <th>dn521re</th>\n",
       "      <td>True</td>\n",
       "      <td>9.999780e-01</td>\n",
       "    </tr>\n",
       "    <tr>\n",
       "      <th>dytawoo</th>\n",
       "      <td>True</td>\n",
       "      <td>9.999861e-01</td>\n",
       "    </tr>\n",
       "    <tr>\n",
       "      <th>de9blpp</th>\n",
       "      <td>True</td>\n",
       "      <td>9.999881e-01</td>\n",
       "    </tr>\n",
       "    <tr>\n",
       "      <th>dwa6k96</th>\n",
       "      <td>True</td>\n",
       "      <td>9.999962e-01</td>\n",
       "    </tr>\n",
       "    <tr>\n",
       "      <th>e2og8vj</th>\n",
       "      <td>True</td>\n",
       "      <td>9.999964e-01</td>\n",
       "    </tr>\n",
       "    <tr>\n",
       "      <th>dadhzqa</th>\n",
       "      <td>True</td>\n",
       "      <td>9.999968e-01</td>\n",
       "    </tr>\n",
       "    <tr>\n",
       "      <th>dn4rvuv</th>\n",
       "      <td>True</td>\n",
       "      <td>9.999969e-01</td>\n",
       "    </tr>\n",
       "    <tr>\n",
       "      <th>e16x0tu</th>\n",
       "      <td>True</td>\n",
       "      <td>9.999973e-01</td>\n",
       "    </tr>\n",
       "    <tr>\n",
       "      <th>cv19blc</th>\n",
       "      <td>True</td>\n",
       "      <td>9.999977e-01</td>\n",
       "    </tr>\n",
       "    <tr>\n",
       "      <th>dn2ncvy</th>\n",
       "      <td>True</td>\n",
       "      <td>9.999988e-01</td>\n",
       "    </tr>\n",
       "    <tr>\n",
       "      <th>d5n5wr9</th>\n",
       "      <td>True</td>\n",
       "      <td>9.999988e-01</td>\n",
       "    </tr>\n",
       "    <tr>\n",
       "      <th>dsldpxg</th>\n",
       "      <td>True</td>\n",
       "      <td>9.999991e-01</td>\n",
       "    </tr>\n",
       "    <tr>\n",
       "      <th>dxw7g0r</th>\n",
       "      <td>True</td>\n",
       "      <td>9.999998e-01</td>\n",
       "    </tr>\n",
       "    <tr>\n",
       "      <th>dysnyb3</th>\n",
       "      <td>True</td>\n",
       "      <td>9.999999e-01</td>\n",
       "    </tr>\n",
       "    <tr>\n",
       "      <th>e63wc3n</th>\n",
       "      <td>True</td>\n",
       "      <td>1.000000e+00</td>\n",
       "    </tr>\n",
       "    <tr>\n",
       "      <th>dandio0</th>\n",
       "      <td>True</td>\n",
       "      <td>1.000000e+00</td>\n",
       "    </tr>\n",
       "    <tr>\n",
       "      <th>dt05qyf</th>\n",
       "      <td>True</td>\n",
       "      <td>1.000000e+00</td>\n",
       "    </tr>\n",
       "  </tbody>\n",
       "</table>\n",
       "<p>1260 rows × 2 columns</p>\n",
       "</div>"
      ],
      "text/plain": [
       "         prediction    pred_score\n",
       "id                               \n",
       "e447bx1       False  8.868021e-13\n",
       "e1quixk       False  3.485643e-12\n",
       "e0iez9l       False  7.631712e-12\n",
       "c3n0z5p       False  1.985637e-11\n",
       "dl7q7n2       False  2.557649e-11\n",
       "ctdyekm       False  2.918384e-11\n",
       "dl64gc9       False  5.108080e-11\n",
       "dwqaa06       False  8.338774e-11\n",
       "d8y9akn       False  1.351222e-10\n",
       "drduxx1       False  2.494012e-10\n",
       "c4drajn       False  5.730475e-10\n",
       "dxfib8r       False  8.271538e-10\n",
       "cb2p8xg       False  1.265678e-09\n",
       "cyeq0e8       False  1.305999e-09\n",
       "djxk078       False  1.959057e-09\n",
       "dvd271f       False  3.469294e-09\n",
       "cy3ilty       False  4.466918e-09\n",
       "d0kzbx8       False  8.543851e-09\n",
       "dshl306       False  1.358983e-08\n",
       "djj19uc       False  1.542418e-08\n",
       "d9otjeg       False  1.667703e-08\n",
       "dxjwvcr       False  1.695943e-08\n",
       "c4lrgmt       False  2.017762e-08\n",
       "cs6l2cd       False  2.356674e-08\n",
       "dy7qjks       False  3.531490e-08\n",
       "dbdog59       False  3.864686e-08\n",
       "dkigpy0       False  4.301317e-08\n",
       "dqc7crt       False  6.281930e-08\n",
       "du5v9vg       False  6.564624e-08\n",
       "dqz7seu       False  8.393026e-08\n",
       "...             ...           ...\n",
       "dtpi94f        True  9.997980e-01\n",
       "c4dr55o        True  9.998273e-01\n",
       "dpv9yxg        True  9.998823e-01\n",
       "dayzasi        True  9.998877e-01\n",
       "dgyns6v        True  9.998991e-01\n",
       "c2n8w6m        True  9.999123e-01\n",
       "dxa82rx        True  9.999420e-01\n",
       "d9w0rsy        True  9.999456e-01\n",
       "dvhjc13        True  9.999529e-01\n",
       "czqe3vw        True  9.999636e-01\n",
       "drzdhb4        True  9.999689e-01\n",
       "e1soayf        True  9.999707e-01\n",
       "e7pp62a        True  9.999729e-01\n",
       "dn521re        True  9.999780e-01\n",
       "dytawoo        True  9.999861e-01\n",
       "de9blpp        True  9.999881e-01\n",
       "dwa6k96        True  9.999962e-01\n",
       "e2og8vj        True  9.999964e-01\n",
       "dadhzqa        True  9.999968e-01\n",
       "dn4rvuv        True  9.999969e-01\n",
       "e16x0tu        True  9.999973e-01\n",
       "cv19blc        True  9.999977e-01\n",
       "dn2ncvy        True  9.999988e-01\n",
       "d5n5wr9        True  9.999988e-01\n",
       "dsldpxg        True  9.999991e-01\n",
       "dxw7g0r        True  9.999998e-01\n",
       "dysnyb3        True  9.999999e-01\n",
       "e63wc3n        True  1.000000e+00\n",
       "dandio0        True  1.000000e+00\n",
       "dt05qyf        True  1.000000e+00\n",
       "\n",
       "[1260 rows x 2 columns]"
      ]
     },
     "execution_count": 45,
     "metadata": {},
     "output_type": "execute_result"
    }
   ],
   "source": [
    "bow_classifier2.summarize_objs(objs)"
   ]
  },
  {
   "cell_type": "markdown",
   "metadata": {},
   "source": [
    "## Paired bag-of-words prediction for comment thread doubling in length versus staying the same length based on first 5 utterances"
   ]
  },
  {
   "cell_type": "code",
   "execution_count": 46,
   "metadata": {},
   "outputs": [],
   "source": [
    "from convokit import Pairer, PairedBoW"
   ]
  },
  {
   "cell_type": "code",
   "execution_count": 47,
   "metadata": {},
   "outputs": [
    {
     "name": "stdout",
     "output_type": "stream",
     "text": [
      "Dataset already exists at /Users/calebchiam/.convokit/downloads/subreddit-Cornell\n"
     ]
    }
   ],
   "source": [
    "corpus = Corpus(filename=download('subreddit-Cornell'))"
   ]
  },
  {
   "cell_type": "code",
   "execution_count": 48,
   "metadata": {},
   "outputs": [
    {
     "name": "stdout",
     "output_type": "stream",
     "text": [
      "\u001b[91mWARNING: \u001b[0mConversation pcww4 reply-to chain does not form a valid tree.\n",
      "\u001b[91mWARNING: \u001b[0mConversation pegd2 reply-to chain does not form a valid tree.\n",
      "\u001b[91mWARNING: \u001b[0mFailed to find some of the specified new convo roots:\n",
      "\n",
      "['c3od15i', 'c3oyf4d', 'c3p8bze', 'c3p1rn8', 'c3ocsyl']\n"
     ]
    }
   ],
   "source": [
    "threads_corpus = corpus.reindex_conversations(new_convo_roots=top_level_comment_ids, preserve_convo_meta=True)"
   ]
  },
  {
   "cell_type": "code",
   "execution_count": 49,
   "metadata": {},
   "outputs": [
    {
     "data": {
      "text/plain": [
       "Conversation({'obj_type': 'conversation', '_owner': <convokit.model.corpus.Corpus object at 0x139106a50>, 'meta': {'original_convo_meta': {'title': \"What are some things that I should buy for my dorm that Cornell doesn't tell me about?\", 'num_comments': 9, 'domain': 'self.Cornell', 'timestamp': 1533313697, 'subreddit': 'Cornell', 'gilded': 0, 'gildings': None, 'stickied': False, 'author_flair_text': 'A&amp;S 2022'}, 'original_convo_id': '94b1uu'}, '_id': 'e3jmnsh', '_utterance_ids': ['e3jmnsh', 'e3jne5u', 'e3joeer', 'e3jrlny'], '_speaker_ids': None, 'tree': None})"
      ]
     },
     "execution_count": 49,
     "metadata": {},
     "output_type": "execute_result"
    }
   ],
   "source": [
    "next(threads_corpus.iter_conversations())"
   ]
  },
  {
   "cell_type": "code",
   "execution_count": 50,
   "metadata": {},
   "outputs": [],
   "source": [
    "for thread in threads_corpus.iter_conversations():\n",
    "    thread_len = len(list(thread.iter_utterances()))\n",
    "    if thread_len == 5:\n",
    "        thread.meta['thread_doubles'] = False\n",
    "    elif thread_len >= 10:\n",
    "        thread.meta['thread_doubles'] = True\n",
    "    else:\n",
    "        thread.meta['thread_doubles'] = None"
   ]
  },
  {
   "cell_type": "code",
   "execution_count": 51,
   "metadata": {},
   "outputs": [
    {
     "data": {
      "text/plain": [
       "{'original_convo_meta': {'title': \"What are some things that I should buy for my dorm that Cornell doesn't tell me about?\",\n",
       "  'num_comments': 9,\n",
       "  'domain': 'self.Cornell',\n",
       "  'timestamp': 1533313697,\n",
       "  'subreddit': 'Cornell',\n",
       "  'gilded': 0,\n",
       "  'gildings': None,\n",
       "  'stickied': False,\n",
       "  'author_flair_text': 'A&amp;S 2022'},\n",
       " 'original_convo_id': '94b1uu',\n",
       " 'thread_doubles': None}"
      ]
     },
     "execution_count": 51,
     "metadata": {},
     "output_type": "execute_result"
    }
   ],
   "source": [
    "next(threads_corpus.iter_conversations()).meta"
   ]
  },
  {
   "cell_type": "code",
   "execution_count": 52,
   "metadata": {},
   "outputs": [],
   "source": [
    "pairer = Pairer(obj_type=\"conversation\", \n",
    "                pos_label_func=lambda convo: convo.meta['thread_doubles'], \n",
    "                neg_label_func=lambda convo: convo.meta['thread_doubles'] == False,\n",
    "                pairing_func=lambda convo: convo.meta['original_convo_id']\n",
    "               )"
   ]
  },
  {
   "cell_type": "code",
   "execution_count": 53,
   "metadata": {},
   "outputs": [
    {
     "data": {
      "text/plain": [
       "<convokit.model.corpus.Corpus at 0x139106a50>"
      ]
     },
     "execution_count": 53,
     "metadata": {},
     "output_type": "execute_result"
    }
   ],
   "source": [
    "pairer.transform(threads_corpus, selector=lambda convo: convo.meta['thread_doubles'] is not None)"
   ]
  },
  {
   "cell_type": "code",
   "execution_count": 54,
   "metadata": {},
   "outputs": [
    {
     "name": "stdout",
     "output_type": "stream",
     "text": [
      "Conversation('id': 'e3jmnsh', 'utterances': ['e3jmnsh', 'e3jne5u', 'e3joeer', 'e3jrlny'], 'meta': {'original_convo_meta': {'title': \"What are some things that I should buy for my dorm that Cornell doesn't tell me about?\", 'num_comments': 9, 'domain': 'self.Cornell', 'timestamp': 1533313697, 'subreddit': 'Cornell', 'gilded': 0, 'gildings': None, 'stickied': False, 'author_flair_text': 'A&amp;S 2022'}, 'original_convo_id': '94b1uu', 'thread_doubles': None, 'pair_obj_label': None, 'pair_id': None, 'pair_orientation': None})\n"
     ]
    }
   ],
   "source": [
    "print(next(threads_corpus.iter_conversations()))"
   ]
  },
  {
   "cell_type": "code",
   "execution_count": 55,
   "metadata": {},
   "outputs": [
    {
     "name": "stdout",
     "output_type": "stream",
     "text": [
      "Conversation('id': 'cwezqjo', 'utterances': ['cwezqjo', 'cwf0lpd', 'cwf2ay5', 'cwf2vif', 'cwf3v3k'], 'meta': {'original_convo_meta': {'title': \"Watters' World Gets Shut Down at Cornell University\", 'num_comments': 14, 'domain': 'insider.foxnews.com', 'timestamp': 1445958710, 'subreddit': 'Cornell', 'gilded': 0, 'gildings': None, 'stickied': False, 'author_flair_text': ''}, 'original_convo_id': '3qff0l', 'thread_doubles': False, 'pair_obj_label': 'neg', 'pair_id': '3qff0l', 'pair_orientation': 'neg'})\n"
     ]
    }
   ],
   "source": [
    "for convo in threads_corpus.iter_conversations():\n",
    "    if convo.meta['pair_id'] is not None:\n",
    "        print(convo)\n",
    "        break"
   ]
  },
  {
   "cell_type": "code",
   "execution_count": 56,
   "metadata": {},
   "outputs": [],
   "source": [
    "from convokit import BoWTransformer"
   ]
  },
  {
   "cell_type": "code",
   "execution_count": 57,
   "metadata": {},
   "outputs": [
    {
     "name": "stdout",
     "output_type": "stream",
     "text": [
      "Initializing default unigram CountVectorizer...\n"
     ]
    }
   ],
   "source": [
    "bow_transformer = BoWTransformer(obj_type=\"conversation\", \n",
    "                                 text_func=lambda convo: \" \".join([utt.text for utt in convo.get_chronological_utterance_list()][:5]),\n",
    "                    )"
   ]
  },
  {
   "cell_type": "code",
   "execution_count": 58,
   "metadata": {},
   "outputs": [
    {
     "data": {
      "text/plain": [
       "<convokit.model.corpus.Corpus at 0x139106a50>"
      ]
     },
     "execution_count": 58,
     "metadata": {},
     "output_type": "execute_result"
    }
   ],
   "source": [
    "bow_transformer.fit_transform(threads_corpus, selector=lambda convo: convo.meta['pair_id'] is not None)"
   ]
  },
  {
   "cell_type": "code",
   "execution_count": 59,
   "metadata": {},
   "outputs": [],
   "source": [
    "paired_bow = PairedBoW(obj_type=\"conversation\")"
   ]
  },
  {
   "cell_type": "code",
   "execution_count": 60,
   "metadata": {},
   "outputs": [
    {
     "name": "stdout",
     "output_type": "stream",
     "text": [
      "Found 65 valid pairs.\n"
     ]
    },
    {
     "data": {
      "text/plain": [
       "<convokit.paired_prediction.pairedBoW.PairedBoW at 0x1117d3750>"
      ]
     },
     "execution_count": 60,
     "metadata": {},
     "output_type": "execute_result"
    }
   ],
   "source": [
    "paired_bow.fit(threads_corpus)"
   ]
  },
  {
   "cell_type": "code",
   "execution_count": 61,
   "metadata": {},
   "outputs": [
    {
     "name": "stdout",
     "output_type": "stream",
     "text": [
      "Found 65 valid pairs.\n"
     ]
    },
    {
     "data": {
      "text/plain": [
       "0.4461538461538462"
      ]
     },
     "execution_count": 61,
     "metadata": {},
     "output_type": "execute_result"
    }
   ],
   "source": [
    "paired_bow.summarize(threads_corpus)"
   ]
  },
  {
   "cell_type": "code",
   "execution_count": 62,
   "metadata": {},
   "outputs": [
    {
     "data": {
      "text/html": [
       "<div>\n",
       "<style scoped>\n",
       "    .dataframe tbody tr th:only-of-type {\n",
       "        vertical-align: middle;\n",
       "    }\n",
       "\n",
       "    .dataframe tbody tr th {\n",
       "        vertical-align: top;\n",
       "    }\n",
       "\n",
       "    .dataframe thead th {\n",
       "        text-align: right;\n",
       "    }\n",
       "</style>\n",
       "<table border=\"1\" class=\"dataframe\">\n",
       "  <thead>\n",
       "    <tr style=\"text-align: right;\">\n",
       "      <th></th>\n",
       "      <th>coef</th>\n",
       "    </tr>\n",
       "    <tr>\n",
       "      <th>feat_name</th>\n",
       "      <th></th>\n",
       "    </tr>\n",
       "  </thead>\n",
       "  <tbody>\n",
       "    <tr>\n",
       "      <th>accepted</th>\n",
       "      <td>0.362877</td>\n",
       "    </tr>\n",
       "    <tr>\n",
       "      <th>school</th>\n",
       "      <td>0.334063</td>\n",
       "    </tr>\n",
       "    <tr>\n",
       "      <th>shit</th>\n",
       "      <td>0.316190</td>\n",
       "    </tr>\n",
       "    <tr>\n",
       "      <th>similar</th>\n",
       "      <td>0.284726</td>\n",
       "    </tr>\n",
       "    <tr>\n",
       "      <th>ve</th>\n",
       "      <td>0.263209</td>\n",
       "    </tr>\n",
       "    <tr>\n",
       "      <th>computer</th>\n",
       "      <td>0.262590</td>\n",
       "    </tr>\n",
       "    <tr>\n",
       "      <th>since</th>\n",
       "      <td>0.259912</td>\n",
       "    </tr>\n",
       "    <tr>\n",
       "      <th>him</th>\n",
       "      <td>0.249187</td>\n",
       "    </tr>\n",
       "    <tr>\n",
       "      <th>speak</th>\n",
       "      <td>0.248708</td>\n",
       "    </tr>\n",
       "    <tr>\n",
       "      <th>wrong</th>\n",
       "      <td>0.247813</td>\n",
       "    </tr>\n",
       "    <tr>\n",
       "      <th>easy</th>\n",
       "      <td>0.246033</td>\n",
       "    </tr>\n",
       "    <tr>\n",
       "      <th>isn</th>\n",
       "      <td>0.244036</td>\n",
       "    </tr>\n",
       "    <tr>\n",
       "      <th>down</th>\n",
       "      <td>0.243739</td>\n",
       "    </tr>\n",
       "    <tr>\n",
       "      <th>why</th>\n",
       "      <td>0.236264</td>\n",
       "    </tr>\n",
       "    <tr>\n",
       "      <th>gpa</th>\n",
       "      <td>0.234021</td>\n",
       "    </tr>\n",
       "    <tr>\n",
       "      <th>sure</th>\n",
       "      <td>0.225105</td>\n",
       "    </tr>\n",
       "    <tr>\n",
       "      <th>summer</th>\n",
       "      <td>0.223588</td>\n",
       "    </tr>\n",
       "    <tr>\n",
       "      <th>although</th>\n",
       "      <td>0.220264</td>\n",
       "    </tr>\n",
       "    <tr>\n",
       "      <th>anyway</th>\n",
       "      <td>0.218223</td>\n",
       "    </tr>\n",
       "    <tr>\n",
       "      <th>were</th>\n",
       "      <td>0.213711</td>\n",
       "    </tr>\n",
       "    <tr>\n",
       "      <th>heard</th>\n",
       "      <td>0.211629</td>\n",
       "    </tr>\n",
       "    <tr>\n",
       "      <th>wasn</th>\n",
       "      <td>0.207715</td>\n",
       "    </tr>\n",
       "    <tr>\n",
       "      <th>doing</th>\n",
       "      <td>0.206950</td>\n",
       "    </tr>\n",
       "    <tr>\n",
       "      <th>different</th>\n",
       "      <td>0.205144</td>\n",
       "    </tr>\n",
       "    <tr>\n",
       "      <th>again</th>\n",
       "      <td>0.197691</td>\n",
       "    </tr>\n",
       "    <tr>\n",
       "      <th>because</th>\n",
       "      <td>0.196746</td>\n",
       "    </tr>\n",
       "    <tr>\n",
       "      <th>likely</th>\n",
       "      <td>0.185683</td>\n",
       "    </tr>\n",
       "    <tr>\n",
       "      <th>someone</th>\n",
       "      <td>0.179503</td>\n",
       "    </tr>\n",
       "    <tr>\n",
       "      <th>year</th>\n",
       "      <td>0.178536</td>\n",
       "    </tr>\n",
       "    <tr>\n",
       "      <th>engineering</th>\n",
       "      <td>0.172352</td>\n",
       "    </tr>\n",
       "    <tr>\n",
       "      <th>...</th>\n",
       "      <td>...</td>\n",
       "    </tr>\n",
       "    <tr>\n",
       "      <th>one</th>\n",
       "      <td>-0.142856</td>\n",
       "    </tr>\n",
       "    <tr>\n",
       "      <th>seems</th>\n",
       "      <td>-0.144337</td>\n",
       "    </tr>\n",
       "    <tr>\n",
       "      <th>number</th>\n",
       "      <td>-0.147701</td>\n",
       "    </tr>\n",
       "    <tr>\n",
       "      <th>nice</th>\n",
       "      <td>-0.152756</td>\n",
       "    </tr>\n",
       "    <tr>\n",
       "      <th>until</th>\n",
       "      <td>-0.154338</td>\n",
       "    </tr>\n",
       "    <tr>\n",
       "      <th>answer</th>\n",
       "      <td>-0.154562</td>\n",
       "    </tr>\n",
       "    <tr>\n",
       "      <th>when</th>\n",
       "      <td>-0.158016</td>\n",
       "    </tr>\n",
       "    <tr>\n",
       "      <th>based</th>\n",
       "      <td>-0.160276</td>\n",
       "    </tr>\n",
       "    <tr>\n",
       "      <th>gt</th>\n",
       "      <td>-0.165183</td>\n",
       "    </tr>\n",
       "    <tr>\n",
       "      <th>where</th>\n",
       "      <td>-0.168761</td>\n",
       "    </tr>\n",
       "    <tr>\n",
       "      <th>makes</th>\n",
       "      <td>-0.184622</td>\n",
       "    </tr>\n",
       "    <tr>\n",
       "      <th>thanks</th>\n",
       "      <td>-0.189583</td>\n",
       "    </tr>\n",
       "    <tr>\n",
       "      <th>idea</th>\n",
       "      <td>-0.189831</td>\n",
       "    </tr>\n",
       "    <tr>\n",
       "      <th>question</th>\n",
       "      <td>-0.206008</td>\n",
       "    </tr>\n",
       "    <tr>\n",
       "      <th>then</th>\n",
       "      <td>-0.209989</td>\n",
       "    </tr>\n",
       "    <tr>\n",
       "      <th>right</th>\n",
       "      <td>-0.213235</td>\n",
       "    </tr>\n",
       "    <tr>\n",
       "      <th>maybe</th>\n",
       "      <td>-0.213950</td>\n",
       "    </tr>\n",
       "    <tr>\n",
       "      <th>way</th>\n",
       "      <td>-0.215469</td>\n",
       "    </tr>\n",
       "    <tr>\n",
       "      <th>enjoy</th>\n",
       "      <td>-0.224676</td>\n",
       "    </tr>\n",
       "    <tr>\n",
       "      <th>lol</th>\n",
       "      <td>-0.224902</td>\n",
       "    </tr>\n",
       "    <tr>\n",
       "      <th>yes</th>\n",
       "      <td>-0.236019</td>\n",
       "    </tr>\n",
       "    <tr>\n",
       "      <th>any</th>\n",
       "      <td>-0.243681</td>\n",
       "    </tr>\n",
       "    <tr>\n",
       "      <th>last</th>\n",
       "      <td>-0.246602</td>\n",
       "    </tr>\n",
       "    <tr>\n",
       "      <th>care</th>\n",
       "      <td>-0.253960</td>\n",
       "    </tr>\n",
       "    <tr>\n",
       "      <th>pay</th>\n",
       "      <td>-0.273715</td>\n",
       "    </tr>\n",
       "    <tr>\n",
       "      <th>senior</th>\n",
       "      <td>-0.304661</td>\n",
       "    </tr>\n",
       "    <tr>\n",
       "      <th>sounds</th>\n",
       "      <td>-0.305909</td>\n",
       "    </tr>\n",
       "    <tr>\n",
       "      <th>yeah</th>\n",
       "      <td>-0.403575</td>\n",
       "    </tr>\n",
       "    <tr>\n",
       "      <th>did</th>\n",
       "      <td>-0.463661</td>\n",
       "    </tr>\n",
       "    <tr>\n",
       "      <th>going</th>\n",
       "      <td>-0.503213</td>\n",
       "    </tr>\n",
       "  </tbody>\n",
       "</table>\n",
       "<p>351 rows × 1 columns</p>\n",
       "</div>"
      ],
      "text/plain": [
       "                 coef\n",
       "feat_name            \n",
       "accepted     0.362877\n",
       "school       0.334063\n",
       "shit         0.316190\n",
       "similar      0.284726\n",
       "ve           0.263209\n",
       "computer     0.262590\n",
       "since        0.259912\n",
       "him          0.249187\n",
       "speak        0.248708\n",
       "wrong        0.247813\n",
       "easy         0.246033\n",
       "isn          0.244036\n",
       "down         0.243739\n",
       "why          0.236264\n",
       "gpa          0.234021\n",
       "sure         0.225105\n",
       "summer       0.223588\n",
       "although     0.220264\n",
       "anyway       0.218223\n",
       "were         0.213711\n",
       "heard        0.211629\n",
       "wasn         0.207715\n",
       "doing        0.206950\n",
       "different    0.205144\n",
       "again        0.197691\n",
       "because      0.196746\n",
       "likely       0.185683\n",
       "someone      0.179503\n",
       "year         0.178536\n",
       "engineering  0.172352\n",
       "...               ...\n",
       "one         -0.142856\n",
       "seems       -0.144337\n",
       "number      -0.147701\n",
       "nice        -0.152756\n",
       "until       -0.154338\n",
       "answer      -0.154562\n",
       "when        -0.158016\n",
       "based       -0.160276\n",
       "gt          -0.165183\n",
       "where       -0.168761\n",
       "makes       -0.184622\n",
       "thanks      -0.189583\n",
       "idea        -0.189831\n",
       "question    -0.206008\n",
       "then        -0.209989\n",
       "right       -0.213235\n",
       "maybe       -0.213950\n",
       "way         -0.215469\n",
       "enjoy       -0.224676\n",
       "lol         -0.224902\n",
       "yes         -0.236019\n",
       "any         -0.243681\n",
       "last        -0.246602\n",
       "care        -0.253960\n",
       "pay         -0.273715\n",
       "senior      -0.304661\n",
       "sounds      -0.305909\n",
       "yeah        -0.403575\n",
       "did         -0.463661\n",
       "going       -0.503213\n",
       "\n",
       "[351 rows x 1 columns]"
      ]
     },
     "execution_count": 62,
     "metadata": {},
     "output_type": "execute_result"
    }
   ],
   "source": [
    "paired_bow.get_coefs(feature_names=bow_transformer.get_vocabulary())"
   ]
  },
  {
   "cell_type": "code",
   "execution_count": null,
   "metadata": {},
   "outputs": [],
   "source": []
  }
 ],
 "metadata": {
  "kernelspec": {
   "display_name": "Python 3",
   "language": "python",
   "name": "python3"
  },
  "language_info": {
   "codemirror_mode": {
    "name": "ipython",
    "version": 3
   },
   "file_extension": ".py",
   "mimetype": "text/x-python",
   "name": "python",
   "nbconvert_exporter": "python",
   "pygments_lexer": "ipython3",
   "version": "3.7.6"
  }
 },
 "nbformat": 4,
 "nbformat_minor": 1
}
