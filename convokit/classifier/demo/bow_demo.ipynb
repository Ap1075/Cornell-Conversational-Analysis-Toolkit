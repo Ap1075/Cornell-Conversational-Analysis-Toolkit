{
 "cells": [
  {
   "cell_type": "code",
   "execution_count": 1,
   "metadata": {},
   "outputs": [],
   "source": [
    "import os\n",
    "os.chdir('../../..')"
   ]
  },
  {
   "cell_type": "code",
   "execution_count": 2,
   "metadata": {},
   "outputs": [
    {
     "name": "stderr",
     "output_type": "stream",
     "text": [
      "/Library/Frameworks/Python.framework/Versions/3.7/lib/python3.7/site-packages/sklearn/externals/joblib/__init__.py:15: DeprecationWarning: sklearn.externals.joblib is deprecated in 0.21 and will be removed in 0.23. Please import this functionality directly from joblib, which can be installed with: pip install joblib. If this warning is raised when loading pickled models, you may need to re-serialize those models with scikit-learn 0.21+.\n",
      "  warnings.warn(msg, category=DeprecationWarning)\n"
     ]
    }
   ],
   "source": [
    "from convokit import Corpus, download"
   ]
  },
  {
   "cell_type": "code",
   "execution_count": 3,
   "metadata": {},
   "outputs": [
    {
     "name": "stdout",
     "output_type": "stream",
     "text": [
      "Dataset already exists at /Users/calebchiam/.convokit/downloads/subreddit-Cornell\n"
     ]
    }
   ],
   "source": [
    "corpus = Corpus(filename=download('subreddit-Cornell'))"
   ]
  },
  {
   "cell_type": "code",
   "execution_count": 4,
   "metadata": {},
   "outputs": [
    {
     "name": "stdout",
     "output_type": "stream",
     "text": [
      "Number of Users: 7568\n",
      "Number of Utterances: 74467\n",
      "Number of Conversations: 10744\n"
     ]
    }
   ],
   "source": [
    "corpus.print_summary_stats()"
   ]
  },
  {
   "cell_type": "markdown",
   "metadata": {},
   "source": [
    "## Bag-of-words prediction for utterances having positive scores"
   ]
  },
  {
   "cell_type": "code",
   "execution_count": 5,
   "metadata": {},
   "outputs": [],
   "source": [
    "from convokit import BoWClassifier, BoWTransformer"
   ]
  },
  {
   "cell_type": "code",
   "execution_count": 6,
   "metadata": {},
   "outputs": [
    {
     "name": "stdout",
     "output_type": "stream",
     "text": [
      "Initializing default unigram CountVectorizer...\n"
     ]
    }
   ],
   "source": [
    "bow_transformer = BoWTransformer(obj_type=\"utterance\")"
   ]
  },
  {
   "cell_type": "code",
   "execution_count": 7,
   "metadata": {},
   "outputs": [
    {
     "name": "stdout",
     "output_type": "stream",
     "text": [
      "Utterance('id': 'nyx4d', 'root': nyx4d, 'reply-to': None, 'user': User('id': reddmau5, 'meta': {'num_posts': 3, 'num_comments': 5}), 'timestamp': 1325452698, 'text': \"I was just reading about the Princeton Mic-Check and it's getting [national press](http://www.bloomberg.com/news/2011-12-29/princeton-brews-trouble-for-us-1-percenters-commentary-by-michael-lewis.html).\\n\\nI want to get a sense of what people felt like around campus. Anything interesting happen? Anything interesting coming up?\", 'meta': {'score': 2, 'top_level_comment': None, 'retrieved_on': -1, 'gilded': -1, 'gildings': None, 'subreddit': 'Cornell', 'stickied': False, 'permalink': '/r/Cornell/comments/nyx4d/so_i_was_away_this_past_semester_whats_going_on/', 'author_flair_text': ''})\n"
     ]
    }
   ],
   "source": [
    "print(next(corpus.iter_utterances()))"
   ]
  },
  {
   "cell_type": "code",
   "execution_count": 8,
   "metadata": {},
   "outputs": [
    {
     "data": {
      "text/plain": [
       "<convokit.model.corpus.Corpus at 0x136c76cf8>"
      ]
     },
     "execution_count": 8,
     "metadata": {},
     "output_type": "execute_result"
    }
   ],
   "source": [
    "bow_transformer.fit_transform(corpus)"
   ]
  },
  {
   "cell_type": "code",
   "execution_count": 9,
   "metadata": {},
   "outputs": [
    {
     "name": "stdout",
     "output_type": "stream",
     "text": [
      "Utterance('id': 'nyx4d', 'root': nyx4d, 'reply-to': None, 'user': User('id': reddmau5, 'meta': {'num_posts': 3, 'num_comments': 5}), 'timestamp': 1325452698, 'text': \"I was just reading about the Princeton Mic-Check and it's getting [national press](http://www.bloomberg.com/news/2011-12-29/princeton-brews-trouble-for-us-1-percenters-commentary-by-michael-lewis.html).\\n\\nI want to get a sense of what people felt like around campus. Anything interesting happen? Anything interesting coming up?\", 'meta': {'score': 2, 'top_level_comment': None, 'retrieved_on': -1, 'gilded': -1, 'gildings': None, 'subreddit': 'Cornell', 'stickied': False, 'permalink': '/r/Cornell/comments/nyx4d/so_i_was_away_this_past_semester_whats_going_on/', 'author_flair_text': '', 'bow_vector': <1x9340 sparse matrix of type '<class 'numpy.int64'>'\n",
      "\twith 42 stored elements in Compressed Sparse Row format>})\n"
     ]
    }
   ],
   "source": [
    "print(next(corpus.iter_utterances()))"
   ]
  },
  {
   "cell_type": "code",
   "execution_count": 10,
   "metadata": {},
   "outputs": [
    {
     "name": "stdout",
     "output_type": "stream",
     "text": [
      "Initializing default classification model (standard scaled logistic regression)\n"
     ]
    }
   ],
   "source": [
    "bow_classifier = BoWClassifier(obj_type=\"utterance\", labeller=lambda utt: utt.meta['score'] > 0)"
   ]
  },
  {
   "cell_type": "code",
   "execution_count": 11,
   "metadata": {},
   "outputs": [
    {
     "data": {
      "text/plain": [
       "<convokit.classifier.bow_classifier.BoWClassifier at 0x13f771e48>"
      ]
     },
     "execution_count": 11,
     "metadata": {},
     "output_type": "execute_result"
    }
   ],
   "source": [
    "bow_classifier.fit(corpus)"
   ]
  },
  {
   "cell_type": "code",
   "execution_count": 12,
   "metadata": {},
   "outputs": [
    {
     "data": {
      "text/plain": [
       "<convokit.model.corpus.Corpus at 0x136c76cf8>"
      ]
     },
     "execution_count": 12,
     "metadata": {},
     "output_type": "execute_result"
    }
   ],
   "source": [
    "bow_classifier.transform(corpus)"
   ]
  },
  {
   "cell_type": "code",
   "execution_count": 13,
   "metadata": {},
   "outputs": [
    {
     "data": {
      "text/plain": [
       "{'score': 2,\n",
       " 'top_level_comment': None,\n",
       " 'retrieved_on': -1,\n",
       " 'gilded': -1,\n",
       " 'gildings': None,\n",
       " 'subreddit': 'Cornell',\n",
       " 'stickied': False,\n",
       " 'permalink': '/r/Cornell/comments/nyx4d/so_i_was_away_this_past_semester_whats_going_on/',\n",
       " 'author_flair_text': '',\n",
       " 'bow_vector': <1x9340 sparse matrix of type '<class 'numpy.int64'>'\n",
       " \twith 42 stored elements in Compressed Sparse Row format>,\n",
       " 'prediction': True,\n",
       " 'pred_score': 0.9999998491105527}"
      ]
     },
     "execution_count": 13,
     "metadata": {},
     "output_type": "execute_result"
    }
   ],
   "source": [
    "next(corpus.iter_utterances()).meta"
   ]
  },
  {
   "cell_type": "code",
   "execution_count": 14,
   "metadata": {},
   "outputs": [
    {
     "data": {
      "text/plain": [
       "array([[0, 0, 0, ..., 0, 0, 0]])"
      ]
     },
     "execution_count": 14,
     "metadata": {},
     "output_type": "execute_result"
    }
   ],
   "source": [
    "next(corpus.iter_utterances()).meta['bow_vector'].toarray()"
   ]
  },
  {
   "cell_type": "code",
   "execution_count": 15,
   "metadata": {},
   "outputs": [
    {
     "data": {
      "text/html": [
       "<div>\n",
       "<style scoped>\n",
       "    .dataframe tbody tr th:only-of-type {\n",
       "        vertical-align: middle;\n",
       "    }\n",
       "\n",
       "    .dataframe tbody tr th {\n",
       "        vertical-align: top;\n",
       "    }\n",
       "\n",
       "    .dataframe thead th {\n",
       "        text-align: right;\n",
       "    }\n",
       "</style>\n",
       "<table border=\"1\" class=\"dataframe\">\n",
       "  <thead>\n",
       "    <tr style=\"text-align: right;\">\n",
       "      <th></th>\n",
       "      <th>prediction</th>\n",
       "      <th>pred_score</th>\n",
       "    </tr>\n",
       "    <tr>\n",
       "      <th>id</th>\n",
       "      <th></th>\n",
       "      <th></th>\n",
       "    </tr>\n",
       "  </thead>\n",
       "  <tbody>\n",
       "    <tr>\n",
       "      <th>dhhm9sa</th>\n",
       "      <td>True</td>\n",
       "      <td>1.0</td>\n",
       "    </tr>\n",
       "    <tr>\n",
       "      <th>dw553ml</th>\n",
       "      <td>True</td>\n",
       "      <td>1.0</td>\n",
       "    </tr>\n",
       "    <tr>\n",
       "      <th>dvzmhdx</th>\n",
       "      <td>True</td>\n",
       "      <td>1.0</td>\n",
       "    </tr>\n",
       "    <tr>\n",
       "      <th>dvzpp79</th>\n",
       "      <td>True</td>\n",
       "      <td>1.0</td>\n",
       "    </tr>\n",
       "    <tr>\n",
       "      <th>dw0imao</th>\n",
       "      <td>True</td>\n",
       "      <td>1.0</td>\n",
       "    </tr>\n",
       "  </tbody>\n",
       "</table>\n",
       "</div>"
      ],
      "text/plain": [
       "         prediction  pred_score\n",
       "id                             \n",
       "dhhm9sa        True         1.0\n",
       "dw553ml        True         1.0\n",
       "dvzmhdx        True         1.0\n",
       "dvzpp79        True         1.0\n",
       "dw0imao        True         1.0"
      ]
     },
     "execution_count": 15,
     "metadata": {},
     "output_type": "execute_result"
    }
   ],
   "source": [
    "bow_classifier.summarize(corpus).head()"
   ]
  },
  {
   "cell_type": "code",
   "execution_count": 16,
   "metadata": {},
   "outputs": [
    {
     "data": {
      "text/plain": [
       "'One, just to get this out of the way: I\\'m only a sophomore in high school. In spite of this, my high school is one of the top public schools in New Jersey (and to put it bluntly it\\'s a very affluent area... although I\\'m not necessarily affluent like my classmates). The point of telling you guys that is kids start talking about all these amazing schools they want to go to in like eighth grade, so I know quite a bit about colleges. As stated in the title, I really want to go to Cornell, and I just was hoping that some of you guys and girls on here would be awesome enough to give out some SAT scores, ACT scores (if you took them), and extra curricular activities you guys got/did? My unweighted GPA is a 3.8 (weighted is a 4.2), and my first PSAT was an overall 1900, and from taking that I (not to sound cocky here) *know* that I\\'m going to get that score up a *lot*. I\\'m in all the highest level classes I can be in, and I\\'m looking to take multiple AP courses next year (junior). Do you think these are prospectively good stats? The last thing I\\'m wondering about is what type of extra curricular things I can do. Student government in my school is a popularity contest, so I have pretty much no chance of winning, giving the president is the biggest pothead in town. I\\'m probably lettering in track and baseball three years, and football two. I participate in my schools \"Key Club\" (basically community service stuff), and I am hoping to be some form of leadership position on that next year. I also am going to apply for being a \"peer leader\". So basically (back to my point) are there any other things that you guys suggest I get involved with?\\n\\n**TL;DR** Sophomore that has a 3.8 unweighted (4.2 weighted) GPA, 1900 PSAT (looking to improve greatly). Are these good prospective stats? What are some of your guys stats? What extra curricular activities do ya\\'ll suggest getting involved in?\\n\\nTHANKS IN ADVANCE FOR ANY RESPONSES &lt;3 (yeah I\\'m a boy, deal with the heart &gt;;) )\\n\\n**EDIT** My school uses a funky grading system; my weighted GPA would be a 4.52 at most schools'"
      ]
     },
     "execution_count": 16,
     "metadata": {},
     "output_type": "execute_result"
    }
   ],
   "source": [
    "corpus.get_utterance('15enm8').text"
   ]
  },
  {
   "cell_type": "code",
   "execution_count": 17,
   "metadata": {},
   "outputs": [
    {
     "data": {
      "text/html": [
       "<div>\n",
       "<style scoped>\n",
       "    .dataframe tbody tr th:only-of-type {\n",
       "        vertical-align: middle;\n",
       "    }\n",
       "\n",
       "    .dataframe tbody tr th {\n",
       "        vertical-align: top;\n",
       "    }\n",
       "\n",
       "    .dataframe thead th {\n",
       "        text-align: right;\n",
       "    }\n",
       "</style>\n",
       "<table border=\"1\" class=\"dataframe\">\n",
       "  <thead>\n",
       "    <tr style=\"text-align: right;\">\n",
       "      <th></th>\n",
       "      <th>coef</th>\n",
       "    </tr>\n",
       "    <tr>\n",
       "      <th>feat_name</th>\n",
       "      <th></th>\n",
       "    </tr>\n",
       "  </thead>\n",
       "  <tbody>\n",
       "    <tr>\n",
       "      <th>hotels</th>\n",
       "      <td>1.270001</td>\n",
       "    </tr>\n",
       "    <tr>\n",
       "      <th>hbhs</th>\n",
       "      <td>1.115690</td>\n",
       "    </tr>\n",
       "    <tr>\n",
       "      <th>engine</th>\n",
       "      <td>1.109702</td>\n",
       "    </tr>\n",
       "    <tr>\n",
       "      <th>involves</th>\n",
       "      <td>1.081836</td>\n",
       "    </tr>\n",
       "    <tr>\n",
       "      <th>lincoln</th>\n",
       "      <td>1.071464</td>\n",
       "    </tr>\n",
       "  </tbody>\n",
       "</table>\n",
       "</div>"
      ],
      "text/plain": [
       "               coef\n",
       "feat_name          \n",
       "hotels     1.270001\n",
       "hbhs       1.115690\n",
       "engine     1.109702\n",
       "involves   1.081836\n",
       "lincoln    1.071464"
      ]
     },
     "execution_count": 17,
     "metadata": {},
     "output_type": "execute_result"
    }
   ],
   "source": [
    "bow_classifier.get_coefs(feature_names=bow_transformer.get_vocabulary()).head()"
   ]
  },
  {
   "cell_type": "code",
   "execution_count": 18,
   "metadata": {},
   "outputs": [
    {
     "data": {
      "text/html": [
       "<div>\n",
       "<style scoped>\n",
       "    .dataframe tbody tr th:only-of-type {\n",
       "        vertical-align: middle;\n",
       "    }\n",
       "\n",
       "    .dataframe tbody tr th {\n",
       "        vertical-align: top;\n",
       "    }\n",
       "\n",
       "    .dataframe thead th {\n",
       "        text-align: right;\n",
       "    }\n",
       "</style>\n",
       "<table border=\"1\" class=\"dataframe\">\n",
       "  <thead>\n",
       "    <tr style=\"text-align: right;\">\n",
       "      <th></th>\n",
       "      <th>coef</th>\n",
       "    </tr>\n",
       "    <tr>\n",
       "      <th>feat_name</th>\n",
       "      <th></th>\n",
       "    </tr>\n",
       "  </thead>\n",
       "  <tbody>\n",
       "    <tr>\n",
       "      <th>mahogany</th>\n",
       "      <td>-0.667785</td>\n",
       "    </tr>\n",
       "    <tr>\n",
       "      <th>ignoreme</th>\n",
       "      <td>-0.722992</td>\n",
       "    </tr>\n",
       "    <tr>\n",
       "      <th>hilton</th>\n",
       "      <td>-0.742234</td>\n",
       "    </tr>\n",
       "    <tr>\n",
       "      <th>binary</th>\n",
       "      <td>-0.764383</td>\n",
       "    </tr>\n",
       "    <tr>\n",
       "      <th>creation</th>\n",
       "      <td>-0.784593</td>\n",
       "    </tr>\n",
       "  </tbody>\n",
       "</table>\n",
       "</div>"
      ],
      "text/plain": [
       "               coef\n",
       "feat_name          \n",
       "mahogany  -0.667785\n",
       "ignoreme  -0.722992\n",
       "hilton    -0.742234\n",
       "binary    -0.764383\n",
       "creation  -0.784593"
      ]
     },
     "execution_count": 18,
     "metadata": {},
     "output_type": "execute_result"
    }
   ],
   "source": [
    "bow_classifier.get_coefs(feature_names=bow_transformer.get_vocabulary()).tail()"
   ]
  },
  {
   "cell_type": "code",
   "execution_count": 19,
   "metadata": {},
   "outputs": [],
   "source": [
    "y_true, y_pred = bow_classifier.get_y_true_pred(corpus)"
   ]
  },
  {
   "cell_type": "code",
   "execution_count": 20,
   "metadata": {},
   "outputs": [
    {
     "data": {
      "text/plain": [
       "0.9279546644822538"
      ]
     },
     "execution_count": 20,
     "metadata": {},
     "output_type": "execute_result"
    }
   ],
   "source": [
    "bow_classifier.base_accuracy(corpus)"
   ]
  },
  {
   "cell_type": "code",
   "execution_count": 21,
   "metadata": {},
   "outputs": [
    {
     "data": {
      "text/plain": [
       "0.9491452589737737"
      ]
     },
     "execution_count": 21,
     "metadata": {},
     "output_type": "execute_result"
    }
   ],
   "source": [
    "bow_classifier.accuracy(corpus)"
   ]
  },
  {
   "cell_type": "code",
   "execution_count": 22,
   "metadata": {},
   "outputs": [
    {
     "name": "stdout",
     "output_type": "stream",
     "text": [
      "              precision    recall  f1-score   support\n",
      "\n",
      "       False       0.88      0.34      0.49      5365\n",
      "        True       0.95      1.00      0.97     69102\n",
      "\n",
      "    accuracy                           0.95     74467\n",
      "   macro avg       0.91      0.67      0.73     74467\n",
      "weighted avg       0.95      0.95      0.94     74467\n",
      "\n"
     ]
    }
   ],
   "source": [
    "print(bow_classifier.classification_report(corpus))"
   ]
  },
  {
   "cell_type": "markdown",
   "metadata": {},
   "source": [
    "## Bag-of-words prediction for comment thread doubling in length versus staying the same length based on first 5 utterances"
   ]
  },
  {
   "cell_type": "code",
   "execution_count": 23,
   "metadata": {},
   "outputs": [],
   "source": [
    "top_level_comment_ids = [utt.id for utt in corpus.iter_utterances() if utt.id == utt.meta['top_level_comment']]"
   ]
  },
  {
   "cell_type": "code",
   "execution_count": 24,
   "metadata": {},
   "outputs": [
    {
     "name": "stdout",
     "output_type": "stream",
     "text": [
      "Number of Users: 7568\n",
      "Number of Utterances: 74467\n",
      "Number of Conversations: 10744\n"
     ]
    }
   ],
   "source": [
    "corpus.print_summary_stats()"
   ]
  },
  {
   "cell_type": "code",
   "execution_count": 25,
   "metadata": {},
   "outputs": [
    {
     "data": {
      "text/plain": [
       "32893"
      ]
     },
     "execution_count": 25,
     "metadata": {},
     "output_type": "execute_result"
    }
   ],
   "source": [
    "len(top_level_comment_ids)"
   ]
  },
  {
   "cell_type": "code",
   "execution_count": 26,
   "metadata": {},
   "outputs": [
    {
     "name": "stdout",
     "output_type": "stream",
     "text": [
      "\u001b[91mWARNING: \u001b[0mConversation pcww4 reply-to chain does not form a valid tree.\n",
      "\u001b[91mWARNING: \u001b[0mConversation pegd2 reply-to chain does not form a valid tree.\n",
      "\u001b[91mWARNING: \u001b[0mFailed to find some of the specified new convo roots:\n",
      "\n",
      "['c3p8bze', 'c3ocsyl', 'c3od15i', 'c3p1rn8', 'c3oyf4d']\n"
     ]
    }
   ],
   "source": [
    "threads_corpus = corpus.reindex_conversations(new_convo_roots=top_level_comment_ids)"
   ]
  },
  {
   "cell_type": "code",
   "execution_count": 27,
   "metadata": {},
   "outputs": [
    {
     "name": "stdout",
     "output_type": "stream",
     "text": [
      "Number of Users: 6160\n",
      "Number of Utterances: 63697\n",
      "Number of Conversations: 32888\n"
     ]
    }
   ],
   "source": [
    "threads_corpus.print_summary_stats()"
   ]
  },
  {
   "cell_type": "code",
   "execution_count": 28,
   "metadata": {},
   "outputs": [],
   "source": [
    "for thread in threads_corpus.iter_conversations():\n",
    "    thread_len = len(list(thread.iter_utterances()))\n",
    "    if thread_len == 5:\n",
    "        thread.meta['thread_doubles'] = False\n",
    "    elif thread_len >= 10:\n",
    "        thread.meta['thread_doubles'] = True\n",
    "    else:\n",
    "        thread.meta['thread_doubles'] = None"
   ]
  },
  {
   "cell_type": "code",
   "execution_count": 29,
   "metadata": {},
   "outputs": [
    {
     "name": "stdout",
     "output_type": "stream",
     "text": [
      "Initializing default unigram CountVectorizer...\n"
     ]
    }
   ],
   "source": [
    "bow_transformer2 = BoWTransformer(obj_type=\"conversation\", \n",
    "                    text_func=lambda convo: \" \".join([utt.text for utt in convo.get_chronological_utterance_list()][:5]),\n",
    "                    selector=lambda convo: convo.meta['thread_doubles'] is not None,\n",
    "                   )"
   ]
  },
  {
   "cell_type": "code",
   "execution_count": 30,
   "metadata": {},
   "outputs": [
    {
     "data": {
      "text/plain": [
       "<convokit.model.corpus.Corpus at 0x140039f98>"
      ]
     },
     "execution_count": 30,
     "metadata": {},
     "output_type": "execute_result"
    }
   ],
   "source": [
    "bow_transformer2.fit_transform(threads_corpus)"
   ]
  },
  {
   "cell_type": "code",
   "execution_count": 31,
   "metadata": {},
   "outputs": [
    {
     "name": "stdout",
     "output_type": "stream",
     "text": [
      "Initializing default classification model (standard scaled logistic regression)\n"
     ]
    }
   ],
   "source": [
    "bow_classifier2 = BoWClassifier(obj_type=\"conversation\", \n",
    "                    selector=lambda convo: convo.meta['thread_doubles'] is not None,\n",
    "                    labeller=lambda convo: convo.meta['thread_doubles']\n",
    "                   )"
   ]
  },
  {
   "cell_type": "code",
   "execution_count": 32,
   "metadata": {},
   "outputs": [
    {
     "data": {
      "text/plain": [
       "<convokit.model.corpus.Corpus at 0x140039f98>"
      ]
     },
     "execution_count": 32,
     "metadata": {},
     "output_type": "execute_result"
    }
   ],
   "source": [
    "bow_classifier2.fit_transform(threads_corpus)"
   ]
  },
  {
   "cell_type": "code",
   "execution_count": 33,
   "metadata": {},
   "outputs": [
    {
     "data": {
      "text/html": [
       "<div>\n",
       "<style scoped>\n",
       "    .dataframe tbody tr th:only-of-type {\n",
       "        vertical-align: middle;\n",
       "    }\n",
       "\n",
       "    .dataframe tbody tr th {\n",
       "        vertical-align: top;\n",
       "    }\n",
       "\n",
       "    .dataframe thead th {\n",
       "        text-align: right;\n",
       "    }\n",
       "</style>\n",
       "<table border=\"1\" class=\"dataframe\">\n",
       "  <thead>\n",
       "    <tr style=\"text-align: right;\">\n",
       "      <th></th>\n",
       "      <th>prediction</th>\n",
       "      <th>pred_score</th>\n",
       "    </tr>\n",
       "    <tr>\n",
       "      <th>id</th>\n",
       "      <th></th>\n",
       "      <th></th>\n",
       "    </tr>\n",
       "  </thead>\n",
       "  <tbody>\n",
       "    <tr>\n",
       "      <th>dt05qyf</th>\n",
       "      <td>True</td>\n",
       "      <td>1.0</td>\n",
       "    </tr>\n",
       "    <tr>\n",
       "      <th>dandio0</th>\n",
       "      <td>True</td>\n",
       "      <td>1.0</td>\n",
       "    </tr>\n",
       "    <tr>\n",
       "      <th>dwa6k96</th>\n",
       "      <td>True</td>\n",
       "      <td>1.0</td>\n",
       "    </tr>\n",
       "    <tr>\n",
       "      <th>dsldpxg</th>\n",
       "      <td>True</td>\n",
       "      <td>1.0</td>\n",
       "    </tr>\n",
       "    <tr>\n",
       "      <th>e70wjy3</th>\n",
       "      <td>True</td>\n",
       "      <td>1.0</td>\n",
       "    </tr>\n",
       "  </tbody>\n",
       "</table>\n",
       "</div>"
      ],
      "text/plain": [
       "         prediction  pred_score\n",
       "id                             \n",
       "dt05qyf        True         1.0\n",
       "dandio0        True         1.0\n",
       "dwa6k96        True         1.0\n",
       "dsldpxg        True         1.0\n",
       "e70wjy3        True         1.0"
      ]
     },
     "execution_count": 33,
     "metadata": {},
     "output_type": "execute_result"
    }
   ],
   "source": [
    "bow_classifier2.summarize(threads_corpus).head()"
   ]
  },
  {
   "cell_type": "code",
   "execution_count": 34,
   "metadata": {},
   "outputs": [
    {
     "data": {
      "text/html": [
       "<div>\n",
       "<style scoped>\n",
       "    .dataframe tbody tr th:only-of-type {\n",
       "        vertical-align: middle;\n",
       "    }\n",
       "\n",
       "    .dataframe tbody tr th {\n",
       "        vertical-align: top;\n",
       "    }\n",
       "\n",
       "    .dataframe thead th {\n",
       "        text-align: right;\n",
       "    }\n",
       "</style>\n",
       "<table border=\"1\" class=\"dataframe\">\n",
       "  <thead>\n",
       "    <tr style=\"text-align: right;\">\n",
       "      <th></th>\n",
       "      <th>prediction</th>\n",
       "      <th>pred_score</th>\n",
       "    </tr>\n",
       "    <tr>\n",
       "      <th>id</th>\n",
       "      <th></th>\n",
       "      <th></th>\n",
       "    </tr>\n",
       "  </thead>\n",
       "  <tbody>\n",
       "    <tr>\n",
       "      <th>drduxx1</th>\n",
       "      <td>False</td>\n",
       "      <td>2.469227e-12</td>\n",
       "    </tr>\n",
       "    <tr>\n",
       "      <th>dl7q7n2</th>\n",
       "      <td>False</td>\n",
       "      <td>8.252399e-14</td>\n",
       "    </tr>\n",
       "    <tr>\n",
       "      <th>dxfib8r</th>\n",
       "      <td>False</td>\n",
       "      <td>2.719775e-15</td>\n",
       "    </tr>\n",
       "    <tr>\n",
       "      <th>dwqaa06</th>\n",
       "      <td>False</td>\n",
       "      <td>2.692079e-16</td>\n",
       "    </tr>\n",
       "    <tr>\n",
       "      <th>d8y9akn</th>\n",
       "      <td>False</td>\n",
       "      <td>1.717817e-16</td>\n",
       "    </tr>\n",
       "  </tbody>\n",
       "</table>\n",
       "</div>"
      ],
      "text/plain": [
       "         prediction    pred_score\n",
       "id                               \n",
       "drduxx1       False  2.469227e-12\n",
       "dl7q7n2       False  8.252399e-14\n",
       "dxfib8r       False  2.719775e-15\n",
       "dwqaa06       False  2.692079e-16\n",
       "d8y9akn       False  1.717817e-16"
      ]
     },
     "execution_count": 34,
     "metadata": {},
     "output_type": "execute_result"
    }
   ],
   "source": [
    "bow_classifier2.summarize(threads_corpus).tail()"
   ]
  },
  {
   "cell_type": "code",
   "execution_count": 35,
   "metadata": {},
   "outputs": [
    {
     "data": {
      "text/plain": [
       "0.6761904761904762"
      ]
     },
     "execution_count": 35,
     "metadata": {},
     "output_type": "execute_result"
    }
   ],
   "source": [
    "bow_classifier2.base_accuracy(threads_corpus)"
   ]
  },
  {
   "cell_type": "code",
   "execution_count": 36,
   "metadata": {},
   "outputs": [
    {
     "data": {
      "text/plain": [
       "0.9992063492063492"
      ]
     },
     "execution_count": 36,
     "metadata": {},
     "output_type": "execute_result"
    }
   ],
   "source": [
    "bow_classifier2.accuracy(threads_corpus)"
   ]
  },
  {
   "cell_type": "code",
   "execution_count": 37,
   "metadata": {},
   "outputs": [
    {
     "name": "stdout",
     "output_type": "stream",
     "text": [
      "              precision    recall  f1-score   support\n",
      "\n",
      "       False       1.00      1.00      1.00       852\n",
      "        True       1.00      1.00      1.00       408\n",
      "\n",
      "    accuracy                           1.00      1260\n",
      "   macro avg       1.00      1.00      1.00      1260\n",
      "weighted avg       1.00      1.00      1.00      1260\n",
      "\n"
     ]
    }
   ],
   "source": [
    "print(bow_classifier2.classification_report(threads_corpus))"
   ]
  },
  {
   "cell_type": "code",
   "execution_count": 38,
   "metadata": {},
   "outputs": [
    {
     "data": {
      "text/html": [
       "<div>\n",
       "<style scoped>\n",
       "    .dataframe tbody tr th:only-of-type {\n",
       "        vertical-align: middle;\n",
       "    }\n",
       "\n",
       "    .dataframe tbody tr th {\n",
       "        vertical-align: top;\n",
       "    }\n",
       "\n",
       "    .dataframe thead th {\n",
       "        text-align: right;\n",
       "    }\n",
       "</style>\n",
       "<table border=\"1\" class=\"dataframe\">\n",
       "  <thead>\n",
       "    <tr style=\"text-align: right;\">\n",
       "      <th></th>\n",
       "      <th>coef</th>\n",
       "    </tr>\n",
       "    <tr>\n",
       "      <th>feat_name</th>\n",
       "      <th></th>\n",
       "    </tr>\n",
       "  </thead>\n",
       "  <tbody>\n",
       "    <tr>\n",
       "      <th>nothing</th>\n",
       "      <td>0.611768</td>\n",
       "    </tr>\n",
       "    <tr>\n",
       "      <th>house</th>\n",
       "      <td>0.513378</td>\n",
       "    </tr>\n",
       "    <tr>\n",
       "      <th>common</th>\n",
       "      <td>0.508492</td>\n",
       "    </tr>\n",
       "    <tr>\n",
       "      <th>stop</th>\n",
       "      <td>0.481626</td>\n",
       "    </tr>\n",
       "    <tr>\n",
       "      <th>saw</th>\n",
       "      <td>0.463196</td>\n",
       "    </tr>\n",
       "    <tr>\n",
       "      <th>removed</th>\n",
       "      <td>0.456210</td>\n",
       "    </tr>\n",
       "    <tr>\n",
       "      <th>media</th>\n",
       "      <td>0.441415</td>\n",
       "    </tr>\n",
       "    <tr>\n",
       "      <th>profile</th>\n",
       "      <td>0.417364</td>\n",
       "    </tr>\n",
       "    <tr>\n",
       "      <th>500</th>\n",
       "      <td>0.414045</td>\n",
       "    </tr>\n",
       "    <tr>\n",
       "      <th>gonna</th>\n",
       "      <td>0.390166</td>\n",
       "    </tr>\n",
       "  </tbody>\n",
       "</table>\n",
       "</div>"
      ],
      "text/plain": [
       "               coef\n",
       "feat_name          \n",
       "nothing    0.611768\n",
       "house      0.513378\n",
       "common     0.508492\n",
       "stop       0.481626\n",
       "saw        0.463196\n",
       "removed    0.456210\n",
       "media      0.441415\n",
       "profile    0.417364\n",
       "500        0.414045\n",
       "gonna      0.390166"
      ]
     },
     "execution_count": 38,
     "metadata": {},
     "output_type": "execute_result"
    }
   ],
   "source": [
    "bow_classifier2.get_coefs(feature_names=bow_transformer2.get_vocabulary()).head(10)"
   ]
  },
  {
   "cell_type": "code",
   "execution_count": 39,
   "metadata": {},
   "outputs": [
    {
     "data": {
      "text/html": [
       "<div>\n",
       "<style scoped>\n",
       "    .dataframe tbody tr th:only-of-type {\n",
       "        vertical-align: middle;\n",
       "    }\n",
       "\n",
       "    .dataframe tbody tr th {\n",
       "        vertical-align: top;\n",
       "    }\n",
       "\n",
       "    .dataframe thead th {\n",
       "        text-align: right;\n",
       "    }\n",
       "</style>\n",
       "<table border=\"1\" class=\"dataframe\">\n",
       "  <thead>\n",
       "    <tr style=\"text-align: right;\">\n",
       "      <th></th>\n",
       "      <th>coef</th>\n",
       "    </tr>\n",
       "    <tr>\n",
       "      <th>feat_name</th>\n",
       "      <th></th>\n",
       "    </tr>\n",
       "  </thead>\n",
       "  <tbody>\n",
       "    <tr>\n",
       "      <th>hill</th>\n",
       "      <td>-0.371379</td>\n",
       "    </tr>\n",
       "    <tr>\n",
       "      <th>added</th>\n",
       "      <td>-0.383356</td>\n",
       "    </tr>\n",
       "    <tr>\n",
       "      <th>tried</th>\n",
       "      <td>-0.383791</td>\n",
       "    </tr>\n",
       "    <tr>\n",
       "      <th>nice</th>\n",
       "      <td>-0.387281</td>\n",
       "    </tr>\n",
       "    <tr>\n",
       "      <th>70</th>\n",
       "      <td>-0.403706</td>\n",
       "    </tr>\n",
       "    <tr>\n",
       "      <th>god</th>\n",
       "      <td>-0.417090</td>\n",
       "    </tr>\n",
       "    <tr>\n",
       "      <th>joke</th>\n",
       "      <td>-0.419577</td>\n",
       "    </tr>\n",
       "    <tr>\n",
       "      <th>goes</th>\n",
       "      <td>-0.427103</td>\n",
       "    </tr>\n",
       "    <tr>\n",
       "      <th>enjoy</th>\n",
       "      <td>-0.492061</td>\n",
       "    </tr>\n",
       "    <tr>\n",
       "      <th>thanks</th>\n",
       "      <td>-0.659199</td>\n",
       "    </tr>\n",
       "  </tbody>\n",
       "</table>\n",
       "</div>"
      ],
      "text/plain": [
       "               coef\n",
       "feat_name          \n",
       "hill      -0.371379\n",
       "added     -0.383356\n",
       "tried     -0.383791\n",
       "nice      -0.387281\n",
       "70        -0.403706\n",
       "god       -0.417090\n",
       "joke      -0.419577\n",
       "goes      -0.427103\n",
       "enjoy     -0.492061\n",
       "thanks    -0.659199"
      ]
     },
     "execution_count": 39,
     "metadata": {},
     "output_type": "execute_result"
    }
   ],
   "source": [
    "bow_classifier2.get_coefs(feature_names=bow_transformer2.get_vocabulary()).tail(10)"
   ]
  },
  {
   "cell_type": "code",
   "execution_count": 40,
   "metadata": {},
   "outputs": [
    {
     "data": {
      "text/plain": [
       "array([[852,   0],\n",
       "       [  1, 407]])"
      ]
     },
     "execution_count": 40,
     "metadata": {},
     "output_type": "execute_result"
    }
   ],
   "source": [
    "bow_classifier2.confusion_matrix(threads_corpus)"
   ]
  },
  {
   "cell_type": "markdown",
   "metadata": {},
   "source": [
    "## Paired bag-of-words prediction for comment thread doubling in length versus staying the same length based on first 5 utterances"
   ]
  },
  {
   "cell_type": "code",
   "execution_count": 41,
   "metadata": {},
   "outputs": [],
   "source": [
    "from convokit import Pairer, PairedBoW"
   ]
  },
  {
   "cell_type": "code",
   "execution_count": 42,
   "metadata": {},
   "outputs": [
    {
     "name": "stdout",
     "output_type": "stream",
     "text": [
      "Dataset already exists at /Users/calebchiam/.convokit/downloads/subreddit-Cornell\n"
     ]
    }
   ],
   "source": [
    "corpus = Corpus(filename=download('subreddit-Cornell'))"
   ]
  },
  {
   "cell_type": "code",
   "execution_count": 43,
   "metadata": {},
   "outputs": [
    {
     "name": "stdout",
     "output_type": "stream",
     "text": [
      "\u001b[91mWARNING: \u001b[0mConversation pcww4 reply-to chain does not form a valid tree.\n",
      "\u001b[91mWARNING: \u001b[0mConversation pegd2 reply-to chain does not form a valid tree.\n",
      "\u001b[91mWARNING: \u001b[0mFailed to find some of the specified new convo roots:\n",
      "\n",
      "['c3p8bze', 'c3ocsyl', 'c3od15i', 'c3p1rn8', 'c3oyf4d']\n"
     ]
    }
   ],
   "source": [
    "threads_corpus = corpus.reindex_conversations(new_convo_roots=top_level_comment_ids, preserve_convo_meta=True)"
   ]
  },
  {
   "cell_type": "code",
   "execution_count": 44,
   "metadata": {},
   "outputs": [
    {
     "data": {
      "text/plain": [
       "{'original_convo_meta': {'title': 'Math at Cornell',\n",
       "  'num_comments': 3,\n",
       "  'domain': 'self.Cornell',\n",
       "  'timestamp': 1433191527,\n",
       "  'subreddit': 'Cornell',\n",
       "  'gilded': 0,\n",
       "  'gildings': None,\n",
       "  'stickied': False,\n",
       "  'author_flair_text': ''},\n",
       " 'original_convo_id': '384ney'}"
      ]
     },
     "execution_count": 44,
     "metadata": {},
     "output_type": "execute_result"
    }
   ],
   "source": [
    "next(threads_corpus.iter_conversations()).meta"
   ]
  },
  {
   "cell_type": "code",
   "execution_count": 45,
   "metadata": {},
   "outputs": [],
   "source": [
    "for thread in threads_corpus.iter_conversations():\n",
    "    thread_len = len(list(thread.iter_utterances()))\n",
    "    if thread_len == 5:\n",
    "        thread.meta['thread_doubles'] = False\n",
    "    elif thread_len >= 10:\n",
    "        thread.meta['thread_doubles'] = True\n",
    "    else:\n",
    "        thread.meta['thread_doubles'] = None"
   ]
  },
  {
   "cell_type": "code",
   "execution_count": 46,
   "metadata": {},
   "outputs": [
    {
     "data": {
      "text/plain": [
       "{'original_convo_meta': {'title': 'Math at Cornell',\n",
       "  'num_comments': 3,\n",
       "  'domain': 'self.Cornell',\n",
       "  'timestamp': 1433191527,\n",
       "  'subreddit': 'Cornell',\n",
       "  'gilded': 0,\n",
       "  'gildings': None,\n",
       "  'stickied': False,\n",
       "  'author_flair_text': ''},\n",
       " 'original_convo_id': '384ney',\n",
       " 'thread_doubles': None}"
      ]
     },
     "execution_count": 46,
     "metadata": {},
     "output_type": "execute_result"
    }
   ],
   "source": [
    "next(threads_corpus.iter_conversations()).meta"
   ]
  },
  {
   "cell_type": "code",
   "execution_count": 47,
   "metadata": {},
   "outputs": [],
   "source": [
    "pairer = Pairer(obj_type=\"conversation\", \n",
    "                pos_label_func=lambda convo: convo.meta['thread_doubles'], \n",
    "                neg_label_func=lambda convo: convo.meta['thread_doubles'] == False,\n",
    "                selector=lambda convo: convo.meta['thread_doubles'] is not None,\n",
    "                pairing_func=lambda convo: convo.meta['original_convo_id']\n",
    "               )"
   ]
  },
  {
   "cell_type": "code",
   "execution_count": 48,
   "metadata": {},
   "outputs": [
    {
     "data": {
      "text/plain": [
       "<convokit.model.corpus.Corpus at 0x13f2e8160>"
      ]
     },
     "execution_count": 48,
     "metadata": {},
     "output_type": "execute_result"
    }
   ],
   "source": [
    "pairer.transform(threads_corpus)"
   ]
  },
  {
   "cell_type": "code",
   "execution_count": 49,
   "metadata": {},
   "outputs": [
    {
     "name": "stdout",
     "output_type": "stream",
     "text": [
      "Conversation('id': 'crsnk9i', 'utterances': ['crsnk9i'], 'meta': {'original_convo_meta': {'title': 'Math at Cornell', 'num_comments': 3, 'domain': 'self.Cornell', 'timestamp': 1433191527, 'subreddit': 'Cornell', 'gilded': 0, 'gildings': None, 'stickied': False, 'author_flair_text': ''}, 'original_convo_id': '384ney', 'thread_doubles': None, 'pair_obj_label': None, 'pair_id': None, 'pair_orientation': None})\n"
     ]
    }
   ],
   "source": [
    "print(next(threads_corpus.iter_conversations()))"
   ]
  },
  {
   "cell_type": "code",
   "execution_count": 50,
   "metadata": {},
   "outputs": [
    {
     "name": "stdout",
     "output_type": "stream",
     "text": [
      "Conversation('id': 'dbrn7ta', 'utterances': ['dbrn7ta', 'dbs1b28', 'dbwryx7', 'dbsywwn', 'dbx3fsj', 'dbta3gk', 'dbx5e1b', 'dbx7ipj', 'dbx5hu8', 'dbx5wo1'], 'meta': {'original_convo_meta': {'title': '[Weekly] Chance Me! and Prospective Student Q&amp;A (Last Weekly Thread!)', 'num_comments': 42, 'domain': 'self.Cornell', 'timestamp': 1483040351, 'subreddit': 'Cornell', 'gilded': 0, 'gildings': None, 'stickied': False, 'author_flair_text': 'BME 18'}, 'original_convo_id': '5kyqy6', 'thread_doubles': True, 'pair_obj_label': 'pos', 'pair_id': '5kyqy6', 'pair_orientation': 'pos'})\n"
     ]
    }
   ],
   "source": [
    "for convo in threads_corpus.iter_conversations():\n",
    "    if convo.meta['pair_id'] is not None:\n",
    "        print(convo)\n",
    "        break"
   ]
  },
  {
   "cell_type": "code",
   "execution_count": 51,
   "metadata": {},
   "outputs": [],
   "source": [
    "from convokit import BoWTransformer"
   ]
  },
  {
   "cell_type": "code",
   "execution_count": 52,
   "metadata": {},
   "outputs": [
    {
     "name": "stdout",
     "output_type": "stream",
     "text": [
      "Initializing default unigram CountVectorizer...\n"
     ]
    }
   ],
   "source": [
    "bow_transformer = BoWTransformer(obj_type=\"conversation\", \n",
    "                                 text_func=lambda convo: \" \".join([utt.text for utt in convo.get_chronological_utterance_list()][:5]),\n",
    "                                 selector=lambda convo: convo.meta['pair_id'] is not None,\n",
    "                    )"
   ]
  },
  {
   "cell_type": "code",
   "execution_count": 53,
   "metadata": {},
   "outputs": [
    {
     "data": {
      "text/plain": [
       "<convokit.model.corpus.Corpus at 0x13f2e8160>"
      ]
     },
     "execution_count": 53,
     "metadata": {},
     "output_type": "execute_result"
    }
   ],
   "source": [
    "bow_transformer.fit_transform(threads_corpus)"
   ]
  },
  {
   "cell_type": "code",
   "execution_count": 54,
   "metadata": {},
   "outputs": [
    {
     "name": "stdout",
     "output_type": "stream",
     "text": [
      "Conversation('id': 'dbrn7ta', 'utterances': ['dbrn7ta', 'dbs1b28', 'dbwryx7', 'dbsywwn', 'dbx3fsj', 'dbta3gk', 'dbx5e1b', 'dbx7ipj', 'dbx5hu8', 'dbx5wo1'], 'meta': {'original_convo_meta': {'title': '[Weekly] Chance Me! and Prospective Student Q&amp;A (Last Weekly Thread!)', 'num_comments': 42, 'domain': 'self.Cornell', 'timestamp': 1483040351, 'subreddit': 'Cornell', 'gilded': 0, 'gildings': None, 'stickied': False, 'author_flair_text': 'BME 18'}, 'original_convo_id': '5kyqy6', 'thread_doubles': True, 'pair_obj_label': 'pos', 'pair_id': '5kyqy6', 'pair_orientation': 'pos', 'bow_vector': <1x350 sparse matrix of type '<class 'numpy.int64'>'\n",
      "\twith 90 stored elements in Compressed Sparse Row format>})\n"
     ]
    }
   ],
   "source": [
    "for convo in threads_corpus.iter_conversations():\n",
    "    if convo.meta['pair_id'] is not None:\n",
    "        print(convo)\n",
    "        break"
   ]
  },
  {
   "cell_type": "code",
   "execution_count": 55,
   "metadata": {},
   "outputs": [],
   "source": [
    "paired_bow = PairedBoW(obj_type=\"conversation\")"
   ]
  },
  {
   "cell_type": "code",
   "execution_count": 56,
   "metadata": {},
   "outputs": [
    {
     "name": "stdout",
     "output_type": "stream",
     "text": [
      "Found 65 valid pairs.\n"
     ]
    },
    {
     "data": {
      "text/plain": [
       "<convokit.paired_prediction.pairedBoW.PairedBoW at 0x141070278>"
      ]
     },
     "execution_count": 56,
     "metadata": {},
     "output_type": "execute_result"
    }
   ],
   "source": [
    "paired_bow.fit(threads_corpus)"
   ]
  },
  {
   "cell_type": "code",
   "execution_count": 57,
   "metadata": {},
   "outputs": [
    {
     "name": "stdout",
     "output_type": "stream",
     "text": [
      "Found 65 valid pairs.\n"
     ]
    },
    {
     "data": {
      "text/plain": [
       "0.4461538461538462"
      ]
     },
     "execution_count": 57,
     "metadata": {},
     "output_type": "execute_result"
    }
   ],
   "source": [
    "paired_bow.summarize(threads_corpus)"
   ]
  },
  {
   "cell_type": "code",
   "execution_count": 58,
   "metadata": {},
   "outputs": [
    {
     "data": {
      "text/html": [
       "<div>\n",
       "<style scoped>\n",
       "    .dataframe tbody tr th:only-of-type {\n",
       "        vertical-align: middle;\n",
       "    }\n",
       "\n",
       "    .dataframe tbody tr th {\n",
       "        vertical-align: top;\n",
       "    }\n",
       "\n",
       "    .dataframe thead th {\n",
       "        text-align: right;\n",
       "    }\n",
       "</style>\n",
       "<table border=\"1\" class=\"dataframe\">\n",
       "  <thead>\n",
       "    <tr style=\"text-align: right;\">\n",
       "      <th></th>\n",
       "      <th>coef</th>\n",
       "    </tr>\n",
       "    <tr>\n",
       "      <th>feat_name</th>\n",
       "      <th></th>\n",
       "    </tr>\n",
       "  </thead>\n",
       "  <tbody>\n",
       "    <tr>\n",
       "      <th>school</th>\n",
       "      <td>0.376764</td>\n",
       "    </tr>\n",
       "    <tr>\n",
       "      <th>shit</th>\n",
       "      <td>0.356144</td>\n",
       "    </tr>\n",
       "    <tr>\n",
       "      <th>similar</th>\n",
       "      <td>0.337892</td>\n",
       "    </tr>\n",
       "    <tr>\n",
       "      <th>accepted</th>\n",
       "      <td>0.317888</td>\n",
       "    </tr>\n",
       "    <tr>\n",
       "      <th>speak</th>\n",
       "      <td>0.264692</td>\n",
       "    </tr>\n",
       "    <tr>\n",
       "      <th>computer</th>\n",
       "      <td>0.261430</td>\n",
       "    </tr>\n",
       "    <tr>\n",
       "      <th>since</th>\n",
       "      <td>0.254622</td>\n",
       "    </tr>\n",
       "    <tr>\n",
       "      <th>https</th>\n",
       "      <td>0.254539</td>\n",
       "    </tr>\n",
       "    <tr>\n",
       "      <th>easy</th>\n",
       "      <td>0.245864</td>\n",
       "    </tr>\n",
       "    <tr>\n",
       "      <th>half</th>\n",
       "      <td>0.238441</td>\n",
       "    </tr>\n",
       "    <tr>\n",
       "      <th>down</th>\n",
       "      <td>0.235081</td>\n",
       "    </tr>\n",
       "    <tr>\n",
       "      <th>isn</th>\n",
       "      <td>0.230827</td>\n",
       "    </tr>\n",
       "    <tr>\n",
       "      <th>culture</th>\n",
       "      <td>0.228816</td>\n",
       "    </tr>\n",
       "    <tr>\n",
       "      <th>saying</th>\n",
       "      <td>0.223607</td>\n",
       "    </tr>\n",
       "    <tr>\n",
       "      <th>gpa</th>\n",
       "      <td>0.223424</td>\n",
       "    </tr>\n",
       "    <tr>\n",
       "      <th>ve</th>\n",
       "      <td>0.222025</td>\n",
       "    </tr>\n",
       "    <tr>\n",
       "      <th>were</th>\n",
       "      <td>0.219519</td>\n",
       "    </tr>\n",
       "    <tr>\n",
       "      <th>apply</th>\n",
       "      <td>0.215958</td>\n",
       "    </tr>\n",
       "    <tr>\n",
       "      <th>him</th>\n",
       "      <td>0.202433</td>\n",
       "    </tr>\n",
       "    <tr>\n",
       "      <th>year</th>\n",
       "      <td>0.196278</td>\n",
       "    </tr>\n",
       "    <tr>\n",
       "      <th>doing</th>\n",
       "      <td>0.196271</td>\n",
       "    </tr>\n",
       "    <tr>\n",
       "      <th>chem</th>\n",
       "      <td>0.191991</td>\n",
       "    </tr>\n",
       "    <tr>\n",
       "      <th>applying</th>\n",
       "      <td>0.190774</td>\n",
       "    </tr>\n",
       "    <tr>\n",
       "      <th>should</th>\n",
       "      <td>0.190601</td>\n",
       "    </tr>\n",
       "    <tr>\n",
       "      <th>under</th>\n",
       "      <td>0.190181</td>\n",
       "    </tr>\n",
       "    <tr>\n",
       "      <th>why</th>\n",
       "      <td>0.190131</td>\n",
       "    </tr>\n",
       "    <tr>\n",
       "      <th>anyway</th>\n",
       "      <td>0.189134</td>\n",
       "    </tr>\n",
       "    <tr>\n",
       "      <th>look</th>\n",
       "      <td>0.182857</td>\n",
       "    </tr>\n",
       "    <tr>\n",
       "      <th>he</th>\n",
       "      <td>0.177511</td>\n",
       "    </tr>\n",
       "    <tr>\n",
       "      <th>heard</th>\n",
       "      <td>0.176938</td>\n",
       "    </tr>\n",
       "    <tr>\n",
       "      <th>...</th>\n",
       "      <td>...</td>\n",
       "    </tr>\n",
       "    <tr>\n",
       "      <th>gt</th>\n",
       "      <td>-0.160399</td>\n",
       "    </tr>\n",
       "    <tr>\n",
       "      <th>where</th>\n",
       "      <td>-0.161077</td>\n",
       "    </tr>\n",
       "    <tr>\n",
       "      <th>didn</th>\n",
       "      <td>-0.164531</td>\n",
       "    </tr>\n",
       "    <tr>\n",
       "      <th>application</th>\n",
       "      <td>-0.165756</td>\n",
       "    </tr>\n",
       "    <tr>\n",
       "      <th>done</th>\n",
       "      <td>-0.167713</td>\n",
       "    </tr>\n",
       "    <tr>\n",
       "      <th>makes</th>\n",
       "      <td>-0.172700</td>\n",
       "    </tr>\n",
       "    <tr>\n",
       "      <th>until</th>\n",
       "      <td>-0.172717</td>\n",
       "    </tr>\n",
       "    <tr>\n",
       "      <th>help</th>\n",
       "      <td>-0.176163</td>\n",
       "    </tr>\n",
       "    <tr>\n",
       "      <th>yes</th>\n",
       "      <td>-0.179249</td>\n",
       "    </tr>\n",
       "    <tr>\n",
       "      <th>thought</th>\n",
       "      <td>-0.183020</td>\n",
       "    </tr>\n",
       "    <tr>\n",
       "      <th>keep</th>\n",
       "      <td>-0.185007</td>\n",
       "    </tr>\n",
       "    <tr>\n",
       "      <th>thanks</th>\n",
       "      <td>-0.190103</td>\n",
       "    </tr>\n",
       "    <tr>\n",
       "      <th>last</th>\n",
       "      <td>-0.192382</td>\n",
       "    </tr>\n",
       "    <tr>\n",
       "      <th>enjoy</th>\n",
       "      <td>-0.197361</td>\n",
       "    </tr>\n",
       "    <tr>\n",
       "      <th>big</th>\n",
       "      <td>-0.208198</td>\n",
       "    </tr>\n",
       "    <tr>\n",
       "      <th>answer</th>\n",
       "      <td>-0.211776</td>\n",
       "    </tr>\n",
       "    <tr>\n",
       "      <th>lol</th>\n",
       "      <td>-0.212747</td>\n",
       "    </tr>\n",
       "    <tr>\n",
       "      <th>pay</th>\n",
       "      <td>-0.218007</td>\n",
       "    </tr>\n",
       "    <tr>\n",
       "      <th>early</th>\n",
       "      <td>-0.222576</td>\n",
       "    </tr>\n",
       "    <tr>\n",
       "      <th>senior</th>\n",
       "      <td>-0.249529</td>\n",
       "    </tr>\n",
       "    <tr>\n",
       "      <th>question</th>\n",
       "      <td>-0.263345</td>\n",
       "    </tr>\n",
       "    <tr>\n",
       "      <th>care</th>\n",
       "      <td>-0.267034</td>\n",
       "    </tr>\n",
       "    <tr>\n",
       "      <th>then</th>\n",
       "      <td>-0.267980</td>\n",
       "    </tr>\n",
       "    <tr>\n",
       "      <th>each</th>\n",
       "      <td>-0.268939</td>\n",
       "    </tr>\n",
       "    <tr>\n",
       "      <th>please</th>\n",
       "      <td>-0.276825</td>\n",
       "    </tr>\n",
       "    <tr>\n",
       "      <th>based</th>\n",
       "      <td>-0.280644</td>\n",
       "    </tr>\n",
       "    <tr>\n",
       "      <th>right</th>\n",
       "      <td>-0.316943</td>\n",
       "    </tr>\n",
       "    <tr>\n",
       "      <th>did</th>\n",
       "      <td>-0.344062</td>\n",
       "    </tr>\n",
       "    <tr>\n",
       "      <th>yeah</th>\n",
       "      <td>-0.438166</td>\n",
       "    </tr>\n",
       "    <tr>\n",
       "      <th>going</th>\n",
       "      <td>-0.507923</td>\n",
       "    </tr>\n",
       "  </tbody>\n",
       "</table>\n",
       "<p>350 rows × 1 columns</p>\n",
       "</div>"
      ],
      "text/plain": [
       "                 coef\n",
       "feat_name            \n",
       "school       0.376764\n",
       "shit         0.356144\n",
       "similar      0.337892\n",
       "accepted     0.317888\n",
       "speak        0.264692\n",
       "computer     0.261430\n",
       "since        0.254622\n",
       "https        0.254539\n",
       "easy         0.245864\n",
       "half         0.238441\n",
       "down         0.235081\n",
       "isn          0.230827\n",
       "culture      0.228816\n",
       "saying       0.223607\n",
       "gpa          0.223424\n",
       "ve           0.222025\n",
       "were         0.219519\n",
       "apply        0.215958\n",
       "him          0.202433\n",
       "year         0.196278\n",
       "doing        0.196271\n",
       "chem         0.191991\n",
       "applying     0.190774\n",
       "should       0.190601\n",
       "under        0.190181\n",
       "why          0.190131\n",
       "anyway       0.189134\n",
       "look         0.182857\n",
       "he           0.177511\n",
       "heard        0.176938\n",
       "...               ...\n",
       "gt          -0.160399\n",
       "where       -0.161077\n",
       "didn        -0.164531\n",
       "application -0.165756\n",
       "done        -0.167713\n",
       "makes       -0.172700\n",
       "until       -0.172717\n",
       "help        -0.176163\n",
       "yes         -0.179249\n",
       "thought     -0.183020\n",
       "keep        -0.185007\n",
       "thanks      -0.190103\n",
       "last        -0.192382\n",
       "enjoy       -0.197361\n",
       "big         -0.208198\n",
       "answer      -0.211776\n",
       "lol         -0.212747\n",
       "pay         -0.218007\n",
       "early       -0.222576\n",
       "senior      -0.249529\n",
       "question    -0.263345\n",
       "care        -0.267034\n",
       "then        -0.267980\n",
       "each        -0.268939\n",
       "please      -0.276825\n",
       "based       -0.280644\n",
       "right       -0.316943\n",
       "did         -0.344062\n",
       "yeah        -0.438166\n",
       "going       -0.507923\n",
       "\n",
       "[350 rows x 1 columns]"
      ]
     },
     "execution_count": 58,
     "metadata": {},
     "output_type": "execute_result"
    }
   ],
   "source": [
    "paired_bow.get_coefs(feature_names=bow_transformer.get_vocabulary())"
   ]
  },
  {
   "cell_type": "code",
   "execution_count": null,
   "metadata": {},
   "outputs": [],
   "source": []
  },
  {
   "cell_type": "code",
   "execution_count": null,
   "metadata": {},
   "outputs": [],
   "source": []
  }
 ],
 "metadata": {
  "kernelspec": {
   "display_name": "Python 3",
   "language": "python",
   "name": "python3"
  },
  "language_info": {
   "codemirror_mode": {
    "name": "ipython",
    "version": 3
   },
   "file_extension": ".py",
   "mimetype": "text/x-python",
   "name": "python",
   "nbconvert_exporter": "python",
   "pygments_lexer": "ipython3",
   "version": "3.7.3"
  }
 },
 "nbformat": 4,
 "nbformat_minor": 1
}
