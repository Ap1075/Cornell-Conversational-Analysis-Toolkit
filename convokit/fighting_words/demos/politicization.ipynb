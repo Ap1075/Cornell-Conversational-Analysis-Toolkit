{
 "cells": [
  {
   "cell_type": "code",
   "execution_count": 1,
   "metadata": {},
   "outputs": [],
   "source": [
    "subreddits = ['news', 'politics', 'worldnews', 'Liberal', 'progressive', 'democrats', 'Conservative', 'The_Donald', 'Republican']\n",
    "news_subreddits = ['news', 'politics', 'worldnews']\n",
    "left_subreddits = ['Liberal', 'progressive', 'democrats']\n",
    "right_subreddits = ['Republican'] #'Conservative', 'The_Donald', "
   ]
  },
  {
   "cell_type": "code",
   "execution_count": 2,
   "metadata": {},
   "outputs": [],
   "source": [
    "import os\n",
    "os.chdir('../../..')"
   ]
  },
  {
   "cell_type": "code",
   "execution_count": 3,
   "metadata": {},
   "outputs": [],
   "source": [
    "import convokit\n",
    "from convokit import Corpus, FightingWords"
   ]
  },
  {
   "cell_type": "code",
   "execution_count": 4,
   "metadata": {},
   "outputs": [],
   "source": [
    "root_dir = \"/Users/calebchiam/Documents/datasets/\""
   ]
  },
  {
   "cell_type": "code",
   "execution_count": 5,
   "metadata": {},
   "outputs": [],
   "source": [
    "subreddit_corpora = dict()\n",
    "for subreddit in left_subreddits + right_subreddits:\n",
    "    subreddit_corpora[subreddit] = Corpus(filename=root_dir + subreddit + \"-filtered-labelled-small\")"
   ]
  },
  {
   "cell_type": "code",
   "execution_count": 6,
   "metadata": {},
   "outputs": [
    {
     "name": "stdout",
     "output_type": "stream",
     "text": [
      "Liberal\n",
      "Number of Users: 1259\n",
      "Number of Utterances: 4610\n",
      "Number of Conversations: 382\n",
      "\n",
      "progressive\n",
      "Number of Users: 1225\n",
      "Number of Utterances: 4134\n",
      "Number of Conversations: 562\n",
      "\n",
      "democrats\n",
      "Number of Users: 1702\n",
      "Number of Utterances: 5538\n",
      "Number of Conversations: 677\n",
      "\n",
      "Republican\n",
      "Number of Users: 916\n",
      "Number of Utterances: 3043\n",
      "Number of Conversations: 397\n",
      "\n"
     ]
    }
   ],
   "source": [
    "for subreddit, corpus in subreddit_corpora.items():\n",
    "    print(subreddit)\n",
    "    corpus.print_summary_stats()\n",
    "    print()"
   ]
  },
  {
   "cell_type": "code",
   "execution_count": 7,
   "metadata": {},
   "outputs": [],
   "source": [
    "political_corpus = None\n",
    "\n",
    "for subreddit, corpus in subreddit_corpora.items():\n",
    "    if political_corpus is None:\n",
    "        political_corpus = corpus\n",
    "    else:\n",
    "        political_corpus = political_corpus.merge(corpus)"
   ]
  },
  {
   "cell_type": "code",
   "execution_count": 8,
   "metadata": {},
   "outputs": [
    {
     "name": "stdout",
     "output_type": "stream",
     "text": [
      "Number of Users: 4695\n",
      "Number of Utterances: 17325\n",
      "Number of Conversations: 2018\n"
     ]
    }
   ],
   "source": [
    "political_corpus.print_summary_stats()"
   ]
  },
  {
   "cell_type": "code",
   "execution_count": 9,
   "metadata": {},
   "outputs": [],
   "source": [
    "FW = FightingWords(l1_selector=lambda utt: utt.meta['subreddit'] == 'democrats', \n",
    "                  l2_selector=lambda utt: utt.meta['subreddit'] == 'Republican', ngram=(1,2))"
   ]
  },
  {
   "cell_type": "code",
   "execution_count": 10,
   "metadata": {},
   "outputs": [
    {
     "name": "stdout",
     "output_type": "stream",
     "text": [
      "l1_func returned 5538 valid utterances. l2_func returned 3043 valid utterances.\n",
      "Vocab size is 5881\n",
      "Comparing language...\n",
      "ngram zscores computed.\n"
     ]
    },
    {
     "data": {
      "text/html": [
       "<div>\n",
       "<style scoped>\n",
       "    .dataframe tbody tr th:only-of-type {\n",
       "        vertical-align: middle;\n",
       "    }\n",
       "\n",
       "    .dataframe tbody tr th {\n",
       "        vertical-align: top;\n",
       "    }\n",
       "\n",
       "    .dataframe thead th {\n",
       "        text-align: right;\n",
       "    }\n",
       "</style>\n",
       "<table border=\"1\" class=\"dataframe\">\n",
       "  <thead>\n",
       "    <tr style=\"text-align: right;\">\n",
       "      <th></th>\n",
       "      <th>z-score</th>\n",
       "    </tr>\n",
       "    <tr>\n",
       "      <th>ngram</th>\n",
       "      <th></th>\n",
       "    </tr>\n",
       "  </thead>\n",
       "  <tbody>\n",
       "    <tr>\n",
       "      <th>republicans</th>\n",
       "      <td>-11.252099</td>\n",
       "    </tr>\n",
       "    <tr>\n",
       "      <th>vote</th>\n",
       "      <td>-10.949509</td>\n",
       "    </tr>\n",
       "    <tr>\n",
       "      <th>perspective</th>\n",
       "      <td>-10.672477</td>\n",
       "    </tr>\n",
       "    <tr>\n",
       "      <th>unless</th>\n",
       "      <td>-9.448575</td>\n",
       "    </tr>\n",
       "    <tr>\n",
       "      <th>ask</th>\n",
       "      <td>-9.426887</td>\n",
       "    </tr>\n",
       "    <tr>\n",
       "      <th>purpose</th>\n",
       "      <td>-9.375715</td>\n",
       "    </tr>\n",
       "    <tr>\n",
       "      <th>with their</th>\n",
       "      <td>-9.252141</td>\n",
       "    </tr>\n",
       "    <tr>\n",
       "      <th>respect</th>\n",
       "      <td>-9.158247</td>\n",
       "    </tr>\n",
       "    <tr>\n",
       "      <th>views</th>\n",
       "      <td>-9.120552</td>\n",
       "    </tr>\n",
       "    <tr>\n",
       "      <th>unless you</th>\n",
       "      <td>-9.072574</td>\n",
       "    </tr>\n",
       "    <tr>\n",
       "      <th>sub</th>\n",
       "      <td>-9.027164</td>\n",
       "    </tr>\n",
       "    <tr>\n",
       "      <th>for this</th>\n",
       "      <td>-9.007566</td>\n",
       "    </tr>\n",
       "    <tr>\n",
       "      <th>their own</th>\n",
       "      <td>-8.913754</td>\n",
       "    </tr>\n",
       "    <tr>\n",
       "      <th>main</th>\n",
       "      <td>-8.877646</td>\n",
       "    </tr>\n",
       "    <tr>\n",
       "      <th>looking for</th>\n",
       "      <td>-8.852652</td>\n",
       "    </tr>\n",
       "    <tr>\n",
       "      <th>come to</th>\n",
       "      <td>-8.834692</td>\n",
       "    </tr>\n",
       "    <tr>\n",
       "      <th>non</th>\n",
       "      <td>-8.833131</td>\n",
       "    </tr>\n",
       "    <tr>\n",
       "      <th>that you</th>\n",
       "      <td>-8.826865</td>\n",
       "    </tr>\n",
       "    <tr>\n",
       "      <th>leave</th>\n",
       "      <td>-8.749436</td>\n",
       "    </tr>\n",
       "    <tr>\n",
       "      <th>identify</th>\n",
       "      <td>-8.736237</td>\n",
       "    </tr>\n",
       "    <tr>\n",
       "      <th>subreddit</th>\n",
       "      <td>-8.589099</td>\n",
       "    </tr>\n",
       "    <tr>\n",
       "      <th>button</th>\n",
       "      <td>-8.556484</td>\n",
       "    </tr>\n",
       "    <tr>\n",
       "      <th>discuss</th>\n",
       "      <td>-8.459479</td>\n",
       "    </tr>\n",
       "    <tr>\n",
       "      <th>to our</th>\n",
       "      <td>-8.366454</td>\n",
       "    </tr>\n",
       "    <tr>\n",
       "      <th>issues with</th>\n",
       "      <td>-8.353444</td>\n",
       "    </tr>\n",
       "    <tr>\n",
       "      <th>was performed</th>\n",
       "      <td>-8.238591</td>\n",
       "    </tr>\n",
       "    <tr>\n",
       "      <th>action was</th>\n",
       "      <td>-8.238591</td>\n",
       "    </tr>\n",
       "    <tr>\n",
       "      <th>questions or</th>\n",
       "      <td>-8.238591</td>\n",
       "    </tr>\n",
       "    <tr>\n",
       "      <th>this</th>\n",
       "      <td>-8.226385</td>\n",
       "    </tr>\n",
       "    <tr>\n",
       "      <th>partisan</th>\n",
       "      <td>-8.218172</td>\n",
       "    </tr>\n",
       "    <tr>\n",
       "      <th>...</th>\n",
       "      <td>...</td>\n",
       "    </tr>\n",
       "    <tr>\n",
       "      <th>owners</th>\n",
       "      <td>4.608321</td>\n",
       "    </tr>\n",
       "    <tr>\n",
       "      <th>the republicans</th>\n",
       "      <td>4.621025</td>\n",
       "    </tr>\n",
       "    <tr>\n",
       "      <th>registration</th>\n",
       "      <td>4.654681</td>\n",
       "    </tr>\n",
       "    <tr>\n",
       "      <th>the gop</th>\n",
       "      <td>4.742093</td>\n",
       "    </tr>\n",
       "    <tr>\n",
       "      <th>democratic</th>\n",
       "      <td>4.824504</td>\n",
       "    </tr>\n",
       "    <tr>\n",
       "      <th>and</th>\n",
       "      <td>4.909338</td>\n",
       "    </tr>\n",
       "    <tr>\n",
       "      <th>bernie</th>\n",
       "      <td>4.933491</td>\n",
       "    </tr>\n",
       "    <tr>\n",
       "      <th>the nra</th>\n",
       "      <td>4.962648</td>\n",
       "    </tr>\n",
       "    <tr>\n",
       "      <th>shit</th>\n",
       "      <td>4.972682</td>\n",
       "    </tr>\n",
       "    <tr>\n",
       "      <th>his</th>\n",
       "      <td>5.029301</td>\n",
       "    </tr>\n",
       "    <tr>\n",
       "      <th>fucking</th>\n",
       "      <td>5.050595</td>\n",
       "    </tr>\n",
       "    <tr>\n",
       "      <th>system</th>\n",
       "      <td>5.085353</td>\n",
       "    </tr>\n",
       "    <tr>\n",
       "      <th>primary</th>\n",
       "      <td>5.088615</td>\n",
       "    </tr>\n",
       "    <tr>\n",
       "      <th>party</th>\n",
       "      <td>5.144813</td>\n",
       "    </tr>\n",
       "    <tr>\n",
       "      <th>an assault</th>\n",
       "      <td>5.214239</td>\n",
       "    </tr>\n",
       "    <tr>\n",
       "      <th>gop</th>\n",
       "      <td>5.330289</td>\n",
       "    </tr>\n",
       "    <tr>\n",
       "      <th>assault rifle</th>\n",
       "      <td>5.386614</td>\n",
       "    </tr>\n",
       "    <tr>\n",
       "      <th>in</th>\n",
       "      <td>5.666862</td>\n",
       "    </tr>\n",
       "    <tr>\n",
       "      <th>general</th>\n",
       "      <td>5.683932</td>\n",
       "    </tr>\n",
       "    <tr>\n",
       "      <th>democrats</th>\n",
       "      <td>5.905133</td>\n",
       "    </tr>\n",
       "    <tr>\n",
       "      <th>assault</th>\n",
       "      <td>6.072379</td>\n",
       "    </tr>\n",
       "    <tr>\n",
       "      <th>check</th>\n",
       "      <td>6.218648</td>\n",
       "    </tr>\n",
       "    <tr>\n",
       "      <th>background check</th>\n",
       "      <td>6.230443</td>\n",
       "    </tr>\n",
       "    <tr>\n",
       "      <th>2018</th>\n",
       "      <td>6.399711</td>\n",
       "    </tr>\n",
       "    <tr>\n",
       "      <th>election</th>\n",
       "      <td>6.460616</td>\n",
       "    </tr>\n",
       "    <tr>\n",
       "      <th>nra</th>\n",
       "      <td>7.016432</td>\n",
       "    </tr>\n",
       "    <tr>\n",
       "      <th>rifle</th>\n",
       "      <td>7.192288</td>\n",
       "    </tr>\n",
       "    <tr>\n",
       "      <th>gun</th>\n",
       "      <td>7.300911</td>\n",
       "    </tr>\n",
       "    <tr>\n",
       "      <th>background</th>\n",
       "      <td>7.496357</td>\n",
       "    </tr>\n",
       "    <tr>\n",
       "      <th>trump</th>\n",
       "      <td>8.817372</td>\n",
       "    </tr>\n",
       "  </tbody>\n",
       "</table>\n",
       "<p>5881 rows × 1 columns</p>\n",
       "</div>"
      ],
      "text/plain": [
       "                    z-score\n",
       "ngram                      \n",
       "republicans      -11.252099\n",
       "vote             -10.949509\n",
       "perspective      -10.672477\n",
       "unless            -9.448575\n",
       "ask               -9.426887\n",
       "purpose           -9.375715\n",
       "with their        -9.252141\n",
       "respect           -9.158247\n",
       "views             -9.120552\n",
       "unless you        -9.072574\n",
       "sub               -9.027164\n",
       "for this          -9.007566\n",
       "their own         -8.913754\n",
       "main              -8.877646\n",
       "looking for       -8.852652\n",
       "come to           -8.834692\n",
       "non               -8.833131\n",
       "that you          -8.826865\n",
       "leave             -8.749436\n",
       "identify          -8.736237\n",
       "subreddit         -8.589099\n",
       "button            -8.556484\n",
       "discuss           -8.459479\n",
       "to our            -8.366454\n",
       "issues with       -8.353444\n",
       "was performed     -8.238591\n",
       "action was        -8.238591\n",
       "questions or      -8.238591\n",
       "this              -8.226385\n",
       "partisan          -8.218172\n",
       "...                     ...\n",
       "owners             4.608321\n",
       "the republicans    4.621025\n",
       "registration       4.654681\n",
       "the gop            4.742093\n",
       "democratic         4.824504\n",
       "and                4.909338\n",
       "bernie             4.933491\n",
       "the nra            4.962648\n",
       "shit               4.972682\n",
       "his                5.029301\n",
       "fucking            5.050595\n",
       "system             5.085353\n",
       "primary            5.088615\n",
       "party              5.144813\n",
       "an assault         5.214239\n",
       "gop                5.330289\n",
       "assault rifle      5.386614\n",
       "in                 5.666862\n",
       "general            5.683932\n",
       "democrats          5.905133\n",
       "assault            6.072379\n",
       "check              6.218648\n",
       "background check   6.230443\n",
       "2018               6.399711\n",
       "election           6.460616\n",
       "nra                7.016432\n",
       "rifle              7.192288\n",
       "gun                7.300911\n",
       "background         7.496357\n",
       "trump              8.817372\n",
       "\n",
       "[5881 rows x 1 columns]"
      ]
     },
     "execution_count": 10,
     "metadata": {},
     "output_type": "execute_result"
    }
   ],
   "source": [
    "%matplotlib qt\n",
    "FW.summarize(political_corpus)"
   ]
  },
  {
   "cell_type": "code",
   "execution_count": 11,
   "metadata": {},
   "outputs": [
    {
     "data": {
      "text/plain": [
       "'top_k'"
      ]
     },
     "execution_count": 11,
     "metadata": {},
     "output_type": "execute_result"
    }
   ],
   "source": [
    "FW.annot_method"
   ]
  },
  {
   "cell_type": "code",
   "execution_count": 12,
   "metadata": {},
   "outputs": [
    {
     "data": {
      "text/plain": [
       "10"
      ]
     },
     "execution_count": 12,
     "metadata": {},
     "output_type": "execute_result"
    }
   ],
   "source": [
    "FW.top_k"
   ]
  },
  {
   "cell_type": "code",
   "execution_count": 21,
   "metadata": {},
   "outputs": [
    {
     "data": {
      "image/png": "[encoded data removed]",
      "text/plain": [
       "<Figure size 432x288 with 1 Axes>"
      ]
     },
     "metadata": {
      "needs_background": "light"
     },
     "output_type": "display_data"
    }
   ],
   "source": [
    "%matplotlib inline\n",
    "FW.plot_fighting_words(max_label_size=15)"
   ]
  },
  {
   "cell_type": "code",
   "execution_count": 14,
   "metadata": {},
   "outputs": [],
   "source": [
    "FW.top_k = 15"
   ]
  },
  {
   "cell_type": "code",
   "execution_count": 15,
   "metadata": {},
   "outputs": [
    {
     "data": {
      "text/plain": [
       "3.580565575095159"
      ]
     },
     "execution_count": 15,
     "metadata": {},
     "output_type": "execute_result"
    }
   ],
   "source": [
    "FW.get_zscore('reform')"
   ]
  },
  {
   "cell_type": "code",
   "execution_count": 16,
   "metadata": {},
   "outputs": [
    {
     "data": {
      "text/plain": [
       "-0.21827793776864793"
      ]
     },
     "execution_count": 16,
     "metadata": {},
     "output_type": "execute_result"
    }
   ],
   "source": [
    "FW.get_zscore('control')"
   ]
  },
  {
   "cell_type": "code",
   "execution_count": 17,
   "metadata": {},
   "outputs": [
    {
     "data": {
      "text/plain": [
       "-2.569353917409525"
      ]
     },
     "execution_count": 17,
     "metadata": {},
     "output_type": "execute_result"
    }
   ],
   "source": [
    "FW.get_zscore('liberals')"
   ]
  },
  {
   "cell_type": "code",
   "execution_count": 18,
   "metadata": {},
   "outputs": [
    {
     "data": {
      "text/plain": [
       "2.0967165337497686"
      ]
     },
     "execution_count": 18,
     "metadata": {},
     "output_type": "execute_result"
    }
   ],
   "source": [
    "FW.get_zscore('idiots')"
   ]
  },
  {
   "cell_type": "code",
   "execution_count": 19,
   "metadata": {},
   "outputs": [
    {
     "data": {
      "text/plain": [
       "8.817372394662254"
      ]
     },
     "execution_count": 19,
     "metadata": {},
     "output_type": "execute_result"
    }
   ],
   "source": [
    "FW.get_zscore('trump')"
   ]
  },
  {
   "cell_type": "code",
   "execution_count": 20,
   "metadata": {},
   "outputs": [],
   "source": [
    "FW.get_zscore('cuck')"
   ]
  },
  {
   "cell_type": "code",
   "execution_count": null,
   "metadata": {},
   "outputs": [],
   "source": []
  }
 ],
 "metadata": {
  "kernelspec": {
   "display_name": "Python 3",
   "language": "python",
   "name": "python3"
  },
  "language_info": {
   "codemirror_mode": {
    "name": "ipython",
    "version": 3
   },
   "file_extension": ".py",
   "mimetype": "text/x-python",
   "name": "python",
   "nbconvert_exporter": "python",
   "pygments_lexer": "ipython3",
   "version": "3.7.3"
  }
 },
 "nbformat": 4,
 "nbformat_minor": 1
}
