{
 "cells": [
  {
   "cell_type": "code",
   "execution_count": 1,
   "metadata": {},
   "outputs": [],
   "source": [
    "from model import Corpus, Utterance, User\n"
   ]
  },
  {
   "cell_type": "code",
   "execution_count": 2,
   "metadata": {},
   "outputs": [],
   "source": [
    "def stat_summary(corpus: Corpus) -> None:\n",
    "    print(\"Number of conversations:\", len(list(corpus.iter_conversations())))\n",
    "    print(\"Number of utterances:\", len(list(corpus.iter_utterances())))\n",
    "    print(\"Number of users:\", len(list(corpus.iter_users())))"
   ]
  },
  {
   "cell_type": "markdown",
   "metadata": {},
   "source": [
    "## Merging two corpora"
   ]
  },
  {
   "cell_type": "markdown",
   "metadata": {},
   "source": [
    "Let's take a look at the characteristics of our input corpora before the merge:"
   ]
  },
  {
   "cell_type": "markdown",
   "metadata": {},
   "source": [
    "### Corpus 1"
   ]
  },
  {
   "cell_type": "code",
   "execution_count": 3,
   "metadata": {},
   "outputs": [],
   "source": [
    "corpus1 = Corpus(utterances = [\n",
    "            Utterance(id=0, root=0, text=\"hello world\", user=User(name=\"alice\")),\n",
    "            Utterance(id=1, root=0, reply_to=0, text=\"my name is bob\", user=User(name=\"bob\")),\n",
    "            Utterance(id=2, root=2, text=\"this is a sentence\", user=User(name=\"foxtrot\", meta={\"yellow\": \"food\"})),\n",
    "        ])"
   ]
  },
  {
   "cell_type": "code",
   "execution_count": 4,
   "metadata": {},
   "outputs": [
    {
     "name": "stdout",
     "output_type": "stream",
     "text": [
      "Number of conversations: 2\n",
      "Number of utterances: 3\n",
      "Number of users: 3\n"
     ]
    }
   ],
   "source": [
    "stat_summary(corpus1)"
   ]
  },
  {
   "cell_type": "markdown",
   "metadata": {},
   "source": [
    "### Corpus 2"
   ]
  },
  {
   "cell_type": "code",
   "execution_count": 5,
   "metadata": {},
   "outputs": [],
   "source": [
    "corpus2 = Corpus(utterances = [\n",
    "            Utterance(id=3, root=3, text=\"i like pie\", user=User(name=\"charlie\", meta={\"what\": \"a mood\", \"hey\": \"food\"})),\n",
    "            Utterance(id=4, root=3, reply_to=3, text=\"sentence galore\", user=User(name=\"echo\")),\n",
    "            Utterance(id=2, root=2, text=\"this is a sentence\", user=User(name=\"foxtrot\", meta={\"yellow\": \"mood\", \"hello\": \"world\"})),\n",
    "        ])"
   ]
  },
  {
   "cell_type": "code",
   "execution_count": 6,
   "metadata": {},
   "outputs": [
    {
     "name": "stdout",
     "output_type": "stream",
     "text": [
      "Number of conversations: 2\n",
      "Number of utterances: 3\n",
      "Number of users: 3\n"
     ]
    }
   ],
   "source": [
    "stat_summary(corpus2)"
   ]
  },
  {
   "cell_type": "markdown",
   "metadata": {},
   "source": [
    "Let's attempt a merge:"
   ]
  },
  {
   "cell_type": "code",
   "execution_count": 7,
   "metadata": {},
   "outputs": [
    {
     "name": "stdout",
     "output_type": "stream",
     "text": [
      "defaultdict(<class 'str'>, {'food': ''})\n",
      "defaultdict(<class 'str'>, {'a mood': ''})\n",
      "defaultdict(<class 'str'>, {'food': ''})\n"
     ]
    }
   ],
   "source": [
    "corpus3 = corpus1.merge(corpus2)"
   ]
  },
  {
   "cell_type": "code",
   "execution_count": 8,
   "metadata": {},
   "outputs": [
    {
     "name": "stdout",
     "output_type": "stream",
     "text": [
      "Number of conversations: 3\n",
      "Number of utterances: 5\n",
      "Number of users: 5\n"
     ]
    }
   ],
   "source": [
    "stat_summary(corpus3)"
   ]
  },
  {
   "cell_type": "markdown",
   "metadata": {},
   "source": [
    "Notice that because User 'echo' had conflicting metadata, the latest utterance (i.e. the utterance in corpus2) had its metadata take precedence. We verify this below. Note too that the other metadata key-value pair ('hello': 'world') has been added to the metadata as well."
   ]
  },
  {
   "cell_type": "code",
   "execution_count": 9,
   "metadata": {},
   "outputs": [
    {
     "data": {
      "text/plain": [
       "{}"
      ]
     },
     "execution_count": 9,
     "metadata": {},
     "output_type": "execute_result"
    }
   ],
   "source": [
    "corpus3.get_user('echo').meta"
   ]
  },
  {
   "cell_type": "markdown",
   "metadata": {},
   "source": [
    "Users were not initialized with their list of corresponding utterances / conversations. Corpus has a method for updating these User lists."
   ]
  },
  {
   "cell_type": "code",
   "execution_count": 10,
   "metadata": {},
   "outputs": [
    {
     "name": "stdout",
     "output_type": "stream",
     "text": [
      "[User([('name', 'alice')]), User([('name', 'foxtrot')]), User([('name', 'bob')]), User([('name', 'charlie')]), User([('name', 'echo')])]\n",
      "Number of utterances for User echo: 0\n",
      "Number of conversations for User echo: 0\n"
     ]
    }
   ],
   "source": [
    "print(list(corpus3.iter_users()))\n",
    "user_echo = corpus3.get_user('echo')\n",
    "print(\"Number of utterances for User echo:\", len(list(user_echo.iter_utterances())))\n",
    "print(\"Number of conversations for User echo:\", len(list(user_echo.iter_conversations())))"
   ]
  },
  {
   "cell_type": "code",
   "execution_count": 11,
   "metadata": {},
   "outputs": [],
   "source": [
    "corpus3.update_users_data()"
   ]
  },
  {
   "cell_type": "code",
   "execution_count": 12,
   "metadata": {},
   "outputs": [
    {
     "name": "stdout",
     "output_type": "stream",
     "text": [
      "Number of utterances for User echo: 1\n",
      "Number of conversations for User echo: 1\n"
     ]
    }
   ],
   "source": [
    "print(\"Number of utterances for User echo:\", len(list(user_echo.iter_utterances())))\n",
    "print(\"Number of conversations for User echo:\", len(list(user_echo.iter_conversations())))"
   ]
  },
  {
   "cell_type": "code",
   "execution_count": null,
   "metadata": {},
   "outputs": [],
   "source": []
  }
 ],
 "metadata": {
  "kernelspec": {
   "display_name": "Python 3",
   "language": "python",
   "name": "python3"
  },
  "language_info": {
   "codemirror_mode": {
    "name": "ipython",
    "version": 3
   },
   "file_extension": ".py",
   "mimetype": "text/x-python",
   "name": "python",
   "nbconvert_exporter": "python",
   "pygments_lexer": "ipython3",
   "version": "3.7.3"
  }
 },
 "nbformat": 4,
 "nbformat_minor": 2
}
