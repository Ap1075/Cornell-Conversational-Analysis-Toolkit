{
 "cells": [
  {
   "cell_type": "code",
   "execution_count": 1,
   "metadata": {},
   "outputs": [],
   "source": [
    "import os"
   ]
  },
  {
   "cell_type": "code",
   "execution_count": 2,
   "metadata": {},
   "outputs": [],
   "source": [
    "os.chdir('../../..')"
   ]
  },
  {
   "cell_type": "code",
   "execution_count": 3,
   "metadata": {},
   "outputs": [],
   "source": [
    "import convokit"
   ]
  },
  {
   "cell_type": "code",
   "execution_count": 13,
   "metadata": {},
   "outputs": [
    {
     "name": "stdout",
     "output_type": "stream",
     "text": [
      "Dataset already exists at /Users/calebchiam/.convokit/downloads/reddit-corpus\n"
     ]
    }
   ],
   "source": [
    "corpus = convokit.Corpus(filename=convokit.download('reddit-corpus'))"
   ]
  },
  {
   "cell_type": "markdown",
   "metadata": {},
   "source": [
    "Let's get the fighting words for r/news and r/the_donald:"
   ]
  },
  {
   "cell_type": "code",
   "execution_count": 24,
   "metadata": {},
   "outputs": [],
   "source": [
    "fw = convokit.FightingWords(l1_func=lambda utt: utt.meta['subreddit'] == 'The_Donald',\n",
    "                           l2_func=lambda utt: utt.meta['subreddit'] == \"politics\")"
   ]
  },
  {
   "cell_type": "code",
   "execution_count": 25,
   "metadata": {},
   "outputs": [
    {
     "name": "stdout",
     "output_type": "stream",
     "text": [
      "l1_func returned 18047 valid utterances. l2_func returned 23002 valid utterances.\n",
      "Vocab size is 7485\n",
      "Comparing language...\n"
     ]
    }
   ],
   "source": [
    "ngram_zscores = fw.evaluate(corpus)"
   ]
  },
  {
   "cell_type": "code",
   "execution_count": 26,
   "metadata": {},
   "outputs": [
    {
     "data": {
      "text/plain": [
       "[('muslim', 8.103482300399271),\n",
       " ('me', 8.433637206490802),\n",
       " ('islam', 8.467036393603141),\n",
       " ('swamp', 9.055525639346374),\n",
       " ('they', 9.118201105835805),\n",
       " ('god', 9.199279196952611),\n",
       " ('my', 9.49473423349533),\n",
       " ('was', 10.23026339932192),\n",
       " ('maga', 10.306584505429107),\n",
       " ('movie', 10.332279704031063)]"
      ]
     },
     "execution_count": 26,
     "metadata": {},
     "output_type": "execute_result"
    }
   ],
   "source": [
    "# words used in L1\n",
    "ngram_zscores[-10:]"
   ]
  },
  {
   "cell_type": "code",
   "execution_count": 27,
   "metadata": {},
   "outputs": [
    {
     "data": {
      "text/plain": [
       "[('trump', -15.628412464455543),\n",
       " ('gt', -14.575821037988531),\n",
       " ('republicans', -14.110655016407588),\n",
       " ('party', -12.091530927326408),\n",
       " ('gop', -11.60117438723362),\n",
       " ('republican', -11.378023873570504),\n",
       " ('vote', -10.425975442835377),\n",
       " ('democrats', -9.825485166636822),\n",
       " ('campaign', -9.822155785359769),\n",
       " ('investigation', -9.023273194773681)]"
      ]
     },
     "execution_count": 27,
     "metadata": {},
     "output_type": "execute_result"
    }
   ],
   "source": [
    "# words used in L2\n",
    "ngram_zscores[:10]"
   ]
  },
  {
   "cell_type": "code",
   "execution_count": 30,
   "metadata": {},
   "outputs": [],
   "source": [
    "fw2 = convokit.FightingWords(l1_func=lambda utt: utt.meta['subreddit'] == 'Christianity',\n",
    "                           l2_func=lambda utt: utt.meta['subreddit'] == \"atheism\")"
   ]
  },
  {
   "cell_type": "code",
   "execution_count": 31,
   "metadata": {},
   "outputs": [
    {
     "name": "stdout",
     "output_type": "stream",
     "text": [
      "l1_func returned 18901 valid utterances. l2_func returned 20471 valid utterances.\n",
      "Vocab size is 8967\n",
      "Comparing language...\n"
     ]
    }
   ],
   "source": [
    "ngram_zscores = fw2.evaluate(corpus)"
   ]
  },
  {
   "cell_type": "code",
   "execution_count": 32,
   "metadata": {},
   "outputs": [
    {
     "data": {
      "text/plain": [
       "[('lord', 16.779634504933973),\n",
       " ('spirit', 17.54284798390669),\n",
       " ('scripture', 17.594376691554384),\n",
       " ('faith', 18.06842397846222),\n",
       " ('his', 18.810224658671206),\n",
       " ('he', 19.21885868074539),\n",
       " ('sin', 21.612085163461593),\n",
       " ('christ', 24.882628554913072),\n",
       " ('jesus', 29.021193301485585),\n",
       " ('god', 33.81924357037713)]"
      ]
     },
     "execution_count": 32,
     "metadata": {},
     "output_type": "execute_result"
    }
   ],
   "source": [
    "# words used in L1\n",
    "ngram_zscores[-10:]"
   ]
  },
  {
   "cell_type": "code",
   "execution_count": 33,
   "metadata": {},
   "outputs": [
    {
     "data": {
      "text/plain": [
       "[('religion', -28.333598455483735),\n",
       " ('religious', -26.753079362109094),\n",
       " ('shit', -18.414032064956903),\n",
       " ('they', -17.5810302671982),\n",
       " ('atheist', -16.627880800971592),\n",
       " ('atheists', -15.426177310638788),\n",
       " ('islam', -15.0158604444466),\n",
       " ('rights', -14.255832984619499),\n",
       " ('fuck', -14.208604069090082),\n",
       " ('fucking', -13.77727847934386)]"
      ]
     },
     "execution_count": 33,
     "metadata": {},
     "output_type": "execute_result"
    }
   ],
   "source": [
    "# words used in L2\n",
    "ngram_zscores[:10]"
   ]
  },
  {
   "cell_type": "code",
   "execution_count": null,
   "metadata": {},
   "outputs": [],
   "source": []
  }
 ],
 "metadata": {
  "kernelspec": {
   "display_name": "Python 3",
   "language": "python",
   "name": "python3"
  },
  "language_info": {
   "codemirror_mode": {
    "name": "ipython",
    "version": 3
   },
   "file_extension": ".py",
   "mimetype": "text/x-python",
   "name": "python",
   "nbconvert_exporter": "python",
   "pygments_lexer": "ipython3",
   "version": "3.7.3"
  }
 },
 "nbformat": 4,
 "nbformat_minor": 2
}
