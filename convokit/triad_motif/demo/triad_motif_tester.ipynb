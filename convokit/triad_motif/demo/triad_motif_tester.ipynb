{
 "cells": [
  {
   "cell_type": "code",
   "execution_count": 1,
   "metadata": {},
   "outputs": [],
   "source": [
    "import os\n",
    "os.chdir('../../..')"
   ]
  },
  {
   "cell_type": "code",
   "execution_count": 2,
   "metadata": {},
   "outputs": [
    {
     "name": "stderr",
     "output_type": "stream",
     "text": [
      "/Library/Frameworks/Python.framework/Versions/3.7/lib/python3.7/site-packages/sklearn/externals/joblib/__init__.py:15: DeprecationWarning: sklearn.externals.joblib is deprecated in 0.21 and will be removed in 0.23. Please import this functionality directly from joblib, which can be installed with: pip install joblib. If this warning is raised when loading pickled models, you may need to re-serialize those models with scikit-learn 0.21+.\n",
      "  warnings.warn(msg, category=DeprecationWarning)\n"
     ]
    }
   ],
   "source": [
    "import convokit"
   ]
  },
  {
   "cell_type": "code",
   "execution_count": 3,
   "metadata": {},
   "outputs": [],
   "source": [
    "from convokit import Corpus, download, TriadMotifTransformer"
   ]
  },
  {
   "cell_type": "code",
   "execution_count": 4,
   "metadata": {},
   "outputs": [],
   "source": [
    "tmt = TriadMotifTransformer()"
   ]
  },
  {
   "cell_type": "code",
   "execution_count": 5,
   "metadata": {},
   "outputs": [
    {
     "name": "stdout",
     "output_type": "stream",
     "text": [
      "Dataset already exists at /Users/calebchiam/.convokit/downloads/subreddit-Cornell\n"
     ]
    }
   ],
   "source": [
    "corpus = Corpus(filename=download('subreddit-Cornell', use_local=True))"
   ]
  },
  {
   "cell_type": "code",
   "execution_count": 6,
   "metadata": {},
   "outputs": [
    {
     "data": {
      "text/plain": [
       "<convokit.model.corpus.Corpus at 0x13159b550>"
      ]
     },
     "execution_count": 6,
     "metadata": {},
     "output_type": "execute_result"
    }
   ],
   "source": [
    "tmt.fit_transform(corpus)"
   ]
  },
  {
   "cell_type": "code",
   "execution_count": 7,
   "metadata": {},
   "outputs": [
    {
     "name": "stdout",
     "output_type": "stream",
     "text": [
      "Utterance('id': 'nyx4d', 'root': nyx4d, 'reply-to': None, 'user': User('id': reddmau5, 'meta': {'num_posts': 3, 'num_comments': 5}), 'timestamp': 1325452698, 'text': \"I was just reading about the Princeton Mic-Check and it's getting [national press](http://www.bloomberg.com/news/2011-12-29/princeton-brews-trouble-for-us-1-percenters-commentary-by-michael-lewis.html).\\n\\nI want to get a sense of what people felt like around campus. Anything interesting happen? Anything interesting coming up?\", 'meta': {'score': 2, 'top_level_comment': None, 'retrieved_on': -1, 'gilded': -1, 'gildings': None, 'subreddit': 'Cornell', 'stickied': False, 'permalink': '/r/Cornell/comments/nyx4d/so_i_was_away_this_past_semester_whats_going_on/', 'author_flair_text': ''})\n",
      "\n",
      "Utterance('id': 'c3ditbx', 'root': nyx4d, 'reply-to': nyx4d, 'user': User('id': Samuel_Gompers, 'meta': {'num_posts': 1, 'num_comments': 92}), 'timestamp': 1325598131, 'text': 'OK, so there was an \"Occupy Ho Plaza\" rally on Friday, October 14. [Relevant *Daily Sun* article](http://cornellsun.com/section/news/content/2011/10/17/cornell-democrats-%E2%80%98occupy%E2%80%99-ho-plaza-protest-rally). This rally was originally planned by the Cornell Democrats as a rally about voter ID laws in various states. It was being planned as the \"Occupy\" movement began to pick up steam and press. The night before the rally, the Democrats invited several other generally \"left\" leaning campus groups--like COLA, KyotoNOW, and I forget who else--to a meeting to craft a more \"Occupy\" type rally. I was involved in all of this, and produced [this editorial](http://cornellsun.com/section/opinion/content/2011/10/14/restore-american-equality-defense-occupy-wall-street) which I suggested be endorsed by the nascent \"Occupy\" group (I am neither Tony nor Max, however, the name on the published editorial had to be changed due to unrelated politics and I am nothing if not willing to compromise). Needless to say, I was denounced by the people who were really into the occupation part of the movement as being \"undemocratic\" for wanting to have a message and a platform. Meanwhile, those same people discussed how we \"have to choreograph the people protesting without them realizing they\\'re being choreographed.\" Yes, that\\'s an almost exact quote. The way the meeting went made me feel conservative. Read that editorial if you want to understand how hard that is to do. \\n\\nAt the rally, these were the same people who demanded we use the \"People\\'s Mic\" which just made us look like a bunch of cultists. They actually made Svante Myrick, who was then campaigning and is now the Mayor-elect of Ithaca, use the stupid people\\'s mic as well. After this, the now official \"Occupy Cornell\" group split from the Democrats and became their own organization, though there is still some membership overlap. I stopped going to the meetings after the Ho Plaza Rally, but I haven\\'t been impressed with any of their actions so far (like disrupting Business frat initiations). ', 'meta': {'score': 10, 'top_level_comment': 'c3ditbx', 'retrieved_on': 1428116527, 'gilded': 0, 'gildings': None, 'subreddit': 'Cornell', 'stickied': False, 'permalink': '', 'author_flair_text': 'ILR 2013'})\n",
      "\n"
     ]
    }
   ],
   "source": [
    "for utt in next(corpus.iter_conversations()).iter_utterances():\n",
    "    print(utt)\n",
    "    print()"
   ]
  },
  {
   "cell_type": "code",
   "execution_count": 8,
   "metadata": {},
   "outputs": [
    {
     "data": {
      "text/plain": [
       "{'title': \"So I was away this past semester - What's going on with Occupy at Cornell?\",\n",
       " 'num_comments': 1,\n",
       " 'domain': 'self.Cornell',\n",
       " 'timestamp': 1325452698,\n",
       " 'subreddit': 'Cornell',\n",
       " 'gilded': -1,\n",
       " 'gildings': None,\n",
       " 'stickied': False,\n",
       " 'author_flair_text': '',\n",
       " 'triad_motifs': None}"
      ]
     },
     "execution_count": 8,
     "metadata": {},
     "output_type": "execute_result"
    }
   ],
   "source": [
    "next(corpus.iter_conversations()).meta"
   ]
  },
  {
   "cell_type": "code",
   "execution_count": 12,
   "metadata": {},
   "outputs": [
    {
     "name": "stdout",
     "output_type": "stream",
     "text": [
      "Conversation('id': 'o1gca', 'utterances': ['o1gca', 'c3dmawd', 'c3dmbua', 'c3dmdco', 'c3dmhhh', 'c3e0teb', 'c3e469j', 'c3ee04d', 'c3eltyl', 'c3ely1v'], 'meta': {'title': 'should we advertise ourselves on facebook?', 'num_comments': 9, 'domain': 'self.Cornell', 'timestamp': 1325620506, 'subreddit': 'Cornell', 'gilded': -1, 'gildings': None, 'stickied': False, 'author_flair_text': '', 'triad_motifs': {'NO_EDGE_TRIADS': [<convokit.triad_motif.triadMotif.TriadMotif object at 0x13e402080>], 'SINGLE_EDGE_TRIADS': [<convokit.triad_motif.triadMotif.TriadMotif object at 0x13e3f8fd0>], 'INCOMING_TRIADS': [<convokit.triad_motif.triadMotif.TriadMotif object at 0x13e3f8ef0>, <convokit.triad_motif.triadMotif.TriadMotif object at 0x13e3f8e80>, <convokit.triad_motif.triadMotif.TriadMotif object at 0x13e3f8e10>, <convokit.triad_motif.triadMotif.TriadMotif object at 0x13e3f8da0>, <convokit.triad_motif.triadMotif.TriadMotif object at 0x13e3f8d30>, <convokit.triad_motif.triadMotif.TriadMotif object at 0x13e3f8cc0>], 'OUTGOING_TRIADS': [<convokit.triad_motif.triadMotif.TriadMotif object at 0x13e3f8c50>], 'DYADIC_TRIADS': [<convokit.triad_motif.triadMotif.TriadMotif object at 0x13e3f8be0>], 'UNIDIRECTIONAL_TRIADS': [], 'INCOMING_2TO3_TRIADS': [<convokit.triad_motif.triadMotif.TriadMotif object at 0x13e3f8b70>], 'INCOMING_1TO3_TRIADS': [], 'DIRECTED_CYCLE_TRIADS': [], 'OUTGOING_3TO1_TRIADS': [<convokit.triad_motif.triadMotif.TriadMotif object at 0x13e3f8b00>], 'INCOMING_RECIPROCAL_TRIADS': [<convokit.triad_motif.triadMotif.TriadMotif object at 0x13e3f8a90>], 'OUTGOING_RECIPROCAL_TRIADS': [], 'DIRECTED_CYCLE_1TO3_TRIADS': [], 'DIRECIPROCAL_TRIADS': [], 'DIRECIPROCAL_2TO3_TRIADS': [], 'TRIRECIPROCAL_TRIADS': []}})\n"
     ]
    }
   ],
   "source": [
    "for convo in corpus.iter_conversations():\n",
    "    if convo.meta['triad_motifs'] is not None:\n",
    "        print(convo)\n",
    "        break"
   ]
  },
  {
   "cell_type": "code",
   "execution_count": 17,
   "metadata": {},
   "outputs": [
    {
     "data": {
      "text/plain": [
       "<convokit.triad_motif.triadMotif.TriadMotif at 0x13e3f8c50>"
      ]
     },
     "execution_count": 17,
     "metadata": {},
     "output_type": "execute_result"
    }
   ],
   "source": [
    "corpus.get_conversation('o1gca').meta['triad_motifs']['OUTGOING_TRIADS'][0]"
   ]
  },
  {
   "cell_type": "code",
   "execution_count": null,
   "metadata": {},
   "outputs": [],
   "source": []
  }
 ],
 "metadata": {
  "kernelspec": {
   "display_name": "Python 3",
   "language": "python",
   "name": "python3"
  },
  "language_info": {
   "codemirror_mode": {
    "name": "ipython",
    "version": 3
   },
   "file_extension": ".py",
   "mimetype": "text/x-python",
   "name": "python",
   "nbconvert_exporter": "python",
   "pygments_lexer": "ipython3",
   "version": "3.7.3"
  }
 },
 "nbformat": 4,
 "nbformat_minor": 2
}
