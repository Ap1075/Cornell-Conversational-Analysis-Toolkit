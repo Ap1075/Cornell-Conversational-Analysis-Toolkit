{
 "cells": [
  {
   "cell_type": "code",
   "execution_count": 1,
   "metadata": {},
   "outputs": [],
   "source": [
    "import os\n",
    "os.chdir('../../..')"
   ]
  },
  {
   "cell_type": "code",
   "execution_count": 2,
   "metadata": {},
   "outputs": [],
   "source": [
    "import convokit\n",
    "from convokit import Corpus"
   ]
  },
  {
   "cell_type": "code",
   "execution_count": 3,
   "metadata": {},
   "outputs": [],
   "source": [
    "os.chdir('convokit/thread_generator')"
   ]
  },
  {
   "cell_type": "code",
   "execution_count": 4,
   "metadata": {},
   "outputs": [],
   "source": [
    "from convokit.thread_generator import ThreadSpawner"
   ]
  },
  {
   "cell_type": "code",
   "execution_count": 141,
   "metadata": {},
   "outputs": [
    {
     "name": "stdout",
     "output_type": "stream",
     "text": [
      "1. 0x1\n",
      "    2. 0x2\n",
      "        3. 0x19\n",
      "        6. 0x3\n",
      "            7. 0x1d\n",
      "                8. 0x3\n",
      "                    9. 0x1d\n",
      "                        11. 0x18\n",
      "                    10. 0x17\n",
      "    4. 0xf\n",
      "        5. 0x19\n",
      "        23. 0x21\n",
      "    12. 0x4\n",
      "    13. 0x15\n",
      "        14. 0x4\n",
      "    15. 0x23\n",
      "    16. 0xe\n",
      "        17. 0x23\n",
      "        21. 0x2\n",
      "            22. 0x27\n",
      "            24. 0xc\n",
      "                25. 0x21\n",
      "    18. 0x10\n",
      "        19. 0x23\n",
      "    20. 0x27\n"
     ]
    }
   ],
   "source": [
    "# random 25% reciprocal throughout\n",
    "t_spawner1 = ThreadSpawner(participant_factor=20, recip_factor=lambda k: 0.405, expansion_factor=lambda k: 0.5)\n",
    "utts = t_spawner1.spawn_thread(thread_index=1, length=25)\n",
    "for idx, utt in enumerate(utts):\n",
    "    utt.meta['order'] = idx + 1\n",
    "    utt.meta['class'] = 1\n",
    "Corpus(utterances=utts).get_conversation('1-1').print_conversation_structure(lambda utt: str(utt.meta['order']) + \". \" + utt.user.id)"
   ]
  },
  {
   "cell_type": "code",
   "execution_count": 6,
   "metadata": {},
   "outputs": [],
   "source": [
    "from convokit import HyperConvo\n"
   ]
  },
  {
   "cell_type": "code",
   "execution_count": 45,
   "metadata": {},
   "outputs": [
    {
     "data": {
      "text/plain": [
       "6"
      ]
     },
     "execution_count": 45,
     "metadata": {},
     "output_type": "execute_result"
    }
   ],
   "source": [
    "hc = HyperConvo(prefix_len=20)\n",
    "corpus = Corpus(utterances=utts)\n",
    "hc.fit_transform(corpus)\n",
    "corpus.random_conversation().meta['hyperconvo']['count[reciprocity motif]']"
   ]
  },
  {
   "cell_type": "code",
   "execution_count": null,
   "metadata": {},
   "outputs": [],
   "source": []
  },
  {
   "cell_type": "code",
   "execution_count": 125,
   "metadata": {},
   "outputs": [
    {
     "name": "stdout",
     "output_type": "stream",
     "text": [
      "1. 0x1\n",
      "    2. 0x2\n",
      "    3. 0x27\n",
      "        4. 0x2\n",
      "            5. 0x1c\n",
      "                6. 0x2\n",
      "                    7. 0x1c\n",
      "                        8. 0x2\n",
      "    9. 0xc\n",
      "        13. 0x1d\n",
      "        20. 0x26\n",
      "            21. 0x17\n",
      "    10. 0x20\n",
      "    11. 0xa\n",
      "        12. 0x8\n",
      "    14. 0x25\n",
      "        15. 0x19\n",
      "    16. 0xd\n",
      "    17. 0x1e\n",
      "    18. 0x19\n",
      "        19. 0x1e\n",
      "    22. 0x1b\n",
      "        23. 0x17\n",
      "            24. 0x1b\n",
      "    25. 0xb\n"
     ]
    }
   ],
   "source": [
    "def recip_lambda(k):\n",
    "    if k <= 7:\n",
    "        return 0.77\n",
    "    else:\n",
    "        return 0.1\n",
    "\n",
    "t_spawner2 = ThreadSpawner(participant_factor=20, recip_factor=recip_lambda, \n",
    "                           expansion_factor=lambda k: 0.5)\n",
    "utts = t_spawner2.spawn_thread(thread_index=1, length=25)\n",
    "for idx, utt in enumerate(utts):\n",
    "    utt.meta['order'] = idx + 1\n",
    "    utt.meta['class'] = 2\n",
    "Corpus(utterances=utts).get_conversation('1-1').print_conversation_structure(lambda utt: str(utt.meta['order']) + \". \" + utt.user.id)"
   ]
  },
  {
   "cell_type": "code",
   "execution_count": 126,
   "metadata": {},
   "outputs": [
    {
     "data": {
      "text/plain": [
       "3"
      ]
     },
     "execution_count": 126,
     "metadata": {},
     "output_type": "execute_result"
    }
   ],
   "source": [
    "hc = HyperConvo(prefix_len=20)\n",
    "corpus = Corpus(utterances=utts)\n",
    "hc.fit_transform(corpus)\n",
    "corpus.random_conversation().meta['hyperconvo']['count[reciprocity motif]']"
   ]
  },
  {
   "cell_type": "code",
   "execution_count": 92,
   "metadata": {},
   "outputs": [
    {
     "name": "stdout",
     "output_type": "stream",
     "text": [
      "1. 0x1\n",
      "    2. 0x2\n",
      "        3. 0x13\n",
      "        14. 0x1d\n",
      "    4. 0x19\n",
      "        5. 0x1a\n",
      "    6. 0xa\n",
      "    7. 0x4\n",
      "        8. 0xa\n",
      "            15. 0x1c\n",
      "                16. 0x1d\n",
      "                    17. 0x1c\n",
      "                        18. 0x1d\n",
      "                            19. 0x1c\n",
      "                                20. 0x1d\n",
      "                                    21. 0x1c\n",
      "                                        22. 0x1d\n",
      "                                            23. 0x1c\n",
      "    9. 0xe\n",
      "        10. 0xa\n",
      "            12. 0x1e\n",
      "                13. 0x16\n",
      "    11. 0x16\n",
      "    24. 0x13\n",
      "        25. 0x1c\n"
     ]
    }
   ],
   "source": [
    "def recip_lambda(k):\n",
    "    if k <= 15:\n",
    "        return 0.1\n",
    "    else:\n",
    "        return 0.9\n",
    "t_spawner3 = ThreadSpawner(participant_factor=20, recip_factor=recip_lambda, expansion_factor=lambda k: 0.5)\n",
    "utts = t_spawner3.spawn_thread(thread_index=1, length=25)\n",
    "for idx, utt in enumerate(utts):\n",
    "    utt.meta['order'] = idx + 1\n",
    "    utt.meta['class'] = 3\n",
    "Corpus(utterances=utts).get_conversation('1-1').print_conversation_structure(lambda utt: str(utt.meta['order']) + \". \" + utt.user.id)    "
   ]
  },
  {
   "cell_type": "code",
   "execution_count": 93,
   "metadata": {},
   "outputs": [
    {
     "data": {
      "text/plain": [
       "4"
      ]
     },
     "execution_count": 93,
     "metadata": {},
     "output_type": "execute_result"
    }
   ],
   "source": [
    "hc = HyperConvo(prefix_len=20)\n",
    "corpus = Corpus(utterances=utts)\n",
    "hc.fit_transform(corpus)\n",
    "corpus.random_conversation().meta['hyperconvo']['count[reciprocity motif]']"
   ]
  },
  {
   "cell_type": "markdown",
   "metadata": {},
   "source": [
    "## Corpus generation"
   ]
  },
  {
   "cell_type": "code",
   "execution_count": 142,
   "metadata": {},
   "outputs": [],
   "source": [
    "all_utts = []"
   ]
  },
  {
   "cell_type": "code",
   "execution_count": 143,
   "metadata": {},
   "outputs": [],
   "source": [
    "group_size = 5000"
   ]
  },
  {
   "cell_type": "code",
   "execution_count": 144,
   "metadata": {},
   "outputs": [],
   "source": [
    "LENGTH=25\n",
    "for thread_idx in range(1, group_size+1):\n",
    "    utts = t_spawner1.spawn_thread(thread_idx, length=LENGTH)\n",
    "    for utt in utts: utt.meta['subreddit'] = '1.focused->expansionary'\n",
    "    all_utts.extend(utts)\n",
    "\n",
    "for thread_idx in range(group_size+1, 2*group_size+1):\n",
    "    utts = t_spawner2.spawn_thread(thread_idx, length=LENGTH)\n",
    "    for utt in utts: utt.meta['subreddit'] = '2.expansionary->focused'\n",
    "    all_utts.extend(utts)\n",
    "    \n",
    "for thread_idx in range(2*group_size+1, 3*group_size+1):\n",
    "    utts = t_spawner3.spawn_thread(thread_idx, length=LENGTH)\n",
    "    for utt in utts: utt.meta['subreddit'] = '3.dyadic_chain'\n",
    "    all_utts.extend(utts)\n"
   ]
  },
  {
   "cell_type": "code",
   "execution_count": 145,
   "metadata": {},
   "outputs": [
    {
     "data": {
      "text/plain": [
       "375000"
      ]
     },
     "execution_count": 145,
     "metadata": {},
     "output_type": "execute_result"
    }
   ],
   "source": [
    "len(all_utts)"
   ]
  },
  {
   "cell_type": "code",
   "execution_count": 146,
   "metadata": {},
   "outputs": [],
   "source": [
    "corpus = Corpus(utterances=all_utts)"
   ]
  },
  {
   "cell_type": "code",
   "execution_count": 147,
   "metadata": {},
   "outputs": [
    {
     "name": "stdout",
     "output_type": "stream",
     "text": [
      "Number of Speakers: 40\n",
      "Number of Utterances: 375000\n",
      "Number of Conversations: 15000\n"
     ]
    }
   ],
   "source": [
    "corpus.print_summary_stats()"
   ]
  },
  {
   "cell_type": "code",
   "execution_count": 148,
   "metadata": {},
   "outputs": [],
   "source": [
    "from functools import reduce"
   ]
  },
  {
   "cell_type": "code",
   "execution_count": 149,
   "metadata": {},
   "outputs": [],
   "source": [
    "for convo in corpus.iter_conversations():\n",
    "    convo.meta['prob'] = reduce(lambda x, y: x * y, [utt.meta['prob'] for utt in convo.iter_utterances()])"
   ]
  },
  {
   "cell_type": "code",
   "execution_count": 150,
   "metadata": {},
   "outputs": [],
   "source": [
    "from convokit import HyperConvo"
   ]
  },
  {
   "cell_type": "code",
   "execution_count": 151,
   "metadata": {},
   "outputs": [],
   "source": [
    "hc20 = HyperConvo(prefix_len=20, feat_name='hyperconvo-20', invalid_val=-1)"
   ]
  },
  {
   "cell_type": "code",
   "execution_count": 152,
   "metadata": {},
   "outputs": [
    {
     "data": {
      "text/plain": [
       "<convokit.model.corpus.Corpus at 0x23ff84790>"
      ]
     },
     "execution_count": 152,
     "metadata": {},
     "output_type": "execute_result"
    }
   ],
   "source": [
    "hc20.fit_transform(corpus)"
   ]
  },
  {
   "cell_type": "code",
   "execution_count": 153,
   "metadata": {},
   "outputs": [],
   "source": [
    "for convo in corpus.iter_conversations():\n",
    "    convo.meta['group'] = int(next(convo.iter_utterances()).meta['subreddit'][0])"
   ]
  },
  {
   "cell_type": "code",
   "execution_count": 166,
   "metadata": {},
   "outputs": [],
   "source": [
    "import pandas as pd\n",
    "df = corpus.get_conversations_dataframe()\n",
    "df_subset = df[['meta.group', 'meta.hyperconvo-20']]\n",
    "hc_dicts = {df_subset.iloc[idx].name: df_subset.iloc[idx]['meta.hyperconvo-20'] for idx in range(len(df_subset))}\n",
    "df_hc = pd.DataFrame(hc_dicts).T.astype('float64')\n",
    "df_combi_20 = pd.concat([df_subset, df_hc], axis=1, sort=False)"
   ]
  },
  {
   "cell_type": "code",
   "execution_count": 168,
   "metadata": {},
   "outputs": [
    {
     "data": {
      "text/html": [
       "<div>\n",
       "<style scoped>\n",
       "    .dataframe tbody tr th:only-of-type {\n",
       "        vertical-align: middle;\n",
       "    }\n",
       "\n",
       "    .dataframe tbody tr th {\n",
       "        vertical-align: top;\n",
       "    }\n",
       "\n",
       "    .dataframe thead th {\n",
       "        text-align: right;\n",
       "    }\n",
       "</style>\n",
       "<table border=\"1\" class=\"dataframe\">\n",
       "  <thead>\n",
       "    <tr style=\"text-align: right;\">\n",
       "      <th></th>\n",
       "      <th>count[reciprocity motif]</th>\n",
       "    </tr>\n",
       "    <tr>\n",
       "      <th>meta.group</th>\n",
       "      <th></th>\n",
       "    </tr>\n",
       "  </thead>\n",
       "  <tbody>\n",
       "    <tr>\n",
       "      <th>1</th>\n",
       "      <td>4.1904</td>\n",
       "    </tr>\n",
       "    <tr>\n",
       "      <th>2</th>\n",
       "      <td>4.1856</td>\n",
       "    </tr>\n",
       "    <tr>\n",
       "      <th>3</th>\n",
       "      <td>4.1260</td>\n",
       "    </tr>\n",
       "  </tbody>\n",
       "</table>\n",
       "</div>"
      ],
      "text/plain": [
       "            count[reciprocity motif]\n",
       "meta.group                          \n",
       "1                             4.1904\n",
       "2                             4.1856\n",
       "3                             4.1260"
      ]
     },
     "execution_count": 168,
     "metadata": {},
     "output_type": "execute_result"
    }
   ],
   "source": [
    "means_20 = df_combi_20.groupby('meta.group').mean() #.to_csv('~/Desktop/agg_means.csv')\n",
    "# percent_diff = (means.iloc[0] - means.iloc[1])*2 / (means.iloc[0] + means.iloc[1] + 0.00001)\n",
    "# sum(percent_diff)\n",
    "means_20[['count[reciprocity motif]']]"
   ]
  },
  {
   "cell_type": "code",
   "execution_count": 169,
   "metadata": {},
   "outputs": [
    {
     "data": {
      "text/html": [
       "<div>\n",
       "<style scoped>\n",
       "    .dataframe tbody tr th:only-of-type {\n",
       "        vertical-align: middle;\n",
       "    }\n",
       "\n",
       "    .dataframe tbody tr th {\n",
       "        vertical-align: top;\n",
       "    }\n",
       "\n",
       "    .dataframe thead th {\n",
       "        text-align: right;\n",
       "    }\n",
       "</style>\n",
       "<table border=\"1\" class=\"dataframe\">\n",
       "  <thead>\n",
       "    <tr style=\"text-align: right;\">\n",
       "      <th></th>\n",
       "      <th>2nd-argmax[indegree over C-&gt;C mid-thread responses]</th>\n",
       "      <th>2nd-argmax[indegree over C-&gt;C responses]</th>\n",
       "      <th>2nd-argmax[indegree over C-&gt;c mid-thread responses]</th>\n",
       "      <th>2nd-argmax[indegree over C-&gt;c responses]</th>\n",
       "      <th>2nd-argmax[indegree over c-&gt;c mid-thread responses]</th>\n",
       "      <th>2nd-argmax[indegree over c-&gt;c responses]</th>\n",
       "      <th>2nd-argmax[outdegree over C-&gt;C mid-thread responses]</th>\n",
       "      <th>2nd-argmax[outdegree over C-&gt;C responses]</th>\n",
       "      <th>2nd-argmax[outdegree over C-&gt;c mid-thread responses]</th>\n",
       "      <th>2nd-argmax[outdegree over C-&gt;c responses]</th>\n",
       "      <th>...</th>\n",
       "      <th>prop-nonzero[indegree over C-&gt;C mid-thread responses]</th>\n",
       "      <th>prop-nonzero[indegree over C-&gt;C responses]</th>\n",
       "      <th>prop-nonzero[indegree over C-&gt;c mid-thread responses]</th>\n",
       "      <th>prop-nonzero[indegree over C-&gt;c responses]</th>\n",
       "      <th>prop-nonzero[indegree over c-&gt;c mid-thread responses]</th>\n",
       "      <th>prop-nonzero[indegree over c-&gt;c responses]</th>\n",
       "      <th>prop-nonzero[outdegree over C-&gt;C mid-thread responses]</th>\n",
       "      <th>prop-nonzero[outdegree over C-&gt;C responses]</th>\n",
       "      <th>prop-nonzero[outdegree over C-&gt;c mid-thread responses]</th>\n",
       "      <th>prop-nonzero[outdegree over C-&gt;c responses]</th>\n",
       "    </tr>\n",
       "    <tr>\n",
       "      <th>meta.group</th>\n",
       "      <th></th>\n",
       "      <th></th>\n",
       "      <th></th>\n",
       "      <th></th>\n",
       "      <th></th>\n",
       "      <th></th>\n",
       "      <th></th>\n",
       "      <th></th>\n",
       "      <th></th>\n",
       "      <th></th>\n",
       "      <th></th>\n",
       "      <th></th>\n",
       "      <th></th>\n",
       "      <th></th>\n",
       "      <th></th>\n",
       "      <th></th>\n",
       "      <th></th>\n",
       "      <th></th>\n",
       "      <th></th>\n",
       "      <th></th>\n",
       "      <th></th>\n",
       "    </tr>\n",
       "  </thead>\n",
       "  <tbody>\n",
       "    <tr>\n",
       "      <th>1</th>\n",
       "      <td>2.1290</td>\n",
       "      <td>2.0838</td>\n",
       "      <td>4.4398</td>\n",
       "      <td>3.8664</td>\n",
       "      <td>4.4398</td>\n",
       "      <td>3.8664</td>\n",
       "      <td>3.7862</td>\n",
       "      <td>3.7382</td>\n",
       "      <td>3.7222</td>\n",
       "      <td>3.8854</td>\n",
       "      <td>...</td>\n",
       "      <td>0.705598</td>\n",
       "      <td>0.725467</td>\n",
       "      <td>0.549063</td>\n",
       "      <td>0.57161</td>\n",
       "      <td>0.549063</td>\n",
       "      <td>0.57161</td>\n",
       "      <td>0.726466</td>\n",
       "      <td>0.960187</td>\n",
       "      <td>0.726466</td>\n",
       "      <td>0.960187</td>\n",
       "    </tr>\n",
       "    <tr>\n",
       "      <th>2</th>\n",
       "      <td>1.4226</td>\n",
       "      <td>1.5110</td>\n",
       "      <td>3.0330</td>\n",
       "      <td>3.2318</td>\n",
       "      <td>3.0330</td>\n",
       "      <td>3.2318</td>\n",
       "      <td>2.5284</td>\n",
       "      <td>3.2348</td>\n",
       "      <td>1.7424</td>\n",
       "      <td>1.7356</td>\n",
       "      <td>...</td>\n",
       "      <td>0.473380</td>\n",
       "      <td>0.483758</td>\n",
       "      <td>0.461789</td>\n",
       "      <td>0.48870</td>\n",
       "      <td>0.461789</td>\n",
       "      <td>0.48870</td>\n",
       "      <td>0.668146</td>\n",
       "      <td>0.987889</td>\n",
       "      <td>0.668146</td>\n",
       "      <td>0.987889</td>\n",
       "    </tr>\n",
       "    <tr>\n",
       "      <th>3</th>\n",
       "      <td>2.2936</td>\n",
       "      <td>2.1050</td>\n",
       "      <td>3.9826</td>\n",
       "      <td>2.9438</td>\n",
       "      <td>3.9826</td>\n",
       "      <td>2.9438</td>\n",
       "      <td>5.5532</td>\n",
       "      <td>5.9876</td>\n",
       "      <td>7.5814</td>\n",
       "      <td>8.4596</td>\n",
       "      <td>...</td>\n",
       "      <td>0.616868</td>\n",
       "      <td>0.646748</td>\n",
       "      <td>0.540568</td>\n",
       "      <td>0.56354</td>\n",
       "      <td>0.540568</td>\n",
       "      <td>0.56354</td>\n",
       "      <td>0.653160</td>\n",
       "      <td>0.946862</td>\n",
       "      <td>0.653160</td>\n",
       "      <td>0.946862</td>\n",
       "    </tr>\n",
       "  </tbody>\n",
       "</table>\n",
       "<p>3 rows × 140 columns</p>\n",
       "</div>"
      ],
      "text/plain": [
       "            2nd-argmax[indegree over C->C mid-thread responses]  \\\n",
       "meta.group                                                        \n",
       "1                                                      2.1290     \n",
       "2                                                      1.4226     \n",
       "3                                                      2.2936     \n",
       "\n",
       "            2nd-argmax[indegree over C->C responses]  \\\n",
       "meta.group                                             \n",
       "1                                             2.0838   \n",
       "2                                             1.5110   \n",
       "3                                             2.1050   \n",
       "\n",
       "            2nd-argmax[indegree over C->c mid-thread responses]  \\\n",
       "meta.group                                                        \n",
       "1                                                      4.4398     \n",
       "2                                                      3.0330     \n",
       "3                                                      3.9826     \n",
       "\n",
       "            2nd-argmax[indegree over C->c responses]  \\\n",
       "meta.group                                             \n",
       "1                                             3.8664   \n",
       "2                                             3.2318   \n",
       "3                                             2.9438   \n",
       "\n",
       "            2nd-argmax[indegree over c->c mid-thread responses]  \\\n",
       "meta.group                                                        \n",
       "1                                                      4.4398     \n",
       "2                                                      3.0330     \n",
       "3                                                      3.9826     \n",
       "\n",
       "            2nd-argmax[indegree over c->c responses]  \\\n",
       "meta.group                                             \n",
       "1                                             3.8664   \n",
       "2                                             3.2318   \n",
       "3                                             2.9438   \n",
       "\n",
       "            2nd-argmax[outdegree over C->C mid-thread responses]  \\\n",
       "meta.group                                                         \n",
       "1                                                      3.7862      \n",
       "2                                                      2.5284      \n",
       "3                                                      5.5532      \n",
       "\n",
       "            2nd-argmax[outdegree over C->C responses]  \\\n",
       "meta.group                                              \n",
       "1                                              3.7382   \n",
       "2                                              3.2348   \n",
       "3                                              5.9876   \n",
       "\n",
       "            2nd-argmax[outdegree over C->c mid-thread responses]  \\\n",
       "meta.group                                                         \n",
       "1                                                      3.7222      \n",
       "2                                                      1.7424      \n",
       "3                                                      7.5814      \n",
       "\n",
       "            2nd-argmax[outdegree over C->c responses]  ...  \\\n",
       "meta.group                                             ...   \n",
       "1                                              3.8854  ...   \n",
       "2                                              1.7356  ...   \n",
       "3                                              8.4596  ...   \n",
       "\n",
       "            prop-nonzero[indegree over C->C mid-thread responses]  \\\n",
       "meta.group                                                          \n",
       "1                                                    0.705598       \n",
       "2                                                    0.473380       \n",
       "3                                                    0.616868       \n",
       "\n",
       "            prop-nonzero[indegree over C->C responses]  \\\n",
       "meta.group                                               \n",
       "1                                             0.725467   \n",
       "2                                             0.483758   \n",
       "3                                             0.646748   \n",
       "\n",
       "            prop-nonzero[indegree over C->c mid-thread responses]  \\\n",
       "meta.group                                                          \n",
       "1                                                    0.549063       \n",
       "2                                                    0.461789       \n",
       "3                                                    0.540568       \n",
       "\n",
       "            prop-nonzero[indegree over C->c responses]  \\\n",
       "meta.group                                               \n",
       "1                                              0.57161   \n",
       "2                                              0.48870   \n",
       "3                                              0.56354   \n",
       "\n",
       "            prop-nonzero[indegree over c->c mid-thread responses]  \\\n",
       "meta.group                                                          \n",
       "1                                                    0.549063       \n",
       "2                                                    0.461789       \n",
       "3                                                    0.540568       \n",
       "\n",
       "            prop-nonzero[indegree over c->c responses]  \\\n",
       "meta.group                                               \n",
       "1                                              0.57161   \n",
       "2                                              0.48870   \n",
       "3                                              0.56354   \n",
       "\n",
       "            prop-nonzero[outdegree over C->C mid-thread responses]  \\\n",
       "meta.group                                                           \n",
       "1                                                    0.726466        \n",
       "2                                                    0.668146        \n",
       "3                                                    0.653160        \n",
       "\n",
       "            prop-nonzero[outdegree over C->C responses]  \\\n",
       "meta.group                                                \n",
       "1                                              0.960187   \n",
       "2                                              0.987889   \n",
       "3                                              0.946862   \n",
       "\n",
       "            prop-nonzero[outdegree over C->c mid-thread responses]  \\\n",
       "meta.group                                                           \n",
       "1                                                    0.726466        \n",
       "2                                                    0.668146        \n",
       "3                                                    0.653160        \n",
       "\n",
       "            prop-nonzero[outdegree over C->c responses]  \n",
       "meta.group                                               \n",
       "1                                              0.960187  \n",
       "2                                              0.987889  \n",
       "3                                              0.946862  \n",
       "\n",
       "[3 rows x 140 columns]"
      ]
     },
     "execution_count": 169,
     "metadata": {},
     "output_type": "execute_result"
    }
   ],
   "source": [
    "means_20"
   ]
  },
  {
   "cell_type": "markdown",
   "metadata": {},
   "source": [
    "## Defining classification task"
   ]
  },
  {
   "cell_type": "code",
   "execution_count": 158,
   "metadata": {},
   "outputs": [],
   "source": [
    "hc25 = HyperConvo(prefix_len=25, feat_name='hyperconvo-25', invalid_val=-1)"
   ]
  },
  {
   "cell_type": "code",
   "execution_count": 159,
   "metadata": {},
   "outputs": [
    {
     "data": {
      "text/plain": [
       "<convokit.model.corpus.Corpus at 0x23ff84790>"
      ]
     },
     "execution_count": 159,
     "metadata": {},
     "output_type": "execute_result"
    }
   ],
   "source": [
    "hc25.fit_transform(corpus)"
   ]
  },
  {
   "cell_type": "code",
   "execution_count": 170,
   "metadata": {},
   "outputs": [],
   "source": [
    "df = corpus.get_conversations_dataframe()\n",
    "df_subset = df[['meta.group', 'meta.hyperconvo-25']]\n",
    "hc_dicts = {df_subset.iloc[idx].name: df_subset.iloc[idx]['meta.hyperconvo-25'] for idx in range(len(df_subset))}\n",
    "df_hc = pd.DataFrame(hc_dicts).T.astype('float64')\n",
    "df_combi_25 = pd.concat([df_subset, df_hc], axis=1, sort=False)"
   ]
  },
  {
   "cell_type": "code",
   "execution_count": 172,
   "metadata": {},
   "outputs": [
    {
     "data": {
      "text/html": [
       "<div>\n",
       "<style scoped>\n",
       "    .dataframe tbody tr th:only-of-type {\n",
       "        vertical-align: middle;\n",
       "    }\n",
       "\n",
       "    .dataframe tbody tr th {\n",
       "        vertical-align: top;\n",
       "    }\n",
       "\n",
       "    .dataframe thead th {\n",
       "        text-align: right;\n",
       "    }\n",
       "</style>\n",
       "<table border=\"1\" class=\"dataframe\">\n",
       "  <thead>\n",
       "    <tr style=\"text-align: right;\">\n",
       "      <th></th>\n",
       "      <th>count[reciprocity motif]</th>\n",
       "    </tr>\n",
       "    <tr>\n",
       "      <th>meta.group</th>\n",
       "      <th></th>\n",
       "    </tr>\n",
       "  </thead>\n",
       "  <tbody>\n",
       "    <tr>\n",
       "      <th>1</th>\n",
       "      <td>5.1744</td>\n",
       "    </tr>\n",
       "    <tr>\n",
       "      <th>2</th>\n",
       "      <td>4.3618</td>\n",
       "    </tr>\n",
       "    <tr>\n",
       "      <th>3</th>\n",
       "      <td>8.2142</td>\n",
       "    </tr>\n",
       "  </tbody>\n",
       "</table>\n",
       "</div>"
      ],
      "text/plain": [
       "            count[reciprocity motif]\n",
       "meta.group                          \n",
       "1                             5.1744\n",
       "2                             4.3618\n",
       "3                             8.2142"
      ]
     },
     "execution_count": 172,
     "metadata": {},
     "output_type": "execute_result"
    }
   ],
   "source": [
    "means_25 = df_combi.groupby('meta.group').mean() #.to_csv('~/Desktop/agg_means.csv')\n",
    "# percent_diff = (means.iloc[0] - means.iloc[1])*2 / (means.iloc[0] + means.iloc[1] + 0.00001)\n",
    "# sum(percent_diff)\n",
    "means_25[['count[reciprocity motif]']]"
   ]
  },
  {
   "cell_type": "code",
   "execution_count": 180,
   "metadata": {},
   "outputs": [],
   "source": [
    "df_compare = df_combi_20[['meta.group', 'count[reciprocity motif]']]"
   ]
  },
  {
   "cell_type": "code",
   "execution_count": 182,
   "metadata": {},
   "outputs": [
    {
     "name": "stderr",
     "output_type": "stream",
     "text": [
      "/Library/Frameworks/Python.framework/Versions/3.7/lib/python3.7/site-packages/ipykernel_launcher.py:1: SettingWithCopyWarning: \n",
      "A value is trying to be set on a copy of a slice from a DataFrame.\n",
      "Try using .loc[row_indexer,col_indexer] = value instead\n",
      "\n",
      "See the caveats in the documentation: http://pandas.pydata.org/pandas-docs/stable/indexing.html#indexing-view-versus-copy\n",
      "  \"\"\"Entry point for launching an IPython kernel.\n"
     ]
    }
   ],
   "source": [
    "df_compare['reciprocity-25'] = df_combi_25['count[reciprocity motif]']"
   ]
  },
  {
   "cell_type": "code",
   "execution_count": 188,
   "metadata": {},
   "outputs": [],
   "source": [
    "df_compare['reciprocity-20'] = df_compare['count[reciprocity motif]']"
   ]
  },
  {
   "cell_type": "code",
   "execution_count": 190,
   "metadata": {},
   "outputs": [],
   "source": [
    "del df_compare['count[reciprocity motif]']"
   ]
  },
  {
   "cell_type": "code",
   "execution_count": 197,
   "metadata": {},
   "outputs": [],
   "source": [
    "df_compare['recip_div'] = df_compare['reciprocity-25'] / df_compare['reciprocity-20']"
   ]
  },
  {
   "cell_type": "code",
   "execution_count": 202,
   "metadata": {},
   "outputs": [],
   "source": [
    "df_compare['recip_div_bool'] = df_compare['recip_div'] >= 1.5"
   ]
  },
  {
   "cell_type": "code",
   "execution_count": 204,
   "metadata": {},
   "outputs": [
    {
     "data": {
      "text/html": [
       "<div>\n",
       "<style scoped>\n",
       "    .dataframe tbody tr th:only-of-type {\n",
       "        vertical-align: middle;\n",
       "    }\n",
       "\n",
       "    .dataframe tbody tr th {\n",
       "        vertical-align: top;\n",
       "    }\n",
       "\n",
       "    .dataframe thead th {\n",
       "        text-align: right;\n",
       "    }\n",
       "</style>\n",
       "<table border=\"1\" class=\"dataframe\">\n",
       "  <thead>\n",
       "    <tr style=\"text-align: right;\">\n",
       "      <th></th>\n",
       "      <th>reciprocity-25</th>\n",
       "      <th>reciprocity-20</th>\n",
       "      <th>recip_div</th>\n",
       "      <th>recip_div_bool</th>\n",
       "    </tr>\n",
       "    <tr>\n",
       "      <th>meta.group</th>\n",
       "      <th></th>\n",
       "      <th></th>\n",
       "      <th></th>\n",
       "      <th></th>\n",
       "    </tr>\n",
       "  </thead>\n",
       "  <tbody>\n",
       "    <tr>\n",
       "      <th>1</th>\n",
       "      <td>5.1744</td>\n",
       "      <td>4.1904</td>\n",
       "      <td>inf</td>\n",
       "      <td>0.2584</td>\n",
       "    </tr>\n",
       "    <tr>\n",
       "      <th>2</th>\n",
       "      <td>4.3618</td>\n",
       "      <td>4.1856</td>\n",
       "      <td>inf</td>\n",
       "      <td>0.0294</td>\n",
       "    </tr>\n",
       "    <tr>\n",
       "      <th>3</th>\n",
       "      <td>8.2142</td>\n",
       "      <td>4.1260</td>\n",
       "      <td>inf</td>\n",
       "      <td>0.9412</td>\n",
       "    </tr>\n",
       "  </tbody>\n",
       "</table>\n",
       "</div>"
      ],
      "text/plain": [
       "            reciprocity-25  reciprocity-20  recip_div  recip_div_bool\n",
       "meta.group                                                           \n",
       "1                   5.1744          4.1904        inf          0.2584\n",
       "2                   4.3618          4.1856        inf          0.0294\n",
       "3                   8.2142          4.1260        inf          0.9412"
      ]
     },
     "execution_count": 204,
     "metadata": {},
     "output_type": "execute_result"
    }
   ],
   "source": [
    "df_compare.groupby('meta.group').mean()"
   ]
  },
  {
   "cell_type": "code",
   "execution_count": null,
   "metadata": {},
   "outputs": [],
   "source": [
    "hyperconv_range = range(2, 20+1)"
   ]
  },
  {
   "cell_type": "code",
   "execution_count": null,
   "metadata": {},
   "outputs": [],
   "source": [
    "for hc_idx in hyperconv_range:\n",
    "    hc = HyperConvo(prefix_len=hc_idx, feat_name=\"hyperconvo-{}\".format(hc_idx), invalid_val=-1)\n",
    "    hc.fit_transform(corpus)"
   ]
  },
  {
   "cell_type": "code",
   "execution_count": 207,
   "metadata": {},
   "outputs": [],
   "source": [
    "corpus.dump('annotated-fake-trajectory-experiment', base_path='.')"
   ]
  },
  {
   "cell_type": "markdown",
   "metadata": {},
   "source": [
    "## Quantize(?) the probs"
   ]
  },
  {
   "cell_type": "code",
   "execution_count": 26,
   "metadata": {},
   "outputs": [],
   "source": [
    "from collections import defaultdict\n",
    "from sklearn.preprocessing import QuantileTransformer\n",
    "import numpy as np"
   ]
  },
  {
   "cell_type": "code",
   "execution_count": 25,
   "metadata": {},
   "outputs": [],
   "source": []
  },
  {
   "cell_type": "code",
   "execution_count": 27,
   "metadata": {},
   "outputs": [],
   "source": [
    "probs = defaultdict(list)\n",
    "for convo in corpus.iter_conversations():\n",
    "    probs[convo.meta['group']].append(convo.meta['prob'])"
   ]
  },
  {
   "cell_type": "code",
   "execution_count": 28,
   "metadata": {},
   "outputs": [],
   "source": [
    "import seaborn as sns"
   ]
  },
  {
   "cell_type": "code",
   "execution_count": 29,
   "metadata": {},
   "outputs": [
    {
     "data": {
      "text/plain": [
       "<matplotlib.axes._subplots.AxesSubplot at 0x1268c5fd0>"
      ]
     },
     "execution_count": 29,
     "metadata": {},
     "output_type": "execute_result"
    },
    {
     "data": {
      "image/png": "[encoded data removed]",
      "text/plain": [
       "<Figure size 432x288 with 1 Axes>"
      ]
     },
     "metadata": {
      "needs_background": "light"
     },
     "output_type": "display_data"
    }
   ],
   "source": [
    "sns.distplot(probs[1])"
   ]
  },
  {
   "cell_type": "code",
   "execution_count": 30,
   "metadata": {},
   "outputs": [
    {
     "data": {
      "text/plain": [
       "<matplotlib.axes._subplots.AxesSubplot at 0x13565b650>"
      ]
     },
     "execution_count": 30,
     "metadata": {},
     "output_type": "execute_result"
    },
    {
     "data": {
      "image/png": "[encoded data removed]",
      "text/plain": [
       "<Figure size 432x288 with 1 Axes>"
      ]
     },
     "metadata": {
      "needs_background": "light"
     },
     "output_type": "display_data"
    }
   ],
   "source": [
    "sns.distplot(probs[2])"
   ]
  },
  {
   "cell_type": "code",
   "execution_count": 31,
   "metadata": {},
   "outputs": [
    {
     "data": {
      "text/plain": [
       "<matplotlib.axes._subplots.AxesSubplot at 0x134dfd990>"
      ]
     },
     "execution_count": 31,
     "metadata": {},
     "output_type": "execute_result"
    },
    {
     "data": {
      "image/png": "[encoded data removed]",
      "text/plain": [
       "<Figure size 432x288 with 1 Axes>"
      ]
     },
     "metadata": {
      "needs_background": "light"
     },
     "output_type": "display_data"
    }
   ],
   "source": [
    "sns.distplot(probs[3])"
   ]
  },
  {
   "cell_type": "code",
   "execution_count": 32,
   "metadata": {},
   "outputs": [],
   "source": [
    "qt = QuantileTransformer(n_quantiles=18)"
   ]
  },
  {
   "cell_type": "code",
   "execution_count": 33,
   "metadata": {},
   "outputs": [],
   "source": [
    "percentiles = defaultdict(list)\n",
    "for k, v in probs.items():\n",
    "    probs[k] = np.array(v).reshape(-1, 1)\n",
    "    mm = QuantileTransformer(n_quantiles=18)\n",
    "    percentiles[k] = mm.fit_transform(probs[k])"
   ]
  },
  {
   "cell_type": "code",
   "execution_count": 34,
   "metadata": {},
   "outputs": [
    {
     "data": {
      "text/plain": [
       "<matplotlib.axes._subplots.AxesSubplot at 0x103343f10>"
      ]
     },
     "execution_count": 34,
     "metadata": {},
     "output_type": "execute_result"
    },
    {
     "data": {
      "image/png": "[encoded data removed]",
      "text/plain": [
       "<Figure size 432x288 with 1 Axes>"
      ]
     },
     "metadata": {
      "needs_background": "light"
     },
     "output_type": "display_data"
    }
   ],
   "source": [
    "sns.distplot(qt.fit_transform(probs[1]))"
   ]
  },
  {
   "cell_type": "code",
   "execution_count": null,
   "metadata": {},
   "outputs": [],
   "source": [
    "for idx, convo in enumerate(corpus.iter_conversations()):\n",
    "    convo.meta['percentile'] = percentiles[convo.meta['group']][idx % 333][0]"
   ]
  },
  {
   "cell_type": "code",
   "execution_count": null,
   "metadata": {},
   "outputs": [],
   "source": [
    "next(corpus.iter_conversations()).meta['percentile']"
   ]
  },
  {
   "cell_type": "code",
   "execution_count": 35,
   "metadata": {},
   "outputs": [],
   "source": [
    "from convokit import HyperConvo"
   ]
  },
  {
   "cell_type": "code",
   "execution_count": 205,
   "metadata": {},
   "outputs": [],
   "source": []
  },
  {
   "cell_type": "code",
   "execution_count": 206,
   "metadata": {},
   "outputs": [],
   "source": []
  },
  {
   "cell_type": "code",
   "execution_count": null,
   "metadata": {},
   "outputs": [],
   "source": [
    "# corpus = Corpus(filename='annotated-fake-trajectory-2')"
   ]
  },
  {
   "cell_type": "code",
   "execution_count": null,
   "metadata": {},
   "outputs": [],
   "source": [
    "corpus.dump('annotated-fake-trajectory-experiment', base_path='.')"
   ]
  },
  {
   "cell_type": "code",
   "execution_count": null,
   "metadata": {},
   "outputs": [],
   "source": [
    "# corpus = Corpus(filename='annotated-fake-trajectory-4')"
   ]
  },
  {
   "cell_type": "code",
   "execution_count": 38,
   "metadata": {},
   "outputs": [],
   "source": [
    "import pandas as pd\n",
    "df = corpus.get_conversations_dataframe()\n",
    "df_subset = df[['meta.group', 'meta.hyperconvo-20']]\n",
    "hc_dicts = {df_subset.iloc[idx].name: df_subset.iloc[idx]['meta.hyperconvo-20'] for idx in range(len(df_subset))}\n",
    "df_hc = pd.DataFrame(hc_dicts).T.astype('float64')\n",
    "df_combi = pd.concat([df_subset, df_hc], axis=1, sort=False)"
   ]
  },
  {
   "cell_type": "code",
   "execution_count": 40,
   "metadata": {},
   "outputs": [],
   "source": [
    "means = df_combi.groupby('meta.group').mean() #.to_csv('~/Desktop/agg_means.csv')\n",
    "# percent_diff = (means.iloc[0] - means.iloc[1])*2 / (means.iloc[0] + means.iloc[1] + 0.00001)\n",
    "# sum(percent_diff)\n",
    "means[['count[reciprocity motif]']]"
   ]
  },
  {
   "cell_type": "code",
   "execution_count": 42,
   "metadata": {},
   "outputs": [
    {
     "data": {
      "text/html": [
       "<div>\n",
       "<style scoped>\n",
       "    .dataframe tbody tr th:only-of-type {\n",
       "        vertical-align: middle;\n",
       "    }\n",
       "\n",
       "    .dataframe tbody tr th {\n",
       "        vertical-align: top;\n",
       "    }\n",
       "\n",
       "    .dataframe thead th {\n",
       "        text-align: right;\n",
       "    }\n",
       "</style>\n",
       "<table border=\"1\" class=\"dataframe\">\n",
       "  <thead>\n",
       "    <tr style=\"text-align: right;\">\n",
       "      <th></th>\n",
       "      <th>count[reciprocity motif]</th>\n",
       "    </tr>\n",
       "    <tr>\n",
       "      <th>meta.group</th>\n",
       "      <th></th>\n",
       "    </tr>\n",
       "  </thead>\n",
       "  <tbody>\n",
       "    <tr>\n",
       "      <th>1</th>\n",
       "      <td>2.710000</td>\n",
       "    </tr>\n",
       "    <tr>\n",
       "      <th>2</th>\n",
       "      <td>3.358667</td>\n",
       "    </tr>\n",
       "    <tr>\n",
       "      <th>3</th>\n",
       "      <td>4.156000</td>\n",
       "    </tr>\n",
       "  </tbody>\n",
       "</table>\n",
       "</div>"
      ],
      "text/plain": [
       "            count[reciprocity motif]\n",
       "meta.group                          \n",
       "1                           2.710000\n",
       "2                           3.358667\n",
       "3                           4.156000"
      ]
     },
     "execution_count": 42,
     "metadata": {},
     "output_type": "execute_result"
    }
   ],
   "source": []
  },
  {
   "cell_type": "code",
   "execution_count": null,
   "metadata": {},
   "outputs": [],
   "source": [
    "pd.set_option(\"display.max_rows\", None)"
   ]
  },
  {
   "cell_type": "code",
   "execution_count": null,
   "metadata": {},
   "outputs": [],
   "source": [
    "percent_diff.sort_values()"
   ]
  },
  {
   "cell_type": "code",
   "execution_count": null,
   "metadata": {},
   "outputs": [],
   "source": [
    "np.sum(np.sum(pd.isnull(percent_diff))) # NaN values"
   ]
  },
  {
   "cell_type": "code",
   "execution_count": null,
   "metadata": {},
   "outputs": [],
   "source": [
    "from convokit import Utterance, Speaker"
   ]
  },
  {
   "cell_type": "code",
   "execution_count": null,
   "metadata": {},
   "outputs": [],
   "source": [
    "not_json_serializable = np.uint64('99')"
   ]
  },
  {
   "cell_type": "code",
   "execution_count": null,
   "metadata": {},
   "outputs": [],
   "source": [
    "import json\n",
    "\n",
    "with open('tester.json', 'w') as f:\n",
    "    json.dump(not_json_serializable, f)"
   ]
  },
  {
   "cell_type": "code",
   "execution_count": null,
   "metadata": {},
   "outputs": [],
   "source": [
    "cp = Corpus(utterances=[Utterance(id='1', speaker=Speaker(id='hi'), meta={'binary': np.uint64('99')})])"
   ]
  },
  {
   "cell_type": "code",
   "execution_count": null,
   "metadata": {},
   "outputs": [],
   "source": [
    "cp.view_utterances()"
   ]
  },
  {
   "cell_type": "code",
   "execution_count": null,
   "metadata": {},
   "outputs": [],
   "source": []
  }
 ],
 "metadata": {
  "kernelspec": {
   "display_name": "Python 3",
   "language": "python",
   "name": "python3"
  },
  "language_info": {
   "codemirror_mode": {
    "name": "ipython",
    "version": 3
   },
   "file_extension": ".py",
   "mimetype": "text/x-python",
   "name": "python",
   "nbconvert_exporter": "python",
   "pygments_lexer": "ipython3",
   "version": "3.7.6"
  }
 },
 "nbformat": 4,
 "nbformat_minor": 2
}
