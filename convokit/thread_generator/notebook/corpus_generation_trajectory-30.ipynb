{
 "cells": [
  {
   "cell_type": "code",
   "execution_count": 1,
   "metadata": {},
   "outputs": [],
   "source": [
    "import os\n",
    "os.chdir('../../..')"
   ]
  },
  {
   "cell_type": "code",
   "execution_count": 2,
   "metadata": {},
   "outputs": [],
   "source": [
    "import convokit\n",
    "from convokit import Corpus"
   ]
  },
  {
   "cell_type": "code",
   "execution_count": 3,
   "metadata": {},
   "outputs": [],
   "source": [
    "os.chdir('convokit/thread_generator')"
   ]
  },
  {
   "cell_type": "code",
   "execution_count": 4,
   "metadata": {},
   "outputs": [],
   "source": [
    "from convokit.thread_generator import ThreadSpawner"
   ]
  },
  {
   "cell_type": "code",
   "execution_count": 5,
   "metadata": {},
   "outputs": [
    {
     "name": "stdout",
     "output_type": "stream",
     "text": [
      "1. 0x1\n",
      "    2. 0x2\n",
      "        22. 0x9\n",
      "    3. 0x1a\n",
      "        4. 0x2\n",
      "            6. 0x3\n",
      "                7. 0x4\n",
      "                    16. 0x2\n",
      "        11. 0x1\n",
      "            30. 0x7\n",
      "    5. 0x18\n",
      "    8. 0x21\n",
      "    9. 0x10\n",
      "        25. 0x7\n",
      "    10. 0xd\n",
      "        14. 0x1a\n",
      "            26. 0x2\n",
      "    12. 0x1f\n",
      "    13. 0x5\n",
      "    15. 0xa\n",
      "    17. 0x28\n",
      "    18. 0x1d\n",
      "    19. 0x9\n",
      "        28. 0xb\n",
      "    20. 0xb\n",
      "    21. 0x7\n",
      "        23. 0x21\n",
      "    24. 0x8\n",
      "    27. 0x22\n",
      "    29. 0x11\n"
     ]
    }
   ],
   "source": [
    "# focused -> expansionary\n",
    "t_spawner1 = ThreadSpawner(participant_factor=20, recip_factor=lambda k: (0.70)**k, expansion_factor=lambda k: 1-(0.7)**k)\n",
    "utts = t_spawner1.spawn_thread(thread_index=1, length=30)\n",
    "for idx, utt in enumerate(utts):\n",
    "    utt.meta['order'] = idx + 1\n",
    "Corpus(utterances=utts).get_conversation('1-1').print_conversation_structure(lambda utt: str(utt.meta['order']) + \". \" + utt.user.id)"
   ]
  },
  {
   "cell_type": "code",
   "execution_count": 6,
   "metadata": {},
   "outputs": [
    {
     "name": "stdout",
     "output_type": "stream",
     "text": [
      "1. 0x1\n",
      "    2. 0x2\n",
      "        3. 0x1\n",
      "        4. 0x89\n",
      "        8. 0xc8\n",
      "    5. 0x40\n",
      "        9. 0x8b\n",
      "            10. 0xc8\n",
      "                11. 0x8b\n",
      "                    12. 0xc8\n",
      "                        13. 0x8b\n",
      "                            14. 0xc8\n",
      "                                15. 0x8b\n",
      "                                    16. 0xc8\n",
      "                                        17. 0x8b\n",
      "                                            18. 0xc8\n",
      "                                                19. 0x8b\n",
      "                                                    20. 0xc8\n",
      "    6. 0x3c\n",
      "        7. 0x40\n",
      "    21. 0xc5\n",
      "        22. 0xc8\n",
      "            23. 0xc5\n",
      "    24. 0x7f\n",
      "        25. 0xc5\n",
      "            26. 0x7f\n",
      "                27. 0xc5\n",
      "                    28. 0x7f\n",
      "                        29. 0xc5\n",
      "                            30. 0x7f\n"
     ]
    }
   ],
   "source": [
    "# expansionary -> focused\n",
    "t_spawner2 = ThreadSpawner(participant_factor=100, recip_factor=lambda k: 1-(0.9)**k, expansion_factor=lambda k: (0.95)**k)\n",
    "utts = t_spawner2.spawn_thread(thread_index=1, length=30)\n",
    "for idx, utt in enumerate(utts):\n",
    "    utt.meta['order'] = idx + 1\n",
    "Corpus(utterances=utts).get_conversation('1-1').print_conversation_structure(lambda utt: str(utt.meta['order']) + \". \" + utt.user.id)"
   ]
  },
  {
   "cell_type": "code",
   "execution_count": 24,
   "metadata": {},
   "outputs": [
    {
     "name": "stdout",
     "output_type": "stream",
     "text": [
      "1. 0x1\n",
      "    2. 0x2\n",
      "        3. 0x1\n",
      "            4. 0xa\n",
      "                5. 0x1\n",
      "                    6. 0xa\n",
      "                        7. 0x1\n",
      "                            8. 0xa\n",
      "                                9. 0x1\n",
      "                        10. 0x9\n",
      "                            11. 0x1\n",
      "                                12. 0x9\n",
      "                                    13. 0x1\n",
      "                                        14. 0x9\n",
      "                                            15. 0x1\n",
      "                                                16. 0x9\n",
      "                                                    17. 0x1\n",
      "                                                        18. 0x9\n",
      "                                                            19. 0x1\n",
      "                                                                20. 0x9\n",
      "                                                                    21. 0x1\n",
      "                                                                        22. 0x9\n",
      "                                                                            23. 0x1\n",
      "                                                                                24. 0x9\n",
      "                                                                                    25. 0x1\n",
      "                                                                                        26. 0x9\n",
      "                                                                                            27. 0x1\n",
      "                                                                                                28. 0x9\n",
      "                                                                                                    29. 0x1\n",
      "                                                                                                        30. 0x9\n"
     ]
    }
   ],
   "source": [
    "# dyadic chain\n",
    "t_spawner3 = ThreadSpawner(participant_factor=8, recip_factor=lambda k: 0.9, expansion_factor=lambda k: 0.2)\n",
    "utts = t_spawner3.spawn_thread(thread_index=1, length=30)\n",
    "for idx, utt in enumerate(utts):\n",
    "    utt.meta['order'] = idx + 1\n",
    "\n",
    "Corpus(utterances=utts).get_conversation('1-1').print_conversation_structure(lambda utt: str(utt.meta['order']) + \". \" + utt.user.id)    "
   ]
  },
  {
   "cell_type": "markdown",
   "metadata": {},
   "source": [
    "## Corpus generation"
   ]
  },
  {
   "cell_type": "code",
   "execution_count": 18,
   "metadata": {},
   "outputs": [],
   "source": [
    "all_utts = []"
   ]
  },
  {
   "cell_type": "code",
   "execution_count": 25,
   "metadata": {},
   "outputs": [],
   "source": [
    "LENGTH=40\n",
    "for thread_idx in range(1, 333+1):\n",
    "    utts = t_spawner1.spawn_thread(thread_idx, length=LENGTH)\n",
    "    for utt in utts: utt.meta['subreddit'] = '1.focused->expansionary'\n",
    "    all_utts.extend(utts)\n",
    "\n",
    "for thread_idx in range(334, 666+1):\n",
    "    utts = t_spawner2.spawn_thread(thread_idx, length=LENGTH)\n",
    "    for utt in utts: utt.meta['subreddit'] = '2.expansionary->focused'\n",
    "    all_utts.extend(utts)\n",
    "    \n",
    "for thread_idx in range(667, 999+1):\n",
    "    utts = t_spawner3.spawn_thread(thread_idx, length=LENGTH)\n",
    "    for utt in utts: utt.meta['subreddit'] = '3.dyadic_chain'\n",
    "    all_utts.extend(utts)\n"
   ]
  },
  {
   "cell_type": "code",
   "execution_count": 26,
   "metadata": {},
   "outputs": [
    {
     "data": {
      "text/plain": [
       "69930"
      ]
     },
     "execution_count": 26,
     "metadata": {},
     "output_type": "execute_result"
    }
   ],
   "source": [
    "len(all_utts)"
   ]
  },
  {
   "cell_type": "code",
   "execution_count": 27,
   "metadata": {},
   "outputs": [],
   "source": [
    "corpus = Corpus(utterances=all_utts)"
   ]
  },
  {
   "cell_type": "code",
   "execution_count": 28,
   "metadata": {},
   "outputs": [
    {
     "name": "stdout",
     "output_type": "stream",
     "text": [
      "Number of Users: 200\n",
      "Number of Utterances: 39960\n",
      "Number of Conversations: 999\n"
     ]
    }
   ],
   "source": [
    "corpus.print_summary_stats()"
   ]
  },
  {
   "cell_type": "code",
   "execution_count": 29,
   "metadata": {},
   "outputs": [],
   "source": [
    "corpus.dump('fake-corpus-trajectory-40', base_path='.')"
   ]
  },
  {
   "cell_type": "code",
   "execution_count": null,
   "metadata": {},
   "outputs": [],
   "source": []
  }
 ],
 "metadata": {
  "kernelspec": {
   "display_name": "Python 3",
   "language": "python",
   "name": "python3"
  },
  "language_info": {
   "codemirror_mode": {
    "name": "ipython",
    "version": 3
   },
   "file_extension": ".py",
   "mimetype": "text/x-python",
   "name": "python",
   "nbconvert_exporter": "python",
   "pygments_lexer": "ipython3",
   "version": "3.7.6"
  }
 },
 "nbformat": 4,
 "nbformat_minor": 2
}
