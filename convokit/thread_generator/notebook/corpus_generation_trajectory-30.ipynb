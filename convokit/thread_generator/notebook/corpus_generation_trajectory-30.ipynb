{
 "cells": [
  {
   "cell_type": "code",
   "execution_count": 1,
   "metadata": {},
   "outputs": [],
   "source": [
    "import os\n",
    "os.chdir('../../..')"
   ]
  },
  {
   "cell_type": "code",
   "execution_count": 2,
   "metadata": {},
   "outputs": [],
   "source": [
    "import convokit\n",
    "from convokit import Corpus"
   ]
  },
  {
   "cell_type": "code",
   "execution_count": 3,
   "metadata": {},
   "outputs": [],
   "source": [
    "os.chdir('convokit/thread_generator')"
   ]
  },
  {
   "cell_type": "code",
   "execution_count": 4,
   "metadata": {},
   "outputs": [],
   "source": [
    "from convokit.thread_generator import ThreadSpawner"
   ]
  },
  {
   "cell_type": "code",
   "execution_count": 23,
   "metadata": {},
   "outputs": [],
   "source": [
    "grp_size = 2000\n",
    "thread_length = 40"
   ]
  },
  {
   "cell_type": "code",
   "execution_count": 6,
   "metadata": {},
   "outputs": [
    {
     "name": "stdout",
     "output_type": "stream",
     "text": [
      "1. 0x1\n",
      "    2. 0x2\n",
      "    3. 0x14\n",
      "        19. 0x1\n",
      "            22. 0xb\n",
      "    4. 0x19\n",
      "    5. 0x1b\n",
      "        6. 0x19\n",
      "            13. 0x14\n",
      "            31. 0x4\n",
      "        16. 0xb\n",
      "        37. 0x23\n",
      "    7. 0x1f\n",
      "    8. 0xa\n",
      "    9. 0x4\n",
      "        20. 0x14\n",
      "    10. 0xb\n",
      "        30. 0xa\n",
      "    11. 0x24\n",
      "    12. 0xc\n",
      "        17. 0x1b\n",
      "        35. 0x1e\n",
      "    14. 0x23\n",
      "    15. 0x18\n",
      "    18. 0xd\n",
      "        32. 0x27\n",
      "    21. 0x26\n",
      "    23. 0x1e\n",
      "    24. 0x15\n",
      "    25. 0x1c\n",
      "    26. 0x6\n",
      "    27. 0x27\n",
      "    28. 0x1a\n",
      "    29. 0x9\n",
      "    33. 0x13\n",
      "        38. 0x1c\n",
      "    34. 0x7\n",
      "        40. 0x26\n",
      "    36. 0x10\n",
      "    39. 0x1d\n"
     ]
    }
   ],
   "source": [
    "# focused -> expansionary\n",
    "t_spawner1 = ThreadSpawner(participant_factor=20, recip_factor=lambda k: (0.70)**k, expansion_factor=lambda k: 1-(0.7)**k)\n",
    "utts = t_spawner1.spawn_thread(thread_index=1, length=thread_length)\n",
    "for idx, utt in enumerate(utts):\n",
    "    utt.meta['order'] = idx + 1\n",
    "    utt.meta['class'] = 1\n",
    "Corpus(utterances=utts).get_conversation('1-1').print_conversation_structure(lambda utt: str(utt.meta['order']) + \". \" + utt.user.id)"
   ]
  },
  {
   "cell_type": "code",
   "execution_count": 7,
   "metadata": {},
   "outputs": [
    {
     "name": "stdout",
     "output_type": "stream",
     "text": [
      "1. 0x1\n",
      "    2. 0x2\n",
      "        6. 0x87\n",
      "            7. 0x12\n",
      "    3. 0x3c\n",
      "        4. 0x2\n",
      "    5. 0x12\n",
      "    8. 0x51\n",
      "        9. 0x12\n",
      "            10. 0x51\n",
      "                11. 0x12\n",
      "                    12. 0x51\n",
      "                        13. 0x12\n",
      "    14. 0x29\n",
      "        15. 0x12\n",
      "            16. 0x29\n",
      "                17. 0x12\n",
      "                    18. 0x29\n",
      "                        19. 0x12\n",
      "                            20. 0x29\n",
      "                                21. 0x12\n",
      "                                    22. 0x29\n",
      "                                        23. 0x12\n",
      "                                            24. 0x29\n",
      "                                                25. 0x12\n",
      "                                                    26. 0x29\n",
      "                27. 0x1a\n",
      "                    28. 0x29\n",
      "                        29. 0x1a\n",
      "                            30. 0x29\n",
      "                                31. 0x1a\n",
      "                                    32. 0x29\n",
      "                                        33. 0x1a\n",
      "                                            34. 0x29\n",
      "                                                35. 0x1a\n",
      "                                                    36. 0x29\n",
      "                                                        37. 0x1a\n",
      "                                                            38. 0x29\n",
      "                                                                39. 0x1a\n",
      "                                                                    40. 0x29\n"
     ]
    }
   ],
   "source": [
    "# expansionary -> focused\n",
    "t_spawner2 = ThreadSpawner(participant_factor=100, recip_factor=lambda k: 1-(0.9)**k, expansion_factor=lambda k: (0.95)**k)\n",
    "utts = t_spawner2.spawn_thread(thread_index=1, length=thread_length)\n",
    "for idx, utt in enumerate(utts):\n",
    "    utt.meta['order'] = idx + 1\n",
    "Corpus(utterances=utts).get_conversation('1-1').print_conversation_structure(lambda utt: str(utt.meta['order']) + \". \" + utt.user.id)"
   ]
  },
  {
   "cell_type": "code",
   "execution_count": 8,
   "metadata": {},
   "outputs": [
    {
     "name": "stdout",
     "output_type": "stream",
     "text": [
      "1. 0x1\n",
      "    2. 0x2\n",
      "        3. 0x1\n",
      "            4. 0x2\n",
      "                5. 0x1\n",
      "                    6. 0x2\n",
      "                        7. 0x1\n",
      "                            8. 0x10\n",
      "                                9. 0x1\n",
      "                                    10. 0x10\n",
      "                                        11. 0x1\n",
      "                                            12. 0x10\n",
      "                                                13. 0x1\n",
      "                                                    14. 0x10\n",
      "                                                        15. 0x1\n",
      "                16. 0x9\n",
      "                    17. 0x1\n",
      "                        18. 0x9\n",
      "                            19. 0x1\n",
      "                                20. 0x9\n",
      "                                    21. 0x1\n",
      "                                        22. 0x9\n",
      "                                            23. 0x1\n",
      "                                                24. 0x9\n",
      "                                                    25. 0x1\n",
      "                                                        26. 0x9\n",
      "        27. 0xb\n",
      "            28. 0x9\n",
      "                29. 0xb\n",
      "                    30. 0x9\n",
      "                        31. 0xb\n",
      "    32. 0xe\n",
      "        33. 0xb\n",
      "            34. 0xe\n",
      "                35. 0xb\n",
      "                    36. 0xe\n",
      "                        37. 0xb\n",
      "                            38. 0xe\n",
      "                        39. 0x1\n",
      "                            40. 0xe\n"
     ]
    }
   ],
   "source": [
    "# dyadic chain\n",
    "t_spawner3 = ThreadSpawner(participant_factor=8, recip_factor=lambda k: 0.9, expansion_factor=lambda k: 0.2)\n",
    "utts = t_spawner3.spawn_thread(thread_index=1, length=thread_length)\n",
    "for idx, utt in enumerate(utts):\n",
    "    utt.meta['order'] = idx + 1\n",
    "\n",
    "Corpus(utterances=utts).get_conversation('1-1').print_conversation_structure(lambda utt: str(utt.meta['order']) + \". \" + utt.user.id)    "
   ]
  },
  {
   "cell_type": "markdown",
   "metadata": {},
   "source": [
    "## Corpus generation"
   ]
  },
  {
   "cell_type": "code",
   "execution_count": 26,
   "metadata": {},
   "outputs": [],
   "source": [
    "all_utts = []"
   ]
  },
  {
   "cell_type": "code",
   "execution_count": 27,
   "metadata": {},
   "outputs": [],
   "source": [
    "LENGTH=40\n",
    "for thread_idx in range(1, group_size+1):\n",
    "    utts = t_spawner1.spawn_thread(thread_idx, length=LENGTH)\n",
    "    for utt in utts: utt.meta['subreddit'] = '1.focused->expansionary'\n",
    "    all_utts.extend(utts)\n",
    "\n",
    "for thread_idx in range(group_size+1, 2*group_size+1):\n",
    "    utts = t_spawner2.spawn_thread(thread_idx, length=LENGTH)\n",
    "    for utt in utts: utt.meta['subreddit'] = '2.expansionary->focused'\n",
    "    all_utts.extend(utts)\n",
    "    \n",
    "for thread_idx in range(2*group_size+1, 3*group_size+1):\n",
    "    utts = t_spawner3.spawn_thread(thread_idx, length=LENGTH)\n",
    "    for utt in utts: utt.meta['subreddit'] = '3.dyadic_chain'\n",
    "    all_utts.extend(utts)\n"
   ]
  },
  {
   "cell_type": "code",
   "execution_count": 28,
   "metadata": {},
   "outputs": [
    {
     "data": {
      "text/plain": [
       "240000"
      ]
     },
     "execution_count": 28,
     "metadata": {},
     "output_type": "execute_result"
    }
   ],
   "source": [
    "len(all_utts)"
   ]
  },
  {
   "cell_type": "code",
   "execution_count": 29,
   "metadata": {},
   "outputs": [],
   "source": [
    "corpus = Corpus(utterances=all_utts)"
   ]
  },
  {
   "cell_type": "code",
   "execution_count": 30,
   "metadata": {},
   "outputs": [
    {
     "name": "stdout",
     "output_type": "stream",
     "text": [
      "Number of Speakers: 200\n",
      "Number of Utterances: 240000\n",
      "Number of Conversations: 6000\n"
     ]
    }
   ],
   "source": [
    "corpus.print_summary_stats()"
   ]
  },
  {
   "cell_type": "code",
   "execution_count": 31,
   "metadata": {},
   "outputs": [],
   "source": [
    "corpus.dump('fake-corpus-trajectory-40', base_path='.')"
   ]
  },
  {
   "cell_type": "code",
   "execution_count": null,
   "metadata": {},
   "outputs": [],
   "source": []
  }
 ],
 "metadata": {
  "kernelspec": {
   "display_name": "Python 3",
   "language": "python",
   "name": "python3"
  },
  "language_info": {
   "codemirror_mode": {
    "name": "ipython",
    "version": 3
   },
   "file_extension": ".py",
   "mimetype": "text/x-python",
   "name": "python",
   "nbconvert_exporter": "python",
   "pygments_lexer": "ipython3",
   "version": "3.7.6"
  }
 },
 "nbformat": 4,
 "nbformat_minor": 2
}
