{
 "cells": [
  {
   "cell_type": "code",
   "execution_count": 1,
   "metadata": {},
   "outputs": [],
   "source": [
    "import os\n",
    "os.chdir('../../..')"
   ]
  },
  {
   "cell_type": "code",
   "execution_count": 2,
   "metadata": {},
   "outputs": [],
   "source": [
    "import convokit\n",
    "from convokit import Corpus"
   ]
  },
  {
   "cell_type": "code",
   "execution_count": 3,
   "metadata": {},
   "outputs": [],
   "source": [
    "os.chdir('convokit/thread_generator')"
   ]
  },
  {
   "cell_type": "code",
   "execution_count": 4,
   "metadata": {},
   "outputs": [],
   "source": [
    "from convokit.thread_generator import ThreadSpawner"
   ]
  },
  {
   "cell_type": "code",
   "execution_count": 5,
   "metadata": {},
   "outputs": [
    {
     "name": "stdout",
     "output_type": "stream",
     "text": [
      "1. 0x1\n",
      "    2. 0x2\n",
      "        3. 0x1\n",
      "            4. 0x2\n",
      "                5. 0x1\n",
      "                    6. 0x2\n",
      "                        7. 0x1\n",
      "                            8. 0x2\n",
      "                                9. 0x1\n",
      "                                    10. 0x2\n",
      "    11. 0x8\n",
      "    12. 0x11\n",
      "    13. 0x16\n",
      "        14. 0x8\n",
      "    15. 0x23\n",
      "        20. 0x1\n",
      "    16. 0x7\n",
      "    17. 0x1b\n",
      "    18. 0x24\n",
      "    19. 0x20\n"
     ]
    }
   ],
   "source": [
    "# focused -> expansionary\n",
    "t_spawner1 = ThreadSpawner(participant_factor=20, recip_factor=lambda k: 0.9-(0.8)*int(k//11), expansion_factor=lambda k: 1-(0.6)**k)\n",
    "utts = t_spawner1.spawn_thread(thread_index=1, length=20)\n",
    "for idx, utt in enumerate(utts):\n",
    "    utt.meta['order'] = idx + 1\n",
    "    utt.meta['class'] = 1\n",
    "Corpus(utterances=utts).get_conversation('1-1').print_conversation_structure(lambda utt: str(utt.meta['order']) + \". \" + utt.user.id)"
   ]
  },
  {
   "cell_type": "code",
   "execution_count": 6,
   "metadata": {},
   "outputs": [],
   "source": [
    "# # expansionary -> focused\n",
    "# t_spawner2 = ThreadSpawner(participant_factor=100, recip_factor=lambda k: 1-(0.9)**k, expansion_factor=lambda k: (0.95)**k)\n",
    "# utts = t_spawner2.spawn_thread(thread_index=1, length=20)\n",
    "# for idx, utt in enumerate(utts):\n",
    "#     utt.meta['order'] = idx + 1\n",
    "#     utt.meta['class'] = 2\n",
    "# Corpus(utterances=utts).get_conversation('1-1').print_conversation_structure(lambda utt: str(utt.meta['order']) + \". \" + utt.user.id)"
   ]
  },
  {
   "cell_type": "code",
   "execution_count": 7,
   "metadata": {},
   "outputs": [
    {
     "name": "stdout",
     "output_type": "stream",
     "text": [
      "1. 0x1\n",
      "    2. 0x2\n",
      "        8. 0x18\n",
      "        10. 0xf\n",
      "            11. 0x17\n",
      "    3. 0x11\n",
      "        5. 0x2\n",
      "        9. 0x17\n",
      "    4. 0x6\n",
      "    6. 0x3\n",
      "        7. 0x2\n",
      "    12. 0x18\n",
      "        13. 0x17\n",
      "            14. 0x18\n",
      "                15. 0x17\n",
      "                    16. 0x18\n",
      "                        17. 0x17\n",
      "                            18. 0x18\n",
      "                                19. 0x17\n",
      "                                    20. 0x18\n"
     ]
    }
   ],
   "source": [
    "# expansionary -> focused\n",
    "t_spawner2 = ThreadSpawner(participant_factor=20, recip_factor=lambda k: 0.1+(0.8)*int(k//11), expansion_factor=lambda k: (0.95)**k)\n",
    "utts = t_spawner2.spawn_thread(thread_index=1, length=20) # 11 because k is indexed from 3 to 20\n",
    "for idx, utt in enumerate(utts):\n",
    "    utt.meta['order'] = idx + 1\n",
    "    utt.meta['class'] = 2\n",
    "Corpus(utterances=utts).get_conversation('1-1').print_conversation_structure(lambda utt: str(utt.meta['order']) + \". \" + utt.user.id)"
   ]
  },
  {
   "cell_type": "code",
   "execution_count": 8,
   "metadata": {},
   "outputs": [
    {
     "name": "stdout",
     "output_type": "stream",
     "text": [
      "1. 0x1\n",
      "    2. 0x2\n",
      "        3. 0x1\n",
      "            4. 0x2\n",
      "                5. 0x1\n",
      "                11. 0x5\n",
      "                    12. 0x8\n",
      "                        13. 0x5\n",
      "                            14. 0x8\n",
      "                                15. 0x5\n",
      "                                    16. 0x8\n",
      "                                        17. 0x5\n",
      "                                            18. 0x8\n",
      "                                                19. 0x5\n",
      "                                                    20. 0x8\n",
      "    6. 0x8\n",
      "        7. 0x1\n",
      "            8. 0x8\n",
      "                9. 0x1\n",
      "                    10. 0x8\n"
     ]
    }
   ],
   "source": [
    "# dyadic chain\n",
    "t_spawner3 = ThreadSpawner(participant_factor=4, recip_factor=lambda k: 0.9, expansion_factor=lambda k: 0.2)\n",
    "utts = t_spawner3.spawn_thread(thread_index=1, length=20)\n",
    "for idx, utt in enumerate(utts):\n",
    "    utt.meta['order'] = idx + 1\n",
    "    utt.meta['class'] = 3\n",
    "Corpus(utterances=utts).get_conversation('1-1').print_conversation_structure(lambda utt: str(utt.meta['order']) + \". \" + utt.user.id)    "
   ]
  },
  {
   "cell_type": "markdown",
   "metadata": {},
   "source": [
    "## Corpus generation"
   ]
  },
  {
   "cell_type": "code",
   "execution_count": 9,
   "metadata": {},
   "outputs": [],
   "source": [
    "all_utts = []"
   ]
  },
  {
   "cell_type": "code",
   "execution_count": 34,
   "metadata": {},
   "outputs": [],
   "source": [
    "group_size = 1500"
   ]
  },
  {
   "cell_type": "code",
   "execution_count": 35,
   "metadata": {},
   "outputs": [],
   "source": [
    "LENGTH=20\n",
    "for thread_idx in range(1, group_size+1):\n",
    "    utts = t_spawner1.spawn_thread(thread_idx, length=LENGTH)\n",
    "    for utt in utts: utt.meta['subreddit'] = '1.focused->expansionary'\n",
    "    all_utts.extend(utts)\n",
    "\n",
    "for thread_idx in range(group_size+1, 2*group_size+1):\n",
    "    utts = t_spawner2.spawn_thread(thread_idx, length=LENGTH)\n",
    "    for utt in utts: utt.meta['subreddit'] = '2.expansionary->focused'\n",
    "    all_utts.extend(utts)\n",
    "    \n",
    "for thread_idx in range(2*group_size+1, 3*group_size+1):\n",
    "    utts = t_spawner3.spawn_thread(thread_idx, length=LENGTH)\n",
    "    for utt in utts: utt.meta['subreddit'] = '3.dyadic_chain'\n",
    "    all_utts.extend(utts)\n"
   ]
  },
  {
   "cell_type": "code",
   "execution_count": 36,
   "metadata": {},
   "outputs": [
    {
     "data": {
      "text/plain": [
       "109980"
      ]
     },
     "execution_count": 36,
     "metadata": {},
     "output_type": "execute_result"
    }
   ],
   "source": [
    "len(all_utts)"
   ]
  },
  {
   "cell_type": "code",
   "execution_count": 37,
   "metadata": {},
   "outputs": [],
   "source": [
    "corpus = Corpus(utterances=all_utts)"
   ]
  },
  {
   "cell_type": "code",
   "execution_count": 38,
   "metadata": {},
   "outputs": [
    {
     "name": "stdout",
     "output_type": "stream",
     "text": [
      "Number of Speakers: 40\n",
      "Number of Utterances: 90000\n",
      "Number of Conversations: 4500\n"
     ]
    }
   ],
   "source": [
    "corpus.print_summary_stats()"
   ]
  },
  {
   "cell_type": "code",
   "execution_count": 39,
   "metadata": {},
   "outputs": [],
   "source": [
    "from functools import reduce"
   ]
  },
  {
   "cell_type": "code",
   "execution_count": 40,
   "metadata": {},
   "outputs": [],
   "source": [
    "for convo in corpus.iter_conversations():\n",
    "    convo.meta['prob'] = reduce(lambda x, y: x * y, [utt.meta['prob'] for utt in convo.iter_utterances()])"
   ]
  },
  {
   "cell_type": "markdown",
   "metadata": {},
   "source": [
    "## Quantize(?) the probs"
   ]
  },
  {
   "cell_type": "code",
   "execution_count": 41,
   "metadata": {},
   "outputs": [],
   "source": [
    "from collections import defaultdict\n",
    "from sklearn.preprocessing import QuantileTransformer\n",
    "import numpy as np"
   ]
  },
  {
   "cell_type": "code",
   "execution_count": 42,
   "metadata": {},
   "outputs": [],
   "source": [
    "for convo in corpus.iter_conversations():\n",
    "    convo.meta['group'] = int(next(convo.iter_utterances()).meta['subreddit'][0])"
   ]
  },
  {
   "cell_type": "code",
   "execution_count": 43,
   "metadata": {},
   "outputs": [],
   "source": [
    "probs = defaultdict(list)\n",
    "for convo in corpus.iter_conversations():\n",
    "    probs[convo.meta['group']].append(convo.meta['prob'])"
   ]
  },
  {
   "cell_type": "code",
   "execution_count": 44,
   "metadata": {},
   "outputs": [],
   "source": [
    "import seaborn as sns"
   ]
  },
  {
   "cell_type": "code",
   "execution_count": 45,
   "metadata": {},
   "outputs": [
    {
     "data": {
      "text/plain": [
       "<matplotlib.axes._subplots.AxesSubplot at 0x144d734d0>"
      ]
     },
     "execution_count": 45,
     "metadata": {},
     "output_type": "execute_result"
    },
    {
     "data": {
      "image/png": "[encoded data removed]",
      "text/plain": [
       "<Figure size 432x288 with 1 Axes>"
      ]
     },
     "metadata": {
      "needs_background": "light"
     },
     "output_type": "display_data"
    }
   ],
   "source": [
    "sns.distplot(probs[1])"
   ]
  },
  {
   "cell_type": "code",
   "execution_count": 46,
   "metadata": {},
   "outputs": [
    {
     "data": {
      "text/plain": [
       "<matplotlib.axes._subplots.AxesSubplot at 0x144d97810>"
      ]
     },
     "execution_count": 46,
     "metadata": {},
     "output_type": "execute_result"
    },
    {
     "data": {
      "image/png": "[encoded data removed]",
      "text/plain": [
       "<Figure size 432x288 with 1 Axes>"
      ]
     },
     "metadata": {
      "needs_background": "light"
     },
     "output_type": "display_data"
    }
   ],
   "source": [
    "sns.distplot(probs[2])"
   ]
  },
  {
   "cell_type": "code",
   "execution_count": 47,
   "metadata": {},
   "outputs": [
    {
     "data": {
      "text/plain": [
       "<matplotlib.axes._subplots.AxesSubplot at 0x144d6f990>"
      ]
     },
     "execution_count": 47,
     "metadata": {},
     "output_type": "execute_result"
    },
    {
     "data": {
      "image/png": "[encoded data removed]",
      "text/plain": [
       "<Figure size 432x288 with 1 Axes>"
      ]
     },
     "metadata": {
      "needs_background": "light"
     },
     "output_type": "display_data"
    }
   ],
   "source": [
    "sns.distplot(probs[3])"
   ]
  },
  {
   "cell_type": "code",
   "execution_count": 48,
   "metadata": {},
   "outputs": [],
   "source": [
    "qt = QuantileTransformer(n_quantiles=18)"
   ]
  },
  {
   "cell_type": "code",
   "execution_count": 49,
   "metadata": {},
   "outputs": [],
   "source": [
    "percentiles = defaultdict(list)\n",
    "for k, v in probs.items():\n",
    "    probs[k] = np.array(v).reshape(-1, 1)\n",
    "    mm = QuantileTransformer(n_quantiles=18)\n",
    "    percentiles[k] = mm.fit_transform(probs[k])"
   ]
  },
  {
   "cell_type": "code",
   "execution_count": 50,
   "metadata": {},
   "outputs": [
    {
     "data": {
      "text/plain": [
       "<matplotlib.axes._subplots.AxesSubplot at 0x145273d90>"
      ]
     },
     "execution_count": 50,
     "metadata": {},
     "output_type": "execute_result"
    },
    {
     "data": {
      "image/png": "[encoded data removed]",
      "text/plain": [
       "<Figure size 432x288 with 1 Axes>"
      ]
     },
     "metadata": {
      "needs_background": "light"
     },
     "output_type": "display_data"
    }
   ],
   "source": [
    "sns.distplot(qt.fit_transform(probs[1]))"
   ]
  },
  {
   "cell_type": "code",
   "execution_count": 51,
   "metadata": {},
   "outputs": [],
   "source": [
    "for idx, convo in enumerate(corpus.iter_conversations()):\n",
    "    convo.meta['percentile'] = percentiles[convo.meta['group']][idx % 333][0]"
   ]
  },
  {
   "cell_type": "code",
   "execution_count": 52,
   "metadata": {},
   "outputs": [
    {
     "data": {
      "text/plain": [
       "0.1208424333082472"
      ]
     },
     "execution_count": 52,
     "metadata": {},
     "output_type": "execute_result"
    }
   ],
   "source": [
    "next(corpus.iter_conversations()).meta['percentile']"
   ]
  },
  {
   "cell_type": "code",
   "execution_count": 53,
   "metadata": {},
   "outputs": [],
   "source": [
    "from convokit import HyperConvo"
   ]
  },
  {
   "cell_type": "code",
   "execution_count": 54,
   "metadata": {},
   "outputs": [],
   "source": [
    "hyperconv_range = range(2, 20+1)"
   ]
  },
  {
   "cell_type": "code",
   "execution_count": 55,
   "metadata": {},
   "outputs": [],
   "source": [
    "for hc_idx in hyperconv_range:\n",
    "    hc = HyperConvo(prefix_len=hc_idx, feat_name=\"hyperconvo-{}\".format(hc_idx), invalid_val=-1)\n",
    "    hc.fit_transform(corpus)"
   ]
  },
  {
   "cell_type": "code",
   "execution_count": 56,
   "metadata": {},
   "outputs": [],
   "source": [
    "# corpus = Corpus(filename='annotated-fake-trajectory-2')"
   ]
  },
  {
   "cell_type": "code",
   "execution_count": 57,
   "metadata": {},
   "outputs": [],
   "source": [
    "corpus.dump('annotated-fake-trajectory-4', base_path='.')"
   ]
  },
  {
   "cell_type": "code",
   "execution_count": null,
   "metadata": {},
   "outputs": [],
   "source": []
  }
 ],
 "metadata": {
  "kernelspec": {
   "display_name": "Python 3",
   "language": "python",
   "name": "python3"
  },
  "language_info": {
   "codemirror_mode": {
    "name": "ipython",
    "version": 3
   },
   "file_extension": ".py",
   "mimetype": "text/x-python",
   "name": "python",
   "nbconvert_exporter": "python",
   "pygments_lexer": "ipython3",
   "version": "3.7.6"
  }
 },
 "nbformat": 4,
 "nbformat_minor": 2
}
