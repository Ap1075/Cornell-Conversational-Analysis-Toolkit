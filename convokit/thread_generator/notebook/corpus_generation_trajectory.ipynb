{
 "cells": [
  {
   "cell_type": "code",
   "execution_count": 1,
   "metadata": {},
   "outputs": [],
   "source": [
    "import os\n",
    "os.chdir('../../..')"
   ]
  },
  {
   "cell_type": "code",
   "execution_count": 2,
   "metadata": {},
   "outputs": [],
   "source": [
    "import convokit\n",
    "from convokit import Corpus"
   ]
  },
  {
   "cell_type": "code",
   "execution_count": 3,
   "metadata": {},
   "outputs": [],
   "source": [
    "os.chdir('convokit/thread_generator')"
   ]
  },
  {
   "cell_type": "code",
   "execution_count": 4,
   "metadata": {},
   "outputs": [],
   "source": [
    "from convokit.thread_generator import ThreadSpawner"
   ]
  },
  {
   "cell_type": "code",
   "execution_count": 69,
   "metadata": {},
   "outputs": [
    {
     "name": "stdout",
     "output_type": "stream",
     "text": [
      "1. 0x1\n",
      "    2. 0x2\n",
      "        9. 0x26\n",
      "    3. 0xb\n",
      "        4. 0x2\n",
      "            5. 0xb\n",
      "    6. 0x27\n",
      "    7. 0x1d\n",
      "        20. 0x9\n",
      "    8. 0x1b\n",
      "        15. 0x10\n",
      "    10. 0x21\n",
      "    11. 0x11\n",
      "    12. 0x10\n",
      "    13. 0x13\n",
      "    14. 0x5\n",
      "    16. 0x18\n",
      "    17. 0x14\n",
      "    18. 0x9\n",
      "    19. 0x23\n"
     ]
    }
   ],
   "source": [
    "# focused -> expansionary\n",
    "t_spawner1 = ThreadSpawner(participant_factor=20, recip_factor=lambda k: (0.70)**k, expansion_factor=lambda k: 1-(0.7)**k)\n",
    "utts = t_spawner1.spawn_thread(thread_index=1, length=20)\n",
    "for idx, utt in enumerate(utts):\n",
    "    utt.meta['order'] = idx + 1\n",
    "Corpus(utterances=utts).get_conversation('1-1').print_conversation_structure(lambda utt: str(utt.meta['order']) + \". \" + utt.user.id)"
   ]
  },
  {
   "cell_type": "code",
   "execution_count": 70,
   "metadata": {},
   "outputs": [
    {
     "name": "stdout",
     "output_type": "stream",
     "text": [
      "1. 0x1\n",
      "    2. 0x2\n",
      "    3. 0xb5\n",
      "        4. 0x2\n",
      "            5. 0xb5\n",
      "                6. 0x2\n",
      "                    7. 0xb5\n",
      "                        8. 0x2\n",
      "                            9. 0xb5\n",
      "                                10. 0x2\n",
      "                                    11. 0xb5\n",
      "                                    19. 0x60\n",
      "                                        20. 0xad\n",
      "                    12. 0xad\n",
      "                13. 0x31\n",
      "                    14. 0xad\n",
      "                        15. 0x31\n",
      "                            16. 0xad\n",
      "                                17. 0x31\n",
      "                                    18. 0xad\n"
     ]
    }
   ],
   "source": [
    "# expansionary -> focused\n",
    "t_spawner2 = ThreadSpawner(participant_factor=100, recip_factor=lambda k: 1-(0.9)**k, expansion_factor=lambda k: (0.95)**k)\n",
    "utts = t_spawner2.spawn_thread(thread_index=1, length=20)\n",
    "for idx, utt in enumerate(utts):\n",
    "    utt.meta['order'] = idx + 1\n",
    "Corpus(utterances=utts).get_conversation('1-1').print_conversation_structure(lambda utt: str(utt.meta['order']) + \". \" + utt.user.id)"
   ]
  },
  {
   "cell_type": "code",
   "execution_count": 71,
   "metadata": {},
   "outputs": [
    {
     "name": "stdout",
     "output_type": "stream",
     "text": [
      "1. 0x1\n",
      "    2. 0x2\n",
      "        3. 0x1\n",
      "            4. 0x2\n",
      "                5. 0x1\n",
      "                    6. 0x2\n",
      "                        7. 0x1\n",
      "                            8. 0x2\n",
      "                    9. 0x8\n",
      "                        10. 0x2\n",
      "                            11. 0x8\n",
      "                                12. 0x2\n",
      "                                    13. 0x8\n",
      "                                        14. 0x2\n",
      "                                            15. 0x8\n",
      "                                                16. 0x2\n",
      "                                                    17. 0x8\n",
      "                                                        18. 0x2\n",
      "                                                            19. 0x8\n",
      "                                                                20. 0x2\n"
     ]
    }
   ],
   "source": [
    "# dyadic chain\n",
    "t_spawner3 = ThreadSpawner(participant_factor=4, recip_factor=lambda k: 0.9, expansion_factor=lambda k: 0.2)\n",
    "utts = t_spawner3.spawn_thread(thread_index=1, length=20)\n",
    "for idx, utt in enumerate(utts):\n",
    "    utt.meta['order'] = idx + 1\n",
    "\n",
    "Corpus(utterances=utts).get_conversation('1-1').print_conversation_structure(lambda utt: str(utt.meta['order']) + \". \" + utt.user.id)    "
   ]
  },
  {
   "cell_type": "markdown",
   "metadata": {},
   "source": [
    "## Corpus generation"
   ]
  },
  {
   "cell_type": "code",
   "execution_count": 73,
   "metadata": {},
   "outputs": [],
   "source": [
    "all_utts = []"
   ]
  },
  {
   "cell_type": "code",
   "execution_count": 74,
   "metadata": {},
   "outputs": [],
   "source": [
    "LENGTH=20\n",
    "for thread_idx in range(1, 333+1):\n",
    "    utts = t_spawner1.spawn_thread(thread_idx, length=LENGTH)\n",
    "    for utt in utts: utt.meta['subreddit'] = '1.focused->expansionary'\n",
    "    all_utts.extend(utts)\n",
    "\n",
    "for thread_idx in range(334, 666+1):\n",
    "    utts = t_spawner2.spawn_thread(thread_idx, length=LENGTH)\n",
    "    for utt in utts: utt.meta['subreddit'] = '2.expansionary->focused'\n",
    "    all_utts.extend(utts)\n",
    "    \n",
    "for thread_idx in range(667, 999+1):\n",
    "    utts = t_spawner3.spawn_thread(thread_idx, length=LENGTH)\n",
    "    for utt in utts: utt.meta['subreddit'] = '3.dyadic_chain'\n",
    "    all_utts.extend(utts)\n"
   ]
  },
  {
   "cell_type": "code",
   "execution_count": 75,
   "metadata": {},
   "outputs": [
    {
     "data": {
      "text/plain": [
       "19980"
      ]
     },
     "execution_count": 75,
     "metadata": {},
     "output_type": "execute_result"
    }
   ],
   "source": [
    "len(all_utts)"
   ]
  },
  {
   "cell_type": "code",
   "execution_count": 76,
   "metadata": {},
   "outputs": [],
   "source": [
    "corpus = Corpus(utterances=all_utts)"
   ]
  },
  {
   "cell_type": "code",
   "execution_count": 77,
   "metadata": {},
   "outputs": [
    {
     "name": "stdout",
     "output_type": "stream",
     "text": [
      "Number of Users: 200\n",
      "Number of Utterances: 19980\n",
      "Number of Conversations: 999\n"
     ]
    }
   ],
   "source": [
    "corpus.print_summary_stats()"
   ]
  },
  {
   "cell_type": "code",
   "execution_count": 78,
   "metadata": {},
   "outputs": [],
   "source": [
    "corpus.dump('fake-corpus-trajectory', base_path='.')"
   ]
  },
  {
   "cell_type": "code",
   "execution_count": null,
   "metadata": {},
   "outputs": [],
   "source": []
  }
 ],
 "metadata": {
  "kernelspec": {
   "display_name": "Python 3",
   "language": "python",
   "name": "python3"
  },
  "language_info": {
   "codemirror_mode": {
    "name": "ipython",
    "version": 3
   },
   "file_extension": ".py",
   "mimetype": "text/x-python",
   "name": "python",
   "nbconvert_exporter": "python",
   "pygments_lexer": "ipython3",
   "version": "3.7.6"
  }
 },
 "nbformat": 4,
 "nbformat_minor": 2
}
