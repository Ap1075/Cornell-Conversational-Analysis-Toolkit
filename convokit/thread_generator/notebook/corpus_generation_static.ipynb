{
 "cells": [
  {
   "cell_type": "code",
   "execution_count": 1,
   "metadata": {},
   "outputs": [],
   "source": [
    "import os\n",
    "os.chdir('../../..')"
   ]
  },
  {
   "cell_type": "code",
   "execution_count": 2,
   "metadata": {},
   "outputs": [],
   "source": [
    "import convokit\n",
    "from convokit import Corpus"
   ]
  },
  {
   "cell_type": "code",
   "execution_count": 3,
   "metadata": {},
   "outputs": [],
   "source": [
    "os.chdir('convokit/thread_generator')"
   ]
  },
  {
   "cell_type": "code",
   "execution_count": 4,
   "metadata": {},
   "outputs": [],
   "source": [
    "from convokit.thread_generator import ThreadSpawner"
   ]
  },
  {
   "cell_type": "code",
   "execution_count": 5,
   "metadata": {},
   "outputs": [
    {
     "name": "stdout",
     "output_type": "stream",
     "text": [
      "0x1\n",
      "    0x2\n",
      "        0x1\n",
      "            0x2\n",
      "    0x4\n",
      "        0x2\n",
      "            0x4\n",
      "                0x2\n",
      "                    0x4\n",
      "                        0x2\n",
      "                            0x4\n",
      "                                0x2\n",
      "                                    0x4\n",
      "                                        0x2\n",
      "                                            0x4\n",
      "                                                0x2\n",
      "                                                    0x4\n",
      "                                                        0x2\n",
      "                                                            0x4\n",
      "                                                                0x2\n"
     ]
    }
   ],
   "source": [
    "t_spawner1 = ThreadSpawner(participant_factor=2, recip_factor=lambda k: 0.8, expansion_factor=lambda k: 0.9)\n",
    "utts = t_spawner1.spawn_thread(thread_index=1, length=20)\n",
    "Corpus(utterances=utts).get_conversation('1-1').print_conversation_structure()"
   ]
  },
  {
   "cell_type": "code",
   "execution_count": 6,
   "metadata": {},
   "outputs": [
    {
     "name": "stdout",
     "output_type": "stream",
     "text": [
      "0x1\n",
      "    0x2\n",
      "    0x1b\n",
      "    0x4\n",
      "        0x1b\n",
      "            0x10\n",
      "    0xa\n",
      "    0x22\n",
      "        0x5\n",
      "    0x19\n",
      "        0x2\n",
      "            0x19\n",
      "                0x1\n",
      "    0x10\n",
      "    0x5\n",
      "    0x14\n",
      "    0x24\n",
      "    0x9\n",
      "        0x24\n",
      "    0x25\n"
     ]
    }
   ],
   "source": [
    "t_spawner2 = ThreadSpawner(participant_factor=20, recip_factor=lambda k: 0.1, expansion_factor=lambda k: 0.9)\n",
    "utts = t_spawner2.spawn_thread(thread_index=1, length=20)\n",
    "Corpus(utterances=utts).get_conversation('1-1').print_conversation_structure()"
   ]
  },
  {
   "cell_type": "code",
   "execution_count": 10,
   "metadata": {},
   "outputs": [
    {
     "name": "stdout",
     "output_type": "stream",
     "text": [
      "0x1\n",
      "    0x2\n",
      "    0x6\n",
      "    0xa\n",
      "        0x6\n",
      "            0xa\n",
      "                0x2\n",
      "                0x5\n",
      "                    0x4\n",
      "                    0x1\n",
      "                        0x8\n",
      "                    0x2\n",
      "    0x5\n",
      "    0x4\n",
      "    0x3\n",
      "        0x6\n",
      "    0x8\n",
      "        0x7\n",
      "            0x6\n",
      "    0x9\n"
     ]
    }
   ],
   "source": [
    "t_spawner3 = ThreadSpawner(participant_factor=5, recip_factor=lambda k: 0.3, expansion_factor=lambda k: 0.6)\n",
    "utts = t_spawner3.spawn_thread(thread_index=1, length=20)\n",
    "Corpus(utterances=utts).get_conversation('1-1').print_conversation_structure()"
   ]
  },
  {
   "cell_type": "markdown",
   "metadata": {},
   "source": [
    "## Corpus generation"
   ]
  },
  {
   "cell_type": "code",
   "execution_count": 58,
   "metadata": {},
   "outputs": [],
   "source": [
    "all_utts = []"
   ]
  },
  {
   "cell_type": "code",
   "execution_count": 59,
   "metadata": {},
   "outputs": [],
   "source": [
    "LENGTH=20\n",
    "for thread_idx in range(1, 333+1):\n",
    "    utts = t_spawner1.spawn_thread(thread_idx, length=LENGTH)\n",
    "    for utt in utts: utt.meta['subreddit'] = 'spawn_group_1'\n",
    "    all_utts.extend(utts)\n",
    "\n",
    "for thread_idx in range(334, 666+1):\n",
    "    utts = t_spawner2.spawn_thread(thread_idx, length=LENGTH)\n",
    "    for utt in utts: utt.meta['subreddit'] = 'spawn_group_2'\n",
    "    all_utts.extend(utts)\n",
    "    \n",
    "for thread_idx in range(667, 999+1):\n",
    "    utts = t_spawner3.spawn_thread(thread_idx, length=LENGTH)\n",
    "    for utt in utts: utt.meta['subreddit'] = 'spawn_group_3'\n",
    "    all_utts.extend(utts)\n"
   ]
  },
  {
   "cell_type": "code",
   "execution_count": 60,
   "metadata": {},
   "outputs": [
    {
     "data": {
      "text/plain": [
       "19980"
      ]
     },
     "execution_count": 60,
     "metadata": {},
     "output_type": "execute_result"
    }
   ],
   "source": [
    "len(all_utts)"
   ]
  },
  {
   "cell_type": "code",
   "execution_count": 67,
   "metadata": {},
   "outputs": [],
   "source": [
    "corpus = Corpus(utterances=all_utts)"
   ]
  },
  {
   "cell_type": "code",
   "execution_count": 68,
   "metadata": {},
   "outputs": [
    {
     "name": "stdout",
     "output_type": "stream",
     "text": [
      "Number of Users: 40\n",
      "Number of Utterances: 19980\n",
      "Number of Conversations: 999\n"
     ]
    }
   ],
   "source": [
    "corpus.print_summary_stats()"
   ]
  },
  {
   "cell_type": "code",
   "execution_count": 70,
   "metadata": {},
   "outputs": [],
   "source": [
    "corpus.dump('fake-corpus', base_path='.')"
   ]
  },
  {
   "cell_type": "code",
   "execution_count": null,
   "metadata": {},
   "outputs": [],
   "source": []
  }
 ],
 "metadata": {
  "kernelspec": {
   "display_name": "Python 3",
   "language": "python",
   "name": "python3"
  },
  "language_info": {
   "codemirror_mode": {
    "name": "ipython",
    "version": 3
   },
   "file_extension": ".py",
   "mimetype": "text/x-python",
   "name": "python",
   "nbconvert_exporter": "python",
   "pygments_lexer": "ipython3",
   "version": "3.7.6"
  }
 },
 "nbformat": 4,
 "nbformat_minor": 2
}
