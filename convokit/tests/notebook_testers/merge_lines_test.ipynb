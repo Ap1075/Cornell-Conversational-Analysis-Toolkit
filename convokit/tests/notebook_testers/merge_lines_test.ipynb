{
 "cells": [
  {
   "cell_type": "code",
   "execution_count": 1,
   "metadata": {},
   "outputs": [],
   "source": [
    "import os\n",
    "os.chdir('../../..')"
   ]
  },
  {
   "cell_type": "code",
   "execution_count": 2,
   "metadata": {},
   "outputs": [],
   "source": [
    "import convokit"
   ]
  },
  {
   "cell_type": "code",
   "execution_count": 3,
   "metadata": {},
   "outputs": [],
   "source": [
    "import pickle"
   ]
  },
  {
   "cell_type": "code",
   "execution_count": 4,
   "metadata": {},
   "outputs": [],
   "source": [
    "os.chdir('convokit/tests/notebook_testers')"
   ]
  },
  {
   "cell_type": "code",
   "execution_count": 5,
   "metadata": {},
   "outputs": [],
   "source": [
    "from convokit import Corpus"
   ]
  },
  {
   "cell_type": "code",
   "execution_count": 6,
   "metadata": {},
   "outputs": [],
   "source": [
    "corpus = Corpus(filename='merge-test-corpus')"
   ]
  },
  {
   "cell_type": "code",
   "execution_count": 7,
   "metadata": {},
   "outputs": [],
   "source": [
    "utts = list(corpus.iter_utterances())"
   ]
  },
  {
   "cell_type": "code",
   "execution_count": 8,
   "metadata": {},
   "outputs": [],
   "source": [
    "from convokit import Speaker, Utterance"
   ]
  },
  {
   "cell_type": "code",
   "execution_count": 9,
   "metadata": {},
   "outputs": [],
   "source": [
    "utt4 = Utterance(id='1000307_3', speaker= Speaker(id='hi'), reply_to='1000307_2', conversation_id='1000307_0')"
   ]
  },
  {
   "cell_type": "code",
   "execution_count": 10,
   "metadata": {},
   "outputs": [
    {
     "data": {
      "text/plain": [
       "[Utterance({'obj_type': 'utterance', '_owner': <convokit.model.corpus.Corpus object at 0x1289c0fd0>, 'meta': {}, '_id': '1000307_0', 'speaker': Speaker({'obj_type': 'speaker', '_owner': <convokit.model.corpus.Corpus object at 0x1289c0fd0>, 'meta': {'role': 'th'}, '_id': '11814'}), 'conversation_id': '1000307_0', '_root': '1000307_0', 'reply_to': None, 'timestamp': '2018-10-02 11:33:26', 'text': 'dummy text1000307_0 dummy text1000307_1 dummy text1000307_1 dummy text1000307_1 dummy text1000307_1'}),\n",
       " Utterance({'obj_type': 'utterance', '_owner': <convokit.model.corpus.Corpus object at 0x1289c0fd0>, 'meta': {}, '_id': '1000307_1', 'speaker': Speaker({'obj_type': 'speaker', '_owner': <convokit.model.corpus.Corpus object at 0x1289c0fd0>, 'meta': {'role': 'th'}, '_id': '11814'}), 'conversation_id': '1000307_0', '_root': '1000307_0', 'reply_to': '1000307_0', 'timestamp': '2018-10-02 11:33:27', 'text': 'dummy text1000307_1 dummy text1000307_1'}),\n",
       " Utterance({'obj_type': 'utterance', '_owner': <convokit.model.corpus.Corpus object at 0x1289c0fd0>, 'meta': {}, '_id': '1000307_2', 'speaker': Speaker({'obj_type': 'speaker', '_owner': <convokit.model.corpus.Corpus object at 0x1289c0fd0>, 'meta': {'role': 'th'}, '_id': '11814'}), 'conversation_id': '1000307_0', '_root': '1000307_0', 'reply_to': '1000307_1', 'timestamp': '2018-10-02 11:33:27', 'text': 'dummy text1000307_2 dummy text1000307_2'})]"
      ]
     },
     "execution_count": 10,
     "metadata": {},
     "output_type": "execute_result"
    }
   ],
   "source": [
    "utts"
   ]
  },
  {
   "cell_type": "code",
   "execution_count": 11,
   "metadata": {},
   "outputs": [],
   "source": [
    "corpus2 = Corpus(utterances=utts+[utt4], merge_lines=True)"
   ]
  },
  {
   "cell_type": "code",
   "execution_count": null,
   "metadata": {},
   "outputs": [],
   "source": []
  },
  {
   "cell_type": "code",
   "execution_count": 12,
   "metadata": {},
   "outputs": [
    {
     "name": "stdout",
     "output_type": "stream",
     "text": [
      "11814\n",
      "    11814\n",
      "        11814\n"
     ]
    }
   ],
   "source": [
    "corpus.random_conversation().print_conversation_structure()"
   ]
  },
  {
   "cell_type": "code",
   "execution_count": 13,
   "metadata": {},
   "outputs": [
    {
     "name": "stdout",
     "output_type": "stream",
     "text": [
      "Number of Speakers: 2\n",
      "Number of Utterances: 2\n",
      "Number of Conversations: 1\n"
     ]
    }
   ],
   "source": [
    "corpus2.print_summary_stats()"
   ]
  },
  {
   "cell_type": "code",
   "execution_count": 14,
   "metadata": {},
   "outputs": [],
   "source": [
    "corpus2.random_utterance().text"
   ]
  },
  {
   "cell_type": "code",
   "execution_count": 15,
   "metadata": {},
   "outputs": [
    {
     "name": "stdout",
     "output_type": "stream",
     "text": [
      "dummy text1000307_0 dummy text1000307_1 dummy text1000307_1 dummy text1000307_1 dummy text1000307_1 dummy text1000307_1 dummy text1000307_1 dummy text1000307_2 dummy text1000307_2\n",
      "dummy text1000307_1 dummy text1000307_1\n",
      "dummy text1000307_2 dummy text1000307_2\n"
     ]
    }
   ],
   "source": [
    "for utt in corpus.iter_utterances():\n",
    "    print(utt.text)"
   ]
  },
  {
   "cell_type": "code",
   "execution_count": 17,
   "metadata": {},
   "outputs": [
    {
     "name": "stdout",
     "output_type": "stream",
     "text": [
      "11814\n",
      "    hi\n"
     ]
    }
   ],
   "source": [
    "corpus2.random_conversation().print_conversation_structure()"
   ]
  },
  {
   "cell_type": "code",
   "execution_count": null,
   "metadata": {},
   "outputs": [],
   "source": []
  }
 ],
 "metadata": {
  "kernelspec": {
   "display_name": "Python 3",
   "language": "python",
   "name": "python3"
  },
  "language_info": {
   "codemirror_mode": {
    "name": "ipython",
    "version": 3
   },
   "file_extension": ".py",
   "mimetype": "text/x-python",
   "name": "python",
   "nbconvert_exporter": "python",
   "pygments_lexer": "ipython3",
   "version": "3.7.6"
  }
 },
 "nbformat": 4,
 "nbformat_minor": 2
}
