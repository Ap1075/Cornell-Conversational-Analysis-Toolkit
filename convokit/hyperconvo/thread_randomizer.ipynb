{
 "cells": [
  {
   "cell_type": "code",
   "execution_count": 1,
   "metadata": {},
   "outputs": [
    {
     "data": {
      "text/plain": [
       "'/Users/macuser/Desktop/TriadMotif'"
      ]
     },
     "execution_count": 1,
     "metadata": {},
     "output_type": "execute_result"
    }
   ],
   "source": [
    "import os\n",
    "os.getcwd()\n",
    "os.chdir(\"..\")\n",
    "os.chdir(\"..\")\n",
    "os.getcwd()"
   ]
  },
  {
   "cell_type": "code",
   "execution_count": 2,
   "metadata": {
    "collapsed": true
   },
   "outputs": [],
   "source": [
    "import convokit"
   ]
  },
  {
   "cell_type": "code",
   "execution_count": 3,
   "metadata": {
    "collapsed": true
   },
   "outputs": [],
   "source": [
    "from convokit.threadRandomizer import randomize_thread"
   ]
  },
  {
   "cell_type": "code",
   "execution_count": 4,
   "metadata": {
    "collapsed": true
   },
   "outputs": [],
   "source": [
    "%matplotlib inline\n",
    "import matplotlib.pyplot as plt\n",
    "import numpy as np\n",
    "import pandas as pd\n",
    "import warnings\n",
    "warnings.filterwarnings('ignore')"
   ]
  },
  {
   "cell_type": "markdown",
   "metadata": {},
   "source": [
    "First we download the reddit corpus:"
   ]
  },
  {
   "cell_type": "code",
   "execution_count": 5,
   "metadata": {},
   "outputs": [
    {
     "data": {
      "text/plain": [
       "'/Users/macuser/Desktop/TriadMotif/convokit/__init__.py'"
      ]
     },
     "execution_count": 5,
     "metadata": {},
     "output_type": "execute_result"
    }
   ],
   "source": [
    "convokit.__file__"
   ]
  },
  {
   "cell_type": "code",
   "execution_count": 6,
   "metadata": {},
   "outputs": [],
   "source": [
    "corpus = convokit.Corpus(filename=convokit.download(\"reddit-corpus\"))"
   ]
  },
  {
   "cell_type": "markdown",
   "metadata": {},
   "source": [
    "We will compute features over only the first 10 comments that occur in a thread, for  threads which are at least 10 comments long (controling for thread length in this way):"
   ]
  },
  {
   "cell_type": "code",
   "execution_count": 7,
   "metadata": {
    "collapsed": true
   },
   "outputs": [],
   "source": [
    "threads = corpus.utterance_threads(prefix_len=10)"
   ]
  },
  {
   "cell_type": "code",
   "execution_count": 8,
   "metadata": {
    "collapsed": true
   },
   "outputs": [],
   "source": [
    "def display_thread_helper(thread, root, indent=0):\n",
    "    print(\" \"*indent + thread[root].user.name)\n",
    "    children = [k for k, v in thread.items() if v.reply_to == root]\n",
    "    for child in children:\n",
    "        display_thread_helper(thread, child, indent=indent+4)\n",
    "def display_thread(threads, root):\n",
    "    return display_thread_helper(threads[root],root)"
   ]
  },
  {
   "cell_type": "markdown",
   "metadata": {},
   "source": [
    "The following are threads that come from the /r/canada subreddit. "
   ]
  },
  {
   "cell_type": "code",
   "execution_count": 10,
   "metadata": {
    "collapsed": true
   },
   "outputs": [],
   "source": [
    "demo_threads = [\n",
    "    # https://www.reddit.com/r/canada/comments/mmyld/polygamypolyamoury_laws_upheld_in_supreme_court/c32bcq8/\n",
    "                't1_c32bcq8', \n",
    "    # https://www.reddit.com/r/canada/comments/mmd20/look_what_i_found_today_yes_and_it_is_in_canada/c322oa7/\n",
    "                't1_c322oa7',\n",
    "    # https://www.reddit.com/r/canada/comments/mo0lt/happy_thursday/c32hv0h/\n",
    "                't1_c32hv0h'\n",
    "               ]"
   ]
  },
  {
   "cell_type": "markdown",
   "metadata": {},
   "source": [
    "We print the structure of the thread: the reply-structure (where subsequent replies in the comment tree are indented), and the authors of each comment. There are some high-level qualitative differences that you might immediately see; our goal is to automatically extract a superset of these intuitive distinctions. For instance, we notice that thread t1_c32bcq8 has a very linear structure, while t1_c322oa7 is flatter; to capture this difference, we might compute statistics on the distribution of in-degrees of nodes in the reply tree. We also intuit that some conversations involve a few people replying repeatedly to each other, whereas others may involve users stopping by to chime in once and then leaving; we'll later codify this difference via statistics on the indegrees and outdegrees of hypernodes (users)."
   ]
  },
  {
   "cell_type": "code",
   "execution_count": 11,
   "metadata": {
    "scrolled": true
   },
   "outputs": [
    {
     "name": "stdout",
     "output_type": "stream",
     "text": [
      "t1_c32bcq8\n",
      "---\n",
      "drays\n",
      "    QuirkyGroundhog\n",
      "        Sajentine\n",
      "            QuirkyGroundhog\n",
      "                drays\n",
      "                    QuirkyGroundhog\n",
      "                        drays\n",
      "                            QuirkyGroundhog\n",
      "                                drays\n",
      "                                    QuirkyGroundhog\n",
      "\n",
      "t1_c322oa7\n",
      "---\n",
      "[deleted-t1_c322oa7]\n",
      "    Aneeid\n",
      "    veedubbin86\n",
      "        figureskatingaintgay\n",
      "            sirspate\n",
      "        lovevolcano\n",
      "    bunny1979\n",
      "        veedubbin86\n",
      "            bunny1979\n",
      "    SoFaKiNg42\n",
      "\n",
      "t1_c32hv0h\n",
      "---\n",
      "Can-eh-dian\n",
      "    h00pla\n",
      "        Switchbladeannie\n",
      "        lengthynewt\n",
      "            h00pla\n",
      "                lengthynewt\n",
      "                    h00pla\n",
      "    thoriginal\n",
      "    lengthynewt\n",
      "    andrewmp\n",
      "\n"
     ]
    }
   ],
   "source": [
    "for thread in demo_threads:\n",
    "    print(thread)\n",
    "    print('---')\n",
    "    display_thread(threads, thread)\n",
    "    print()"
   ]
  },
  {
   "cell_type": "markdown",
   "metadata": {},
   "source": [
    "Let's randomize these threads and see the (random) results:"
   ]
  },
  {
   "cell_type": "code",
   "execution_count": 12,
   "metadata": {},
   "outputs": [
    {
     "name": "stdout",
     "output_type": "stream",
     "text": [
      "t1_c32bcq8\n",
      "---\n",
      "drays\n",
      "    QuirkyGroundhog\n",
      "    Sajentine\n",
      "        QuirkyGroundhog\n",
      "            drays\n",
      "                QuirkyGroundhog\n",
      "        drays\n",
      "            QuirkyGroundhog\n",
      "                drays\n",
      "                    QuirkyGroundhog\n",
      "\n",
      "t1_c322oa7\n",
      "---\n",
      "[deleted-t1_c322oa7]\n",
      "    Aneeid\n",
      "        veedubbin86\n",
      "        bunny1979\n",
      "            veedubbin86\n",
      "                SoFaKiNg42\n",
      "                    figureskatingaintgay\n",
      "        sirspate\n",
      "    bunny1979\n",
      "        lovevolcano\n",
      "\n",
      "t1_c32hv0h\n",
      "---\n",
      "Can-eh-dian\n",
      "    h00pla\n",
      "        Switchbladeannie\n",
      "        thoriginal\n",
      "            lengthynewt\n",
      "            h00pla\n",
      "        lengthynewt\n",
      "            h00pla\n",
      "                lengthynewt\n",
      "                andrewmp\n",
      "\n"
     ]
    }
   ],
   "source": [
    "for thread in demo_threads:\n",
    "    randomized = randomize_thread(thread, threads[thread])\n",
    "    print(thread)\n",
    "    print('---')\n",
    "    display_thread({thread: randomized}, thread)\n",
    "    print()"
   ]
  },
  {
   "cell_type": "markdown",
   "metadata": {},
   "source": [
    "Let's randomize all threads to create a random baseline:"
   ]
  },
  {
   "cell_type": "code",
   "execution_count": 13,
   "metadata": {
    "collapsed": true
   },
   "outputs": [],
   "source": [
    "randomized = {root:randomize_thread(root, threads[root]) for root in threads}  "
   ]
  },
  {
   "cell_type": "markdown",
   "metadata": {},
   "source": [
    "Construct a new Corpus using randomized threads:"
   ]
  },
  {
   "cell_type": "code",
   "execution_count": 14,
   "metadata": {
    "collapsed": true
   },
   "outputs": [],
   "source": [
    "utts = [utt for t in randomized for utt in randomized[t].values()]"
   ]
  },
  {
   "cell_type": "code",
   "execution_count": 15,
   "metadata": {
    "collapsed": true
   },
   "outputs": [],
   "source": [
    "c = convokit.model.Corpus(utterances=utts)"
   ]
  },
  {
   "cell_type": "markdown",
   "metadata": {},
   "source": [
    "We extract hypergraph features for this new Corpus, as well as for the original Corpus."
   ]
  },
  {
   "cell_type": "code",
   "execution_count": 16,
   "metadata": {
    "collapsed": true
   },
   "outputs": [],
   "source": [
    "random_hc = convokit.HyperConvo(c)"
   ]
  },
  {
   "cell_type": "code",
   "execution_count": 17,
   "metadata": {
    "collapsed": true
   },
   "outputs": [],
   "source": [
    "random_feats = random_hc.fit_transform()"
   ]
  },
  {
   "cell_type": "code",
   "execution_count": 18,
   "metadata": {},
   "outputs": [
    {
     "data": {
      "text/plain": [
       "{'count[NO_EDGE_TRIADS]': 0,\n",
       " 'count[SINGLE_EDGE_TRIADS]': 0,\n",
       " 'count[INCOMING_TRIADS]': 0,\n",
       " 'count[OUTGOING_TRIADS]': 0,\n",
       " 'count[DYADIC_TRIADS]': 0,\n",
       " 'count[UNIDIRECTIONAL_TRIADS]': 0,\n",
       " 'count[INCOMING_2TO3_TRIADS]': 0,\n",
       " 'count[INCOMING_1TO3_TRIADS]': 0,\n",
       " 'count[DIRECTED_CYCLE_TRIADS]': 0,\n",
       " 'count[OUTGOING_3TO1_TRIADS]': 0,\n",
       " 'count[INCOMING_RECIPROCAL_TRIADS]': 0,\n",
       " 'count[OUTGOING_RECIPROCAL_TRIADS]': 0,\n",
       " 'count[DIRECTED_CYCLE_1TO3_TRIADS]': 0,\n",
       " 'count[DIRECIPROCAL_TRIADS]': 0,\n",
       " 'count[DIRECIPROCAL_2TO3_TRIADS]': 1,\n",
       " 'count[TRIRECIPROCAL_TRIADS]': 0,\n",
       " 'count[LATENT_NO_EDGE_TRIADS]': 1,\n",
       " 'count[LATENT_SINGLE_EDGE_TRIADS]': 1,\n",
       " 'count[LATENT_INCOMING_TRIADS]': 0,\n",
       " 'count[LATENT_OUTGOING_TRIADS]': 0,\n",
       " 'count[LATENT_DYADIC_TRIADS]': 0,\n",
       " 'count[LATENT_UNIDIRECTIONAL_TRIADS]': 1,\n",
       " 'count[LATENT_INCOMING_2TO3_TRIADS]': 0,\n",
       " 'count[LATENT_INCOMING_1TO3_TRIADS]': 1,\n",
       " 'count[LATENT_DIRECTED_CYCLE_TRIADS]': 0,\n",
       " 'count[LATENT_OUTGOING_3TO1_TRIADS]': 0,\n",
       " 'count[LATENT_INCOMING_RECIPROCAL_TRIADS]': 0,\n",
       " 'count[LATENT_OUTGOING_RECIPROCAL_TRIADS]': 0,\n",
       " 'count[LATENT_DIRECTED_CYCLE_1TO3_TRIADS]': 1,\n",
       " 'count[LATENT_DIRECIPROCAL_TRIADS]': 0,\n",
       " 'count[LATENT_DIRECIPROCAL_2TO3_TRIADS]': 1,\n",
       " 'count[LATENT_TRIRECIPROCAL_TRIADS]': 0,\n",
       " \"trans[('NO_EDGE_TRIADS', 'NO_EDGE_TRIADS')]\": 0,\n",
       " \"trans[('NO_EDGE_TRIADS', 'SINGLE_EDGE_TRIADS')]\": 1,\n",
       " \"trans[('SINGLE_EDGE_TRIADS', 'SINGLE_EDGE_TRIADS')]\": 0,\n",
       " \"trans[('SINGLE_EDGE_TRIADS', 'UNIDIRECTIONAL_TRIADS')]\": 1,\n",
       " \"trans[('SINGLE_EDGE_TRIADS', 'DYADIC_TRIADS')]\": 0,\n",
       " \"trans[('SINGLE_EDGE_TRIADS', 'OUTGOING_TRIADS')]\": 0,\n",
       " \"trans[('SINGLE_EDGE_TRIADS', 'INCOMING_TRIADS')]\": 0,\n",
       " \"trans[('UNIDIRECTIONAL_TRIADS', 'UNIDIRECTIONAL_TRIADS')]\": 0,\n",
       " \"trans[('UNIDIRECTIONAL_TRIADS', 'OUTGOING_3TO1_TRIADS')]\": 0,\n",
       " \"trans[('UNIDIRECTIONAL_TRIADS', 'DIRECTED_CYCLE_TRIADS')]\": 0,\n",
       " \"trans[('UNIDIRECTIONAL_TRIADS', 'INCOMING_1TO3_TRIADS')]\": 1,\n",
       " \"trans[('UNIDIRECTIONAL_TRIADS', 'INCOMING_2TO3_TRIADS')]\": 0,\n",
       " \"trans[('DYADIC_TRIADS', 'DYADIC_TRIADS')]\": 0,\n",
       " \"trans[('DYADIC_TRIADS', 'OUTGOING_3TO1_TRIADS')]\": 0,\n",
       " \"trans[('DYADIC_TRIADS', 'INCOMING_1TO3_TRIADS')]\": 0,\n",
       " \"trans[('OUTGOING_TRIADS', 'OUTGOING_TRIADS')]\": 0,\n",
       " \"trans[('OUTGOING_TRIADS', 'OUTGOING_3TO1_TRIADS')]\": 0,\n",
       " \"trans[('OUTGOING_TRIADS', 'INCOMING_2TO3_TRIADS')]\": 0,\n",
       " \"trans[('INCOMING_TRIADS', 'INCOMING_TRIADS')]\": 0,\n",
       " \"trans[('INCOMING_TRIADS', 'INCOMING_1TO3_TRIADS')]\": 0,\n",
       " \"trans[('INCOMING_TRIADS', 'INCOMING_2TO3_TRIADS')]\": 0,\n",
       " \"trans[('OUTGOING_3TO1_TRIADS', 'OUTGOING_3TO1_TRIADS')]\": 0,\n",
       " \"trans[('OUTGOING_3TO1_TRIADS', 'DIRECIPROCAL_TRIADS')]\": 0,\n",
       " \"trans[('OUTGOING_3TO1_TRIADS', 'DIRECTED_CYCLE_1TO3_TRIADS')]\": 0,\n",
       " \"trans[('OUTGOING_3TO1_TRIADS', 'INCOMING_RECIPROCAL_TRIADS')]\": 0,\n",
       " \"trans[('DIRECTED_CYCLE_TRIADS', 'DIRECTED_CYCLE_TRIADS')]\": 0,\n",
       " \"trans[('DIRECTED_CYCLE_TRIADS', 'DIRECTED_CYCLE_1TO3_TRIADS')]\": 0,\n",
       " \"trans[('INCOMING_1TO3_TRIADS', 'INCOMING_1TO3_TRIADS')]\": 0,\n",
       " \"trans[('INCOMING_1TO3_TRIADS', 'DIRECIPROCAL_TRIADS')]\": 0,\n",
       " \"trans[('INCOMING_1TO3_TRIADS', 'DIRECTED_CYCLE_1TO3_TRIADS')]\": 1,\n",
       " \"trans[('INCOMING_1TO3_TRIADS', 'OUTGOING_RECIPROCAL_TRIADS')]\": 0,\n",
       " \"trans[('INCOMING_2TO3_TRIADS', 'INCOMING_2TO3_TRIADS')]\": 0,\n",
       " \"trans[('INCOMING_2TO3_TRIADS', 'DIRECTED_CYCLE_1TO3_TRIADS')]\": 0,\n",
       " \"trans[('INCOMING_2TO3_TRIADS', 'OUTGOING_RECIPROCAL_TRIADS')]\": 0,\n",
       " \"trans[('INCOMING_2TO3_TRIADS', 'INCOMING_RECIPROCAL_TRIADS')]\": 0,\n",
       " \"trans[('DIRECIPROCAL_TRIADS', 'DIRECIPROCAL_TRIADS')]\": 0,\n",
       " \"trans[('DIRECIPROCAL_TRIADS', 'DIRECIPROCAL_2TO3_TRIADS')]\": 0,\n",
       " \"trans[('DIRECTED_CYCLE_1TO3_TRIADS', 'DIRECTED_CYCLE_1TO3_TRIADS')]\": 0,\n",
       " \"trans[('DIRECTED_CYCLE_1TO3_TRIADS', 'DIRECIPROCAL_2TO3_TRIADS')]\": 1,\n",
       " \"trans[('OUTGOING_RECIPROCAL_TRIADS', 'OUTGOING_RECIPROCAL_TRIADS')]\": 0,\n",
       " \"trans[('OUTGOING_RECIPROCAL_TRIADS', 'DIRECIPROCAL_2TO3_TRIADS')]\": 0,\n",
       " \"trans[('INCOMING_RECIPROCAL_TRIADS', 'INCOMING_RECIPROCAL_TRIADS')]\": 0,\n",
       " \"trans[('INCOMING_RECIPROCAL_TRIADS', 'DIRECIPROCAL_2TO3_TRIADS')]\": 0,\n",
       " \"trans[('DIRECIPROCAL_2TO3_TRIADS', 'DIRECIPROCAL_2TO3_TRIADS')]\": 1,\n",
       " \"trans[('DIRECIPROCAL_2TO3_TRIADS', 'TRIRECIPROCAL_TRIADS')]\": 0,\n",
       " \"trans[('TRIRECIPROCAL_TRIADS', 'TRIRECIPROCAL_TRIADS')]\": 0}"
      ]
     },
     "execution_count": 18,
     "metadata": {},
     "output_type": "execute_result"
    }
   ],
   "source": [
    "random_feats['t1_c32bcq8']"
   ]
  },
  {
   "cell_type": "code",
   "execution_count": 19,
   "metadata": {},
   "outputs": [
    {
     "data": {
      "text/plain": [
       "dict"
      ]
     },
     "execution_count": 19,
     "metadata": {},
     "output_type": "execute_result"
    }
   ],
   "source": [
    "type(random_feats)"
   ]
  },
  {
   "cell_type": "markdown",
   "metadata": {},
   "source": [
    "original corpus:"
   ]
  },
  {
   "cell_type": "code",
   "execution_count": 20,
   "metadata": {
    "collapsed": true
   },
   "outputs": [],
   "source": [
    "# create a hyperconvo object and use it to extract features\n",
    "hc = convokit.HyperConvo(corpus)\n",
    "threads_feats = hc.fit_transform()"
   ]
  },
  {
   "cell_type": "code",
   "execution_count": 21,
   "metadata": {
    "collapsed": true
   },
   "outputs": [],
   "source": [
    "def clean_value(x):\n",
    "    if np.isinf(x) or np.isnan(x):\n",
    "        return -1\n",
    "    return x"
   ]
  },
  {
   "cell_type": "code",
   "execution_count": 22,
   "metadata": {
    "collapsed": true
   },
   "outputs": [],
   "source": [
    "feat_names = list(next(iter(threads_feats.values())).keys())"
   ]
  },
  {
   "cell_type": "code",
   "execution_count": 23,
   "metadata": {},
   "outputs": [
    {
     "data": {
      "text/plain": [
       "['count[NO_EDGE_TRIADS]',\n",
       " 'count[SINGLE_EDGE_TRIADS]',\n",
       " 'count[INCOMING_TRIADS]',\n",
       " 'count[OUTGOING_TRIADS]',\n",
       " 'count[DYADIC_TRIADS]',\n",
       " 'count[UNIDIRECTIONAL_TRIADS]',\n",
       " 'count[INCOMING_2TO3_TRIADS]',\n",
       " 'count[INCOMING_1TO3_TRIADS]',\n",
       " 'count[DIRECTED_CYCLE_TRIADS]',\n",
       " 'count[OUTGOING_3TO1_TRIADS]']"
      ]
     },
     "execution_count": 23,
     "metadata": {},
     "output_type": "execute_result"
    }
   ],
   "source": [
    "feat_names[:10]"
   ]
  },
  {
   "cell_type": "code",
   "execution_count": 24,
   "metadata": {
    "collapsed": true
   },
   "outputs": [],
   "source": [
    "random_thread_ids = []\n",
    "r_feats = []\n",
    "for key, feat_dict in random_feats.items():\n",
    "    random_thread_ids.append(key)\n",
    "    r_feats.append([clean_value(feat_dict[k]) for k in feat_names])"
   ]
  },
  {
   "cell_type": "code",
   "execution_count": 25,
   "metadata": {},
   "outputs": [
    {
     "data": {
      "text/plain": [
       "99145"
      ]
     },
     "execution_count": 25,
     "metadata": {},
     "output_type": "execute_result"
    }
   ],
   "source": [
    "len(r_feats)"
   ]
  },
  {
   "cell_type": "code",
   "execution_count": 26,
   "metadata": {
    "collapsed": true
   },
   "outputs": [],
   "source": [
    "thread_ids = []\n",
    "feats = []\n",
    "for key, feat_dict in threads_feats.items():\n",
    "    thread_ids.append(key)\n",
    "    feats.append([clean_value(feat_dict[k]) for k in feat_names])"
   ]
  },
  {
   "cell_type": "markdown",
   "metadata": {},
   "source": [
    "For later convenience we will store feature values in a dataframe:"
   ]
  },
  {
   "cell_type": "code",
   "execution_count": 27,
   "metadata": {
    "collapsed": true
   },
   "outputs": [],
   "source": [
    "random_feat_df = pd.DataFrame(data=r_feats, index=random_thread_ids, columns=feat_names)"
   ]
  },
  {
   "cell_type": "code",
   "execution_count": 28,
   "metadata": {
    "collapsed": true
   },
   "outputs": [],
   "source": [
    "feat_df = pd.DataFrame(data=feats, index=thread_ids, columns=feat_names)"
   ]
  },
  {
   "cell_type": "markdown",
   "metadata": {},
   "source": [
    "Here are some examples of features computed over the three example threads from before:"
   ]
  },
  {
   "cell_type": "code",
   "execution_count": 29,
   "metadata": {
    "collapsed": true
   },
   "outputs": [],
   "source": [
    "motif_count_feats = [x for x in feat_names if ('count' in x) and ('mid' not in x) and ('present' not in x)]\n",
    "prob_feats = [x for x in feat_names if ('trans' in x)]"
   ]
  },
  {
   "cell_type": "markdown",
   "metadata": {},
   "source": [
    "Let's get an aggregate statistic:"
   ]
  },
  {
   "cell_type": "code",
   "execution_count": 30,
   "metadata": {},
   "outputs": [
    {
     "name": "stdout",
     "output_type": "stream",
     "text": [
      "[deleted-t1_c0odlio]\n",
      "    geekologist\n",
      "        dlogan3344\n",
      "    _greg\n",
      "        [deleted-t1_c0odlio]\n",
      "    billmeyersriggs\n",
      "        [deleted-t1_c0odlio]\n",
      "            billmeyersriggs\n",
      "                [deleted-t1_c0odlio]\n",
      "    dlogan3344\n"
     ]
    }
   ],
   "source": [
    "display_thread(threads, 't1_c0odlio')"
   ]
  },
  {
   "cell_type": "markdown",
   "metadata": {},
   "source": [
    "# Deviations"
   ]
  },
  {
   "cell_type": "code",
   "execution_count": 52,
   "metadata": {},
   "outputs": [
    {
     "data": {
      "text/plain": [
       "count[NO_EDGE_TRIADS]           1.866852\n",
       "count[SINGLE_EDGE_TRIADS]      -1.903929\n",
       "count[INCOMING_TRIADS]          0.046921\n",
       "count[OUTGOING_TRIADS]         -0.624792\n",
       "count[DYADIC_TRIADS]            0.847526\n",
       "count[UNIDIRECTIONAL_TRIADS]   -1.000565\n",
       "count[INCOMING_2TO3_TRIADS]    -0.311150\n",
       "count[INCOMING_1TO3_TRIADS]     0.466963\n",
       "count[DIRECTED_CYCLE_TRIADS]   -0.006546\n",
       "count[OUTGOING_3TO1_TRIADS]     0.061738\n",
       "dtype: float64"
      ]
     },
     "execution_count": 52,
     "metadata": {},
     "output_type": "execute_result"
    }
   ],
   "source": [
    "overall_mean_diff = feat_df.mean() - random_feat_df.mean()\n",
    "overall_mean_diff[:10]"
   ]
  },
  {
   "cell_type": "code",
   "execution_count": 53,
   "metadata": {},
   "outputs": [
    {
     "data": {
      "text/plain": [
       "count[NO_EDGE_TRIADS]           0.130412\n",
       "count[SINGLE_EDGE_TRIADS]      -0.149408\n",
       "count[INCOMING_TRIADS]          0.017588\n",
       "count[OUTGOING_TRIADS]         -0.510938\n",
       "count[DYADIC_TRIADS]            0.657844\n",
       "count[UNIDIRECTIONAL_TRIADS]   -0.392988\n",
       "count[INCOMING_2TO3_TRIADS]    -0.404613\n",
       "count[INCOMING_1TO3_TRIADS]     0.298046\n",
       "count[DIRECTED_CYCLE_TRIADS]   -0.077132\n",
       "count[OUTGOING_3TO1_TRIADS]     0.080939\n",
       "dtype: float64"
      ]
     },
     "execution_count": 53,
     "metadata": {},
     "output_type": "execute_result"
    }
   ],
   "source": [
    "mean_deviation = overall_mean_diff / random_feat_df.std()\n",
    "mean_deviation[:10]"
   ]
  },
  {
   "cell_type": "code",
   "execution_count": 37,
   "metadata": {},
   "outputs": [
    {
     "data": {
      "text/plain": [
       "count[LATENT_OUTGOING_TRIADS]              -0.540036\n",
       "count[OUTGOING_TRIADS]                     -0.510938\n",
       "count[LATENT_INCOMING_2TO3_TRIADS]         -0.490490\n",
       "count[LATENT_DIRECTED_CYCLE_1TO3_TRIADS]   -0.439643\n",
       "count[INCOMING_2TO3_TRIADS]                -0.404613\n",
       "count[UNIDIRECTIONAL_TRIADS]               -0.392988\n",
       "count[LATENT_UNIDIRECTIONAL_TRIADS]        -0.382501\n",
       "count[DIRECTED_CYCLE_1TO3_TRIADS]          -0.367873\n",
       "count[LATENT_DIRECIPROCAL_2TO3_TRIADS]     -0.346667\n",
       "count[DIRECIPROCAL_2TO3_TRIADS]            -0.330094\n",
       "count[LATENT_INCOMING_RECIPROCAL_TRIADS]   -0.243870\n",
       "count[LATENT_OUTGOING_RECIPROCAL_TRIADS]   -0.235564\n",
       "count[INCOMING_RECIPROCAL_TRIADS]          -0.230173\n",
       "count[OUTGOING_RECIPROCAL_TRIADS]          -0.195603\n",
       "count[LATENT_DIRECTED_CYCLE_TRIADS]        -0.188403\n",
       "count[LATENT_SINGLE_EDGE_TRIADS]           -0.153322\n",
       "count[SINGLE_EDGE_TRIADS]                  -0.149408\n",
       "count[TRIRECIPROCAL_TRIADS]                -0.086083\n",
       "count[LATENT_TRIRECIPROCAL_TRIADS]         -0.086083\n",
       "count[DIRECTED_CYCLE_TRIADS]               -0.077132\n",
       "count[LATENT_NO_EDGE_TRIADS]               -0.022986\n",
       "count[INCOMING_TRIADS]                      0.017588\n",
       "count[LATENT_OUTGOING_3TO1_TRIADS]          0.019564\n",
       "count[LATENT_INCOMING_TRIADS]               0.020133\n",
       "count[OUTGOING_3TO1_TRIADS]                 0.080939\n",
       "count[NO_EDGE_TRIADS]                       0.130412\n",
       "count[LATENT_INCOMING_1TO3_TRIADS]          0.283862\n",
       "count[INCOMING_1TO3_TRIADS]                 0.298046\n",
       "count[LATENT_DIRECIPROCAL_TRIADS]           0.384366\n",
       "count[LATENT_DYADIC_TRIADS]                 0.428381\n",
       "count[DIRECIPROCAL_TRIADS]                  0.473228\n",
       "count[DYADIC_TRIADS]                        0.657844\n",
       "dtype: float64"
      ]
     },
     "execution_count": 37,
     "metadata": {},
     "output_type": "execute_result"
    }
   ],
   "source": [
    "mean_deviation[motif_count_feats].sort_values()"
   ]
  },
  {
   "cell_type": "markdown",
   "metadata": {},
   "source": [
    "- All the paths leading up to DIRECIPROCAL TRIADS, except for UNIDIRECTIONAL TRIADS, occur in the real dataset at rates better than chance. \n",
    "\n",
    "- All the triads with closure (and OUTGOING TRIADS) occur at rates less than chance."
   ]
  },
  {
   "cell_type": "markdown",
   "metadata": {},
   "source": [
    "In fact, if you think about it, UNIDIRECTIONAL and OUTGOING triads (the two types without closure) are still triads that represent an interaction 'beyond the dyadic relationship'.  And they both occur at rates less than chance."
   ]
  },
  {
   "cell_type": "markdown",
   "metadata": {},
   "source": [
    "This perhaps implies that triad motifs with closure are some kind of 'anti-phenomenon'. Are they still 'real' then?"
   ]
  },
  {
   "cell_type": "markdown",
   "metadata": {},
   "source": [
    "## Specific subreddits"
   ]
  },
  {
   "cell_type": "markdown",
   "metadata": {},
   "source": [
    "At the aggregate level, it might seem that triad motifs with closure simply do not happen. But perhaps at the level of specific subreddits, we would see a different trend unfold."
   ]
  },
  {
   "cell_type": "markdown",
   "metadata": {},
   "source": [
    "Let's group by subreddit then use cosine similarity to find the subreddit that is most unlike the aggregate means."
   ]
  },
  {
   "cell_type": "code",
   "execution_count": 75,
   "metadata": {
    "collapsed": true
   },
   "outputs": [],
   "source": [
    "motif_feat_df = feat_df[motif_count_feats]\n",
    "motif_feat_df_mean = motif_feat_df.mean()\n",
    "motif_feat_df_sd = motif_feat_df.std()"
   ]
  },
  {
   "cell_type": "markdown",
   "metadata": {
    "collapsed": true
   },
   "source": [
    "Getting subreddit labels:"
   ]
  },
  {
   "cell_type": "code",
   "execution_count": 39,
   "metadata": {
    "collapsed": true
   },
   "outputs": [],
   "source": [
    "def get_subreddit(threads, thread_id):\n",
    "    if thread_id not in threads:\n",
    "        return None\n",
    "    return threads[thread_id][thread_id].other[\"user-info\"][\"subreddit\"]\n",
    "\n",
    "subreddits = [get_subreddit(threads, thread_id) for thread_id in threads]\n",
    "# 99145 threads, from 100 subreddits. Roughly 1000 threads per subreddit"
   ]
  },
  {
   "cell_type": "code",
   "execution_count": 40,
   "metadata": {
    "collapsed": true
   },
   "outputs": [],
   "source": [
    "motif_feat_df['subreddit'] = subreddits"
   ]
  },
  {
   "cell_type": "code",
   "execution_count": 41,
   "metadata": {
    "collapsed": true
   },
   "outputs": [],
   "source": [
    "from sklearn.metrics.pairwise import cosine_similarity"
   ]
  },
  {
   "cell_type": "code",
   "execution_count": 42,
   "metadata": {
    "collapsed": true
   },
   "outputs": [],
   "source": [
    "subreddit_means = motif_feat_df.groupby('subreddit').mean()"
   ]
  },
  {
   "cell_type": "code",
   "execution_count": 43,
   "metadata": {},
   "outputs": [
    {
     "data": {
      "text/plain": [
       "(32,)"
      ]
     },
     "execution_count": 43,
     "metadata": {},
     "output_type": "execute_result"
    }
   ],
   "source": [
    "subreddit_means.loc['AdviceAnimals'].shape"
   ]
  },
  {
   "cell_type": "code",
   "execution_count": 44,
   "metadata": {
    "collapsed": true
   },
   "outputs": [],
   "source": [
    "import numpy as np"
   ]
  },
  {
   "cell_type": "code",
   "execution_count": 45,
   "metadata": {
    "collapsed": true
   },
   "outputs": [],
   "source": [
    "def cosine_sim(X, Y):\n",
    "    assert(len(X) == len(Y))\n",
    "    return np.array(X).dot(np.array(Y)) / (np.linalg.norm(X)*np.linalg.norm(Y))"
   ]
  },
  {
   "cell_type": "code",
   "execution_count": 89,
   "metadata": {},
   "outputs": [
    {
     "data": {
      "text/plain": [
       "[0.9987792749814556,\n",
       " 0.9998391335684169,\n",
       " 0.9942445255348041,\n",
       " 0.9928461839808349,\n",
       " 0.9913286616738011,\n",
       " 0.9962510131831028,\n",
       " 0.9993992071230523,\n",
       " 0.9918657641789929,\n",
       " 0.9773257537373765,\n",
       " 0.9997914800345411]"
      ]
     },
     "execution_count": 89,
     "metadata": {},
     "output_type": "execute_result"
    }
   ],
   "source": [
    "cosine_sims = []\n",
    "for subreddit_name in subreddit_means.index:\n",
    "    cosine_sims.append(cosine_sim(subreddit_means.loc[subreddit_name][:-1], motif_feat_df_mean))\n",
    "cosine_sims[:10]"
   ]
  },
  {
   "cell_type": "code",
   "execution_count": 90,
   "metadata": {
    "collapsed": true
   },
   "outputs": [],
   "source": [
    "subreddit_means['sim'] = cosine_sims"
   ]
  },
  {
   "cell_type": "markdown",
   "metadata": {},
   "source": [
    "Top 15 most dissimilar (compared to mean) subreddits:"
   ]
  },
  {
   "cell_type": "code",
   "execution_count": 92,
   "metadata": {},
   "outputs": [
    {
     "data": {
      "text/html": [
       "<div>\n",
       "<style scoped>\n",
       "    .dataframe tbody tr th:only-of-type {\n",
       "        vertical-align: middle;\n",
       "    }\n",
       "\n",
       "    .dataframe tbody tr th {\n",
       "        vertical-align: top;\n",
       "    }\n",
       "\n",
       "    .dataframe thead th {\n",
       "        text-align: right;\n",
       "    }\n",
       "</style>\n",
       "<table border=\"1\" class=\"dataframe\">\n",
       "  <thead>\n",
       "    <tr style=\"text-align: right;\">\n",
       "      <th></th>\n",
       "      <th>count[NO_EDGE_TRIADS]</th>\n",
       "      <th>count[SINGLE_EDGE_TRIADS]</th>\n",
       "      <th>count[INCOMING_TRIADS]</th>\n",
       "      <th>count[OUTGOING_TRIADS]</th>\n",
       "      <th>count[DYADIC_TRIADS]</th>\n",
       "      <th>count[UNIDIRECTIONAL_TRIADS]</th>\n",
       "      <th>count[INCOMING_2TO3_TRIADS]</th>\n",
       "      <th>count[INCOMING_1TO3_TRIADS]</th>\n",
       "      <th>count[DIRECTED_CYCLE_TRIADS]</th>\n",
       "      <th>count[OUTGOING_3TO1_TRIADS]</th>\n",
       "      <th>...</th>\n",
       "      <th>count[LATENT_INCOMING_1TO3_TRIADS]</th>\n",
       "      <th>count[LATENT_DIRECTED_CYCLE_TRIADS]</th>\n",
       "      <th>count[LATENT_OUTGOING_3TO1_TRIADS]</th>\n",
       "      <th>count[LATENT_INCOMING_RECIPROCAL_TRIADS]</th>\n",
       "      <th>count[LATENT_OUTGOING_RECIPROCAL_TRIADS]</th>\n",
       "      <th>count[LATENT_DIRECTED_CYCLE_1TO3_TRIADS]</th>\n",
       "      <th>count[LATENT_DIRECIPROCAL_TRIADS]</th>\n",
       "      <th>count[LATENT_DIRECIPROCAL_2TO3_TRIADS]</th>\n",
       "      <th>count[LATENT_TRIRECIPROCAL_TRIADS]</th>\n",
       "      <th>sim</th>\n",
       "    </tr>\n",
       "    <tr>\n",
       "      <th>subreddit</th>\n",
       "      <th></th>\n",
       "      <th></th>\n",
       "      <th></th>\n",
       "      <th></th>\n",
       "      <th></th>\n",
       "      <th></th>\n",
       "      <th></th>\n",
       "      <th></th>\n",
       "      <th></th>\n",
       "      <th></th>\n",
       "      <th></th>\n",
       "      <th></th>\n",
       "      <th></th>\n",
       "      <th></th>\n",
       "      <th></th>\n",
       "      <th></th>\n",
       "      <th></th>\n",
       "      <th></th>\n",
       "      <th></th>\n",
       "      <th></th>\n",
       "      <th></th>\n",
       "    </tr>\n",
       "  </thead>\n",
       "  <tbody>\n",
       "    <tr>\n",
       "      <th>Random_Acts_Of_Amazon</th>\n",
       "      <td>0.534000</td>\n",
       "      <td>0.21500</td>\n",
       "      <td>0.156000</td>\n",
       "      <td>0.026000</td>\n",
       "      <td>0.151000</td>\n",
       "      <td>0.029000</td>\n",
       "      <td>0.007000</td>\n",
       "      <td>0.39600</td>\n",
       "      <td>0.000</td>\n",
       "      <td>0.050000</td>\n",
       "      <td>...</td>\n",
       "      <td>0.972000</td>\n",
       "      <td>0.003000</td>\n",
       "      <td>0.08500</td>\n",
       "      <td>0.01400</td>\n",
       "      <td>0.040000</td>\n",
       "      <td>0.036000</td>\n",
       "      <td>0.560000</td>\n",
       "      <td>0.074000</td>\n",
       "      <td>0.019000</td>\n",
       "      <td>0.901357</td>\n",
       "    </tr>\n",
       "    <tr>\n",
       "      <th>pokemontrades</th>\n",
       "      <td>0.367000</td>\n",
       "      <td>0.09500</td>\n",
       "      <td>0.153000</td>\n",
       "      <td>0.010000</td>\n",
       "      <td>0.045000</td>\n",
       "      <td>0.015000</td>\n",
       "      <td>0.002000</td>\n",
       "      <td>0.18000</td>\n",
       "      <td>0.000</td>\n",
       "      <td>0.022000</td>\n",
       "      <td>...</td>\n",
       "      <td>0.329000</td>\n",
       "      <td>0.001000</td>\n",
       "      <td>0.03600</td>\n",
       "      <td>0.00900</td>\n",
       "      <td>0.006000</td>\n",
       "      <td>0.015000</td>\n",
       "      <td>0.144000</td>\n",
       "      <td>0.014000</td>\n",
       "      <td>0.002000</td>\n",
       "      <td>0.952305</td>\n",
       "    </tr>\n",
       "    <tr>\n",
       "      <th>MLPLounge</th>\n",
       "      <td>1.746000</td>\n",
       "      <td>1.33000</td>\n",
       "      <td>0.414000</td>\n",
       "      <td>0.052000</td>\n",
       "      <td>0.687000</td>\n",
       "      <td>0.215000</td>\n",
       "      <td>0.014000</td>\n",
       "      <td>0.97500</td>\n",
       "      <td>0.004</td>\n",
       "      <td>0.189000</td>\n",
       "      <td>...</td>\n",
       "      <td>1.735000</td>\n",
       "      <td>0.026000</td>\n",
       "      <td>0.26900</td>\n",
       "      <td>0.01900</td>\n",
       "      <td>0.049000</td>\n",
       "      <td>0.093000</td>\n",
       "      <td>0.754000</td>\n",
       "      <td>0.106000</td>\n",
       "      <td>0.017000</td>\n",
       "      <td>0.962696</td>\n",
       "    </tr>\n",
       "    <tr>\n",
       "      <th>friendsafari</th>\n",
       "      <td>9.835000</td>\n",
       "      <td>1.57200</td>\n",
       "      <td>3.697000</td>\n",
       "      <td>0.161000</td>\n",
       "      <td>0.502000</td>\n",
       "      <td>0.181000</td>\n",
       "      <td>0.071000</td>\n",
       "      <td>1.88700</td>\n",
       "      <td>0.000</td>\n",
       "      <td>0.096000</td>\n",
       "      <td>...</td>\n",
       "      <td>3.116000</td>\n",
       "      <td>0.003000</td>\n",
       "      <td>0.13700</td>\n",
       "      <td>0.02600</td>\n",
       "      <td>0.078000</td>\n",
       "      <td>0.045000</td>\n",
       "      <td>1.183000</td>\n",
       "      <td>0.085000</td>\n",
       "      <td>0.017000</td>\n",
       "      <td>0.965928</td>\n",
       "    </tr>\n",
       "    <tr>\n",
       "      <th>SteamGameSwap</th>\n",
       "      <td>2.932000</td>\n",
       "      <td>0.69100</td>\n",
       "      <td>1.125000</td>\n",
       "      <td>0.045000</td>\n",
       "      <td>0.381000</td>\n",
       "      <td>0.113000</td>\n",
       "      <td>0.021000</td>\n",
       "      <td>0.87700</td>\n",
       "      <td>0.000</td>\n",
       "      <td>0.154000</td>\n",
       "      <td>...</td>\n",
       "      <td>1.536000</td>\n",
       "      <td>0.011000</td>\n",
       "      <td>0.22200</td>\n",
       "      <td>0.02300</td>\n",
       "      <td>0.018000</td>\n",
       "      <td>0.054000</td>\n",
       "      <td>0.686000</td>\n",
       "      <td>0.066000</td>\n",
       "      <td>0.016000</td>\n",
       "      <td>0.971538</td>\n",
       "    </tr>\n",
       "    <tr>\n",
       "      <th>DebateReligion</th>\n",
       "      <td>3.402000</td>\n",
       "      <td>2.20900</td>\n",
       "      <td>0.731000</td>\n",
       "      <td>0.075000</td>\n",
       "      <td>0.997000</td>\n",
       "      <td>0.307000</td>\n",
       "      <td>0.018000</td>\n",
       "      <td>1.52500</td>\n",
       "      <td>0.000</td>\n",
       "      <td>0.260000</td>\n",
       "      <td>...</td>\n",
       "      <td>2.475000</td>\n",
       "      <td>0.004000</td>\n",
       "      <td>0.33400</td>\n",
       "      <td>0.01700</td>\n",
       "      <td>0.043000</td>\n",
       "      <td>0.046000</td>\n",
       "      <td>0.968000</td>\n",
       "      <td>0.062000</td>\n",
       "      <td>0.006000</td>\n",
       "      <td>0.977326</td>\n",
       "    </tr>\n",
       "    <tr>\n",
       "      <th>electronic_cigarette</th>\n",
       "      <td>3.179000</td>\n",
       "      <td>2.30400</td>\n",
       "      <td>0.693000</td>\n",
       "      <td>0.092000</td>\n",
       "      <td>1.113000</td>\n",
       "      <td>0.454000</td>\n",
       "      <td>0.024000</td>\n",
       "      <td>1.31200</td>\n",
       "      <td>0.000</td>\n",
       "      <td>0.359000</td>\n",
       "      <td>...</td>\n",
       "      <td>2.225000</td>\n",
       "      <td>0.024000</td>\n",
       "      <td>0.48500</td>\n",
       "      <td>0.03400</td>\n",
       "      <td>0.058000</td>\n",
       "      <td>0.140000</td>\n",
       "      <td>0.923000</td>\n",
       "      <td>0.127000</td>\n",
       "      <td>0.019000</td>\n",
       "      <td>0.978158</td>\n",
       "    </tr>\n",
       "    <tr>\n",
       "      <th>Dota2Trade</th>\n",
       "      <td>2.259000</td>\n",
       "      <td>1.93200</td>\n",
       "      <td>0.527000</td>\n",
       "      <td>0.098000</td>\n",
       "      <td>0.767000</td>\n",
       "      <td>0.390000</td>\n",
       "      <td>0.038000</td>\n",
       "      <td>0.96300</td>\n",
       "      <td>0.002</td>\n",
       "      <td>0.348000</td>\n",
       "      <td>...</td>\n",
       "      <td>1.618000</td>\n",
       "      <td>0.034000</td>\n",
       "      <td>0.47900</td>\n",
       "      <td>0.02800</td>\n",
       "      <td>0.044000</td>\n",
       "      <td>0.142000</td>\n",
       "      <td>0.673000</td>\n",
       "      <td>0.112000</td>\n",
       "      <td>0.012000</td>\n",
       "      <td>0.978175</td>\n",
       "    </tr>\n",
       "    <tr>\n",
       "      <th>POLITIC</th>\n",
       "      <td>2.413793</td>\n",
       "      <td>1.57931</td>\n",
       "      <td>0.558621</td>\n",
       "      <td>0.055172</td>\n",
       "      <td>0.572414</td>\n",
       "      <td>0.227586</td>\n",
       "      <td>0.006897</td>\n",
       "      <td>0.77931</td>\n",
       "      <td>0.000</td>\n",
       "      <td>0.275862</td>\n",
       "      <td>...</td>\n",
       "      <td>1.544828</td>\n",
       "      <td>0.006897</td>\n",
       "      <td>0.37931</td>\n",
       "      <td>0.02069</td>\n",
       "      <td>0.027586</td>\n",
       "      <td>0.075862</td>\n",
       "      <td>0.786207</td>\n",
       "      <td>0.048276</td>\n",
       "      <td>0.006897</td>\n",
       "      <td>0.982029</td>\n",
       "    </tr>\n",
       "    <tr>\n",
       "      <th>techsupport</th>\n",
       "      <td>2.337000</td>\n",
       "      <td>1.87900</td>\n",
       "      <td>0.501000</td>\n",
       "      <td>0.068000</td>\n",
       "      <td>0.697000</td>\n",
       "      <td>0.328000</td>\n",
       "      <td>0.020000</td>\n",
       "      <td>0.94800</td>\n",
       "      <td>0.000</td>\n",
       "      <td>0.261000</td>\n",
       "      <td>...</td>\n",
       "      <td>1.551000</td>\n",
       "      <td>0.020000</td>\n",
       "      <td>0.35900</td>\n",
       "      <td>0.02000</td>\n",
       "      <td>0.050000</td>\n",
       "      <td>0.097000</td>\n",
       "      <td>0.614000</td>\n",
       "      <td>0.088000</td>\n",
       "      <td>0.020000</td>\n",
       "      <td>0.982347</td>\n",
       "    </tr>\n",
       "    <tr>\n",
       "      <th>MensRights</th>\n",
       "      <td>3.447000</td>\n",
       "      <td>2.94000</td>\n",
       "      <td>1.073000</td>\n",
       "      <td>0.185000</td>\n",
       "      <td>1.057000</td>\n",
       "      <td>0.560000</td>\n",
       "      <td>0.080000</td>\n",
       "      <td>1.35800</td>\n",
       "      <td>0.001</td>\n",
       "      <td>0.406000</td>\n",
       "      <td>...</td>\n",
       "      <td>2.107000</td>\n",
       "      <td>0.028000</td>\n",
       "      <td>0.48800</td>\n",
       "      <td>0.04900</td>\n",
       "      <td>0.072000</td>\n",
       "      <td>0.095000</td>\n",
       "      <td>0.726000</td>\n",
       "      <td>0.106000</td>\n",
       "      <td>0.014000</td>\n",
       "      <td>0.985109</td>\n",
       "    </tr>\n",
       "    <tr>\n",
       "      <th>conspiracy</th>\n",
       "      <td>3.611000</td>\n",
       "      <td>3.10900</td>\n",
       "      <td>1.008000</td>\n",
       "      <td>0.146000</td>\n",
       "      <td>0.988000</td>\n",
       "      <td>0.577000</td>\n",
       "      <td>0.059000</td>\n",
       "      <td>1.32300</td>\n",
       "      <td>0.000</td>\n",
       "      <td>0.376000</td>\n",
       "      <td>...</td>\n",
       "      <td>2.072000</td>\n",
       "      <td>0.020000</td>\n",
       "      <td>0.46900</td>\n",
       "      <td>0.04600</td>\n",
       "      <td>0.071000</td>\n",
       "      <td>0.114000</td>\n",
       "      <td>0.721000</td>\n",
       "      <td>0.098000</td>\n",
       "      <td>0.014000</td>\n",
       "      <td>0.987664</td>\n",
       "    </tr>\n",
       "    <tr>\n",
       "      <th>tf2trade</th>\n",
       "      <td>3.287000</td>\n",
       "      <td>1.99000</td>\n",
       "      <td>0.921000</td>\n",
       "      <td>0.100000</td>\n",
       "      <td>0.809000</td>\n",
       "      <td>0.398000</td>\n",
       "      <td>0.030000</td>\n",
       "      <td>1.10200</td>\n",
       "      <td>0.001</td>\n",
       "      <td>0.295000</td>\n",
       "      <td>...</td>\n",
       "      <td>1.720000</td>\n",
       "      <td>0.024000</td>\n",
       "      <td>0.39200</td>\n",
       "      <td>0.01900</td>\n",
       "      <td>0.049000</td>\n",
       "      <td>0.107000</td>\n",
       "      <td>0.619000</td>\n",
       "      <td>0.088000</td>\n",
       "      <td>0.020000</td>\n",
       "      <td>0.987779</td>\n",
       "    </tr>\n",
       "    <tr>\n",
       "      <th>teenagers</th>\n",
       "      <td>3.860000</td>\n",
       "      <td>2.63400</td>\n",
       "      <td>1.023000</td>\n",
       "      <td>0.096000</td>\n",
       "      <td>0.947000</td>\n",
       "      <td>0.435000</td>\n",
       "      <td>0.047000</td>\n",
       "      <td>1.37900</td>\n",
       "      <td>0.000</td>\n",
       "      <td>0.267000</td>\n",
       "      <td>...</td>\n",
       "      <td>2.172000</td>\n",
       "      <td>0.017000</td>\n",
       "      <td>0.35900</td>\n",
       "      <td>0.02200</td>\n",
       "      <td>0.037000</td>\n",
       "      <td>0.072000</td>\n",
       "      <td>0.817000</td>\n",
       "      <td>0.080000</td>\n",
       "      <td>0.015000</td>\n",
       "      <td>0.987791</td>\n",
       "    </tr>\n",
       "    <tr>\n",
       "      <th>OkCupid</th>\n",
       "      <td>4.286000</td>\n",
       "      <td>3.26200</td>\n",
       "      <td>1.062000</td>\n",
       "      <td>0.100000</td>\n",
       "      <td>1.227000</td>\n",
       "      <td>0.589000</td>\n",
       "      <td>0.042000</td>\n",
       "      <td>1.49900</td>\n",
       "      <td>0.001</td>\n",
       "      <td>0.381000</td>\n",
       "      <td>...</td>\n",
       "      <td>2.330000</td>\n",
       "      <td>0.020000</td>\n",
       "      <td>0.50000</td>\n",
       "      <td>0.05700</td>\n",
       "      <td>0.046000</td>\n",
       "      <td>0.124000</td>\n",
       "      <td>0.835000</td>\n",
       "      <td>0.119000</td>\n",
       "      <td>0.015000</td>\n",
       "      <td>0.988298</td>\n",
       "    </tr>\n",
       "  </tbody>\n",
       "</table>\n",
       "<p>15 rows × 33 columns</p>\n",
       "</div>"
      ],
      "text/plain": [
       "                       count[NO_EDGE_TRIADS]  count[SINGLE_EDGE_TRIADS]  \\\n",
       "subreddit                                                                 \n",
       "Random_Acts_Of_Amazon               0.534000                    0.21500   \n",
       "pokemontrades                       0.367000                    0.09500   \n",
       "MLPLounge                           1.746000                    1.33000   \n",
       "friendsafari                        9.835000                    1.57200   \n",
       "SteamGameSwap                       2.932000                    0.69100   \n",
       "DebateReligion                      3.402000                    2.20900   \n",
       "electronic_cigarette                3.179000                    2.30400   \n",
       "Dota2Trade                          2.259000                    1.93200   \n",
       "POLITIC                             2.413793                    1.57931   \n",
       "techsupport                         2.337000                    1.87900   \n",
       "MensRights                          3.447000                    2.94000   \n",
       "conspiracy                          3.611000                    3.10900   \n",
       "tf2trade                            3.287000                    1.99000   \n",
       "teenagers                           3.860000                    2.63400   \n",
       "OkCupid                             4.286000                    3.26200   \n",
       "\n",
       "                       count[INCOMING_TRIADS]  count[OUTGOING_TRIADS]  \\\n",
       "subreddit                                                               \n",
       "Random_Acts_Of_Amazon                0.156000                0.026000   \n",
       "pokemontrades                        0.153000                0.010000   \n",
       "MLPLounge                            0.414000                0.052000   \n",
       "friendsafari                         3.697000                0.161000   \n",
       "SteamGameSwap                        1.125000                0.045000   \n",
       "DebateReligion                       0.731000                0.075000   \n",
       "electronic_cigarette                 0.693000                0.092000   \n",
       "Dota2Trade                           0.527000                0.098000   \n",
       "POLITIC                              0.558621                0.055172   \n",
       "techsupport                          0.501000                0.068000   \n",
       "MensRights                           1.073000                0.185000   \n",
       "conspiracy                           1.008000                0.146000   \n",
       "tf2trade                             0.921000                0.100000   \n",
       "teenagers                            1.023000                0.096000   \n",
       "OkCupid                              1.062000                0.100000   \n",
       "\n",
       "                       count[DYADIC_TRIADS]  count[UNIDIRECTIONAL_TRIADS]  \\\n",
       "subreddit                                                                   \n",
       "Random_Acts_Of_Amazon              0.151000                      0.029000   \n",
       "pokemontrades                      0.045000                      0.015000   \n",
       "MLPLounge                          0.687000                      0.215000   \n",
       "friendsafari                       0.502000                      0.181000   \n",
       "SteamGameSwap                      0.381000                      0.113000   \n",
       "DebateReligion                     0.997000                      0.307000   \n",
       "electronic_cigarette               1.113000                      0.454000   \n",
       "Dota2Trade                         0.767000                      0.390000   \n",
       "POLITIC                            0.572414                      0.227586   \n",
       "techsupport                        0.697000                      0.328000   \n",
       "MensRights                         1.057000                      0.560000   \n",
       "conspiracy                         0.988000                      0.577000   \n",
       "tf2trade                           0.809000                      0.398000   \n",
       "teenagers                          0.947000                      0.435000   \n",
       "OkCupid                            1.227000                      0.589000   \n",
       "\n",
       "                       count[INCOMING_2TO3_TRIADS]  \\\n",
       "subreddit                                            \n",
       "Random_Acts_Of_Amazon                     0.007000   \n",
       "pokemontrades                             0.002000   \n",
       "MLPLounge                                 0.014000   \n",
       "friendsafari                              0.071000   \n",
       "SteamGameSwap                             0.021000   \n",
       "DebateReligion                            0.018000   \n",
       "electronic_cigarette                      0.024000   \n",
       "Dota2Trade                                0.038000   \n",
       "POLITIC                                   0.006897   \n",
       "techsupport                               0.020000   \n",
       "MensRights                                0.080000   \n",
       "conspiracy                                0.059000   \n",
       "tf2trade                                  0.030000   \n",
       "teenagers                                 0.047000   \n",
       "OkCupid                                   0.042000   \n",
       "\n",
       "                       count[INCOMING_1TO3_TRIADS]  \\\n",
       "subreddit                                            \n",
       "Random_Acts_Of_Amazon                      0.39600   \n",
       "pokemontrades                              0.18000   \n",
       "MLPLounge                                  0.97500   \n",
       "friendsafari                               1.88700   \n",
       "SteamGameSwap                              0.87700   \n",
       "DebateReligion                             1.52500   \n",
       "electronic_cigarette                       1.31200   \n",
       "Dota2Trade                                 0.96300   \n",
       "POLITIC                                    0.77931   \n",
       "techsupport                                0.94800   \n",
       "MensRights                                 1.35800   \n",
       "conspiracy                                 1.32300   \n",
       "tf2trade                                   1.10200   \n",
       "teenagers                                  1.37900   \n",
       "OkCupid                                    1.49900   \n",
       "\n",
       "                       count[DIRECTED_CYCLE_TRIADS]  \\\n",
       "subreddit                                             \n",
       "Random_Acts_Of_Amazon                         0.000   \n",
       "pokemontrades                                 0.000   \n",
       "MLPLounge                                     0.004   \n",
       "friendsafari                                  0.000   \n",
       "SteamGameSwap                                 0.000   \n",
       "DebateReligion                                0.000   \n",
       "electronic_cigarette                          0.000   \n",
       "Dota2Trade                                    0.002   \n",
       "POLITIC                                       0.000   \n",
       "techsupport                                   0.000   \n",
       "MensRights                                    0.001   \n",
       "conspiracy                                    0.000   \n",
       "tf2trade                                      0.001   \n",
       "teenagers                                     0.000   \n",
       "OkCupid                                       0.001   \n",
       "\n",
       "                       count[OUTGOING_3TO1_TRIADS]  ...  \\\n",
       "subreddit                                           ...   \n",
       "Random_Acts_Of_Amazon                     0.050000  ...   \n",
       "pokemontrades                             0.022000  ...   \n",
       "MLPLounge                                 0.189000  ...   \n",
       "friendsafari                              0.096000  ...   \n",
       "SteamGameSwap                             0.154000  ...   \n",
       "DebateReligion                            0.260000  ...   \n",
       "electronic_cigarette                      0.359000  ...   \n",
       "Dota2Trade                                0.348000  ...   \n",
       "POLITIC                                   0.275862  ...   \n",
       "techsupport                               0.261000  ...   \n",
       "MensRights                                0.406000  ...   \n",
       "conspiracy                                0.376000  ...   \n",
       "tf2trade                                  0.295000  ...   \n",
       "teenagers                                 0.267000  ...   \n",
       "OkCupid                                   0.381000  ...   \n",
       "\n",
       "                       count[LATENT_INCOMING_1TO3_TRIADS]  \\\n",
       "subreddit                                                   \n",
       "Random_Acts_Of_Amazon                            0.972000   \n",
       "pokemontrades                                    0.329000   \n",
       "MLPLounge                                        1.735000   \n",
       "friendsafari                                     3.116000   \n",
       "SteamGameSwap                                    1.536000   \n",
       "DebateReligion                                   2.475000   \n",
       "electronic_cigarette                             2.225000   \n",
       "Dota2Trade                                       1.618000   \n",
       "POLITIC                                          1.544828   \n",
       "techsupport                                      1.551000   \n",
       "MensRights                                       2.107000   \n",
       "conspiracy                                       2.072000   \n",
       "tf2trade                                         1.720000   \n",
       "teenagers                                        2.172000   \n",
       "OkCupid                                          2.330000   \n",
       "\n",
       "                       count[LATENT_DIRECTED_CYCLE_TRIADS]  \\\n",
       "subreddit                                                    \n",
       "Random_Acts_Of_Amazon                             0.003000   \n",
       "pokemontrades                                     0.001000   \n",
       "MLPLounge                                         0.026000   \n",
       "friendsafari                                      0.003000   \n",
       "SteamGameSwap                                     0.011000   \n",
       "DebateReligion                                    0.004000   \n",
       "electronic_cigarette                              0.024000   \n",
       "Dota2Trade                                        0.034000   \n",
       "POLITIC                                           0.006897   \n",
       "techsupport                                       0.020000   \n",
       "MensRights                                        0.028000   \n",
       "conspiracy                                        0.020000   \n",
       "tf2trade                                          0.024000   \n",
       "teenagers                                         0.017000   \n",
       "OkCupid                                           0.020000   \n",
       "\n",
       "                       count[LATENT_OUTGOING_3TO1_TRIADS]  \\\n",
       "subreddit                                                   \n",
       "Random_Acts_Of_Amazon                             0.08500   \n",
       "pokemontrades                                     0.03600   \n",
       "MLPLounge                                         0.26900   \n",
       "friendsafari                                      0.13700   \n",
       "SteamGameSwap                                     0.22200   \n",
       "DebateReligion                                    0.33400   \n",
       "electronic_cigarette                              0.48500   \n",
       "Dota2Trade                                        0.47900   \n",
       "POLITIC                                           0.37931   \n",
       "techsupport                                       0.35900   \n",
       "MensRights                                        0.48800   \n",
       "conspiracy                                        0.46900   \n",
       "tf2trade                                          0.39200   \n",
       "teenagers                                         0.35900   \n",
       "OkCupid                                           0.50000   \n",
       "\n",
       "                       count[LATENT_INCOMING_RECIPROCAL_TRIADS]  \\\n",
       "subreddit                                                         \n",
       "Random_Acts_Of_Amazon                                   0.01400   \n",
       "pokemontrades                                           0.00900   \n",
       "MLPLounge                                               0.01900   \n",
       "friendsafari                                            0.02600   \n",
       "SteamGameSwap                                           0.02300   \n",
       "DebateReligion                                          0.01700   \n",
       "electronic_cigarette                                    0.03400   \n",
       "Dota2Trade                                              0.02800   \n",
       "POLITIC                                                 0.02069   \n",
       "techsupport                                             0.02000   \n",
       "MensRights                                              0.04900   \n",
       "conspiracy                                              0.04600   \n",
       "tf2trade                                                0.01900   \n",
       "teenagers                                               0.02200   \n",
       "OkCupid                                                 0.05700   \n",
       "\n",
       "                       count[LATENT_OUTGOING_RECIPROCAL_TRIADS]  \\\n",
       "subreddit                                                         \n",
       "Random_Acts_Of_Amazon                                  0.040000   \n",
       "pokemontrades                                          0.006000   \n",
       "MLPLounge                                              0.049000   \n",
       "friendsafari                                           0.078000   \n",
       "SteamGameSwap                                          0.018000   \n",
       "DebateReligion                                         0.043000   \n",
       "electronic_cigarette                                   0.058000   \n",
       "Dota2Trade                                             0.044000   \n",
       "POLITIC                                                0.027586   \n",
       "techsupport                                            0.050000   \n",
       "MensRights                                             0.072000   \n",
       "conspiracy                                             0.071000   \n",
       "tf2trade                                               0.049000   \n",
       "teenagers                                              0.037000   \n",
       "OkCupid                                                0.046000   \n",
       "\n",
       "                       count[LATENT_DIRECTED_CYCLE_1TO3_TRIADS]  \\\n",
       "subreddit                                                         \n",
       "Random_Acts_Of_Amazon                                  0.036000   \n",
       "pokemontrades                                          0.015000   \n",
       "MLPLounge                                              0.093000   \n",
       "friendsafari                                           0.045000   \n",
       "SteamGameSwap                                          0.054000   \n",
       "DebateReligion                                         0.046000   \n",
       "electronic_cigarette                                   0.140000   \n",
       "Dota2Trade                                             0.142000   \n",
       "POLITIC                                                0.075862   \n",
       "techsupport                                            0.097000   \n",
       "MensRights                                             0.095000   \n",
       "conspiracy                                             0.114000   \n",
       "tf2trade                                               0.107000   \n",
       "teenagers                                              0.072000   \n",
       "OkCupid                                                0.124000   \n",
       "\n",
       "                       count[LATENT_DIRECIPROCAL_TRIADS]  \\\n",
       "subreddit                                                  \n",
       "Random_Acts_Of_Amazon                           0.560000   \n",
       "pokemontrades                                   0.144000   \n",
       "MLPLounge                                       0.754000   \n",
       "friendsafari                                    1.183000   \n",
       "SteamGameSwap                                   0.686000   \n",
       "DebateReligion                                  0.968000   \n",
       "electronic_cigarette                            0.923000   \n",
       "Dota2Trade                                      0.673000   \n",
       "POLITIC                                         0.786207   \n",
       "techsupport                                     0.614000   \n",
       "MensRights                                      0.726000   \n",
       "conspiracy                                      0.721000   \n",
       "tf2trade                                        0.619000   \n",
       "teenagers                                       0.817000   \n",
       "OkCupid                                         0.835000   \n",
       "\n",
       "                       count[LATENT_DIRECIPROCAL_2TO3_TRIADS]  \\\n",
       "subreddit                                                       \n",
       "Random_Acts_Of_Amazon                                0.074000   \n",
       "pokemontrades                                        0.014000   \n",
       "MLPLounge                                            0.106000   \n",
       "friendsafari                                         0.085000   \n",
       "SteamGameSwap                                        0.066000   \n",
       "DebateReligion                                       0.062000   \n",
       "electronic_cigarette                                 0.127000   \n",
       "Dota2Trade                                           0.112000   \n",
       "POLITIC                                              0.048276   \n",
       "techsupport                                          0.088000   \n",
       "MensRights                                           0.106000   \n",
       "conspiracy                                           0.098000   \n",
       "tf2trade                                             0.088000   \n",
       "teenagers                                            0.080000   \n",
       "OkCupid                                              0.119000   \n",
       "\n",
       "                       count[LATENT_TRIRECIPROCAL_TRIADS]       sim  \n",
       "subreddit                                                            \n",
       "Random_Acts_Of_Amazon                            0.019000  0.901357  \n",
       "pokemontrades                                    0.002000  0.952305  \n",
       "MLPLounge                                        0.017000  0.962696  \n",
       "friendsafari                                     0.017000  0.965928  \n",
       "SteamGameSwap                                    0.016000  0.971538  \n",
       "DebateReligion                                   0.006000  0.977326  \n",
       "electronic_cigarette                             0.019000  0.978158  \n",
       "Dota2Trade                                       0.012000  0.978175  \n",
       "POLITIC                                          0.006897  0.982029  \n",
       "techsupport                                      0.020000  0.982347  \n",
       "MensRights                                       0.014000  0.985109  \n",
       "conspiracy                                       0.014000  0.987664  \n",
       "tf2trade                                         0.020000  0.987779  \n",
       "teenagers                                        0.015000  0.987791  \n",
       "OkCupid                                          0.015000  0.988298  \n",
       "\n",
       "[15 rows x 33 columns]"
      ]
     },
     "execution_count": 92,
     "metadata": {},
     "output_type": "execute_result"
    }
   ],
   "source": [
    "subreddit_means.sort_values(by='sim')[:15]"
   ]
  },
  {
   "cell_type": "markdown",
   "metadata": {},
   "source": [
    "Let's ignore subreddits based on exchanges / swaps in favour of those that are discussion-based.\n",
    "\n",
    "In the above list, this would be MLPLounge, DebateReligion, electronic_cigarette, POLITIC (smaller sample), MensRights, conspiracy, teenagers. We exclude POLITIC because it has a smaller sample size than the rest."
   ]
  },
  {
   "cell_type": "markdown",
   "metadata": {},
   "source": [
    "### MLPLounge"
   ]
  },
  {
   "cell_type": "code",
   "execution_count": 80,
   "metadata": {},
   "outputs": [
    {
     "data": {
      "text/plain": [
       "count[LATENT_SINGLE_EDGE_TRIADS]           -0.798222\n",
       "count[LATENT_NO_EDGE_TRIADS]               -0.726247\n",
       "count[LATENT_UNIDIRECTIONAL_TRIADS]        -0.700190\n",
       "count[SINGLE_EDGE_TRIADS]                  -0.628700\n",
       "count[NO_EDGE_TRIADS]                      -0.617084\n",
       "count[UNIDIRECTIONAL_TRIADS]               -0.588574\n",
       "count[LATENT_INCOMING_TRIADS]              -0.579787\n",
       "count[INCOMING_TRIADS]                     -0.528848\n",
       "count[DYADIC_TRIADS]                       -0.452157\n",
       "count[LATENT_DYADIC_TRIADS]                -0.438796\n",
       "count[INCOMING_1TO3_TRIADS]                -0.397341\n",
       "count[OUTGOING_3TO1_TRIADS]                -0.361446\n",
       "count[LATENT_OUTGOING_3TO1_TRIADS]         -0.338098\n",
       "count[LATENT_INCOMING_1TO3_TRIADS]         -0.285218\n",
       "count[OUTGOING_TRIADS]                     -0.266160\n",
       "count[LATENT_OUTGOING_TRIADS]              -0.241042\n",
       "count[INCOMING_2TO3_TRIADS]                -0.215259\n",
       "count[LATENT_INCOMING_2TO3_TRIADS]         -0.185364\n",
       "count[INCOMING_RECIPROCAL_TRIADS]          -0.094352\n",
       "count[LATENT_INCOMING_RECIPROCAL_TRIADS]   -0.065405\n",
       "count[DIRECTED_CYCLE_1TO3_TRIADS]          -0.018652\n",
       "count[OUTGOING_RECIPROCAL_TRIADS]          -0.013328\n",
       "count[LATENT_OUTGOING_RECIPROCAL_TRIADS]    0.021562\n",
       "count[LATENT_DIRECTED_CYCLE_1TO3_TRIADS]    0.038961\n",
       "count[LATENT_DIRECTED_CYCLE_TRIADS]         0.058786\n",
       "count[DIRECIPROCAL_TRIADS]                  0.082770\n",
       "count[TRIRECIPROCAL_TRIADS]                 0.098093\n",
       "count[LATENT_TRIRECIPROCAL_TRIADS]          0.098093\n",
       "count[LATENT_DIRECIPROCAL_TRIADS]           0.100547\n",
       "count[DIRECTED_CYCLE_TRIADS]                0.152676\n",
       "count[DIRECIPROCAL_2TO3_TRIADS]             0.154595\n",
       "count[LATENT_DIRECIPROCAL_2TO3_TRIADS]      0.180778\n",
       "sim                                              NaN\n",
       "dtype: float64"
      ]
     },
     "execution_count": 80,
     "metadata": {},
     "output_type": "execute_result"
    }
   ],
   "source": [
    "((subreddit_means.loc['MLPLounge'] - motif_feat_df_mean)/motif_feat_df_sd).sort_values()"
   ]
  },
  {
   "cell_type": "markdown",
   "metadata": {},
   "source": [
    "Interestingly, all the features that feature more commonly in MLPLounge are mainly the features involving triadic closure. (Direciprocal triads is an exception to this.) Though, some of the features involving triadic closure are fewer as well."
   ]
  },
  {
   "cell_type": "markdown",
   "metadata": {},
   "source": [
    "### DebateReligion"
   ]
  },
  {
   "cell_type": "code",
   "execution_count": 81,
   "metadata": {},
   "outputs": [
    {
     "data": {
      "text/plain": [
       "count[LATENT_SINGLE_EDGE_TRIADS]           -0.641983\n",
       "count[LATENT_UNIDIRECTIONAL_TRIADS]        -0.594834\n",
       "count[LATENT_NO_EDGE_TRIADS]               -0.591328\n",
       "count[SINGLE_EDGE_TRIADS]                  -0.549932\n",
       "count[UNIDIRECTIONAL_TRIADS]               -0.538704\n",
       "count[NO_EDGE_TRIADS]                      -0.510320\n",
       "count[LATENT_INCOMING_TRIADS]              -0.450072\n",
       "count[INCOMING_TRIADS]                     -0.449476\n",
       "count[DYADIC_TRIADS]                       -0.304201\n",
       "count[OUTGOING_3TO1_TRIADS]                -0.265185\n",
       "count[LATENT_OUTGOING_3TO1_TRIADS]         -0.255638\n",
       "count[OUTGOING_TRIADS]                     -0.221137\n",
       "count[LATENT_OUTGOING_TRIADS]              -0.217812\n",
       "count[INCOMING_2TO3_TRIADS]                -0.202154\n",
       "count[LATENT_INCOMING_2TO3_TRIADS]         -0.193007\n",
       "count[LATENT_DYADIC_TRIADS]                -0.174106\n",
       "count[DIRECTED_CYCLE_1TO3_TRIADS]          -0.130024\n",
       "count[LATENT_DIRECTED_CYCLE_1TO3_TRIADS]   -0.124823\n",
       "count[INCOMING_1TO3_TRIADS]                -0.104369\n",
       "count[LATENT_DIRECTED_CYCLE_TRIADS]        -0.104188\n",
       "count[INCOMING_RECIPROCAL_TRIADS]          -0.088042\n",
       "count[LATENT_INCOMING_RECIPROCAL_TRIADS]   -0.076869\n",
       "count[OUTGOING_RECIPROCAL_TRIADS]          -0.025320\n",
       "count[TRIRECIPROCAL_TRIADS]                -0.024105\n",
       "count[LATENT_TRIRECIPROCAL_TRIADS]         -0.024105\n",
       "count[DIRECTED_CYCLE_TRIADS]               -0.022026\n",
       "count[LATENT_OUTGOING_RECIPROCAL_TRIADS]   -0.006809\n",
       "count[LATENT_DIRECIPROCAL_2TO3_TRIADS]      0.000907\n",
       "count[DIRECIPROCAL_2TO3_TRIADS]             0.010447\n",
       "count[LATENT_INCOMING_1TO3_TRIADS]          0.045500\n",
       "count[LATENT_DIRECIPROCAL_TRIADS]           0.313827\n",
       "count[DIRECIPROCAL_TRIADS]                  0.313988\n",
       "sim                                              NaN\n",
       "dtype: float64"
      ]
     },
     "execution_count": 81,
     "metadata": {},
     "output_type": "execute_result"
    }
   ],
   "source": [
    "((subreddit_means.loc['DebateReligion'] - motif_feat_df_mean)/motif_feat_df_sd).sort_values()"
   ]
  },
  {
   "cell_type": "markdown",
   "metadata": {},
   "source": [
    "### electronic_cigarette"
   ]
  },
  {
   "cell_type": "code",
   "execution_count": 82,
   "metadata": {},
   "outputs": [
    {
     "data": {
      "text/plain": [
       "count[LATENT_SINGLE_EDGE_TRIADS]           -0.621810\n",
       "count[LATENT_NO_EDGE_TRIADS]               -0.588435\n",
       "count[SINGLE_EDGE_TRIADS]                  -0.541419\n",
       "count[NO_EDGE_TRIADS]                      -0.524697\n",
       "count[LATENT_INCOMING_TRIADS]              -0.474439\n",
       "count[UNIDIRECTIONAL_TRIADS]               -0.459020\n",
       "count[INCOMING_TRIADS]                     -0.458990\n",
       "count[LATENT_UNIDIRECTIONAL_TRIADS]        -0.455166\n",
       "count[DYADIC_TRIADS]                       -0.248836\n",
       "count[INCOMING_1TO3_TRIADS]                -0.217829\n",
       "count[OUTGOING_TRIADS]                     -0.187859\n",
       "count[INCOMING_2TO3_TRIADS]                -0.182496\n",
       "count[LATENT_DYADIC_TRIADS]                -0.174459\n",
       "count[LATENT_OUTGOING_TRIADS]              -0.165993\n",
       "count[OUTGOING_3TO1_TRIADS]                -0.130963\n",
       "count[LATENT_INCOMING_1TO3_TRIADS]         -0.066229\n",
       "count[LATENT_OUTGOING_3TO1_TRIADS]         -0.064076\n",
       "count[LATENT_INCOMING_2TO3_TRIADS]         -0.060522\n",
       "count[DIRECTED_CYCLE_TRIADS]               -0.022026\n",
       "count[INCOMING_RECIPROCAL_TRIADS]          -0.006015\n",
       "count[OUTGOING_RECIPROCAL_TRIADS]          -0.001336\n",
       "count[LATENT_INCOMING_RECIPROCAL_TRIADS]    0.020579\n",
       "count[LATENT_DIRECTED_CYCLE_TRIADS]         0.043970\n",
       "count[LATENT_OUTGOING_RECIPROCAL_TRIADS]    0.064119\n",
       "count[DIRECTED_CYCLE_1TO3_TRIADS]           0.084470\n",
       "count[TRIRECIPROCAL_TRIADS]                 0.120311\n",
       "count[LATENT_TRIRECIPROCAL_TRIADS]          0.120311\n",
       "count[LATENT_DIRECTED_CYCLE_1TO3_TRIADS]    0.202746\n",
       "count[DIRECIPROCAL_2TO3_TRIADS]             0.237590\n",
       "count[DIRECIPROCAL_TRIADS]                  0.260938\n",
       "count[LATENT_DIRECIPROCAL_2TO3_TRIADS]      0.266626\n",
       "count[LATENT_DIRECIPROCAL_TRIADS]           0.268979\n",
       "sim                                              NaN\n",
       "dtype: float64"
      ]
     },
     "execution_count": 82,
     "metadata": {},
     "output_type": "execute_result"
    }
   ],
   "source": [
    "((subreddit_means.loc['electronic_cigarette'] - motif_feat_df_mean)/motif_feat_df_sd).sort_values()"
   ]
  },
  {
   "cell_type": "markdown",
   "metadata": {},
   "source": [
    "### MensRights"
   ]
  },
  {
   "cell_type": "code",
   "execution_count": 83,
   "metadata": {},
   "outputs": [
    {
     "data": {
      "text/plain": [
       "count[LATENT_SINGLE_EDGE_TRIADS]           -0.550491\n",
       "count[LATENT_NO_EDGE_TRIADS]               -0.543074\n",
       "count[NO_EDGE_TRIADS]                      -0.507419\n",
       "count[SINGLE_EDGE_TRIADS]                  -0.484426\n",
       "count[UNIDIRECTIONAL_TRIADS]               -0.401562\n",
       "count[LATENT_UNIDIRECTIONAL_TRIADS]        -0.392823\n",
       "count[INCOMING_TRIADS]                     -0.363843\n",
       "count[LATENT_INCOMING_TRIADS]              -0.357862\n",
       "count[DYADIC_TRIADS]                       -0.275564\n",
       "count[LATENT_DYADIC_TRIADS]                -0.263633\n",
       "count[INCOMING_1TO3_TRIADS]                -0.193326\n",
       "count[LATENT_INCOMING_1TO3_TRIADS]         -0.118965\n",
       "count[OUTGOING_3TO1_TRIADS]                -0.067241\n",
       "count[LATENT_OUTGOING_3TO1_TRIADS]         -0.060270\n",
       "count[OUTGOING_TRIADS]                     -0.005808\n",
       "count[INCOMING_2TO3_TRIADS]                 0.000978\n",
       "count[LATENT_OUTGOING_TRIADS]               0.003761\n",
       "count[DIRECTED_CYCLE_TRIADS]                0.021649\n",
       "count[DIRECTED_CYCLE_1TO3_TRIADS]           0.030847\n",
       "count[OUTGOING_RECIPROCAL_TRIADS]           0.034641\n",
       "count[LATENT_DIRECTED_CYCLE_1TO3_TRIADS]    0.045931\n",
       "count[INCOMING_RECIPROCAL_TRIADS]           0.057082\n",
       "count[LATENT_INCOMING_2TO3_TRIADS]          0.061771\n",
       "count[LATENT_TRIRECIPROCAL_TRIADS]          0.064767\n",
       "count[TRIRECIPROCAL_TRIADS]                 0.064767\n",
       "count[DIRECIPROCAL_TRIADS]                  0.065754\n",
       "count[LATENT_DIRECIPROCAL_TRIADS]           0.072641\n",
       "count[LATENT_DIRECTED_CYCLE_TRIADS]         0.073602\n",
       "count[LATENT_INCOMING_RECIPROCAL_TRIADS]    0.106562\n",
       "count[LATENT_OUTGOING_RECIPROCAL_TRIADS]    0.130318\n",
       "count[DIRECIPROCAL_2TO3_TRIADS]             0.167700\n",
       "count[LATENT_DIRECIPROCAL_2TO3_TRIADS]      0.180778\n",
       "sim                                              NaN\n",
       "dtype: float64"
      ]
     },
     "execution_count": 83,
     "metadata": {},
     "output_type": "execute_result"
    }
   ],
   "source": [
    "((subreddit_means.loc['MensRights'] - motif_feat_df_mean)/motif_feat_df_sd).sort_values()"
   ]
  },
  {
   "cell_type": "markdown",
   "metadata": {},
   "source": [
    "### conspiracy"
   ]
  },
  {
   "cell_type": "code",
   "execution_count": 93,
   "metadata": {},
   "outputs": [
    {
     "data": {
      "text/plain": [
       "count[LATENT_SINGLE_EDGE_TRIADS]           -0.554655\n",
       "count[LATENT_NO_EDGE_TRIADS]               -0.539748\n",
       "count[NO_EDGE_TRIADS]                      -0.496846\n",
       "count[SINGLE_EDGE_TRIADS]                  -0.469282\n",
       "count[LATENT_UNIDIRECTIONAL_TRIADS]        -0.399106\n",
       "count[UNIDIRECTIONAL_TRIADS]               -0.392347\n",
       "count[LATENT_INCOMING_TRIADS]              -0.392262\n",
       "count[INCOMING_TRIADS]                     -0.380119\n",
       "count[DYADIC_TRIADS]                       -0.308496\n",
       "count[LATENT_DYADIC_TRIADS]                -0.283096\n",
       "count[INCOMING_1TO3_TRIADS]                -0.211970\n",
       "count[LATENT_INCOMING_1TO3_TRIADS]         -0.134607\n",
       "count[OUTGOING_3TO1_TRIADS]                -0.107914\n",
       "count[LATENT_OUTGOING_3TO1_TRIADS]         -0.084374\n",
       "count[OUTGOING_TRIADS]                     -0.082152\n",
       "count[INCOMING_2TO3_TRIADS]                -0.067825\n",
       "count[LATENT_OUTGOING_TRIADS]              -0.033764\n",
       "count[DIRECTED_CYCLE_TRIADS]               -0.022026\n",
       "count[LATENT_DIRECTED_CYCLE_TRIADS]         0.014338\n",
       "count[LATENT_INCOMING_2TO3_TRIADS]          0.023555\n",
       "count[OUTGOING_RECIPROCAL_TRIADS]           0.034641\n",
       "count[INCOMING_RECIPROCAL_TRIADS]           0.057082\n",
       "count[DIRECIPROCAL_TRIADS]                  0.064753\n",
       "count[TRIRECIPROCAL_TRIADS]                 0.064767\n",
       "count[LATENT_TRIRECIPROCAL_TRIADS]          0.064767\n",
       "count[LATENT_DIRECIPROCAL_TRIADS]           0.067658\n",
       "count[LATENT_INCOMING_RECIPROCAL_TRIADS]    0.089365\n",
       "count[DIRECTED_CYCLE_1TO3_TRIADS]           0.109220\n",
       "count[LATENT_DIRECTED_CYCLE_1TO3_TRIADS]    0.112141\n",
       "count[LATENT_OUTGOING_RECIPROCAL_TRIADS]    0.125590\n",
       "count[DIRECIPROCAL_2TO3_TRIADS]             0.132755\n",
       "count[LATENT_DIRECIPROCAL_2TO3_TRIADS]      0.148075\n",
       "sim                                              NaN\n",
       "dtype: float64"
      ]
     },
     "execution_count": 93,
     "metadata": {},
     "output_type": "execute_result"
    }
   ],
   "source": [
    "((subreddit_means.loc['conspiracy'] - motif_feat_df_mean)/motif_feat_df_sd).sort_values()"
   ]
  },
  {
   "cell_type": "markdown",
   "metadata": {},
   "source": [
    "### teenagers"
   ]
  },
  {
   "cell_type": "code",
   "execution_count": 95,
   "metadata": {},
   "outputs": [
    {
     "data": {
      "text/plain": [
       "count[LATENT_SINGLE_EDGE_TRIADS]           -0.604241\n",
       "count[LATENT_NO_EDGE_TRIADS]               -0.556809\n",
       "count[LATENT_UNIDIRECTIONAL_TRIADS]        -0.519443\n",
       "count[SINGLE_EDGE_TRIADS]                  -0.511847\n",
       "count[NO_EDGE_TRIADS]                      -0.480793\n",
       "count[UNIDIRECTIONAL_TRIADS]               -0.469320\n",
       "count[LATENT_INCOMING_TRIADS]              -0.389634\n",
       "count[INCOMING_TRIADS]                     -0.376363\n",
       "count[DYADIC_TRIADS]                       -0.328065\n",
       "count[LATENT_DYADIC_TRIADS]                -0.272834\n",
       "count[OUTGOING_3TO1_TRIADS]                -0.255695\n",
       "count[LATENT_OUTGOING_3TO1_TRIADS]         -0.223922\n",
       "count[INCOMING_1TO3_TRIADS]                -0.182140\n",
       "count[OUTGOING_TRIADS]                     -0.180029\n",
       "count[LATENT_OUTGOING_TRIADS]              -0.173140\n",
       "count[LATENT_INCOMING_2TO3_TRIADS]         -0.119122\n",
       "count[INCOMING_2TO3_TRIADS]                -0.107140\n",
       "count[LATENT_INCOMING_1TO3_TRIADS]         -0.089916\n",
       "count[DIRECTED_CYCLE_1TO3_TRIADS]          -0.072276\n",
       "count[LATENT_INCOMING_RECIPROCAL_TRIADS]   -0.048208\n",
       "count[INCOMING_RECIPROCAL_TRIADS]          -0.043874\n",
       "count[LATENT_OUTGOING_RECIPROCAL_TRIADS]   -0.035180\n",
       "count[LATENT_DIRECTED_CYCLE_1TO3_TRIADS]   -0.034219\n",
       "count[DIRECTED_CYCLE_TRIADS]               -0.022026\n",
       "count[OUTGOING_RECIPROCAL_TRIADS]          -0.013328\n",
       "count[LATENT_DIRECTED_CYCLE_TRIADS]        -0.007885\n",
       "count[DIRECIPROCAL_2TO3_TRIADS]             0.049760\n",
       "count[LATENT_DIRECIPROCAL_2TO3_TRIADS]      0.074491\n",
       "count[LATENT_TRIRECIPROCAL_TRIADS]          0.075876\n",
       "count[TRIRECIPROCAL_TRIADS]                 0.075876\n",
       "count[DIRECIPROCAL_TRIADS]                  0.146830\n",
       "count[LATENT_DIRECIPROCAL_TRIADS]           0.163335\n",
       "sim                                              NaN\n",
       "dtype: float64"
      ]
     },
     "execution_count": 95,
     "metadata": {},
     "output_type": "execute_result"
    }
   ],
   "source": [
    "((subreddit_means.loc['teenagers'] - motif_feat_df_mean)/motif_feat_df_sd).sort_values()"
   ]
  },
  {
   "cell_type": "markdown",
   "metadata": {},
   "source": [
    "These subreddits are all **similarly** different from the average subreddit. They all have:\n",
    "- Slightly higher inclusion of direciprocal, direciprocal_2to3, trireciprocal triads, suggesting high discussion engagement for particular users.\n",
    "- Much lower no_edge, single_edge triads, implying fewer drive-by commenters, i.e. these are not expansionary high-activity threads but threads for a small group of participants."
   ]
  },
  {
   "cell_type": "code",
   "execution_count": null,
   "metadata": {
    "collapsed": true
   },
   "outputs": [],
   "source": []
  },
  {
   "cell_type": "code",
   "execution_count": null,
   "metadata": {
    "collapsed": true
   },
   "outputs": [],
   "source": []
  },
  {
   "cell_type": "code",
   "execution_count": null,
   "metadata": {
    "collapsed": true
   },
   "outputs": [],
   "source": []
  },
  {
   "cell_type": "code",
   "execution_count": null,
   "metadata": {
    "collapsed": true
   },
   "outputs": [],
   "source": []
  },
  {
   "cell_type": "code",
   "execution_count": null,
   "metadata": {
    "collapsed": true
   },
   "outputs": [],
   "source": []
  },
  {
   "cell_type": "code",
   "execution_count": null,
   "metadata": {
    "collapsed": true
   },
   "outputs": [],
   "source": []
  },
  {
   "cell_type": "code",
   "execution_count": null,
   "metadata": {
    "collapsed": true
   },
   "outputs": [],
   "source": []
  },
  {
   "cell_type": "code",
   "execution_count": null,
   "metadata": {
    "collapsed": true
   },
   "outputs": [],
   "source": []
  },
  {
   "cell_type": "code",
   "execution_count": null,
   "metadata": {
    "collapsed": true
   },
   "outputs": [],
   "source": []
  },
  {
   "cell_type": "code",
   "execution_count": null,
   "metadata": {
    "collapsed": true
   },
   "outputs": [],
   "source": []
  },
  {
   "cell_type": "code",
   "execution_count": null,
   "metadata": {
    "collapsed": true
   },
   "outputs": [],
   "source": []
  },
  {
   "cell_type": "code",
   "execution_count": null,
   "metadata": {
    "collapsed": true
   },
   "outputs": [],
   "source": []
  },
  {
   "cell_type": "code",
   "execution_count": null,
   "metadata": {
    "collapsed": true
   },
   "outputs": [],
   "source": []
  },
  {
   "cell_type": "code",
   "execution_count": null,
   "metadata": {
    "collapsed": true
   },
   "outputs": [],
   "source": []
  },
  {
   "cell_type": "code",
   "execution_count": 59,
   "metadata": {
    "collapsed": true
   },
   "outputs": [],
   "source": [
    "tgts = [\"DebateReligion\", \"electronic_cigarette\", \"MensRights\", \"conspiracy\", \"teenagers\"]"
   ]
  },
  {
   "cell_type": "code",
   "execution_count": 64,
   "metadata": {},
   "outputs": [],
   "source": [
    "\n",
    "for tgt in tgts:\n",
    "    \n",
    "    a.append((subreddit_means.loc[tgt] - motif_feat_df_mean).sort_values())"
   ]
  },
  {
   "cell_type": "code",
   "execution_count": 65,
   "metadata": {},
   "outputs": [
    {
     "data": {
      "text/plain": [
       "[count[LATENT_NO_EDGE_TRIADS]               -17.781192\n",
       " count[LATENT_SINGLE_EDGE_TRIADS]            -9.865647\n",
       " count[NO_EDGE_TRIADS]                       -7.915545\n",
       " count[SINGLE_EDGE_TRIADS]                   -6.136867\n",
       " count[LATENT_INCOMING_TRIADS]               -1.884047\n",
       " count[INCOMING_TRIADS]                      -1.795128\n",
       " count[LATENT_UNIDIRECTIONAL_TRIADS]         -1.230825\n",
       " count[UNIDIRECTIONAL_TRIADS]                -0.993802\n",
       " count[DYADIC_TRIADS]                        -0.637364\n",
       " count[LATENT_DYADIC_TRIADS]                 -0.492012\n",
       " count[LATENT_OUTGOING_3TO1_TRIADS]          -0.201509\n",
       " count[INCOMING_1TO3_TRIADS]                 -0.195934\n",
       " count[OUTGOING_3TO1_TRIADS]                 -0.195595\n",
       " count[LATENT_OUTGOING_TRIADS]               -0.121895\n",
       " count[OUTGOING_TRIADS]                      -0.112967\n",
       " count[LATENT_INCOMING_2TO3_TRIADS]          -0.075755\n",
       " count[INCOMING_2TO3_TRIADS]                 -0.061701\n",
       " count[LATENT_DIRECTED_CYCLE_1TO3_TRIADS]    -0.035820\n",
       " count[DIRECTED_CYCLE_1TO3_TRIADS]           -0.031522\n",
       " count[LATENT_DIRECTED_CYCLE_TRIADS]         -0.014064\n",
       " count[INCOMING_RECIPROCAL_TRIADS]           -0.013953\n",
       " count[LATENT_INCOMING_RECIPROCAL_TRIADS]    -0.013410\n",
       " count[OUTGOING_RECIPROCAL_TRIADS]           -0.004223\n",
       " count[LATENT_TRIRECIPROCAL_TRIADS]          -0.002170\n",
       " count[TRIRECIPROCAL_TRIADS]                 -0.002170\n",
       " count[LATENT_OUTGOING_RECIPROCAL_TRIADS]    -0.001440\n",
       " count[DIRECTED_CYCLE_TRIADS]                -0.000504\n",
       " count[LATENT_DIRECIPROCAL_2TO3_TRIADS]       0.000222\n",
       " count[DIRECIPROCAL_2TO3_TRIADS]              0.002392\n",
       " count[LATENT_INCOMING_1TO3_TRIADS]           0.101809\n",
       " count[DIRECIPROCAL_TRIADS]                   0.313692\n",
       " count[LATENT_DIRECIPROCAL_TRIADS]            0.314886\n",
       " sim                                               NaN\n",
       " dtype: float64, count[LATENT_NO_EDGE_TRIADS]               -17.694192\n",
       " count[LATENT_SINGLE_EDGE_TRIADS]            -9.555647\n",
       " count[NO_EDGE_TRIADS]                       -8.138545\n",
       " count[SINGLE_EDGE_TRIADS]                   -6.041867\n",
       " count[LATENT_INCOMING_TRIADS]               -1.986047\n",
       " count[INCOMING_TRIADS]                      -1.833128\n",
       " count[LATENT_UNIDIRECTIONAL_TRIADS]         -0.941825\n",
       " count[UNIDIRECTIONAL_TRIADS]                -0.846802\n",
       " count[DYADIC_TRIADS]                        -0.521364\n",
       " count[LATENT_DYADIC_TRIADS]                 -0.493012\n",
       " count[INCOMING_1TO3_TRIADS]                 -0.408934\n",
       " count[LATENT_INCOMING_1TO3_TRIADS]          -0.148191\n",
       " count[OUTGOING_3TO1_TRIADS]                 -0.096595\n",
       " count[OUTGOING_TRIADS]                      -0.095967\n",
       " count[LATENT_OUTGOING_TRIADS]               -0.092895\n",
       " count[INCOMING_2TO3_TRIADS]                 -0.055701\n",
       " count[LATENT_OUTGOING_3TO1_TRIADS]          -0.050509\n",
       " count[LATENT_INCOMING_2TO3_TRIADS]          -0.023755\n",
       " count[INCOMING_RECIPROCAL_TRIADS]           -0.000953\n",
       " count[DIRECTED_CYCLE_TRIADS]                -0.000504\n",
       " count[OUTGOING_RECIPROCAL_TRIADS]           -0.000223\n",
       " count[LATENT_INCOMING_RECIPROCAL_TRIADS]     0.003590\n",
       " count[LATENT_DIRECTED_CYCLE_TRIADS]          0.005936\n",
       " count[TRIRECIPROCAL_TRIADS]                  0.010830\n",
       " count[LATENT_TRIRECIPROCAL_TRIADS]           0.010830\n",
       " count[LATENT_OUTGOING_RECIPROCAL_TRIADS]     0.013560\n",
       " count[DIRECTED_CYCLE_1TO3_TRIADS]            0.020478\n",
       " count[DIRECIPROCAL_2TO3_TRIADS]              0.054392\n",
       " count[LATENT_DIRECTED_CYCLE_1TO3_TRIADS]     0.058180\n",
       " count[LATENT_DIRECIPROCAL_2TO3_TRIADS]       0.065222\n",
       " count[DIRECIPROCAL_TRIADS]                   0.260692\n",
       " count[LATENT_DIRECIPROCAL_TRIADS]            0.269886\n",
       " sim                                               NaN\n",
       " dtype: float64, count[LATENT_NO_EDGE_TRIADS]               -16.330192\n",
       " count[LATENT_SINGLE_EDGE_TRIADS]            -8.459647\n",
       " count[NO_EDGE_TRIADS]                       -7.870545\n",
       " count[SINGLE_EDGE_TRIADS]                   -5.405867\n",
       " count[LATENT_INCOMING_TRIADS]               -1.498047\n",
       " count[INCOMING_TRIADS]                      -1.453128\n",
       " count[LATENT_UNIDIRECTIONAL_TRIADS]         -0.812825\n",
       " count[LATENT_DYADIC_TRIADS]                 -0.745012\n",
       " count[UNIDIRECTIONAL_TRIADS]                -0.740802\n",
       " count[DYADIC_TRIADS]                        -0.577364\n",
       " count[INCOMING_1TO3_TRIADS]                 -0.362934\n",
       " count[LATENT_INCOMING_1TO3_TRIADS]          -0.266191\n",
       " count[OUTGOING_3TO1_TRIADS]                 -0.049595\n",
       " count[LATENT_OUTGOING_3TO1_TRIADS]          -0.047509\n",
       " count[OUTGOING_TRIADS]                      -0.002967\n",
       " count[INCOMING_2TO3_TRIADS]                  0.000299\n",
       " count[DIRECTED_CYCLE_TRIADS]                 0.000496\n",
       " count[LATENT_OUTGOING_TRIADS]                0.002105\n",
       " count[OUTGOING_RECIPROCAL_TRIADS]            0.005777\n",
       " count[TRIRECIPROCAL_TRIADS]                  0.005830\n",
       " count[LATENT_TRIRECIPROCAL_TRIADS]           0.005830\n",
       " count[DIRECTED_CYCLE_1TO3_TRIADS]            0.007478\n",
       " count[INCOMING_RECIPROCAL_TRIADS]            0.009047\n",
       " count[LATENT_DIRECTED_CYCLE_TRIADS]          0.009936\n",
       " count[LATENT_DIRECTED_CYCLE_1TO3_TRIADS]     0.013180\n",
       " count[LATENT_INCOMING_RECIPROCAL_TRIADS]     0.018590\n",
       " count[LATENT_INCOMING_2TO3_TRIADS]           0.024245\n",
       " count[LATENT_OUTGOING_RECIPROCAL_TRIADS]     0.027560\n",
       " count[DIRECIPROCAL_2TO3_TRIADS]              0.038392\n",
       " count[LATENT_DIRECIPROCAL_2TO3_TRIADS]       0.044222\n",
       " count[DIRECIPROCAL_TRIADS]                   0.065692\n",
       " count[LATENT_DIRECIPROCAL_TRIADS]            0.072886\n",
       " sim                                               NaN\n",
       " dtype: float64, count[LATENT_NO_EDGE_TRIADS]               -16.230192\n",
       " count[LATENT_SINGLE_EDGE_TRIADS]            -8.523647\n",
       " count[NO_EDGE_TRIADS]                       -7.706545\n",
       " count[SINGLE_EDGE_TRIADS]                   -5.236867\n",
       " count[LATENT_INCOMING_TRIADS]               -1.642047\n",
       " count[INCOMING_TRIADS]                      -1.518128\n",
       " count[LATENT_UNIDIRECTIONAL_TRIADS]         -0.825825\n",
       " count[LATENT_DYADIC_TRIADS]                 -0.800012\n",
       " count[UNIDIRECTIONAL_TRIADS]                -0.723802\n",
       " count[DYADIC_TRIADS]                        -0.646364\n",
       " count[INCOMING_1TO3_TRIADS]                 -0.397934\n",
       " count[LATENT_INCOMING_1TO3_TRIADS]          -0.301191\n",
       " count[OUTGOING_3TO1_TRIADS]                 -0.079595\n",
       " count[LATENT_OUTGOING_3TO1_TRIADS]          -0.066509\n",
       " count[OUTGOING_TRIADS]                      -0.041967\n",
       " count[INCOMING_2TO3_TRIADS]                 -0.020701\n",
       " count[LATENT_OUTGOING_TRIADS]               -0.018895\n",
       " count[DIRECTED_CYCLE_TRIADS]                -0.000504\n",
       " count[LATENT_DIRECTED_CYCLE_TRIADS]          0.001936\n",
       " count[OUTGOING_RECIPROCAL_TRIADS]            0.005777\n",
       " count[LATENT_TRIRECIPROCAL_TRIADS]           0.005830\n",
       " count[TRIRECIPROCAL_TRIADS]                  0.005830\n",
       " count[INCOMING_RECIPROCAL_TRIADS]            0.009047\n",
       " count[LATENT_INCOMING_2TO3_TRIADS]           0.009245\n",
       " count[LATENT_INCOMING_RECIPROCAL_TRIADS]     0.015590\n",
       " count[DIRECTED_CYCLE_1TO3_TRIADS]            0.026478\n",
       " count[LATENT_OUTGOING_RECIPROCAL_TRIADS]     0.026560\n",
       " count[DIRECIPROCAL_2TO3_TRIADS]              0.030392\n",
       " count[LATENT_DIRECTED_CYCLE_1TO3_TRIADS]     0.032180\n",
       " count[LATENT_DIRECIPROCAL_2TO3_TRIADS]       0.036222\n",
       " count[DIRECIPROCAL_TRIADS]                   0.064692\n",
       " count[LATENT_DIRECIPROCAL_TRIADS]            0.067886\n",
       " sim                                               NaN\n",
       " dtype: float64, count[LATENT_NO_EDGE_TRIADS]               -16.743192\n",
       " count[LATENT_SINGLE_EDGE_TRIADS]            -9.285647\n",
       " count[NO_EDGE_TRIADS]                       -7.457545\n",
       " count[SINGLE_EDGE_TRIADS]                   -5.711867\n",
       " count[LATENT_INCOMING_TRIADS]               -1.631047\n",
       " count[INCOMING_TRIADS]                      -1.503128\n",
       " count[LATENT_UNIDIRECTIONAL_TRIADS]         -1.074825\n",
       " count[UNIDIRECTIONAL_TRIADS]                -0.865802\n",
       " count[LATENT_DYADIC_TRIADS]                 -0.771012\n",
       " count[DYADIC_TRIADS]                        -0.687364\n",
       " count[INCOMING_1TO3_TRIADS]                 -0.341934\n",
       " count[LATENT_INCOMING_1TO3_TRIADS]          -0.201191\n",
       " count[OUTGOING_3TO1_TRIADS]                 -0.188595\n",
       " count[LATENT_OUTGOING_3TO1_TRIADS]          -0.176509\n",
       " count[LATENT_OUTGOING_TRIADS]               -0.096895\n",
       " count[OUTGOING_TRIADS]                      -0.091967\n",
       " count[LATENT_INCOMING_2TO3_TRIADS]          -0.046755\n",
       " count[INCOMING_2TO3_TRIADS]                 -0.032701\n",
       " count[DIRECTED_CYCLE_1TO3_TRIADS]           -0.017522\n",
       " count[LATENT_DIRECTED_CYCLE_1TO3_TRIADS]    -0.009820\n",
       " count[LATENT_INCOMING_RECIPROCAL_TRIADS]    -0.008410\n",
       " count[LATENT_OUTGOING_RECIPROCAL_TRIADS]    -0.007440\n",
       " count[INCOMING_RECIPROCAL_TRIADS]           -0.006953\n",
       " count[OUTGOING_RECIPROCAL_TRIADS]           -0.002223\n",
       " count[LATENT_DIRECTED_CYCLE_TRIADS]         -0.001064\n",
       " count[DIRECTED_CYCLE_TRIADS]                -0.000504\n",
       " count[TRIRECIPROCAL_TRIADS]                  0.006830\n",
       " count[LATENT_TRIRECIPROCAL_TRIADS]           0.006830\n",
       " count[DIRECIPROCAL_2TO3_TRIADS]              0.011392\n",
       " count[LATENT_DIRECIPROCAL_2TO3_TRIADS]       0.018222\n",
       " count[DIRECIPROCAL_TRIADS]                   0.146692\n",
       " count[LATENT_DIRECIPROCAL_TRIADS]            0.163886\n",
       " sim                                               NaN\n",
       " dtype: float64]"
      ]
     },
     "execution_count": 65,
     "metadata": {},
     "output_type": "execute_result"
    }
   ],
   "source": [
    "a"
   ]
  },
  {
   "cell_type": "code",
   "execution_count": null,
   "metadata": {},
   "outputs": [],
   "source": [
    "subreddit_means.index"
   ]
  },
  {
   "cell_type": "code",
   "execution_count": null,
   "metadata": {
    "collapsed": true
   },
   "outputs": [],
   "source": [
    "random_feat_df['subreddit'] = subreddits\n",
    "feat_df['subreddit'] = subreddits"
   ]
  },
  {
   "cell_type": "code",
   "execution_count": null,
   "metadata": {
    "collapsed": true
   },
   "outputs": [],
   "source": [
    "motif_prob_feats = motif_count_feats + prob_feats"
   ]
  },
  {
   "cell_type": "code",
   "execution_count": null,
   "metadata": {
    "collapsed": true
   },
   "outputs": [],
   "source": [
    "random_subreddit_means = random_feat_df.groupby('subreddit').mean()\n"
   ]
  },
  {
   "cell_type": "code",
   "execution_count": null,
   "metadata": {
    "collapsed": true
   },
   "outputs": [],
   "source": [
    "#random_subreddit_means[motif_prob_feats].to_csv(\"subreddits_x_motifs_random.csv\")"
   ]
  },
  {
   "cell_type": "code",
   "execution_count": null,
   "metadata": {
    "collapsed": true
   },
   "outputs": [],
   "source": [
    "#random_subreddit_means[motif_prob_feats].T.to_csv(\"motifs_x_subreddits_random.csv\")"
   ]
  },
  {
   "cell_type": "code",
   "execution_count": null,
   "metadata": {
    "collapsed": true
   },
   "outputs": [],
   "source": [
    "random_subreddit_sd = random_feat_df.groupby('subreddit').std()"
   ]
  },
  {
   "cell_type": "code",
   "execution_count": null,
   "metadata": {
    "collapsed": true
   },
   "outputs": [],
   "source": [
    "random_subreddit_sd.loc['AdviceAnimals'][motif_count_feats]"
   ]
  },
  {
   "cell_type": "code",
   "execution_count": null,
   "metadata": {
    "collapsed": true
   },
   "outputs": [],
   "source": [
    "random_subreddit_sd[motif_count_feats].T.sort_index()"
   ]
  },
  {
   "cell_type": "code",
   "execution_count": null,
   "metadata": {
    "collapsed": true
   },
   "outputs": [],
   "source": [
    "random_subreddit_sd[prob_feats].T.sort_index()"
   ]
  },
  {
   "cell_type": "markdown",
   "metadata": {},
   "source": [
    "Let's examine how the empirical values deviate from the random thread statistics:"
   ]
  },
  {
   "cell_type": "code",
   "execution_count": null,
   "metadata": {
    "collapsed": true
   },
   "outputs": [],
   "source": [
    "def get_deviations(threads, thread_id, feats):\n",
    "    \"\"\"\n",
    "    Returns a pandas series of % SD deviations\n",
    "    \"\"\"\n",
    "    subreddit = get_subreddit(threads, thread_id)\n",
    "    feat_stats = feat_df.loc[thread_id][feats]\n",
    "    \n",
    "    random_means = random_subreddit_means.loc[subreddit][feats]\n",
    "    random_sds = random_subreddit_sd.loc[subreddit][feats]\n",
    "    deviations = (feat_stats - random_means) / random_sds\n",
    "    return deviations"
   ]
  },
  {
   "cell_type": "markdown",
   "metadata": {},
   "source": [
    "As an example:"
   ]
  },
  {
   "cell_type": "code",
   "execution_count": null,
   "metadata": {
    "collapsed": true
   },
   "outputs": [],
   "source": [
    "get_deviations(threads, 't1_c32bcq8', motif_prob_feats)"
   ]
  },
  {
   "cell_type": "markdown",
   "metadata": {},
   "source": [
    "With this, let's create a dataframe where each thread is represented as a series of deviations / non-deviations. We can then group by subreddit and see which subreddit has the greatest percentage of deviations for various feats."
   ]
  },
  {
   "cell_type": "code",
   "execution_count": null,
   "metadata": {
    "collapsed": true
   },
   "outputs": [],
   "source": [
    "deviation_df = pd.DataFrame(dtype=float)"
   ]
  },
  {
   "cell_type": "code",
   "execution_count": null,
   "metadata": {
    "collapsed": true
   },
   "outputs": [],
   "source": [
    "for thread in threads:\n",
    "    deviation_df[thread] = get_deviations(threads, thread, motif_prob_feats)"
   ]
  },
  {
   "cell_type": "code",
   "execution_count": null,
   "metadata": {
    "collapsed": true
   },
   "outputs": [],
   "source": [
    "deviation_df.dtypes"
   ]
  },
  {
   "cell_type": "code",
   "execution_count": null,
   "metadata": {
    "collapsed": true
   },
   "outputs": [],
   "source": [
    "deviation_df"
   ]
  },
  {
   "cell_type": "code",
   "execution_count": null,
   "metadata": {
    "collapsed": true
   },
   "outputs": [],
   "source": [
    "deviation_df_T = deviation_df.T"
   ]
  },
  {
   "cell_type": "code",
   "execution_count": null,
   "metadata": {
    "collapsed": true
   },
   "outputs": [],
   "source": [
    "for k in deviation_df_T:\n",
    "    deviation_df_T[k] = pd.to_numeric(deviation_df_T[k])"
   ]
  },
  {
   "cell_type": "code",
   "execution_count": null,
   "metadata": {
    "collapsed": true
   },
   "outputs": [],
   "source": [
    "deviation_df_T['subreddit'] = subreddits"
   ]
  },
  {
   "cell_type": "code",
   "execution_count": null,
   "metadata": {
    "collapsed": true
   },
   "outputs": [],
   "source": [
    "dev_means = deviation_df_T.groupby('subreddit').mean()"
   ]
  },
  {
   "cell_type": "code",
   "execution_count": null,
   "metadata": {
    "collapsed": true
   },
   "outputs": [],
   "source": [
    "#dev_means.to_csv(\"deviation_means.csv\")"
   ]
  },
  {
   "cell_type": "code",
   "execution_count": null,
   "metadata": {
    "collapsed": true
   },
   "outputs": [],
   "source": [
    "#random_feat_df.mean(axis=0).to_csv(\"total_avg_feats.csv\")"
   ]
  },
  {
   "cell_type": "code",
   "execution_count": null,
   "metadata": {
    "collapsed": true
   },
   "outputs": [],
   "source": []
  }
 ],
 "metadata": {
  "kernelspec": {
   "display_name": "hyperconvo-venv",
   "language": "python",
   "name": "hyperconvo-venv"
  },
  "language_info": {
   "codemirror_mode": {
    "name": "ipython",
    "version": 3
   },
   "file_extension": ".py",
   "mimetype": "text/x-python",
   "name": "python",
   "nbconvert_exporter": "python",
   "pygments_lexer": "ipython3",
   "version": "3.7.2"
  }
 },
 "nbformat": 4,
 "nbformat_minor": 2
}
