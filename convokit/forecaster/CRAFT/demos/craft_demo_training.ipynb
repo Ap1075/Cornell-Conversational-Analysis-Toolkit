{
 "cells": [
  {
   "cell_type": "code",
   "execution_count": 1,
   "metadata": {},
   "outputs": [],
   "source": [
    "import os\n",
    "os.chdir('../../../..')"
   ]
  },
  {
   "cell_type": "code",
   "execution_count": 2,
   "metadata": {},
   "outputs": [
    {
     "name": "stderr",
     "output_type": "stream",
     "text": [
      "/Library/Frameworks/Python.framework/Versions/3.7/lib/python3.7/site-packages/sklearn/externals/joblib/__init__.py:15: DeprecationWarning: sklearn.externals.joblib is deprecated in 0.21 and will be removed in 0.23. Please import this functionality directly from joblib, which can be installed with: pip install joblib. If this warning is raised when loading pickled models, you may need to re-serialize those models with scikit-learn 0.21+.\n",
      "  warnings.warn(msg, category=DeprecationWarning)\n"
     ]
    }
   ],
   "source": [
    "import convokit"
   ]
  },
  {
   "cell_type": "code",
   "execution_count": 3,
   "metadata": {},
   "outputs": [],
   "source": [
    "from convokit import Forecaster, Corpus, download"
   ]
  },
  {
   "cell_type": "code",
   "execution_count": 4,
   "metadata": {},
   "outputs": [],
   "source": [
    "MAX_LENGTH = 80"
   ]
  },
  {
   "cell_type": "code",
   "execution_count": 5,
   "metadata": {},
   "outputs": [
    {
     "name": "stdout",
     "output_type": "stream",
     "text": [
      "Initializing CRAFT model with options:\n",
      "{'validation_size': 0.2, 'train_epochs': 5, 'hidden_size': 500, 'encoder_n_layers': 2, 'context_encoder_n_layers': 2, 'decoder_n_layers': 2, 'dropout': 0.1, 'batch_size': 64, 'clip': 50.0, 'learning_rate': 1e-05, 'print_every': 10, 'max_length': 80, 'trained_model_output_filepath': 'finetuned_model.tar'}\n",
      "Loading saved parameters...\n",
      "Building encoders, decoder, and classifier...\n",
      "Models built and ready to go!\n"
     ]
    }
   ],
   "source": [
    "craft_model = convokit.CRAFTModel(device_type=\"cpu\", options={'validation_size': 0.2,\n",
    "                                                              'train_epochs': 5\n",
    "                                                             })"
   ]
  },
  {
   "cell_type": "code",
   "execution_count": 6,
   "metadata": {},
   "outputs": [],
   "source": [
    "forecaster = Forecaster(forecaster_model = craft_model,\n",
    "                        forecast_mode = 'past',\n",
    "                        convo_structure=\"linear\",\n",
    "                        text_func = lambda utt: utt.meta[\"tokens\"][:(MAX_LENGTH-1)],\n",
    "                        utt_selector_func = lambda utt: not utt.meta[\"is_section_header\"],\n",
    "                        label_func = lambda utt: int(utt.meta['comment_has_personal_attack']),\n",
    "                        convo_selector_func = (lambda convo: convo.meta[\"split\"] == \"train\"),\n",
    "                        forecast_feat_name=\"prediction\", forecast_prob_feat_name=\"pred_score\",\n",
    "                        use_last_only = True,\n",
    "                        skip_broken_convos=False\n",
    "                       )"
   ]
  },
  {
   "cell_type": "code",
   "execution_count": 7,
   "metadata": {},
   "outputs": [
    {
     "name": "stdout",
     "output_type": "stream",
     "text": [
      "Dataset already exists at /Users/calebchiam/.convokit/downloads/conversations-gone-awry-corpus\n"
     ]
    }
   ],
   "source": [
    "corpus = Corpus(filename=download(\"conversations-gone-awry-corpus\"))"
   ]
  },
  {
   "cell_type": "code",
   "execution_count": 8,
   "metadata": {},
   "outputs": [],
   "source": [
    "from convokit import craft_tokenize"
   ]
  },
  {
   "cell_type": "code",
   "execution_count": 9,
   "metadata": {},
   "outputs": [],
   "source": [
    "for utt in corpus.iter_utterances():\n",
    "    utt.add_meta(\"tokens\", craft_tokenize(craft_model.voc, utt.text))"
   ]
  },
  {
   "cell_type": "code",
   "execution_count": 10,
   "metadata": {},
   "outputs": [
    {
     "name": "stdout",
     "output_type": "stream",
     "text": [
      "Building optimizers...\n",
      "Starting Training!\n",
      "Will train for 155 iterations\n",
      "Initializing ...\n",
      "Training...\n",
      "Iteration: 10; Percent complete: 6.5%; Average loss: 0.3469\n",
      "Iteration: 20; Percent complete: 12.9%; Average loss: 0.3774\n",
      "Iteration: 30; Percent complete: 19.4%; Average loss: 0.3882\n",
      "Validating!\n",
      "Iteration: 1; Percent complete: 12.5%\n",
      "Iteration: 2; Percent complete: 25.0%\n",
      "Iteration: 3; Percent complete: 37.5%\n",
      "Iteration: 4; Percent complete: 50.0%\n",
      "Iteration: 5; Percent complete: 62.5%\n",
      "Iteration: 6; Percent complete: 75.0%\n",
      "Iteration: 7; Percent complete: 87.5%\n",
      "Iteration: 8; Percent complete: 100.0%\n",
      "Validation set accuracy: 85.26%\n",
      "Validation accuracy better than current best; saving model...\n",
      "Iteration: 40; Percent complete: 25.8%; Average loss: 0.3509\n",
      "Iteration: 50; Percent complete: 32.3%; Average loss: 0.3376\n",
      "Iteration: 60; Percent complete: 38.7%; Average loss: 0.3410\n",
      "Validating!\n",
      "Iteration: 1; Percent complete: 12.5%\n",
      "Iteration: 2; Percent complete: 25.0%\n",
      "Iteration: 3; Percent complete: 37.5%\n",
      "Iteration: 4; Percent complete: 50.0%\n",
      "Iteration: 5; Percent complete: 62.5%\n",
      "Iteration: 6; Percent complete: 75.0%\n",
      "Iteration: 7; Percent complete: 87.5%\n",
      "Iteration: 8; Percent complete: 100.0%\n",
      "Validation set accuracy: 86.06%\n",
      "Validation accuracy better than current best; saving model...\n",
      "Iteration: 70; Percent complete: 45.2%; Average loss: 0.3394\n",
      "Iteration: 80; Percent complete: 51.6%; Average loss: 0.3565\n",
      "Iteration: 90; Percent complete: 58.1%; Average loss: 0.2991\n",
      "Validating!\n",
      "Iteration: 1; Percent complete: 12.5%\n",
      "Iteration: 2; Percent complete: 25.0%\n",
      "Iteration: 3; Percent complete: 37.5%\n",
      "Iteration: 4; Percent complete: 50.0%\n",
      "Iteration: 5; Percent complete: 62.5%\n",
      "Iteration: 6; Percent complete: 75.0%\n",
      "Iteration: 7; Percent complete: 87.5%\n",
      "Iteration: 8; Percent complete: 100.0%\n",
      "Validation set accuracy: 85.86%\n",
      "Iteration: 100; Percent complete: 64.5%; Average loss: 0.2948\n",
      "Iteration: 110; Percent complete: 71.0%; Average loss: 0.3025\n",
      "Iteration: 120; Percent complete: 77.4%; Average loss: 0.2871\n",
      "Validating!\n",
      "Iteration: 1; Percent complete: 12.5%\n",
      "Iteration: 2; Percent complete: 25.0%\n",
      "Iteration: 3; Percent complete: 37.5%\n",
      "Iteration: 4; Percent complete: 50.0%\n",
      "Iteration: 5; Percent complete: 62.5%\n",
      "Iteration: 6; Percent complete: 75.0%\n",
      "Iteration: 7; Percent complete: 87.5%\n",
      "Iteration: 8; Percent complete: 100.0%\n",
      "Validation set accuracy: 85.66%\n",
      "Iteration: 130; Percent complete: 83.9%; Average loss: 0.3316\n",
      "Iteration: 140; Percent complete: 90.3%; Average loss: 0.2998\n",
      "Iteration: 150; Percent complete: 96.8%; Average loss: 0.2863\n",
      "Validating!\n",
      "Iteration: 1; Percent complete: 12.5%\n",
      "Iteration: 2; Percent complete: 25.0%\n",
      "Iteration: 3; Percent complete: 37.5%\n",
      "Iteration: 4; Percent complete: 50.0%\n",
      "Iteration: 5; Percent complete: 62.5%\n",
      "Iteration: 6; Percent complete: 75.0%\n",
      "Iteration: 7; Percent complete: 87.5%\n",
      "Iteration: 8; Percent complete: 100.0%\n",
      "Validation set accuracy: 85.46%\n"
     ]
    }
   ],
   "source": [
    "forecaster.fit(corpus)"
   ]
  },
  {
   "cell_type": "code",
   "execution_count": 11,
   "metadata": {},
   "outputs": [],
   "source": [
    "forecaster.forecast_mode = \"past\""
   ]
  },
  {
   "cell_type": "code",
   "execution_count": 12,
   "metadata": {},
   "outputs": [
    {
     "name": "stdout",
     "output_type": "stream",
     "text": [
      "Iteration: 1; Percent complete: 2.5%\n",
      "Iteration: 2; Percent complete: 5.0%\n",
      "Iteration: 3; Percent complete: 7.5%\n",
      "Iteration: 4; Percent complete: 10.0%\n",
      "Iteration: 5; Percent complete: 12.5%\n",
      "Iteration: 6; Percent complete: 15.0%\n",
      "Iteration: 7; Percent complete: 17.5%\n",
      "Iteration: 8; Percent complete: 20.0%\n",
      "Iteration: 9; Percent complete: 22.5%\n",
      "Iteration: 10; Percent complete: 25.0%\n",
      "Iteration: 11; Percent complete: 27.5%\n",
      "Iteration: 12; Percent complete: 30.0%\n",
      "Iteration: 13; Percent complete: 32.5%\n",
      "Iteration: 14; Percent complete: 35.0%\n",
      "Iteration: 15; Percent complete: 37.5%\n",
      "Iteration: 16; Percent complete: 40.0%\n",
      "Iteration: 17; Percent complete: 42.5%\n",
      "Iteration: 18; Percent complete: 45.0%\n",
      "Iteration: 19; Percent complete: 47.5%\n",
      "Iteration: 20; Percent complete: 50.0%\n",
      "Iteration: 21; Percent complete: 52.5%\n",
      "Iteration: 22; Percent complete: 55.0%\n",
      "Iteration: 23; Percent complete: 57.5%\n",
      "Iteration: 24; Percent complete: 60.0%\n",
      "Iteration: 25; Percent complete: 62.5%\n",
      "Iteration: 26; Percent complete: 65.0%\n",
      "Iteration: 27; Percent complete: 67.5%\n",
      "Iteration: 28; Percent complete: 70.0%\n",
      "Iteration: 29; Percent complete: 72.5%\n",
      "Iteration: 30; Percent complete: 75.0%\n",
      "Iteration: 31; Percent complete: 77.5%\n",
      "Iteration: 32; Percent complete: 80.0%\n",
      "Iteration: 33; Percent complete: 82.5%\n",
      "Iteration: 34; Percent complete: 85.0%\n",
      "Iteration: 35; Percent complete: 87.5%\n",
      "Iteration: 36; Percent complete: 90.0%\n",
      "Iteration: 37; Percent complete: 92.5%\n",
      "Iteration: 38; Percent complete: 95.0%\n",
      "Iteration: 39; Percent complete: 97.5%\n",
      "Iteration: 40; Percent complete: 100.0%\n"
     ]
    },
    {
     "data": {
      "text/plain": [
       "<convokit.model.corpus.Corpus at 0x13c3592b0>"
      ]
     },
     "execution_count": 12,
     "metadata": {},
     "output_type": "execute_result"
    }
   ],
   "source": [
    "forecaster.transform(corpus)"
   ]
  },
  {
   "cell_type": "code",
   "execution_count": null,
   "metadata": {},
   "outputs": [],
   "source": []
  }
 ],
 "metadata": {
  "kernelspec": {
   "display_name": "Python 3",
   "language": "python",
   "name": "python3"
  },
  "language_info": {
   "codemirror_mode": {
    "name": "ipython",
    "version": 3
   },
   "file_extension": ".py",
   "mimetype": "text/x-python",
   "name": "python",
   "nbconvert_exporter": "python",
   "pygments_lexer": "ipython3",
   "version": "3.7.3"
  }
 },
 "nbformat": 4,
 "nbformat_minor": 2
}
