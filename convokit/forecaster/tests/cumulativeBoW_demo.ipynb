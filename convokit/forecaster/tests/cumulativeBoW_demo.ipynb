{
 "cells": [
  {
   "cell_type": "code",
   "execution_count": 1,
   "metadata": {},
   "outputs": [],
   "source": [
    "import os\n",
    "os.chdir('../../..')"
   ]
  },
  {
   "cell_type": "code",
   "execution_count": 2,
   "metadata": {},
   "outputs": [
    {
     "name": "stderr",
     "output_type": "stream",
     "text": [
      "/Library/Frameworks/Python.framework/Versions/3.7/lib/python3.7/site-packages/sklearn/externals/joblib/__init__.py:15: DeprecationWarning: sklearn.externals.joblib is deprecated in 0.21 and will be removed in 0.23. Please import this functionality directly from joblib, which can be installed with: pip install joblib. If this warning is raised when loading pickled models, you may need to re-serialize those models with scikit-learn 0.21+.\n",
      "  warnings.warn(msg, category=DeprecationWarning)\n"
     ]
    }
   ],
   "source": [
    "import convokit"
   ]
  },
  {
   "cell_type": "code",
   "execution_count": 3,
   "metadata": {},
   "outputs": [],
   "source": [
    "from convokit import Corpus, download"
   ]
  },
  {
   "cell_type": "code",
   "execution_count": 4,
   "metadata": {},
   "outputs": [
    {
     "name": "stdout",
     "output_type": "stream",
     "text": [
      "Dataset already exists at /Users/calebchiam/.convokit/downloads/subreddit-Cornell\n"
     ]
    }
   ],
   "source": [
    "corpus = Corpus(filename=download('subreddit-Cornell'))"
   ]
  },
  {
   "cell_type": "code",
   "execution_count": 5,
   "metadata": {},
   "outputs": [
    {
     "name": "stdout",
     "output_type": "stream",
     "text": [
      "Number of Users: 7568\n",
      "Number of Utterances: 74467\n",
      "Number of Conversations: 10744\n"
     ]
    }
   ],
   "source": [
    "corpus.print_summary_stats()"
   ]
  },
  {
   "cell_type": "markdown",
   "metadata": {},
   "source": [
    "## Some new Conversation functionality"
   ]
  },
  {
   "cell_type": "code",
   "execution_count": 6,
   "metadata": {},
   "outputs": [],
   "source": [
    "convo = corpus.get_conversation('o31u0')"
   ]
  },
  {
   "cell_type": "code",
   "execution_count": 7,
   "metadata": {},
   "outputs": [
    {
     "name": "stdout",
     "output_type": "stream",
     "text": [
      "cchambo\n",
      "    jklol\n",
      "    djnap\n",
      "    Brimwoodboy\n",
      "        jklol\n"
     ]
    }
   ],
   "source": [
    "convo.print_conversation_structure()"
   ]
  },
  {
   "cell_type": "code",
   "execution_count": 8,
   "metadata": {},
   "outputs": [
    {
     "name": "stdout",
     "output_type": "stream",
     "text": [
      "o31u0\n",
      "    c3dzmtu\n",
      "    c3e0ou0\n",
      "    c3f7l5b\n",
      "        c3feqc4\n"
     ]
    }
   ],
   "source": [
    "convo.print_conversation_structure(lambda utt: utt.id)"
   ]
  },
  {
   "cell_type": "code",
   "execution_count": 9,
   "metadata": {},
   "outputs": [
    {
     "data": {
      "text/plain": [
       "[Utterance({'id': 'o31u0', 'user': User([('name', 'cchambo')]), 'root': 'o31u0', 'reply_to': None, 'timestamp': 1325714498, 'text': '', 'meta': {'score': 27, 'top_level_comment': None, 'retrieved_on': -1, 'gilded': -1, 'gildings': None, 'subreddit': 'Cornell', 'stickied': False, 'permalink': '/r/Cornell/comments/o31u0/cornell_scientists_create_hole_in_time_where/', 'author_flair_text': 'SNES 2015'}}),\n",
       " Utterance({'id': 'c3dzmtu', 'user': User([('name', 'jklol')]), 'root': 'o31u0', 'reply_to': 'o31u0', 'timestamp': 1325721216, 'text': 'wooo! aep!', 'meta': {'score': 3, 'top_level_comment': 'c3dzmtu', 'retrieved_on': 1428124647, 'gilded': 0, 'gildings': None, 'subreddit': 'Cornell', 'stickied': False, 'permalink': '', 'author_flair_text': 'AEP 2011'}}),\n",
       " Utterance({'id': 'c3e0ou0', 'user': User([('name', 'djnap')]), 'root': 'o31u0', 'reply_to': 'o31u0', 'timestamp': 1325727478, 'text': \"it's always nice to see Cornell in the news\", 'meta': {'score': 2, 'top_level_comment': 'c3e0ou0', 'retrieved_on': 1428125150, 'gilded': 0, 'gildings': None, 'subreddit': 'Cornell', 'stickied': False, 'permalink': '', 'author_flair_text': 'Engineering 2015'}}),\n",
       " Utterance({'id': 'c3f7l5b', 'user': User([('name', 'Brimwoodboy')]), 'root': 'o31u0', 'reply_to': 'o31u0', 'timestamp': 1326062425, 'text': \"Nice article. The professor whose research group discovered this is Alexander Gaeta. Great prof. I took AEP 1100: Lasers and Photonics with him this past semester. One of the best ENGRI courses, imo.\\n\\n[Here's](http://www.scribd.com/doc/77578600/Temporal-Cloaking) the powerpoint on temporal cloaking he presented to us in class. It's pretty fascinating stuff.\", 'meta': {'score': 1, 'top_level_comment': 'c3f7l5b', 'retrieved_on': 1428145709, 'gilded': 0, 'gildings': None, 'subreddit': 'Cornell', 'stickied': False, 'permalink': '', 'author_flair_text': ''}}),\n",
       " Utterance({'id': 'c3feqc4', 'user': User([('name', 'jklol')]), 'root': 'o31u0', 'reply_to': 'c3f7l5b', 'timestamp': 1326120237, 'text': \"you should take quantum and nonlinear optics with frank wise or gaeta once you get all the necessary prereqs out of the way. it'll teach you pretty rigorously about all the mechanisms at play in the temporal cloaking experiment.  \", 'meta': {'score': 1, 'top_level_comment': 'c3f7l5b', 'retrieved_on': 1428149155, 'gilded': 0, 'gildings': None, 'subreddit': 'Cornell', 'stickied': False, 'permalink': '', 'author_flair_text': 'AEP 2011'}})]"
      ]
     },
     "execution_count": 9,
     "metadata": {},
     "output_type": "execute_result"
    }
   ],
   "source": [
    "convo.get_chronological_utterance_list()"
   ]
  },
  {
   "cell_type": "code",
   "execution_count": 10,
   "metadata": {},
   "outputs": [
    {
     "data": {
      "text/plain": [
       "['cchambo', 'jklol', 'djnap', 'Brimwoodboy', 'jklol']"
      ]
     },
     "execution_count": 10,
     "metadata": {},
     "output_type": "execute_result"
    }
   ],
   "source": [
    "[utt.user.id for utt in convo.get_chronological_utterance_list()]"
   ]
  },
  {
   "cell_type": "code",
   "execution_count": 11,
   "metadata": {},
   "outputs": [
    {
     "data": {
      "text/plain": [
       "[[Utterance({'id': 'o31u0', 'user': User([('name', 'cchambo')]), 'root': 'o31u0', 'reply_to': None, 'timestamp': 1325714498, 'text': '', 'meta': {'score': 27, 'top_level_comment': None, 'retrieved_on': -1, 'gilded': -1, 'gildings': None, 'subreddit': 'Cornell', 'stickied': False, 'permalink': '/r/Cornell/comments/o31u0/cornell_scientists_create_hole_in_time_where/', 'author_flair_text': 'SNES 2015'}}),\n",
       "  Utterance({'id': 'c3e0ou0', 'user': User([('name', 'djnap')]), 'root': 'o31u0', 'reply_to': 'o31u0', 'timestamp': 1325727478, 'text': \"it's always nice to see Cornell in the news\", 'meta': {'score': 2, 'top_level_comment': 'c3e0ou0', 'retrieved_on': 1428125150, 'gilded': 0, 'gildings': None, 'subreddit': 'Cornell', 'stickied': False, 'permalink': '', 'author_flair_text': 'Engineering 2015'}})],\n",
       " [Utterance({'id': 'o31u0', 'user': User([('name', 'cchambo')]), 'root': 'o31u0', 'reply_to': None, 'timestamp': 1325714498, 'text': '', 'meta': {'score': 27, 'top_level_comment': None, 'retrieved_on': -1, 'gilded': -1, 'gildings': None, 'subreddit': 'Cornell', 'stickied': False, 'permalink': '/r/Cornell/comments/o31u0/cornell_scientists_create_hole_in_time_where/', 'author_flair_text': 'SNES 2015'}}),\n",
       "  Utterance({'id': 'c3f7l5b', 'user': User([('name', 'Brimwoodboy')]), 'root': 'o31u0', 'reply_to': 'o31u0', 'timestamp': 1326062425, 'text': \"Nice article. The professor whose research group discovered this is Alexander Gaeta. Great prof. I took AEP 1100: Lasers and Photonics with him this past semester. One of the best ENGRI courses, imo.\\n\\n[Here's](http://www.scribd.com/doc/77578600/Temporal-Cloaking) the powerpoint on temporal cloaking he presented to us in class. It's pretty fascinating stuff.\", 'meta': {'score': 1, 'top_level_comment': 'c3f7l5b', 'retrieved_on': 1428145709, 'gilded': 0, 'gildings': None, 'subreddit': 'Cornell', 'stickied': False, 'permalink': '', 'author_flair_text': ''}}),\n",
       "  Utterance({'id': 'c3feqc4', 'user': User([('name', 'jklol')]), 'root': 'o31u0', 'reply_to': 'c3f7l5b', 'timestamp': 1326120237, 'text': \"you should take quantum and nonlinear optics with frank wise or gaeta once you get all the necessary prereqs out of the way. it'll teach you pretty rigorously about all the mechanisms at play in the temporal cloaking experiment.  \", 'meta': {'score': 1, 'top_level_comment': 'c3f7l5b', 'retrieved_on': 1428149155, 'gilded': 0, 'gildings': None, 'subreddit': 'Cornell', 'stickied': False, 'permalink': '', 'author_flair_text': 'AEP 2011'}})],\n",
       " [Utterance({'id': 'o31u0', 'user': User([('name', 'cchambo')]), 'root': 'o31u0', 'reply_to': None, 'timestamp': 1325714498, 'text': '', 'meta': {'score': 27, 'top_level_comment': None, 'retrieved_on': -1, 'gilded': -1, 'gildings': None, 'subreddit': 'Cornell', 'stickied': False, 'permalink': '/r/Cornell/comments/o31u0/cornell_scientists_create_hole_in_time_where/', 'author_flair_text': 'SNES 2015'}}),\n",
       "  Utterance({'id': 'c3dzmtu', 'user': User([('name', 'jklol')]), 'root': 'o31u0', 'reply_to': 'o31u0', 'timestamp': 1325721216, 'text': 'wooo! aep!', 'meta': {'score': 3, 'top_level_comment': 'c3dzmtu', 'retrieved_on': 1428124647, 'gilded': 0, 'gildings': None, 'subreddit': 'Cornell', 'stickied': False, 'permalink': '', 'author_flair_text': 'AEP 2011'}})]]"
      ]
     },
     "execution_count": 11,
     "metadata": {},
     "output_type": "execute_result"
    }
   ],
   "source": [
    "convo.get_root_to_leaf_paths()"
   ]
  },
  {
   "cell_type": "code",
   "execution_count": 12,
   "metadata": {},
   "outputs": [
    {
     "name": "stdout",
     "output_type": "stream",
     "text": [
      "['cchambo', 'djnap']\n",
      "['cchambo', 'Brimwoodboy', 'jklol']\n",
      "['cchambo', 'jklol']\n"
     ]
    }
   ],
   "source": [
    "for path in convo.get_root_to_leaf_paths():\n",
    "    print([utt.user.id for utt in path])"
   ]
  },
  {
   "cell_type": "markdown",
   "metadata": {},
   "source": [
    "## Cumulative BoW"
   ]
  },
  {
   "cell_type": "code",
   "execution_count": 13,
   "metadata": {},
   "outputs": [],
   "source": [
    "from convokit import Forecaster"
   ]
  },
  {
   "cell_type": "markdown",
   "metadata": {},
   "source": [
    "Let's set up a forecasting task to predict for whether a Reddit comment will have a positive score, i.e. upvotes > downvotes."
   ]
  },
  {
   "cell_type": "code",
   "execution_count": 14,
   "metadata": {},
   "outputs": [],
   "source": [
    "# Adding a 'y' feature to fit to\n",
    "for utt in corpus.iter_utterances():\n",
    "    utt.add_meta('pos_score', int(utt.meta['score'] > 0))"
   ]
  },
  {
   "cell_type": "code",
   "execution_count": 15,
   "metadata": {},
   "outputs": [
    {
     "name": "stdout",
     "output_type": "stream",
     "text": [
      "No model passed to Forecaster. Initializing default forecaster model: Cumulative Bag-of-words...\n",
      "Initializing default unigram CountVectorizer...\n",
      "Initializing default classification model (standard scaled logistic regression)\n"
     ]
    }
   ],
   "source": [
    "forecaster = Forecaster(label_feat='pos_score', skip_broken_convos=True)"
   ]
  },
  {
   "cell_type": "code",
   "execution_count": 16,
   "metadata": {},
   "outputs": [
    {
     "name": "stdout",
     "output_type": "stream",
     "text": [
      "Fitting cumulative BoW classification model...\n",
      "Done.\n"
     ]
    },
    {
     "name": "stderr",
     "output_type": "stream",
     "text": [
      "/Library/Frameworks/Python.framework/Versions/3.7/lib/python3.7/site-packages/sklearn/svm/base.py:929: ConvergenceWarning: Liblinear failed to converge, increase the number of iterations.\n",
      "  \"the number of iterations.\", ConvergenceWarning)\n"
     ]
    }
   ],
   "source": [
    "forecaster.fit(corpus)"
   ]
  },
  {
   "cell_type": "code",
   "execution_count": 17,
   "metadata": {},
   "outputs": [
    {
     "data": {
      "text/plain": [
       "<convokit.model.corpus.Corpus at 0x104ee0a58>"
      ]
     },
     "execution_count": 17,
     "metadata": {},
     "output_type": "execute_result"
    }
   ],
   "source": [
    "forecaster.transform(corpus)"
   ]
  },
  {
   "cell_type": "code",
   "execution_count": 18,
   "metadata": {},
   "outputs": [],
   "source": [
    "forecast_df = forecaster.summarize(corpus)"
   ]
  },
  {
   "cell_type": "code",
   "execution_count": 19,
   "metadata": {},
   "outputs": [
    {
     "data": {
      "text/plain": [
       "(63697, 2)"
      ]
     },
     "execution_count": 19,
     "metadata": {},
     "output_type": "execute_result"
    }
   ],
   "source": [
    "forecast_df.shape"
   ]
  },
  {
   "cell_type": "code",
   "execution_count": 20,
   "metadata": {},
   "outputs": [
    {
     "data": {
      "text/html": [
       "<div>\n",
       "<style scoped>\n",
       "    .dataframe tbody tr th:only-of-type {\n",
       "        vertical-align: middle;\n",
       "    }\n",
       "\n",
       "    .dataframe tbody tr th {\n",
       "        vertical-align: top;\n",
       "    }\n",
       "\n",
       "    .dataframe thead th {\n",
       "        text-align: right;\n",
       "    }\n",
       "</style>\n",
       "<table border=\"1\" class=\"dataframe\">\n",
       "  <thead>\n",
       "    <tr style=\"text-align: right;\">\n",
       "      <th></th>\n",
       "      <th>forecast</th>\n",
       "      <th>forecast_prob</th>\n",
       "    </tr>\n",
       "    <tr>\n",
       "      <th>utt_id</th>\n",
       "      <th></th>\n",
       "      <th></th>\n",
       "    </tr>\n",
       "  </thead>\n",
       "  <tbody>\n",
       "    <tr>\n",
       "      <th>dqskvar</th>\n",
       "      <td>1.0</td>\n",
       "      <td>1.0</td>\n",
       "    </tr>\n",
       "    <tr>\n",
       "      <th>dqskx4k</th>\n",
       "      <td>1.0</td>\n",
       "      <td>1.0</td>\n",
       "    </tr>\n",
       "    <tr>\n",
       "      <th>dqteypw</th>\n",
       "      <td>1.0</td>\n",
       "      <td>1.0</td>\n",
       "    </tr>\n",
       "    <tr>\n",
       "      <th>dqskuoz</th>\n",
       "      <td>1.0</td>\n",
       "      <td>1.0</td>\n",
       "    </tr>\n",
       "    <tr>\n",
       "      <th>d0mte0j</th>\n",
       "      <td>1.0</td>\n",
       "      <td>1.0</td>\n",
       "    </tr>\n",
       "  </tbody>\n",
       "</table>\n",
       "</div>"
      ],
      "text/plain": [
       "         forecast  forecast_prob\n",
       "utt_id                          \n",
       "dqskvar       1.0            1.0\n",
       "dqskx4k       1.0            1.0\n",
       "dqteypw       1.0            1.0\n",
       "dqskuoz       1.0            1.0\n",
       "d0mte0j       1.0            1.0"
      ]
     },
     "execution_count": 20,
     "metadata": {},
     "output_type": "execute_result"
    }
   ],
   "source": [
    "forecast_df.head()"
   ]
  },
  {
   "cell_type": "code",
   "execution_count": 21,
   "metadata": {},
   "outputs": [
    {
     "data": {
      "text/html": [
       "<div>\n",
       "<style scoped>\n",
       "    .dataframe tbody tr th:only-of-type {\n",
       "        vertical-align: middle;\n",
       "    }\n",
       "\n",
       "    .dataframe tbody tr th {\n",
       "        vertical-align: top;\n",
       "    }\n",
       "\n",
       "    .dataframe thead th {\n",
       "        text-align: right;\n",
       "    }\n",
       "</style>\n",
       "<table border=\"1\" class=\"dataframe\">\n",
       "  <thead>\n",
       "    <tr style=\"text-align: right;\">\n",
       "      <th></th>\n",
       "      <th>forecast</th>\n",
       "      <th>forecast_prob</th>\n",
       "    </tr>\n",
       "    <tr>\n",
       "      <th>utt_id</th>\n",
       "      <th></th>\n",
       "      <th></th>\n",
       "    </tr>\n",
       "  </thead>\n",
       "  <tbody>\n",
       "    <tr>\n",
       "      <th>dwkaek2</th>\n",
       "      <td>0.0</td>\n",
       "      <td>0.008834</td>\n",
       "    </tr>\n",
       "    <tr>\n",
       "      <th>dygvblg</th>\n",
       "      <td>0.0</td>\n",
       "      <td>0.007995</td>\n",
       "    </tr>\n",
       "    <tr>\n",
       "      <th>e8rjhfe</th>\n",
       "      <td>0.0</td>\n",
       "      <td>0.007228</td>\n",
       "    </tr>\n",
       "    <tr>\n",
       "      <th>e8se59n</th>\n",
       "      <td>0.0</td>\n",
       "      <td>0.007050</td>\n",
       "    </tr>\n",
       "    <tr>\n",
       "      <th>cfdzy7o</th>\n",
       "      <td>0.0</td>\n",
       "      <td>0.002103</td>\n",
       "    </tr>\n",
       "    <tr>\n",
       "      <th>dlpl133</th>\n",
       "      <td>0.0</td>\n",
       "      <td>0.001701</td>\n",
       "    </tr>\n",
       "    <tr>\n",
       "      <th>dbu9m5t</th>\n",
       "      <td>0.0</td>\n",
       "      <td>0.001650</td>\n",
       "    </tr>\n",
       "    <tr>\n",
       "      <th>cfdyxdt</th>\n",
       "      <td>0.0</td>\n",
       "      <td>0.001453</td>\n",
       "    </tr>\n",
       "    <tr>\n",
       "      <th>d54rl1r</th>\n",
       "      <td>0.0</td>\n",
       "      <td>0.000066</td>\n",
       "    </tr>\n",
       "    <tr>\n",
       "      <th>d54utw6</th>\n",
       "      <td>0.0</td>\n",
       "      <td>0.000005</td>\n",
       "    </tr>\n",
       "  </tbody>\n",
       "</table>\n",
       "</div>"
      ],
      "text/plain": [
       "         forecast  forecast_prob\n",
       "utt_id                          \n",
       "dwkaek2       0.0       0.008834\n",
       "dygvblg       0.0       0.007995\n",
       "e8rjhfe       0.0       0.007228\n",
       "e8se59n       0.0       0.007050\n",
       "cfdzy7o       0.0       0.002103\n",
       "dlpl133       0.0       0.001701\n",
       "dbu9m5t       0.0       0.001650\n",
       "cfdyxdt       0.0       0.001453\n",
       "d54rl1r       0.0       0.000066\n",
       "d54utw6       0.0       0.000005"
      ]
     },
     "execution_count": 21,
     "metadata": {},
     "output_type": "execute_result"
    }
   ],
   "source": [
    "forecast_df.tail(10)"
   ]
  },
  {
   "cell_type": "markdown",
   "metadata": {},
   "source": [
    "Let's examine a Conversation that has an utterance forecasted to have negative score."
   ]
  },
  {
   "cell_type": "code",
   "execution_count": 37,
   "metadata": {},
   "outputs": [
    {
     "data": {
      "text/plain": [
       "Utterance({'id': 'dpn8e4v', 'user': User([('name', 'Trumpsamerican')]), 'root': '7a75x0', 'reply_to': 'dpm8anu', 'timestamp': 1510358978, 'text': \"If you don't mind me asking, is your gpa over a 3.7? Because I heard that ILR's average GPA is a 3.5, and that's incredibly low given that History majors typically get 3.8+. I applied to ILR, btw.\\n\\nLastly, pertaining to the last portion of your statement, is it possible to take only HR classes, and things in that realm, and avoid history/law classes?\", 'meta': {'score': 0, 'top_level_comment': 'dp95zls', 'retrieved_on': 1512515249, 'gilded': 0, 'gildings': None, 'subreddit': 'Cornell', 'stickied': False, 'permalink': '/r/Cornell/comments/7a75x0/what_is_the_best_college_for_law_school/dpn8e4v/', 'author_flair_text': '', 'pos_score': 0, 'forecast': 0.0, 'forecast_prob': 0.3523093730147849}})"
      ]
     },
     "execution_count": 37,
     "metadata": {},
     "output_type": "execute_result"
    }
   ],
   "source": [
    "corpus.get_utterance('dpn8e4v')"
   ]
  },
  {
   "cell_type": "code",
   "execution_count": 38,
   "metadata": {},
   "outputs": [
    {
     "data": {
      "text/plain": [
       "'7a75x0'"
      ]
     },
     "execution_count": 38,
     "metadata": {},
     "output_type": "execute_result"
    }
   ],
   "source": [
    "corpus.get_utterance('dpn8e4v').root"
   ]
  },
  {
   "cell_type": "code",
   "execution_count": 39,
   "metadata": {},
   "outputs": [
    {
     "name": "stdout",
     "output_type": "stream",
     "text": [
      "Trumpsamerican\n",
      "    IthacaisGorges_\n",
      "    _vpl\n",
      "    lyfehack\n",
      "        Trumpsamerican\n",
      "            byanilla\n",
      "                Trumpsamerican\n",
      "                    byanilla\n",
      "                        Trumpsamerican\n",
      "                            byanilla\n",
      "                                Trumpsamerican\n",
      "                                    byanilla\n",
      "                                        Trumpsamerican\n",
      "                                            byanilla\n",
      "                    [deleted]\n",
      "    mattezai\n"
     ]
    }
   ],
   "source": [
    "corpus.get_conversation(corpus.get_utterance('dpn8e4v').root).print_conversation_structure()"
   ]
  },
  {
   "cell_type": "markdown",
   "metadata": {},
   "source": [
    "### Forecasted"
   ]
  },
  {
   "cell_type": "code",
   "execution_count": 40,
   "metadata": {},
   "outputs": [
    {
     "name": "stdout",
     "output_type": "stream",
     "text": [
      "None\n",
      "    1.0\n",
      "    1.0\n",
      "    1.0\n",
      "        1.0\n",
      "            1.0\n",
      "                0.0\n",
      "                    1.0\n",
      "                        0.0\n",
      "                            1.0\n",
      "                                1.0\n",
      "                                    1.0\n",
      "                                        1.0\n",
      "                                            1.0\n",
      "                    1.0\n",
      "    1.0\n"
     ]
    }
   ],
   "source": [
    "corpus.get_conversation(corpus.get_utterance('dpn8e4v').root).print_conversation_structure(lambda utt: str(utt.meta['forecast']))"
   ]
  },
  {
   "cell_type": "markdown",
   "metadata": {},
   "source": [
    "### Actual"
   ]
  },
  {
   "cell_type": "code",
   "execution_count": 41,
   "metadata": {},
   "outputs": [
    {
     "name": "stdout",
     "output_type": "stream",
     "text": [
      "0\n",
      "    1\n",
      "    1\n",
      "    1\n",
      "        1\n",
      "            1\n",
      "                0\n",
      "                    1\n",
      "                        0\n",
      "                            1\n",
      "                                1\n",
      "                                    1\n",
      "                                        1\n",
      "                                            1\n",
      "                    1\n",
      "    1\n"
     ]
    }
   ],
   "source": [
    "corpus.get_conversation(corpus.get_utterance('dpn8e4v').root).print_conversation_structure(lambda utt: str(utt.meta['pos_score']))"
   ]
  },
  {
   "cell_type": "code",
   "execution_count": 42,
   "metadata": {},
   "outputs": [],
   "source": [
    "forecasts = [utt.meta['forecast'] for utt in corpus.iter_utterances()]\n",
    "actual = [utt.meta['pos_score'] for utt in corpus.iter_utterances()]"
   ]
  },
  {
   "cell_type": "code",
   "execution_count": 43,
   "metadata": {},
   "outputs": [],
   "source": [
    "y_true_pred = [(forecast, actual) for forecast, actual in zip(forecasts, actual) if forecast is not None]"
   ]
  },
  {
   "cell_type": "code",
   "execution_count": 44,
   "metadata": {},
   "outputs": [],
   "source": [
    "import numpy as np\n",
    "from collections import Counter"
   ]
  },
  {
   "cell_type": "code",
   "execution_count": 45,
   "metadata": {},
   "outputs": [],
   "source": [
    "y_pred = np.array([x[0] for x in y_true_pred])"
   ]
  },
  {
   "cell_type": "code",
   "execution_count": 46,
   "metadata": {},
   "outputs": [],
   "source": [
    "y_true = np.array([x[1] for x in y_true_pred])"
   ]
  },
  {
   "cell_type": "code",
   "execution_count": 47,
   "metadata": {},
   "outputs": [
    {
     "data": {
      "text/plain": [
       "0.9413316168736361"
      ]
     },
     "execution_count": 47,
     "metadata": {},
     "output_type": "execute_result"
    }
   ],
   "source": [
    "# baseline accuracy: assume all positive\n",
    "np.mean(y_true)"
   ]
  },
  {
   "cell_type": "code",
   "execution_count": 48,
   "metadata": {},
   "outputs": [
    {
     "data": {
      "text/plain": [
       "0.9522112501373691"
      ]
     },
     "execution_count": 48,
     "metadata": {},
     "output_type": "execute_result"
    }
   ],
   "source": [
    "# achieved accuracy\n",
    "np.mean(y_true == y_pred)"
   ]
  },
  {
   "cell_type": "code",
   "execution_count": 49,
   "metadata": {},
   "outputs": [],
   "source": [
    "from sklearn.metrics import confusion_matrix"
   ]
  },
  {
   "cell_type": "code",
   "execution_count": 50,
   "metadata": {},
   "outputs": [
    {
     "data": {
      "text/plain": [
       "array([[  863,  2874],\n",
       "       [  170, 59790]])"
      ]
     },
     "execution_count": 50,
     "metadata": {},
     "output_type": "execute_result"
    }
   ],
   "source": [
    "confusion_matrix(y_true=y_true, y_pred=y_pred)"
   ]
  },
  {
   "cell_type": "code",
   "execution_count": null,
   "metadata": {},
   "outputs": [],
   "source": []
  }
 ],
 "metadata": {
  "kernelspec": {
   "display_name": "Python 3",
   "language": "python",
   "name": "python3"
  },
  "language_info": {
   "codemirror_mode": {
    "name": "ipython",
    "version": 3
   },
   "file_extension": ".py",
   "mimetype": "text/x-python",
   "name": "python",
   "nbconvert_exporter": "python",
   "pygments_lexer": "ipython3",
   "version": "3.7.3"
  }
 },
 "nbformat": 4,
 "nbformat_minor": 2
}
