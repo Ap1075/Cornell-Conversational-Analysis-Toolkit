{
 "cells": [
  {
   "cell_type": "code",
   "execution_count": 1,
   "metadata": {},
   "outputs": [],
   "source": [
    "import os\n",
    "os.chdir('../../..')"
   ]
  },
  {
   "cell_type": "code",
   "execution_count": 2,
   "metadata": {},
   "outputs": [
    {
     "name": "stderr",
     "output_type": "stream",
     "text": [
      "/Library/Frameworks/Python.framework/Versions/3.7/lib/python3.7/site-packages/sklearn/externals/joblib/__init__.py:15: DeprecationWarning: sklearn.externals.joblib is deprecated in 0.21 and will be removed in 0.23. Please import this functionality directly from joblib, which can be installed with: pip install joblib. If this warning is raised when loading pickled models, you may need to re-serialize those models with scikit-learn 0.21+.\n",
      "  warnings.warn(msg, category=DeprecationWarning)\n"
     ]
    }
   ],
   "source": [
    "import convokit"
   ]
  },
  {
   "cell_type": "code",
   "execution_count": 3,
   "metadata": {},
   "outputs": [],
   "source": [
    "from convokit import Corpus, download"
   ]
  },
  {
   "cell_type": "code",
   "execution_count": 4,
   "metadata": {},
   "outputs": [
    {
     "name": "stdout",
     "output_type": "stream",
     "text": [
      "Dataset already exists at /Users/calebchiam/.convokit/downloads/subreddit-Cornell\n"
     ]
    }
   ],
   "source": [
    "corpus = Corpus(filename=download('subreddit-Cornell'))"
   ]
  },
  {
   "cell_type": "code",
   "execution_count": 5,
   "metadata": {},
   "outputs": [
    {
     "name": "stdout",
     "output_type": "stream",
     "text": [
      "Number of Users: 7568\n",
      "Number of Utterances: 74467\n",
      "Number of Conversations: 10744\n"
     ]
    }
   ],
   "source": [
    "corpus.print_summary_stats()"
   ]
  },
  {
   "cell_type": "markdown",
   "metadata": {},
   "source": [
    "## Some new Conversation functionality"
   ]
  },
  {
   "cell_type": "code",
   "execution_count": 6,
   "metadata": {},
   "outputs": [],
   "source": [
    "convo = corpus.get_conversation('o31u0')"
   ]
  },
  {
   "cell_type": "code",
   "execution_count": 7,
   "metadata": {},
   "outputs": [
    {
     "name": "stdout",
     "output_type": "stream",
     "text": [
      "cchambo\n",
      "    jklol\n",
      "    djnap\n",
      "    Brimwoodboy\n",
      "        jklol\n"
     ]
    }
   ],
   "source": [
    "convo.print_conversation_structure()"
   ]
  },
  {
   "cell_type": "code",
   "execution_count": 8,
   "metadata": {},
   "outputs": [
    {
     "name": "stdout",
     "output_type": "stream",
     "text": [
      "o31u0\n",
      "    c3dzmtu\n",
      "    c3e0ou0\n",
      "    c3f7l5b\n",
      "        c3feqc4\n"
     ]
    }
   ],
   "source": [
    "convo.print_conversation_structure(lambda utt: utt.id)"
   ]
  },
  {
   "cell_type": "code",
   "execution_count": 9,
   "metadata": {},
   "outputs": [
    {
     "data": {
      "text/plain": [
       "[Utterance({'id': 'o31u0', 'user': User([('name', 'cchambo')]), 'root': 'o31u0', 'reply_to': None, 'timestamp': 1325714498, 'text': '', 'meta': {'score': 27, 'top_level_comment': None, 'retrieved_on': -1, 'gilded': -1, 'gildings': None, 'subreddit': 'Cornell', 'stickied': False, 'permalink': '/r/Cornell/comments/o31u0/cornell_scientists_create_hole_in_time_where/', 'author_flair_text': 'SNES 2015'}}),\n",
       " Utterance({'id': 'c3dzmtu', 'user': User([('name', 'jklol')]), 'root': 'o31u0', 'reply_to': 'o31u0', 'timestamp': 1325721216, 'text': 'wooo! aep!', 'meta': {'score': 3, 'top_level_comment': 'c3dzmtu', 'retrieved_on': 1428124647, 'gilded': 0, 'gildings': None, 'subreddit': 'Cornell', 'stickied': False, 'permalink': '', 'author_flair_text': 'AEP 2011'}}),\n",
       " Utterance({'id': 'c3e0ou0', 'user': User([('name', 'djnap')]), 'root': 'o31u0', 'reply_to': 'o31u0', 'timestamp': 1325727478, 'text': \"it's always nice to see Cornell in the news\", 'meta': {'score': 2, 'top_level_comment': 'c3e0ou0', 'retrieved_on': 1428125150, 'gilded': 0, 'gildings': None, 'subreddit': 'Cornell', 'stickied': False, 'permalink': '', 'author_flair_text': 'Engineering 2015'}}),\n",
       " Utterance({'id': 'c3f7l5b', 'user': User([('name', 'Brimwoodboy')]), 'root': 'o31u0', 'reply_to': 'o31u0', 'timestamp': 1326062425, 'text': \"Nice article. The professor whose research group discovered this is Alexander Gaeta. Great prof. I took AEP 1100: Lasers and Photonics with him this past semester. One of the best ENGRI courses, imo.\\n\\n[Here's](http://www.scribd.com/doc/77578600/Temporal-Cloaking) the powerpoint on temporal cloaking he presented to us in class. It's pretty fascinating stuff.\", 'meta': {'score': 1, 'top_level_comment': 'c3f7l5b', 'retrieved_on': 1428145709, 'gilded': 0, 'gildings': None, 'subreddit': 'Cornell', 'stickied': False, 'permalink': '', 'author_flair_text': ''}}),\n",
       " Utterance({'id': 'c3feqc4', 'user': User([('name', 'jklol')]), 'root': 'o31u0', 'reply_to': 'c3f7l5b', 'timestamp': 1326120237, 'text': \"you should take quantum and nonlinear optics with frank wise or gaeta once you get all the necessary prereqs out of the way. it'll teach you pretty rigorously about all the mechanisms at play in the temporal cloaking experiment.  \", 'meta': {'score': 1, 'top_level_comment': 'c3f7l5b', 'retrieved_on': 1428149155, 'gilded': 0, 'gildings': None, 'subreddit': 'Cornell', 'stickied': False, 'permalink': '', 'author_flair_text': 'AEP 2011'}})]"
      ]
     },
     "execution_count": 9,
     "metadata": {},
     "output_type": "execute_result"
    }
   ],
   "source": [
    "convo.get_chronological_utterance_list()"
   ]
  },
  {
   "cell_type": "code",
   "execution_count": 10,
   "metadata": {},
   "outputs": [
    {
     "data": {
      "text/plain": [
       "['cchambo', 'jklol', 'djnap', 'Brimwoodboy', 'jklol']"
      ]
     },
     "execution_count": 10,
     "metadata": {},
     "output_type": "execute_result"
    }
   ],
   "source": [
    "[utt.user.id for utt in convo.get_chronological_utterance_list()]"
   ]
  },
  {
   "cell_type": "code",
   "execution_count": 11,
   "metadata": {},
   "outputs": [
    {
     "data": {
      "text/plain": [
       "[[Utterance({'id': 'o31u0', 'user': User([('name', 'cchambo')]), 'root': 'o31u0', 'reply_to': None, 'timestamp': 1325714498, 'text': '', 'meta': {'score': 27, 'top_level_comment': None, 'retrieved_on': -1, 'gilded': -1, 'gildings': None, 'subreddit': 'Cornell', 'stickied': False, 'permalink': '/r/Cornell/comments/o31u0/cornell_scientists_create_hole_in_time_where/', 'author_flair_text': 'SNES 2015'}}),\n",
       "  Utterance({'id': 'c3dzmtu', 'user': User([('name', 'jklol')]), 'root': 'o31u0', 'reply_to': 'o31u0', 'timestamp': 1325721216, 'text': 'wooo! aep!', 'meta': {'score': 3, 'top_level_comment': 'c3dzmtu', 'retrieved_on': 1428124647, 'gilded': 0, 'gildings': None, 'subreddit': 'Cornell', 'stickied': False, 'permalink': '', 'author_flair_text': 'AEP 2011'}})],\n",
       " [Utterance({'id': 'o31u0', 'user': User([('name', 'cchambo')]), 'root': 'o31u0', 'reply_to': None, 'timestamp': 1325714498, 'text': '', 'meta': {'score': 27, 'top_level_comment': None, 'retrieved_on': -1, 'gilded': -1, 'gildings': None, 'subreddit': 'Cornell', 'stickied': False, 'permalink': '/r/Cornell/comments/o31u0/cornell_scientists_create_hole_in_time_where/', 'author_flair_text': 'SNES 2015'}}),\n",
       "  Utterance({'id': 'c3f7l5b', 'user': User([('name', 'Brimwoodboy')]), 'root': 'o31u0', 'reply_to': 'o31u0', 'timestamp': 1326062425, 'text': \"Nice article. The professor whose research group discovered this is Alexander Gaeta. Great prof. I took AEP 1100: Lasers and Photonics with him this past semester. One of the best ENGRI courses, imo.\\n\\n[Here's](http://www.scribd.com/doc/77578600/Temporal-Cloaking) the powerpoint on temporal cloaking he presented to us in class. It's pretty fascinating stuff.\", 'meta': {'score': 1, 'top_level_comment': 'c3f7l5b', 'retrieved_on': 1428145709, 'gilded': 0, 'gildings': None, 'subreddit': 'Cornell', 'stickied': False, 'permalink': '', 'author_flair_text': ''}}),\n",
       "  Utterance({'id': 'c3feqc4', 'user': User([('name', 'jklol')]), 'root': 'o31u0', 'reply_to': 'c3f7l5b', 'timestamp': 1326120237, 'text': \"you should take quantum and nonlinear optics with frank wise or gaeta once you get all the necessary prereqs out of the way. it'll teach you pretty rigorously about all the mechanisms at play in the temporal cloaking experiment.  \", 'meta': {'score': 1, 'top_level_comment': 'c3f7l5b', 'retrieved_on': 1428149155, 'gilded': 0, 'gildings': None, 'subreddit': 'Cornell', 'stickied': False, 'permalink': '', 'author_flair_text': 'AEP 2011'}})],\n",
       " [Utterance({'id': 'o31u0', 'user': User([('name', 'cchambo')]), 'root': 'o31u0', 'reply_to': None, 'timestamp': 1325714498, 'text': '', 'meta': {'score': 27, 'top_level_comment': None, 'retrieved_on': -1, 'gilded': -1, 'gildings': None, 'subreddit': 'Cornell', 'stickied': False, 'permalink': '/r/Cornell/comments/o31u0/cornell_scientists_create_hole_in_time_where/', 'author_flair_text': 'SNES 2015'}}),\n",
       "  Utterance({'id': 'c3e0ou0', 'user': User([('name', 'djnap')]), 'root': 'o31u0', 'reply_to': 'o31u0', 'timestamp': 1325727478, 'text': \"it's always nice to see Cornell in the news\", 'meta': {'score': 2, 'top_level_comment': 'c3e0ou0', 'retrieved_on': 1428125150, 'gilded': 0, 'gildings': None, 'subreddit': 'Cornell', 'stickied': False, 'permalink': '', 'author_flair_text': 'Engineering 2015'}})]]"
      ]
     },
     "execution_count": 11,
     "metadata": {},
     "output_type": "execute_result"
    }
   ],
   "source": [
    "convo.get_root_to_leaf_paths()"
   ]
  },
  {
   "cell_type": "code",
   "execution_count": 12,
   "metadata": {},
   "outputs": [
    {
     "name": "stdout",
     "output_type": "stream",
     "text": [
      "['cchambo', 'jklol']\n",
      "['cchambo', 'Brimwoodboy', 'jklol']\n",
      "['cchambo', 'djnap']\n"
     ]
    }
   ],
   "source": [
    "for path in convo.get_root_to_leaf_paths():\n",
    "    print([utt.user.id for utt in path])"
   ]
  },
  {
   "cell_type": "markdown",
   "metadata": {},
   "source": [
    "## Cumulative BoW"
   ]
  },
  {
   "cell_type": "code",
   "execution_count": 13,
   "metadata": {},
   "outputs": [],
   "source": [
    "from convokit import Forecaster"
   ]
  },
  {
   "cell_type": "markdown",
   "metadata": {},
   "source": [
    "Let's set up a forecasting task to predict for whether a Reddit comment will have a positive score, i.e. upvotes > downvotes."
   ]
  },
  {
   "cell_type": "code",
   "execution_count": 14,
   "metadata": {},
   "outputs": [],
   "source": [
    "# Adding a 'y' feature to fit to\n",
    "for utt in corpus.iter_utterances():\n",
    "    utt.add_meta('pos_score', int(utt.meta['score'] > 0))"
   ]
  },
  {
   "cell_type": "code",
   "execution_count": 15,
   "metadata": {},
   "outputs": [
    {
     "name": "stdout",
     "output_type": "stream",
     "text": [
      "No model passed to Forecaster. Initializing default forecaster model: Cumulative Bag-of-words...\n",
      "Initializing default unigram CountVectorizer...\n",
      "Initializing default classification model (standard scaled logistic regression)\n"
     ]
    }
   ],
   "source": [
    "forecaster = Forecaster(pred_feat='pos_score', skip_broken_convos=True)"
   ]
  },
  {
   "cell_type": "code",
   "execution_count": 16,
   "metadata": {},
   "outputs": [
    {
     "name": "stdout",
     "output_type": "stream",
     "text": [
      "Fitting cumulative BoW classification model...\n",
      "Done.\n"
     ]
    },
    {
     "name": "stderr",
     "output_type": "stream",
     "text": [
      "/Library/Frameworks/Python.framework/Versions/3.7/lib/python3.7/site-packages/sklearn/svm/base.py:929: ConvergenceWarning: Liblinear failed to converge, increase the number of iterations.\n",
      "  \"the number of iterations.\", ConvergenceWarning)\n"
     ]
    }
   ],
   "source": [
    "forecaster.fit(corpus)"
   ]
  },
  {
   "cell_type": "code",
   "execution_count": 21,
   "metadata": {},
   "outputs": [],
   "source": [
    "forecast_df = forecaster.analyze(corpus)"
   ]
  },
  {
   "cell_type": "code",
   "execution_count": 23,
   "metadata": {},
   "outputs": [
    {
     "data": {
      "text/html": [
       "<div>\n",
       "<style scoped>\n",
       "    .dataframe tbody tr th:only-of-type {\n",
       "        vertical-align: middle;\n",
       "    }\n",
       "\n",
       "    .dataframe tbody tr th {\n",
       "        vertical-align: top;\n",
       "    }\n",
       "\n",
       "    .dataframe thead th {\n",
       "        text-align: right;\n",
       "    }\n",
       "</style>\n",
       "<table border=\"1\" class=\"dataframe\">\n",
       "  <thead>\n",
       "    <tr style=\"text-align: right;\">\n",
       "      <th></th>\n",
       "      <th>forecast</th>\n",
       "      <th>forecast_prob</th>\n",
       "    </tr>\n",
       "    <tr>\n",
       "      <th>id</th>\n",
       "      <th></th>\n",
       "      <th></th>\n",
       "    </tr>\n",
       "  </thead>\n",
       "  <tbody>\n",
       "    <tr>\n",
       "      <th>c3ditbx</th>\n",
       "      <td>1</td>\n",
       "      <td>0.964617</td>\n",
       "    </tr>\n",
       "    <tr>\n",
       "      <th>ctzwhsb</th>\n",
       "      <td>1</td>\n",
       "      <td>0.998855</td>\n",
       "    </tr>\n",
       "    <tr>\n",
       "      <th>cu6j5ri</th>\n",
       "      <td>1</td>\n",
       "      <td>0.997771</td>\n",
       "    </tr>\n",
       "    <tr>\n",
       "      <th>ctzg5r7</th>\n",
       "      <td>1</td>\n",
       "      <td>0.997771</td>\n",
       "    </tr>\n",
       "    <tr>\n",
       "      <th>cu00g2f</th>\n",
       "      <td>1</td>\n",
       "      <td>0.997771</td>\n",
       "    </tr>\n",
       "    <tr>\n",
       "      <th>cudy1e2</th>\n",
       "      <td>1</td>\n",
       "      <td>0.992397</td>\n",
       "    </tr>\n",
       "    <tr>\n",
       "      <th>cu13u5g</th>\n",
       "      <td>1</td>\n",
       "      <td>0.987555</td>\n",
       "    </tr>\n",
       "    <tr>\n",
       "      <th>cu0wkg8</th>\n",
       "      <td>1</td>\n",
       "      <td>0.987555</td>\n",
       "    </tr>\n",
       "    <tr>\n",
       "      <th>cu2hgyp</th>\n",
       "      <td>1</td>\n",
       "      <td>0.997665</td>\n",
       "    </tr>\n",
       "    <tr>\n",
       "      <th>cu10rsn</th>\n",
       "      <td>1</td>\n",
       "      <td>0.987555</td>\n",
       "    </tr>\n",
       "  </tbody>\n",
       "</table>\n",
       "</div>"
      ],
      "text/plain": [
       "         forecast  forecast_prob\n",
       "id                              \n",
       "c3ditbx         1       0.964617\n",
       "ctzwhsb         1       0.998855\n",
       "cu6j5ri         1       0.997771\n",
       "ctzg5r7         1       0.997771\n",
       "cu00g2f         1       0.997771\n",
       "cudy1e2         1       0.992397\n",
       "cu13u5g         1       0.987555\n",
       "cu0wkg8         1       0.987555\n",
       "cu2hgyp         1       0.997665\n",
       "cu10rsn         1       0.987555"
      ]
     },
     "execution_count": 23,
     "metadata": {},
     "output_type": "execute_result"
    }
   ],
   "source": [
    "forecast_df.head(10)"
   ]
  },
  {
   "cell_type": "code",
   "execution_count": 27,
   "metadata": {},
   "outputs": [
    {
     "data": {
      "text/html": [
       "<div>\n",
       "<style scoped>\n",
       "    .dataframe tbody tr th:only-of-type {\n",
       "        vertical-align: middle;\n",
       "    }\n",
       "\n",
       "    .dataframe tbody tr th {\n",
       "        vertical-align: top;\n",
       "    }\n",
       "\n",
       "    .dataframe thead th {\n",
       "        text-align: right;\n",
       "    }\n",
       "</style>\n",
       "<table border=\"1\" class=\"dataframe\">\n",
       "  <thead>\n",
       "    <tr style=\"text-align: right;\">\n",
       "      <th></th>\n",
       "      <th>forecast</th>\n",
       "      <th>forecast_prob</th>\n",
       "    </tr>\n",
       "    <tr>\n",
       "      <th>id</th>\n",
       "      <th></th>\n",
       "      <th></th>\n",
       "    </tr>\n",
       "  </thead>\n",
       "  <tbody>\n",
       "    <tr>\n",
       "      <th>drzg4es</th>\n",
       "      <td>0</td>\n",
       "      <td>0.257587</td>\n",
       "    </tr>\n",
       "    <tr>\n",
       "      <th>djhndfz</th>\n",
       "      <td>0</td>\n",
       "      <td>0.385630</td>\n",
       "    </tr>\n",
       "    <tr>\n",
       "      <th>drzt9m8</th>\n",
       "      <td>0</td>\n",
       "      <td>0.171797</td>\n",
       "    </tr>\n",
       "    <tr>\n",
       "      <th>dfjdhf4</th>\n",
       "      <td>0</td>\n",
       "      <td>0.383082</td>\n",
       "    </tr>\n",
       "    <tr>\n",
       "      <th>dfjg69w</th>\n",
       "      <td>0</td>\n",
       "      <td>0.490404</td>\n",
       "    </tr>\n",
       "    <tr>\n",
       "      <th>dfjft8p</th>\n",
       "      <td>0</td>\n",
       "      <td>0.383082</td>\n",
       "    </tr>\n",
       "    <tr>\n",
       "      <th>dpn8e4v</th>\n",
       "      <td>0</td>\n",
       "      <td>0.315501</td>\n",
       "    </tr>\n",
       "    <tr>\n",
       "      <th>ds0hc2x</th>\n",
       "      <td>0</td>\n",
       "      <td>0.182581</td>\n",
       "    </tr>\n",
       "    <tr>\n",
       "      <th>dpnld62</th>\n",
       "      <td>0</td>\n",
       "      <td>0.172047</td>\n",
       "    </tr>\n",
       "    <tr>\n",
       "      <th>e7ybz52</th>\n",
       "      <td>0</td>\n",
       "      <td>0.105562</td>\n",
       "    </tr>\n",
       "  </tbody>\n",
       "</table>\n",
       "</div>"
      ],
      "text/plain": [
       "         forecast  forecast_prob\n",
       "id                              \n",
       "drzg4es         0       0.257587\n",
       "djhndfz         0       0.385630\n",
       "drzt9m8         0       0.171797\n",
       "dfjdhf4         0       0.383082\n",
       "dfjg69w         0       0.490404\n",
       "dfjft8p         0       0.383082\n",
       "dpn8e4v         0       0.315501\n",
       "ds0hc2x         0       0.182581\n",
       "dpnld62         0       0.172047\n",
       "e7ybz52         0       0.105562"
      ]
     },
     "execution_count": 27,
     "metadata": {},
     "output_type": "execute_result"
    }
   ],
   "source": [
    "forecast_df.tail(10)"
   ]
  },
  {
   "cell_type": "code",
   "execution_count": 18,
   "metadata": {},
   "outputs": [
    {
     "data": {
      "text/plain": [
       "<convokit.model.corpus.Corpus at 0x11bf8c3c8>"
      ]
     },
     "execution_count": 18,
     "metadata": {},
     "output_type": "execute_result"
    }
   ],
   "source": [
    "forecaster.transform(corpus)"
   ]
  },
  {
   "cell_type": "markdown",
   "metadata": {},
   "source": [
    "Let's examine a Conversation that has an utterance forecasted to have negative score."
   ]
  },
  {
   "cell_type": "code",
   "execution_count": 28,
   "metadata": {},
   "outputs": [
    {
     "data": {
      "text/plain": [
       "Utterance({'id': 'dpn8e4v', 'user': User([('name', 'Trumpsamerican')]), 'root': '7a75x0', 'reply_to': 'dpm8anu', 'timestamp': 1510358978, 'text': \"If you don't mind me asking, is your gpa over a 3.7? Because I heard that ILR's average GPA is a 3.5, and that's incredibly low given that History majors typically get 3.8+. I applied to ILR, btw.\\n\\nLastly, pertaining to the last portion of your statement, is it possible to take only HR classes, and things in that realm, and avoid history/law classes?\", 'meta': {'score': 0, 'top_level_comment': 'dp95zls', 'retrieved_on': 1512515249, 'gilded': 0, 'gildings': None, 'subreddit': 'Cornell', 'stickied': False, 'permalink': '/r/Cornell/comments/7a75x0/what_is_the_best_college_for_law_school/dpn8e4v/', 'author_flair_text': '', 'pos_score': 0, 'forecast': 0.0, 'forecast_prob': 0.3155005792126009}})"
      ]
     },
     "execution_count": 28,
     "metadata": {},
     "output_type": "execute_result"
    }
   ],
   "source": [
    "corpus.get_utterance('dpn8e4v')"
   ]
  },
  {
   "cell_type": "code",
   "execution_count": 30,
   "metadata": {},
   "outputs": [
    {
     "data": {
      "text/plain": [
       "'7a75x0'"
      ]
     },
     "execution_count": 30,
     "metadata": {},
     "output_type": "execute_result"
    }
   ],
   "source": [
    "corpus.get_utterance('dpn8e4v').root"
   ]
  },
  {
   "cell_type": "code",
   "execution_count": 32,
   "metadata": {},
   "outputs": [
    {
     "name": "stdout",
     "output_type": "stream",
     "text": [
      "Trumpsamerican\n",
      "    IthacaisGorges_\n",
      "    _vpl\n",
      "    lyfehack\n",
      "        Trumpsamerican\n",
      "            byanilla\n",
      "                Trumpsamerican\n",
      "                    byanilla\n",
      "                        Trumpsamerican\n",
      "                            byanilla\n",
      "                                Trumpsamerican\n",
      "                                    byanilla\n",
      "                                        Trumpsamerican\n",
      "                                            byanilla\n",
      "                    [deleted]\n",
      "    mattezai\n"
     ]
    }
   ],
   "source": [
    "corpus.get_conversation(corpus.get_utterance('dpn8e4v').root).print_conversation_structure()"
   ]
  },
  {
   "cell_type": "markdown",
   "metadata": {},
   "source": [
    "### Forecasted"
   ]
  },
  {
   "cell_type": "code",
   "execution_count": 34,
   "metadata": {},
   "outputs": [
    {
     "name": "stdout",
     "output_type": "stream",
     "text": [
      "None\n",
      "    1.0\n",
      "    1.0\n",
      "    1.0\n",
      "        1.0\n",
      "            1.0\n",
      "                0.0\n",
      "                    1.0\n",
      "                        0.0\n",
      "                            1.0\n",
      "                                1.0\n",
      "                                    1.0\n",
      "                                        1.0\n",
      "                                            1.0\n",
      "                    1.0\n",
      "    1.0\n"
     ]
    }
   ],
   "source": [
    "corpus.get_conversation(corpus.get_utterance('dpn8e4v').root).print_conversation_structure(lambda utt: str(utt.meta['forecast']))"
   ]
  },
  {
   "cell_type": "markdown",
   "metadata": {},
   "source": [
    "### Actual"
   ]
  },
  {
   "cell_type": "code",
   "execution_count": 35,
   "metadata": {},
   "outputs": [
    {
     "name": "stdout",
     "output_type": "stream",
     "text": [
      "0\n",
      "    1\n",
      "    1\n",
      "    1\n",
      "        1\n",
      "            1\n",
      "                0\n",
      "                    1\n",
      "                        0\n",
      "                            1\n",
      "                                1\n",
      "                                    1\n",
      "                                        1\n",
      "                                            1\n",
      "                    1\n",
      "    1\n"
     ]
    }
   ],
   "source": [
    "corpus.get_conversation(corpus.get_utterance('dpn8e4v').root).print_conversation_structure(lambda utt: str(utt.meta['pos_score']))"
   ]
  },
  {
   "cell_type": "code",
   "execution_count": 24,
   "metadata": {},
   "outputs": [],
   "source": [
    "forecasts = [utt.meta['forecast'] for utt in corpus.iter_utterances()]\n",
    "actual = [utt.meta['pos_score'] for utt in corpus.iter_utterances()]"
   ]
  },
  {
   "cell_type": "code",
   "execution_count": 36,
   "metadata": {},
   "outputs": [],
   "source": [
    "y_true_pred = [(forecast, actual) for forecast, actual in zip(forecasts, actual) if forecast is not None]"
   ]
  },
  {
   "cell_type": "code",
   "execution_count": 52,
   "metadata": {},
   "outputs": [],
   "source": [
    "import numpy as np\n",
    "from collections import Counter"
   ]
  },
  {
   "cell_type": "code",
   "execution_count": 54,
   "metadata": {},
   "outputs": [],
   "source": [
    "y_pred = np.array([x[0] for x in y_true_pred])"
   ]
  },
  {
   "cell_type": "code",
   "execution_count": 55,
   "metadata": {},
   "outputs": [],
   "source": [
    "y_true = np.array([x[1] for x in y_true_pred])"
   ]
  },
  {
   "cell_type": "code",
   "execution_count": 56,
   "metadata": {},
   "outputs": [
    {
     "data": {
      "text/plain": [
       "0.9413316168736361"
      ]
     },
     "execution_count": 56,
     "metadata": {},
     "output_type": "execute_result"
    }
   ],
   "source": [
    "# baseline accuracy: assume all positive\n",
    "np.mean(y_true)"
   ]
  },
  {
   "cell_type": "code",
   "execution_count": 57,
   "metadata": {},
   "outputs": [
    {
     "data": {
      "text/plain": [
       "0.9527607265648304"
      ]
     },
     "execution_count": 57,
     "metadata": {},
     "output_type": "execute_result"
    }
   ],
   "source": [
    "# achieved accuracy\n",
    "np.mean(y_true == y_pred)"
   ]
  },
  {
   "cell_type": "code",
   "execution_count": 58,
   "metadata": {},
   "outputs": [],
   "source": [
    "from sklearn.metrics import confusion_matrix"
   ]
  },
  {
   "cell_type": "code",
   "execution_count": 60,
   "metadata": {},
   "outputs": [
    {
     "data": {
      "text/plain": [
       "array([[  893,  2844],\n",
       "       [  165, 59795]])"
      ]
     },
     "execution_count": 60,
     "metadata": {},
     "output_type": "execute_result"
    }
   ],
   "source": [
    "confusion_matrix(y_true=y_true, y_pred=y_pred)"
   ]
  }
 ],
 "metadata": {
  "kernelspec": {
   "display_name": "Python 3",
   "language": "python",
   "name": "python3"
  },
  "language_info": {
   "codemirror_mode": {
    "name": "ipython",
    "version": 3
   },
   "file_extension": ".py",
   "mimetype": "text/x-python",
   "name": "python",
   "nbconvert_exporter": "python",
   "pygments_lexer": "ipython3",
   "version": "3.7.3"
  }
 },
 "nbformat": 4,
 "nbformat_minor": 2
}
